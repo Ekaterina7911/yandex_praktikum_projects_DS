{
 "cells": [
  {
   "cell_type": "markdown",
   "metadata": {},
   "source": [
    "# Рекомендация тарифов"
   ]
  },
  {
   "cell_type": "markdown",
   "metadata": {},
   "source": [
    "В вашем распоряжении данные о поведении клиентов, которые уже перешли на эти тарифы (из проекта курса «Статистический анализ данных»). Нужно построить модель для задачи классификации, которая выберет подходящий тариф. Предобработка данных не понадобится — вы её уже сделали.\n",
    "\n",
    "Постройте модель с максимально большим значением *accuracy*. Чтобы сдать проект успешно, нужно довести долю правильных ответов по крайней мере до 0.75. Проверьте *accuracy* на тестовой выборке самостоятельно."
   ]
  },
  {
   "cell_type": "markdown",
   "metadata": {},
   "source": [
    "## Изучение данных из файла"
   ]
  },
  {
   "cell_type": "markdown",
   "metadata": {},
   "source": [
    "В самом начале импортируем все необходимые библиотеки"
   ]
  },
  {
   "cell_type": "code",
   "execution_count": 1,
   "metadata": {},
   "outputs": [],
   "source": [
    "import pandas as pd\n",
    "\n",
    "\n",
    "from sklearn.tree import DecisionTreeClassifier\n",
    "\n",
    "from sklearn.ensemble import RandomForestClassifier\n",
    "\n",
    "from sklearn.linear_model import LogisticRegression\n",
    "\n",
    "from sklearn.metrics import accuracy_score\n",
    "\n",
    "from sklearn.model_selection import train_test_split\n",
    "\n",
    "from sklearn.metrics import classification_report\n"
   ]
  },
  {
   "cell_type": "code",
   "execution_count": 2,
   "metadata": {},
   "outputs": [],
   "source": [
    "df =  pd.read_csv('/datasets/users_behavior.csv') # чтение данных их файла"
   ]
  },
  {
   "cell_type": "code",
   "execution_count": 3,
   "metadata": {},
   "outputs": [
    {
     "data": {
      "text/html": [
       "<div>\n",
       "<style scoped>\n",
       "    .dataframe tbody tr th:only-of-type {\n",
       "        vertical-align: middle;\n",
       "    }\n",
       "\n",
       "    .dataframe tbody tr th {\n",
       "        vertical-align: top;\n",
       "    }\n",
       "\n",
       "    .dataframe thead th {\n",
       "        text-align: right;\n",
       "    }\n",
       "</style>\n",
       "<table border=\"1\" class=\"dataframe\">\n",
       "  <thead>\n",
       "    <tr style=\"text-align: right;\">\n",
       "      <th></th>\n",
       "      <th>calls</th>\n",
       "      <th>minutes</th>\n",
       "      <th>messages</th>\n",
       "      <th>mb_used</th>\n",
       "      <th>is_ultra</th>\n",
       "    </tr>\n",
       "  </thead>\n",
       "  <tbody>\n",
       "    <tr>\n",
       "      <th>0</th>\n",
       "      <td>40.0</td>\n",
       "      <td>311.90</td>\n",
       "      <td>83.0</td>\n",
       "      <td>19915.42</td>\n",
       "      <td>0</td>\n",
       "    </tr>\n",
       "    <tr>\n",
       "      <th>1</th>\n",
       "      <td>85.0</td>\n",
       "      <td>516.75</td>\n",
       "      <td>56.0</td>\n",
       "      <td>22696.96</td>\n",
       "      <td>0</td>\n",
       "    </tr>\n",
       "    <tr>\n",
       "      <th>2</th>\n",
       "      <td>77.0</td>\n",
       "      <td>467.66</td>\n",
       "      <td>86.0</td>\n",
       "      <td>21060.45</td>\n",
       "      <td>0</td>\n",
       "    </tr>\n",
       "    <tr>\n",
       "      <th>3</th>\n",
       "      <td>106.0</td>\n",
       "      <td>745.53</td>\n",
       "      <td>81.0</td>\n",
       "      <td>8437.39</td>\n",
       "      <td>1</td>\n",
       "    </tr>\n",
       "    <tr>\n",
       "      <th>4</th>\n",
       "      <td>66.0</td>\n",
       "      <td>418.74</td>\n",
       "      <td>1.0</td>\n",
       "      <td>14502.75</td>\n",
       "      <td>0</td>\n",
       "    </tr>\n",
       "  </tbody>\n",
       "</table>\n",
       "</div>"
      ],
      "text/plain": [
       "   calls  minutes  messages   mb_used  is_ultra\n",
       "0   40.0   311.90      83.0  19915.42         0\n",
       "1   85.0   516.75      56.0  22696.96         0\n",
       "2   77.0   467.66      86.0  21060.45         0\n",
       "3  106.0   745.53      81.0   8437.39         1\n",
       "4   66.0   418.74       1.0  14502.75         0"
      ]
     },
     "metadata": {},
     "output_type": "display_data"
    }
   ],
   "source": [
    "display(df.head()) #просмотр первых 5 строк"
   ]
  },
  {
   "cell_type": "markdown",
   "metadata": {},
   "source": [
    "На первый взгляд, ошибок в данных не видно. Посмотрим информацию о файле методом info()"
   ]
  },
  {
   "cell_type": "code",
   "execution_count": 4,
   "metadata": {},
   "outputs": [
    {
     "name": "stdout",
     "output_type": "stream",
     "text": [
      "<class 'pandas.core.frame.DataFrame'>\n",
      "RangeIndex: 3214 entries, 0 to 3213\n",
      "Data columns (total 5 columns):\n",
      " #   Column    Non-Null Count  Dtype  \n",
      "---  ------    --------------  -----  \n",
      " 0   calls     3214 non-null   float64\n",
      " 1   minutes   3214 non-null   float64\n",
      " 2   messages  3214 non-null   float64\n",
      " 3   mb_used   3214 non-null   float64\n",
      " 4   is_ultra  3214 non-null   int64  \n",
      "dtypes: float64(4), int64(1)\n",
      "memory usage: 125.7 KB\n"
     ]
    }
   ],
   "source": [
    "df.info()"
   ]
  },
  {
   "cell_type": "markdown",
   "metadata": {},
   "source": [
    "В файле 5 столбцов. Тип данных float64 в четырех из них, и в одном тип - int64. Необходимости менять тип данных в столбах нет. Во всех столбцах одинаковое количество данных, следовательно пропусков нет."
   ]
  },
  {
   "cell_type": "markdown",
   "metadata": {},
   "source": [
    "В соответствии с документацией в файле есть следующие данные:\n",
    "\n",
    "- сalls — количество звонков,\n",
    "- minutes — суммарная длительность звонков в минутах,\n",
    "- messages — количество sms-сообщений,\n",
    "- mb_used — израсходованный интернет-трафик в Мб,\n",
    "- is_ultra — каким тарифом пользовался в течение месяца («Ультра» — 1, «Смарт» — 0)."
   ]
  },
  {
   "cell_type": "markdown",
   "metadata": {},
   "source": [
    "Проверим, нет ли полностью дублирующихся строк:\n",
    "\n",
    "df.duplicated().sum()"
   ]
  },
  {
   "cell_type": "code",
   "execution_count": 5,
   "metadata": {},
   "outputs": [
    {
     "data": {
      "text/plain": [
       "0"
      ]
     },
     "execution_count": 5,
     "metadata": {},
     "output_type": "execute_result"
    }
   ],
   "source": [
    "df.duplicated().sum()"
   ]
  },
  {
   "cell_type": "markdown",
   "metadata": {},
   "source": [
    "Дубликатов не обнаружено."
   ]
  },
  {
   "cell_type": "markdown",
   "metadata": {},
   "source": [
    "**Вывод**\n"
   ]
  },
  {
   "cell_type": "markdown",
   "metadata": {},
   "source": [
    "Предварительный анализ показал, что данные пригодны для дальнейшей работы с ними. Необходимости проводить предобработку нет: наименования столбцов написаны в нижнем регистре, нет пропусков в столбцах и полных дубликатов строк, тип данных верный."
   ]
  },
  {
   "cell_type": "markdown",
   "metadata": {},
   "source": [
    "Поэтому приступим непосредственно к решению поставленной задачи."
   ]
  },
  {
   "cell_type": "markdown",
   "metadata": {},
   "source": [
    "## Разбеение данных на выборки"
   ]
  },
  {
   "cell_type": "markdown",
   "metadata": {},
   "source": [
    "Для начала нам необходимо разделить данные на три части: на обучающую, валидационную и тестовую выборки. Обучающая выборка будет самой большой и вместит 60% данных. С помощью нее мы будем обучать модель. Вторая выборка валидационная (20% от объема данных), нужна нам для проверки качества работы алгоритма во время обучения модели. И последняя третья выборка - тестовая. Ее размер 20% от общего объема данных. На ней мы будем проверять качество обученной модели."
   ]
  },
  {
   "cell_type": "markdown",
   "metadata": {},
   "source": [
    "Для начала извлечем из общего набора 40% данных, которые потом поделим попалам и одна часть будет у нас валидационной выборкой, а вторая тестовой."
   ]
  },
  {
   "cell_type": "code",
   "execution_count": 6,
   "metadata": {},
   "outputs": [],
   "source": [
    "df_train, df_valid_test = train_test_split(df, test_size=0.4, random_state=12345) # выделение 40% от данных"
   ]
  },
  {
   "cell_type": "code",
   "execution_count": 7,
   "metadata": {},
   "outputs": [],
   "source": [
    "df_valid, df_test = train_test_split(df_valid_test, test_size=0.5, random_state=12345) # разделение выборки попалам"
   ]
  },
  {
   "cell_type": "markdown",
   "metadata": {},
   "source": [
    "В нашем распоряжении обучающий набор данных и целевой признак, который нужно предсказать по остальным признакам. Целевой признак у нас категориальный, поэтому нам предстоит решить задачу классификации. Для начала выделим в каждой из выборок признаки (features) и целевой признак (target)."
   ]
  },
  {
   "cell_type": "code",
   "execution_count": 8,
   "metadata": {},
   "outputs": [],
   "source": [
    "features_train = df_train.drop(['is_ultra'], axis=1) # извлечение признаков \n",
    "target_train = df_train['is_ultra'] # извлечение целевого признака"
   ]
  },
  {
   "cell_type": "code",
   "execution_count": 9,
   "metadata": {},
   "outputs": [
    {
     "data": {
      "text/plain": [
       "(1928, 4)"
      ]
     },
     "metadata": {},
     "output_type": "display_data"
    },
    {
     "data": {
      "text/plain": [
       "(1928,)"
      ]
     },
     "metadata": {},
     "output_type": "display_data"
    }
   ],
   "source": [
    "display(features_train.shape)\n",
    "display(target_train.shape)"
   ]
  },
  {
   "cell_type": "code",
   "execution_count": 10,
   "metadata": {},
   "outputs": [],
   "source": [
    "features_valid = df_valid.drop(['is_ultra'], axis=1) # извлечение признаков \n",
    "target_valid = df_valid['is_ultra'] # извлечение целевого признака"
   ]
  },
  {
   "cell_type": "code",
   "execution_count": 11,
   "metadata": {},
   "outputs": [
    {
     "data": {
      "text/plain": [
       "(643, 4)"
      ]
     },
     "metadata": {},
     "output_type": "display_data"
    },
    {
     "data": {
      "text/plain": [
       "(643,)"
      ]
     },
     "metadata": {},
     "output_type": "display_data"
    }
   ],
   "source": [
    "display(features_valid.shape)\n",
    "display(target_valid.shape)"
   ]
  },
  {
   "cell_type": "code",
   "execution_count": 12,
   "metadata": {},
   "outputs": [],
   "source": [
    "features_test = df_test.drop(['is_ultra'], axis=1) # извлечение признаков \n",
    "target_test = df_test['is_ultra'] # извлечение целевого признака"
   ]
  },
  {
   "cell_type": "code",
   "execution_count": 13,
   "metadata": {},
   "outputs": [
    {
     "data": {
      "text/plain": [
       "(643, 4)"
      ]
     },
     "metadata": {},
     "output_type": "display_data"
    },
    {
     "data": {
      "text/plain": [
       "(643,)"
      ]
     },
     "metadata": {},
     "output_type": "display_data"
    }
   ],
   "source": [
    "display(features_test.shape)\n",
    "display(target_test.shape)"
   ]
  },
  {
   "cell_type": "markdown",
   "metadata": {},
   "source": [
    "Данные поделили, признаки и целевые признаки выделили. Приступим к обучению модели."
   ]
  },
  {
   "cell_type": "markdown",
   "metadata": {},
   "source": [
    "## Исследование качества разных моделей"
   ]
  },
  {
   "cell_type": "markdown",
   "metadata": {},
   "source": [
    "### Решающее дерево"
   ]
  },
  {
   "cell_type": "markdown",
   "metadata": {},
   "source": [
    "DecisionTreeClassifier - это структура для классификации деревом решений. В переменной model будет хранится наша модель. А чтобы запустить обучение вызовем метод fit(), которому передадим наши признаки и целевой признак. После обучения, вызовем метод predict() и передадим ему валидационную выборку для проверки работоспособности модели."
   ]
  },
  {
   "cell_type": "markdown",
   "metadata": {},
   "source": [
    "Поскольку от глубины дерева, будет зависеть как обучится модель, то попробуем в цикле подобрать оптимальную глубину дерева. Глубина дерева задается параметром max_depth. Оценивать, как обучилась модель будем по такой меткике качества, как accuracy - доля правильных ответов. Чем выше этот показатель, тем лучше обучилась модель."
   ]
  },
  {
   "cell_type": "code",
   "execution_count": 14,
   "metadata": {},
   "outputs": [
    {
     "name": "stdout",
     "output_type": "stream",
     "text": [
      "max_depth = 1 : 0.7542768273716952\n",
      "max_depth = 2 : 0.7822706065318819\n",
      "max_depth = 3 : 0.7853810264385692\n",
      "max_depth = 4 : 0.7791601866251944\n",
      "max_depth = 5 : 0.7791601866251944\n",
      "max_depth = 6 : 0.7838258164852255\n",
      "max_depth = 7 : 0.7822706065318819\n",
      "max_depth = 8 : 0.7791601866251944\n",
      "max_depth = 9 : 0.7822706065318819\n",
      "max_depth = 10 : 0.7744945567651633\n"
     ]
    }
   ],
   "source": [
    "for depth in range(1, 11):\n",
    "    model = DecisionTreeClassifier(random_state=12345, max_depth=depth)\n",
    "    model.fit(features_train, target_train)\n",
    "    predictions_valid = model.predict(features_valid)\n",
    "    \n",
    "    \n",
    "    \n",
    "    print(\"max_depth =\", depth, \": \", end='')\n",
    "    print(accuracy_score(target_valid, predictions_valid))\n",
    "   "
   ]
  },
  {
   "cell_type": "markdown",
   "metadata": {},
   "source": [
    "Итак лучший результат показывает дерево с глубиной max_depth = 3."
   ]
  },
  {
   "cell_type": "markdown",
   "metadata": {},
   "source": [
    "### Случайный лес"
   ]
  },
  {
   "cell_type": "markdown",
   "metadata": {},
   "source": [
    "Еще один алгоритм - случайный лес. Алгоритм обучает большое количество независимых друг от друга деревьев, а потом принимает решение на основе голосования. Алгоритм случайного леса - RandomForestClassifier. Чтобы управлять количеством деревьев, есть параметр n_estimators. Чем больше деревьев, тем лучше результат, но модель будет учится дольше."
   ]
  },
  {
   "cell_type": "code",
   "execution_count": 15,
   "metadata": {},
   "outputs": [
    {
     "name": "stdout",
     "output_type": "stream",
     "text": [
      "Accuracy наилучшей модели на валидационной выборке: 0.8055987558320373 ;Число деревьев: 24 ; Глубина деревьев 12\n"
     ]
    }
   ],
   "source": [
    "best_model = None\n",
    "best_result = 0\n",
    "for est in range(1, 25):\n",
    "    for depth in range(1, 13):\n",
    "        model = RandomForestClassifier(random_state=12345, n_estimators=est, max_depth=depth) # \n",
    "        model.fit(features_train, target_train) # обучение модели на тренировочной выборке\n",
    "        model.predict(features_valid) \n",
    "        result = model.score(features_valid, target_valid)\n",
    "        if result > best_result:\n",
    "            best_model = model\n",
    "            best_result = result #  сохранение наилучшего значения метрики accuracy на валидационных данных\n",
    "\n",
    "print(\"Accuracy наилучшей модели на валидационной выборке:\", best_result,';' \"Число деревьев:\", est, ';', \"Глубина деревьев\", depth)"
   ]
  },
  {
   "cell_type": "markdown",
   "metadata": {},
   "source": [
    "Лучший результат показал лес из 24 деревьев. Я попробовала поставить большее количество деревьев, но accuracy не увеличивался (случайно запустила 224 дерева: accuracy такой же как и на 24 деревьях, но расчет шел значительно дольше)."
   ]
  },
  {
   "cell_type": "markdown",
   "metadata": {},
   "source": [
    "### Логистическая регрессия"
   ]
  },
  {
   "cell_type": "markdown",
   "metadata": {},
   "source": [
    "Последним посмотрим такой алгоритм, как логистическую регрессию (LogisticRegression). Эта модель хороша, тем, что вероятность переобучения не велика, но при этом качество обучения у нее хуже, чем у случайного леса."
   ]
  },
  {
   "cell_type": "code",
   "execution_count": 16,
   "metadata": {},
   "outputs": [
    {
     "name": "stdout",
     "output_type": "stream",
     "text": [
      "Accuracy модели логистической регрессии на валидационной выборке: 0.7107309486780715\n"
     ]
    }
   ],
   "source": [
    "model = LogisticRegression(random_state=12345)\n",
    "model.fit(features_train, target_train) # обучение модели на тренировочной выборке\n",
    "predictions_valid = model.predict(features_valid)\n",
    "result = model.score(features_valid, target_valid) # получение метрики качества модели на валидационной выборке\n",
    "\n",
    "print(\"Accuracy модели логистической регрессии на валидационной выборке:\", result)"
   ]
  },
  {
   "cell_type": "markdown",
   "metadata": {},
   "source": [
    "Результат хуже, чем у решающего дерева и случайного леса: всего 71% правильных решений."
   ]
  },
  {
   "cell_type": "markdown",
   "metadata": {},
   "source": [
    "**Вывод**"
   ]
  },
  {
   "cell_type": "markdown",
   "metadata": {},
   "source": [
    "В этом разделе мы обучили различные модели и протестировали их на валидационной выборке. Мы меняли гиперпараметры и смотрели как меняется величина accuracy. Accuracy — это показатель, который описывает общую точность предсказания модели, т.е. с какой точностью модель делает верный прогноз. При обучении модели решающим деревом, лушую accuracy дает дерево с глубиной max_depth = 3. В случае со случайным лесом лучший результат при n_estimators =24 и глубиной дерева = 12. Показатель accuracy в логистической регрессии самый низкий, всего 71%. Поскольку выборка у нас не большая, все модели обучались достаточно быстро. На большей выборке, расчет с помощью случайного леса, мог затянутся. "
   ]
  },
  {
   "cell_type": "markdown",
   "metadata": {},
   "source": [
    "В итоге мы выбрали для дальнейшей работы модель созданную с помощью случайного леса с количеством деревьев равному 24. В этом случае наш accuracy на валидационной выборке равен 80,56%."
   ]
  },
  {
   "cell_type": "markdown",
   "metadata": {},
   "source": [
    "## Проверка качества модели на тестовой выборке"
   ]
  },
  {
   "cell_type": "markdown",
   "metadata": {},
   "source": [
    "Для того чтобы проверить работоспособность уже обученной модели, проверим ее на тестовой выборке. Если модель обучилась достаточно хорошо и нет переобучения и недообучения, то показатель accuracy на тестовой выборке будет близок к показателю accuracy на валидационной выборке."
   ]
  },
  {
   "cell_type": "code",
   "execution_count": 17,
   "metadata": {},
   "outputs": [
    {
     "data": {
      "text/plain": [
       "'Accuracy наилучшей модели на тестовой выборке:'"
      ]
     },
     "metadata": {},
     "output_type": "display_data"
    },
    {
     "data": {
      "text/plain": [
       "0.80248833592535"
      ]
     },
     "metadata": {},
     "output_type": "display_data"
    }
   ],
   "source": [
    "model = RandomForestClassifier(random_state=12345, n_estimators=24, max_depth=12) \n",
    "model.fit(features_train, target_train) # обучение модели с помощью случайного леса из 24 деревьев\n",
    "predictions_valid = model.predict(features_test)\n",
    "result = model.score(features_test, target_test) # проверка модели на тестовой выборке\n",
    "display(\"Accuracy наилучшей модели на тестовой выборке:\", result)"
   ]
  },
  {
   "cell_type": "markdown",
   "metadata": {},
   "source": [
    "Доля правильных ответов чуть ниже, но достаточно близка к значению полученному на валидационной выборке."
   ]
  },
  {
   "cell_type": "markdown",
   "metadata": {},
   "source": [
    "**Вывод**"
   ]
  },
  {
   "cell_type": "markdown",
   "metadata": {},
   "source": [
    "Поведение обученной модели на тестовой выборке достаточно хорошее. Показатель accuracy , близок по значению accuracy полученному на валидационной выборке. "
   ]
  },
  {
   "cell_type": "markdown",
   "metadata": {},
   "source": [
    "## (бонус) Проверка модели на адекватность"
   ]
  },
  {
   "cell_type": "markdown",
   "metadata": {},
   "source": [
    "Когда мы имеем дело с равными классами, то accuracy покажет нам достаточно адекватную картину. В случае с неравномерными классами эта метрика качества достаточно бесполезна. "
   ]
  },
  {
   "cell_type": "code",
   "execution_count": 18,
   "metadata": {},
   "outputs": [
    {
     "data": {
      "text/plain": [
       "985"
      ]
     },
     "metadata": {},
     "output_type": "display_data"
    }
   ],
   "source": [
    "display(len(df.loc[df['is_ultra']==1]))"
   ]
  },
  {
   "cell_type": "code",
   "execution_count": 19,
   "metadata": {},
   "outputs": [
    {
     "data": {
      "text/plain": [
       "2229"
      ]
     },
     "metadata": {},
     "output_type": "display_data"
    }
   ],
   "source": [
    "display(len(df.loc[df['is_ultra']==0]))"
   ]
  },
  {
   "cell_type": "markdown",
   "metadata": {},
   "source": [
    "В нашей первоначальной таблице количество строк с тариформ Смарт значительно больше, чем с количеством тарифа Ульта. А это говорит о том, что классы (нули - тариф Смарт и единицы -Тариф Ультра), распределены не равномерно."
   ]
  },
  {
   "cell_type": "markdown",
   "metadata": {},
   "source": [
    "Для оценки качества таких моделей используют другие метрики качества: precision и recall. Precision (точность) показывает, какова доля объектов, для которых модель предсказала ответ \"1\", дествительно имеют ответ 1. А recall показывает, какую часть объектов имеющих значение \"1\", выделила модель. Precision и recall не зависят, в отличие от accuracy, от соотношения классов и потому применимы в условиях несбалансированных выборок."
   ]
  },
  {
   "cell_type": "markdown",
   "metadata": {},
   "source": [
    "Когда встает вопрос, какую из этих метрик выбрать, есть компромис в виде агрегированного критерия качества -F-мера. F-мера достигает максимума при полноте и точности, равными единице, и близка к нулю, если один из аргументов близок к нулю."
   ]
  },
  {
   "cell_type": "markdown",
   "metadata": {},
   "source": [
    "В sklearn есть удобная функция metrics.classifical_report, которая одновременно расчитывает precision, recall и F-меру для каждого класса, а также выводит количество каждого класса."
   ]
  },
  {
   "cell_type": "markdown",
   "metadata": {},
   "source": [
    "Для того, чтобы проверить модель на вменяемость, нужно оценить ее адекватность на случайной выборке. В качестве случайной мы возьмем тестовую выборку и расчитаем метрики качества, с помощью metrics.classifical_report, для трех лучших моделей (по одной, из каждого вида)."
   ]
  },
  {
   "cell_type": "markdown",
   "metadata": {},
   "source": [
    "Первым мы посмотрим решающее дерево с глубиной max_depth = 3."
   ]
  },
  {
   "cell_type": "code",
   "execution_count": 20,
   "metadata": {},
   "outputs": [
    {
     "name": "stdout",
     "output_type": "stream",
     "text": [
      "              precision    recall  f1-score   support\n",
      "\n",
      "           0       0.79      0.93      0.85       440\n",
      "           1       0.74      0.46      0.57       203\n",
      "\n",
      "    accuracy                           0.78       643\n",
      "   macro avg       0.77      0.69      0.71       643\n",
      "weighted avg       0.77      0.78      0.76       643\n",
      "\n"
     ]
    }
   ],
   "source": [
    "model = DecisionTreeClassifier(random_state=12345, max_depth=3)\n",
    "model.fit(features_train, target_train)\n",
    "predictions_test = model.predict(features_test)\n",
    "\n",
    "    \n",
    "print(classification_report(target_test, predictions_test))"
   ]
  },
  {
   "cell_type": "markdown",
   "metadata": {},
   "source": [
    "Итак в 74% случаев модель правильно предсказывает, тариф Ультра, как указанный тариф, остальные 26% объектов, которые являются тарифом Ультра, таковым не являются. С тарифом Смарт, ситуация чуть получше, модель определяет верно 79%. Посмотрев на F-меру считаю, что модель не плохо справляется с определением тарифа Смарт, а вот тариф Ультра пока ей дается не очень хорошо. classification_report также дает нам информацию по средней оценке (macro-averaging) и средневзвешенной оценке (weighted average) precision, recall и F-меры. Средняя и средневзвешанная оценка precision ниже на 1%, расчитанного ранее значения accuracy. "
   ]
  },
  {
   "cell_type": "markdown",
   "metadata": {},
   "source": [
    "Далее посмотрим, как себя ведет модель созданная с помощью случайного леса, с количеством деревьев равным 24"
   ]
  },
  {
   "cell_type": "code",
   "execution_count": 21,
   "metadata": {},
   "outputs": [
    {
     "name": "stdout",
     "output_type": "stream",
     "text": [
      "              precision    recall  f1-score   support\n",
      "\n",
      "           0       0.82      0.91      0.86       440\n",
      "           1       0.74      0.58      0.65       203\n",
      "\n",
      "    accuracy                           0.80       643\n",
      "   macro avg       0.78      0.74      0.76       643\n",
      "weighted avg       0.80      0.80      0.79       643\n",
      "\n"
     ]
    }
   ],
   "source": [
    "model = RandomForestClassifier(random_state=12345, n_estimators=24, max_depth=12) \n",
    "model.fit(features_train, target_train) # обучение модели с помощью случайного леса из 24 деревьев\n",
    "predictions_test = model.predict(features_test)\n",
    " \n",
    "print(classification_report(target_test, predictions_test))"
   ]
  },
  {
   "cell_type": "markdown",
   "metadata": {},
   "source": [
    "Только в 74% случаях модель правильно предсказывает, тариф Ультра, как указанный тариф, остальные 26% объектов, которые являются тарифом Ультра, таковым не являются. С тарифом Смарт, ситуация чуть получше, модель определяет верно 82%. Посмотрев на F-меру считаю, что модель не плохо справляется с определением тарифа Смарт, а вот тариф Ультра пока ей дается не очень хорошо.  Средняя и средневзвешанная оценка precision примерно равна, расчитанному ранее значению accuracy. "
   ]
  },
  {
   "cell_type": "markdown",
   "metadata": {},
   "source": [
    "И в последнюю очередь посмотрим на логистическую регрессию."
   ]
  },
  {
   "cell_type": "code",
   "execution_count": 22,
   "metadata": {},
   "outputs": [
    {
     "name": "stdout",
     "output_type": "stream",
     "text": [
      "              precision    recall  f1-score   support\n",
      "\n",
      "           0       0.69      0.98      0.81       440\n",
      "           1       0.50      0.04      0.07       203\n",
      "\n",
      "    accuracy                           0.68       643\n",
      "   macro avg       0.59      0.51      0.44       643\n",
      "weighted avg       0.63      0.68      0.58       643\n",
      "\n"
     ]
    }
   ],
   "source": [
    "model = LogisticRegression(random_state=12345)# инициализируйте модель логистической регрессии с параметром random_state=12345\n",
    "model.fit(features_train, target_train) # обучите модель на тренировочной выборке\n",
    "predictions_test = model.predict(features_test)\n",
    "print(classification_report(target_test, predictions_test))"
   ]
  },
  {
   "cell_type": "markdown",
   "metadata": {},
   "source": [
    "Пожалуй данная модель работает хуже всего. Она только в половине случает верно пределяет тариф Ультра, как Ультра и выделила только 4% объектов имеющих значение Ультра."
   ]
  },
  {
   "cell_type": "markdown",
   "metadata": {},
   "source": [
    "**Вывод**"
   ]
  },
  {
   "cell_type": "markdown",
   "metadata": {},
   "source": [
    "Модели построенные случайным лесом и решающим деревом ведут себя вполне адекватно при тех данных, которые есть, но также считаю, что можно было бы улучшить результат увеличив размер обучающей выборки. Сильный перевес в сторону данных по тару Смарт, дает о себе знать - модели лучши обучились и нашли более точные взаимосвязи. Второй вариант, наоборот уменьшить размер выборки, но так, чтобы соотношение данных по тарифу Ультра и Смарт было одинаковым, и посмотреть, что получится в этом случае. Хотя есть вероятность, что уменьшение выборки приведет к точу, что модель не сможет проследить хорошо связи между целевым признаком и признаками."
   ]
  },
  {
   "cell_type": "markdown",
   "metadata": {},
   "source": [
    "## Общий вывод"
   ]
  },
  {
   "cell_type": "markdown",
   "metadata": {},
   "source": [
    "В данном проекте мы на основании данных о поведении клиентов, перешедших на тарифы Смарт и Ульта, пытаемся построить модель, которая будет предсказывать, какой тариф подойдет новым пользователям в зависимости от их предпочтений по количеству звонков, интернет-трафика и смс."
   ]
  },
  {
   "cell_type": "markdown",
   "metadata": {},
   "source": [
    "В первой части проекта мы посмотрели общие данные о файле. Данные оказались полностью пригодными для дальнейшей работы и делать предобработку нам не потребовалось."
   ]
  },
  {
   "cell_type": "markdown",
   "metadata": {},
   "source": [
    "Далее мы разбили данные на три выборки: обучающую (60% данных), валидационную, на которой проверяли различные модели (20% выборки) и тестовую (20% данных), которую использовали в самом конце, когда проверяли качество обученной модели, которую признали лучшей."
   ]
  },
  {
   "cell_type": "markdown",
   "metadata": {},
   "source": [
    "В третьем разделе мы рассмотрели три вида моделей: решающее дерево, случайный лес и логистическую регрессию. Поскольку нам нужно было решить задачу классификации, то взяли именно эти виды моделей. Постепенно меняя величину гиперпараметров, мы нашли такое сочетание, при котором модель выдает лучшую величину accuracy. Лучше всего на валидационной выборке вела себя модель случайный лес с количеством деревьев, равным 24 и глубиной деревьев 12. Именно эту модель мы и взяли для проверки на тестовой выборке."
   ]
  },
  {
   "cell_type": "markdown",
   "metadata": {},
   "source": [
    "В четвертом пункте, мы проверили выбранную модель на тестовой выборке. Accuracy (80,25% правильных ответов), оказался очень близким, к тому который получили на валидационной выборке (там было 80,55% правлильных ответов). Но насколько удовлетворит, такой результат заказчика сложно сказать."
   ]
  },
  {
   "cell_type": "markdown",
   "metadata": {},
   "source": [
    "Поскольку в выборке количество классов неравномерное, в пятом разделе мы попытались определить дополнительные метрики качества и проверить адекватность модели на тестовой выборке. Показатели precision (точность) для тарифа Смарт выше по всем трем моделям. Обучение по классу тариф Ультра прошло менее качественно. Хуже всего ведет себя логистическая регрессия. Считаю необходимым увеличить объем данных для обучения, причем добавить больше данных по тарифу Ультра."
   ]
  },
  {
   "cell_type": "code",
   "execution_count": null,
   "metadata": {},
   "outputs": [],
   "source": []
  }
 ],
 "metadata": {
  "ExecuteTimeLog": [
   {
    "duration": 44,
    "start_time": "2022-03-18T04:04:43.631Z"
   },
   {
    "duration": 1105,
    "start_time": "2022-03-18T04:04:53.696Z"
   },
   {
    "duration": 20,
    "start_time": "2022-03-18T04:04:54.804Z"
   },
   {
    "duration": 17,
    "start_time": "2022-03-18T04:04:54.825Z"
   },
   {
    "duration": 17,
    "start_time": "2022-03-18T04:04:54.844Z"
   },
   {
    "duration": 11,
    "start_time": "2022-03-18T04:04:54.863Z"
   },
   {
    "duration": 5,
    "start_time": "2022-03-18T04:04:54.876Z"
   },
   {
    "duration": 11,
    "start_time": "2022-03-18T04:04:54.882Z"
   },
   {
    "duration": 8,
    "start_time": "2022-03-18T04:04:54.895Z"
   },
   {
    "duration": 8,
    "start_time": "2022-03-18T04:04:54.905Z"
   },
   {
    "duration": 7,
    "start_time": "2022-03-18T04:04:54.915Z"
   },
   {
    "duration": 16,
    "start_time": "2022-03-18T04:04:54.924Z"
   },
   {
    "duration": 21,
    "start_time": "2022-03-18T04:04:54.942Z"
   },
   {
    "duration": 10,
    "start_time": "2022-03-18T04:04:54.964Z"
   },
   {
    "duration": 81,
    "start_time": "2022-03-18T04:04:54.975Z"
   },
   {
    "duration": 1174,
    "start_time": "2022-03-18T04:04:55.057Z"
   },
   {
    "duration": 23,
    "start_time": "2022-03-18T04:04:56.232Z"
   },
   {
    "duration": 2,
    "start_time": "2022-03-18T04:04:56.257Z"
   },
   {
    "duration": 102,
    "start_time": "2022-03-18T04:04:56.261Z"
   },
   {
    "duration": 11,
    "start_time": "2022-03-18T04:04:56.364Z"
   },
   {
    "duration": 5,
    "start_time": "2022-03-18T04:04:56.376Z"
   },
   {
    "duration": 3,
    "start_time": "2022-03-18T04:20:08.221Z"
   },
   {
    "duration": 19,
    "start_time": "2022-03-18T04:20:41.689Z"
   },
   {
    "duration": 10,
    "start_time": "2022-03-18T04:20:56.210Z"
   },
   {
    "duration": 3,
    "start_time": "2022-03-18T04:30:51.602Z"
   },
   {
    "duration": 17,
    "start_time": "2022-03-18T04:30:51.607Z"
   },
   {
    "duration": 9,
    "start_time": "2022-03-18T04:30:51.626Z"
   },
   {
    "duration": 106,
    "start_time": "2022-03-18T04:30:51.636Z"
   },
   {
    "duration": 0,
    "start_time": "2022-03-18T04:30:51.744Z"
   },
   {
    "duration": 0,
    "start_time": "2022-03-18T04:30:51.746Z"
   },
   {
    "duration": 0,
    "start_time": "2022-03-18T04:30:51.747Z"
   },
   {
    "duration": 0,
    "start_time": "2022-03-18T04:30:51.748Z"
   },
   {
    "duration": 0,
    "start_time": "2022-03-18T04:30:51.750Z"
   },
   {
    "duration": 0,
    "start_time": "2022-03-18T04:30:51.751Z"
   },
   {
    "duration": 0,
    "start_time": "2022-03-18T04:30:51.752Z"
   },
   {
    "duration": 0,
    "start_time": "2022-03-18T04:30:51.753Z"
   },
   {
    "duration": 0,
    "start_time": "2022-03-18T04:30:51.755Z"
   },
   {
    "duration": 0,
    "start_time": "2022-03-18T04:30:51.756Z"
   },
   {
    "duration": 0,
    "start_time": "2022-03-18T04:30:51.758Z"
   },
   {
    "duration": 1157,
    "start_time": "2022-03-18T04:30:51.761Z"
   },
   {
    "duration": 41,
    "start_time": "2022-03-18T04:30:52.920Z"
   },
   {
    "duration": 3,
    "start_time": "2022-03-18T04:30:52.963Z"
   },
   {
    "duration": 109,
    "start_time": "2022-03-18T04:30:52.968Z"
   },
   {
    "duration": 11,
    "start_time": "2022-03-18T04:30:53.078Z"
   },
   {
    "duration": 5,
    "start_time": "2022-03-18T04:30:53.091Z"
   },
   {
    "duration": 1111,
    "start_time": "2022-03-18T17:13:28.871Z"
   },
   {
    "duration": 14,
    "start_time": "2022-03-18T17:13:29.983Z"
   },
   {
    "duration": 17,
    "start_time": "2022-03-18T17:13:29.998Z"
   },
   {
    "duration": 25,
    "start_time": "2022-03-18T17:13:30.017Z"
   },
   {
    "duration": 12,
    "start_time": "2022-03-18T17:13:30.045Z"
   },
   {
    "duration": 15,
    "start_time": "2022-03-18T17:13:30.058Z"
   },
   {
    "duration": 19,
    "start_time": "2022-03-18T17:13:30.074Z"
   },
   {
    "duration": 14,
    "start_time": "2022-03-18T17:13:30.094Z"
   },
   {
    "duration": 23,
    "start_time": "2022-03-18T17:13:30.109Z"
   },
   {
    "duration": 21,
    "start_time": "2022-03-18T17:13:30.133Z"
   },
   {
    "duration": 15,
    "start_time": "2022-03-18T17:13:30.156Z"
   },
   {
    "duration": 16,
    "start_time": "2022-03-18T17:13:30.173Z"
   },
   {
    "duration": 13,
    "start_time": "2022-03-18T17:13:30.191Z"
   },
   {
    "duration": 73,
    "start_time": "2022-03-18T17:13:30.206Z"
   },
   {
    "duration": 1161,
    "start_time": "2022-03-18T17:13:30.281Z"
   },
   {
    "duration": 22,
    "start_time": "2022-03-18T17:13:31.444Z"
   },
   {
    "duration": 3,
    "start_time": "2022-03-18T17:13:31.467Z"
   },
   {
    "duration": 110,
    "start_time": "2022-03-18T17:13:31.471Z"
   },
   {
    "duration": 10,
    "start_time": "2022-03-18T17:13:31.582Z"
   },
   {
    "duration": 5,
    "start_time": "2022-03-18T17:13:31.593Z"
   },
   {
    "duration": 91,
    "start_time": "2022-03-18T17:56:42.349Z"
   },
   {
    "duration": 12,
    "start_time": "2022-03-18T17:57:09.785Z"
   },
   {
    "duration": 10,
    "start_time": "2022-03-18T17:58:18.260Z"
   },
   {
    "duration": 13,
    "start_time": "2022-03-18T18:02:15.658Z"
   },
   {
    "duration": 5,
    "start_time": "2022-03-18T18:11:44.910Z"
   },
   {
    "duration": 3,
    "start_time": "2022-03-18T18:33:09.866Z"
   },
   {
    "duration": 88,
    "start_time": "2022-03-18T18:33:10.554Z"
   },
   {
    "duration": 9,
    "start_time": "2022-03-18T18:33:19.466Z"
   },
   {
    "duration": 5,
    "start_time": "2022-03-18T18:33:20.368Z"
   },
   {
    "duration": 96,
    "start_time": "2022-03-18T18:36:35.258Z"
   },
   {
    "duration": 87,
    "start_time": "2022-03-18T18:37:52.247Z"
   },
   {
    "duration": 92,
    "start_time": "2022-03-18T18:39:05.495Z"
   },
   {
    "duration": 114,
    "start_time": "2022-03-18T19:04:11.357Z"
   },
   {
    "duration": 104,
    "start_time": "2022-03-18T19:13:47.015Z"
   },
   {
    "duration": 1203,
    "start_time": "2022-03-18T19:14:27.821Z"
   },
   {
    "duration": 3,
    "start_time": "2022-03-18T19:20:58.829Z"
   },
   {
    "duration": 20,
    "start_time": "2022-03-18T19:20:58.833Z"
   },
   {
    "duration": 9,
    "start_time": "2022-03-18T19:20:58.854Z"
   },
   {
    "duration": 11,
    "start_time": "2022-03-18T19:20:58.864Z"
   },
   {
    "duration": 6,
    "start_time": "2022-03-18T19:20:58.878Z"
   },
   {
    "duration": 5,
    "start_time": "2022-03-18T19:20:58.886Z"
   },
   {
    "duration": 4,
    "start_time": "2022-03-18T19:20:58.893Z"
   },
   {
    "duration": 34,
    "start_time": "2022-03-18T19:20:58.899Z"
   },
   {
    "duration": 7,
    "start_time": "2022-03-18T19:20:58.935Z"
   },
   {
    "duration": 4,
    "start_time": "2022-03-18T19:20:58.944Z"
   },
   {
    "duration": 10,
    "start_time": "2022-03-18T19:20:58.949Z"
   },
   {
    "duration": 4,
    "start_time": "2022-03-18T19:20:58.961Z"
   },
   {
    "duration": 8,
    "start_time": "2022-03-18T19:20:58.968Z"
   },
   {
    "duration": 103,
    "start_time": "2022-03-18T19:20:58.978Z"
   },
   {
    "duration": 1292,
    "start_time": "2022-03-18T19:20:59.083Z"
   },
   {
    "duration": 23,
    "start_time": "2022-03-18T19:21:00.377Z"
   },
   {
    "duration": 121,
    "start_time": "2022-03-18T19:21:00.402Z"
   },
   {
    "duration": 16,
    "start_time": "2022-03-18T19:21:00.525Z"
   },
   {
    "duration": 28,
    "start_time": "2022-03-18T19:21:00.543Z"
   },
   {
    "duration": 16,
    "start_time": "2022-03-18T19:21:00.573Z"
   },
   {
    "duration": 99,
    "start_time": "2022-03-18T19:42:16.834Z"
   },
   {
    "duration": 31,
    "start_time": "2022-03-18T19:43:24.423Z"
   },
   {
    "duration": 4,
    "start_time": "2022-03-18T19:43:30.136Z"
   },
   {
    "duration": 24,
    "start_time": "2022-03-18T19:43:30.142Z"
   },
   {
    "duration": 12,
    "start_time": "2022-03-18T19:43:30.168Z"
   },
   {
    "duration": 23,
    "start_time": "2022-03-18T19:43:30.182Z"
   },
   {
    "duration": 9,
    "start_time": "2022-03-18T19:43:30.207Z"
   },
   {
    "duration": 8,
    "start_time": "2022-03-18T19:43:30.217Z"
   },
   {
    "duration": 11,
    "start_time": "2022-03-18T19:43:30.227Z"
   },
   {
    "duration": 14,
    "start_time": "2022-03-18T19:43:30.239Z"
   },
   {
    "duration": 15,
    "start_time": "2022-03-18T19:43:30.255Z"
   },
   {
    "duration": 10,
    "start_time": "2022-03-18T19:43:30.272Z"
   },
   {
    "duration": 16,
    "start_time": "2022-03-18T19:43:30.284Z"
   },
   {
    "duration": 13,
    "start_time": "2022-03-18T19:43:30.301Z"
   },
   {
    "duration": 7,
    "start_time": "2022-03-18T19:43:30.316Z"
   },
   {
    "duration": 77,
    "start_time": "2022-03-18T19:43:30.324Z"
   },
   {
    "duration": 1199,
    "start_time": "2022-03-18T19:43:30.402Z"
   },
   {
    "duration": 33,
    "start_time": "2022-03-18T19:43:31.603Z"
   },
   {
    "duration": 100,
    "start_time": "2022-03-18T19:43:31.637Z"
   },
   {
    "duration": 12,
    "start_time": "2022-03-18T19:43:31.739Z"
   },
   {
    "duration": 108,
    "start_time": "2022-03-18T19:43:31.752Z"
   },
   {
    "duration": 22,
    "start_time": "2022-03-18T19:43:31.862Z"
   },
   {
    "duration": 16,
    "start_time": "2022-03-18T19:53:37.121Z"
   },
   {
    "duration": 103,
    "start_time": "2022-03-18T19:54:02.117Z"
   },
   {
    "duration": 27,
    "start_time": "2022-03-18T19:54:34.620Z"
   },
   {
    "duration": 190,
    "start_time": "2022-03-19T08:15:15.881Z"
   },
   {
    "duration": 63,
    "start_time": "2022-03-19T08:15:22.797Z"
   },
   {
    "duration": 1599,
    "start_time": "2022-03-19T08:15:26.366Z"
   },
   {
    "duration": 16,
    "start_time": "2022-03-19T08:15:27.967Z"
   },
   {
    "duration": 25,
    "start_time": "2022-03-19T08:15:27.985Z"
   },
   {
    "duration": 16,
    "start_time": "2022-03-19T08:15:28.012Z"
   },
   {
    "duration": 23,
    "start_time": "2022-03-19T08:15:28.031Z"
   },
   {
    "duration": 26,
    "start_time": "2022-03-19T08:15:28.056Z"
   },
   {
    "duration": 17,
    "start_time": "2022-03-19T08:15:28.084Z"
   },
   {
    "duration": 15,
    "start_time": "2022-03-19T08:15:28.103Z"
   },
   {
    "duration": 16,
    "start_time": "2022-03-19T08:15:28.120Z"
   },
   {
    "duration": 29,
    "start_time": "2022-03-19T08:15:28.138Z"
   },
   {
    "duration": 15,
    "start_time": "2022-03-19T08:15:28.169Z"
   },
   {
    "duration": 14,
    "start_time": "2022-03-19T08:15:28.186Z"
   },
   {
    "duration": 21,
    "start_time": "2022-03-19T08:15:28.202Z"
   },
   {
    "duration": 112,
    "start_time": "2022-03-19T08:15:28.227Z"
   },
   {
    "duration": 1853,
    "start_time": "2022-03-19T08:15:28.341Z"
   },
   {
    "duration": 37,
    "start_time": "2022-03-19T08:15:30.197Z"
   },
   {
    "duration": 185,
    "start_time": "2022-03-19T08:15:30.236Z"
   },
   {
    "duration": 10,
    "start_time": "2022-03-19T08:15:30.424Z"
   },
   {
    "duration": 35,
    "start_time": "2022-03-19T08:15:30.437Z"
   },
   {
    "duration": 162,
    "start_time": "2022-03-19T08:15:30.484Z"
   },
   {
    "duration": 53,
    "start_time": "2022-03-19T08:15:30.649Z"
   },
   {
    "duration": 92,
    "start_time": "2022-03-19T08:15:59.309Z"
   },
   {
    "duration": 8,
    "start_time": "2022-03-19T08:16:53.973Z"
   },
   {
    "duration": 9,
    "start_time": "2022-03-19T08:17:14.212Z"
   },
   {
    "duration": 1553,
    "start_time": "2022-03-19T10:50:05.977Z"
   },
   {
    "duration": 16,
    "start_time": "2022-03-19T10:50:07.533Z"
   },
   {
    "duration": 41,
    "start_time": "2022-03-19T10:50:07.551Z"
   },
   {
    "duration": 17,
    "start_time": "2022-03-19T10:50:07.595Z"
   },
   {
    "duration": 10,
    "start_time": "2022-03-19T10:50:07.616Z"
   },
   {
    "duration": 7,
    "start_time": "2022-03-19T10:50:07.628Z"
   },
   {
    "duration": 47,
    "start_time": "2022-03-19T10:50:07.638Z"
   },
   {
    "duration": 5,
    "start_time": "2022-03-19T10:50:07.687Z"
   },
   {
    "duration": 10,
    "start_time": "2022-03-19T10:50:07.695Z"
   },
   {
    "duration": 6,
    "start_time": "2022-03-19T10:50:07.708Z"
   },
   {
    "duration": 9,
    "start_time": "2022-03-19T10:50:07.717Z"
   },
   {
    "duration": 6,
    "start_time": "2022-03-19T10:50:07.782Z"
   },
   {
    "duration": 10,
    "start_time": "2022-03-19T10:50:07.790Z"
   },
   {
    "duration": 127,
    "start_time": "2022-03-19T10:50:07.804Z"
   },
   {
    "duration": 1820,
    "start_time": "2022-03-19T10:50:07.933Z"
   },
   {
    "duration": 50,
    "start_time": "2022-03-19T10:50:09.755Z"
   },
   {
    "duration": 158,
    "start_time": "2022-03-19T10:50:09.807Z"
   },
   {
    "duration": 16,
    "start_time": "2022-03-19T10:50:09.967Z"
   },
   {
    "duration": 8,
    "start_time": "2022-03-19T10:50:09.985Z"
   },
   {
    "duration": 26,
    "start_time": "2022-03-19T10:50:09.995Z"
   },
   {
    "duration": 177,
    "start_time": "2022-03-19T10:50:10.024Z"
   },
   {
    "duration": 40,
    "start_time": "2022-03-19T10:50:10.203Z"
   },
   {
    "duration": 1241,
    "start_time": "2022-03-22T04:48:53.735Z"
   },
   {
    "duration": 19,
    "start_time": "2022-03-22T04:48:54.978Z"
   },
   {
    "duration": 15,
    "start_time": "2022-03-22T04:48:54.999Z"
   },
   {
    "duration": 11,
    "start_time": "2022-03-22T04:48:55.016Z"
   },
   {
    "duration": 7,
    "start_time": "2022-03-22T04:48:55.029Z"
   },
   {
    "duration": 6,
    "start_time": "2022-03-22T04:48:55.037Z"
   },
   {
    "duration": 12,
    "start_time": "2022-03-22T04:48:55.045Z"
   },
   {
    "duration": 12,
    "start_time": "2022-03-22T04:48:55.058Z"
   },
   {
    "duration": 12,
    "start_time": "2022-03-22T04:48:55.071Z"
   },
   {
    "duration": 12,
    "start_time": "2022-03-22T04:48:55.084Z"
   },
   {
    "duration": 13,
    "start_time": "2022-03-22T04:48:55.097Z"
   },
   {
    "duration": 8,
    "start_time": "2022-03-22T04:48:55.111Z"
   },
   {
    "duration": 8,
    "start_time": "2022-03-22T04:48:55.120Z"
   },
   {
    "duration": 69,
    "start_time": "2022-03-22T04:48:55.130Z"
   },
   {
    "duration": 1262,
    "start_time": "2022-03-22T04:48:55.200Z"
   },
   {
    "duration": 24,
    "start_time": "2022-03-22T04:48:56.463Z"
   },
   {
    "duration": 103,
    "start_time": "2022-03-22T04:48:56.488Z"
   },
   {
    "duration": 8,
    "start_time": "2022-03-22T04:48:56.592Z"
   },
   {
    "duration": 5,
    "start_time": "2022-03-22T04:48:56.601Z"
   },
   {
    "duration": 18,
    "start_time": "2022-03-22T04:48:56.608Z"
   },
   {
    "duration": 110,
    "start_time": "2022-03-22T04:48:56.627Z"
   },
   {
    "duration": 21,
    "start_time": "2022-03-22T04:48:56.738Z"
   },
   {
    "duration": 78,
    "start_time": "2022-03-22T04:50:09.301Z"
   },
   {
    "duration": 153,
    "start_time": "2022-03-22T04:55:06.782Z"
   },
   {
    "duration": 66,
    "start_time": "2022-03-22T04:55:43.118Z"
   },
   {
    "duration": 65,
    "start_time": "2022-03-22T04:56:37.403Z"
   },
   {
    "duration": 91,
    "start_time": "2022-03-22T04:59:04.295Z"
   },
   {
    "duration": 70,
    "start_time": "2022-03-22T04:59:22.414Z"
   },
   {
    "duration": 68,
    "start_time": "2022-03-22T05:00:14.331Z"
   },
   {
    "duration": 5,
    "start_time": "2022-03-22T05:03:44.400Z"
   },
   {
    "duration": 70,
    "start_time": "2022-03-22T05:06:12.461Z"
   },
   {
    "duration": 64,
    "start_time": "2022-03-22T05:06:38.723Z"
   },
   {
    "duration": 64,
    "start_time": "2022-03-22T05:07:19.739Z"
   },
   {
    "duration": 63,
    "start_time": "2022-03-22T05:07:53.432Z"
   },
   {
    "duration": 62,
    "start_time": "2022-03-22T05:08:17.910Z"
   },
   {
    "duration": 59,
    "start_time": "2022-03-22T05:08:50.914Z"
   },
   {
    "duration": 65,
    "start_time": "2022-03-22T05:09:29.320Z"
   },
   {
    "duration": 12,
    "start_time": "2022-03-22T05:10:52.584Z"
   },
   {
    "duration": 12,
    "start_time": "2022-03-22T05:11:53.231Z"
   },
   {
    "duration": 66,
    "start_time": "2022-03-22T05:12:14.845Z"
   },
   {
    "duration": 60,
    "start_time": "2022-03-22T05:12:21.731Z"
   },
   {
    "duration": 63,
    "start_time": "2022-03-22T05:14:28.898Z"
   },
   {
    "duration": 69,
    "start_time": "2022-03-22T05:15:27.367Z"
   },
   {
    "duration": 1137,
    "start_time": "2022-03-23T17:39:49.131Z"
   },
   {
    "duration": 13,
    "start_time": "2022-03-23T17:39:50.270Z"
   },
   {
    "duration": 17,
    "start_time": "2022-03-23T17:39:50.285Z"
   },
   {
    "duration": 15,
    "start_time": "2022-03-23T17:39:50.304Z"
   },
   {
    "duration": 6,
    "start_time": "2022-03-23T17:39:50.332Z"
   },
   {
    "duration": 10,
    "start_time": "2022-03-23T17:39:50.340Z"
   },
   {
    "duration": 5,
    "start_time": "2022-03-23T17:39:50.351Z"
   },
   {
    "duration": 8,
    "start_time": "2022-03-23T17:39:50.358Z"
   },
   {
    "duration": 12,
    "start_time": "2022-03-23T17:39:50.368Z"
   },
   {
    "duration": 6,
    "start_time": "2022-03-23T17:39:50.383Z"
   },
   {
    "duration": 18,
    "start_time": "2022-03-23T17:39:50.390Z"
   },
   {
    "duration": 6,
    "start_time": "2022-03-23T17:39:50.410Z"
   },
   {
    "duration": 23,
    "start_time": "2022-03-23T17:39:50.417Z"
   },
   {
    "duration": 65,
    "start_time": "2022-03-23T17:39:50.442Z"
   },
   {
    "duration": 1267,
    "start_time": "2022-03-23T17:39:50.509Z"
   },
   {
    "duration": 24,
    "start_time": "2022-03-23T17:39:51.777Z"
   },
   {
    "duration": 119,
    "start_time": "2022-03-23T17:39:51.802Z"
   },
   {
    "duration": 15,
    "start_time": "2022-03-23T17:39:51.923Z"
   },
   {
    "duration": 10,
    "start_time": "2022-03-23T17:39:51.940Z"
   },
   {
    "duration": 17,
    "start_time": "2022-03-23T17:39:51.952Z"
   },
   {
    "duration": 118,
    "start_time": "2022-03-23T17:39:51.971Z"
   },
   {
    "duration": 24,
    "start_time": "2022-03-23T17:39:52.091Z"
   },
   {
    "duration": 69,
    "start_time": "2022-03-23T17:40:27.131Z"
   },
   {
    "duration": 63,
    "start_time": "2022-03-23T17:42:14.369Z"
   },
   {
    "duration": 70,
    "start_time": "2022-03-23T17:42:24.893Z"
   },
   {
    "duration": 66,
    "start_time": "2022-03-23T17:47:06.420Z"
   },
   {
    "duration": 161,
    "start_time": "2022-03-23T17:47:43.056Z"
   },
   {
    "duration": 68,
    "start_time": "2022-03-23T17:47:59.590Z"
   },
   {
    "duration": 73,
    "start_time": "2022-03-23T17:50:13.099Z"
   },
   {
    "duration": 66,
    "start_time": "2022-03-23T17:50:28.047Z"
   },
   {
    "duration": 64,
    "start_time": "2022-03-23T17:55:15.161Z"
   },
   {
    "duration": 15,
    "start_time": "2022-03-23T17:56:46.363Z"
   },
   {
    "duration": 63,
    "start_time": "2022-03-23T17:56:55.841Z"
   },
   {
    "duration": 69,
    "start_time": "2022-03-23T17:57:13.117Z"
   },
   {
    "duration": 71,
    "start_time": "2022-03-23T18:00:30.672Z"
   },
   {
    "duration": 74,
    "start_time": "2022-03-23T18:00:43.311Z"
   },
   {
    "duration": 67,
    "start_time": "2022-03-23T18:01:04.775Z"
   },
   {
    "duration": 64,
    "start_time": "2022-03-23T18:01:14.727Z"
   },
   {
    "duration": 98,
    "start_time": "2022-03-23T18:02:43.875Z"
   },
   {
    "duration": 63,
    "start_time": "2022-03-23T18:02:53.599Z"
   },
   {
    "duration": 3,
    "start_time": "2022-03-23T18:03:10.610Z"
   },
   {
    "duration": 19,
    "start_time": "2022-03-23T18:03:10.615Z"
   },
   {
    "duration": 10,
    "start_time": "2022-03-23T18:03:10.635Z"
   },
   {
    "duration": 14,
    "start_time": "2022-03-23T18:03:10.647Z"
   },
   {
    "duration": 12,
    "start_time": "2022-03-23T18:03:10.664Z"
   },
   {
    "duration": 7,
    "start_time": "2022-03-23T18:03:10.679Z"
   },
   {
    "duration": 9,
    "start_time": "2022-03-23T18:03:10.688Z"
   },
   {
    "duration": 16,
    "start_time": "2022-03-23T18:03:10.699Z"
   },
   {
    "duration": 18,
    "start_time": "2022-03-23T18:03:10.717Z"
   },
   {
    "duration": 7,
    "start_time": "2022-03-23T18:03:10.737Z"
   },
   {
    "duration": 10,
    "start_time": "2022-03-23T18:03:10.746Z"
   },
   {
    "duration": 8,
    "start_time": "2022-03-23T18:03:10.757Z"
   },
   {
    "duration": 9,
    "start_time": "2022-03-23T18:03:10.767Z"
   },
   {
    "duration": 97,
    "start_time": "2022-03-23T18:03:10.777Z"
   },
   {
    "duration": 17,
    "start_time": "2022-03-23T18:04:27.070Z"
   },
   {
    "duration": 15,
    "start_time": "2022-03-23T18:05:07.164Z"
   },
   {
    "duration": 64,
    "start_time": "2022-03-23T18:05:25.194Z"
   },
   {
    "duration": 110,
    "start_time": "2022-03-23T18:06:22.843Z"
   },
   {
    "duration": 74,
    "start_time": "2022-03-23T18:06:35.072Z"
   },
   {
    "duration": 76,
    "start_time": "2022-03-23T18:08:53.436Z"
   },
   {
    "duration": 73,
    "start_time": "2022-03-23T18:09:21.283Z"
   },
   {
    "duration": 74,
    "start_time": "2022-03-23T18:09:27.934Z"
   },
   {
    "duration": 73,
    "start_time": "2022-03-23T18:10:24.022Z"
   },
   {
    "duration": 78,
    "start_time": "2022-03-23T18:14:28.510Z"
   },
   {
    "duration": 68,
    "start_time": "2022-03-23T18:22:41.461Z"
   },
   {
    "duration": 111,
    "start_time": "2022-03-23T18:22:59.519Z"
   },
   {
    "duration": 72,
    "start_time": "2022-03-23T18:23:43.054Z"
   },
   {
    "duration": 66,
    "start_time": "2022-03-23T18:23:49.145Z"
   },
   {
    "duration": 67,
    "start_time": "2022-03-23T18:24:23.388Z"
   },
   {
    "duration": 8126,
    "start_time": "2022-03-23T20:10:50.657Z"
   },
   {
    "duration": 2671,
    "start_time": "2022-03-23T20:11:08.843Z"
   },
   {
    "duration": 7018,
    "start_time": "2022-03-23T20:11:39.572Z"
   },
   {
    "duration": 18642,
    "start_time": "2022-03-23T20:11:55.734Z"
   },
   {
    "duration": 7158,
    "start_time": "2022-03-23T20:12:48.479Z"
   },
   {
    "duration": 12899,
    "start_time": "2022-03-23T20:13:07.168Z"
   },
   {
    "duration": 25136,
    "start_time": "2022-03-23T20:13:28.688Z"
   },
   {
    "duration": 10591,
    "start_time": "2022-03-23T20:14:01.984Z"
   },
   {
    "duration": 8524,
    "start_time": "2022-03-23T20:14:18.584Z"
   },
   {
    "duration": 9149,
    "start_time": "2022-03-23T20:14:43.177Z"
   },
   {
    "duration": 10245,
    "start_time": "2022-03-23T20:14:58.561Z"
   },
   {
    "duration": 10785,
    "start_time": "2022-03-23T20:16:27.602Z"
   },
   {
    "duration": 90,
    "start_time": "2022-03-23T20:22:56.752Z"
   },
   {
    "duration": 89,
    "start_time": "2022-03-23T20:26:44.875Z"
   },
   {
    "duration": 66,
    "start_time": "2022-03-23T20:35:24.040Z"
   },
   {
    "duration": 3,
    "start_time": "2022-03-23T20:35:32.056Z"
   },
   {
    "duration": 31,
    "start_time": "2022-03-23T20:35:32.061Z"
   },
   {
    "duration": 9,
    "start_time": "2022-03-23T20:35:32.093Z"
   },
   {
    "duration": 18,
    "start_time": "2022-03-23T20:35:32.104Z"
   },
   {
    "duration": 5,
    "start_time": "2022-03-23T20:35:32.125Z"
   },
   {
    "duration": 9,
    "start_time": "2022-03-23T20:35:32.132Z"
   },
   {
    "duration": 6,
    "start_time": "2022-03-23T20:35:32.143Z"
   },
   {
    "duration": 6,
    "start_time": "2022-03-23T20:35:32.150Z"
   },
   {
    "duration": 10,
    "start_time": "2022-03-23T20:35:32.158Z"
   },
   {
    "duration": 9,
    "start_time": "2022-03-23T20:35:32.169Z"
   },
   {
    "duration": 8,
    "start_time": "2022-03-23T20:35:32.179Z"
   },
   {
    "duration": 6,
    "start_time": "2022-03-23T20:35:32.189Z"
   },
   {
    "duration": 8,
    "start_time": "2022-03-23T20:35:32.196Z"
   },
   {
    "duration": 89,
    "start_time": "2022-03-23T20:35:32.206Z"
   },
   {
    "duration": 80,
    "start_time": "2022-03-23T20:35:32.296Z"
   },
   {
    "duration": 10159,
    "start_time": "2022-03-23T20:35:32.377Z"
   },
   {
    "duration": 23,
    "start_time": "2022-03-23T20:35:42.538Z"
   },
   {
    "duration": 105,
    "start_time": "2022-03-23T20:35:42.563Z"
   },
   {
    "duration": 4,
    "start_time": "2022-03-23T20:35:42.670Z"
   },
   {
    "duration": 7,
    "start_time": "2022-03-23T20:35:42.675Z"
   },
   {
    "duration": 14,
    "start_time": "2022-03-23T20:35:42.683Z"
   },
   {
    "duration": 111,
    "start_time": "2022-03-23T20:35:42.699Z"
   },
   {
    "duration": 36,
    "start_time": "2022-03-23T20:35:42.812Z"
   },
   {
    "duration": 113,
    "start_time": "2022-03-23T20:36:33.063Z"
   },
   {
    "duration": 74,
    "start_time": "2022-03-23T20:36:37.814Z"
   },
   {
    "duration": 73,
    "start_time": "2022-03-23T20:45:33.360Z"
   },
   {
    "duration": 102,
    "start_time": "2022-03-23T20:45:48.410Z"
   },
   {
    "duration": 154,
    "start_time": "2022-03-23T20:45:56.236Z"
   },
   {
    "duration": 121,
    "start_time": "2022-03-23T20:46:17.545Z"
   },
   {
    "duration": 1865,
    "start_time": "2022-03-23T20:47:28.266Z"
   },
   {
    "duration": 64,
    "start_time": "2022-03-23T20:47:52.318Z"
   },
   {
    "duration": 63,
    "start_time": "2022-03-23T20:59:49.073Z"
   },
   {
    "duration": 65,
    "start_time": "2022-03-23T21:01:09.090Z"
   },
   {
    "duration": 66,
    "start_time": "2022-03-23T21:01:18.279Z"
   },
   {
    "duration": 64,
    "start_time": "2022-03-23T21:08:18.044Z"
   },
   {
    "duration": 67,
    "start_time": "2022-03-23T21:08:24.732Z"
   },
   {
    "duration": 74,
    "start_time": "2022-03-23T21:08:48.674Z"
   },
   {
    "duration": 65,
    "start_time": "2022-03-23T21:09:50.856Z"
   },
   {
    "duration": 65,
    "start_time": "2022-03-23T21:10:20.427Z"
   },
   {
    "duration": 82,
    "start_time": "2022-03-23T21:11:18.616Z"
   },
   {
    "duration": 70,
    "start_time": "2022-03-23T21:12:57.833Z"
   },
   {
    "duration": 68,
    "start_time": "2022-03-23T21:13:28.014Z"
   },
   {
    "duration": 174,
    "start_time": "2022-03-23T21:15:03.029Z"
   },
   {
    "duration": 86,
    "start_time": "2022-03-23T21:15:08.443Z"
   },
   {
    "duration": 139,
    "start_time": "2022-03-23T21:15:28.729Z"
   },
   {
    "duration": 66,
    "start_time": "2022-03-23T21:15:33.395Z"
   },
   {
    "duration": 76,
    "start_time": "2022-03-23T21:16:02.836Z"
   },
   {
    "duration": 70,
    "start_time": "2022-03-23T21:17:45.070Z"
   },
   {
    "duration": 1168,
    "start_time": "2022-03-23T21:19:56.575Z"
   },
   {
    "duration": 21,
    "start_time": "2022-03-23T21:19:57.746Z"
   },
   {
    "duration": 21,
    "start_time": "2022-03-23T21:19:57.769Z"
   },
   {
    "duration": 11,
    "start_time": "2022-03-23T21:19:57.792Z"
   },
   {
    "duration": 6,
    "start_time": "2022-03-23T21:19:57.805Z"
   },
   {
    "duration": 22,
    "start_time": "2022-03-23T21:19:57.812Z"
   },
   {
    "duration": 8,
    "start_time": "2022-03-23T21:19:57.836Z"
   },
   {
    "duration": 9,
    "start_time": "2022-03-23T21:19:57.845Z"
   },
   {
    "duration": 8,
    "start_time": "2022-03-23T21:19:57.856Z"
   },
   {
    "duration": 4,
    "start_time": "2022-03-23T21:19:57.867Z"
   },
   {
    "duration": 12,
    "start_time": "2022-03-23T21:19:57.873Z"
   },
   {
    "duration": 5,
    "start_time": "2022-03-23T21:19:57.886Z"
   },
   {
    "duration": 10,
    "start_time": "2022-03-23T21:19:57.893Z"
   },
   {
    "duration": 107,
    "start_time": "2022-03-23T21:19:57.905Z"
   },
   {
    "duration": 11328,
    "start_time": "2022-03-23T21:19:58.013Z"
   },
   {
    "duration": 27,
    "start_time": "2022-03-23T21:20:09.343Z"
   },
   {
    "duration": 117,
    "start_time": "2022-03-23T21:20:09.372Z"
   },
   {
    "duration": 8,
    "start_time": "2022-03-23T21:20:09.491Z"
   },
   {
    "duration": 6,
    "start_time": "2022-03-23T21:20:09.501Z"
   },
   {
    "duration": 31,
    "start_time": "2022-03-23T21:20:09.508Z"
   },
   {
    "duration": 99,
    "start_time": "2022-03-23T21:20:09.542Z"
   },
   {
    "duration": 27,
    "start_time": "2022-03-23T21:20:09.643Z"
   }
  ],
  "kernelspec": {
   "display_name": "Python 3 (ipykernel)",
   "language": "python",
   "name": "python3"
  },
  "language_info": {
   "codemirror_mode": {
    "name": "ipython",
    "version": 3
   },
   "file_extension": ".py",
   "mimetype": "text/x-python",
   "name": "python",
   "nbconvert_exporter": "python",
   "pygments_lexer": "ipython3",
   "version": "3.9.7"
  },
  "toc": {
   "base_numbering": 1,
   "nav_menu": {},
   "number_sections": true,
   "sideBar": true,
   "skip_h1_title": true,
   "title_cell": "Table of Contents",
   "title_sidebar": "Contents",
   "toc_cell": false,
   "toc_position": {},
   "toc_section_display": true,
   "toc_window_display": false
  }
 },
 "nbformat": 4,
 "nbformat_minor": 2
}
