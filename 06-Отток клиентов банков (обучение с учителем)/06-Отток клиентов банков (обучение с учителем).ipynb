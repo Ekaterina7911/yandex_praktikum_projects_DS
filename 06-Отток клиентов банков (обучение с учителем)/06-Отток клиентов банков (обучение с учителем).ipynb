{
 "cells": [
  {
   "cell_type": "markdown",
   "metadata": {
    "toc": true
   },
   "source": [
    "<h1>Содержание<span class=\"tocSkip\"></span></h1>\n",
    "<div class=\"toc\"><ul class=\"toc-item\"><li><span><a href=\"#Подготовка-данных\" data-toc-modified-id=\"Подготовка-данных-1\"><span class=\"toc-item-num\">1&nbsp;&nbsp;</span>Подготовка данных</a></span><ul class=\"toc-item\"><li><span><a href=\"#Изучение-данных-из-файла\" data-toc-modified-id=\"Изучение-данных-из-файла-1.1\"><span class=\"toc-item-num\">1.1&nbsp;&nbsp;</span>Изучение данных из файла</a></span></li><li><span><a href=\"#Подготовка-данных-перед-построением-модели\" data-toc-modified-id=\"Подготовка-данных-перед-построением-модели-1.2\"><span class=\"toc-item-num\">1.2&nbsp;&nbsp;</span>Подготовка данных перед построением модели</a></span></li></ul></li><li><span><a href=\"#Исследование-задачи\" data-toc-modified-id=\"Исследование-задачи-2\"><span class=\"toc-item-num\">2&nbsp;&nbsp;</span>Исследование задачи</a></span><ul class=\"toc-item\"><li><span><a href=\"#Построение-моделей-без-учета-дисбаланса-классов\" data-toc-modified-id=\"Построение-моделей-без-учета-дисбаланса-классов-2.1\"><span class=\"toc-item-num\">2.1&nbsp;&nbsp;</span>Построение моделей без учета дисбаланса классов</a></span></li></ul></li><li><span><a href=\"#Борьба-с-дисбалансом\" data-toc-modified-id=\"Борьба-с-дисбалансом-3\"><span class=\"toc-item-num\">3&nbsp;&nbsp;</span>Борьба с дисбалансом</a></span><ul class=\"toc-item\"><li><span><a href=\"#Взвешивание-весов\" data-toc-modified-id=\"Взвешивание-весов-3.1\"><span class=\"toc-item-num\">3.1&nbsp;&nbsp;</span>Взвешивание весов</a></span></li><li><span><a href=\"#Увеличение-выборки-(upsampling)\" data-toc-modified-id=\"Увеличение-выборки-(upsampling)-3.2\"><span class=\"toc-item-num\">3.2&nbsp;&nbsp;</span>Увеличение выборки (upsampling)</a></span></li><li><span><a href=\"#Уменьшение-выборки-(downsampling).\" data-toc-modified-id=\"Уменьшение-выборки-(downsampling).-3.3\"><span class=\"toc-item-num\">3.3&nbsp;&nbsp;</span>Уменьшение выборки (downsampling).</a></span></li></ul></li><li><span><a href=\"#Тестирование-модели\" data-toc-modified-id=\"Тестирование-модели-4\"><span class=\"toc-item-num\">4&nbsp;&nbsp;</span>Тестирование модели</a></span></li><li><span><a href=\"#Общий-вывод\" data-toc-modified-id=\"Общий-вывод-5\"><span class=\"toc-item-num\">5&nbsp;&nbsp;</span>Общий вывод</a></span></li></ul></div>"
   ]
  },
  {
   "cell_type": "markdown",
   "metadata": {},
   "source": [
    "# Отток клиентов"
   ]
  },
  {
   "cell_type": "markdown",
   "metadata": {},
   "source": [
    "Из «Бета-Банка» стали уходить клиенты. Каждый месяц. Немного, но заметно. Банковские маркетологи посчитали: сохранять текущих клиентов дешевле, чем привлекать новых.\n",
    "\n",
    "Нужно спрогнозировать, уйдёт клиент из банка в ближайшее время или нет. Вам предоставлены исторические данные о поведении клиентов и расторжении договоров с банком. \n",
    "\n",
    "Постройте модель с предельно большим значением *F1*-меры. Чтобы сдать проект успешно, нужно довести метрику до 0.59. Проверьте *F1*-меру на тестовой выборке самостоятельно.\n",
    "\n",
    "Дополнительно измеряйте *AUC-ROC*, сравнивайте её значение с *F1*-мерой.\n",
    "\n",
    "Источник данных: [https://www.kaggle.com/barelydedicated/bank-customer-churn-modeling](https://www.kaggle.com/barelydedicated/bank-customer-churn-modeling)"
   ]
  },
  {
   "cell_type": "markdown",
   "metadata": {},
   "source": [
    "## Подготовка данных"
   ]
  },
  {
   "cell_type": "markdown",
   "metadata": {},
   "source": [
    "### Изучение данных из файла"
   ]
  },
  {
   "cell_type": "markdown",
   "metadata": {},
   "source": [
    "В самом начале импортируем все необходимые библиотеки"
   ]
  },
  {
   "cell_type": "code",
   "execution_count": 1,
   "metadata": {},
   "outputs": [],
   "source": [
    "import pandas as pd\n",
    "\n",
    "\n",
    "from sklearn.tree import DecisionTreeClassifier\n",
    "\n",
    "from sklearn.ensemble import RandomForestClassifier\n",
    "\n",
    "from sklearn.linear_model import LogisticRegression\n",
    "\n",
    "from sklearn.metrics import accuracy_score\n",
    "\n",
    "from sklearn.model_selection import train_test_split\n",
    "\n",
    "from sklearn.preprocessing import StandardScaler\n",
    "\n",
    "from sklearn.metrics import f1_score\n",
    "\n",
    "import matplotlib.pyplot as plt\n",
    "\n",
    "from sklearn.metrics import roc_curve \n",
    "\n",
    "from sklearn.model_selection import GridSearchCV\n",
    "\n",
    "from sklearn.utils import shuffle\n",
    "\n",
    "from sklearn.metrics import roc_auc_score\n"
   ]
  },
  {
   "cell_type": "code",
   "execution_count": 2,
   "metadata": {},
   "outputs": [],
   "source": [
    "df =  pd.read_csv('/datasets/Churn.csv') # открытие файла"
   ]
  },
  {
   "cell_type": "code",
   "execution_count": 3,
   "metadata": {},
   "outputs": [
    {
     "data": {
      "text/html": [
       "<div>\n",
       "<style scoped>\n",
       "    .dataframe tbody tr th:only-of-type {\n",
       "        vertical-align: middle;\n",
       "    }\n",
       "\n",
       "    .dataframe tbody tr th {\n",
       "        vertical-align: top;\n",
       "    }\n",
       "\n",
       "    .dataframe thead th {\n",
       "        text-align: right;\n",
       "    }\n",
       "</style>\n",
       "<table border=\"1\" class=\"dataframe\">\n",
       "  <thead>\n",
       "    <tr style=\"text-align: right;\">\n",
       "      <th></th>\n",
       "      <th>RowNumber</th>\n",
       "      <th>CustomerId</th>\n",
       "      <th>Surname</th>\n",
       "      <th>CreditScore</th>\n",
       "      <th>Geography</th>\n",
       "      <th>Gender</th>\n",
       "      <th>Age</th>\n",
       "      <th>Tenure</th>\n",
       "      <th>Balance</th>\n",
       "      <th>NumOfProducts</th>\n",
       "      <th>HasCrCard</th>\n",
       "      <th>IsActiveMember</th>\n",
       "      <th>EstimatedSalary</th>\n",
       "      <th>Exited</th>\n",
       "    </tr>\n",
       "  </thead>\n",
       "  <tbody>\n",
       "    <tr>\n",
       "      <th>0</th>\n",
       "      <td>1</td>\n",
       "      <td>15634602</td>\n",
       "      <td>Hargrave</td>\n",
       "      <td>619</td>\n",
       "      <td>France</td>\n",
       "      <td>Female</td>\n",
       "      <td>42</td>\n",
       "      <td>2.0</td>\n",
       "      <td>0.00</td>\n",
       "      <td>1</td>\n",
       "      <td>1</td>\n",
       "      <td>1</td>\n",
       "      <td>101348.88</td>\n",
       "      <td>1</td>\n",
       "    </tr>\n",
       "    <tr>\n",
       "      <th>1</th>\n",
       "      <td>2</td>\n",
       "      <td>15647311</td>\n",
       "      <td>Hill</td>\n",
       "      <td>608</td>\n",
       "      <td>Spain</td>\n",
       "      <td>Female</td>\n",
       "      <td>41</td>\n",
       "      <td>1.0</td>\n",
       "      <td>83807.86</td>\n",
       "      <td>1</td>\n",
       "      <td>0</td>\n",
       "      <td>1</td>\n",
       "      <td>112542.58</td>\n",
       "      <td>0</td>\n",
       "    </tr>\n",
       "    <tr>\n",
       "      <th>2</th>\n",
       "      <td>3</td>\n",
       "      <td>15619304</td>\n",
       "      <td>Onio</td>\n",
       "      <td>502</td>\n",
       "      <td>France</td>\n",
       "      <td>Female</td>\n",
       "      <td>42</td>\n",
       "      <td>8.0</td>\n",
       "      <td>159660.80</td>\n",
       "      <td>3</td>\n",
       "      <td>1</td>\n",
       "      <td>0</td>\n",
       "      <td>113931.57</td>\n",
       "      <td>1</td>\n",
       "    </tr>\n",
       "    <tr>\n",
       "      <th>3</th>\n",
       "      <td>4</td>\n",
       "      <td>15701354</td>\n",
       "      <td>Boni</td>\n",
       "      <td>699</td>\n",
       "      <td>France</td>\n",
       "      <td>Female</td>\n",
       "      <td>39</td>\n",
       "      <td>1.0</td>\n",
       "      <td>0.00</td>\n",
       "      <td>2</td>\n",
       "      <td>0</td>\n",
       "      <td>0</td>\n",
       "      <td>93826.63</td>\n",
       "      <td>0</td>\n",
       "    </tr>\n",
       "    <tr>\n",
       "      <th>4</th>\n",
       "      <td>5</td>\n",
       "      <td>15737888</td>\n",
       "      <td>Mitchell</td>\n",
       "      <td>850</td>\n",
       "      <td>Spain</td>\n",
       "      <td>Female</td>\n",
       "      <td>43</td>\n",
       "      <td>2.0</td>\n",
       "      <td>125510.82</td>\n",
       "      <td>1</td>\n",
       "      <td>1</td>\n",
       "      <td>1</td>\n",
       "      <td>79084.10</td>\n",
       "      <td>0</td>\n",
       "    </tr>\n",
       "  </tbody>\n",
       "</table>\n",
       "</div>"
      ],
      "text/plain": [
       "   RowNumber  CustomerId   Surname  CreditScore Geography  Gender  Age  \\\n",
       "0          1    15634602  Hargrave          619    France  Female   42   \n",
       "1          2    15647311      Hill          608     Spain  Female   41   \n",
       "2          3    15619304      Onio          502    France  Female   42   \n",
       "3          4    15701354      Boni          699    France  Female   39   \n",
       "4          5    15737888  Mitchell          850     Spain  Female   43   \n",
       "\n",
       "   Tenure    Balance  NumOfProducts  HasCrCard  IsActiveMember  \\\n",
       "0     2.0       0.00              1          1               1   \n",
       "1     1.0   83807.86              1          0               1   \n",
       "2     8.0  159660.80              3          1               0   \n",
       "3     1.0       0.00              2          0               0   \n",
       "4     2.0  125510.82              1          1               1   \n",
       "\n",
       "   EstimatedSalary  Exited  \n",
       "0        101348.88       1  \n",
       "1        112542.58       0  \n",
       "2        113931.57       1  \n",
       "3         93826.63       0  \n",
       "4         79084.10       0  "
      ]
     },
     "metadata": {},
     "output_type": "display_data"
    }
   ],
   "source": [
    "display(df.head()) # просмотр первых 5 строк"
   ]
  },
  {
   "cell_type": "markdown",
   "metadata": {},
   "source": [
    "По первым пяти строкам можно сказать, что не все данные нам будут нужны для обучения модели, например фамилия человека для предсказаний не имеет никакого значения, как и его идентификационный номер. Столбец с фамилиями и номер строки мы точно удалим, а уникальный номер клиента переведем в индекс - Sklearn не использует столбец с индексом при обучении модели."
   ]
  },
  {
   "cell_type": "markdown",
   "metadata": {},
   "source": [
    "Еще мы видим, что в файле разброс числовых значений разный, например у возраста, баланса на счете, предпрогаемая з/п, количество банковских продуктов и количество лет, в течении которых человек был клиентом банка. Данные необходимо масштабировать."
   ]
  },
  {
   "cell_type": "markdown",
   "metadata": {},
   "source": [
    "Посмотрим общую информацию о файле"
   ]
  },
  {
   "cell_type": "code",
   "execution_count": 4,
   "metadata": {},
   "outputs": [
    {
     "name": "stdout",
     "output_type": "stream",
     "text": [
      "<class 'pandas.core.frame.DataFrame'>\n",
      "RangeIndex: 10000 entries, 0 to 9999\n",
      "Data columns (total 14 columns):\n",
      " #   Column           Non-Null Count  Dtype  \n",
      "---  ------           --------------  -----  \n",
      " 0   RowNumber        10000 non-null  int64  \n",
      " 1   CustomerId       10000 non-null  int64  \n",
      " 2   Surname          10000 non-null  object \n",
      " 3   CreditScore      10000 non-null  int64  \n",
      " 4   Geography        10000 non-null  object \n",
      " 5   Gender           10000 non-null  object \n",
      " 6   Age              10000 non-null  int64  \n",
      " 7   Tenure           9091 non-null   float64\n",
      " 8   Balance          10000 non-null  float64\n",
      " 9   NumOfProducts    10000 non-null  int64  \n",
      " 10  HasCrCard        10000 non-null  int64  \n",
      " 11  IsActiveMember   10000 non-null  int64  \n",
      " 12  EstimatedSalary  10000 non-null  float64\n",
      " 13  Exited           10000 non-null  int64  \n",
      "dtypes: float64(3), int64(8), object(3)\n",
      "memory usage: 1.1+ MB\n"
     ]
    }
   ],
   "source": [
    "df.info() # просмотр информации о файле"
   ]
  },
  {
   "cell_type": "markdown",
   "metadata": {},
   "source": [
    "В таблице 14 столбцов. В 3-х тип данных float64, в восьми - int64 и в 3-х - object. В столбце с количеством лет, которое человек был клиеном банка есть пропуски. "
   ]
  },
  {
   "cell_type": "markdown",
   "metadata": {},
   "source": [
    "В соответствии с документацией в файле есть следующие данные:\n",
    "- RowNumber — индекс строки в данных\n",
    "- CustomerId — уникальный идентификатор клиента\n",
    "- Surname — фамилия\n",
    "- CreditScore — кредитный рейтинг\n",
    "- Geography — страна проживания\n",
    "- Gender — пол\n",
    "- Age — возраст\n",
    "- Tenure — сколько лет человек является клиентом банка\n",
    "- Balance — баланс на счёте\n",
    "- NumOfProducts — количество продуктов банка, используемых клиентом\n",
    "- HasCrCard — наличие кредитной карты\n",
    "- IsActiveMember — активность клиента\n",
    "- EstimatedSalary — предполагаемая зарплата\n",
    "- Exited — факт ухода клиента (целевой признак)"
   ]
  },
  {
   "cell_type": "markdown",
   "metadata": {},
   "source": [
    "Проверим, нет ли полностью дублирующихся строк:"
   ]
  },
  {
   "cell_type": "code",
   "execution_count": 5,
   "metadata": {},
   "outputs": [
    {
     "data": {
      "text/plain": [
       "0"
      ]
     },
     "execution_count": 5,
     "metadata": {},
     "output_type": "execute_result"
    }
   ],
   "source": [
    "df.duplicated().sum() # подсчет количества дублирующихся строй"
   ]
  },
  {
   "cell_type": "markdown",
   "metadata": {},
   "source": [
    "Полностью дублирующихся строк не обнаружено. Проверим количество уникальных значений в столбцах со страной проживания и полом клиента."
   ]
  },
  {
   "cell_type": "code",
   "execution_count": 6,
   "metadata": {},
   "outputs": [
    {
     "data": {
      "text/plain": [
       "array(['France', 'Spain', 'Germany'], dtype=object)"
      ]
     },
     "execution_count": 6,
     "metadata": {},
     "output_type": "execute_result"
    }
   ],
   "source": [
    "df['Geography'].unique() # просмотр уникальных значений"
   ]
  },
  {
   "cell_type": "code",
   "execution_count": 7,
   "metadata": {},
   "outputs": [
    {
     "data": {
      "text/plain": [
       "array(['Female', 'Male'], dtype=object)"
      ]
     },
     "execution_count": 7,
     "metadata": {},
     "output_type": "execute_result"
    }
   ],
   "source": [
    "df['Gender'].unique() # просмотр уникальных значений"
   ]
  },
  {
   "cell_type": "markdown",
   "metadata": {},
   "source": [
    "Стран всего три, а в графе с полом нет никаких неожиданностей, только женский и мужской пол."
   ]
  },
  {
   "cell_type": "markdown",
   "metadata": {},
   "source": [
    "У нас остались только не исследованы пропуски в графе со сроком, в течении которого человек был клиентом банка. Посмотрим 10 строк."
   ]
  },
  {
   "cell_type": "code",
   "execution_count": 8,
   "metadata": {},
   "outputs": [
    {
     "data": {
      "text/html": [
       "<div>\n",
       "<style scoped>\n",
       "    .dataframe tbody tr th:only-of-type {\n",
       "        vertical-align: middle;\n",
       "    }\n",
       "\n",
       "    .dataframe tbody tr th {\n",
       "        vertical-align: top;\n",
       "    }\n",
       "\n",
       "    .dataframe thead th {\n",
       "        text-align: right;\n",
       "    }\n",
       "</style>\n",
       "<table border=\"1\" class=\"dataframe\">\n",
       "  <thead>\n",
       "    <tr style=\"text-align: right;\">\n",
       "      <th></th>\n",
       "      <th>RowNumber</th>\n",
       "      <th>CustomerId</th>\n",
       "      <th>Surname</th>\n",
       "      <th>CreditScore</th>\n",
       "      <th>Geography</th>\n",
       "      <th>Gender</th>\n",
       "      <th>Age</th>\n",
       "      <th>Tenure</th>\n",
       "      <th>Balance</th>\n",
       "      <th>NumOfProducts</th>\n",
       "      <th>HasCrCard</th>\n",
       "      <th>IsActiveMember</th>\n",
       "      <th>EstimatedSalary</th>\n",
       "      <th>Exited</th>\n",
       "    </tr>\n",
       "  </thead>\n",
       "  <tbody>\n",
       "    <tr>\n",
       "      <th>30</th>\n",
       "      <td>31</td>\n",
       "      <td>15589475</td>\n",
       "      <td>Azikiwe</td>\n",
       "      <td>591</td>\n",
       "      <td>Spain</td>\n",
       "      <td>Female</td>\n",
       "      <td>39</td>\n",
       "      <td>NaN</td>\n",
       "      <td>0.00</td>\n",
       "      <td>3</td>\n",
       "      <td>1</td>\n",
       "      <td>0</td>\n",
       "      <td>140469.38</td>\n",
       "      <td>1</td>\n",
       "    </tr>\n",
       "    <tr>\n",
       "      <th>48</th>\n",
       "      <td>49</td>\n",
       "      <td>15766205</td>\n",
       "      <td>Yin</td>\n",
       "      <td>550</td>\n",
       "      <td>Germany</td>\n",
       "      <td>Male</td>\n",
       "      <td>38</td>\n",
       "      <td>NaN</td>\n",
       "      <td>103391.38</td>\n",
       "      <td>1</td>\n",
       "      <td>0</td>\n",
       "      <td>1</td>\n",
       "      <td>90878.13</td>\n",
       "      <td>0</td>\n",
       "    </tr>\n",
       "    <tr>\n",
       "      <th>51</th>\n",
       "      <td>52</td>\n",
       "      <td>15768193</td>\n",
       "      <td>Trevisani</td>\n",
       "      <td>585</td>\n",
       "      <td>Germany</td>\n",
       "      <td>Male</td>\n",
       "      <td>36</td>\n",
       "      <td>NaN</td>\n",
       "      <td>146050.97</td>\n",
       "      <td>2</td>\n",
       "      <td>0</td>\n",
       "      <td>0</td>\n",
       "      <td>86424.57</td>\n",
       "      <td>0</td>\n",
       "    </tr>\n",
       "    <tr>\n",
       "      <th>53</th>\n",
       "      <td>54</td>\n",
       "      <td>15702298</td>\n",
       "      <td>Parkhill</td>\n",
       "      <td>655</td>\n",
       "      <td>Germany</td>\n",
       "      <td>Male</td>\n",
       "      <td>41</td>\n",
       "      <td>NaN</td>\n",
       "      <td>125561.97</td>\n",
       "      <td>1</td>\n",
       "      <td>0</td>\n",
       "      <td>0</td>\n",
       "      <td>164040.94</td>\n",
       "      <td>1</td>\n",
       "    </tr>\n",
       "    <tr>\n",
       "      <th>60</th>\n",
       "      <td>61</td>\n",
       "      <td>15651280</td>\n",
       "      <td>Hunter</td>\n",
       "      <td>742</td>\n",
       "      <td>Germany</td>\n",
       "      <td>Male</td>\n",
       "      <td>35</td>\n",
       "      <td>NaN</td>\n",
       "      <td>136857.00</td>\n",
       "      <td>1</td>\n",
       "      <td>0</td>\n",
       "      <td>0</td>\n",
       "      <td>84509.57</td>\n",
       "      <td>0</td>\n",
       "    </tr>\n",
       "    <tr>\n",
       "      <th>82</th>\n",
       "      <td>83</td>\n",
       "      <td>15641732</td>\n",
       "      <td>Mills</td>\n",
       "      <td>543</td>\n",
       "      <td>France</td>\n",
       "      <td>Female</td>\n",
       "      <td>36</td>\n",
       "      <td>NaN</td>\n",
       "      <td>0.00</td>\n",
       "      <td>2</td>\n",
       "      <td>0</td>\n",
       "      <td>0</td>\n",
       "      <td>26019.59</td>\n",
       "      <td>0</td>\n",
       "    </tr>\n",
       "    <tr>\n",
       "      <th>85</th>\n",
       "      <td>86</td>\n",
       "      <td>15805254</td>\n",
       "      <td>Ndukaku</td>\n",
       "      <td>652</td>\n",
       "      <td>Spain</td>\n",
       "      <td>Female</td>\n",
       "      <td>75</td>\n",
       "      <td>NaN</td>\n",
       "      <td>0.00</td>\n",
       "      <td>2</td>\n",
       "      <td>1</td>\n",
       "      <td>1</td>\n",
       "      <td>114675.75</td>\n",
       "      <td>0</td>\n",
       "    </tr>\n",
       "    <tr>\n",
       "      <th>94</th>\n",
       "      <td>95</td>\n",
       "      <td>15676966</td>\n",
       "      <td>Capon</td>\n",
       "      <td>730</td>\n",
       "      <td>Spain</td>\n",
       "      <td>Male</td>\n",
       "      <td>42</td>\n",
       "      <td>NaN</td>\n",
       "      <td>0.00</td>\n",
       "      <td>2</td>\n",
       "      <td>0</td>\n",
       "      <td>1</td>\n",
       "      <td>85982.47</td>\n",
       "      <td>0</td>\n",
       "    </tr>\n",
       "    <tr>\n",
       "      <th>99</th>\n",
       "      <td>100</td>\n",
       "      <td>15633059</td>\n",
       "      <td>Fanucci</td>\n",
       "      <td>413</td>\n",
       "      <td>France</td>\n",
       "      <td>Male</td>\n",
       "      <td>34</td>\n",
       "      <td>NaN</td>\n",
       "      <td>0.00</td>\n",
       "      <td>2</td>\n",
       "      <td>0</td>\n",
       "      <td>0</td>\n",
       "      <td>6534.18</td>\n",
       "      <td>0</td>\n",
       "    </tr>\n",
       "    <tr>\n",
       "      <th>111</th>\n",
       "      <td>112</td>\n",
       "      <td>15665790</td>\n",
       "      <td>Rowntree</td>\n",
       "      <td>538</td>\n",
       "      <td>Germany</td>\n",
       "      <td>Male</td>\n",
       "      <td>39</td>\n",
       "      <td>NaN</td>\n",
       "      <td>108055.10</td>\n",
       "      <td>2</td>\n",
       "      <td>1</td>\n",
       "      <td>0</td>\n",
       "      <td>27231.26</td>\n",
       "      <td>0</td>\n",
       "    </tr>\n",
       "  </tbody>\n",
       "</table>\n",
       "</div>"
      ],
      "text/plain": [
       "     RowNumber  CustomerId    Surname  CreditScore Geography  Gender  Age  \\\n",
       "30          31    15589475    Azikiwe          591     Spain  Female   39   \n",
       "48          49    15766205        Yin          550   Germany    Male   38   \n",
       "51          52    15768193  Trevisani          585   Germany    Male   36   \n",
       "53          54    15702298   Parkhill          655   Germany    Male   41   \n",
       "60          61    15651280     Hunter          742   Germany    Male   35   \n",
       "82          83    15641732      Mills          543    France  Female   36   \n",
       "85          86    15805254    Ndukaku          652     Spain  Female   75   \n",
       "94          95    15676966      Capon          730     Spain    Male   42   \n",
       "99         100    15633059    Fanucci          413    France    Male   34   \n",
       "111        112    15665790   Rowntree          538   Germany    Male   39   \n",
       "\n",
       "     Tenure    Balance  NumOfProducts  HasCrCard  IsActiveMember  \\\n",
       "30      NaN       0.00              3          1               0   \n",
       "48      NaN  103391.38              1          0               1   \n",
       "51      NaN  146050.97              2          0               0   \n",
       "53      NaN  125561.97              1          0               0   \n",
       "60      NaN  136857.00              1          0               0   \n",
       "82      NaN       0.00              2          0               0   \n",
       "85      NaN       0.00              2          1               1   \n",
       "94      NaN       0.00              2          0               1   \n",
       "99      NaN       0.00              2          0               0   \n",
       "111     NaN  108055.10              2          1               0   \n",
       "\n",
       "     EstimatedSalary  Exited  \n",
       "30         140469.38       1  \n",
       "48          90878.13       0  \n",
       "51          86424.57       0  \n",
       "53         164040.94       1  \n",
       "60          84509.57       0  \n",
       "82          26019.59       0  \n",
       "85         114675.75       0  \n",
       "94          85982.47       0  \n",
       "99           6534.18       0  \n",
       "111         27231.26       0  "
      ]
     },
     "metadata": {},
     "output_type": "display_data"
    }
   ],
   "source": [
    "display((df.loc[df['Tenure'] != df['Tenure']]).head(10)) # используем логическую индексацию для поиска нужных строк"
   ]
  },
  {
   "cell_type": "markdown",
   "metadata": {},
   "source": [
    "Люди разных возрастов, из разных стран, разных полов и т.д. У них нет ни одного очевидного признака, который бы их объединил и объяснил отсутствие информации о пропусках в столбе Tenure. Предположу, что это скорее всего техническая ошибка при выгрузке данных. К сожалению, восстановить данную информацию без помощи сотрудников банка, не представляется возможным. Как подсказывает мне мой опыт в этой области, а также опыт моих коллег связь между тем сколько лет человек является клиентом банка и вероятностью его ухода, достаточно слабая при прочих равных условиях."
   ]
  },
  {
   "cell_type": "markdown",
   "metadata": {},
   "source": [
    "**Вывод**\n"
   ]
  },
  {
   "cell_type": "markdown",
   "metadata": {},
   "source": [
    "Первый анализ данных показал:\n",
    "- в таблице есть столбцы, которые нам не потребуются для построения модели. Их мы можем удалить.\n",
    "- полных дубликатов строк нет\n",
    "- в таблице есть категориальные значения: страна и пол человека. Их мы преобразуем с помошью прямого кодирования.\n",
    "- в столбце с количеством лет, которое человек был клиеном банка есть пропуски. Заполнять пропуски мы не будем, т.к у нас нет адекватной информации, через которую мы могли бы сами вычислить срок и нет возможности обратиться к сотрудникам банка. Этот столбец мы исключим из данных.\n",
    "- в данных есть количественные признаки с разным разбросом значений. Чтобы избежать ловушки, когда модель решит, что чем больше признак, тем он важнее, мы должны провести масштабирование."
   ]
  },
  {
   "cell_type": "markdown",
   "metadata": {},
   "source": [
    "### Подготовка данных перед построением модели"
   ]
  },
  {
   "cell_type": "markdown",
   "metadata": {},
   "source": [
    "В этом разделе мы удалим ненужные столбцы; преобразуем категориальные значения в числовые прямым кодированием; масштабируем количественные признаки; разделим выборку на три части: обучающую, валидационную и тестовую; в конце выделим в каждой выборке признаки и целевой признак."
   ]
  },
  {
   "cell_type": "code",
   "execution_count": 9,
   "metadata": {},
   "outputs": [],
   "source": [
    "сhurn = df.drop(['Surname', 'RowNumber', 'Tenure'], axis =1) # удаляем столбцы"
   ]
  },
  {
   "cell_type": "markdown",
   "metadata": {},
   "source": [
    "Столбик с уникальным идентификатором клиента мы преобразуем в индекс, т.к. для построения модели он не нужен, но есть вероятность, что в какой-то момент, нам нужно будет восстановить данные о каких-то клиентах."
   ]
  },
  {
   "cell_type": "code",
   "execution_count": 10,
   "metadata": {},
   "outputs": [],
   "source": [
    "сhurn = сhurn.set_index('CustomerId') # преобразовываем значения столбца в индексы"
   ]
  },
  {
   "cell_type": "code",
   "execution_count": 11,
   "metadata": {},
   "outputs": [
    {
     "data": {
      "text/html": [
       "<div>\n",
       "<style scoped>\n",
       "    .dataframe tbody tr th:only-of-type {\n",
       "        vertical-align: middle;\n",
       "    }\n",
       "\n",
       "    .dataframe tbody tr th {\n",
       "        vertical-align: top;\n",
       "    }\n",
       "\n",
       "    .dataframe thead th {\n",
       "        text-align: right;\n",
       "    }\n",
       "</style>\n",
       "<table border=\"1\" class=\"dataframe\">\n",
       "  <thead>\n",
       "    <tr style=\"text-align: right;\">\n",
       "      <th></th>\n",
       "      <th>CreditScore</th>\n",
       "      <th>Geography</th>\n",
       "      <th>Gender</th>\n",
       "      <th>Age</th>\n",
       "      <th>Balance</th>\n",
       "      <th>NumOfProducts</th>\n",
       "      <th>HasCrCard</th>\n",
       "      <th>IsActiveMember</th>\n",
       "      <th>EstimatedSalary</th>\n",
       "      <th>Exited</th>\n",
       "    </tr>\n",
       "    <tr>\n",
       "      <th>CustomerId</th>\n",
       "      <th></th>\n",
       "      <th></th>\n",
       "      <th></th>\n",
       "      <th></th>\n",
       "      <th></th>\n",
       "      <th></th>\n",
       "      <th></th>\n",
       "      <th></th>\n",
       "      <th></th>\n",
       "      <th></th>\n",
       "    </tr>\n",
       "  </thead>\n",
       "  <tbody>\n",
       "    <tr>\n",
       "      <th>15634602</th>\n",
       "      <td>619</td>\n",
       "      <td>France</td>\n",
       "      <td>Female</td>\n",
       "      <td>42</td>\n",
       "      <td>0.00</td>\n",
       "      <td>1</td>\n",
       "      <td>1</td>\n",
       "      <td>1</td>\n",
       "      <td>101348.88</td>\n",
       "      <td>1</td>\n",
       "    </tr>\n",
       "    <tr>\n",
       "      <th>15647311</th>\n",
       "      <td>608</td>\n",
       "      <td>Spain</td>\n",
       "      <td>Female</td>\n",
       "      <td>41</td>\n",
       "      <td>83807.86</td>\n",
       "      <td>1</td>\n",
       "      <td>0</td>\n",
       "      <td>1</td>\n",
       "      <td>112542.58</td>\n",
       "      <td>0</td>\n",
       "    </tr>\n",
       "    <tr>\n",
       "      <th>15619304</th>\n",
       "      <td>502</td>\n",
       "      <td>France</td>\n",
       "      <td>Female</td>\n",
       "      <td>42</td>\n",
       "      <td>159660.80</td>\n",
       "      <td>3</td>\n",
       "      <td>1</td>\n",
       "      <td>0</td>\n",
       "      <td>113931.57</td>\n",
       "      <td>1</td>\n",
       "    </tr>\n",
       "    <tr>\n",
       "      <th>15701354</th>\n",
       "      <td>699</td>\n",
       "      <td>France</td>\n",
       "      <td>Female</td>\n",
       "      <td>39</td>\n",
       "      <td>0.00</td>\n",
       "      <td>2</td>\n",
       "      <td>0</td>\n",
       "      <td>0</td>\n",
       "      <td>93826.63</td>\n",
       "      <td>0</td>\n",
       "    </tr>\n",
       "    <tr>\n",
       "      <th>15737888</th>\n",
       "      <td>850</td>\n",
       "      <td>Spain</td>\n",
       "      <td>Female</td>\n",
       "      <td>43</td>\n",
       "      <td>125510.82</td>\n",
       "      <td>1</td>\n",
       "      <td>1</td>\n",
       "      <td>1</td>\n",
       "      <td>79084.10</td>\n",
       "      <td>0</td>\n",
       "    </tr>\n",
       "  </tbody>\n",
       "</table>\n",
       "</div>"
      ],
      "text/plain": [
       "            CreditScore Geography  Gender  Age    Balance  NumOfProducts  \\\n",
       "CustomerId                                                                 \n",
       "15634602            619    France  Female   42       0.00              1   \n",
       "15647311            608     Spain  Female   41   83807.86              1   \n",
       "15619304            502    France  Female   42  159660.80              3   \n",
       "15701354            699    France  Female   39       0.00              2   \n",
       "15737888            850     Spain  Female   43  125510.82              1   \n",
       "\n",
       "            HasCrCard  IsActiveMember  EstimatedSalary  Exited  \n",
       "CustomerId                                                      \n",
       "15634602            1               1        101348.88       1  \n",
       "15647311            0               1        112542.58       0  \n",
       "15619304            1               0        113931.57       1  \n",
       "15701354            0               0         93826.63       0  \n",
       "15737888            1               1         79084.10       0  "
      ]
     },
     "metadata": {},
     "output_type": "display_data"
    }
   ],
   "source": [
    "display(сhurn.head()) # просмотр результата преобразования на примере первых 5 строк"
   ]
  },
  {
   "cell_type": "markdown",
   "metadata": {},
   "source": [
    "В наших данных есть два столбца с категориальными признаками: пол и страна проживания клиента. В столбце с полом у нас два варианта ответа: либо клиент женщина, либо мужчина. Стран проживания у нас три. Если мы просто выполним прямое кодирование, то получим несколько дополнительных взаимосвязанных столбца, например поскольку у нас в графе пол, только два варианта, то нет смысла под каждый создавать столбец. В графе страна проживания три варианта ответа, а если в таблицу добавились три новых столбца, сильно связанных между собой, один из них можно не добавлять. Восстановить столбец можно по оставшимся двум. Чтобы не попасть в дамми-ловушку мы добавим параметр drop_first=True, который удалит первый из образовавшихся новых столбцов. "
   ]
  },
  {
   "cell_type": "code",
   "execution_count": 12,
   "metadata": {},
   "outputs": [],
   "source": [
    "сhurn_ohe = pd.get_dummies(сhurn, drop_first=True) #преобразование категориальных признаков методом прямого кодирования"
   ]
  },
  {
   "cell_type": "code",
   "execution_count": 13,
   "metadata": {},
   "outputs": [
    {
     "data": {
      "text/html": [
       "<div>\n",
       "<style scoped>\n",
       "    .dataframe tbody tr th:only-of-type {\n",
       "        vertical-align: middle;\n",
       "    }\n",
       "\n",
       "    .dataframe tbody tr th {\n",
       "        vertical-align: top;\n",
       "    }\n",
       "\n",
       "    .dataframe thead th {\n",
       "        text-align: right;\n",
       "    }\n",
       "</style>\n",
       "<table border=\"1\" class=\"dataframe\">\n",
       "  <thead>\n",
       "    <tr style=\"text-align: right;\">\n",
       "      <th></th>\n",
       "      <th>CreditScore</th>\n",
       "      <th>Age</th>\n",
       "      <th>Balance</th>\n",
       "      <th>NumOfProducts</th>\n",
       "      <th>HasCrCard</th>\n",
       "      <th>IsActiveMember</th>\n",
       "      <th>EstimatedSalary</th>\n",
       "      <th>Exited</th>\n",
       "      <th>Geography_Germany</th>\n",
       "      <th>Geography_Spain</th>\n",
       "      <th>Gender_Male</th>\n",
       "    </tr>\n",
       "    <tr>\n",
       "      <th>CustomerId</th>\n",
       "      <th></th>\n",
       "      <th></th>\n",
       "      <th></th>\n",
       "      <th></th>\n",
       "      <th></th>\n",
       "      <th></th>\n",
       "      <th></th>\n",
       "      <th></th>\n",
       "      <th></th>\n",
       "      <th></th>\n",
       "      <th></th>\n",
       "    </tr>\n",
       "  </thead>\n",
       "  <tbody>\n",
       "    <tr>\n",
       "      <th>15634602</th>\n",
       "      <td>619</td>\n",
       "      <td>42</td>\n",
       "      <td>0.00</td>\n",
       "      <td>1</td>\n",
       "      <td>1</td>\n",
       "      <td>1</td>\n",
       "      <td>101348.88</td>\n",
       "      <td>1</td>\n",
       "      <td>0</td>\n",
       "      <td>0</td>\n",
       "      <td>0</td>\n",
       "    </tr>\n",
       "    <tr>\n",
       "      <th>15647311</th>\n",
       "      <td>608</td>\n",
       "      <td>41</td>\n",
       "      <td>83807.86</td>\n",
       "      <td>1</td>\n",
       "      <td>0</td>\n",
       "      <td>1</td>\n",
       "      <td>112542.58</td>\n",
       "      <td>0</td>\n",
       "      <td>0</td>\n",
       "      <td>1</td>\n",
       "      <td>0</td>\n",
       "    </tr>\n",
       "    <tr>\n",
       "      <th>15619304</th>\n",
       "      <td>502</td>\n",
       "      <td>42</td>\n",
       "      <td>159660.80</td>\n",
       "      <td>3</td>\n",
       "      <td>1</td>\n",
       "      <td>0</td>\n",
       "      <td>113931.57</td>\n",
       "      <td>1</td>\n",
       "      <td>0</td>\n",
       "      <td>0</td>\n",
       "      <td>0</td>\n",
       "    </tr>\n",
       "    <tr>\n",
       "      <th>15701354</th>\n",
       "      <td>699</td>\n",
       "      <td>39</td>\n",
       "      <td>0.00</td>\n",
       "      <td>2</td>\n",
       "      <td>0</td>\n",
       "      <td>0</td>\n",
       "      <td>93826.63</td>\n",
       "      <td>0</td>\n",
       "      <td>0</td>\n",
       "      <td>0</td>\n",
       "      <td>0</td>\n",
       "    </tr>\n",
       "    <tr>\n",
       "      <th>15737888</th>\n",
       "      <td>850</td>\n",
       "      <td>43</td>\n",
       "      <td>125510.82</td>\n",
       "      <td>1</td>\n",
       "      <td>1</td>\n",
       "      <td>1</td>\n",
       "      <td>79084.10</td>\n",
       "      <td>0</td>\n",
       "      <td>0</td>\n",
       "      <td>1</td>\n",
       "      <td>0</td>\n",
       "    </tr>\n",
       "  </tbody>\n",
       "</table>\n",
       "</div>"
      ],
      "text/plain": [
       "            CreditScore  Age    Balance  NumOfProducts  HasCrCard  \\\n",
       "CustomerId                                                          \n",
       "15634602            619   42       0.00              1          1   \n",
       "15647311            608   41   83807.86              1          0   \n",
       "15619304            502   42  159660.80              3          1   \n",
       "15701354            699   39       0.00              2          0   \n",
       "15737888            850   43  125510.82              1          1   \n",
       "\n",
       "            IsActiveMember  EstimatedSalary  Exited  Geography_Germany  \\\n",
       "CustomerId                                                               \n",
       "15634602                 1        101348.88       1                  0   \n",
       "15647311                 1        112542.58       0                  0   \n",
       "15619304                 0        113931.57       1                  0   \n",
       "15701354                 0         93826.63       0                  0   \n",
       "15737888                 1         79084.10       0                  0   \n",
       "\n",
       "            Geography_Spain  Gender_Male  \n",
       "CustomerId                                \n",
       "15634602                  0            0  \n",
       "15647311                  1            0  \n",
       "15619304                  0            0  \n",
       "15701354                  0            0  \n",
       "15737888                  1            0  "
      ]
     },
     "metadata": {},
     "output_type": "display_data"
    }
   ],
   "source": [
    "display(сhurn_ohe.head()) # просмотр первых 5 строк"
   ]
  },
  {
   "cell_type": "markdown",
   "metadata": {},
   "source": [
    "Разделим выборку на признаки (features) и целевой признак (target)."
   ]
  },
  {
   "cell_type": "code",
   "execution_count": 14,
   "metadata": {},
   "outputs": [],
   "source": [
    "target = сhurn_ohe['Exited'] #целевой признак\n",
    "features = сhurn_ohe.drop('Exited', axis=1) # признаки\n"
   ]
  },
  {
   "cell_type": "markdown",
   "metadata": {},
   "source": [
    "Для начала нам необходимо разделить данные на три части: на обучающую, валидационную и тестовую выборки. Обучающая выборка будет самой большой и вместит 60% данных. С помощью нее мы будем обучать модель. Вторая выборка валидационная (20% от объема данных), нужна нам для проверки качества работы алгоритма во время обучения модели. И последняя третья выборка - тестовая. Ее размер 20% от общего объема данных. На ней мы будем проверять качество обученной модели. Для начала извлечем из общего набора 40% данных, которые потом поделим попалам и одна часть будет у нас валидационной выборкой, а вторая тестовой."
   ]
  },
  {
   "cell_type": "code",
   "execution_count": 15,
   "metadata": {},
   "outputs": [],
   "source": [
    "features_train, features_valid_test, target_train, \\\n",
    " target_valid_test = train_test_split(features, target, test_size=0.4, random_state=12345)"
   ]
  },
  {
   "cell_type": "code",
   "execution_count": 16,
   "metadata": {},
   "outputs": [],
   "source": [
    "features_valid, features_test, target_valid, \\\n",
    " target_test = train_test_split(features_valid_test, target_valid_test, test_size=0.5, random_state=12345)"
   ]
  },
  {
   "cell_type": "code",
   "execution_count": 17,
   "metadata": {},
   "outputs": [
    {
     "data": {
      "text/plain": [
       "(6000, 10)"
      ]
     },
     "metadata": {},
     "output_type": "display_data"
    },
    {
     "data": {
      "text/plain": [
       "(6000,)"
      ]
     },
     "metadata": {},
     "output_type": "display_data"
    }
   ],
   "source": [
    "display(features_train.shape)\n",
    "display(target_train.shape)"
   ]
  },
  {
   "cell_type": "code",
   "execution_count": 18,
   "metadata": {},
   "outputs": [
    {
     "data": {
      "text/plain": [
       "(2000, 10)"
      ]
     },
     "metadata": {},
     "output_type": "display_data"
    },
    {
     "data": {
      "text/plain": [
       "(2000,)"
      ]
     },
     "metadata": {},
     "output_type": "display_data"
    }
   ],
   "source": [
    "display(features_valid.shape)\n",
    "display(target_valid.shape)"
   ]
  },
  {
   "cell_type": "code",
   "execution_count": 19,
   "metadata": {},
   "outputs": [
    {
     "data": {
      "text/plain": [
       "(2000, 10)"
      ]
     },
     "metadata": {},
     "output_type": "display_data"
    },
    {
     "data": {
      "text/plain": [
       "(2000,)"
      ]
     },
     "metadata": {},
     "output_type": "display_data"
    }
   ],
   "source": [
    "display(features_test.shape)\n",
    "display(target_test.shape)"
   ]
  },
  {
   "cell_type": "markdown",
   "metadata": {},
   "source": [
    "Разделение выборки выполнено успешно. Далее перейдем к масштабированию признаков. Выберем те столбцы, которые будем масштабировать и запишем их в переменную. Затем обучим scaler на обучающей выборке и только потом его применим к валидационной и тестовой выборкам."
   ]
  },
  {
   "cell_type": "code",
   "execution_count": 20,
   "metadata": {},
   "outputs": [
    {
     "data": {
      "text/html": [
       "<div>\n",
       "<style scoped>\n",
       "    .dataframe tbody tr th:only-of-type {\n",
       "        vertical-align: middle;\n",
       "    }\n",
       "\n",
       "    .dataframe tbody tr th {\n",
       "        vertical-align: top;\n",
       "    }\n",
       "\n",
       "    .dataframe thead th {\n",
       "        text-align: right;\n",
       "    }\n",
       "</style>\n",
       "<table border=\"1\" class=\"dataframe\">\n",
       "  <thead>\n",
       "    <tr style=\"text-align: right;\">\n",
       "      <th></th>\n",
       "      <th>CreditScore</th>\n",
       "      <th>Age</th>\n",
       "      <th>Balance</th>\n",
       "      <th>NumOfProducts</th>\n",
       "      <th>HasCrCard</th>\n",
       "      <th>IsActiveMember</th>\n",
       "      <th>EstimatedSalary</th>\n",
       "      <th>Geography_Germany</th>\n",
       "      <th>Geography_Spain</th>\n",
       "      <th>Gender_Male</th>\n",
       "    </tr>\n",
       "    <tr>\n",
       "      <th>CustomerId</th>\n",
       "      <th></th>\n",
       "      <th></th>\n",
       "      <th></th>\n",
       "      <th></th>\n",
       "      <th></th>\n",
       "      <th></th>\n",
       "      <th></th>\n",
       "      <th></th>\n",
       "      <th></th>\n",
       "      <th></th>\n",
       "    </tr>\n",
       "  </thead>\n",
       "  <tbody>\n",
       "    <tr>\n",
       "      <th>15671987</th>\n",
       "      <td>-0.886751</td>\n",
       "      <td>-0.373192</td>\n",
       "      <td>1.232271</td>\n",
       "      <td>-0.891560</td>\n",
       "      <td>1</td>\n",
       "      <td>0</td>\n",
       "      <td>-0.187705</td>\n",
       "      <td>0</td>\n",
       "      <td>1</td>\n",
       "      <td>1</td>\n",
       "    </tr>\n",
       "    <tr>\n",
       "      <th>15815628</th>\n",
       "      <td>0.608663</td>\n",
       "      <td>-0.183385</td>\n",
       "      <td>0.600563</td>\n",
       "      <td>-0.891560</td>\n",
       "      <td>0</td>\n",
       "      <td>0</td>\n",
       "      <td>-0.333945</td>\n",
       "      <td>0</td>\n",
       "      <td>0</td>\n",
       "      <td>0</td>\n",
       "    </tr>\n",
       "    <tr>\n",
       "      <th>15799494</th>\n",
       "      <td>2.052152</td>\n",
       "      <td>0.480939</td>\n",
       "      <td>1.027098</td>\n",
       "      <td>0.830152</td>\n",
       "      <td>0</td>\n",
       "      <td>1</td>\n",
       "      <td>1.503095</td>\n",
       "      <td>1</td>\n",
       "      <td>0</td>\n",
       "      <td>1</td>\n",
       "    </tr>\n",
       "    <tr>\n",
       "      <th>15711288</th>\n",
       "      <td>-1.457915</td>\n",
       "      <td>-1.417129</td>\n",
       "      <td>-1.233163</td>\n",
       "      <td>0.830152</td>\n",
       "      <td>1</td>\n",
       "      <td>0</td>\n",
       "      <td>-1.071061</td>\n",
       "      <td>0</td>\n",
       "      <td>0</td>\n",
       "      <td>1</td>\n",
       "    </tr>\n",
       "    <tr>\n",
       "      <th>15699492</th>\n",
       "      <td>0.130961</td>\n",
       "      <td>-1.132419</td>\n",
       "      <td>1.140475</td>\n",
       "      <td>-0.891560</td>\n",
       "      <td>0</td>\n",
       "      <td>0</td>\n",
       "      <td>1.524268</td>\n",
       "      <td>1</td>\n",
       "      <td>0</td>\n",
       "      <td>0</td>\n",
       "    </tr>\n",
       "  </tbody>\n",
       "</table>\n",
       "</div>"
      ],
      "text/plain": [
       "            CreditScore       Age   Balance  NumOfProducts  HasCrCard  \\\n",
       "CustomerId                                                              \n",
       "15671987      -0.886751 -0.373192  1.232271      -0.891560          1   \n",
       "15815628       0.608663 -0.183385  0.600563      -0.891560          0   \n",
       "15799494       2.052152  0.480939  1.027098       0.830152          0   \n",
       "15711288      -1.457915 -1.417129 -1.233163       0.830152          1   \n",
       "15699492       0.130961 -1.132419  1.140475      -0.891560          0   \n",
       "\n",
       "            IsActiveMember  EstimatedSalary  Geography_Germany  \\\n",
       "CustomerId                                                       \n",
       "15671987                 0        -0.187705                  0   \n",
       "15815628                 0        -0.333945                  0   \n",
       "15799494                 1         1.503095                  1   \n",
       "15711288                 0        -1.071061                  0   \n",
       "15699492                 0         1.524268                  1   \n",
       "\n",
       "            Geography_Spain  Gender_Male  \n",
       "CustomerId                                \n",
       "15671987                  1            1  \n",
       "15815628                  0            0  \n",
       "15799494                  0            1  \n",
       "15711288                  0            1  \n",
       "15699492                  0            0  "
      ]
     },
     "metadata": {},
     "output_type": "display_data"
    }
   ],
   "source": [
    "pd.options.mode.chained_assignment = None\n",
    "\n",
    "numeric = ['CreditScore', 'Age', 'Balance', 'NumOfProducts', 'EstimatedSalary']\n",
    "scaler = StandardScaler()\n",
    "scaler.fit(features_train[numeric]) \n",
    "features_train[numeric] = scaler.transform(features_train[numeric])\n",
    "features_valid[numeric] = scaler.transform(features_valid[numeric])\n",
    "features_test[numeric] = scaler.transform(features_test[numeric])\n",
    "\n",
    "\n",
    "\n",
    "display(features_train.head())\n"
   ]
  },
  {
   "cell_type": "markdown",
   "metadata": {},
   "source": [
    "**Вывод**\n"
   ]
  },
  {
   "cell_type": "markdown",
   "metadata": {},
   "source": [
    "В этом разделе мы выполнили все преобразования, которые нужны для дальнейшего построения моделей.\n",
    "- удалили ненужные столбцы\n",
    "- обработали категориальные значения методом прямого кодирования и при этом постарались избежать дамми-ловушек\n",
    "- масштабировали количественные данные"
   ]
  },
  {
   "cell_type": "markdown",
   "metadata": {},
   "source": [
    "## Исследование задачи"
   ]
  },
  {
   "cell_type": "markdown",
   "metadata": {},
   "source": [
    "### Построение моделей без учета дисбаланса классов"
   ]
  },
  {
   "cell_type": "markdown",
   "metadata": {},
   "source": [
    "Целевой признак у нас категориальный, поэтому нам предстоит решить задачу классификации. В этом разделе мы построим три модели: решающее дерево, случайный лес и логистическую регрессию без учета дисбаланса классов."
   ]
  },
  {
   "cell_type": "markdown",
   "metadata": {},
   "source": [
    "DecisionTreeClassifier - это структура для классификации деревом решений. В переменной model будет хранится наша модель. А чтобы запустить обучение вызовем метод fit(), которому передадим наши признаки и целевой признак. После обучения, вызовем метод predict() и передадим ему валидационную выборку для проверки работоспособности модели."
   ]
  },
  {
   "cell_type": "markdown",
   "metadata": {},
   "source": [
    "Поскольку от глубины дерева, будет зависеть как обучится модель, то попробуем в цикле подобрать оптимальную глубину дерева. Глубина дерева задается параметром max_depth. Решающее дерево легко переобучается, поэтому не стоит делать глубину очень большой. Оценивать, как обучилась модель будем по таким меткикам качества, как F1-мера и AUC-ROC. F1-мера является агрегирующей метрикой, которая является средим гармоническим полноты (recall) и точности (precision). Метрика AUC (площадь под графиком ROC-кривой) оценивает качество работы классификатора, вычисляющего вероятность принадлежности объекта к положительному классуЧем выше эти показатели, тем лучше обучилась модель."
   ]
  },
  {
   "cell_type": "code",
   "execution_count": 21,
   "metadata": {},
   "outputs": [
    {
     "name": "stdout",
     "output_type": "stream",
     "text": [
      "F1: 0.5528700906344411 ;max_depth = 5\n"
     ]
    }
   ],
   "source": [
    "best_model = None\n",
    "best_result = 0\n",
    "for depth in range(1, 6):\n",
    "    model = DecisionTreeClassifier(random_state=12345, max_depth=depth)\n",
    "    model.fit(features_train, target_train)\n",
    "    predicted_valid = model.predict(features_valid)\n",
    "    result = f1_score(target_valid, predicted_valid)\n",
    "    if result > best_result:\n",
    "        best_model = model\n",
    "        best_result = result \n",
    "\n",
    "print(\"F1:\", best_result,';' \"max_depth =\", depth)\n",
    "    "
   ]
  },
  {
   "cell_type": "code",
   "execution_count": 22,
   "metadata": {},
   "outputs": [
    {
     "name": "stdout",
     "output_type": "stream",
     "text": [
      "AUC-ROC: 0.8221680508592478\n"
     ]
    }
   ],
   "source": [
    "model = DecisionTreeClassifier(random_state=12345, max_depth=5)\n",
    "model.fit(features_train, target_train)\n",
    "predicted_valid = model.predict(features_valid)\n",
    "\n",
    "probabilities_valid = model.predict_proba(features_valid)\n",
    "probabilities_one_valid = probabilities_valid[:, 1]\n",
    "\n",
    "auc_roc = roc_auc_score(target_valid, probabilities_one_valid)\n",
    "\n",
    "print(\"AUC-ROC:\", auc_roc)"
   ]
  },
  {
   "cell_type": "markdown",
   "metadata": {},
   "source": [
    "Лучший результат показало дерево с глубиной max_depth = 5. Величина F1 0.5528, а  AUC 0,8222"
   ]
  },
  {
   "cell_type": "markdown",
   "metadata": {},
   "source": [
    "Еще один алгоритм - случайный лес. Алгоритм обучает большое количество независимых друг от друга деревьев, а потом принимает решение на основе голосования. Алгоритм случайного леса - RandomForestClassifier. Чтобы управлять количеством деревьев, есть параметр n_estimators. Чем больше деревьев, тем лучше результат, но модель будет учится дольше."
   ]
  },
  {
   "cell_type": "code",
   "execution_count": 23,
   "metadata": {},
   "outputs": [
    {
     "name": "stdout",
     "output_type": "stream",
     "text": [
      "F1: 0.5939741750358679 ;Число деревьев: 49\n"
     ]
    }
   ],
   "source": [
    "best_model = None\n",
    "best_result = 0\n",
    "for est in range(1, 50):\n",
    "    model = RandomForestClassifier(random_state=12345, n_estimators=est)\n",
    "    model.fit(features_train, target_train) \n",
    "    predicted_valid = model.predict(features_valid)\n",
    "    result = f1_score(target_valid, predicted_valid)\n",
    "    if result > best_result:\n",
    "        best_model = model\n",
    "        best_result = result \n",
    "\n",
    "print(\"F1:\", best_result,';' \"Число деревьев:\", est)"
   ]
  },
  {
   "cell_type": "code",
   "execution_count": 24,
   "metadata": {},
   "outputs": [
    {
     "name": "stdout",
     "output_type": "stream",
     "text": [
      "AUC-ROC: 0.828087666874346\n"
     ]
    }
   ],
   "source": [
    "model = RandomForestClassifier(random_state=12345, n_estimators=49)\n",
    "model.fit(features_train, target_train)\n",
    "predicted_valid = model.predict(features_valid)\n",
    "\n",
    "probabilities_valid = model.predict_proba(features_valid)\n",
    "probabilities_one_valid = probabilities_valid[:, 1]\n",
    "\n",
    "auc_roc = roc_auc_score(target_valid, probabilities_one_valid)\n",
    "\n",
    "print(\"AUC-ROC:\", auc_roc)"
   ]
  },
  {
   "cell_type": "markdown",
   "metadata": {},
   "source": [
    "Лучший результат показал лес из 49 деревьев. Величина F1 0.5940, а  AUC 0,8280"
   ]
  },
  {
   "cell_type": "markdown",
   "metadata": {},
   "source": [
    "Последним посмотрим такой алгоритм, как логистическую регрессию (LogisticRegression). Эта модель хороша, тем, что вероятность переобучения не велика, но при этом качество обучения у нее хуже, чем у случайного леса."
   ]
  },
  {
   "cell_type": "code",
   "execution_count": 25,
   "metadata": {},
   "outputs": [
    {
     "name": "stdout",
     "output_type": "stream",
     "text": [
      "F1: 0.3247863247863248\n",
      "AUC-ROC: 0.7576700197799406\n"
     ]
    }
   ],
   "source": [
    "model = LogisticRegression(random_state=12345)\n",
    "model.fit(features_train, target_train) \n",
    "predicted_valid = model.predict(features_valid)\n",
    "\n",
    "#print(\"Accuracy модели на валидационной выборке:\", accuracy_score(target_valid, predicted_valid)) \n",
    "print(\"F1:\", f1_score(target_valid, predicted_valid))\n",
    "\n",
    "probabilities_valid = model.predict_proba(features_valid)\n",
    "probabilities_one_valid = probabilities_valid[:, 1]\n",
    "\n",
    "auc_roc = roc_auc_score(target_valid, probabilities_one_valid)\n",
    "\n",
    "print(\"AUC-ROC:\", auc_roc)"
   ]
  },
  {
   "cell_type": "markdown",
   "metadata": {},
   "source": [
    "Хуже всего результат у логистической регрессии. Величина F1 0.3248, а AUC 0,7577"
   ]
  },
  {
   "cell_type": "markdown",
   "metadata": {},
   "source": [
    "Показатели AUC достаточно неплохие, но F1-мера больше 0,59, только у случайного леса. Насколько адекватен этот результат? Когда мы имеем дело с равными классами, то обучение модели идет равномерно. В случае с неравномерными классами модель при обучении воспринимает больший класс, как более важный и обучается неверно. Посмотрим баланс классов."
   ]
  },
  {
   "cell_type": "code",
   "execution_count": 26,
   "metadata": {},
   "outputs": [
    {
     "name": "stdout",
     "output_type": "stream",
     "text": [
      "0    0.800667\n",
      "1    0.199333\n",
      "Name: Exited, dtype: float64\n"
     ]
    },
    {
     "data": {
      "image/png": "[encoded data removed]",
      "text/plain": [
       "<Figure size 432x288 with 1 Axes>"
      ]
     },
     "metadata": {
      "needs_background": "light"
     },
     "output_type": "display_data"
    }
   ],
   "source": [
    "class_exited = target_train.value_counts(normalize=True)\n",
    "print(class_exited)\n",
    "class_exited.plot(kind='bar')\n",
    "plt.show()"
   ]
  },
  {
   "cell_type": "markdown",
   "metadata": {},
   "source": [
    "Количество клиентов покинувших банк всего 19,9%. Налицо дисбаланс классов. Дисбаланс приводит к появлению ложного впечатления о повышении точности модели, так как входные данные смещены в сторону одного класса и это смещение отражается на обученной модели."
   ]
  },
  {
   "cell_type": "markdown",
   "metadata": {},
   "source": [
    "**Вывод**"
   ]
  },
  {
   "cell_type": "markdown",
   "metadata": {},
   "source": [
    "В этом разделе мы построили три модели: решающее дерево, случайный лес и логистическую регрессию. Посчитали F1-меру и AUC-ROC для каждой из моделей. Лучший результат дал случайный лес с 49 деревьями. Но поскольку модель, обученная на несбалансированных данных дает неадекватные предсказания, мы проверили насколько сбалансироавны наши данные. Расчет показал, что у нас наблюдается дисбаланс данных. Следовательно модели построенные в этом разделе не пригодны для хорошего предсказания целевого признака."
   ]
  },
  {
   "cell_type": "markdown",
   "metadata": {},
   "source": [
    "## Борьба с дисбалансом"
   ]
  },
  {
   "cell_type": "markdown",
   "metadata": {},
   "source": [
    "Для борьбы с дибалансов в своей работе мы применим три метода: взвешивание классов, увеличение выборки и уменьшение выборки. В каждом из трех случаев мы будем строить три модели: решаюшее дерево, случайный лес и логистическую регрессию. Для оценки качества модели мы расчитаем такой показатель, как F1-мера. "
   ]
  },
  {
   "cell_type": "markdown",
   "metadata": {},
   "source": [
    "F1-мера является агрегирующей метрикой, которая является средим гармоническим полноты (recall) и точности (precision). "
   ]
  },
  {
   "cell_type": "markdown",
   "metadata": {},
   "source": [
    "### Взвешивание весов"
   ]
  },
  {
   "cell_type": "markdown",
   "metadata": {},
   "source": [
    "При построении моделей по умолчанию считается, что вес класса \"0\" и \"1\" одинаковый. В случае с дисбалансом нам если все оставить как есть, модель будет считать тот класс важнее, чей вес больше. Чтобы этого избежать нужно указать аргумент class_weight='balanced' ."
   ]
  },
  {
   "cell_type": "markdown",
   "metadata": {},
   "source": [
    "Постоим модель с помощью решающего дерева и посчитаем F1-меру и AUC-ROC."
   ]
  },
  {
   "cell_type": "code",
   "execution_count": 27,
   "metadata": {},
   "outputs": [
    {
     "name": "stdout",
     "output_type": "stream",
     "text": [
      "F1: 0.5963791267305644 ;max_depth = 5\n"
     ]
    }
   ],
   "source": [
    "best_model = None\n",
    "best_result = 0\n",
    "for depth in range(1, 6):\n",
    "    model = DecisionTreeClassifier(random_state=12345, max_depth=depth, class_weight='balanced')\n",
    "    model.fit(features_train, target_train)\n",
    "    predicted_valid = model.predict(features_valid)\n",
    "    result = f1_score(target_valid, predicted_valid)\n",
    "    if result > best_result:\n",
    "        best_model = model\n",
    "        best_result = result \n",
    "print(\"F1:\", best_result,';' \"max_depth =\", depth,)\n",
    "\n"
   ]
  },
  {
   "cell_type": "code",
   "execution_count": 28,
   "metadata": {},
   "outputs": [
    {
     "name": "stdout",
     "output_type": "stream",
     "text": [
      "AUC-ROC: 0.8310244134068074\n"
     ]
    }
   ],
   "source": [
    "model = DecisionTreeClassifier(random_state=12345, max_depth=5, class_weight='balanced')\n",
    "model.fit(features_train, target_train)\n",
    "predicted_valid = model.predict(features_valid)\n",
    "\n",
    "probabilities_valid = model.predict_proba(features_valid)\n",
    "probabilities_one_valid = probabilities_valid[:, 1]\n",
    "\n",
    "auc_roc = roc_auc_score(target_valid, probabilities_one_valid)\n",
    "\n",
    "print(\"AUC-ROC:\", auc_roc)"
   ]
  },
  {
   "cell_type": "markdown",
   "metadata": {},
   "source": [
    "Лучший результат показало дерево с max_depth = 5. Далее мы не будем делать подбор глубины дерева, а будем использовать глубину указанную как лучшую при постоении этой модели (мы уже дважды получили этот результат как лучший)"
   ]
  },
  {
   "cell_type": "markdown",
   "metadata": {},
   "source": [
    "Следующей постоим модель случайного леса. Для подбора лучших гиперпараметров применим GridSearchCV. Гиперпараметры, которые мы будем подбирать - это количество деревьев и глубина деревьев. В отличие от решающего дерева, где глубина должна быть не очень большой, а то модель сильно переучится, в случайном лесе наоборот рекомендуют применять большое количество деревьев с большой глубиной (т.е. большое количество по сути переученных деревьев)."
   ]
  },
  {
   "cell_type": "code",
   "execution_count": 29,
   "metadata": {},
   "outputs": [
    {
     "name": "stdout",
     "output_type": "stream",
     "text": [
      "{'max_depth': 8, 'n_estimators': 90}\n"
     ]
    }
   ],
   "source": [
    "clf = RandomForestClassifier(random_state=12345)\n",
    "parametrs = { 'n_estimators': range (10, 100, 10),\n",
    "              'max_depth': range (1,20, 1),\n",
    "            }\n",
    "grid = GridSearchCV(clf, parametrs, cv = None)\n",
    "grid.fit(features_train, target_train)\n",
    "print(grid.best_params_)"
   ]
  },
  {
   "cell_type": "markdown",
   "metadata": {},
   "source": [
    "Лучшее соотношение - это 90 деревьев с глубиной 8. Применим величины этих гиперпараметров и построим модель."
   ]
  },
  {
   "cell_type": "code",
   "execution_count": 30,
   "metadata": {},
   "outputs": [
    {
     "name": "stdout",
     "output_type": "stream",
     "text": [
      "F1: 0.6267682263329706\n",
      "AUC-ROC: 0.8558597317912641\n"
     ]
    }
   ],
   "source": [
    "model = RandomForestClassifier(random_state=12345, n_estimators=90, max_depth=8, class_weight='balanced')\n",
    "model.fit(features_train, target_train)\n",
    "predicted_valid = model.predict(features_valid)\n",
    "print(\"F1:\", f1_score(target_valid, predicted_valid))\n",
    "\n",
    "probabilities_valid = model.predict_proba(features_valid)\n",
    "probabilities_one_valid = probabilities_valid[:, 1]\n",
    "\n",
    "auc_roc = roc_auc_score(target_valid, probabilities_one_valid)\n",
    "\n",
    "print(\"AUC-ROC:\", auc_roc)"
   ]
  },
  {
   "cell_type": "markdown",
   "metadata": {},
   "source": [
    "Результат лучше, чем у решающего дерева. Теперь посмотрим логистическую регрессию:"
   ]
  },
  {
   "cell_type": "code",
   "execution_count": 31,
   "metadata": {},
   "outputs": [
    {
     "name": "stdout",
     "output_type": "stream",
     "text": [
      "F1: 0.4875536480686695\n",
      "AUC-ROC: 0.7626089560183645\n"
     ]
    }
   ],
   "source": [
    "model = LogisticRegression(random_state=12345, solver='liblinear', class_weight='balanced')\n",
    "model.fit(features_train, target_train)\n",
    "predicted_valid = model.predict(features_valid)\n",
    "print(\"F1:\", f1_score(target_valid, predicted_valid))\n",
    "\n",
    "probabilities_valid = model.predict_proba(features_valid)\n",
    "probabilities_one_valid = probabilities_valid[:, 1]\n",
    "\n",
    "auc_roc = roc_auc_score(target_valid, probabilities_one_valid)\n",
    "\n",
    "print(\"AUC-ROC:\", auc_roc)"
   ]
  },
  {
   "cell_type": "markdown",
   "metadata": {},
   "source": [
    "Опять у логистической регрессии самый низкий результат."
   ]
  },
  {
   "cell_type": "markdown",
   "metadata": {},
   "source": [
    "**Вывод**\n"
   ]
  },
  {
   "cell_type": "markdown",
   "metadata": {},
   "source": [
    "Взвешивание весов позволило нам обучить модели так, что показатели F1-меры и AUC-ROC стали больше, чем у моделей, построенных без учета дисбаланса. \n",
    "- Для решающего дерева F1-мера увеличилась с 0,5528 до 0,5964, а AUC увеличилась с 0,8222 до 0,8310. \n",
    "- Для случайного леса F1-мера увеличилась с 0,5940 до 0,6268, а AUC увеличилась с 0,8280 до 0,8559.\n",
    "- Для логистической регрессии F1-мера увеличилась с 0,3248 до 0,4876, а AUC увеличилась с 0,7577 до 0,7626."
   ]
  },
  {
   "cell_type": "markdown",
   "metadata": {},
   "source": [
    "### Увеличение выборки (upsampling)"
   ]
  },
  {
   "cell_type": "markdown",
   "metadata": {},
   "source": [
    "Еше одним методом борьбы с дисбалансом является upsampling. Суть его в том, чтобы разделить выборку по классам, а потом скопировать выборку с меньшим классом столько раз, сколько нужно для того, чтобы ее размер стал примерно такой же как размер выборки с большим классом. Затем выборки объединяют, перемешивают и данные готовы к построению модели. "
   ]
  },
  {
   "cell_type": "code",
   "execution_count": 32,
   "metadata": {},
   "outputs": [
    {
     "name": "stdout",
     "output_type": "stream",
     "text": [
      "(8392, 10)\n",
      "(8392,)\n"
     ]
    }
   ],
   "source": [
    "def upsample(features_train, target_train, repeat):\n",
    "    features_zeros = features_train[target_train == 0]\n",
    "    features_ones = features_train[target_train == 1]\n",
    "    target_zeros = target_train[target_train == 0]\n",
    "    target_ones = target_train[target_train == 1]\n",
    "    repeat = 3\n",
    "    features_upsampled = pd.concat([features_zeros] + [features_ones] * repeat)\n",
    "    target_upsampled = pd.concat([target_zeros] + [target_ones] * repeat)\n",
    "    features_upsampled = shuffle(features_upsampled, random_state=12345)\n",
    "    target_upsampled = shuffle(target_upsampled, random_state=12345)\n",
    "\n",
    "    return features_upsampled, target_upsampled \n",
    "\n",
    "\n",
    "features_upsampled, target_upsampled = upsample(features_train, target_train, 3)\n",
    "\n",
    "print(features_upsampled.shape)\n",
    "print(target_upsampled.shape)"
   ]
  },
  {
   "cell_type": "markdown",
   "metadata": {},
   "source": [
    "С учетом увеличенния выборки построим модель с помощью решающего дерева с глубиной 5."
   ]
  },
  {
   "cell_type": "code",
   "execution_count": 33,
   "metadata": {},
   "outputs": [
    {
     "name": "stdout",
     "output_type": "stream",
     "text": [
      "F1: 0.586374695863747\n",
      "AUC-ROC: 0.8229097986317362\n"
     ]
    }
   ],
   "source": [
    "model = DecisionTreeClassifier(random_state=12345, max_depth=5)\n",
    "model.fit(features_upsampled, target_upsampled)\n",
    "predicted_valid = model.predict(features_valid)\n",
    "    \n",
    "print(\"F1:\", f1_score(target_valid, predicted_valid))\n",
    "\n",
    "probabilities_valid = model.predict_proba(features_valid)\n",
    "probabilities_one_valid = probabilities_valid[:, 1]\n",
    "\n",
    "auc_roc = roc_auc_score(target_valid, probabilities_one_valid)\n",
    "\n",
    "print(\"AUC-ROC:\", auc_roc)"
   ]
  },
  {
   "cell_type": "markdown",
   "metadata": {},
   "source": [
    "F1-мера равна 0,5863, а AUC равен 0,8229, что меньше, чем при взвешивании весов. Теперь посмотрим на случайный лес с глубиной 8 и количеством деревьев 90."
   ]
  },
  {
   "cell_type": "code",
   "execution_count": 34,
   "metadata": {},
   "outputs": [
    {
     "name": "stdout",
     "output_type": "stream",
     "text": [
      "F1: 0.6293706293706294\n",
      "AUC-ROC: 0.8544858727671955\n"
     ]
    }
   ],
   "source": [
    "model = RandomForestClassifier(random_state=12345, n_estimators=90, max_depth=8)\n",
    "model.fit(features_upsampled, target_upsampled)\n",
    "predicted_valid = model.predict(features_valid)\n",
    "print(\"F1:\", f1_score(target_valid, predicted_valid))\n",
    "\n",
    "probabilities_valid = model.predict_proba(features_valid)\n",
    "probabilities_one_valid = probabilities_valid[:, 1]\n",
    "\n",
    "auc_roc = roc_auc_score(target_valid, probabilities_one_valid)\n",
    "\n",
    "print(\"AUC-ROC:\", auc_roc)"
   ]
  },
  {
   "cell_type": "markdown",
   "metadata": {},
   "source": [
    "F1-мера 0,6294, AUC 0,8545. Пока это лучший результат на валидационной выборке. Далее логистическая регрессия:"
   ]
  },
  {
   "cell_type": "code",
   "execution_count": 35,
   "metadata": {},
   "outputs": [
    {
     "name": "stdout",
     "output_type": "stream",
     "text": [
      "F1: 0.5\n",
      "AUC-ROC: 0.7616456668622482\n"
     ]
    }
   ],
   "source": [
    "model = LogisticRegression(random_state=12345, solver='liblinear')\n",
    "model.fit(features_upsampled, target_upsampled)\n",
    "predicted_valid = model.predict(features_valid)\n",
    "print(\"F1:\", f1_score(target_valid, predicted_valid))\n",
    "\n",
    "probabilities_valid = model.predict_proba(features_valid)\n",
    "probabilities_one_valid = probabilities_valid[:, 1]\n",
    "\n",
    "auc_roc = roc_auc_score(target_valid, probabilities_one_valid)\n",
    "\n",
    "print(\"AUC-ROC:\", auc_roc)"
   ]
  },
  {
   "cell_type": "markdown",
   "metadata": {},
   "source": [
    "F1-мера 0,5, AUC 0,7616. Величина F1-меры выше, чем у этого же вида модели при взвешивании весов, но все равно не достаточная."
   ]
  },
  {
   "cell_type": "markdown",
   "metadata": {},
   "source": [
    "### Уменьшение выборки (downsampling)."
   ]
  },
  {
   "cell_type": "markdown",
   "metadata": {},
   "source": [
    "Downsampling похож по на upsampling, с той разницей, что мы вместо увеличения меньшего класса, делаем уменьшение большего класса. Т.е. мы опять делим выборку на два класса и больший уменьшаем до размера меньшего, затем объединяем и перемешиваем данные. Данный метод хорош, когда данных в достатке, на малом количестве лучше не использовать. Наша выборка не велика, но мы все равно попробуем применить downsampling, для чистоты эксперимента."
   ]
  },
  {
   "cell_type": "code",
   "execution_count": 36,
   "metadata": {},
   "outputs": [
    {
     "name": "stdout",
     "output_type": "stream",
     "text": [
      "(2637, 10)\n",
      "(2637,)\n"
     ]
    }
   ],
   "source": [
    "def downsample(features_train, target_train, fraction):\n",
    "    features_zeros = features_train[target_train == 0]\n",
    "    features_ones = features_train[target_train == 1]\n",
    "    target_zeros = target_train[target_train == 0]\n",
    "    target_ones = target_train[target_train == 1]\n",
    "\n",
    "    features_downsampled = pd.concat([features_zeros.sample(frac=fraction, random_state=12345)] + [features_ones])\n",
    "    target_downsampled = pd.concat([target_zeros.sample(frac=fraction, random_state=12345)] + [target_ones])\n",
    "    \n",
    "    features_downsampled, target_downsampled = shuffle(features_downsampled, target_downsampled, random_state=12345)\n",
    "    \n",
    "    return features_downsampled, target_downsampled\n",
    "\n",
    "features_downsampled, target_downsampled = downsample(features_train, target_train, 0.3)\n",
    "\n",
    "print(features_downsampled.shape)\n",
    "print(target_downsampled.shape)"
   ]
  },
  {
   "cell_type": "markdown",
   "metadata": {},
   "source": [
    "От нашей первоначальной обучающей выборки осталось меньше половины данных. Попробуем постоить модель с помошью решающего дерева."
   ]
  },
  {
   "cell_type": "code",
   "execution_count": 37,
   "metadata": {},
   "outputs": [
    {
     "name": "stdout",
     "output_type": "stream",
     "text": [
      "F1: 0.579212916246216\n",
      "AUC-ROC: 0.8141109007434112\n"
     ]
    }
   ],
   "source": [
    "model = DecisionTreeClassifier(random_state=12345, max_depth=5)\n",
    "model.fit(features_downsampled, target_downsampled)\n",
    "predicted_valid = model.predict(features_valid)\n",
    "    \n",
    "print(\"F1:\", f1_score(target_valid, predicted_valid))\n",
    "\n",
    "probabilities_valid = model.predict_proba(features_valid)\n",
    "probabilities_one_valid = probabilities_valid[:, 1]\n",
    "\n",
    "auc_roc = roc_auc_score(target_valid, probabilities_one_valid)\n",
    "\n",
    "print(\"AUC-ROC:\", auc_roc)"
   ]
  },
  {
   "cell_type": "markdown",
   "metadata": {},
   "source": [
    "На валидационной выборке в данном случае величина f1-меры 0,5792, что меньше, чем предыдущие два результата. "
   ]
  },
  {
   "cell_type": "code",
   "execution_count": 38,
   "metadata": {},
   "outputs": [
    {
     "name": "stdout",
     "output_type": "stream",
     "text": [
      "F1: 0.615859938208033\n",
      "AUC-ROC: 0.8538310780974963\n"
     ]
    }
   ],
   "source": [
    "model = RandomForestClassifier(random_state=12345, n_estimators=90, max_depth=8)\n",
    "model.fit(features_downsampled, target_downsampled)\n",
    "predicted_valid = model.predict(features_valid)\n",
    "print(\"F1:\", f1_score(target_valid, predicted_valid))\n",
    "\n",
    "probabilities_valid = model.predict_proba(features_valid)\n",
    "probabilities_one_valid = probabilities_valid[:, 1]\n",
    "\n",
    "auc_roc = roc_auc_score(target_valid, probabilities_one_valid)\n",
    "\n",
    "print(\"AUC-ROC:\", auc_roc)"
   ]
  },
  {
   "cell_type": "markdown",
   "metadata": {},
   "source": [
    "У случайного леса тоже величина F1-меры меньше, чем в предыдущих аналогичных моделях. Всего 0,6159"
   ]
  },
  {
   "cell_type": "code",
   "execution_count": 39,
   "metadata": {},
   "outputs": [
    {
     "name": "stdout",
     "output_type": "stream",
     "text": [
      "F1: 0.49810606060606055\n",
      "AUC-ROC: 0.7631639436483405\n"
     ]
    }
   ],
   "source": [
    "model = LogisticRegression(random_state=12345, solver='liblinear')\n",
    "model.fit(features_downsampled, target_downsampled)\n",
    "predicted_valid = model.predict(features_valid)\n",
    "print(\"F1:\", f1_score(target_valid, predicted_valid))\n",
    "\n",
    "probabilities_valid = model.predict_proba(features_valid)\n",
    "probabilities_one_valid = probabilities_valid[:, 1]\n",
    "\n",
    "auc_roc = roc_auc_score(target_valid, probabilities_one_valid)\n",
    "\n",
    "print(\"AUC-ROC:\", auc_roc)"
   ]
  },
  {
   "cell_type": "markdown",
   "metadata": {},
   "source": [
    "F1-мера 0,4981, AUC 0,7632. У логистической регрессии результат AUC получился выше, чем во всех моделях этого вида."
   ]
  },
  {
   "cell_type": "markdown",
   "metadata": {},
   "source": [
    "**Вывод**\n"
   ]
  },
  {
   "cell_type": "markdown",
   "metadata": {},
   "source": [
    "В данном разделе мы боролись с дисбалансом классов. Мы применили следующие методы: взвешивание классов, увеличение выборки и уменьшение выборки. Для каждого из методов мы постоили три модели: решаюшее дерево, случайный лес и логистическую регрессию. Для каждой модели посчиталь такую метрику качества как F1-меру и AUC-ROC. Результат получился следующий:\n",
    "- наибольший показатель F1-меры дала модель, построенная с помощью случайного леса с глубиной деревьев 8 и количеством деревьев 90, в которой для борьбы с дисбалансом использовалось увеличение обучающей выборки (upsampling).\n",
    "- логистическая регрессия во всех трех случаях давала низкое значение F1-меры.\n",
    "- в целом все три модели дали лучшие значения F1-меры при увеличении выборки, для борьбы с дисбалансом\n",
    "\n"
   ]
  },
  {
   "cell_type": "markdown",
   "metadata": {},
   "source": [
    "Для трех видов моделей на основе двух метрик качества вместе (F1-меры и AUC-ROC) можно сказать следующее:\n",
    "- для решающего дерева лучший результат дала борьба с дисбалансом путем взвешивания весов. F1-мера 0,5964 и AUC-ROC 0,8310\n",
    "- для случайного леса лучший результат дала борьба с дисбалансом путем увеличения выборки. F1-мера 0,6294 и AUC-ROC 0,8545\n",
    "- для логистической регрессии увеличение выборки и уменьшение дало примерно одинаковые результаты: при увеличении выборки F1-мера 0,5 и AUC-ROC 0,7616; при уменьшении выборки F1-мера 0,4981 и AUC-ROC 0,7632. "
   ]
  },
  {
   "cell_type": "markdown",
   "metadata": {},
   "source": [
    "## Тестирование модели"
   ]
  },
  {
   "cell_type": "markdown",
   "metadata": {},
   "source": [
    "Для того чтобы проверить работоспособность уже обученной модели, проверим ее на тестовой выборке. Если модель обучилась достаточно хорошо и нет переобучения и недообучения, то показатель F1-меры на тестовой выборке будет близок к показателю F1-меры на валидационной выборке."
   ]
  },
  {
   "cell_type": "markdown",
   "metadata": {},
   "source": [
    "В предыдущем разделе лучшей признали модель, обученную с помощью случайного леса с глубиной деревьев 8 и количеством деревьев 90. Для борьбы с дисбалансов использовалось увеличение обучающей выборки (upsampling)."
   ]
  },
  {
   "cell_type": "code",
   "execution_count": 40,
   "metadata": {},
   "outputs": [
    {
     "name": "stdout",
     "output_type": "stream",
     "text": [
      "F1: 0.6111111111111112\n"
     ]
    }
   ],
   "source": [
    "model = RandomForestClassifier(random_state=12345, n_estimators=90, max_depth=8)\n",
    "model.fit(features_upsampled, target_upsampled)\n",
    "predicted_test = model.predict(features_test)\n",
    "print(\"F1:\", f1_score(target_test, predicted_test))"
   ]
  },
  {
   "cell_type": "markdown",
   "metadata": {},
   "source": [
    "Показатель F1-меры обученной модели на тестовой выборки чуть ниже, чем на валидационной, но не значительно."
   ]
  },
  {
   "cell_type": "markdown",
   "metadata": {},
   "source": [
    "Вычисляем AUC-ROC (площадь под кривой ошибок) для тестовой части модели, чтобы определить ее качество."
   ]
  },
  {
   "cell_type": "code",
   "execution_count": 41,
   "metadata": {},
   "outputs": [
    {
     "name": "stdout",
     "output_type": "stream",
     "text": [
      "AUC-ROC: 0.8588426119558487\n"
     ]
    },
    {
     "data": {
      "image/png": "[encoded data removed]",
      "text/plain": [
       "<Figure size 432x288 with 1 Axes>"
      ]
     },
     "metadata": {
      "needs_background": "light"
     },
     "output_type": "display_data"
    }
   ],
   "source": [
    "model = RandomForestClassifier(random_state=12345, n_estimators=90, max_depth=8)\n",
    "model.fit(features_upsampled, target_upsampled)\n",
    "\n",
    "probabilities_test = model.predict_proba(features_test)\n",
    "probabilities_one_test = probabilities_test[:, 1]\n",
    "\n",
    "auc_roc = roc_auc_score(target_test, probabilities_one_test)\n",
    "\n",
    "print(\"AUC-ROC:\", auc_roc)\n",
    "\n",
    "fpr, tpr, thresholds = roc_curve(target_valid, probabilities_one_valid)\n",
    "\n",
    "plt.figure()\n",
    "\n",
    "plt.plot(fpr, tpr)\n",
    "\n",
    "plt.plot([0, 1], [0, 1], linestyle='--')\n",
    "\n",
    "\n",
    "plt.xlabel('False Positive Rate')\n",
    "plt.ylabel('True Positive Rate')\n",
    "plt.ylim([0.0, 1.0])\n",
    "plt.xlim([0.0, 1.0])\n",
    "plt.title('ROC-кривая') \n",
    "\n",
    "plt.show()"
   ]
  },
  {
   "cell_type": "markdown",
   "metadata": {},
   "source": [
    "Чем больше значение AUC, тем «лучше» модель классификации. При прогнозировании вероятности чем больший мы можем получить TPR при меньшем FPR, тем лучше качество классификатора. Метрика AUC (площадьпод графиком ROC-кривой) оценивает качество работы классификатора, вычисляющего вероятность принадлежности объекта к положительному классу. Если AUC -1, то модель идеально определяет классы. В нашем случае показатель 0,8588 - это достаточно хорошо, но пока не идеально."
   ]
  },
  {
   "cell_type": "markdown",
   "metadata": {},
   "source": [
    "## Общий вывод"
   ]
  },
  {
   "cell_type": "markdown",
   "metadata": {},
   "source": [
    "В данном проекте мы попытались построить модель, которая на основе данных банка предсказывала бы уйдет клиент из банка в ближайшее время или нет."
   ]
  },
  {
   "cell_type": "markdown",
   "metadata": {},
   "source": [
    "В первой части проекта мы изучили данные из файла и определили какую предобработку необходимо сделать. В этой же части проекта мы:\n",
    "- удалили ненужные столбцы\n",
    "- обработали категориальные значения методом прямого кодирования и при этом постарались избежать дамми-ловушек\n",
    "- масштабировали количественные данные"
   ]
  },
  {
   "cell_type": "markdown",
   "metadata": {},
   "source": [
    "В самом конце первого раздела, мы разделили данные на признаки и целевой признак, а также поделили выборку на три части: обучающую (60%), валидационную (20%) и тестовую (20%)"
   ]
  },
  {
   "cell_type": "markdown",
   "metadata": {},
   "source": [
    "Во втором разделе проекта мы построили три модели: решающее дерево, случайный лес и логистическую регрессию без учета дисбаланса классов. Для каждой модели расчитали F1-меру и AUC-ROC. Лучший результать F1-меры и AUC-ROC на валидационной выборки получен в моделе построенной случайным лесом с количеством деревьев 49. Также в этом разделе мы обнаружили дисбаланс классов и признали наши модели построенные без учета этого дисбаланса непригодными."
   ]
  },
  {
   "cell_type": "markdown",
   "metadata": {},
   "source": [
    "Для моделей без учета дисбаланса мы получали следующие метрики качества:\n",
    "- решающее дерево F1-мера 0,5528 и AUC-ROC 0,8222\n",
    "- случайный лес F1-мера 0,5940 и AUC-ROC 0,8280\n",
    "- логистическая регрессия F1-мера 0,3248 и AUC-ROC 0,7577"
   ]
  },
  {
   "cell_type": "markdown",
   "metadata": {},
   "source": [
    "В третьем пункте мы боролись с дисбалансом классов. Мы применили следующие методы: взвешивание классов, увеличение выборки и уменьшение выборки. Для каждого из методов мы постоили три модели: решаюшее дерево, случайный лес и логистическую регрессию. Для каждой модели посчиталь такую метрику качества как F1-меру. Результат получился следующий:\n",
    "\n",
    "- наибольший показатель F1-меры дала модель построенная с помощью случайного леса с глубиной деревьев 8 и количеством - деревьев 90, в которой для борьбы с дисбалансом, использовалось увеличение обучающей выборки (upsampling).\n",
    "- логистическая регрессия во всех трех случаях давала низкое значение F1-меры.\n",
    "- в целом все три модели дали лучшие значения F1-меры при увеличении выборки, для борьбы с дисбалансом\n",
    "- применение downsampling привело к тому, что обучающая выборка стала очень мала. Несмотря на то, что показатель F1-меры получился неплохой, считаю нецелесообразным использовать все три модели построенные на уменьшенной выборке, т.к. возможно недообучение и на новых данных готовая модель будет плохо работать."
   ]
  },
  {
   "cell_type": "markdown",
   "metadata": {},
   "source": [
    "Для трех видов моделей на основе двух метрик качества вместе (F1-меры и AUC-ROC) можно сказать следующее:\n",
    "- для решающего дерева лучший результат дала борьба с дисбалансом путем взвешивания весов. F1-мера 0,5964 и AUC-ROC 0,8310\n",
    "- для случайного леса лучший результат дала борьба с дисбалансом путем увеличения выборки. F1-мера 0,6294 и AUC-ROC 0,8545\n",
    "- для логистической регрессии увеличение выборки и уменьшение дало примерно одинаковые результаты: при увеличении выборки F1-мера 0,5 и AUC-ROC 0,7616; при уменьшении выборки F1-мера 0,4981 и AUC-ROC 0,7632. "
   ]
  },
  {
   "cell_type": "markdown",
   "metadata": {},
   "source": [
    "В четвертом разделе мы проводили тестирование нашей лучшей модели - модели построенной с помощью случайного леса с глубиной деревьев 8 и количеством - деревьев 90, в которой для борьбы с дисбалансом, использовалось увеличение обучающей выборки (upsampling)."
   ]
  },
  {
   "cell_type": "markdown",
   "metadata": {},
   "source": [
    "F1-мера равна 0,61. Это значение выше, чем 0,59, которое было указано как минимальное в задании. "
   ]
  },
  {
   "cell_type": "markdown",
   "metadata": {},
   "source": [
    "Также в этом разделе мы построили ROC-кривую и расчитали AUC-ROC. Результат 0,8588 - это достаточно хорошо, но пока не идеально."
   ]
  },
  {
   "cell_type": "code",
   "execution_count": null,
   "metadata": {},
   "outputs": [],
   "source": []
  },
  {
   "cell_type": "code",
   "execution_count": null,
   "metadata": {},
   "outputs": [],
   "source": []
  }
 ],
 "metadata": {
  "ExecuteTimeLog": [
   {
    "duration": 1167,
    "start_time": "2022-03-27T08:05:26.004Z"
   },
   {
    "duration": 28,
    "start_time": "2022-03-27T08:05:27.173Z"
   },
   {
    "duration": 19,
    "start_time": "2022-03-27T08:05:27.202Z"
   },
   {
    "duration": 16,
    "start_time": "2022-03-27T08:05:27.223Z"
   },
   {
    "duration": 12,
    "start_time": "2022-03-27T08:13:06.488Z"
   },
   {
    "duration": 5,
    "start_time": "2022-03-27T08:17:30.142Z"
   },
   {
    "duration": 4,
    "start_time": "2022-03-27T08:18:58.479Z"
   },
   {
    "duration": 28,
    "start_time": "2022-03-27T09:09:43.714Z"
   },
   {
    "duration": 12,
    "start_time": "2022-03-27T09:09:58.269Z"
   },
   {
    "duration": 54,
    "start_time": "2022-03-27T10:29:42.672Z"
   },
   {
    "duration": 1253,
    "start_time": "2022-03-27T10:29:51.210Z"
   },
   {
    "duration": 42,
    "start_time": "2022-03-27T10:29:52.466Z"
   },
   {
    "duration": 23,
    "start_time": "2022-03-27T10:29:52.509Z"
   },
   {
    "duration": 13,
    "start_time": "2022-03-27T10:29:52.534Z"
   },
   {
    "duration": 13,
    "start_time": "2022-03-27T10:29:52.549Z"
   },
   {
    "duration": 5,
    "start_time": "2022-03-27T10:29:52.563Z"
   },
   {
    "duration": 9,
    "start_time": "2022-03-27T10:29:52.570Z"
   },
   {
    "duration": 55,
    "start_time": "2022-03-27T10:29:52.581Z"
   },
   {
    "duration": 18,
    "start_time": "2022-03-27T10:40:31.597Z"
   },
   {
    "duration": 79,
    "start_time": "2022-03-27T11:05:25.865Z"
   },
   {
    "duration": 4,
    "start_time": "2022-03-27T11:05:41.093Z"
   },
   {
    "duration": 13,
    "start_time": "2022-03-27T11:05:42.169Z"
   },
   {
    "duration": 9,
    "start_time": "2022-03-27T11:11:52.885Z"
   },
   {
    "duration": 5,
    "start_time": "2022-03-27T11:12:26.572Z"
   },
   {
    "duration": 12,
    "start_time": "2022-03-27T11:12:27.523Z"
   },
   {
    "duration": 10,
    "start_time": "2022-03-27T11:13:37.004Z"
   },
   {
    "duration": 4,
    "start_time": "2022-03-27T11:13:47.268Z"
   },
   {
    "duration": 5,
    "start_time": "2022-03-27T11:13:48.845Z"
   },
   {
    "duration": 13,
    "start_time": "2022-03-27T11:13:50.808Z"
   },
   {
    "duration": 3,
    "start_time": "2022-03-27T11:20:34.382Z"
   },
   {
    "duration": 48,
    "start_time": "2022-03-27T11:20:34.387Z"
   },
   {
    "duration": 17,
    "start_time": "2022-03-27T11:20:34.437Z"
   },
   {
    "duration": 20,
    "start_time": "2022-03-27T11:20:34.456Z"
   },
   {
    "duration": 12,
    "start_time": "2022-03-27T11:20:34.477Z"
   },
   {
    "duration": 5,
    "start_time": "2022-03-27T11:20:34.490Z"
   },
   {
    "duration": 38,
    "start_time": "2022-03-27T11:20:34.496Z"
   },
   {
    "duration": 18,
    "start_time": "2022-03-27T11:20:34.536Z"
   },
   {
    "duration": 5,
    "start_time": "2022-03-27T11:20:34.555Z"
   },
   {
    "duration": 15,
    "start_time": "2022-03-27T11:20:34.561Z"
   },
   {
    "duration": 19,
    "start_time": "2022-03-27T11:20:34.578Z"
   },
   {
    "duration": 7,
    "start_time": "2022-03-27T11:20:34.599Z"
   },
   {
    "duration": 26,
    "start_time": "2022-03-27T11:20:34.607Z"
   },
   {
    "duration": 4,
    "start_time": "2022-03-27T11:20:34.635Z"
   },
   {
    "duration": 25,
    "start_time": "2022-03-27T11:20:34.641Z"
   },
   {
    "duration": 10,
    "start_time": "2022-03-27T11:20:34.668Z"
   },
   {
    "duration": 9,
    "start_time": "2022-03-27T11:20:34.680Z"
   },
   {
    "duration": 5,
    "start_time": "2022-03-27T11:20:34.691Z"
   },
   {
    "duration": 7,
    "start_time": "2022-03-27T11:20:34.699Z"
   },
   {
    "duration": 13,
    "start_time": "2022-03-27T11:26:14.959Z"
   },
   {
    "duration": 13,
    "start_time": "2022-03-27T11:26:16.051Z"
   },
   {
    "duration": 1999,
    "start_time": "2022-03-27T12:53:36.271Z"
   },
   {
    "duration": 57,
    "start_time": "2022-03-27T12:53:38.274Z"
   },
   {
    "duration": 35,
    "start_time": "2022-03-27T12:53:38.333Z"
   },
   {
    "duration": 19,
    "start_time": "2022-03-27T12:53:38.370Z"
   },
   {
    "duration": 50,
    "start_time": "2022-03-27T12:53:38.393Z"
   },
   {
    "duration": 8,
    "start_time": "2022-03-27T12:53:38.445Z"
   },
   {
    "duration": 6,
    "start_time": "2022-03-27T12:53:38.456Z"
   },
   {
    "duration": 26,
    "start_time": "2022-03-27T12:53:38.464Z"
   },
   {
    "duration": 5,
    "start_time": "2022-03-27T12:53:38.492Z"
   },
   {
    "duration": 46,
    "start_time": "2022-03-27T12:53:38.499Z"
   },
   {
    "duration": 21,
    "start_time": "2022-03-27T12:53:38.547Z"
   },
   {
    "duration": 16,
    "start_time": "2022-03-27T12:53:38.570Z"
   },
   {
    "duration": 20,
    "start_time": "2022-03-27T12:53:38.589Z"
   },
   {
    "duration": 10,
    "start_time": "2022-03-27T12:53:38.646Z"
   },
   {
    "duration": 9,
    "start_time": "2022-03-27T12:53:38.658Z"
   },
   {
    "duration": 7,
    "start_time": "2022-03-27T12:53:38.669Z"
   },
   {
    "duration": 18,
    "start_time": "2022-03-27T12:53:38.678Z"
   },
   {
    "duration": 8,
    "start_time": "2022-03-27T12:53:38.698Z"
   },
   {
    "duration": 40,
    "start_time": "2022-03-27T12:53:38.708Z"
   },
   {
    "duration": 9,
    "start_time": "2022-03-27T12:53:38.751Z"
   },
   {
    "duration": 9,
    "start_time": "2022-03-27T12:53:38.762Z"
   },
   {
    "duration": 1362,
    "start_time": "2022-03-28T16:28:18.083Z"
   },
   {
    "duration": 32,
    "start_time": "2022-03-28T16:28:19.448Z"
   },
   {
    "duration": 23,
    "start_time": "2022-03-28T16:28:19.482Z"
   },
   {
    "duration": 31,
    "start_time": "2022-03-28T16:28:19.508Z"
   },
   {
    "duration": 16,
    "start_time": "2022-03-28T16:28:19.542Z"
   },
   {
    "duration": 6,
    "start_time": "2022-03-28T16:28:19.559Z"
   },
   {
    "duration": 8,
    "start_time": "2022-03-28T16:28:19.566Z"
   },
   {
    "duration": 19,
    "start_time": "2022-03-28T16:28:19.576Z"
   },
   {
    "duration": 6,
    "start_time": "2022-03-28T16:28:19.597Z"
   },
   {
    "duration": 11,
    "start_time": "2022-03-28T16:28:19.605Z"
   },
   {
    "duration": 27,
    "start_time": "2022-03-28T16:28:19.618Z"
   },
   {
    "duration": 14,
    "start_time": "2022-03-28T16:28:19.647Z"
   },
   {
    "duration": 17,
    "start_time": "2022-03-28T16:28:19.663Z"
   },
   {
    "duration": 213,
    "start_time": "2022-03-28T16:28:19.683Z"
   },
   {
    "duration": 0,
    "start_time": "2022-03-28T16:28:19.898Z"
   },
   {
    "duration": 0,
    "start_time": "2022-03-28T16:28:19.899Z"
   },
   {
    "duration": 1,
    "start_time": "2022-03-28T16:28:19.901Z"
   },
   {
    "duration": 0,
    "start_time": "2022-03-28T16:28:19.903Z"
   },
   {
    "duration": 0,
    "start_time": "2022-03-28T16:28:19.904Z"
   },
   {
    "duration": 8,
    "start_time": "2022-03-28T16:29:09.204Z"
   },
   {
    "duration": 8,
    "start_time": "2022-03-28T16:29:12.520Z"
   },
   {
    "duration": 6,
    "start_time": "2022-03-28T16:29:13.157Z"
   },
   {
    "duration": 5,
    "start_time": "2022-03-28T16:29:14.499Z"
   },
   {
    "duration": 7,
    "start_time": "2022-03-28T16:29:15.353Z"
   },
   {
    "duration": 5,
    "start_time": "2022-03-28T16:29:16.075Z"
   },
   {
    "duration": 49,
    "start_time": "2022-03-28T16:32:58.118Z"
   },
   {
    "duration": 36,
    "start_time": "2022-03-28T16:33:46.954Z"
   },
   {
    "duration": 37,
    "start_time": "2022-03-28T16:33:51.013Z"
   },
   {
    "duration": 44,
    "start_time": "2022-04-01T13:35:13.608Z"
   },
   {
    "duration": 1615,
    "start_time": "2022-04-01T13:41:40.265Z"
   },
   {
    "duration": 25,
    "start_time": "2022-04-01T13:41:41.882Z"
   },
   {
    "duration": 17,
    "start_time": "2022-04-01T13:41:41.909Z"
   },
   {
    "duration": 13,
    "start_time": "2022-04-01T13:41:41.928Z"
   },
   {
    "duration": 12,
    "start_time": "2022-04-01T13:41:41.963Z"
   },
   {
    "duration": 8,
    "start_time": "2022-04-01T13:41:41.976Z"
   },
   {
    "duration": 14,
    "start_time": "2022-04-01T13:41:41.985Z"
   },
   {
    "duration": 15,
    "start_time": "2022-04-01T13:41:42.001Z"
   },
   {
    "duration": 4,
    "start_time": "2022-04-01T13:41:42.017Z"
   },
   {
    "duration": 19,
    "start_time": "2022-04-01T13:41:42.023Z"
   },
   {
    "duration": 22,
    "start_time": "2022-04-01T13:41:42.043Z"
   },
   {
    "duration": 11,
    "start_time": "2022-04-01T13:41:42.067Z"
   },
   {
    "duration": 15,
    "start_time": "2022-04-01T13:41:42.080Z"
   },
   {
    "duration": 5,
    "start_time": "2022-04-01T13:41:42.099Z"
   },
   {
    "duration": 6,
    "start_time": "2022-04-01T13:41:42.106Z"
   },
   {
    "duration": 6,
    "start_time": "2022-04-01T13:41:42.114Z"
   },
   {
    "duration": 6,
    "start_time": "2022-04-01T13:41:42.121Z"
   },
   {
    "duration": 34,
    "start_time": "2022-04-01T13:41:42.129Z"
   },
   {
    "duration": 6,
    "start_time": "2022-04-01T13:41:42.164Z"
   },
   {
    "duration": 33,
    "start_time": "2022-04-01T13:41:42.172Z"
   },
   {
    "duration": 1964,
    "start_time": "2022-04-01T13:41:42.206Z"
   },
   {
    "duration": 193,
    "start_time": "2022-04-01T13:41:44.172Z"
   },
   {
    "duration": 238,
    "start_time": "2022-04-01T13:41:44.368Z"
   },
   {
    "duration": 0,
    "start_time": "2022-04-01T13:41:44.608Z"
   },
   {
    "duration": 0,
    "start_time": "2022-04-01T13:41:44.609Z"
   },
   {
    "duration": 0,
    "start_time": "2022-04-01T13:41:44.610Z"
   },
   {
    "duration": 0,
    "start_time": "2022-04-01T13:41:44.611Z"
   },
   {
    "duration": 0,
    "start_time": "2022-04-01T13:41:44.612Z"
   },
   {
    "duration": 1,
    "start_time": "2022-04-01T13:41:44.612Z"
   },
   {
    "duration": 1,
    "start_time": "2022-04-01T13:41:44.613Z"
   },
   {
    "duration": 0,
    "start_time": "2022-04-01T13:41:44.615Z"
   },
   {
    "duration": 0,
    "start_time": "2022-04-01T13:41:44.616Z"
   },
   {
    "duration": 0,
    "start_time": "2022-04-01T13:41:44.617Z"
   },
   {
    "duration": 0,
    "start_time": "2022-04-01T13:41:44.618Z"
   },
   {
    "duration": 0,
    "start_time": "2022-04-01T13:41:44.619Z"
   },
   {
    "duration": 0,
    "start_time": "2022-04-01T13:41:44.620Z"
   },
   {
    "duration": 101,
    "start_time": "2022-04-01T13:42:55.502Z"
   },
   {
    "duration": 4,
    "start_time": "2022-04-01T13:44:16.513Z"
   },
   {
    "duration": 27,
    "start_time": "2022-04-01T13:44:16.518Z"
   },
   {
    "duration": 11,
    "start_time": "2022-04-01T13:44:16.546Z"
   },
   {
    "duration": 13,
    "start_time": "2022-04-01T13:44:16.559Z"
   },
   {
    "duration": 11,
    "start_time": "2022-04-01T13:44:16.574Z"
   },
   {
    "duration": 4,
    "start_time": "2022-04-01T13:44:16.586Z"
   },
   {
    "duration": 5,
    "start_time": "2022-04-01T13:44:16.592Z"
   },
   {
    "duration": 14,
    "start_time": "2022-04-01T13:44:16.599Z"
   },
   {
    "duration": 48,
    "start_time": "2022-04-01T13:44:16.615Z"
   },
   {
    "duration": 4,
    "start_time": "2022-04-01T13:44:16.665Z"
   },
   {
    "duration": 10,
    "start_time": "2022-04-01T13:44:16.672Z"
   },
   {
    "duration": 10,
    "start_time": "2022-04-01T13:44:16.684Z"
   },
   {
    "duration": 9,
    "start_time": "2022-04-01T13:44:16.696Z"
   },
   {
    "duration": 6,
    "start_time": "2022-04-01T13:44:16.707Z"
   },
   {
    "duration": 6,
    "start_time": "2022-04-01T13:44:16.714Z"
   },
   {
    "duration": 41,
    "start_time": "2022-04-01T13:44:16.722Z"
   },
   {
    "duration": 5,
    "start_time": "2022-04-01T13:44:16.764Z"
   },
   {
    "duration": 6,
    "start_time": "2022-04-01T13:44:16.770Z"
   },
   {
    "duration": 6,
    "start_time": "2022-04-01T13:44:16.777Z"
   },
   {
    "duration": 28,
    "start_time": "2022-04-01T13:44:16.784Z"
   },
   {
    "duration": 1963,
    "start_time": "2022-04-01T13:44:16.814Z"
   },
   {
    "duration": 85,
    "start_time": "2022-04-01T13:44:18.779Z"
   },
   {
    "duration": 176,
    "start_time": "2022-04-01T13:44:18.866Z"
   },
   {
    "duration": 78,
    "start_time": "2022-04-01T13:44:19.044Z"
   },
   {
    "duration": 88038,
    "start_time": "2022-04-01T13:44:19.124Z"
   },
   {
    "duration": 222,
    "start_time": "2022-04-01T13:45:47.164Z"
   },
   {
    "duration": 76,
    "start_time": "2022-04-01T13:45:47.387Z"
   },
   {
    "duration": 104,
    "start_time": "2022-04-01T13:45:47.465Z"
   },
   {
    "duration": 30,
    "start_time": "2022-04-01T13:45:47.574Z"
   },
   {
    "duration": 285,
    "start_time": "2022-04-01T13:45:47.606Z"
   },
   {
    "duration": 77,
    "start_time": "2022-04-01T13:45:47.892Z"
   },
   {
    "duration": 98,
    "start_time": "2022-04-01T13:45:47.971Z"
   },
   {
    "duration": 14,
    "start_time": "2022-04-01T13:45:48.071Z"
   },
   {
    "duration": 191,
    "start_time": "2022-04-01T13:45:48.086Z"
   },
   {
    "duration": 21,
    "start_time": "2022-04-01T13:45:48.279Z"
   },
   {
    "duration": 366,
    "start_time": "2022-04-01T13:45:48.364Z"
   },
   {
    "duration": 75,
    "start_time": "2022-04-01T14:23:40.814Z"
   },
   {
    "duration": 2086,
    "start_time": "2022-04-01T14:26:39.227Z"
   },
   {
    "duration": 57,
    "start_time": "2022-04-01T14:28:11.214Z"
   },
   {
    "duration": 2087,
    "start_time": "2022-04-01T14:28:26.348Z"
   },
   {
    "duration": 23,
    "start_time": "2022-04-01T14:33:15.398Z"
   },
   {
    "duration": 55,
    "start_time": "2022-04-01T14:37:31.684Z"
   },
   {
    "duration": 2270,
    "start_time": "2022-04-01T14:37:57.368Z"
   },
   {
    "duration": 7964,
    "start_time": "2022-04-01T14:38:20.330Z"
   },
   {
    "duration": 7781,
    "start_time": "2022-04-01T14:41:03.740Z"
   },
   {
    "duration": 28,
    "start_time": "2022-04-01T14:42:18.642Z"
   },
   {
    "duration": 224,
    "start_time": "2022-04-01T15:49:06.440Z"
   },
   {
    "duration": 292,
    "start_time": "2022-04-01T15:49:23.059Z"
   },
   {
    "duration": 3,
    "start_time": "2022-04-01T15:55:38.133Z"
   },
   {
    "duration": 35,
    "start_time": "2022-04-01T15:55:38.137Z"
   },
   {
    "duration": 12,
    "start_time": "2022-04-01T15:55:38.175Z"
   },
   {
    "duration": 14,
    "start_time": "2022-04-01T15:55:38.188Z"
   },
   {
    "duration": 12,
    "start_time": "2022-04-01T15:55:38.203Z"
   },
   {
    "duration": 5,
    "start_time": "2022-04-01T15:55:38.216Z"
   },
   {
    "duration": 6,
    "start_time": "2022-04-01T15:55:38.222Z"
   },
   {
    "duration": 49,
    "start_time": "2022-04-01T15:55:38.230Z"
   },
   {
    "duration": 4,
    "start_time": "2022-04-01T15:55:38.282Z"
   },
   {
    "duration": 9,
    "start_time": "2022-04-01T15:55:38.288Z"
   },
   {
    "duration": 14,
    "start_time": "2022-04-01T15:55:38.298Z"
   },
   {
    "duration": 12,
    "start_time": "2022-04-01T15:55:38.313Z"
   },
   {
    "duration": 9,
    "start_time": "2022-04-01T15:55:38.326Z"
   },
   {
    "duration": 5,
    "start_time": "2022-04-01T15:55:38.337Z"
   },
   {
    "duration": 20,
    "start_time": "2022-04-01T15:55:38.344Z"
   },
   {
    "duration": 12,
    "start_time": "2022-04-01T15:55:38.366Z"
   },
   {
    "duration": 6,
    "start_time": "2022-04-01T15:55:38.379Z"
   },
   {
    "duration": 4,
    "start_time": "2022-04-01T15:55:38.387Z"
   },
   {
    "duration": 5,
    "start_time": "2022-04-01T15:55:38.393Z"
   },
   {
    "duration": 28,
    "start_time": "2022-04-01T15:55:38.399Z"
   },
   {
    "duration": 80,
    "start_time": "2022-04-01T15:55:38.429Z"
   },
   {
    "duration": 8204,
    "start_time": "2022-04-01T15:55:38.511Z"
   },
   {
    "duration": 364,
    "start_time": "2022-04-01T15:55:46.716Z"
   },
   {
    "duration": 267,
    "start_time": "2022-04-01T15:55:47.083Z"
   },
   {
    "duration": 68,
    "start_time": "2022-04-01T15:55:47.363Z"
   },
   {
    "duration": 175920,
    "start_time": "2022-04-01T15:55:47.432Z"
   },
   {
    "duration": 403,
    "start_time": "2022-04-01T15:59:08.317Z"
   },
   {
    "duration": 371,
    "start_time": "2022-04-01T15:59:16.499Z"
   },
   {
    "duration": 212,
    "start_time": "2022-04-01T15:59:25.606Z"
   },
   {
    "duration": 401,
    "start_time": "2022-04-01T15:59:51.397Z"
   },
   {
    "duration": 4,
    "start_time": "2022-04-01T16:01:12.494Z"
   },
   {
    "duration": 33,
    "start_time": "2022-04-01T16:01:12.499Z"
   },
   {
    "duration": 11,
    "start_time": "2022-04-01T16:01:12.534Z"
   },
   {
    "duration": 13,
    "start_time": "2022-04-01T16:01:12.547Z"
   },
   {
    "duration": 10,
    "start_time": "2022-04-01T16:01:12.563Z"
   },
   {
    "duration": 5,
    "start_time": "2022-04-01T16:01:12.574Z"
   },
   {
    "duration": 7,
    "start_time": "2022-04-01T16:01:12.580Z"
   },
   {
    "duration": 18,
    "start_time": "2022-04-01T16:01:12.588Z"
   },
   {
    "duration": 4,
    "start_time": "2022-04-01T16:01:12.607Z"
   },
   {
    "duration": 7,
    "start_time": "2022-04-01T16:01:12.612Z"
   },
   {
    "duration": 12,
    "start_time": "2022-04-01T16:01:12.620Z"
   },
   {
    "duration": 35,
    "start_time": "2022-04-01T16:01:12.634Z"
   },
   {
    "duration": 10,
    "start_time": "2022-04-01T16:01:12.673Z"
   },
   {
    "duration": 13,
    "start_time": "2022-04-01T16:01:12.685Z"
   },
   {
    "duration": 9,
    "start_time": "2022-04-01T16:01:12.701Z"
   },
   {
    "duration": 6,
    "start_time": "2022-04-01T16:01:12.711Z"
   },
   {
    "duration": 8,
    "start_time": "2022-04-01T16:01:12.719Z"
   },
   {
    "duration": 8,
    "start_time": "2022-04-01T16:01:12.728Z"
   },
   {
    "duration": 26,
    "start_time": "2022-04-01T16:01:12.737Z"
   },
   {
    "duration": 31,
    "start_time": "2022-04-01T16:01:12.764Z"
   },
   {
    "duration": 51,
    "start_time": "2022-04-01T16:01:12.797Z"
   },
   {
    "duration": 7960,
    "start_time": "2022-04-01T16:01:12.862Z"
   },
   {
    "duration": 142,
    "start_time": "2022-04-01T16:01:20.824Z"
   },
   {
    "duration": 263,
    "start_time": "2022-04-01T16:01:20.968Z"
   },
   {
    "duration": 77,
    "start_time": "2022-04-01T16:01:21.233Z"
   },
   {
    "duration": 169106,
    "start_time": "2022-04-01T16:01:21.312Z"
   },
   {
    "duration": 420,
    "start_time": "2022-04-01T16:04:10.420Z"
   },
   {
    "duration": 34,
    "start_time": "2022-04-01T16:04:10.842Z"
   },
   {
    "duration": 99,
    "start_time": "2022-04-01T16:04:10.878Z"
   },
   {
    "duration": 33,
    "start_time": "2022-04-01T16:04:11.062Z"
   },
   {
    "duration": 666,
    "start_time": "2022-04-01T16:04:11.097Z"
   },
   {
    "duration": 21,
    "start_time": "2022-04-01T16:04:11.764Z"
   },
   {
    "duration": 81,
    "start_time": "2022-04-01T16:04:11.787Z"
   },
   {
    "duration": 103,
    "start_time": "2022-04-01T16:04:11.870Z"
   },
   {
    "duration": 260,
    "start_time": "2022-04-01T16:04:11.974Z"
   },
   {
    "duration": 31,
    "start_time": "2022-04-01T16:04:12.236Z"
   },
   {
    "duration": 608,
    "start_time": "2022-04-01T16:04:12.362Z"
   },
   {
    "duration": 52,
    "start_time": "2022-04-01T20:08:59.296Z"
   },
   {
    "duration": 1781,
    "start_time": "2022-04-01T20:09:04.629Z"
   },
   {
    "duration": 27,
    "start_time": "2022-04-01T20:09:06.413Z"
   },
   {
    "duration": 19,
    "start_time": "2022-04-01T20:09:06.442Z"
   },
   {
    "duration": 15,
    "start_time": "2022-04-01T20:09:06.463Z"
   },
   {
    "duration": 13,
    "start_time": "2022-04-01T20:09:06.503Z"
   },
   {
    "duration": 5,
    "start_time": "2022-04-01T20:09:06.518Z"
   },
   {
    "duration": 9,
    "start_time": "2022-04-01T20:09:06.525Z"
   },
   {
    "duration": 19,
    "start_time": "2022-04-01T20:09:06.536Z"
   },
   {
    "duration": 5,
    "start_time": "2022-04-01T20:09:06.557Z"
   },
   {
    "duration": 38,
    "start_time": "2022-04-01T20:09:06.563Z"
   },
   {
    "duration": 13,
    "start_time": "2022-04-01T20:09:06.603Z"
   },
   {
    "duration": 19,
    "start_time": "2022-04-01T20:09:06.618Z"
   },
   {
    "duration": 15,
    "start_time": "2022-04-01T20:09:06.640Z"
   },
   {
    "duration": 9,
    "start_time": "2022-04-01T20:09:06.660Z"
   },
   {
    "duration": 30,
    "start_time": "2022-04-01T20:09:06.671Z"
   },
   {
    "duration": 7,
    "start_time": "2022-04-01T20:09:06.703Z"
   },
   {
    "duration": 8,
    "start_time": "2022-04-01T20:09:06.712Z"
   },
   {
    "duration": 9,
    "start_time": "2022-04-01T20:09:06.722Z"
   },
   {
    "duration": 8,
    "start_time": "2022-04-01T20:09:06.733Z"
   },
   {
    "duration": 76,
    "start_time": "2022-04-01T20:09:06.743Z"
   },
   {
    "duration": 64,
    "start_time": "2022-04-01T20:09:06.821Z"
   },
   {
    "duration": 9223,
    "start_time": "2022-04-01T20:09:06.902Z"
   },
   {
    "duration": 274,
    "start_time": "2022-04-01T20:09:16.127Z"
   },
   {
    "duration": 220,
    "start_time": "2022-04-01T20:09:16.404Z"
   },
   {
    "duration": 76,
    "start_time": "2022-04-01T20:09:16.626Z"
   },
   {
    "duration": 198299,
    "start_time": "2022-04-01T20:09:16.704Z"
   },
   {
    "duration": 489,
    "start_time": "2022-04-01T20:12:35.005Z"
   },
   {
    "duration": 25,
    "start_time": "2022-04-01T20:12:35.501Z"
   },
   {
    "duration": 107,
    "start_time": "2022-04-01T20:12:35.603Z"
   },
   {
    "duration": 29,
    "start_time": "2022-04-01T20:12:35.713Z"
   },
   {
    "duration": 627,
    "start_time": "2022-04-01T20:12:35.744Z"
   },
   {
    "duration": 40,
    "start_time": "2022-04-01T20:12:36.373Z"
   },
   {
    "duration": 188,
    "start_time": "2022-04-01T20:12:36.416Z"
   },
   {
    "duration": 16,
    "start_time": "2022-04-01T20:12:36.606Z"
   },
   {
    "duration": 302,
    "start_time": "2022-04-01T20:12:36.624Z"
   },
   {
    "duration": 16,
    "start_time": "2022-04-01T20:12:36.927Z"
   },
   {
    "duration": 699,
    "start_time": "2022-04-01T20:12:37.002Z"
   },
   {
    "duration": 714,
    "start_time": "2022-04-01T20:12:37.704Z"
   },
   {
    "duration": 0,
    "start_time": "2022-04-01T20:12:38.420Z"
   },
   {
    "duration": 637,
    "start_time": "2022-04-01T20:13:03.077Z"
   },
   {
    "duration": 712,
    "start_time": "2022-04-01T20:13:48.792Z"
   },
   {
    "duration": 10,
    "start_time": "2022-04-01T20:13:55.203Z"
   },
   {
    "duration": 5,
    "start_time": "2022-04-01T20:14:31.327Z"
   },
   {
    "duration": 12,
    "start_time": "2022-04-01T20:14:39.148Z"
   },
   {
    "duration": 5,
    "start_time": "2022-04-01T20:15:07.010Z"
   },
   {
    "duration": 10,
    "start_time": "2022-04-01T20:15:29.458Z"
   },
   {
    "duration": 634,
    "start_time": "2022-04-01T20:16:07.757Z"
   },
   {
    "duration": 5,
    "start_time": "2022-04-01T20:17:01.077Z"
   },
   {
    "duration": 6,
    "start_time": "2022-04-01T20:17:18.682Z"
   },
   {
    "duration": 49,
    "start_time": "2022-04-02T07:36:25.472Z"
   },
   {
    "duration": 1749,
    "start_time": "2022-04-02T07:36:32.989Z"
   },
   {
    "duration": 35,
    "start_time": "2022-04-02T07:36:34.744Z"
   },
   {
    "duration": 18,
    "start_time": "2022-04-02T07:36:34.781Z"
   },
   {
    "duration": 13,
    "start_time": "2022-04-02T07:36:34.802Z"
   },
   {
    "duration": 22,
    "start_time": "2022-04-02T07:36:34.817Z"
   },
   {
    "duration": 5,
    "start_time": "2022-04-02T07:36:34.841Z"
   },
   {
    "duration": 8,
    "start_time": "2022-04-02T07:36:34.847Z"
   },
   {
    "duration": 19,
    "start_time": "2022-04-02T07:36:34.856Z"
   },
   {
    "duration": 4,
    "start_time": "2022-04-02T07:36:34.877Z"
   },
   {
    "duration": 7,
    "start_time": "2022-04-02T07:36:34.884Z"
   },
   {
    "duration": 44,
    "start_time": "2022-04-02T07:36:34.892Z"
   },
   {
    "duration": 13,
    "start_time": "2022-04-02T07:36:34.938Z"
   },
   {
    "duration": 13,
    "start_time": "2022-04-02T07:36:34.952Z"
   },
   {
    "duration": 8,
    "start_time": "2022-04-02T07:36:34.967Z"
   },
   {
    "duration": 7,
    "start_time": "2022-04-02T07:36:34.977Z"
   },
   {
    "duration": 9,
    "start_time": "2022-04-02T07:36:34.986Z"
   },
   {
    "duration": 7,
    "start_time": "2022-04-02T07:36:34.997Z"
   },
   {
    "duration": 6,
    "start_time": "2022-04-02T07:36:35.032Z"
   },
   {
    "duration": 6,
    "start_time": "2022-04-02T07:36:35.041Z"
   },
   {
    "duration": 42,
    "start_time": "2022-04-02T07:36:35.049Z"
   },
   {
    "duration": 86,
    "start_time": "2022-04-02T07:36:35.093Z"
   },
   {
    "duration": 8866,
    "start_time": "2022-04-02T07:36:35.181Z"
   },
   {
    "duration": 284,
    "start_time": "2022-04-02T07:36:44.049Z"
   },
   {
    "duration": 226,
    "start_time": "2022-04-02T07:36:44.340Z"
   },
   {
    "duration": 76,
    "start_time": "2022-04-02T07:36:44.568Z"
   },
   {
    "duration": 193792,
    "start_time": "2022-04-02T07:36:44.646Z"
   },
   {
    "duration": 464,
    "start_time": "2022-04-02T07:39:58.440Z"
   },
   {
    "duration": 29,
    "start_time": "2022-04-02T07:39:58.907Z"
   },
   {
    "duration": 194,
    "start_time": "2022-04-02T07:39:58.938Z"
   },
   {
    "duration": 24,
    "start_time": "2022-04-02T07:39:59.135Z"
   },
   {
    "duration": 600,
    "start_time": "2022-04-02T07:39:59.162Z"
   },
   {
    "duration": 26,
    "start_time": "2022-04-02T07:39:59.764Z"
   },
   {
    "duration": 106,
    "start_time": "2022-04-02T07:39:59.833Z"
   },
   {
    "duration": 15,
    "start_time": "2022-04-02T07:39:59.941Z"
   },
   {
    "duration": 325,
    "start_time": "2022-04-02T07:39:59.958Z"
   },
   {
    "duration": 48,
    "start_time": "2022-04-02T07:40:00.285Z"
   },
   {
    "duration": 709,
    "start_time": "2022-04-02T07:40:00.336Z"
   },
   {
    "duration": 644,
    "start_time": "2022-04-02T07:40:01.046Z"
   },
   {
    "duration": 1495,
    "start_time": "2022-04-02T08:11:23.133Z"
   },
   {
    "duration": 41,
    "start_time": "2022-04-02T08:11:24.630Z"
   },
   {
    "duration": 17,
    "start_time": "2022-04-02T08:11:24.672Z"
   },
   {
    "duration": 12,
    "start_time": "2022-04-02T08:11:24.692Z"
   },
   {
    "duration": 11,
    "start_time": "2022-04-02T08:11:24.706Z"
   },
   {
    "duration": 13,
    "start_time": "2022-04-02T08:11:24.719Z"
   },
   {
    "duration": 4,
    "start_time": "2022-04-02T08:11:24.734Z"
   },
   {
    "duration": 19,
    "start_time": "2022-04-02T08:11:24.740Z"
   },
   {
    "duration": 5,
    "start_time": "2022-04-02T08:11:24.760Z"
   },
   {
    "duration": 8,
    "start_time": "2022-04-02T08:11:24.767Z"
   },
   {
    "duration": 12,
    "start_time": "2022-04-02T08:11:24.776Z"
   },
   {
    "duration": 43,
    "start_time": "2022-04-02T08:11:24.790Z"
   },
   {
    "duration": 12,
    "start_time": "2022-04-02T08:11:24.835Z"
   },
   {
    "duration": 6,
    "start_time": "2022-04-02T08:11:24.849Z"
   },
   {
    "duration": 8,
    "start_time": "2022-04-02T08:11:24.856Z"
   },
   {
    "duration": 6,
    "start_time": "2022-04-02T08:11:24.866Z"
   },
   {
    "duration": 7,
    "start_time": "2022-04-02T08:11:24.874Z"
   },
   {
    "duration": 8,
    "start_time": "2022-04-02T08:11:24.883Z"
   },
   {
    "duration": 42,
    "start_time": "2022-04-02T08:11:24.892Z"
   },
   {
    "duration": 37,
    "start_time": "2022-04-02T08:11:24.935Z"
   },
   {
    "duration": 78,
    "start_time": "2022-04-02T08:11:24.974Z"
   },
   {
    "duration": 8820,
    "start_time": "2022-04-02T08:11:25.054Z"
   },
   {
    "duration": 258,
    "start_time": "2022-04-02T08:11:33.875Z"
   },
   {
    "duration": 219,
    "start_time": "2022-04-02T08:11:34.136Z"
   },
   {
    "duration": 77,
    "start_time": "2022-04-02T08:11:34.357Z"
   },
   {
    "duration": 192443,
    "start_time": "2022-04-02T08:11:34.436Z"
   },
   {
    "duration": 493,
    "start_time": "2022-04-02T08:14:46.881Z"
   },
   {
    "duration": 62,
    "start_time": "2022-04-02T08:14:47.378Z"
   },
   {
    "duration": 100,
    "start_time": "2022-04-02T08:14:47.442Z"
   },
   {
    "duration": 24,
    "start_time": "2022-04-02T08:14:47.543Z"
   },
   {
    "duration": 639,
    "start_time": "2022-04-02T08:14:47.569Z"
   },
   {
    "duration": 32,
    "start_time": "2022-04-02T08:14:48.209Z"
   },
   {
    "duration": 191,
    "start_time": "2022-04-02T08:14:48.243Z"
   },
   {
    "duration": 16,
    "start_time": "2022-04-02T08:14:48.436Z"
   },
   {
    "duration": 316,
    "start_time": "2022-04-02T08:14:48.454Z"
   },
   {
    "duration": 60,
    "start_time": "2022-04-02T08:14:48.771Z"
   },
   {
    "duration": 694,
    "start_time": "2022-04-02T08:14:48.836Z"
   },
   {
    "duration": 594,
    "start_time": "2022-04-02T08:14:49.532Z"
   },
   {
    "duration": 1770,
    "start_time": "2022-04-02T19:34:05.826Z"
   },
   {
    "duration": 40,
    "start_time": "2022-04-02T19:34:07.598Z"
   },
   {
    "duration": 16,
    "start_time": "2022-04-02T19:34:07.640Z"
   },
   {
    "duration": 14,
    "start_time": "2022-04-02T19:34:07.658Z"
   },
   {
    "duration": 12,
    "start_time": "2022-04-02T19:34:07.673Z"
   },
   {
    "duration": 5,
    "start_time": "2022-04-02T19:34:07.686Z"
   },
   {
    "duration": 13,
    "start_time": "2022-04-02T19:34:07.692Z"
   },
   {
    "duration": 20,
    "start_time": "2022-04-02T19:34:07.706Z"
   },
   {
    "duration": 5,
    "start_time": "2022-04-02T19:34:07.727Z"
   },
   {
    "duration": 5,
    "start_time": "2022-04-02T19:34:07.734Z"
   },
   {
    "duration": 15,
    "start_time": "2022-04-02T19:34:07.740Z"
   },
   {
    "duration": 12,
    "start_time": "2022-04-02T19:34:07.757Z"
   },
   {
    "duration": 39,
    "start_time": "2022-04-02T19:34:07.770Z"
   },
   {
    "duration": 5,
    "start_time": "2022-04-02T19:34:07.811Z"
   },
   {
    "duration": 5,
    "start_time": "2022-04-02T19:34:07.818Z"
   },
   {
    "duration": 11,
    "start_time": "2022-04-02T19:34:07.824Z"
   },
   {
    "duration": 9,
    "start_time": "2022-04-02T19:34:07.836Z"
   },
   {
    "duration": 9,
    "start_time": "2022-04-02T19:34:07.846Z"
   },
   {
    "duration": 10,
    "start_time": "2022-04-02T19:34:07.856Z"
   },
   {
    "duration": 60,
    "start_time": "2022-04-02T19:34:07.867Z"
   },
   {
    "duration": 57,
    "start_time": "2022-04-02T19:34:07.929Z"
   },
   {
    "duration": 8530,
    "start_time": "2022-04-02T19:34:08.001Z"
   },
   {
    "duration": 178,
    "start_time": "2022-04-02T19:34:16.533Z"
   },
   {
    "duration": 224,
    "start_time": "2022-04-02T19:34:16.803Z"
   },
   {
    "duration": 76,
    "start_time": "2022-04-02T19:34:17.029Z"
   },
   {
    "duration": 181929,
    "start_time": "2022-04-02T19:34:17.106Z"
   },
   {
    "duration": 446,
    "start_time": "2022-04-02T19:37:19.037Z"
   },
   {
    "duration": 31,
    "start_time": "2022-04-02T19:37:19.487Z"
   },
   {
    "duration": 185,
    "start_time": "2022-04-02T19:37:19.520Z"
   },
   {
    "duration": 25,
    "start_time": "2022-04-02T19:37:19.707Z"
   },
   {
    "duration": 577,
    "start_time": "2022-04-02T19:37:19.734Z"
   },
   {
    "duration": 89,
    "start_time": "2022-04-02T19:37:20.313Z"
   },
   {
    "duration": 104,
    "start_time": "2022-04-02T19:37:20.404Z"
   },
   {
    "duration": 17,
    "start_time": "2022-04-02T19:37:20.509Z"
   },
   {
    "duration": 274,
    "start_time": "2022-04-02T19:37:20.527Z"
   },
   {
    "duration": 14,
    "start_time": "2022-04-02T19:37:20.802Z"
   },
   {
    "duration": 728,
    "start_time": "2022-04-02T19:37:20.819Z"
   },
   {
    "duration": 552,
    "start_time": "2022-04-02T19:37:21.549Z"
   },
   {
    "duration": 27,
    "start_time": "2022-04-02T19:42:52.814Z"
   },
   {
    "duration": 1606,
    "start_time": "2022-04-02T19:44:09.648Z"
   },
   {
    "duration": 38,
    "start_time": "2022-04-02T19:44:11.256Z"
   },
   {
    "duration": 24,
    "start_time": "2022-04-02T19:44:11.297Z"
   },
   {
    "duration": 13,
    "start_time": "2022-04-02T19:44:11.323Z"
   },
   {
    "duration": 13,
    "start_time": "2022-04-02T19:44:11.338Z"
   },
   {
    "duration": 4,
    "start_time": "2022-04-02T19:44:11.352Z"
   },
   {
    "duration": 5,
    "start_time": "2022-04-02T19:44:11.358Z"
   },
   {
    "duration": 46,
    "start_time": "2022-04-02T19:44:11.365Z"
   },
   {
    "duration": 4,
    "start_time": "2022-04-02T19:44:11.413Z"
   },
   {
    "duration": 9,
    "start_time": "2022-04-02T19:44:11.420Z"
   },
   {
    "duration": 13,
    "start_time": "2022-04-02T19:44:11.431Z"
   },
   {
    "duration": 15,
    "start_time": "2022-04-02T19:44:11.445Z"
   },
   {
    "duration": 11,
    "start_time": "2022-04-02T19:44:11.462Z"
   },
   {
    "duration": 28,
    "start_time": "2022-04-02T19:44:11.475Z"
   },
   {
    "duration": 6,
    "start_time": "2022-04-02T19:44:11.505Z"
   },
   {
    "duration": 7,
    "start_time": "2022-04-02T19:44:11.513Z"
   },
   {
    "duration": 9,
    "start_time": "2022-04-02T19:44:11.522Z"
   },
   {
    "duration": 8,
    "start_time": "2022-04-02T19:44:11.532Z"
   },
   {
    "duration": 10,
    "start_time": "2022-04-02T19:44:11.542Z"
   },
   {
    "duration": 68,
    "start_time": "2022-04-02T19:44:11.553Z"
   },
   {
    "duration": 58,
    "start_time": "2022-04-02T19:44:11.622Z"
   },
   {
    "duration": 8599,
    "start_time": "2022-04-02T19:44:11.682Z"
   },
   {
    "duration": 328,
    "start_time": "2022-04-02T19:44:20.283Z"
   },
   {
    "duration": 306,
    "start_time": "2022-04-02T19:44:20.614Z"
   },
   {
    "duration": 65,
    "start_time": "2022-04-02T19:44:20.922Z"
   },
   {
    "duration": 202971,
    "start_time": "2022-04-02T19:44:20.989Z"
   },
   {
    "duration": 413,
    "start_time": "2022-04-02T19:47:43.961Z"
   },
   {
    "duration": 27,
    "start_time": "2022-04-02T19:47:44.378Z"
   },
   {
    "duration": 101,
    "start_time": "2022-04-02T19:47:44.408Z"
   },
   {
    "duration": 112,
    "start_time": "2022-04-02T19:47:44.511Z"
   },
   {
    "duration": 559,
    "start_time": "2022-04-02T19:47:44.625Z"
   },
   {
    "duration": 30,
    "start_time": "2022-04-02T19:47:45.186Z"
   },
   {
    "duration": 183,
    "start_time": "2022-04-02T19:47:45.219Z"
   },
   {
    "duration": 13,
    "start_time": "2022-04-02T19:47:45.404Z"
   },
   {
    "duration": 272,
    "start_time": "2022-04-02T19:47:45.419Z"
   },
   {
    "duration": 101,
    "start_time": "2022-04-02T19:47:45.700Z"
   },
   {
    "duration": 622,
    "start_time": "2022-04-02T19:47:45.804Z"
   },
   {
    "duration": 541,
    "start_time": "2022-04-02T19:47:46.428Z"
   },
   {
    "duration": 182862,
    "start_time": "2022-04-02T19:58:45.867Z"
   },
   {
    "duration": 1800,
    "start_time": "2022-04-03T13:49:38.169Z"
   },
   {
    "duration": 40,
    "start_time": "2022-04-03T13:49:39.971Z"
   },
   {
    "duration": 15,
    "start_time": "2022-04-03T13:49:40.013Z"
   },
   {
    "duration": 12,
    "start_time": "2022-04-03T13:49:40.029Z"
   },
   {
    "duration": 10,
    "start_time": "2022-04-03T13:49:40.042Z"
   },
   {
    "duration": 4,
    "start_time": "2022-04-03T13:49:40.053Z"
   },
   {
    "duration": 6,
    "start_time": "2022-04-03T13:49:40.059Z"
   },
   {
    "duration": 14,
    "start_time": "2022-04-03T13:49:40.081Z"
   },
   {
    "duration": 4,
    "start_time": "2022-04-03T13:49:40.096Z"
   },
   {
    "duration": 5,
    "start_time": "2022-04-03T13:49:40.103Z"
   },
   {
    "duration": 10,
    "start_time": "2022-04-03T13:49:40.109Z"
   },
   {
    "duration": 12,
    "start_time": "2022-04-03T13:49:40.120Z"
   },
   {
    "duration": 9,
    "start_time": "2022-04-03T13:49:40.134Z"
   },
   {
    "duration": 38,
    "start_time": "2022-04-03T13:49:40.144Z"
   },
   {
    "duration": 5,
    "start_time": "2022-04-03T13:49:40.183Z"
   },
   {
    "duration": 7,
    "start_time": "2022-04-03T13:49:40.189Z"
   },
   {
    "duration": 8,
    "start_time": "2022-04-03T13:49:40.197Z"
   },
   {
    "duration": 5,
    "start_time": "2022-04-03T13:49:40.206Z"
   },
   {
    "duration": 5,
    "start_time": "2022-04-03T13:49:40.212Z"
   },
   {
    "duration": 29,
    "start_time": "2022-04-03T13:49:40.218Z"
   },
   {
    "duration": 83,
    "start_time": "2022-04-03T13:49:40.249Z"
   },
   {
    "duration": 7733,
    "start_time": "2022-04-03T13:49:40.334Z"
   },
   {
    "duration": 218,
    "start_time": "2022-04-03T13:49:48.068Z"
   },
   {
    "duration": 267,
    "start_time": "2022-04-03T13:49:48.288Z"
   },
   {
    "duration": 69,
    "start_time": "2022-04-03T13:49:48.556Z"
   },
   {
    "duration": 20,
    "start_time": "2022-04-03T13:49:48.626Z"
   },
   {
    "duration": 168094,
    "start_time": "2022-04-03T13:49:48.647Z"
   },
   {
    "duration": 437,
    "start_time": "2022-04-03T13:52:36.744Z"
   },
   {
    "duration": 99,
    "start_time": "2022-04-03T13:52:37.182Z"
   },
   {
    "duration": 103,
    "start_time": "2022-04-03T13:52:37.284Z"
   },
   {
    "duration": 20,
    "start_time": "2022-04-03T13:52:37.389Z"
   },
   {
    "duration": 518,
    "start_time": "2022-04-03T13:52:37.410Z"
   },
   {
    "duration": 53,
    "start_time": "2022-04-03T13:52:37.929Z"
   },
   {
    "duration": 102,
    "start_time": "2022-04-03T13:52:37.984Z"
   },
   {
    "duration": 13,
    "start_time": "2022-04-03T13:52:38.088Z"
   },
   {
    "duration": 263,
    "start_time": "2022-04-03T13:52:38.102Z"
   },
   {
    "duration": 22,
    "start_time": "2022-04-03T13:52:38.366Z"
   },
   {
    "duration": 685,
    "start_time": "2022-04-03T13:52:38.390Z"
   },
   {
    "duration": 611,
    "start_time": "2022-04-03T13:52:39.081Z"
   },
   {
    "duration": 168832,
    "start_time": "2022-04-03T14:10:15.141Z"
   },
   {
    "duration": 411,
    "start_time": "2022-04-03T14:13:57.276Z"
   },
   {
    "duration": 487,
    "start_time": "2022-04-03T14:14:41.017Z"
   },
   {
    "duration": 515,
    "start_time": "2022-04-03T14:14:51.131Z"
   },
   {
    "duration": 432,
    "start_time": "2022-04-03T14:15:08.428Z"
   },
   {
    "duration": 174333,
    "start_time": "2022-04-03T14:15:29.774Z"
   },
   {
    "duration": 186,
    "start_time": "2022-04-03T14:18:24.109Z"
   },
   {
    "duration": 0,
    "start_time": "2022-04-03T14:18:24.296Z"
   },
   {
    "duration": 187,
    "start_time": "2022-04-03T14:18:46.102Z"
   },
   {
    "duration": 189,
    "start_time": "2022-04-03T14:19:01.941Z"
   },
   {
    "duration": 201,
    "start_time": "2022-04-03T14:19:30.745Z"
   },
   {
    "duration": 181,
    "start_time": "2022-04-03T14:19:39.943Z"
   },
   {
    "duration": 5,
    "start_time": "2022-04-03T14:19:46.956Z"
   },
   {
    "duration": 5,
    "start_time": "2022-04-03T14:20:01.373Z"
   },
   {
    "duration": 5,
    "start_time": "2022-04-03T14:20:03.940Z"
   },
   {
    "duration": 21,
    "start_time": "2022-04-03T14:22:31.828Z"
   },
   {
    "duration": 347,
    "start_time": "2022-04-03T14:25:07.091Z"
   },
   {
    "duration": 4,
    "start_time": "2022-04-03T14:25:25.516Z"
   },
   {
    "duration": 31,
    "start_time": "2022-04-03T14:25:25.521Z"
   },
   {
    "duration": 11,
    "start_time": "2022-04-03T14:25:25.553Z"
   },
   {
    "duration": 11,
    "start_time": "2022-04-03T14:25:25.566Z"
   },
   {
    "duration": 9,
    "start_time": "2022-04-03T14:25:25.579Z"
   },
   {
    "duration": 5,
    "start_time": "2022-04-03T14:25:25.589Z"
   },
   {
    "duration": 6,
    "start_time": "2022-04-03T14:25:25.595Z"
   },
   {
    "duration": 15,
    "start_time": "2022-04-03T14:25:25.603Z"
   },
   {
    "duration": 3,
    "start_time": "2022-04-03T14:25:25.621Z"
   },
   {
    "duration": 7,
    "start_time": "2022-04-03T14:25:25.626Z"
   },
   {
    "duration": 9,
    "start_time": "2022-04-03T14:25:25.635Z"
   },
   {
    "duration": 42,
    "start_time": "2022-04-03T14:25:25.646Z"
   },
   {
    "duration": 9,
    "start_time": "2022-04-03T14:25:25.690Z"
   },
   {
    "duration": 11,
    "start_time": "2022-04-03T14:25:25.700Z"
   },
   {
    "duration": 10,
    "start_time": "2022-04-03T14:25:25.712Z"
   },
   {
    "duration": 7,
    "start_time": "2022-04-03T14:25:25.724Z"
   },
   {
    "duration": 7,
    "start_time": "2022-04-03T14:25:25.732Z"
   },
   {
    "duration": 11,
    "start_time": "2022-04-03T14:25:25.741Z"
   },
   {
    "duration": 6,
    "start_time": "2022-04-03T14:25:25.754Z"
   },
   {
    "duration": 46,
    "start_time": "2022-04-03T14:25:25.761Z"
   },
   {
    "duration": 72,
    "start_time": "2022-04-03T14:25:25.809Z"
   },
   {
    "duration": 22,
    "start_time": "2022-04-03T14:25:25.883Z"
   },
   {
    "duration": 7619,
    "start_time": "2022-04-03T14:25:25.908Z"
   },
   {
    "duration": 337,
    "start_time": "2022-04-03T14:25:33.529Z"
   },
   {
    "duration": 217,
    "start_time": "2022-04-03T14:25:33.868Z"
   },
   {
    "duration": 194,
    "start_time": "2022-04-03T14:25:34.087Z"
   },
   {
    "duration": 56,
    "start_time": "2022-04-03T14:25:34.282Z"
   },
   {
    "duration": 20,
    "start_time": "2022-04-03T14:25:34.340Z"
   },
   {
    "duration": 169284,
    "start_time": "2022-04-03T14:25:34.361Z"
   },
   {
    "duration": 539,
    "start_time": "2022-04-03T14:28:23.648Z"
   },
   {
    "duration": 94,
    "start_time": "2022-04-03T14:28:24.189Z"
   },
   {
    "duration": 102,
    "start_time": "2022-04-03T14:28:24.285Z"
   },
   {
    "duration": 20,
    "start_time": "2022-04-03T14:28:24.388Z"
   },
   {
    "duration": 520,
    "start_time": "2022-04-03T14:28:24.410Z"
   },
   {
    "duration": 53,
    "start_time": "2022-04-03T14:28:24.932Z"
   },
   {
    "duration": 103,
    "start_time": "2022-04-03T14:28:24.987Z"
   },
   {
    "duration": 13,
    "start_time": "2022-04-03T14:28:25.091Z"
   },
   {
    "duration": 312,
    "start_time": "2022-04-03T14:28:25.106Z"
   },
   {
    "duration": 67,
    "start_time": "2022-04-03T14:28:25.420Z"
   },
   {
    "duration": 645,
    "start_time": "2022-04-03T14:28:25.489Z"
   },
   {
    "duration": 606,
    "start_time": "2022-04-03T14:28:26.135Z"
   },
   {
    "duration": 25,
    "start_time": "2022-04-03T15:15:56.672Z"
   },
   {
    "duration": 525,
    "start_time": "2022-04-03T15:16:34.381Z"
   },
   {
    "duration": 27,
    "start_time": "2022-04-03T15:16:58.757Z"
   },
   {
    "duration": 18,
    "start_time": "2022-04-03T15:17:21.495Z"
   },
   {
    "duration": 281,
    "start_time": "2022-04-03T15:17:46.410Z"
   },
   {
    "duration": 20,
    "start_time": "2022-04-03T15:18:14.278Z"
   },
   {
    "duration": 1846,
    "start_time": "2022-04-03T15:47:08.591Z"
   },
   {
    "duration": 42,
    "start_time": "2022-04-03T15:47:10.439Z"
   },
   {
    "duration": 15,
    "start_time": "2022-04-03T15:47:10.483Z"
   },
   {
    "duration": 16,
    "start_time": "2022-04-03T15:47:10.500Z"
   },
   {
    "duration": 13,
    "start_time": "2022-04-03T15:47:10.518Z"
   },
   {
    "duration": 4,
    "start_time": "2022-04-03T15:47:10.533Z"
   },
   {
    "duration": 6,
    "start_time": "2022-04-03T15:47:10.539Z"
   },
   {
    "duration": 47,
    "start_time": "2022-04-03T15:47:10.546Z"
   },
   {
    "duration": 4,
    "start_time": "2022-04-03T15:47:10.594Z"
   },
   {
    "duration": 5,
    "start_time": "2022-04-03T15:47:10.601Z"
   },
   {
    "duration": 11,
    "start_time": "2022-04-03T15:47:10.608Z"
   },
   {
    "duration": 10,
    "start_time": "2022-04-03T15:47:10.621Z"
   },
   {
    "duration": 10,
    "start_time": "2022-04-03T15:47:10.633Z"
   },
   {
    "duration": 6,
    "start_time": "2022-04-03T15:47:10.644Z"
   },
   {
    "duration": 6,
    "start_time": "2022-04-03T15:47:10.681Z"
   },
   {
    "duration": 10,
    "start_time": "2022-04-03T15:47:10.688Z"
   },
   {
    "duration": 11,
    "start_time": "2022-04-03T15:47:10.699Z"
   },
   {
    "duration": 13,
    "start_time": "2022-04-03T15:47:10.711Z"
   },
   {
    "duration": 7,
    "start_time": "2022-04-03T15:47:10.725Z"
   },
   {
    "duration": 49,
    "start_time": "2022-04-03T15:47:10.733Z"
   },
   {
    "duration": 58,
    "start_time": "2022-04-03T15:47:10.783Z"
   },
   {
    "duration": 20,
    "start_time": "2022-04-03T15:47:10.842Z"
   },
   {
    "duration": 9509,
    "start_time": "2022-04-03T15:47:10.864Z"
   },
   {
    "duration": 629,
    "start_time": "2022-04-03T15:47:20.380Z"
   },
   {
    "duration": 270,
    "start_time": "2022-04-03T15:47:21.012Z"
   },
   {
    "duration": 203,
    "start_time": "2022-04-03T15:47:21.284Z"
   },
   {
    "duration": 59,
    "start_time": "2022-04-03T15:47:21.489Z"
   },
   {
    "duration": 38,
    "start_time": "2022-04-03T15:47:21.551Z"
   },
   {
    "duration": 181696,
    "start_time": "2022-04-03T15:47:21.590Z"
   },
   {
    "duration": 693,
    "start_time": "2022-04-03T15:50:23.288Z"
   },
   {
    "duration": 24,
    "start_time": "2022-04-03T15:50:23.982Z"
   },
   {
    "duration": 104,
    "start_time": "2022-04-03T15:50:24.082Z"
   },
   {
    "duration": 30,
    "start_time": "2022-04-03T15:50:24.187Z"
   },
   {
    "duration": 551,
    "start_time": "2022-04-03T15:50:24.218Z"
   },
   {
    "duration": 118,
    "start_time": "2022-04-03T15:50:24.771Z"
   },
   {
    "duration": 102,
    "start_time": "2022-04-03T15:50:24.980Z"
   },
   {
    "duration": 17,
    "start_time": "2022-04-03T15:50:25.084Z"
   },
   {
    "duration": 287,
    "start_time": "2022-04-03T15:50:25.102Z"
   },
   {
    "duration": 18,
    "start_time": "2022-04-03T15:50:25.391Z"
   },
   {
    "duration": 687,
    "start_time": "2022-04-03T15:50:25.411Z"
   },
   {
    "duration": 621,
    "start_time": "2022-04-03T15:50:26.099Z"
   }
  ],
  "kernelspec": {
   "display_name": "Python 3 (ipykernel)",
   "language": "python",
   "name": "python3"
  },
  "language_info": {
   "codemirror_mode": {
    "name": "ipython",
    "version": 3
   },
   "file_extension": ".py",
   "mimetype": "text/x-python",
   "name": "python",
   "nbconvert_exporter": "python",
   "pygments_lexer": "ipython3",
   "version": "3.9.7"
  },
  "toc": {
   "base_numbering": 1,
   "nav_menu": {},
   "number_sections": true,
   "sideBar": true,
   "skip_h1_title": true,
   "title_cell": "Содержание",
   "title_sidebar": "Contents",
   "toc_cell": true,
   "toc_position": {},
   "toc_section_display": true,
   "toc_window_display": false
  }
 },
 "nbformat": 4,
 "nbformat_minor": 2
}
