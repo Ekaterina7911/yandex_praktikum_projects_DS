{
 "cells": [
  {
   "cell_type": "markdown",
   "metadata": {
    "toc": true
   },
   "source": [
    "<h1>Содержание<span class=\"tocSkip\"></span></h1>\n",
    "<div class=\"toc\"><ul class=\"toc-item\"><li><span><a href=\"#Загрузка-данных\" data-toc-modified-id=\"Загрузка-данных-1\"><span class=\"toc-item-num\">1&nbsp;&nbsp;</span>Загрузка данных</a></span><ul class=\"toc-item\"><li><span><a href=\"#загрузка-и-изучение-данных\" data-toc-modified-id=\"загрузка-и-изучение-данных-1.1\"><span class=\"toc-item-num\">1.1&nbsp;&nbsp;</span>загрузка и изучение данных</a></span></li><li><span><a href=\"#Предобработка-данных\" data-toc-modified-id=\"Предобработка-данных-1.2\"><span class=\"toc-item-num\">1.2&nbsp;&nbsp;</span>Предобработка данных</a></span></li></ul></li><li><span><a href=\"#Умножение-матриц\" data-toc-modified-id=\"Умножение-матриц-2\"><span class=\"toc-item-num\">2&nbsp;&nbsp;</span>Умножение матриц</a></span></li><li><span><a href=\"#Алгоритм-преобразования\" data-toc-modified-id=\"Алгоритм-преобразования-3\"><span class=\"toc-item-num\">3&nbsp;&nbsp;</span>Алгоритм преобразования</a></span></li><li><span><a href=\"#Проверка-алгоритма\" data-toc-modified-id=\"Проверка-алгоритма-4\"><span class=\"toc-item-num\">4&nbsp;&nbsp;</span>Проверка алгоритма</a></span><ul class=\"toc-item\"><li><span><a href=\"#Преобразование-данных\" data-toc-modified-id=\"Преобразование-данных-4.1\"><span class=\"toc-item-num\">4.1&nbsp;&nbsp;</span>Преобразование данных</a></span></li><li><span><a href=\"#Проверка-работоспособности-алгоритма\" data-toc-modified-id=\"Проверка-работоспособности-алгоритма-4.2\"><span class=\"toc-item-num\">4.2&nbsp;&nbsp;</span>Проверка работоспособности алгоритма</a></span></li></ul></li><li><span><a href=\"#Вывод\" data-toc-modified-id=\"Вывод-5\"><span class=\"toc-item-num\">5&nbsp;&nbsp;</span>Вывод</a></span></li></ul></div>"
   ]
  },
  {
   "cell_type": "markdown",
   "metadata": {},
   "source": [
    "# Защита персональных данных клиентов"
   ]
  },
  {
   "cell_type": "markdown",
   "metadata": {},
   "source": [
    "Вам нужно защитить данные клиентов страховой компании «Хоть потоп». Разработайте такой метод преобразования данных, чтобы по ним было сложно восстановить персональную информацию. Обоснуйте корректность его работы.\n",
    "\n",
    "Нужно защитить данные, чтобы при преобразовании качество моделей машинного обучения не ухудшилось. Подбирать наилучшую модель не требуется."
   ]
  },
  {
   "cell_type": "markdown",
   "metadata": {},
   "source": [
    "В процессе выполнения проекта мы выполним следующие этапы:\n",
    "- загрузим и изучим файл\n",
    "- проведем предобработку данных (если это потребуется)\n",
    "- ответим на вопрос изменится ли качество линейной регресси при перемножении признаков на обратную матрицу или нет\n",
    "- предложим алгоритм преобразования данных для решения основной задачи\n",
    "- проверим качество линейной регресси на приобразованных данных и посчитаем коэффициент детерминации"
   ]
  },
  {
   "cell_type": "markdown",
   "metadata": {},
   "source": [
    "## Загрузка данных"
   ]
  },
  {
   "cell_type": "markdown",
   "metadata": {},
   "source": [
    "### загрузка и изучение данных"
   ]
  },
  {
   "cell_type": "markdown",
   "metadata": {},
   "source": [
    "Перед началом работы загрузим все необходимые библиотеки."
   ]
  },
  {
   "cell_type": "code",
   "execution_count": 1,
   "metadata": {},
   "outputs": [],
   "source": [
    "import pandas as pd\n",
    "import numpy as np\n",
    "#import random\n",
    "\n",
    "from sklearn.linear_model import LinearRegression\n",
    "from sklearn.model_selection import train_test_split\n",
    "from sklearn.metrics import r2_score"
   ]
  },
  {
   "cell_type": "markdown",
   "metadata": {},
   "source": [
    "Прочитаем данные из файла."
   ]
  },
  {
   "cell_type": "code",
   "execution_count": 2,
   "metadata": {},
   "outputs": [],
   "source": [
    "insurance = pd.read_csv('/datasets/insurance.csv') # открытие файла"
   ]
  },
  {
   "cell_type": "code",
   "execution_count": 3,
   "metadata": {},
   "outputs": [
    {
     "data": {
      "text/html": [
       "<div>\n",
       "<style scoped>\n",
       "    .dataframe tbody tr th:only-of-type {\n",
       "        vertical-align: middle;\n",
       "    }\n",
       "\n",
       "    .dataframe tbody tr th {\n",
       "        vertical-align: top;\n",
       "    }\n",
       "\n",
       "    .dataframe thead th {\n",
       "        text-align: right;\n",
       "    }\n",
       "</style>\n",
       "<table border=\"1\" class=\"dataframe\">\n",
       "  <thead>\n",
       "    <tr style=\"text-align: right;\">\n",
       "      <th></th>\n",
       "      <th>Пол</th>\n",
       "      <th>Возраст</th>\n",
       "      <th>Зарплата</th>\n",
       "      <th>Члены семьи</th>\n",
       "      <th>Страховые выплаты</th>\n",
       "    </tr>\n",
       "  </thead>\n",
       "  <tbody>\n",
       "    <tr>\n",
       "      <th>0</th>\n",
       "      <td>1</td>\n",
       "      <td>41.0</td>\n",
       "      <td>49600.0</td>\n",
       "      <td>1</td>\n",
       "      <td>0</td>\n",
       "    </tr>\n",
       "    <tr>\n",
       "      <th>1</th>\n",
       "      <td>0</td>\n",
       "      <td>46.0</td>\n",
       "      <td>38000.0</td>\n",
       "      <td>1</td>\n",
       "      <td>1</td>\n",
       "    </tr>\n",
       "    <tr>\n",
       "      <th>2</th>\n",
       "      <td>0</td>\n",
       "      <td>29.0</td>\n",
       "      <td>21000.0</td>\n",
       "      <td>0</td>\n",
       "      <td>0</td>\n",
       "    </tr>\n",
       "    <tr>\n",
       "      <th>3</th>\n",
       "      <td>0</td>\n",
       "      <td>21.0</td>\n",
       "      <td>41700.0</td>\n",
       "      <td>2</td>\n",
       "      <td>0</td>\n",
       "    </tr>\n",
       "    <tr>\n",
       "      <th>4</th>\n",
       "      <td>1</td>\n",
       "      <td>28.0</td>\n",
       "      <td>26100.0</td>\n",
       "      <td>0</td>\n",
       "      <td>0</td>\n",
       "    </tr>\n",
       "  </tbody>\n",
       "</table>\n",
       "</div>"
      ],
      "text/plain": [
       "   Пол  Возраст  Зарплата  Члены семьи  Страховые выплаты\n",
       "0    1     41.0   49600.0            1                  0\n",
       "1    0     46.0   38000.0            1                  1\n",
       "2    0     29.0   21000.0            0                  0\n",
       "3    0     21.0   41700.0            2                  0\n",
       "4    1     28.0   26100.0            0                  0"
      ]
     },
     "metadata": {},
     "output_type": "display_data"
    }
   ],
   "source": [
    "display(insurance.head()) # просмотр первых пяти строк."
   ]
  },
  {
   "cell_type": "markdown",
   "metadata": {},
   "source": [
    "Сразу можно сказать, что названия столбцов мы заменим для удобства дальнейшей работы. Далее посмотрим информацию о файле."
   ]
  },
  {
   "cell_type": "code",
   "execution_count": 4,
   "metadata": {},
   "outputs": [
    {
     "name": "stdout",
     "output_type": "stream",
     "text": [
      "<class 'pandas.core.frame.DataFrame'>\n",
      "RangeIndex: 5000 entries, 0 to 4999\n",
      "Data columns (total 5 columns):\n",
      " #   Column             Non-Null Count  Dtype  \n",
      "---  ------             --------------  -----  \n",
      " 0   Пол                5000 non-null   int64  \n",
      " 1   Возраст            5000 non-null   float64\n",
      " 2   Зарплата           5000 non-null   float64\n",
      " 3   Члены семьи        5000 non-null   int64  \n",
      " 4   Страховые выплаты  5000 non-null   int64  \n",
      "dtypes: float64(2), int64(3)\n",
      "memory usage: 195.4 KB\n"
     ]
    }
   ],
   "source": [
    "insurance.info() # просмотр информации о файле"
   ]
  },
  {
   "cell_type": "markdown",
   "metadata": {},
   "source": [
    "В файле 5 столбцов: из них в двух тип -float64, а у трех- int64. Тип данных в столбце с возрасnом и зарплатой мы заменим на целочисленный."
   ]
  },
  {
   "cell_type": "markdown",
   "metadata": {},
   "source": [
    "В соответствии с документацией в таблице присутствуют следующие данные:\n",
    "- пол\n",
    "- возраст\n",
    "- зарплата застрахованного\n",
    "- количество членов его семьи\n",
    "- количество страховых выплат клиенту за последние 5 лет.\n"
   ]
  },
  {
   "cell_type": "markdown",
   "metadata": {},
   "source": [
    "Проверим есть ли дубликаты строк."
   ]
  },
  {
   "cell_type": "code",
   "execution_count": 5,
   "metadata": {},
   "outputs": [
    {
     "data": {
      "text/plain": [
       "153"
      ]
     },
     "execution_count": 5,
     "metadata": {},
     "output_type": "execute_result"
    }
   ],
   "source": [
    "insurance.duplicated().sum() # подсчет количества дублирующихся строк"
   ]
  },
  {
   "cell_type": "markdown",
   "metadata": {},
   "source": [
    "153 дублирующиеся строки. Поскольку у нас нет какого-то идентификатора клиента (его ФИО или его ID), мы не можем сказать, что дублирующиеся строки описывают одних и тех же застрахованных. В случае, если бы в таблице были бы ID людей и обнаружились бы дубли, то в таком случае мы бы однозначно удалили бы такие строки. В нашем случае у нас нет информации о том, что это дейтвительно задвоенная информация об одних и тех же людях, поэтому дубли удалять не будем."
   ]
  },
  {
   "cell_type": "markdown",
   "metadata": {},
   "source": [
    "Посмотрим как коррелируют между собой данные."
   ]
  },
  {
   "cell_type": "code",
   "execution_count": 6,
   "metadata": {
    "scrolled": true
   },
   "outputs": [
    {
     "data": {
      "text/html": [
       "<div>\n",
       "<style scoped>\n",
       "    .dataframe tbody tr th:only-of-type {\n",
       "        vertical-align: middle;\n",
       "    }\n",
       "\n",
       "    .dataframe tbody tr th {\n",
       "        vertical-align: top;\n",
       "    }\n",
       "\n",
       "    .dataframe thead th {\n",
       "        text-align: right;\n",
       "    }\n",
       "</style>\n",
       "<table border=\"1\" class=\"dataframe\">\n",
       "  <thead>\n",
       "    <tr style=\"text-align: right;\">\n",
       "      <th></th>\n",
       "      <th>Пол</th>\n",
       "      <th>Возраст</th>\n",
       "      <th>Зарплата</th>\n",
       "      <th>Члены семьи</th>\n",
       "      <th>Страховые выплаты</th>\n",
       "    </tr>\n",
       "  </thead>\n",
       "  <tbody>\n",
       "    <tr>\n",
       "      <th>Пол</th>\n",
       "      <td>1.000000</td>\n",
       "      <td>0.002074</td>\n",
       "      <td>0.014910</td>\n",
       "      <td>-0.008991</td>\n",
       "      <td>0.010140</td>\n",
       "    </tr>\n",
       "    <tr>\n",
       "      <th>Возраст</th>\n",
       "      <td>0.002074</td>\n",
       "      <td>1.000000</td>\n",
       "      <td>-0.019093</td>\n",
       "      <td>-0.006692</td>\n",
       "      <td>0.651030</td>\n",
       "    </tr>\n",
       "    <tr>\n",
       "      <th>Зарплата</th>\n",
       "      <td>0.014910</td>\n",
       "      <td>-0.019093</td>\n",
       "      <td>1.000000</td>\n",
       "      <td>-0.030296</td>\n",
       "      <td>-0.014963</td>\n",
       "    </tr>\n",
       "    <tr>\n",
       "      <th>Члены семьи</th>\n",
       "      <td>-0.008991</td>\n",
       "      <td>-0.006692</td>\n",
       "      <td>-0.030296</td>\n",
       "      <td>1.000000</td>\n",
       "      <td>-0.036290</td>\n",
       "    </tr>\n",
       "    <tr>\n",
       "      <th>Страховые выплаты</th>\n",
       "      <td>0.010140</td>\n",
       "      <td>0.651030</td>\n",
       "      <td>-0.014963</td>\n",
       "      <td>-0.036290</td>\n",
       "      <td>1.000000</td>\n",
       "    </tr>\n",
       "  </tbody>\n",
       "</table>\n",
       "</div>"
      ],
      "text/plain": [
       "                        Пол   Возраст  Зарплата  Члены семьи  \\\n",
       "Пол                1.000000  0.002074  0.014910    -0.008991   \n",
       "Возраст            0.002074  1.000000 -0.019093    -0.006692   \n",
       "Зарплата           0.014910 -0.019093  1.000000    -0.030296   \n",
       "Члены семьи       -0.008991 -0.006692 -0.030296     1.000000   \n",
       "Страховые выплаты  0.010140  0.651030 -0.014963    -0.036290   \n",
       "\n",
       "                   Страховые выплаты  \n",
       "Пол                         0.010140  \n",
       "Возраст                     0.651030  \n",
       "Зарплата                   -0.014963  \n",
       "Члены семьи                -0.036290  \n",
       "Страховые выплаты           1.000000  "
      ]
     },
     "execution_count": 6,
     "metadata": {},
     "output_type": "execute_result"
    }
   ],
   "source": [
    "insurance.corr() # расчет попарного коэффициента корреляции"
   ]
  },
  {
   "cell_type": "markdown",
   "metadata": {},
   "source": [
    "Между признаками везде слабая корреляция. Достаточно сильная корреляция наблюдается между признаком \"возраст\" и целевым признаком \"страховые выплаты\". Далее посмотрим статистические данные о признаках."
   ]
  },
  {
   "cell_type": "code",
   "execution_count": 7,
   "metadata": {},
   "outputs": [
    {
     "data": {
      "text/html": [
       "<div>\n",
       "<style scoped>\n",
       "    .dataframe tbody tr th:only-of-type {\n",
       "        vertical-align: middle;\n",
       "    }\n",
       "\n",
       "    .dataframe tbody tr th {\n",
       "        vertical-align: top;\n",
       "    }\n",
       "\n",
       "    .dataframe thead th {\n",
       "        text-align: right;\n",
       "    }\n",
       "</style>\n",
       "<table border=\"1\" class=\"dataframe\">\n",
       "  <thead>\n",
       "    <tr style=\"text-align: right;\">\n",
       "      <th></th>\n",
       "      <th>Возраст</th>\n",
       "      <th>Зарплата</th>\n",
       "      <th>Члены семьи</th>\n",
       "      <th>Страховые выплаты</th>\n",
       "    </tr>\n",
       "  </thead>\n",
       "  <tbody>\n",
       "    <tr>\n",
       "      <th>count</th>\n",
       "      <td>5000.000000</td>\n",
       "      <td>5000.000000</td>\n",
       "      <td>5000.000000</td>\n",
       "      <td>5000.000000</td>\n",
       "    </tr>\n",
       "    <tr>\n",
       "      <th>mean</th>\n",
       "      <td>30.952800</td>\n",
       "      <td>39916.360000</td>\n",
       "      <td>1.194200</td>\n",
       "      <td>0.148000</td>\n",
       "    </tr>\n",
       "    <tr>\n",
       "      <th>std</th>\n",
       "      <td>8.440807</td>\n",
       "      <td>9900.083569</td>\n",
       "      <td>1.091387</td>\n",
       "      <td>0.463183</td>\n",
       "    </tr>\n",
       "    <tr>\n",
       "      <th>min</th>\n",
       "      <td>18.000000</td>\n",
       "      <td>5300.000000</td>\n",
       "      <td>0.000000</td>\n",
       "      <td>0.000000</td>\n",
       "    </tr>\n",
       "    <tr>\n",
       "      <th>25%</th>\n",
       "      <td>24.000000</td>\n",
       "      <td>33300.000000</td>\n",
       "      <td>0.000000</td>\n",
       "      <td>0.000000</td>\n",
       "    </tr>\n",
       "    <tr>\n",
       "      <th>50%</th>\n",
       "      <td>30.000000</td>\n",
       "      <td>40200.000000</td>\n",
       "      <td>1.000000</td>\n",
       "      <td>0.000000</td>\n",
       "    </tr>\n",
       "    <tr>\n",
       "      <th>75%</th>\n",
       "      <td>37.000000</td>\n",
       "      <td>46600.000000</td>\n",
       "      <td>2.000000</td>\n",
       "      <td>0.000000</td>\n",
       "    </tr>\n",
       "    <tr>\n",
       "      <th>max</th>\n",
       "      <td>65.000000</td>\n",
       "      <td>79000.000000</td>\n",
       "      <td>6.000000</td>\n",
       "      <td>5.000000</td>\n",
       "    </tr>\n",
       "  </tbody>\n",
       "</table>\n",
       "</div>"
      ],
      "text/plain": [
       "           Возраст      Зарплата  Члены семьи  Страховые выплаты\n",
       "count  5000.000000   5000.000000  5000.000000        5000.000000\n",
       "mean     30.952800  39916.360000     1.194200           0.148000\n",
       "std       8.440807   9900.083569     1.091387           0.463183\n",
       "min      18.000000   5300.000000     0.000000           0.000000\n",
       "25%      24.000000  33300.000000     0.000000           0.000000\n",
       "50%      30.000000  40200.000000     1.000000           0.000000\n",
       "75%      37.000000  46600.000000     2.000000           0.000000\n",
       "max      65.000000  79000.000000     6.000000           5.000000"
      ]
     },
     "execution_count": 7,
     "metadata": {},
     "output_type": "execute_result"
    }
   ],
   "source": [
    "insurance[['Возраст', 'Зарплата', 'Члены семьи', 'Страховые выплаты']].describe()"
   ]
  },
  {
   "cell_type": "markdown",
   "metadata": {},
   "source": [
    "Видимых проблем в данных нет. Проверим, что у нас в графе \"пол\" нет никаких неожиданностей."
   ]
  },
  {
   "cell_type": "code",
   "execution_count": 8,
   "metadata": {},
   "outputs": [
    {
     "data": {
      "text/plain": [
       "array([1, 0])"
      ]
     },
     "execution_count": 8,
     "metadata": {},
     "output_type": "execute_result"
    }
   ],
   "source": [
    "insurance['Пол'].unique()"
   ]
  },
  {
   "cell_type": "markdown",
   "metadata": {},
   "source": [
    "**Вывод**"
   ]
  },
  {
   "cell_type": "markdown",
   "metadata": {},
   "source": [
    "Мы посмотрели данные, критических ошибок и аномалий не обнаружено, но нужно провести некоторые преобразования, для удобства дальнейшей работы:\n",
    "- заменим названия в столбцах на английские\n",
    "- изменим тип данных в столбце с возрастом и зарплатой\n"
   ]
  },
  {
   "cell_type": "markdown",
   "metadata": {},
   "source": [
    "### Предобработка данных"
   ]
  },
  {
   "cell_type": "markdown",
   "metadata": {},
   "source": [
    "Переименовываем столбцы:"
   ]
  },
  {
   "cell_type": "code",
   "execution_count": 9,
   "metadata": {},
   "outputs": [],
   "source": [
    "insurance.columns = ['gender', 'age', 'income', 'family_members', 'insurance_payments']"
   ]
  },
  {
   "cell_type": "markdown",
   "metadata": {},
   "source": [
    "Заменяем тип данных с вещественного на целочисленный:"
   ]
  },
  {
   "cell_type": "code",
   "execution_count": 10,
   "metadata": {},
   "outputs": [],
   "source": [
    "insurance[['age', 'income']] = insurance[['age', 'income']].astype('int64')"
   ]
  },
  {
   "cell_type": "markdown",
   "metadata": {},
   "source": [
    "Проверяем результат преобразований:"
   ]
  },
  {
   "cell_type": "code",
   "execution_count": 11,
   "metadata": {},
   "outputs": [
    {
     "data": {
      "text/html": [
       "<div>\n",
       "<style scoped>\n",
       "    .dataframe tbody tr th:only-of-type {\n",
       "        vertical-align: middle;\n",
       "    }\n",
       "\n",
       "    .dataframe tbody tr th {\n",
       "        vertical-align: top;\n",
       "    }\n",
       "\n",
       "    .dataframe thead th {\n",
       "        text-align: right;\n",
       "    }\n",
       "</style>\n",
       "<table border=\"1\" class=\"dataframe\">\n",
       "  <thead>\n",
       "    <tr style=\"text-align: right;\">\n",
       "      <th></th>\n",
       "      <th>gender</th>\n",
       "      <th>age</th>\n",
       "      <th>income</th>\n",
       "      <th>family_members</th>\n",
       "      <th>insurance_payments</th>\n",
       "    </tr>\n",
       "  </thead>\n",
       "  <tbody>\n",
       "    <tr>\n",
       "      <th>0</th>\n",
       "      <td>1</td>\n",
       "      <td>41</td>\n",
       "      <td>49600</td>\n",
       "      <td>1</td>\n",
       "      <td>0</td>\n",
       "    </tr>\n",
       "    <tr>\n",
       "      <th>1</th>\n",
       "      <td>0</td>\n",
       "      <td>46</td>\n",
       "      <td>38000</td>\n",
       "      <td>1</td>\n",
       "      <td>1</td>\n",
       "    </tr>\n",
       "    <tr>\n",
       "      <th>2</th>\n",
       "      <td>0</td>\n",
       "      <td>29</td>\n",
       "      <td>21000</td>\n",
       "      <td>0</td>\n",
       "      <td>0</td>\n",
       "    </tr>\n",
       "    <tr>\n",
       "      <th>3</th>\n",
       "      <td>0</td>\n",
       "      <td>21</td>\n",
       "      <td>41700</td>\n",
       "      <td>2</td>\n",
       "      <td>0</td>\n",
       "    </tr>\n",
       "    <tr>\n",
       "      <th>4</th>\n",
       "      <td>1</td>\n",
       "      <td>28</td>\n",
       "      <td>26100</td>\n",
       "      <td>0</td>\n",
       "      <td>0</td>\n",
       "    </tr>\n",
       "  </tbody>\n",
       "</table>\n",
       "</div>"
      ],
      "text/plain": [
       "   gender  age  income  family_members  insurance_payments\n",
       "0       1   41   49600               1                   0\n",
       "1       0   46   38000               1                   1\n",
       "2       0   29   21000               0                   0\n",
       "3       0   21   41700               2                   0\n",
       "4       1   28   26100               0                   0"
      ]
     },
     "metadata": {},
     "output_type": "display_data"
    }
   ],
   "source": [
    "display(insurance.head())"
   ]
  },
  {
   "cell_type": "markdown",
   "metadata": {},
   "source": [
    "## Умножение матриц"
   ]
  },
  {
   "cell_type": "markdown",
   "metadata": {},
   "source": [
    "Обозначения:\n",
    "- $a_1$, $a_2$- предсказание моли на оригинальной и обратимой матрицах\n",
    "\n",
    "- $X$ — матрица признаков (нулевой столбец состоит из единиц)\n",
    "\n",
    "- $y$ — вектор целевого признака\n",
    "\n",
    "- $P$ — матрица, на которую умножаются признаки\n",
    "\n",
    "- $w_1$, $w_2$  — вектор весов линейной регрессии (нулевой элемент равен сдвигу)\n",
    "- $E$ - единичная матрица\n",
    "- $A$ и $B$- произвольные квадратные матрицы\n"
   ]
  },
  {
   "cell_type": "markdown",
   "metadata": {},
   "source": [
    "Предсказания:\n",
    "\n",
    "$$\n",
    "a = Xw\n",
    "$$\n",
    "\n",
    "Задача обучения:\n",
    "\n",
    "$$\n",
    "w = \\arg\\min_w MSE(Xw, y)\n",
    "$$\n",
    "\n",
    "Формула обучения:\n",
    "\n",
    "$$\n",
    "w = (X^T X)^{-1} X^T y\n",
    "$$"
   ]
  },
  {
   "cell_type": "markdown",
   "metadata": {},
   "source": [
    "**Ответ:** Качество предсказаний моделей не изменится.\n",
    "\n",
    "**Обоснование:** "
   ]
  },
  {
   "cell_type": "markdown",
   "metadata": {},
   "source": [
    "Необходимо доказать, что $$a_1 = a_2$$"
   ]
  },
  {
   "cell_type": "markdown",
   "metadata": {},
   "source": [
    "Распишем более подробно чему равны предсказания:\n",
    "$$\n",
    "a_1 = Xw_1 = XEw_1 = XPP^{-1}w_1\n",
    "$$\n",
    "$$\n",
    "a_2 = Xw_2 = XPw_2\n",
    "$$"
   ]
  },
  {
   "cell_type": "markdown",
   "metadata": {},
   "source": [
    "Таким образом получаем:\n",
    "$$a_1 = a_2$$\n",
    "$$XPP^{-1}w_1 = XPw_2$$\n",
    "$$P^{-1}w_1 = w_2$$\n",
    "\n"
   ]
  },
  {
   "cell_type": "markdown",
   "metadata": {},
   "source": [
    "Далее исходим из того, что X и P не нулевые матрицы."
   ]
  },
  {
   "cell_type": "markdown",
   "metadata": {},
   "source": [
    "Распишем чему равен вектор весов в каждом случае:\n",
    "$$\n",
    "w_1 = (X^T X)^{-1} X^T y\n",
    "$$\n",
    "\n",
    "$$\n",
    "w_2 = ((XP)^T XP)^{-1} (XP)^T y\n",
    "$$\n",
    "\n",
    "Подставим их в равенство:\n",
    "\n",
    "$$\n",
    "P^{-1}(X^T X)^{-1} X^T y = ((XP)^T XP)^{-1} (XP)^T y\n",
    "$$\n"
   ]
  },
  {
   "cell_type": "markdown",
   "metadata": {},
   "source": [
    "Воспользуемся свойствами для двух квадратных матриц $(AB)^T = B^TA^T$ и $(AB)^{-1} = B^{-1}A^{-1}$"
   ]
  },
  {
   "cell_type": "markdown",
   "metadata": {},
   "source": [
    "$$\n",
    "P^{-1}(X^T X)^{-1} X^T y = (X^TP^T XP)^{-1} X^TP^T y\n",
    "$$\n",
    "\n",
    "$$\n",
    "P^{-1}(X^T X)^{-1} X^T y = (X^T XP)^{-1}(P^T)^{-1}P^T X^T y\n",
    "$$\n",
    "\n",
    "$$\n",
    "P^{-1}(X^T X)^{-1} X^T y = P^{-1}(X^T X)^{-1} X^T y\n",
    "$$"
   ]
  },
  {
   "cell_type": "markdown",
   "metadata": {},
   "source": [
    "Обе части уравнения равны, соответственно:\n",
    "\n",
    "$$a_1 = a_2$$\n",
    "$$XPP^{-1}w_1 = XPw_2$$\n",
    "$$MSE(a_1, y) = MSE(a_2, y)$$"
   ]
  },
  {
   "cell_type": "markdown",
   "metadata": {},
   "source": [
    "Мы доказали, что предсказания модели на оригинальной и преобразованной выборках будет одинаковым и следовательно качество предсказаний не изменится."
   ]
  },
  {
   "cell_type": "markdown",
   "metadata": {},
   "source": [
    "## Алгоритм преобразования"
   ]
  },
  {
   "cell_type": "markdown",
   "metadata": {},
   "source": [
    "**Алгоритм**\n",
    "\n",
    "Для того, чтобы зашифровать данные клиентов страховой компании, мы прибегнем к достаточно простому методу: матрицу признаков домножим на случайную обратимую квадратную матрицу, которую сгенерируем случайным образом."
   ]
  },
  {
   "cell_type": "markdown",
   "metadata": {},
   "source": [
    "Наш алгоритм будет состоять из следующих операций:\n",
    "- Для начала мы создадим функцию, которая будет генерировать случайную матрицу нужного размера и проверять ее на обратимость.\n",
    "- Далее создадим еще две функции: одна для кодирования признаков, а другая для декодирования. \n",
    "- Разделим исходные данные на признаки и целевой признак. \n",
    "- Признаки преобразуем с помощью функции кодирования и сразу проверим, что их можно декодировать. \n",
    "- Далее разделим данные на обучающую и тестовые выборки. \n",
    "- Обучим модели линейной регрессии на оригинальных и измененных данный и посмотрим меняется ли коэффициент детерминации. "
   ]
  },
  {
   "cell_type": "markdown",
   "metadata": {},
   "source": [
    "**Обоснование**"
   ]
  },
  {
   "cell_type": "markdown",
   "metadata": {},
   "source": [
    "Во втором разделе мы доказали, что при предсказания модели на оригинальной и преобразованной выборках будет одинаковым. "
   ]
  },
  {
   "cell_type": "markdown",
   "metadata": {},
   "source": [
    "Формула обучения будет выглядеть следующим образом:\n",
    "$$\n",
    "a_2 = XPw_2 = XP((XP)^TXP)^{-1}(XP)^Ty\n",
    "$$"
   ]
  },
  {
   "cell_type": "markdown",
   "metadata": {},
   "source": [
    "## Проверка алгоритма"
   ]
  },
  {
   "cell_type": "markdown",
   "metadata": {},
   "source": [
    "### Преобразование данных"
   ]
  },
  {
   "cell_type": "markdown",
   "metadata": {},
   "source": [
    "Напишем несколько функций:\n",
    "- matrix_generators - для генерации случайных обратимых матриц\n",
    "- matrix_encoder - для шифрования исходных данных\n",
    "- matrix_decoder - для шифрования исходных данных"
   ]
  },
  {
   "cell_type": "code",
   "execution_count": 12,
   "metadata": {},
   "outputs": [],
   "source": [
    "def matrix_generator(shape, max_iterations=10): #функция для генерации случайной матрицы\n",
    "    matrix_generated1 =np.random.default_rng()\n",
    "    matrix_generated = matrix_generated1.integers(0, 100, (shape))\n",
    "    \n",
    "    for _ in range(max_iterations):\n",
    "        \n",
    "        \n",
    "        try:\n",
    "            matrix_inverse = np.linalg.inv(matrix_generated)\n",
    "            \n",
    "            return matrix_generated, matrix_inverse\n",
    "          \n",
    "        \n",
    "        except np.linalg.LinAlgError:\n",
    "            pass\n",
    "        \n",
    "\n",
    "                          \n",
    "                           \n",
    "                           \n",
    "        "
   ]
  },
  {
   "cell_type": "code",
   "execution_count": 13,
   "metadata": {},
   "outputs": [],
   "source": [
    "def matrix_encoder(features, max_iterations=10): # функция кодирования\n",
    "    encryption_key, decryption_key = matrix_generator((features.shape[1], features.shape[1]), max_iterations)\n",
    "      \n",
    "    return features.dot(encryption_key), decryption_key\n",
    "    \n"
   ]
  },
  {
   "cell_type": "code",
   "execution_count": 14,
   "metadata": {},
   "outputs": [],
   "source": [
    "def matrix_decoder(features, decryption_key): # функция декодирования\n",
    "       \n",
    "    return features.dot(decryption_key)"
   ]
  },
  {
   "cell_type": "markdown",
   "metadata": {},
   "source": [
    "\n"
   ]
  },
  {
   "cell_type": "markdown",
   "metadata": {},
   "source": [
    "Далее мы применим наши функции и проверим качество моделей на оригинальных признаках и закодированных."
   ]
  },
  {
   "cell_type": "markdown",
   "metadata": {},
   "source": [
    "### Проверка работоспособности алгоритма"
   ]
  },
  {
   "cell_type": "markdown",
   "metadata": {},
   "source": [
    "Разделим нашу выборку на признаки и целевой признак."
   ]
  },
  {
   "cell_type": "code",
   "execution_count": 15,
   "metadata": {},
   "outputs": [],
   "source": [
    "target_original = insurance['insurance_payments'] # целевой признак\n",
    "features_original = insurance.drop('insurance_payments', axis=1) # признаки"
   ]
  },
  {
   "cell_type": "markdown",
   "metadata": {},
   "source": [
    "Оригинальные данные разделим на обучающую и тестовую выборки и проверим, что признаки и целевой признак разделены верно."
   ]
  },
  {
   "cell_type": "code",
   "execution_count": 16,
   "metadata": {},
   "outputs": [],
   "source": [
    "features_train_original, features_test_original, target_train, target_test = train_test_split(features_original,\n",
    "                                                            target_original, test_size=0.25, random_state=12345)"
   ]
  },
  {
   "cell_type": "code",
   "execution_count": 17,
   "metadata": {},
   "outputs": [
    {
     "name": "stdout",
     "output_type": "stream",
     "text": [
      "(3750, 4)\n",
      "(3750,)\n"
     ]
    }
   ],
   "source": [
    "print(features_train_original.shape)\n",
    "print(target_train.shape)"
   ]
  },
  {
   "cell_type": "code",
   "execution_count": 18,
   "metadata": {},
   "outputs": [
    {
     "name": "stdout",
     "output_type": "stream",
     "text": [
      "(1250, 4)\n",
      "(1250,)\n"
     ]
    }
   ],
   "source": [
    "print(features_test_original.shape)\n",
    "print(target_test.shape)"
   ]
  },
  {
   "cell_type": "markdown",
   "metadata": {},
   "source": [
    "Зашифруем признаки с помощью нашей функции для кодирования"
   ]
  },
  {
   "cell_type": "code",
   "execution_count": 19,
   "metadata": {},
   "outputs": [],
   "source": [
    "features_original_matrix = features_original.values # преобразуем признаки в матрицу\n",
    "features_encoder, decrypter = matrix_encoder(features_original_matrix) # применим функцию для кодирования\n"
   ]
  },
  {
   "cell_type": "markdown",
   "metadata": {},
   "source": [
    "Сразу проверим, что данные правильно декодируются."
   ]
  },
  {
   "cell_type": "code",
   "execution_count": 20,
   "metadata": {},
   "outputs": [],
   "source": [
    "features_decrypted = matrix_decoder(features_encoder, decrypter) # применим функцию для декодирования"
   ]
  },
  {
   "cell_type": "code",
   "execution_count": 21,
   "metadata": {
    "scrolled": true
   },
   "outputs": [
    {
     "name": "stdout",
     "output_type": "stream",
     "text": [
      "[[    1    41 49600     1]\n",
      " [    0    46 38000     1]\n",
      " [    0    29 21000     0]\n",
      " ...\n",
      " [    0    20 33900     2]\n",
      " [    1    22 32700     3]\n",
      " [    1    28 40600     1]]\n",
      "[[ 1.00000000e+00  4.10000000e+01  4.96000000e+04  1.00000000e+00]\n",
      " [-2.33299144e-12  4.60000000e+01  3.80000000e+04  1.00000000e+00]\n",
      " [-1.91738986e-13  2.90000000e+01  2.10000000e+04  4.19175111e-13]\n",
      " ...\n",
      " [-5.07447556e-12  2.00000000e+01  3.39000000e+04  2.00000000e+00]\n",
      " [ 1.00000000e+00  2.20000000e+01  3.27000000e+04  3.00000000e+00]\n",
      " [ 1.00000000e+00  2.80000000e+01  4.06000000e+04  1.00000000e+00]]\n",
      "[[[ True  True  True  True]\n",
      "  [ True  True  True  True]\n",
      "  [ True  True  True  True]\n",
      "  ...\n",
      "  [ True  True  True  True]\n",
      "  [ True  True  True  True]\n",
      "  [ True  True  True  True]]]\n"
     ]
    }
   ],
   "source": [
    "print(features_original_matrix) # просмотр оригинальной матрицы\n",
    "print(features_decrypted) # просмотр декодированной матрицы\n",
    "print(features_original_matrix == (np.around([features_decrypted], decimals=0))) #сравнение оригинальной и декодированной матрицы"
   ]
  },
  {
   "cell_type": "markdown",
   "metadata": {},
   "source": [
    "Декодирование прошло успешно. Теперь преобразуем нашу кодированную матрицу в таблицу."
   ]
  },
  {
   "cell_type": "code",
   "execution_count": 22,
   "metadata": {},
   "outputs": [],
   "source": [
    "features_encoder = pd.DataFrame(features_encoder) #переводим  кодированную матрицу в DataFrame"
   ]
  },
  {
   "cell_type": "markdown",
   "metadata": {},
   "source": [
    "Разделим кодированные признаки на обучающую и тестовую выборки."
   ]
  },
  {
   "cell_type": "code",
   "execution_count": 23,
   "metadata": {},
   "outputs": [],
   "source": [
    "features_train_encoder , features_test_encoder = train_test_split(features_encoder, random_state=12345)"
   ]
  },
  {
   "cell_type": "markdown",
   "metadata": {},
   "source": [
    "Обучим две модели линейной регрессии на оригинальных признаках и на закодированных."
   ]
  },
  {
   "cell_type": "code",
   "execution_count": 24,
   "metadata": {},
   "outputs": [],
   "source": [
    "model_0 = LinearRegression() # инициализация модели линейной регрессии\n",
    "model_0.fit(features_train_original, target_train) # обучение модели\n",
    "predicted_test_0 = model_0.predict(features_test_original) # получение предсказания результата на тестовой выборке"
   ]
  },
  {
   "cell_type": "code",
   "execution_count": 25,
   "metadata": {},
   "outputs": [],
   "source": [
    "model_1 = LinearRegression() # инициализация модели линейной регрессии\n",
    "model_1.fit(features_train_encoder, target_train) # обучение модели\n",
    "predicted_test_1 = model_1.predict(features_test_encoder) # получение предсказания результата на тестовой выборке"
   ]
  },
  {
   "cell_type": "markdown",
   "metadata": {},
   "source": [
    "Посчитаем метрику R2 для обеих моделей."
   ]
  },
  {
   "cell_type": "code",
   "execution_count": 26,
   "metadata": {},
   "outputs": [
    {
     "name": "stdout",
     "output_type": "stream",
     "text": [
      "R2 score на исходных данных: 0.43523\n",
      "R2 score на преобразованных данных: 0.43523\n"
     ]
    }
   ],
   "source": [
    "clf1_r2 = r2_score(target_test, predicted_test_0) # расчет коэфициента детирминации\n",
    "clf2_r2 = r2_score(target_test, predicted_test_1) \n",
    "print(f'R2 score на исходных данных: {clf1_r2:.5f}') \n",
    "print(f'R2 score на преобразованных данных: {clf2_r2:.5f}')"
   ]
  },
  {
   "cell_type": "markdown",
   "metadata": {},
   "source": [
    "Коэффициенты детерминации в обоих случаях одинаковые, что подтверждает нашу гипотезу о том, что при умножении матрицы признаков на случайную обратимую квадратную матрицу, качество модели не меняется."
   ]
  },
  {
   "cell_type": "markdown",
   "metadata": {},
   "source": [
    "## Вывод"
   ]
  },
  {
   "cell_type": "markdown",
   "metadata": {},
   "source": [
    "В рамках данного проекта нам нужно было решить задачу по шифрованию данных клиентов страховой компании, а также определить влияет ли умножение признаков на обратимую матрицу на качество модели или нет."
   ]
  },
  {
   "cell_type": "markdown",
   "metadata": {},
   "source": [
    "В первом разделе проекта мы посмотрели и оценили качество предоставленных данных. Критических ошибок не обнаружено, пропусков в данных нет. Есть небольшое количество дубликатов, но из-за нехватки информации об ID застрахованного, эти строки нельзя однозначно назвать дубликатами, поэтому мы их не удаляли. Несмотря, на то что ошибок в данных не было, мы все же провели небольшую предобработку для удобства дальнейшей работы: заменили названия столбцов и поменяли тип данных в столбцах с возрастом и зарплатой."
   ]
  },
  {
   "cell_type": "markdown",
   "metadata": {},
   "source": [
    "Во втором разделе проекта мы дали ответ на вопрос: \"изменится ли качество линейной регрессии, если признаки умножить на обратимую матрицу\". Путем последовательных математических вычислений, мы доказали, что качество не изменится."
   ]
  },
  {
   "cell_type": "markdown",
   "metadata": {},
   "source": [
    "В третьем разделе мы описали алгоритм шифрования данных."
   ]
  },
  {
   "cell_type": "markdown",
   "metadata": {},
   "source": [
    "В последнем разделе проекта, предложенный алгоритм был запрограммирован и проверен. Качество линейной регрессии, как и было доказано ранее, не изменилось - метрики качества R2 одинаковые для обеих моделей (построенной на неизмененных данных и построенной на закодированных данных)."
   ]
  },
  {
   "cell_type": "markdown",
   "metadata": {},
   "source": [
    "Думаю, что подобный метод шифрования данных имеет право на жизнь, но нужно проверять его на криптографическую устойчивость."
   ]
  },
  {
   "cell_type": "code",
   "execution_count": null,
   "metadata": {},
   "outputs": [],
   "source": []
  }
 ],
 "metadata": {
  "ExecuteTimeLog": [
   {
    "duration": 520,
    "start_time": "2022-05-10T17:37:49.743Z"
   },
   {
    "duration": 19,
    "start_time": "2022-05-10T17:37:50.306Z"
   },
   {
    "duration": 30,
    "start_time": "2022-05-10T17:37:50.806Z"
   },
   {
    "duration": 23,
    "start_time": "2022-05-10T17:38:20.510Z"
   },
   {
    "duration": 11,
    "start_time": "2022-05-10T17:38:51.526Z"
   },
   {
    "duration": 1139,
    "start_time": "2022-05-14T13:37:28.908Z"
   },
   {
    "duration": 12,
    "start_time": "2022-05-14T13:38:04.266Z"
   },
   {
    "duration": 16,
    "start_time": "2022-05-14T13:38:10.837Z"
   },
   {
    "duration": 12,
    "start_time": "2022-05-14T13:45:24.116Z"
   },
   {
    "duration": 96,
    "start_time": "2022-05-14T13:55:43.623Z"
   },
   {
    "duration": 10,
    "start_time": "2022-05-14T13:55:55.031Z"
   },
   {
    "duration": 24,
    "start_time": "2022-05-14T13:56:06.746Z"
   },
   {
    "duration": 1439,
    "start_time": "2022-05-14T14:05:01.343Z"
   },
   {
    "duration": 10,
    "start_time": "2022-05-14T14:05:31.221Z"
   },
   {
    "duration": 24,
    "start_time": "2022-05-14T14:06:38.161Z"
   },
   {
    "duration": 21,
    "start_time": "2022-05-14T14:09:59.023Z"
   },
   {
    "duration": 4,
    "start_time": "2022-05-14T14:11:30.151Z"
   },
   {
    "duration": 3,
    "start_time": "2022-05-14T14:20:17.040Z"
   },
   {
    "duration": 5,
    "start_time": "2022-05-14T14:20:19.578Z"
   },
   {
    "duration": 8,
    "start_time": "2022-05-14T14:21:34.534Z"
   },
   {
    "duration": 3,
    "start_time": "2022-05-14T20:16:34.542Z"
   },
   {
    "duration": 5,
    "start_time": "2022-05-14T20:23:09.361Z"
   },
   {
    "duration": 3,
    "start_time": "2022-05-14T20:29:10.831Z"
   },
   {
    "duration": 3,
    "start_time": "2022-05-14T20:29:11.715Z"
   },
   {
    "duration": 3,
    "start_time": "2022-05-14T20:30:51.008Z"
   },
   {
    "duration": 4,
    "start_time": "2022-05-14T20:30:51.784Z"
   },
   {
    "duration": 8,
    "start_time": "2022-05-14T20:30:53.358Z"
   },
   {
    "duration": 6,
    "start_time": "2022-05-14T20:31:07.471Z"
   },
   {
    "duration": 4,
    "start_time": "2022-05-14T20:31:48.803Z"
   },
   {
    "duration": 3,
    "start_time": "2022-05-14T20:35:13.390Z"
   },
   {
    "duration": 3,
    "start_time": "2022-05-14T20:35:15.311Z"
   },
   {
    "duration": 5,
    "start_time": "2022-05-14T20:35:15.972Z"
   },
   {
    "duration": 4,
    "start_time": "2022-05-14T20:35:16.592Z"
   },
   {
    "duration": 3,
    "start_time": "2022-05-14T20:35:56.184Z"
   },
   {
    "duration": 3,
    "start_time": "2022-05-14T20:35:56.824Z"
   },
   {
    "duration": 5,
    "start_time": "2022-05-14T20:35:57.347Z"
   },
   {
    "duration": 3,
    "start_time": "2022-05-14T20:35:59.281Z"
   },
   {
    "duration": 2,
    "start_time": "2022-05-14T20:37:27.292Z"
   },
   {
    "duration": 4,
    "start_time": "2022-05-14T20:37:27.926Z"
   },
   {
    "duration": 5,
    "start_time": "2022-05-14T20:37:28.454Z"
   },
   {
    "duration": 3,
    "start_time": "2022-05-14T20:37:28.978Z"
   },
   {
    "duration": 3,
    "start_time": "2022-05-14T20:38:35.383Z"
   },
   {
    "duration": 3,
    "start_time": "2022-05-14T20:38:36.856Z"
   },
   {
    "duration": 4,
    "start_time": "2022-05-14T20:38:37.958Z"
   },
   {
    "duration": 4,
    "start_time": "2022-05-14T20:38:38.934Z"
   },
   {
    "duration": 3,
    "start_time": "2022-05-14T20:42:56.764Z"
   },
   {
    "duration": 4,
    "start_time": "2022-05-14T20:43:21.930Z"
   },
   {
    "duration": 10,
    "start_time": "2022-05-14T20:44:38.852Z"
   },
   {
    "duration": 9,
    "start_time": "2022-05-14T20:47:15.150Z"
   },
   {
    "duration": 3,
    "start_time": "2022-05-14T20:47:49.657Z"
   },
   {
    "duration": 3,
    "start_time": "2022-05-14T20:47:51.287Z"
   },
   {
    "duration": 4,
    "start_time": "2022-05-14T20:47:51.886Z"
   },
   {
    "duration": 5,
    "start_time": "2022-05-14T20:47:52.558Z"
   },
   {
    "duration": 5,
    "start_time": "2022-05-14T20:47:53.294Z"
   },
   {
    "duration": 3,
    "start_time": "2022-05-14T20:47:55.713Z"
   },
   {
    "duration": 4,
    "start_time": "2022-05-14T20:47:59.394Z"
   },
   {
    "duration": 8,
    "start_time": "2022-05-14T20:48:37.780Z"
   },
   {
    "duration": 4,
    "start_time": "2022-05-14T20:50:03.937Z"
   },
   {
    "duration": 6,
    "start_time": "2022-05-14T20:50:22.891Z"
   },
   {
    "duration": 3,
    "start_time": "2022-05-14T20:50:26.437Z"
   },
   {
    "duration": 8,
    "start_time": "2022-05-14T20:50:27.259Z"
   },
   {
    "duration": 2,
    "start_time": "2022-05-14T20:50:51.256Z"
   },
   {
    "duration": 8,
    "start_time": "2022-05-14T20:51:17.469Z"
   },
   {
    "duration": 23,
    "start_time": "2022-05-14T20:57:55.480Z"
   },
   {
    "duration": 10,
    "start_time": "2022-05-14T20:57:57.361Z"
   },
   {
    "duration": 17,
    "start_time": "2022-05-14T20:57:58.582Z"
   },
   {
    "duration": 2,
    "start_time": "2022-05-14T21:02:37.309Z"
   },
   {
    "duration": 3,
    "start_time": "2022-05-14T21:02:38.484Z"
   },
   {
    "duration": 5,
    "start_time": "2022-05-14T21:02:39.538Z"
   },
   {
    "duration": 4,
    "start_time": "2022-05-14T21:02:40.848Z"
   },
   {
    "duration": 10,
    "start_time": "2022-05-14T21:02:43.732Z"
   },
   {
    "duration": 3,
    "start_time": "2022-05-14T21:05:35.813Z"
   },
   {
    "duration": 2,
    "start_time": "2022-05-14T21:05:36.444Z"
   },
   {
    "duration": 3,
    "start_time": "2022-05-14T21:05:37.072Z"
   },
   {
    "duration": 3,
    "start_time": "2022-05-14T21:05:37.652Z"
   },
   {
    "duration": 5,
    "start_time": "2022-05-14T21:05:38.449Z"
   },
   {
    "duration": 4,
    "start_time": "2022-05-14T21:05:39.610Z"
   },
   {
    "duration": 3,
    "start_time": "2022-05-14T21:05:40.587Z"
   },
   {
    "duration": 9,
    "start_time": "2022-05-14T21:05:41.707Z"
   },
   {
    "duration": 9,
    "start_time": "2022-05-14T21:05:45.672Z"
   },
   {
    "duration": 3,
    "start_time": "2022-05-14T21:05:54.463Z"
   },
   {
    "duration": 7,
    "start_time": "2022-05-14T21:06:12.820Z"
   },
   {
    "duration": 4,
    "start_time": "2022-05-14T21:06:13.545Z"
   },
   {
    "duration": 4,
    "start_time": "2022-05-14T21:06:14.107Z"
   },
   {
    "duration": 25,
    "start_time": "2022-05-14T21:06:15.023Z"
   },
   {
    "duration": 12,
    "start_time": "2022-05-14T21:06:15.691Z"
   },
   {
    "duration": 22,
    "start_time": "2022-05-14T21:06:21.192Z"
   },
   {
    "duration": 10,
    "start_time": "2022-05-14T21:07:25.538Z"
   },
   {
    "duration": 3,
    "start_time": "2022-05-14T21:08:23.721Z"
   },
   {
    "duration": 14,
    "start_time": "2022-05-14T21:08:23.727Z"
   },
   {
    "duration": 9,
    "start_time": "2022-05-14T21:08:23.743Z"
   },
   {
    "duration": 13,
    "start_time": "2022-05-14T21:08:23.754Z"
   },
   {
    "duration": 6,
    "start_time": "2022-05-14T21:08:23.770Z"
   },
   {
    "duration": 33,
    "start_time": "2022-05-14T21:08:23.778Z"
   },
   {
    "duration": 22,
    "start_time": "2022-05-14T21:08:23.813Z"
   },
   {
    "duration": 4,
    "start_time": "2022-05-14T21:08:23.837Z"
   },
   {
    "duration": 3,
    "start_time": "2022-05-14T21:08:23.845Z"
   },
   {
    "duration": 6,
    "start_time": "2022-05-14T21:08:23.850Z"
   },
   {
    "duration": 8,
    "start_time": "2022-05-14T21:08:23.858Z"
   },
   {
    "duration": 4,
    "start_time": "2022-05-14T21:08:23.909Z"
   },
   {
    "duration": 5,
    "start_time": "2022-05-14T21:08:23.915Z"
   },
   {
    "duration": 5,
    "start_time": "2022-05-14T21:08:23.922Z"
   },
   {
    "duration": 7,
    "start_time": "2022-05-14T21:08:23.928Z"
   },
   {
    "duration": 5,
    "start_time": "2022-05-14T21:08:23.937Z"
   },
   {
    "duration": 6,
    "start_time": "2022-05-14T21:08:24.007Z"
   },
   {
    "duration": 12,
    "start_time": "2022-05-14T21:08:24.015Z"
   },
   {
    "duration": 8,
    "start_time": "2022-05-14T21:08:24.108Z"
   },
   {
    "duration": 10,
    "start_time": "2022-05-14T21:08:24.117Z"
   },
   {
    "duration": 6,
    "start_time": "2022-05-14T21:08:24.128Z"
   },
   {
    "duration": 4,
    "start_time": "2022-05-14T21:08:24.135Z"
   },
   {
    "duration": 7,
    "start_time": "2022-05-14T21:08:24.140Z"
   },
   {
    "duration": 59,
    "start_time": "2022-05-14T21:08:24.148Z"
   },
   {
    "duration": 11,
    "start_time": "2022-05-14T21:08:24.209Z"
   },
   {
    "duration": 9,
    "start_time": "2022-05-14T21:08:24.222Z"
   },
   {
    "duration": 16,
    "start_time": "2022-05-14T21:08:24.233Z"
   },
   {
    "duration": 1,
    "start_time": "2022-05-14T21:08:24.250Z"
   },
   {
    "duration": 2769,
    "start_time": "2022-05-14T21:09:53.999Z"
   },
   {
    "duration": 0,
    "start_time": "2022-05-14T21:09:56.769Z"
   },
   {
    "duration": 93,
    "start_time": "2022-05-14T21:10:11.359Z"
   },
   {
    "duration": 8,
    "start_time": "2022-05-14T21:10:29.967Z"
   },
   {
    "duration": 20,
    "start_time": "2022-05-14T21:10:46.597Z"
   },
   {
    "duration": 1472,
    "start_time": "2022-05-15T05:58:23.659Z"
   },
   {
    "duration": 21,
    "start_time": "2022-05-15T05:58:25.133Z"
   },
   {
    "duration": 23,
    "start_time": "2022-05-15T05:58:25.156Z"
   },
   {
    "duration": 15,
    "start_time": "2022-05-15T05:58:25.182Z"
   },
   {
    "duration": 14,
    "start_time": "2022-05-15T05:58:25.199Z"
   },
   {
    "duration": 49,
    "start_time": "2022-05-15T05:58:25.215Z"
   },
   {
    "duration": 31,
    "start_time": "2022-05-15T05:58:25.267Z"
   },
   {
    "duration": 6,
    "start_time": "2022-05-15T05:58:25.301Z"
   },
   {
    "duration": 5,
    "start_time": "2022-05-15T05:58:25.310Z"
   },
   {
    "duration": 7,
    "start_time": "2022-05-15T05:58:25.359Z"
   },
   {
    "duration": 14,
    "start_time": "2022-05-15T05:58:25.368Z"
   },
   {
    "duration": 7,
    "start_time": "2022-05-15T05:58:25.385Z"
   },
   {
    "duration": 8,
    "start_time": "2022-05-15T05:58:27.770Z"
   },
   {
    "duration": 136,
    "start_time": "2022-05-15T06:00:08.191Z"
   },
   {
    "duration": 214,
    "start_time": "2022-05-15T06:00:36.388Z"
   },
   {
    "duration": 154,
    "start_time": "2022-05-15T06:00:41.488Z"
   },
   {
    "duration": 5,
    "start_time": "2022-05-15T06:00:48.351Z"
   },
   {
    "duration": 5,
    "start_time": "2022-05-15T06:02:36.333Z"
   },
   {
    "duration": 127,
    "start_time": "2022-05-15T06:06:34.007Z"
   },
   {
    "duration": 121,
    "start_time": "2022-05-15T06:06:42.108Z"
   },
   {
    "duration": 122,
    "start_time": "2022-05-15T06:06:52.989Z"
   },
   {
    "duration": 5,
    "start_time": "2022-05-15T06:07:09.307Z"
   },
   {
    "duration": 136,
    "start_time": "2022-05-15T06:07:16.974Z"
   },
   {
    "duration": 5,
    "start_time": "2022-05-15T06:07:27.437Z"
   },
   {
    "duration": 4,
    "start_time": "2022-05-15T06:07:28.222Z"
   },
   {
    "duration": 10,
    "start_time": "2022-05-15T06:07:28.768Z"
   },
   {
    "duration": 4,
    "start_time": "2022-05-15T06:08:04.384Z"
   },
   {
    "duration": 14,
    "start_time": "2022-05-15T06:08:05.512Z"
   },
   {
    "duration": 5,
    "start_time": "2022-05-15T06:09:17.640Z"
   },
   {
    "duration": 11,
    "start_time": "2022-05-15T06:09:18.183Z"
   },
   {
    "duration": 4,
    "start_time": "2022-05-15T06:09:50.172Z"
   },
   {
    "duration": 3,
    "start_time": "2022-05-15T06:09:56.256Z"
   },
   {
    "duration": 5,
    "start_time": "2022-05-15T06:11:50.247Z"
   },
   {
    "duration": 20,
    "start_time": "2022-05-15T06:11:50.894Z"
   },
   {
    "duration": 4,
    "start_time": "2022-05-15T06:12:51.016Z"
   },
   {
    "duration": 21,
    "start_time": "2022-05-15T06:12:51.023Z"
   },
   {
    "duration": 15,
    "start_time": "2022-05-15T06:12:51.047Z"
   },
   {
    "duration": 20,
    "start_time": "2022-05-15T06:12:51.070Z"
   },
   {
    "duration": 8,
    "start_time": "2022-05-15T06:12:51.093Z"
   },
   {
    "duration": 14,
    "start_time": "2022-05-15T06:12:51.103Z"
   },
   {
    "duration": 68,
    "start_time": "2022-05-15T06:12:51.119Z"
   },
   {
    "duration": 6,
    "start_time": "2022-05-15T06:12:51.190Z"
   },
   {
    "duration": 8,
    "start_time": "2022-05-15T06:12:51.198Z"
   },
   {
    "duration": 10,
    "start_time": "2022-05-15T06:12:51.208Z"
   },
   {
    "duration": 45,
    "start_time": "2022-05-15T06:12:51.221Z"
   },
   {
    "duration": 13,
    "start_time": "2022-05-15T06:12:51.270Z"
   },
   {
    "duration": 10,
    "start_time": "2022-05-15T06:12:51.285Z"
   },
   {
    "duration": 8,
    "start_time": "2022-05-15T06:12:51.297Z"
   },
   {
    "duration": 6,
    "start_time": "2022-05-15T06:12:51.307Z"
   },
   {
    "duration": 15,
    "start_time": "2022-05-15T06:12:51.315Z"
   },
   {
    "duration": 16,
    "start_time": "2022-05-15T06:12:51.358Z"
   },
   {
    "duration": 0,
    "start_time": "2022-05-15T06:12:51.377Z"
   },
   {
    "duration": 0,
    "start_time": "2022-05-15T06:12:51.378Z"
   },
   {
    "duration": 0,
    "start_time": "2022-05-15T06:12:51.380Z"
   },
   {
    "duration": 0,
    "start_time": "2022-05-15T06:12:51.381Z"
   },
   {
    "duration": 3,
    "start_time": "2022-05-15T06:13:05.245Z"
   },
   {
    "duration": 3,
    "start_time": "2022-05-15T06:13:06.512Z"
   },
   {
    "duration": 7,
    "start_time": "2022-05-15T06:13:07.100Z"
   },
   {
    "duration": 4,
    "start_time": "2022-05-15T06:13:08.400Z"
   },
   {
    "duration": 19,
    "start_time": "2022-05-15T06:13:09.081Z"
   },
   {
    "duration": 5,
    "start_time": "2022-05-15T06:19:06.906Z"
   },
   {
    "duration": 144,
    "start_time": "2022-05-15T06:19:07.446Z"
   },
   {
    "duration": 4,
    "start_time": "2022-05-15T06:19:30.058Z"
   },
   {
    "duration": 6,
    "start_time": "2022-05-15T06:19:34.593Z"
   },
   {
    "duration": 4,
    "start_time": "2022-05-15T06:19:35.365Z"
   },
   {
    "duration": 19,
    "start_time": "2022-05-15T06:19:36.420Z"
   },
   {
    "duration": 6,
    "start_time": "2022-05-15T06:26:42.629Z"
   },
   {
    "duration": 4,
    "start_time": "2022-05-15T06:26:44.386Z"
   },
   {
    "duration": 5,
    "start_time": "2022-05-15T06:27:19.432Z"
   },
   {
    "duration": 6,
    "start_time": "2022-05-15T06:27:24.206Z"
   },
   {
    "duration": 4,
    "start_time": "2022-05-15T06:27:24.777Z"
   },
   {
    "duration": 20,
    "start_time": "2022-05-15T06:27:25.694Z"
   },
   {
    "duration": 6,
    "start_time": "2022-05-15T06:28:48.891Z"
   },
   {
    "duration": 5,
    "start_time": "2022-05-15T06:28:49.801Z"
   },
   {
    "duration": 8,
    "start_time": "2022-05-15T06:28:55.081Z"
   },
   {
    "duration": 4,
    "start_time": "2022-05-15T06:28:55.647Z"
   },
   {
    "duration": 20,
    "start_time": "2022-05-15T06:28:56.412Z"
   },
   {
    "duration": 5,
    "start_time": "2022-05-15T06:29:51.787Z"
   },
   {
    "duration": 4,
    "start_time": "2022-05-15T06:29:53.346Z"
   },
   {
    "duration": 188,
    "start_time": "2022-05-15T06:29:57.622Z"
   },
   {
    "duration": 5,
    "start_time": "2022-05-15T06:30:20.340Z"
   },
   {
    "duration": 4,
    "start_time": "2022-05-15T06:30:22.458Z"
   },
   {
    "duration": 5,
    "start_time": "2022-05-15T06:30:27.258Z"
   },
   {
    "duration": 4,
    "start_time": "2022-05-15T06:30:27.864Z"
   },
   {
    "duration": 19,
    "start_time": "2022-05-15T06:30:28.773Z"
   },
   {
    "duration": 5,
    "start_time": "2022-05-15T06:31:21.193Z"
   },
   {
    "duration": 4,
    "start_time": "2022-05-15T06:31:22.234Z"
   },
   {
    "duration": 5,
    "start_time": "2022-05-15T06:31:25.346Z"
   },
   {
    "duration": 3,
    "start_time": "2022-05-15T06:31:25.838Z"
   },
   {
    "duration": 17,
    "start_time": "2022-05-15T06:31:26.419Z"
   },
   {
    "duration": 5,
    "start_time": "2022-05-15T06:34:33.877Z"
   },
   {
    "duration": 5,
    "start_time": "2022-05-15T06:34:35.147Z"
   },
   {
    "duration": 7,
    "start_time": "2022-05-15T06:35:42.732Z"
   },
   {
    "duration": 5,
    "start_time": "2022-05-15T06:35:43.308Z"
   },
   {
    "duration": 7,
    "start_time": "2022-05-15T06:35:47.810Z"
   },
   {
    "duration": 4,
    "start_time": "2022-05-15T06:35:48.417Z"
   },
   {
    "duration": 19,
    "start_time": "2022-05-15T06:35:49.041Z"
   },
   {
    "duration": 6,
    "start_time": "2022-05-15T06:36:11.201Z"
   },
   {
    "duration": 4,
    "start_time": "2022-05-15T06:36:12.279Z"
   },
   {
    "duration": 3,
    "start_time": "2022-05-15T06:36:15.380Z"
   },
   {
    "duration": 5,
    "start_time": "2022-05-15T06:36:18.040Z"
   },
   {
    "duration": 4,
    "start_time": "2022-05-15T06:36:18.609Z"
   },
   {
    "duration": 15,
    "start_time": "2022-05-15T06:36:19.311Z"
   },
   {
    "duration": 6,
    "start_time": "2022-05-15T06:36:59.013Z"
   },
   {
    "duration": 4,
    "start_time": "2022-05-15T06:37:00.500Z"
   },
   {
    "duration": 4,
    "start_time": "2022-05-15T06:37:25.009Z"
   },
   {
    "duration": 15,
    "start_time": "2022-05-15T06:37:30.400Z"
   },
   {
    "duration": 6,
    "start_time": "2022-05-15T06:38:48.902Z"
   },
   {
    "duration": 5,
    "start_time": "2022-05-15T06:38:50.648Z"
   },
   {
    "duration": 6,
    "start_time": "2022-05-15T06:38:53.913Z"
   },
   {
    "duration": 4,
    "start_time": "2022-05-15T06:38:54.515Z"
   },
   {
    "duration": 15,
    "start_time": "2022-05-15T06:38:55.022Z"
   },
   {
    "duration": 5,
    "start_time": "2022-05-15T06:39:23.484Z"
   },
   {
    "duration": 4,
    "start_time": "2022-05-15T06:39:24.481Z"
   },
   {
    "duration": 5,
    "start_time": "2022-05-15T06:39:28.569Z"
   },
   {
    "duration": 3,
    "start_time": "2022-05-15T06:39:29.084Z"
   },
   {
    "duration": 21,
    "start_time": "2022-05-15T06:39:29.683Z"
   },
   {
    "duration": 3,
    "start_time": "2022-05-15T06:41:11.731Z"
   },
   {
    "duration": 5,
    "start_time": "2022-05-15T06:41:14.874Z"
   },
   {
    "duration": 4,
    "start_time": "2022-05-15T06:41:15.452Z"
   },
   {
    "duration": 20,
    "start_time": "2022-05-15T06:41:16.086Z"
   },
   {
    "duration": 5,
    "start_time": "2022-05-15T06:42:00.472Z"
   },
   {
    "duration": 4,
    "start_time": "2022-05-15T06:42:01.047Z"
   },
   {
    "duration": 5,
    "start_time": "2022-05-15T06:42:04.042Z"
   },
   {
    "duration": 3,
    "start_time": "2022-05-15T06:42:05.508Z"
   },
   {
    "duration": 21,
    "start_time": "2022-05-15T06:42:05.724Z"
   },
   {
    "duration": 29,
    "start_time": "2022-05-15T06:42:31.809Z"
   },
   {
    "duration": 21,
    "start_time": "2022-05-15T06:43:04.933Z"
   },
   {
    "duration": 5,
    "start_time": "2022-05-15T06:45:22.681Z"
   },
   {
    "duration": 4,
    "start_time": "2022-05-15T06:45:23.381Z"
   },
   {
    "duration": 5,
    "start_time": "2022-05-15T06:45:26.248Z"
   },
   {
    "duration": 3,
    "start_time": "2022-05-15T06:45:26.807Z"
   },
   {
    "duration": 15,
    "start_time": "2022-05-15T06:45:27.376Z"
   },
   {
    "duration": 5,
    "start_time": "2022-05-15T06:46:04.072Z"
   },
   {
    "duration": 5,
    "start_time": "2022-05-15T06:47:57.170Z"
   },
   {
    "duration": 4,
    "start_time": "2022-05-15T06:47:57.793Z"
   },
   {
    "duration": 16,
    "start_time": "2022-05-15T06:48:05.528Z"
   },
   {
    "duration": 3,
    "start_time": "2022-05-15T06:49:00.219Z"
   },
   {
    "duration": 5,
    "start_time": "2022-05-15T06:49:01.228Z"
   },
   {
    "duration": 15,
    "start_time": "2022-05-15T06:49:02.417Z"
   },
   {
    "duration": 13,
    "start_time": "2022-05-15T10:31:51.949Z"
   },
   {
    "duration": 5,
    "start_time": "2022-05-15T10:32:03.923Z"
   },
   {
    "duration": 1743,
    "start_time": "2022-05-15T10:32:21.151Z"
   },
   {
    "duration": 21,
    "start_time": "2022-05-15T10:32:22.897Z"
   },
   {
    "duration": 31,
    "start_time": "2022-05-15T10:32:22.920Z"
   },
   {
    "duration": 16,
    "start_time": "2022-05-15T10:32:22.955Z"
   },
   {
    "duration": 17,
    "start_time": "2022-05-15T10:32:22.974Z"
   },
   {
    "duration": 18,
    "start_time": "2022-05-15T10:32:22.994Z"
   },
   {
    "duration": 59,
    "start_time": "2022-05-15T10:32:23.014Z"
   },
   {
    "duration": 6,
    "start_time": "2022-05-15T10:32:23.076Z"
   },
   {
    "duration": 7,
    "start_time": "2022-05-15T10:32:23.085Z"
   },
   {
    "duration": 10,
    "start_time": "2022-05-15T10:32:23.096Z"
   },
   {
    "duration": 45,
    "start_time": "2022-05-15T10:32:23.108Z"
   },
   {
    "duration": 5,
    "start_time": "2022-05-15T10:32:23.156Z"
   },
   {
    "duration": 17,
    "start_time": "2022-05-15T10:32:23.163Z"
   },
   {
    "duration": 7,
    "start_time": "2022-05-15T10:32:23.182Z"
   },
   {
    "duration": 5,
    "start_time": "2022-05-15T10:32:23.191Z"
   },
   {
    "duration": 12,
    "start_time": "2022-05-15T10:32:23.198Z"
   },
   {
    "duration": 6,
    "start_time": "2022-05-15T10:32:23.212Z"
   },
   {
    "duration": 19,
    "start_time": "2022-05-15T10:32:23.220Z"
   },
   {
    "duration": 6,
    "start_time": "2022-05-15T10:32:30.478Z"
   },
   {
    "duration": 4,
    "start_time": "2022-05-15T10:32:34.502Z"
   },
   {
    "duration": 5,
    "start_time": "2022-05-15T10:32:35.353Z"
   },
   {
    "duration": 159,
    "start_time": "2022-05-15T10:32:41.105Z"
   },
   {
    "duration": 5,
    "start_time": "2022-05-15T10:33:53.094Z"
   },
   {
    "duration": 6,
    "start_time": "2022-05-15T10:33:56.209Z"
   },
   {
    "duration": 3,
    "start_time": "2022-05-15T10:33:56.693Z"
   },
   {
    "duration": 4,
    "start_time": "2022-05-15T10:33:57.163Z"
   },
   {
    "duration": 19,
    "start_time": "2022-05-15T10:33:57.957Z"
   },
   {
    "duration": 5,
    "start_time": "2022-05-15T10:39:30.966Z"
   },
   {
    "duration": 4,
    "start_time": "2022-05-15T10:39:31.798Z"
   },
   {
    "duration": 5,
    "start_time": "2022-05-15T10:39:35.436Z"
   },
   {
    "duration": 3,
    "start_time": "2022-05-15T10:39:35.975Z"
   },
   {
    "duration": 5,
    "start_time": "2022-05-15T10:39:36.529Z"
   },
   {
    "duration": 20,
    "start_time": "2022-05-15T10:39:37.179Z"
   },
   {
    "duration": 5,
    "start_time": "2022-05-15T10:39:57.378Z"
   },
   {
    "duration": 5,
    "start_time": "2022-05-15T10:40:01.895Z"
   },
   {
    "duration": 4,
    "start_time": "2022-05-15T10:40:16.942Z"
   },
   {
    "duration": 5,
    "start_time": "2022-05-15T10:40:19.421Z"
   },
   {
    "duration": 4,
    "start_time": "2022-05-15T10:40:19.893Z"
   },
   {
    "duration": 5,
    "start_time": "2022-05-15T10:40:20.317Z"
   },
   {
    "duration": 4,
    "start_time": "2022-05-15T10:40:20.850Z"
   },
   {
    "duration": 5,
    "start_time": "2022-05-15T10:40:39.051Z"
   },
   {
    "duration": 14,
    "start_time": "2022-05-15T10:40:40.978Z"
   },
   {
    "duration": 13,
    "start_time": "2022-05-15T10:40:49.434Z"
   },
   {
    "duration": 7,
    "start_time": "2022-05-15T10:41:00.611Z"
   },
   {
    "duration": 6,
    "start_time": "2022-05-15T10:46:04.497Z"
   },
   {
    "duration": 4,
    "start_time": "2022-05-15T10:46:22.476Z"
   },
   {
    "duration": 19,
    "start_time": "2022-05-15T10:47:37.832Z"
   },
   {
    "duration": 5,
    "start_time": "2022-05-15T10:48:49.956Z"
   },
   {
    "duration": 5,
    "start_time": "2022-05-15T10:48:54.223Z"
   },
   {
    "duration": 5,
    "start_time": "2022-05-15T10:51:03.504Z"
   },
   {
    "duration": 4,
    "start_time": "2022-05-15T10:51:04.693Z"
   },
   {
    "duration": 5,
    "start_time": "2022-05-15T10:51:09.768Z"
   },
   {
    "duration": 4,
    "start_time": "2022-05-15T10:51:10.249Z"
   },
   {
    "duration": 5,
    "start_time": "2022-05-15T10:51:10.712Z"
   },
   {
    "duration": 4,
    "start_time": "2022-05-15T10:51:11.275Z"
   },
   {
    "duration": 4,
    "start_time": "2022-05-15T10:51:15.772Z"
   },
   {
    "duration": 12,
    "start_time": "2022-05-15T10:51:17.788Z"
   },
   {
    "duration": 7,
    "start_time": "2022-05-15T10:53:25.124Z"
   },
   {
    "duration": 11,
    "start_time": "2022-05-15T10:53:52.194Z"
   },
   {
    "duration": 5,
    "start_time": "2022-05-15T10:53:59.101Z"
   },
   {
    "duration": 5,
    "start_time": "2022-05-15T10:54:04.632Z"
   },
   {
    "duration": 5,
    "start_time": "2022-05-15T10:54:13.329Z"
   },
   {
    "duration": 14,
    "start_time": "2022-05-15T10:57:30.316Z"
   },
   {
    "duration": 14,
    "start_time": "2022-05-15T10:58:05.293Z"
   },
   {
    "duration": 3,
    "start_time": "2022-05-15T10:58:11.673Z"
   },
   {
    "duration": 15,
    "start_time": "2022-05-15T10:58:51.860Z"
   },
   {
    "duration": 10,
    "start_time": "2022-05-15T10:59:00.027Z"
   },
   {
    "duration": 28,
    "start_time": "2022-05-15T10:59:29.754Z"
   },
   {
    "duration": 4,
    "start_time": "2022-05-15T11:01:07.110Z"
   },
   {
    "duration": 18,
    "start_time": "2022-05-15T11:01:07.117Z"
   },
   {
    "duration": 13,
    "start_time": "2022-05-15T11:01:07.137Z"
   },
   {
    "duration": 17,
    "start_time": "2022-05-15T11:01:07.154Z"
   },
   {
    "duration": 10,
    "start_time": "2022-05-15T11:01:07.176Z"
   },
   {
    "duration": 17,
    "start_time": "2022-05-15T11:01:07.188Z"
   },
   {
    "duration": 32,
    "start_time": "2022-05-15T11:01:07.253Z"
   },
   {
    "duration": 7,
    "start_time": "2022-05-15T11:01:07.288Z"
   },
   {
    "duration": 6,
    "start_time": "2022-05-15T11:01:07.298Z"
   },
   {
    "duration": 46,
    "start_time": "2022-05-15T11:01:07.307Z"
   },
   {
    "duration": 19,
    "start_time": "2022-05-15T11:01:07.356Z"
   },
   {
    "duration": 8,
    "start_time": "2022-05-15T11:01:07.378Z"
   },
   {
    "duration": 6,
    "start_time": "2022-05-15T11:01:07.389Z"
   },
   {
    "duration": 6,
    "start_time": "2022-05-15T11:01:07.400Z"
   },
   {
    "duration": 3,
    "start_time": "2022-05-15T11:01:07.452Z"
   },
   {
    "duration": 10,
    "start_time": "2022-05-15T11:01:07.457Z"
   },
   {
    "duration": 7,
    "start_time": "2022-05-15T11:01:07.469Z"
   },
   {
    "duration": 17,
    "start_time": "2022-05-15T11:01:07.478Z"
   },
   {
    "duration": 17,
    "start_time": "2022-05-15T11:01:07.498Z"
   },
   {
    "duration": 36,
    "start_time": "2022-05-15T11:01:07.517Z"
   },
   {
    "duration": 8,
    "start_time": "2022-05-15T11:01:07.556Z"
   },
   {
    "duration": 8,
    "start_time": "2022-05-15T11:01:07.566Z"
   },
   {
    "duration": 18,
    "start_time": "2022-05-15T11:01:07.576Z"
   },
   {
    "duration": 14,
    "start_time": "2022-05-15T11:01:07.597Z"
   },
   {
    "duration": 38,
    "start_time": "2022-05-15T11:01:07.614Z"
   },
   {
    "duration": 16,
    "start_time": "2022-05-15T11:01:07.655Z"
   },
   {
    "duration": 14,
    "start_time": "2022-05-15T11:01:07.675Z"
   },
   {
    "duration": 8,
    "start_time": "2022-05-15T11:01:07.692Z"
   },
   {
    "duration": 6,
    "start_time": "2022-05-15T11:12:10.662Z"
   },
   {
    "duration": 4,
    "start_time": "2022-05-15T11:12:16.022Z"
   },
   {
    "duration": 24,
    "start_time": "2022-05-15T11:12:16.029Z"
   },
   {
    "duration": 18,
    "start_time": "2022-05-15T11:12:16.056Z"
   },
   {
    "duration": 17,
    "start_time": "2022-05-15T11:12:16.079Z"
   },
   {
    "duration": 14,
    "start_time": "2022-05-15T11:12:16.099Z"
   },
   {
    "duration": 54,
    "start_time": "2022-05-15T11:12:16.115Z"
   },
   {
    "duration": 30,
    "start_time": "2022-05-15T11:12:16.172Z"
   },
   {
    "duration": 6,
    "start_time": "2022-05-15T11:12:16.204Z"
   },
   {
    "duration": 41,
    "start_time": "2022-05-15T11:12:16.213Z"
   },
   {
    "duration": 25,
    "start_time": "2022-05-15T11:12:16.256Z"
   },
   {
    "duration": 22,
    "start_time": "2022-05-15T11:12:16.283Z"
   },
   {
    "duration": 18,
    "start_time": "2022-05-15T11:12:16.308Z"
   },
   {
    "duration": 26,
    "start_time": "2022-05-15T11:12:16.328Z"
   },
   {
    "duration": 15,
    "start_time": "2022-05-15T11:12:16.356Z"
   },
   {
    "duration": 22,
    "start_time": "2022-05-15T11:12:16.373Z"
   },
   {
    "duration": 26,
    "start_time": "2022-05-15T11:12:16.398Z"
   },
   {
    "duration": 24,
    "start_time": "2022-05-15T11:12:16.427Z"
   },
   {
    "duration": 0,
    "start_time": "2022-05-15T11:12:16.453Z"
   },
   {
    "duration": 0,
    "start_time": "2022-05-15T11:12:16.455Z"
   },
   {
    "duration": 0,
    "start_time": "2022-05-15T11:12:16.457Z"
   },
   {
    "duration": 0,
    "start_time": "2022-05-15T11:12:16.460Z"
   },
   {
    "duration": 0,
    "start_time": "2022-05-15T11:12:16.462Z"
   },
   {
    "duration": 0,
    "start_time": "2022-05-15T11:12:16.463Z"
   },
   {
    "duration": 0,
    "start_time": "2022-05-15T11:12:16.465Z"
   },
   {
    "duration": 0,
    "start_time": "2022-05-15T11:12:16.467Z"
   },
   {
    "duration": 0,
    "start_time": "2022-05-15T11:12:16.468Z"
   },
   {
    "duration": 0,
    "start_time": "2022-05-15T11:12:16.470Z"
   },
   {
    "duration": 0,
    "start_time": "2022-05-15T11:12:16.473Z"
   },
   {
    "duration": 5,
    "start_time": "2022-05-15T11:15:07.106Z"
   },
   {
    "duration": 4,
    "start_time": "2022-05-15T11:15:11.193Z"
   },
   {
    "duration": 23,
    "start_time": "2022-05-15T11:15:11.200Z"
   },
   {
    "duration": 28,
    "start_time": "2022-05-15T11:15:11.226Z"
   },
   {
    "duration": 28,
    "start_time": "2022-05-15T11:15:11.256Z"
   },
   {
    "duration": 33,
    "start_time": "2022-05-15T11:15:11.288Z"
   },
   {
    "duration": 15,
    "start_time": "2022-05-15T11:15:11.324Z"
   },
   {
    "duration": 36,
    "start_time": "2022-05-15T11:15:11.342Z"
   },
   {
    "duration": 8,
    "start_time": "2022-05-15T11:15:11.380Z"
   },
   {
    "duration": 19,
    "start_time": "2022-05-15T11:15:11.391Z"
   },
   {
    "duration": 31,
    "start_time": "2022-05-15T11:15:11.412Z"
   },
   {
    "duration": 17,
    "start_time": "2022-05-15T11:15:11.445Z"
   },
   {
    "duration": 8,
    "start_time": "2022-05-15T11:15:11.465Z"
   },
   {
    "duration": 25,
    "start_time": "2022-05-15T11:15:11.478Z"
   },
   {
    "duration": 14,
    "start_time": "2022-05-15T11:15:11.505Z"
   },
   {
    "duration": 19,
    "start_time": "2022-05-15T11:15:11.521Z"
   },
   {
    "duration": 14,
    "start_time": "2022-05-15T11:15:11.543Z"
   },
   {
    "duration": 29,
    "start_time": "2022-05-15T11:15:11.559Z"
   },
   {
    "duration": 0,
    "start_time": "2022-05-15T11:15:11.590Z"
   },
   {
    "duration": 0,
    "start_time": "2022-05-15T11:15:11.592Z"
   },
   {
    "duration": 0,
    "start_time": "2022-05-15T11:15:11.593Z"
   },
   {
    "duration": 0,
    "start_time": "2022-05-15T11:15:11.594Z"
   },
   {
    "duration": 0,
    "start_time": "2022-05-15T11:15:11.595Z"
   },
   {
    "duration": 0,
    "start_time": "2022-05-15T11:15:11.597Z"
   },
   {
    "duration": 0,
    "start_time": "2022-05-15T11:15:11.599Z"
   },
   {
    "duration": 0,
    "start_time": "2022-05-15T11:15:11.600Z"
   },
   {
    "duration": 0,
    "start_time": "2022-05-15T11:15:11.601Z"
   },
   {
    "duration": 0,
    "start_time": "2022-05-15T11:15:11.602Z"
   },
   {
    "duration": 0,
    "start_time": "2022-05-15T11:15:11.604Z"
   },
   {
    "duration": 4,
    "start_time": "2022-05-15T11:15:33.596Z"
   },
   {
    "duration": 18,
    "start_time": "2022-05-15T11:15:33.603Z"
   },
   {
    "duration": 13,
    "start_time": "2022-05-15T11:15:33.623Z"
   },
   {
    "duration": 16,
    "start_time": "2022-05-15T11:15:33.638Z"
   },
   {
    "duration": 8,
    "start_time": "2022-05-15T11:15:33.657Z"
   },
   {
    "duration": 14,
    "start_time": "2022-05-15T11:15:33.667Z"
   },
   {
    "duration": 29,
    "start_time": "2022-05-15T11:15:33.683Z"
   },
   {
    "duration": 43,
    "start_time": "2022-05-15T11:15:33.714Z"
   },
   {
    "duration": 12,
    "start_time": "2022-05-15T11:15:33.759Z"
   },
   {
    "duration": 12,
    "start_time": "2022-05-15T11:15:33.773Z"
   },
   {
    "duration": 10,
    "start_time": "2022-05-15T11:15:33.787Z"
   },
   {
    "duration": 6,
    "start_time": "2022-05-15T11:15:33.799Z"
   },
   {
    "duration": 43,
    "start_time": "2022-05-15T11:15:33.809Z"
   },
   {
    "duration": 7,
    "start_time": "2022-05-15T11:15:33.854Z"
   },
   {
    "duration": 9,
    "start_time": "2022-05-15T11:15:33.863Z"
   },
   {
    "duration": 9,
    "start_time": "2022-05-15T11:15:33.875Z"
   },
   {
    "duration": 8,
    "start_time": "2022-05-15T11:15:33.887Z"
   },
   {
    "duration": 12,
    "start_time": "2022-05-15T11:15:33.897Z"
   },
   {
    "duration": 45,
    "start_time": "2022-05-15T11:15:33.912Z"
   },
   {
    "duration": 10,
    "start_time": "2022-05-15T11:15:33.959Z"
   },
   {
    "duration": 6,
    "start_time": "2022-05-15T11:15:33.972Z"
   },
   {
    "duration": 6,
    "start_time": "2022-05-15T11:15:33.980Z"
   },
   {
    "duration": 20,
    "start_time": "2022-05-15T11:15:33.989Z"
   },
   {
    "duration": 14,
    "start_time": "2022-05-15T11:15:34.012Z"
   },
   {
    "duration": 8,
    "start_time": "2022-05-15T11:15:34.028Z"
   },
   {
    "duration": 21,
    "start_time": "2022-05-15T11:15:34.040Z"
   },
   {
    "duration": 13,
    "start_time": "2022-05-15T11:15:34.064Z"
   },
   {
    "duration": 9,
    "start_time": "2022-05-15T11:15:34.080Z"
   },
   {
    "duration": 45,
    "start_time": "2022-05-15T12:54:05.676Z"
   },
   {
    "duration": 1192,
    "start_time": "2022-05-15T12:55:08.564Z"
   },
   {
    "duration": 18,
    "start_time": "2022-05-15T12:55:09.758Z"
   },
   {
    "duration": 14,
    "start_time": "2022-05-15T12:55:09.778Z"
   },
   {
    "duration": 13,
    "start_time": "2022-05-15T12:55:09.794Z"
   },
   {
    "duration": 6,
    "start_time": "2022-05-15T12:55:09.809Z"
   },
   {
    "duration": 12,
    "start_time": "2022-05-15T12:55:09.817Z"
   },
   {
    "duration": 28,
    "start_time": "2022-05-15T12:55:09.831Z"
   },
   {
    "duration": 4,
    "start_time": "2022-05-15T12:55:09.861Z"
   },
   {
    "duration": 11,
    "start_time": "2022-05-15T12:55:09.866Z"
   },
   {
    "duration": 7,
    "start_time": "2022-05-15T12:55:09.879Z"
   },
   {
    "duration": 9,
    "start_time": "2022-05-15T12:55:09.887Z"
   },
   {
    "duration": 5,
    "start_time": "2022-05-15T12:55:09.898Z"
   },
   {
    "duration": 5,
    "start_time": "2022-05-15T12:55:09.905Z"
   },
   {
    "duration": 7,
    "start_time": "2022-05-15T12:55:09.913Z"
   },
   {
    "duration": 4,
    "start_time": "2022-05-15T12:55:09.922Z"
   },
   {
    "duration": 6,
    "start_time": "2022-05-15T12:55:09.943Z"
   },
   {
    "duration": 5,
    "start_time": "2022-05-15T12:55:09.950Z"
   },
   {
    "duration": 5,
    "start_time": "2022-05-15T12:55:09.956Z"
   },
   {
    "duration": 8,
    "start_time": "2022-05-15T12:55:09.962Z"
   },
   {
    "duration": 14,
    "start_time": "2022-05-15T12:55:09.972Z"
   },
   {
    "duration": 6,
    "start_time": "2022-05-15T12:55:09.988Z"
   },
   {
    "duration": 7,
    "start_time": "2022-05-15T12:55:09.996Z"
   },
   {
    "duration": 9,
    "start_time": "2022-05-15T12:55:10.005Z"
   },
   {
    "duration": 77,
    "start_time": "2022-05-15T12:55:10.016Z"
   },
   {
    "duration": 0,
    "start_time": "2022-05-15T12:55:10.095Z"
   },
   {
    "duration": 0,
    "start_time": "2022-05-15T12:55:10.096Z"
   },
   {
    "duration": 0,
    "start_time": "2022-05-15T12:55:10.097Z"
   },
   {
    "duration": 0,
    "start_time": "2022-05-15T12:55:10.098Z"
   },
   {
    "duration": 0,
    "start_time": "2022-05-15T12:55:10.099Z"
   },
   {
    "duration": 9,
    "start_time": "2022-05-15T12:56:01.522Z"
   },
   {
    "duration": 8,
    "start_time": "2022-05-15T12:56:13.768Z"
   },
   {
    "duration": 3,
    "start_time": "2022-05-15T12:56:18.103Z"
   },
   {
    "duration": 25,
    "start_time": "2022-05-15T12:56:18.108Z"
   },
   {
    "duration": 8,
    "start_time": "2022-05-15T12:56:18.134Z"
   },
   {
    "duration": 12,
    "start_time": "2022-05-15T12:56:18.145Z"
   },
   {
    "duration": 7,
    "start_time": "2022-05-15T12:56:18.159Z"
   },
   {
    "duration": 9,
    "start_time": "2022-05-15T12:56:18.168Z"
   },
   {
    "duration": 18,
    "start_time": "2022-05-15T12:56:18.178Z"
   },
   {
    "duration": 3,
    "start_time": "2022-05-15T12:56:18.198Z"
   },
   {
    "duration": 4,
    "start_time": "2022-05-15T12:56:18.203Z"
   },
   {
    "duration": 36,
    "start_time": "2022-05-15T12:56:18.208Z"
   },
   {
    "duration": 7,
    "start_time": "2022-05-15T12:56:18.246Z"
   },
   {
    "duration": 5,
    "start_time": "2022-05-15T12:56:18.254Z"
   },
   {
    "duration": 4,
    "start_time": "2022-05-15T12:56:18.261Z"
   },
   {
    "duration": 4,
    "start_time": "2022-05-15T12:56:18.267Z"
   },
   {
    "duration": 6,
    "start_time": "2022-05-15T12:56:18.273Z"
   },
   {
    "duration": 5,
    "start_time": "2022-05-15T12:56:18.280Z"
   },
   {
    "duration": 4,
    "start_time": "2022-05-15T12:56:18.286Z"
   },
   {
    "duration": 8,
    "start_time": "2022-05-15T12:56:18.292Z"
   },
   {
    "duration": 4,
    "start_time": "2022-05-15T12:56:18.302Z"
   },
   {
    "duration": 13,
    "start_time": "2022-05-15T12:56:18.308Z"
   },
   {
    "duration": 20,
    "start_time": "2022-05-15T12:56:18.323Z"
   },
   {
    "duration": 3,
    "start_time": "2022-05-15T12:56:18.344Z"
   },
   {
    "duration": 10,
    "start_time": "2022-05-15T12:56:18.348Z"
   },
   {
    "duration": 11,
    "start_time": "2022-05-15T12:56:18.360Z"
   },
   {
    "duration": 10,
    "start_time": "2022-05-15T12:56:18.372Z"
   },
   {
    "duration": 5,
    "start_time": "2022-05-15T12:56:18.383Z"
   },
   {
    "duration": 11,
    "start_time": "2022-05-15T12:56:18.389Z"
   },
   {
    "duration": 44,
    "start_time": "2022-05-15T12:56:18.402Z"
   },
   {
    "duration": 105,
    "start_time": "2022-05-15T12:56:18.449Z"
   },
   {
    "duration": 4,
    "start_time": "2022-05-15T12:58:55.630Z"
   },
   {
    "duration": 3,
    "start_time": "2022-05-15T12:59:23.587Z"
   },
   {
    "duration": 19,
    "start_time": "2022-05-15T12:59:23.592Z"
   },
   {
    "duration": 8,
    "start_time": "2022-05-15T12:59:23.613Z"
   },
   {
    "duration": 13,
    "start_time": "2022-05-15T12:59:23.623Z"
   },
   {
    "duration": 12,
    "start_time": "2022-05-15T12:59:23.638Z"
   },
   {
    "duration": 11,
    "start_time": "2022-05-15T12:59:23.651Z"
   },
   {
    "duration": 18,
    "start_time": "2022-05-15T12:59:23.664Z"
   },
   {
    "duration": 4,
    "start_time": "2022-05-15T12:59:23.684Z"
   },
   {
    "duration": 6,
    "start_time": "2022-05-15T12:59:23.690Z"
   },
   {
    "duration": 7,
    "start_time": "2022-05-15T12:59:23.698Z"
   },
   {
    "duration": 8,
    "start_time": "2022-05-15T12:59:23.707Z"
   },
   {
    "duration": 28,
    "start_time": "2022-05-15T12:59:23.716Z"
   },
   {
    "duration": 4,
    "start_time": "2022-05-15T12:59:23.748Z"
   },
   {
    "duration": 15,
    "start_time": "2022-05-15T12:59:23.754Z"
   },
   {
    "duration": 5,
    "start_time": "2022-05-15T12:59:23.771Z"
   },
   {
    "duration": 6,
    "start_time": "2022-05-15T12:59:23.778Z"
   },
   {
    "duration": 6,
    "start_time": "2022-05-15T12:59:23.785Z"
   },
   {
    "duration": 7,
    "start_time": "2022-05-15T12:59:23.792Z"
   },
   {
    "duration": 7,
    "start_time": "2022-05-15T12:59:23.800Z"
   },
   {
    "duration": 10,
    "start_time": "2022-05-15T12:59:23.808Z"
   },
   {
    "duration": 9,
    "start_time": "2022-05-15T12:59:23.820Z"
   },
   {
    "duration": 8,
    "start_time": "2022-05-15T12:59:23.831Z"
   },
   {
    "duration": 4,
    "start_time": "2022-05-15T12:59:23.841Z"
   },
   {
    "duration": 11,
    "start_time": "2022-05-15T12:59:23.847Z"
   },
   {
    "duration": 8,
    "start_time": "2022-05-15T12:59:23.859Z"
   },
   {
    "duration": 4,
    "start_time": "2022-05-15T12:59:23.869Z"
   },
   {
    "duration": 11,
    "start_time": "2022-05-15T12:59:23.874Z"
   },
   {
    "duration": 9,
    "start_time": "2022-05-15T12:59:23.886Z"
   },
   {
    "duration": 13,
    "start_time": "2022-05-15T12:59:23.897Z"
   },
   {
    "duration": 11,
    "start_time": "2022-05-15T12:59:23.912Z"
   },
   {
    "duration": 4,
    "start_time": "2022-05-15T13:12:53.949Z"
   },
   {
    "duration": 3,
    "start_time": "2022-05-15T13:12:57.679Z"
   },
   {
    "duration": 31,
    "start_time": "2022-05-15T13:12:57.683Z"
   },
   {
    "duration": 11,
    "start_time": "2022-05-15T13:12:57.716Z"
   },
   {
    "duration": 24,
    "start_time": "2022-05-15T13:12:57.729Z"
   },
   {
    "duration": 22,
    "start_time": "2022-05-15T13:12:57.755Z"
   },
   {
    "duration": 12,
    "start_time": "2022-05-15T13:12:57.779Z"
   },
   {
    "duration": 28,
    "start_time": "2022-05-15T13:12:57.793Z"
   },
   {
    "duration": 4,
    "start_time": "2022-05-15T13:12:57.823Z"
   },
   {
    "duration": 21,
    "start_time": "2022-05-15T13:12:57.829Z"
   },
   {
    "duration": 16,
    "start_time": "2022-05-15T13:12:57.852Z"
   },
   {
    "duration": 19,
    "start_time": "2022-05-15T13:12:57.869Z"
   },
   {
    "duration": 21,
    "start_time": "2022-05-15T13:12:57.889Z"
   },
   {
    "duration": 16,
    "start_time": "2022-05-15T13:12:57.911Z"
   },
   {
    "duration": 19,
    "start_time": "2022-05-15T13:12:57.929Z"
   },
   {
    "duration": 13,
    "start_time": "2022-05-15T13:12:57.950Z"
   },
   {
    "duration": 13,
    "start_time": "2022-05-15T13:12:57.964Z"
   },
   {
    "duration": 17,
    "start_time": "2022-05-15T13:12:57.979Z"
   },
   {
    "duration": 11,
    "start_time": "2022-05-15T13:12:57.998Z"
   },
   {
    "duration": 23,
    "start_time": "2022-05-15T13:12:58.011Z"
   },
   {
    "duration": 12,
    "start_time": "2022-05-15T13:12:58.036Z"
   },
   {
    "duration": 21,
    "start_time": "2022-05-15T13:12:58.049Z"
   },
   {
    "duration": 19,
    "start_time": "2022-05-15T13:12:58.072Z"
   },
   {
    "duration": 15,
    "start_time": "2022-05-15T13:12:58.093Z"
   },
   {
    "duration": 19,
    "start_time": "2022-05-15T13:12:58.111Z"
   },
   {
    "duration": 26,
    "start_time": "2022-05-15T13:12:58.132Z"
   },
   {
    "duration": 8,
    "start_time": "2022-05-15T13:12:58.159Z"
   },
   {
    "duration": 27,
    "start_time": "2022-05-15T13:12:58.169Z"
   },
   {
    "duration": 9,
    "start_time": "2022-05-15T13:12:58.197Z"
   },
   {
    "duration": 14,
    "start_time": "2022-05-15T13:12:58.208Z"
   },
   {
    "duration": 20,
    "start_time": "2022-05-15T13:12:58.224Z"
   },
   {
    "duration": 3,
    "start_time": "2022-05-15T13:15:47.668Z"
   },
   {
    "duration": 26,
    "start_time": "2022-05-15T13:15:47.673Z"
   },
   {
    "duration": 7,
    "start_time": "2022-05-15T13:15:47.701Z"
   },
   {
    "duration": 13,
    "start_time": "2022-05-15T13:15:47.710Z"
   },
   {
    "duration": 8,
    "start_time": "2022-05-15T13:15:47.725Z"
   },
   {
    "duration": 11,
    "start_time": "2022-05-15T13:15:47.734Z"
   },
   {
    "duration": 19,
    "start_time": "2022-05-15T13:15:47.747Z"
   },
   {
    "duration": 5,
    "start_time": "2022-05-15T13:15:47.768Z"
   },
   {
    "duration": 5,
    "start_time": "2022-05-15T13:15:47.776Z"
   },
   {
    "duration": 7,
    "start_time": "2022-05-15T13:15:47.783Z"
   },
   {
    "duration": 10,
    "start_time": "2022-05-15T13:15:47.791Z"
   },
   {
    "duration": 9,
    "start_time": "2022-05-15T13:15:47.802Z"
   },
   {
    "duration": 31,
    "start_time": "2022-05-15T13:15:47.812Z"
   },
   {
    "duration": 17,
    "start_time": "2022-05-15T13:15:47.845Z"
   },
   {
    "duration": 5,
    "start_time": "2022-05-15T13:15:47.863Z"
   },
   {
    "duration": 9,
    "start_time": "2022-05-15T13:15:47.870Z"
   },
   {
    "duration": 5,
    "start_time": "2022-05-15T13:15:47.881Z"
   },
   {
    "duration": 6,
    "start_time": "2022-05-15T13:15:47.887Z"
   },
   {
    "duration": 5,
    "start_time": "2022-05-15T13:15:47.895Z"
   },
   {
    "duration": 8,
    "start_time": "2022-05-15T13:15:47.901Z"
   },
   {
    "duration": 8,
    "start_time": "2022-05-15T13:15:47.911Z"
   },
   {
    "duration": 6,
    "start_time": "2022-05-15T13:15:47.920Z"
   },
   {
    "duration": 8,
    "start_time": "2022-05-15T13:15:47.927Z"
   },
   {
    "duration": 9,
    "start_time": "2022-05-15T13:15:47.942Z"
   },
   {
    "duration": 0,
    "start_time": "2022-05-15T13:15:47.952Z"
   },
   {
    "duration": 0,
    "start_time": "2022-05-15T13:15:47.953Z"
   },
   {
    "duration": 0,
    "start_time": "2022-05-15T13:15:47.954Z"
   },
   {
    "duration": 0,
    "start_time": "2022-05-15T13:15:47.956Z"
   },
   {
    "duration": 0,
    "start_time": "2022-05-15T13:15:47.957Z"
   },
   {
    "duration": 0,
    "start_time": "2022-05-15T13:15:47.958Z"
   },
   {
    "duration": 8,
    "start_time": "2022-05-15T13:25:47.594Z"
   },
   {
    "duration": 9,
    "start_time": "2022-05-15T13:26:12.458Z"
   },
   {
    "duration": 4,
    "start_time": "2022-05-15T13:32:58.742Z"
   },
   {
    "duration": 19,
    "start_time": "2022-05-15T13:32:58.748Z"
   },
   {
    "duration": 8,
    "start_time": "2022-05-15T13:32:58.769Z"
   },
   {
    "duration": 13,
    "start_time": "2022-05-15T13:32:58.778Z"
   },
   {
    "duration": 8,
    "start_time": "2022-05-15T13:32:58.794Z"
   },
   {
    "duration": 40,
    "start_time": "2022-05-15T13:32:58.803Z"
   },
   {
    "duration": 22,
    "start_time": "2022-05-15T13:32:58.846Z"
   },
   {
    "duration": 5,
    "start_time": "2022-05-15T13:32:58.870Z"
   },
   {
    "duration": 4,
    "start_time": "2022-05-15T13:32:58.876Z"
   },
   {
    "duration": 6,
    "start_time": "2022-05-15T13:32:58.882Z"
   },
   {
    "duration": 14,
    "start_time": "2022-05-15T13:32:58.890Z"
   },
   {
    "duration": 37,
    "start_time": "2022-05-15T13:32:58.906Z"
   },
   {
    "duration": 7,
    "start_time": "2022-05-15T13:32:58.946Z"
   },
   {
    "duration": 5,
    "start_time": "2022-05-15T13:32:58.954Z"
   },
   {
    "duration": 4,
    "start_time": "2022-05-15T13:32:58.961Z"
   },
   {
    "duration": 7,
    "start_time": "2022-05-15T13:32:58.967Z"
   },
   {
    "duration": 6,
    "start_time": "2022-05-15T13:32:58.975Z"
   },
   {
    "duration": 5,
    "start_time": "2022-05-15T13:32:58.982Z"
   },
   {
    "duration": 4,
    "start_time": "2022-05-15T13:32:58.988Z"
   },
   {
    "duration": 7,
    "start_time": "2022-05-15T13:32:58.993Z"
   },
   {
    "duration": 10,
    "start_time": "2022-05-15T13:32:59.002Z"
   },
   {
    "duration": 6,
    "start_time": "2022-05-15T13:32:59.013Z"
   },
   {
    "duration": 23,
    "start_time": "2022-05-15T13:32:59.021Z"
   },
   {
    "duration": 10,
    "start_time": "2022-05-15T13:32:59.046Z"
   },
   {
    "duration": 0,
    "start_time": "2022-05-15T13:32:59.058Z"
   },
   {
    "duration": 0,
    "start_time": "2022-05-15T13:32:59.059Z"
   },
   {
    "duration": 0,
    "start_time": "2022-05-15T13:32:59.060Z"
   },
   {
    "duration": 0,
    "start_time": "2022-05-15T13:32:59.061Z"
   },
   {
    "duration": 0,
    "start_time": "2022-05-15T13:32:59.062Z"
   },
   {
    "duration": 0,
    "start_time": "2022-05-15T13:32:59.063Z"
   },
   {
    "duration": 0,
    "start_time": "2022-05-15T13:32:59.065Z"
   },
   {
    "duration": 0,
    "start_time": "2022-05-15T13:32:59.066Z"
   },
   {
    "duration": 0,
    "start_time": "2022-05-15T13:32:59.067Z"
   },
   {
    "duration": 3,
    "start_time": "2022-05-15T13:33:51.409Z"
   },
   {
    "duration": 26,
    "start_time": "2022-05-15T13:33:51.414Z"
   },
   {
    "duration": 22,
    "start_time": "2022-05-15T13:33:51.442Z"
   },
   {
    "duration": 18,
    "start_time": "2022-05-15T13:33:51.466Z"
   },
   {
    "duration": 24,
    "start_time": "2022-05-15T13:33:51.487Z"
   },
   {
    "duration": 22,
    "start_time": "2022-05-15T13:33:51.513Z"
   },
   {
    "duration": 26,
    "start_time": "2022-05-15T13:33:51.538Z"
   },
   {
    "duration": 16,
    "start_time": "2022-05-15T13:33:51.566Z"
   },
   {
    "duration": 16,
    "start_time": "2022-05-15T13:33:51.584Z"
   },
   {
    "duration": 20,
    "start_time": "2022-05-15T13:33:51.601Z"
   },
   {
    "duration": 26,
    "start_time": "2022-05-15T13:33:51.624Z"
   },
   {
    "duration": 16,
    "start_time": "2022-05-15T13:33:51.652Z"
   },
   {
    "duration": 21,
    "start_time": "2022-05-15T13:33:51.669Z"
   },
   {
    "duration": 15,
    "start_time": "2022-05-15T13:33:51.692Z"
   },
   {
    "duration": 19,
    "start_time": "2022-05-15T13:33:51.709Z"
   },
   {
    "duration": 15,
    "start_time": "2022-05-15T13:33:51.729Z"
   },
   {
    "duration": 10,
    "start_time": "2022-05-15T13:33:51.746Z"
   },
   {
    "duration": 34,
    "start_time": "2022-05-15T13:33:51.757Z"
   },
   {
    "duration": 17,
    "start_time": "2022-05-15T13:33:51.793Z"
   },
   {
    "duration": 27,
    "start_time": "2022-05-15T13:33:51.812Z"
   },
   {
    "duration": 23,
    "start_time": "2022-05-15T13:33:51.841Z"
   },
   {
    "duration": 15,
    "start_time": "2022-05-15T13:33:51.866Z"
   },
   {
    "duration": 20,
    "start_time": "2022-05-15T13:33:51.883Z"
   },
   {
    "duration": 17,
    "start_time": "2022-05-15T13:33:51.905Z"
   },
   {
    "duration": 0,
    "start_time": "2022-05-15T13:33:51.924Z"
   },
   {
    "duration": 0,
    "start_time": "2022-05-15T13:33:51.925Z"
   },
   {
    "duration": 0,
    "start_time": "2022-05-15T13:33:51.926Z"
   },
   {
    "duration": 0,
    "start_time": "2022-05-15T13:33:51.927Z"
   },
   {
    "duration": 0,
    "start_time": "2022-05-15T13:33:51.928Z"
   },
   {
    "duration": 0,
    "start_time": "2022-05-15T13:33:51.929Z"
   },
   {
    "duration": 0,
    "start_time": "2022-05-15T13:33:51.931Z"
   },
   {
    "duration": 0,
    "start_time": "2022-05-15T13:33:51.932Z"
   },
   {
    "duration": 0,
    "start_time": "2022-05-15T13:33:51.933Z"
   },
   {
    "duration": 3,
    "start_time": "2022-05-15T13:34:48.968Z"
   },
   {
    "duration": 17,
    "start_time": "2022-05-15T13:34:48.972Z"
   },
   {
    "duration": 8,
    "start_time": "2022-05-15T13:34:48.991Z"
   },
   {
    "duration": 11,
    "start_time": "2022-05-15T13:34:49.001Z"
   },
   {
    "duration": 5,
    "start_time": "2022-05-15T13:34:49.013Z"
   },
   {
    "duration": 11,
    "start_time": "2022-05-15T13:34:49.020Z"
   },
   {
    "duration": 22,
    "start_time": "2022-05-15T13:34:49.032Z"
   },
   {
    "duration": 4,
    "start_time": "2022-05-15T13:34:49.055Z"
   },
   {
    "duration": 4,
    "start_time": "2022-05-15T13:34:49.061Z"
   },
   {
    "duration": 6,
    "start_time": "2022-05-15T13:34:49.066Z"
   },
   {
    "duration": 9,
    "start_time": "2022-05-15T13:34:49.073Z"
   },
   {
    "duration": 6,
    "start_time": "2022-05-15T13:34:49.084Z"
   },
   {
    "duration": 6,
    "start_time": "2022-05-15T13:34:49.092Z"
   },
   {
    "duration": 6,
    "start_time": "2022-05-15T13:34:49.099Z"
   },
   {
    "duration": 4,
    "start_time": "2022-05-15T13:34:49.107Z"
   },
   {
    "duration": 30,
    "start_time": "2022-05-15T13:34:49.113Z"
   },
   {
    "duration": 3,
    "start_time": "2022-05-15T13:34:49.144Z"
   },
   {
    "duration": 4,
    "start_time": "2022-05-15T13:34:49.149Z"
   },
   {
    "duration": 4,
    "start_time": "2022-05-15T13:34:49.155Z"
   },
   {
    "duration": 8,
    "start_time": "2022-05-15T13:34:49.161Z"
   },
   {
    "duration": 6,
    "start_time": "2022-05-15T13:34:49.171Z"
   },
   {
    "duration": 9,
    "start_time": "2022-05-15T13:34:49.179Z"
   },
   {
    "duration": 8,
    "start_time": "2022-05-15T13:34:49.189Z"
   },
   {
    "duration": 16,
    "start_time": "2022-05-15T13:34:49.200Z"
   },
   {
    "duration": 0,
    "start_time": "2022-05-15T13:34:49.218Z"
   },
   {
    "duration": 0,
    "start_time": "2022-05-15T13:34:49.219Z"
   },
   {
    "duration": 0,
    "start_time": "2022-05-15T13:34:49.220Z"
   },
   {
    "duration": 0,
    "start_time": "2022-05-15T13:34:49.221Z"
   },
   {
    "duration": 0,
    "start_time": "2022-05-15T13:34:49.243Z"
   },
   {
    "duration": 0,
    "start_time": "2022-05-15T13:34:49.244Z"
   },
   {
    "duration": 0,
    "start_time": "2022-05-15T13:34:49.245Z"
   },
   {
    "duration": 0,
    "start_time": "2022-05-15T13:34:49.246Z"
   },
   {
    "duration": 0,
    "start_time": "2022-05-15T13:34:49.247Z"
   },
   {
    "duration": 13,
    "start_time": "2022-05-15T13:35:26.000Z"
   },
   {
    "duration": 4,
    "start_time": "2022-05-15T13:36:16.008Z"
   },
   {
    "duration": 31,
    "start_time": "2022-05-15T13:36:16.014Z"
   },
   {
    "duration": 9,
    "start_time": "2022-05-15T13:36:16.047Z"
   },
   {
    "duration": 21,
    "start_time": "2022-05-15T13:36:16.058Z"
   },
   {
    "duration": 12,
    "start_time": "2022-05-15T13:36:16.080Z"
   },
   {
    "duration": 11,
    "start_time": "2022-05-15T13:36:16.093Z"
   },
   {
    "duration": 50,
    "start_time": "2022-05-15T13:36:16.105Z"
   },
   {
    "duration": 4,
    "start_time": "2022-05-15T13:36:16.157Z"
   },
   {
    "duration": 5,
    "start_time": "2022-05-15T13:36:16.163Z"
   },
   {
    "duration": 8,
    "start_time": "2022-05-15T13:36:16.170Z"
   },
   {
    "duration": 10,
    "start_time": "2022-05-15T13:36:16.180Z"
   },
   {
    "duration": 6,
    "start_time": "2022-05-15T13:36:16.191Z"
   },
   {
    "duration": 9,
    "start_time": "2022-05-15T13:36:16.198Z"
   },
   {
    "duration": 7,
    "start_time": "2022-05-15T13:36:16.209Z"
   },
   {
    "duration": 7,
    "start_time": "2022-05-15T13:36:16.218Z"
   },
   {
    "duration": 17,
    "start_time": "2022-05-15T13:36:16.226Z"
   },
   {
    "duration": 3,
    "start_time": "2022-05-15T13:36:16.244Z"
   },
   {
    "duration": 16,
    "start_time": "2022-05-15T13:36:16.248Z"
   },
   {
    "duration": 11,
    "start_time": "2022-05-15T13:36:16.266Z"
   },
   {
    "duration": 10,
    "start_time": "2022-05-15T13:36:16.279Z"
   },
   {
    "duration": 7,
    "start_time": "2022-05-15T13:36:16.291Z"
   },
   {
    "duration": 9,
    "start_time": "2022-05-15T13:36:16.300Z"
   },
   {
    "duration": 7,
    "start_time": "2022-05-15T13:36:16.311Z"
   },
   {
    "duration": 5,
    "start_time": "2022-05-15T13:36:16.321Z"
   },
   {
    "duration": 14,
    "start_time": "2022-05-15T13:36:16.328Z"
   },
   {
    "duration": 7,
    "start_time": "2022-05-15T13:36:16.344Z"
   },
   {
    "duration": 8,
    "start_time": "2022-05-15T13:36:16.353Z"
   },
   {
    "duration": 6,
    "start_time": "2022-05-15T13:36:16.363Z"
   },
   {
    "duration": 6,
    "start_time": "2022-05-15T13:36:16.371Z"
   },
   {
    "duration": 10,
    "start_time": "2022-05-15T13:36:16.378Z"
   },
   {
    "duration": 8,
    "start_time": "2022-05-15T13:36:16.389Z"
   },
   {
    "duration": 6,
    "start_time": "2022-05-15T13:36:16.398Z"
   },
   {
    "duration": 8,
    "start_time": "2022-05-15T13:36:16.406Z"
   },
   {
    "duration": 3,
    "start_time": "2022-05-15T13:37:40.930Z"
   },
   {
    "duration": 33,
    "start_time": "2022-05-15T13:37:40.935Z"
   },
   {
    "duration": 8,
    "start_time": "2022-05-15T13:37:40.970Z"
   },
   {
    "duration": 17,
    "start_time": "2022-05-15T13:37:40.980Z"
   },
   {
    "duration": 9,
    "start_time": "2022-05-15T13:37:40.999Z"
   },
   {
    "duration": 11,
    "start_time": "2022-05-15T13:37:41.009Z"
   },
   {
    "duration": 34,
    "start_time": "2022-05-15T13:37:41.021Z"
   },
   {
    "duration": 5,
    "start_time": "2022-05-15T13:37:41.056Z"
   },
   {
    "duration": 7,
    "start_time": "2022-05-15T13:37:41.063Z"
   },
   {
    "duration": 8,
    "start_time": "2022-05-15T13:37:41.072Z"
   },
   {
    "duration": 10,
    "start_time": "2022-05-15T13:37:41.081Z"
   },
   {
    "duration": 6,
    "start_time": "2022-05-15T13:37:41.092Z"
   },
   {
    "duration": 7,
    "start_time": "2022-05-15T13:37:41.099Z"
   },
   {
    "duration": 16,
    "start_time": "2022-05-15T13:37:41.107Z"
   },
   {
    "duration": 43,
    "start_time": "2022-05-15T13:37:41.124Z"
   },
   {
    "duration": 13,
    "start_time": "2022-05-15T13:37:41.169Z"
   },
   {
    "duration": 20,
    "start_time": "2022-05-15T13:37:41.184Z"
   },
   {
    "duration": 11,
    "start_time": "2022-05-15T13:37:41.206Z"
   },
   {
    "duration": 7,
    "start_time": "2022-05-15T13:37:41.218Z"
   },
   {
    "duration": 8,
    "start_time": "2022-05-15T13:37:41.226Z"
   },
   {
    "duration": 9,
    "start_time": "2022-05-15T13:37:41.235Z"
   },
   {
    "duration": 7,
    "start_time": "2022-05-15T13:37:41.245Z"
   },
   {
    "duration": 8,
    "start_time": "2022-05-15T13:37:41.254Z"
   },
   {
    "duration": 13,
    "start_time": "2022-05-15T13:37:41.265Z"
   },
   {
    "duration": 0,
    "start_time": "2022-05-15T13:37:41.279Z"
   },
   {
    "duration": 0,
    "start_time": "2022-05-15T13:37:41.280Z"
   },
   {
    "duration": 0,
    "start_time": "2022-05-15T13:37:41.281Z"
   },
   {
    "duration": 0,
    "start_time": "2022-05-15T13:37:41.283Z"
   },
   {
    "duration": 0,
    "start_time": "2022-05-15T13:37:41.284Z"
   },
   {
    "duration": 0,
    "start_time": "2022-05-15T13:37:41.285Z"
   },
   {
    "duration": 0,
    "start_time": "2022-05-15T13:37:41.286Z"
   },
   {
    "duration": 0,
    "start_time": "2022-05-15T13:37:41.287Z"
   },
   {
    "duration": 0,
    "start_time": "2022-05-15T13:37:41.288Z"
   },
   {
    "duration": 4,
    "start_time": "2022-05-15T13:39:21.277Z"
   },
   {
    "duration": 18,
    "start_time": "2022-05-15T13:39:21.283Z"
   },
   {
    "duration": 9,
    "start_time": "2022-05-15T13:39:21.303Z"
   },
   {
    "duration": 25,
    "start_time": "2022-05-15T13:39:21.313Z"
   },
   {
    "duration": 10,
    "start_time": "2022-05-15T13:39:21.340Z"
   },
   {
    "duration": 9,
    "start_time": "2022-05-15T13:39:21.352Z"
   },
   {
    "duration": 20,
    "start_time": "2022-05-15T13:39:21.363Z"
   },
   {
    "duration": 5,
    "start_time": "2022-05-15T13:39:21.384Z"
   },
   {
    "duration": 12,
    "start_time": "2022-05-15T13:39:21.390Z"
   },
   {
    "duration": 8,
    "start_time": "2022-05-15T13:39:21.403Z"
   },
   {
    "duration": 31,
    "start_time": "2022-05-15T13:39:21.414Z"
   },
   {
    "duration": 14,
    "start_time": "2022-05-15T13:39:21.447Z"
   },
   {
    "duration": 31,
    "start_time": "2022-05-15T13:39:21.462Z"
   },
   {
    "duration": 15,
    "start_time": "2022-05-15T13:39:21.494Z"
   },
   {
    "duration": 18,
    "start_time": "2022-05-15T13:39:21.510Z"
   },
   {
    "duration": 14,
    "start_time": "2022-05-15T13:39:21.530Z"
   },
   {
    "duration": 11,
    "start_time": "2022-05-15T13:39:21.546Z"
   },
   {
    "duration": 12,
    "start_time": "2022-05-15T13:39:21.558Z"
   },
   {
    "duration": 12,
    "start_time": "2022-05-15T13:39:21.572Z"
   },
   {
    "duration": 15,
    "start_time": "2022-05-15T13:39:21.585Z"
   },
   {
    "duration": 8,
    "start_time": "2022-05-15T13:39:21.602Z"
   },
   {
    "duration": 7,
    "start_time": "2022-05-15T13:39:21.612Z"
   },
   {
    "duration": 5,
    "start_time": "2022-05-15T13:39:21.621Z"
   },
   {
    "duration": 19,
    "start_time": "2022-05-15T13:39:21.627Z"
   },
   {
    "duration": 0,
    "start_time": "2022-05-15T13:39:21.648Z"
   },
   {
    "duration": 0,
    "start_time": "2022-05-15T13:39:21.649Z"
   },
   {
    "duration": 0,
    "start_time": "2022-05-15T13:39:21.650Z"
   },
   {
    "duration": 0,
    "start_time": "2022-05-15T13:39:21.652Z"
   },
   {
    "duration": 0,
    "start_time": "2022-05-15T13:39:21.653Z"
   },
   {
    "duration": 0,
    "start_time": "2022-05-15T13:39:21.654Z"
   },
   {
    "duration": 0,
    "start_time": "2022-05-15T13:39:21.655Z"
   },
   {
    "duration": 0,
    "start_time": "2022-05-15T13:39:21.656Z"
   },
   {
    "duration": 0,
    "start_time": "2022-05-15T13:39:21.657Z"
   },
   {
    "duration": 3,
    "start_time": "2022-05-15T13:43:57.188Z"
   },
   {
    "duration": 15,
    "start_time": "2022-05-15T13:43:57.193Z"
   },
   {
    "duration": 9,
    "start_time": "2022-05-15T13:43:57.209Z"
   },
   {
    "duration": 19,
    "start_time": "2022-05-15T13:43:57.220Z"
   },
   {
    "duration": 6,
    "start_time": "2022-05-15T13:43:57.242Z"
   },
   {
    "duration": 15,
    "start_time": "2022-05-15T13:43:57.249Z"
   },
   {
    "duration": 23,
    "start_time": "2022-05-15T13:43:57.266Z"
   },
   {
    "duration": 5,
    "start_time": "2022-05-15T13:43:57.291Z"
   },
   {
    "duration": 7,
    "start_time": "2022-05-15T13:43:57.298Z"
   },
   {
    "duration": 37,
    "start_time": "2022-05-15T13:43:57.307Z"
   },
   {
    "duration": 10,
    "start_time": "2022-05-15T13:43:57.346Z"
   },
   {
    "duration": 4,
    "start_time": "2022-05-15T13:43:57.358Z"
   },
   {
    "duration": 3,
    "start_time": "2022-05-15T13:43:57.366Z"
   },
   {
    "duration": 6,
    "start_time": "2022-05-15T13:43:57.371Z"
   },
   {
    "duration": 6,
    "start_time": "2022-05-15T13:43:57.379Z"
   },
   {
    "duration": 5,
    "start_time": "2022-05-15T13:43:57.387Z"
   },
   {
    "duration": 5,
    "start_time": "2022-05-15T13:43:57.393Z"
   },
   {
    "duration": 6,
    "start_time": "2022-05-15T13:43:57.400Z"
   },
   {
    "duration": 4,
    "start_time": "2022-05-15T13:43:57.408Z"
   },
   {
    "duration": 30,
    "start_time": "2022-05-15T13:43:57.414Z"
   },
   {
    "duration": 9,
    "start_time": "2022-05-15T13:43:57.446Z"
   },
   {
    "duration": 5,
    "start_time": "2022-05-15T13:43:57.457Z"
   },
   {
    "duration": 5,
    "start_time": "2022-05-15T13:43:57.464Z"
   },
   {
    "duration": 17,
    "start_time": "2022-05-15T13:43:57.472Z"
   },
   {
    "duration": 0,
    "start_time": "2022-05-15T13:43:57.491Z"
   },
   {
    "duration": 0,
    "start_time": "2022-05-15T13:43:57.491Z"
   },
   {
    "duration": 0,
    "start_time": "2022-05-15T13:43:57.492Z"
   },
   {
    "duration": 0,
    "start_time": "2022-05-15T13:43:57.493Z"
   },
   {
    "duration": 0,
    "start_time": "2022-05-15T13:43:57.494Z"
   },
   {
    "duration": 0,
    "start_time": "2022-05-15T13:43:57.496Z"
   },
   {
    "duration": 0,
    "start_time": "2022-05-15T13:43:57.497Z"
   },
   {
    "duration": 0,
    "start_time": "2022-05-15T13:43:57.498Z"
   },
   {
    "duration": 0,
    "start_time": "2022-05-15T13:43:57.500Z"
   },
   {
    "duration": 3,
    "start_time": "2022-05-15T13:46:30.819Z"
   },
   {
    "duration": 21,
    "start_time": "2022-05-15T13:46:30.824Z"
   },
   {
    "duration": 8,
    "start_time": "2022-05-15T13:46:30.847Z"
   },
   {
    "duration": 28,
    "start_time": "2022-05-15T13:46:30.857Z"
   },
   {
    "duration": 34,
    "start_time": "2022-05-15T13:46:30.887Z"
   },
   {
    "duration": 18,
    "start_time": "2022-05-15T13:46:30.923Z"
   },
   {
    "duration": 23,
    "start_time": "2022-05-15T13:46:30.943Z"
   },
   {
    "duration": 10,
    "start_time": "2022-05-15T13:46:30.967Z"
   },
   {
    "duration": 10,
    "start_time": "2022-05-15T13:46:30.980Z"
   },
   {
    "duration": 21,
    "start_time": "2022-05-15T13:46:30.991Z"
   },
   {
    "duration": 36,
    "start_time": "2022-05-15T13:46:31.013Z"
   },
   {
    "duration": 27,
    "start_time": "2022-05-15T13:46:31.050Z"
   },
   {
    "duration": 46,
    "start_time": "2022-05-15T13:46:31.079Z"
   },
   {
    "duration": 18,
    "start_time": "2022-05-15T13:46:31.127Z"
   },
   {
    "duration": 29,
    "start_time": "2022-05-15T13:46:31.147Z"
   },
   {
    "duration": 21,
    "start_time": "2022-05-15T13:46:31.178Z"
   },
   {
    "duration": 27,
    "start_time": "2022-05-15T13:46:31.201Z"
   },
   {
    "duration": 24,
    "start_time": "2022-05-15T13:46:31.230Z"
   },
   {
    "duration": 26,
    "start_time": "2022-05-15T13:46:31.256Z"
   },
   {
    "duration": 29,
    "start_time": "2022-05-15T13:46:31.284Z"
   },
   {
    "duration": 23,
    "start_time": "2022-05-15T13:46:31.314Z"
   },
   {
    "duration": 18,
    "start_time": "2022-05-15T13:46:31.339Z"
   },
   {
    "duration": 18,
    "start_time": "2022-05-15T13:46:31.359Z"
   },
   {
    "duration": 30,
    "start_time": "2022-05-15T13:46:31.380Z"
   },
   {
    "duration": 0,
    "start_time": "2022-05-15T13:46:31.412Z"
   },
   {
    "duration": 0,
    "start_time": "2022-05-15T13:46:31.413Z"
   },
   {
    "duration": 0,
    "start_time": "2022-05-15T13:46:31.414Z"
   },
   {
    "duration": 0,
    "start_time": "2022-05-15T13:46:31.415Z"
   },
   {
    "duration": 0,
    "start_time": "2022-05-15T13:46:31.416Z"
   },
   {
    "duration": 0,
    "start_time": "2022-05-15T13:46:31.417Z"
   },
   {
    "duration": 0,
    "start_time": "2022-05-15T13:46:31.418Z"
   },
   {
    "duration": 0,
    "start_time": "2022-05-15T13:46:31.419Z"
   },
   {
    "duration": 0,
    "start_time": "2022-05-15T13:46:31.420Z"
   },
   {
    "duration": 3,
    "start_time": "2022-05-15T14:24:11.311Z"
   },
   {
    "duration": 45,
    "start_time": "2022-05-15T14:24:11.316Z"
   },
   {
    "duration": 17,
    "start_time": "2022-05-15T14:24:11.363Z"
   },
   {
    "duration": 26,
    "start_time": "2022-05-15T14:24:11.383Z"
   },
   {
    "duration": 14,
    "start_time": "2022-05-15T14:24:11.411Z"
   },
   {
    "duration": 32,
    "start_time": "2022-05-15T14:24:11.427Z"
   },
   {
    "duration": 30,
    "start_time": "2022-05-15T14:24:11.461Z"
   },
   {
    "duration": 9,
    "start_time": "2022-05-15T14:24:11.493Z"
   },
   {
    "duration": 25,
    "start_time": "2022-05-15T14:24:11.503Z"
   },
   {
    "duration": 26,
    "start_time": "2022-05-15T14:24:11.532Z"
   },
   {
    "duration": 16,
    "start_time": "2022-05-15T14:24:11.560Z"
   },
   {
    "duration": 11,
    "start_time": "2022-05-15T14:24:11.577Z"
   },
   {
    "duration": 13,
    "start_time": "2022-05-15T14:24:11.590Z"
   },
   {
    "duration": 30,
    "start_time": "2022-05-15T14:24:11.605Z"
   },
   {
    "duration": 24,
    "start_time": "2022-05-15T14:24:11.637Z"
   },
   {
    "duration": 41,
    "start_time": "2022-05-15T14:24:11.663Z"
   },
   {
    "duration": 21,
    "start_time": "2022-05-15T14:24:11.705Z"
   },
   {
    "duration": 28,
    "start_time": "2022-05-15T14:24:11.728Z"
   },
   {
    "duration": 18,
    "start_time": "2022-05-15T14:24:11.758Z"
   },
   {
    "duration": 33,
    "start_time": "2022-05-15T14:24:11.778Z"
   },
   {
    "duration": 27,
    "start_time": "2022-05-15T14:24:11.812Z"
   },
   {
    "duration": 27,
    "start_time": "2022-05-15T14:24:11.840Z"
   },
   {
    "duration": 19,
    "start_time": "2022-05-15T14:24:11.868Z"
   },
   {
    "duration": 26,
    "start_time": "2022-05-15T14:24:11.888Z"
   },
   {
    "duration": 22,
    "start_time": "2022-05-15T14:24:11.916Z"
   },
   {
    "duration": 52,
    "start_time": "2022-05-15T14:24:11.940Z"
   },
   {
    "duration": 19,
    "start_time": "2022-05-15T14:24:11.993Z"
   },
   {
    "duration": 20,
    "start_time": "2022-05-15T14:24:12.015Z"
   },
   {
    "duration": 26,
    "start_time": "2022-05-15T14:24:12.037Z"
   },
   {
    "duration": 24,
    "start_time": "2022-05-15T14:24:12.066Z"
   },
   {
    "duration": 21,
    "start_time": "2022-05-15T14:24:12.092Z"
   },
   {
    "duration": 19,
    "start_time": "2022-05-15T14:24:12.115Z"
   },
   {
    "duration": 1197,
    "start_time": "2022-05-15T14:24:27.279Z"
   },
   {
    "duration": 14,
    "start_time": "2022-05-15T14:24:28.478Z"
   },
   {
    "duration": 15,
    "start_time": "2022-05-15T14:24:28.493Z"
   },
   {
    "duration": 10,
    "start_time": "2022-05-15T14:24:28.511Z"
   },
   {
    "duration": 7,
    "start_time": "2022-05-15T14:24:28.522Z"
   },
   {
    "duration": 24,
    "start_time": "2022-05-15T14:24:28.531Z"
   },
   {
    "duration": 20,
    "start_time": "2022-05-15T14:24:28.557Z"
   },
   {
    "duration": 5,
    "start_time": "2022-05-15T14:24:28.578Z"
   },
   {
    "duration": 5,
    "start_time": "2022-05-15T14:24:28.584Z"
   },
   {
    "duration": 11,
    "start_time": "2022-05-15T14:24:28.592Z"
   },
   {
    "duration": 9,
    "start_time": "2022-05-15T14:24:28.605Z"
   },
   {
    "duration": 30,
    "start_time": "2022-05-15T14:24:28.616Z"
   },
   {
    "duration": 13,
    "start_time": "2022-05-15T14:24:28.648Z"
   },
   {
    "duration": 6,
    "start_time": "2022-05-15T14:24:28.663Z"
   },
   {
    "duration": 4,
    "start_time": "2022-05-15T14:24:28.671Z"
   },
   {
    "duration": 5,
    "start_time": "2022-05-15T14:24:28.676Z"
   },
   {
    "duration": 5,
    "start_time": "2022-05-15T14:24:28.683Z"
   },
   {
    "duration": 5,
    "start_time": "2022-05-15T14:24:28.689Z"
   },
   {
    "duration": 6,
    "start_time": "2022-05-15T14:24:28.696Z"
   },
   {
    "duration": 6,
    "start_time": "2022-05-15T14:24:28.704Z"
   },
   {
    "duration": 7,
    "start_time": "2022-05-15T14:24:28.712Z"
   },
   {
    "duration": 7,
    "start_time": "2022-05-15T14:24:28.720Z"
   },
   {
    "duration": 11,
    "start_time": "2022-05-15T14:24:28.728Z"
   },
   {
    "duration": 15,
    "start_time": "2022-05-15T14:24:28.746Z"
   },
   {
    "duration": 6,
    "start_time": "2022-05-15T14:24:28.763Z"
   },
   {
    "duration": 11,
    "start_time": "2022-05-15T14:24:28.770Z"
   },
   {
    "duration": 18,
    "start_time": "2022-05-15T14:24:28.783Z"
   },
   {
    "duration": 3,
    "start_time": "2022-05-15T14:24:28.804Z"
   },
   {
    "duration": 10,
    "start_time": "2022-05-15T14:24:28.808Z"
   },
   {
    "duration": 6,
    "start_time": "2022-05-15T14:24:28.819Z"
   },
   {
    "duration": 3,
    "start_time": "2022-05-15T14:24:28.827Z"
   },
   {
    "duration": 6,
    "start_time": "2022-05-15T14:24:28.831Z"
   },
   {
    "duration": 3,
    "start_time": "2022-05-15T14:30:03.930Z"
   },
   {
    "duration": 26,
    "start_time": "2022-05-15T14:30:03.935Z"
   },
   {
    "duration": 8,
    "start_time": "2022-05-15T14:30:03.963Z"
   },
   {
    "duration": 11,
    "start_time": "2022-05-15T14:30:03.974Z"
   },
   {
    "duration": 6,
    "start_time": "2022-05-15T14:30:03.987Z"
   },
   {
    "duration": 16,
    "start_time": "2022-05-15T14:30:03.994Z"
   },
   {
    "duration": 48,
    "start_time": "2022-05-15T14:30:04.012Z"
   },
   {
    "duration": 5,
    "start_time": "2022-05-15T14:30:04.062Z"
   },
   {
    "duration": 7,
    "start_time": "2022-05-15T14:30:04.071Z"
   },
   {
    "duration": 9,
    "start_time": "2022-05-15T14:30:04.080Z"
   },
   {
    "duration": 11,
    "start_time": "2022-05-15T14:30:04.090Z"
   },
   {
    "duration": 5,
    "start_time": "2022-05-15T14:30:04.102Z"
   },
   {
    "duration": 5,
    "start_time": "2022-05-15T14:30:04.109Z"
   },
   {
    "duration": 7,
    "start_time": "2022-05-15T14:30:04.116Z"
   },
   {
    "duration": 24,
    "start_time": "2022-05-15T14:30:04.124Z"
   },
   {
    "duration": 12,
    "start_time": "2022-05-15T14:30:04.150Z"
   },
   {
    "duration": 4,
    "start_time": "2022-05-15T14:30:04.164Z"
   },
   {
    "duration": 5,
    "start_time": "2022-05-15T14:30:04.170Z"
   },
   {
    "duration": 4,
    "start_time": "2022-05-15T14:30:04.176Z"
   },
   {
    "duration": 5,
    "start_time": "2022-05-15T14:30:04.182Z"
   },
   {
    "duration": 6,
    "start_time": "2022-05-15T14:30:04.189Z"
   },
   {
    "duration": 7,
    "start_time": "2022-05-15T14:30:04.197Z"
   },
   {
    "duration": 5,
    "start_time": "2022-05-15T14:30:04.205Z"
   },
   {
    "duration": 4,
    "start_time": "2022-05-15T14:30:04.213Z"
   },
   {
    "duration": 5,
    "start_time": "2022-05-15T14:30:04.219Z"
   },
   {
    "duration": 138,
    "start_time": "2022-05-15T14:30:04.225Z"
   },
   {
    "duration": 1,
    "start_time": "2022-05-15T14:30:04.365Z"
   },
   {
    "duration": 0,
    "start_time": "2022-05-15T14:30:04.367Z"
   },
   {
    "duration": 0,
    "start_time": "2022-05-15T14:30:04.368Z"
   },
   {
    "duration": 0,
    "start_time": "2022-05-15T14:30:04.369Z"
   },
   {
    "duration": 0,
    "start_time": "2022-05-15T14:30:04.370Z"
   },
   {
    "duration": 0,
    "start_time": "2022-05-15T14:30:04.371Z"
   },
   {
    "duration": 2,
    "start_time": "2022-05-15T14:37:33.802Z"
   },
   {
    "duration": 25,
    "start_time": "2022-05-15T14:37:33.806Z"
   },
   {
    "duration": 15,
    "start_time": "2022-05-15T14:37:33.833Z"
   },
   {
    "duration": 38,
    "start_time": "2022-05-15T14:37:33.850Z"
   },
   {
    "duration": 24,
    "start_time": "2022-05-15T14:37:33.889Z"
   },
   {
    "duration": 24,
    "start_time": "2022-05-15T14:37:33.914Z"
   },
   {
    "duration": 43,
    "start_time": "2022-05-15T14:37:33.939Z"
   },
   {
    "duration": 4,
    "start_time": "2022-05-15T14:37:33.984Z"
   },
   {
    "duration": 21,
    "start_time": "2022-05-15T14:37:33.990Z"
   },
   {
    "duration": 23,
    "start_time": "2022-05-15T14:37:34.013Z"
   },
   {
    "duration": 32,
    "start_time": "2022-05-15T14:37:34.038Z"
   },
   {
    "duration": 28,
    "start_time": "2022-05-15T14:37:34.071Z"
   },
   {
    "duration": 24,
    "start_time": "2022-05-15T14:37:34.100Z"
   },
   {
    "duration": 22,
    "start_time": "2022-05-15T14:37:34.125Z"
   },
   {
    "duration": 37,
    "start_time": "2022-05-15T14:37:34.148Z"
   },
   {
    "duration": 33,
    "start_time": "2022-05-15T14:37:34.186Z"
   },
   {
    "duration": 17,
    "start_time": "2022-05-15T14:37:34.221Z"
   },
   {
    "duration": 30,
    "start_time": "2022-05-15T14:37:34.240Z"
   },
   {
    "duration": 37,
    "start_time": "2022-05-15T14:37:34.271Z"
   },
   {
    "duration": 36,
    "start_time": "2022-05-15T14:37:34.310Z"
   },
   {
    "duration": 24,
    "start_time": "2022-05-15T14:37:34.348Z"
   },
   {
    "duration": 21,
    "start_time": "2022-05-15T14:37:34.374Z"
   },
   {
    "duration": 17,
    "start_time": "2022-05-15T14:37:34.397Z"
   },
   {
    "duration": 18,
    "start_time": "2022-05-15T14:37:34.418Z"
   },
   {
    "duration": 40,
    "start_time": "2022-05-15T14:37:34.438Z"
   },
   {
    "duration": 32,
    "start_time": "2022-05-15T14:37:34.479Z"
   },
   {
    "duration": 0,
    "start_time": "2022-05-15T14:37:34.513Z"
   },
   {
    "duration": 0,
    "start_time": "2022-05-15T14:37:34.514Z"
   },
   {
    "duration": 0,
    "start_time": "2022-05-15T14:37:34.515Z"
   },
   {
    "duration": 0,
    "start_time": "2022-05-15T14:37:34.516Z"
   },
   {
    "duration": 0,
    "start_time": "2022-05-15T14:37:34.517Z"
   },
   {
    "duration": 0,
    "start_time": "2022-05-15T14:37:34.519Z"
   },
   {
    "duration": 3,
    "start_time": "2022-05-15T14:37:50.722Z"
   },
   {
    "duration": 21,
    "start_time": "2022-05-15T14:37:50.727Z"
   },
   {
    "duration": 15,
    "start_time": "2022-05-15T14:37:50.749Z"
   },
   {
    "duration": 12,
    "start_time": "2022-05-15T14:37:50.766Z"
   },
   {
    "duration": 16,
    "start_time": "2022-05-15T14:37:50.780Z"
   },
   {
    "duration": 14,
    "start_time": "2022-05-15T14:37:50.797Z"
   },
   {
    "duration": 36,
    "start_time": "2022-05-15T14:37:50.813Z"
   },
   {
    "duration": 5,
    "start_time": "2022-05-15T14:37:50.851Z"
   },
   {
    "duration": 7,
    "start_time": "2022-05-15T14:37:50.859Z"
   },
   {
    "duration": 8,
    "start_time": "2022-05-15T14:37:50.868Z"
   },
   {
    "duration": 9,
    "start_time": "2022-05-15T14:37:50.877Z"
   },
   {
    "duration": 14,
    "start_time": "2022-05-15T14:37:50.887Z"
   },
   {
    "duration": 8,
    "start_time": "2022-05-15T14:37:50.902Z"
   },
   {
    "duration": 7,
    "start_time": "2022-05-15T14:37:50.911Z"
   },
   {
    "duration": 6,
    "start_time": "2022-05-15T14:37:50.919Z"
   },
   {
    "duration": 19,
    "start_time": "2022-05-15T14:37:50.927Z"
   },
   {
    "duration": 4,
    "start_time": "2022-05-15T14:37:50.948Z"
   },
   {
    "duration": 10,
    "start_time": "2022-05-15T14:37:50.953Z"
   },
   {
    "duration": 7,
    "start_time": "2022-05-15T14:37:50.964Z"
   },
   {
    "duration": 8,
    "start_time": "2022-05-15T14:37:50.972Z"
   },
   {
    "duration": 8,
    "start_time": "2022-05-15T14:37:50.981Z"
   },
   {
    "duration": 7,
    "start_time": "2022-05-15T14:37:50.990Z"
   },
   {
    "duration": 7,
    "start_time": "2022-05-15T14:37:50.999Z"
   },
   {
    "duration": 3,
    "start_time": "2022-05-15T14:37:51.009Z"
   },
   {
    "duration": 6,
    "start_time": "2022-05-15T14:37:51.013Z"
   },
   {
    "duration": 30,
    "start_time": "2022-05-15T14:37:51.021Z"
   },
   {
    "duration": 17,
    "start_time": "2022-05-15T14:37:51.053Z"
   },
   {
    "duration": 4,
    "start_time": "2022-05-15T14:37:51.072Z"
   },
   {
    "duration": 10,
    "start_time": "2022-05-15T14:37:51.078Z"
   },
   {
    "duration": 13,
    "start_time": "2022-05-15T14:37:51.089Z"
   },
   {
    "duration": 5,
    "start_time": "2022-05-15T14:37:51.103Z"
   },
   {
    "duration": 7,
    "start_time": "2022-05-15T14:37:51.110Z"
   },
   {
    "duration": 3,
    "start_time": "2022-05-15T14:44:08.109Z"
   },
   {
    "duration": 3,
    "start_time": "2022-05-15T14:44:11.357Z"
   },
   {
    "duration": 27,
    "start_time": "2022-05-15T14:44:11.362Z"
   },
   {
    "duration": 8,
    "start_time": "2022-05-15T14:44:11.391Z"
   },
   {
    "duration": 15,
    "start_time": "2022-05-15T14:44:11.401Z"
   },
   {
    "duration": 6,
    "start_time": "2022-05-15T14:44:11.417Z"
   },
   {
    "duration": 10,
    "start_time": "2022-05-15T14:44:11.424Z"
   },
   {
    "duration": 19,
    "start_time": "2022-05-15T14:44:11.443Z"
   },
   {
    "duration": 4,
    "start_time": "2022-05-15T14:44:11.464Z"
   },
   {
    "duration": 5,
    "start_time": "2022-05-15T14:44:11.469Z"
   },
   {
    "duration": 9,
    "start_time": "2022-05-15T14:44:11.476Z"
   },
   {
    "duration": 9,
    "start_time": "2022-05-15T14:44:11.486Z"
   },
   {
    "duration": 4,
    "start_time": "2022-05-15T14:44:11.497Z"
   },
   {
    "duration": 14,
    "start_time": "2022-05-15T14:44:11.502Z"
   },
   {
    "duration": 7,
    "start_time": "2022-05-15T14:44:11.517Z"
   },
   {
    "duration": 3,
    "start_time": "2022-05-15T14:44:11.542Z"
   },
   {
    "duration": 7,
    "start_time": "2022-05-15T14:44:11.546Z"
   },
   {
    "duration": 5,
    "start_time": "2022-05-15T14:44:11.554Z"
   },
   {
    "duration": 4,
    "start_time": "2022-05-15T14:44:11.561Z"
   },
   {
    "duration": 6,
    "start_time": "2022-05-15T14:44:11.567Z"
   },
   {
    "duration": 6,
    "start_time": "2022-05-15T14:44:11.575Z"
   },
   {
    "duration": 7,
    "start_time": "2022-05-15T14:44:11.583Z"
   },
   {
    "duration": 8,
    "start_time": "2022-05-15T14:44:11.592Z"
   },
   {
    "duration": 7,
    "start_time": "2022-05-15T14:44:11.602Z"
   },
   {
    "duration": 8,
    "start_time": "2022-05-15T14:44:11.610Z"
   },
   {
    "duration": 6,
    "start_time": "2022-05-15T14:44:11.620Z"
   },
   {
    "duration": 17,
    "start_time": "2022-05-15T14:44:11.628Z"
   },
   {
    "duration": 13,
    "start_time": "2022-05-15T14:44:11.646Z"
   },
   {
    "duration": 2,
    "start_time": "2022-05-15T14:44:11.663Z"
   },
   {
    "duration": 9,
    "start_time": "2022-05-15T14:44:11.666Z"
   },
   {
    "duration": 6,
    "start_time": "2022-05-15T14:44:11.677Z"
   },
   {
    "duration": 4,
    "start_time": "2022-05-15T14:44:11.685Z"
   },
   {
    "duration": 7,
    "start_time": "2022-05-15T14:44:11.690Z"
   },
   {
    "duration": 3,
    "start_time": "2022-05-15T14:44:29.184Z"
   },
   {
    "duration": 22,
    "start_time": "2022-05-15T14:44:29.189Z"
   },
   {
    "duration": 11,
    "start_time": "2022-05-15T14:44:29.213Z"
   },
   {
    "duration": 13,
    "start_time": "2022-05-15T14:44:29.226Z"
   },
   {
    "duration": 7,
    "start_time": "2022-05-15T14:44:29.242Z"
   },
   {
    "duration": 12,
    "start_time": "2022-05-15T14:44:29.250Z"
   },
   {
    "duration": 21,
    "start_time": "2022-05-15T14:44:29.263Z"
   },
   {
    "duration": 5,
    "start_time": "2022-05-15T14:44:29.286Z"
   },
   {
    "duration": 7,
    "start_time": "2022-05-15T14:44:29.293Z"
   },
   {
    "duration": 43,
    "start_time": "2022-05-15T14:44:29.302Z"
   },
   {
    "duration": 13,
    "start_time": "2022-05-15T14:44:29.347Z"
   },
   {
    "duration": 14,
    "start_time": "2022-05-15T14:44:29.362Z"
   },
   {
    "duration": 12,
    "start_time": "2022-05-15T14:44:29.380Z"
   },
   {
    "duration": 7,
    "start_time": "2022-05-15T14:44:29.393Z"
   },
   {
    "duration": 8,
    "start_time": "2022-05-15T14:44:29.402Z"
   },
   {
    "duration": 7,
    "start_time": "2022-05-15T14:44:29.412Z"
   },
   {
    "duration": 6,
    "start_time": "2022-05-15T14:44:29.420Z"
   },
   {
    "duration": 4,
    "start_time": "2022-05-15T14:44:29.428Z"
   },
   {
    "duration": 4,
    "start_time": "2022-05-15T14:44:29.434Z"
   },
   {
    "duration": 4,
    "start_time": "2022-05-15T14:44:29.443Z"
   },
   {
    "duration": 12,
    "start_time": "2022-05-15T14:44:29.449Z"
   },
   {
    "duration": 5,
    "start_time": "2022-05-15T14:44:29.463Z"
   },
   {
    "duration": 5,
    "start_time": "2022-05-15T14:44:29.469Z"
   },
   {
    "duration": 4,
    "start_time": "2022-05-15T14:44:29.476Z"
   },
   {
    "duration": 4,
    "start_time": "2022-05-15T14:44:29.482Z"
   },
   {
    "duration": 17,
    "start_time": "2022-05-15T14:44:29.488Z"
   },
   {
    "duration": 0,
    "start_time": "2022-05-15T14:44:29.506Z"
   },
   {
    "duration": 0,
    "start_time": "2022-05-15T14:44:29.507Z"
   },
   {
    "duration": 0,
    "start_time": "2022-05-15T14:44:29.509Z"
   },
   {
    "duration": 0,
    "start_time": "2022-05-15T14:44:29.510Z"
   },
   {
    "duration": 0,
    "start_time": "2022-05-15T14:44:29.511Z"
   },
   {
    "duration": 0,
    "start_time": "2022-05-15T14:44:29.512Z"
   },
   {
    "duration": 3,
    "start_time": "2022-05-15T14:45:01.149Z"
   },
   {
    "duration": 18,
    "start_time": "2022-05-15T14:45:01.155Z"
   },
   {
    "duration": 19,
    "start_time": "2022-05-15T14:45:01.175Z"
   },
   {
    "duration": 35,
    "start_time": "2022-05-15T14:45:01.196Z"
   },
   {
    "duration": 21,
    "start_time": "2022-05-15T14:45:01.234Z"
   },
   {
    "duration": 45,
    "start_time": "2022-05-15T14:45:01.257Z"
   },
   {
    "duration": 56,
    "start_time": "2022-05-15T14:45:01.304Z"
   },
   {
    "duration": 5,
    "start_time": "2022-05-15T14:45:01.362Z"
   },
   {
    "duration": 16,
    "start_time": "2022-05-15T14:45:01.369Z"
   },
   {
    "duration": 43,
    "start_time": "2022-05-15T14:45:01.387Z"
   },
   {
    "duration": 32,
    "start_time": "2022-05-15T14:45:01.432Z"
   },
   {
    "duration": 57,
    "start_time": "2022-05-15T14:45:01.466Z"
   },
   {
    "duration": 17,
    "start_time": "2022-05-15T14:45:01.526Z"
   },
   {
    "duration": 12,
    "start_time": "2022-05-15T14:45:01.545Z"
   },
   {
    "duration": 10,
    "start_time": "2022-05-15T14:45:01.559Z"
   },
   {
    "duration": 15,
    "start_time": "2022-05-15T14:45:01.572Z"
   },
   {
    "duration": 10,
    "start_time": "2022-05-15T14:45:01.589Z"
   },
   {
    "duration": 20,
    "start_time": "2022-05-15T14:45:01.600Z"
   },
   {
    "duration": 14,
    "start_time": "2022-05-15T14:45:01.622Z"
   },
   {
    "duration": 29,
    "start_time": "2022-05-15T14:45:01.638Z"
   },
   {
    "duration": 32,
    "start_time": "2022-05-15T14:45:01.668Z"
   },
   {
    "duration": 28,
    "start_time": "2022-05-15T14:45:01.702Z"
   },
   {
    "duration": 20,
    "start_time": "2022-05-15T14:45:01.731Z"
   },
   {
    "duration": 32,
    "start_time": "2022-05-15T14:45:01.752Z"
   },
   {
    "duration": 22,
    "start_time": "2022-05-15T14:45:01.786Z"
   },
   {
    "duration": 35,
    "start_time": "2022-05-15T14:45:01.809Z"
   },
   {
    "duration": 0,
    "start_time": "2022-05-15T14:45:01.846Z"
   },
   {
    "duration": 0,
    "start_time": "2022-05-15T14:45:01.847Z"
   },
   {
    "duration": 0,
    "start_time": "2022-05-15T14:45:01.848Z"
   },
   {
    "duration": 0,
    "start_time": "2022-05-15T14:45:01.849Z"
   },
   {
    "duration": 0,
    "start_time": "2022-05-15T14:45:01.850Z"
   },
   {
    "duration": 0,
    "start_time": "2022-05-15T14:45:01.851Z"
   },
   {
    "duration": 3,
    "start_time": "2022-05-15T14:45:57.117Z"
   },
   {
    "duration": 4,
    "start_time": "2022-05-15T14:47:54.211Z"
   },
   {
    "duration": 16,
    "start_time": "2022-05-15T14:47:54.218Z"
   },
   {
    "duration": 13,
    "start_time": "2022-05-15T14:47:54.235Z"
   },
   {
    "duration": 23,
    "start_time": "2022-05-15T14:47:54.249Z"
   },
   {
    "duration": 12,
    "start_time": "2022-05-15T14:47:54.274Z"
   },
   {
    "duration": 9,
    "start_time": "2022-05-15T14:47:54.288Z"
   },
   {
    "duration": 20,
    "start_time": "2022-05-15T14:47:54.299Z"
   },
   {
    "duration": 26,
    "start_time": "2022-05-15T14:47:54.321Z"
   },
   {
    "duration": 10,
    "start_time": "2022-05-15T14:47:54.349Z"
   },
   {
    "duration": 8,
    "start_time": "2022-05-15T14:47:54.361Z"
   },
   {
    "duration": 9,
    "start_time": "2022-05-15T14:47:54.370Z"
   },
   {
    "duration": 6,
    "start_time": "2022-05-15T14:47:54.381Z"
   },
   {
    "duration": 158,
    "start_time": "2022-05-15T14:47:54.388Z"
   },
   {
    "duration": 0,
    "start_time": "2022-05-15T14:47:54.549Z"
   },
   {
    "duration": 0,
    "start_time": "2022-05-15T14:47:54.551Z"
   },
   {
    "duration": 0,
    "start_time": "2022-05-15T14:47:54.553Z"
   },
   {
    "duration": 0,
    "start_time": "2022-05-15T14:47:54.555Z"
   },
   {
    "duration": 0,
    "start_time": "2022-05-15T14:47:54.556Z"
   },
   {
    "duration": 0,
    "start_time": "2022-05-15T14:47:54.558Z"
   },
   {
    "duration": 0,
    "start_time": "2022-05-15T14:47:54.559Z"
   },
   {
    "duration": 1,
    "start_time": "2022-05-15T14:47:54.560Z"
   },
   {
    "duration": 0,
    "start_time": "2022-05-15T14:47:54.562Z"
   },
   {
    "duration": 0,
    "start_time": "2022-05-15T14:47:54.564Z"
   },
   {
    "duration": 0,
    "start_time": "2022-05-15T14:47:54.567Z"
   },
   {
    "duration": 1,
    "start_time": "2022-05-15T14:47:54.568Z"
   },
   {
    "duration": 0,
    "start_time": "2022-05-15T14:47:54.570Z"
   },
   {
    "duration": 0,
    "start_time": "2022-05-15T14:47:54.571Z"
   },
   {
    "duration": 0,
    "start_time": "2022-05-15T14:47:54.572Z"
   },
   {
    "duration": 0,
    "start_time": "2022-05-15T14:47:54.574Z"
   },
   {
    "duration": 0,
    "start_time": "2022-05-15T14:47:54.575Z"
   },
   {
    "duration": 0,
    "start_time": "2022-05-15T14:47:54.576Z"
   },
   {
    "duration": 0,
    "start_time": "2022-05-15T14:47:54.577Z"
   },
   {
    "duration": 0,
    "start_time": "2022-05-15T14:47:54.577Z"
   },
   {
    "duration": 3,
    "start_time": "2022-05-15T14:48:14.678Z"
   },
   {
    "duration": 37,
    "start_time": "2022-05-15T14:48:14.683Z"
   },
   {
    "duration": 10,
    "start_time": "2022-05-15T14:48:14.722Z"
   },
   {
    "duration": 42,
    "start_time": "2022-05-15T14:48:14.734Z"
   },
   {
    "duration": 21,
    "start_time": "2022-05-15T14:48:14.778Z"
   },
   {
    "duration": 20,
    "start_time": "2022-05-15T14:48:14.800Z"
   },
   {
    "duration": 41,
    "start_time": "2022-05-15T14:48:14.822Z"
   },
   {
    "duration": 4,
    "start_time": "2022-05-15T14:48:14.865Z"
   },
   {
    "duration": 4,
    "start_time": "2022-05-15T14:48:14.871Z"
   },
   {
    "duration": 7,
    "start_time": "2022-05-15T14:48:14.877Z"
   },
   {
    "duration": 8,
    "start_time": "2022-05-15T14:48:14.885Z"
   },
   {
    "duration": 6,
    "start_time": "2022-05-15T14:48:14.894Z"
   },
   {
    "duration": 5,
    "start_time": "2022-05-15T14:48:14.901Z"
   },
   {
    "duration": 9,
    "start_time": "2022-05-15T14:48:14.908Z"
   },
   {
    "duration": 29,
    "start_time": "2022-05-15T14:48:14.919Z"
   },
   {
    "duration": 29,
    "start_time": "2022-05-15T14:48:14.950Z"
   },
   {
    "duration": 6,
    "start_time": "2022-05-15T14:48:14.981Z"
   },
   {
    "duration": 22,
    "start_time": "2022-05-15T14:48:14.989Z"
   },
   {
    "duration": 71,
    "start_time": "2022-05-15T14:48:15.013Z"
   },
   {
    "duration": 8,
    "start_time": "2022-05-15T14:48:15.086Z"
   },
   {
    "duration": 8,
    "start_time": "2022-05-15T14:48:15.096Z"
   },
   {
    "duration": 11,
    "start_time": "2022-05-15T14:48:15.105Z"
   },
   {
    "duration": 8,
    "start_time": "2022-05-15T14:48:15.117Z"
   },
   {
    "duration": 28,
    "start_time": "2022-05-15T14:48:15.129Z"
   },
   {
    "duration": 12,
    "start_time": "2022-05-15T14:48:15.159Z"
   },
   {
    "duration": 15,
    "start_time": "2022-05-15T14:48:15.173Z"
   },
   {
    "duration": 25,
    "start_time": "2022-05-15T14:48:15.190Z"
   },
   {
    "duration": 0,
    "start_time": "2022-05-15T14:48:15.216Z"
   },
   {
    "duration": 0,
    "start_time": "2022-05-15T14:48:15.217Z"
   },
   {
    "duration": 0,
    "start_time": "2022-05-15T14:48:15.218Z"
   },
   {
    "duration": 0,
    "start_time": "2022-05-15T14:48:15.219Z"
   },
   {
    "duration": 0,
    "start_time": "2022-05-15T14:48:15.220Z"
   },
   {
    "duration": 0,
    "start_time": "2022-05-15T14:48:15.221Z"
   },
   {
    "duration": 3,
    "start_time": "2022-05-15T14:49:53.574Z"
   },
   {
    "duration": 20,
    "start_time": "2022-05-15T14:49:53.580Z"
   },
   {
    "duration": 10,
    "start_time": "2022-05-15T14:49:53.602Z"
   },
   {
    "duration": 13,
    "start_time": "2022-05-15T14:49:53.614Z"
   },
   {
    "duration": 8,
    "start_time": "2022-05-15T14:49:53.628Z"
   },
   {
    "duration": 19,
    "start_time": "2022-05-15T14:49:53.646Z"
   },
   {
    "duration": 34,
    "start_time": "2022-05-15T14:49:53.666Z"
   },
   {
    "duration": 5,
    "start_time": "2022-05-15T14:49:53.701Z"
   },
   {
    "duration": 24,
    "start_time": "2022-05-15T14:49:53.707Z"
   },
   {
    "duration": 25,
    "start_time": "2022-05-15T14:49:53.734Z"
   },
   {
    "duration": 22,
    "start_time": "2022-05-15T14:49:53.761Z"
   },
   {
    "duration": 9,
    "start_time": "2022-05-15T14:49:53.785Z"
   },
   {
    "duration": 5,
    "start_time": "2022-05-15T14:49:53.796Z"
   },
   {
    "duration": 8,
    "start_time": "2022-05-15T14:49:53.803Z"
   },
   {
    "duration": 6,
    "start_time": "2022-05-15T14:49:53.813Z"
   },
   {
    "duration": 12,
    "start_time": "2022-05-15T14:49:53.820Z"
   },
   {
    "duration": 8,
    "start_time": "2022-05-15T14:49:53.833Z"
   },
   {
    "duration": 24,
    "start_time": "2022-05-15T14:49:53.847Z"
   },
   {
    "duration": 9,
    "start_time": "2022-05-15T14:49:53.872Z"
   },
   {
    "duration": 7,
    "start_time": "2022-05-15T14:49:53.882Z"
   },
   {
    "duration": 8,
    "start_time": "2022-05-15T14:49:53.890Z"
   },
   {
    "duration": 8,
    "start_time": "2022-05-15T14:49:53.900Z"
   },
   {
    "duration": 13,
    "start_time": "2022-05-15T14:49:53.910Z"
   },
   {
    "duration": 5,
    "start_time": "2022-05-15T14:49:53.925Z"
   },
   {
    "duration": 5,
    "start_time": "2022-05-15T14:49:53.932Z"
   },
   {
    "duration": 19,
    "start_time": "2022-05-15T14:49:53.938Z"
   },
   {
    "duration": 5,
    "start_time": "2022-05-15T14:49:53.958Z"
   },
   {
    "duration": 89,
    "start_time": "2022-05-15T14:49:53.966Z"
   },
   {
    "duration": 110,
    "start_time": "2022-05-15T14:49:54.057Z"
   },
   {
    "duration": 5,
    "start_time": "2022-05-15T14:49:54.169Z"
   },
   {
    "duration": 7,
    "start_time": "2022-05-15T14:49:54.255Z"
   },
   {
    "duration": 19,
    "start_time": "2022-05-15T14:49:54.264Z"
   },
   {
    "duration": 0,
    "start_time": "2022-05-15T14:49:54.285Z"
   },
   {
    "duration": 0,
    "start_time": "2022-05-15T14:49:54.285Z"
   },
   {
    "duration": 3,
    "start_time": "2022-05-15T14:51:45.528Z"
   },
   {
    "duration": 37,
    "start_time": "2022-05-15T14:51:45.532Z"
   },
   {
    "duration": 12,
    "start_time": "2022-05-15T14:51:45.571Z"
   },
   {
    "duration": 17,
    "start_time": "2022-05-15T14:51:45.586Z"
   },
   {
    "duration": 15,
    "start_time": "2022-05-15T14:51:45.605Z"
   },
   {
    "duration": 12,
    "start_time": "2022-05-15T14:51:45.621Z"
   },
   {
    "duration": 25,
    "start_time": "2022-05-15T14:51:45.634Z"
   },
   {
    "duration": 4,
    "start_time": "2022-05-15T14:51:45.661Z"
   },
   {
    "duration": 7,
    "start_time": "2022-05-15T14:51:45.667Z"
   },
   {
    "duration": 9,
    "start_time": "2022-05-15T14:51:45.675Z"
   },
   {
    "duration": 14,
    "start_time": "2022-05-15T14:51:45.686Z"
   },
   {
    "duration": 5,
    "start_time": "2022-05-15T14:51:45.702Z"
   },
   {
    "duration": 9,
    "start_time": "2022-05-15T14:51:45.708Z"
   },
   {
    "duration": 7,
    "start_time": "2022-05-15T14:51:45.719Z"
   },
   {
    "duration": 21,
    "start_time": "2022-05-15T14:51:45.727Z"
   },
   {
    "duration": 3,
    "start_time": "2022-05-15T14:51:45.750Z"
   },
   {
    "duration": 7,
    "start_time": "2022-05-15T14:51:45.755Z"
   },
   {
    "duration": 5,
    "start_time": "2022-05-15T14:51:45.764Z"
   },
   {
    "duration": 11,
    "start_time": "2022-05-15T14:51:45.770Z"
   },
   {
    "duration": 7,
    "start_time": "2022-05-15T14:51:45.783Z"
   },
   {
    "duration": 9,
    "start_time": "2022-05-15T14:51:45.792Z"
   },
   {
    "duration": 10,
    "start_time": "2022-05-15T14:51:45.803Z"
   },
   {
    "duration": 11,
    "start_time": "2022-05-15T14:51:45.814Z"
   },
   {
    "duration": 35,
    "start_time": "2022-05-15T14:51:45.827Z"
   },
   {
    "duration": 11,
    "start_time": "2022-05-15T14:51:45.863Z"
   },
   {
    "duration": 7,
    "start_time": "2022-05-15T14:51:45.876Z"
   },
   {
    "duration": 18,
    "start_time": "2022-05-15T14:51:45.885Z"
   },
   {
    "duration": 0,
    "start_time": "2022-05-15T14:51:45.904Z"
   },
   {
    "duration": 0,
    "start_time": "2022-05-15T14:51:45.906Z"
   },
   {
    "duration": 0,
    "start_time": "2022-05-15T14:51:45.907Z"
   },
   {
    "duration": 0,
    "start_time": "2022-05-15T14:51:45.908Z"
   },
   {
    "duration": 0,
    "start_time": "2022-05-15T14:51:45.909Z"
   },
   {
    "duration": 0,
    "start_time": "2022-05-15T14:51:45.910Z"
   },
   {
    "duration": 3,
    "start_time": "2022-05-15T14:54:48.467Z"
   },
   {
    "duration": 18,
    "start_time": "2022-05-15T14:54:48.472Z"
   },
   {
    "duration": 12,
    "start_time": "2022-05-15T14:54:48.492Z"
   },
   {
    "duration": 13,
    "start_time": "2022-05-15T14:54:48.505Z"
   },
   {
    "duration": 6,
    "start_time": "2022-05-15T14:54:48.520Z"
   },
   {
    "duration": 22,
    "start_time": "2022-05-15T14:54:48.528Z"
   },
   {
    "duration": 26,
    "start_time": "2022-05-15T14:54:48.552Z"
   },
   {
    "duration": 4,
    "start_time": "2022-05-15T14:54:48.580Z"
   },
   {
    "duration": 5,
    "start_time": "2022-05-15T14:54:48.585Z"
   },
   {
    "duration": 7,
    "start_time": "2022-05-15T14:54:48.592Z"
   },
   {
    "duration": 8,
    "start_time": "2022-05-15T14:54:48.600Z"
   },
   {
    "duration": 5,
    "start_time": "2022-05-15T14:54:48.609Z"
   },
   {
    "duration": 42,
    "start_time": "2022-05-15T14:54:48.617Z"
   },
   {
    "duration": 9,
    "start_time": "2022-05-15T14:54:48.661Z"
   },
   {
    "duration": 14,
    "start_time": "2022-05-15T14:54:48.672Z"
   },
   {
    "duration": 5,
    "start_time": "2022-05-15T14:54:48.688Z"
   },
   {
    "duration": 5,
    "start_time": "2022-05-15T14:54:48.695Z"
   },
   {
    "duration": 5,
    "start_time": "2022-05-15T14:54:48.701Z"
   },
   {
    "duration": 5,
    "start_time": "2022-05-15T14:54:48.708Z"
   },
   {
    "duration": 5,
    "start_time": "2022-05-15T14:54:48.714Z"
   },
   {
    "duration": 17,
    "start_time": "2022-05-15T14:54:48.721Z"
   },
   {
    "duration": 42,
    "start_time": "2022-05-15T14:54:48.740Z"
   },
   {
    "duration": 20,
    "start_time": "2022-05-15T14:54:48.784Z"
   },
   {
    "duration": 32,
    "start_time": "2022-05-15T14:54:48.806Z"
   },
   {
    "duration": 38,
    "start_time": "2022-05-15T14:54:48.840Z"
   },
   {
    "duration": 26,
    "start_time": "2022-05-15T14:54:48.880Z"
   },
   {
    "duration": 44,
    "start_time": "2022-05-15T14:54:48.908Z"
   },
   {
    "duration": 0,
    "start_time": "2022-05-15T14:54:48.954Z"
   },
   {
    "duration": 0,
    "start_time": "2022-05-15T14:54:48.956Z"
   },
   {
    "duration": 0,
    "start_time": "2022-05-15T14:54:48.957Z"
   },
   {
    "duration": 0,
    "start_time": "2022-05-15T14:54:48.959Z"
   },
   {
    "duration": 0,
    "start_time": "2022-05-15T14:54:48.960Z"
   },
   {
    "duration": 0,
    "start_time": "2022-05-15T14:54:48.961Z"
   },
   {
    "duration": 4,
    "start_time": "2022-05-15T15:04:49.038Z"
   },
   {
    "duration": 3,
    "start_time": "2022-05-15T15:04:56.556Z"
   },
   {
    "duration": 4,
    "start_time": "2022-05-15T15:05:00.507Z"
   },
   {
    "duration": 3,
    "start_time": "2022-05-15T15:05:03.359Z"
   },
   {
    "duration": 4,
    "start_time": "2022-05-15T15:05:05.788Z"
   },
   {
    "duration": 6,
    "start_time": "2022-05-15T15:05:06.230Z"
   },
   {
    "duration": 3,
    "start_time": "2022-05-15T15:05:06.716Z"
   },
   {
    "duration": 3,
    "start_time": "2022-05-15T15:05:07.200Z"
   },
   {
    "duration": 3,
    "start_time": "2022-05-15T15:05:07.759Z"
   },
   {
    "duration": 17,
    "start_time": "2022-05-15T15:05:11.384Z"
   },
   {
    "duration": 3,
    "start_time": "2022-05-15T15:05:55.833Z"
   },
   {
    "duration": 54,
    "start_time": "2022-05-15T15:05:55.838Z"
   },
   {
    "duration": 30,
    "start_time": "2022-05-15T15:05:55.894Z"
   },
   {
    "duration": 47,
    "start_time": "2022-05-15T15:05:55.927Z"
   },
   {
    "duration": 25,
    "start_time": "2022-05-15T15:05:55.976Z"
   },
   {
    "duration": 34,
    "start_time": "2022-05-15T15:05:56.003Z"
   },
   {
    "duration": 45,
    "start_time": "2022-05-15T15:05:56.038Z"
   },
   {
    "duration": 14,
    "start_time": "2022-05-15T15:05:56.084Z"
   },
   {
    "duration": 20,
    "start_time": "2022-05-15T15:05:56.101Z"
   },
   {
    "duration": 18,
    "start_time": "2022-05-15T15:05:56.123Z"
   },
   {
    "duration": 19,
    "start_time": "2022-05-15T15:05:56.146Z"
   },
   {
    "duration": 145,
    "start_time": "2022-05-15T15:05:56.167Z"
   },
   {
    "duration": 0,
    "start_time": "2022-05-15T15:05:56.314Z"
   },
   {
    "duration": 0,
    "start_time": "2022-05-15T15:05:56.315Z"
   },
   {
    "duration": 0,
    "start_time": "2022-05-15T15:05:56.316Z"
   },
   {
    "duration": 0,
    "start_time": "2022-05-15T15:05:56.317Z"
   },
   {
    "duration": 0,
    "start_time": "2022-05-15T15:05:56.319Z"
   },
   {
    "duration": 0,
    "start_time": "2022-05-15T15:05:56.320Z"
   },
   {
    "duration": 0,
    "start_time": "2022-05-15T15:05:56.321Z"
   },
   {
    "duration": 1,
    "start_time": "2022-05-15T15:05:56.322Z"
   },
   {
    "duration": 0,
    "start_time": "2022-05-15T15:05:56.323Z"
   },
   {
    "duration": 1,
    "start_time": "2022-05-15T15:05:56.324Z"
   },
   {
    "duration": 0,
    "start_time": "2022-05-15T15:05:56.326Z"
   },
   {
    "duration": 0,
    "start_time": "2022-05-15T15:05:56.327Z"
   },
   {
    "duration": 0,
    "start_time": "2022-05-15T15:05:56.328Z"
   },
   {
    "duration": 0,
    "start_time": "2022-05-15T15:05:56.329Z"
   },
   {
    "duration": 0,
    "start_time": "2022-05-15T15:05:56.330Z"
   },
   {
    "duration": 0,
    "start_time": "2022-05-15T15:05:56.331Z"
   },
   {
    "duration": 0,
    "start_time": "2022-05-15T15:05:56.332Z"
   },
   {
    "duration": 0,
    "start_time": "2022-05-15T15:05:56.333Z"
   },
   {
    "duration": 0,
    "start_time": "2022-05-15T15:05:56.335Z"
   },
   {
    "duration": 0,
    "start_time": "2022-05-15T15:05:56.336Z"
   },
   {
    "duration": 3,
    "start_time": "2022-05-15T15:06:30.982Z"
   },
   {
    "duration": 31,
    "start_time": "2022-05-15T15:06:30.987Z"
   },
   {
    "duration": 9,
    "start_time": "2022-05-15T15:06:31.019Z"
   },
   {
    "duration": 38,
    "start_time": "2022-05-15T15:06:31.030Z"
   },
   {
    "duration": 29,
    "start_time": "2022-05-15T15:06:31.070Z"
   },
   {
    "duration": 37,
    "start_time": "2022-05-15T15:06:31.100Z"
   },
   {
    "duration": 49,
    "start_time": "2022-05-15T15:06:31.139Z"
   },
   {
    "duration": 14,
    "start_time": "2022-05-15T15:06:31.190Z"
   },
   {
    "duration": 22,
    "start_time": "2022-05-15T15:06:31.206Z"
   },
   {
    "duration": 38,
    "start_time": "2022-05-15T15:06:31.230Z"
   },
   {
    "duration": 29,
    "start_time": "2022-05-15T15:06:31.270Z"
   },
   {
    "duration": 208,
    "start_time": "2022-05-15T15:06:31.301Z"
   },
   {
    "duration": 0,
    "start_time": "2022-05-15T15:06:31.511Z"
   },
   {
    "duration": 0,
    "start_time": "2022-05-15T15:06:31.513Z"
   },
   {
    "duration": 0,
    "start_time": "2022-05-15T15:06:31.514Z"
   },
   {
    "duration": 0,
    "start_time": "2022-05-15T15:06:31.515Z"
   },
   {
    "duration": 0,
    "start_time": "2022-05-15T15:06:31.516Z"
   },
   {
    "duration": 0,
    "start_time": "2022-05-15T15:06:31.517Z"
   },
   {
    "duration": 0,
    "start_time": "2022-05-15T15:06:31.518Z"
   },
   {
    "duration": 0,
    "start_time": "2022-05-15T15:06:31.519Z"
   },
   {
    "duration": 0,
    "start_time": "2022-05-15T15:06:31.520Z"
   },
   {
    "duration": 0,
    "start_time": "2022-05-15T15:06:31.520Z"
   },
   {
    "duration": 0,
    "start_time": "2022-05-15T15:06:31.521Z"
   },
   {
    "duration": 0,
    "start_time": "2022-05-15T15:06:31.522Z"
   },
   {
    "duration": 0,
    "start_time": "2022-05-15T15:06:31.523Z"
   },
   {
    "duration": 0,
    "start_time": "2022-05-15T15:06:31.524Z"
   },
   {
    "duration": 0,
    "start_time": "2022-05-15T15:06:31.525Z"
   },
   {
    "duration": 0,
    "start_time": "2022-05-15T15:06:31.526Z"
   },
   {
    "duration": 0,
    "start_time": "2022-05-15T15:06:31.527Z"
   },
   {
    "duration": 0,
    "start_time": "2022-05-15T15:06:31.528Z"
   },
   {
    "duration": 0,
    "start_time": "2022-05-15T15:06:31.529Z"
   },
   {
    "duration": 0,
    "start_time": "2022-05-15T15:06:31.530Z"
   },
   {
    "duration": 3,
    "start_time": "2022-05-15T15:28:27.458Z"
   },
   {
    "duration": 33,
    "start_time": "2022-05-15T15:28:27.463Z"
   },
   {
    "duration": 15,
    "start_time": "2022-05-15T15:28:27.498Z"
   },
   {
    "duration": 49,
    "start_time": "2022-05-15T15:28:27.515Z"
   },
   {
    "duration": 18,
    "start_time": "2022-05-15T15:28:27.566Z"
   },
   {
    "duration": 30,
    "start_time": "2022-05-15T15:28:27.585Z"
   },
   {
    "duration": 52,
    "start_time": "2022-05-15T15:28:27.616Z"
   },
   {
    "duration": 5,
    "start_time": "2022-05-15T15:28:27.669Z"
   },
   {
    "duration": 32,
    "start_time": "2022-05-15T15:28:27.675Z"
   },
   {
    "duration": 26,
    "start_time": "2022-05-15T15:28:27.709Z"
   },
   {
    "duration": 38,
    "start_time": "2022-05-15T15:28:27.737Z"
   },
   {
    "duration": 30,
    "start_time": "2022-05-15T15:28:27.777Z"
   },
   {
    "duration": 26,
    "start_time": "2022-05-15T15:28:27.808Z"
   },
   {
    "duration": 23,
    "start_time": "2022-05-15T15:28:27.836Z"
   },
   {
    "duration": 18,
    "start_time": "2022-05-15T15:28:27.860Z"
   },
   {
    "duration": 33,
    "start_time": "2022-05-15T15:28:27.879Z"
   },
   {
    "duration": 21,
    "start_time": "2022-05-15T15:28:27.913Z"
   },
   {
    "duration": 35,
    "start_time": "2022-05-15T15:28:27.936Z"
   },
   {
    "duration": 20,
    "start_time": "2022-05-15T15:28:27.973Z"
   },
   {
    "duration": 34,
    "start_time": "2022-05-15T15:28:27.995Z"
   },
   {
    "duration": 61,
    "start_time": "2022-05-15T15:28:28.030Z"
   },
   {
    "duration": 22,
    "start_time": "2022-05-15T15:28:28.093Z"
   },
   {
    "duration": 45,
    "start_time": "2022-05-15T15:28:28.116Z"
   },
   {
    "duration": 27,
    "start_time": "2022-05-15T15:28:28.163Z"
   },
   {
    "duration": 34,
    "start_time": "2022-05-15T15:28:28.192Z"
   },
   {
    "duration": 0,
    "start_time": "2022-05-15T15:28:28.228Z"
   },
   {
    "duration": 0,
    "start_time": "2022-05-15T15:28:28.230Z"
   },
   {
    "duration": 0,
    "start_time": "2022-05-15T15:28:28.231Z"
   },
   {
    "duration": 0,
    "start_time": "2022-05-15T15:28:28.232Z"
   },
   {
    "duration": 0,
    "start_time": "2022-05-15T15:28:28.233Z"
   },
   {
    "duration": 0,
    "start_time": "2022-05-15T15:28:28.234Z"
   },
   {
    "duration": 0,
    "start_time": "2022-05-15T15:28:28.236Z"
   },
   {
    "duration": 0,
    "start_time": "2022-05-15T15:28:28.237Z"
   },
   {
    "duration": 3,
    "start_time": "2022-05-15T15:28:50.782Z"
   },
   {
    "duration": 19,
    "start_time": "2022-05-15T15:28:50.787Z"
   },
   {
    "duration": 16,
    "start_time": "2022-05-15T15:28:50.807Z"
   },
   {
    "duration": 40,
    "start_time": "2022-05-15T15:28:50.824Z"
   },
   {
    "duration": 14,
    "start_time": "2022-05-15T15:28:50.867Z"
   },
   {
    "duration": 38,
    "start_time": "2022-05-15T15:28:50.882Z"
   },
   {
    "duration": 49,
    "start_time": "2022-05-15T15:28:50.922Z"
   },
   {
    "duration": 27,
    "start_time": "2022-05-15T15:28:50.973Z"
   },
   {
    "duration": 21,
    "start_time": "2022-05-15T15:28:51.002Z"
   },
   {
    "duration": 51,
    "start_time": "2022-05-15T15:28:51.024Z"
   },
   {
    "duration": 33,
    "start_time": "2022-05-15T15:28:51.077Z"
   },
   {
    "duration": 8,
    "start_time": "2022-05-15T15:28:51.111Z"
   },
   {
    "duration": 39,
    "start_time": "2022-05-15T15:28:51.122Z"
   },
   {
    "duration": 22,
    "start_time": "2022-05-15T15:28:51.163Z"
   },
   {
    "duration": 24,
    "start_time": "2022-05-15T15:28:51.187Z"
   },
   {
    "duration": 23,
    "start_time": "2022-05-15T15:28:51.212Z"
   },
   {
    "duration": 29,
    "start_time": "2022-05-15T15:28:51.237Z"
   },
   {
    "duration": 23,
    "start_time": "2022-05-15T15:28:51.268Z"
   },
   {
    "duration": 18,
    "start_time": "2022-05-15T15:28:51.293Z"
   },
   {
    "duration": 26,
    "start_time": "2022-05-15T15:28:51.313Z"
   },
   {
    "duration": 37,
    "start_time": "2022-05-15T15:28:51.341Z"
   },
   {
    "duration": 19,
    "start_time": "2022-05-15T15:28:51.380Z"
   },
   {
    "duration": 17,
    "start_time": "2022-05-15T15:28:51.400Z"
   },
   {
    "duration": 21,
    "start_time": "2022-05-15T15:28:51.419Z"
   },
   {
    "duration": 34,
    "start_time": "2022-05-15T15:28:51.441Z"
   },
   {
    "duration": 0,
    "start_time": "2022-05-15T15:28:51.476Z"
   },
   {
    "duration": 0,
    "start_time": "2022-05-15T15:28:51.477Z"
   },
   {
    "duration": 0,
    "start_time": "2022-05-15T15:28:51.478Z"
   },
   {
    "duration": 0,
    "start_time": "2022-05-15T15:28:51.479Z"
   },
   {
    "duration": 0,
    "start_time": "2022-05-15T15:28:51.480Z"
   },
   {
    "duration": 0,
    "start_time": "2022-05-15T15:28:51.481Z"
   },
   {
    "duration": 0,
    "start_time": "2022-05-15T15:28:51.481Z"
   },
   {
    "duration": 0,
    "start_time": "2022-05-15T15:28:51.482Z"
   },
   {
    "duration": 4,
    "start_time": "2022-05-15T15:31:01.620Z"
   },
   {
    "duration": 35,
    "start_time": "2022-05-15T15:31:01.625Z"
   },
   {
    "duration": 15,
    "start_time": "2022-05-15T15:31:01.662Z"
   },
   {
    "duration": 19,
    "start_time": "2022-05-15T15:31:01.679Z"
   },
   {
    "duration": 18,
    "start_time": "2022-05-15T15:31:01.701Z"
   },
   {
    "duration": 26,
    "start_time": "2022-05-15T15:31:01.720Z"
   },
   {
    "duration": 37,
    "start_time": "2022-05-15T15:31:01.748Z"
   },
   {
    "duration": 19,
    "start_time": "2022-05-15T15:31:01.786Z"
   },
   {
    "duration": 29,
    "start_time": "2022-05-15T15:31:01.807Z"
   },
   {
    "duration": 53,
    "start_time": "2022-05-15T15:31:01.838Z"
   },
   {
    "duration": 14,
    "start_time": "2022-05-15T15:31:01.893Z"
   },
   {
    "duration": 21,
    "start_time": "2022-05-15T15:31:01.908Z"
   },
   {
    "duration": 56,
    "start_time": "2022-05-15T15:31:01.931Z"
   },
   {
    "duration": 25,
    "start_time": "2022-05-15T15:31:01.989Z"
   },
   {
    "duration": 50,
    "start_time": "2022-05-15T15:31:02.016Z"
   },
   {
    "duration": 18,
    "start_time": "2022-05-15T15:31:02.067Z"
   },
   {
    "duration": 16,
    "start_time": "2022-05-15T15:31:02.086Z"
   },
   {
    "duration": 23,
    "start_time": "2022-05-15T15:31:02.103Z"
   },
   {
    "duration": 8,
    "start_time": "2022-05-15T15:31:02.128Z"
   },
   {
    "duration": 16,
    "start_time": "2022-05-15T15:31:02.138Z"
   },
   {
    "duration": 19,
    "start_time": "2022-05-15T15:31:02.156Z"
   },
   {
    "duration": 6,
    "start_time": "2022-05-15T15:31:02.176Z"
   },
   {
    "duration": 20,
    "start_time": "2022-05-15T15:31:02.184Z"
   },
   {
    "duration": 9,
    "start_time": "2022-05-15T15:31:02.207Z"
   },
   {
    "duration": 51,
    "start_time": "2022-05-15T15:31:02.218Z"
   },
   {
    "duration": 0,
    "start_time": "2022-05-15T15:31:02.271Z"
   },
   {
    "duration": 0,
    "start_time": "2022-05-15T15:31:02.272Z"
   },
   {
    "duration": 0,
    "start_time": "2022-05-15T15:31:02.273Z"
   },
   {
    "duration": 0,
    "start_time": "2022-05-15T15:31:02.274Z"
   },
   {
    "duration": 0,
    "start_time": "2022-05-15T15:31:02.275Z"
   },
   {
    "duration": 0,
    "start_time": "2022-05-15T15:31:02.276Z"
   },
   {
    "duration": 0,
    "start_time": "2022-05-15T15:31:02.277Z"
   },
   {
    "duration": 0,
    "start_time": "2022-05-15T15:31:02.278Z"
   },
   {
    "duration": 3,
    "start_time": "2022-05-15T15:32:56.114Z"
   },
   {
    "duration": 46,
    "start_time": "2022-05-15T15:32:56.118Z"
   },
   {
    "duration": 9,
    "start_time": "2022-05-15T15:32:56.167Z"
   },
   {
    "duration": 15,
    "start_time": "2022-05-15T15:32:56.177Z"
   },
   {
    "duration": 7,
    "start_time": "2022-05-15T15:32:56.195Z"
   },
   {
    "duration": 13,
    "start_time": "2022-05-15T15:32:56.203Z"
   },
   {
    "duration": 50,
    "start_time": "2022-05-15T15:32:56.218Z"
   },
   {
    "duration": 4,
    "start_time": "2022-05-15T15:32:56.270Z"
   },
   {
    "duration": 5,
    "start_time": "2022-05-15T15:32:56.276Z"
   },
   {
    "duration": 8,
    "start_time": "2022-05-15T15:32:56.283Z"
   },
   {
    "duration": 11,
    "start_time": "2022-05-15T15:32:56.292Z"
   },
   {
    "duration": 14,
    "start_time": "2022-05-15T15:32:56.304Z"
   },
   {
    "duration": 7,
    "start_time": "2022-05-15T15:32:56.319Z"
   },
   {
    "duration": 18,
    "start_time": "2022-05-15T15:32:56.329Z"
   },
   {
    "duration": 13,
    "start_time": "2022-05-15T15:32:56.348Z"
   },
   {
    "duration": 21,
    "start_time": "2022-05-15T15:32:56.363Z"
   },
   {
    "duration": 7,
    "start_time": "2022-05-15T15:32:56.386Z"
   },
   {
    "duration": 6,
    "start_time": "2022-05-15T15:32:56.395Z"
   },
   {
    "duration": 6,
    "start_time": "2022-05-15T15:32:56.402Z"
   },
   {
    "duration": 9,
    "start_time": "2022-05-15T15:32:56.410Z"
   },
   {
    "duration": 15,
    "start_time": "2022-05-15T15:32:56.421Z"
   },
   {
    "duration": 10,
    "start_time": "2022-05-15T15:32:56.437Z"
   },
   {
    "duration": 23,
    "start_time": "2022-05-15T15:32:56.449Z"
   },
   {
    "duration": 6,
    "start_time": "2022-05-15T15:32:56.474Z"
   },
   {
    "duration": 8,
    "start_time": "2022-05-15T15:32:56.483Z"
   },
   {
    "duration": 8,
    "start_time": "2022-05-15T15:32:56.493Z"
   },
   {
    "duration": 3,
    "start_time": "2022-05-15T15:32:56.503Z"
   },
   {
    "duration": 6,
    "start_time": "2022-05-15T15:32:56.507Z"
   },
   {
    "duration": 6,
    "start_time": "2022-05-15T15:32:56.514Z"
   },
   {
    "duration": 15,
    "start_time": "2022-05-15T15:32:56.521Z"
   },
   {
    "duration": 14,
    "start_time": "2022-05-15T15:32:56.537Z"
   },
   {
    "duration": 26,
    "start_time": "2022-05-15T15:32:56.553Z"
   },
   {
    "duration": 7,
    "start_time": "2022-05-15T15:32:56.581Z"
   },
   {
    "duration": 4,
    "start_time": "2022-05-15T15:36:18.663Z"
   },
   {
    "duration": 18,
    "start_time": "2022-05-15T15:36:18.669Z"
   },
   {
    "duration": 12,
    "start_time": "2022-05-15T15:36:18.690Z"
   },
   {
    "duration": 15,
    "start_time": "2022-05-15T15:36:18.704Z"
   },
   {
    "duration": 7,
    "start_time": "2022-05-15T15:36:18.721Z"
   },
   {
    "duration": 28,
    "start_time": "2022-05-15T15:36:18.730Z"
   },
   {
    "duration": 20,
    "start_time": "2022-05-15T15:36:18.760Z"
   },
   {
    "duration": 4,
    "start_time": "2022-05-15T15:36:18.782Z"
   },
   {
    "duration": 5,
    "start_time": "2022-05-15T15:36:18.787Z"
   },
   {
    "duration": 7,
    "start_time": "2022-05-15T15:36:18.793Z"
   },
   {
    "duration": 12,
    "start_time": "2022-05-15T15:36:18.802Z"
   },
   {
    "duration": 5,
    "start_time": "2022-05-15T15:36:18.850Z"
   },
   {
    "duration": 7,
    "start_time": "2022-05-15T15:36:18.857Z"
   },
   {
    "duration": 9,
    "start_time": "2022-05-15T15:36:18.867Z"
   },
   {
    "duration": 6,
    "start_time": "2022-05-15T15:36:18.878Z"
   },
   {
    "duration": 5,
    "start_time": "2022-05-15T15:36:18.886Z"
   },
   {
    "duration": 4,
    "start_time": "2022-05-15T15:36:18.893Z"
   },
   {
    "duration": 5,
    "start_time": "2022-05-15T15:36:18.899Z"
   },
   {
    "duration": 5,
    "start_time": "2022-05-15T15:36:18.906Z"
   },
   {
    "duration": 7,
    "start_time": "2022-05-15T15:36:18.912Z"
   },
   {
    "duration": 26,
    "start_time": "2022-05-15T15:36:18.921Z"
   },
   {
    "duration": 4,
    "start_time": "2022-05-15T15:36:18.949Z"
   },
   {
    "duration": 7,
    "start_time": "2022-05-15T15:36:18.955Z"
   },
   {
    "duration": 9,
    "start_time": "2022-05-15T15:36:18.964Z"
   },
   {
    "duration": 17,
    "start_time": "2022-05-15T15:36:18.975Z"
   },
   {
    "duration": 0,
    "start_time": "2022-05-15T15:36:18.993Z"
   },
   {
    "duration": 0,
    "start_time": "2022-05-15T15:36:18.995Z"
   },
   {
    "duration": 0,
    "start_time": "2022-05-15T15:36:18.997Z"
   },
   {
    "duration": 0,
    "start_time": "2022-05-15T15:36:18.998Z"
   },
   {
    "duration": 0,
    "start_time": "2022-05-15T15:36:18.999Z"
   },
   {
    "duration": 0,
    "start_time": "2022-05-15T15:36:19.000Z"
   },
   {
    "duration": 0,
    "start_time": "2022-05-15T15:36:19.002Z"
   },
   {
    "duration": 0,
    "start_time": "2022-05-15T15:36:19.004Z"
   },
   {
    "duration": 12,
    "start_time": "2022-05-15T15:39:54.444Z"
   },
   {
    "duration": 36,
    "start_time": "2022-05-15T15:39:54.463Z"
   },
   {
    "duration": 11,
    "start_time": "2022-05-15T15:39:54.502Z"
   },
   {
    "duration": 20,
    "start_time": "2022-05-15T15:39:54.514Z"
   },
   {
    "duration": 17,
    "start_time": "2022-05-15T15:39:54.535Z"
   },
   {
    "duration": 25,
    "start_time": "2022-05-15T15:39:54.554Z"
   },
   {
    "duration": 21,
    "start_time": "2022-05-15T15:39:54.580Z"
   },
   {
    "duration": 4,
    "start_time": "2022-05-15T15:39:54.602Z"
   },
   {
    "duration": 6,
    "start_time": "2022-05-15T15:39:54.607Z"
   },
   {
    "duration": 38,
    "start_time": "2022-05-15T15:39:54.615Z"
   },
   {
    "duration": 17,
    "start_time": "2022-05-15T15:39:54.654Z"
   },
   {
    "duration": 10,
    "start_time": "2022-05-15T15:39:54.672Z"
   },
   {
    "duration": 17,
    "start_time": "2022-05-15T15:39:54.683Z"
   },
   {
    "duration": 6,
    "start_time": "2022-05-15T15:39:54.702Z"
   },
   {
    "duration": 48,
    "start_time": "2022-05-15T15:39:54.710Z"
   },
   {
    "duration": 15,
    "start_time": "2022-05-15T15:39:54.761Z"
   },
   {
    "duration": 11,
    "start_time": "2022-05-15T15:39:54.778Z"
   },
   {
    "duration": 7,
    "start_time": "2022-05-15T15:39:54.790Z"
   },
   {
    "duration": 6,
    "start_time": "2022-05-15T15:39:54.799Z"
   },
   {
    "duration": 11,
    "start_time": "2022-05-15T15:39:54.807Z"
   },
   {
    "duration": 53,
    "start_time": "2022-05-15T15:39:54.819Z"
   },
   {
    "duration": 16,
    "start_time": "2022-05-15T15:39:54.873Z"
   },
   {
    "duration": 9,
    "start_time": "2022-05-15T15:39:54.891Z"
   },
   {
    "duration": 8,
    "start_time": "2022-05-15T15:39:54.902Z"
   },
   {
    "duration": 18,
    "start_time": "2022-05-15T15:39:54.912Z"
   },
   {
    "duration": 0,
    "start_time": "2022-05-15T15:39:54.931Z"
   },
   {
    "duration": 0,
    "start_time": "2022-05-15T15:39:54.932Z"
   },
   {
    "duration": 0,
    "start_time": "2022-05-15T15:39:54.933Z"
   },
   {
    "duration": 0,
    "start_time": "2022-05-15T15:39:54.934Z"
   },
   {
    "duration": 0,
    "start_time": "2022-05-15T15:39:54.935Z"
   },
   {
    "duration": 0,
    "start_time": "2022-05-15T15:39:54.936Z"
   },
   {
    "duration": 0,
    "start_time": "2022-05-15T15:39:54.937Z"
   },
   {
    "duration": 0,
    "start_time": "2022-05-15T15:39:54.938Z"
   },
   {
    "duration": 3,
    "start_time": "2022-05-15T15:40:40.585Z"
   },
   {
    "duration": 16,
    "start_time": "2022-05-15T15:40:40.589Z"
   },
   {
    "duration": 8,
    "start_time": "2022-05-15T15:40:40.607Z"
   },
   {
    "duration": 21,
    "start_time": "2022-05-15T15:40:40.616Z"
   },
   {
    "duration": 21,
    "start_time": "2022-05-15T15:40:40.639Z"
   },
   {
    "duration": 10,
    "start_time": "2022-05-15T15:40:40.661Z"
   },
   {
    "duration": 19,
    "start_time": "2022-05-15T15:40:40.672Z"
   },
   {
    "duration": 4,
    "start_time": "2022-05-15T15:40:40.692Z"
   },
   {
    "duration": 5,
    "start_time": "2022-05-15T15:40:40.698Z"
   },
   {
    "duration": 8,
    "start_time": "2022-05-15T15:40:40.705Z"
   },
   {
    "duration": 9,
    "start_time": "2022-05-15T15:40:40.715Z"
   },
   {
    "duration": 6,
    "start_time": "2022-05-15T15:40:40.726Z"
   },
   {
    "duration": 20,
    "start_time": "2022-05-15T15:40:40.747Z"
   },
   {
    "duration": 4,
    "start_time": "2022-05-15T15:40:40.769Z"
   },
   {
    "duration": 5,
    "start_time": "2022-05-15T15:40:40.775Z"
   },
   {
    "duration": 6,
    "start_time": "2022-05-15T15:40:40.782Z"
   },
   {
    "duration": 6,
    "start_time": "2022-05-15T15:40:40.789Z"
   },
   {
    "duration": 4,
    "start_time": "2022-05-15T15:40:40.797Z"
   },
   {
    "duration": 5,
    "start_time": "2022-05-15T15:40:40.803Z"
   },
   {
    "duration": 6,
    "start_time": "2022-05-15T15:40:40.810Z"
   },
   {
    "duration": 6,
    "start_time": "2022-05-15T15:40:40.818Z"
   },
   {
    "duration": 5,
    "start_time": "2022-05-15T15:40:40.825Z"
   },
   {
    "duration": 6,
    "start_time": "2022-05-15T15:40:40.832Z"
   },
   {
    "duration": 15,
    "start_time": "2022-05-15T15:40:40.847Z"
   },
   {
    "duration": 15,
    "start_time": "2022-05-15T15:40:40.864Z"
   },
   {
    "duration": 0,
    "start_time": "2022-05-15T15:40:40.881Z"
   },
   {
    "duration": 0,
    "start_time": "2022-05-15T15:40:40.883Z"
   },
   {
    "duration": 0,
    "start_time": "2022-05-15T15:40:40.884Z"
   },
   {
    "duration": 0,
    "start_time": "2022-05-15T15:40:40.885Z"
   },
   {
    "duration": 0,
    "start_time": "2022-05-15T15:40:40.886Z"
   },
   {
    "duration": 0,
    "start_time": "2022-05-15T15:40:40.887Z"
   },
   {
    "duration": 0,
    "start_time": "2022-05-15T15:40:40.888Z"
   },
   {
    "duration": 0,
    "start_time": "2022-05-15T15:40:40.889Z"
   },
   {
    "duration": 5,
    "start_time": "2022-05-15T15:49:49.553Z"
   },
   {
    "duration": 6,
    "start_time": "2022-05-15T15:49:50.112Z"
   },
   {
    "duration": 4,
    "start_time": "2022-05-15T15:49:50.707Z"
   },
   {
    "duration": 3,
    "start_time": "2022-05-15T15:49:51.307Z"
   },
   {
    "duration": 4,
    "start_time": "2022-05-15T15:49:51.942Z"
   },
   {
    "duration": 4,
    "start_time": "2022-05-15T15:49:52.598Z"
   },
   {
    "duration": 7,
    "start_time": "2022-05-15T15:49:58.176Z"
   },
   {
    "duration": 9,
    "start_time": "2022-05-15T15:50:04.175Z"
   },
   {
    "duration": 10,
    "start_time": "2022-05-15T15:50:05.143Z"
   },
   {
    "duration": 4,
    "start_time": "2022-05-15T15:50:07.296Z"
   },
   {
    "duration": 6,
    "start_time": "2022-05-15T15:50:10.035Z"
   },
   {
    "duration": 3,
    "start_time": "2022-05-15T15:53:16.397Z"
   },
   {
    "duration": 22,
    "start_time": "2022-05-15T15:53:16.402Z"
   },
   {
    "duration": 8,
    "start_time": "2022-05-15T15:53:16.426Z"
   },
   {
    "duration": 21,
    "start_time": "2022-05-15T15:53:16.436Z"
   },
   {
    "duration": 6,
    "start_time": "2022-05-15T15:53:16.459Z"
   },
   {
    "duration": 14,
    "start_time": "2022-05-15T15:53:16.466Z"
   },
   {
    "duration": 19,
    "start_time": "2022-05-15T15:53:16.481Z"
   },
   {
    "duration": 4,
    "start_time": "2022-05-15T15:53:16.502Z"
   },
   {
    "duration": 38,
    "start_time": "2022-05-15T15:53:16.509Z"
   },
   {
    "duration": 15,
    "start_time": "2022-05-15T15:53:16.549Z"
   },
   {
    "duration": 8,
    "start_time": "2022-05-15T15:53:16.566Z"
   },
   {
    "duration": 5,
    "start_time": "2022-05-15T15:53:16.576Z"
   },
   {
    "duration": 6,
    "start_time": "2022-05-15T15:53:16.582Z"
   },
   {
    "duration": 8,
    "start_time": "2022-05-15T15:53:16.590Z"
   },
   {
    "duration": 8,
    "start_time": "2022-05-15T15:53:16.599Z"
   },
   {
    "duration": 7,
    "start_time": "2022-05-15T15:53:16.609Z"
   },
   {
    "duration": 8,
    "start_time": "2022-05-15T15:53:16.617Z"
   },
   {
    "duration": 5,
    "start_time": "2022-05-15T15:53:16.626Z"
   },
   {
    "duration": 5,
    "start_time": "2022-05-15T15:53:16.633Z"
   },
   {
    "duration": 22,
    "start_time": "2022-05-15T15:53:16.639Z"
   },
   {
    "duration": 12,
    "start_time": "2022-05-15T15:53:16.663Z"
   },
   {
    "duration": 5,
    "start_time": "2022-05-15T15:53:16.677Z"
   },
   {
    "duration": 5,
    "start_time": "2022-05-15T15:53:16.684Z"
   },
   {
    "duration": 5,
    "start_time": "2022-05-15T15:53:16.692Z"
   },
   {
    "duration": 4,
    "start_time": "2022-05-15T15:53:16.699Z"
   },
   {
    "duration": 6,
    "start_time": "2022-05-15T15:53:16.704Z"
   },
   {
    "duration": 6,
    "start_time": "2022-05-15T15:53:16.712Z"
   },
   {
    "duration": 15,
    "start_time": "2022-05-15T15:53:16.719Z"
   },
   {
    "duration": 30,
    "start_time": "2022-05-15T15:53:16.736Z"
   },
   {
    "duration": 0,
    "start_time": "2022-05-15T15:53:16.768Z"
   },
   {
    "duration": 0,
    "start_time": "2022-05-15T15:53:16.769Z"
   },
   {
    "duration": 0,
    "start_time": "2022-05-15T15:53:16.770Z"
   },
   {
    "duration": 0,
    "start_time": "2022-05-15T15:53:16.771Z"
   },
   {
    "duration": 0,
    "start_time": "2022-05-15T15:53:16.772Z"
   },
   {
    "duration": 0,
    "start_time": "2022-05-15T15:53:16.773Z"
   },
   {
    "duration": 0,
    "start_time": "2022-05-15T15:53:16.774Z"
   },
   {
    "duration": 10,
    "start_time": "2022-05-15T15:53:27.467Z"
   },
   {
    "duration": 8,
    "start_time": "2022-05-15T15:53:31.879Z"
   },
   {
    "duration": 7,
    "start_time": "2022-05-15T15:53:32.500Z"
   },
   {
    "duration": 7,
    "start_time": "2022-05-15T15:53:34.959Z"
   },
   {
    "duration": 3,
    "start_time": "2022-05-15T16:02:16.129Z"
   },
   {
    "duration": 33,
    "start_time": "2022-05-15T16:02:16.135Z"
   },
   {
    "duration": 9,
    "start_time": "2022-05-15T16:02:16.170Z"
   },
   {
    "duration": 23,
    "start_time": "2022-05-15T16:02:16.181Z"
   },
   {
    "duration": 7,
    "start_time": "2022-05-15T16:02:16.207Z"
   },
   {
    "duration": 13,
    "start_time": "2022-05-15T16:02:16.216Z"
   },
   {
    "duration": 26,
    "start_time": "2022-05-15T16:02:16.246Z"
   },
   {
    "duration": 5,
    "start_time": "2022-05-15T16:02:16.273Z"
   },
   {
    "duration": 5,
    "start_time": "2022-05-15T16:02:16.279Z"
   },
   {
    "duration": 10,
    "start_time": "2022-05-15T16:02:16.286Z"
   },
   {
    "duration": 12,
    "start_time": "2022-05-15T16:02:16.297Z"
   },
   {
    "duration": 4,
    "start_time": "2022-05-15T16:02:16.311Z"
   },
   {
    "duration": 7,
    "start_time": "2022-05-15T16:02:16.318Z"
   },
   {
    "duration": 20,
    "start_time": "2022-05-15T16:02:16.327Z"
   },
   {
    "duration": 12,
    "start_time": "2022-05-15T16:02:16.349Z"
   },
   {
    "duration": 5,
    "start_time": "2022-05-15T16:02:16.363Z"
   },
   {
    "duration": 5,
    "start_time": "2022-05-15T16:02:16.370Z"
   },
   {
    "duration": 5,
    "start_time": "2022-05-15T16:02:16.377Z"
   },
   {
    "duration": 5,
    "start_time": "2022-05-15T16:02:16.384Z"
   },
   {
    "duration": 9,
    "start_time": "2022-05-15T16:02:16.391Z"
   },
   {
    "duration": 6,
    "start_time": "2022-05-15T16:02:16.402Z"
   },
   {
    "duration": 4,
    "start_time": "2022-05-15T16:02:16.409Z"
   },
   {
    "duration": 9,
    "start_time": "2022-05-15T16:02:16.415Z"
   },
   {
    "duration": 17,
    "start_time": "2022-05-15T16:02:16.443Z"
   },
   {
    "duration": 5,
    "start_time": "2022-05-15T16:02:16.462Z"
   },
   {
    "duration": 7,
    "start_time": "2022-05-15T16:02:16.468Z"
   },
   {
    "duration": 9,
    "start_time": "2022-05-15T16:02:16.476Z"
   },
   {
    "duration": 4,
    "start_time": "2022-05-15T16:02:16.487Z"
   },
   {
    "duration": 6,
    "start_time": "2022-05-15T16:02:16.493Z"
   },
   {
    "duration": 6,
    "start_time": "2022-05-15T16:02:16.500Z"
   },
   {
    "duration": 5,
    "start_time": "2022-05-15T16:02:16.507Z"
   },
   {
    "duration": 6,
    "start_time": "2022-05-15T16:02:16.513Z"
   },
   {
    "duration": 14,
    "start_time": "2022-05-15T16:02:16.521Z"
   },
   {
    "duration": 23,
    "start_time": "2022-05-15T16:02:16.536Z"
   },
   {
    "duration": 20,
    "start_time": "2022-05-15T16:02:16.560Z"
   },
   {
    "duration": 7,
    "start_time": "2022-05-15T16:02:16.582Z"
   },
   {
    "duration": 1341,
    "start_time": "2022-05-15T16:05:06.770Z"
   },
   {
    "duration": 13,
    "start_time": "2022-05-15T16:05:08.113Z"
   },
   {
    "duration": 18,
    "start_time": "2022-05-15T16:05:08.128Z"
   },
   {
    "duration": 20,
    "start_time": "2022-05-15T16:05:08.149Z"
   },
   {
    "duration": 6,
    "start_time": "2022-05-15T16:05:08.171Z"
   },
   {
    "duration": 9,
    "start_time": "2022-05-15T16:05:08.178Z"
   },
   {
    "duration": 24,
    "start_time": "2022-05-15T16:05:08.189Z"
   },
   {
    "duration": 4,
    "start_time": "2022-05-15T16:05:08.215Z"
   },
   {
    "duration": 26,
    "start_time": "2022-05-15T16:05:08.221Z"
   },
   {
    "duration": 18,
    "start_time": "2022-05-15T16:05:08.251Z"
   },
   {
    "duration": 14,
    "start_time": "2022-05-15T16:05:08.271Z"
   },
   {
    "duration": 13,
    "start_time": "2022-05-15T16:05:08.287Z"
   },
   {
    "duration": 10,
    "start_time": "2022-05-15T16:05:08.302Z"
   },
   {
    "duration": 5,
    "start_time": "2022-05-15T16:05:08.314Z"
   },
   {
    "duration": 6,
    "start_time": "2022-05-15T16:05:08.321Z"
   },
   {
    "duration": 9,
    "start_time": "2022-05-15T16:05:08.329Z"
   },
   {
    "duration": 19,
    "start_time": "2022-05-15T16:05:08.340Z"
   },
   {
    "duration": 7,
    "start_time": "2022-05-15T16:05:08.360Z"
   },
   {
    "duration": 6,
    "start_time": "2022-05-15T16:05:08.369Z"
   },
   {
    "duration": 9,
    "start_time": "2022-05-15T16:05:08.376Z"
   },
   {
    "duration": 10,
    "start_time": "2022-05-15T16:05:08.386Z"
   },
   {
    "duration": 6,
    "start_time": "2022-05-15T16:05:08.398Z"
   },
   {
    "duration": 9,
    "start_time": "2022-05-15T16:05:08.406Z"
   },
   {
    "duration": 8,
    "start_time": "2022-05-15T16:05:08.416Z"
   },
   {
    "duration": 6,
    "start_time": "2022-05-15T16:05:08.426Z"
   },
   {
    "duration": 105,
    "start_time": "2022-05-15T16:05:08.433Z"
   },
   {
    "duration": 0,
    "start_time": "2022-05-15T16:05:08.540Z"
   },
   {
    "duration": 0,
    "start_time": "2022-05-15T16:05:08.541Z"
   },
   {
    "duration": 0,
    "start_time": "2022-05-15T16:05:08.547Z"
   },
   {
    "duration": 0,
    "start_time": "2022-05-15T16:05:08.549Z"
   },
   {
    "duration": 0,
    "start_time": "2022-05-15T16:05:08.550Z"
   },
   {
    "duration": 0,
    "start_time": "2022-05-15T16:05:08.552Z"
   },
   {
    "duration": 0,
    "start_time": "2022-05-15T16:05:08.553Z"
   },
   {
    "duration": 0,
    "start_time": "2022-05-15T16:05:08.555Z"
   },
   {
    "duration": 0,
    "start_time": "2022-05-15T16:05:08.556Z"
   },
   {
    "duration": 0,
    "start_time": "2022-05-15T16:05:08.557Z"
   },
   {
    "duration": 4,
    "start_time": "2022-05-15T16:05:39.713Z"
   },
   {
    "duration": 17,
    "start_time": "2022-05-15T16:05:39.719Z"
   },
   {
    "duration": 15,
    "start_time": "2022-05-15T16:05:39.738Z"
   },
   {
    "duration": 27,
    "start_time": "2022-05-15T16:05:39.755Z"
   },
   {
    "duration": 7,
    "start_time": "2022-05-15T16:05:39.784Z"
   },
   {
    "duration": 15,
    "start_time": "2022-05-15T16:05:39.793Z"
   },
   {
    "duration": 52,
    "start_time": "2022-05-15T16:05:39.810Z"
   },
   {
    "duration": 5,
    "start_time": "2022-05-15T16:05:39.864Z"
   },
   {
    "duration": 7,
    "start_time": "2022-05-15T16:05:39.871Z"
   },
   {
    "duration": 8,
    "start_time": "2022-05-15T16:05:39.882Z"
   },
   {
    "duration": 18,
    "start_time": "2022-05-15T16:05:39.892Z"
   },
   {
    "duration": 6,
    "start_time": "2022-05-15T16:05:39.912Z"
   },
   {
    "duration": 7,
    "start_time": "2022-05-15T16:05:39.920Z"
   },
   {
    "duration": 19,
    "start_time": "2022-05-15T16:05:39.929Z"
   },
   {
    "duration": 21,
    "start_time": "2022-05-15T16:05:39.950Z"
   },
   {
    "duration": 8,
    "start_time": "2022-05-15T16:05:39.973Z"
   },
   {
    "duration": 5,
    "start_time": "2022-05-15T16:05:39.983Z"
   },
   {
    "duration": 16,
    "start_time": "2022-05-15T16:05:39.990Z"
   },
   {
    "duration": 19,
    "start_time": "2022-05-15T16:05:40.008Z"
   },
   {
    "duration": 16,
    "start_time": "2022-05-15T16:05:40.030Z"
   },
   {
    "duration": 23,
    "start_time": "2022-05-15T16:05:40.048Z"
   },
   {
    "duration": 13,
    "start_time": "2022-05-15T16:05:40.073Z"
   },
   {
    "duration": 17,
    "start_time": "2022-05-15T16:05:40.088Z"
   },
   {
    "duration": 13,
    "start_time": "2022-05-15T16:05:40.108Z"
   },
   {
    "duration": 8,
    "start_time": "2022-05-15T16:05:40.123Z"
   },
   {
    "duration": 38,
    "start_time": "2022-05-15T16:05:40.133Z"
   },
   {
    "duration": 9,
    "start_time": "2022-05-15T16:05:40.173Z"
   },
   {
    "duration": 5,
    "start_time": "2022-05-15T16:05:40.187Z"
   },
   {
    "duration": 5,
    "start_time": "2022-05-15T16:05:40.193Z"
   },
   {
    "duration": 20,
    "start_time": "2022-05-15T16:05:40.200Z"
   },
   {
    "duration": 12,
    "start_time": "2022-05-15T16:05:40.222Z"
   },
   {
    "duration": 28,
    "start_time": "2022-05-15T16:05:40.235Z"
   },
   {
    "duration": 12,
    "start_time": "2022-05-15T16:05:40.266Z"
   },
   {
    "duration": 8,
    "start_time": "2022-05-15T16:05:40.280Z"
   },
   {
    "duration": 7,
    "start_time": "2022-05-15T16:05:40.290Z"
   },
   {
    "duration": 16,
    "start_time": "2022-05-15T16:05:40.300Z"
   },
   {
    "duration": 649,
    "start_time": "2022-05-15T16:08:58.105Z"
   },
   {
    "duration": 10,
    "start_time": "2022-05-15T16:12:26.766Z"
   },
   {
    "duration": 709,
    "start_time": "2022-05-15T16:12:32.095Z"
   },
   {
    "duration": 637,
    "start_time": "2022-05-15T16:15:30.000Z"
   },
   {
    "duration": 630,
    "start_time": "2022-05-15T16:16:22.010Z"
   },
   {
    "duration": 4,
    "start_time": "2022-05-15T16:16:38.557Z"
   },
   {
    "duration": 4,
    "start_time": "2022-05-15T16:16:44.658Z"
   },
   {
    "duration": 21,
    "start_time": "2022-05-15T16:16:44.665Z"
   },
   {
    "duration": 12,
    "start_time": "2022-05-15T16:16:44.688Z"
   },
   {
    "duration": 17,
    "start_time": "2022-05-15T16:16:44.703Z"
   },
   {
    "duration": 6,
    "start_time": "2022-05-15T16:16:44.722Z"
   },
   {
    "duration": 13,
    "start_time": "2022-05-15T16:16:44.751Z"
   },
   {
    "duration": 26,
    "start_time": "2022-05-15T16:16:44.766Z"
   },
   {
    "duration": 5,
    "start_time": "2022-05-15T16:16:44.794Z"
   },
   {
    "duration": 8,
    "start_time": "2022-05-15T16:16:44.801Z"
   },
   {
    "duration": 35,
    "start_time": "2022-05-15T16:16:44.812Z"
   },
   {
    "duration": 10,
    "start_time": "2022-05-15T16:16:44.849Z"
   },
   {
    "duration": 7,
    "start_time": "2022-05-15T16:16:44.861Z"
   },
   {
    "duration": 14,
    "start_time": "2022-05-15T16:16:44.870Z"
   },
   {
    "duration": 17,
    "start_time": "2022-05-15T16:16:44.886Z"
   },
   {
    "duration": 7,
    "start_time": "2022-05-15T16:16:44.905Z"
   },
   {
    "duration": 8,
    "start_time": "2022-05-15T16:16:44.913Z"
   },
   {
    "duration": 7,
    "start_time": "2022-05-15T16:16:44.922Z"
   },
   {
    "duration": 5,
    "start_time": "2022-05-15T16:16:44.931Z"
   },
   {
    "duration": 10,
    "start_time": "2022-05-15T16:16:44.937Z"
   },
   {
    "duration": 21,
    "start_time": "2022-05-15T16:16:44.949Z"
   },
   {
    "duration": 7,
    "start_time": "2022-05-15T16:16:44.972Z"
   },
   {
    "duration": 6,
    "start_time": "2022-05-15T16:16:44.981Z"
   },
   {
    "duration": 8,
    "start_time": "2022-05-15T16:16:44.989Z"
   },
   {
    "duration": 24,
    "start_time": "2022-05-15T16:16:44.999Z"
   },
   {
    "duration": 56,
    "start_time": "2022-05-15T16:16:45.025Z"
   },
   {
    "duration": 12,
    "start_time": "2022-05-15T16:16:45.083Z"
   },
   {
    "duration": 8,
    "start_time": "2022-05-15T16:16:45.097Z"
   },
   {
    "duration": 4,
    "start_time": "2022-05-15T16:16:45.109Z"
   },
   {
    "duration": 4,
    "start_time": "2022-05-15T16:16:45.115Z"
   },
   {
    "duration": 6,
    "start_time": "2022-05-15T16:16:45.120Z"
   },
   {
    "duration": 6,
    "start_time": "2022-05-15T16:16:45.127Z"
   },
   {
    "duration": 6,
    "start_time": "2022-05-15T16:16:45.134Z"
   },
   {
    "duration": 28,
    "start_time": "2022-05-15T16:16:45.142Z"
   },
   {
    "duration": 12,
    "start_time": "2022-05-15T16:16:45.172Z"
   },
   {
    "duration": 5,
    "start_time": "2022-05-15T16:16:45.186Z"
   },
   {
    "duration": 14,
    "start_time": "2022-05-15T16:16:45.193Z"
   },
   {
    "duration": 148,
    "start_time": "2022-05-15T16:55:33.036Z"
   },
   {
    "duration": 5,
    "start_time": "2022-05-15T16:55:37.956Z"
   },
   {
    "duration": 3,
    "start_time": "2022-05-15T16:55:58.484Z"
   },
   {
    "duration": 25,
    "start_time": "2022-05-15T16:55:58.489Z"
   },
   {
    "duration": 8,
    "start_time": "2022-05-15T16:55:58.516Z"
   },
   {
    "duration": 12,
    "start_time": "2022-05-15T16:55:58.525Z"
   },
   {
    "duration": 9,
    "start_time": "2022-05-15T16:55:58.538Z"
   },
   {
    "duration": 25,
    "start_time": "2022-05-15T16:55:58.549Z"
   },
   {
    "duration": 21,
    "start_time": "2022-05-15T16:55:58.576Z"
   },
   {
    "duration": 4,
    "start_time": "2022-05-15T16:55:58.599Z"
   },
   {
    "duration": 6,
    "start_time": "2022-05-15T16:55:58.606Z"
   },
   {
    "duration": 37,
    "start_time": "2022-05-15T16:55:58.614Z"
   },
   {
    "duration": 18,
    "start_time": "2022-05-15T16:55:58.653Z"
   },
   {
    "duration": 6,
    "start_time": "2022-05-15T16:55:58.673Z"
   },
   {
    "duration": 8,
    "start_time": "2022-05-15T16:55:58.681Z"
   },
   {
    "duration": 7,
    "start_time": "2022-05-15T16:55:58.690Z"
   },
   {
    "duration": 34,
    "start_time": "2022-05-15T16:55:58.698Z"
   },
   {
    "duration": 30,
    "start_time": "2022-05-15T16:55:58.734Z"
   },
   {
    "duration": 6,
    "start_time": "2022-05-15T16:55:58.766Z"
   },
   {
    "duration": 9,
    "start_time": "2022-05-15T16:55:58.773Z"
   },
   {
    "duration": 5,
    "start_time": "2022-05-15T16:55:58.784Z"
   },
   {
    "duration": 8,
    "start_time": "2022-05-15T16:55:58.791Z"
   },
   {
    "duration": 14,
    "start_time": "2022-05-15T16:55:58.801Z"
   },
   {
    "duration": 9,
    "start_time": "2022-05-15T16:55:58.817Z"
   },
   {
    "duration": 8,
    "start_time": "2022-05-15T16:55:58.827Z"
   },
   {
    "duration": 7,
    "start_time": "2022-05-15T16:55:58.839Z"
   },
   {
    "duration": 14,
    "start_time": "2022-05-15T16:55:58.848Z"
   },
   {
    "duration": 9,
    "start_time": "2022-05-15T16:55:58.866Z"
   },
   {
    "duration": 98,
    "start_time": "2022-05-15T16:55:58.877Z"
   },
   {
    "duration": 5,
    "start_time": "2022-05-15T16:55:59.058Z"
   },
   {
    "duration": 6,
    "start_time": "2022-05-15T16:55:59.065Z"
   },
   {
    "duration": 8,
    "start_time": "2022-05-15T16:55:59.072Z"
   },
   {
    "duration": 6,
    "start_time": "2022-05-15T16:55:59.082Z"
   },
   {
    "duration": 7,
    "start_time": "2022-05-15T16:55:59.090Z"
   },
   {
    "duration": 7,
    "start_time": "2022-05-15T16:55:59.099Z"
   },
   {
    "duration": 6,
    "start_time": "2022-05-15T16:55:59.107Z"
   },
   {
    "duration": 12,
    "start_time": "2022-05-15T16:55:59.115Z"
   },
   {
    "duration": 27,
    "start_time": "2022-05-15T16:55:59.128Z"
   },
   {
    "duration": 19,
    "start_time": "2022-05-15T16:55:59.158Z"
   },
   {
    "duration": 10,
    "start_time": "2022-05-15T16:55:59.179Z"
   },
   {
    "duration": 12,
    "start_time": "2022-05-15T16:57:56.097Z"
   },
   {
    "duration": 4,
    "start_time": "2022-05-15T16:58:09.343Z"
   },
   {
    "duration": 4,
    "start_time": "2022-05-15T16:58:14.087Z"
   },
   {
    "duration": 34,
    "start_time": "2022-05-15T16:58:14.093Z"
   },
   {
    "duration": 23,
    "start_time": "2022-05-15T16:58:14.129Z"
   },
   {
    "duration": 35,
    "start_time": "2022-05-15T16:58:14.154Z"
   },
   {
    "duration": 26,
    "start_time": "2022-05-15T16:58:14.192Z"
   },
   {
    "duration": 36,
    "start_time": "2022-05-15T16:58:14.219Z"
   },
   {
    "duration": 54,
    "start_time": "2022-05-15T16:58:14.257Z"
   },
   {
    "duration": 5,
    "start_time": "2022-05-15T16:58:14.313Z"
   },
   {
    "duration": 55,
    "start_time": "2022-05-15T16:58:14.319Z"
   },
   {
    "duration": 47,
    "start_time": "2022-05-15T16:58:14.376Z"
   },
   {
    "duration": 43,
    "start_time": "2022-05-15T16:58:14.425Z"
   },
   {
    "duration": 31,
    "start_time": "2022-05-15T16:58:14.471Z"
   },
   {
    "duration": 25,
    "start_time": "2022-05-15T16:58:14.507Z"
   },
   {
    "duration": 35,
    "start_time": "2022-05-15T16:58:14.534Z"
   },
   {
    "duration": 30,
    "start_time": "2022-05-15T16:58:14.571Z"
   },
   {
    "duration": 29,
    "start_time": "2022-05-15T16:58:14.603Z"
   },
   {
    "duration": 37,
    "start_time": "2022-05-15T16:58:14.634Z"
   },
   {
    "duration": 24,
    "start_time": "2022-05-15T16:58:14.673Z"
   },
   {
    "duration": 15,
    "start_time": "2022-05-15T16:58:14.699Z"
   },
   {
    "duration": 48,
    "start_time": "2022-05-15T16:58:14.716Z"
   },
   {
    "duration": 36,
    "start_time": "2022-05-15T16:58:14.766Z"
   },
   {
    "duration": 23,
    "start_time": "2022-05-15T16:58:14.804Z"
   },
   {
    "duration": 42,
    "start_time": "2022-05-15T16:58:14.830Z"
   },
   {
    "duration": 30,
    "start_time": "2022-05-15T16:58:14.874Z"
   },
   {
    "duration": 25,
    "start_time": "2022-05-15T16:58:14.907Z"
   },
   {
    "duration": 48,
    "start_time": "2022-05-15T16:58:14.934Z"
   },
   {
    "duration": 86,
    "start_time": "2022-05-15T16:58:14.984Z"
   },
   {
    "duration": 106,
    "start_time": "2022-05-15T16:58:15.071Z"
   },
   {
    "duration": 33,
    "start_time": "2022-05-15T16:58:15.180Z"
   },
   {
    "duration": 19,
    "start_time": "2022-05-15T16:58:15.214Z"
   },
   {
    "duration": 52,
    "start_time": "2022-05-15T16:58:15.234Z"
   },
   {
    "duration": 22,
    "start_time": "2022-05-15T16:58:15.289Z"
   },
   {
    "duration": 20,
    "start_time": "2022-05-15T16:58:15.313Z"
   },
   {
    "duration": 34,
    "start_time": "2022-05-15T16:58:15.335Z"
   },
   {
    "duration": 30,
    "start_time": "2022-05-15T16:58:15.371Z"
   },
   {
    "duration": 26,
    "start_time": "2022-05-15T16:58:15.403Z"
   },
   {
    "duration": 48,
    "start_time": "2022-05-15T16:58:15.433Z"
   },
   {
    "duration": 29,
    "start_time": "2022-05-15T16:58:15.483Z"
   },
   {
    "duration": 20,
    "start_time": "2022-05-15T17:01:58.558Z"
   },
   {
    "duration": 35,
    "start_time": "2022-05-15T17:02:41.164Z"
   },
   {
    "duration": 4,
    "start_time": "2022-05-15T17:03:07.736Z"
   },
   {
    "duration": 4,
    "start_time": "2022-05-15T17:03:10.718Z"
   },
   {
    "duration": 7,
    "start_time": "2022-05-15T17:03:11.241Z"
   },
   {
    "duration": 19,
    "start_time": "2022-05-15T17:03:12.167Z"
   },
   {
    "duration": 20,
    "start_time": "2022-05-15T17:04:11.652Z"
   },
   {
    "duration": 32,
    "start_time": "2022-05-15T17:07:49.235Z"
   },
   {
    "duration": 23,
    "start_time": "2022-05-15T17:10:28.453Z"
   },
   {
    "duration": 4,
    "start_time": "2022-05-15T17:28:19.723Z"
   },
   {
    "duration": 29,
    "start_time": "2022-05-15T17:28:19.729Z"
   },
   {
    "duration": 12,
    "start_time": "2022-05-15T17:28:19.760Z"
   },
   {
    "duration": 30,
    "start_time": "2022-05-15T17:28:19.775Z"
   },
   {
    "duration": 10,
    "start_time": "2022-05-15T17:28:19.809Z"
   },
   {
    "duration": 43,
    "start_time": "2022-05-15T17:28:19.820Z"
   },
   {
    "duration": 32,
    "start_time": "2022-05-15T17:28:19.866Z"
   },
   {
    "duration": 5,
    "start_time": "2022-05-15T17:28:19.900Z"
   },
   {
    "duration": 5,
    "start_time": "2022-05-15T17:28:19.908Z"
   },
   {
    "duration": 30,
    "start_time": "2022-05-15T17:28:19.914Z"
   },
   {
    "duration": 11,
    "start_time": "2022-05-15T17:28:19.947Z"
   },
   {
    "duration": 18,
    "start_time": "2022-05-15T17:28:19.960Z"
   },
   {
    "duration": 11,
    "start_time": "2022-05-15T17:28:19.980Z"
   },
   {
    "duration": 23,
    "start_time": "2022-05-15T17:28:19.994Z"
   },
   {
    "duration": 7,
    "start_time": "2022-05-15T17:28:20.020Z"
   },
   {
    "duration": 11,
    "start_time": "2022-05-15T17:28:20.029Z"
   },
   {
    "duration": 20,
    "start_time": "2022-05-15T17:28:20.043Z"
   },
   {
    "duration": 18,
    "start_time": "2022-05-15T17:28:20.065Z"
   },
   {
    "duration": 12,
    "start_time": "2022-05-15T17:28:20.085Z"
   },
   {
    "duration": 12,
    "start_time": "2022-05-15T17:28:20.098Z"
   },
   {
    "duration": 8,
    "start_time": "2022-05-15T17:28:20.112Z"
   },
   {
    "duration": 5,
    "start_time": "2022-05-15T17:28:20.121Z"
   },
   {
    "duration": 16,
    "start_time": "2022-05-15T17:28:20.128Z"
   },
   {
    "duration": 26,
    "start_time": "2022-05-15T17:28:20.149Z"
   },
   {
    "duration": 19,
    "start_time": "2022-05-15T17:28:20.177Z"
   },
   {
    "duration": 7,
    "start_time": "2022-05-15T17:28:20.198Z"
   },
   {
    "duration": 10,
    "start_time": "2022-05-15T17:28:20.207Z"
   },
   {
    "duration": 7,
    "start_time": "2022-05-15T17:28:20.220Z"
   },
   {
    "duration": 19,
    "start_time": "2022-05-15T17:28:20.229Z"
   },
   {
    "duration": 6,
    "start_time": "2022-05-15T17:28:20.252Z"
   },
   {
    "duration": 14,
    "start_time": "2022-05-15T17:28:20.260Z"
   },
   {
    "duration": 67,
    "start_time": "2022-05-15T17:28:20.278Z"
   },
   {
    "duration": 11,
    "start_time": "2022-05-15T17:28:20.347Z"
   },
   {
    "duration": 16,
    "start_time": "2022-05-15T17:28:20.363Z"
   },
   {
    "duration": 15,
    "start_time": "2022-05-15T17:28:20.382Z"
   },
   {
    "duration": 11,
    "start_time": "2022-05-15T17:28:20.400Z"
   },
   {
    "duration": 10,
    "start_time": "2022-05-15T17:28:20.442Z"
   },
   {
    "duration": 16,
    "start_time": "2022-05-15T17:28:20.454Z"
   },
   {
    "duration": 1536,
    "start_time": "2022-05-15T17:28:31.935Z"
   },
   {
    "duration": 17,
    "start_time": "2022-05-15T17:28:33.474Z"
   },
   {
    "duration": 20,
    "start_time": "2022-05-15T17:28:33.493Z"
   },
   {
    "duration": 10,
    "start_time": "2022-05-15T17:28:33.516Z"
   },
   {
    "duration": 8,
    "start_time": "2022-05-15T17:28:33.544Z"
   },
   {
    "duration": 16,
    "start_time": "2022-05-15T17:28:33.554Z"
   },
   {
    "duration": 32,
    "start_time": "2022-05-15T17:28:33.572Z"
   },
   {
    "duration": 5,
    "start_time": "2022-05-15T17:28:33.607Z"
   },
   {
    "duration": 7,
    "start_time": "2022-05-15T17:28:33.643Z"
   },
   {
    "duration": 10,
    "start_time": "2022-05-15T17:28:33.654Z"
   },
   {
    "duration": 16,
    "start_time": "2022-05-15T17:28:33.666Z"
   },
   {
    "duration": 19,
    "start_time": "2022-05-15T17:28:33.684Z"
   },
   {
    "duration": 12,
    "start_time": "2022-05-15T17:28:33.705Z"
   },
   {
    "duration": 6,
    "start_time": "2022-05-15T17:28:33.719Z"
   },
   {
    "duration": 8,
    "start_time": "2022-05-15T17:28:33.727Z"
   },
   {
    "duration": 7,
    "start_time": "2022-05-15T17:28:33.737Z"
   },
   {
    "duration": 8,
    "start_time": "2022-05-15T17:28:33.746Z"
   },
   {
    "duration": 7,
    "start_time": "2022-05-15T17:28:33.757Z"
   },
   {
    "duration": 9,
    "start_time": "2022-05-15T17:28:33.769Z"
   },
   {
    "duration": 13,
    "start_time": "2022-05-15T17:28:33.781Z"
   },
   {
    "duration": 11,
    "start_time": "2022-05-15T17:28:33.796Z"
   },
   {
    "duration": 6,
    "start_time": "2022-05-15T17:28:33.809Z"
   },
   {
    "duration": 7,
    "start_time": "2022-05-15T17:28:33.817Z"
   },
   {
    "duration": 18,
    "start_time": "2022-05-15T17:28:33.826Z"
   },
   {
    "duration": 13,
    "start_time": "2022-05-15T17:28:33.846Z"
   },
   {
    "duration": 14,
    "start_time": "2022-05-15T17:28:33.861Z"
   },
   {
    "duration": 17,
    "start_time": "2022-05-15T17:28:33.877Z"
   },
   {
    "duration": 6,
    "start_time": "2022-05-15T17:28:33.899Z"
   },
   {
    "duration": 38,
    "start_time": "2022-05-15T17:28:33.907Z"
   },
   {
    "duration": 2,
    "start_time": "2022-05-15T17:28:33.947Z"
   },
   {
    "duration": 6,
    "start_time": "2022-05-15T17:28:33.952Z"
   },
   {
    "duration": 83,
    "start_time": "2022-05-15T17:28:33.961Z"
   },
   {
    "duration": 7,
    "start_time": "2022-05-15T17:28:34.047Z"
   },
   {
    "duration": 11,
    "start_time": "2022-05-15T17:28:34.055Z"
   },
   {
    "duration": 15,
    "start_time": "2022-05-15T17:28:34.067Z"
   },
   {
    "duration": 13,
    "start_time": "2022-05-15T17:28:34.084Z"
   },
   {
    "duration": 10,
    "start_time": "2022-05-15T17:28:34.099Z"
   },
   {
    "duration": 7,
    "start_time": "2022-05-15T17:28:34.111Z"
   },
   {
    "duration": 3,
    "start_time": "2022-05-15T17:34:34.564Z"
   },
   {
    "duration": 34,
    "start_time": "2022-05-15T17:34:34.569Z"
   },
   {
    "duration": 10,
    "start_time": "2022-05-15T17:34:34.605Z"
   },
   {
    "duration": 17,
    "start_time": "2022-05-15T17:34:34.617Z"
   },
   {
    "duration": 7,
    "start_time": "2022-05-15T17:34:34.636Z"
   },
   {
    "duration": 11,
    "start_time": "2022-05-15T17:34:34.644Z"
   },
   {
    "duration": 19,
    "start_time": "2022-05-15T17:34:34.657Z"
   },
   {
    "duration": 5,
    "start_time": "2022-05-15T17:34:34.678Z"
   },
   {
    "duration": 6,
    "start_time": "2022-05-15T17:34:34.684Z"
   },
   {
    "duration": 6,
    "start_time": "2022-05-15T17:34:34.693Z"
   },
   {
    "duration": 44,
    "start_time": "2022-05-15T17:34:34.700Z"
   },
   {
    "duration": 6,
    "start_time": "2022-05-15T17:34:34.746Z"
   },
   {
    "duration": 8,
    "start_time": "2022-05-15T17:34:34.753Z"
   },
   {
    "duration": 4,
    "start_time": "2022-05-15T17:34:34.763Z"
   },
   {
    "duration": 6,
    "start_time": "2022-05-15T17:34:34.769Z"
   },
   {
    "duration": 5,
    "start_time": "2022-05-15T17:34:34.776Z"
   },
   {
    "duration": 6,
    "start_time": "2022-05-15T17:34:34.782Z"
   },
   {
    "duration": 6,
    "start_time": "2022-05-15T17:34:34.789Z"
   },
   {
    "duration": 9,
    "start_time": "2022-05-15T17:34:34.796Z"
   },
   {
    "duration": 7,
    "start_time": "2022-05-15T17:34:34.807Z"
   },
   {
    "duration": 7,
    "start_time": "2022-05-15T17:34:34.815Z"
   },
   {
    "duration": 22,
    "start_time": "2022-05-15T17:34:34.824Z"
   },
   {
    "duration": 7,
    "start_time": "2022-05-15T17:34:34.848Z"
   },
   {
    "duration": 7,
    "start_time": "2022-05-15T17:34:34.856Z"
   },
   {
    "duration": 9,
    "start_time": "2022-05-15T17:34:34.864Z"
   },
   {
    "duration": 7,
    "start_time": "2022-05-15T17:34:34.875Z"
   },
   {
    "duration": 7,
    "start_time": "2022-05-15T17:34:34.884Z"
   },
   {
    "duration": 2,
    "start_time": "2022-05-15T17:34:34.896Z"
   },
   {
    "duration": 139,
    "start_time": "2022-05-15T17:34:34.900Z"
   },
   {
    "duration": 0,
    "start_time": "2022-05-15T17:34:35.043Z"
   },
   {
    "duration": 0,
    "start_time": "2022-05-15T17:34:35.044Z"
   },
   {
    "duration": 0,
    "start_time": "2022-05-15T17:34:35.045Z"
   },
   {
    "duration": 0,
    "start_time": "2022-05-15T17:34:35.046Z"
   },
   {
    "duration": 0,
    "start_time": "2022-05-15T17:34:35.047Z"
   },
   {
    "duration": 0,
    "start_time": "2022-05-15T17:34:35.048Z"
   },
   {
    "duration": 0,
    "start_time": "2022-05-15T17:34:35.049Z"
   },
   {
    "duration": 0,
    "start_time": "2022-05-15T17:34:35.050Z"
   },
   {
    "duration": 0,
    "start_time": "2022-05-15T17:34:35.051Z"
   },
   {
    "duration": 0,
    "start_time": "2022-05-15T17:34:35.052Z"
   },
   {
    "duration": 4,
    "start_time": "2022-05-15T17:36:15.441Z"
   },
   {
    "duration": 19,
    "start_time": "2022-05-15T17:36:15.447Z"
   },
   {
    "duration": 8,
    "start_time": "2022-05-15T17:36:15.468Z"
   },
   {
    "duration": 14,
    "start_time": "2022-05-15T17:36:15.478Z"
   },
   {
    "duration": 7,
    "start_time": "2022-05-15T17:36:15.494Z"
   },
   {
    "duration": 43,
    "start_time": "2022-05-15T17:36:15.502Z"
   },
   {
    "duration": 22,
    "start_time": "2022-05-15T17:36:15.547Z"
   },
   {
    "duration": 5,
    "start_time": "2022-05-15T17:36:15.570Z"
   },
   {
    "duration": 5,
    "start_time": "2022-05-15T17:36:15.578Z"
   },
   {
    "duration": 10,
    "start_time": "2022-05-15T17:36:15.584Z"
   },
   {
    "duration": 10,
    "start_time": "2022-05-15T17:36:15.596Z"
   },
   {
    "duration": 5,
    "start_time": "2022-05-15T17:36:15.643Z"
   },
   {
    "duration": 10,
    "start_time": "2022-05-15T17:36:15.650Z"
   },
   {
    "duration": 7,
    "start_time": "2022-05-15T17:36:15.662Z"
   },
   {
    "duration": 4,
    "start_time": "2022-05-15T17:36:15.671Z"
   },
   {
    "duration": 5,
    "start_time": "2022-05-15T17:36:15.677Z"
   },
   {
    "duration": 5,
    "start_time": "2022-05-15T17:36:15.684Z"
   },
   {
    "duration": 6,
    "start_time": "2022-05-15T17:36:15.691Z"
   },
   {
    "duration": 6,
    "start_time": "2022-05-15T17:36:15.699Z"
   },
   {
    "duration": 6,
    "start_time": "2022-05-15T17:36:15.707Z"
   },
   {
    "duration": 29,
    "start_time": "2022-05-15T17:36:15.715Z"
   },
   {
    "duration": 6,
    "start_time": "2022-05-15T17:36:15.747Z"
   },
   {
    "duration": 6,
    "start_time": "2022-05-15T17:36:15.755Z"
   },
   {
    "duration": 9,
    "start_time": "2022-05-15T17:36:15.764Z"
   },
   {
    "duration": 5,
    "start_time": "2022-05-15T17:36:15.775Z"
   },
   {
    "duration": 6,
    "start_time": "2022-05-15T17:36:15.781Z"
   },
   {
    "duration": 15,
    "start_time": "2022-05-15T17:36:15.788Z"
   },
   {
    "duration": 14,
    "start_time": "2022-05-15T17:36:15.805Z"
   },
   {
    "duration": 23,
    "start_time": "2022-05-15T17:36:15.820Z"
   },
   {
    "duration": 8,
    "start_time": "2022-05-15T17:36:15.848Z"
   },
   {
    "duration": 87,
    "start_time": "2022-05-15T17:36:15.857Z"
   },
   {
    "duration": 7,
    "start_time": "2022-05-15T17:36:15.947Z"
   },
   {
    "duration": 12,
    "start_time": "2022-05-15T17:36:15.956Z"
   },
   {
    "duration": 4,
    "start_time": "2022-05-15T17:36:15.970Z"
   },
   {
    "duration": 5,
    "start_time": "2022-05-15T17:36:15.976Z"
   },
   {
    "duration": 70,
    "start_time": "2022-05-15T17:36:15.982Z"
   },
   {
    "duration": 26,
    "start_time": "2022-05-15T17:36:16.055Z"
   },
   {
    "duration": 0,
    "start_time": "2022-05-15T17:36:16.083Z"
   },
   {
    "duration": 0,
    "start_time": "2022-05-15T17:36:16.085Z"
   },
   {
    "duration": 3,
    "start_time": "2022-05-15T17:41:24.129Z"
   },
   {
    "duration": 24,
    "start_time": "2022-05-15T17:41:24.134Z"
   },
   {
    "duration": 9,
    "start_time": "2022-05-15T17:41:24.160Z"
   },
   {
    "duration": 11,
    "start_time": "2022-05-15T17:41:24.171Z"
   },
   {
    "duration": 10,
    "start_time": "2022-05-15T17:41:24.183Z"
   },
   {
    "duration": 12,
    "start_time": "2022-05-15T17:41:24.195Z"
   },
   {
    "duration": 45,
    "start_time": "2022-05-15T17:41:24.208Z"
   },
   {
    "duration": 5,
    "start_time": "2022-05-15T17:41:24.254Z"
   },
   {
    "duration": 7,
    "start_time": "2022-05-15T17:41:24.261Z"
   },
   {
    "duration": 7,
    "start_time": "2022-05-15T17:41:24.270Z"
   },
   {
    "duration": 11,
    "start_time": "2022-05-15T17:41:24.278Z"
   },
   {
    "duration": 8,
    "start_time": "2022-05-15T17:41:24.290Z"
   },
   {
    "duration": 8,
    "start_time": "2022-05-15T17:41:24.299Z"
   },
   {
    "duration": 8,
    "start_time": "2022-05-15T17:41:24.309Z"
   },
   {
    "duration": 25,
    "start_time": "2022-05-15T17:41:24.318Z"
   },
   {
    "duration": 2,
    "start_time": "2022-05-15T17:41:24.345Z"
   },
   {
    "duration": 8,
    "start_time": "2022-05-15T17:41:24.349Z"
   },
   {
    "duration": 7,
    "start_time": "2022-05-15T17:41:24.358Z"
   },
   {
    "duration": 6,
    "start_time": "2022-05-15T17:41:24.366Z"
   },
   {
    "duration": 9,
    "start_time": "2022-05-15T17:41:24.373Z"
   },
   {
    "duration": 9,
    "start_time": "2022-05-15T17:41:24.383Z"
   },
   {
    "duration": 8,
    "start_time": "2022-05-15T17:41:24.393Z"
   },
   {
    "duration": 11,
    "start_time": "2022-05-15T17:41:24.402Z"
   },
   {
    "duration": 3,
    "start_time": "2022-05-15T17:41:24.416Z"
   },
   {
    "duration": 6,
    "start_time": "2022-05-15T17:41:24.421Z"
   },
   {
    "duration": 4,
    "start_time": "2022-05-15T17:41:24.429Z"
   },
   {
    "duration": 3,
    "start_time": "2022-05-15T17:41:24.443Z"
   },
   {
    "duration": 7,
    "start_time": "2022-05-15T17:41:24.447Z"
   },
   {
    "duration": 6,
    "start_time": "2022-05-15T17:41:24.456Z"
   },
   {
    "duration": 78,
    "start_time": "2022-05-15T17:41:24.465Z"
   },
   {
    "duration": 6,
    "start_time": "2022-05-15T17:41:24.548Z"
   },
   {
    "duration": 8,
    "start_time": "2022-05-15T17:41:24.556Z"
   },
   {
    "duration": 6,
    "start_time": "2022-05-15T17:41:24.643Z"
   },
   {
    "duration": 15,
    "start_time": "2022-05-15T17:41:24.651Z"
   },
   {
    "duration": 5,
    "start_time": "2022-05-15T17:41:24.668Z"
   },
   {
    "duration": 11,
    "start_time": "2022-05-15T17:41:24.674Z"
   },
   {
    "duration": 17,
    "start_time": "2022-05-15T17:41:24.687Z"
   },
   {
    "duration": 0,
    "start_time": "2022-05-15T17:41:24.705Z"
   },
   {
    "duration": 0,
    "start_time": "2022-05-15T17:41:24.707Z"
   },
   {
    "duration": 1718,
    "start_time": "2022-05-15T20:11:32.083Z"
   },
   {
    "duration": 27,
    "start_time": "2022-05-15T20:11:33.804Z"
   },
   {
    "duration": 41,
    "start_time": "2022-05-15T20:11:33.833Z"
   },
   {
    "duration": 41,
    "start_time": "2022-05-15T20:11:33.881Z"
   },
   {
    "duration": 7,
    "start_time": "2022-05-15T20:11:33.926Z"
   },
   {
    "duration": 24,
    "start_time": "2022-05-15T20:11:33.934Z"
   },
   {
    "duration": 68,
    "start_time": "2022-05-15T20:11:33.964Z"
   },
   {
    "duration": 5,
    "start_time": "2022-05-15T20:11:34.034Z"
   },
   {
    "duration": 70,
    "start_time": "2022-05-15T20:11:34.041Z"
   },
   {
    "duration": 10,
    "start_time": "2022-05-15T20:11:34.114Z"
   },
   {
    "duration": 14,
    "start_time": "2022-05-15T20:11:34.127Z"
   },
   {
    "duration": 58,
    "start_time": "2022-05-15T20:11:34.155Z"
   },
   {
    "duration": 11,
    "start_time": "2022-05-15T20:11:34.215Z"
   },
   {
    "duration": 7,
    "start_time": "2022-05-15T20:11:34.230Z"
   },
   {
    "duration": 67,
    "start_time": "2022-05-15T20:11:34.239Z"
   },
   {
    "duration": 11,
    "start_time": "2022-05-15T20:11:34.308Z"
   },
   {
    "duration": 84,
    "start_time": "2022-05-15T20:11:34.321Z"
   },
   {
    "duration": 5,
    "start_time": "2022-05-15T20:11:34.408Z"
   },
   {
    "duration": 6,
    "start_time": "2022-05-15T20:11:34.415Z"
   },
   {
    "duration": 6,
    "start_time": "2022-05-15T20:11:34.423Z"
   },
   {
    "duration": 9,
    "start_time": "2022-05-15T20:11:34.431Z"
   },
   {
    "duration": 62,
    "start_time": "2022-05-15T20:11:34.441Z"
   },
   {
    "duration": 11,
    "start_time": "2022-05-15T20:11:34.504Z"
   },
   {
    "duration": 7,
    "start_time": "2022-05-15T20:11:34.517Z"
   },
   {
    "duration": 8,
    "start_time": "2022-05-15T20:11:34.526Z"
   },
   {
    "duration": 6,
    "start_time": "2022-05-15T20:11:34.535Z"
   },
   {
    "duration": 59,
    "start_time": "2022-05-15T20:11:34.543Z"
   },
   {
    "duration": 16,
    "start_time": "2022-05-15T20:11:34.603Z"
   },
   {
    "duration": 9,
    "start_time": "2022-05-15T20:11:34.620Z"
   },
   {
    "duration": 21,
    "start_time": "2022-05-15T20:11:34.631Z"
   },
   {
    "duration": 111,
    "start_time": "2022-05-15T20:11:34.653Z"
   },
   {
    "duration": 13,
    "start_time": "2022-05-15T20:11:34.766Z"
   },
   {
    "duration": 32,
    "start_time": "2022-05-15T20:11:34.780Z"
   },
   {
    "duration": 7,
    "start_time": "2022-05-15T20:11:34.814Z"
   },
   {
    "duration": 6,
    "start_time": "2022-05-15T20:11:34.823Z"
   },
   {
    "duration": 12,
    "start_time": "2022-05-15T20:11:34.830Z"
   },
   {
    "duration": 198,
    "start_time": "2022-05-15T20:11:34.852Z"
   },
   {
    "duration": 0,
    "start_time": "2022-05-15T20:11:35.052Z"
   },
   {
    "duration": 0,
    "start_time": "2022-05-15T20:11:35.053Z"
   },
   {
    "duration": 3,
    "start_time": "2022-05-15T20:14:33.372Z"
   },
   {
    "duration": 40,
    "start_time": "2022-05-15T20:14:33.383Z"
   },
   {
    "duration": 26,
    "start_time": "2022-05-15T20:14:33.425Z"
   },
   {
    "duration": 57,
    "start_time": "2022-05-15T20:14:33.453Z"
   },
   {
    "duration": 71,
    "start_time": "2022-05-15T20:14:33.513Z"
   },
   {
    "duration": 40,
    "start_time": "2022-05-15T20:14:33.587Z"
   },
   {
    "duration": 77,
    "start_time": "2022-05-15T20:14:33.629Z"
   },
   {
    "duration": 6,
    "start_time": "2022-05-15T20:14:33.707Z"
   },
   {
    "duration": 17,
    "start_time": "2022-05-15T20:14:33.715Z"
   },
   {
    "duration": 53,
    "start_time": "2022-05-15T20:14:33.733Z"
   },
   {
    "duration": 32,
    "start_time": "2022-05-15T20:14:33.789Z"
   },
   {
    "duration": 25,
    "start_time": "2022-05-15T20:14:33.823Z"
   },
   {
    "duration": 62,
    "start_time": "2022-05-15T20:14:33.850Z"
   },
   {
    "duration": 30,
    "start_time": "2022-05-15T20:14:33.914Z"
   },
   {
    "duration": 55,
    "start_time": "2022-05-15T20:14:33.945Z"
   },
   {
    "duration": 16,
    "start_time": "2022-05-15T20:14:34.002Z"
   },
   {
    "duration": 21,
    "start_time": "2022-05-15T20:14:34.020Z"
   },
   {
    "duration": 54,
    "start_time": "2022-05-15T20:14:34.042Z"
   },
   {
    "duration": 25,
    "start_time": "2022-05-15T20:14:34.097Z"
   },
   {
    "duration": 18,
    "start_time": "2022-05-15T20:14:34.124Z"
   },
   {
    "duration": 64,
    "start_time": "2022-05-15T20:14:34.144Z"
   },
   {
    "duration": 26,
    "start_time": "2022-05-15T20:14:34.210Z"
   },
   {
    "duration": 66,
    "start_time": "2022-05-15T20:14:34.238Z"
   },
   {
    "duration": 23,
    "start_time": "2022-05-15T20:14:34.307Z"
   },
   {
    "duration": 64,
    "start_time": "2022-05-15T20:14:34.332Z"
   },
   {
    "duration": 30,
    "start_time": "2022-05-15T20:14:34.398Z"
   },
   {
    "duration": 21,
    "start_time": "2022-05-15T20:14:34.429Z"
   },
   {
    "duration": 53,
    "start_time": "2022-05-15T20:14:34.454Z"
   },
   {
    "duration": 26,
    "start_time": "2022-05-15T20:14:34.511Z"
   },
   {
    "duration": 115,
    "start_time": "2022-05-15T20:14:34.538Z"
   },
   {
    "duration": 49,
    "start_time": "2022-05-15T20:14:34.662Z"
   },
   {
    "duration": 18,
    "start_time": "2022-05-15T20:14:34.713Z"
   },
   {
    "duration": 44,
    "start_time": "2022-05-15T20:14:34.732Z"
   },
   {
    "duration": 29,
    "start_time": "2022-05-15T20:14:34.778Z"
   },
   {
    "duration": 12,
    "start_time": "2022-05-15T20:14:34.809Z"
   },
   {
    "duration": 12,
    "start_time": "2022-05-15T20:14:34.823Z"
   },
   {
    "duration": 47,
    "start_time": "2022-05-15T20:14:34.837Z"
   },
   {
    "duration": 15,
    "start_time": "2022-05-15T20:14:34.887Z"
   },
   {
    "duration": 10,
    "start_time": "2022-05-15T20:14:34.903Z"
   },
   {
    "duration": 3,
    "start_time": "2022-05-15T20:18:46.930Z"
   },
   {
    "duration": 47,
    "start_time": "2022-05-15T20:18:46.935Z"
   },
   {
    "duration": 12,
    "start_time": "2022-05-15T20:18:46.984Z"
   },
   {
    "duration": 17,
    "start_time": "2022-05-15T20:18:46.999Z"
   },
   {
    "duration": 9,
    "start_time": "2022-05-15T20:18:47.018Z"
   },
   {
    "duration": 33,
    "start_time": "2022-05-15T20:18:47.029Z"
   },
   {
    "duration": 56,
    "start_time": "2022-05-15T20:18:47.064Z"
   },
   {
    "duration": 5,
    "start_time": "2022-05-15T20:18:47.122Z"
   },
   {
    "duration": 7,
    "start_time": "2022-05-15T20:18:47.129Z"
   },
   {
    "duration": 12,
    "start_time": "2022-05-15T20:18:47.137Z"
   },
   {
    "duration": 40,
    "start_time": "2022-05-15T20:18:47.152Z"
   },
   {
    "duration": 6,
    "start_time": "2022-05-15T20:18:47.194Z"
   },
   {
    "duration": 7,
    "start_time": "2022-05-15T20:18:47.203Z"
   },
   {
    "duration": 7,
    "start_time": "2022-05-15T20:18:47.212Z"
   },
   {
    "duration": 9,
    "start_time": "2022-05-15T20:18:47.221Z"
   },
   {
    "duration": 9,
    "start_time": "2022-05-15T20:18:47.232Z"
   },
   {
    "duration": 30,
    "start_time": "2022-05-15T20:18:47.251Z"
   },
   {
    "duration": 5,
    "start_time": "2022-05-15T20:18:47.284Z"
   },
   {
    "duration": 9,
    "start_time": "2022-05-15T20:18:47.290Z"
   },
   {
    "duration": 11,
    "start_time": "2022-05-15T20:18:47.301Z"
   },
   {
    "duration": 8,
    "start_time": "2022-05-15T20:18:47.314Z"
   },
   {
    "duration": 8,
    "start_time": "2022-05-15T20:18:47.324Z"
   },
   {
    "duration": 7,
    "start_time": "2022-05-15T20:18:47.334Z"
   },
   {
    "duration": 30,
    "start_time": "2022-05-15T20:18:47.345Z"
   },
   {
    "duration": 10,
    "start_time": "2022-05-15T20:18:47.377Z"
   },
   {
    "duration": 8,
    "start_time": "2022-05-15T20:18:47.390Z"
   },
   {
    "duration": 9,
    "start_time": "2022-05-15T20:18:47.401Z"
   },
   {
    "duration": 9,
    "start_time": "2022-05-15T20:18:47.412Z"
   },
   {
    "duration": 7,
    "start_time": "2022-05-15T20:18:47.424Z"
   },
   {
    "duration": 26,
    "start_time": "2022-05-15T20:18:47.433Z"
   },
   {
    "duration": 82,
    "start_time": "2022-05-15T20:18:47.461Z"
   },
   {
    "duration": 39,
    "start_time": "2022-05-15T20:18:47.545Z"
   },
   {
    "duration": 7,
    "start_time": "2022-05-15T20:18:47.586Z"
   },
   {
    "duration": 8,
    "start_time": "2022-05-15T20:18:47.594Z"
   },
   {
    "duration": 10,
    "start_time": "2022-05-15T20:18:47.604Z"
   },
   {
    "duration": 9,
    "start_time": "2022-05-15T20:18:47.616Z"
   },
   {
    "duration": 6,
    "start_time": "2022-05-15T20:18:47.627Z"
   },
   {
    "duration": 4,
    "start_time": "2022-05-15T20:18:47.650Z"
   },
   {
    "duration": 35,
    "start_time": "2022-05-15T20:18:47.658Z"
   },
   {
    "duration": 11,
    "start_time": "2022-05-15T20:18:47.695Z"
   },
   {
    "duration": 11,
    "start_time": "2022-05-15T20:18:47.708Z"
   },
   {
    "duration": 8,
    "start_time": "2022-05-15T20:18:47.721Z"
   },
   {
    "duration": 5,
    "start_time": "2022-05-15T20:19:45.203Z"
   },
   {
    "duration": 3,
    "start_time": "2022-05-15T20:20:09.997Z"
   },
   {
    "duration": 27,
    "start_time": "2022-05-15T20:20:10.003Z"
   },
   {
    "duration": 13,
    "start_time": "2022-05-15T20:20:10.032Z"
   },
   {
    "duration": 46,
    "start_time": "2022-05-15T20:20:10.047Z"
   },
   {
    "duration": 24,
    "start_time": "2022-05-15T20:20:10.095Z"
   },
   {
    "duration": 15,
    "start_time": "2022-05-15T20:20:10.121Z"
   },
   {
    "duration": 30,
    "start_time": "2022-05-15T20:20:10.138Z"
   },
   {
    "duration": 25,
    "start_time": "2022-05-15T20:20:10.171Z"
   },
   {
    "duration": 7,
    "start_time": "2022-05-15T20:20:10.200Z"
   },
   {
    "duration": 22,
    "start_time": "2022-05-15T20:20:10.209Z"
   },
   {
    "duration": 19,
    "start_time": "2022-05-15T20:20:10.233Z"
   },
   {
    "duration": 31,
    "start_time": "2022-05-15T20:20:10.255Z"
   },
   {
    "duration": 6,
    "start_time": "2022-05-15T20:20:10.288Z"
   },
   {
    "duration": 9,
    "start_time": "2022-05-15T20:20:10.295Z"
   },
   {
    "duration": 9,
    "start_time": "2022-05-15T20:20:10.306Z"
   },
   {
    "duration": 11,
    "start_time": "2022-05-15T20:20:10.317Z"
   },
   {
    "duration": 8,
    "start_time": "2022-05-15T20:20:10.330Z"
   },
   {
    "duration": 47,
    "start_time": "2022-05-15T20:20:10.340Z"
   },
   {
    "duration": 23,
    "start_time": "2022-05-15T20:20:10.390Z"
   },
   {
    "duration": 19,
    "start_time": "2022-05-15T20:20:10.418Z"
   },
   {
    "duration": 29,
    "start_time": "2022-05-15T20:20:10.438Z"
   },
   {
    "duration": 36,
    "start_time": "2022-05-15T20:20:10.469Z"
   },
   {
    "duration": 15,
    "start_time": "2022-05-15T20:20:10.508Z"
   },
   {
    "duration": 9,
    "start_time": "2022-05-15T20:20:10.528Z"
   },
   {
    "duration": 12,
    "start_time": "2022-05-15T20:20:10.539Z"
   },
   {
    "duration": 37,
    "start_time": "2022-05-15T20:20:10.553Z"
   },
   {
    "duration": 8,
    "start_time": "2022-05-15T20:20:10.592Z"
   },
   {
    "duration": 16,
    "start_time": "2022-05-15T20:20:10.602Z"
   },
   {
    "duration": 10,
    "start_time": "2022-05-15T20:20:10.620Z"
   },
   {
    "duration": 74,
    "start_time": "2022-05-15T20:20:10.632Z"
   },
   {
    "duration": 78,
    "start_time": "2022-05-15T20:20:10.708Z"
   },
   {
    "duration": 11,
    "start_time": "2022-05-15T20:20:10.788Z"
   },
   {
    "duration": 18,
    "start_time": "2022-05-15T20:20:10.801Z"
   },
   {
    "duration": 10,
    "start_time": "2022-05-15T20:20:10.821Z"
   },
   {
    "duration": 7,
    "start_time": "2022-05-15T20:20:10.834Z"
   },
   {
    "duration": 41,
    "start_time": "2022-05-15T20:20:10.843Z"
   },
   {
    "duration": 14,
    "start_time": "2022-05-15T20:20:10.886Z"
   },
   {
    "duration": 13,
    "start_time": "2022-05-15T20:20:10.902Z"
   },
   {
    "duration": 16,
    "start_time": "2022-05-15T20:20:10.918Z"
   },
   {
    "duration": 11,
    "start_time": "2022-05-15T20:20:10.936Z"
   },
   {
    "duration": 34,
    "start_time": "2022-05-15T20:20:10.951Z"
   },
   {
    "duration": 14,
    "start_time": "2022-05-15T20:20:10.987Z"
   },
   {
    "duration": 181,
    "start_time": "2022-05-15T20:22:06.132Z"
   },
   {
    "duration": 17,
    "start_time": "2022-05-15T20:22:34.052Z"
   },
   {
    "duration": 5,
    "start_time": "2022-05-15T20:23:57.649Z"
   },
   {
    "duration": 7,
    "start_time": "2022-05-15T20:24:06.522Z"
   },
   {
    "duration": 6,
    "start_time": "2022-05-15T20:30:20.900Z"
   },
   {
    "duration": 159,
    "start_time": "2022-05-15T20:38:26.712Z"
   },
   {
    "duration": 1421,
    "start_time": "2022-05-15T21:07:13.329Z"
   },
   {
    "duration": 19,
    "start_time": "2022-05-15T21:07:14.758Z"
   },
   {
    "duration": 99,
    "start_time": "2022-05-15T21:07:14.779Z"
   },
   {
    "duration": 41,
    "start_time": "2022-05-15T21:07:14.880Z"
   },
   {
    "duration": 118,
    "start_time": "2022-05-15T21:07:14.924Z"
   },
   {
    "duration": 143,
    "start_time": "2022-05-15T21:07:15.044Z"
   },
   {
    "duration": 80,
    "start_time": "2022-05-15T21:07:15.190Z"
   },
   {
    "duration": 22,
    "start_time": "2022-05-15T21:07:15.272Z"
   },
   {
    "duration": 144,
    "start_time": "2022-05-15T21:07:15.296Z"
   },
   {
    "duration": 18,
    "start_time": "2022-05-15T21:07:15.443Z"
   },
   {
    "duration": 27,
    "start_time": "2022-05-15T21:07:15.463Z"
   },
   {
    "duration": 7,
    "start_time": "2022-05-15T21:07:15.491Z"
   },
   {
    "duration": 12,
    "start_time": "2022-05-15T21:07:15.499Z"
   },
   {
    "duration": 8,
    "start_time": "2022-05-15T21:07:15.514Z"
   },
   {
    "duration": 7,
    "start_time": "2022-05-15T21:07:15.524Z"
   },
   {
    "duration": 12,
    "start_time": "2022-05-15T21:07:15.533Z"
   },
   {
    "duration": 20,
    "start_time": "2022-05-15T21:07:15.548Z"
   },
   {
    "duration": 12,
    "start_time": "2022-05-15T21:07:15.570Z"
   },
   {
    "duration": 13,
    "start_time": "2022-05-15T21:07:15.584Z"
   },
   {
    "duration": 44,
    "start_time": "2022-05-15T21:07:15.599Z"
   },
   {
    "duration": 7,
    "start_time": "2022-05-15T21:07:15.645Z"
   },
   {
    "duration": 24,
    "start_time": "2022-05-15T21:07:15.654Z"
   },
   {
    "duration": 12,
    "start_time": "2022-05-15T21:07:15.748Z"
   },
   {
    "duration": 18,
    "start_time": "2022-05-15T21:07:15.762Z"
   },
   {
    "duration": 9,
    "start_time": "2022-05-15T21:07:15.783Z"
   },
   {
    "duration": 6,
    "start_time": "2022-05-15T21:07:15.794Z"
   },
   {
    "duration": 1128,
    "start_time": "2022-05-16T04:46:37.021Z"
   },
   {
    "duration": 16,
    "start_time": "2022-05-16T04:46:38.151Z"
   },
   {
    "duration": 18,
    "start_time": "2022-05-16T04:46:38.169Z"
   },
   {
    "duration": 10,
    "start_time": "2022-05-16T04:46:38.189Z"
   },
   {
    "duration": 5,
    "start_time": "2022-05-16T04:46:38.201Z"
   },
   {
    "duration": 13,
    "start_time": "2022-05-16T04:46:38.208Z"
   },
   {
    "duration": 25,
    "start_time": "2022-05-16T04:46:38.222Z"
   },
   {
    "duration": 27,
    "start_time": "2022-05-16T04:46:38.249Z"
   },
   {
    "duration": 11,
    "start_time": "2022-05-16T04:46:38.277Z"
   },
   {
    "duration": 6,
    "start_time": "2022-05-16T04:46:38.291Z"
   },
   {
    "duration": 10,
    "start_time": "2022-05-16T04:46:38.299Z"
   },
   {
    "duration": 4,
    "start_time": "2022-05-16T04:46:38.311Z"
   },
   {
    "duration": 5,
    "start_time": "2022-05-16T04:46:38.317Z"
   },
   {
    "duration": 5,
    "start_time": "2022-05-16T04:46:38.323Z"
   },
   {
    "duration": 6,
    "start_time": "2022-05-16T04:46:38.330Z"
   },
   {
    "duration": 6,
    "start_time": "2022-05-16T04:46:38.338Z"
   },
   {
    "duration": 5,
    "start_time": "2022-05-16T04:46:38.345Z"
   },
   {
    "duration": 32,
    "start_time": "2022-05-16T04:46:38.351Z"
   },
   {
    "duration": 7,
    "start_time": "2022-05-16T04:46:38.385Z"
   },
   {
    "duration": 5,
    "start_time": "2022-05-16T04:46:38.394Z"
   },
   {
    "duration": 6,
    "start_time": "2022-05-16T04:46:38.401Z"
   },
   {
    "duration": 66,
    "start_time": "2022-05-16T04:46:38.408Z"
   },
   {
    "duration": 18,
    "start_time": "2022-05-16T04:46:38.477Z"
   },
   {
    "duration": 86,
    "start_time": "2022-05-16T04:46:38.497Z"
   },
   {
    "duration": 9,
    "start_time": "2022-05-16T04:46:38.585Z"
   },
   {
    "duration": 8,
    "start_time": "2022-05-16T04:46:38.596Z"
   },
   {
    "duration": 1171,
    "start_time": "2022-05-16T04:51:44.190Z"
   },
   {
    "duration": 16,
    "start_time": "2022-05-16T04:51:45.363Z"
   },
   {
    "duration": 18,
    "start_time": "2022-05-16T04:51:45.380Z"
   },
   {
    "duration": 11,
    "start_time": "2022-05-16T04:51:45.400Z"
   },
   {
    "duration": 7,
    "start_time": "2022-05-16T04:51:45.413Z"
   },
   {
    "duration": 10,
    "start_time": "2022-05-16T04:51:45.422Z"
   },
   {
    "duration": 59,
    "start_time": "2022-05-16T04:51:45.434Z"
   },
   {
    "duration": 4,
    "start_time": "2022-05-16T04:51:45.495Z"
   },
   {
    "duration": 6,
    "start_time": "2022-05-16T04:51:45.501Z"
   },
   {
    "duration": 7,
    "start_time": "2022-05-16T04:51:45.508Z"
   },
   {
    "duration": 8,
    "start_time": "2022-05-16T04:51:45.517Z"
   },
   {
    "duration": 5,
    "start_time": "2022-05-16T04:51:45.526Z"
   },
   {
    "duration": 10,
    "start_time": "2022-05-16T04:51:45.532Z"
   },
   {
    "duration": 6,
    "start_time": "2022-05-16T04:51:45.544Z"
   },
   {
    "duration": 21,
    "start_time": "2022-05-16T04:51:45.552Z"
   },
   {
    "duration": 18,
    "start_time": "2022-05-16T04:51:45.575Z"
   },
   {
    "duration": 8,
    "start_time": "2022-05-16T04:51:45.595Z"
   },
   {
    "duration": 5,
    "start_time": "2022-05-16T04:51:45.605Z"
   },
   {
    "duration": 7,
    "start_time": "2022-05-16T04:51:45.612Z"
   },
   {
    "duration": 57,
    "start_time": "2022-05-16T04:51:45.621Z"
   },
   {
    "duration": 6,
    "start_time": "2022-05-16T04:51:45.680Z"
   },
   {
    "duration": 8,
    "start_time": "2022-05-16T04:51:45.689Z"
   },
   {
    "duration": 76,
    "start_time": "2022-05-16T04:51:45.699Z"
   },
   {
    "duration": 18,
    "start_time": "2022-05-16T04:51:45.777Z"
   },
   {
    "duration": 7,
    "start_time": "2022-05-16T04:51:45.797Z"
   },
   {
    "duration": 5,
    "start_time": "2022-05-16T04:51:45.805Z"
   },
   {
    "duration": 1227,
    "start_time": "2022-05-16T06:06:48.871Z"
   },
   {
    "duration": 19,
    "start_time": "2022-05-16T06:06:50.100Z"
   },
   {
    "duration": 17,
    "start_time": "2022-05-16T06:06:50.121Z"
   },
   {
    "duration": 12,
    "start_time": "2022-05-16T06:06:50.141Z"
   },
   {
    "duration": 10,
    "start_time": "2022-05-16T06:06:50.155Z"
   },
   {
    "duration": 11,
    "start_time": "2022-05-16T06:06:50.167Z"
   },
   {
    "duration": 23,
    "start_time": "2022-05-16T06:06:50.180Z"
   },
   {
    "duration": 30,
    "start_time": "2022-05-16T06:06:50.205Z"
   },
   {
    "duration": 6,
    "start_time": "2022-05-16T06:06:50.237Z"
   },
   {
    "duration": 9,
    "start_time": "2022-05-16T06:06:50.247Z"
   },
   {
    "duration": 14,
    "start_time": "2022-05-16T06:06:50.258Z"
   },
   {
    "duration": 7,
    "start_time": "2022-05-16T06:06:50.274Z"
   },
   {
    "duration": 6,
    "start_time": "2022-05-16T06:06:50.283Z"
   },
   {
    "duration": 6,
    "start_time": "2022-05-16T06:06:50.290Z"
   },
   {
    "duration": 11,
    "start_time": "2022-05-16T06:06:50.298Z"
   },
   {
    "duration": 27,
    "start_time": "2022-05-16T06:06:50.311Z"
   },
   {
    "duration": 6,
    "start_time": "2022-05-16T06:06:50.340Z"
   },
   {
    "duration": 9,
    "start_time": "2022-05-16T06:06:50.347Z"
   },
   {
    "duration": 7,
    "start_time": "2022-05-16T06:06:50.358Z"
   },
   {
    "duration": 67,
    "start_time": "2022-05-16T06:06:50.367Z"
   },
   {
    "duration": 7,
    "start_time": "2022-05-16T06:06:50.435Z"
   },
   {
    "duration": 5,
    "start_time": "2022-05-16T06:06:50.444Z"
   },
   {
    "duration": 89,
    "start_time": "2022-05-16T06:06:50.451Z"
   },
   {
    "duration": 10,
    "start_time": "2022-05-16T06:06:50.542Z"
   },
   {
    "duration": 12,
    "start_time": "2022-05-16T06:06:50.553Z"
   },
   {
    "duration": 8,
    "start_time": "2022-05-16T06:06:50.566Z"
   },
   {
    "duration": 1246,
    "start_time": "2022-05-16T06:15:35.796Z"
   },
   {
    "duration": 28,
    "start_time": "2022-05-16T06:15:37.044Z"
   },
   {
    "duration": 19,
    "start_time": "2022-05-16T06:15:37.074Z"
   },
   {
    "duration": 16,
    "start_time": "2022-05-16T06:15:37.096Z"
   },
   {
    "duration": 13,
    "start_time": "2022-05-16T06:15:37.114Z"
   },
   {
    "duration": 25,
    "start_time": "2022-05-16T06:15:37.129Z"
   },
   {
    "duration": 23,
    "start_time": "2022-05-16T06:15:37.157Z"
   },
   {
    "duration": 6,
    "start_time": "2022-05-16T06:15:37.182Z"
   },
   {
    "duration": 4,
    "start_time": "2022-05-16T06:15:37.190Z"
   },
   {
    "duration": 6,
    "start_time": "2022-05-16T06:15:37.198Z"
   },
   {
    "duration": 33,
    "start_time": "2022-05-16T06:15:37.206Z"
   },
   {
    "duration": 4,
    "start_time": "2022-05-16T06:15:37.242Z"
   },
   {
    "duration": 12,
    "start_time": "2022-05-16T06:15:37.248Z"
   },
   {
    "duration": 8,
    "start_time": "2022-05-16T06:15:37.262Z"
   },
   {
    "duration": 8,
    "start_time": "2022-05-16T06:15:37.271Z"
   },
   {
    "duration": 8,
    "start_time": "2022-05-16T06:15:37.281Z"
   },
   {
    "duration": 4,
    "start_time": "2022-05-16T06:15:37.291Z"
   },
   {
    "duration": 5,
    "start_time": "2022-05-16T06:15:37.297Z"
   },
   {
    "duration": 32,
    "start_time": "2022-05-16T06:15:37.304Z"
   },
   {
    "duration": 8,
    "start_time": "2022-05-16T06:15:37.338Z"
   },
   {
    "duration": 89,
    "start_time": "2022-05-16T06:15:37.348Z"
   },
   {
    "duration": 3,
    "start_time": "2022-05-16T06:15:37.439Z"
   },
   {
    "duration": 89,
    "start_time": "2022-05-16T06:15:37.445Z"
   },
   {
    "duration": 9,
    "start_time": "2022-05-16T06:15:37.536Z"
   },
   {
    "duration": 8,
    "start_time": "2022-05-16T06:15:37.546Z"
   },
   {
    "duration": 6,
    "start_time": "2022-05-16T06:15:37.556Z"
   }
  ],
  "kernelspec": {
   "display_name": "Python 3 (ipykernel)",
   "language": "python",
   "name": "python3"
  },
  "language_info": {
   "codemirror_mode": {
    "name": "ipython",
    "version": 3
   },
   "file_extension": ".py",
   "mimetype": "text/x-python",
   "name": "python",
   "nbconvert_exporter": "python",
   "pygments_lexer": "ipython3",
   "version": "3.9.7"
  },
  "toc": {
   "base_numbering": 1,
   "nav_menu": {},
   "number_sections": true,
   "sideBar": true,
   "skip_h1_title": true,
   "title_cell": "Содержание",
   "title_sidebar": "Contents",
   "toc_cell": true,
   "toc_position": {},
   "toc_section_display": true,
   "toc_window_display": false
  }
 },
 "nbformat": 4,
 "nbformat_minor": 2
}
