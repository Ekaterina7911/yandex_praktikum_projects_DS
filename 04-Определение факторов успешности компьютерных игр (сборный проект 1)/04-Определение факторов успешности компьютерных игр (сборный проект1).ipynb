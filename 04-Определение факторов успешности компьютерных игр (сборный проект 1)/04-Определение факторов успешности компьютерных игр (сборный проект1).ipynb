{
 "cells": [
  {
   "cell_type": "markdown",
   "metadata": {},
   "source": [
    "# Определение факторов успешности компьютерных игр"
   ]
  },
  {
   "cell_type": "markdown",
   "metadata": {},
   "source": [
    "**Описание проекта**"
   ]
  },
  {
   "cell_type": "markdown",
   "metadata": {},
   "source": [
    "Я сотрудник интернет-магазина \"Стримчик\", который продает по всему миру компьютерные игры. Из открытых источников доступны исторические данные о продажах игр, оценки пользователей и экспертов, жанры и платформы. В процессе выполнения проекта, нужно выявить закономерности определяющие успешность игр. Это позволит сделать ставку на потенциально популярный продукт и спланировать рекламные кампании на следующий год."
   ]
  },
  {
   "cell_type": "markdown",
   "metadata": {},
   "source": [
    "В нашем распоряжении данные до 2016г. Нам необходимо спланировать кампанию на 2017г."
   ]
  },
  {
   "cell_type": "markdown",
   "metadata": {},
   "source": [
    "## Изучение данных из файла"
   ]
  },
  {
   "cell_type": "markdown",
   "metadata": {},
   "source": [
    "В самом начале импортируем все необходимые библиотеки."
   ]
  },
  {
   "cell_type": "code",
   "execution_count": 1,
   "metadata": {},
   "outputs": [],
   "source": [
    "import pandas as pd\n",
    "import numpy as np\n",
    "import matplotlib.pyplot as plt\n",
    "from scipy import stats as st"
   ]
  },
  {
   "cell_type": "code",
   "execution_count": 2,
   "metadata": {},
   "outputs": [],
   "source": [
    "games = pd.read_csv('/datasets/games.csv') #чтение файла"
   ]
  },
  {
   "cell_type": "code",
   "execution_count": 3,
   "metadata": {},
   "outputs": [
    {
     "data": {
      "text/html": [
       "<div>\n",
       "<style scoped>\n",
       "    .dataframe tbody tr th:only-of-type {\n",
       "        vertical-align: middle;\n",
       "    }\n",
       "\n",
       "    .dataframe tbody tr th {\n",
       "        vertical-align: top;\n",
       "    }\n",
       "\n",
       "    .dataframe thead th {\n",
       "        text-align: right;\n",
       "    }\n",
       "</style>\n",
       "<table border=\"1\" class=\"dataframe\">\n",
       "  <thead>\n",
       "    <tr style=\"text-align: right;\">\n",
       "      <th></th>\n",
       "      <th>Name</th>\n",
       "      <th>Platform</th>\n",
       "      <th>Year_of_Release</th>\n",
       "      <th>Genre</th>\n",
       "      <th>NA_sales</th>\n",
       "      <th>EU_sales</th>\n",
       "      <th>JP_sales</th>\n",
       "      <th>Other_sales</th>\n",
       "      <th>Critic_Score</th>\n",
       "      <th>User_Score</th>\n",
       "      <th>Rating</th>\n",
       "    </tr>\n",
       "  </thead>\n",
       "  <tbody>\n",
       "    <tr>\n",
       "      <td>0</td>\n",
       "      <td>Wii Sports</td>\n",
       "      <td>Wii</td>\n",
       "      <td>2006.0</td>\n",
       "      <td>Sports</td>\n",
       "      <td>41.36</td>\n",
       "      <td>28.96</td>\n",
       "      <td>3.77</td>\n",
       "      <td>8.45</td>\n",
       "      <td>76.0</td>\n",
       "      <td>8</td>\n",
       "      <td>E</td>\n",
       "    </tr>\n",
       "    <tr>\n",
       "      <td>1</td>\n",
       "      <td>Super Mario Bros.</td>\n",
       "      <td>NES</td>\n",
       "      <td>1985.0</td>\n",
       "      <td>Platform</td>\n",
       "      <td>29.08</td>\n",
       "      <td>3.58</td>\n",
       "      <td>6.81</td>\n",
       "      <td>0.77</td>\n",
       "      <td>NaN</td>\n",
       "      <td>NaN</td>\n",
       "      <td>NaN</td>\n",
       "    </tr>\n",
       "    <tr>\n",
       "      <td>2</td>\n",
       "      <td>Mario Kart Wii</td>\n",
       "      <td>Wii</td>\n",
       "      <td>2008.0</td>\n",
       "      <td>Racing</td>\n",
       "      <td>15.68</td>\n",
       "      <td>12.76</td>\n",
       "      <td>3.79</td>\n",
       "      <td>3.29</td>\n",
       "      <td>82.0</td>\n",
       "      <td>8.3</td>\n",
       "      <td>E</td>\n",
       "    </tr>\n",
       "    <tr>\n",
       "      <td>3</td>\n",
       "      <td>Wii Sports Resort</td>\n",
       "      <td>Wii</td>\n",
       "      <td>2009.0</td>\n",
       "      <td>Sports</td>\n",
       "      <td>15.61</td>\n",
       "      <td>10.93</td>\n",
       "      <td>3.28</td>\n",
       "      <td>2.95</td>\n",
       "      <td>80.0</td>\n",
       "      <td>8</td>\n",
       "      <td>E</td>\n",
       "    </tr>\n",
       "    <tr>\n",
       "      <td>4</td>\n",
       "      <td>Pokemon Red/Pokemon Blue</td>\n",
       "      <td>GB</td>\n",
       "      <td>1996.0</td>\n",
       "      <td>Role-Playing</td>\n",
       "      <td>11.27</td>\n",
       "      <td>8.89</td>\n",
       "      <td>10.22</td>\n",
       "      <td>1.00</td>\n",
       "      <td>NaN</td>\n",
       "      <td>NaN</td>\n",
       "      <td>NaN</td>\n",
       "    </tr>\n",
       "    <tr>\n",
       "      <td>5</td>\n",
       "      <td>Tetris</td>\n",
       "      <td>GB</td>\n",
       "      <td>1989.0</td>\n",
       "      <td>Puzzle</td>\n",
       "      <td>23.20</td>\n",
       "      <td>2.26</td>\n",
       "      <td>4.22</td>\n",
       "      <td>0.58</td>\n",
       "      <td>NaN</td>\n",
       "      <td>NaN</td>\n",
       "      <td>NaN</td>\n",
       "    </tr>\n",
       "    <tr>\n",
       "      <td>6</td>\n",
       "      <td>New Super Mario Bros.</td>\n",
       "      <td>DS</td>\n",
       "      <td>2006.0</td>\n",
       "      <td>Platform</td>\n",
       "      <td>11.28</td>\n",
       "      <td>9.14</td>\n",
       "      <td>6.50</td>\n",
       "      <td>2.88</td>\n",
       "      <td>89.0</td>\n",
       "      <td>8.5</td>\n",
       "      <td>E</td>\n",
       "    </tr>\n",
       "    <tr>\n",
       "      <td>7</td>\n",
       "      <td>Wii Play</td>\n",
       "      <td>Wii</td>\n",
       "      <td>2006.0</td>\n",
       "      <td>Misc</td>\n",
       "      <td>13.96</td>\n",
       "      <td>9.18</td>\n",
       "      <td>2.93</td>\n",
       "      <td>2.84</td>\n",
       "      <td>58.0</td>\n",
       "      <td>6.6</td>\n",
       "      <td>E</td>\n",
       "    </tr>\n",
       "    <tr>\n",
       "      <td>8</td>\n",
       "      <td>New Super Mario Bros. Wii</td>\n",
       "      <td>Wii</td>\n",
       "      <td>2009.0</td>\n",
       "      <td>Platform</td>\n",
       "      <td>14.44</td>\n",
       "      <td>6.94</td>\n",
       "      <td>4.70</td>\n",
       "      <td>2.24</td>\n",
       "      <td>87.0</td>\n",
       "      <td>8.4</td>\n",
       "      <td>E</td>\n",
       "    </tr>\n",
       "    <tr>\n",
       "      <td>9</td>\n",
       "      <td>Duck Hunt</td>\n",
       "      <td>NES</td>\n",
       "      <td>1984.0</td>\n",
       "      <td>Shooter</td>\n",
       "      <td>26.93</td>\n",
       "      <td>0.63</td>\n",
       "      <td>0.28</td>\n",
       "      <td>0.47</td>\n",
       "      <td>NaN</td>\n",
       "      <td>NaN</td>\n",
       "      <td>NaN</td>\n",
       "    </tr>\n",
       "  </tbody>\n",
       "</table>\n",
       "</div>"
      ],
      "text/plain": [
       "                        Name Platform  Year_of_Release         Genre  \\\n",
       "0                 Wii Sports      Wii           2006.0        Sports   \n",
       "1          Super Mario Bros.      NES           1985.0      Platform   \n",
       "2             Mario Kart Wii      Wii           2008.0        Racing   \n",
       "3          Wii Sports Resort      Wii           2009.0        Sports   \n",
       "4   Pokemon Red/Pokemon Blue       GB           1996.0  Role-Playing   \n",
       "5                     Tetris       GB           1989.0        Puzzle   \n",
       "6      New Super Mario Bros.       DS           2006.0      Platform   \n",
       "7                   Wii Play      Wii           2006.0          Misc   \n",
       "8  New Super Mario Bros. Wii      Wii           2009.0      Platform   \n",
       "9                  Duck Hunt      NES           1984.0       Shooter   \n",
       "\n",
       "   NA_sales  EU_sales  JP_sales  Other_sales  Critic_Score User_Score Rating  \n",
       "0     41.36     28.96      3.77         8.45          76.0          8      E  \n",
       "1     29.08      3.58      6.81         0.77           NaN        NaN    NaN  \n",
       "2     15.68     12.76      3.79         3.29          82.0        8.3      E  \n",
       "3     15.61     10.93      3.28         2.95          80.0          8      E  \n",
       "4     11.27      8.89     10.22         1.00           NaN        NaN    NaN  \n",
       "5     23.20      2.26      4.22         0.58           NaN        NaN    NaN  \n",
       "6     11.28      9.14      6.50         2.88          89.0        8.5      E  \n",
       "7     13.96      9.18      2.93         2.84          58.0        6.6      E  \n",
       "8     14.44      6.94      4.70         2.24          87.0        8.4      E  \n",
       "9     26.93      0.63      0.28         0.47           NaN        NaN    NaN  "
      ]
     },
     "metadata": {},
     "output_type": "display_data"
    }
   ],
   "source": [
    "display(games.head(10)) # просмотр первых 10 строк"
   ]
  },
  {
   "cell_type": "markdown",
   "metadata": {},
   "source": [
    "Уже по первым 10 строкам видно, что в данных пропущены значения. В наименованиях столбцов использованы разные регистры. Посмотрим общую информацию о файле:"
   ]
  },
  {
   "cell_type": "code",
   "execution_count": 4,
   "metadata": {},
   "outputs": [
    {
     "name": "stdout",
     "output_type": "stream",
     "text": [
      "<class 'pandas.core.frame.DataFrame'>\n",
      "RangeIndex: 16715 entries, 0 to 16714\n",
      "Data columns (total 11 columns):\n",
      "Name               16713 non-null object\n",
      "Platform           16715 non-null object\n",
      "Year_of_Release    16446 non-null float64\n",
      "Genre              16713 non-null object\n",
      "NA_sales           16715 non-null float64\n",
      "EU_sales           16715 non-null float64\n",
      "JP_sales           16715 non-null float64\n",
      "Other_sales        16715 non-null float64\n",
      "Critic_Score       8137 non-null float64\n",
      "User_Score         10014 non-null object\n",
      "Rating             9949 non-null object\n",
      "dtypes: float64(6), object(5)\n",
      "memory usage: 1.4+ MB\n"
     ]
    }
   ],
   "source": [
    "games.info() # просмотр информации о файле"
   ]
  },
  {
   "cell_type": "markdown",
   "metadata": {},
   "source": [
    "В файле 11 столбцов. Тип данных в 5 столбцах - object, в 6-ти - float64"
   ]
  },
  {
   "cell_type": "markdown",
   "metadata": {},
   "source": [
    "В соответствии с документацией в файле есть следующие данные:\n",
    "- Name - название игры\n",
    "- Platform - платформа\n",
    "- Year_of_Release - год выпуска\n",
    "- Genre- жанр игры\n",
    "- NA_sales - продажи в Северной Америке (млн.проданных копий)\n",
    "- EU_sales - продажи в Европе (млн. проданных копий)\n",
    "- JP_sales - продажи в Японии (млн.проданных копий)\n",
    "- Other_sales - продажи в других странах (млн.проданных копий)\n",
    "- Critic_Score -оценки критиков (максимум 100)\n",
    "- User_Score - оценки пользователей (максимум 10)\n",
    "- Rating - рейтинг от организации ESRB. Эта ассоциация определяет рейтинг компьютерных игр и присваивает им подходящую возрастную категорию    "
   ]
  },
  {
   "cell_type": "markdown",
   "metadata": {},
   "source": [
    "Предварительно можно сказать, что в столбце с годом выпуска игры (Year_of_Release) нужно заменить тип данных на числовой, а в столбце с оценками пользователей заменить тип на вещественный. Также видно, что в данных есть пропуски, более подробно эту информацию посмотрим с помощью метода isna().sum():"
   ]
  },
  {
   "cell_type": "code",
   "execution_count": 5,
   "metadata": {},
   "outputs": [
    {
     "data": {
      "text/plain": [
       "Name                  2\n",
       "Platform              0\n",
       "Year_of_Release     269\n",
       "Genre                 2\n",
       "NA_sales              0\n",
       "EU_sales              0\n",
       "JP_sales              0\n",
       "Other_sales           0\n",
       "Critic_Score       8578\n",
       "User_Score         6701\n",
       "Rating             6766\n",
       "dtype: int64"
      ]
     },
     "execution_count": 5,
     "metadata": {},
     "output_type": "execute_result"
    }
   ],
   "source": [
    "games.isna().sum()"
   ]
  },
  {
   "cell_type": "markdown",
   "metadata": {},
   "source": [
    "Пропуски в названии игры и жанре возможно связаны, с тем что наименование было написано в таком формате, который не смогли перекодировать латиницей. Пропуски в оценках, скорее всего из-за их непосредственного отсутствия: критики и пользователи могли не оценивать эти игры, рейтинг ESRB характерен для США и Канады."
   ]
  },
  {
   "cell_type": "markdown",
   "metadata": {},
   "source": [
    "Проверим есть ли в файле полные дубликаты медодом duplicated().sum()"
   ]
  },
  {
   "cell_type": "code",
   "execution_count": 6,
   "metadata": {},
   "outputs": [
    {
     "data": {
      "text/plain": [
       "0"
      ]
     },
     "execution_count": 6,
     "metadata": {},
     "output_type": "execute_result"
    }
   ],
   "source": [
    "games.duplicated().sum() # проверка на наличие дубликатов и подсчет их количества"
   ]
  },
  {
   "cell_type": "markdown",
   "metadata": {},
   "source": [
    "Полностью дублирующихся строк нет. Но возможно есть дублирующиеся названия игр."
   ]
  },
  {
   "cell_type": "code",
   "execution_count": 7,
   "metadata": {},
   "outputs": [
    {
     "data": {
      "text/plain": [
       "Need for Speed: Most Wanted         12\n",
       "Madden NFL 07                        9\n",
       "FIFA 14                              9\n",
       "LEGO Marvel Super Heroes             9\n",
       "Ratatouille                          9\n",
       "                                    ..\n",
       "Romancing SaGa 2                     1\n",
       "Paper Mario: Color Splash            1\n",
       "L.A. Noire: The Complete Edition     1\n",
       "Power Pro Kun Pocket 10              1\n",
       "Fate/Tiger Colosseum Upper           1\n",
       "Name: Name, Length: 11559, dtype: int64"
      ]
     },
     "execution_count": 7,
     "metadata": {},
     "output_type": "execute_result"
    }
   ],
   "source": [
    "games['Name'].value_counts()"
   ]
  },
  {
   "cell_type": "markdown",
   "metadata": {},
   "source": [
    "Дублирующиеся названия есть. На примере Need for Speed: Most Wanted, посмотрим, что это за дубли:"
   ]
  },
  {
   "cell_type": "code",
   "execution_count": 8,
   "metadata": {},
   "outputs": [
    {
     "data": {
      "text/html": [
       "<div>\n",
       "<style scoped>\n",
       "    .dataframe tbody tr th:only-of-type {\n",
       "        vertical-align: middle;\n",
       "    }\n",
       "\n",
       "    .dataframe tbody tr th {\n",
       "        vertical-align: top;\n",
       "    }\n",
       "\n",
       "    .dataframe thead th {\n",
       "        text-align: right;\n",
       "    }\n",
       "</style>\n",
       "<table border=\"1\" class=\"dataframe\">\n",
       "  <thead>\n",
       "    <tr style=\"text-align: right;\">\n",
       "      <th></th>\n",
       "      <th>Name</th>\n",
       "      <th>Platform</th>\n",
       "      <th>Year_of_Release</th>\n",
       "      <th>Genre</th>\n",
       "      <th>NA_sales</th>\n",
       "      <th>EU_sales</th>\n",
       "      <th>JP_sales</th>\n",
       "      <th>Other_sales</th>\n",
       "      <th>Critic_Score</th>\n",
       "      <th>User_Score</th>\n",
       "      <th>Rating</th>\n",
       "    </tr>\n",
       "  </thead>\n",
       "  <tbody>\n",
       "    <tr>\n",
       "      <td>253</td>\n",
       "      <td>Need for Speed: Most Wanted</td>\n",
       "      <td>PS2</td>\n",
       "      <td>2005.0</td>\n",
       "      <td>Racing</td>\n",
       "      <td>2.03</td>\n",
       "      <td>1.79</td>\n",
       "      <td>0.08</td>\n",
       "      <td>0.47</td>\n",
       "      <td>82.0</td>\n",
       "      <td>9.1</td>\n",
       "      <td>T</td>\n",
       "    </tr>\n",
       "    <tr>\n",
       "      <td>523</td>\n",
       "      <td>Need for Speed: Most Wanted</td>\n",
       "      <td>PS3</td>\n",
       "      <td>2012.0</td>\n",
       "      <td>Racing</td>\n",
       "      <td>0.71</td>\n",
       "      <td>1.46</td>\n",
       "      <td>0.06</td>\n",
       "      <td>0.58</td>\n",
       "      <td>NaN</td>\n",
       "      <td>NaN</td>\n",
       "      <td>NaN</td>\n",
       "    </tr>\n",
       "    <tr>\n",
       "      <td>1190</td>\n",
       "      <td>Need for Speed: Most Wanted</td>\n",
       "      <td>X360</td>\n",
       "      <td>2012.0</td>\n",
       "      <td>Racing</td>\n",
       "      <td>0.62</td>\n",
       "      <td>0.78</td>\n",
       "      <td>0.01</td>\n",
       "      <td>0.15</td>\n",
       "      <td>83.0</td>\n",
       "      <td>8.5</td>\n",
       "      <td>T</td>\n",
       "    </tr>\n",
       "    <tr>\n",
       "      <td>1591</td>\n",
       "      <td>Need for Speed: Most Wanted</td>\n",
       "      <td>X360</td>\n",
       "      <td>2005.0</td>\n",
       "      <td>Racing</td>\n",
       "      <td>1.00</td>\n",
       "      <td>0.13</td>\n",
       "      <td>0.02</td>\n",
       "      <td>0.10</td>\n",
       "      <td>83.0</td>\n",
       "      <td>8.5</td>\n",
       "      <td>T</td>\n",
       "    </tr>\n",
       "    <tr>\n",
       "      <td>1998</td>\n",
       "      <td>Need for Speed: Most Wanted</td>\n",
       "      <td>XB</td>\n",
       "      <td>2005.0</td>\n",
       "      <td>Racing</td>\n",
       "      <td>0.53</td>\n",
       "      <td>0.46</td>\n",
       "      <td>0.00</td>\n",
       "      <td>0.05</td>\n",
       "      <td>83.0</td>\n",
       "      <td>8.8</td>\n",
       "      <td>T</td>\n",
       "    </tr>\n",
       "    <tr>\n",
       "      <td>2048</td>\n",
       "      <td>Need for Speed: Most Wanted</td>\n",
       "      <td>PSV</td>\n",
       "      <td>2012.0</td>\n",
       "      <td>Racing</td>\n",
       "      <td>0.33</td>\n",
       "      <td>0.45</td>\n",
       "      <td>0.01</td>\n",
       "      <td>0.22</td>\n",
       "      <td>NaN</td>\n",
       "      <td>NaN</td>\n",
       "      <td>NaN</td>\n",
       "    </tr>\n",
       "    <tr>\n",
       "      <td>3581</td>\n",
       "      <td>Need for Speed: Most Wanted</td>\n",
       "      <td>GC</td>\n",
       "      <td>2005.0</td>\n",
       "      <td>Racing</td>\n",
       "      <td>0.43</td>\n",
       "      <td>0.11</td>\n",
       "      <td>0.00</td>\n",
       "      <td>0.02</td>\n",
       "      <td>80.0</td>\n",
       "      <td>9.1</td>\n",
       "      <td>T</td>\n",
       "    </tr>\n",
       "    <tr>\n",
       "      <td>5972</td>\n",
       "      <td>Need for Speed: Most Wanted</td>\n",
       "      <td>PC</td>\n",
       "      <td>2005.0</td>\n",
       "      <td>Racing</td>\n",
       "      <td>0.02</td>\n",
       "      <td>0.23</td>\n",
       "      <td>0.00</td>\n",
       "      <td>0.04</td>\n",
       "      <td>82.0</td>\n",
       "      <td>8.5</td>\n",
       "      <td>T</td>\n",
       "    </tr>\n",
       "    <tr>\n",
       "      <td>6273</td>\n",
       "      <td>Need for Speed: Most Wanted</td>\n",
       "      <td>WiiU</td>\n",
       "      <td>2013.0</td>\n",
       "      <td>Racing</td>\n",
       "      <td>0.13</td>\n",
       "      <td>0.12</td>\n",
       "      <td>0.00</td>\n",
       "      <td>0.02</td>\n",
       "      <td>NaN</td>\n",
       "      <td>NaN</td>\n",
       "      <td>NaN</td>\n",
       "    </tr>\n",
       "    <tr>\n",
       "      <td>6410</td>\n",
       "      <td>Need for Speed: Most Wanted</td>\n",
       "      <td>DS</td>\n",
       "      <td>2005.0</td>\n",
       "      <td>Racing</td>\n",
       "      <td>0.24</td>\n",
       "      <td>0.01</td>\n",
       "      <td>0.00</td>\n",
       "      <td>0.02</td>\n",
       "      <td>45.0</td>\n",
       "      <td>6.1</td>\n",
       "      <td>E</td>\n",
       "    </tr>\n",
       "    <tr>\n",
       "      <td>6473</td>\n",
       "      <td>Need for Speed: Most Wanted</td>\n",
       "      <td>GBA</td>\n",
       "      <td>2005.0</td>\n",
       "      <td>Racing</td>\n",
       "      <td>0.19</td>\n",
       "      <td>0.07</td>\n",
       "      <td>0.00</td>\n",
       "      <td>0.00</td>\n",
       "      <td>NaN</td>\n",
       "      <td>8.3</td>\n",
       "      <td>E</td>\n",
       "    </tr>\n",
       "    <tr>\n",
       "      <td>11715</td>\n",
       "      <td>Need for Speed: Most Wanted</td>\n",
       "      <td>PC</td>\n",
       "      <td>2012.0</td>\n",
       "      <td>Racing</td>\n",
       "      <td>0.00</td>\n",
       "      <td>0.06</td>\n",
       "      <td>0.00</td>\n",
       "      <td>0.02</td>\n",
       "      <td>82.0</td>\n",
       "      <td>8.5</td>\n",
       "      <td>T</td>\n",
       "    </tr>\n",
       "  </tbody>\n",
       "</table>\n",
       "</div>"
      ],
      "text/plain": [
       "                              Name Platform  Year_of_Release   Genre  \\\n",
       "253    Need for Speed: Most Wanted      PS2           2005.0  Racing   \n",
       "523    Need for Speed: Most Wanted      PS3           2012.0  Racing   \n",
       "1190   Need for Speed: Most Wanted     X360           2012.0  Racing   \n",
       "1591   Need for Speed: Most Wanted     X360           2005.0  Racing   \n",
       "1998   Need for Speed: Most Wanted       XB           2005.0  Racing   \n",
       "2048   Need for Speed: Most Wanted      PSV           2012.0  Racing   \n",
       "3581   Need for Speed: Most Wanted       GC           2005.0  Racing   \n",
       "5972   Need for Speed: Most Wanted       PC           2005.0  Racing   \n",
       "6273   Need for Speed: Most Wanted     WiiU           2013.0  Racing   \n",
       "6410   Need for Speed: Most Wanted       DS           2005.0  Racing   \n",
       "6473   Need for Speed: Most Wanted      GBA           2005.0  Racing   \n",
       "11715  Need for Speed: Most Wanted       PC           2012.0  Racing   \n",
       "\n",
       "       NA_sales  EU_sales  JP_sales  Other_sales  Critic_Score User_Score  \\\n",
       "253        2.03      1.79      0.08         0.47          82.0        9.1   \n",
       "523        0.71      1.46      0.06         0.58           NaN        NaN   \n",
       "1190       0.62      0.78      0.01         0.15          83.0        8.5   \n",
       "1591       1.00      0.13      0.02         0.10          83.0        8.5   \n",
       "1998       0.53      0.46      0.00         0.05          83.0        8.8   \n",
       "2048       0.33      0.45      0.01         0.22           NaN        NaN   \n",
       "3581       0.43      0.11      0.00         0.02          80.0        9.1   \n",
       "5972       0.02      0.23      0.00         0.04          82.0        8.5   \n",
       "6273       0.13      0.12      0.00         0.02           NaN        NaN   \n",
       "6410       0.24      0.01      0.00         0.02          45.0        6.1   \n",
       "6473       0.19      0.07      0.00         0.00           NaN        8.3   \n",
       "11715      0.00      0.06      0.00         0.02          82.0        8.5   \n",
       "\n",
       "      Rating  \n",
       "253        T  \n",
       "523      NaN  \n",
       "1190       T  \n",
       "1591       T  \n",
       "1998       T  \n",
       "2048     NaN  \n",
       "3581       T  \n",
       "5972       T  \n",
       "6273     NaN  \n",
       "6410       E  \n",
       "6473       E  \n",
       "11715      T  "
      ]
     },
     "metadata": {},
     "output_type": "display_data"
    }
   ],
   "source": [
    "display(games.loc[games['Name'] == 'Need for Speed: Most Wanted'])"
   ]
  },
  {
   "cell_type": "markdown",
   "metadata": {},
   "source": [
    "Дублирующиеся названия связаны с тем, что игры выходили на разных платформах или в разные годы и соответственно такие дубли удалять нельзя."
   ]
  },
  {
   "cell_type": "markdown",
   "metadata": {},
   "source": [
    "**Вывод**\n"
   ]
  },
  {
   "cell_type": "markdown",
   "metadata": {},
   "source": [
    "Первый взгляд на данные выявил несколько проблем:\n",
    "- названия столбцов написано в разных регистрах. \n",
    "- есть пропуски в данных.\n",
    "- неподходящий тип данных в столбцах с годом выпуска игры и в столбце с оценками пользователей."
   ]
  },
  {
   "cell_type": "markdown",
   "metadata": {},
   "source": [
    "В следующем разделе мы постараемся исправить неточности в данных, заменим тип данных. А также посмотрим, не обнаружатся ли еще какие-нибудь \"артефакты\"."
   ]
  },
  {
   "cell_type": "markdown",
   "metadata": {},
   "source": [
    "## Предобработка данных"
   ]
  },
  {
   "cell_type": "markdown",
   "metadata": {},
   "source": [
    "### Приведение названий столбцов к нижнему регистру"
   ]
  },
  {
   "cell_type": "markdown",
   "metadata": {},
   "source": [
    "Для начала посмотрим список столбцов, а затем произведем замену методом rename()"
   ]
  },
  {
   "cell_type": "code",
   "execution_count": 9,
   "metadata": {},
   "outputs": [
    {
     "data": {
      "text/plain": [
       "Index(['Name', 'Platform', 'Year_of_Release', 'Genre', 'NA_sales', 'EU_sales',\n",
       "       'JP_sales', 'Other_sales', 'Critic_Score', 'User_Score', 'Rating'],\n",
       "      dtype='object')"
      ]
     },
     "execution_count": 9,
     "metadata": {},
     "output_type": "execute_result"
    }
   ],
   "source": [
    "games.columns # просмотр названий столбцов"
   ]
  },
  {
   "cell_type": "code",
   "execution_count": 10,
   "metadata": {},
   "outputs": [],
   "source": [
    "games = games.rename(columns = {'Name': 'name', 'Platform': 'platform', 'Year_of_Release': 'year_of_release', 'Genre': 'genre', 'NA_sales': 'na_sales', 'EU_sales': 'eu_sales',\n",
    "       'JP_sales': 'jp_sales', 'Other_sales': 'other_sales', 'Critic_Score': 'critic_score', 'User_Score': 'user_score', 'Rating': 'rating'}) # переименование столбцов"
   ]
  },
  {
   "cell_type": "code",
   "execution_count": 11,
   "metadata": {},
   "outputs": [
    {
     "data": {
      "text/plain": [
       "Index(['name', 'platform', 'year_of_release', 'genre', 'na_sales', 'eu_sales',\n",
       "       'jp_sales', 'other_sales', 'critic_score', 'user_score', 'rating'],\n",
       "      dtype='object')"
      ]
     },
     "execution_count": 11,
     "metadata": {},
     "output_type": "execute_result"
    }
   ],
   "source": [
    "games.columns # просмотр названий столбцов"
   ]
  },
  {
   "cell_type": "markdown",
   "metadata": {},
   "source": [
    "Замена названий прошла успешно."
   ]
  },
  {
   "cell_type": "markdown",
   "metadata": {},
   "source": [
    "### Обработка пропусков и замена типов данных"
   ]
  },
  {
   "cell_type": "markdown",
   "metadata": {},
   "source": [
    "В данных есть две строчки, где нет названия игры и указания жанра. Такие строки можно спокойно удалить, потому что без названия и жанра, вся остальная информация не имеет смысла."
   ]
  },
  {
   "cell_type": "markdown",
   "metadata": {},
   "source": [
    "Строки с пропущенным значением года выпуска составляют 1,6% от общего количества. И поскольку в дальнейшем нам нужно строить анализ вокруг дат, то пропуски будут нам мешать. Считаю необходимым удалить и эти строки тоже."
   ]
  },
  {
   "cell_type": "code",
   "execution_count": 12,
   "metadata": {},
   "outputs": [],
   "source": [
    "games = games.dropna(subset =['name', 'year_of_release']) # удаление строк, где есть пропуски в указазных столбцах"
   ]
  },
  {
   "cell_type": "markdown",
   "metadata": {},
   "source": [
    "Далее изменим тип данных в столбце с годом, на целочисленный - с таким форматом будет удобнее работать. Поскольку нам не нужно будет проводить никаких операций с датами, то переводить значение года в формат datetime64 мы не будем."
   ]
  },
  {
   "cell_type": "code",
   "execution_count": 13,
   "metadata": {},
   "outputs": [],
   "source": [
    "games['year_of_release'] = games['year_of_release'].astype('int') # замена объекта float64 на целочисленное значение"
   ]
  },
  {
   "cell_type": "markdown",
   "metadata": {},
   "source": [
    "Поскольку в столбце с оценками пользователей изначально стоит тип данных object, то сначала посмотрим уникальные значения, чтобы убедится, что нас не ждут какие-нибудь неожиданности, которые помешают заменить тип данных."
   ]
  },
  {
   "cell_type": "code",
   "execution_count": 14,
   "metadata": {},
   "outputs": [
    {
     "data": {
      "text/plain": [
       "array(['0', '0.2', '0.3', '0.5', '0.6', '0.7', '0.9', '1', '1.1', '1.2',\n",
       "       '1.3', '1.4', '1.5', '1.6', '1.7', '1.8', '1.9', '2', '2.1', '2.2',\n",
       "       '2.3', '2.4', '2.5', '2.6', '2.7', '2.8', '2.9', '3', '3.1', '3.2',\n",
       "       '3.3', '3.4', '3.5', '3.6', '3.7', '3.8', '3.9', '4', '4.1', '4.2',\n",
       "       '4.3', '4.4', '4.5', '4.6', '4.7', '4.8', '4.9', '5', '5.1', '5.2',\n",
       "       '5.3', '5.4', '5.5', '5.6', '5.7', '5.8', '5.9', '6', '6.1', '6.2',\n",
       "       '6.3', '6.4', '6.5', '6.6', '6.7', '6.8', '6.9', '7', '7.1', '7.2',\n",
       "       '7.3', '7.4', '7.5', '7.6', '7.7', '7.8', '7.9', '8', '8.1', '8.2',\n",
       "       '8.3', '8.4', '8.5', '8.6', '8.7', '8.8', '8.9', '9', '9.1', '9.2',\n",
       "       '9.3', '9.4', '9.5', '9.6', '9.7', 'tbd', nan], dtype=object)"
      ]
     },
     "execution_count": 14,
     "metadata": {},
     "output_type": "execute_result"
    }
   ],
   "source": [
    "games['user_score'].sort_values().unique() # просмотр уникальных значений"
   ]
  },
  {
   "cell_type": "markdown",
   "metadata": {},
   "source": [
    "В данных обнаружены tbd и nan. NaN - пропуск данных, который возник скорее всего, потому что пользователи еще не оценивали игру. Их можно заменить на 0. На медиану или среднее заменять не стоит, т.к. это не корректно, потому что оценки - это понятие субъективное и сложно просчитываемое. Даже две части одной игры или одна игра, но на разных платформах могут очень сильно разниться по отзывам."
   ]
  },
  {
   "cell_type": "markdown",
   "metadata": {},
   "source": [
    "tbd - означает \"будет определен\". Могу предположить, что данное значение означает, что оценки еще расчитываются, т.е слишком мало оценок для расчета или у игры вышло обновление (исправлены какие-то ошибки) и ожидается обновление оценок пользователей. В любом случае как и с NaN просчитать итоговую оценку мы не можем. Заменим данное значение на 0. "
   ]
  },
  {
   "cell_type": "markdown",
   "metadata": {},
   "source": [
    "На данном этапе можно немного облегчить себе жизнь и сначала заменить тип данных с object на float64 методом to_numeric() с параметром errors = 'coerce'. В этом случае все цифры будут преобразованы, а tbd будет заменено на NaN, затем мы заменим пропуски на 0"
   ]
  },
  {
   "cell_type": "code",
   "execution_count": 15,
   "metadata": {},
   "outputs": [],
   "source": [
    "games['user_score'] = pd.to_numeric(games['user_score'], errors='coerce') # замена типа данных на вещественный"
   ]
  },
  {
   "cell_type": "markdown",
   "metadata": {},
   "source": [
    "Пропуски в оценках критиков также заменим на 0, поскольку скорее всего, просто критики не оценивали игру."
   ]
  },
  {
   "cell_type": "markdown",
   "metadata": {},
   "source": [
    "И у нас остался один столбец с пропусками - это рейтинг ESRB."
   ]
  },
  {
   "cell_type": "markdown",
   "metadata": {},
   "source": [
    "Ассоциация ESRB была создана в 1994 г. Основное направление деятельности — принятие и определение рейтингов для компьютерных видеоигр и другого развлекательного программного обеспечения в США и Канаде. Для получения рейтинга издатели присылают в ESRB видеоролики с наиболее впечатляющими и резкими сценами. Кроме того, они заполняют анкету с вопросами о содержании игры (сцены насилия, азартные игры, секс), контексте, системе наград и степени свободы игрока. Затем анкету и видео смотрят как минимум три рецензента и по итогам обсуждения выносят решение. Но при этом компании не обязаны предоставлять игру на определение рейтинга до начала официальных продаж, так как её содержимое может значительно измениться в ходе разработки. "
   ]
  },
  {
   "cell_type": "markdown",
   "metadata": {},
   "source": [
    "Итак в нашем списке в строках с пропусками в столбце рейтинга есть игры выпущенные до 1994г. Вполне возможно, что после появления ассоциации, производители не обращались к ней, чтобы присвоить рейтинг уже давно продаваемым играм. Также есть игры, которые не продаются на территории США и Канады. Поэтому заменим пропущенные значения на \"unknown\""
   ]
  },
  {
   "cell_type": "code",
   "execution_count": 16,
   "metadata": {},
   "outputs": [],
   "source": [
    "games['rating'] = games['rating'].fillna('unknown') # замена пропусков на \"unknown\""
   ]
  },
  {
   "cell_type": "markdown",
   "metadata": {},
   "source": [
    "Проверим как прошли замены пропусков и изменения типов данных с помощью метода info()"
   ]
  },
  {
   "cell_type": "code",
   "execution_count": 17,
   "metadata": {},
   "outputs": [
    {
     "name": "stdout",
     "output_type": "stream",
     "text": [
      "<class 'pandas.core.frame.DataFrame'>\n",
      "Int64Index: 16444 entries, 0 to 16714\n",
      "Data columns (total 11 columns):\n",
      "name               16444 non-null object\n",
      "platform           16444 non-null object\n",
      "year_of_release    16444 non-null int64\n",
      "genre              16444 non-null object\n",
      "na_sales           16444 non-null float64\n",
      "eu_sales           16444 non-null float64\n",
      "jp_sales           16444 non-null float64\n",
      "other_sales        16444 non-null float64\n",
      "critic_score       7983 non-null float64\n",
      "user_score         7463 non-null float64\n",
      "rating             16444 non-null object\n",
      "dtypes: float64(6), int64(1), object(4)\n",
      "memory usage: 1.5+ MB\n"
     ]
    }
   ],
   "source": [
    "games.info()"
   ]
  },
  {
   "cell_type": "markdown",
   "metadata": {},
   "source": [
    "Во всех столбцах, кроме оценок пользователей и критиков, одинаковое количество значений. Тип данных в столбце с годом выпуска игры и оценках пользователей заменены."
   ]
  },
  {
   "cell_type": "markdown",
   "metadata": {},
   "source": [
    "### Добавление данных в таблицу\n"
   ]
  },
  {
   "cell_type": "markdown",
   "metadata": {},
   "source": [
    "Последнее, что нам осталось сделать, прежде чем приступить к анализу - это посчитать суммарные продажи игр по всем регионам вместе."
   ]
  },
  {
   "cell_type": "code",
   "execution_count": 18,
   "metadata": {},
   "outputs": [],
   "source": [
    "import warnings\n",
    "warnings.simplefilter(\"ignore\")\n",
    "games['total sales'] = games['na_sales'] + games['eu_sales'] + games['jp_sales'] + games['other_sales'] # создание столбца с суммарными продажами"
   ]
  },
  {
   "cell_type": "code",
   "execution_count": 19,
   "metadata": {},
   "outputs": [
    {
     "data": {
      "text/html": [
       "<div>\n",
       "<style scoped>\n",
       "    .dataframe tbody tr th:only-of-type {\n",
       "        vertical-align: middle;\n",
       "    }\n",
       "\n",
       "    .dataframe tbody tr th {\n",
       "        vertical-align: top;\n",
       "    }\n",
       "\n",
       "    .dataframe thead th {\n",
       "        text-align: right;\n",
       "    }\n",
       "</style>\n",
       "<table border=\"1\" class=\"dataframe\">\n",
       "  <thead>\n",
       "    <tr style=\"text-align: right;\">\n",
       "      <th></th>\n",
       "      <th>name</th>\n",
       "      <th>platform</th>\n",
       "      <th>year_of_release</th>\n",
       "      <th>genre</th>\n",
       "      <th>na_sales</th>\n",
       "      <th>eu_sales</th>\n",
       "      <th>jp_sales</th>\n",
       "      <th>other_sales</th>\n",
       "      <th>critic_score</th>\n",
       "      <th>user_score</th>\n",
       "      <th>rating</th>\n",
       "      <th>total sales</th>\n",
       "    </tr>\n",
       "  </thead>\n",
       "  <tbody>\n",
       "    <tr>\n",
       "      <td>0</td>\n",
       "      <td>Wii Sports</td>\n",
       "      <td>Wii</td>\n",
       "      <td>2006</td>\n",
       "      <td>Sports</td>\n",
       "      <td>41.36</td>\n",
       "      <td>28.96</td>\n",
       "      <td>3.77</td>\n",
       "      <td>8.45</td>\n",
       "      <td>76.0</td>\n",
       "      <td>8.0</td>\n",
       "      <td>E</td>\n",
       "      <td>82.54</td>\n",
       "    </tr>\n",
       "    <tr>\n",
       "      <td>1</td>\n",
       "      <td>Super Mario Bros.</td>\n",
       "      <td>NES</td>\n",
       "      <td>1985</td>\n",
       "      <td>Platform</td>\n",
       "      <td>29.08</td>\n",
       "      <td>3.58</td>\n",
       "      <td>6.81</td>\n",
       "      <td>0.77</td>\n",
       "      <td>NaN</td>\n",
       "      <td>NaN</td>\n",
       "      <td>unknown</td>\n",
       "      <td>40.24</td>\n",
       "    </tr>\n",
       "    <tr>\n",
       "      <td>2</td>\n",
       "      <td>Mario Kart Wii</td>\n",
       "      <td>Wii</td>\n",
       "      <td>2008</td>\n",
       "      <td>Racing</td>\n",
       "      <td>15.68</td>\n",
       "      <td>12.76</td>\n",
       "      <td>3.79</td>\n",
       "      <td>3.29</td>\n",
       "      <td>82.0</td>\n",
       "      <td>8.3</td>\n",
       "      <td>E</td>\n",
       "      <td>35.52</td>\n",
       "    </tr>\n",
       "    <tr>\n",
       "      <td>3</td>\n",
       "      <td>Wii Sports Resort</td>\n",
       "      <td>Wii</td>\n",
       "      <td>2009</td>\n",
       "      <td>Sports</td>\n",
       "      <td>15.61</td>\n",
       "      <td>10.93</td>\n",
       "      <td>3.28</td>\n",
       "      <td>2.95</td>\n",
       "      <td>80.0</td>\n",
       "      <td>8.0</td>\n",
       "      <td>E</td>\n",
       "      <td>32.77</td>\n",
       "    </tr>\n",
       "    <tr>\n",
       "      <td>4</td>\n",
       "      <td>Pokemon Red/Pokemon Blue</td>\n",
       "      <td>GB</td>\n",
       "      <td>1996</td>\n",
       "      <td>Role-Playing</td>\n",
       "      <td>11.27</td>\n",
       "      <td>8.89</td>\n",
       "      <td>10.22</td>\n",
       "      <td>1.00</td>\n",
       "      <td>NaN</td>\n",
       "      <td>NaN</td>\n",
       "      <td>unknown</td>\n",
       "      <td>31.38</td>\n",
       "    </tr>\n",
       "    <tr>\n",
       "      <td>5</td>\n",
       "      <td>Tetris</td>\n",
       "      <td>GB</td>\n",
       "      <td>1989</td>\n",
       "      <td>Puzzle</td>\n",
       "      <td>23.20</td>\n",
       "      <td>2.26</td>\n",
       "      <td>4.22</td>\n",
       "      <td>0.58</td>\n",
       "      <td>NaN</td>\n",
       "      <td>NaN</td>\n",
       "      <td>unknown</td>\n",
       "      <td>30.26</td>\n",
       "    </tr>\n",
       "    <tr>\n",
       "      <td>6</td>\n",
       "      <td>New Super Mario Bros.</td>\n",
       "      <td>DS</td>\n",
       "      <td>2006</td>\n",
       "      <td>Platform</td>\n",
       "      <td>11.28</td>\n",
       "      <td>9.14</td>\n",
       "      <td>6.50</td>\n",
       "      <td>2.88</td>\n",
       "      <td>89.0</td>\n",
       "      <td>8.5</td>\n",
       "      <td>E</td>\n",
       "      <td>29.80</td>\n",
       "    </tr>\n",
       "    <tr>\n",
       "      <td>7</td>\n",
       "      <td>Wii Play</td>\n",
       "      <td>Wii</td>\n",
       "      <td>2006</td>\n",
       "      <td>Misc</td>\n",
       "      <td>13.96</td>\n",
       "      <td>9.18</td>\n",
       "      <td>2.93</td>\n",
       "      <td>2.84</td>\n",
       "      <td>58.0</td>\n",
       "      <td>6.6</td>\n",
       "      <td>E</td>\n",
       "      <td>28.91</td>\n",
       "    </tr>\n",
       "    <tr>\n",
       "      <td>8</td>\n",
       "      <td>New Super Mario Bros. Wii</td>\n",
       "      <td>Wii</td>\n",
       "      <td>2009</td>\n",
       "      <td>Platform</td>\n",
       "      <td>14.44</td>\n",
       "      <td>6.94</td>\n",
       "      <td>4.70</td>\n",
       "      <td>2.24</td>\n",
       "      <td>87.0</td>\n",
       "      <td>8.4</td>\n",
       "      <td>E</td>\n",
       "      <td>28.32</td>\n",
       "    </tr>\n",
       "    <tr>\n",
       "      <td>9</td>\n",
       "      <td>Duck Hunt</td>\n",
       "      <td>NES</td>\n",
       "      <td>1984</td>\n",
       "      <td>Shooter</td>\n",
       "      <td>26.93</td>\n",
       "      <td>0.63</td>\n",
       "      <td>0.28</td>\n",
       "      <td>0.47</td>\n",
       "      <td>NaN</td>\n",
       "      <td>NaN</td>\n",
       "      <td>unknown</td>\n",
       "      <td>28.31</td>\n",
       "    </tr>\n",
       "  </tbody>\n",
       "</table>\n",
       "</div>"
      ],
      "text/plain": [
       "                        name platform  year_of_release         genre  \\\n",
       "0                 Wii Sports      Wii             2006        Sports   \n",
       "1          Super Mario Bros.      NES             1985      Platform   \n",
       "2             Mario Kart Wii      Wii             2008        Racing   \n",
       "3          Wii Sports Resort      Wii             2009        Sports   \n",
       "4   Pokemon Red/Pokemon Blue       GB             1996  Role-Playing   \n",
       "5                     Tetris       GB             1989        Puzzle   \n",
       "6      New Super Mario Bros.       DS             2006      Platform   \n",
       "7                   Wii Play      Wii             2006          Misc   \n",
       "8  New Super Mario Bros. Wii      Wii             2009      Platform   \n",
       "9                  Duck Hunt      NES             1984       Shooter   \n",
       "\n",
       "   na_sales  eu_sales  jp_sales  other_sales  critic_score  user_score  \\\n",
       "0     41.36     28.96      3.77         8.45          76.0         8.0   \n",
       "1     29.08      3.58      6.81         0.77           NaN         NaN   \n",
       "2     15.68     12.76      3.79         3.29          82.0         8.3   \n",
       "3     15.61     10.93      3.28         2.95          80.0         8.0   \n",
       "4     11.27      8.89     10.22         1.00           NaN         NaN   \n",
       "5     23.20      2.26      4.22         0.58           NaN         NaN   \n",
       "6     11.28      9.14      6.50         2.88          89.0         8.5   \n",
       "7     13.96      9.18      2.93         2.84          58.0         6.6   \n",
       "8     14.44      6.94      4.70         2.24          87.0         8.4   \n",
       "9     26.93      0.63      0.28         0.47           NaN         NaN   \n",
       "\n",
       "    rating  total sales  \n",
       "0        E        82.54  \n",
       "1  unknown        40.24  \n",
       "2        E        35.52  \n",
       "3        E        32.77  \n",
       "4  unknown        31.38  \n",
       "5  unknown        30.26  \n",
       "6        E        29.80  \n",
       "7        E        28.91  \n",
       "8        E        28.32  \n",
       "9  unknown        28.31  "
      ]
     },
     "metadata": {},
     "output_type": "display_data"
    }
   ],
   "source": [
    "display(games.head(10)) # просмотр первых 10 строк"
   ]
  },
  {
   "cell_type": "markdown",
   "metadata": {},
   "source": [
    "**Вывод**"
   ]
  },
  {
   "cell_type": "markdown",
   "metadata": {},
   "source": [
    "В данном разделе мы удалили часть данных, поскольку пропуски в них были в ключевых столбцах, таких как название игры, жанр и год выпуска. Заменить эти данные не представлялось возможным и их количество было достаточно небольшим, так что удаление этих строк не должно сильно сказаться на результате анализа."
   ]
  },
  {
   "cell_type": "markdown",
   "metadata": {},
   "source": [
    "Также мы заменили тип данных в двух столбцах: в столбце с годом выпуска игры сделали целочисленный тип данных, а в столбце с оценками пользователей - вещественный."
   ]
  },
  {
   "cell_type": "markdown",
   "metadata": {},
   "source": [
    "Пропуски в столбцах с оценками пользователей и критиков заменять не стали, потому что скорее всего эти игры не были оценены соответствующей группой оценщиков. В столбце с рейтингом ассоциации ESRB (рейтинг описывает характерные черты игры и для какой аудитории она разрешена) заменили пропуски на \"неизвестно\", потому что этот рейтинг желателен, но не обязателен даже на территории США и Канады, для которых этот рейтинг создавался, а также игры могли быть созданы для другого региона и просто у них нет конкретно этого рейтинга."
   ]
  },
  {
   "cell_type": "markdown",
   "metadata": {},
   "source": [
    "В конце мы добавили столбик, в котором посчитали сумму продаж во всех регионах вместе. Теперь можно приступать к анализу."
   ]
  },
  {
   "cell_type": "markdown",
   "metadata": {},
   "source": [
    "## Исследовательский анализ данных"
   ]
  },
  {
   "cell_type": "markdown",
   "metadata": {},
   "source": [
    "### Распределение игр по годам"
   ]
  },
  {
   "cell_type": "markdown",
   "metadata": {},
   "source": [
    "Создадим сводную таблицу и посчитаем сколько игр выходило в разные годы."
   ]
  },
  {
   "cell_type": "code",
   "execution_count": 20,
   "metadata": {},
   "outputs": [],
   "source": [
    "release_games_by_year = games.pivot_table(index = 'year_of_release', values = 'name', aggfunc = 'count') "
   ]
  },
  {
   "cell_type": "code",
   "execution_count": 21,
   "metadata": {},
   "outputs": [
    {
     "data": {
      "text/html": [
       "<div>\n",
       "<style scoped>\n",
       "    .dataframe tbody tr th:only-of-type {\n",
       "        vertical-align: middle;\n",
       "    }\n",
       "\n",
       "    .dataframe tbody tr th {\n",
       "        vertical-align: top;\n",
       "    }\n",
       "\n",
       "    .dataframe thead th {\n",
       "        text-align: right;\n",
       "    }\n",
       "</style>\n",
       "<table border=\"1\" class=\"dataframe\">\n",
       "  <thead>\n",
       "    <tr style=\"text-align: right;\">\n",
       "      <th></th>\n",
       "      <th>name</th>\n",
       "    </tr>\n",
       "    <tr>\n",
       "      <th>year_of_release</th>\n",
       "      <th></th>\n",
       "    </tr>\n",
       "  </thead>\n",
       "  <tbody>\n",
       "    <tr>\n",
       "      <td>1980</td>\n",
       "      <td>9</td>\n",
       "    </tr>\n",
       "    <tr>\n",
       "      <td>1981</td>\n",
       "      <td>46</td>\n",
       "    </tr>\n",
       "    <tr>\n",
       "      <td>1982</td>\n",
       "      <td>36</td>\n",
       "    </tr>\n",
       "    <tr>\n",
       "      <td>1983</td>\n",
       "      <td>17</td>\n",
       "    </tr>\n",
       "    <tr>\n",
       "      <td>1984</td>\n",
       "      <td>14</td>\n",
       "    </tr>\n",
       "    <tr>\n",
       "      <td>1985</td>\n",
       "      <td>14</td>\n",
       "    </tr>\n",
       "    <tr>\n",
       "      <td>1986</td>\n",
       "      <td>21</td>\n",
       "    </tr>\n",
       "    <tr>\n",
       "      <td>1987</td>\n",
       "      <td>16</td>\n",
       "    </tr>\n",
       "    <tr>\n",
       "      <td>1988</td>\n",
       "      <td>15</td>\n",
       "    </tr>\n",
       "    <tr>\n",
       "      <td>1989</td>\n",
       "      <td>17</td>\n",
       "    </tr>\n",
       "    <tr>\n",
       "      <td>1990</td>\n",
       "      <td>16</td>\n",
       "    </tr>\n",
       "    <tr>\n",
       "      <td>1991</td>\n",
       "      <td>41</td>\n",
       "    </tr>\n",
       "    <tr>\n",
       "      <td>1992</td>\n",
       "      <td>43</td>\n",
       "    </tr>\n",
       "    <tr>\n",
       "      <td>1993</td>\n",
       "      <td>60</td>\n",
       "    </tr>\n",
       "    <tr>\n",
       "      <td>1994</td>\n",
       "      <td>121</td>\n",
       "    </tr>\n",
       "    <tr>\n",
       "      <td>1995</td>\n",
       "      <td>219</td>\n",
       "    </tr>\n",
       "    <tr>\n",
       "      <td>1996</td>\n",
       "      <td>263</td>\n",
       "    </tr>\n",
       "    <tr>\n",
       "      <td>1997</td>\n",
       "      <td>289</td>\n",
       "    </tr>\n",
       "    <tr>\n",
       "      <td>1998</td>\n",
       "      <td>379</td>\n",
       "    </tr>\n",
       "    <tr>\n",
       "      <td>1999</td>\n",
       "      <td>338</td>\n",
       "    </tr>\n",
       "    <tr>\n",
       "      <td>2000</td>\n",
       "      <td>350</td>\n",
       "    </tr>\n",
       "    <tr>\n",
       "      <td>2001</td>\n",
       "      <td>482</td>\n",
       "    </tr>\n",
       "    <tr>\n",
       "      <td>2002</td>\n",
       "      <td>829</td>\n",
       "    </tr>\n",
       "    <tr>\n",
       "      <td>2003</td>\n",
       "      <td>775</td>\n",
       "    </tr>\n",
       "    <tr>\n",
       "      <td>2004</td>\n",
       "      <td>762</td>\n",
       "    </tr>\n",
       "    <tr>\n",
       "      <td>2005</td>\n",
       "      <td>939</td>\n",
       "    </tr>\n",
       "    <tr>\n",
       "      <td>2006</td>\n",
       "      <td>1006</td>\n",
       "    </tr>\n",
       "    <tr>\n",
       "      <td>2007</td>\n",
       "      <td>1197</td>\n",
       "    </tr>\n",
       "    <tr>\n",
       "      <td>2008</td>\n",
       "      <td>1427</td>\n",
       "    </tr>\n",
       "    <tr>\n",
       "      <td>2009</td>\n",
       "      <td>1426</td>\n",
       "    </tr>\n",
       "    <tr>\n",
       "      <td>2010</td>\n",
       "      <td>1255</td>\n",
       "    </tr>\n",
       "    <tr>\n",
       "      <td>2011</td>\n",
       "      <td>1136</td>\n",
       "    </tr>\n",
       "    <tr>\n",
       "      <td>2012</td>\n",
       "      <td>653</td>\n",
       "    </tr>\n",
       "    <tr>\n",
       "      <td>2013</td>\n",
       "      <td>544</td>\n",
       "    </tr>\n",
       "    <tr>\n",
       "      <td>2014</td>\n",
       "      <td>581</td>\n",
       "    </tr>\n",
       "    <tr>\n",
       "      <td>2015</td>\n",
       "      <td>606</td>\n",
       "    </tr>\n",
       "    <tr>\n",
       "      <td>2016</td>\n",
       "      <td>502</td>\n",
       "    </tr>\n",
       "  </tbody>\n",
       "</table>\n",
       "</div>"
      ],
      "text/plain": [
       "                 name\n",
       "year_of_release      \n",
       "1980                9\n",
       "1981               46\n",
       "1982               36\n",
       "1983               17\n",
       "1984               14\n",
       "1985               14\n",
       "1986               21\n",
       "1987               16\n",
       "1988               15\n",
       "1989               17\n",
       "1990               16\n",
       "1991               41\n",
       "1992               43\n",
       "1993               60\n",
       "1994              121\n",
       "1995              219\n",
       "1996              263\n",
       "1997              289\n",
       "1998              379\n",
       "1999              338\n",
       "2000              350\n",
       "2001              482\n",
       "2002              829\n",
       "2003              775\n",
       "2004              762\n",
       "2005              939\n",
       "2006             1006\n",
       "2007             1197\n",
       "2008             1427\n",
       "2009             1426\n",
       "2010             1255\n",
       "2011             1136\n",
       "2012              653\n",
       "2013              544\n",
       "2014              581\n",
       "2015              606\n",
       "2016              502"
      ]
     },
     "metadata": {},
     "output_type": "display_data"
    }
   ],
   "source": [
    "display(release_games_by_year)"
   ]
  },
  {
   "cell_type": "code",
   "execution_count": 22,
   "metadata": {},
   "outputs": [
    {
     "data": {
      "image/png": "[encoded data removed]",
      "text/plain": [
       "<Figure size 504x360 with 1 Axes>"
      ]
     },
     "metadata": {
      "needs_background": "light"
     },
     "output_type": "display_data"
    }
   ],
   "source": [
    "release_games_by_year.plot(figsize =(7,5), grid = True) # построение графика распределения выхода игр по годам\n",
    "plt.title('Выпуск игр по годам')\n",
    "plt.show()"
   ]
  },
  {
   "cell_type": "markdown",
   "metadata": {},
   "source": [
    "И таблица и график показывают, что до 1995 г. выпуск игр был очень скромным, а дальше идет подъем и пик приходится на 2008-2009г. Развитие игровой индустрии непосредственно связано с развитием технологий и все большей доступностью игровых устройств (компьютеров, телефонов, приставок и т.д.). При этом на начальном этапе стоимость разработки игр была небольшой и не требовалась большая команда. Сам выпуск игры не требовал большого количества времени.  А вот спад после 2009г вполне возможно связан с тем, что игры стали более сложными в плане их разработки, построения, графики. Создание некоторых игр требует несколько лет разработки, большого штата сотрудников и немалого бюджета. Ко всему прочему, в списке указаны игры, которые устанавливаются на компьютеры, приставки или игровые консоли, а игр в которые играют из браузера без установки на устройство нет. Массовое распространение мобильных телефонов способствовало появлению мобильных игровых приложений; появилось направление создания игр для социальных сетей. Вполне возможно, что именно создание подобных игр стало причиной уменьшения количества игр на компьютерах и приставках в последние годы."
   ]
  },
  {
   "cell_type": "code",
   "execution_count": 23,
   "metadata": {},
   "outputs": [
    {
     "data": {
      "text/plain": [
       "array(['Wii', 'NES', 'GB', 'DS', 'X360', 'PS3', 'PS2', 'SNES', 'GBA',\n",
       "       'PS4', '3DS', 'N64', 'PS', 'XB', 'PC', '2600', 'PSP', 'XOne',\n",
       "       'WiiU', 'GC', 'GEN', 'DC', 'PSV', 'SAT', 'SCD', 'WS', 'NG', 'TG16',\n",
       "       '3DO', 'GG', 'PCFX'], dtype=object)"
      ]
     },
     "execution_count": 23,
     "metadata": {},
     "output_type": "execute_result"
    }
   ],
   "source": [
    "games['platform'].unique() # список уникальных значений названий платформ (чтобы убедится, что здесь нет бразеров)"
   ]
  },
  {
   "cell_type": "markdown",
   "metadata": {},
   "source": [
    "Для выполнения поставленной задачи, нам не нужны все данные, потому что нам нужно учитывать тенденции, которые сложились в посление лет 10 или около того. Если не произойдет какой-то технический прорыв или что-то, что непосредственно повлияет на спрос на игры на указанных платформах, то общии тренд сохранится и количество выпускаемых игр будет падать. "
   ]
  },
  {
   "cell_type": "markdown",
   "metadata": {},
   "source": [
    "### Анализ распределения игр по платформам"
   ]
  },
  {
   "cell_type": "markdown",
   "metadata": {},
   "source": [
    "Посмотрим как менялись продажи по платформам. Создадим сводную таблицу и построим столбчатую диаграмму, чтобы посмотреть распределение количества игр по платформам."
   ]
  },
  {
   "cell_type": "code",
   "execution_count": 24,
   "metadata": {},
   "outputs": [],
   "source": [
    "games_sales_by_platform = games.pivot_table(index = 'platform', values = 'total sales', aggfunc = 'sum').sort_values(by = 'total sales', ascending = False)\n"
   ]
  },
  {
   "cell_type": "code",
   "execution_count": 25,
   "metadata": {},
   "outputs": [
    {
     "data": {
      "text/html": [
       "<div>\n",
       "<style scoped>\n",
       "    .dataframe tbody tr th:only-of-type {\n",
       "        vertical-align: middle;\n",
       "    }\n",
       "\n",
       "    .dataframe tbody tr th {\n",
       "        vertical-align: top;\n",
       "    }\n",
       "\n",
       "    .dataframe thead th {\n",
       "        text-align: right;\n",
       "    }\n",
       "</style>\n",
       "<table border=\"1\" class=\"dataframe\">\n",
       "  <thead>\n",
       "    <tr style=\"text-align: right;\">\n",
       "      <th></th>\n",
       "      <th>total sales</th>\n",
       "    </tr>\n",
       "    <tr>\n",
       "      <th>platform</th>\n",
       "      <th></th>\n",
       "    </tr>\n",
       "  </thead>\n",
       "  <tbody>\n",
       "    <tr>\n",
       "      <td>PS2</td>\n",
       "      <td>1233.56</td>\n",
       "    </tr>\n",
       "    <tr>\n",
       "      <td>X360</td>\n",
       "      <td>961.24</td>\n",
       "    </tr>\n",
       "    <tr>\n",
       "      <td>PS3</td>\n",
       "      <td>931.34</td>\n",
       "    </tr>\n",
       "    <tr>\n",
       "      <td>Wii</td>\n",
       "      <td>891.18</td>\n",
       "    </tr>\n",
       "    <tr>\n",
       "      <td>DS</td>\n",
       "      <td>802.78</td>\n",
       "    </tr>\n",
       "    <tr>\n",
       "      <td>PS</td>\n",
       "      <td>727.58</td>\n",
       "    </tr>\n",
       "    <tr>\n",
       "      <td>PS4</td>\n",
       "      <td>314.14</td>\n",
       "    </tr>\n",
       "    <tr>\n",
       "      <td>GBA</td>\n",
       "      <td>312.88</td>\n",
       "    </tr>\n",
       "    <tr>\n",
       "      <td>PSP</td>\n",
       "      <td>289.53</td>\n",
       "    </tr>\n",
       "    <tr>\n",
       "      <td>3DS</td>\n",
       "      <td>257.81</td>\n",
       "    </tr>\n",
       "    <tr>\n",
       "      <td>PC</td>\n",
       "      <td>255.76</td>\n",
       "    </tr>\n",
       "    <tr>\n",
       "      <td>GB</td>\n",
       "      <td>254.43</td>\n",
       "    </tr>\n",
       "    <tr>\n",
       "      <td>XB</td>\n",
       "      <td>251.57</td>\n",
       "    </tr>\n",
       "    <tr>\n",
       "      <td>NES</td>\n",
       "      <td>251.05</td>\n",
       "    </tr>\n",
       "    <tr>\n",
       "      <td>N64</td>\n",
       "      <td>218.01</td>\n",
       "    </tr>\n",
       "    <tr>\n",
       "      <td>SNES</td>\n",
       "      <td>200.04</td>\n",
       "    </tr>\n",
       "    <tr>\n",
       "      <td>GC</td>\n",
       "      <td>196.73</td>\n",
       "    </tr>\n",
       "    <tr>\n",
       "      <td>XOne</td>\n",
       "      <td>159.32</td>\n",
       "    </tr>\n",
       "    <tr>\n",
       "      <td>2600</td>\n",
       "      <td>86.48</td>\n",
       "    </tr>\n",
       "    <tr>\n",
       "      <td>WiiU</td>\n",
       "      <td>82.19</td>\n",
       "    </tr>\n",
       "    <tr>\n",
       "      <td>PSV</td>\n",
       "      <td>53.81</td>\n",
       "    </tr>\n",
       "    <tr>\n",
       "      <td>SAT</td>\n",
       "      <td>33.59</td>\n",
       "    </tr>\n",
       "    <tr>\n",
       "      <td>GEN</td>\n",
       "      <td>28.35</td>\n",
       "    </tr>\n",
       "    <tr>\n",
       "      <td>DC</td>\n",
       "      <td>15.95</td>\n",
       "    </tr>\n",
       "    <tr>\n",
       "      <td>SCD</td>\n",
       "      <td>1.86</td>\n",
       "    </tr>\n",
       "    <tr>\n",
       "      <td>NG</td>\n",
       "      <td>1.44</td>\n",
       "    </tr>\n",
       "    <tr>\n",
       "      <td>WS</td>\n",
       "      <td>1.42</td>\n",
       "    </tr>\n",
       "    <tr>\n",
       "      <td>TG16</td>\n",
       "      <td>0.16</td>\n",
       "    </tr>\n",
       "    <tr>\n",
       "      <td>3DO</td>\n",
       "      <td>0.10</td>\n",
       "    </tr>\n",
       "    <tr>\n",
       "      <td>GG</td>\n",
       "      <td>0.04</td>\n",
       "    </tr>\n",
       "    <tr>\n",
       "      <td>PCFX</td>\n",
       "      <td>0.03</td>\n",
       "    </tr>\n",
       "  </tbody>\n",
       "</table>\n",
       "</div>"
      ],
      "text/plain": [
       "          total sales\n",
       "platform             \n",
       "PS2           1233.56\n",
       "X360           961.24\n",
       "PS3            931.34\n",
       "Wii            891.18\n",
       "DS             802.78\n",
       "PS             727.58\n",
       "PS4            314.14\n",
       "GBA            312.88\n",
       "PSP            289.53\n",
       "3DS            257.81\n",
       "PC             255.76\n",
       "GB             254.43\n",
       "XB             251.57\n",
       "NES            251.05\n",
       "N64            218.01\n",
       "SNES           200.04\n",
       "GC             196.73\n",
       "XOne           159.32\n",
       "2600            86.48\n",
       "WiiU            82.19\n",
       "PSV             53.81\n",
       "SAT             33.59\n",
       "GEN             28.35\n",
       "DC              15.95\n",
       "SCD              1.86\n",
       "NG               1.44\n",
       "WS               1.42\n",
       "TG16             0.16\n",
       "3DO              0.10\n",
       "GG               0.04\n",
       "PCFX             0.03"
      ]
     },
     "metadata": {},
     "output_type": "display_data"
    }
   ],
   "source": [
    "display(games_sales_by_platform)"
   ]
  },
  {
   "cell_type": "code",
   "execution_count": 26,
   "metadata": {},
   "outputs": [
    {
     "data": {
      "image/png": "[encoded data removed]",
      "text/plain": [
       "<Figure size 720x576 with 1 Axes>"
      ]
     },
     "metadata": {
      "needs_background": "light"
     },
     "output_type": "display_data"
    }
   ],
   "source": [
    "games_sales_by_platform.plot(kind = 'barh', figsize =(10, 8), grid = True)\n",
    "plt.title('Продажи игр по платформам')\n",
    "plt.show()"
   ]
  },
  {
   "cell_type": "markdown",
   "metadata": {},
   "source": [
    "В лидерах у нас 6 платформ: PS2, X360, PS3, Wii, DS, PS. Построим распределение продаж по этим платформам по годам."
   ]
  },
  {
   "cell_type": "code",
   "execution_count": 27,
   "metadata": {},
   "outputs": [],
   "source": [
    "games_sales_by_platform_top = games_sales_by_platform[0:6] # сохраним в переменную данные по первым 6 платформам"
   ]
  },
  {
   "cell_type": "code",
   "execution_count": 28,
   "metadata": {},
   "outputs": [
    {
     "data": {
      "text/html": [
       "<div>\n",
       "<style scoped>\n",
       "    .dataframe tbody tr th:only-of-type {\n",
       "        vertical-align: middle;\n",
       "    }\n",
       "\n",
       "    .dataframe tbody tr th {\n",
       "        vertical-align: top;\n",
       "    }\n",
       "\n",
       "    .dataframe thead th {\n",
       "        text-align: right;\n",
       "    }\n",
       "</style>\n",
       "<table border=\"1\" class=\"dataframe\">\n",
       "  <thead>\n",
       "    <tr style=\"text-align: right;\">\n",
       "      <th></th>\n",
       "      <th>total sales</th>\n",
       "    </tr>\n",
       "    <tr>\n",
       "      <th>platform</th>\n",
       "      <th></th>\n",
       "    </tr>\n",
       "  </thead>\n",
       "  <tbody>\n",
       "    <tr>\n",
       "      <td>PS2</td>\n",
       "      <td>1233.56</td>\n",
       "    </tr>\n",
       "    <tr>\n",
       "      <td>X360</td>\n",
       "      <td>961.24</td>\n",
       "    </tr>\n",
       "    <tr>\n",
       "      <td>PS3</td>\n",
       "      <td>931.34</td>\n",
       "    </tr>\n",
       "    <tr>\n",
       "      <td>Wii</td>\n",
       "      <td>891.18</td>\n",
       "    </tr>\n",
       "    <tr>\n",
       "      <td>DS</td>\n",
       "      <td>802.78</td>\n",
       "    </tr>\n",
       "    <tr>\n",
       "      <td>PS</td>\n",
       "      <td>727.58</td>\n",
       "    </tr>\n",
       "  </tbody>\n",
       "</table>\n",
       "</div>"
      ],
      "text/plain": [
       "          total sales\n",
       "platform             \n",
       "PS2           1233.56\n",
       "X360           961.24\n",
       "PS3            931.34\n",
       "Wii            891.18\n",
       "DS             802.78\n",
       "PS             727.58"
      ]
     },
     "metadata": {},
     "output_type": "display_data"
    }
   ],
   "source": [
    "display(games_sales_by_platform_top)"
   ]
  },
  {
   "cell_type": "markdown",
   "metadata": {},
   "source": [
    "Сделаем срез данных на основании индексов из сводной таблицы по лидерам продаж."
   ]
  },
  {
   "cell_type": "code",
   "execution_count": 29,
   "metadata": {},
   "outputs": [],
   "source": [
    "games_sales_by_top_platform_year = games.query('platform in @games_sales_by_platform_top.index') # срез данных из внешней переменной "
   ]
  },
  {
   "cell_type": "markdown",
   "metadata": {},
   "source": [
    "Создадим сводную таблицу по которой посчитаем среднее количество лет, которое существуют платформы."
   ]
  },
  {
   "cell_type": "code",
   "execution_count": 30,
   "metadata": {},
   "outputs": [],
   "source": [
    "platform_by_year = games_sales_by_top_platform_year.loc[:, ['year_of_release', 'platform']].drop_duplicates().pivot_table(index = 'platform', values = 'year_of_release', aggfunc = 'count')"
   ]
  },
  {
   "cell_type": "code",
   "execution_count": 31,
   "metadata": {},
   "outputs": [
    {
     "data": {
      "text/html": [
       "<div>\n",
       "<style scoped>\n",
       "    .dataframe tbody tr th:only-of-type {\n",
       "        vertical-align: middle;\n",
       "    }\n",
       "\n",
       "    .dataframe tbody tr th {\n",
       "        vertical-align: top;\n",
       "    }\n",
       "\n",
       "    .dataframe thead th {\n",
       "        text-align: right;\n",
       "    }\n",
       "</style>\n",
       "<table border=\"1\" class=\"dataframe\">\n",
       "  <thead>\n",
       "    <tr style=\"text-align: right;\">\n",
       "      <th></th>\n",
       "      <th>year_of_release</th>\n",
       "    </tr>\n",
       "  </thead>\n",
       "  <tbody>\n",
       "    <tr>\n",
       "      <td>count</td>\n",
       "      <td>6.000000</td>\n",
       "    </tr>\n",
       "    <tr>\n",
       "      <td>mean</td>\n",
       "      <td>11.166667</td>\n",
       "    </tr>\n",
       "    <tr>\n",
       "      <td>std</td>\n",
       "      <td>0.752773</td>\n",
       "    </tr>\n",
       "    <tr>\n",
       "      <td>min</td>\n",
       "      <td>10.000000</td>\n",
       "    </tr>\n",
       "    <tr>\n",
       "      <td>25%</td>\n",
       "      <td>11.000000</td>\n",
       "    </tr>\n",
       "    <tr>\n",
       "      <td>50%</td>\n",
       "      <td>11.000000</td>\n",
       "    </tr>\n",
       "    <tr>\n",
       "      <td>75%</td>\n",
       "      <td>11.750000</td>\n",
       "    </tr>\n",
       "    <tr>\n",
       "      <td>max</td>\n",
       "      <td>12.000000</td>\n",
       "    </tr>\n",
       "  </tbody>\n",
       "</table>\n",
       "</div>"
      ],
      "text/plain": [
       "       year_of_release\n",
       "count         6.000000\n",
       "mean         11.166667\n",
       "std           0.752773\n",
       "min          10.000000\n",
       "25%          11.000000\n",
       "50%          11.000000\n",
       "75%          11.750000\n",
       "max          12.000000"
      ]
     },
     "execution_count": 31,
     "metadata": {},
     "output_type": "execute_result"
    }
   ],
   "source": [
    "platform_by_year.describe() # просмотр статистических данных"
   ]
  },
  {
   "cell_type": "markdown",
   "metadata": {},
   "source": [
    "В среднем платформа существует 11 лет. В качестве актуального примем период за 2014-2016 гг. включительно."
   ]
  },
  {
   "cell_type": "code",
   "execution_count": 32,
   "metadata": {},
   "outputs": [],
   "source": [
    "games_current_period = games.query('year_of_release > 2013 and year_of_release <= 2016') # срез данных в диапазоне между 2006 и 2016 г"
   ]
  },
  {
   "cell_type": "code",
   "execution_count": 33,
   "metadata": {},
   "outputs": [
    {
     "data": {
      "text/html": [
       "<div>\n",
       "<style scoped>\n",
       "    .dataframe tbody tr th:only-of-type {\n",
       "        vertical-align: middle;\n",
       "    }\n",
       "\n",
       "    .dataframe tbody tr th {\n",
       "        vertical-align: top;\n",
       "    }\n",
       "\n",
       "    .dataframe thead th {\n",
       "        text-align: right;\n",
       "    }\n",
       "</style>\n",
       "<table border=\"1\" class=\"dataframe\">\n",
       "  <thead>\n",
       "    <tr style=\"text-align: right;\">\n",
       "      <th></th>\n",
       "      <th>name</th>\n",
       "      <th>platform</th>\n",
       "      <th>year_of_release</th>\n",
       "      <th>genre</th>\n",
       "      <th>na_sales</th>\n",
       "      <th>eu_sales</th>\n",
       "      <th>jp_sales</th>\n",
       "      <th>other_sales</th>\n",
       "      <th>critic_score</th>\n",
       "      <th>user_score</th>\n",
       "      <th>rating</th>\n",
       "      <th>total sales</th>\n",
       "    </tr>\n",
       "  </thead>\n",
       "  <tbody>\n",
       "    <tr>\n",
       "      <td>31</td>\n",
       "      <td>Call of Duty: Black Ops 3</td>\n",
       "      <td>PS4</td>\n",
       "      <td>2015</td>\n",
       "      <td>Shooter</td>\n",
       "      <td>6.03</td>\n",
       "      <td>5.86</td>\n",
       "      <td>0.36</td>\n",
       "      <td>2.38</td>\n",
       "      <td>NaN</td>\n",
       "      <td>NaN</td>\n",
       "      <td>unknown</td>\n",
       "      <td>14.63</td>\n",
       "    </tr>\n",
       "    <tr>\n",
       "      <td>42</td>\n",
       "      <td>Grand Theft Auto V</td>\n",
       "      <td>PS4</td>\n",
       "      <td>2014</td>\n",
       "      <td>Action</td>\n",
       "      <td>3.96</td>\n",
       "      <td>6.31</td>\n",
       "      <td>0.38</td>\n",
       "      <td>1.97</td>\n",
       "      <td>97.0</td>\n",
       "      <td>8.3</td>\n",
       "      <td>M</td>\n",
       "      <td>12.62</td>\n",
       "    </tr>\n",
       "    <tr>\n",
       "      <td>47</td>\n",
       "      <td>Pokemon Omega Ruby/Pokemon Alpha Sapphire</td>\n",
       "      <td>3DS</td>\n",
       "      <td>2014</td>\n",
       "      <td>Role-Playing</td>\n",
       "      <td>4.35</td>\n",
       "      <td>3.49</td>\n",
       "      <td>3.10</td>\n",
       "      <td>0.74</td>\n",
       "      <td>NaN</td>\n",
       "      <td>NaN</td>\n",
       "      <td>unknown</td>\n",
       "      <td>11.68</td>\n",
       "    </tr>\n",
       "    <tr>\n",
       "      <td>77</td>\n",
       "      <td>FIFA 16</td>\n",
       "      <td>PS4</td>\n",
       "      <td>2015</td>\n",
       "      <td>Sports</td>\n",
       "      <td>1.12</td>\n",
       "      <td>6.12</td>\n",
       "      <td>0.06</td>\n",
       "      <td>1.28</td>\n",
       "      <td>82.0</td>\n",
       "      <td>4.3</td>\n",
       "      <td>E</td>\n",
       "      <td>8.58</td>\n",
       "    </tr>\n",
       "    <tr>\n",
       "      <td>87</td>\n",
       "      <td>Star Wars Battlefront (2015)</td>\n",
       "      <td>PS4</td>\n",
       "      <td>2015</td>\n",
       "      <td>Shooter</td>\n",
       "      <td>2.99</td>\n",
       "      <td>3.49</td>\n",
       "      <td>0.22</td>\n",
       "      <td>1.28</td>\n",
       "      <td>NaN</td>\n",
       "      <td>NaN</td>\n",
       "      <td>unknown</td>\n",
       "      <td>7.98</td>\n",
       "    </tr>\n",
       "  </tbody>\n",
       "</table>\n",
       "</div>"
      ],
      "text/plain": [
       "                                         name platform  year_of_release  \\\n",
       "31                  Call of Duty: Black Ops 3      PS4             2015   \n",
       "42                         Grand Theft Auto V      PS4             2014   \n",
       "47  Pokemon Omega Ruby/Pokemon Alpha Sapphire      3DS             2014   \n",
       "77                                    FIFA 16      PS4             2015   \n",
       "87               Star Wars Battlefront (2015)      PS4             2015   \n",
       "\n",
       "           genre  na_sales  eu_sales  jp_sales  other_sales  critic_score  \\\n",
       "31       Shooter      6.03      5.86      0.36         2.38           NaN   \n",
       "42        Action      3.96      6.31      0.38         1.97          97.0   \n",
       "47  Role-Playing      4.35      3.49      3.10         0.74           NaN   \n",
       "77        Sports      1.12      6.12      0.06         1.28          82.0   \n",
       "87       Shooter      2.99      3.49      0.22         1.28           NaN   \n",
       "\n",
       "    user_score   rating  total sales  \n",
       "31         NaN  unknown        14.63  \n",
       "42         8.3        M        12.62  \n",
       "47         NaN  unknown        11.68  \n",
       "77         4.3        E         8.58  \n",
       "87         NaN  unknown         7.98  "
      ]
     },
     "metadata": {},
     "output_type": "display_data"
    }
   ],
   "source": [
    "display(games_current_period.head()) # просмотр первых 5 строк"
   ]
  },
  {
   "cell_type": "markdown",
   "metadata": {},
   "source": [
    "Построим столбчатую диаграмму и посмотрим распределение продаж по платформам."
   ]
  },
  {
   "cell_type": "code",
   "execution_count": 34,
   "metadata": {},
   "outputs": [],
   "source": [
    "games_current_period_group = games_current_period.groupby('platform')['total sales'].sum().sort_values(ascending = True)"
   ]
  },
  {
   "cell_type": "code",
   "execution_count": 35,
   "metadata": {},
   "outputs": [
    {
     "data": {
      "image/png": "[encoded data removed]",
      "text/plain": [
       "<Figure size 720x360 with 1 Axes>"
      ]
     },
     "metadata": {
      "needs_background": "light"
     },
     "output_type": "display_data"
    }
   ],
   "source": [
    "games_current_period_group.plot(kind = 'barh', figsize =(10, 5))\n",
    "plt.title('Продажи игр за период 2014-2016гг')\n",
    "plt.show()"
   ]
  },
  {
   "cell_type": "markdown",
   "metadata": {},
   "source": [
    "По продажам лидируют PS4, XOne, 3DS, PS3, X360. Посмотрим как продажи по платформам распределяются по годам актуального периода."
   ]
  },
  {
   "cell_type": "code",
   "execution_count": 36,
   "metadata": {},
   "outputs": [
    {
     "data": {
      "text/html": [
       "<div>\n",
       "<style scoped>\n",
       "    .dataframe tbody tr th:only-of-type {\n",
       "        vertical-align: middle;\n",
       "    }\n",
       "\n",
       "    .dataframe tbody tr th {\n",
       "        vertical-align: top;\n",
       "    }\n",
       "\n",
       "    .dataframe thead th {\n",
       "        text-align: right;\n",
       "    }\n",
       "</style>\n",
       "<table border=\"1\" class=\"dataframe\">\n",
       "  <thead>\n",
       "    <tr style=\"text-align: right;\">\n",
       "      <th>platform</th>\n",
       "      <th>3DS</th>\n",
       "      <th>PC</th>\n",
       "      <th>PS3</th>\n",
       "      <th>PS4</th>\n",
       "      <th>PSP</th>\n",
       "      <th>PSV</th>\n",
       "      <th>Wii</th>\n",
       "      <th>WiiU</th>\n",
       "      <th>X360</th>\n",
       "      <th>XOne</th>\n",
       "    </tr>\n",
       "    <tr>\n",
       "      <th>year_of_release</th>\n",
       "      <th></th>\n",
       "      <th></th>\n",
       "      <th></th>\n",
       "      <th></th>\n",
       "      <th></th>\n",
       "      <th></th>\n",
       "      <th></th>\n",
       "      <th></th>\n",
       "      <th></th>\n",
       "      <th></th>\n",
       "    </tr>\n",
       "  </thead>\n",
       "  <tbody>\n",
       "    <tr>\n",
       "      <td>2014</td>\n",
       "      <td>43.76</td>\n",
       "      <td>13.28</td>\n",
       "      <td>47.76</td>\n",
       "      <td>100.00</td>\n",
       "      <td>0.24</td>\n",
       "      <td>11.90</td>\n",
       "      <td>3.75</td>\n",
       "      <td>22.03</td>\n",
       "      <td>34.74</td>\n",
       "      <td>54.07</td>\n",
       "    </tr>\n",
       "    <tr>\n",
       "      <td>2015</td>\n",
       "      <td>27.78</td>\n",
       "      <td>8.52</td>\n",
       "      <td>16.82</td>\n",
       "      <td>118.90</td>\n",
       "      <td>0.12</td>\n",
       "      <td>6.25</td>\n",
       "      <td>1.14</td>\n",
       "      <td>16.35</td>\n",
       "      <td>11.96</td>\n",
       "      <td>60.14</td>\n",
       "    </tr>\n",
       "    <tr>\n",
       "      <td>2016</td>\n",
       "      <td>15.14</td>\n",
       "      <td>5.25</td>\n",
       "      <td>3.60</td>\n",
       "      <td>69.25</td>\n",
       "      <td>NaN</td>\n",
       "      <td>4.25</td>\n",
       "      <td>0.18</td>\n",
       "      <td>4.60</td>\n",
       "      <td>1.52</td>\n",
       "      <td>26.15</td>\n",
       "    </tr>\n",
       "  </tbody>\n",
       "</table>\n",
       "</div>"
      ],
      "text/plain": [
       "platform           3DS     PC    PS3     PS4   PSP    PSV   Wii   WiiU   X360  \\\n",
       "year_of_release                                                                 \n",
       "2014             43.76  13.28  47.76  100.00  0.24  11.90  3.75  22.03  34.74   \n",
       "2015             27.78   8.52  16.82  118.90  0.12   6.25  1.14  16.35  11.96   \n",
       "2016             15.14   5.25   3.60   69.25   NaN   4.25  0.18   4.60   1.52   \n",
       "\n",
       "platform          XOne  \n",
       "year_of_release         \n",
       "2014             54.07  \n",
       "2015             60.14  \n",
       "2016             26.15  "
      ]
     },
     "metadata": {},
     "output_type": "display_data"
    }
   ],
   "source": [
    "platform_current_period = games_current_period.pivot_table(index = 'year_of_release', columns = 'platform', values ='total sales', aggfunc ='sum')\n",
    "display(platform_current_period)"
   ]
  },
  {
   "cell_type": "code",
   "execution_count": 37,
   "metadata": {},
   "outputs": [
    {
     "data": {
      "image/png": "[encoded data removed]",
      "text/plain": [
       "<Figure size 720x360 with 1 Axes>"
      ]
     },
     "metadata": {
      "needs_background": "light"
     },
     "output_type": "display_data"
    }
   ],
   "source": [
    "platform_current_period.plot(grid = True, figsize =(10, 5))\n",
    "plt.legend(loc='upper left')\n",
    "plt.xticks([2014,2015,2016])\n",
    "plt.title('Продажи игр по разным платформам за период 2014-2016гг')\n",
    "plt.show()"
   ]
  },
  {
   "cell_type": "markdown",
   "metadata": {},
   "source": [
    "Брать в расчет платформы, на которых к 2016 г уже не выпускают игры нет смысла, потому что нам нужен план на 2017г. Удалим их из данных и оставим только тех у кого был выпуск новой продукции в 2016г."
   ]
  },
  {
   "cell_type": "code",
   "execution_count": 38,
   "metadata": {},
   "outputs": [],
   "source": [
    "platform_list= ['3DS', 'PC','PS3','PS4','PSV','Wii','WiiU','X360','XOne'] # список платформ у которых был выпуск в 2016г\n",
    "actual_platforn = games_current_period.query('platform in @platform_list') # срез данных по актуальным платформам\n"
   ]
  },
  {
   "cell_type": "code",
   "execution_count": 39,
   "metadata": {},
   "outputs": [
    {
     "data": {
      "image/png": "[encoded data removed]",
      "text/plain": [
       "<Figure size 720x360 with 1 Axes>"
      ]
     },
     "metadata": {
      "needs_background": "light"
     },
     "output_type": "display_data"
    }
   ],
   "source": [
    "actual_platforn.pivot_table(index = 'year_of_release', columns = 'platform', values ='total sales', aggfunc ='sum').plot(grid = True, figsize =(10, 5))\n",
    "plt.title('Продажи игр по платформам за период 2014-2016гг')\n",
    "plt.xticks([2014,2015,2016])\n",
    "plt.show()"
   ]
  },
  {
   "cell_type": "markdown",
   "metadata": {},
   "source": [
    "Даже из 9 платформ, которые выпускали игры еще в 2016г, многие сильно снизили свои продажи, т.е они в самом конце жизненного цикла. Пожалуй только 3DS, PC, PS4, PSV, WiiU, XOne будут выпускать игры в 2017г в достаточном объеме. Но у всех идет тенденция к снижению объема выпуска."
   ]
  },
  {
   "cell_type": "markdown",
   "metadata": {},
   "source": [
    "Посмотрим по каким платформам самые большие продажи в 2016г, построив стобчатую диаграмму:"
   ]
  },
  {
   "cell_type": "code",
   "execution_count": 40,
   "metadata": {},
   "outputs": [
    {
     "data": {
      "image/png": "[encoded data removed]",
      "text/plain": [
       "<Figure size 720x432 with 1 Axes>"
      ]
     },
     "metadata": {
      "needs_background": "light"
     },
     "output_type": "display_data"
    }
   ],
   "source": [
    "actual_platforn.loc[actual_platforn['year_of_release'] == 2016].pivot_table(index = 'year_of_release', columns = 'platform', values ='total sales', aggfunc ='sum').plot(kind = 'bar', grid = True, figsize =(10, 6))\n",
    "plt.title('Количество продаж игр по разным платформам в 2016г')\n",
    "plt.show()"
   ]
  },
  {
   "cell_type": "markdown",
   "metadata": {},
   "source": [
    "Теперь можно выбрать тройку платформ, которые не смотря на снижение объемов продаж в 2017 г будут еще достаточно прибыльны. На первом месте PS4, на втором XOne, и на третьем 3DS."
   ]
  },
  {
   "cell_type": "markdown",
   "metadata": {},
   "source": [
    "Построим диаграмму размаха по глобальным продажам игр в разбивке по платформам."
   ]
  },
  {
   "cell_type": "code",
   "execution_count": 41,
   "metadata": {},
   "outputs": [
    {
     "data": {
      "image/png": "[encoded data removed]",
      "text/plain": [
       "<Figure size 720x432 with 1 Axes>"
      ]
     },
     "metadata": {
      "needs_background": "light"
     },
     "output_type": "display_data"
    }
   ],
   "source": [
    "games_current_period.pivot_table(index = 'name', columns = 'platform', values ='total sales', aggfunc ='sum').boxplot(figsize =(10, 6))\n",
    "plt.ylim(0,2)\n",
    "plt.show()"
   ]
  },
  {
   "cell_type": "code",
   "execution_count": 42,
   "metadata": {},
   "outputs": [
    {
     "data": {
      "text/html": [
       "<div>\n",
       "<style scoped>\n",
       "    .dataframe tbody tr th:only-of-type {\n",
       "        vertical-align: middle;\n",
       "    }\n",
       "\n",
       "    .dataframe tbody tr th {\n",
       "        vertical-align: top;\n",
       "    }\n",
       "\n",
       "    .dataframe thead th {\n",
       "        text-align: right;\n",
       "    }\n",
       "</style>\n",
       "<table border=\"1\" class=\"dataframe\">\n",
       "  <thead>\n",
       "    <tr style=\"text-align: right;\">\n",
       "      <th>platform</th>\n",
       "      <th>3DS</th>\n",
       "      <th>PC</th>\n",
       "      <th>PS3</th>\n",
       "      <th>PS4</th>\n",
       "      <th>PSP</th>\n",
       "      <th>PSV</th>\n",
       "      <th>Wii</th>\n",
       "      <th>WiiU</th>\n",
       "      <th>X360</th>\n",
       "      <th>XOne</th>\n",
       "    </tr>\n",
       "  </thead>\n",
       "  <tbody>\n",
       "    <tr>\n",
       "      <td>count</td>\n",
       "      <td>212.000000</td>\n",
       "      <td>151.000000</td>\n",
       "      <td>219.000000</td>\n",
       "      <td>376.000000</td>\n",
       "      <td>13.000000</td>\n",
       "      <td>295.000000</td>\n",
       "      <td>11.000000</td>\n",
       "      <td>73.000000</td>\n",
       "      <td>111.000000</td>\n",
       "      <td>228.000000</td>\n",
       "    </tr>\n",
       "    <tr>\n",
       "      <td>mean</td>\n",
       "      <td>0.408868</td>\n",
       "      <td>0.179139</td>\n",
       "      <td>0.311324</td>\n",
       "      <td>0.766356</td>\n",
       "      <td>0.027692</td>\n",
       "      <td>0.075932</td>\n",
       "      <td>0.460909</td>\n",
       "      <td>0.588767</td>\n",
       "      <td>0.434414</td>\n",
       "      <td>0.615614</td>\n",
       "    </tr>\n",
       "    <tr>\n",
       "      <td>std</td>\n",
       "      <td>1.188368</td>\n",
       "      <td>0.329359</td>\n",
       "      <td>0.633059</td>\n",
       "      <td>1.614969</td>\n",
       "      <td>0.027735</td>\n",
       "      <td>0.141591</td>\n",
       "      <td>0.625451</td>\n",
       "      <td>1.161467</td>\n",
       "      <td>0.628967</td>\n",
       "      <td>1.046513</td>\n",
       "    </tr>\n",
       "    <tr>\n",
       "      <td>min</td>\n",
       "      <td>0.010000</td>\n",
       "      <td>0.010000</td>\n",
       "      <td>0.010000</td>\n",
       "      <td>0.010000</td>\n",
       "      <td>0.010000</td>\n",
       "      <td>0.010000</td>\n",
       "      <td>0.010000</td>\n",
       "      <td>0.010000</td>\n",
       "      <td>0.010000</td>\n",
       "      <td>0.010000</td>\n",
       "    </tr>\n",
       "    <tr>\n",
       "      <td>25%</td>\n",
       "      <td>0.030000</td>\n",
       "      <td>0.020000</td>\n",
       "      <td>0.040000</td>\n",
       "      <td>0.057500</td>\n",
       "      <td>0.010000</td>\n",
       "      <td>0.020000</td>\n",
       "      <td>0.035000</td>\n",
       "      <td>0.050000</td>\n",
       "      <td>0.070000</td>\n",
       "      <td>0.050000</td>\n",
       "    </tr>\n",
       "    <tr>\n",
       "      <td>50%</td>\n",
       "      <td>0.090000</td>\n",
       "      <td>0.060000</td>\n",
       "      <td>0.110000</td>\n",
       "      <td>0.185000</td>\n",
       "      <td>0.020000</td>\n",
       "      <td>0.040000</td>\n",
       "      <td>0.180000</td>\n",
       "      <td>0.190000</td>\n",
       "      <td>0.180000</td>\n",
       "      <td>0.205000</td>\n",
       "    </tr>\n",
       "    <tr>\n",
       "      <td>75%</td>\n",
       "      <td>0.250000</td>\n",
       "      <td>0.200000</td>\n",
       "      <td>0.325000</td>\n",
       "      <td>0.690000</td>\n",
       "      <td>0.020000</td>\n",
       "      <td>0.090000</td>\n",
       "      <td>0.755000</td>\n",
       "      <td>0.570000</td>\n",
       "      <td>0.505000</td>\n",
       "      <td>0.632500</td>\n",
       "    </tr>\n",
       "    <tr>\n",
       "      <td>max</td>\n",
       "      <td>11.680000</td>\n",
       "      <td>3.050000</td>\n",
       "      <td>5.270000</td>\n",
       "      <td>14.630000</td>\n",
       "      <td>0.090000</td>\n",
       "      <td>1.960000</td>\n",
       "      <td>2.010000</td>\n",
       "      <td>7.090000</td>\n",
       "      <td>4.280000</td>\n",
       "      <td>7.390000</td>\n",
       "    </tr>\n",
       "  </tbody>\n",
       "</table>\n",
       "</div>"
      ],
      "text/plain": [
       "platform         3DS          PC         PS3         PS4        PSP  \\\n",
       "count     212.000000  151.000000  219.000000  376.000000  13.000000   \n",
       "mean        0.408868    0.179139    0.311324    0.766356   0.027692   \n",
       "std         1.188368    0.329359    0.633059    1.614969   0.027735   \n",
       "min         0.010000    0.010000    0.010000    0.010000   0.010000   \n",
       "25%         0.030000    0.020000    0.040000    0.057500   0.010000   \n",
       "50%         0.090000    0.060000    0.110000    0.185000   0.020000   \n",
       "75%         0.250000    0.200000    0.325000    0.690000   0.020000   \n",
       "max        11.680000    3.050000    5.270000   14.630000   0.090000   \n",
       "\n",
       "platform         PSV        Wii       WiiU        X360        XOne  \n",
       "count     295.000000  11.000000  73.000000  111.000000  228.000000  \n",
       "mean        0.075932   0.460909   0.588767    0.434414    0.615614  \n",
       "std         0.141591   0.625451   1.161467    0.628967    1.046513  \n",
       "min         0.010000   0.010000   0.010000    0.010000    0.010000  \n",
       "25%         0.020000   0.035000   0.050000    0.070000    0.050000  \n",
       "50%         0.040000   0.180000   0.190000    0.180000    0.205000  \n",
       "75%         0.090000   0.755000   0.570000    0.505000    0.632500  \n",
       "max         1.960000   2.010000   7.090000    4.280000    7.390000  "
      ]
     },
     "metadata": {},
     "output_type": "display_data"
    }
   ],
   "source": [
    "display(games_current_period.pivot_table(index = 'name', columns = 'platform', values ='total sales', aggfunc ='sum').describe())"
   ]
  },
  {
   "cell_type": "markdown",
   "metadata": {},
   "source": [
    "На диаграмме видно, что в данных есть выбросы, т.е значения лежашие за пределами \"усов\" диаграммы размаха."
   ]
  },
  {
   "cell_type": "markdown",
   "metadata": {},
   "source": [
    "### Исследование влияния отзывов на продажи"
   ]
  },
  {
   "cell_type": "markdown",
   "metadata": {},
   "source": [
    "Посмотрим как влияют на продажи внутри одной популярной платформы отзывы критиков и пользователей. Для примера возьмем платформу PS4, как популярную в последние годы и еще актуальную в 2016г. Можно было бы взять для анализа платформу X360, у которой за последние 11 лет (за период с 2006 по 2016 годы включительно) были самые большие продажи, но в 2016г продажи игр на этой  платформе сильно снизились и уже понятно, что в ближайший год, максимум два игры для этой платформы перестанут выпускать (ей на смену пришла платформа XOne). А нам нужно постоить план на 2017г и для этого возьмем самую перспективную платформу из имеющихся на 2016г."
   ]
  },
  {
   "cell_type": "markdown",
   "metadata": {},
   "source": [
    "Считаю необходимым для проверки зависимости продаж от отзывов, убрать из выборки те строки, где отзывы равны 0. Конечно, можно предположить, что продажи будут ниже, если стоит оценка 0. Но всегда есть вероятность, что нули возникли из-за некоректного внесения значений. Вот поэтому, чтобы исключить \"спорные\" строки, делаем анализ, только по тем данным, где значение отлично от нуля."
   ]
  },
  {
   "cell_type": "code",
   "execution_count": 43,
   "metadata": {},
   "outputs": [],
   "source": [
    "top_platform = games_current_period.loc[games_current_period['platform'] == 'PS4'] # с помощью логической индексации сохраняем в переменную строки соответствующие условию"
   ]
  },
  {
   "cell_type": "markdown",
   "metadata": {},
   "source": [
    "Мы не будем создавать отдельные переменные для расчета коэффициента корреляции, а просто прямо передадим методу нужные срезы данных"
   ]
  },
  {
   "cell_type": "code",
   "execution_count": 44,
   "metadata": {},
   "outputs": [
    {
     "data": {
      "text/plain": [
       "0.40266141068104083"
      ]
     },
     "execution_count": 44,
     "metadata": {},
     "output_type": "execute_result"
    }
   ],
   "source": [
    "top_platform.query('critic_score > 0')['total sales'].corr(top_platform.query('critic_score > 0')['critic_score']) # расчет корреляции между продажами и отзывами критиков"
   ]
  },
  {
   "cell_type": "markdown",
   "metadata": {},
   "source": [
    "Коэффициент корреляции Пирсона между продажами и оценками критиков средний. Прямая зависимость есть, но она умеренная."
   ]
  },
  {
   "cell_type": "code",
   "execution_count": 45,
   "metadata": {},
   "outputs": [
    {
     "data": {
      "text/plain": [
       "-0.040131589472697356"
      ]
     },
     "execution_count": 45,
     "metadata": {},
     "output_type": "execute_result"
    }
   ],
   "source": [
    "top_platform.query('user_score>0')['total sales'].corr(top_platform.query('user_score>0')['user_score']) # расчет корреляции между продажами и отзывами пользователей"
   ]
  },
  {
   "cell_type": "markdown",
   "metadata": {},
   "source": [
    "Коэффициент корреляции Пирсона между продажами и оценками пользователей близок к нулю. Наблюдаемся очень слабая, но отрицательная корреляция."
   ]
  },
  {
   "cell_type": "markdown",
   "metadata": {},
   "source": [
    "Построим диаграммы рассеивания:"
   ]
  },
  {
   "cell_type": "code",
   "execution_count": 46,
   "metadata": {},
   "outputs": [
    {
     "data": {
      "image/png": "[encoded data removed]",
      "text/plain": [
       "<Figure size 720x432 with 1 Axes>"
      ]
     },
     "metadata": {
      "needs_background": "light"
     },
     "output_type": "display_data"
    }
   ],
   "source": [
    "top_platform.query('critic_score > 0').plot(x='total sales', y = 'critic_score', kind = 'scatter', figsize =(10, 6)) # диаграмма рассеивания \"продажи-отзывы критиков\"\n",
    "plt.title('Связь продаж и отзывов критиков платформы PS4')\n",
    "plt.show()"
   ]
  },
  {
   "cell_type": "code",
   "execution_count": 47,
   "metadata": {},
   "outputs": [
    {
     "data": {
      "image/png": "[encoded data removed]",
      "text/plain": [
       "<Figure size 720x432 with 1 Axes>"
      ]
     },
     "metadata": {
      "needs_background": "light"
     },
     "output_type": "display_data"
    }
   ],
   "source": [
    "top_platform.query('user_score > 0').plot(x='total sales', y = 'user_score', kind = 'scatter', figsize =(10, 6)) # диаграмма рассеивания \"продажи-отзывы пользователей\"\n",
    "plt.title('Связь продаж и отзывов пользователей платформы PS4')\n",
    "plt.show()"
   ]
  },
  {
   "cell_type": "markdown",
   "metadata": {},
   "source": [
    "Диаграмма рассеивания подтвердила вывод сделанный по коэффициенту корреляции. В паре \"продажи- оценки критиков\", данные более сконцентрированы и просматривается зависимость, хотя и не очень сильная. В паре \"продажи- оценки пользователей\" точки рассеяны достаточно произвольно без какого-либо общего тренда."
   ]
  },
  {
   "cell_type": "markdown",
   "metadata": {},
   "source": [
    "Теперь посмотрим общие тенденции по всем остальным платформам, которые были у нас в актуальном периоде. Из данных исключим строки с нулевым значением отзывов и строки с платформой PS4 - ее мы уже посмотрели и было бы интересно посмотреть данные без ее влияния."
   ]
  },
  {
   "cell_type": "code",
   "execution_count": 48,
   "metadata": {},
   "outputs": [
    {
     "data": {
      "text/plain": [
       "0.30947400260011515"
      ]
     },
     "execution_count": 48,
     "metadata": {},
     "output_type": "execute_result"
    }
   ],
   "source": [
    "games_current_period.query('critic_score >0 and platform != \"PS4\"')['total sales'].corr(games_current_period.query('critic_score>0 and platform != \"PS4\"')['critic_score']) \n",
    "# расчет корреляции между продажами и отзывами критиков"
   ]
  },
  {
   "cell_type": "code",
   "execution_count": 49,
   "metadata": {},
   "outputs": [
    {
     "data": {
      "text/plain": [
       "-0.02347818723797556"
      ]
     },
     "execution_count": 49,
     "metadata": {},
     "output_type": "execute_result"
    }
   ],
   "source": [
    "games_current_period.query('user_score > 0 and platform != \"PS4\"')['total sales'].corr(games_current_period.query('user_score > 0 and platform != \"PS4\"')['user_score'])\n",
    "# расчет корреляции между продажами и отзывами пользователей"
   ]
  },
  {
   "cell_type": "markdown",
   "metadata": {},
   "source": [
    "Коэффициент корреляции в паре \"продажи - оценки критиков\" ниже, чем для платформы PS4. Корреляция положительная, связь достаточно слабая. А в паре \"продажи - оценки пользователей\", корреляция практически отсустствует, и она также отрицательная, как у PS4."
   ]
  },
  {
   "cell_type": "code",
   "execution_count": 50,
   "metadata": {},
   "outputs": [
    {
     "data": {
      "image/png": "[encoded data removed]",
      "text/plain": [
       "<Figure size 720x432 with 1 Axes>"
      ]
     },
     "metadata": {
      "needs_background": "light"
     },
     "output_type": "display_data"
    }
   ],
   "source": [
    "games_current_period.query('critic_score > 0 and platform != \"PS4\"').plot(x='total sales', y = 'critic_score', kind = 'scatter', figsize =(10, 6)) # диаграмма рассеивания \"продажи-отзывы критиков\n",
    "plt.title('Связь продаж и отзывов критиков')\n",
    "plt.show()"
   ]
  },
  {
   "cell_type": "code",
   "execution_count": 51,
   "metadata": {},
   "outputs": [
    {
     "data": {
      "image/png": "[encoded data removed]",
      "text/plain": [
       "<Figure size 720x432 with 1 Axes>"
      ]
     },
     "metadata": {
      "needs_background": "light"
     },
     "output_type": "display_data"
    }
   ],
   "source": [
    "games_current_period.query('user_score > 0 and platform != \"PS4\"').plot(x='total sales', y = 'user_score', kind = 'scatter', figsize =(10, 6)) # диаграмма рассеивания \"продажи-отзывы пользователей\n",
    "plt.title('Связь продаж и отзывов пользователей')\n",
    "plt.show()"
   ]
  },
  {
   "cell_type": "markdown",
   "metadata": {},
   "source": [
    "Диаграмма рассеивания для пары \"продажи-оценки пользователей\"по прежнему достаточно хаотична."
   ]
  },
  {
   "cell_type": "markdown",
   "metadata": {},
   "source": [
    "### Анализ распределения игр по жанрам"
   ]
  },
  {
   "cell_type": "markdown",
   "metadata": {},
   "source": [
    "Посмотрим на распределение игр по жанрам за актуальный период (напомню актуальным у нас принят период 2014-2016гг включительно)"
   ]
  },
  {
   "cell_type": "markdown",
   "metadata": {},
   "source": [
    "Создадим сводную таблицу и построим столбчатую диаграмму. В столбцах считается количество игр выпущенных на каждой конкретной платформе."
   ]
  },
  {
   "cell_type": "code",
   "execution_count": 52,
   "metadata": {},
   "outputs": [
    {
     "data": {
      "image/png": "[encoded data removed]",
      "text/plain": [
       "<Figure size 720x432 with 1 Axes>"
      ]
     },
     "metadata": {
      "needs_background": "light"
     },
     "output_type": "display_data"
    }
   ],
   "source": [
    "games_current_period.pivot_table(index = 'genre', values ='name', aggfunc ='count').sort_values(by='name', ascending = False).plot(kind = 'bar', grid = True, figsize =(10, 6))\n",
    "plt.title('Количество выпущенных игр по жанрам')\n",
    "plt.show()"
   ]
  },
  {
   "cell_type": "markdown",
   "metadata": {},
   "source": [
    "Наибольшее количество игр выпускается в жанре экшен, а меньше всего в жанре платформер."
   ]
  },
  {
   "cell_type": "markdown",
   "metadata": {},
   "source": [
    "Теперь посмотрим продажи по жанрам. Игры какого жанра продаются лучше. Для сравнения посмотрим среднее по продажам и медиану."
   ]
  },
  {
   "cell_type": "code",
   "execution_count": 53,
   "metadata": {},
   "outputs": [
    {
     "data": {
      "image/png": "[encoded data removed]",
      "text/plain": [
       "<Figure size 720x432 with 1 Axes>"
      ]
     },
     "metadata": {
      "needs_background": "light"
     },
     "output_type": "display_data"
    }
   ],
   "source": [
    "games_current_period.pivot_table(index = 'genre', values ='total sales', aggfunc ='mean').sort_values(by='total sales', ascending = False).plot(kind = 'bar', grid = True, figsize =(10, 6))\n",
    "plt.title('Средние продажи игр по жанрам')\n",
    "plt.show()"
   ]
  },
  {
   "cell_type": "markdown",
   "metadata": {},
   "source": [
    "Не смотря на то, что игр в жанре экшен выпушено больше всего, в лидеры по продажам попадает шестерка жанров: Shooter, Sports, Platform, Fighting, Role-Playing. "
   ]
  },
  {
   "cell_type": "code",
   "execution_count": 54,
   "metadata": {},
   "outputs": [
    {
     "data": {
      "image/png": "[encoded data removed]",
      "text/plain": [
       "<Figure size 720x432 with 1 Axes>"
      ]
     },
     "metadata": {
      "needs_background": "light"
     },
     "output_type": "display_data"
    }
   ],
   "source": [
    "games_current_period.pivot_table(index = 'genre', values ='total sales', aggfunc ='median').sort_values(by='total sales', ascending = False).plot(kind = 'bar', grid = True, figsize =(10, 6))\n",
    "plt.title('Медиана продаж игр по жанрам')\n",
    "plt.show()"
   ]
  },
  {
   "cell_type": "markdown",
   "metadata": {},
   "source": [
    "Интересно, что и при расчете медианы и при расчете среднего, пятерка лидиров у нас одинаковая. Далее идут разные вариации. "
   ]
  },
  {
   "cell_type": "markdown",
   "metadata": {},
   "source": [
    "**Вывод**"
   ]
  },
  {
   "cell_type": "markdown",
   "metadata": {},
   "source": [
    "В данном разделе мы посмотрели распределение игр по годам, по платформам и жанрам. Выявили какие платформы и жанры наиболее популярны."
   ]
  },
  {
   "cell_type": "markdown",
   "metadata": {},
   "source": [
    "Мы обнаружили, что платформа живет в среднем 11 лет, а потом ей на смену приходит другая более удобная, технологичная (как говорят \"продвинутая\"). В качестве актуального приняли период с 2014 по 2016гг. включительно."
   ]
  },
  {
   "cell_type": "markdown",
   "metadata": {},
   "source": [
    "При анализе, какие же платформы самые популярные мы выявили список, но оказалось что для части из них, к 2016г уже перестали выпускать игры или их выпуск минимален. Помня о том, что нам нужно построить план на 2017г., мы приняли целесообразным посмотреть только те платформы, которые не закрылись к 2016г. И мы получили тройку лидеров по продажам: PS4, XOne, 3DS."
   ]
  },
  {
   "cell_type": "markdown",
   "metadata": {},
   "source": [
    "Далее мы посмотрели насколько отзывы критиков и пользователей влияют на продажи на примере одной популярной платформы, а затем все остальные платформы. Оказалось, что для платформы PS4 связь между продажами и отзывами критиков существует и она средняя, а связи между отзывами пользователей и продажами игр на этой платформе практически нет, более того она отрицательная. Данные по корреляции между продажами и отзывами по всем остальным платформам немного отличаются, от данных по PS4 - корреляция между продажами и отзывами критиков более слабая, а корреляция между отзывами пользователей и продажами, практически отсутствует как и для PS4."
   ]
  },
  {
   "cell_type": "markdown",
   "metadata": {},
   "source": [
    "Мы также посмотрели какие жанры наиболее популярны. В лидерах продаж у нас оказались: Shooter, Sports, Platform, Fighting, Role-Playing. При этом наибольшее количество игр выпускается в жанре Action, но если смотреть по медиане, то этот жанр только седьмой в списке."
   ]
  },
  {
   "cell_type": "markdown",
   "metadata": {},
   "source": [
    "## Портрет пользователя каждого жанра"
   ]
  },
  {
   "cell_type": "markdown",
   "metadata": {},
   "source": [
    "В этом разделе мы посмотрим какие жанры характерны, для того или иного региона, определим самые популярные в регионах платформы и посмотрим влияет ли рейтинг ESRB на продажи."
   ]
  },
  {
   "cell_type": "markdown",
   "metadata": {},
   "source": [
    "### Анализ популярных платформ по регионам"
   ]
  },
  {
   "cell_type": "markdown",
   "metadata": {},
   "source": [
    "Поскольку нам нужно построить план на 2017г, то для анализа популярных платформ посмотрим данные за 2016г"
   ]
  },
  {
   "cell_type": "code",
   "execution_count": 55,
   "metadata": {},
   "outputs": [],
   "source": [
    "platform_region = games_current_period.query('year_of_release == 2016') \n"
   ]
  },
  {
   "cell_type": "markdown",
   "metadata": {},
   "source": [
    "Для каждого региона построим столбчатую диаграмму, а затем выделим пятерку лидирующих по продажам платформ. Начнем с Северной Америки:"
   ]
  },
  {
   "cell_type": "code",
   "execution_count": 56,
   "metadata": {},
   "outputs": [
    {
     "data": {
      "image/png": "[encoded data removed]",
      "text/plain": [
       "<Figure size 720x360 with 1 Axes>"
      ]
     },
     "metadata": {
      "needs_background": "light"
     },
     "output_type": "display_data"
    }
   ],
   "source": [
    "platform_region.pivot_table(index = 'platform', values = 'na_sales', aggfunc ='sum').sort_values(by = 'na_sales', ascending = True).plot(kind = 'barh', figsize =(10, 5))\n",
    "plt.title('Продажи игр по платформам в Северной Америке')\n",
    "plt.show()"
   ]
  },
  {
   "cell_type": "code",
   "execution_count": 57,
   "metadata": {},
   "outputs": [
    {
     "data": {
      "text/html": [
       "<div>\n",
       "<style scoped>\n",
       "    .dataframe tbody tr th:only-of-type {\n",
       "        vertical-align: middle;\n",
       "    }\n",
       "\n",
       "    .dataframe tbody tr th {\n",
       "        vertical-align: top;\n",
       "    }\n",
       "\n",
       "    .dataframe thead th {\n",
       "        text-align: right;\n",
       "    }\n",
       "</style>\n",
       "<table border=\"1\" class=\"dataframe\">\n",
       "  <thead>\n",
       "    <tr style=\"text-align: right;\">\n",
       "      <th></th>\n",
       "      <th>na_sales</th>\n",
       "    </tr>\n",
       "    <tr>\n",
       "      <th>platform</th>\n",
       "      <th></th>\n",
       "    </tr>\n",
       "  </thead>\n",
       "  <tbody>\n",
       "    <tr>\n",
       "      <td>PS4</td>\n",
       "      <td>21.49</td>\n",
       "    </tr>\n",
       "    <tr>\n",
       "      <td>XOne</td>\n",
       "      <td>14.27</td>\n",
       "    </tr>\n",
       "    <tr>\n",
       "      <td>3DS</td>\n",
       "      <td>4.14</td>\n",
       "    </tr>\n",
       "    <tr>\n",
       "      <td>WiiU</td>\n",
       "      <td>2.10</td>\n",
       "    </tr>\n",
       "    <tr>\n",
       "      <td>PC</td>\n",
       "      <td>1.36</td>\n",
       "    </tr>\n",
       "  </tbody>\n",
       "</table>\n",
       "</div>"
      ],
      "text/plain": [
       "          na_sales\n",
       "platform          \n",
       "PS4          21.49\n",
       "XOne         14.27\n",
       "3DS           4.14\n",
       "WiiU          2.10\n",
       "PC            1.36"
      ]
     },
     "metadata": {},
     "output_type": "display_data"
    }
   ],
   "source": [
    "na_sales_platform_top = platform_region.pivot_table(index = 'platform', values = 'na_sales', aggfunc ='sum').sort_values(by = 'na_sales', ascending = False)[0:5]\n",
    "display(na_sales_platform_top)"
   ]
  },
  {
   "cell_type": "markdown",
   "metadata": {},
   "source": [
    "Как и ранее в анализе без разбивки по регионам, лидирует PS4. За ней идут: XOne, 3DS, WiiU, PC. Далее посмотрим Европу:"
   ]
  },
  {
   "cell_type": "code",
   "execution_count": 58,
   "metadata": {},
   "outputs": [
    {
     "data": {
      "image/png": "[encoded data removed]",
      "text/plain": [
       "<Figure size 720x360 with 1 Axes>"
      ]
     },
     "metadata": {
      "needs_background": "light"
     },
     "output_type": "display_data"
    }
   ],
   "source": [
    "platform_region.pivot_table(index = 'platform', values = 'eu_sales', aggfunc ='sum').sort_values(by = 'eu_sales', ascending = True).plot(kind = 'barh', figsize =(10, 5))\n",
    "plt.title('Продажи игр по платформам в Европе')\n",
    "plt.show()"
   ]
  },
  {
   "cell_type": "code",
   "execution_count": 59,
   "metadata": {},
   "outputs": [
    {
     "data": {
      "text/html": [
       "<div>\n",
       "<style scoped>\n",
       "    .dataframe tbody tr th:only-of-type {\n",
       "        vertical-align: middle;\n",
       "    }\n",
       "\n",
       "    .dataframe tbody tr th {\n",
       "        vertical-align: top;\n",
       "    }\n",
       "\n",
       "    .dataframe thead th {\n",
       "        text-align: right;\n",
       "    }\n",
       "</style>\n",
       "<table border=\"1\" class=\"dataframe\">\n",
       "  <thead>\n",
       "    <tr style=\"text-align: right;\">\n",
       "      <th></th>\n",
       "      <th>eu_sales</th>\n",
       "    </tr>\n",
       "    <tr>\n",
       "      <th>platform</th>\n",
       "      <th></th>\n",
       "    </tr>\n",
       "  </thead>\n",
       "  <tbody>\n",
       "    <tr>\n",
       "      <td>PS4</td>\n",
       "      <td>31.78</td>\n",
       "    </tr>\n",
       "    <tr>\n",
       "      <td>XOne</td>\n",
       "      <td>9.63</td>\n",
       "    </tr>\n",
       "    <tr>\n",
       "      <td>PC</td>\n",
       "      <td>3.53</td>\n",
       "    </tr>\n",
       "    <tr>\n",
       "      <td>3DS</td>\n",
       "      <td>2.33</td>\n",
       "    </tr>\n",
       "    <tr>\n",
       "      <td>WiiU</td>\n",
       "      <td>1.48</td>\n",
       "    </tr>\n",
       "  </tbody>\n",
       "</table>\n",
       "</div>"
      ],
      "text/plain": [
       "          eu_sales\n",
       "platform          \n",
       "PS4          31.78\n",
       "XOne          9.63\n",
       "PC            3.53\n",
       "3DS           2.33\n",
       "WiiU          1.48"
      ]
     },
     "metadata": {},
     "output_type": "display_data"
    }
   ],
   "source": [
    "eu_sales_platform_top = platform_region.pivot_table(index = 'platform', values = 'eu_sales', aggfunc ='sum').sort_values(by = 'eu_sales', ascending = False)[0:5]\n",
    "display(eu_sales_platform_top)"
   ]
  },
  {
   "cell_type": "markdown",
   "metadata": {},
   "source": [
    "И здесь лидирует PS4. За ним идет XOne, как и в Северной Америке, а дальше три платформы повторяются как в Америке, но у них другое распределение мест по популярности. Что же у нас в Японии?"
   ]
  },
  {
   "cell_type": "code",
   "execution_count": 60,
   "metadata": {},
   "outputs": [
    {
     "data": {
      "image/png": "[encoded data removed]",
      "text/plain": [
       "<Figure size 720x360 with 1 Axes>"
      ]
     },
     "metadata": {
      "needs_background": "light"
     },
     "output_type": "display_data"
    }
   ],
   "source": [
    "platform_region.pivot_table(index = 'platform', values = 'jp_sales', aggfunc ='sum').sort_values(by = 'jp_sales', ascending = True).plot(kind = 'barh', figsize =(10, 5))\n",
    "plt.title('Продажи игр по платформам в Японии')\n",
    "plt.show()"
   ]
  },
  {
   "cell_type": "code",
   "execution_count": 61,
   "metadata": {},
   "outputs": [
    {
     "data": {
      "text/html": [
       "<div>\n",
       "<style scoped>\n",
       "    .dataframe tbody tr th:only-of-type {\n",
       "        vertical-align: middle;\n",
       "    }\n",
       "\n",
       "    .dataframe tbody tr th {\n",
       "        vertical-align: top;\n",
       "    }\n",
       "\n",
       "    .dataframe thead th {\n",
       "        text-align: right;\n",
       "    }\n",
       "</style>\n",
       "<table border=\"1\" class=\"dataframe\">\n",
       "  <thead>\n",
       "    <tr style=\"text-align: right;\">\n",
       "      <th></th>\n",
       "      <th>jp_sales</th>\n",
       "    </tr>\n",
       "    <tr>\n",
       "      <th>platform</th>\n",
       "      <th></th>\n",
       "    </tr>\n",
       "  </thead>\n",
       "  <tbody>\n",
       "    <tr>\n",
       "      <td>3DS</td>\n",
       "      <td>8.03</td>\n",
       "    </tr>\n",
       "    <tr>\n",
       "      <td>PS4</td>\n",
       "      <td>5.74</td>\n",
       "    </tr>\n",
       "    <tr>\n",
       "      <td>PSV</td>\n",
       "      <td>3.56</td>\n",
       "    </tr>\n",
       "    <tr>\n",
       "      <td>PS3</td>\n",
       "      <td>1.30</td>\n",
       "    </tr>\n",
       "    <tr>\n",
       "      <td>WiiU</td>\n",
       "      <td>0.67</td>\n",
       "    </tr>\n",
       "  </tbody>\n",
       "</table>\n",
       "</div>"
      ],
      "text/plain": [
       "          jp_sales\n",
       "platform          \n",
       "3DS           8.03\n",
       "PS4           5.74\n",
       "PSV           3.56\n",
       "PS3           1.30\n",
       "WiiU          0.67"
      ]
     },
     "metadata": {},
     "output_type": "display_data"
    }
   ],
   "source": [
    "jp_sales_platform_top = platform_region.pivot_table(index = 'platform', values = 'jp_sales', aggfunc ='sum').sort_values(by = 'jp_sales', ascending = False)[0:5]\n",
    "display(jp_sales_platform_top)"
   ]
  },
  {
   "cell_type": "markdown",
   "metadata": {},
   "source": [
    "Здесь тоже есть PS4, но он уже не на первом месте, а XOne и PC вообще нет, но появились платформы PSV и PS3. И напоследок посмотрим \"другие\" страны:"
   ]
  },
  {
   "cell_type": "code",
   "execution_count": 62,
   "metadata": {},
   "outputs": [
    {
     "data": {
      "image/png": "[encoded data removed]",
      "text/plain": [
       "<Figure size 720x360 with 1 Axes>"
      ]
     },
     "metadata": {
      "needs_background": "light"
     },
     "output_type": "display_data"
    }
   ],
   "source": [
    "platform_region.pivot_table(index = 'platform', values = 'other_sales', aggfunc ='sum').sort_values(by = 'other_sales', ascending = True).plot(kind = 'barh', figsize =(10, 5))\n",
    "plt.title('Продажи игр по платформам \"другие\" страны')\n",
    "plt.show()"
   ]
  },
  {
   "cell_type": "code",
   "execution_count": 63,
   "metadata": {},
   "outputs": [
    {
     "data": {
      "text/html": [
       "<div>\n",
       "<style scoped>\n",
       "    .dataframe tbody tr th:only-of-type {\n",
       "        vertical-align: middle;\n",
       "    }\n",
       "\n",
       "    .dataframe tbody tr th {\n",
       "        vertical-align: top;\n",
       "    }\n",
       "\n",
       "    .dataframe thead th {\n",
       "        text-align: right;\n",
       "    }\n",
       "</style>\n",
       "<table border=\"1\" class=\"dataframe\">\n",
       "  <thead>\n",
       "    <tr style=\"text-align: right;\">\n",
       "      <th></th>\n",
       "      <th>other_sales</th>\n",
       "    </tr>\n",
       "    <tr>\n",
       "      <th>platform</th>\n",
       "      <th></th>\n",
       "    </tr>\n",
       "  </thead>\n",
       "  <tbody>\n",
       "    <tr>\n",
       "      <td>PS4</td>\n",
       "      <td>10.24</td>\n",
       "    </tr>\n",
       "    <tr>\n",
       "      <td>XOne</td>\n",
       "      <td>2.24</td>\n",
       "    </tr>\n",
       "    <tr>\n",
       "      <td>3DS</td>\n",
       "      <td>0.64</td>\n",
       "    </tr>\n",
       "    <tr>\n",
       "      <td>PS3</td>\n",
       "      <td>0.37</td>\n",
       "    </tr>\n",
       "    <tr>\n",
       "      <td>PC</td>\n",
       "      <td>0.36</td>\n",
       "    </tr>\n",
       "  </tbody>\n",
       "</table>\n",
       "</div>"
      ],
      "text/plain": [
       "          other_sales\n",
       "platform             \n",
       "PS4             10.24\n",
       "XOne             2.24\n",
       "3DS              0.64\n",
       "PS3              0.37\n",
       "PC               0.36"
      ]
     },
     "metadata": {},
     "output_type": "display_data"
    }
   ],
   "source": [
    "other_sales_platform_top = platform_region.pivot_table(index = 'platform', values = 'other_sales', aggfunc ='sum').sort_values(by = 'other_sales', ascending = False)[0:5]\n",
    "display(other_sales_platform_top)"
   ]
  },
  {
   "cell_type": "markdown",
   "metadata": {},
   "source": [
    "Здесь распределение мест лидеров, похоже на Америку, с той лишь разницей, что вместо WiiU, стоит PS3."
   ]
  },
  {
   "cell_type": "markdown",
   "metadata": {},
   "source": [
    "Сделаем сводную таблицу наших лидеров, чтобы посчитать доли продаж по каждому региону. Сделаем мы это методом join() с дополнительным параметром how = 'outer', чтобы в сводую таблицу попали данные по лидерам всех регионов. В полученной сводной таблице пропуски заменим на 0."
   ]
  },
  {
   "cell_type": "code",
   "execution_count": 64,
   "metadata": {},
   "outputs": [
    {
     "data": {
      "text/html": [
       "<div>\n",
       "<style scoped>\n",
       "    .dataframe tbody tr th:only-of-type {\n",
       "        vertical-align: middle;\n",
       "    }\n",
       "\n",
       "    .dataframe tbody tr th {\n",
       "        vertical-align: top;\n",
       "    }\n",
       "\n",
       "    .dataframe thead th {\n",
       "        text-align: right;\n",
       "    }\n",
       "</style>\n",
       "<table border=\"1\" class=\"dataframe\">\n",
       "  <thead>\n",
       "    <tr style=\"text-align: right;\">\n",
       "      <th></th>\n",
       "      <th>na_sales</th>\n",
       "      <th>eu_sales</th>\n",
       "      <th>jp_sales</th>\n",
       "      <th>other_sales</th>\n",
       "    </tr>\n",
       "  </thead>\n",
       "  <tbody>\n",
       "    <tr>\n",
       "      <td>PS4</td>\n",
       "      <td>21.49</td>\n",
       "      <td>31.78</td>\n",
       "      <td>5.74</td>\n",
       "      <td>10.24</td>\n",
       "    </tr>\n",
       "    <tr>\n",
       "      <td>XOne</td>\n",
       "      <td>14.27</td>\n",
       "      <td>9.63</td>\n",
       "      <td>0.00</td>\n",
       "      <td>2.24</td>\n",
       "    </tr>\n",
       "    <tr>\n",
       "      <td>3DS</td>\n",
       "      <td>4.14</td>\n",
       "      <td>2.33</td>\n",
       "      <td>8.03</td>\n",
       "      <td>0.64</td>\n",
       "    </tr>\n",
       "    <tr>\n",
       "      <td>WiiU</td>\n",
       "      <td>2.10</td>\n",
       "      <td>1.48</td>\n",
       "      <td>0.67</td>\n",
       "      <td>0.00</td>\n",
       "    </tr>\n",
       "    <tr>\n",
       "      <td>PC</td>\n",
       "      <td>1.36</td>\n",
       "      <td>3.53</td>\n",
       "      <td>0.00</td>\n",
       "      <td>0.36</td>\n",
       "    </tr>\n",
       "    <tr>\n",
       "      <td>PSV</td>\n",
       "      <td>0.00</td>\n",
       "      <td>0.00</td>\n",
       "      <td>3.56</td>\n",
       "      <td>0.00</td>\n",
       "    </tr>\n",
       "    <tr>\n",
       "      <td>PS3</td>\n",
       "      <td>0.00</td>\n",
       "      <td>0.00</td>\n",
       "      <td>1.30</td>\n",
       "      <td>0.37</td>\n",
       "    </tr>\n",
       "  </tbody>\n",
       "</table>\n",
       "</div>"
      ],
      "text/plain": [
       "      na_sales  eu_sales  jp_sales  other_sales\n",
       "PS4      21.49     31.78      5.74        10.24\n",
       "XOne     14.27      9.63      0.00         2.24\n",
       "3DS       4.14      2.33      8.03         0.64\n",
       "WiiU      2.10      1.48      0.67         0.00\n",
       "PC        1.36      3.53      0.00         0.36\n",
       "PSV       0.00      0.00      3.56         0.00\n",
       "PS3       0.00      0.00      1.30         0.37"
      ]
     },
     "metadata": {},
     "output_type": "display_data"
    }
   ],
   "source": [
    "top_platform_region = na_sales_platform_top.join((eu_sales_platform_top, jp_sales_platform_top, other_sales_platform_top), how = 'outer')\n",
    "top_platform_region = top_platform_region.fillna(0)\n",
    "display(top_platform_region)"
   ]
  },
  {
   "cell_type": "markdown",
   "metadata": {},
   "source": [
    "Посчитаем суммарные продажи по всем регионам:"
   ]
  },
  {
   "cell_type": "code",
   "execution_count": 65,
   "metadata": {},
   "outputs": [
    {
     "data": {
      "text/html": [
       "<div>\n",
       "<style scoped>\n",
       "    .dataframe tbody tr th:only-of-type {\n",
       "        vertical-align: middle;\n",
       "    }\n",
       "\n",
       "    .dataframe tbody tr th {\n",
       "        vertical-align: top;\n",
       "    }\n",
       "\n",
       "    .dataframe thead th {\n",
       "        text-align: right;\n",
       "    }\n",
       "</style>\n",
       "<table border=\"1\" class=\"dataframe\">\n",
       "  <thead>\n",
       "    <tr style=\"text-align: right;\">\n",
       "      <th></th>\n",
       "      <th>na_sales</th>\n",
       "      <th>eu_sales</th>\n",
       "      <th>jp_sales</th>\n",
       "      <th>other_sales</th>\n",
       "      <th>total</th>\n",
       "    </tr>\n",
       "  </thead>\n",
       "  <tbody>\n",
       "    <tr>\n",
       "      <td>PS4</td>\n",
       "      <td>21.49</td>\n",
       "      <td>31.78</td>\n",
       "      <td>5.74</td>\n",
       "      <td>10.24</td>\n",
       "      <td>69.25</td>\n",
       "    </tr>\n",
       "    <tr>\n",
       "      <td>XOne</td>\n",
       "      <td>14.27</td>\n",
       "      <td>9.63</td>\n",
       "      <td>0.00</td>\n",
       "      <td>2.24</td>\n",
       "      <td>26.14</td>\n",
       "    </tr>\n",
       "    <tr>\n",
       "      <td>3DS</td>\n",
       "      <td>4.14</td>\n",
       "      <td>2.33</td>\n",
       "      <td>8.03</td>\n",
       "      <td>0.64</td>\n",
       "      <td>15.14</td>\n",
       "    </tr>\n",
       "    <tr>\n",
       "      <td>WiiU</td>\n",
       "      <td>2.10</td>\n",
       "      <td>1.48</td>\n",
       "      <td>0.67</td>\n",
       "      <td>0.00</td>\n",
       "      <td>4.25</td>\n",
       "    </tr>\n",
       "    <tr>\n",
       "      <td>PC</td>\n",
       "      <td>1.36</td>\n",
       "      <td>3.53</td>\n",
       "      <td>0.00</td>\n",
       "      <td>0.36</td>\n",
       "      <td>5.25</td>\n",
       "    </tr>\n",
       "    <tr>\n",
       "      <td>PSV</td>\n",
       "      <td>0.00</td>\n",
       "      <td>0.00</td>\n",
       "      <td>3.56</td>\n",
       "      <td>0.00</td>\n",
       "      <td>3.56</td>\n",
       "    </tr>\n",
       "    <tr>\n",
       "      <td>PS3</td>\n",
       "      <td>0.00</td>\n",
       "      <td>0.00</td>\n",
       "      <td>1.30</td>\n",
       "      <td>0.37</td>\n",
       "      <td>1.67</td>\n",
       "    </tr>\n",
       "  </tbody>\n",
       "</table>\n",
       "</div>"
      ],
      "text/plain": [
       "      na_sales  eu_sales  jp_sales  other_sales  total\n",
       "PS4      21.49     31.78      5.74        10.24  69.25\n",
       "XOne     14.27      9.63      0.00         2.24  26.14\n",
       "3DS       4.14      2.33      8.03         0.64  15.14\n",
       "WiiU      2.10      1.48      0.67         0.00   4.25\n",
       "PC        1.36      3.53      0.00         0.36   5.25\n",
       "PSV       0.00      0.00      3.56         0.00   3.56\n",
       "PS3       0.00      0.00      1.30         0.37   1.67"
      ]
     },
     "metadata": {},
     "output_type": "display_data"
    }
   ],
   "source": [
    "top_platform_region['total'] = top_platform_region['na_sales'] + top_platform_region['eu_sales'] + top_platform_region['jp_sales'] + top_platform_region['other_sales']\n",
    "\n",
    "display(top_platform_region)"
   ]
  },
  {
   "cell_type": "markdown",
   "metadata": {},
   "source": [
    "Напишем функцию, которая пройдется по всем столбцам с указанием региона и заменит сумму продаж, на долю продаж региона в общей сумме."
   ]
  },
  {
   "cell_type": "code",
   "execution_count": 66,
   "metadata": {},
   "outputs": [
    {
     "data": {
      "text/html": [
       "<div>\n",
       "<style scoped>\n",
       "    .dataframe tbody tr th:only-of-type {\n",
       "        vertical-align: middle;\n",
       "    }\n",
       "\n",
       "    .dataframe tbody tr th {\n",
       "        vertical-align: top;\n",
       "    }\n",
       "\n",
       "    .dataframe thead th {\n",
       "        text-align: right;\n",
       "    }\n",
       "</style>\n",
       "<table border=\"1\" class=\"dataframe\">\n",
       "  <thead>\n",
       "    <tr style=\"text-align: right;\">\n",
       "      <th></th>\n",
       "      <th>na_sales</th>\n",
       "      <th>eu_sales</th>\n",
       "      <th>jp_sales</th>\n",
       "      <th>other_sales</th>\n",
       "      <th>total</th>\n",
       "    </tr>\n",
       "  </thead>\n",
       "  <tbody>\n",
       "    <tr>\n",
       "      <td>PS4</td>\n",
       "      <td>0.31</td>\n",
       "      <td>0.46</td>\n",
       "      <td>0.08</td>\n",
       "      <td>0.15</td>\n",
       "      <td>69.25</td>\n",
       "    </tr>\n",
       "    <tr>\n",
       "      <td>XOne</td>\n",
       "      <td>0.55</td>\n",
       "      <td>0.37</td>\n",
       "      <td>0.00</td>\n",
       "      <td>0.09</td>\n",
       "      <td>26.14</td>\n",
       "    </tr>\n",
       "    <tr>\n",
       "      <td>3DS</td>\n",
       "      <td>0.27</td>\n",
       "      <td>0.15</td>\n",
       "      <td>0.53</td>\n",
       "      <td>0.04</td>\n",
       "      <td>15.14</td>\n",
       "    </tr>\n",
       "    <tr>\n",
       "      <td>WiiU</td>\n",
       "      <td>0.49</td>\n",
       "      <td>0.35</td>\n",
       "      <td>0.16</td>\n",
       "      <td>0.00</td>\n",
       "      <td>4.25</td>\n",
       "    </tr>\n",
       "    <tr>\n",
       "      <td>PC</td>\n",
       "      <td>0.26</td>\n",
       "      <td>0.67</td>\n",
       "      <td>0.00</td>\n",
       "      <td>0.07</td>\n",
       "      <td>5.25</td>\n",
       "    </tr>\n",
       "    <tr>\n",
       "      <td>PSV</td>\n",
       "      <td>0.00</td>\n",
       "      <td>0.00</td>\n",
       "      <td>1.00</td>\n",
       "      <td>0.00</td>\n",
       "      <td>3.56</td>\n",
       "    </tr>\n",
       "    <tr>\n",
       "      <td>PS3</td>\n",
       "      <td>0.00</td>\n",
       "      <td>0.00</td>\n",
       "      <td>0.78</td>\n",
       "      <td>0.22</td>\n",
       "      <td>1.67</td>\n",
       "    </tr>\n",
       "  </tbody>\n",
       "</table>\n",
       "</div>"
      ],
      "text/plain": [
       "      na_sales  eu_sales  jp_sales  other_sales  total\n",
       "PS4       0.31      0.46      0.08         0.15  69.25\n",
       "XOne      0.55      0.37      0.00         0.09  26.14\n",
       "3DS       0.27      0.15      0.53         0.04  15.14\n",
       "WiiU      0.49      0.35      0.16         0.00   4.25\n",
       "PC        0.26      0.67      0.00         0.07   5.25\n",
       "PSV       0.00      0.00      1.00         0.00   3.56\n",
       "PS3       0.00      0.00      0.78         0.22   1.67"
      ]
     },
     "metadata": {},
     "output_type": "display_data"
    }
   ],
   "source": [
    "def func(row):\n",
    "    row.na_sales = round(row.na_sales / row.total,2)\n",
    "    row.eu_sales = round(row.eu_sales / row.total,2)\n",
    "    row.jp_sales = round(row.jp_sales / row.total,2)\n",
    "    row.other_sales = round(row.other_sales / row.total,2)\n",
    "    return row\n",
    "top_platform_region_delta = top_platform_region.apply(func, axis =1)\n",
    "display(top_platform_region_delta)"
   ]
  },
  {
   "cell_type": "markdown",
   "metadata": {},
   "source": [
    "Построим диаграммы для визуализации долей продаж по каждой из популярных платформ. По платформе PSV диаграмму рисовать не будем, потому что эта платформа есть только в Японии."
   ]
  },
  {
   "cell_type": "code",
   "execution_count": 67,
   "metadata": {},
   "outputs": [
    {
     "data": {
      "image/png": "[encoded data removed]",
      "text/plain": [
       "<Figure size 1440x864 with 6 Axes>"
      ]
     },
     "metadata": {},
     "output_type": "display_data"
    }
   ],
   "source": [
    "fig, axis = plt.subplots(2,3, figsize = (20,12))\n",
    "top_platform_region_delta.loc['PS4', ['na_sales', 'eu_sales', 'jp_sales', 'other_sales']].plot(kind = 'pie', ax=axis[0,0])\n",
    "top_platform_region_delta.loc['XOne', ['na_sales', 'eu_sales', 'jp_sales', 'other_sales']].plot(kind = 'pie', ax=axis[0,1])\n",
    "top_platform_region_delta.loc['3DS', ['na_sales', 'eu_sales', 'jp_sales', 'other_sales']].plot(kind = 'pie', ax=axis[0,2])\n",
    "top_platform_region_delta.loc['WiiU', ['na_sales', 'eu_sales', 'jp_sales', 'other_sales']].plot(kind = 'pie', ax=axis[1,0])\n",
    "top_platform_region_delta.loc['PC', ['na_sales', 'eu_sales', 'jp_sales', 'other_sales']].plot(kind = 'pie', ax=axis[1,1])\n",
    "top_platform_region_delta.loc['PS3', ['na_sales', 'eu_sales', 'jp_sales', 'other_sales']].plot(kind = 'pie', ax=axis[1,2])\n",
    "plt.show()"
   ]
  },
  {
   "cell_type": "markdown",
   "metadata": {},
   "source": [
    "По диаграммам видно, что игры на PS4 и PC ,больше всего продаются в Европе. А на Северную Америку приходится большая часть продаж игр на XOne и WiiU. Япония лидирует по доли продаж на платформах 3DS и PS3."
   ]
  },
  {
   "cell_type": "markdown",
   "metadata": {},
   "source": [
    "### Анализ популярных жанров по регионам"
   ]
  },
  {
   "cell_type": "markdown",
   "metadata": {},
   "source": [
    "Для анализа жанров возьмем весь актуальный период и посмотрим в каком регионе, что предпочитают больше."
   ]
  },
  {
   "cell_type": "markdown",
   "metadata": {},
   "source": [
    "Опять построим столбчатые диаграммы и выберем пятерку жанров с самыми большими продажами в каждом регионе. Начнем с Северной Америки:"
   ]
  },
  {
   "cell_type": "code",
   "execution_count": 68,
   "metadata": {},
   "outputs": [
    {
     "data": {
      "image/png": "[encoded data removed]",
      "text/plain": [
       "<Figure size 720x360 with 1 Axes>"
      ]
     },
     "metadata": {
      "needs_background": "light"
     },
     "output_type": "display_data"
    }
   ],
   "source": [
    "games_current_period.pivot_table(index = 'genre', values = 'na_sales', aggfunc ='sum').sort_values(by = 'na_sales', ascending = True).plot(kind = 'barh', figsize =(10, 5))\n",
    "plt.title('Продажи игр по жанрам в Северной Америке')\n",
    "plt.show()"
   ]
  },
  {
   "cell_type": "code",
   "execution_count": 69,
   "metadata": {},
   "outputs": [
    {
     "data": {
      "text/html": [
       "<div>\n",
       "<style scoped>\n",
       "    .dataframe tbody tr th:only-of-type {\n",
       "        vertical-align: middle;\n",
       "    }\n",
       "\n",
       "    .dataframe tbody tr th {\n",
       "        vertical-align: top;\n",
       "    }\n",
       "\n",
       "    .dataframe thead th {\n",
       "        text-align: right;\n",
       "    }\n",
       "</style>\n",
       "<table border=\"1\" class=\"dataframe\">\n",
       "  <thead>\n",
       "    <tr style=\"text-align: right;\">\n",
       "      <th></th>\n",
       "      <th>na_sales</th>\n",
       "    </tr>\n",
       "    <tr>\n",
       "      <th>genre</th>\n",
       "      <th></th>\n",
       "    </tr>\n",
       "  </thead>\n",
       "  <tbody>\n",
       "    <tr>\n",
       "      <td>Shooter</td>\n",
       "      <td>79.02</td>\n",
       "    </tr>\n",
       "    <tr>\n",
       "      <td>Action</td>\n",
       "      <td>72.53</td>\n",
       "    </tr>\n",
       "    <tr>\n",
       "      <td>Sports</td>\n",
       "      <td>46.13</td>\n",
       "    </tr>\n",
       "    <tr>\n",
       "      <td>Role-Playing</td>\n",
       "      <td>33.47</td>\n",
       "    </tr>\n",
       "    <tr>\n",
       "      <td>Misc</td>\n",
       "      <td>15.05</td>\n",
       "    </tr>\n",
       "  </tbody>\n",
       "</table>\n",
       "</div>"
      ],
      "text/plain": [
       "              na_sales\n",
       "genre                 \n",
       "Shooter          79.02\n",
       "Action           72.53\n",
       "Sports           46.13\n",
       "Role-Playing     33.47\n",
       "Misc             15.05"
      ]
     },
     "metadata": {},
     "output_type": "display_data"
    }
   ],
   "source": [
    "na_sales_genre_top = games_current_period.pivot_table(index = 'genre', values = 'na_sales', aggfunc ='sum').sort_values(by = 'na_sales', ascending = False)[0:5]\n",
    "display(na_sales_genre_top)"
   ]
  },
  {
   "cell_type": "markdown",
   "metadata": {},
   "source": [
    "Shooter, Action, Sports, Role-Playing, Misc - это наши лидеры в регионе Северная Америка. "
   ]
  },
  {
   "cell_type": "markdown",
   "metadata": {},
   "source": [
    "Далее посмотрим Европу."
   ]
  },
  {
   "cell_type": "code",
   "execution_count": 70,
   "metadata": {},
   "outputs": [
    {
     "data": {
      "image/png": "[encoded data removed]",
      "text/plain": [
       "<Figure size 720x360 with 1 Axes>"
      ]
     },
     "metadata": {
      "needs_background": "light"
     },
     "output_type": "display_data"
    }
   ],
   "source": [
    "games_current_period.pivot_table(index = 'genre', values = 'eu_sales', aggfunc ='sum').sort_values(by = 'eu_sales', ascending = True).plot(kind = 'barh', figsize =(10, 5))\n",
    "plt.title('Продажи игр по жанрам в Европе')\n",
    "plt.show()"
   ]
  },
  {
   "cell_type": "code",
   "execution_count": 71,
   "metadata": {},
   "outputs": [
    {
     "data": {
      "text/html": [
       "<div>\n",
       "<style scoped>\n",
       "    .dataframe tbody tr th:only-of-type {\n",
       "        vertical-align: middle;\n",
       "    }\n",
       "\n",
       "    .dataframe tbody tr th {\n",
       "        vertical-align: top;\n",
       "    }\n",
       "\n",
       "    .dataframe thead th {\n",
       "        text-align: right;\n",
       "    }\n",
       "</style>\n",
       "<table border=\"1\" class=\"dataframe\">\n",
       "  <thead>\n",
       "    <tr style=\"text-align: right;\">\n",
       "      <th></th>\n",
       "      <th>eu_sales</th>\n",
       "    </tr>\n",
       "    <tr>\n",
       "      <th>genre</th>\n",
       "      <th></th>\n",
       "    </tr>\n",
       "  </thead>\n",
       "  <tbody>\n",
       "    <tr>\n",
       "      <td>Action</td>\n",
       "      <td>74.68</td>\n",
       "    </tr>\n",
       "    <tr>\n",
       "      <td>Shooter</td>\n",
       "      <td>65.52</td>\n",
       "    </tr>\n",
       "    <tr>\n",
       "      <td>Sports</td>\n",
       "      <td>45.73</td>\n",
       "    </tr>\n",
       "    <tr>\n",
       "      <td>Role-Playing</td>\n",
       "      <td>28.17</td>\n",
       "    </tr>\n",
       "    <tr>\n",
       "      <td>Racing</td>\n",
       "      <td>14.13</td>\n",
       "    </tr>\n",
       "  </tbody>\n",
       "</table>\n",
       "</div>"
      ],
      "text/plain": [
       "              eu_sales\n",
       "genre                 \n",
       "Action           74.68\n",
       "Shooter          65.52\n",
       "Sports           45.73\n",
       "Role-Playing     28.17\n",
       "Racing           14.13"
      ]
     },
     "metadata": {},
     "output_type": "display_data"
    }
   ],
   "source": [
    "eu_sales_genre_top = games_current_period.pivot_table(index = 'genre', values = 'eu_sales', aggfunc ='sum').sort_values(by = 'eu_sales', ascending = False)[0:5]\n",
    "display(eu_sales_genre_top)"
   ]
  },
  {
   "cell_type": "markdown",
   "metadata": {},
   "source": [
    "Список лидеров повторяется, за исключением, того что Action вырвался на первое место и на последнем теперь там Racing вместо Misc. Что же получится в Японии?"
   ]
  },
  {
   "cell_type": "code",
   "execution_count": 72,
   "metadata": {},
   "outputs": [
    {
     "data": {
      "image/png": "[encoded data removed]",
      "text/plain": [
       "<Figure size 720x360 with 1 Axes>"
      ]
     },
     "metadata": {
      "needs_background": "light"
     },
     "output_type": "display_data"
    }
   ],
   "source": [
    "games_current_period.pivot_table(index = 'genre', values = 'jp_sales', aggfunc ='sum').sort_values(by = 'jp_sales', ascending = True).plot(kind = 'barh', figsize =(10, 5))\n",
    "plt.title('Продажи игр по жанрам в Японии')\n",
    "plt.show()"
   ]
  },
  {
   "cell_type": "code",
   "execution_count": 73,
   "metadata": {},
   "outputs": [
    {
     "data": {
      "text/html": [
       "<div>\n",
       "<style scoped>\n",
       "    .dataframe tbody tr th:only-of-type {\n",
       "        vertical-align: middle;\n",
       "    }\n",
       "\n",
       "    .dataframe tbody tr th {\n",
       "        vertical-align: top;\n",
       "    }\n",
       "\n",
       "    .dataframe thead th {\n",
       "        text-align: right;\n",
       "    }\n",
       "</style>\n",
       "<table border=\"1\" class=\"dataframe\">\n",
       "  <thead>\n",
       "    <tr style=\"text-align: right;\">\n",
       "      <th></th>\n",
       "      <th>jp_sales</th>\n",
       "    </tr>\n",
       "    <tr>\n",
       "      <th>genre</th>\n",
       "      <th></th>\n",
       "    </tr>\n",
       "  </thead>\n",
       "  <tbody>\n",
       "    <tr>\n",
       "      <td>Role-Playing</td>\n",
       "      <td>31.16</td>\n",
       "    </tr>\n",
       "    <tr>\n",
       "      <td>Action</td>\n",
       "      <td>29.58</td>\n",
       "    </tr>\n",
       "    <tr>\n",
       "      <td>Fighting</td>\n",
       "      <td>6.37</td>\n",
       "    </tr>\n",
       "    <tr>\n",
       "      <td>Misc</td>\n",
       "      <td>5.61</td>\n",
       "    </tr>\n",
       "    <tr>\n",
       "      <td>Shooter</td>\n",
       "      <td>4.87</td>\n",
       "    </tr>\n",
       "  </tbody>\n",
       "</table>\n",
       "</div>"
      ],
      "text/plain": [
       "              jp_sales\n",
       "genre                 \n",
       "Role-Playing     31.16\n",
       "Action           29.58\n",
       "Fighting          6.37\n",
       "Misc              5.61\n",
       "Shooter           4.87"
      ]
     },
     "metadata": {},
     "output_type": "display_data"
    }
   ],
   "source": [
    "jp_sales_genre_top = games_current_period.pivot_table(index = 'genre', values = 'jp_sales', aggfunc ='sum').sort_values(by = 'jp_sales', ascending = False)[0:5]\n",
    "display(jp_sales_genre_top)"
   ]
  },
  {
   "cell_type": "markdown",
   "metadata": {},
   "source": [
    "Как и с платформами, в Японии немного другие вкусы. Они схожи, но Role-Playing, который в Америке был на 4-м месте, в Японии, наоборот на первом. В пятерку лидеров вошел жанр Fighting, который ни в Америке, ни в Европе не пользуется большим спросом."
   ]
  },
  {
   "cell_type": "markdown",
   "metadata": {},
   "source": [
    "Посмотрим пятерку лидеров для \"других\" стран:"
   ]
  },
  {
   "cell_type": "code",
   "execution_count": 74,
   "metadata": {},
   "outputs": [
    {
     "data": {
      "image/png": "[encoded data removed]",
      "text/plain": [
       "<Figure size 720x360 with 1 Axes>"
      ]
     },
     "metadata": {
      "needs_background": "light"
     },
     "output_type": "display_data"
    }
   ],
   "source": [
    "games_current_period.pivot_table(index = 'genre', values = 'other_sales', aggfunc ='sum').sort_values(by = 'other_sales', ascending = True).plot(kind = 'barh', figsize =(10, 5))\n",
    "plt.title('Продажи игр по жанрам в \"других\" странах')\n",
    "plt.show()"
   ]
  },
  {
   "cell_type": "code",
   "execution_count": 75,
   "metadata": {},
   "outputs": [
    {
     "data": {
      "text/html": [
       "<div>\n",
       "<style scoped>\n",
       "    .dataframe tbody tr th:only-of-type {\n",
       "        vertical-align: middle;\n",
       "    }\n",
       "\n",
       "    .dataframe tbody tr th {\n",
       "        vertical-align: top;\n",
       "    }\n",
       "\n",
       "    .dataframe thead th {\n",
       "        text-align: right;\n",
       "    }\n",
       "</style>\n",
       "<table border=\"1\" class=\"dataframe\">\n",
       "  <thead>\n",
       "    <tr style=\"text-align: right;\">\n",
       "      <th></th>\n",
       "      <th>other_sales</th>\n",
       "    </tr>\n",
       "    <tr>\n",
       "      <th>genre</th>\n",
       "      <th></th>\n",
       "    </tr>\n",
       "  </thead>\n",
       "  <tbody>\n",
       "    <tr>\n",
       "      <td>Action</td>\n",
       "      <td>22.57</td>\n",
       "    </tr>\n",
       "    <tr>\n",
       "      <td>Shooter</td>\n",
       "      <td>21.53</td>\n",
       "    </tr>\n",
       "    <tr>\n",
       "      <td>Sports</td>\n",
       "      <td>14.36</td>\n",
       "    </tr>\n",
       "    <tr>\n",
       "      <td>Role-Playing</td>\n",
       "      <td>8.64</td>\n",
       "    </tr>\n",
       "    <tr>\n",
       "      <td>Misc</td>\n",
       "      <td>4.03</td>\n",
       "    </tr>\n",
       "  </tbody>\n",
       "</table>\n",
       "</div>"
      ],
      "text/plain": [
       "              other_sales\n",
       "genre                    \n",
       "Action              22.57\n",
       "Shooter             21.53\n",
       "Sports              14.36\n",
       "Role-Playing         8.64\n",
       "Misc                 4.03"
      ]
     },
     "metadata": {},
     "output_type": "display_data"
    }
   ],
   "source": [
    "other_sales_genre_top = games_current_period.pivot_table(index = 'genre', values = 'other_sales', aggfunc ='sum').sort_values(by = 'other_sales', ascending = False)[0:5]\n",
    "display(other_sales_genre_top)"
   ]
  },
  {
   "cell_type": "markdown",
   "metadata": {},
   "source": [
    "Здесь у пользователей те же предпочтения, что и в Северной Америке: Action, Sports, Shooter, Misc, Role-Playing"
   ]
  },
  {
   "cell_type": "markdown",
   "metadata": {},
   "source": [
    "Сделаем сводную таблицу их всех наших лидеров:"
   ]
  },
  {
   "cell_type": "code",
   "execution_count": 76,
   "metadata": {},
   "outputs": [
    {
     "data": {
      "text/html": [
       "<div>\n",
       "<style scoped>\n",
       "    .dataframe tbody tr th:only-of-type {\n",
       "        vertical-align: middle;\n",
       "    }\n",
       "\n",
       "    .dataframe tbody tr th {\n",
       "        vertical-align: top;\n",
       "    }\n",
       "\n",
       "    .dataframe thead th {\n",
       "        text-align: right;\n",
       "    }\n",
       "</style>\n",
       "<table border=\"1\" class=\"dataframe\">\n",
       "  <thead>\n",
       "    <tr style=\"text-align: right;\">\n",
       "      <th></th>\n",
       "      <th>na_sales</th>\n",
       "      <th>eu_sales</th>\n",
       "      <th>jp_sales</th>\n",
       "      <th>other_sales</th>\n",
       "    </tr>\n",
       "  </thead>\n",
       "  <tbody>\n",
       "    <tr>\n",
       "      <td>Shooter</td>\n",
       "      <td>79.02</td>\n",
       "      <td>65.52</td>\n",
       "      <td>4.87</td>\n",
       "      <td>21.53</td>\n",
       "    </tr>\n",
       "    <tr>\n",
       "      <td>Action</td>\n",
       "      <td>72.53</td>\n",
       "      <td>74.68</td>\n",
       "      <td>29.58</td>\n",
       "      <td>22.57</td>\n",
       "    </tr>\n",
       "    <tr>\n",
       "      <td>Sports</td>\n",
       "      <td>46.13</td>\n",
       "      <td>45.73</td>\n",
       "      <td>0.00</td>\n",
       "      <td>14.36</td>\n",
       "    </tr>\n",
       "    <tr>\n",
       "      <td>Role-Playing</td>\n",
       "      <td>33.47</td>\n",
       "      <td>28.17</td>\n",
       "      <td>31.16</td>\n",
       "      <td>8.64</td>\n",
       "    </tr>\n",
       "    <tr>\n",
       "      <td>Misc</td>\n",
       "      <td>15.05</td>\n",
       "      <td>0.00</td>\n",
       "      <td>5.61</td>\n",
       "      <td>4.03</td>\n",
       "    </tr>\n",
       "    <tr>\n",
       "      <td>Racing</td>\n",
       "      <td>0.00</td>\n",
       "      <td>14.13</td>\n",
       "      <td>0.00</td>\n",
       "      <td>0.00</td>\n",
       "    </tr>\n",
       "    <tr>\n",
       "      <td>Fighting</td>\n",
       "      <td>0.00</td>\n",
       "      <td>0.00</td>\n",
       "      <td>6.37</td>\n",
       "      <td>0.00</td>\n",
       "    </tr>\n",
       "  </tbody>\n",
       "</table>\n",
       "</div>"
      ],
      "text/plain": [
       "              na_sales  eu_sales  jp_sales  other_sales\n",
       "Shooter          79.02     65.52      4.87        21.53\n",
       "Action           72.53     74.68     29.58        22.57\n",
       "Sports           46.13     45.73      0.00        14.36\n",
       "Role-Playing     33.47     28.17     31.16         8.64\n",
       "Misc             15.05      0.00      5.61         4.03\n",
       "Racing            0.00     14.13      0.00         0.00\n",
       "Fighting          0.00      0.00      6.37         0.00"
      ]
     },
     "metadata": {},
     "output_type": "display_data"
    }
   ],
   "source": [
    "top_genre_region = na_sales_genre_top.join((eu_sales_genre_top, jp_sales_genre_top, other_sales_genre_top), how = 'outer')\n",
    "top_genre_region = top_genre_region.fillna(0)\n",
    "display(top_genre_region)"
   ]
  },
  {
   "cell_type": "markdown",
   "metadata": {},
   "source": [
    "Посчитаем сумму продаж:"
   ]
  },
  {
   "cell_type": "code",
   "execution_count": 77,
   "metadata": {},
   "outputs": [
    {
     "data": {
      "text/html": [
       "<div>\n",
       "<style scoped>\n",
       "    .dataframe tbody tr th:only-of-type {\n",
       "        vertical-align: middle;\n",
       "    }\n",
       "\n",
       "    .dataframe tbody tr th {\n",
       "        vertical-align: top;\n",
       "    }\n",
       "\n",
       "    .dataframe thead th {\n",
       "        text-align: right;\n",
       "    }\n",
       "</style>\n",
       "<table border=\"1\" class=\"dataframe\">\n",
       "  <thead>\n",
       "    <tr style=\"text-align: right;\">\n",
       "      <th></th>\n",
       "      <th>na_sales</th>\n",
       "      <th>eu_sales</th>\n",
       "      <th>jp_sales</th>\n",
       "      <th>other_sales</th>\n",
       "      <th>total_sales_genre</th>\n",
       "    </tr>\n",
       "  </thead>\n",
       "  <tbody>\n",
       "    <tr>\n",
       "      <td>Shooter</td>\n",
       "      <td>79.02</td>\n",
       "      <td>65.52</td>\n",
       "      <td>4.87</td>\n",
       "      <td>21.53</td>\n",
       "      <td>170.94</td>\n",
       "    </tr>\n",
       "    <tr>\n",
       "      <td>Action</td>\n",
       "      <td>72.53</td>\n",
       "      <td>74.68</td>\n",
       "      <td>29.58</td>\n",
       "      <td>22.57</td>\n",
       "      <td>199.36</td>\n",
       "    </tr>\n",
       "    <tr>\n",
       "      <td>Sports</td>\n",
       "      <td>46.13</td>\n",
       "      <td>45.73</td>\n",
       "      <td>0.00</td>\n",
       "      <td>14.36</td>\n",
       "      <td>106.22</td>\n",
       "    </tr>\n",
       "    <tr>\n",
       "      <td>Role-Playing</td>\n",
       "      <td>33.47</td>\n",
       "      <td>28.17</td>\n",
       "      <td>31.16</td>\n",
       "      <td>8.64</td>\n",
       "      <td>101.44</td>\n",
       "    </tr>\n",
       "    <tr>\n",
       "      <td>Misc</td>\n",
       "      <td>15.05</td>\n",
       "      <td>0.00</td>\n",
       "      <td>5.61</td>\n",
       "      <td>4.03</td>\n",
       "      <td>24.69</td>\n",
       "    </tr>\n",
       "    <tr>\n",
       "      <td>Racing</td>\n",
       "      <td>0.00</td>\n",
       "      <td>14.13</td>\n",
       "      <td>0.00</td>\n",
       "      <td>0.00</td>\n",
       "      <td>14.13</td>\n",
       "    </tr>\n",
       "    <tr>\n",
       "      <td>Fighting</td>\n",
       "      <td>0.00</td>\n",
       "      <td>0.00</td>\n",
       "      <td>6.37</td>\n",
       "      <td>0.00</td>\n",
       "      <td>6.37</td>\n",
       "    </tr>\n",
       "  </tbody>\n",
       "</table>\n",
       "</div>"
      ],
      "text/plain": [
       "              na_sales  eu_sales  jp_sales  other_sales  total_sales_genre\n",
       "Shooter          79.02     65.52      4.87        21.53             170.94\n",
       "Action           72.53     74.68     29.58        22.57             199.36\n",
       "Sports           46.13     45.73      0.00        14.36             106.22\n",
       "Role-Playing     33.47     28.17     31.16         8.64             101.44\n",
       "Misc             15.05      0.00      5.61         4.03              24.69\n",
       "Racing            0.00     14.13      0.00         0.00              14.13\n",
       "Fighting          0.00      0.00      6.37         0.00               6.37"
      ]
     },
     "metadata": {},
     "output_type": "display_data"
    }
   ],
   "source": [
    "top_genre_region['total_sales_genre'] = top_genre_region['na_sales'] + top_genre_region['eu_sales'] + top_genre_region['jp_sales'] + top_genre_region['other_sales']\n",
    "\n",
    "display(top_genre_region)"
   ]
  },
  {
   "cell_type": "markdown",
   "metadata": {},
   "source": [
    "Создадим функцию для замены значений продаж по столбцам с указанием регионов, на долю продаж:"
   ]
  },
  {
   "cell_type": "code",
   "execution_count": 78,
   "metadata": {},
   "outputs": [
    {
     "data": {
      "text/html": [
       "<div>\n",
       "<style scoped>\n",
       "    .dataframe tbody tr th:only-of-type {\n",
       "        vertical-align: middle;\n",
       "    }\n",
       "\n",
       "    .dataframe tbody tr th {\n",
       "        vertical-align: top;\n",
       "    }\n",
       "\n",
       "    .dataframe thead th {\n",
       "        text-align: right;\n",
       "    }\n",
       "</style>\n",
       "<table border=\"1\" class=\"dataframe\">\n",
       "  <thead>\n",
       "    <tr style=\"text-align: right;\">\n",
       "      <th></th>\n",
       "      <th>na_sales</th>\n",
       "      <th>eu_sales</th>\n",
       "      <th>jp_sales</th>\n",
       "      <th>other_sales</th>\n",
       "      <th>total_sales_genre</th>\n",
       "    </tr>\n",
       "  </thead>\n",
       "  <tbody>\n",
       "    <tr>\n",
       "      <td>Shooter</td>\n",
       "      <td>0.46</td>\n",
       "      <td>0.38</td>\n",
       "      <td>0.03</td>\n",
       "      <td>0.13</td>\n",
       "      <td>170.94</td>\n",
       "    </tr>\n",
       "    <tr>\n",
       "      <td>Action</td>\n",
       "      <td>0.36</td>\n",
       "      <td>0.37</td>\n",
       "      <td>0.15</td>\n",
       "      <td>0.11</td>\n",
       "      <td>199.36</td>\n",
       "    </tr>\n",
       "    <tr>\n",
       "      <td>Sports</td>\n",
       "      <td>0.43</td>\n",
       "      <td>0.43</td>\n",
       "      <td>0.00</td>\n",
       "      <td>0.14</td>\n",
       "      <td>106.22</td>\n",
       "    </tr>\n",
       "    <tr>\n",
       "      <td>Role-Playing</td>\n",
       "      <td>0.33</td>\n",
       "      <td>0.28</td>\n",
       "      <td>0.31</td>\n",
       "      <td>0.09</td>\n",
       "      <td>101.44</td>\n",
       "    </tr>\n",
       "    <tr>\n",
       "      <td>Misc</td>\n",
       "      <td>0.61</td>\n",
       "      <td>0.00</td>\n",
       "      <td>0.23</td>\n",
       "      <td>0.16</td>\n",
       "      <td>24.69</td>\n",
       "    </tr>\n",
       "    <tr>\n",
       "      <td>Racing</td>\n",
       "      <td>0.00</td>\n",
       "      <td>1.00</td>\n",
       "      <td>0.00</td>\n",
       "      <td>0.00</td>\n",
       "      <td>14.13</td>\n",
       "    </tr>\n",
       "    <tr>\n",
       "      <td>Fighting</td>\n",
       "      <td>0.00</td>\n",
       "      <td>0.00</td>\n",
       "      <td>1.00</td>\n",
       "      <td>0.00</td>\n",
       "      <td>6.37</td>\n",
       "    </tr>\n",
       "  </tbody>\n",
       "</table>\n",
       "</div>"
      ],
      "text/plain": [
       "              na_sales  eu_sales  jp_sales  other_sales  total_sales_genre\n",
       "Shooter           0.46      0.38      0.03         0.13             170.94\n",
       "Action            0.36      0.37      0.15         0.11             199.36\n",
       "Sports            0.43      0.43      0.00         0.14             106.22\n",
       "Role-Playing      0.33      0.28      0.31         0.09             101.44\n",
       "Misc              0.61      0.00      0.23         0.16              24.69\n",
       "Racing            0.00      1.00      0.00         0.00              14.13\n",
       "Fighting          0.00      0.00      1.00         0.00               6.37"
      ]
     },
     "metadata": {},
     "output_type": "display_data"
    }
   ],
   "source": [
    "def func(row):\n",
    "    row.na_sales = round(row.na_sales / row.total_sales_genre,2)\n",
    "    row.eu_sales = round(row.eu_sales / row.total_sales_genre,2)\n",
    "    row.jp_sales = round(row.jp_sales / row.total_sales_genre,2)\n",
    "    row.other_sales = round(row.other_sales / row.total_sales_genre,2)\n",
    "    return row\n",
    "top_genre_region_delta = top_genre_region.apply(func, axis =1)\n",
    "display(top_genre_region_delta)"
   ]
  },
  {
   "cell_type": "markdown",
   "metadata": {},
   "source": [
    "Сделаем круговые диаграммы по каждому из жанров-лидеров, показывающие распределение долей продаж по регионам. Диаграммы для Racing и Platform стоить не будем, так как эти жанры характерны только для одного региона: Racing -для Европы, а Platform - для Японии."
   ]
  },
  {
   "cell_type": "code",
   "execution_count": 79,
   "metadata": {},
   "outputs": [
    {
     "data": {
      "image/png": "[encoded data removed]",
      "text/plain": [
       "<Figure size 1440x864 with 6 Axes>"
      ]
     },
     "metadata": {
      "needs_background": "light"
     },
     "output_type": "display_data"
    }
   ],
   "source": [
    "fig, axis = plt.subplots(2,3, figsize = (20,12))\n",
    "top_genre_region_delta.loc['Action', ['na_sales', 'eu_sales', 'jp_sales', 'other_sales']].plot(kind = 'pie', ax=axis[0,0])\n",
    "top_genre_region_delta.loc['Sports', ['na_sales', 'eu_sales', 'jp_sales', 'other_sales']].plot(kind = 'pie', ax=axis[0,1])\n",
    "top_genre_region_delta.loc['Shooter', ['na_sales', 'eu_sales', 'jp_sales', 'other_sales']].plot(kind = 'pie', ax=axis[0,2])\n",
    "top_genre_region_delta.loc['Misc', ['na_sales', 'eu_sales', 'jp_sales', 'other_sales']].plot(kind = 'pie', ax=axis[1,0])\n",
    "top_genre_region_delta.loc['Role-Playing', ['na_sales', 'eu_sales', 'jp_sales', 'other_sales']].plot(kind = 'pie', ax=axis[1,1])\n",
    "plt.show()"
   ]
  },
  {
   "cell_type": "markdown",
   "metadata": {},
   "source": [
    "В Северной Америке и Европе доля продаж игрв жанре Sports. Игры в жанре Action тоже примерно одинаково продаются. Role-Playing в Америке, Европе и Японии примерно одинаковые."
   ]
  },
  {
   "cell_type": "markdown",
   "metadata": {},
   "source": [
    "### Анализ влияния рейтинга ESRB на продажи по регионам"
   ]
  },
  {
   "cell_type": "markdown",
   "metadata": {},
   "source": [
    "В этом разделе посмотрим с какой возрастной категорией предпочитают игры пользователи разных регионов."
   ]
  },
  {
   "cell_type": "code",
   "execution_count": 80,
   "metadata": {},
   "outputs": [
    {
     "data": {
      "image/png": "[encoded data removed]",
      "text/plain": [
       "<Figure size 720x360 with 1 Axes>"
      ]
     },
     "metadata": {
      "needs_background": "light"
     },
     "output_type": "display_data"
    }
   ],
   "source": [
    "games_current_period.pivot_table(index = 'rating', values = 'na_sales', aggfunc ='sum').sort_values(by = 'na_sales', ascending = True).plot(kind = 'barh', figsize =(10, 5))\n",
    "plt.title('Продажи игр с рейтингом ESRB в Северной Америке')\n",
    "plt.show()"
   ]
  },
  {
   "cell_type": "markdown",
   "metadata": {},
   "source": [
    "Поскольку рейтинг ESRB, создавался прежде всего для рецензирования игр в США и Канаде, то понятно почему, большая часть игр имеет указанный рейтинг. Хотя есть некоторое количество игр не имеющих рейтинга, но как говорилось ранее рейтинг рекомендуем, но не обязателен. В основном в Северной Америке предпочитают игры с рейтингом М - для взрослых (от 17 лет). Затем идут игры без рейтинга. А на третьем месте, наоборот игры с рейтингом E, т.е для всех, включая детей от 6 лет - для взрослых (от 17 лет). Далее идет рейтинг Т - для подростков от 13 лет. Затем рейтинг Е+10 - для летей от 10 лет."
   ]
  },
  {
   "cell_type": "markdown",
   "metadata": {},
   "source": [
    "Далее посмотрим Европу:"
   ]
  },
  {
   "cell_type": "code",
   "execution_count": 81,
   "metadata": {},
   "outputs": [
    {
     "data": {
      "image/png": "[encoded data removed]",
      "text/plain": [
       "<Figure size 720x360 with 1 Axes>"
      ]
     },
     "metadata": {
      "needs_background": "light"
     },
     "output_type": "display_data"
    }
   ],
   "source": [
    "games_current_period.pivot_table(index = 'rating', values = 'eu_sales', aggfunc ='sum').sort_values(by = 'eu_sales', ascending = True).plot(kind = 'barh', figsize =(10, 5))\n",
    "plt.title('Продажи игр с рейтингом ESRB в Европе')\n",
    "plt.show()"
   ]
  },
  {
   "cell_type": "markdown",
   "metadata": {},
   "source": [
    "И вновь на первом месте по продажам игры для взрослых. Дальнейшее распределение очень похоже на распределение в Северной Америке. Игр без рейтинга достаточно много, это скорее всего связано с тем, что в Европе действуют свои рейтинги. PEGI - это европейский аналог ESRB."
   ]
  },
  {
   "cell_type": "code",
   "execution_count": 82,
   "metadata": {},
   "outputs": [
    {
     "data": {
      "image/png": "[encoded data removed]",
      "text/plain": [
       "<Figure size 720x360 with 1 Axes>"
      ]
     },
     "metadata": {
      "needs_background": "light"
     },
     "output_type": "display_data"
    }
   ],
   "source": [
    "games_current_period.pivot_table(index = 'rating', values = 'jp_sales', aggfunc ='sum').sort_values(by = 'jp_sales', ascending = True).plot(kind = 'barh', figsize =(10, 5))\n",
    "plt.title('Продажи игр с рейтингом ESRB в Японии')\n",
    "plt.show()"
   ]
  },
  {
   "cell_type": "markdown",
   "metadata": {},
   "source": [
    "Для игр продаваемых в Японии характерно отсутствие рейтинга ESRB. Есть определенная доля игр с рейтингом Е и Т. Не много игр для взрослых и детей от 10 лет. Кстати в Японии тоже есть аналог ESRB - это CERO. А теперь посмотрим \"другие\" страны:"
   ]
  },
  {
   "cell_type": "code",
   "execution_count": 83,
   "metadata": {
    "scrolled": true
   },
   "outputs": [
    {
     "data": {
      "image/png": "[encoded data removed]",
      "text/plain": [
       "<Figure size 720x360 with 1 Axes>"
      ]
     },
     "metadata": {
      "needs_background": "light"
     },
     "output_type": "display_data"
    }
   ],
   "source": [
    "games_current_period.pivot_table(index = 'rating', values = 'other_sales', aggfunc ='sum').sort_values(by = 'other_sales', ascending = True).plot(kind = 'barh', figsize =(10, 5))\n",
    "plt.title('Продажи игр с рейтингом ESRB в \"других\" странах')\n",
    "plt.show()"
   ]
  },
  {
   "cell_type": "markdown",
   "metadata": {},
   "source": [
    "По другим странам картина очень напоминает Европу и Америку. "
   ]
  },
  {
   "cell_type": "markdown",
   "metadata": {},
   "source": [
    "**Вывод**"
   ]
  },
  {
   "cell_type": "markdown",
   "metadata": {},
   "source": [
    "В этом разделе мы посмотрели какие платформы предпочитают пользователи разных регионов, какие жанры им нравятся и игры из какой возрастной категории они предпочитают."
   ]
  },
  {
   "cell_type": "markdown",
   "metadata": {},
   "source": [
    "Так для Северной Америки характерны игры в жанрах Action, Sports, Shooter, Misc, Role-Playing, на платформах PS4. XOne, 3DS, WiiU, PC. Большая часть склоняется к играм для всех, включая детей от 6 лет или наоборот, к играм для взрослых. Есть некоторая доля игр без рейтинга, что говорит о том, что рейтинга может и не быть, но допускаю мысль об ошибке в данных, которую без посторонней помощи мы исправить не сможем."
   ]
  },
  {
   "cell_type": "markdown",
   "metadata": {},
   "source": [
    "Жители Европы достаточно близки к североамериканцам. Они предпочитают игры в жанрах Action, Sports, Shooter, Misc, Racing на платформах PS4, XOne, PC, 3DS, WiiU. Большая часть игр имеет рейтинг Е (для всех и детей от 6 дет). Игры для взрослых тут тоже очень хорошо продаются. Игр без рейтинга ESRB достаточно много, но скорее всего, это объясняется тем, что в Европе своя рейтинговая система. \t"
   ]
  },
  {
   "cell_type": "markdown",
   "metadata": {},
   "source": [
    "Пользователи из Японии- это люди с достаточно сильно отличающимися от европейцев менталитетом и культурой, что не может не сказаться на их предпочтениях. Они выбирают игры в жанрах Role-Playing, Action, Misc, Sports, Platform на платформах 3DS, PS4, PSV, PS3, WiiU. У них своя система рейтингов и поэтому у них мало игр с ESRB. Поскольку подавляющее большенство игр для Японии в нашей выборке без рейтинга, то сложно с уверенностью сказать, что они любят больше: игры для всех или игры для взрослых, или вообще что-то третье."
   ]
  },
  {
   "cell_type": "markdown",
   "metadata": {},
   "source": [
    "Другие страны по своим предпочтениям ближе к Америке и Европе, чем к Японии. Они любят игры в жанрах Action, Sports, Shooter, Misc, Role-Playing, на платформах PS4, XOne, 3DS, PS3, PC, соответствующие рейтингам Е (для всех) и М (для взрослых).\t"
   ]
  },
  {
   "cell_type": "markdown",
   "metadata": {},
   "source": [
    "## Проверка гипотез"
   ]
  },
  {
   "cell_type": "markdown",
   "metadata": {},
   "source": [
    "### Гипотеза о равенстве пользовательских рейтингов  платформ XboxOne и PC"
   ]
  },
  {
   "cell_type": "markdown",
   "metadata": {},
   "source": [
    "Поскольку в нулевой гипотезе принято указывать равенство показателей, то в качестве нулевой у нас будет как раз предложенная гипотеза о равенстве пользовательских рейтингов платформ XboxOne и PC. А в качестве альтернативной гипотезы, будет неравенство пользовательских рейтингов этих платформ."
   ]
  },
  {
   "cell_type": "markdown",
   "metadata": {},
   "source": [
    "Для начала сделаем две выборки: одну по платформе XboxOne, а вторую по PC. Строки с нулевым рейтингом в анализе учавствовать не будут."
   ]
  },
  {
   "cell_type": "code",
   "execution_count": 84,
   "metadata": {},
   "outputs": [],
   "source": [
    "x_one = games_current_period.query('platform == \"XOne\" and user_score > 0')\n",
    "x_one = x_one ['user_score']\n",
    "pc = games_current_period.query('platform == \"PC\" and user_score > 0')\n",
    "pc = pc['user_score']"
   ]
  },
  {
   "cell_type": "markdown",
   "metadata": {},
   "source": [
    "Зададим пороговое значение статистической значимости на уровне 5%. Добавим дополнительный параметр equal_var = False, т.к. мы не можем сказать, что выборки равны и схожи по параметрам, поэтому пусть дисперсия считается для каждой выборки отдельно."
   ]
  },
  {
   "cell_type": "code",
   "execution_count": 85,
   "metadata": {},
   "outputs": [
    {
     "data": {
      "text/plain": [
       "'р-значение'"
      ]
     },
     "metadata": {},
     "output_type": "display_data"
    },
    {
     "data": {
      "text/plain": [
       "0.11601398086668827"
      ]
     },
     "metadata": {},
     "output_type": "display_data"
    },
    {
     "data": {
      "text/plain": [
       "'Не получилось отвергнуть нулевую гипотезу'"
      ]
     },
     "metadata": {},
     "output_type": "display_data"
    }
   ],
   "source": [
    "alpha = .05\n",
    "results = st.ttest_ind(x_one, pc, equal_var = False)\n",
    "display('р-значение', results.pvalue)\n",
    "\n",
    "if results.pvalue < alpha:\n",
    "    display(\"Отвергаем нулевую гипотезу\")\n",
    "else:\n",
    "    display(\"Не получилось отвергнуть нулевую гипотезу\") "
   ]
  },
  {
   "cell_type": "markdown",
   "metadata": {},
   "source": [
    "Полученая статистическая значимость выше порогового значения, а это значит, что вероятнее всего, что пользовательские рейтинги платформ XboxOne и PC равны. И мы делаем вывод о том, что альтернативная гипотеза в этом случае получает меньше шансов оказаться верной."
   ]
  },
  {
   "cell_type": "code",
   "execution_count": 86,
   "metadata": {},
   "outputs": [
    {
     "data": {
      "text/plain": [
       "6.594545454545456"
      ]
     },
     "metadata": {},
     "output_type": "display_data"
    }
   ],
   "source": [
    "display(x_one.mean())"
   ]
  },
  {
   "cell_type": "code",
   "execution_count": 87,
   "metadata": {},
   "outputs": [
    {
     "data": {
      "text/plain": [
       "6.298360655737705"
      ]
     },
     "metadata": {},
     "output_type": "display_data"
    }
   ],
   "source": [
    "display(pc.mean())"
   ]
  },
  {
   "cell_type": "markdown",
   "metadata": {},
   "source": [
    "Действительно средние пользовательских рейтингов платформ XboxOne и PC очень близки."
   ]
  },
  {
   "cell_type": "markdown",
   "metadata": {},
   "source": [
    "### Гипотеза о неравенстве пользовательских рейтингов жанров Action и Sports"
   ]
  },
  {
   "cell_type": "markdown",
   "metadata": {},
   "source": [
    "В качестве нулевой гипотезы примем равенство пользовательских рейтингов жанров Action и Sports. А в качестве альтернативной - гипотезу о их неравенстве."
   ]
  },
  {
   "cell_type": "markdown",
   "metadata": {},
   "source": [
    "Для начала сделаем две выборки: одну по жанру Action, а вторую по Sports. Строки с нулевым рейтингом в анализе учавствовать не будут."
   ]
  },
  {
   "cell_type": "code",
   "execution_count": 88,
   "metadata": {},
   "outputs": [],
   "source": [
    "action = games_current_period.query('genre == \"Action\" and user_score > 0')\n",
    "action = action ['user_score']\n",
    "sports = games_current_period.query('genre == \"Sports\" and user_score > 0')\n",
    "sports = sports['user_score']"
   ]
  },
  {
   "cell_type": "markdown",
   "metadata": {},
   "source": [
    "Зададим пороговое значение статистической значимости на уровне 5%. Добавим дополнительный параметр equal_var = False - причины те же, что и при проверки первой гипотезы."
   ]
  },
  {
   "cell_type": "code",
   "execution_count": 89,
   "metadata": {},
   "outputs": [
    {
     "data": {
      "text/plain": [
       "'р-значение'"
      ]
     },
     "metadata": {},
     "output_type": "display_data"
    },
    {
     "data": {
      "text/plain": [
       "1.1825550382644557e-14"
      ]
     },
     "metadata": {},
     "output_type": "display_data"
    },
    {
     "data": {
      "text/plain": [
       "'Отвергаем нулевую гипотезу'"
      ]
     },
     "metadata": {},
     "output_type": "display_data"
    }
   ],
   "source": [
    "alpha = .05\n",
    "results = st.ttest_ind(action, sports, equal_var = False)\n",
    "display('р-значение', results.pvalue)\n",
    "\n",
    "if results.pvalue < alpha:\n",
    "    display(\"Отвергаем нулевую гипотезу\")\n",
    "else:\n",
    "    display(\"Не получилось отвергнуть нулевую гипотезу\") "
   ]
  },
  {
   "cell_type": "markdown",
   "metadata": {},
   "source": [
    "Значение p-value меньше порогового значения статистической значимости. Подтверждение нулевой гипотезы маловероятно. Гипотеза о неравенстве пользовательских рейтингов жанров Action и Sports вероятнее всего верна."
   ]
  },
  {
   "cell_type": "code",
   "execution_count": 90,
   "metadata": {},
   "outputs": [
    {
     "data": {
      "text/plain": [
       "6.760606060606061"
      ]
     },
     "metadata": {},
     "output_type": "display_data"
    }
   ],
   "source": [
    "display(action.mean())\n"
   ]
  },
  {
   "cell_type": "code",
   "execution_count": 91,
   "metadata": {},
   "outputs": [
    {
     "data": {
      "text/plain": [
       "5.2251968503937"
      ]
     },
     "metadata": {},
     "output_type": "display_data"
    }
   ],
   "source": [
    "display(sports.mean())"
   ]
  },
  {
   "cell_type": "markdown",
   "metadata": {},
   "source": [
    "Тут подтверждается неравенство средних пользовательских рейтингов жанров Action и Sports."
   ]
  },
  {
   "cell_type": "markdown",
   "metadata": {},
   "source": [
    "**Вывод**\n"
   ]
  },
  {
   "cell_type": "markdown",
   "metadata": {},
   "source": [
    "Мы рассмотрели две гипотезы: одна о равенстве пользовательских рейтингов платформ XboxOne и PC, а вторая о неравенстве пользовательских рейтингов жанров Action и Sports. В качестве нулевых гипотез, мы приняли равенство рейтингов, а в качестве альтернативных неравенство рейтингов пользьзователей."
   ]
  },
  {
   "cell_type": "markdown",
   "metadata": {},
   "source": [
    "Расчеты не подтвердили нулевую гипотезу во втором случае, а в первом вероятность подтверждения нулевой гипотезы достаточно высока. Помним, что никакие эксперементально полученные данные никогда не подтвердят какую-либо гипотезу. Поэтому в нашем случае мы скажем, что данные взятые для проверки гипотез, в первом случае не противоречат гипотезе о равенстве пользовательских рейтингов, а во втором не противорячат гипотезе о неравенстве рейтингов. "
   ]
  },
  {
   "cell_type": "markdown",
   "metadata": {},
   "source": [
    "## Общий вывод"
   ]
  },
  {
   "cell_type": "markdown",
   "metadata": {},
   "source": [
    "В данной работе мы проводили исследования рынка компьютерных игр."
   ]
  },
  {
   "cell_type": "markdown",
   "metadata": {},
   "source": [
    "В первом разделе мы посмотрели общие данные о файле и обнаружили определенные недостатки в данных: пропуски, неверный тип и некорректное названия столбцов в таблице. Во втором разделе мы эти неточности исправили. А также добавили дополнительные данные, такие как суммарные продажи по каждой позиции. Во втором разделе, мы также обнаружили аббревиатуру 'tbd' в отзывах пользователей. Эта аббревиатура означает - \"не определен\". Эти строки мы оставили незаполненными."
   ]
  },
  {
   "cell_type": "markdown",
   "metadata": {},
   "source": [
    "В третьей части проекта мы провели анализ прожаж игр по платформам и по жанрам по суммарным продажам, без разделения на регионы. Обнаружили, что в среднем платформа существует 11 лет. В качестве актуального для анализа взяли приняли период с 2014 по 2016гг включительно. Для построения плана на 2017г, взяли только те платформы, которые еще не закрыли в 2016г. Таким образом мы определили самые перспективные для планирвания на 2017г платформы: на первом месте PS4, на втором XOne, и на третьем 3DS."
   ]
  },
  {
   "cell_type": "markdown",
   "metadata": {},
   "source": [
    "На примере популярной платформы PS4 мы посмотрели насколько сильно влияют отзывы пользователей и критиков на продажи. Расчет коэффициента корреляции Пирсона показал, что связь между продажами и отзывами критиков есть, но она средняя, а связь продаж с оценками пользователей, практически отсутствует. Посчитав коэффициент корреляции для других платформ, мы увидели следующую картину: связь между продажами и отзывами критиков слабее, чем для платформы PS4, а связь между продажами и отзывами пользователей, практически отсутствует."
   ]
  },
  {
   "cell_type": "markdown",
   "metadata": {},
   "source": [
    "Также мы посмотрели какие жанры лучше продаются. В лидеры у нас вышли:  Shooter, Sports, Platform, Fighting, Role-Playing. Для определения лидеров посчитали медиану."
   ]
  },
  {
   "cell_type": "markdown",
   "metadata": {},
   "source": [
    "В четвертом разделе мы проанализировали предпочтения пользователей из разных регионов. Так у нас получилось, что в Северной Америке характерны игры в жанрах Shooter, Action, Sports, Role-Playing, Misc, на платформах PS4, XOne, 3DS, WiiU, PC. Большая часть склоняется к играм для взрослых или наоборот, к играм для всех, включая детей от 6 лет. "
   ]
  },
  {
   "cell_type": "markdown",
   "metadata": {},
   "source": [
    "В Европе предпочитают игры в жанрах Action, Sports, Shooter, Role-Playing, Racing на платформах PS4, XOne, PC, 3DS, WiiU. Большая часть игр - это игры для взрослых. Тут тоже очень хорошо продаются игры с рейтингом Е (для всех и детей от 6 дет).  Но есть определенная часть игр без рейтинга ESRB, т.к. в Европе есть своя система рейтингов."
   ]
  },
  {
   "cell_type": "markdown",
   "metadata": {},
   "source": [
    "Пользователи из Японии выбирают игры в жанрах Role-Playing, Action, Fighting, Misc, Shooter на платформах 3DS, PS4, PSV, PS3, WiiU. У них своя система рейтингов и поэтому у них мало игр с ESRB. Поскольку подавляющее большенство игр для Японии в нашей выборке без рейтинга, то сложно с уверенностью сказать, что они любят больше: игры для всех или игры для взрослых, или вообще что-то третье."
   ]
  },
  {
   "cell_type": "markdown",
   "metadata": {},
   "source": [
    "Другие страны любят игры в жанрах Action, Shooter, Sports, Role-Playing, Misc на платформах PS4, XOne, 3DS, PS3, PC, соответствующие рейтингам Е (для всех) и М (для взрослых).\t"
   ]
  },
  {
   "cell_type": "markdown",
   "metadata": {},
   "source": [
    "По итогу можно сказать, что самым удачным сочетанием для всех, кроме Японии являются игры на платформе PS4 в жанре Shooter. В Японии лучше сделать акцент игры в жанре Role-Playing на платформе 3DS. Рейтинг игр для Японии нужно рассматривать отдельно с учетом их системы возрастных ограничений."
   ]
  },
  {
   "cell_type": "markdown",
   "metadata": {},
   "source": [
    "В пятом разделе мы рассмотрели две гипотезы: одна о равенстве пользовательских рейтингов платформ XboxOne и PC, а вторая о неравенстве пользовательских рейтингов жанров Action и Sports. Мы сформулировали нулевые и альтернативные гипотезы и задали пороговое значение статистической значимости, по которому определяли насколько верояна или маловероятна нулевая гипотеза. По итогу анализа мы пришли к выводу, что в первом случае вероятнее всего пользовательские рейтинги равны, а во втором не равны. "
   ]
  },
  {
   "cell_type": "code",
   "execution_count": null,
   "metadata": {},
   "outputs": [],
   "source": []
  }
 ],
 "metadata": {
  "ExecuteTimeLog": [
   {
    "duration": 1115,
    "start_time": "2022-03-07T13:00:56.118Z"
   },
   {
    "duration": 2511,
    "start_time": "2022-03-07T13:00:57.236Z"
   },
   {
    "duration": -52,
    "start_time": "2022-03-07T13:00:59.803Z"
   },
   {
    "duration": -67,
    "start_time": "2022-03-07T13:00:59.819Z"
   },
   {
    "duration": -79,
    "start_time": "2022-03-07T13:00:59.832Z"
   },
   {
    "duration": -93,
    "start_time": "2022-03-07T13:00:59.847Z"
   },
   {
    "duration": -169,
    "start_time": "2022-03-07T13:00:59.924Z"
   },
   {
    "duration": -182,
    "start_time": "2022-03-07T13:00:59.938Z"
   },
   {
    "duration": -193,
    "start_time": "2022-03-07T13:00:59.950Z"
   },
   {
    "duration": -206,
    "start_time": "2022-03-07T13:00:59.964Z"
   },
   {
    "duration": -217,
    "start_time": "2022-03-07T13:00:59.976Z"
   },
   {
    "duration": -231,
    "start_time": "2022-03-07T13:00:59.990Z"
   },
   {
    "duration": -242,
    "start_time": "2022-03-07T13:01:00.002Z"
   },
   {
    "duration": -280,
    "start_time": "2022-03-07T13:01:00.041Z"
   },
   {
    "duration": -297,
    "start_time": "2022-03-07T13:01:00.059Z"
   },
   {
    "duration": -312,
    "start_time": "2022-03-07T13:01:00.075Z"
   },
   {
    "duration": -324,
    "start_time": "2022-03-07T13:01:00.088Z"
   },
   {
    "duration": -336,
    "start_time": "2022-03-07T13:01:00.101Z"
   },
   {
    "duration": -349,
    "start_time": "2022-03-07T13:01:00.114Z"
   },
   {
    "duration": -361,
    "start_time": "2022-03-07T13:01:00.128Z"
   },
   {
    "duration": -390,
    "start_time": "2022-03-07T13:01:00.158Z"
   },
   {
    "duration": -402,
    "start_time": "2022-03-07T13:01:00.171Z"
   },
   {
    "duration": -415,
    "start_time": "2022-03-07T13:01:00.184Z"
   },
   {
    "duration": -427,
    "start_time": "2022-03-07T13:01:00.198Z"
   },
   {
    "duration": -437,
    "start_time": "2022-03-07T13:01:00.209Z"
   },
   {
    "duration": -449,
    "start_time": "2022-03-07T13:01:00.222Z"
   },
   {
    "duration": -459,
    "start_time": "2022-03-07T13:01:00.233Z"
   },
   {
    "duration": -471,
    "start_time": "2022-03-07T13:01:00.246Z"
   },
   {
    "duration": -499,
    "start_time": "2022-03-07T13:01:00.275Z"
   },
   {
    "duration": -512,
    "start_time": "2022-03-07T13:01:00.289Z"
   },
   {
    "duration": -523,
    "start_time": "2022-03-07T13:01:00.301Z"
   },
   {
    "duration": -537,
    "start_time": "2022-03-07T13:01:00.316Z"
   },
   {
    "duration": -549,
    "start_time": "2022-03-07T13:01:00.329Z"
   },
   {
    "duration": -561,
    "start_time": "2022-03-07T13:01:00.342Z"
   },
   {
    "duration": -573,
    "start_time": "2022-03-07T13:01:00.355Z"
   },
   {
    "duration": -585,
    "start_time": "2022-03-07T13:01:00.368Z"
   },
   {
    "duration": -615,
    "start_time": "2022-03-07T13:01:00.399Z"
   },
   {
    "duration": -628,
    "start_time": "2022-03-07T13:01:00.413Z"
   },
   {
    "duration": -638,
    "start_time": "2022-03-07T13:01:00.424Z"
   },
   {
    "duration": -652,
    "start_time": "2022-03-07T13:01:00.438Z"
   },
   {
    "duration": -663,
    "start_time": "2022-03-07T13:01:00.450Z"
   },
   {
    "duration": -676,
    "start_time": "2022-03-07T13:01:00.464Z"
   },
   {
    "duration": -687,
    "start_time": "2022-03-07T13:01:00.476Z"
   },
   {
    "duration": -684,
    "start_time": "2022-03-07T13:01:00.489Z"
   },
   {
    "duration": -713,
    "start_time": "2022-03-07T13:01:00.519Z"
   },
   {
    "duration": -726,
    "start_time": "2022-03-07T13:01:00.533Z"
   },
   {
    "duration": -737,
    "start_time": "2022-03-07T13:01:00.545Z"
   },
   {
    "duration": -750,
    "start_time": "2022-03-07T13:01:00.559Z"
   },
   {
    "duration": -760,
    "start_time": "2022-03-07T13:01:00.570Z"
   },
   {
    "duration": -773,
    "start_time": "2022-03-07T13:01:00.584Z"
   },
   {
    "duration": -785,
    "start_time": "2022-03-07T13:01:00.597Z"
   },
   {
    "duration": -797,
    "start_time": "2022-03-07T13:01:00.610Z"
   },
   {
    "duration": -826,
    "start_time": "2022-03-07T13:01:00.639Z"
   },
   {
    "duration": -839,
    "start_time": "2022-03-07T13:01:00.653Z"
   },
   {
    "duration": -851,
    "start_time": "2022-03-07T13:01:00.666Z"
   },
   {
    "duration": -864,
    "start_time": "2022-03-07T13:01:00.680Z"
   },
   {
    "duration": -875,
    "start_time": "2022-03-07T13:01:00.692Z"
   },
   {
    "duration": -888,
    "start_time": "2022-03-07T13:01:00.706Z"
   },
   {
    "duration": -902,
    "start_time": "2022-03-07T13:01:00.720Z"
   },
   {
    "duration": -915,
    "start_time": "2022-03-07T13:01:00.734Z"
   },
   {
    "duration": -948,
    "start_time": "2022-03-07T13:01:00.768Z"
   },
   {
    "duration": -962,
    "start_time": "2022-03-07T13:01:00.782Z"
   },
   {
    "duration": -973,
    "start_time": "2022-03-07T13:01:00.794Z"
   },
   {
    "duration": -994,
    "start_time": "2022-03-07T13:01:00.816Z"
   },
   {
    "duration": -1004,
    "start_time": "2022-03-07T13:01:00.827Z"
   },
   {
    "duration": -1018,
    "start_time": "2022-03-07T13:01:00.841Z"
   },
   {
    "duration": -1028,
    "start_time": "2022-03-07T13:01:00.852Z"
   },
   {
    "duration": -1059,
    "start_time": "2022-03-07T13:01:00.884Z"
   },
   {
    "duration": -1069,
    "start_time": "2022-03-07T13:01:00.895Z"
   },
   {
    "duration": -1081,
    "start_time": "2022-03-07T13:01:00.908Z"
   },
   {
    "duration": -1092,
    "start_time": "2022-03-07T13:01:00.920Z"
   },
   {
    "duration": -1105,
    "start_time": "2022-03-07T13:01:00.934Z"
   },
   {
    "duration": -1116,
    "start_time": "2022-03-07T13:01:00.946Z"
   },
   {
    "duration": -1130,
    "start_time": "2022-03-07T13:01:00.961Z"
   },
   {
    "duration": -1141,
    "start_time": "2022-03-07T13:01:00.973Z"
   },
   {
    "duration": -1170,
    "start_time": "2022-03-07T13:01:01.003Z"
   },
   {
    "duration": -1183,
    "start_time": "2022-03-07T13:01:01.017Z"
   },
   {
    "duration": -1196,
    "start_time": "2022-03-07T13:01:01.031Z"
   },
   {
    "duration": -1207,
    "start_time": "2022-03-07T13:01:01.043Z"
   },
   {
    "duration": -1220,
    "start_time": "2022-03-07T13:01:01.056Z"
   },
   {
    "duration": -1232,
    "start_time": "2022-03-07T13:01:01.069Z"
   },
   {
    "duration": -1245,
    "start_time": "2022-03-07T13:01:01.083Z"
   },
   {
    "duration": -1255,
    "start_time": "2022-03-07T13:01:01.094Z"
   },
   {
    "duration": -1286,
    "start_time": "2022-03-07T13:01:01.126Z"
   },
   {
    "duration": -1297,
    "start_time": "2022-03-07T13:01:01.139Z"
   },
   {
    "duration": -1310,
    "start_time": "2022-03-07T13:01:01.152Z"
   },
   {
    "duration": -1320,
    "start_time": "2022-03-07T13:01:01.164Z"
   },
   {
    "duration": -1333,
    "start_time": "2022-03-07T13:01:01.178Z"
   },
   {
    "duration": -1285,
    "start_time": "2022-03-07T13:01:01.190Z"
   },
   {
    "duration": 3,
    "start_time": "2022-03-07T13:01:31.516Z"
   },
   {
    "duration": 52,
    "start_time": "2022-03-07T13:01:31.523Z"
   },
   {
    "duration": 14,
    "start_time": "2022-03-07T13:01:31.577Z"
   },
   {
    "duration": 9,
    "start_time": "2022-03-07T13:01:31.593Z"
   },
   {
    "duration": 8,
    "start_time": "2022-03-07T13:01:31.604Z"
   },
   {
    "duration": 16,
    "start_time": "2022-03-07T13:01:31.614Z"
   },
   {
    "duration": 10,
    "start_time": "2022-03-07T13:01:31.631Z"
   },
   {
    "duration": 15,
    "start_time": "2022-03-07T13:01:31.642Z"
   },
   {
    "duration": 5,
    "start_time": "2022-03-07T13:01:31.659Z"
   },
   {
    "duration": 6,
    "start_time": "2022-03-07T13:01:31.666Z"
   },
   {
    "duration": 34,
    "start_time": "2022-03-07T13:01:31.674Z"
   },
   {
    "duration": 10,
    "start_time": "2022-03-07T13:01:31.710Z"
   },
   {
    "duration": 4,
    "start_time": "2022-03-07T13:01:31.723Z"
   },
   {
    "duration": 11,
    "start_time": "2022-03-07T13:01:31.729Z"
   },
   {
    "duration": 9,
    "start_time": "2022-03-07T13:01:31.742Z"
   },
   {
    "duration": 18,
    "start_time": "2022-03-07T13:01:31.753Z"
   },
   {
    "duration": 5,
    "start_time": "2022-03-07T13:01:31.773Z"
   },
   {
    "duration": 29,
    "start_time": "2022-03-07T13:01:31.780Z"
   },
   {
    "duration": 15,
    "start_time": "2022-03-07T13:01:31.812Z"
   },
   {
    "duration": 7,
    "start_time": "2022-03-07T13:01:31.829Z"
   },
   {
    "duration": 19,
    "start_time": "2022-03-07T13:01:31.838Z"
   },
   {
    "duration": 11,
    "start_time": "2022-03-07T13:01:31.859Z"
   },
   {
    "duration": 7,
    "start_time": "2022-03-07T13:01:31.872Z"
   },
   {
    "duration": 220,
    "start_time": "2022-03-07T13:01:31.906Z"
   },
   {
    "duration": 5,
    "start_time": "2022-03-07T13:01:32.128Z"
   },
   {
    "duration": 9,
    "start_time": "2022-03-07T13:01:32.137Z"
   },
   {
    "duration": 6,
    "start_time": "2022-03-07T13:01:32.149Z"
   },
   {
    "duration": 362,
    "start_time": "2022-03-07T13:01:32.157Z"
   },
   {
    "duration": 3,
    "start_time": "2022-03-07T13:01:32.521Z"
   },
   {
    "duration": 8,
    "start_time": "2022-03-07T13:01:32.525Z"
   },
   {
    "duration": 8,
    "start_time": "2022-03-07T13:01:32.534Z"
   },
   {
    "duration": 9,
    "start_time": "2022-03-07T13:01:32.543Z"
   },
   {
    "duration": 11,
    "start_time": "2022-03-07T13:01:32.554Z"
   },
   {
    "duration": 43,
    "start_time": "2022-03-07T13:01:32.567Z"
   },
   {
    "duration": 11,
    "start_time": "2022-03-07T13:01:32.612Z"
   },
   {
    "duration": 4,
    "start_time": "2022-03-07T13:01:32.625Z"
   },
   {
    "duration": 216,
    "start_time": "2022-03-07T13:01:32.631Z"
   },
   {
    "duration": 25,
    "start_time": "2022-03-07T13:01:32.849Z"
   },
   {
    "duration": 316,
    "start_time": "2022-03-07T13:01:32.876Z"
   },
   {
    "duration": 13,
    "start_time": "2022-03-07T13:01:33.194Z"
   },
   {
    "duration": 260,
    "start_time": "2022-03-07T13:01:33.208Z"
   },
   {
    "duration": 241,
    "start_time": "2022-03-07T13:01:33.469Z"
   },
   {
    "duration": 2,
    "start_time": "2022-03-07T13:01:33.711Z"
   },
   {
    "duration": 410,
    "start_time": "2022-03-07T13:01:33.717Z"
   },
   {
    "duration": 288,
    "start_time": "2022-03-07T13:01:34.129Z"
   },
   {
    "duration": -6433,
    "start_time": "2022-03-07T13:01:40.852Z"
   },
   {
    "duration": -6448,
    "start_time": "2022-03-07T13:01:40.868Z"
   },
   {
    "duration": -6506,
    "start_time": "2022-03-07T13:01:40.927Z"
   },
   {
    "duration": -6521,
    "start_time": "2022-03-07T13:01:40.943Z"
   },
   {
    "duration": -6532,
    "start_time": "2022-03-07T13:01:40.955Z"
   },
   {
    "duration": -6545,
    "start_time": "2022-03-07T13:01:40.969Z"
   },
   {
    "duration": -6559,
    "start_time": "2022-03-07T13:01:40.984Z"
   },
   {
    "duration": -6575,
    "start_time": "2022-03-07T13:01:41.001Z"
   },
   {
    "duration": -6587,
    "start_time": "2022-03-07T13:01:41.014Z"
   },
   {
    "duration": -6622,
    "start_time": "2022-03-07T13:01:41.050Z"
   },
   {
    "duration": -6634,
    "start_time": "2022-03-07T13:01:41.063Z"
   },
   {
    "duration": -6650,
    "start_time": "2022-03-07T13:01:41.079Z"
   },
   {
    "duration": -6664,
    "start_time": "2022-03-07T13:01:41.094Z"
   },
   {
    "duration": -6683,
    "start_time": "2022-03-07T13:01:41.114Z"
   },
   {
    "duration": -6697,
    "start_time": "2022-03-07T13:01:41.129Z"
   },
   {
    "duration": -6713,
    "start_time": "2022-03-07T13:01:41.146Z"
   },
   {
    "duration": -6742,
    "start_time": "2022-03-07T13:01:41.176Z"
   },
   {
    "duration": -6755,
    "start_time": "2022-03-07T13:01:41.190Z"
   },
   {
    "duration": -6766,
    "start_time": "2022-03-07T13:01:41.202Z"
   },
   {
    "duration": -6780,
    "start_time": "2022-03-07T13:01:41.217Z"
   },
   {
    "duration": -6791,
    "start_time": "2022-03-07T13:01:41.229Z"
   },
   {
    "duration": -6804,
    "start_time": "2022-03-07T13:01:41.243Z"
   },
   {
    "duration": -6815,
    "start_time": "2022-03-07T13:01:41.255Z"
   },
   {
    "duration": -6827,
    "start_time": "2022-03-07T13:01:41.268Z"
   },
   {
    "duration": -6855,
    "start_time": "2022-03-07T13:01:41.297Z"
   },
   {
    "duration": -6868,
    "start_time": "2022-03-07T13:01:41.311Z"
   },
   {
    "duration": -6878,
    "start_time": "2022-03-07T13:01:41.322Z"
   },
   {
    "duration": -6892,
    "start_time": "2022-03-07T13:01:41.337Z"
   },
   {
    "duration": -6903,
    "start_time": "2022-03-07T13:01:41.349Z"
   },
   {
    "duration": -6915,
    "start_time": "2022-03-07T13:01:41.363Z"
   },
   {
    "duration": -6926,
    "start_time": "2022-03-07T13:01:41.375Z"
   },
   {
    "duration": -6938,
    "start_time": "2022-03-07T13:01:41.388Z"
   },
   {
    "duration": -6967,
    "start_time": "2022-03-07T13:01:41.417Z"
   },
   {
    "duration": -6980,
    "start_time": "2022-03-07T13:01:41.431Z"
   },
   {
    "duration": -6991,
    "start_time": "2022-03-07T13:01:41.443Z"
   },
   {
    "duration": -7004,
    "start_time": "2022-03-07T13:01:41.457Z"
   },
   {
    "duration": -7015,
    "start_time": "2022-03-07T13:01:41.469Z"
   },
   {
    "duration": -7028,
    "start_time": "2022-03-07T13:01:41.483Z"
   },
   {
    "duration": -7040,
    "start_time": "2022-03-07T13:01:41.495Z"
   },
   {
    "duration": -7053,
    "start_time": "2022-03-07T13:01:41.509Z"
   },
   {
    "duration": -7081,
    "start_time": "2022-03-07T13:01:41.538Z"
   },
   {
    "duration": -7095,
    "start_time": "2022-03-07T13:01:41.553Z"
   },
   {
    "duration": -7106,
    "start_time": "2022-03-07T13:01:41.565Z"
   },
   {
    "duration": -7120,
    "start_time": "2022-03-07T13:01:41.579Z"
   },
   {
    "duration": 146,
    "start_time": "2022-03-07T13:03:12.981Z"
   },
   {
    "duration": 3,
    "start_time": "2022-03-07T13:03:26.291Z"
   },
   {
    "duration": 39,
    "start_time": "2022-03-07T13:03:26.299Z"
   },
   {
    "duration": 12,
    "start_time": "2022-03-07T13:03:26.340Z"
   },
   {
    "duration": 11,
    "start_time": "2022-03-07T13:03:26.354Z"
   },
   {
    "duration": 9,
    "start_time": "2022-03-07T13:03:26.366Z"
   },
   {
    "duration": 39,
    "start_time": "2022-03-07T13:03:26.376Z"
   },
   {
    "duration": 11,
    "start_time": "2022-03-07T13:03:26.417Z"
   },
   {
    "duration": 16,
    "start_time": "2022-03-07T13:03:26.429Z"
   },
   {
    "duration": 12,
    "start_time": "2022-03-07T13:03:26.448Z"
   },
   {
    "duration": 9,
    "start_time": "2022-03-07T13:03:26.462Z"
   },
   {
    "duration": 33,
    "start_time": "2022-03-07T13:03:26.473Z"
   },
   {
    "duration": 12,
    "start_time": "2022-03-07T13:03:26.508Z"
   },
   {
    "duration": 5,
    "start_time": "2022-03-07T13:03:26.522Z"
   },
   {
    "duration": 18,
    "start_time": "2022-03-07T13:03:26.528Z"
   },
   {
    "duration": 14,
    "start_time": "2022-03-07T13:03:26.547Z"
   },
   {
    "duration": 8,
    "start_time": "2022-03-07T13:03:26.563Z"
   },
   {
    "duration": 6,
    "start_time": "2022-03-07T13:03:26.573Z"
   },
   {
    "duration": 25,
    "start_time": "2022-03-07T13:03:26.580Z"
   },
   {
    "duration": 18,
    "start_time": "2022-03-07T13:03:26.607Z"
   },
   {
    "duration": 6,
    "start_time": "2022-03-07T13:03:26.627Z"
   },
   {
    "duration": 18,
    "start_time": "2022-03-07T13:03:26.634Z"
   },
   {
    "duration": 12,
    "start_time": "2022-03-07T13:03:26.654Z"
   },
   {
    "duration": 6,
    "start_time": "2022-03-07T13:03:26.668Z"
   },
   {
    "duration": 222,
    "start_time": "2022-03-07T13:03:26.676Z"
   },
   {
    "duration": 4,
    "start_time": "2022-03-07T13:03:26.905Z"
   },
   {
    "duration": 9,
    "start_time": "2022-03-07T13:03:26.912Z"
   },
   {
    "duration": 6,
    "start_time": "2022-03-07T13:03:26.924Z"
   },
   {
    "duration": 375,
    "start_time": "2022-03-07T13:03:26.932Z"
   },
   {
    "duration": 2,
    "start_time": "2022-03-07T13:03:27.309Z"
   },
   {
    "duration": 9,
    "start_time": "2022-03-07T13:03:27.313Z"
   },
   {
    "duration": 8,
    "start_time": "2022-03-07T13:03:27.324Z"
   },
   {
    "duration": 11,
    "start_time": "2022-03-07T13:03:27.334Z"
   },
   {
    "duration": 9,
    "start_time": "2022-03-07T13:03:27.346Z"
   },
   {
    "duration": 7,
    "start_time": "2022-03-07T13:03:27.357Z"
   },
   {
    "duration": 41,
    "start_time": "2022-03-07T13:03:27.366Z"
   },
   {
    "duration": 7,
    "start_time": "2022-03-07T13:03:27.409Z"
   },
   {
    "duration": 226,
    "start_time": "2022-03-07T13:03:27.417Z"
   },
   {
    "duration": 26,
    "start_time": "2022-03-07T13:03:27.645Z"
   },
   {
    "duration": 312,
    "start_time": "2022-03-07T13:03:27.673Z"
   },
   {
    "duration": 7,
    "start_time": "2022-03-07T13:03:27.986Z"
   },
   {
    "duration": 277,
    "start_time": "2022-03-07T13:03:27.994Z"
   },
   {
    "duration": 243,
    "start_time": "2022-03-07T13:03:28.273Z"
   },
   {
    "duration": 2,
    "start_time": "2022-03-07T13:03:28.518Z"
   },
   {
    "duration": 397,
    "start_time": "2022-03-07T13:03:28.522Z"
   },
   {
    "duration": 118,
    "start_time": "2022-03-07T13:03:28.924Z"
   },
   {
    "duration": 5,
    "start_time": "2022-03-07T13:03:29.044Z"
   },
   {
    "duration": 11,
    "start_time": "2022-03-07T13:03:29.051Z"
   },
   {
    "duration": 10,
    "start_time": "2022-03-07T13:03:29.063Z"
   },
   {
    "duration": 365,
    "start_time": "2022-03-07T13:03:29.075Z"
   },
   {
    "duration": 301,
    "start_time": "2022-03-07T13:03:29.441Z"
   },
   {
    "duration": 11,
    "start_time": "2022-03-07T13:03:29.744Z"
   },
   {
    "duration": 18,
    "start_time": "2022-03-07T13:03:29.757Z"
   },
   {
    "duration": 427,
    "start_time": "2022-03-07T13:03:29.776Z"
   },
   {
    "duration": 356,
    "start_time": "2022-03-07T13:03:30.205Z"
   },
   {
    "duration": 226,
    "start_time": "2022-03-07T13:03:30.562Z"
   },
   {
    "duration": 232,
    "start_time": "2022-03-07T13:03:30.790Z"
   },
   {
    "duration": 6,
    "start_time": "2022-03-07T13:03:31.023Z"
   },
   {
    "duration": 195,
    "start_time": "2022-03-07T13:03:31.030Z"
   },
   {
    "duration": 13,
    "start_time": "2022-03-07T13:03:31.227Z"
   },
   {
    "duration": 197,
    "start_time": "2022-03-07T13:03:31.241Z"
   },
   {
    "duration": 12,
    "start_time": "2022-03-07T13:03:31.439Z"
   },
   {
    "duration": 194,
    "start_time": "2022-03-07T13:03:31.453Z"
   },
   {
    "duration": 13,
    "start_time": "2022-03-07T13:03:31.648Z"
   },
   {
    "duration": 193,
    "start_time": "2022-03-07T13:03:31.662Z"
   },
   {
    "duration": 12,
    "start_time": "2022-03-07T13:03:31.856Z"
   },
   {
    "duration": 12,
    "start_time": "2022-03-07T13:03:31.870Z"
   },
   {
    "duration": 24,
    "start_time": "2022-03-07T13:03:31.883Z"
   },
   {
    "duration": 16,
    "start_time": "2022-03-07T13:03:31.909Z"
   },
   {
    "duration": 1106,
    "start_time": "2022-03-07T13:03:31.926Z"
   },
   {
    "duration": -13021,
    "start_time": "2022-03-07T13:03:46.055Z"
   },
   {
    "duration": -13098,
    "start_time": "2022-03-07T13:03:46.133Z"
   },
   {
    "duration": -13111,
    "start_time": "2022-03-07T13:03:46.147Z"
   },
   {
    "duration": -13128,
    "start_time": "2022-03-07T13:03:46.165Z"
   },
   {
    "duration": -13140,
    "start_time": "2022-03-07T13:03:46.178Z"
   },
   {
    "duration": -13154,
    "start_time": "2022-03-07T13:03:46.193Z"
   },
   {
    "duration": -13166,
    "start_time": "2022-03-07T13:03:46.205Z"
   },
   {
    "duration": -13180,
    "start_time": "2022-03-07T13:03:46.220Z"
   },
   {
    "duration": -13221,
    "start_time": "2022-03-07T13:03:46.262Z"
   },
   {
    "duration": -13234,
    "start_time": "2022-03-07T13:03:46.276Z"
   },
   {
    "duration": -13246,
    "start_time": "2022-03-07T13:03:46.289Z"
   },
   {
    "duration": -13260,
    "start_time": "2022-03-07T13:03:46.304Z"
   },
   {
    "duration": -13273,
    "start_time": "2022-03-07T13:03:46.317Z"
   },
   {
    "duration": -13287,
    "start_time": "2022-03-07T13:03:46.332Z"
   },
   {
    "duration": -13847,
    "start_time": "2022-03-07T13:03:46.893Z"
   },
   {
    "duration": -13900,
    "start_time": "2022-03-07T13:03:46.947Z"
   },
   {
    "duration": -13949,
    "start_time": "2022-03-07T13:03:46.997Z"
   },
   {
    "duration": -13986,
    "start_time": "2022-03-07T13:03:47.035Z"
   },
   {
    "duration": -13998,
    "start_time": "2022-03-07T13:03:47.048Z"
   },
   {
    "duration": -14012,
    "start_time": "2022-03-07T13:03:47.063Z"
   },
   {
    "duration": 1038,
    "start_time": "2022-03-07T13:04:53.839Z"
   },
   {
    "duration": 951,
    "start_time": "2022-03-07T13:05:43.926Z"
   },
   {
    "duration": 448,
    "start_time": "2022-03-07T13:06:17.586Z"
   },
   {
    "duration": 437,
    "start_time": "2022-03-07T13:06:50.266Z"
   },
   {
    "duration": 532,
    "start_time": "2022-03-07T13:07:07.244Z"
   },
   {
    "duration": 2,
    "start_time": "2022-03-07T13:08:21.459Z"
   },
   {
    "duration": 38,
    "start_time": "2022-03-07T13:08:21.465Z"
   },
   {
    "duration": 12,
    "start_time": "2022-03-07T13:08:21.504Z"
   },
   {
    "duration": 11,
    "start_time": "2022-03-07T13:08:21.519Z"
   },
   {
    "duration": 12,
    "start_time": "2022-03-07T13:08:21.532Z"
   },
   {
    "duration": 21,
    "start_time": "2022-03-07T13:08:21.546Z"
   },
   {
    "duration": 39,
    "start_time": "2022-03-07T13:08:21.569Z"
   },
   {
    "duration": 22,
    "start_time": "2022-03-07T13:08:21.611Z"
   },
   {
    "duration": 8,
    "start_time": "2022-03-07T13:08:21.636Z"
   },
   {
    "duration": 8,
    "start_time": "2022-03-07T13:08:21.646Z"
   },
   {
    "duration": 6,
    "start_time": "2022-03-07T13:08:21.656Z"
   },
   {
    "duration": 11,
    "start_time": "2022-03-07T13:08:21.663Z"
   },
   {
    "duration": 33,
    "start_time": "2022-03-07T13:08:21.676Z"
   },
   {
    "duration": 12,
    "start_time": "2022-03-07T13:08:21.711Z"
   },
   {
    "duration": 9,
    "start_time": "2022-03-07T13:08:21.725Z"
   },
   {
    "duration": 4,
    "start_time": "2022-03-07T13:08:21.735Z"
   },
   {
    "duration": 6,
    "start_time": "2022-03-07T13:08:21.741Z"
   },
   {
    "duration": 7,
    "start_time": "2022-03-07T13:08:21.748Z"
   },
   {
    "duration": 11,
    "start_time": "2022-03-07T13:08:21.756Z"
   },
   {
    "duration": 5,
    "start_time": "2022-03-07T13:08:21.806Z"
   },
   {
    "duration": 16,
    "start_time": "2022-03-07T13:08:21.814Z"
   },
   {
    "duration": 11,
    "start_time": "2022-03-07T13:08:21.832Z"
   },
   {
    "duration": 6,
    "start_time": "2022-03-07T13:08:21.845Z"
   },
   {
    "duration": 227,
    "start_time": "2022-03-07T13:08:21.853Z"
   },
   {
    "duration": 24,
    "start_time": "2022-03-07T13:08:22.082Z"
   },
   {
    "duration": 14,
    "start_time": "2022-03-07T13:08:22.108Z"
   },
   {
    "duration": 9,
    "start_time": "2022-03-07T13:08:22.125Z"
   },
   {
    "duration": 380,
    "start_time": "2022-03-07T13:08:22.135Z"
   },
   {
    "duration": 3,
    "start_time": "2022-03-07T13:08:22.517Z"
   },
   {
    "duration": 8,
    "start_time": "2022-03-07T13:08:22.522Z"
   },
   {
    "duration": 8,
    "start_time": "2022-03-07T13:08:22.531Z"
   },
   {
    "duration": 11,
    "start_time": "2022-03-07T13:08:22.540Z"
   },
   {
    "duration": 10,
    "start_time": "2022-03-07T13:08:22.552Z"
   },
   {
    "duration": 44,
    "start_time": "2022-03-07T13:08:22.564Z"
   },
   {
    "duration": 14,
    "start_time": "2022-03-07T13:08:22.612Z"
   },
   {
    "duration": 6,
    "start_time": "2022-03-07T13:08:22.629Z"
   },
   {
    "duration": 231,
    "start_time": "2022-03-07T13:08:22.636Z"
   },
   {
    "duration": 36,
    "start_time": "2022-03-07T13:08:22.869Z"
   },
   {
    "duration": 298,
    "start_time": "2022-03-07T13:08:22.907Z"
   },
   {
    "duration": 6,
    "start_time": "2022-03-07T13:08:23.207Z"
   },
   {
    "duration": 275,
    "start_time": "2022-03-07T13:08:23.214Z"
   },
   {
    "duration": 242,
    "start_time": "2022-03-07T13:08:23.491Z"
   },
   {
    "duration": 2,
    "start_time": "2022-03-07T13:08:23.735Z"
   },
   {
    "duration": 497,
    "start_time": "2022-03-07T13:08:23.738Z"
   },
   {
    "duration": 85,
    "start_time": "2022-03-07T13:08:24.237Z"
   },
   {
    "duration": 4,
    "start_time": "2022-03-07T13:08:24.324Z"
   },
   {
    "duration": 15,
    "start_time": "2022-03-07T13:08:24.329Z"
   },
   {
    "duration": 8,
    "start_time": "2022-03-07T13:08:24.345Z"
   },
   {
    "duration": 297,
    "start_time": "2022-03-07T13:08:24.355Z"
   },
   {
    "duration": 412,
    "start_time": "2022-03-07T13:08:24.654Z"
   },
   {
    "duration": 13,
    "start_time": "2022-03-07T13:08:25.069Z"
   },
   {
    "duration": 28,
    "start_time": "2022-03-07T13:08:25.084Z"
   },
   {
    "duration": 346,
    "start_time": "2022-03-07T13:08:25.114Z"
   },
   {
    "duration": 360,
    "start_time": "2022-03-07T13:08:25.462Z"
   },
   {
    "duration": 241,
    "start_time": "2022-03-07T13:08:25.824Z"
   },
   {
    "duration": 241,
    "start_time": "2022-03-07T13:08:26.067Z"
   },
   {
    "duration": 6,
    "start_time": "2022-03-07T13:08:26.310Z"
   },
   {
    "duration": 195,
    "start_time": "2022-03-07T13:08:26.318Z"
   },
   {
    "duration": 12,
    "start_time": "2022-03-07T13:08:26.515Z"
   },
   {
    "duration": 199,
    "start_time": "2022-03-07T13:08:26.529Z"
   },
   {
    "duration": 12,
    "start_time": "2022-03-07T13:08:26.730Z"
   },
   {
    "duration": 205,
    "start_time": "2022-03-07T13:08:26.744Z"
   },
   {
    "duration": 12,
    "start_time": "2022-03-07T13:08:26.950Z"
   },
   {
    "duration": 208,
    "start_time": "2022-03-07T13:08:26.963Z"
   },
   {
    "duration": 13,
    "start_time": "2022-03-07T13:08:27.172Z"
   },
   {
    "duration": 22,
    "start_time": "2022-03-07T13:08:27.186Z"
   },
   {
    "duration": 11,
    "start_time": "2022-03-07T13:08:27.210Z"
   },
   {
    "duration": 15,
    "start_time": "2022-03-07T13:08:27.222Z"
   },
   {
    "duration": 462,
    "start_time": "2022-03-07T13:08:27.238Z"
   },
   {
    "duration": 439,
    "start_time": "2022-03-07T13:08:27.706Z"
   },
   {
    "duration": 18,
    "start_time": "2022-03-07T13:08:28.147Z"
   },
   {
    "duration": 352,
    "start_time": "2022-03-07T13:08:28.167Z"
   },
   {
    "duration": 12,
    "start_time": "2022-03-07T13:08:28.521Z"
   },
   {
    "duration": 222,
    "start_time": "2022-03-07T13:08:28.534Z"
   },
   {
    "duration": 18,
    "start_time": "2022-03-07T13:08:28.758Z"
   },
   {
    "duration": 339,
    "start_time": "2022-03-07T13:08:28.778Z"
   },
   {
    "duration": 20,
    "start_time": "2022-03-07T13:08:29.119Z"
   },
   {
    "duration": 18,
    "start_time": "2022-03-07T13:08:29.141Z"
   },
   {
    "duration": 14,
    "start_time": "2022-03-07T13:08:29.166Z"
   },
   {
    "duration": 40,
    "start_time": "2022-03-07T13:08:29.182Z"
   },
   {
    "duration": 640,
    "start_time": "2022-03-07T13:08:29.224Z"
   },
   {
    "duration": 209,
    "start_time": "2022-03-07T13:08:29.866Z"
   },
   {
    "duration": 186,
    "start_time": "2022-03-07T13:08:30.077Z"
   },
   {
    "duration": 193,
    "start_time": "2022-03-07T13:08:30.265Z"
   },
   {
    "duration": 205,
    "start_time": "2022-03-07T13:08:30.460Z"
   },
   {
    "duration": 11,
    "start_time": "2022-03-07T13:08:30.666Z"
   },
   {
    "duration": 12,
    "start_time": "2022-03-07T13:08:30.678Z"
   },
   {
    "duration": 21,
    "start_time": "2022-03-07T13:08:30.692Z"
   },
   {
    "duration": 14,
    "start_time": "2022-03-07T13:08:30.715Z"
   },
   {
    "duration": 357,
    "start_time": "2022-03-07T13:35:54.510Z"
   },
   {
    "duration": 288,
    "start_time": "2022-03-07T13:36:35.508Z"
   },
   {
    "duration": 277,
    "start_time": "2022-03-07T13:36:59.850Z"
   },
   {
    "duration": 112,
    "start_time": "2022-03-07T13:37:41.884Z"
   },
   {
    "duration": 280,
    "start_time": "2022-03-07T13:37:48.443Z"
   },
   {
    "duration": 384,
    "start_time": "2022-03-07T13:46:29.278Z"
   },
   {
    "duration": 303,
    "start_time": "2022-03-07T14:04:22.122Z"
   },
   {
    "duration": 346,
    "start_time": "2022-03-07T14:05:07.001Z"
   },
   {
    "duration": 404,
    "start_time": "2022-03-07T14:05:36.112Z"
   },
   {
    "duration": 1023,
    "start_time": "2022-03-07T15:27:43.663Z"
   },
   {
    "duration": 49,
    "start_time": "2022-03-07T15:27:44.688Z"
   },
   {
    "duration": 15,
    "start_time": "2022-03-07T15:27:44.739Z"
   },
   {
    "duration": 9,
    "start_time": "2022-03-07T15:27:44.756Z"
   },
   {
    "duration": 10,
    "start_time": "2022-03-07T15:27:44.767Z"
   },
   {
    "duration": 28,
    "start_time": "2022-03-07T15:27:44.778Z"
   },
   {
    "duration": 11,
    "start_time": "2022-03-07T15:27:44.808Z"
   },
   {
    "duration": 14,
    "start_time": "2022-03-07T15:27:44.821Z"
   },
   {
    "duration": 5,
    "start_time": "2022-03-07T15:27:44.836Z"
   },
   {
    "duration": 6,
    "start_time": "2022-03-07T15:27:44.842Z"
   },
   {
    "duration": 4,
    "start_time": "2022-03-07T15:27:44.849Z"
   },
   {
    "duration": 9,
    "start_time": "2022-03-07T15:27:44.855Z"
   },
   {
    "duration": 5,
    "start_time": "2022-03-07T15:27:44.865Z"
   },
   {
    "duration": 42,
    "start_time": "2022-03-07T15:27:44.871Z"
   },
   {
    "duration": 7,
    "start_time": "2022-03-07T15:27:44.915Z"
   },
   {
    "duration": 7,
    "start_time": "2022-03-07T15:27:44.924Z"
   },
   {
    "duration": 7,
    "start_time": "2022-03-07T15:27:44.932Z"
   },
   {
    "duration": 5,
    "start_time": "2022-03-07T15:27:44.940Z"
   },
   {
    "duration": 11,
    "start_time": "2022-03-07T15:27:44.946Z"
   },
   {
    "duration": 7,
    "start_time": "2022-03-07T15:27:44.958Z"
   },
   {
    "duration": 45,
    "start_time": "2022-03-07T15:27:44.966Z"
   },
   {
    "duration": 23,
    "start_time": "2022-03-07T15:27:45.012Z"
   },
   {
    "duration": 7,
    "start_time": "2022-03-07T15:27:45.040Z"
   },
   {
    "duration": 205,
    "start_time": "2022-03-07T15:27:45.049Z"
   },
   {
    "duration": 4,
    "start_time": "2022-03-07T15:27:45.256Z"
   },
   {
    "duration": 11,
    "start_time": "2022-03-07T15:27:45.262Z"
   },
   {
    "duration": 6,
    "start_time": "2022-03-07T15:27:45.275Z"
   },
   {
    "duration": 341,
    "start_time": "2022-03-07T15:27:45.282Z"
   },
   {
    "duration": 3,
    "start_time": "2022-03-07T15:27:45.624Z"
   },
   {
    "duration": 10,
    "start_time": "2022-03-07T15:27:45.628Z"
   },
   {
    "duration": 11,
    "start_time": "2022-03-07T15:27:45.640Z"
   },
   {
    "duration": 11,
    "start_time": "2022-03-07T15:27:45.652Z"
   },
   {
    "duration": 11,
    "start_time": "2022-03-07T15:27:45.664Z"
   },
   {
    "duration": 29,
    "start_time": "2022-03-07T15:27:45.676Z"
   },
   {
    "duration": 11,
    "start_time": "2022-03-07T15:27:45.707Z"
   },
   {
    "duration": 10,
    "start_time": "2022-03-07T15:27:45.720Z"
   },
   {
    "duration": 205,
    "start_time": "2022-03-07T15:27:45.731Z"
   },
   {
    "duration": 26,
    "start_time": "2022-03-07T15:27:45.937Z"
   },
   {
    "duration": 301,
    "start_time": "2022-03-07T15:27:45.964Z"
   },
   {
    "duration": 6,
    "start_time": "2022-03-07T15:27:46.267Z"
   },
   {
    "duration": 265,
    "start_time": "2022-03-07T15:27:46.275Z"
   },
   {
    "duration": 239,
    "start_time": "2022-03-07T15:27:46.542Z"
   },
   {
    "duration": 476,
    "start_time": "2022-03-07T15:27:46.783Z"
   },
   {
    "duration": 79,
    "start_time": "2022-03-07T15:27:47.261Z"
   },
   {
    "duration": 4,
    "start_time": "2022-03-07T15:27:47.342Z"
   },
   {
    "duration": 9,
    "start_time": "2022-03-07T15:27:47.348Z"
   },
   {
    "duration": 9,
    "start_time": "2022-03-07T15:27:47.359Z"
   },
   {
    "duration": 358,
    "start_time": "2022-03-07T15:27:47.370Z"
   },
   {
    "duration": 329,
    "start_time": "2022-03-07T15:27:47.729Z"
   },
   {
    "duration": 11,
    "start_time": "2022-03-07T15:27:48.059Z"
   },
   {
    "duration": 12,
    "start_time": "2022-03-07T15:27:48.072Z"
   },
   {
    "duration": 351,
    "start_time": "2022-03-07T15:27:48.086Z"
   },
   {
    "duration": 328,
    "start_time": "2022-03-07T15:27:48.439Z"
   },
   {
    "duration": 230,
    "start_time": "2022-03-07T15:27:48.769Z"
   },
   {
    "duration": 229,
    "start_time": "2022-03-07T15:27:49.001Z"
   },
   {
    "duration": 4,
    "start_time": "2022-03-07T15:27:49.232Z"
   },
   {
    "duration": 190,
    "start_time": "2022-03-07T15:27:49.238Z"
   },
   {
    "duration": 11,
    "start_time": "2022-03-07T15:27:49.430Z"
   },
   {
    "duration": 203,
    "start_time": "2022-03-07T15:27:49.443Z"
   },
   {
    "duration": 12,
    "start_time": "2022-03-07T15:27:49.647Z"
   },
   {
    "duration": 199,
    "start_time": "2022-03-07T15:27:49.661Z"
   },
   {
    "duration": 13,
    "start_time": "2022-03-07T15:27:49.861Z"
   },
   {
    "duration": 205,
    "start_time": "2022-03-07T15:27:49.875Z"
   },
   {
    "duration": 13,
    "start_time": "2022-03-07T15:27:50.082Z"
   },
   {
    "duration": 12,
    "start_time": "2022-03-07T15:27:50.106Z"
   },
   {
    "duration": 11,
    "start_time": "2022-03-07T15:27:50.120Z"
   },
   {
    "duration": 118,
    "start_time": "2022-03-07T15:27:50.132Z"
   },
   {
    "duration": 430,
    "start_time": "2022-03-07T15:27:50.256Z"
   },
   {
    "duration": 216,
    "start_time": "2022-03-07T15:27:50.689Z"
   },
   {
    "duration": 14,
    "start_time": "2022-03-07T15:27:50.907Z"
   },
   {
    "duration": 222,
    "start_time": "2022-03-07T15:27:50.922Z"
   },
   {
    "duration": 14,
    "start_time": "2022-03-07T15:27:51.146Z"
   },
   {
    "duration": 225,
    "start_time": "2022-03-07T15:27:51.162Z"
   },
   {
    "duration": 25,
    "start_time": "2022-03-07T15:27:51.389Z"
   },
   {
    "duration": 218,
    "start_time": "2022-03-07T15:27:51.416Z"
   },
   {
    "duration": 15,
    "start_time": "2022-03-07T15:27:51.636Z"
   },
   {
    "duration": 15,
    "start_time": "2022-03-07T15:27:51.652Z"
   },
   {
    "duration": 13,
    "start_time": "2022-03-07T15:27:51.668Z"
   },
   {
    "duration": 28,
    "start_time": "2022-03-07T15:27:51.683Z"
   },
   {
    "duration": 506,
    "start_time": "2022-03-07T15:27:51.713Z"
   },
   {
    "duration": 192,
    "start_time": "2022-03-07T15:27:52.221Z"
   },
   {
    "duration": 181,
    "start_time": "2022-03-07T15:27:52.415Z"
   },
   {
    "duration": 181,
    "start_time": "2022-03-07T15:27:52.598Z"
   },
   {
    "duration": 275,
    "start_time": "2022-03-07T15:27:52.781Z"
   },
   {
    "duration": 10,
    "start_time": "2022-03-07T15:27:53.058Z"
   },
   {
    "duration": 9,
    "start_time": "2022-03-07T15:27:53.070Z"
   },
   {
    "duration": 26,
    "start_time": "2022-03-07T15:27:53.081Z"
   },
   {
    "duration": 9,
    "start_time": "2022-03-07T15:27:53.108Z"
   },
   {
    "duration": 978,
    "start_time": "2022-03-15T17:04:53.072Z"
   },
   {
    "duration": 35,
    "start_time": "2022-03-15T17:04:54.052Z"
   },
   {
    "duration": 14,
    "start_time": "2022-03-15T17:04:54.089Z"
   },
   {
    "duration": 17,
    "start_time": "2022-03-15T17:04:54.104Z"
   },
   {
    "duration": 15,
    "start_time": "2022-03-15T17:04:54.122Z"
   },
   {
    "duration": 22,
    "start_time": "2022-03-15T17:04:54.138Z"
   },
   {
    "duration": 9,
    "start_time": "2022-03-15T17:04:54.161Z"
   },
   {
    "duration": 14,
    "start_time": "2022-03-15T17:04:54.172Z"
   },
   {
    "duration": 5,
    "start_time": "2022-03-15T17:04:54.189Z"
   },
   {
    "duration": 14,
    "start_time": "2022-03-15T17:04:54.195Z"
   },
   {
    "duration": 9,
    "start_time": "2022-03-15T17:04:54.210Z"
   },
   {
    "duration": 21,
    "start_time": "2022-03-15T17:04:54.220Z"
   },
   {
    "duration": 16,
    "start_time": "2022-03-15T17:04:54.243Z"
   },
   {
    "duration": 31,
    "start_time": "2022-03-15T17:04:54.260Z"
   },
   {
    "duration": 24,
    "start_time": "2022-03-15T17:04:54.292Z"
   },
   {
    "duration": 20,
    "start_time": "2022-03-15T17:04:54.317Z"
   },
   {
    "duration": 13,
    "start_time": "2022-03-15T17:04:54.338Z"
   },
   {
    "duration": 9,
    "start_time": "2022-03-15T17:04:54.352Z"
   },
   {
    "duration": 13,
    "start_time": "2022-03-15T17:04:54.363Z"
   },
   {
    "duration": 27,
    "start_time": "2022-03-15T17:04:54.377Z"
   },
   {
    "duration": 19,
    "start_time": "2022-03-15T17:04:54.406Z"
   },
   {
    "duration": 25,
    "start_time": "2022-03-15T17:04:54.426Z"
   },
   {
    "duration": 16,
    "start_time": "2022-03-15T17:04:54.456Z"
   },
   {
    "duration": 187,
    "start_time": "2022-03-15T17:04:54.474Z"
   },
   {
    "duration": 4,
    "start_time": "2022-03-15T17:04:54.662Z"
   },
   {
    "duration": 18,
    "start_time": "2022-03-15T17:04:54.667Z"
   },
   {
    "duration": 9,
    "start_time": "2022-03-15T17:04:54.686Z"
   },
   {
    "duration": 340,
    "start_time": "2022-03-15T17:04:54.697Z"
   },
   {
    "duration": 3,
    "start_time": "2022-03-15T17:04:55.038Z"
   },
   {
    "duration": 12,
    "start_time": "2022-03-15T17:04:55.043Z"
   },
   {
    "duration": 8,
    "start_time": "2022-03-15T17:04:55.057Z"
   },
   {
    "duration": 18,
    "start_time": "2022-03-15T17:04:55.066Z"
   },
   {
    "duration": 11,
    "start_time": "2022-03-15T17:04:55.086Z"
   },
   {
    "duration": 6,
    "start_time": "2022-03-15T17:04:55.099Z"
   },
   {
    "duration": 11,
    "start_time": "2022-03-15T17:04:55.107Z"
   },
   {
    "duration": 6,
    "start_time": "2022-03-15T17:04:55.120Z"
   },
   {
    "duration": 226,
    "start_time": "2022-03-15T17:04:55.127Z"
   },
   {
    "duration": 33,
    "start_time": "2022-03-15T17:04:55.355Z"
   },
   {
    "duration": 295,
    "start_time": "2022-03-15T17:04:55.389Z"
   },
   {
    "duration": 6,
    "start_time": "2022-03-15T17:04:55.685Z"
   },
   {
    "duration": 254,
    "start_time": "2022-03-15T17:04:55.693Z"
   },
   {
    "duration": 232,
    "start_time": "2022-03-15T17:04:55.949Z"
   },
   {
    "duration": 444,
    "start_time": "2022-03-15T17:04:56.183Z"
   },
   {
    "duration": 81,
    "start_time": "2022-03-15T17:04:56.629Z"
   },
   {
    "duration": 4,
    "start_time": "2022-03-15T17:04:56.711Z"
   },
   {
    "duration": 9,
    "start_time": "2022-03-15T17:04:56.717Z"
   },
   {
    "duration": 7,
    "start_time": "2022-03-15T17:04:56.728Z"
   },
   {
    "duration": 326,
    "start_time": "2022-03-15T17:04:56.736Z"
   },
   {
    "duration": 331,
    "start_time": "2022-03-15T17:04:57.063Z"
   },
   {
    "duration": 12,
    "start_time": "2022-03-15T17:04:57.395Z"
   },
   {
    "duration": 9,
    "start_time": "2022-03-15T17:04:57.408Z"
   },
   {
    "duration": 307,
    "start_time": "2022-03-15T17:04:57.418Z"
   },
   {
    "duration": 311,
    "start_time": "2022-03-15T17:04:57.726Z"
   },
   {
    "duration": 226,
    "start_time": "2022-03-15T17:04:58.039Z"
   },
   {
    "duration": 224,
    "start_time": "2022-03-15T17:04:58.266Z"
   },
   {
    "duration": 6,
    "start_time": "2022-03-15T17:04:58.491Z"
   },
   {
    "duration": 184,
    "start_time": "2022-03-15T17:04:58.498Z"
   },
   {
    "duration": 11,
    "start_time": "2022-03-15T17:04:58.684Z"
   },
   {
    "duration": 201,
    "start_time": "2022-03-15T17:04:58.696Z"
   },
   {
    "duration": 13,
    "start_time": "2022-03-15T17:04:58.899Z"
   },
   {
    "duration": 207,
    "start_time": "2022-03-15T17:04:58.914Z"
   },
   {
    "duration": 11,
    "start_time": "2022-03-15T17:04:59.123Z"
   },
   {
    "duration": 195,
    "start_time": "2022-03-15T17:04:59.135Z"
   },
   {
    "duration": 10,
    "start_time": "2022-03-15T17:04:59.332Z"
   },
   {
    "duration": 12,
    "start_time": "2022-03-15T17:04:59.344Z"
   },
   {
    "duration": 25,
    "start_time": "2022-03-15T17:04:59.357Z"
   },
   {
    "duration": 85,
    "start_time": "2022-03-15T17:04:59.383Z"
   },
   {
    "duration": 412,
    "start_time": "2022-03-15T17:04:59.472Z"
   },
   {
    "duration": 211,
    "start_time": "2022-03-15T17:04:59.886Z"
   },
   {
    "duration": 13,
    "start_time": "2022-03-15T17:05:00.099Z"
   },
   {
    "duration": 222,
    "start_time": "2022-03-15T17:05:00.114Z"
   },
   {
    "duration": 13,
    "start_time": "2022-03-15T17:05:00.338Z"
   },
   {
    "duration": 220,
    "start_time": "2022-03-15T17:05:00.352Z"
   },
   {
    "duration": 16,
    "start_time": "2022-03-15T17:05:00.574Z"
   },
   {
    "duration": 213,
    "start_time": "2022-03-15T17:05:00.591Z"
   },
   {
    "duration": 18,
    "start_time": "2022-03-15T17:05:00.806Z"
   },
   {
    "duration": 33,
    "start_time": "2022-03-15T17:05:00.826Z"
   },
   {
    "duration": 19,
    "start_time": "2022-03-15T17:05:00.861Z"
   },
   {
    "duration": 22,
    "start_time": "2022-03-15T17:05:00.881Z"
   },
   {
    "duration": 517,
    "start_time": "2022-03-15T17:05:00.905Z"
   },
   {
    "duration": 216,
    "start_time": "2022-03-15T17:05:01.424Z"
   },
   {
    "duration": 184,
    "start_time": "2022-03-15T17:05:01.642Z"
   },
   {
    "duration": 174,
    "start_time": "2022-03-15T17:05:01.828Z"
   },
   {
    "duration": 251,
    "start_time": "2022-03-15T17:05:02.004Z"
   },
   {
    "duration": 9,
    "start_time": "2022-03-15T17:05:02.256Z"
   },
   {
    "duration": 19,
    "start_time": "2022-03-15T17:05:02.267Z"
   },
   {
    "duration": 23,
    "start_time": "2022-03-15T17:05:02.287Z"
   },
   {
    "duration": 35,
    "start_time": "2022-03-15T17:05:02.311Z"
   },
   {
    "duration": 1176,
    "start_time": "2022-03-15T18:39:20.969Z"
   },
   {
    "duration": 51,
    "start_time": "2022-03-15T18:39:22.147Z"
   },
   {
    "duration": 19,
    "start_time": "2022-03-15T18:39:22.200Z"
   },
   {
    "duration": 17,
    "start_time": "2022-03-15T18:39:22.222Z"
   },
   {
    "duration": 12,
    "start_time": "2022-03-15T18:39:22.242Z"
   },
   {
    "duration": 20,
    "start_time": "2022-03-15T18:39:22.256Z"
   },
   {
    "duration": 13,
    "start_time": "2022-03-15T18:39:22.278Z"
   },
   {
    "duration": 52,
    "start_time": "2022-03-15T18:39:22.294Z"
   },
   {
    "duration": 6,
    "start_time": "2022-03-15T18:39:22.350Z"
   },
   {
    "duration": 8,
    "start_time": "2022-03-15T18:39:22.359Z"
   },
   {
    "duration": 5,
    "start_time": "2022-03-15T18:39:22.370Z"
   },
   {
    "duration": 9,
    "start_time": "2022-03-15T18:39:22.377Z"
   },
   {
    "duration": 46,
    "start_time": "2022-03-15T18:39:22.388Z"
   },
   {
    "duration": 13,
    "start_time": "2022-03-15T18:39:22.436Z"
   },
   {
    "duration": 9,
    "start_time": "2022-03-15T18:39:22.450Z"
   },
   {
    "duration": 5,
    "start_time": "2022-03-15T18:39:22.460Z"
   },
   {
    "duration": 5,
    "start_time": "2022-03-15T18:39:22.467Z"
   },
   {
    "duration": 7,
    "start_time": "2022-03-15T18:39:22.474Z"
   },
   {
    "duration": 54,
    "start_time": "2022-03-15T18:39:22.483Z"
   },
   {
    "duration": 7,
    "start_time": "2022-03-15T18:39:22.539Z"
   },
   {
    "duration": 26,
    "start_time": "2022-03-15T18:39:22.549Z"
   },
   {
    "duration": 16,
    "start_time": "2022-03-15T18:39:22.577Z"
   },
   {
    "duration": 10,
    "start_time": "2022-03-15T18:39:22.595Z"
   },
   {
    "duration": 265,
    "start_time": "2022-03-15T18:39:22.632Z"
   },
   {
    "duration": 5,
    "start_time": "2022-03-15T18:39:22.899Z"
   },
   {
    "duration": 31,
    "start_time": "2022-03-15T18:39:22.906Z"
   },
   {
    "duration": 8,
    "start_time": "2022-03-15T18:39:22.943Z"
   },
   {
    "duration": 512,
    "start_time": "2022-03-15T18:39:22.954Z"
   },
   {
    "duration": 4,
    "start_time": "2022-03-15T18:39:23.469Z"
   },
   {
    "duration": 14,
    "start_time": "2022-03-15T18:39:23.475Z"
   },
   {
    "duration": 11,
    "start_time": "2022-03-15T18:39:23.491Z"
   },
   {
    "duration": 42,
    "start_time": "2022-03-15T18:39:23.504Z"
   },
   {
    "duration": 20,
    "start_time": "2022-03-15T18:39:23.549Z"
   },
   {
    "duration": 13,
    "start_time": "2022-03-15T18:39:23.572Z"
   },
   {
    "duration": 23,
    "start_time": "2022-03-15T18:39:23.586Z"
   },
   {
    "duration": 23,
    "start_time": "2022-03-15T18:39:23.611Z"
   },
   {
    "duration": 265,
    "start_time": "2022-03-15T18:39:23.637Z"
   },
   {
    "duration": 41,
    "start_time": "2022-03-15T18:39:23.904Z"
   },
   {
    "duration": 415,
    "start_time": "2022-03-15T18:39:23.948Z"
   },
   {
    "duration": 9,
    "start_time": "2022-03-15T18:39:24.365Z"
   },
   {
    "duration": 410,
    "start_time": "2022-03-15T18:39:24.376Z"
   },
   {
    "duration": 366,
    "start_time": "2022-03-15T18:39:24.788Z"
   },
   {
    "duration": 417,
    "start_time": "2022-03-15T18:39:25.156Z"
   },
   {
    "duration": 90,
    "start_time": "2022-03-15T18:39:25.575Z"
   },
   {
    "duration": 7,
    "start_time": "2022-03-15T18:39:25.667Z"
   },
   {
    "duration": 19,
    "start_time": "2022-03-15T18:39:25.676Z"
   },
   {
    "duration": 13,
    "start_time": "2022-03-15T18:39:25.697Z"
   },
   {
    "duration": 491,
    "start_time": "2022-03-15T18:39:25.712Z"
   },
   {
    "duration": 405,
    "start_time": "2022-03-15T18:39:26.205Z"
   },
   {
    "duration": 21,
    "start_time": "2022-03-15T18:39:26.612Z"
   },
   {
    "duration": 13,
    "start_time": "2022-03-15T18:39:26.635Z"
   },
   {
    "duration": 383,
    "start_time": "2022-03-15T18:39:26.650Z"
   },
   {
    "duration": 386,
    "start_time": "2022-03-15T18:39:27.034Z"
   },
   {
    "duration": 320,
    "start_time": "2022-03-15T18:39:27.422Z"
   },
   {
    "duration": 332,
    "start_time": "2022-03-15T18:39:27.744Z"
   },
   {
    "duration": 336,
    "start_time": "2022-03-15T18:39:28.078Z"
   },
   {
    "duration": 354,
    "start_time": "2022-03-15T18:48:18.403Z"
   },
   {
    "duration": 319,
    "start_time": "2022-03-15T18:52:14.693Z"
   },
   {
    "duration": 359,
    "start_time": "2022-03-15T18:52:38.432Z"
   },
   {
    "duration": 343,
    "start_time": "2022-03-15T18:53:12.860Z"
   },
   {
    "duration": 412,
    "start_time": "2022-03-15T18:53:27.480Z"
   },
   {
    "duration": 836,
    "start_time": "2022-03-15T18:55:13.624Z"
   },
   {
    "duration": 341,
    "start_time": "2022-03-15T18:56:13.419Z"
   },
   {
    "duration": 6509,
    "start_time": "2022-03-15T19:05:58.179Z"
   },
   {
    "duration": 352,
    "start_time": "2022-03-15T19:06:35.847Z"
   },
   {
    "duration": 4,
    "start_time": "2022-03-15T19:33:26.948Z"
   },
   {
    "duration": 41,
    "start_time": "2022-03-15T19:33:26.954Z"
   },
   {
    "duration": 16,
    "start_time": "2022-03-15T19:33:26.998Z"
   },
   {
    "duration": 16,
    "start_time": "2022-03-15T19:33:27.016Z"
   },
   {
    "duration": 10,
    "start_time": "2022-03-15T19:33:27.034Z"
   },
   {
    "duration": 20,
    "start_time": "2022-03-15T19:33:27.046Z"
   },
   {
    "duration": 13,
    "start_time": "2022-03-15T19:33:27.067Z"
   },
   {
    "duration": 64,
    "start_time": "2022-03-15T19:33:27.083Z"
   },
   {
    "duration": 6,
    "start_time": "2022-03-15T19:33:27.150Z"
   },
   {
    "duration": 10,
    "start_time": "2022-03-15T19:33:27.157Z"
   },
   {
    "duration": 4,
    "start_time": "2022-03-15T19:33:27.169Z"
   },
   {
    "duration": 14,
    "start_time": "2022-03-15T19:33:27.174Z"
   },
   {
    "duration": 42,
    "start_time": "2022-03-15T19:33:27.190Z"
   },
   {
    "duration": 12,
    "start_time": "2022-03-15T19:33:27.234Z"
   },
   {
    "duration": 12,
    "start_time": "2022-03-15T19:33:27.248Z"
   },
   {
    "duration": 8,
    "start_time": "2022-03-15T19:33:27.262Z"
   },
   {
    "duration": 7,
    "start_time": "2022-03-15T19:33:27.272Z"
   },
   {
    "duration": 11,
    "start_time": "2022-03-15T19:33:27.280Z"
   },
   {
    "duration": 12,
    "start_time": "2022-03-15T19:33:27.332Z"
   },
   {
    "duration": 5,
    "start_time": "2022-03-15T19:33:27.346Z"
   },
   {
    "duration": 25,
    "start_time": "2022-03-15T19:33:27.353Z"
   },
   {
    "duration": 15,
    "start_time": "2022-03-15T19:33:27.380Z"
   },
   {
    "duration": 36,
    "start_time": "2022-03-15T19:33:27.399Z"
   },
   {
    "duration": 272,
    "start_time": "2022-03-15T19:33:27.438Z"
   },
   {
    "duration": 5,
    "start_time": "2022-03-15T19:33:27.712Z"
   },
   {
    "duration": 25,
    "start_time": "2022-03-15T19:33:27.719Z"
   },
   {
    "duration": 14,
    "start_time": "2022-03-15T19:33:27.745Z"
   },
   {
    "duration": 458,
    "start_time": "2022-03-15T19:33:27.761Z"
   },
   {
    "duration": 3,
    "start_time": "2022-03-15T19:33:28.221Z"
   },
   {
    "duration": 20,
    "start_time": "2022-03-15T19:33:28.225Z"
   },
   {
    "duration": 14,
    "start_time": "2022-03-15T19:33:28.247Z"
   },
   {
    "duration": 14,
    "start_time": "2022-03-15T19:33:28.263Z"
   },
   {
    "duration": 11,
    "start_time": "2022-03-15T19:33:28.279Z"
   },
   {
    "duration": 11,
    "start_time": "2022-03-15T19:33:28.292Z"
   },
   {
    "duration": 46,
    "start_time": "2022-03-15T19:33:28.304Z"
   },
   {
    "duration": 7,
    "start_time": "2022-03-15T19:33:28.352Z"
   },
   {
    "duration": 243,
    "start_time": "2022-03-15T19:33:28.361Z"
   },
   {
    "duration": 34,
    "start_time": "2022-03-15T19:33:28.606Z"
   },
   {
    "duration": 368,
    "start_time": "2022-03-15T19:33:28.642Z"
   },
   {
    "duration": 6,
    "start_time": "2022-03-15T19:33:29.012Z"
   },
   {
    "duration": 362,
    "start_time": "2022-03-15T19:33:29.032Z"
   },
   {
    "duration": 322,
    "start_time": "2022-03-15T19:33:29.395Z"
   },
   {
    "duration": 496,
    "start_time": "2022-03-15T19:33:29.718Z"
   },
   {
    "duration": 60,
    "start_time": "2022-03-15T19:33:30.216Z"
   },
   {
    "duration": 4,
    "start_time": "2022-03-15T19:33:30.278Z"
   },
   {
    "duration": 20,
    "start_time": "2022-03-15T19:33:30.283Z"
   },
   {
    "duration": 26,
    "start_time": "2022-03-15T19:33:30.305Z"
   },
   {
    "duration": 403,
    "start_time": "2022-03-15T19:33:30.333Z"
   },
   {
    "duration": 401,
    "start_time": "2022-03-15T19:33:30.738Z"
   },
   {
    "duration": 13,
    "start_time": "2022-03-15T19:33:31.141Z"
   },
   {
    "duration": 19,
    "start_time": "2022-03-15T19:33:31.156Z"
   },
   {
    "duration": 445,
    "start_time": "2022-03-15T19:33:31.177Z"
   },
   {
    "duration": 386,
    "start_time": "2022-03-15T19:33:31.624Z"
   },
   {
    "duration": 331,
    "start_time": "2022-03-15T19:33:32.012Z"
   },
   {
    "duration": 319,
    "start_time": "2022-03-15T19:33:32.344Z"
   },
   {
    "duration": 330,
    "start_time": "2022-03-15T19:33:32.665Z"
   },
   {
    "duration": 6,
    "start_time": "2022-03-15T19:33:32.996Z"
   },
   {
    "duration": 261,
    "start_time": "2022-03-15T19:33:33.004Z"
   },
   {
    "duration": 17,
    "start_time": "2022-03-15T19:33:33.267Z"
   },
   {
    "duration": 274,
    "start_time": "2022-03-15T19:33:33.286Z"
   },
   {
    "duration": 15,
    "start_time": "2022-03-15T19:33:33.563Z"
   },
   {
    "duration": 369,
    "start_time": "2022-03-15T19:33:33.580Z"
   },
   {
    "duration": 15,
    "start_time": "2022-03-15T19:33:33.951Z"
   },
   {
    "duration": 256,
    "start_time": "2022-03-15T19:33:33.967Z"
   },
   {
    "duration": 19,
    "start_time": "2022-03-15T19:33:34.224Z"
   },
   {
    "duration": 16,
    "start_time": "2022-03-15T19:33:34.244Z"
   },
   {
    "duration": 17,
    "start_time": "2022-03-15T19:33:34.262Z"
   },
   {
    "duration": 17,
    "start_time": "2022-03-15T19:33:34.285Z"
   },
   {
    "duration": 553,
    "start_time": "2022-03-15T19:33:34.331Z"
   },
   {
    "duration": 293,
    "start_time": "2022-03-15T19:33:34.886Z"
   },
   {
    "duration": 16,
    "start_time": "2022-03-15T19:33:35.181Z"
   },
   {
    "duration": 312,
    "start_time": "2022-03-15T19:33:35.199Z"
   },
   {
    "duration": 24,
    "start_time": "2022-03-15T19:33:35.512Z"
   },
   {
    "duration": 289,
    "start_time": "2022-03-15T19:33:35.538Z"
   },
   {
    "duration": 14,
    "start_time": "2022-03-15T19:33:35.829Z"
   },
   {
    "duration": 286,
    "start_time": "2022-03-15T19:33:35.845Z"
   },
   {
    "duration": 15,
    "start_time": "2022-03-15T19:33:36.133Z"
   },
   {
    "duration": 17,
    "start_time": "2022-03-15T19:33:36.150Z"
   },
   {
    "duration": 22,
    "start_time": "2022-03-15T19:33:36.169Z"
   },
   {
    "duration": 20,
    "start_time": "2022-03-15T19:33:36.193Z"
   },
   {
    "duration": 647,
    "start_time": "2022-03-15T19:33:36.231Z"
   },
   {
    "duration": 240,
    "start_time": "2022-03-15T19:33:36.880Z"
   },
   {
    "duration": 307,
    "start_time": "2022-03-15T19:33:37.122Z"
   },
   {
    "duration": 235,
    "start_time": "2022-03-15T19:33:37.431Z"
   },
   {
    "duration": 241,
    "start_time": "2022-03-15T19:33:37.668Z"
   },
   {
    "duration": 10,
    "start_time": "2022-03-15T19:33:37.910Z"
   },
   {
    "duration": 7,
    "start_time": "2022-03-15T19:33:37.932Z"
   },
   {
    "duration": 26,
    "start_time": "2022-03-15T19:33:37.941Z"
   },
   {
    "duration": 15,
    "start_time": "2022-03-15T19:33:37.969Z"
   },
   {
    "duration": 19,
    "start_time": "2022-03-15T19:33:37.986Z"
   },
   {
    "duration": 19,
    "start_time": "2022-03-15T19:33:38.007Z"
   },
   {
    "duration": 14,
    "start_time": "2022-03-15T19:33:38.032Z"
   },
   {
    "duration": 25,
    "start_time": "2022-03-15T19:33:38.048Z"
   },
   {
    "duration": 1536,
    "start_time": "2022-03-16T07:09:03.303Z"
   },
   {
    "duration": 61,
    "start_time": "2022-03-16T07:09:04.842Z"
   },
   {
    "duration": 30,
    "start_time": "2022-03-16T07:09:04.907Z"
   },
   {
    "duration": 41,
    "start_time": "2022-03-16T07:09:04.941Z"
   },
   {
    "duration": 17,
    "start_time": "2022-03-16T07:09:04.985Z"
   },
   {
    "duration": 29,
    "start_time": "2022-03-16T07:09:05.004Z"
   },
   {
    "duration": 49,
    "start_time": "2022-03-16T07:09:05.036Z"
   },
   {
    "duration": 25,
    "start_time": "2022-03-16T07:09:05.089Z"
   },
   {
    "duration": 7,
    "start_time": "2022-03-16T07:09:05.118Z"
   },
   {
    "duration": 15,
    "start_time": "2022-03-16T07:09:05.128Z"
   },
   {
    "duration": 37,
    "start_time": "2022-03-16T07:09:05.146Z"
   },
   {
    "duration": 16,
    "start_time": "2022-03-16T07:09:05.186Z"
   },
   {
    "duration": 5,
    "start_time": "2022-03-16T07:09:05.205Z"
   },
   {
    "duration": 18,
    "start_time": "2022-03-16T07:09:05.213Z"
   },
   {
    "duration": 14,
    "start_time": "2022-03-16T07:09:05.234Z"
   },
   {
    "duration": 55,
    "start_time": "2022-03-16T07:09:05.250Z"
   },
   {
    "duration": 17,
    "start_time": "2022-03-16T07:09:05.308Z"
   },
   {
    "duration": 29,
    "start_time": "2022-03-16T07:09:05.329Z"
   },
   {
    "duration": 25,
    "start_time": "2022-03-16T07:09:05.361Z"
   },
   {
    "duration": 13,
    "start_time": "2022-03-16T07:09:05.389Z"
   },
   {
    "duration": 36,
    "start_time": "2022-03-16T07:09:05.404Z"
   },
   {
    "duration": 41,
    "start_time": "2022-03-16T07:09:05.443Z"
   },
   {
    "duration": 13,
    "start_time": "2022-03-16T07:09:05.491Z"
   },
   {
    "duration": 489,
    "start_time": "2022-03-16T07:09:05.510Z"
   },
   {
    "duration": 8,
    "start_time": "2022-03-16T07:09:06.002Z"
   },
   {
    "duration": 21,
    "start_time": "2022-03-16T07:09:06.013Z"
   },
   {
    "duration": 15,
    "start_time": "2022-03-16T07:09:06.038Z"
   },
   {
    "duration": 840,
    "start_time": "2022-03-16T07:09:06.082Z"
   },
   {
    "duration": 5,
    "start_time": "2022-03-16T07:09:06.925Z"
   },
   {
    "duration": 14,
    "start_time": "2022-03-16T07:09:06.933Z"
   },
   {
    "duration": 34,
    "start_time": "2022-03-16T07:09:06.949Z"
   },
   {
    "duration": 20,
    "start_time": "2022-03-16T07:09:06.986Z"
   },
   {
    "duration": 22,
    "start_time": "2022-03-16T07:09:07.009Z"
   },
   {
    "duration": 17,
    "start_time": "2022-03-16T07:09:07.034Z"
   },
   {
    "duration": 43,
    "start_time": "2022-03-16T07:09:07.053Z"
   },
   {
    "duration": 11,
    "start_time": "2022-03-16T07:09:07.098Z"
   },
   {
    "duration": 356,
    "start_time": "2022-03-16T07:09:07.112Z"
   },
   {
    "duration": 44,
    "start_time": "2022-03-16T07:09:07.470Z"
   },
   {
    "duration": 604,
    "start_time": "2022-03-16T07:09:07.517Z"
   },
   {
    "duration": 20,
    "start_time": "2022-03-16T07:09:08.124Z"
   },
   {
    "duration": 547,
    "start_time": "2022-03-16T07:09:08.146Z"
   },
   {
    "duration": 444,
    "start_time": "2022-03-16T07:09:08.695Z"
   },
   {
    "duration": 776,
    "start_time": "2022-03-16T07:09:09.141Z"
   },
   {
    "duration": 86,
    "start_time": "2022-03-16T07:09:09.919Z"
   },
   {
    "duration": 5,
    "start_time": "2022-03-16T07:09:10.007Z"
   },
   {
    "duration": 20,
    "start_time": "2022-03-16T07:09:10.015Z"
   },
   {
    "duration": 111,
    "start_time": "2022-03-16T07:09:10.038Z"
   },
   {
    "duration": 494,
    "start_time": "2022-03-16T07:09:10.151Z"
   },
   {
    "duration": 505,
    "start_time": "2022-03-16T07:09:10.648Z"
   },
   {
    "duration": 30,
    "start_time": "2022-03-16T07:09:11.156Z"
   },
   {
    "duration": 24,
    "start_time": "2022-03-16T07:09:11.188Z"
   },
   {
    "duration": 477,
    "start_time": "2022-03-16T07:09:11.215Z"
   },
   {
    "duration": 570,
    "start_time": "2022-03-16T07:09:11.695Z"
   },
   {
    "duration": 463,
    "start_time": "2022-03-16T07:09:12.268Z"
   },
   {
    "duration": 435,
    "start_time": "2022-03-16T07:09:12.734Z"
   },
   {
    "duration": 424,
    "start_time": "2022-03-16T07:09:13.172Z"
   },
   {
    "duration": 9,
    "start_time": "2022-03-16T07:09:13.599Z"
   },
   {
    "duration": 486,
    "start_time": "2022-03-16T07:09:13.610Z"
   },
   {
    "duration": 25,
    "start_time": "2022-03-16T07:09:14.099Z"
   },
   {
    "duration": 501,
    "start_time": "2022-03-16T07:09:14.127Z"
   },
   {
    "duration": 27,
    "start_time": "2022-03-16T07:09:14.631Z"
   },
   {
    "duration": 397,
    "start_time": "2022-03-16T07:09:14.681Z"
   },
   {
    "duration": 20,
    "start_time": "2022-03-16T07:09:15.083Z"
   },
   {
    "duration": 359,
    "start_time": "2022-03-16T07:09:15.106Z"
   },
   {
    "duration": 28,
    "start_time": "2022-03-16T07:09:15.468Z"
   },
   {
    "duration": 28,
    "start_time": "2022-03-16T07:09:15.499Z"
   },
   {
    "duration": 22,
    "start_time": "2022-03-16T07:09:15.530Z"
   },
   {
    "duration": 48,
    "start_time": "2022-03-16T07:09:15.563Z"
   },
   {
    "duration": 1179,
    "start_time": "2022-03-16T07:09:15.615Z"
   },
   {
    "duration": 395,
    "start_time": "2022-03-16T07:09:16.797Z"
   },
   {
    "duration": 22,
    "start_time": "2022-03-16T07:09:17.194Z"
   },
   {
    "duration": 529,
    "start_time": "2022-03-16T07:09:17.219Z"
   },
   {
    "duration": 36,
    "start_time": "2022-03-16T07:09:17.751Z"
   },
   {
    "duration": 387,
    "start_time": "2022-03-16T07:09:17.789Z"
   },
   {
    "duration": 25,
    "start_time": "2022-03-16T07:09:18.178Z"
   },
   {
    "duration": 413,
    "start_time": "2022-03-16T07:09:18.205Z"
   },
   {
    "duration": 22,
    "start_time": "2022-03-16T07:09:18.620Z"
   },
   {
    "duration": 42,
    "start_time": "2022-03-16T07:09:18.644Z"
   },
   {
    "duration": 17,
    "start_time": "2022-03-16T07:09:18.689Z"
   },
   {
    "duration": 28,
    "start_time": "2022-03-16T07:09:18.708Z"
   },
   {
    "duration": 7656,
    "start_time": "2022-03-16T07:09:18.738Z"
   },
   {
    "duration": -21072,
    "start_time": "2022-03-16T07:09:47.469Z"
   },
   {
    "duration": -21075,
    "start_time": "2022-03-16T07:09:47.475Z"
   },
   {
    "duration": -21079,
    "start_time": "2022-03-16T07:09:47.480Z"
   },
   {
    "duration": -21082,
    "start_time": "2022-03-16T07:09:47.485Z"
   },
   {
    "duration": -21086,
    "start_time": "2022-03-16T07:09:47.491Z"
   },
   {
    "duration": -21189,
    "start_time": "2022-03-16T07:09:47.597Z"
   },
   {
    "duration": -21221,
    "start_time": "2022-03-16T07:09:47.631Z"
   },
   {
    "duration": -21224,
    "start_time": "2022-03-16T07:09:47.636Z"
   },
   {
    "duration": -21228,
    "start_time": "2022-03-16T07:09:47.642Z"
   },
   {
    "duration": -21236,
    "start_time": "2022-03-16T07:09:47.652Z"
   },
   {
    "duration": -21239,
    "start_time": "2022-03-16T07:09:47.657Z"
   },
   {
    "duration": -21242,
    "start_time": "2022-03-16T07:09:47.662Z"
   },
   {
    "duration": 4,
    "start_time": "2022-03-16T07:22:22.396Z"
   },
   {
    "duration": 54,
    "start_time": "2022-03-16T07:22:22.404Z"
   },
   {
    "duration": 33,
    "start_time": "2022-03-16T07:22:22.461Z"
   },
   {
    "duration": 19,
    "start_time": "2022-03-16T07:22:22.498Z"
   },
   {
    "duration": 17,
    "start_time": "2022-03-16T07:22:22.520Z"
   },
   {
    "duration": 27,
    "start_time": "2022-03-16T07:22:22.586Z"
   },
   {
    "duration": 15,
    "start_time": "2022-03-16T07:22:22.617Z"
   },
   {
    "duration": 63,
    "start_time": "2022-03-16T07:22:22.635Z"
   },
   {
    "duration": 14,
    "start_time": "2022-03-16T07:22:22.701Z"
   },
   {
    "duration": 18,
    "start_time": "2022-03-16T07:22:22.717Z"
   },
   {
    "duration": 45,
    "start_time": "2022-03-16T07:22:22.738Z"
   },
   {
    "duration": 14,
    "start_time": "2022-03-16T07:22:22.786Z"
   },
   {
    "duration": 9,
    "start_time": "2022-03-16T07:22:22.803Z"
   },
   {
    "duration": 24,
    "start_time": "2022-03-16T07:22:22.815Z"
   },
   {
    "duration": 46,
    "start_time": "2022-03-16T07:22:22.842Z"
   },
   {
    "duration": 9,
    "start_time": "2022-03-16T07:22:22.890Z"
   },
   {
    "duration": 8,
    "start_time": "2022-03-16T07:22:22.902Z"
   },
   {
    "duration": 9,
    "start_time": "2022-03-16T07:22:22.912Z"
   },
   {
    "duration": 20,
    "start_time": "2022-03-16T07:22:22.926Z"
   },
   {
    "duration": 44,
    "start_time": "2022-03-16T07:22:22.949Z"
   },
   {
    "duration": 57,
    "start_time": "2022-03-16T07:22:22.996Z"
   },
   {
    "duration": 22,
    "start_time": "2022-03-16T07:22:23.056Z"
   },
   {
    "duration": 11,
    "start_time": "2022-03-16T07:22:23.081Z"
   },
   {
    "duration": 358,
    "start_time": "2022-03-16T07:22:23.095Z"
   },
   {
    "duration": 7,
    "start_time": "2022-03-16T07:22:23.456Z"
   },
   {
    "duration": 18,
    "start_time": "2022-03-16T07:22:23.482Z"
   },
   {
    "duration": 11,
    "start_time": "2022-03-16T07:22:23.503Z"
   },
   {
    "duration": 913,
    "start_time": "2022-03-16T07:22:23.518Z"
   },
   {
    "duration": 5,
    "start_time": "2022-03-16T07:22:24.434Z"
   },
   {
    "duration": 17,
    "start_time": "2022-03-16T07:22:24.442Z"
   },
   {
    "duration": 11,
    "start_time": "2022-03-16T07:22:24.482Z"
   },
   {
    "duration": 18,
    "start_time": "2022-03-16T07:22:24.495Z"
   },
   {
    "duration": 16,
    "start_time": "2022-03-16T07:22:24.516Z"
   },
   {
    "duration": 12,
    "start_time": "2022-03-16T07:22:24.534Z"
   },
   {
    "duration": 52,
    "start_time": "2022-03-16T07:22:24.549Z"
   },
   {
    "duration": 12,
    "start_time": "2022-03-16T07:22:24.603Z"
   },
   {
    "duration": 430,
    "start_time": "2022-03-16T07:22:24.618Z"
   },
   {
    "duration": 50,
    "start_time": "2022-03-16T07:22:25.051Z"
   },
   {
    "duration": 478,
    "start_time": "2022-03-16T07:22:25.104Z"
   },
   {
    "duration": 9,
    "start_time": "2022-03-16T07:22:25.585Z"
   },
   {
    "duration": 522,
    "start_time": "2022-03-16T07:22:25.597Z"
   },
   {
    "duration": 568,
    "start_time": "2022-03-16T07:22:26.121Z"
   },
   {
    "duration": 746,
    "start_time": "2022-03-16T07:22:26.692Z"
   },
   {
    "duration": 82,
    "start_time": "2022-03-16T07:22:27.441Z"
   },
   {
    "duration": 5,
    "start_time": "2022-03-16T07:22:27.526Z"
   },
   {
    "duration": 21,
    "start_time": "2022-03-16T07:22:27.534Z"
   },
   {
    "duration": 37,
    "start_time": "2022-03-16T07:22:27.557Z"
   },
   {
    "duration": 480,
    "start_time": "2022-03-16T07:22:27.596Z"
   },
   {
    "duration": 467,
    "start_time": "2022-03-16T07:22:28.079Z"
   },
   {
    "duration": 16,
    "start_time": "2022-03-16T07:22:28.549Z"
   },
   {
    "duration": 15,
    "start_time": "2022-03-16T07:22:28.582Z"
   },
   {
    "duration": 489,
    "start_time": "2022-03-16T07:22:28.600Z"
   },
   {
    "duration": 469,
    "start_time": "2022-03-16T07:22:29.093Z"
   },
   {
    "duration": 421,
    "start_time": "2022-03-16T07:22:29.564Z"
   },
   {
    "duration": 549,
    "start_time": "2022-03-16T07:22:29.993Z"
   },
   {
    "duration": 436,
    "start_time": "2022-03-16T07:22:30.546Z"
   },
   {
    "duration": 9,
    "start_time": "2022-03-16T07:22:30.986Z"
   },
   {
    "duration": 364,
    "start_time": "2022-03-16T07:22:30.997Z"
   },
   {
    "duration": 31,
    "start_time": "2022-03-16T07:22:31.364Z"
   },
   {
    "duration": 352,
    "start_time": "2022-03-16T07:22:31.398Z"
   },
   {
    "duration": 31,
    "start_time": "2022-03-16T07:22:31.753Z"
   },
   {
    "duration": 358,
    "start_time": "2022-03-16T07:22:31.787Z"
   },
   {
    "duration": 20,
    "start_time": "2022-03-16T07:22:32.147Z"
   },
   {
    "duration": 374,
    "start_time": "2022-03-16T07:22:32.170Z"
   },
   {
    "duration": 21,
    "start_time": "2022-03-16T07:22:32.546Z"
   },
   {
    "duration": 20,
    "start_time": "2022-03-16T07:22:32.583Z"
   },
   {
    "duration": 20,
    "start_time": "2022-03-16T07:22:32.606Z"
   },
   {
    "duration": 27,
    "start_time": "2022-03-16T07:22:32.629Z"
   },
   {
    "duration": 784,
    "start_time": "2022-03-16T07:22:32.667Z"
   },
   {
    "duration": 431,
    "start_time": "2022-03-16T07:22:33.454Z"
   },
   {
    "duration": 20,
    "start_time": "2022-03-16T07:22:33.888Z"
   },
   {
    "duration": 399,
    "start_time": "2022-03-16T07:22:33.911Z"
   },
   {
    "duration": 21,
    "start_time": "2022-03-16T07:22:34.313Z"
   },
   {
    "duration": 405,
    "start_time": "2022-03-16T07:22:34.336Z"
   },
   {
    "duration": 22,
    "start_time": "2022-03-16T07:22:34.743Z"
   },
   {
    "duration": 491,
    "start_time": "2022-03-16T07:22:34.783Z"
   },
   {
    "duration": 23,
    "start_time": "2022-03-16T07:22:35.277Z"
   },
   {
    "duration": 29,
    "start_time": "2022-03-16T07:22:35.302Z"
   },
   {
    "duration": 32,
    "start_time": "2022-03-16T07:22:35.333Z"
   },
   {
    "duration": 24,
    "start_time": "2022-03-16T07:22:35.383Z"
   },
   {
    "duration": 901,
    "start_time": "2022-03-16T07:22:35.410Z"
   },
   {
    "duration": 317,
    "start_time": "2022-03-16T07:22:36.314Z"
   },
   {
    "duration": 333,
    "start_time": "2022-03-16T07:22:36.634Z"
   },
   {
    "duration": 334,
    "start_time": "2022-03-16T07:22:36.969Z"
   },
   {
    "duration": 333,
    "start_time": "2022-03-16T07:22:37.305Z"
   },
   {
    "duration": 15,
    "start_time": "2022-03-16T07:22:37.640Z"
   },
   {
    "duration": 30,
    "start_time": "2022-03-16T07:22:37.657Z"
   },
   {
    "duration": 17,
    "start_time": "2022-03-16T07:22:37.689Z"
   },
   {
    "duration": 7,
    "start_time": "2022-03-16T07:22:37.708Z"
   },
   {
    "duration": 17,
    "start_time": "2022-03-16T07:22:37.717Z"
   },
   {
    "duration": 17,
    "start_time": "2022-03-16T07:22:37.737Z"
   },
   {
    "duration": 30,
    "start_time": "2022-03-16T07:22:37.756Z"
   },
   {
    "duration": 9,
    "start_time": "2022-03-16T07:22:37.789Z"
   },
   {
    "duration": 1176,
    "start_time": "2022-03-16T13:50:50.413Z"
   },
   {
    "duration": 34,
    "start_time": "2022-03-16T13:50:51.591Z"
   },
   {
    "duration": 17,
    "start_time": "2022-03-16T13:50:51.630Z"
   },
   {
    "duration": 34,
    "start_time": "2022-03-16T13:50:51.649Z"
   },
   {
    "duration": 25,
    "start_time": "2022-03-16T13:50:51.685Z"
   },
   {
    "duration": 40,
    "start_time": "2022-03-16T13:50:51.711Z"
   },
   {
    "duration": 44,
    "start_time": "2022-03-16T13:50:51.754Z"
   },
   {
    "duration": 61,
    "start_time": "2022-03-16T13:50:51.800Z"
   },
   {
    "duration": 28,
    "start_time": "2022-03-16T13:50:51.863Z"
   },
   {
    "duration": 19,
    "start_time": "2022-03-16T13:50:51.893Z"
   },
   {
    "duration": 19,
    "start_time": "2022-03-16T13:50:51.914Z"
   },
   {
    "duration": 24,
    "start_time": "2022-03-16T13:50:51.935Z"
   },
   {
    "duration": 12,
    "start_time": "2022-03-16T13:50:51.961Z"
   },
   {
    "duration": 17,
    "start_time": "2022-03-16T13:50:51.975Z"
   },
   {
    "duration": 13,
    "start_time": "2022-03-16T13:50:51.994Z"
   },
   {
    "duration": 8,
    "start_time": "2022-03-16T13:50:52.009Z"
   },
   {
    "duration": 5,
    "start_time": "2022-03-16T13:50:52.020Z"
   },
   {
    "duration": 10,
    "start_time": "2022-03-16T13:50:52.027Z"
   },
   {
    "duration": 17,
    "start_time": "2022-03-16T13:50:52.039Z"
   },
   {
    "duration": 10,
    "start_time": "2022-03-16T13:50:52.057Z"
   },
   {
    "duration": 17,
    "start_time": "2022-03-16T13:50:52.069Z"
   },
   {
    "duration": 21,
    "start_time": "2022-03-16T13:50:52.090Z"
   },
   {
    "duration": 7,
    "start_time": "2022-03-16T13:50:52.114Z"
   },
   {
    "duration": 257,
    "start_time": "2022-03-16T13:50:52.122Z"
   },
   {
    "duration": 5,
    "start_time": "2022-03-16T13:50:52.381Z"
   },
   {
    "duration": 20,
    "start_time": "2022-03-16T13:50:52.388Z"
   },
   {
    "duration": 8,
    "start_time": "2022-03-16T13:50:52.410Z"
   },
   {
    "duration": 438,
    "start_time": "2022-03-16T13:50:52.420Z"
   },
   {
    "duration": 4,
    "start_time": "2022-03-16T13:50:52.861Z"
   },
   {
    "duration": 11,
    "start_time": "2022-03-16T13:50:52.867Z"
   },
   {
    "duration": 22,
    "start_time": "2022-03-16T13:50:52.880Z"
   },
   {
    "duration": 17,
    "start_time": "2022-03-16T13:50:52.905Z"
   },
   {
    "duration": 17,
    "start_time": "2022-03-16T13:50:52.924Z"
   },
   {
    "duration": 12,
    "start_time": "2022-03-16T13:50:52.943Z"
   },
   {
    "duration": 21,
    "start_time": "2022-03-16T13:50:52.957Z"
   },
   {
    "duration": 6,
    "start_time": "2022-03-16T13:50:53.001Z"
   },
   {
    "duration": 227,
    "start_time": "2022-03-16T13:50:53.009Z"
   },
   {
    "duration": 25,
    "start_time": "2022-03-16T13:50:53.238Z"
   },
   {
    "duration": 330,
    "start_time": "2022-03-16T13:50:53.265Z"
   },
   {
    "duration": 6,
    "start_time": "2022-03-16T13:50:53.601Z"
   },
   {
    "duration": 323,
    "start_time": "2022-03-16T13:50:53.609Z"
   },
   {
    "duration": 288,
    "start_time": "2022-03-16T13:50:53.934Z"
   },
   {
    "duration": 371,
    "start_time": "2022-03-16T13:50:54.225Z"
   },
   {
    "duration": 48,
    "start_time": "2022-03-16T13:50:54.601Z"
   },
   {
    "duration": 4,
    "start_time": "2022-03-16T13:50:54.651Z"
   },
   {
    "duration": 19,
    "start_time": "2022-03-16T13:50:54.657Z"
   },
   {
    "duration": 96,
    "start_time": "2022-03-16T13:50:54.677Z"
   },
   {
    "duration": 399,
    "start_time": "2022-03-16T13:50:54.775Z"
   },
   {
    "duration": 401,
    "start_time": "2022-03-16T13:50:55.176Z"
   },
   {
    "duration": 22,
    "start_time": "2022-03-16T13:50:55.579Z"
   },
   {
    "duration": 25,
    "start_time": "2022-03-16T13:50:55.603Z"
   },
   {
    "duration": 338,
    "start_time": "2022-03-16T13:50:55.630Z"
   },
   {
    "duration": 368,
    "start_time": "2022-03-16T13:50:55.969Z"
   },
   {
    "duration": 286,
    "start_time": "2022-03-16T13:50:56.338Z"
   },
   {
    "duration": 293,
    "start_time": "2022-03-16T13:50:56.626Z"
   },
   {
    "duration": 286,
    "start_time": "2022-03-16T13:50:56.921Z"
   },
   {
    "duration": 6,
    "start_time": "2022-03-16T13:50:57.209Z"
   },
   {
    "duration": 240,
    "start_time": "2022-03-16T13:50:57.217Z"
   },
   {
    "duration": 13,
    "start_time": "2022-03-16T13:50:57.459Z"
   },
   {
    "duration": 246,
    "start_time": "2022-03-16T13:50:57.474Z"
   },
   {
    "duration": 15,
    "start_time": "2022-03-16T13:50:57.722Z"
   },
   {
    "duration": 249,
    "start_time": "2022-03-16T13:50:57.738Z"
   },
   {
    "duration": 25,
    "start_time": "2022-03-16T13:50:57.988Z"
   },
   {
    "duration": 230,
    "start_time": "2022-03-16T13:50:58.015Z"
   },
   {
    "duration": 14,
    "start_time": "2022-03-16T13:50:58.247Z"
   },
   {
    "duration": 34,
    "start_time": "2022-03-16T13:50:58.262Z"
   },
   {
    "duration": 41,
    "start_time": "2022-03-16T13:50:58.301Z"
   },
   {
    "duration": 22,
    "start_time": "2022-03-16T13:50:58.344Z"
   },
   {
    "duration": 578,
    "start_time": "2022-03-16T13:50:58.367Z"
   },
   {
    "duration": 265,
    "start_time": "2022-03-16T13:50:58.947Z"
   },
   {
    "duration": 16,
    "start_time": "2022-03-16T13:50:59.214Z"
   },
   {
    "duration": 281,
    "start_time": "2022-03-16T13:50:59.232Z"
   },
   {
    "duration": 32,
    "start_time": "2022-03-16T13:50:59.515Z"
   },
   {
    "duration": 276,
    "start_time": "2022-03-16T13:50:59.549Z"
   },
   {
    "duration": 15,
    "start_time": "2022-03-16T13:50:59.827Z"
   },
   {
    "duration": 332,
    "start_time": "2022-03-16T13:50:59.844Z"
   },
   {
    "duration": 35,
    "start_time": "2022-03-16T13:51:00.178Z"
   },
   {
    "duration": 28,
    "start_time": "2022-03-16T13:51:00.215Z"
   },
   {
    "duration": 22,
    "start_time": "2022-03-16T13:51:00.245Z"
   },
   {
    "duration": 21,
    "start_time": "2022-03-16T13:51:00.269Z"
   },
   {
    "duration": 653,
    "start_time": "2022-03-16T13:51:00.292Z"
   },
   {
    "duration": 238,
    "start_time": "2022-03-16T13:51:00.947Z"
   },
   {
    "duration": 234,
    "start_time": "2022-03-16T13:51:01.188Z"
   },
   {
    "duration": 237,
    "start_time": "2022-03-16T13:51:01.424Z"
   },
   {
    "duration": 324,
    "start_time": "2022-03-16T13:51:01.663Z"
   },
   {
    "duration": 20,
    "start_time": "2022-03-16T13:51:01.990Z"
   },
   {
    "duration": 56,
    "start_time": "2022-03-16T13:51:02.012Z"
   },
   {
    "duration": 27,
    "start_time": "2022-03-16T13:51:02.069Z"
   },
   {
    "duration": 19,
    "start_time": "2022-03-16T13:51:02.098Z"
   },
   {
    "duration": 31,
    "start_time": "2022-03-16T13:51:02.119Z"
   },
   {
    "duration": 18,
    "start_time": "2022-03-16T13:51:02.152Z"
   },
   {
    "duration": 15,
    "start_time": "2022-03-16T13:51:02.172Z"
   },
   {
    "duration": 22,
    "start_time": "2022-03-16T13:51:02.189Z"
   },
   {
    "duration": 4,
    "start_time": "2022-03-16T14:55:23.352Z"
   },
   {
    "duration": 2641,
    "start_time": "2022-03-16T14:55:23.358Z"
   },
   {
    "duration": 1573,
    "start_time": "2022-03-16T14:55:26.002Z"
   },
   {
    "duration": 1489,
    "start_time": "2022-03-16T14:55:27.577Z"
   },
   {
    "duration": 1262,
    "start_time": "2022-03-16T14:55:29.067Z"
   },
   {
    "duration": 1581,
    "start_time": "2022-03-16T14:55:30.331Z"
   },
   {
    "duration": 781,
    "start_time": "2022-03-16T14:55:31.914Z"
   },
   {
    "duration": 1661,
    "start_time": "2022-03-16T14:55:32.697Z"
   },
   {
    "duration": 2833,
    "start_time": "2022-03-16T14:55:34.361Z"
   },
   {
    "duration": 1596,
    "start_time": "2022-03-16T14:55:37.196Z"
   },
   {
    "duration": 2448,
    "start_time": "2022-03-16T14:55:38.794Z"
   },
   {
    "duration": 2240,
    "start_time": "2022-03-16T14:55:41.244Z"
   },
   {
    "duration": 659,
    "start_time": "2022-03-16T14:55:43.486Z"
   },
   {
    "duration": 885,
    "start_time": "2022-03-16T14:55:44.147Z"
   },
   {
    "duration": 1061,
    "start_time": "2022-03-16T14:55:45.034Z"
   },
   {
    "duration": 901,
    "start_time": "2022-03-16T14:55:46.097Z"
   },
   {
    "duration": 453,
    "start_time": "2022-03-16T14:55:47.001Z"
   },
   {
    "duration": 1085,
    "start_time": "2022-03-16T14:55:47.456Z"
   },
   {
    "duration": 778,
    "start_time": "2022-03-16T14:55:48.543Z"
   },
   {
    "duration": 828,
    "start_time": "2022-03-16T14:55:49.323Z"
   },
   {
    "duration": 1006,
    "start_time": "2022-03-16T14:55:50.153Z"
   },
   {
    "duration": 713,
    "start_time": "2022-03-16T14:55:51.160Z"
   },
   {
    "duration": 655,
    "start_time": "2022-03-16T14:55:51.875Z"
   },
   {
    "duration": 791,
    "start_time": "2022-03-16T14:55:52.532Z"
   },
   {
    "duration": 865,
    "start_time": "2022-03-16T14:55:53.325Z"
   },
   {
    "duration": 942,
    "start_time": "2022-03-16T14:55:54.192Z"
   },
   {
    "duration": 1929,
    "start_time": "2022-03-16T14:55:55.140Z"
   },
   {
    "duration": 1413,
    "start_time": "2022-03-16T14:55:57.072Z"
   },
   {
    "duration": 689,
    "start_time": "2022-03-16T14:55:58.487Z"
   },
   {
    "duration": 1315,
    "start_time": "2022-03-16T14:55:59.179Z"
   },
   {
    "duration": 1762,
    "start_time": "2022-03-16T14:56:00.497Z"
   },
   {
    "duration": 1866,
    "start_time": "2022-03-16T14:56:02.261Z"
   },
   {
    "duration": 882,
    "start_time": "2022-03-16T14:56:04.128Z"
   },
   {
    "duration": 2056,
    "start_time": "2022-03-16T14:56:05.011Z"
   },
   {
    "duration": 1715,
    "start_time": "2022-03-16T14:56:07.069Z"
   },
   {
    "duration": 1051,
    "start_time": "2022-03-16T14:56:08.786Z"
   },
   {
    "duration": 1839,
    "start_time": "2022-03-16T14:56:09.839Z"
   },
   {
    "duration": 1429,
    "start_time": "2022-03-16T14:56:11.680Z"
   },
   {
    "duration": 1944,
    "start_time": "2022-03-16T14:56:13.110Z"
   },
   {
    "duration": 1189,
    "start_time": "2022-03-16T14:56:15.056Z"
   },
   {
    "duration": 2079,
    "start_time": "2022-03-16T14:56:16.247Z"
   },
   {
    "duration": 2407,
    "start_time": "2022-03-16T14:56:18.327Z"
   },
   {
    "duration": 2478,
    "start_time": "2022-03-16T14:56:20.736Z"
   },
   {
    "duration": 1386,
    "start_time": "2022-03-16T14:56:23.216Z"
   },
   {
    "duration": 2118,
    "start_time": "2022-03-16T14:56:24.604Z"
   },
   {
    "duration": 2847,
    "start_time": "2022-03-16T14:56:26.724Z"
   },
   {
    "duration": 2568,
    "start_time": "2022-03-16T14:56:29.573Z"
   },
   {
    "duration": 1523,
    "start_time": "2022-03-16T14:56:32.143Z"
   },
   {
    "duration": 1184,
    "start_time": "2022-03-16T14:56:33.669Z"
   },
   {
    "duration": 1537,
    "start_time": "2022-03-16T14:56:34.854Z"
   },
   {
    "duration": 2275,
    "start_time": "2022-03-16T14:56:36.392Z"
   },
   {
    "duration": 1724,
    "start_time": "2022-03-16T14:56:38.668Z"
   },
   {
    "duration": 464,
    "start_time": "2022-03-16T14:56:40.394Z"
   },
   {
    "duration": 1654,
    "start_time": "2022-03-16T14:56:40.859Z"
   },
   {
    "duration": 4461,
    "start_time": "2022-03-16T14:56:42.515Z"
   },
   {
    "duration": 727,
    "start_time": "2022-03-16T14:56:46.978Z"
   },
   {
    "duration": 1371,
    "start_time": "2022-03-16T14:56:47.706Z"
   },
   {
    "duration": 1022,
    "start_time": "2022-03-16T14:56:49.079Z"
   },
   {
    "duration": 1399,
    "start_time": "2022-03-16T14:56:50.103Z"
   },
   {
    "duration": 1799,
    "start_time": "2022-03-16T14:56:51.504Z"
   },
   {
    "duration": 1820,
    "start_time": "2022-03-16T14:56:53.305Z"
   },
   {
    "duration": 1907,
    "start_time": "2022-03-16T14:56:55.127Z"
   },
   {
    "duration": 1006,
    "start_time": "2022-03-16T14:56:57.036Z"
   },
   {
    "duration": 2143,
    "start_time": "2022-03-16T14:56:58.044Z"
   },
   {
    "duration": 1771,
    "start_time": "2022-03-16T14:57:00.189Z"
   },
   {
    "duration": 651,
    "start_time": "2022-03-16T14:57:01.962Z"
   },
   {
    "duration": 1039,
    "start_time": "2022-03-16T14:57:02.616Z"
   },
   {
    "duration": 1182,
    "start_time": "2022-03-16T14:57:03.657Z"
   },
   {
    "duration": 1266,
    "start_time": "2022-03-16T14:57:04.842Z"
   },
   {
    "duration": 580,
    "start_time": "2022-03-16T14:57:06.111Z"
   },
   {
    "duration": 581,
    "start_time": "2022-03-16T14:57:06.693Z"
   },
   {
    "duration": 924,
    "start_time": "2022-03-16T14:57:07.277Z"
   },
   {
    "duration": 879,
    "start_time": "2022-03-16T14:57:08.203Z"
   },
   {
    "duration": 1085,
    "start_time": "2022-03-16T14:57:09.084Z"
   },
   {
    "duration": 1156,
    "start_time": "2022-03-16T14:57:10.171Z"
   },
   {
    "duration": 2067,
    "start_time": "2022-03-16T14:57:11.329Z"
   },
   {
    "duration": 829,
    "start_time": "2022-03-16T14:57:13.402Z"
   },
   {
    "duration": 968,
    "start_time": "2022-03-16T14:57:14.233Z"
   },
   {
    "duration": 910,
    "start_time": "2022-03-16T14:57:15.202Z"
   },
   {
    "duration": 980,
    "start_time": "2022-03-16T14:57:16.114Z"
   },
   {
    "duration": 2795,
    "start_time": "2022-03-16T14:57:17.100Z"
   },
   {
    "duration": 1537,
    "start_time": "2022-03-16T14:57:19.901Z"
   },
   {
    "duration": 332,
    "start_time": "2022-03-16T14:57:21.440Z"
   },
   {
    "duration": 1477,
    "start_time": "2022-03-16T14:57:21.775Z"
   },
   {
    "duration": 2093,
    "start_time": "2022-03-16T14:57:23.255Z"
   },
   {
    "duration": 1386,
    "start_time": "2022-03-16T14:57:25.351Z"
   },
   {
    "duration": 1072,
    "start_time": "2022-03-16T14:57:26.739Z"
   },
   {
    "duration": 1949,
    "start_time": "2022-03-16T14:57:27.813Z"
   },
   {
    "duration": 1525,
    "start_time": "2022-03-16T14:57:29.764Z"
   },
   {
    "duration": 1830,
    "start_time": "2022-03-16T14:57:31.291Z"
   },
   {
    "duration": 1484,
    "start_time": "2022-03-16T14:57:33.122Z"
   },
   {
    "duration": 491,
    "start_time": "2022-03-16T14:57:34.607Z"
   },
   {
    "duration": 251,
    "start_time": "2022-03-16T14:57:35.099Z"
   },
   {
    "duration": 835,
    "start_time": "2022-03-16T15:00:59.972Z"
   },
   {
    "duration": 569,
    "start_time": "2022-03-16T15:01:10.348Z"
   },
   {
    "duration": 602,
    "start_time": "2022-03-16T15:02:55.899Z"
   },
   {
    "duration": 694,
    "start_time": "2022-03-16T15:03:02.267Z"
   },
   {
    "duration": 621,
    "start_time": "2022-03-16T15:03:10.761Z"
   },
   {
    "duration": 531,
    "start_time": "2022-03-16T15:17:12.053Z"
   },
   {
    "duration": 310,
    "start_time": "2022-03-16T15:33:52.785Z"
   },
   {
    "duration": 540,
    "start_time": "2022-03-16T15:34:13.503Z"
   },
   {
    "duration": 21,
    "start_time": "2022-03-16T15:37:38.147Z"
   },
   {
    "duration": 253,
    "start_time": "2022-03-16T15:37:45.910Z"
   },
   {
    "duration": 24,
    "start_time": "2022-03-16T15:39:17.145Z"
   },
   {
    "duration": 2509,
    "start_time": "2022-03-16T15:39:22.074Z"
   },
   {
    "duration": 533,
    "start_time": "2022-03-16T16:18:47.401Z"
   },
   {
    "duration": 627,
    "start_time": "2022-03-16T16:18:57.854Z"
   },
   {
    "duration": 248,
    "start_time": "2022-03-16T16:26:44.615Z"
   },
   {
    "duration": 264,
    "start_time": "2022-03-16T16:27:03.778Z"
   },
   {
    "duration": 3529,
    "start_time": "2022-03-16T16:30:45.893Z"
   },
   {
    "duration": 3871,
    "start_time": "2022-03-16T16:30:49.425Z"
   },
   {
    "duration": 1487,
    "start_time": "2022-03-16T16:30:53.298Z"
   },
   {
    "duration": 1705,
    "start_time": "2022-03-16T16:30:54.787Z"
   },
   {
    "duration": 2204,
    "start_time": "2022-03-16T16:30:56.494Z"
   },
   {
    "duration": 1308,
    "start_time": "2022-03-16T16:30:58.700Z"
   },
   {
    "duration": 909,
    "start_time": "2022-03-16T16:31:00.010Z"
   },
   {
    "duration": 917,
    "start_time": "2022-03-16T16:31:00.924Z"
   },
   {
    "duration": 4011,
    "start_time": "2022-03-16T16:31:01.845Z"
   },
   {
    "duration": 2950,
    "start_time": "2022-03-16T16:31:05.858Z"
   },
   {
    "duration": 2878,
    "start_time": "2022-03-16T16:31:08.810Z"
   },
   {
    "duration": 4442,
    "start_time": "2022-03-16T16:31:11.690Z"
   },
   {
    "duration": 5123,
    "start_time": "2022-03-16T16:31:16.134Z"
   },
   {
    "duration": 5138,
    "start_time": "2022-03-16T16:31:21.258Z"
   },
   {
    "duration": 5724,
    "start_time": "2022-03-16T16:31:26.398Z"
   },
   {
    "duration": 6444,
    "start_time": "2022-03-16T16:31:32.123Z"
   },
   {
    "duration": 5125,
    "start_time": "2022-03-16T16:31:38.569Z"
   },
   {
    "duration": 5837,
    "start_time": "2022-03-16T16:31:43.695Z"
   },
   {
    "duration": 6890,
    "start_time": "2022-03-16T16:31:49.534Z"
   },
   {
    "duration": 5574,
    "start_time": "2022-03-16T16:31:56.426Z"
   },
   {
    "duration": 7535,
    "start_time": "2022-03-16T16:32:02.002Z"
   },
   {
    "duration": 3476,
    "start_time": "2022-03-16T16:32:09.539Z"
   },
   {
    "duration": 2337,
    "start_time": "2022-03-16T16:32:13.017Z"
   },
   {
    "duration": 6965,
    "start_time": "2022-03-16T16:32:15.357Z"
   },
   {
    "duration": 3796,
    "start_time": "2022-03-16T16:32:22.324Z"
   },
   {
    "duration": 4790,
    "start_time": "2022-03-16T16:32:26.125Z"
   },
   {
    "duration": 1716,
    "start_time": "2022-03-16T16:32:30.918Z"
   },
   {
    "duration": 2785,
    "start_time": "2022-03-16T16:32:32.636Z"
   },
   {
    "duration": 1503,
    "start_time": "2022-03-16T16:32:35.424Z"
   },
   {
    "duration": 1441,
    "start_time": "2022-03-16T16:32:36.929Z"
   },
   {
    "duration": 2248,
    "start_time": "2022-03-16T16:32:38.373Z"
   },
   {
    "duration": 3793,
    "start_time": "2022-03-16T16:32:40.623Z"
   },
   {
    "duration": 3541,
    "start_time": "2022-03-16T16:32:44.418Z"
   },
   {
    "duration": 1224,
    "start_time": "2022-03-16T16:32:47.961Z"
   },
   {
    "duration": 1913,
    "start_time": "2022-03-16T16:32:49.187Z"
   },
   {
    "duration": 2410,
    "start_time": "2022-03-16T16:32:51.102Z"
   },
   {
    "duration": 952,
    "start_time": "2022-03-16T16:32:53.514Z"
   },
   {
    "duration": 2291,
    "start_time": "2022-03-16T16:32:54.468Z"
   },
   {
    "duration": 2652,
    "start_time": "2022-03-16T16:32:56.762Z"
   },
   {
    "duration": 2607,
    "start_time": "2022-03-16T16:32:59.417Z"
   },
   {
    "duration": 3433,
    "start_time": "2022-03-16T16:33:02.026Z"
   },
   {
    "duration": 2474,
    "start_time": "2022-03-16T16:33:05.461Z"
   },
   {
    "duration": 1002,
    "start_time": "2022-03-16T16:33:07.938Z"
   },
   {
    "duration": 1760,
    "start_time": "2022-03-16T16:33:08.942Z"
   },
   {
    "duration": 2152,
    "start_time": "2022-03-16T16:33:10.705Z"
   },
   {
    "duration": 1602,
    "start_time": "2022-03-16T16:33:12.859Z"
   },
   {
    "duration": 5022,
    "start_time": "2022-03-16T16:33:14.463Z"
   },
   {
    "duration": 6160,
    "start_time": "2022-03-16T16:33:19.487Z"
   },
   {
    "duration": 4034,
    "start_time": "2022-03-16T16:33:25.649Z"
   },
   {
    "duration": 4750,
    "start_time": "2022-03-16T16:33:29.685Z"
   },
   {
    "duration": 3280,
    "start_time": "2022-03-16T16:33:34.437Z"
   },
   {
    "duration": 5354,
    "start_time": "2022-03-16T16:33:37.719Z"
   },
   {
    "duration": 17565,
    "start_time": "2022-03-16T16:33:43.075Z"
   },
   {
    "duration": 2800,
    "start_time": "2022-03-16T16:34:00.642Z"
   },
   {
    "duration": 1568,
    "start_time": "2022-03-16T16:34:03.444Z"
   },
   {
    "duration": 2062,
    "start_time": "2022-03-16T16:34:05.014Z"
   },
   {
    "duration": 3065,
    "start_time": "2022-03-16T16:34:07.078Z"
   },
   {
    "duration": 1631,
    "start_time": "2022-03-16T16:34:10.145Z"
   },
   {
    "duration": 2396,
    "start_time": "2022-03-16T16:34:11.778Z"
   },
   {
    "duration": 1855,
    "start_time": "2022-03-16T16:34:14.176Z"
   },
   {
    "duration": 3611,
    "start_time": "2022-03-16T16:34:16.033Z"
   },
   {
    "duration": 4406,
    "start_time": "2022-03-16T16:34:19.646Z"
   },
   {
    "duration": 4252,
    "start_time": "2022-03-16T16:34:24.054Z"
   },
   {
    "duration": 2344,
    "start_time": "2022-03-16T16:34:28.307Z"
   },
   {
    "duration": 2257,
    "start_time": "2022-03-16T16:34:30.654Z"
   },
   {
    "duration": 3086,
    "start_time": "2022-03-16T16:34:32.912Z"
   },
   {
    "duration": 2015,
    "start_time": "2022-03-16T16:34:36.000Z"
   },
   {
    "duration": 5330,
    "start_time": "2022-03-16T16:34:38.017Z"
   },
   {
    "duration": 4509,
    "start_time": "2022-03-16T16:34:43.349Z"
   },
   {
    "duration": 3570,
    "start_time": "2022-03-16T16:34:47.861Z"
   },
   {
    "duration": 4800,
    "start_time": "2022-03-16T16:34:51.433Z"
   },
   {
    "duration": 6323,
    "start_time": "2022-03-16T16:34:56.235Z"
   },
   {
    "duration": 2470,
    "start_time": "2022-03-16T16:35:02.560Z"
   },
   {
    "duration": 1092,
    "start_time": "2022-03-16T16:35:05.032Z"
   },
   {
    "duration": 1024,
    "start_time": "2022-03-16T16:35:06.126Z"
   },
   {
    "duration": 4047,
    "start_time": "2022-03-16T16:35:07.152Z"
   },
   {
    "duration": 837,
    "start_time": "2022-03-16T16:35:11.201Z"
   },
   {
    "duration": 578,
    "start_time": "2022-03-16T16:35:12.040Z"
   },
   {
    "duration": 424,
    "start_time": "2022-03-16T16:35:12.621Z"
   },
   {
    "duration": 1304,
    "start_time": "2022-03-16T16:35:13.052Z"
   },
   {
    "duration": 229,
    "start_time": "2022-03-16T16:35:14.359Z"
   },
   {
    "duration": 1663,
    "start_time": "2022-03-16T16:35:14.590Z"
   },
   {
    "duration": 875,
    "start_time": "2022-03-16T16:35:16.255Z"
   },
   {
    "duration": 559,
    "start_time": "2022-03-16T16:35:17.132Z"
   },
   {
    "duration": 458,
    "start_time": "2022-03-16T16:35:17.693Z"
   },
   {
    "duration": 400,
    "start_time": "2022-03-16T16:35:18.153Z"
   },
   {
    "duration": 1433,
    "start_time": "2022-03-16T16:35:18.555Z"
   },
   {
    "duration": 473,
    "start_time": "2022-03-16T16:35:19.991Z"
   },
   {
    "duration": 476,
    "start_time": "2022-03-16T16:35:20.466Z"
   },
   {
    "duration": 485,
    "start_time": "2022-03-16T16:35:20.945Z"
   },
   {
    "duration": 988,
    "start_time": "2022-03-16T16:35:21.431Z"
   },
   {
    "duration": 421,
    "start_time": "2022-03-16T16:35:22.421Z"
   },
   {
    "duration": 3,
    "start_time": "2022-03-16T16:47:27.253Z"
   },
   {
    "duration": 3863,
    "start_time": "2022-03-16T16:50:58.437Z"
   },
   {
    "duration": 1805,
    "start_time": "2022-03-16T16:51:02.302Z"
   },
   {
    "duration": 2652,
    "start_time": "2022-03-16T16:51:04.110Z"
   },
   {
    "duration": 997,
    "start_time": "2022-03-16T16:51:06.764Z"
   },
   {
    "duration": 1599,
    "start_time": "2022-03-16T16:51:07.763Z"
   },
   {
    "duration": 1098,
    "start_time": "2022-03-16T16:51:09.363Z"
   },
   {
    "duration": 1521,
    "start_time": "2022-03-16T16:51:10.463Z"
   },
   {
    "duration": 1728,
    "start_time": "2022-03-16T16:51:11.986Z"
   },
   {
    "duration": 2482,
    "start_time": "2022-03-16T16:51:13.717Z"
   },
   {
    "duration": 2469,
    "start_time": "2022-03-16T16:51:16.202Z"
   },
   {
    "duration": 2463,
    "start_time": "2022-03-16T16:51:18.674Z"
   },
   {
    "duration": 1522,
    "start_time": "2022-03-16T16:51:21.138Z"
   },
   {
    "duration": 1138,
    "start_time": "2022-03-16T16:51:22.663Z"
   },
   {
    "duration": 2044,
    "start_time": "2022-03-16T16:51:23.803Z"
   },
   {
    "duration": 3622,
    "start_time": "2022-03-16T16:51:25.849Z"
   },
   {
    "duration": 2592,
    "start_time": "2022-03-16T16:51:29.473Z"
   },
   {
    "duration": 3227,
    "start_time": "2022-03-16T16:51:32.067Z"
   },
   {
    "duration": 2287,
    "start_time": "2022-03-16T16:51:35.295Z"
   },
   {
    "duration": 2733,
    "start_time": "2022-03-16T16:51:37.584Z"
   },
   {
    "duration": 1721,
    "start_time": "2022-03-16T16:51:40.320Z"
   },
   {
    "duration": 8307,
    "start_time": "2022-03-16T16:51:42.043Z"
   },
   {
    "duration": 6747,
    "start_time": "2022-03-16T16:51:50.352Z"
   },
   {
    "duration": 4129,
    "start_time": "2022-03-16T16:51:57.101Z"
   },
   {
    "duration": 2259,
    "start_time": "2022-03-16T16:52:01.232Z"
   },
   {
    "duration": 1489,
    "start_time": "2022-03-16T16:52:03.493Z"
   },
   {
    "duration": 2144,
    "start_time": "2022-03-16T16:52:04.985Z"
   },
   {
    "duration": 2543,
    "start_time": "2022-03-16T16:52:07.136Z"
   },
   {
    "duration": 4477,
    "start_time": "2022-03-16T16:52:09.682Z"
   },
   {
    "duration": 1830,
    "start_time": "2022-03-16T16:52:14.161Z"
   },
   {
    "duration": 1041,
    "start_time": "2022-03-16T16:52:15.993Z"
   },
   {
    "duration": 934,
    "start_time": "2022-03-16T16:52:17.036Z"
   },
   {
    "duration": 1241,
    "start_time": "2022-03-16T16:52:17.972Z"
   },
   {
    "duration": 2239,
    "start_time": "2022-03-16T16:52:19.216Z"
   },
   {
    "duration": 5179,
    "start_time": "2022-03-16T16:52:21.456Z"
   },
   {
    "duration": 4261,
    "start_time": "2022-03-16T16:52:26.637Z"
   },
   {
    "duration": 3104,
    "start_time": "2022-03-16T16:52:30.900Z"
   },
   {
    "duration": 2234,
    "start_time": "2022-03-16T16:52:34.006Z"
   },
   {
    "duration": 203,
    "start_time": "2022-03-16T16:52:36.241Z"
   },
   {
    "duration": 1678,
    "start_time": "2022-03-16T16:52:36.446Z"
   },
   {
    "duration": 381,
    "start_time": "2022-03-16T16:52:38.126Z"
   },
   {
    "duration": 795,
    "start_time": "2022-03-16T16:52:38.509Z"
   },
   {
    "duration": 2343,
    "start_time": "2022-03-16T16:52:39.306Z"
   },
   {
    "duration": 2707,
    "start_time": "2022-03-16T16:52:41.651Z"
   },
   {
    "duration": 3171,
    "start_time": "2022-03-16T16:52:44.360Z"
   },
   {
    "duration": 3891,
    "start_time": "2022-03-16T16:52:47.533Z"
   },
   {
    "duration": 2442,
    "start_time": "2022-03-16T16:52:51.427Z"
   },
   {
    "duration": 3190,
    "start_time": "2022-03-16T16:52:53.871Z"
   },
   {
    "duration": 2014,
    "start_time": "2022-03-16T16:52:57.063Z"
   },
   {
    "duration": 768,
    "start_time": "2022-03-16T16:52:59.079Z"
   },
   {
    "duration": 726,
    "start_time": "2022-03-16T16:52:59.849Z"
   },
   {
    "duration": 3735,
    "start_time": "2022-03-16T16:53:00.577Z"
   },
   {
    "duration": 3706,
    "start_time": "2022-03-16T16:53:04.313Z"
   },
   {
    "duration": 2036,
    "start_time": "2022-03-16T16:53:08.021Z"
   },
   {
    "duration": 2500,
    "start_time": "2022-03-16T16:53:10.059Z"
   },
   {
    "duration": 2407,
    "start_time": "2022-03-16T16:53:12.562Z"
   },
   {
    "duration": 1882,
    "start_time": "2022-03-16T16:53:14.971Z"
   },
   {
    "duration": 873,
    "start_time": "2022-03-16T16:53:16.855Z"
   },
   {
    "duration": 1482,
    "start_time": "2022-03-16T16:53:17.730Z"
   },
   {
    "duration": 1919,
    "start_time": "2022-03-16T16:53:19.214Z"
   },
   {
    "duration": 1454,
    "start_time": "2022-03-16T16:53:21.134Z"
   },
   {
    "duration": 970,
    "start_time": "2022-03-16T16:53:22.590Z"
   },
   {
    "duration": 2086,
    "start_time": "2022-03-16T16:53:23.562Z"
   },
   {
    "duration": 1304,
    "start_time": "2022-03-16T16:53:25.650Z"
   },
   {
    "duration": 1245,
    "start_time": "2022-03-16T16:53:26.956Z"
   },
   {
    "duration": 1668,
    "start_time": "2022-03-16T16:53:28.203Z"
   },
   {
    "duration": 2869,
    "start_time": "2022-03-16T16:53:29.873Z"
   },
   {
    "duration": 1607,
    "start_time": "2022-03-16T16:53:32.744Z"
   },
   {
    "duration": 3445,
    "start_time": "2022-03-16T16:53:34.352Z"
   },
   {
    "duration": 3293,
    "start_time": "2022-03-16T16:53:37.799Z"
   },
   {
    "duration": 890,
    "start_time": "2022-03-16T16:53:41.094Z"
   },
   {
    "duration": 1332,
    "start_time": "2022-03-16T16:53:41.986Z"
   },
   {
    "duration": 2175,
    "start_time": "2022-03-16T16:53:43.320Z"
   },
   {
    "duration": 1949,
    "start_time": "2022-03-16T16:53:45.501Z"
   },
   {
    "duration": 3282,
    "start_time": "2022-03-16T16:53:47.452Z"
   },
   {
    "duration": 1663,
    "start_time": "2022-03-16T16:53:50.736Z"
   },
   {
    "duration": 1167,
    "start_time": "2022-03-16T16:53:52.401Z"
   },
   {
    "duration": 245,
    "start_time": "2022-03-16T16:53:53.570Z"
   },
   {
    "duration": 1224,
    "start_time": "2022-03-16T16:53:53.817Z"
   },
   {
    "duration": 1383,
    "start_time": "2022-03-16T16:53:55.043Z"
   },
   {
    "duration": 724,
    "start_time": "2022-03-16T16:53:56.427Z"
   },
   {
    "duration": 1777,
    "start_time": "2022-03-16T16:53:57.157Z"
   },
   {
    "duration": 1332,
    "start_time": "2022-03-16T16:53:58.936Z"
   },
   {
    "duration": 1092,
    "start_time": "2022-03-16T16:54:00.270Z"
   },
   {
    "duration": 1075,
    "start_time": "2022-03-16T16:54:01.364Z"
   },
   {
    "duration": 776,
    "start_time": "2022-03-16T16:54:02.441Z"
   },
   {
    "duration": 804,
    "start_time": "2022-03-16T16:54:03.219Z"
   },
   {
    "duration": 1076,
    "start_time": "2022-03-16T16:54:04.025Z"
   },
   {
    "duration": 1015,
    "start_time": "2022-03-16T16:54:05.103Z"
   },
   {
    "duration": 1053,
    "start_time": "2022-03-16T16:54:06.120Z"
   },
   {
    "duration": 995,
    "start_time": "2022-03-16T16:54:07.175Z"
   },
   {
    "duration": 1163,
    "start_time": "2022-03-16T16:54:08.172Z"
   },
   {
    "duration": 584,
    "start_time": "2022-03-16T16:54:09.338Z"
   },
   {
    "duration": 696,
    "start_time": "2022-03-16T16:54:09.924Z"
   },
   {
    "duration": 1149,
    "start_time": "2022-03-16T16:55:38.046Z"
   },
   {
    "duration": 35,
    "start_time": "2022-03-16T16:55:39.197Z"
   },
   {
    "duration": 1706,
    "start_time": "2022-03-16T16:55:39.234Z"
   },
   {
    "duration": 701,
    "start_time": "2022-03-16T16:55:40.942Z"
   },
   {
    "duration": 519,
    "start_time": "2022-03-16T16:55:41.645Z"
   },
   {
    "duration": 373,
    "start_time": "2022-03-16T16:55:42.166Z"
   },
   {
    "duration": 302,
    "start_time": "2022-03-16T16:55:42.541Z"
   },
   {
    "duration": 1200,
    "start_time": "2022-03-16T16:55:42.846Z"
   },
   {
    "duration": 619,
    "start_time": "2022-03-16T16:55:44.048Z"
   },
   {
    "duration": 827,
    "start_time": "2022-03-16T16:55:44.669Z"
   },
   {
    "duration": 458,
    "start_time": "2022-03-16T16:55:45.499Z"
   },
   {
    "duration": 1016,
    "start_time": "2022-03-16T16:55:45.959Z"
   },
   {
    "duration": 616,
    "start_time": "2022-03-16T16:55:46.977Z"
   },
   {
    "duration": 1097,
    "start_time": "2022-03-16T16:55:47.595Z"
   },
   {
    "duration": 280,
    "start_time": "2022-03-16T16:55:48.694Z"
   },
   {
    "duration": 208,
    "start_time": "2022-03-16T16:55:48.976Z"
   },
   {
    "duration": 377,
    "start_time": "2022-03-16T16:55:49.186Z"
   },
   {
    "duration": 1538,
    "start_time": "2022-03-16T16:55:49.565Z"
   },
   {
    "duration": 573,
    "start_time": "2022-03-16T16:55:51.106Z"
   },
   {
    "duration": 331,
    "start_time": "2022-03-16T16:55:51.681Z"
   },
   {
    "duration": 626,
    "start_time": "2022-03-16T16:55:52.014Z"
   },
   {
    "duration": 741,
    "start_time": "2022-03-16T16:55:52.642Z"
   },
   {
    "duration": 346,
    "start_time": "2022-03-16T16:55:53.387Z"
   },
   {
    "duration": 787,
    "start_time": "2022-03-16T16:55:53.736Z"
   },
   {
    "duration": 674,
    "start_time": "2022-03-16T16:55:54.525Z"
   },
   {
    "duration": 1116,
    "start_time": "2022-03-16T16:55:55.201Z"
   },
   {
    "duration": 609,
    "start_time": "2022-03-16T16:55:56.319Z"
   },
   {
    "duration": 956,
    "start_time": "2022-03-16T16:55:56.930Z"
   },
   {
    "duration": 779,
    "start_time": "2022-03-16T16:55:57.888Z"
   },
   {
    "duration": 561,
    "start_time": "2022-03-16T16:55:58.669Z"
   },
   {
    "duration": 177,
    "start_time": "2022-03-16T16:55:59.233Z"
   },
   {
    "duration": 1047,
    "start_time": "2022-03-16T16:55:59.412Z"
   },
   {
    "duration": 460,
    "start_time": "2022-03-16T16:56:00.461Z"
   },
   {
    "duration": 908,
    "start_time": "2022-03-16T16:56:00.923Z"
   },
   {
    "duration": 1020,
    "start_time": "2022-03-16T16:56:01.833Z"
   },
   {
    "duration": 891,
    "start_time": "2022-03-16T16:56:02.855Z"
   },
   {
    "duration": 968,
    "start_time": "2022-03-16T16:56:03.748Z"
   },
   {
    "duration": 339,
    "start_time": "2022-03-16T16:56:04.718Z"
   },
   {
    "duration": 1232,
    "start_time": "2022-03-16T16:56:05.058Z"
   },
   {
    "duration": 558,
    "start_time": "2022-03-16T16:56:06.292Z"
   },
   {
    "duration": 916,
    "start_time": "2022-03-16T16:56:06.853Z"
   },
   {
    "duration": 218,
    "start_time": "2022-03-16T16:56:07.771Z"
   },
   {
    "duration": 632,
    "start_time": "2022-03-16T16:56:07.991Z"
   },
   {
    "duration": 814,
    "start_time": "2022-03-16T16:56:08.625Z"
   },
   {
    "duration": 857,
    "start_time": "2022-03-16T16:56:09.441Z"
   },
   {
    "duration": 1286,
    "start_time": "2022-03-16T16:56:10.300Z"
   },
   {
    "duration": 787,
    "start_time": "2022-03-16T16:56:11.588Z"
   },
   {
    "duration": 523,
    "start_time": "2022-03-16T16:56:12.377Z"
   },
   {
    "duration": 810,
    "start_time": "2022-03-16T16:56:12.902Z"
   },
   {
    "duration": 710,
    "start_time": "2022-03-16T16:56:13.714Z"
   },
   {
    "duration": 587,
    "start_time": "2022-03-16T16:56:14.426Z"
   },
   {
    "duration": 617,
    "start_time": "2022-03-16T16:56:15.014Z"
   },
   {
    "duration": 818,
    "start_time": "2022-03-16T16:56:15.633Z"
   },
   {
    "duration": 472,
    "start_time": "2022-03-16T16:56:16.453Z"
   },
   {
    "duration": 465,
    "start_time": "2022-03-16T16:56:16.927Z"
   },
   {
    "duration": 387,
    "start_time": "2022-03-16T16:56:17.394Z"
   },
   {
    "duration": 54,
    "start_time": "2022-03-16T16:56:17.782Z"
   },
   {
    "duration": 488,
    "start_time": "2022-03-16T16:56:17.838Z"
   },
   {
    "duration": 121,
    "start_time": "2022-03-16T16:56:18.328Z"
   },
   {
    "duration": 441,
    "start_time": "2022-03-16T16:56:18.451Z"
   },
   {
    "duration": 377,
    "start_time": "2022-03-16T16:56:18.894Z"
   },
   {
    "duration": 388,
    "start_time": "2022-03-16T16:56:19.273Z"
   },
   {
    "duration": 542,
    "start_time": "2022-03-16T16:56:19.663Z"
   },
   {
    "duration": 297,
    "start_time": "2022-03-16T16:56:20.207Z"
   },
   {
    "duration": 788,
    "start_time": "2022-03-16T16:56:20.506Z"
   },
   {
    "duration": 783,
    "start_time": "2022-03-16T16:56:21.296Z"
   },
   {
    "duration": 1247,
    "start_time": "2022-03-16T16:56:22.081Z"
   },
   {
    "duration": 989,
    "start_time": "2022-03-16T16:56:23.335Z"
   },
   {
    "duration": 80,
    "start_time": "2022-03-16T16:56:24.327Z"
   },
   {
    "duration": 511,
    "start_time": "2022-03-16T16:56:24.409Z"
   },
   {
    "duration": 1040,
    "start_time": "2022-03-16T16:56:24.922Z"
   },
   {
    "duration": 755,
    "start_time": "2022-03-16T16:56:25.964Z"
   },
   {
    "duration": 354,
    "start_time": "2022-03-16T16:56:26.721Z"
   },
   {
    "duration": 1659,
    "start_time": "2022-03-16T16:56:27.077Z"
   },
   {
    "duration": 172,
    "start_time": "2022-03-16T16:56:28.738Z"
   },
   {
    "duration": 410,
    "start_time": "2022-03-16T16:56:28.912Z"
   },
   {
    "duration": 697,
    "start_time": "2022-03-16T16:56:29.324Z"
   },
   {
    "duration": 572,
    "start_time": "2022-03-16T16:56:30.022Z"
   },
   {
    "duration": 1024,
    "start_time": "2022-03-16T16:56:30.596Z"
   },
   {
    "duration": 839,
    "start_time": "2022-03-16T16:56:31.621Z"
   },
   {
    "duration": 805,
    "start_time": "2022-03-16T16:56:32.462Z"
   },
   {
    "duration": 800,
    "start_time": "2022-03-16T16:56:33.269Z"
   },
   {
    "duration": 933,
    "start_time": "2022-03-16T16:56:34.072Z"
   },
   {
    "duration": 591,
    "start_time": "2022-03-16T16:56:35.007Z"
   },
   {
    "duration": 691,
    "start_time": "2022-03-16T16:56:35.600Z"
   },
   {
    "duration": 814,
    "start_time": "2022-03-16T16:56:36.293Z"
   },
   {
    "duration": 363,
    "start_time": "2022-03-16T16:56:37.109Z"
   },
   {
    "duration": 862,
    "start_time": "2022-03-16T16:56:37.474Z"
   },
   {
    "duration": 751,
    "start_time": "2022-03-16T16:56:38.337Z"
   },
   {
    "duration": 552,
    "start_time": "2022-03-16T16:56:39.089Z"
   },
   {
    "duration": 625,
    "start_time": "2022-03-16T16:56:39.643Z"
   }
  ],
  "kernelspec": {
   "display_name": "Python 3 (ipykernel)",
   "language": "python",
   "name": "python3"
  },
  "language_info": {
   "codemirror_mode": {
    "name": "ipython",
    "version": 3
   },
   "file_extension": ".py",
   "mimetype": "text/x-python",
   "name": "python",
   "nbconvert_exporter": "python",
   "pygments_lexer": "ipython3",
   "version": "3.9.7"
  },
  "toc": {
   "base_numbering": 1,
   "nav_menu": {},
   "number_sections": true,
   "sideBar": true,
   "skip_h1_title": true,
   "title_cell": "Table of Contents",
   "title_sidebar": "Contents",
   "toc_cell": false,
   "toc_position": {
    "height": "calc(100% - 180px)",
    "left": "10px",
    "top": "150px",
    "width": "289.6px"
   },
   "toc_section_display": true,
   "toc_window_display": true
  }
 },
 "nbformat": 4,
 "nbformat_minor": 2
}
