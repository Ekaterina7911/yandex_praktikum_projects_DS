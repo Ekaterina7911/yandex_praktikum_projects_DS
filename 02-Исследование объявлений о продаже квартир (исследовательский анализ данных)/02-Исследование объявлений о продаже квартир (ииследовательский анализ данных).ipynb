{
 "cells": [
  {
   "cell_type": "markdown",
   "metadata": {
    "toc": true
   },
   "source": [
    "<h1>Содержание<span class=\"tocSkip\"></span></h1>\n",
    "<div class=\"toc\"><ul class=\"toc-item\"><li><span><a href=\"#Изучение-данных-из-файла\" data-toc-modified-id=\"Изучение-данных-из-файла-1\"><span class=\"toc-item-num\">1&nbsp;&nbsp;</span>Изучение данных из файла</a></span></li><li><span><a href=\"#Предобработка-данных\" data-toc-modified-id=\"Предобработка-данных-2\"><span class=\"toc-item-num\">2&nbsp;&nbsp;</span>Предобработка данных</a></span><ul class=\"toc-item\"><li><span><a href=\"#Работа-с-пропусками\" data-toc-modified-id=\"Работа-с-пропусками-2.1\"><span class=\"toc-item-num\">2.1&nbsp;&nbsp;</span>Работа с пропусками</a></span></li><li><span><a href=\"#Замена-типа-данных\" data-toc-modified-id=\"Замена-типа-данных-2.2\"><span class=\"toc-item-num\">2.2&nbsp;&nbsp;</span>Замена типа данных</a></span></li><li><span><a href=\"#Обработка-дубликатов\" data-toc-modified-id=\"Обработка-дубликатов-2.3\"><span class=\"toc-item-num\">2.3&nbsp;&nbsp;</span>Обработка дубликатов</a></span></li></ul></li><li><span><a href=\"#Расчёты-и-добавление-результатов-в-таблицу\" data-toc-modified-id=\"Расчёты-и-добавление-результатов-в-таблицу-3\"><span class=\"toc-item-num\">3&nbsp;&nbsp;</span>Расчёты и добавление результатов в таблицу</a></span></li><li><span><a href=\"#Исследовательский-анализ-данных\" data-toc-modified-id=\"Исследовательский-анализ-данных-4\"><span class=\"toc-item-num\">4&nbsp;&nbsp;</span>Исследовательский анализ данных</a></span><ul class=\"toc-item\"><li><span><a href=\"#Анализ-основных-параметров:-площадь,-цена,-число-комнат,-высота-потолков\" data-toc-modified-id=\"Анализ-основных-параметров:-площадь,-цена,-число-комнат,-высота-потолков-4.1\"><span class=\"toc-item-num\">4.1&nbsp;&nbsp;</span>Анализ основных параметров: площадь, цена, число комнат, высота потолков</a></span></li><li><span><a href=\"#Изучение-времени-продажи-квартиры\" data-toc-modified-id=\"Изучение-времени-продажи-квартиры-4.2\"><span class=\"toc-item-num\">4.2&nbsp;&nbsp;</span>Изучение времени продажи квартиры</a></span></li><li><span><a href=\"#Факторы-влияющие-на-стоимость-квартиры\" data-toc-modified-id=\"Факторы-влияющие-на-стоимость-квартиры-4.3\"><span class=\"toc-item-num\">4.3&nbsp;&nbsp;</span>Факторы влияющие на стоимость квартиры</a></span></li><li><span><a href=\"#Определение-10-населенных-пунктов-с-наибольшим-количеством-объявлений\" data-toc-modified-id=\"Определение-10-населенных-пунктов-с-наибольшим-количеством-объявлений-4.4\"><span class=\"toc-item-num\">4.4&nbsp;&nbsp;</span>Определение 10 населенных пунктов с наибольшим количеством объявлений</a></span></li><li><span><a href=\"#Изучение-предложения-квартир-в-Санкт-Петербурге\" data-toc-modified-id=\"Изучение-предложения-квартир-в-Санкт-Петербурге-4.5\"><span class=\"toc-item-num\">4.5&nbsp;&nbsp;</span>Изучение предложения квартир в Санкт-Петербурге</a></span></li><li><span><a href=\"#Анализ-квартир-в-центре\" data-toc-modified-id=\"Анализ-квартир-в-центре-4.6\"><span class=\"toc-item-num\">4.6&nbsp;&nbsp;</span>Анализ квартир в центре</a></span></li></ul></li><li><span><a href=\"#Общий-вывод\" data-toc-modified-id=\"Общий-вывод-5\"><span class=\"toc-item-num\">5&nbsp;&nbsp;</span>Общий вывод</a></span></li></ul></div>"
   ]
  },
  {
   "cell_type": "markdown",
   "metadata": {},
   "source": [
    "# Исследование объявлений о продаже квартир\n",
    "\n",
    "В вашем распоряжении данные сервиса Яндекс.Недвижимость — архив объявлений о продаже квартир в Санкт-Петербурге и соседних населённых пунктах за несколько лет. Нужно научиться определять рыночную стоимость объектов недвижимости. Ваша задача — установить параметры. Это позволит построить автоматизированную систему: она отследит аномалии и мошенническую деятельность. \n",
    "\n",
    "По каждой квартире на продажу доступны два вида данных. Первые вписаны пользователем, вторые получены автоматически на основе картографических данных. Например, расстояние до центра, аэропорта, ближайшего парка и водоёма. "
   ]
  },
  {
   "cell_type": "markdown",
   "metadata": {},
   "source": [
    "## Изучение данных из файла"
   ]
  },
  {
   "cell_type": "code",
   "execution_count": 165,
   "metadata": {},
   "outputs": [],
   "source": [
    "import pandas as pd # импортируем библиотек pandas"
   ]
  },
  {
   "cell_type": "code",
   "execution_count": 166,
   "metadata": {},
   "outputs": [],
   "source": [
    "df = pd.read_csv('/datasets/real_estate_data.csv', sep='\\t', decimal='.') # чтение файла"
   ]
  },
  {
   "cell_type": "code",
   "execution_count": 167,
   "metadata": {
    "scrolled": true
   },
   "outputs": [
    {
     "data": {
      "text/html": [
       "<div>\n",
       "<style scoped>\n",
       "    .dataframe tbody tr th:only-of-type {\n",
       "        vertical-align: middle;\n",
       "    }\n",
       "\n",
       "    .dataframe tbody tr th {\n",
       "        vertical-align: top;\n",
       "    }\n",
       "\n",
       "    .dataframe thead th {\n",
       "        text-align: right;\n",
       "    }\n",
       "</style>\n",
       "<table border=\"1\" class=\"dataframe\">\n",
       "  <thead>\n",
       "    <tr style=\"text-align: right;\">\n",
       "      <th></th>\n",
       "      <th>total_images</th>\n",
       "      <th>last_price</th>\n",
       "      <th>total_area</th>\n",
       "      <th>first_day_exposition</th>\n",
       "      <th>rooms</th>\n",
       "      <th>ceiling_height</th>\n",
       "      <th>floors_total</th>\n",
       "      <th>living_area</th>\n",
       "      <th>floor</th>\n",
       "      <th>is_apartment</th>\n",
       "      <th>...</th>\n",
       "      <th>kitchen_area</th>\n",
       "      <th>balcony</th>\n",
       "      <th>locality_name</th>\n",
       "      <th>airports_nearest</th>\n",
       "      <th>cityCenters_nearest</th>\n",
       "      <th>parks_around3000</th>\n",
       "      <th>parks_nearest</th>\n",
       "      <th>ponds_around3000</th>\n",
       "      <th>ponds_nearest</th>\n",
       "      <th>days_exposition</th>\n",
       "    </tr>\n",
       "  </thead>\n",
       "  <tbody>\n",
       "    <tr>\n",
       "      <td>0</td>\n",
       "      <td>20</td>\n",
       "      <td>13000000.0</td>\n",
       "      <td>108.0</td>\n",
       "      <td>2019-03-07T00:00:00</td>\n",
       "      <td>3</td>\n",
       "      <td>2.70</td>\n",
       "      <td>16.0</td>\n",
       "      <td>51.0</td>\n",
       "      <td>8</td>\n",
       "      <td>NaN</td>\n",
       "      <td>...</td>\n",
       "      <td>25.0</td>\n",
       "      <td>NaN</td>\n",
       "      <td>Санкт-Петербург</td>\n",
       "      <td>18863.0</td>\n",
       "      <td>16028.0</td>\n",
       "      <td>1.0</td>\n",
       "      <td>482.0</td>\n",
       "      <td>2.0</td>\n",
       "      <td>755.0</td>\n",
       "      <td>NaN</td>\n",
       "    </tr>\n",
       "    <tr>\n",
       "      <td>1</td>\n",
       "      <td>7</td>\n",
       "      <td>3350000.0</td>\n",
       "      <td>40.4</td>\n",
       "      <td>2018-12-04T00:00:00</td>\n",
       "      <td>1</td>\n",
       "      <td>NaN</td>\n",
       "      <td>11.0</td>\n",
       "      <td>18.6</td>\n",
       "      <td>1</td>\n",
       "      <td>NaN</td>\n",
       "      <td>...</td>\n",
       "      <td>11.0</td>\n",
       "      <td>2.0</td>\n",
       "      <td>посёлок Шушары</td>\n",
       "      <td>12817.0</td>\n",
       "      <td>18603.0</td>\n",
       "      <td>0.0</td>\n",
       "      <td>NaN</td>\n",
       "      <td>0.0</td>\n",
       "      <td>NaN</td>\n",
       "      <td>81.0</td>\n",
       "    </tr>\n",
       "    <tr>\n",
       "      <td>2</td>\n",
       "      <td>10</td>\n",
       "      <td>5196000.0</td>\n",
       "      <td>56.0</td>\n",
       "      <td>2015-08-20T00:00:00</td>\n",
       "      <td>2</td>\n",
       "      <td>NaN</td>\n",
       "      <td>5.0</td>\n",
       "      <td>34.3</td>\n",
       "      <td>4</td>\n",
       "      <td>NaN</td>\n",
       "      <td>...</td>\n",
       "      <td>8.3</td>\n",
       "      <td>0.0</td>\n",
       "      <td>Санкт-Петербург</td>\n",
       "      <td>21741.0</td>\n",
       "      <td>13933.0</td>\n",
       "      <td>1.0</td>\n",
       "      <td>90.0</td>\n",
       "      <td>2.0</td>\n",
       "      <td>574.0</td>\n",
       "      <td>558.0</td>\n",
       "    </tr>\n",
       "    <tr>\n",
       "      <td>3</td>\n",
       "      <td>0</td>\n",
       "      <td>64900000.0</td>\n",
       "      <td>159.0</td>\n",
       "      <td>2015-07-24T00:00:00</td>\n",
       "      <td>3</td>\n",
       "      <td>NaN</td>\n",
       "      <td>14.0</td>\n",
       "      <td>NaN</td>\n",
       "      <td>9</td>\n",
       "      <td>NaN</td>\n",
       "      <td>...</td>\n",
       "      <td>NaN</td>\n",
       "      <td>0.0</td>\n",
       "      <td>Санкт-Петербург</td>\n",
       "      <td>28098.0</td>\n",
       "      <td>6800.0</td>\n",
       "      <td>2.0</td>\n",
       "      <td>84.0</td>\n",
       "      <td>3.0</td>\n",
       "      <td>234.0</td>\n",
       "      <td>424.0</td>\n",
       "    </tr>\n",
       "    <tr>\n",
       "      <td>4</td>\n",
       "      <td>2</td>\n",
       "      <td>10000000.0</td>\n",
       "      <td>100.0</td>\n",
       "      <td>2018-06-19T00:00:00</td>\n",
       "      <td>2</td>\n",
       "      <td>3.03</td>\n",
       "      <td>14.0</td>\n",
       "      <td>32.0</td>\n",
       "      <td>13</td>\n",
       "      <td>NaN</td>\n",
       "      <td>...</td>\n",
       "      <td>41.0</td>\n",
       "      <td>NaN</td>\n",
       "      <td>Санкт-Петербург</td>\n",
       "      <td>31856.0</td>\n",
       "      <td>8098.0</td>\n",
       "      <td>2.0</td>\n",
       "      <td>112.0</td>\n",
       "      <td>1.0</td>\n",
       "      <td>48.0</td>\n",
       "      <td>121.0</td>\n",
       "    </tr>\n",
       "  </tbody>\n",
       "</table>\n",
       "<p>5 rows × 22 columns</p>\n",
       "</div>"
      ],
      "text/plain": [
       "   total_images  last_price  total_area first_day_exposition  rooms  \\\n",
       "0            20  13000000.0       108.0  2019-03-07T00:00:00      3   \n",
       "1             7   3350000.0        40.4  2018-12-04T00:00:00      1   \n",
       "2            10   5196000.0        56.0  2015-08-20T00:00:00      2   \n",
       "3             0  64900000.0       159.0  2015-07-24T00:00:00      3   \n",
       "4             2  10000000.0       100.0  2018-06-19T00:00:00      2   \n",
       "\n",
       "   ceiling_height  floors_total  living_area  floor is_apartment  ...  \\\n",
       "0            2.70          16.0         51.0      8          NaN  ...   \n",
       "1             NaN          11.0         18.6      1          NaN  ...   \n",
       "2             NaN           5.0         34.3      4          NaN  ...   \n",
       "3             NaN          14.0          NaN      9          NaN  ...   \n",
       "4            3.03          14.0         32.0     13          NaN  ...   \n",
       "\n",
       "   kitchen_area  balcony    locality_name  airports_nearest  \\\n",
       "0          25.0      NaN  Санкт-Петербург           18863.0   \n",
       "1          11.0      2.0   посёлок Шушары           12817.0   \n",
       "2           8.3      0.0  Санкт-Петербург           21741.0   \n",
       "3           NaN      0.0  Санкт-Петербург           28098.0   \n",
       "4          41.0      NaN  Санкт-Петербург           31856.0   \n",
       "\n",
       "  cityCenters_nearest  parks_around3000  parks_nearest  ponds_around3000  \\\n",
       "0             16028.0               1.0          482.0               2.0   \n",
       "1             18603.0               0.0            NaN               0.0   \n",
       "2             13933.0               1.0           90.0               2.0   \n",
       "3              6800.0               2.0           84.0               3.0   \n",
       "4              8098.0               2.0          112.0               1.0   \n",
       "\n",
       "   ponds_nearest  days_exposition  \n",
       "0          755.0              NaN  \n",
       "1            NaN             81.0  \n",
       "2          574.0            558.0  \n",
       "3          234.0            424.0  \n",
       "4           48.0            121.0  \n",
       "\n",
       "[5 rows x 22 columns]"
      ]
     },
     "metadata": {},
     "output_type": "display_data"
    }
   ],
   "source": [
    "display(df.head(5)) # просмотр первых 5 строк"
   ]
  },
  {
   "cell_type": "markdown",
   "metadata": {},
   "source": [
    "Посмотрим общую информацию о файле:"
   ]
  },
  {
   "cell_type": "code",
   "execution_count": 168,
   "metadata": {},
   "outputs": [
    {
     "name": "stdout",
     "output_type": "stream",
     "text": [
      "<class 'pandas.core.frame.DataFrame'>\n",
      "RangeIndex: 23699 entries, 0 to 23698\n",
      "Data columns (total 22 columns):\n",
      "total_images            23699 non-null int64\n",
      "last_price              23699 non-null float64\n",
      "total_area              23699 non-null float64\n",
      "first_day_exposition    23699 non-null object\n",
      "rooms                   23699 non-null int64\n",
      "ceiling_height          14504 non-null float64\n",
      "floors_total            23613 non-null float64\n",
      "living_area             21796 non-null float64\n",
      "floor                   23699 non-null int64\n",
      "is_apartment            2775 non-null object\n",
      "studio                  23699 non-null bool\n",
      "open_plan               23699 non-null bool\n",
      "kitchen_area            21421 non-null float64\n",
      "balcony                 12180 non-null float64\n",
      "locality_name           23650 non-null object\n",
      "airports_nearest        18157 non-null float64\n",
      "cityCenters_nearest     18180 non-null float64\n",
      "parks_around3000        18181 non-null float64\n",
      "parks_nearest           8079 non-null float64\n",
      "ponds_around3000        18181 non-null float64\n",
      "ponds_nearest           9110 non-null float64\n",
      "days_exposition         20518 non-null float64\n",
      "dtypes: bool(2), float64(14), int64(3), object(3)\n",
      "memory usage: 3.7+ MB\n"
     ]
    }
   ],
   "source": [
    "df.info()"
   ]
  },
  {
   "cell_type": "markdown",
   "metadata": {},
   "source": [
    "В таблице 22 столбца. Тип данных в двух столбцах -bool, 14 столбцов -float64, 3 столбца -int64, и три -object."
   ]
  },
  {
   "cell_type": "markdown",
   "metadata": {},
   "source": [
    "Предварительно можно сказать, что у некоторых столбцов с данными лучше изменить тип, для улучшения восприятия. Мы заменим тип float64 на int64 в следующих столбцах:  количество этажей (floors_total), количество балконов (balcony), количество парков (parks_around3000), количество водоемов (ponds_around3000), количество дней размещения объявления (days_exposition). Все эти данные характеризуют целые величины, поэтому приведем их к целому числу."
   ]
  },
  {
   "cell_type": "markdown",
   "metadata": {},
   "source": [
    "В данных есть пропуски и чтобы не считать их вручную, посчитаем их методом isna().sum(), а также посмотрим долю пропущенных значений, чтобы понимать, можем мы этими данными пожертвовать при дальнейшей обработки или нет."
   ]
  },
  {
   "cell_type": "code",
   "execution_count": 169,
   "metadata": {},
   "outputs": [
    {
     "data": {
      "text/plain": [
       "total_images                0\n",
       "last_price                  0\n",
       "total_area                  0\n",
       "first_day_exposition        0\n",
       "rooms                       0\n",
       "ceiling_height           9195\n",
       "floors_total               86\n",
       "living_area              1903\n",
       "floor                       0\n",
       "is_apartment            20924\n",
       "studio                      0\n",
       "open_plan                   0\n",
       "kitchen_area             2278\n",
       "balcony                 11519\n",
       "locality_name              49\n",
       "airports_nearest         5542\n",
       "cityCenters_nearest      5519\n",
       "parks_around3000         5518\n",
       "parks_nearest           15620\n",
       "ponds_around3000         5518\n",
       "ponds_nearest           14589\n",
       "days_exposition          3181\n",
       "dtype: int64"
      ]
     },
     "execution_count": 169,
     "metadata": {},
     "output_type": "execute_result"
    }
   ],
   "source": [
    "df.isna().sum() # подсчет пропусков в столбцах\n"
   ]
  },
  {
   "cell_type": "code",
   "execution_count": 170,
   "metadata": {},
   "outputs": [
    {
     "data": {
      "text/plain": [
       "total_images            0.000000\n",
       "last_price              0.000000\n",
       "total_area              0.000000\n",
       "first_day_exposition    0.000000\n",
       "rooms                   0.000000\n",
       "ceiling_height          0.387991\n",
       "floors_total            0.003629\n",
       "living_area             0.080299\n",
       "floor                   0.000000\n",
       "is_apartment            0.882906\n",
       "studio                  0.000000\n",
       "open_plan               0.000000\n",
       "kitchen_area            0.096122\n",
       "balcony                 0.486054\n",
       "locality_name           0.002068\n",
       "airports_nearest        0.233850\n",
       "cityCenters_nearest     0.232879\n",
       "parks_around3000        0.232837\n",
       "parks_nearest           0.659100\n",
       "ponds_around3000        0.232837\n",
       "ponds_nearest           0.615596\n",
       "days_exposition         0.134225\n",
       "dtype: float64"
      ]
     },
     "execution_count": 170,
     "metadata": {},
     "output_type": "execute_result"
    }
   ],
   "source": [
    "df.isna().mean() # проверка доли пропусков от общего количества данных по столбцам"
   ]
  },
  {
   "cell_type": "markdown",
   "metadata": {},
   "source": [
    "Достаточно большое количество данных пропущено и придется разбираться, что можно удалить, что заменить, а что трогать не будем."
   ]
  },
  {
   "cell_type": "markdown",
   "metadata": {},
   "source": [
    "Дополнительно можно запустить проверку методом describe(). На данном этапе мне интересны максимальные и минимальные значения, для того чтобы понимать нужно ли будет избавляться только от пропусков или еще придется работать с нулями. Также получившаяся таблица пригодится, когда нужно будет строить срезы, и отсеивать выбросы."
   ]
  },
  {
   "cell_type": "code",
   "execution_count": 171,
   "metadata": {},
   "outputs": [
    {
     "data": {
      "text/html": [
       "<div>\n",
       "<style scoped>\n",
       "    .dataframe tbody tr th:only-of-type {\n",
       "        vertical-align: middle;\n",
       "    }\n",
       "\n",
       "    .dataframe tbody tr th {\n",
       "        vertical-align: top;\n",
       "    }\n",
       "\n",
       "    .dataframe thead th {\n",
       "        text-align: right;\n",
       "    }\n",
       "</style>\n",
       "<table border=\"1\" class=\"dataframe\">\n",
       "  <thead>\n",
       "    <tr style=\"text-align: right;\">\n",
       "      <th></th>\n",
       "      <th>total_images</th>\n",
       "      <th>last_price</th>\n",
       "      <th>total_area</th>\n",
       "      <th>rooms</th>\n",
       "      <th>ceiling_height</th>\n",
       "      <th>floors_total</th>\n",
       "      <th>living_area</th>\n",
       "      <th>floor</th>\n",
       "      <th>kitchen_area</th>\n",
       "      <th>balcony</th>\n",
       "      <th>airports_nearest</th>\n",
       "      <th>cityCenters_nearest</th>\n",
       "      <th>parks_around3000</th>\n",
       "      <th>parks_nearest</th>\n",
       "      <th>ponds_around3000</th>\n",
       "      <th>ponds_nearest</th>\n",
       "      <th>days_exposition</th>\n",
       "    </tr>\n",
       "  </thead>\n",
       "  <tbody>\n",
       "    <tr>\n",
       "      <td>count</td>\n",
       "      <td>23699.000000</td>\n",
       "      <td>2.369900e+04</td>\n",
       "      <td>23699.000000</td>\n",
       "      <td>23699.000000</td>\n",
       "      <td>14504.000000</td>\n",
       "      <td>23613.000000</td>\n",
       "      <td>21796.000000</td>\n",
       "      <td>23699.000000</td>\n",
       "      <td>21421.000000</td>\n",
       "      <td>12180.000000</td>\n",
       "      <td>18157.000000</td>\n",
       "      <td>18180.000000</td>\n",
       "      <td>18181.000000</td>\n",
       "      <td>8079.000000</td>\n",
       "      <td>18181.000000</td>\n",
       "      <td>9110.000000</td>\n",
       "      <td>20518.000000</td>\n",
       "    </tr>\n",
       "    <tr>\n",
       "      <td>mean</td>\n",
       "      <td>9.858475</td>\n",
       "      <td>6.541549e+06</td>\n",
       "      <td>60.348651</td>\n",
       "      <td>2.070636</td>\n",
       "      <td>2.771499</td>\n",
       "      <td>10.673824</td>\n",
       "      <td>34.457852</td>\n",
       "      <td>5.892358</td>\n",
       "      <td>10.569807</td>\n",
       "      <td>1.150082</td>\n",
       "      <td>28793.672193</td>\n",
       "      <td>14191.277833</td>\n",
       "      <td>0.611408</td>\n",
       "      <td>490.804555</td>\n",
       "      <td>0.770255</td>\n",
       "      <td>517.980900</td>\n",
       "      <td>180.888634</td>\n",
       "    </tr>\n",
       "    <tr>\n",
       "      <td>std</td>\n",
       "      <td>5.682529</td>\n",
       "      <td>1.088701e+07</td>\n",
       "      <td>35.654083</td>\n",
       "      <td>1.078405</td>\n",
       "      <td>1.261056</td>\n",
       "      <td>6.597173</td>\n",
       "      <td>22.030445</td>\n",
       "      <td>4.885249</td>\n",
       "      <td>5.905438</td>\n",
       "      <td>1.071300</td>\n",
       "      <td>12630.880622</td>\n",
       "      <td>8608.386210</td>\n",
       "      <td>0.802074</td>\n",
       "      <td>342.317995</td>\n",
       "      <td>0.938346</td>\n",
       "      <td>277.720643</td>\n",
       "      <td>219.727988</td>\n",
       "    </tr>\n",
       "    <tr>\n",
       "      <td>min</td>\n",
       "      <td>0.000000</td>\n",
       "      <td>1.219000e+04</td>\n",
       "      <td>12.000000</td>\n",
       "      <td>0.000000</td>\n",
       "      <td>1.000000</td>\n",
       "      <td>1.000000</td>\n",
       "      <td>2.000000</td>\n",
       "      <td>1.000000</td>\n",
       "      <td>1.300000</td>\n",
       "      <td>0.000000</td>\n",
       "      <td>0.000000</td>\n",
       "      <td>181.000000</td>\n",
       "      <td>0.000000</td>\n",
       "      <td>1.000000</td>\n",
       "      <td>0.000000</td>\n",
       "      <td>13.000000</td>\n",
       "      <td>1.000000</td>\n",
       "    </tr>\n",
       "    <tr>\n",
       "      <td>25%</td>\n",
       "      <td>6.000000</td>\n",
       "      <td>3.400000e+06</td>\n",
       "      <td>40.000000</td>\n",
       "      <td>1.000000</td>\n",
       "      <td>2.520000</td>\n",
       "      <td>5.000000</td>\n",
       "      <td>18.600000</td>\n",
       "      <td>2.000000</td>\n",
       "      <td>7.000000</td>\n",
       "      <td>0.000000</td>\n",
       "      <td>18585.000000</td>\n",
       "      <td>9238.000000</td>\n",
       "      <td>0.000000</td>\n",
       "      <td>288.000000</td>\n",
       "      <td>0.000000</td>\n",
       "      <td>294.000000</td>\n",
       "      <td>45.000000</td>\n",
       "    </tr>\n",
       "    <tr>\n",
       "      <td>50%</td>\n",
       "      <td>9.000000</td>\n",
       "      <td>4.650000e+06</td>\n",
       "      <td>52.000000</td>\n",
       "      <td>2.000000</td>\n",
       "      <td>2.650000</td>\n",
       "      <td>9.000000</td>\n",
       "      <td>30.000000</td>\n",
       "      <td>4.000000</td>\n",
       "      <td>9.100000</td>\n",
       "      <td>1.000000</td>\n",
       "      <td>26726.000000</td>\n",
       "      <td>13098.500000</td>\n",
       "      <td>0.000000</td>\n",
       "      <td>455.000000</td>\n",
       "      <td>1.000000</td>\n",
       "      <td>502.000000</td>\n",
       "      <td>95.000000</td>\n",
       "    </tr>\n",
       "    <tr>\n",
       "      <td>75%</td>\n",
       "      <td>14.000000</td>\n",
       "      <td>6.800000e+06</td>\n",
       "      <td>69.900000</td>\n",
       "      <td>3.000000</td>\n",
       "      <td>2.800000</td>\n",
       "      <td>16.000000</td>\n",
       "      <td>42.300000</td>\n",
       "      <td>8.000000</td>\n",
       "      <td>12.000000</td>\n",
       "      <td>2.000000</td>\n",
       "      <td>37273.000000</td>\n",
       "      <td>16293.000000</td>\n",
       "      <td>1.000000</td>\n",
       "      <td>612.000000</td>\n",
       "      <td>1.000000</td>\n",
       "      <td>729.000000</td>\n",
       "      <td>232.000000</td>\n",
       "    </tr>\n",
       "    <tr>\n",
       "      <td>max</td>\n",
       "      <td>50.000000</td>\n",
       "      <td>7.630000e+08</td>\n",
       "      <td>900.000000</td>\n",
       "      <td>19.000000</td>\n",
       "      <td>100.000000</td>\n",
       "      <td>60.000000</td>\n",
       "      <td>409.700000</td>\n",
       "      <td>33.000000</td>\n",
       "      <td>112.000000</td>\n",
       "      <td>5.000000</td>\n",
       "      <td>84869.000000</td>\n",
       "      <td>65968.000000</td>\n",
       "      <td>3.000000</td>\n",
       "      <td>3190.000000</td>\n",
       "      <td>3.000000</td>\n",
       "      <td>1344.000000</td>\n",
       "      <td>1580.000000</td>\n",
       "    </tr>\n",
       "  </tbody>\n",
       "</table>\n",
       "</div>"
      ],
      "text/plain": [
       "       total_images    last_price    total_area         rooms  ceiling_height  \\\n",
       "count  23699.000000  2.369900e+04  23699.000000  23699.000000    14504.000000   \n",
       "mean       9.858475  6.541549e+06     60.348651      2.070636        2.771499   \n",
       "std        5.682529  1.088701e+07     35.654083      1.078405        1.261056   \n",
       "min        0.000000  1.219000e+04     12.000000      0.000000        1.000000   \n",
       "25%        6.000000  3.400000e+06     40.000000      1.000000        2.520000   \n",
       "50%        9.000000  4.650000e+06     52.000000      2.000000        2.650000   \n",
       "75%       14.000000  6.800000e+06     69.900000      3.000000        2.800000   \n",
       "max       50.000000  7.630000e+08    900.000000     19.000000      100.000000   \n",
       "\n",
       "       floors_total   living_area         floor  kitchen_area       balcony  \\\n",
       "count  23613.000000  21796.000000  23699.000000  21421.000000  12180.000000   \n",
       "mean      10.673824     34.457852      5.892358     10.569807      1.150082   \n",
       "std        6.597173     22.030445      4.885249      5.905438      1.071300   \n",
       "min        1.000000      2.000000      1.000000      1.300000      0.000000   \n",
       "25%        5.000000     18.600000      2.000000      7.000000      0.000000   \n",
       "50%        9.000000     30.000000      4.000000      9.100000      1.000000   \n",
       "75%       16.000000     42.300000      8.000000     12.000000      2.000000   \n",
       "max       60.000000    409.700000     33.000000    112.000000      5.000000   \n",
       "\n",
       "       airports_nearest  cityCenters_nearest  parks_around3000  parks_nearest  \\\n",
       "count      18157.000000         18180.000000      18181.000000    8079.000000   \n",
       "mean       28793.672193         14191.277833          0.611408     490.804555   \n",
       "std        12630.880622          8608.386210          0.802074     342.317995   \n",
       "min            0.000000           181.000000          0.000000       1.000000   \n",
       "25%        18585.000000          9238.000000          0.000000     288.000000   \n",
       "50%        26726.000000         13098.500000          0.000000     455.000000   \n",
       "75%        37273.000000         16293.000000          1.000000     612.000000   \n",
       "max        84869.000000         65968.000000          3.000000    3190.000000   \n",
       "\n",
       "       ponds_around3000  ponds_nearest  days_exposition  \n",
       "count      18181.000000    9110.000000     20518.000000  \n",
       "mean           0.770255     517.980900       180.888634  \n",
       "std            0.938346     277.720643       219.727988  \n",
       "min            0.000000      13.000000         1.000000  \n",
       "25%            0.000000     294.000000        45.000000  \n",
       "50%            1.000000     502.000000        95.000000  \n",
       "75%            1.000000     729.000000       232.000000  \n",
       "max            3.000000    1344.000000      1580.000000  "
      ]
     },
     "execution_count": 171,
     "metadata": {},
     "output_type": "execute_result"
    }
   ],
   "source": [
    "df.describe()"
   ]
  },
  {
   "cell_type": "markdown",
   "metadata": {},
   "source": [
    "Как и ожидалось, в данных есть \"странные\" минимумы, например количество комнат равное нулю, или высота потолков равная 1 метру. Далее посмотрим насколько эти данные искажают общую картину и нужно ли их отсеять."
   ]
  },
  {
   "cell_type": "markdown",
   "metadata": {},
   "source": [
    "**Вывод**"
   ]
  },
  {
   "cell_type": "markdown",
   "metadata": {},
   "source": [
    "Мы получили первое представление о данных:\n",
    "- там есть пропуски, часть которых нужно будет заменить на значения, а часть оставить без изменения\n",
    "- у определенной части данных, нужно будет изменить тип с вещественного на целочисленный\n",
    "- в таблице есть столбец с наименованием населенного пункта, поэтому лучше проверить его на наличие дубликатов и исправить их\n",
    "- проверить всю таблицу на наличие полностью дублирующихся строк и удалить их\n"
   ]
  },
  {
   "cell_type": "markdown",
   "metadata": {},
   "source": [
    "## Предобработка данных"
   ]
  },
  {
   "cell_type": "markdown",
   "metadata": {},
   "source": [
    "### Работа с пропусками"
   ]
  },
  {
   "cell_type": "markdown",
   "metadata": {},
   "source": [
    "В таблице много пропущенных данных. Попробуем с ними разобраться."
   ]
  },
  {
   "cell_type": "markdown",
   "metadata": {},
   "source": [
    "Начнем с самых больших значений - это столбцы расстояние до ближайшего парка(parks_nearest), Расстояние до ближайшего водоема (ponds_nearest ), количество балконов (balcony), апартаменты (is_apartment)"
   ]
  },
  {
   "cell_type": "markdown",
   "metadata": {},
   "source": [
    "Вероятнее всего, если в графе с количеством балконов стоит пропуск, то балкона нет. Заменим пропуски на ноль с помощью метода fillna()"
   ]
  },
  {
   "cell_type": "code",
   "execution_count": 172,
   "metadata": {},
   "outputs": [],
   "source": [
    "df['balcony'] = df['balcony'].fillna(0) # замена NaN на 0"
   ]
  },
  {
   "cell_type": "markdown",
   "metadata": {},
   "source": [
    "Поскольку данные о расстоянии до ближайшего парка и водоема получены автоматически  на основе картографических данных, то пропуски скорее всего говорят об отсутствии водоемов и парков в округе. Хотя возможна и ошибка, не очень понятно какое расстояние бралось в расчет при автоматическом сборе данных. Учитывая, что продаваемые квартиры, расположены  в Санкт-петербурге и по всей Ленинградской области, можно с уверенностью сказать, что заменять на медиану или среднее арифметическое в данном случае не корректно, ведь выборка очень разнообразная. Также заменять пропуски на ноль не стоит, иначе получится, что водоем и парк прямо при выходе из квартиры. "
   ]
  },
  {
   "cell_type": "markdown",
   "metadata": {},
   "source": [
    "Аналогичная ситуация с расстоянием до аэропорта и центра города, данные о которых тоже получены автоматически. Тут даже в пределах одного Санкт-Петербурга, без конкретного адреса сложно сказать какое расстояние будет до указанных пунктов."
   ]
  },
  {
   "cell_type": "markdown",
   "metadata": {},
   "source": [
    "Итак данные по расстоянию до аэропорта, центра города, ближайшего парка и водоема оставляем без изменений."
   ]
  },
  {
   "cell_type": "markdown",
   "metadata": {},
   "source": [
    "А вот пропуски в столбцах с количеством парков и водоемов в радиусе 3 км, мы заменим на 0. Вероятнее всего, что их просто нет. Для замены опять используем метод fillna()"
   ]
  },
  {
   "cell_type": "code",
   "execution_count": 173,
   "metadata": {},
   "outputs": [],
   "source": [
    "df['parks_around3000'] = df['parks_around3000'].fillna(0) # замена NaN на 0\n"
   ]
  },
  {
   "cell_type": "code",
   "execution_count": 174,
   "metadata": {},
   "outputs": [],
   "source": [
    "df['ponds_around3000'] = df['ponds_around3000'].fillna(0) # замена NaN на 0"
   ]
  },
  {
   "cell_type": "markdown",
   "metadata": {},
   "source": [
    "Столбик с данными отражающими вид жилья - аппартаменты, имеет булев тип. Т.е. данные в этом стоблике могут быть либо True, либо False. Как мне кажется, в Санкт_петербурге, пока не очень распространен данный вид жилья, а тем более в далеких деревнях Ленинградской области. Хотя несколько апарт-отелей  в Питере видела, но это больше исключение, чем правило. Если у нас нет консультанта по недвижимости, вороятнее всего, что пропуск в данном столбце, говорит о том, что продается обычная квартира и соответственно пропуск мы заменим на False\n"
   ]
  },
  {
   "cell_type": "code",
   "execution_count": 175,
   "metadata": {},
   "outputs": [],
   "source": [
    "df['is_apartment'] = df['is_apartment'].fillna(False) # замена NaN на False"
   ]
  },
  {
   "cell_type": "markdown",
   "metadata": {},
   "source": [
    "Удалим из выборки строки, в которых не указан населенный пункт (0,2% от выборки) . Без указания населенного пункта все остальные сведенья о квартире достаточно бесполезны."
   ]
  },
  {
   "cell_type": "code",
   "execution_count": 176,
   "metadata": {},
   "outputs": [],
   "source": [
    "df.dropna(subset = ['locality_name'], how='all', inplace = True) # удаление строки с пропущенными значениями"
   ]
  },
  {
   "cell_type": "markdown",
   "metadata": {},
   "source": [
    "Пропуски в в количестве этажей в доме заменим на этаж квартиры."
   ]
  },
  {
   "cell_type": "code",
   "execution_count": null,
   "metadata": {},
   "outputs": [],
   "source": []
  },
  {
   "cell_type": "code",
   "execution_count": 177,
   "metadata": {},
   "outputs": [],
   "source": [
    "df['floors_total'] = df['floors_total'].fillna(df['floor'])"
   ]
  },
  {
   "cell_type": "markdown",
   "metadata": {},
   "source": []
  },
  {
   "cell_type": "markdown",
   "metadata": {},
   "source": [
    "Теперь разберемся с высотой потолков. Сегодня минимальной нормой в России считается высота потолка 2,4 метра (для Санкт-Петербурга 2,5 м). В новостройках, обычно, это значение находится в пределах 2,5-2,7 метра. Для элитного жилья показатель может превышать 3 метра. "
   ]
  },
  {
   "cell_type": "markdown",
   "metadata": {},
   "source": [
    "Мы не знаем класс продаваемых квартир, поэтому расчитаем медианы отдельно для Санкт-Петербурга и отдельно для всех других населенных пунктов.Разделить на эти две группы, я читаю целесообразным по нескольким причинам:\n",
    "- в последние годы в Санкт-Петербурге строится очень много новых домов, как не очень дорогих, классических эконом класса, где высота потолков примерно одинаковая от 2,5 м до 2,7 м, так и элитного жилья и даже двухэтажных квартир. Плюс не будем забывать про вторичное жилье-дома построенные в позднесоветское время, где высота потолков 2,5 м или наоборот старые дома (особенно дореволюционные), где потолки 3-3,5 м. Но основная масса квартир все же с потолками в диапазоне 2,5-2,7 м\n",
    "- многие (но не все) прочие населенные пунктя, я так или иначе знаю. Большинство из них представляют собой небольшие населенные пункты с невысокой плотностью населения и стандартными панельными домами (в основном пяти этажные, хотя есть и девятиэтажки) построенные по принципу \"пусть маленькое жилье, но свое\". Потолки в таких домах не отличаются высотой. Есть конечно, ряд населенных пунктов с элитным жильем, но их не много.\n",
    "- я бы еще выделила группу, в которую включила бы мелкие города в окресностях Питера, такие как Пушкин, Павловск, Ломоносов, Петергоф, Всеволожск и подобные, но тут я боюсь ошибиться, потому, что часть из них по своим характеристикам ближе к Питеру, а часть к прочим населенным пунктам. Жилищный фонд там в основном представлен старыми домами, но эконом класса, кроме исторических центров этих городов. Но опять повторюсь, с этими пунктами боюсь ошибится и лучше присоединю их к группе \"другие\"\n"
   ]
  },
  {
   "cell_type": "code",
   "execution_count": 178,
   "metadata": {},
   "outputs": [
    {
     "data": {
      "text/plain": [
       "2.7"
      ]
     },
     "metadata": {},
     "output_type": "display_data"
    }
   ],
   "source": [
    "ceiling_height_spb_median = df['ceiling_height'].loc[df['locality_name'] == 'Санкт-Петербург'].sort_values().median() #применение логической индексации и расчет медианы\n",
    "display(ceiling_height_spb_median)"
   ]
  },
  {
   "cell_type": "code",
   "execution_count": 179,
   "metadata": {},
   "outputs": [
    {
     "data": {
      "text/plain": [
       "2.6"
      ]
     },
     "metadata": {},
     "output_type": "display_data"
    }
   ],
   "source": [
    "ceiling_height_others_median = df['ceiling_height'].loc[df['locality_name'] != 'Санкт-Петербург'].sort_values().median()\n",
    "display(ceiling_height_others_median)"
   ]
  },
  {
   "cell_type": "markdown",
   "metadata": {},
   "source": [
    "Медианы отличаются не на много, но все же отличаются. Произведем замену пропущенных значений на соответствующую медиану методом fillna(), но вместо числа, заменим на переменную."
   ]
  },
  {
   "cell_type": "code",
   "execution_count": 180,
   "metadata": {},
   "outputs": [],
   "source": [
    "df['ceiling_height'] = df['ceiling_height'].loc[df['locality_name'] == 'Санкт-Петербург'].fillna(ceiling_height_spb_median)\n"
   ]
  },
  {
   "cell_type": "code",
   "execution_count": 181,
   "metadata": {},
   "outputs": [],
   "source": [
    "df['ceiling_height'] = df['ceiling_height'].fillna(ceiling_height_others_median) # замена NaN на значение переменной"
   ]
  },
  {
   "cell_type": "code",
   "execution_count": 182,
   "metadata": {},
   "outputs": [
    {
     "data": {
      "text/html": [
       "<div>\n",
       "<style scoped>\n",
       "    .dataframe tbody tr th:only-of-type {\n",
       "        vertical-align: middle;\n",
       "    }\n",
       "\n",
       "    .dataframe tbody tr th {\n",
       "        vertical-align: top;\n",
       "    }\n",
       "\n",
       "    .dataframe thead th {\n",
       "        text-align: right;\n",
       "    }\n",
       "</style>\n",
       "<table border=\"1\" class=\"dataframe\">\n",
       "  <thead>\n",
       "    <tr style=\"text-align: right;\">\n",
       "      <th></th>\n",
       "      <th>total_images</th>\n",
       "      <th>last_price</th>\n",
       "      <th>total_area</th>\n",
       "      <th>first_day_exposition</th>\n",
       "      <th>rooms</th>\n",
       "      <th>ceiling_height</th>\n",
       "      <th>floors_total</th>\n",
       "      <th>living_area</th>\n",
       "      <th>floor</th>\n",
       "      <th>is_apartment</th>\n",
       "      <th>...</th>\n",
       "      <th>kitchen_area</th>\n",
       "      <th>balcony</th>\n",
       "      <th>locality_name</th>\n",
       "      <th>airports_nearest</th>\n",
       "      <th>cityCenters_nearest</th>\n",
       "      <th>parks_around3000</th>\n",
       "      <th>parks_nearest</th>\n",
       "      <th>ponds_around3000</th>\n",
       "      <th>ponds_nearest</th>\n",
       "      <th>days_exposition</th>\n",
       "    </tr>\n",
       "  </thead>\n",
       "  <tbody>\n",
       "    <tr>\n",
       "      <td>0</td>\n",
       "      <td>20</td>\n",
       "      <td>13000000.0</td>\n",
       "      <td>108.00</td>\n",
       "      <td>2019-03-07T00:00:00</td>\n",
       "      <td>3</td>\n",
       "      <td>2.70</td>\n",
       "      <td>16.0</td>\n",
       "      <td>51.00</td>\n",
       "      <td>8</td>\n",
       "      <td>False</td>\n",
       "      <td>...</td>\n",
       "      <td>25.00</td>\n",
       "      <td>0.0</td>\n",
       "      <td>Санкт-Петербург</td>\n",
       "      <td>18863.0</td>\n",
       "      <td>16028.0</td>\n",
       "      <td>1.0</td>\n",
       "      <td>482.0</td>\n",
       "      <td>2.0</td>\n",
       "      <td>755.0</td>\n",
       "      <td>NaN</td>\n",
       "    </tr>\n",
       "    <tr>\n",
       "      <td>1</td>\n",
       "      <td>7</td>\n",
       "      <td>3350000.0</td>\n",
       "      <td>40.40</td>\n",
       "      <td>2018-12-04T00:00:00</td>\n",
       "      <td>1</td>\n",
       "      <td>2.60</td>\n",
       "      <td>11.0</td>\n",
       "      <td>18.60</td>\n",
       "      <td>1</td>\n",
       "      <td>False</td>\n",
       "      <td>...</td>\n",
       "      <td>11.00</td>\n",
       "      <td>2.0</td>\n",
       "      <td>посёлок Шушары</td>\n",
       "      <td>12817.0</td>\n",
       "      <td>18603.0</td>\n",
       "      <td>0.0</td>\n",
       "      <td>NaN</td>\n",
       "      <td>0.0</td>\n",
       "      <td>NaN</td>\n",
       "      <td>81.0</td>\n",
       "    </tr>\n",
       "    <tr>\n",
       "      <td>2</td>\n",
       "      <td>10</td>\n",
       "      <td>5196000.0</td>\n",
       "      <td>56.00</td>\n",
       "      <td>2015-08-20T00:00:00</td>\n",
       "      <td>2</td>\n",
       "      <td>2.70</td>\n",
       "      <td>5.0</td>\n",
       "      <td>34.30</td>\n",
       "      <td>4</td>\n",
       "      <td>False</td>\n",
       "      <td>...</td>\n",
       "      <td>8.30</td>\n",
       "      <td>0.0</td>\n",
       "      <td>Санкт-Петербург</td>\n",
       "      <td>21741.0</td>\n",
       "      <td>13933.0</td>\n",
       "      <td>1.0</td>\n",
       "      <td>90.0</td>\n",
       "      <td>2.0</td>\n",
       "      <td>574.0</td>\n",
       "      <td>558.0</td>\n",
       "    </tr>\n",
       "    <tr>\n",
       "      <td>3</td>\n",
       "      <td>0</td>\n",
       "      <td>64900000.0</td>\n",
       "      <td>159.00</td>\n",
       "      <td>2015-07-24T00:00:00</td>\n",
       "      <td>3</td>\n",
       "      <td>2.70</td>\n",
       "      <td>14.0</td>\n",
       "      <td>NaN</td>\n",
       "      <td>9</td>\n",
       "      <td>False</td>\n",
       "      <td>...</td>\n",
       "      <td>NaN</td>\n",
       "      <td>0.0</td>\n",
       "      <td>Санкт-Петербург</td>\n",
       "      <td>28098.0</td>\n",
       "      <td>6800.0</td>\n",
       "      <td>2.0</td>\n",
       "      <td>84.0</td>\n",
       "      <td>3.0</td>\n",
       "      <td>234.0</td>\n",
       "      <td>424.0</td>\n",
       "    </tr>\n",
       "    <tr>\n",
       "      <td>4</td>\n",
       "      <td>2</td>\n",
       "      <td>10000000.0</td>\n",
       "      <td>100.00</td>\n",
       "      <td>2018-06-19T00:00:00</td>\n",
       "      <td>2</td>\n",
       "      <td>3.03</td>\n",
       "      <td>14.0</td>\n",
       "      <td>32.00</td>\n",
       "      <td>13</td>\n",
       "      <td>False</td>\n",
       "      <td>...</td>\n",
       "      <td>41.00</td>\n",
       "      <td>0.0</td>\n",
       "      <td>Санкт-Петербург</td>\n",
       "      <td>31856.0</td>\n",
       "      <td>8098.0</td>\n",
       "      <td>2.0</td>\n",
       "      <td>112.0</td>\n",
       "      <td>1.0</td>\n",
       "      <td>48.0</td>\n",
       "      <td>121.0</td>\n",
       "    </tr>\n",
       "    <tr>\n",
       "      <td>5</td>\n",
       "      <td>10</td>\n",
       "      <td>2890000.0</td>\n",
       "      <td>30.40</td>\n",
       "      <td>2018-09-10T00:00:00</td>\n",
       "      <td>1</td>\n",
       "      <td>2.60</td>\n",
       "      <td>12.0</td>\n",
       "      <td>14.40</td>\n",
       "      <td>5</td>\n",
       "      <td>False</td>\n",
       "      <td>...</td>\n",
       "      <td>9.10</td>\n",
       "      <td>0.0</td>\n",
       "      <td>городской посёлок Янино-1</td>\n",
       "      <td>NaN</td>\n",
       "      <td>NaN</td>\n",
       "      <td>0.0</td>\n",
       "      <td>NaN</td>\n",
       "      <td>0.0</td>\n",
       "      <td>NaN</td>\n",
       "      <td>55.0</td>\n",
       "    </tr>\n",
       "    <tr>\n",
       "      <td>6</td>\n",
       "      <td>6</td>\n",
       "      <td>3700000.0</td>\n",
       "      <td>37.30</td>\n",
       "      <td>2017-11-02T00:00:00</td>\n",
       "      <td>1</td>\n",
       "      <td>2.60</td>\n",
       "      <td>26.0</td>\n",
       "      <td>10.60</td>\n",
       "      <td>6</td>\n",
       "      <td>False</td>\n",
       "      <td>...</td>\n",
       "      <td>14.40</td>\n",
       "      <td>1.0</td>\n",
       "      <td>посёлок Парголово</td>\n",
       "      <td>52996.0</td>\n",
       "      <td>19143.0</td>\n",
       "      <td>0.0</td>\n",
       "      <td>NaN</td>\n",
       "      <td>0.0</td>\n",
       "      <td>NaN</td>\n",
       "      <td>155.0</td>\n",
       "    </tr>\n",
       "    <tr>\n",
       "      <td>7</td>\n",
       "      <td>5</td>\n",
       "      <td>7915000.0</td>\n",
       "      <td>71.60</td>\n",
       "      <td>2019-04-18T00:00:00</td>\n",
       "      <td>2</td>\n",
       "      <td>2.70</td>\n",
       "      <td>24.0</td>\n",
       "      <td>NaN</td>\n",
       "      <td>22</td>\n",
       "      <td>False</td>\n",
       "      <td>...</td>\n",
       "      <td>18.90</td>\n",
       "      <td>2.0</td>\n",
       "      <td>Санкт-Петербург</td>\n",
       "      <td>23982.0</td>\n",
       "      <td>11634.0</td>\n",
       "      <td>0.0</td>\n",
       "      <td>NaN</td>\n",
       "      <td>0.0</td>\n",
       "      <td>NaN</td>\n",
       "      <td>NaN</td>\n",
       "    </tr>\n",
       "    <tr>\n",
       "      <td>8</td>\n",
       "      <td>20</td>\n",
       "      <td>2900000.0</td>\n",
       "      <td>33.16</td>\n",
       "      <td>2018-05-23T00:00:00</td>\n",
       "      <td>1</td>\n",
       "      <td>2.60</td>\n",
       "      <td>27.0</td>\n",
       "      <td>15.43</td>\n",
       "      <td>26</td>\n",
       "      <td>False</td>\n",
       "      <td>...</td>\n",
       "      <td>8.81</td>\n",
       "      <td>0.0</td>\n",
       "      <td>посёлок Мурино</td>\n",
       "      <td>NaN</td>\n",
       "      <td>NaN</td>\n",
       "      <td>0.0</td>\n",
       "      <td>NaN</td>\n",
       "      <td>0.0</td>\n",
       "      <td>NaN</td>\n",
       "      <td>189.0</td>\n",
       "    </tr>\n",
       "    <tr>\n",
       "      <td>9</td>\n",
       "      <td>18</td>\n",
       "      <td>5400000.0</td>\n",
       "      <td>61.00</td>\n",
       "      <td>2017-02-26T00:00:00</td>\n",
       "      <td>3</td>\n",
       "      <td>2.50</td>\n",
       "      <td>9.0</td>\n",
       "      <td>43.60</td>\n",
       "      <td>7</td>\n",
       "      <td>False</td>\n",
       "      <td>...</td>\n",
       "      <td>6.50</td>\n",
       "      <td>2.0</td>\n",
       "      <td>Санкт-Петербург</td>\n",
       "      <td>50898.0</td>\n",
       "      <td>15008.0</td>\n",
       "      <td>0.0</td>\n",
       "      <td>NaN</td>\n",
       "      <td>0.0</td>\n",
       "      <td>NaN</td>\n",
       "      <td>289.0</td>\n",
       "    </tr>\n",
       "  </tbody>\n",
       "</table>\n",
       "<p>10 rows × 22 columns</p>\n",
       "</div>"
      ],
      "text/plain": [
       "   total_images  last_price  total_area first_day_exposition  rooms  \\\n",
       "0            20  13000000.0      108.00  2019-03-07T00:00:00      3   \n",
       "1             7   3350000.0       40.40  2018-12-04T00:00:00      1   \n",
       "2            10   5196000.0       56.00  2015-08-20T00:00:00      2   \n",
       "3             0  64900000.0      159.00  2015-07-24T00:00:00      3   \n",
       "4             2  10000000.0      100.00  2018-06-19T00:00:00      2   \n",
       "5            10   2890000.0       30.40  2018-09-10T00:00:00      1   \n",
       "6             6   3700000.0       37.30  2017-11-02T00:00:00      1   \n",
       "7             5   7915000.0       71.60  2019-04-18T00:00:00      2   \n",
       "8            20   2900000.0       33.16  2018-05-23T00:00:00      1   \n",
       "9            18   5400000.0       61.00  2017-02-26T00:00:00      3   \n",
       "\n",
       "   ceiling_height  floors_total  living_area  floor  is_apartment  ...  \\\n",
       "0            2.70          16.0        51.00      8         False  ...   \n",
       "1            2.60          11.0        18.60      1         False  ...   \n",
       "2            2.70           5.0        34.30      4         False  ...   \n",
       "3            2.70          14.0          NaN      9         False  ...   \n",
       "4            3.03          14.0        32.00     13         False  ...   \n",
       "5            2.60          12.0        14.40      5         False  ...   \n",
       "6            2.60          26.0        10.60      6         False  ...   \n",
       "7            2.70          24.0          NaN     22         False  ...   \n",
       "8            2.60          27.0        15.43     26         False  ...   \n",
       "9            2.50           9.0        43.60      7         False  ...   \n",
       "\n",
       "   kitchen_area  balcony              locality_name  airports_nearest  \\\n",
       "0         25.00      0.0            Санкт-Петербург           18863.0   \n",
       "1         11.00      2.0             посёлок Шушары           12817.0   \n",
       "2          8.30      0.0            Санкт-Петербург           21741.0   \n",
       "3           NaN      0.0            Санкт-Петербург           28098.0   \n",
       "4         41.00      0.0            Санкт-Петербург           31856.0   \n",
       "5          9.10      0.0  городской посёлок Янино-1               NaN   \n",
       "6         14.40      1.0          посёлок Парголово           52996.0   \n",
       "7         18.90      2.0            Санкт-Петербург           23982.0   \n",
       "8          8.81      0.0             посёлок Мурино               NaN   \n",
       "9          6.50      2.0            Санкт-Петербург           50898.0   \n",
       "\n",
       "  cityCenters_nearest  parks_around3000  parks_nearest  ponds_around3000  \\\n",
       "0             16028.0               1.0          482.0               2.0   \n",
       "1             18603.0               0.0            NaN               0.0   \n",
       "2             13933.0               1.0           90.0               2.0   \n",
       "3              6800.0               2.0           84.0               3.0   \n",
       "4              8098.0               2.0          112.0               1.0   \n",
       "5                 NaN               0.0            NaN               0.0   \n",
       "6             19143.0               0.0            NaN               0.0   \n",
       "7             11634.0               0.0            NaN               0.0   \n",
       "8                 NaN               0.0            NaN               0.0   \n",
       "9             15008.0               0.0            NaN               0.0   \n",
       "\n",
       "   ponds_nearest  days_exposition  \n",
       "0          755.0              NaN  \n",
       "1            NaN             81.0  \n",
       "2          574.0            558.0  \n",
       "3          234.0            424.0  \n",
       "4           48.0            121.0  \n",
       "5            NaN             55.0  \n",
       "6            NaN            155.0  \n",
       "7            NaN              NaN  \n",
       "8            NaN            189.0  \n",
       "9            NaN            289.0  \n",
       "\n",
       "[10 rows x 22 columns]"
      ]
     },
     "metadata": {},
     "output_type": "display_data"
    }
   ],
   "source": [
    "display(df.head(10)) #посмотрим на первые 10 строк"
   ]
  },
  {
   "cell_type": "markdown",
   "metadata": {},
   "source": [
    "У нас остался еще столбик с временим размещения объявлений от момента создания до снятия, в котором остались пропуски. Пропуски, вероятнее всего, связаны с тем, что на момент создания таблицы объявления были еще активны (не сняты с публикации). Предсказать, когда они будут сняты с продажи, очень сложно, т.к. возможно есть не известные нам факты, а может прошло слишком мало времени с момента размещения. Тут нужно смотреть по каждой позиции отдельно, но это уже работа риэлтора, давать рекомендации продавцам, по тому как быстрее продать."
   ]
  },
  {
   "cell_type": "markdown",
   "metadata": {},
   "source": [
    "Наша задача оценить время размещения объявлений по уже закрытим объявлениям. Поэтому, оставим пропуски в столбце, не смотря на то, что это 13% от выборки. Если я почувствую, что данных не хватает или пропуски сильно искажают картину, то я всегда могу вернутся к этому пункту и подумать, есть ли какое-то другое решение этой проблемы."
   ]
  },
  {
   "cell_type": "markdown",
   "metadata": {},
   "source": [
    "Заменим пропуски в графе с площадью кухни. В случае? если у квартиры не указана жилая площадь и площадь кухни поставим вместо пропусков 6 кв.м, а в остальных случаях поставим примерную площадь, равную разности общей площади и жилой."
   ]
  },
  {
   "cell_type": "code",
   "execution_count": 183,
   "metadata": {},
   "outputs": [],
   "source": [
    "a = df['total_area'] - df['living_area']\n",
    "b = 6\n",
    "for i in df['kitchen_area']:\n",
    "    if [df['living_area'] >0]:\n",
    "        df = df.fillna({'kitchen_area': a})\n",
    "    if [df['living_area'] == df['living_area']]:\n",
    "        df = df.fillna({'kitchen_area': b})"
   ]
  },
  {
   "cell_type": "markdown",
   "metadata": {},
   "source": [
    "Теперь заменим NaN в столбце с указанием жилой площади."
   ]
  },
  {
   "cell_type": "code",
   "execution_count": 184,
   "metadata": {},
   "outputs": [],
   "source": [
    "c = df['total_area'] - df['kitchen_area']\n",
    "for i in df['living_area']:\n",
    "    if [df['living_area'] == df['living_area']]:\n",
    "        df = df.fillna({'living_area': c})\n",
    "   "
   ]
  },
  {
   "cell_type": "code",
   "execution_count": 185,
   "metadata": {},
   "outputs": [
    {
     "data": {
      "text/plain": [
       "total_images                0\n",
       "last_price                  0\n",
       "total_area                  0\n",
       "first_day_exposition        0\n",
       "rooms                       0\n",
       "ceiling_height              0\n",
       "floors_total                0\n",
       "living_area                 0\n",
       "floor                       0\n",
       "is_apartment                0\n",
       "studio                      0\n",
       "open_plan                   0\n",
       "kitchen_area                0\n",
       "balcony                     0\n",
       "locality_name               0\n",
       "airports_nearest         5534\n",
       "cityCenters_nearest      5511\n",
       "parks_around3000            0\n",
       "parks_nearest           15586\n",
       "ponds_around3000            0\n",
       "ponds_nearest           14565\n",
       "days_exposition          3180\n",
       "dtype: int64"
      ]
     },
     "execution_count": 185,
     "metadata": {},
     "output_type": "execute_result"
    }
   ],
   "source": [
    "df.isna().sum() # посмотрим количество пропусков."
   ]
  },
  {
   "cell_type": "markdown",
   "metadata": {},
   "source": [
    "Итак пропуски остались, только в тех столбцах, где мы их решили оставить.\n"
   ]
  },
  {
   "cell_type": "markdown",
   "metadata": {},
   "source": []
  },
  {
   "cell_type": "markdown",
   "metadata": {},
   "source": [
    "### Замена типа данных"
   ]
  },
  {
   "cell_type": "markdown",
   "metadata": {},
   "source": [
    "Как уже написано ранее, произведем замену типов данных в определенных столбцах."
   ]
  },
  {
   "cell_type": "code",
   "execution_count": 186,
   "metadata": {},
   "outputs": [
    {
     "data": {
      "text/html": [
       "<div>\n",
       "<style scoped>\n",
       "    .dataframe tbody tr th:only-of-type {\n",
       "        vertical-align: middle;\n",
       "    }\n",
       "\n",
       "    .dataframe tbody tr th {\n",
       "        vertical-align: top;\n",
       "    }\n",
       "\n",
       "    .dataframe thead th {\n",
       "        text-align: right;\n",
       "    }\n",
       "</style>\n",
       "<table border=\"1\" class=\"dataframe\">\n",
       "  <thead>\n",
       "    <tr style=\"text-align: right;\">\n",
       "      <th></th>\n",
       "      <th>total_images</th>\n",
       "      <th>last_price</th>\n",
       "      <th>total_area</th>\n",
       "      <th>first_day_exposition</th>\n",
       "      <th>rooms</th>\n",
       "      <th>ceiling_height</th>\n",
       "      <th>floors_total</th>\n",
       "      <th>living_area</th>\n",
       "      <th>floor</th>\n",
       "      <th>is_apartment</th>\n",
       "      <th>...</th>\n",
       "      <th>kitchen_area</th>\n",
       "      <th>balcony</th>\n",
       "      <th>locality_name</th>\n",
       "      <th>airports_nearest</th>\n",
       "      <th>cityCenters_nearest</th>\n",
       "      <th>parks_around3000</th>\n",
       "      <th>parks_nearest</th>\n",
       "      <th>ponds_around3000</th>\n",
       "      <th>ponds_nearest</th>\n",
       "      <th>days_exposition</th>\n",
       "    </tr>\n",
       "  </thead>\n",
       "  <tbody>\n",
       "    <tr>\n",
       "      <td>0</td>\n",
       "      <td>20</td>\n",
       "      <td>13000000</td>\n",
       "      <td>108.00</td>\n",
       "      <td>2019-03-07T00:00:00</td>\n",
       "      <td>3</td>\n",
       "      <td>2.70</td>\n",
       "      <td>16</td>\n",
       "      <td>51.00</td>\n",
       "      <td>8</td>\n",
       "      <td>False</td>\n",
       "      <td>...</td>\n",
       "      <td>25.00</td>\n",
       "      <td>0</td>\n",
       "      <td>Санкт-Петербург</td>\n",
       "      <td>18863.0</td>\n",
       "      <td>16028.0</td>\n",
       "      <td>1.0</td>\n",
       "      <td>482.0</td>\n",
       "      <td>2.0</td>\n",
       "      <td>755.0</td>\n",
       "      <td>NaN</td>\n",
       "    </tr>\n",
       "    <tr>\n",
       "      <td>1</td>\n",
       "      <td>7</td>\n",
       "      <td>3350000</td>\n",
       "      <td>40.40</td>\n",
       "      <td>2018-12-04T00:00:00</td>\n",
       "      <td>1</td>\n",
       "      <td>2.60</td>\n",
       "      <td>11</td>\n",
       "      <td>18.60</td>\n",
       "      <td>1</td>\n",
       "      <td>False</td>\n",
       "      <td>...</td>\n",
       "      <td>11.00</td>\n",
       "      <td>2</td>\n",
       "      <td>посёлок Шушары</td>\n",
       "      <td>12817.0</td>\n",
       "      <td>18603.0</td>\n",
       "      <td>0.0</td>\n",
       "      <td>NaN</td>\n",
       "      <td>0.0</td>\n",
       "      <td>NaN</td>\n",
       "      <td>81.0</td>\n",
       "    </tr>\n",
       "    <tr>\n",
       "      <td>2</td>\n",
       "      <td>10</td>\n",
       "      <td>5196000</td>\n",
       "      <td>56.00</td>\n",
       "      <td>2015-08-20T00:00:00</td>\n",
       "      <td>2</td>\n",
       "      <td>2.70</td>\n",
       "      <td>5</td>\n",
       "      <td>34.30</td>\n",
       "      <td>4</td>\n",
       "      <td>False</td>\n",
       "      <td>...</td>\n",
       "      <td>8.30</td>\n",
       "      <td>0</td>\n",
       "      <td>Санкт-Петербург</td>\n",
       "      <td>21741.0</td>\n",
       "      <td>13933.0</td>\n",
       "      <td>1.0</td>\n",
       "      <td>90.0</td>\n",
       "      <td>2.0</td>\n",
       "      <td>574.0</td>\n",
       "      <td>558.0</td>\n",
       "    </tr>\n",
       "    <tr>\n",
       "      <td>3</td>\n",
       "      <td>0</td>\n",
       "      <td>64900000</td>\n",
       "      <td>159.00</td>\n",
       "      <td>2015-07-24T00:00:00</td>\n",
       "      <td>3</td>\n",
       "      <td>2.70</td>\n",
       "      <td>14</td>\n",
       "      <td>153.00</td>\n",
       "      <td>9</td>\n",
       "      <td>False</td>\n",
       "      <td>...</td>\n",
       "      <td>6.00</td>\n",
       "      <td>0</td>\n",
       "      <td>Санкт-Петербург</td>\n",
       "      <td>28098.0</td>\n",
       "      <td>6800.0</td>\n",
       "      <td>2.0</td>\n",
       "      <td>84.0</td>\n",
       "      <td>3.0</td>\n",
       "      <td>234.0</td>\n",
       "      <td>424.0</td>\n",
       "    </tr>\n",
       "    <tr>\n",
       "      <td>4</td>\n",
       "      <td>2</td>\n",
       "      <td>10000000</td>\n",
       "      <td>100.00</td>\n",
       "      <td>2018-06-19T00:00:00</td>\n",
       "      <td>2</td>\n",
       "      <td>3.03</td>\n",
       "      <td>14</td>\n",
       "      <td>32.00</td>\n",
       "      <td>13</td>\n",
       "      <td>False</td>\n",
       "      <td>...</td>\n",
       "      <td>41.00</td>\n",
       "      <td>0</td>\n",
       "      <td>Санкт-Петербург</td>\n",
       "      <td>31856.0</td>\n",
       "      <td>8098.0</td>\n",
       "      <td>2.0</td>\n",
       "      <td>112.0</td>\n",
       "      <td>1.0</td>\n",
       "      <td>48.0</td>\n",
       "      <td>121.0</td>\n",
       "    </tr>\n",
       "    <tr>\n",
       "      <td>...</td>\n",
       "      <td>...</td>\n",
       "      <td>...</td>\n",
       "      <td>...</td>\n",
       "      <td>...</td>\n",
       "      <td>...</td>\n",
       "      <td>...</td>\n",
       "      <td>...</td>\n",
       "      <td>...</td>\n",
       "      <td>...</td>\n",
       "      <td>...</td>\n",
       "      <td>...</td>\n",
       "      <td>...</td>\n",
       "      <td>...</td>\n",
       "      <td>...</td>\n",
       "      <td>...</td>\n",
       "      <td>...</td>\n",
       "      <td>...</td>\n",
       "      <td>...</td>\n",
       "      <td>...</td>\n",
       "      <td>...</td>\n",
       "      <td>...</td>\n",
       "    </tr>\n",
       "    <tr>\n",
       "      <td>23694</td>\n",
       "      <td>9</td>\n",
       "      <td>9700000</td>\n",
       "      <td>133.81</td>\n",
       "      <td>2017-03-21T00:00:00</td>\n",
       "      <td>3</td>\n",
       "      <td>3.70</td>\n",
       "      <td>5</td>\n",
       "      <td>73.30</td>\n",
       "      <td>3</td>\n",
       "      <td>False</td>\n",
       "      <td>...</td>\n",
       "      <td>13.83</td>\n",
       "      <td>0</td>\n",
       "      <td>Санкт-Петербург</td>\n",
       "      <td>24665.0</td>\n",
       "      <td>4232.0</td>\n",
       "      <td>1.0</td>\n",
       "      <td>796.0</td>\n",
       "      <td>3.0</td>\n",
       "      <td>381.0</td>\n",
       "      <td>NaN</td>\n",
       "    </tr>\n",
       "    <tr>\n",
       "      <td>23695</td>\n",
       "      <td>14</td>\n",
       "      <td>3100000</td>\n",
       "      <td>59.00</td>\n",
       "      <td>2018-01-15T00:00:00</td>\n",
       "      <td>3</td>\n",
       "      <td>2.60</td>\n",
       "      <td>5</td>\n",
       "      <td>38.00</td>\n",
       "      <td>4</td>\n",
       "      <td>False</td>\n",
       "      <td>...</td>\n",
       "      <td>8.50</td>\n",
       "      <td>0</td>\n",
       "      <td>Тосно</td>\n",
       "      <td>NaN</td>\n",
       "      <td>NaN</td>\n",
       "      <td>0.0</td>\n",
       "      <td>NaN</td>\n",
       "      <td>0.0</td>\n",
       "      <td>NaN</td>\n",
       "      <td>45.0</td>\n",
       "    </tr>\n",
       "    <tr>\n",
       "      <td>23696</td>\n",
       "      <td>18</td>\n",
       "      <td>2500000</td>\n",
       "      <td>56.70</td>\n",
       "      <td>2018-02-11T00:00:00</td>\n",
       "      <td>2</td>\n",
       "      <td>2.60</td>\n",
       "      <td>3</td>\n",
       "      <td>29.70</td>\n",
       "      <td>1</td>\n",
       "      <td>False</td>\n",
       "      <td>...</td>\n",
       "      <td>27.00</td>\n",
       "      <td>0</td>\n",
       "      <td>село Рождествено</td>\n",
       "      <td>NaN</td>\n",
       "      <td>NaN</td>\n",
       "      <td>0.0</td>\n",
       "      <td>NaN</td>\n",
       "      <td>0.0</td>\n",
       "      <td>NaN</td>\n",
       "      <td>NaN</td>\n",
       "    </tr>\n",
       "    <tr>\n",
       "      <td>23697</td>\n",
       "      <td>13</td>\n",
       "      <td>11475000</td>\n",
       "      <td>76.75</td>\n",
       "      <td>2017-03-28T00:00:00</td>\n",
       "      <td>2</td>\n",
       "      <td>3.00</td>\n",
       "      <td>17</td>\n",
       "      <td>53.45</td>\n",
       "      <td>12</td>\n",
       "      <td>False</td>\n",
       "      <td>...</td>\n",
       "      <td>23.30</td>\n",
       "      <td>2</td>\n",
       "      <td>Санкт-Петербург</td>\n",
       "      <td>39140.0</td>\n",
       "      <td>10364.0</td>\n",
       "      <td>2.0</td>\n",
       "      <td>173.0</td>\n",
       "      <td>3.0</td>\n",
       "      <td>196.0</td>\n",
       "      <td>602.0</td>\n",
       "    </tr>\n",
       "    <tr>\n",
       "      <td>23698</td>\n",
       "      <td>4</td>\n",
       "      <td>1350000</td>\n",
       "      <td>32.30</td>\n",
       "      <td>2017-07-21T00:00:00</td>\n",
       "      <td>1</td>\n",
       "      <td>2.60</td>\n",
       "      <td>5</td>\n",
       "      <td>12.30</td>\n",
       "      <td>1</td>\n",
       "      <td>False</td>\n",
       "      <td>...</td>\n",
       "      <td>9.00</td>\n",
       "      <td>0</td>\n",
       "      <td>поселок Новый Учхоз</td>\n",
       "      <td>NaN</td>\n",
       "      <td>NaN</td>\n",
       "      <td>0.0</td>\n",
       "      <td>NaN</td>\n",
       "      <td>0.0</td>\n",
       "      <td>NaN</td>\n",
       "      <td>NaN</td>\n",
       "    </tr>\n",
       "  </tbody>\n",
       "</table>\n",
       "<p>23650 rows × 22 columns</p>\n",
       "</div>"
      ],
      "text/plain": [
       "       total_images  last_price  total_area first_day_exposition  rooms  \\\n",
       "0                20    13000000      108.00  2019-03-07T00:00:00      3   \n",
       "1                 7     3350000       40.40  2018-12-04T00:00:00      1   \n",
       "2                10     5196000       56.00  2015-08-20T00:00:00      2   \n",
       "3                 0    64900000      159.00  2015-07-24T00:00:00      3   \n",
       "4                 2    10000000      100.00  2018-06-19T00:00:00      2   \n",
       "...             ...         ...         ...                  ...    ...   \n",
       "23694             9     9700000      133.81  2017-03-21T00:00:00      3   \n",
       "23695            14     3100000       59.00  2018-01-15T00:00:00      3   \n",
       "23696            18     2500000       56.70  2018-02-11T00:00:00      2   \n",
       "23697            13    11475000       76.75  2017-03-28T00:00:00      2   \n",
       "23698             4     1350000       32.30  2017-07-21T00:00:00      1   \n",
       "\n",
       "       ceiling_height  floors_total  living_area  floor  is_apartment  ...  \\\n",
       "0                2.70            16        51.00      8         False  ...   \n",
       "1                2.60            11        18.60      1         False  ...   \n",
       "2                2.70             5        34.30      4         False  ...   \n",
       "3                2.70            14       153.00      9         False  ...   \n",
       "4                3.03            14        32.00     13         False  ...   \n",
       "...               ...           ...          ...    ...           ...  ...   \n",
       "23694            3.70             5        73.30      3         False  ...   \n",
       "23695            2.60             5        38.00      4         False  ...   \n",
       "23696            2.60             3        29.70      1         False  ...   \n",
       "23697            3.00            17        53.45     12         False  ...   \n",
       "23698            2.60             5        12.30      1         False  ...   \n",
       "\n",
       "       kitchen_area  balcony        locality_name  airports_nearest  \\\n",
       "0             25.00        0      Санкт-Петербург           18863.0   \n",
       "1             11.00        2       посёлок Шушары           12817.0   \n",
       "2              8.30        0      Санкт-Петербург           21741.0   \n",
       "3              6.00        0      Санкт-Петербург           28098.0   \n",
       "4             41.00        0      Санкт-Петербург           31856.0   \n",
       "...             ...      ...                  ...               ...   \n",
       "23694         13.83        0      Санкт-Петербург           24665.0   \n",
       "23695          8.50        0                Тосно               NaN   \n",
       "23696         27.00        0     село Рождествено               NaN   \n",
       "23697         23.30        2      Санкт-Петербург           39140.0   \n",
       "23698          9.00        0  поселок Новый Учхоз               NaN   \n",
       "\n",
       "      cityCenters_nearest  parks_around3000  parks_nearest  ponds_around3000  \\\n",
       "0                 16028.0               1.0          482.0               2.0   \n",
       "1                 18603.0               0.0            NaN               0.0   \n",
       "2                 13933.0               1.0           90.0               2.0   \n",
       "3                  6800.0               2.0           84.0               3.0   \n",
       "4                  8098.0               2.0          112.0               1.0   \n",
       "...                   ...               ...            ...               ...   \n",
       "23694              4232.0               1.0          796.0               3.0   \n",
       "23695                 NaN               0.0            NaN               0.0   \n",
       "23696                 NaN               0.0            NaN               0.0   \n",
       "23697             10364.0               2.0          173.0               3.0   \n",
       "23698                 NaN               0.0            NaN               0.0   \n",
       "\n",
       "       ponds_nearest  days_exposition  \n",
       "0              755.0              NaN  \n",
       "1                NaN             81.0  \n",
       "2              574.0            558.0  \n",
       "3              234.0            424.0  \n",
       "4               48.0            121.0  \n",
       "...              ...              ...  \n",
       "23694          381.0              NaN  \n",
       "23695            NaN             45.0  \n",
       "23696            NaN              NaN  \n",
       "23697          196.0            602.0  \n",
       "23698            NaN              NaN  \n",
       "\n",
       "[23650 rows x 22 columns]"
      ]
     },
     "execution_count": 186,
     "metadata": {},
     "output_type": "execute_result"
    }
   ],
   "source": [
    "df.astype({'floors_total': 'int', 'balcony': 'int', 'last_price': 'int'})"
   ]
  },
  {
   "cell_type": "markdown",
   "metadata": {},
   "source": [
    "### Обработка дубликатов"
   ]
  },
  {
   "cell_type": "markdown",
   "metadata": {},
   "source": [
    "Проверим нашу таблицу на наличие полностью дублирующихся строк методом duplicated().sum()"
   ]
  },
  {
   "cell_type": "code",
   "execution_count": 187,
   "metadata": {},
   "outputs": [
    {
     "data": {
      "text/plain": [
       "0"
      ]
     },
     "execution_count": 187,
     "metadata": {},
     "output_type": "execute_result"
    }
   ],
   "source": [
    "df.duplicated().sum() #проверка наличия и подсчет дублирующихся строк"
   ]
  },
  {
   "cell_type": "raw",
   "metadata": {},
   "source": [
    "Дубликатов нет. Идем дальше. Проверим дубликаты в столбце с наименованием населенного пункта"
   ]
  },
  {
   "cell_type": "code",
   "execution_count": 188,
   "metadata": {},
   "outputs": [
    {
     "data": {
      "text/plain": [
       "array(['Санкт-Петербург', 'посёлок Шушары', 'городской посёлок Янино-1',\n",
       "       'посёлок Парголово', 'посёлок Мурино', 'Ломоносов', 'Сертолово',\n",
       "       'Петергоф', 'Пушкин', 'деревня Кудрово', 'Коммунар', 'Колпино',\n",
       "       'поселок городского типа Красный Бор', 'Гатчина', 'поселок Мурино',\n",
       "       'деревня Фёдоровское', 'Выборг', 'Кронштадт', 'Кировск',\n",
       "       'деревня Новое Девяткино', 'посёлок Металлострой',\n",
       "       'посёлок городского типа Лебяжье',\n",
       "       'посёлок городского типа Сиверский', 'поселок Молодцово',\n",
       "       'поселок городского типа Кузьмоловский',\n",
       "       'садовое товарищество Новая Ропша', 'Павловск',\n",
       "       'деревня Пикколово', 'Всеволожск', 'Волхов', 'Кингисепп',\n",
       "       'Приозерск', 'Сестрорецк', 'деревня Куттузи', 'посёлок Аннино',\n",
       "       'поселок городского типа Ефимовский', 'посёлок Плодовое',\n",
       "       'деревня Заклинье', 'поселок Торковичи', 'поселок Первомайское',\n",
       "       'Красное Село', 'посёлок Понтонный', 'Сясьстрой', 'деревня Старая',\n",
       "       'деревня Лесколово', 'посёлок Новый Свет', 'Сланцы',\n",
       "       'село Путилово', 'Ивангород', 'Мурино', 'Шлиссельбург',\n",
       "       'Никольское', 'Зеленогорск', 'Сосновый Бор', 'поселок Новый Свет',\n",
       "       'деревня Оржицы', 'деревня Кальтино', 'Кудрово',\n",
       "       'поселок Романовка', 'посёлок Бугры', 'поселок Бугры',\n",
       "       'поселок городского типа Рощино', 'Кириши', 'Луга', 'Волосово',\n",
       "       'Отрадное', 'село Павлово', 'поселок Оредеж', 'село Копорье',\n",
       "       'посёлок городского типа Красный Бор', 'посёлок Молодёжное',\n",
       "       'Тихвин', 'посёлок Победа', 'деревня Нурма',\n",
       "       'поселок городского типа Синявино', 'Тосно',\n",
       "       'посёлок городского типа Кузьмоловский', 'посёлок Стрельна',\n",
       "       'Бокситогорск', 'посёлок Александровская', 'деревня Лопухинка',\n",
       "       'Пикалёво', 'поселок Терволово',\n",
       "       'поселок городского типа Советский', 'Подпорожье',\n",
       "       'посёлок Петровское', 'посёлок городского типа Токсово',\n",
       "       'поселок Сельцо', 'посёлок городского типа Вырица',\n",
       "       'деревня Кипень', 'деревня Келози', 'деревня Вартемяги',\n",
       "       'посёлок Тельмана', 'поселок Севастьяново',\n",
       "       'городской поселок Большая Ижора', 'городской посёлок Павлово',\n",
       "       'деревня Агалатово', 'посёлок Новогорелово',\n",
       "       'городской посёлок Лесогорский', 'деревня Лаголово',\n",
       "       'поселок Цвелодубово', 'поселок городского типа Рахья',\n",
       "       'поселок городского типа Вырица', 'деревня Белогорка',\n",
       "       'поселок Заводской', 'городской посёлок Новоселье',\n",
       "       'деревня Большие Колпаны', 'деревня Горбунки', 'деревня Батово',\n",
       "       'деревня Заневка', 'деревня Иссад', 'Приморск',\n",
       "       'городской посёлок Фёдоровское', 'деревня Мистолово',\n",
       "       'Новая Ладога', 'поселок Зимитицы', 'поселок Барышево',\n",
       "       'деревня Разметелево', 'поселок городского типа имени Свердлова',\n",
       "       'деревня Пеники', 'поселок Рябово', 'деревня Пудомяги',\n",
       "       'поселок станции Корнево', 'деревня Низино', 'деревня Бегуницы',\n",
       "       'посёлок Поляны', 'городской посёлок Мга', 'поселок Елизаветино',\n",
       "       'посёлок городского типа Кузнечное', 'деревня Колтуши',\n",
       "       'поселок Запорожское', 'посёлок городского типа Рощино',\n",
       "       'деревня Гостилицы', 'деревня Малое Карлино',\n",
       "       'посёлок Мичуринское', 'посёлок городского типа имени Морозова',\n",
       "       'посёлок Песочный', 'посёлок Сосново', 'деревня Аро',\n",
       "       'поселок Ильичёво', 'посёлок городского типа Тайцы',\n",
       "       'деревня Малое Верево', 'деревня Извара', 'поселок станции Вещево',\n",
       "       'село Паша', 'деревня Калитино',\n",
       "       'посёлок городского типа Ульяновка', 'деревня Чудской Бор',\n",
       "       'поселок городского типа Дубровка', 'деревня Мины',\n",
       "       'поселок Войсковицы', 'посёлок городского типа имени Свердлова',\n",
       "       'деревня Коркино', 'посёлок Ропша',\n",
       "       'поселок городского типа Приладожский', 'посёлок Щеглово',\n",
       "       'посёлок Гаврилово', 'Лодейное Поле', 'деревня Рабитицы',\n",
       "       'поселок городского типа Никольский', 'деревня Кузьмолово',\n",
       "       'деревня Малые Колпаны', 'поселок Тельмана',\n",
       "       'посёлок Петро-Славянка', 'городской посёлок Назия',\n",
       "       'посёлок Репино', 'посёлок Ильичёво', 'поселок Углово',\n",
       "       'поселок Старая Малукса', 'садовое товарищество Рахья',\n",
       "       'поселок Аннино', 'поселок Победа', 'деревня Меньково',\n",
       "       'деревня Старые Бегуницы', 'посёлок Сапёрный', 'поселок Семрино',\n",
       "       'поселок Гаврилово', 'поселок Глажево', 'поселок Кобринское',\n",
       "       'деревня Гарболово', 'деревня Юкки',\n",
       "       'поселок станции Приветнинское', 'деревня Мануйлово',\n",
       "       'деревня Пчева', 'поселок Поляны', 'поселок Цвылёво',\n",
       "       'поселок Мельниково', 'посёлок Пудость', 'посёлок Усть-Луга',\n",
       "       'Светогорск', 'Любань', 'поселок Селезнёво',\n",
       "       'поселок городского типа Рябово', 'Каменногорск', 'деревня Кривко',\n",
       "       'поселок Глебычево', 'деревня Парицы', 'поселок Жилпосёлок',\n",
       "       'посёлок городского типа Мга', 'городской поселок Янино-1',\n",
       "       'посёлок Войскорово', 'село Никольское', 'посёлок Терволово',\n",
       "       'поселок Стеклянный', 'посёлок городского типа Важины',\n",
       "       'посёлок Мыза-Ивановка', 'село Русско-Высоцкое',\n",
       "       'поселок городского типа Лебяжье',\n",
       "       'поселок городского типа Форносово', 'село Старая Ладога',\n",
       "       'поселок Житково', 'городской посёлок Виллози', 'деревня Лампово',\n",
       "       'деревня Шпаньково', 'деревня Лаврики', 'посёлок Сумино',\n",
       "       'посёлок Возрождение', 'деревня Старосиверская',\n",
       "       'посёлок Кикерино', 'поселок Возрождение',\n",
       "       'деревня Старое Хинколово', 'посёлок Пригородный',\n",
       "       'посёлок Торфяное', 'городской посёлок Будогощь',\n",
       "       'поселок Суходолье', 'поселок Красная Долина', 'деревня Хапо-Ое',\n",
       "       'поселок городского типа Дружная Горка', 'поселок Лисий Нос',\n",
       "       'деревня Яльгелево', 'посёлок Стеклянный', 'село Рождествено',\n",
       "       'деревня Старополье', 'посёлок Левашово', 'деревня Сяськелево',\n",
       "       'деревня Камышовка',\n",
       "       'садоводческое некоммерческое товарищество Лесная Поляна',\n",
       "       'деревня Хязельки', 'поселок Жилгородок',\n",
       "       'посёлок городского типа Павлово', 'деревня Ялгино',\n",
       "       'поселок Новый Учхоз', 'городской посёлок Рощино',\n",
       "       'поселок Гончарово', 'поселок Почап', 'посёлок Сапёрное',\n",
       "       'посёлок Платформа 69-й километр', 'поселок Каложицы',\n",
       "       'деревня Фалилеево', 'деревня Пельгора',\n",
       "       'поселок городского типа Лесогорский', 'деревня Торошковичи',\n",
       "       'посёлок Белоостров', 'посёлок Алексеевка', 'поселок Серебрянский',\n",
       "       'поселок Лукаши', 'поселок Петровское', 'деревня Щеглово',\n",
       "       'поселок Мичуринское', 'деревня Тарасово', 'поселок Кингисеппский',\n",
       "       'посёлок при железнодорожной станции Вещево', 'поселок Ушаки',\n",
       "       'деревня Котлы', 'деревня Сижно', 'деревня Торосово',\n",
       "       'посёлок Форт Красная Горка', 'поселок городского типа Токсово',\n",
       "       'деревня Новолисино', 'посёлок станции Громово', 'деревня Глинка',\n",
       "       'посёлок Мельниково', 'поселок городского типа Назия',\n",
       "       'деревня Старая Пустошь', 'поселок Коммунары', 'поселок Починок',\n",
       "       'посёлок городского типа Вознесенье', 'деревня Разбегаево',\n",
       "       'посёлок городского типа Рябово', 'поселок Гладкое',\n",
       "       'посёлок при железнодорожной станции Приветнинское',\n",
       "       'поселок Тёсово-4', 'посёлок Жилгородок', 'деревня Бор',\n",
       "       'посёлок Коробицыно', 'деревня Большая Вруда', 'деревня Курковицы',\n",
       "       'посёлок Лисий Нос', 'городской посёлок Советский',\n",
       "       'посёлок Кобралово', 'деревня Суоранда', 'поселок Кобралово',\n",
       "       'поселок городского типа Кондратьево',\n",
       "       'коттеджный поселок Счастье', 'поселок Любань', 'деревня Реброво',\n",
       "       'деревня Зимитицы', 'деревня Тойворово', 'поселок Семиозерье',\n",
       "       'поселок Лесное', 'поселок Совхозный', 'поселок Усть-Луга',\n",
       "       'посёлок Ленинское', 'посёлок Суйда',\n",
       "       'посёлок городского типа Форносово', 'деревня Нижние Осельки',\n",
       "       'посёлок станции Свирь', 'поселок Перово', 'Высоцк',\n",
       "       'поселок Гарболово', 'село Шум', 'поселок Котельский',\n",
       "       'поселок станции Лужайка', 'деревня Большая Пустомержа',\n",
       "       'поселок Красносельское', 'деревня Вахнова Кара', 'деревня Пижма',\n",
       "       'коттеджный поселок Кивеннапа Север', 'поселок Коробицыно',\n",
       "       'поселок Ромашки', 'посёлок Перово', 'деревня Каськово',\n",
       "       'деревня Куровицы', 'посёлок Плоское', 'поселок Сумино',\n",
       "       'поселок городского типа Большая Ижора', 'поселок Кирпичное',\n",
       "       'деревня Ям-Тесово', 'деревня Раздолье', 'деревня Терпилицы',\n",
       "       'посёлок Шугозеро', 'деревня Ваганово', 'поселок Пушное',\n",
       "       'садовое товарищество Садко', 'посёлок Усть-Ижора',\n",
       "       'деревня Выскатка', 'городской посёлок Свирьстрой',\n",
       "       'поселок Громово', 'деревня Кисельня', 'посёлок Старая Малукса',\n",
       "       'деревня Трубников Бор', 'поселок Калитино',\n",
       "       'посёлок Высокоключевой', 'садовое товарищество Приладожский',\n",
       "       'посёлок Пансионат Зелёный Бор', 'деревня Ненимяки',\n",
       "       'поселок Пансионат Зелёный Бор', 'деревня Снегирёвка',\n",
       "       'деревня Рапполово', 'деревня Пустынка', 'поселок Рабитицы',\n",
       "       'деревня Большой Сабск', 'деревня Русско', 'деревня Лупполово',\n",
       "       'деревня Большое Рейзино', 'деревня Малая Романовка',\n",
       "       'поселок Дружноселье', 'поселок Пчевжа', 'поселок Володарское',\n",
       "       'деревня Нижняя', 'коттеджный посёлок Лесное', 'деревня Тихковицы',\n",
       "       'деревня Борисова Грива', 'посёлок Дзержинского'], dtype=object)"
      ]
     },
     "execution_count": 188,
     "metadata": {},
     "output_type": "execute_result"
    }
   ],
   "source": [
    "df['locality_name'].unique()"
   ]
  },
  {
   "cell_type": "markdown",
   "metadata": {},
   "source": [
    "Как и ожидалось, здеть дубликаты есть, причем не явные. Напишем функцию для их замены."
   ]
  },
  {
   "cell_type": "code",
   "execution_count": 189,
   "metadata": {},
   "outputs": [],
   "source": [
    "def replase_locality_name(wrong_names, correct_name):\n",
    "    for wrong_name in wrong_names:\n",
    "        df['locality_name'] = df['locality_name'].replace(wrong_name, correct_name, regex=True)\n",
    "                                 \n",
    "duplicates = ['посёлок', 'поселок городского типа', 'посёлок городского типа', 'городской поселок']\n",
    "locality_name = 'поселок'\n",
    "replase_locality_name(duplicates, locality_name)"
   ]
  },
  {
   "cell_type": "markdown",
   "metadata": {},
   "source": [
    "Все поселки мы привели к единому формату."
   ]
  },
  {
   "cell_type": "markdown",
   "metadata": {},
   "source": [
    "Среди дупликатов еще встречается несколько вариантов написания поселка Мурино. Поскольку он второй после Санкт-Петербурга по повторяемости, то объединим все названия в одно. Для этого напишем еще одну функцию"
   ]
  },
  {
   "cell_type": "code",
   "execution_count": 190,
   "metadata": {},
   "outputs": [],
   "source": [
    "def replase_locality_name(wrong_names, correct_name):\n",
    "    for wrong_name in wrong_names:\n",
    "        df['locality_name'] = df['locality_name'].replace(wrong_name, correct_name)\n",
    "                                 \n",
    "duplicates = ['Мурино']\n",
    "locality_name = 'поселок Мурино'\n",
    "replase_locality_name(duplicates, locality_name)"
   ]
  },
  {
   "cell_type": "code",
   "execution_count": 191,
   "metadata": {},
   "outputs": [
    {
     "data": {
      "text/plain": [
       "array(['Бокситогорск', 'Волосово', 'Волхов', 'Всеволожск', 'Выборг',\n",
       "       'Высоцк', 'Гатчина', 'Зеленогорск', 'Ивангород', 'Каменногорск',\n",
       "       'Кингисепп', 'Кириши', 'Кировск', 'Колпино', 'Коммунар',\n",
       "       'Красное Село', 'Кронштадт', 'Кудрово', 'Лодейное Поле',\n",
       "       'Ломоносов', 'Луга', 'Любань', 'Никольское', 'Новая Ладога',\n",
       "       'Отрадное', 'Павловск', 'Петергоф', 'Пикалёво', 'Подпорожье',\n",
       "       'Приморск', 'Приозерск', 'Пушкин', 'Санкт-Петербург', 'Светогорск',\n",
       "       'Сертолово', 'Сестрорецк', 'Сланцы', 'Сосновый Бор', 'Сясьстрой',\n",
       "       'Тихвин', 'Тосно', 'Шлиссельбург', 'деревня Агалатово',\n",
       "       'деревня Аро', 'деревня Батово', 'деревня Бегуницы',\n",
       "       'деревня Белогорка', 'деревня Большая Вруда',\n",
       "       'деревня Большая Пустомержа', 'деревня Большие Колпаны',\n",
       "       'деревня Большое Рейзино', 'деревня Большой Сабск', 'деревня Бор',\n",
       "       'деревня Борисова Грива', 'деревня Ваганово', 'деревня Вартемяги',\n",
       "       'деревня Вахнова Кара', 'деревня Выскатка', 'деревня Гарболово',\n",
       "       'деревня Глинка', 'деревня Горбунки', 'деревня Гостилицы',\n",
       "       'деревня Заклинье', 'деревня Заневка', 'деревня Зимитицы',\n",
       "       'деревня Извара', 'деревня Иссад', 'деревня Калитино',\n",
       "       'деревня Кальтино', 'деревня Камышовка', 'деревня Каськово',\n",
       "       'деревня Келози', 'деревня Кипень', 'деревня Кисельня',\n",
       "       'деревня Колтуши', 'деревня Коркино', 'деревня Котлы',\n",
       "       'деревня Кривко', 'деревня Кудрово', 'деревня Кузьмолово',\n",
       "       'деревня Курковицы', 'деревня Куровицы', 'деревня Куттузи',\n",
       "       'деревня Лаврики', 'деревня Лаголово', 'деревня Лампово',\n",
       "       'деревня Лесколово', 'деревня Лопухинка', 'деревня Лупполово',\n",
       "       'деревня Малая Романовка', 'деревня Малое Верево',\n",
       "       'деревня Малое Карлино', 'деревня Малые Колпаны',\n",
       "       'деревня Мануйлово', 'деревня Меньково', 'деревня Мины',\n",
       "       'деревня Мистолово', 'деревня Ненимяки', 'деревня Нижние Осельки',\n",
       "       'деревня Нижняя', 'деревня Низино', 'деревня Новое Девяткино',\n",
       "       'деревня Новолисино', 'деревня Нурма', 'деревня Оржицы',\n",
       "       'деревня Парицы', 'деревня Пельгора', 'деревня Пеники',\n",
       "       'деревня Пижма', 'деревня Пикколово', 'деревня Пудомяги',\n",
       "       'деревня Пустынка', 'деревня Пчева', 'деревня Рабитицы',\n",
       "       'деревня Разбегаево', 'деревня Раздолье', 'деревня Разметелево',\n",
       "       'деревня Рапполово', 'деревня Реброво', 'деревня Русско',\n",
       "       'деревня Сижно', 'деревня Снегирёвка', 'деревня Старая',\n",
       "       'деревня Старая Пустошь', 'деревня Старое Хинколово',\n",
       "       'деревня Старополье', 'деревня Старосиверская',\n",
       "       'деревня Старые Бегуницы', 'деревня Суоранда',\n",
       "       'деревня Сяськелево', 'деревня Тарасово', 'деревня Терпилицы',\n",
       "       'деревня Тихковицы', 'деревня Тойворово', 'деревня Торосово',\n",
       "       'деревня Торошковичи', 'деревня Трубников Бор',\n",
       "       'деревня Фалилеево', 'деревня Фёдоровское', 'деревня Хапо-Ое',\n",
       "       'деревня Хязельки', 'деревня Чудской Бор', 'деревня Шпаньково',\n",
       "       'деревня Щеглово', 'деревня Юкки', 'деревня Ялгино',\n",
       "       'деревня Яльгелево', 'деревня Ям-Тесово',\n",
       "       'коттеджный поселок Кивеннапа Север', 'коттеджный поселок Лесное',\n",
       "       'коттеджный поселок Счастье', 'поселок Александровская',\n",
       "       'поселок Алексеевка', 'поселок Аннино', 'поселок Барышево',\n",
       "       'поселок Белоостров', 'поселок Большая Ижора', 'поселок Бугры',\n",
       "       'поселок Будогощь', 'поселок Важины', 'поселок Виллози',\n",
       "       'поселок Вознесенье', 'поселок Возрождение', 'поселок Войсковицы',\n",
       "       'поселок Войскорово', 'поселок Володарское', 'поселок Вырица',\n",
       "       'поселок Высокоключевой', 'поселок Гаврилово', 'поселок Гарболово',\n",
       "       'поселок Гладкое', 'поселок Глажево', 'поселок Глебычево',\n",
       "       'поселок Гончарово', 'поселок Громово', 'поселок Дзержинского',\n",
       "       'поселок Дружная Горка', 'поселок Дружноселье', 'поселок Дубровка',\n",
       "       'поселок Елизаветино', 'поселок Ефимовский', 'поселок Жилгородок',\n",
       "       'поселок Жилпоселок', 'поселок Житково', 'поселок Заводской',\n",
       "       'поселок Запорожское', 'поселок Зимитицы', 'поселок Ильичёво',\n",
       "       'поселок Калитино', 'поселок Каложицы', 'поселок Кикерино',\n",
       "       'поселок Кингисеппский', 'поселок Кирпичное', 'поселок Кобралово',\n",
       "       'поселок Кобринское', 'поселок Коммунары', 'поселок Кондратьево',\n",
       "       'поселок Коробицыно', 'поселок Котельский',\n",
       "       'поселок Красная Долина', 'поселок Красносельское',\n",
       "       'поселок Красный Бор', 'поселок Кузнечное',\n",
       "       'поселок Кузьмоловский', 'поселок Лебяжье', 'поселок Левашово',\n",
       "       'поселок Ленинское', 'поселок Лесное', 'поселок Лесогорский',\n",
       "       'поселок Лисий Нос', 'поселок Лукаши', 'поселок Любань',\n",
       "       'поселок Мга', 'поселок Мельниково', 'поселок Металлострой',\n",
       "       'поселок Мичуринское', 'поселок Молодцово', 'поселок Молодёжное',\n",
       "       'поселок Мурино', 'поселок Мыза-Ивановка', 'поселок Назия',\n",
       "       'поселок Никольский', 'поселок Новогорелово', 'поселок Новоселье',\n",
       "       'поселок Новый Свет', 'поселок Новый Учхоз', 'поселок Оредеж',\n",
       "       'поселок Павлово', 'поселок Пансионат Зелёный Бор',\n",
       "       'поселок Парголово', 'поселок Первомайское', 'поселок Перово',\n",
       "       'поселок Песочный', 'поселок Петро-Славянка', 'поселок Петровское',\n",
       "       'поселок Платформа 69-й километр', 'поселок Плодовое',\n",
       "       'поселок Плоское', 'поселок Победа', 'поселок Поляны',\n",
       "       'поселок Понтонный', 'поселок Почап', 'поселок Починок',\n",
       "       'поселок Пригородный', 'поселок Приладожский', 'поселок Пудость',\n",
       "       'поселок Пушное', 'поселок Пчевжа', 'поселок Рабитицы',\n",
       "       'поселок Рахья', 'поселок Репино', 'поселок Романовка',\n",
       "       'поселок Ромашки', 'поселок Ропша', 'поселок Рощино',\n",
       "       'поселок Рябово', 'поселок Сапёрное', 'поселок Сапёрный',\n",
       "       'поселок Свирьстрой', 'поселок Севастьяново', 'поселок Селезнёво',\n",
       "       'поселок Сельцо', 'поселок Семиозерье', 'поселок Семрино',\n",
       "       'поселок Серебрянский', 'поселок Сиверский', 'поселок Синявино',\n",
       "       'поселок Советский', 'поселок Совхозный', 'поселок Сосново',\n",
       "       'поселок Старая Малукса', 'поселок Стеклянный', 'поселок Стрельна',\n",
       "       'поселок Суйда', 'поселок Сумино', 'поселок Суходолье',\n",
       "       'поселок Тайцы', 'поселок Тельмана', 'поселок Терволово',\n",
       "       'поселок Токсово', 'поселок Торковичи', 'поселок Торфяное',\n",
       "       'поселок Тёсово-4', 'поселок Углово', 'поселок Ульяновка',\n",
       "       'поселок Усть-Ижора', 'поселок Усть-Луга', 'поселок Ушаки',\n",
       "       'поселок Форносово', 'поселок Форт Красная Горка',\n",
       "       'поселок Фёдоровское', 'поселок Цвелодубово', 'поселок Цвылёво',\n",
       "       'поселок Шугозеро', 'поселок Шушары', 'поселок Щеглово',\n",
       "       'поселок Янино-1', 'поселок имени Морозова',\n",
       "       'поселок имени Свердлова',\n",
       "       'поселок при железнодорожной станции Вещево',\n",
       "       'поселок при железнодорожной станции Приветнинское',\n",
       "       'поселок станции Вещево', 'поселок станции Громово',\n",
       "       'поселок станции Корнево', 'поселок станции Лужайка',\n",
       "       'поселок станции Приветнинское', 'поселок станции Свирь',\n",
       "       'садоводческое некоммерческое товарищество Лесная Поляна',\n",
       "       'садовое товарищество Новая Ропша',\n",
       "       'садовое товарищество Приладожский', 'садовое товарищество Рахья',\n",
       "       'садовое товарищество Садко', 'село Копорье', 'село Никольское',\n",
       "       'село Павлово', 'село Паша', 'село Путилово', 'село Рождествено',\n",
       "       'село Русско-Высоцкое', 'село Старая Ладога', 'село Шум'],\n",
       "      dtype=object)"
      ]
     },
     "execution_count": 191,
     "metadata": {},
     "output_type": "execute_result"
    }
   ],
   "source": [
    "df['locality_name'].sort_values().unique() #проверим уникальные значения в столбце"
   ]
  },
  {
   "cell_type": "markdown",
   "metadata": {},
   "source": [
    "Дубликаты успешно исправлены. \n"
   ]
  },
  {
   "cell_type": "markdown",
   "metadata": {},
   "source": [
    "**Вывод**"
   ]
  },
  {
   "cell_type": "markdown",
   "metadata": {},
   "source": [
    "В этои разделе мы постарались исправить ошибки и неточности в данных.\n",
    "- заменили пропуски, где сочли это уместным\n",
    "- часть пропусков оставили без изменений, с пояснением, почему мы это сделали.\n",
    "- изменили тип данных, и теперь они должны лучше восприниматься при чтении таблицы\n",
    "- удалили дубликаты"
   ]
  },
  {
   "cell_type": "markdown",
   "metadata": {},
   "source": [
    "## Расчёты и добавление результатов в таблицу"
   ]
  },
  {
   "cell_type": "markdown",
   "metadata": {},
   "source": [
    "Для решения поставленных задач, нам понадобятся дополнительные столбики с данными."
   ]
  },
  {
   "cell_type": "markdown",
   "metadata": {},
   "source": [
    "Расчитаем цену квадратного метра для каждой стороки:"
   ]
  },
  {
   "cell_type": "code",
   "execution_count": 192,
   "metadata": {},
   "outputs": [],
   "source": [
    "df['unin_price'] = round(df['last_price'] / df['total_area']) # расчет цены за кв.м и округление значения до целого значения\n"
   ]
  },
  {
   "cell_type": "markdown",
   "metadata": {},
   "source": [
    "Внесем три дополнительных столбца соотвeтствующих году, месяцу и дню недели даты публикации объявления:"
   ]
  },
  {
   "cell_type": "code",
   "execution_count": 193,
   "metadata": {},
   "outputs": [
    {
     "data": {
      "text/html": [
       "<div>\n",
       "<style scoped>\n",
       "    .dataframe tbody tr th:only-of-type {\n",
       "        vertical-align: middle;\n",
       "    }\n",
       "\n",
       "    .dataframe tbody tr th {\n",
       "        vertical-align: top;\n",
       "    }\n",
       "\n",
       "    .dataframe thead th {\n",
       "        text-align: right;\n",
       "    }\n",
       "</style>\n",
       "<table border=\"1\" class=\"dataframe\">\n",
       "  <thead>\n",
       "    <tr style=\"text-align: right;\">\n",
       "      <th></th>\n",
       "      <th>total_images</th>\n",
       "      <th>last_price</th>\n",
       "      <th>total_area</th>\n",
       "      <th>first_day_exposition</th>\n",
       "      <th>rooms</th>\n",
       "      <th>ceiling_height</th>\n",
       "      <th>floors_total</th>\n",
       "      <th>living_area</th>\n",
       "      <th>floor</th>\n",
       "      <th>is_apartment</th>\n",
       "      <th>...</th>\n",
       "      <th>cityCenters_nearest</th>\n",
       "      <th>parks_around3000</th>\n",
       "      <th>parks_nearest</th>\n",
       "      <th>ponds_around3000</th>\n",
       "      <th>ponds_nearest</th>\n",
       "      <th>days_exposition</th>\n",
       "      <th>unin_price</th>\n",
       "      <th>year</th>\n",
       "      <th>month</th>\n",
       "      <th>weekday</th>\n",
       "    </tr>\n",
       "  </thead>\n",
       "  <tbody>\n",
       "    <tr>\n",
       "      <td>0</td>\n",
       "      <td>20</td>\n",
       "      <td>13000000.0</td>\n",
       "      <td>108.0</td>\n",
       "      <td>2019-03-07</td>\n",
       "      <td>3</td>\n",
       "      <td>2.70</td>\n",
       "      <td>16.0</td>\n",
       "      <td>51.0</td>\n",
       "      <td>8</td>\n",
       "      <td>False</td>\n",
       "      <td>...</td>\n",
       "      <td>16028.0</td>\n",
       "      <td>1.0</td>\n",
       "      <td>482.0</td>\n",
       "      <td>2.0</td>\n",
       "      <td>755.0</td>\n",
       "      <td>NaN</td>\n",
       "      <td>120370.0</td>\n",
       "      <td>2019</td>\n",
       "      <td>3</td>\n",
       "      <td>3</td>\n",
       "    </tr>\n",
       "    <tr>\n",
       "      <td>1</td>\n",
       "      <td>7</td>\n",
       "      <td>3350000.0</td>\n",
       "      <td>40.4</td>\n",
       "      <td>2018-12-04</td>\n",
       "      <td>1</td>\n",
       "      <td>2.60</td>\n",
       "      <td>11.0</td>\n",
       "      <td>18.6</td>\n",
       "      <td>1</td>\n",
       "      <td>False</td>\n",
       "      <td>...</td>\n",
       "      <td>18603.0</td>\n",
       "      <td>0.0</td>\n",
       "      <td>NaN</td>\n",
       "      <td>0.0</td>\n",
       "      <td>NaN</td>\n",
       "      <td>81.0</td>\n",
       "      <td>82921.0</td>\n",
       "      <td>2018</td>\n",
       "      <td>12</td>\n",
       "      <td>1</td>\n",
       "    </tr>\n",
       "    <tr>\n",
       "      <td>2</td>\n",
       "      <td>10</td>\n",
       "      <td>5196000.0</td>\n",
       "      <td>56.0</td>\n",
       "      <td>2015-08-20</td>\n",
       "      <td>2</td>\n",
       "      <td>2.70</td>\n",
       "      <td>5.0</td>\n",
       "      <td>34.3</td>\n",
       "      <td>4</td>\n",
       "      <td>False</td>\n",
       "      <td>...</td>\n",
       "      <td>13933.0</td>\n",
       "      <td>1.0</td>\n",
       "      <td>90.0</td>\n",
       "      <td>2.0</td>\n",
       "      <td>574.0</td>\n",
       "      <td>558.0</td>\n",
       "      <td>92786.0</td>\n",
       "      <td>2015</td>\n",
       "      <td>8</td>\n",
       "      <td>3</td>\n",
       "    </tr>\n",
       "    <tr>\n",
       "      <td>3</td>\n",
       "      <td>0</td>\n",
       "      <td>64900000.0</td>\n",
       "      <td>159.0</td>\n",
       "      <td>2015-07-24</td>\n",
       "      <td>3</td>\n",
       "      <td>2.70</td>\n",
       "      <td>14.0</td>\n",
       "      <td>153.0</td>\n",
       "      <td>9</td>\n",
       "      <td>False</td>\n",
       "      <td>...</td>\n",
       "      <td>6800.0</td>\n",
       "      <td>2.0</td>\n",
       "      <td>84.0</td>\n",
       "      <td>3.0</td>\n",
       "      <td>234.0</td>\n",
       "      <td>424.0</td>\n",
       "      <td>408176.0</td>\n",
       "      <td>2015</td>\n",
       "      <td>7</td>\n",
       "      <td>4</td>\n",
       "    </tr>\n",
       "    <tr>\n",
       "      <td>4</td>\n",
       "      <td>2</td>\n",
       "      <td>10000000.0</td>\n",
       "      <td>100.0</td>\n",
       "      <td>2018-06-19</td>\n",
       "      <td>2</td>\n",
       "      <td>3.03</td>\n",
       "      <td>14.0</td>\n",
       "      <td>32.0</td>\n",
       "      <td>13</td>\n",
       "      <td>False</td>\n",
       "      <td>...</td>\n",
       "      <td>8098.0</td>\n",
       "      <td>2.0</td>\n",
       "      <td>112.0</td>\n",
       "      <td>1.0</td>\n",
       "      <td>48.0</td>\n",
       "      <td>121.0</td>\n",
       "      <td>100000.0</td>\n",
       "      <td>2018</td>\n",
       "      <td>6</td>\n",
       "      <td>1</td>\n",
       "    </tr>\n",
       "  </tbody>\n",
       "</table>\n",
       "<p>5 rows × 26 columns</p>\n",
       "</div>"
      ],
      "text/plain": [
       "   total_images  last_price  total_area first_day_exposition  rooms  \\\n",
       "0            20  13000000.0       108.0           2019-03-07      3   \n",
       "1             7   3350000.0        40.4           2018-12-04      1   \n",
       "2            10   5196000.0        56.0           2015-08-20      2   \n",
       "3             0  64900000.0       159.0           2015-07-24      3   \n",
       "4             2  10000000.0       100.0           2018-06-19      2   \n",
       "\n",
       "   ceiling_height  floors_total  living_area  floor  is_apartment  ...  \\\n",
       "0            2.70          16.0         51.0      8         False  ...   \n",
       "1            2.60          11.0         18.6      1         False  ...   \n",
       "2            2.70           5.0         34.3      4         False  ...   \n",
       "3            2.70          14.0        153.0      9         False  ...   \n",
       "4            3.03          14.0         32.0     13         False  ...   \n",
       "\n",
       "   cityCenters_nearest  parks_around3000  parks_nearest  ponds_around3000  \\\n",
       "0              16028.0               1.0          482.0               2.0   \n",
       "1              18603.0               0.0            NaN               0.0   \n",
       "2              13933.0               1.0           90.0               2.0   \n",
       "3               6800.0               2.0           84.0               3.0   \n",
       "4               8098.0               2.0          112.0               1.0   \n",
       "\n",
       "  ponds_nearest  days_exposition  unin_price  year  month  weekday  \n",
       "0         755.0              NaN    120370.0  2019      3        3  \n",
       "1           NaN             81.0     82921.0  2018     12        1  \n",
       "2         574.0            558.0     92786.0  2015      8        3  \n",
       "3         234.0            424.0    408176.0  2015      7        4  \n",
       "4          48.0            121.0    100000.0  2018      6        1  \n",
       "\n",
       "[5 rows x 26 columns]"
      ]
     },
     "metadata": {},
     "output_type": "display_data"
    }
   ],
   "source": [
    "df['first_day_exposition'] = pd.to_datetime(df['first_day_exposition'], format='%Y-%m-%d %H:%M') # изменяем формат даты\n",
    "df['year'] = df['first_day_exposition'].dt.year # создания столбика с годом размещения объявления\n",
    "df['month'] = df['first_day_exposition'].dt.month # создания столбика с месяцем размещения объявления\n",
    "df['weekday'] = df['first_day_exposition'].dt.weekday # создания столбика с днем недели размещения объявления\n",
    "display(df.head()) #проверим первые 5 строк"
   ]
  },
  {
   "cell_type": "markdown",
   "metadata": {},
   "source": [
    "Отнесем этаж квартиры к определенной группе: первый, последний и другое:"
   ]
  },
  {
   "cell_type": "markdown",
   "metadata": {},
   "source": [
    "Для этого напишем функцию:"
   ]
  },
  {
   "cell_type": "code",
   "execution_count": 194,
   "metadata": {},
   "outputs": [
    {
     "data": {
      "text/html": [
       "<div>\n",
       "<style scoped>\n",
       "    .dataframe tbody tr th:only-of-type {\n",
       "        vertical-align: middle;\n",
       "    }\n",
       "\n",
       "    .dataframe tbody tr th {\n",
       "        vertical-align: top;\n",
       "    }\n",
       "\n",
       "    .dataframe thead th {\n",
       "        text-align: right;\n",
       "    }\n",
       "</style>\n",
       "<table border=\"1\" class=\"dataframe\">\n",
       "  <thead>\n",
       "    <tr style=\"text-align: right;\">\n",
       "      <th></th>\n",
       "      <th>total_images</th>\n",
       "      <th>last_price</th>\n",
       "      <th>total_area</th>\n",
       "      <th>first_day_exposition</th>\n",
       "      <th>rooms</th>\n",
       "      <th>ceiling_height</th>\n",
       "      <th>floors_total</th>\n",
       "      <th>living_area</th>\n",
       "      <th>floor</th>\n",
       "      <th>is_apartment</th>\n",
       "      <th>...</th>\n",
       "      <th>parks_around3000</th>\n",
       "      <th>parks_nearest</th>\n",
       "      <th>ponds_around3000</th>\n",
       "      <th>ponds_nearest</th>\n",
       "      <th>days_exposition</th>\n",
       "      <th>unin_price</th>\n",
       "      <th>year</th>\n",
       "      <th>month</th>\n",
       "      <th>weekday</th>\n",
       "      <th>floor_group</th>\n",
       "    </tr>\n",
       "  </thead>\n",
       "  <tbody>\n",
       "    <tr>\n",
       "      <td>0</td>\n",
       "      <td>20</td>\n",
       "      <td>13000000.0</td>\n",
       "      <td>108.00</td>\n",
       "      <td>2019-03-07</td>\n",
       "      <td>3</td>\n",
       "      <td>2.70</td>\n",
       "      <td>16.0</td>\n",
       "      <td>51.00</td>\n",
       "      <td>8</td>\n",
       "      <td>False</td>\n",
       "      <td>...</td>\n",
       "      <td>1.0</td>\n",
       "      <td>482.0</td>\n",
       "      <td>2.0</td>\n",
       "      <td>755.0</td>\n",
       "      <td>NaN</td>\n",
       "      <td>120370.0</td>\n",
       "      <td>2019</td>\n",
       "      <td>3</td>\n",
       "      <td>3</td>\n",
       "      <td>другой</td>\n",
       "    </tr>\n",
       "    <tr>\n",
       "      <td>1</td>\n",
       "      <td>7</td>\n",
       "      <td>3350000.0</td>\n",
       "      <td>40.40</td>\n",
       "      <td>2018-12-04</td>\n",
       "      <td>1</td>\n",
       "      <td>2.60</td>\n",
       "      <td>11.0</td>\n",
       "      <td>18.60</td>\n",
       "      <td>1</td>\n",
       "      <td>False</td>\n",
       "      <td>...</td>\n",
       "      <td>0.0</td>\n",
       "      <td>NaN</td>\n",
       "      <td>0.0</td>\n",
       "      <td>NaN</td>\n",
       "      <td>81.0</td>\n",
       "      <td>82921.0</td>\n",
       "      <td>2018</td>\n",
       "      <td>12</td>\n",
       "      <td>1</td>\n",
       "      <td>первый</td>\n",
       "    </tr>\n",
       "    <tr>\n",
       "      <td>2</td>\n",
       "      <td>10</td>\n",
       "      <td>5196000.0</td>\n",
       "      <td>56.00</td>\n",
       "      <td>2015-08-20</td>\n",
       "      <td>2</td>\n",
       "      <td>2.70</td>\n",
       "      <td>5.0</td>\n",
       "      <td>34.30</td>\n",
       "      <td>4</td>\n",
       "      <td>False</td>\n",
       "      <td>...</td>\n",
       "      <td>1.0</td>\n",
       "      <td>90.0</td>\n",
       "      <td>2.0</td>\n",
       "      <td>574.0</td>\n",
       "      <td>558.0</td>\n",
       "      <td>92786.0</td>\n",
       "      <td>2015</td>\n",
       "      <td>8</td>\n",
       "      <td>3</td>\n",
       "      <td>другой</td>\n",
       "    </tr>\n",
       "    <tr>\n",
       "      <td>3</td>\n",
       "      <td>0</td>\n",
       "      <td>64900000.0</td>\n",
       "      <td>159.00</td>\n",
       "      <td>2015-07-24</td>\n",
       "      <td>3</td>\n",
       "      <td>2.70</td>\n",
       "      <td>14.0</td>\n",
       "      <td>153.00</td>\n",
       "      <td>9</td>\n",
       "      <td>False</td>\n",
       "      <td>...</td>\n",
       "      <td>2.0</td>\n",
       "      <td>84.0</td>\n",
       "      <td>3.0</td>\n",
       "      <td>234.0</td>\n",
       "      <td>424.0</td>\n",
       "      <td>408176.0</td>\n",
       "      <td>2015</td>\n",
       "      <td>7</td>\n",
       "      <td>4</td>\n",
       "      <td>другой</td>\n",
       "    </tr>\n",
       "    <tr>\n",
       "      <td>4</td>\n",
       "      <td>2</td>\n",
       "      <td>10000000.0</td>\n",
       "      <td>100.00</td>\n",
       "      <td>2018-06-19</td>\n",
       "      <td>2</td>\n",
       "      <td>3.03</td>\n",
       "      <td>14.0</td>\n",
       "      <td>32.00</td>\n",
       "      <td>13</td>\n",
       "      <td>False</td>\n",
       "      <td>...</td>\n",
       "      <td>2.0</td>\n",
       "      <td>112.0</td>\n",
       "      <td>1.0</td>\n",
       "      <td>48.0</td>\n",
       "      <td>121.0</td>\n",
       "      <td>100000.0</td>\n",
       "      <td>2018</td>\n",
       "      <td>6</td>\n",
       "      <td>1</td>\n",
       "      <td>другой</td>\n",
       "    </tr>\n",
       "    <tr>\n",
       "      <td>5</td>\n",
       "      <td>10</td>\n",
       "      <td>2890000.0</td>\n",
       "      <td>30.40</td>\n",
       "      <td>2018-09-10</td>\n",
       "      <td>1</td>\n",
       "      <td>2.60</td>\n",
       "      <td>12.0</td>\n",
       "      <td>14.40</td>\n",
       "      <td>5</td>\n",
       "      <td>False</td>\n",
       "      <td>...</td>\n",
       "      <td>0.0</td>\n",
       "      <td>NaN</td>\n",
       "      <td>0.0</td>\n",
       "      <td>NaN</td>\n",
       "      <td>55.0</td>\n",
       "      <td>95066.0</td>\n",
       "      <td>2018</td>\n",
       "      <td>9</td>\n",
       "      <td>0</td>\n",
       "      <td>другой</td>\n",
       "    </tr>\n",
       "    <tr>\n",
       "      <td>6</td>\n",
       "      <td>6</td>\n",
       "      <td>3700000.0</td>\n",
       "      <td>37.30</td>\n",
       "      <td>2017-11-02</td>\n",
       "      <td>1</td>\n",
       "      <td>2.60</td>\n",
       "      <td>26.0</td>\n",
       "      <td>10.60</td>\n",
       "      <td>6</td>\n",
       "      <td>False</td>\n",
       "      <td>...</td>\n",
       "      <td>0.0</td>\n",
       "      <td>NaN</td>\n",
       "      <td>0.0</td>\n",
       "      <td>NaN</td>\n",
       "      <td>155.0</td>\n",
       "      <td>99196.0</td>\n",
       "      <td>2017</td>\n",
       "      <td>11</td>\n",
       "      <td>3</td>\n",
       "      <td>другой</td>\n",
       "    </tr>\n",
       "    <tr>\n",
       "      <td>7</td>\n",
       "      <td>5</td>\n",
       "      <td>7915000.0</td>\n",
       "      <td>71.60</td>\n",
       "      <td>2019-04-18</td>\n",
       "      <td>2</td>\n",
       "      <td>2.70</td>\n",
       "      <td>24.0</td>\n",
       "      <td>52.70</td>\n",
       "      <td>22</td>\n",
       "      <td>False</td>\n",
       "      <td>...</td>\n",
       "      <td>0.0</td>\n",
       "      <td>NaN</td>\n",
       "      <td>0.0</td>\n",
       "      <td>NaN</td>\n",
       "      <td>NaN</td>\n",
       "      <td>110545.0</td>\n",
       "      <td>2019</td>\n",
       "      <td>4</td>\n",
       "      <td>3</td>\n",
       "      <td>другой</td>\n",
       "    </tr>\n",
       "    <tr>\n",
       "      <td>8</td>\n",
       "      <td>20</td>\n",
       "      <td>2900000.0</td>\n",
       "      <td>33.16</td>\n",
       "      <td>2018-05-23</td>\n",
       "      <td>1</td>\n",
       "      <td>2.60</td>\n",
       "      <td>27.0</td>\n",
       "      <td>15.43</td>\n",
       "      <td>26</td>\n",
       "      <td>False</td>\n",
       "      <td>...</td>\n",
       "      <td>0.0</td>\n",
       "      <td>NaN</td>\n",
       "      <td>0.0</td>\n",
       "      <td>NaN</td>\n",
       "      <td>189.0</td>\n",
       "      <td>87455.0</td>\n",
       "      <td>2018</td>\n",
       "      <td>5</td>\n",
       "      <td>2</td>\n",
       "      <td>другой</td>\n",
       "    </tr>\n",
       "    <tr>\n",
       "      <td>9</td>\n",
       "      <td>18</td>\n",
       "      <td>5400000.0</td>\n",
       "      <td>61.00</td>\n",
       "      <td>2017-02-26</td>\n",
       "      <td>3</td>\n",
       "      <td>2.50</td>\n",
       "      <td>9.0</td>\n",
       "      <td>43.60</td>\n",
       "      <td>7</td>\n",
       "      <td>False</td>\n",
       "      <td>...</td>\n",
       "      <td>0.0</td>\n",
       "      <td>NaN</td>\n",
       "      <td>0.0</td>\n",
       "      <td>NaN</td>\n",
       "      <td>289.0</td>\n",
       "      <td>88525.0</td>\n",
       "      <td>2017</td>\n",
       "      <td>2</td>\n",
       "      <td>6</td>\n",
       "      <td>другой</td>\n",
       "    </tr>\n",
       "    <tr>\n",
       "      <td>10</td>\n",
       "      <td>5</td>\n",
       "      <td>5050000.0</td>\n",
       "      <td>39.60</td>\n",
       "      <td>2017-11-16</td>\n",
       "      <td>1</td>\n",
       "      <td>2.67</td>\n",
       "      <td>12.0</td>\n",
       "      <td>20.30</td>\n",
       "      <td>3</td>\n",
       "      <td>False</td>\n",
       "      <td>...</td>\n",
       "      <td>1.0</td>\n",
       "      <td>310.0</td>\n",
       "      <td>2.0</td>\n",
       "      <td>553.0</td>\n",
       "      <td>137.0</td>\n",
       "      <td>127525.0</td>\n",
       "      <td>2017</td>\n",
       "      <td>11</td>\n",
       "      <td>3</td>\n",
       "      <td>другой</td>\n",
       "    </tr>\n",
       "    <tr>\n",
       "      <td>11</td>\n",
       "      <td>9</td>\n",
       "      <td>3300000.0</td>\n",
       "      <td>44.00</td>\n",
       "      <td>2018-08-27</td>\n",
       "      <td>2</td>\n",
       "      <td>2.60</td>\n",
       "      <td>5.0</td>\n",
       "      <td>31.00</td>\n",
       "      <td>4</td>\n",
       "      <td>False</td>\n",
       "      <td>...</td>\n",
       "      <td>0.0</td>\n",
       "      <td>NaN</td>\n",
       "      <td>0.0</td>\n",
       "      <td>NaN</td>\n",
       "      <td>7.0</td>\n",
       "      <td>75000.0</td>\n",
       "      <td>2018</td>\n",
       "      <td>8</td>\n",
       "      <td>0</td>\n",
       "      <td>другой</td>\n",
       "    </tr>\n",
       "    <tr>\n",
       "      <td>12</td>\n",
       "      <td>10</td>\n",
       "      <td>3890000.0</td>\n",
       "      <td>54.00</td>\n",
       "      <td>2016-06-30</td>\n",
       "      <td>2</td>\n",
       "      <td>2.60</td>\n",
       "      <td>5.0</td>\n",
       "      <td>30.00</td>\n",
       "      <td>5</td>\n",
       "      <td>False</td>\n",
       "      <td>...</td>\n",
       "      <td>0.0</td>\n",
       "      <td>NaN</td>\n",
       "      <td>0.0</td>\n",
       "      <td>NaN</td>\n",
       "      <td>90.0</td>\n",
       "      <td>72037.0</td>\n",
       "      <td>2016</td>\n",
       "      <td>6</td>\n",
       "      <td>3</td>\n",
       "      <td>последний</td>\n",
       "    </tr>\n",
       "    <tr>\n",
       "      <td>13</td>\n",
       "      <td>20</td>\n",
       "      <td>3550000.0</td>\n",
       "      <td>42.80</td>\n",
       "      <td>2017-07-01</td>\n",
       "      <td>2</td>\n",
       "      <td>2.60</td>\n",
       "      <td>5.0</td>\n",
       "      <td>27.00</td>\n",
       "      <td>5</td>\n",
       "      <td>False</td>\n",
       "      <td>...</td>\n",
       "      <td>1.0</td>\n",
       "      <td>294.0</td>\n",
       "      <td>3.0</td>\n",
       "      <td>298.0</td>\n",
       "      <td>366.0</td>\n",
       "      <td>82944.0</td>\n",
       "      <td>2017</td>\n",
       "      <td>7</td>\n",
       "      <td>5</td>\n",
       "      <td>последний</td>\n",
       "    </tr>\n",
       "    <tr>\n",
       "      <td>14</td>\n",
       "      <td>1</td>\n",
       "      <td>4400000.0</td>\n",
       "      <td>36.00</td>\n",
       "      <td>2016-06-23</td>\n",
       "      <td>1</td>\n",
       "      <td>2.60</td>\n",
       "      <td>6.0</td>\n",
       "      <td>17.00</td>\n",
       "      <td>1</td>\n",
       "      <td>False</td>\n",
       "      <td>...</td>\n",
       "      <td>0.0</td>\n",
       "      <td>NaN</td>\n",
       "      <td>1.0</td>\n",
       "      <td>96.0</td>\n",
       "      <td>203.0</td>\n",
       "      <td>122222.0</td>\n",
       "      <td>2016</td>\n",
       "      <td>6</td>\n",
       "      <td>3</td>\n",
       "      <td>первый</td>\n",
       "    </tr>\n",
       "    <tr>\n",
       "      <td>15</td>\n",
       "      <td>16</td>\n",
       "      <td>4650000.0</td>\n",
       "      <td>39.00</td>\n",
       "      <td>2017-11-18</td>\n",
       "      <td>1</td>\n",
       "      <td>2.70</td>\n",
       "      <td>14.0</td>\n",
       "      <td>20.50</td>\n",
       "      <td>5</td>\n",
       "      <td>False</td>\n",
       "      <td>...</td>\n",
       "      <td>1.0</td>\n",
       "      <td>590.0</td>\n",
       "      <td>1.0</td>\n",
       "      <td>296.0</td>\n",
       "      <td>19.0</td>\n",
       "      <td>119231.0</td>\n",
       "      <td>2017</td>\n",
       "      <td>11</td>\n",
       "      <td>5</td>\n",
       "      <td>другой</td>\n",
       "    </tr>\n",
       "    <tr>\n",
       "      <td>16</td>\n",
       "      <td>11</td>\n",
       "      <td>6700000.0</td>\n",
       "      <td>82.00</td>\n",
       "      <td>2017-11-23</td>\n",
       "      <td>3</td>\n",
       "      <td>3.05</td>\n",
       "      <td>5.0</td>\n",
       "      <td>55.60</td>\n",
       "      <td>1</td>\n",
       "      <td>False</td>\n",
       "      <td>...</td>\n",
       "      <td>3.0</td>\n",
       "      <td>420.0</td>\n",
       "      <td>0.0</td>\n",
       "      <td>NaN</td>\n",
       "      <td>397.0</td>\n",
       "      <td>81707.0</td>\n",
       "      <td>2017</td>\n",
       "      <td>11</td>\n",
       "      <td>3</td>\n",
       "      <td>первый</td>\n",
       "    </tr>\n",
       "    <tr>\n",
       "      <td>17</td>\n",
       "      <td>6</td>\n",
       "      <td>4180000.0</td>\n",
       "      <td>36.00</td>\n",
       "      <td>2016-09-09</td>\n",
       "      <td>1</td>\n",
       "      <td>2.70</td>\n",
       "      <td>17.0</td>\n",
       "      <td>16.50</td>\n",
       "      <td>7</td>\n",
       "      <td>False</td>\n",
       "      <td>...</td>\n",
       "      <td>0.0</td>\n",
       "      <td>NaN</td>\n",
       "      <td>1.0</td>\n",
       "      <td>859.0</td>\n",
       "      <td>571.0</td>\n",
       "      <td>116111.0</td>\n",
       "      <td>2016</td>\n",
       "      <td>9</td>\n",
       "      <td>4</td>\n",
       "      <td>другой</td>\n",
       "    </tr>\n",
       "    <tr>\n",
       "      <td>18</td>\n",
       "      <td>8</td>\n",
       "      <td>3250000.0</td>\n",
       "      <td>31.00</td>\n",
       "      <td>2017-01-27</td>\n",
       "      <td>1</td>\n",
       "      <td>2.50</td>\n",
       "      <td>5.0</td>\n",
       "      <td>19.40</td>\n",
       "      <td>2</td>\n",
       "      <td>False</td>\n",
       "      <td>...</td>\n",
       "      <td>1.0</td>\n",
       "      <td>759.0</td>\n",
       "      <td>0.0</td>\n",
       "      <td>NaN</td>\n",
       "      <td>168.0</td>\n",
       "      <td>104839.0</td>\n",
       "      <td>2017</td>\n",
       "      <td>1</td>\n",
       "      <td>4</td>\n",
       "      <td>другой</td>\n",
       "    </tr>\n",
       "    <tr>\n",
       "      <td>19</td>\n",
       "      <td>16</td>\n",
       "      <td>14200000.0</td>\n",
       "      <td>121.00</td>\n",
       "      <td>2019-01-09</td>\n",
       "      <td>3</td>\n",
       "      <td>2.75</td>\n",
       "      <td>16.0</td>\n",
       "      <td>76.00</td>\n",
       "      <td>8</td>\n",
       "      <td>False</td>\n",
       "      <td>...</td>\n",
       "      <td>0.0</td>\n",
       "      <td>NaN</td>\n",
       "      <td>0.0</td>\n",
       "      <td>NaN</td>\n",
       "      <td>97.0</td>\n",
       "      <td>117355.0</td>\n",
       "      <td>2019</td>\n",
       "      <td>1</td>\n",
       "      <td>2</td>\n",
       "      <td>другой</td>\n",
       "    </tr>\n",
       "  </tbody>\n",
       "</table>\n",
       "<p>20 rows × 27 columns</p>\n",
       "</div>"
      ],
      "text/plain": [
       "    total_images  last_price  total_area first_day_exposition  rooms  \\\n",
       "0             20  13000000.0      108.00           2019-03-07      3   \n",
       "1              7   3350000.0       40.40           2018-12-04      1   \n",
       "2             10   5196000.0       56.00           2015-08-20      2   \n",
       "3              0  64900000.0      159.00           2015-07-24      3   \n",
       "4              2  10000000.0      100.00           2018-06-19      2   \n",
       "5             10   2890000.0       30.40           2018-09-10      1   \n",
       "6              6   3700000.0       37.30           2017-11-02      1   \n",
       "7              5   7915000.0       71.60           2019-04-18      2   \n",
       "8             20   2900000.0       33.16           2018-05-23      1   \n",
       "9             18   5400000.0       61.00           2017-02-26      3   \n",
       "10             5   5050000.0       39.60           2017-11-16      1   \n",
       "11             9   3300000.0       44.00           2018-08-27      2   \n",
       "12            10   3890000.0       54.00           2016-06-30      2   \n",
       "13            20   3550000.0       42.80           2017-07-01      2   \n",
       "14             1   4400000.0       36.00           2016-06-23      1   \n",
       "15            16   4650000.0       39.00           2017-11-18      1   \n",
       "16            11   6700000.0       82.00           2017-11-23      3   \n",
       "17             6   4180000.0       36.00           2016-09-09      1   \n",
       "18             8   3250000.0       31.00           2017-01-27      1   \n",
       "19            16  14200000.0      121.00           2019-01-09      3   \n",
       "\n",
       "    ceiling_height  floors_total  living_area  floor  is_apartment  ...  \\\n",
       "0             2.70          16.0        51.00      8         False  ...   \n",
       "1             2.60          11.0        18.60      1         False  ...   \n",
       "2             2.70           5.0        34.30      4         False  ...   \n",
       "3             2.70          14.0       153.00      9         False  ...   \n",
       "4             3.03          14.0        32.00     13         False  ...   \n",
       "5             2.60          12.0        14.40      5         False  ...   \n",
       "6             2.60          26.0        10.60      6         False  ...   \n",
       "7             2.70          24.0        52.70     22         False  ...   \n",
       "8             2.60          27.0        15.43     26         False  ...   \n",
       "9             2.50           9.0        43.60      7         False  ...   \n",
       "10            2.67          12.0        20.30      3         False  ...   \n",
       "11            2.60           5.0        31.00      4         False  ...   \n",
       "12            2.60           5.0        30.00      5         False  ...   \n",
       "13            2.60           5.0        27.00      5         False  ...   \n",
       "14            2.60           6.0        17.00      1         False  ...   \n",
       "15            2.70          14.0        20.50      5         False  ...   \n",
       "16            3.05           5.0        55.60      1         False  ...   \n",
       "17            2.70          17.0        16.50      7         False  ...   \n",
       "18            2.50           5.0        19.40      2         False  ...   \n",
       "19            2.75          16.0        76.00      8         False  ...   \n",
       "\n",
       "    parks_around3000  parks_nearest  ponds_around3000  ponds_nearest  \\\n",
       "0                1.0          482.0               2.0          755.0   \n",
       "1                0.0            NaN               0.0            NaN   \n",
       "2                1.0           90.0               2.0          574.0   \n",
       "3                2.0           84.0               3.0          234.0   \n",
       "4                2.0          112.0               1.0           48.0   \n",
       "5                0.0            NaN               0.0            NaN   \n",
       "6                0.0            NaN               0.0            NaN   \n",
       "7                0.0            NaN               0.0            NaN   \n",
       "8                0.0            NaN               0.0            NaN   \n",
       "9                0.0            NaN               0.0            NaN   \n",
       "10               1.0          310.0               2.0          553.0   \n",
       "11               0.0            NaN               0.0            NaN   \n",
       "12               0.0            NaN               0.0            NaN   \n",
       "13               1.0          294.0               3.0          298.0   \n",
       "14               0.0            NaN               1.0           96.0   \n",
       "15               1.0          590.0               1.0          296.0   \n",
       "16               3.0          420.0               0.0            NaN   \n",
       "17               0.0            NaN               1.0          859.0   \n",
       "18               1.0          759.0               0.0            NaN   \n",
       "19               0.0            NaN               0.0            NaN   \n",
       "\n",
       "   days_exposition  unin_price  year  month  weekday  floor_group  \n",
       "0              NaN    120370.0  2019      3        3       другой  \n",
       "1             81.0     82921.0  2018     12        1       первый  \n",
       "2            558.0     92786.0  2015      8        3       другой  \n",
       "3            424.0    408176.0  2015      7        4       другой  \n",
       "4            121.0    100000.0  2018      6        1       другой  \n",
       "5             55.0     95066.0  2018      9        0       другой  \n",
       "6            155.0     99196.0  2017     11        3       другой  \n",
       "7              NaN    110545.0  2019      4        3       другой  \n",
       "8            189.0     87455.0  2018      5        2       другой  \n",
       "9            289.0     88525.0  2017      2        6       другой  \n",
       "10           137.0    127525.0  2017     11        3       другой  \n",
       "11             7.0     75000.0  2018      8        0       другой  \n",
       "12            90.0     72037.0  2016      6        3    последний  \n",
       "13           366.0     82944.0  2017      7        5    последний  \n",
       "14           203.0    122222.0  2016      6        3       первый  \n",
       "15            19.0    119231.0  2017     11        5       другой  \n",
       "16           397.0     81707.0  2017     11        3       первый  \n",
       "17           571.0    116111.0  2016      9        4       другой  \n",
       "18           168.0    104839.0  2017      1        4       другой  \n",
       "19            97.0    117355.0  2019      1        2       другой  \n",
       "\n",
       "[20 rows x 27 columns]"
      ]
     },
     "metadata": {},
     "output_type": "display_data"
    }
   ],
   "source": [
    "def floor_group(row):\n",
    "    floor=row['floor']\n",
    "    floors_total=row['floors_total']\n",
    "    \n",
    "    \n",
    "    if floor == 1:  \n",
    "        return 'первый'\n",
    "    \n",
    "    elif floor == floors_total: \n",
    "        return 'последний'\n",
    "    else:\n",
    "        return 'другой'\n",
    "    \n",
    "df['floor_group'] = df.apply(floor_group, axis=1)\n",
    "display(df.head(20))"
   ]
  },
  {
   "cell_type": "markdown",
   "metadata": {},
   "source": [
    "Этажи помечены. Для проверки вывели 20 строк, чтобы точно убедится, что все три варианта встали на свои места."
   ]
  },
  {
   "cell_type": "markdown",
   "metadata": {},
   "source": [
    "Последнее, что мы сделаем - это посчитаем соотношение жилой площади к общей, а также отношение площади кухни к общей."
   ]
  },
  {
   "cell_type": "code",
   "execution_count": 195,
   "metadata": {},
   "outputs": [
    {
     "data": {
      "text/html": [
       "<div>\n",
       "<style scoped>\n",
       "    .dataframe tbody tr th:only-of-type {\n",
       "        vertical-align: middle;\n",
       "    }\n",
       "\n",
       "    .dataframe tbody tr th {\n",
       "        vertical-align: top;\n",
       "    }\n",
       "\n",
       "    .dataframe thead th {\n",
       "        text-align: right;\n",
       "    }\n",
       "</style>\n",
       "<table border=\"1\" class=\"dataframe\">\n",
       "  <thead>\n",
       "    <tr style=\"text-align: right;\">\n",
       "      <th></th>\n",
       "      <th>total_images</th>\n",
       "      <th>last_price</th>\n",
       "      <th>total_area</th>\n",
       "      <th>first_day_exposition</th>\n",
       "      <th>rooms</th>\n",
       "      <th>ceiling_height</th>\n",
       "      <th>floors_total</th>\n",
       "      <th>living_area</th>\n",
       "      <th>floor</th>\n",
       "      <th>is_apartment</th>\n",
       "      <th>...</th>\n",
       "      <th>ponds_around3000</th>\n",
       "      <th>ponds_nearest</th>\n",
       "      <th>days_exposition</th>\n",
       "      <th>unin_price</th>\n",
       "      <th>year</th>\n",
       "      <th>month</th>\n",
       "      <th>weekday</th>\n",
       "      <th>floor_group</th>\n",
       "      <th>ratio_living_total_area</th>\n",
       "      <th>ratio_kitchen_total_area</th>\n",
       "    </tr>\n",
       "  </thead>\n",
       "  <tbody>\n",
       "    <tr>\n",
       "      <td>0</td>\n",
       "      <td>20</td>\n",
       "      <td>13000000.0</td>\n",
       "      <td>108.0</td>\n",
       "      <td>2019-03-07</td>\n",
       "      <td>3</td>\n",
       "      <td>2.70</td>\n",
       "      <td>16.0</td>\n",
       "      <td>51.0</td>\n",
       "      <td>8</td>\n",
       "      <td>False</td>\n",
       "      <td>...</td>\n",
       "      <td>2.0</td>\n",
       "      <td>755.0</td>\n",
       "      <td>NaN</td>\n",
       "      <td>120370.0</td>\n",
       "      <td>2019</td>\n",
       "      <td>3</td>\n",
       "      <td>3</td>\n",
       "      <td>другой</td>\n",
       "      <td>0.472222</td>\n",
       "      <td>0.231481</td>\n",
       "    </tr>\n",
       "    <tr>\n",
       "      <td>1</td>\n",
       "      <td>7</td>\n",
       "      <td>3350000.0</td>\n",
       "      <td>40.4</td>\n",
       "      <td>2018-12-04</td>\n",
       "      <td>1</td>\n",
       "      <td>2.60</td>\n",
       "      <td>11.0</td>\n",
       "      <td>18.6</td>\n",
       "      <td>1</td>\n",
       "      <td>False</td>\n",
       "      <td>...</td>\n",
       "      <td>0.0</td>\n",
       "      <td>NaN</td>\n",
       "      <td>81.0</td>\n",
       "      <td>82921.0</td>\n",
       "      <td>2018</td>\n",
       "      <td>12</td>\n",
       "      <td>1</td>\n",
       "      <td>первый</td>\n",
       "      <td>0.460396</td>\n",
       "      <td>0.272277</td>\n",
       "    </tr>\n",
       "    <tr>\n",
       "      <td>2</td>\n",
       "      <td>10</td>\n",
       "      <td>5196000.0</td>\n",
       "      <td>56.0</td>\n",
       "      <td>2015-08-20</td>\n",
       "      <td>2</td>\n",
       "      <td>2.70</td>\n",
       "      <td>5.0</td>\n",
       "      <td>34.3</td>\n",
       "      <td>4</td>\n",
       "      <td>False</td>\n",
       "      <td>...</td>\n",
       "      <td>2.0</td>\n",
       "      <td>574.0</td>\n",
       "      <td>558.0</td>\n",
       "      <td>92786.0</td>\n",
       "      <td>2015</td>\n",
       "      <td>8</td>\n",
       "      <td>3</td>\n",
       "      <td>другой</td>\n",
       "      <td>0.612500</td>\n",
       "      <td>0.148214</td>\n",
       "    </tr>\n",
       "    <tr>\n",
       "      <td>3</td>\n",
       "      <td>0</td>\n",
       "      <td>64900000.0</td>\n",
       "      <td>159.0</td>\n",
       "      <td>2015-07-24</td>\n",
       "      <td>3</td>\n",
       "      <td>2.70</td>\n",
       "      <td>14.0</td>\n",
       "      <td>153.0</td>\n",
       "      <td>9</td>\n",
       "      <td>False</td>\n",
       "      <td>...</td>\n",
       "      <td>3.0</td>\n",
       "      <td>234.0</td>\n",
       "      <td>424.0</td>\n",
       "      <td>408176.0</td>\n",
       "      <td>2015</td>\n",
       "      <td>7</td>\n",
       "      <td>4</td>\n",
       "      <td>другой</td>\n",
       "      <td>0.962264</td>\n",
       "      <td>0.037736</td>\n",
       "    </tr>\n",
       "    <tr>\n",
       "      <td>4</td>\n",
       "      <td>2</td>\n",
       "      <td>10000000.0</td>\n",
       "      <td>100.0</td>\n",
       "      <td>2018-06-19</td>\n",
       "      <td>2</td>\n",
       "      <td>3.03</td>\n",
       "      <td>14.0</td>\n",
       "      <td>32.0</td>\n",
       "      <td>13</td>\n",
       "      <td>False</td>\n",
       "      <td>...</td>\n",
       "      <td>1.0</td>\n",
       "      <td>48.0</td>\n",
       "      <td>121.0</td>\n",
       "      <td>100000.0</td>\n",
       "      <td>2018</td>\n",
       "      <td>6</td>\n",
       "      <td>1</td>\n",
       "      <td>другой</td>\n",
       "      <td>0.320000</td>\n",
       "      <td>0.410000</td>\n",
       "    </tr>\n",
       "  </tbody>\n",
       "</table>\n",
       "<p>5 rows × 29 columns</p>\n",
       "</div>"
      ],
      "text/plain": [
       "   total_images  last_price  total_area first_day_exposition  rooms  \\\n",
       "0            20  13000000.0       108.0           2019-03-07      3   \n",
       "1             7   3350000.0        40.4           2018-12-04      1   \n",
       "2            10   5196000.0        56.0           2015-08-20      2   \n",
       "3             0  64900000.0       159.0           2015-07-24      3   \n",
       "4             2  10000000.0       100.0           2018-06-19      2   \n",
       "\n",
       "   ceiling_height  floors_total  living_area  floor  is_apartment  ...  \\\n",
       "0            2.70          16.0         51.0      8         False  ...   \n",
       "1            2.60          11.0         18.6      1         False  ...   \n",
       "2            2.70           5.0         34.3      4         False  ...   \n",
       "3            2.70          14.0        153.0      9         False  ...   \n",
       "4            3.03          14.0         32.0     13         False  ...   \n",
       "\n",
       "   ponds_around3000  ponds_nearest  days_exposition  unin_price  year  month  \\\n",
       "0               2.0          755.0              NaN    120370.0  2019      3   \n",
       "1               0.0            NaN             81.0     82921.0  2018     12   \n",
       "2               2.0          574.0            558.0     92786.0  2015      8   \n",
       "3               3.0          234.0            424.0    408176.0  2015      7   \n",
       "4               1.0           48.0            121.0    100000.0  2018      6   \n",
       "\n",
       "   weekday  floor_group  ratio_living_total_area  ratio_kitchen_total_area  \n",
       "0        3       другой                 0.472222                  0.231481  \n",
       "1        1       первый                 0.460396                  0.272277  \n",
       "2        3       другой                 0.612500                  0.148214  \n",
       "3        4       другой                 0.962264                  0.037736  \n",
       "4        1       другой                 0.320000                  0.410000  \n",
       "\n",
       "[5 rows x 29 columns]"
      ]
     },
     "metadata": {},
     "output_type": "display_data"
    }
   ],
   "source": [
    "df['ratio_living_total_area'] = df['living_area'] / df['total_area'] # расчет отношения жилой площади к общей\n",
    "df['ratio_kitchen_total_area'] = df['kitchen_area'] / df['total_area'] # расчет отношения площади кухни к общей\n",
    "display(df.head())"
   ]
  },
  {
   "cell_type": "markdown",
   "metadata": {},
   "source": [
    "Дополнительные столбики добавлены в таблицу. Переходим непосредственно к анализу данных."
   ]
  },
  {
   "cell_type": "markdown",
   "metadata": {},
   "source": [
    "## Исследовательский анализ данных"
   ]
  },
  {
   "cell_type": "markdown",
   "metadata": {},
   "source": [
    "### Анализ основных параметров: площадь, цена, число комнат, высота потолков"
   ]
  },
  {
   "cell_type": "markdown",
   "metadata": {},
   "source": [
    "Изучим основные параметры:площадь, цена, число комнат, высота потолков. И сделаем это с помощью построения гистограммы для каждого параметра."
   ]
  },
  {
   "cell_type": "markdown",
   "metadata": {},
   "source": [
    "Для начала импортируем библиотеку matplotlib, для работы с графиками. Для построения гистограмм используют метод hist()"
   ]
  },
  {
   "cell_type": "code",
   "execution_count": 196,
   "metadata": {},
   "outputs": [],
   "source": [
    "import matplotlib.pyplot as plt # импорт библиотеки matplotlib"
   ]
  },
  {
   "cell_type": "markdown",
   "metadata": {},
   "source": [
    "Площадь:"
   ]
  },
  {
   "cell_type": "code",
   "execution_count": 197,
   "metadata": {},
   "outputs": [
    {
     "data": {
      "image/png": "[encoded data removed]",
      "text/plain": [
       "<Figure size 576x432 with 1 Axes>"
      ]
     },
     "metadata": {
      "needs_background": "light"
     },
     "output_type": "display_data"
    }
   ],
   "source": [
    "df['total_area'].hist(bins=50, range= (0, 500), figsize=(8, 6))\n",
    "plt.xlabel('Общая площадь, м')\n",
    "plt.ylabel('Частота')\n",
    "plt.show()"
   ]
  },
  {
   "cell_type": "markdown",
   "metadata": {},
   "source": [
    "Основная масса квартир с площадью до 100 кв.м. После 200 кв.м количество квартир стремится к нулю. Я бы сказала, что основная масса-это квартиры площадью 50 кв.м (+/- 10 кв.м). Далее после 100 кв. м количество сильно снижается."
   ]
  },
  {
   "cell_type": "markdown",
   "metadata": {},
   "source": [
    "Далее посмотрим цену:"
   ]
  },
  {
   "cell_type": "markdown",
   "metadata": {},
   "source": [
    "Но для начала нужно определить какой диапазон значений задать на гистограмме, потому что сначала попробовав сделать гистограмму без указания интервала цен, я получила достаточно не читаемый график (большинство значений слились в один огромный столбик). Если указать в диапазоне значений цены максимальное значение, то тоже гистограмма плохо читается."
   ]
  },
  {
   "cell_type": "code",
   "execution_count": 198,
   "metadata": {},
   "outputs": [
    {
     "data": {
      "image/png": "[encoded data removed]",
      "text/plain": [
       "<Figure size 576x432 with 1 Axes>"
      ]
     },
     "metadata": {
      "needs_background": "light"
     },
     "output_type": "display_data"
    }
   ],
   "source": [
    "df['last_price'].hist(bins=100, range=(0, 763000000), figsize=(8, 6))\n",
    "plt.xlabel('Цена')\n",
    "plt.ylabel('Частота')\n",
    "plt.show()"
   ]
  },
  {
   "cell_type": "markdown",
   "metadata": {},
   "source": [
    "Я посчитала, сколько квартир стоимостью более 100 000 000 есть в выборке:"
   ]
  },
  {
   "cell_type": "code",
   "execution_count": 199,
   "metadata": {},
   "outputs": [
    {
     "data": {
      "text/plain": [
       "37"
      ]
     },
     "metadata": {},
     "output_type": "display_data"
    }
   ],
   "source": [
    "display(len(df.loc[df['last_price'] > 100000000])) #использование метода len() для подсчета строк, возвращенных логической индексацией "
   ]
  },
  {
   "cell_type": "markdown",
   "metadata": {},
   "source": [
    "Всего 37 квартир стоимостью более ста миллионов. Думаю их можно исключить из диапазона при построении гистограммы по стоимости квартир, потому что нам нужно понять общую тенденцию, а эти 37 квартир больше похожи на выбросы из общей выборки.  "
   ]
  },
  {
   "cell_type": "markdown",
   "metadata": {},
   "source": [
    "Строим еще раз гистограмму по стоимости квартир в диапазоне от нуля до ста миллионов:"
   ]
  },
  {
   "cell_type": "code",
   "execution_count": 200,
   "metadata": {},
   "outputs": [
    {
     "data": {
      "image/png": "[encoded data removed]",
      "text/plain": [
       "<Figure size 576x432 with 1 Axes>"
      ]
     },
     "metadata": {
      "needs_background": "light"
     },
     "output_type": "display_data"
    }
   ],
   "source": [
    "df['last_price'].hist(bins=100, range=(12000, 100000000), figsize=(8, 6))\n",
    "plt.xlabel('Цена')\n",
    "plt.ylabel('Частота')\n",
    "plt.show()"
   ]
  },
  {
   "cell_type": "markdown",
   "metadata": {},
   "source": [
    "Теперь видно, что после отметки в 10 миллионов, количество квартир сильно уменьшилось, после 20 миллионов их остались не много. Основная часть приходится на диапазон цен от 2 до 6 миллионов. Есть значения в районе нуля (минимальная стоимость квартиры 12160).На квартиры стоимостью меньше миллиона стоит обратить внимание и проверить с чем могут быть связаны такие низкие цены (таких значений в выборке 225). Возможно, это срочная продажа и тогда цену снижают (хотя обычно снижение примерно 20% от цены), возможно низкая цена связана с местом размещения и площадью (маленькая площадь при сильной удаленности от большого города, плохая транспортная доступность могут приводить к тому, что цены будут сильно ниже среднерыночных). "
   ]
  },
  {
   "cell_type": "markdown",
   "metadata": {},
   "source": [
    "Количество комнат:"
   ]
  },
  {
   "cell_type": "code",
   "execution_count": 201,
   "metadata": {},
   "outputs": [
    {
     "data": {
      "image/png": "[encoded data removed]",
      "text/plain": [
       "<Figure size 576x432 with 1 Axes>"
      ]
     },
     "metadata": {
      "needs_background": "light"
     },
     "output_type": "display_data"
    }
   ],
   "source": [
    "df['rooms'].hist(bins=15, range=(0,15), figsize=(8, 6))\n",
    "plt.xlabel('количество комнат')\n",
    "plt.ylabel('Частота')\n",
    "plt.show()"
   ]
  },
  {
   "cell_type": "markdown",
   "metadata": {},
   "source": [
    "Основная масса квартир с 1-2 комнатами (однокомнатных чуть больше). Трехкомнатных несколько меньше, но достаточно большое количество. Квартиры с четырьмя комнатами встречаются значительно реже. Квартиры с большим количеством комнат уже редкость и в районе 8 комнат значение близкое к нулю. При этом мы видим некоторое (не значительное) количество квартир в районе 0- действительно в данных встречались нули в графе с указанием количества комнат - в этом случае лучше уточнить у специалистов, которые предоставляли данные."
   ]
  },
  {
   "cell_type": "markdown",
   "metadata": {},
   "source": [
    "Высота потолков:"
   ]
  },
  {
   "cell_type": "code",
   "execution_count": 202,
   "metadata": {},
   "outputs": [
    {
     "data": {
      "image/png": "[encoded data removed]",
      "text/plain": [
       "<Figure size 576x432 with 1 Axes>"
      ]
     },
     "metadata": {
      "needs_background": "light"
     },
     "output_type": "display_data"
    }
   ],
   "source": [
    "df['ceiling_height'].hist(bins=50, range=(2, 5), figsize=(8, 6))\n",
    "plt.xlabel('Высота потолков, м')\n",
    "plt.ylabel('Частота')\n",
    "plt.show()"
   ]
  },
  {
   "cell_type": "markdown",
   "metadata": {},
   "source": [
    "Как и ожидалось основная масса квартир с потолками в диапазоне 2,5-2,8 м. Дальше идет небольшой провал, потому что высота 2,85-2,9 м не очень характерна (в основном застройшики придерживаются определенных стандартов). На уровне 3 м, опять небольшой всплеск, далее количество квартир с более высокими потолками не значительно."
   ]
  },
  {
   "cell_type": "markdown",
   "metadata": {},
   "source": [
    "### Изучение времени продажи квартиры"
   ]
  },
  {
   "cell_type": "markdown",
   "metadata": {},
   "source": [
    "Далее посмотрим такой параметр, как время продажи квартиры. Для начала построим гистограмму:"
   ]
  },
  {
   "cell_type": "code",
   "execution_count": 203,
   "metadata": {},
   "outputs": [
    {
     "data": {
      "image/png": "[encoded data removed]",
      "text/plain": [
       "<Figure size 576x432 with 1 Axes>"
      ]
     },
     "metadata": {
      "needs_background": "light"
     },
     "output_type": "display_data"
    }
   ],
   "source": [
    "df['days_exposition'].hist(bins=100, figsize=(8, 6))\n",
    "plt.xlabel('Продолжительность размещения объявления, дн')\n",
    "plt.ylabel('Частота')\n",
    "plt.show()"
   ]
  },
  {
   "cell_type": "markdown",
   "metadata": {},
   "source": [
    "На гистограмме видны какие-то значения в районе нуля, пока не понятно, что это за значения, но их достаточно много. Возможно, эти строки относятся к \"срочным\" продажам, а возможно просто закрытие объявления без свершившегося факт продажи (просто передумали)."
   ]
  },
  {
   "cell_type": "markdown",
   "metadata": {},
   "source": [
    "Основная масса закрытия объявлений за период с 20 дней, пик в районе 50 дней, а дальше идет постепенное снижение. Дольше 500 дней продержалось небольшое количество объявлений, а к 800 остались буквально единицы."
   ]
  },
  {
   "cell_type": "markdown",
   "metadata": {},
   "source": [
    "Посчитаем средне и медиану:\n"
   ]
  },
  {
   "cell_type": "code",
   "execution_count": 204,
   "metadata": {},
   "outputs": [
    {
     "data": {
      "text/plain": [
       "180.7531998045921"
      ]
     },
     "metadata": {},
     "output_type": "display_data"
    },
    {
     "data": {
      "text/plain": [
       "95.0"
      ]
     },
     "metadata": {},
     "output_type": "display_data"
    }
   ],
   "source": [
    "display(df['days_exposition'].mean()) # расчет среднего арифметического\n",
    "display(df['days_exposition'].sort_values().median()) # расчет медианы"
   ]
  },
  {
   "cell_type": "markdown",
   "metadata": {},
   "source": [
    "Медиана меньше среднего в два раза."
   ]
  },
  {
   "cell_type": "markdown",
   "metadata": {},
   "source": [
    "Посмотрим диаграмму размаха, чтобы легче было определится с границей очень быстрых и очень медленных продаж. Диаграмму размаха строят с помощью метода boxplot()"
   ]
  },
  {
   "cell_type": "code",
   "execution_count": 205,
   "metadata": {},
   "outputs": [
    {
     "data": {
      "text/plain": [
       "(0, 1600)"
      ]
     },
     "execution_count": 205,
     "metadata": {},
     "output_type": "execute_result"
    },
    {
     "data": {
      "image/png": "[encoded data removed]",
      "text/plain": [
       "<Figure size 432x288 with 1 Axes>"
      ]
     },
     "metadata": {
      "needs_background": "light"
     },
     "output_type": "display_data"
    }
   ],
   "source": [
    "df.boxplot('days_exposition')\n",
    "plt.ylim(0, 1600)\n"
   ]
  },
  {
   "cell_type": "markdown",
   "metadata": {},
   "source": [
    "Мы получили границы нормального размаха, значения за пределами которого можно считать выбросами. Нижний \"ус\" упирается в минимальное значение, равное 1, а верхний в районе 500 (1,5 межквартильго размаха, добавленного к 3-му квартилю). Видно на сколько медиана далека от верхних значений."
   ]
  },
  {
   "cell_type": "markdown",
   "metadata": {},
   "source": [
    "Можно ту же информацию получить, не строя график (я например, лучше воспринимаю информацию в цифрах, а на не графиках). Для этого используем метод describe()"
   ]
  },
  {
   "cell_type": "code",
   "execution_count": 206,
   "metadata": {},
   "outputs": [
    {
     "data": {
      "text/plain": [
       "count    20470.000000\n",
       "mean       180.753200\n",
       "std        219.777916\n",
       "min          1.000000\n",
       "25%         45.000000\n",
       "50%         95.000000\n",
       "75%        231.000000\n",
       "max       1580.000000\n",
       "Name: days_exposition, dtype: float64"
      ]
     },
     "execution_count": 206,
     "metadata": {},
     "output_type": "execute_result"
    }
   ],
   "source": [
    "df['days_exposition'].describe()"
   ]
  },
  {
   "cell_type": "markdown",
   "metadata": {},
   "source": [
    "Уточним, нормальный разброс у нас от 1 до 578."
   ]
  },
  {
   "cell_type": "markdown",
   "metadata": {},
   "source": [
    "Можно сказать, что продажи свыше 578 - это \"долгие продажи\". Сложнее определится с \"очень быстрыми\" продажами. Специалисты в области продажи квартир, сходятся во мнении, что минимальный срок продажи квартиры - это месяц. Можно продать квартиру и за значительно меньший срок, но это, как правили, идет с сильным снижением цены, так называемые \"срочные продажи\", когда цена уже не стоит на первом месте, на первое место выходит минимализация срока продажи."
   ]
  },
  {
   "cell_type": "markdown",
   "metadata": {},
   "source": [
    "Посмотрим количество объявлений со сроком размещения менее 30 дней."
   ]
  },
  {
   "cell_type": "code",
   "execution_count": 207,
   "metadata": {},
   "outputs": [
    {
     "data": {
      "text/plain": [
       "3733"
      ]
     },
     "metadata": {},
     "output_type": "display_data"
    }
   ],
   "source": [
    "display(len(df.loc[df['days_exposition']<=30])) # подсчет количества строк удовляетворяющим условию\n"
   ]
  },
  {
   "cell_type": "markdown",
   "metadata": {},
   "source": [
    "18% от выборки достаточно много, но нам нужно сделать такую выборку значений, в которой мы будем достаточно уверены и которая будет описывать общую тенденцию, без слишком быстрых и слишком медленных продаж. Методом query() сделаем срез данных без быстрых и медленных продаж и данные сохраним в переменную."
   ]
  },
  {
   "cell_type": "code",
   "execution_count": 208,
   "metadata": {},
   "outputs": [],
   "source": [
    "normal_sales_period = df.query('(days_exposition >= 30) & (days_exposition <= 578)')"
   ]
  },
  {
   "cell_type": "markdown",
   "metadata": {},
   "source": [
    "Посмотрим как изменилась гистограмма при отсечении очень быстрах и очень медленных продаж."
   ]
  },
  {
   "cell_type": "code",
   "execution_count": 209,
   "metadata": {},
   "outputs": [
    {
     "data": {
      "image/png": "[encoded data removed]",
      "text/plain": [
       "<Figure size 576x432 with 1 Axes>"
      ]
     },
     "metadata": {
      "needs_background": "light"
     },
     "output_type": "display_data"
    }
   ],
   "source": [
    "normal_sales_period['days_exposition'].hist(bins=50, figsize=(8, 6))\n",
    "plt.xlabel('Продолжительность размещения объявления, дн')\n",
    "plt.ylabel('Частота')\n",
    "plt.show()"
   ]
  },
  {
   "cell_type": "code",
   "execution_count": 210,
   "metadata": {},
   "outputs": [
    {
     "data": {
      "text/plain": [
       "count    15637.000000\n",
       "mean       163.716314\n",
       "std        132.504165\n",
       "min         30.000000\n",
       "25%         60.000000\n",
       "50%        115.000000\n",
       "75%        226.000000\n",
       "max        578.000000\n",
       "Name: days_exposition, dtype: float64"
      ]
     },
     "execution_count": 210,
     "metadata": {},
     "output_type": "execute_result"
    }
   ],
   "source": [
    "normal_sales_period['days_exposition'].describe()"
   ]
  },
  {
   "cell_type": "markdown",
   "metadata": {},
   "source": [
    "**Вывод** "
   ]
  },
  {
   "cell_type": "markdown",
   "metadata": {},
   "source": [
    "В этом пункте мы посмотрели как распределяется количество объявлений по времени их размещения. Отсекли слишком медленные продажи, на основании результата построения диаграммы размаха. Постарались отсечь быстрые продажи, на основании данных независимых экспертов (данные получены из интернета). На основании среза \"нормальных\" продаж еще раз посчитали медиану и среднее. Полученные результаты, считаю более близки к жизни, чем полученные из не обработанных данных."
   ]
  },
  {
   "cell_type": "markdown",
   "metadata": {},
   "source": [
    "### Факторы влияющие на стоимость квартиры"
   ]
  },
  {
   "cell_type": "markdown",
   "metadata": {},
   "source": [
    "Посмотрим, какие факторы больше всего влияют на стоимость квартиры."
   ]
  },
  {
   "cell_type": "markdown",
   "metadata": {},
   "source": [
    "В первую очередь посмотрим насколько сильно зависит цена от площади квартиры. Для этого посчитаем  коэффициент корреляцию Пирсона методом corr(), а затем для наглядности построим диаграмму рассеивания методом plot(). "
   ]
  },
  {
   "cell_type": "code",
   "execution_count": 211,
   "metadata": {},
   "outputs": [
    {
     "data": {
      "text/plain": [
       "0.6537428966335397"
      ]
     },
     "execution_count": 211,
     "metadata": {},
     "output_type": "execute_result"
    }
   ],
   "source": [
    "df['last_price'].corr(df['total_area']) #расчет коэффициента корреляции"
   ]
  },
  {
   "cell_type": "code",
   "execution_count": 212,
   "metadata": {},
   "outputs": [
    {
     "data": {
      "image/png": "[encoded data removed]",
      "text/plain": [
       "<Figure size 432x288 with 1 Axes>"
      ]
     },
     "metadata": {
      "needs_background": "light"
     },
     "output_type": "display_data"
    }
   ],
   "source": [
    "df.plot(x='last_price', y= 'total_area', kind = 'scatter') \n",
    "plt.show()"
   ]
  },
  {
   "cell_type": "markdown",
   "metadata": {},
   "source": [
    "Коэффициент корреляции достаточно большой, но не равен единице. Да и на графике общая тенденция увеличения стоимоcти при увеличении площади просмотривается. Но есть выбивающиеся из общей картины значения."
   ]
  },
  {
   "cell_type": "markdown",
   "metadata": {},
   "source": [
    "Далее посмотрим взаимосвязь между ценой и количеством комнат. Опять посчитаем коээфициент корреляции Пирсона и построим диаграмму рассеивания"
   ]
  },
  {
   "cell_type": "code",
   "execution_count": 213,
   "metadata": {},
   "outputs": [
    {
     "data": {
      "text/plain": [
       "0.36342062218770693"
      ]
     },
     "execution_count": 213,
     "metadata": {},
     "output_type": "execute_result"
    }
   ],
   "source": [
    "df['last_price'].corr(df['rooms']) #расчет коэффициента корреляции"
   ]
  },
  {
   "cell_type": "code",
   "execution_count": 214,
   "metadata": {},
   "outputs": [
    {
     "data": {
      "image/png": "[encoded data removed]",
      "text/plain": [
       "<Figure size 504x360 with 1 Axes>"
      ]
     },
     "metadata": {
      "needs_background": "light"
     },
     "output_type": "display_data"
    }
   ],
   "source": [
    "df.plot(x='last_price', y= 'rooms', kind = 'scatter', ylim=(0, 15), figsize=(7, 5), grid=True) \n",
    "plt.show()"
   ]
  },
  {
   "cell_type": "markdown",
   "metadata": {},
   "source": [
    "Коэффициент корреляции достаточно низкий. По графику также видно, что разное количество комнат может быть за одни и те же деньги. Возможно, лучше рассматривать зависимость цены от площади и количества комнат вместе."
   ]
  },
  {
   "cell_type": "markdown",
   "metadata": {},
   "source": [
    "Аналогично предыдущим парам параметров, посмотрим на взаимосвязь цены и удаленности от центра."
   ]
  },
  {
   "cell_type": "code",
   "execution_count": 215,
   "metadata": {},
   "outputs": [
    {
     "data": {
      "text/plain": [
       "-0.20688702501498762"
      ]
     },
     "execution_count": 215,
     "metadata": {},
     "output_type": "execute_result"
    }
   ],
   "source": [
    "df['last_price'].corr(df['cityCenters_nearest']) #расчет коэффициента корреляции"
   ]
  },
  {
   "cell_type": "code",
   "execution_count": 216,
   "metadata": {},
   "outputs": [
    {
     "data": {
      "image/png": "[encoded data removed]",
      "text/plain": [
       "<Figure size 504x360 with 1 Axes>"
      ]
     },
     "metadata": {
      "needs_background": "light"
     },
     "output_type": "display_data"
    }
   ],
   "source": [
    "df.plot(x='last_price', y= 'cityCenters_nearest', kind = 'scatter', figsize=(7, 5), grid=True)\n",
    "plt.show()"
   ]
  },
  {
   "cell_type": "markdown",
   "metadata": {},
   "source": [
    "Здесь у нас ситуация, когда коэффициент корреляции отрицательный, т.е. при увеличении удаленности от центра, цена становится ниже. Но поскольку относительная величина коэффициента не велика, то можно сказать о достаточно слабой взаимосвязи между этими показателями."
   ]
  },
  {
   "cell_type": "markdown",
   "metadata": {},
   "source": [
    "Далее нужно определить влияет ли этаж на цену"
   ]
  },
  {
   "cell_type": "markdown",
   "metadata": {},
   "source": [
    "Для этой задачи, чучше построить столбчатую диаграмму используя параметр kind='bar'"
   ]
  },
  {
   "cell_type": "code",
   "execution_count": 217,
   "metadata": {},
   "outputs": [
    {
     "data": {
      "image/png": "[encoded data removed]",
      "text/plain": [
       "<Figure size 504x360 with 1 Axes>"
      ]
     },
     "metadata": {
      "needs_background": "light"
     },
     "output_type": "display_data"
    }
   ],
   "source": [
    "df.pivot_table(index= 'floor_group', values ='last_price', aggfunc='median').plot(kind='bar', figsize=(7, 5), grid=True)\n",
    "plt.show()"
   ]
  },
  {
   "cell_type": "markdown",
   "metadata": {},
   "source": [
    "Первый этаж самый дешевый, последний подороже, но лучше по цене этажи между ними. На практике, действительно так и есть, что первый этаж в доме самый дешевый, а с увеличением номера этажа цена растет.При этом последний, этаж в обычных домах тоже ценится ниже, чем идущий перед ним. Чаще всего это связано с теми особенностями, которые характерны для них: первый сырой и темный от близости земли и подвала, а на последнем возможны протечки с крыши (по крайней мере такое представление есть в головах людей)."
   ]
  },
  {
   "cell_type": "markdown",
   "metadata": {},
   "source": [
    "Необходимо определить влияет ли дата размещения (год, месяц, день недели) на стоимость квартиры."
   ]
  },
  {
   "cell_type": "markdown",
   "metadata": {},
   "source": [
    "Для этого сгруппируем о цене по столбцу с указанием года (столбик 'year') и построим график. При определении значения стоимости возьмем медиану, как более устойчивую к выбросам"
   ]
  },
  {
   "cell_type": "code",
   "execution_count": 218,
   "metadata": {},
   "outputs": [
    {
     "data": {
      "image/png": "[encoded data removed]",
      "text/plain": [
       "<Figure size 504x360 with 1 Axes>"
      ]
     },
     "metadata": {
      "needs_background": "light"
     },
     "output_type": "display_data"
    }
   ],
   "source": [
    "df.pivot_table(index= 'year', values ='last_price', aggfunc='median').plot(figsize=(7, 5), grid=True)\n",
    "plt.show()"
   ]
  },
  {
   "cell_type": "markdown",
   "metadata": {},
   "source": [
    "Цены на квартиры в 2014 г. были значительно выше, чем в последующие годы. Сильный спад цен пришелся на 2018г. В 2019 цены опять начали расти.\n"
   ]
  },
  {
   "cell_type": "markdown",
   "metadata": {},
   "source": [
    "Аналогично посмотрим влияет ли месяц на колебание цены:"
   ]
  },
  {
   "cell_type": "code",
   "execution_count": 219,
   "metadata": {},
   "outputs": [
    {
     "data": {
      "image/png": "[encoded data removed]",
      "text/plain": [
       "<Figure size 504x360 with 1 Axes>"
      ]
     },
     "metadata": {
      "needs_background": "light"
     },
     "output_type": "display_data"
    }
   ],
   "source": [
    "df.pivot_table(index= 'month', values ='last_price', aggfunc='median').plot(figsize=(7, 5), grid=True)\n",
    "plt.show()"
   ]
  },
  {
   "cell_type": "markdown",
   "metadata": {},
   "source": [
    "Пик стоимости продаж приходится на апрель, а спад на июнь. Все остальные месяцы характеризуются спадами и падениями примерно в одном диапазоне."
   ]
  },
  {
   "cell_type": "markdown",
   "metadata": {},
   "source": [
    "И последне, что посмотрим влияние дня недели на цену."
   ]
  },
  {
   "cell_type": "code",
   "execution_count": 220,
   "metadata": {},
   "outputs": [
    {
     "data": {
      "image/png": "[encoded data removed]",
      "text/plain": [
       "<Figure size 504x360 with 1 Axes>"
      ]
     },
     "metadata": {
      "needs_background": "light"
     },
     "output_type": "display_data"
    }
   ],
   "source": [
    "df.pivot_table(index= 'weekday', values ='last_price', aggfunc='median').plot(figsize=(7, 5), grid=True)\n",
    "plt.show()"
   ]
  },
  {
   "cell_type": "markdown",
   "metadata": {},
   "source": [
    "Во вторник цены выше, а в воскресенье цены самые низкие."
   ]
  },
  {
   "cell_type": "markdown",
   "metadata": {},
   "source": [
    "Дополнительно посчитаем коэффициент корреляции цены от значения года, месяца и дня недели."
   ]
  },
  {
   "cell_type": "code",
   "execution_count": 221,
   "metadata": {},
   "outputs": [
    {
     "data": {
      "text/plain": [
       "-0.04292705107683146"
      ]
     },
     "execution_count": 221,
     "metadata": {},
     "output_type": "execute_result"
    }
   ],
   "source": [
    "df['last_price'].corr(df['year'])\n",
    "\n",
    "    "
   ]
  },
  {
   "cell_type": "code",
   "execution_count": 222,
   "metadata": {},
   "outputs": [
    {
     "data": {
      "text/plain": [
       "0.002741029419924221"
      ]
     },
     "execution_count": 222,
     "metadata": {},
     "output_type": "execute_result"
    }
   ],
   "source": [
    "df['last_price'].corr(df['month'])"
   ]
  },
  {
   "cell_type": "code",
   "execution_count": 223,
   "metadata": {},
   "outputs": [
    {
     "data": {
      "text/plain": [
       "0.0016068614793023986"
      ]
     },
     "execution_count": 223,
     "metadata": {},
     "output_type": "execute_result"
    }
   ],
   "source": [
    "df['last_price'].corr(df['weekday'])"
   ]
  },
  {
   "cell_type": "markdown",
   "metadata": {},
   "source": [
    "Коэффициенты очень низкие, возможно связь очень слабая, а возможно есть какие-то дополнительные факторы. "
   ]
  },
  {
   "cell_type": "markdown",
   "metadata": {},
   "source": [
    "### Определение 10 населенных пунктов с наибольшим количеством объявлений"
   ]
  },
  {
   "cell_type": "markdown",
   "metadata": {},
   "source": [
    "Необходимо найти 10 населенных пунктов с наибольшим количеством объявлений."
   ]
  },
  {
   "cell_type": "code",
   "execution_count": 224,
   "metadata": {},
   "outputs": [
    {
     "data": {
      "text/html": [
       "<div>\n",
       "<style scoped>\n",
       "    .dataframe tbody tr th:only-of-type {\n",
       "        vertical-align: middle;\n",
       "    }\n",
       "\n",
       "    .dataframe tbody tr th {\n",
       "        vertical-align: top;\n",
       "    }\n",
       "\n",
       "    .dataframe thead th {\n",
       "        text-align: right;\n",
       "    }\n",
       "</style>\n",
       "<table border=\"1\" class=\"dataframe\">\n",
       "  <thead>\n",
       "    <tr style=\"text-align: right;\">\n",
       "      <th></th>\n",
       "      <th>count</th>\n",
       "    </tr>\n",
       "    <tr>\n",
       "      <th>locality_name</th>\n",
       "      <th></th>\n",
       "    </tr>\n",
       "  </thead>\n",
       "  <tbody>\n",
       "    <tr>\n",
       "      <td>Санкт-Петербург</td>\n",
       "      <td>15721</td>\n",
       "    </tr>\n",
       "    <tr>\n",
       "      <td>поселок Мурино</td>\n",
       "      <td>590</td>\n",
       "    </tr>\n",
       "    <tr>\n",
       "      <td>поселок Шушары</td>\n",
       "      <td>440</td>\n",
       "    </tr>\n",
       "    <tr>\n",
       "      <td>Всеволожск</td>\n",
       "      <td>398</td>\n",
       "    </tr>\n",
       "    <tr>\n",
       "      <td>Пушкин</td>\n",
       "      <td>369</td>\n",
       "    </tr>\n",
       "    <tr>\n",
       "      <td>Колпино</td>\n",
       "      <td>338</td>\n",
       "    </tr>\n",
       "    <tr>\n",
       "      <td>поселок Парголово</td>\n",
       "      <td>327</td>\n",
       "    </tr>\n",
       "    <tr>\n",
       "      <td>Гатчина</td>\n",
       "      <td>307</td>\n",
       "    </tr>\n",
       "    <tr>\n",
       "      <td>деревня Кудрово</td>\n",
       "      <td>299</td>\n",
       "    </tr>\n",
       "    <tr>\n",
       "      <td>Выборг</td>\n",
       "      <td>237</td>\n",
       "    </tr>\n",
       "  </tbody>\n",
       "</table>\n",
       "</div>"
      ],
      "text/plain": [
       "                   count\n",
       "locality_name           \n",
       "Санкт-Петербург    15721\n",
       "поселок Мурино       590\n",
       "поселок Шушары       440\n",
       "Всеволожск           398\n",
       "Пушкин               369\n",
       "Колпино              338\n",
       "поселок Парголово    327\n",
       "Гатчина              307\n",
       "деревня Кудрово      299\n",
       "Выборг               237"
      ]
     },
     "metadata": {},
     "output_type": "display_data"
    }
   ],
   "source": [
    "locality_name_group = df.groupby('locality_name').agg({'locality_name': 'count'}) # сгруппируем данные по столбцу и посчитаем количество занчений в каждой группе\n",
    "locality_name_group.columns = ['count'] # переименуем заголовок столбца\n",
    "locality_name_group = locality_name_group.sort_values(by='count', ascending=False) # отсортируем список по убыванию\n",
    "display(locality_name_group.head(10)) \n"
   ]
  },
  {
   "cell_type": "code",
   "execution_count": 225,
   "metadata": {},
   "outputs": [],
   "source": [
    "locality_name_top = locality_name_group[0:10] # занесем первые 10 пунктов в переменную\n"
   ]
  },
  {
   "cell_type": "markdown",
   "metadata": {},
   "source": [
    "Сделаем срез методом query() по данным из внешней переменной. Для этого проверим вхождение в индекс."
   ]
  },
  {
   "cell_type": "code",
   "execution_count": 226,
   "metadata": {},
   "outputs": [],
   "source": [
    "locality_name_top_list =df.query('locality_name in @locality_name_top.index') #проверяем есть ли значение среди индексов серии"
   ]
  },
  {
   "cell_type": "markdown",
   "metadata": {},
   "source": [
    "Далее построим сводную таблицу в которой, по каждому из наших 10 выбранных населенных пунктов посчитаем сумму цеи сумму площадей. Далее на основании этих данных расчитаем, среднюю цену квадратного метра в каждом их населенных пунктов."
   ]
  },
  {
   "cell_type": "code",
   "execution_count": 227,
   "metadata": {},
   "outputs": [
    {
     "data": {
      "text/html": [
       "<div>\n",
       "<style scoped>\n",
       "    .dataframe tbody tr th:only-of-type {\n",
       "        vertical-align: middle;\n",
       "    }\n",
       "\n",
       "    .dataframe tbody tr th {\n",
       "        vertical-align: top;\n",
       "    }\n",
       "\n",
       "    .dataframe thead th {\n",
       "        text-align: right;\n",
       "    }\n",
       "</style>\n",
       "<table border=\"1\" class=\"dataframe\">\n",
       "  <thead>\n",
       "    <tr style=\"text-align: right;\">\n",
       "      <th></th>\n",
       "      <th>sum_price</th>\n",
       "      <th>sum_area</th>\n",
       "      <th>price_mean</th>\n",
       "    </tr>\n",
       "    <tr>\n",
       "      <th>locality_name</th>\n",
       "      <th></th>\n",
       "      <th></th>\n",
       "      <th></th>\n",
       "    </tr>\n",
       "  </thead>\n",
       "  <tbody>\n",
       "    <tr>\n",
       "      <td>Санкт-Петербург</td>\n",
       "      <td>1.267507e+11</td>\n",
       "      <td>1017958.15</td>\n",
       "      <td>124515.0</td>\n",
       "    </tr>\n",
       "    <tr>\n",
       "      <td>Пушкин</td>\n",
       "      <td>2.387074e+09</td>\n",
       "      <td>22712.98</td>\n",
       "      <td>105097.0</td>\n",
       "    </tr>\n",
       "    <tr>\n",
       "      <td>деревня Кудрово</td>\n",
       "      <td>1.266013e+09</td>\n",
       "      <td>13924.95</td>\n",
       "      <td>90917.0</td>\n",
       "    </tr>\n",
       "    <tr>\n",
       "      <td>поселок Парголово</td>\n",
       "      <td>1.467600e+09</td>\n",
       "      <td>16847.50</td>\n",
       "      <td>87111.0</td>\n",
       "    </tr>\n",
       "    <tr>\n",
       "      <td>поселок Мурино</td>\n",
       "      <td>2.170293e+09</td>\n",
       "      <td>26018.37</td>\n",
       "      <td>83414.0</td>\n",
       "    </tr>\n",
       "    <tr>\n",
       "      <td>поселок Шушары</td>\n",
       "      <td>1.807556e+09</td>\n",
       "      <td>23681.36</td>\n",
       "      <td>76328.0</td>\n",
       "    </tr>\n",
       "    <tr>\n",
       "      <td>Колпино</td>\n",
       "      <td>1.339839e+09</td>\n",
       "      <td>17992.24</td>\n",
       "      <td>74468.0</td>\n",
       "    </tr>\n",
       "    <tr>\n",
       "      <td>Гатчина</td>\n",
       "      <td>1.070919e+09</td>\n",
       "      <td>15639.48</td>\n",
       "      <td>68475.0</td>\n",
       "    </tr>\n",
       "    <tr>\n",
       "      <td>Всеволожск</td>\n",
       "      <td>1.508049e+09</td>\n",
       "      <td>22296.83</td>\n",
       "      <td>67635.0</td>\n",
       "    </tr>\n",
       "    <tr>\n",
       "      <td>Выборг</td>\n",
       "      <td>7.704830e+08</td>\n",
       "      <td>13307.56</td>\n",
       "      <td>57898.0</td>\n",
       "    </tr>\n",
       "  </tbody>\n",
       "</table>\n",
       "</div>"
      ],
      "text/plain": [
       "                      sum_price    sum_area  price_mean\n",
       "locality_name                                          \n",
       "Санкт-Петербург    1.267507e+11  1017958.15    124515.0\n",
       "Пушкин             2.387074e+09    22712.98    105097.0\n",
       "деревня Кудрово    1.266013e+09    13924.95     90917.0\n",
       "поселок Парголово  1.467600e+09    16847.50     87111.0\n",
       "поселок Мурино     2.170293e+09    26018.37     83414.0\n",
       "поселок Шушары     1.807556e+09    23681.36     76328.0\n",
       "Колпино            1.339839e+09    17992.24     74468.0\n",
       "Гатчина            1.070919e+09    15639.48     68475.0\n",
       "Всеволожск         1.508049e+09    22296.83     67635.0\n",
       "Выборг             7.704830e+08    13307.56     57898.0"
      ]
     },
     "metadata": {},
     "output_type": "display_data"
    }
   ],
   "source": [
    "locality_name_top_price_mean = locality_name_top_list.groupby('locality_name').agg({'last_price': ['sum'], 'total_area': ['sum']}) #создаем сводную таблицу\n",
    "locality_name_top_price_mean.columns = ['sum_price','sum_area'] # переименовываем названия столбцов\n",
    "\n",
    "locality_name_top_price_mean['price_mean'] = round(locality_name_top_price_mean['sum_price'] / locality_name_top_price_mean['sum_area']) #считаем среднюю стоимость кв. м и округляем значение до целого\n",
    "display(locality_name_top_price_mean.sort_values(by ='price_mean', ascending =False))\n"
   ]
  },
  {
   "cell_type": "markdown",
   "metadata": {},
   "source": [
    "Самая высокая стоимость жилья в Санкт-Петербургу, а самая из Топ-10 - это в Выборгу (почти в половину ниже чем в Питере).Второй по стоимости после Санкт-Петербурга- это Пушкин."
   ]
  },
  {
   "cell_type": "markdown",
   "metadata": {},
   "source": [
    "### Изучение предложения квартир в Санкт-Петербурге"
   ]
  },
  {
   "cell_type": "markdown",
   "metadata": {},
   "source": [
    "Изучим предложение квартир в Санкт-Петербурге. "
   ]
  },
  {
   "cell_type": "markdown",
   "metadata": {},
   "source": [
    "Для начала выделим список квартир, которые относятся к СПб."
   ]
  },
  {
   "cell_type": "code",
   "execution_count": 228,
   "metadata": {},
   "outputs": [],
   "source": [
    "apartmens_spb = df.query('locality_name == \"Санкт-Петербург\"') #делаем срез по заданному условию\n"
   ]
  },
  {
   "cell_type": "markdown",
   "metadata": {},
   "source": [
    "В данных есть небольшое количество пропусков, поэтому лучше мы их удалим."
   ]
  },
  {
   "cell_type": "code",
   "execution_count": 229,
   "metadata": {},
   "outputs": [],
   "source": [
    "apartmens_spb = apartmens_spb.dropna(subset=['cityCenters_nearest']) #удаление строк с пропусками в столбце расстояние до центра\n"
   ]
  },
  {
   "cell_type": "markdown",
   "metadata": {},
   "source": [
    "Переведем расстояние в метрах в расстояние в километрах, а значения округлим до целого значения."
   ]
  },
  {
   "cell_type": "code",
   "execution_count": 230,
   "metadata": {},
   "outputs": [],
   "source": [
    "import warnings\n",
    "warnings.simplefilter(\"ignore\")\n",
    "apartmens_spb['center_nearest_km'] = round(apartmens_spb['cityCenters_nearest'] / 1000)"
   ]
  },
  {
   "cell_type": "markdown",
   "metadata": {},
   "source": [
    "Посчитаем корреляцию расстояния в км и стоимости квартир."
   ]
  },
  {
   "cell_type": "code",
   "execution_count": 231,
   "metadata": {},
   "outputs": [
    {
     "data": {
      "text/plain": [
       "-0.2593987607930819"
      ]
     },
     "execution_count": 231,
     "metadata": {},
     "output_type": "execute_result"
    }
   ],
   "source": [
    "apartmens_spb['center_nearest_km'].corr(apartmens_spb['last_price'])"
   ]
  },
  {
   "cell_type": "markdown",
   "metadata": {},
   "source": [
    "Коэффициент отрицательный, т.е. при увеличении расстояния от центра, стоимости снижается. При этом величина коэффициента не большая, что говорит, о том, что связь не очень сильная."
   ]
  },
  {
   "cell_type": "markdown",
   "metadata": {},
   "source": [
    "Построим график зависимости цены от удаленности от центра. Для этого сгруппируем данные по показателю расстояния и посчитаем среднюю цену для каждой группы."
   ]
  },
  {
   "cell_type": "code",
   "execution_count": 232,
   "metadata": {},
   "outputs": [
    {
     "data": {
      "image/png": "[encoded data removed]",
      "text/plain": [
       "<Figure size 504x360 with 1 Axes>"
      ]
     },
     "metadata": {
      "needs_background": "light"
     },
     "output_type": "display_data"
    }
   ],
   "source": [
    "apartmens_spb.pivot_table(index= 'center_nearest_km', values ='last_price', aggfunc='mean').plot(figsize=(7, 5), grid=True)\n",
    "plt.show()"
   ]
  },
  {
   "cell_type": "markdown",
   "metadata": {},
   "source": [
    "На графике видно резкое изменение в районе 3 км от центра, но затем подьем и резкое снижение в районе 7 км. Будем считать эту отметку границей центральной зоны."
   ]
  },
  {
   "cell_type": "markdown",
   "metadata": {},
   "source": []
  },
  {
   "cell_type": "markdown",
   "metadata": {},
   "source": [
    "### Анализ квартир в центре"
   ]
  },
  {
   "cell_type": "markdown",
   "metadata": {},
   "source": [
    "Выделим отдельно центральную зону и посмотрим, отличаются ли показатели от тех, которые мы расчитавали в начале анализа по всей выборке."
   ]
  },
  {
   "cell_type": "code",
   "execution_count": 233,
   "metadata": {},
   "outputs": [],
   "source": [
    "central_segment = apartmens_spb.query('center_nearest_km < 7') # срез данных по заданному условию"
   ]
  },
  {
   "cell_type": "markdown",
   "metadata": {},
   "source": [
    "Построим гистограмму по распределению площади:"
   ]
  },
  {
   "cell_type": "code",
   "execution_count": 234,
   "metadata": {},
   "outputs": [
    {
     "data": {
      "image/png": "[encoded data removed]",
      "text/plain": [
       "<Figure size 576x432 with 1 Axes>"
      ]
     },
     "metadata": {
      "needs_background": "light"
     },
     "output_type": "display_data"
    }
   ],
   "source": [
    "central_segment['total_area'].hist(bins=50, figsize=(8, 6))\n",
    "plt.xlabel('Общая площадь, м')\n",
    "plt.ylabel('Частота')\n",
    "plt.show()"
   ]
  },
  {
   "cell_type": "markdown",
   "metadata": {},
   "source": [
    "Наибольшее количество квартир в заданой области имеет площадь в районе 70 кв.м. В то время, как в первоначальной выборки основная масса была площадью 50 кв.м. После 150 кв.м количество встречаемости квартир с большей площадью уменьшается. "
   ]
  },
  {
   "cell_type": "markdown",
   "metadata": {},
   "source": [
    "Гистрограмма по показателю цены:"
   ]
  },
  {
   "cell_type": "code",
   "execution_count": 235,
   "metadata": {},
   "outputs": [
    {
     "data": {
      "image/png": "[encoded data removed]",
      "text/plain": [
       "<Figure size 576x432 with 1 Axes>"
      ]
     },
     "metadata": {
      "needs_background": "light"
     },
     "output_type": "display_data"
    }
   ],
   "source": [
    "central_segment['last_price'].hist(bins=50, range=(0, 100000000), figsize=(8, 6))\n",
    "plt.xlabel('Цена')\n",
    "plt.ylabel('Частота')\n",
    "plt.show()"
   ]
  },
  {
   "cell_type": "markdown",
   "metadata": {},
   "source": [
    "Наибольшее количество квартир с ценой в районе 10 миллионов. Картина похожа распределение в общей выборке."
   ]
  },
  {
   "cell_type": "markdown",
   "metadata": {},
   "source": [
    "Гистограмма по количеству комнат"
   ]
  },
  {
   "cell_type": "code",
   "execution_count": 236,
   "metadata": {},
   "outputs": [
    {
     "data": {
      "image/png": "[encoded data removed]",
      "text/plain": [
       "<Figure size 576x432 with 1 Axes>"
      ]
     },
     "metadata": {
      "needs_background": "light"
     },
     "output_type": "display_data"
    }
   ],
   "source": [
    "central_segment['rooms'].hist(bins=15, range=(0,15), figsize=(8, 6))\n",
    "plt.xlabel('количество комнат')\n",
    "plt.ylabel('Частота')\n",
    "plt.show()"
   ]
  },
  {
   "cell_type": "markdown",
   "metadata": {},
   "source": [
    "А вот здесь отличие от данных в общей выборке. Однокомнатных квартир не очень много. Больше всего четырехкомнатных и чуть меньше трехкомнатных, тогда как в общей выборке основными были одно- и двухкомнатные квартиры. При большем количестве комнат гистограммы достаточно похожи."
   ]
  },
  {
   "cell_type": "markdown",
   "metadata": {},
   "source": [
    "Гистограмма по высоте потолков:"
   ]
  },
  {
   "cell_type": "code",
   "execution_count": 237,
   "metadata": {},
   "outputs": [
    {
     "data": {
      "image/png": "[encoded data removed]",
      "text/plain": [
       "<Figure size 576x432 with 1 Axes>"
      ]
     },
     "metadata": {
      "needs_background": "light"
     },
     "output_type": "display_data"
    }
   ],
   "source": [
    "central_segment['ceiling_height'].hist(bins=50, range=(2, 5), figsize=(8, 6))\n",
    "plt.xlabel('Высота потолков, м')\n",
    "plt.ylabel('Частота')\n",
    "plt.show()"
   ]
  },
  {
   "cell_type": "markdown",
   "metadata": {},
   "source": [
    "Больше всего квартир с потолками 2,7 м, хотя достаточное количество 3, 3,2 и 3,5 м, что скорее всего объясняется, тем, что в центре большинство домов старых, еще дореволюционной постройки, где были высокие потолки. В общей выборке смещение было в сторону высоты 2,5-2,7 м.- т.к туда попадает много квартир эконом-класса с невысокими потолками."
   ]
  },
  {
   "cell_type": "markdown",
   "metadata": {},
   "source": [
    "Посмотрим взаимосвязь цены и общей площади, посчитав коэффициент корреляции и построив диаграмму рассеивания, как мы это уже делали ранее"
   ]
  },
  {
   "cell_type": "code",
   "execution_count": 238,
   "metadata": {},
   "outputs": [
    {
     "data": {
      "text/plain": [
       "0.6046693648979125"
      ]
     },
     "execution_count": 238,
     "metadata": {},
     "output_type": "execute_result"
    }
   ],
   "source": [
    "central_segment['last_price'].corr(df['total_area'])"
   ]
  },
  {
   "cell_type": "markdown",
   "metadata": {},
   "source": [
    "Коэффициент корреляции немного ниже, чем посчитанный по общей выборке. Для центра города - это нормально, потому престижность жилья, может влиять сильнее, желание жить в более большой квартире."
   ]
  },
  {
   "cell_type": "code",
   "execution_count": 239,
   "metadata": {},
   "outputs": [
    {
     "data": {
      "image/png": "[encoded data removed]",
      "text/plain": [
       "<Figure size 432x288 with 1 Axes>"
      ]
     },
     "metadata": {
      "needs_background": "light"
     },
     "output_type": "display_data"
    }
   ],
   "source": [
    "central_segment.plot(x='last_price', y= 'total_area', kind = 'scatter') \n",
    "plt.show()"
   ]
  },
  {
   "cell_type": "markdown",
   "metadata": {},
   "source": [
    "Рисунок на диаграмме рассеивания, очень похож на общую тенденцию полученную в общей выборке."
   ]
  },
  {
   "cell_type": "markdown",
   "metadata": {},
   "source": [
    "Взаимосвязь цены и количества комнат:"
   ]
  },
  {
   "cell_type": "code",
   "execution_count": 240,
   "metadata": {},
   "outputs": [
    {
     "data": {
      "text/plain": [
       "0.3039709156688261"
      ]
     },
     "execution_count": 240,
     "metadata": {},
     "output_type": "execute_result"
    }
   ],
   "source": [
    "central_segment['last_price'].corr(df['rooms'])"
   ]
  },
  {
   "cell_type": "code",
   "execution_count": 241,
   "metadata": {},
   "outputs": [
    {
     "data": {
      "image/png": "[encoded data removed]",
      "text/plain": [
       "<Figure size 504x360 with 1 Axes>"
      ]
     },
     "metadata": {
      "needs_background": "light"
     },
     "output_type": "display_data"
    }
   ],
   "source": [
    "central_segment.plot(x='last_price', y= 'rooms', kind = 'scatter', ylim=(0, 15), figsize=(7, 5), grid=True) \n",
    "plt.show()"
   ]
  },
  {
   "cell_type": "markdown",
   "metadata": {},
   "source": [
    "Здесь сюрпризов нет. Коэффициент корреляции также не высок, что говорит о слабой связи этих показателей, а рисунок на диаграмме очень похож, на тот , который был получен по общей выборке."
   ]
  },
  {
   "cell_type": "markdown",
   "metadata": {},
   "source": [
    "Посмотрим взаимосвязь этажа и стоимости квартиры"
   ]
  },
  {
   "cell_type": "code",
   "execution_count": 242,
   "metadata": {},
   "outputs": [
    {
     "data": {
      "image/png": "[encoded data removed]",
      "text/plain": [
       "<Figure size 504x360 with 1 Axes>"
      ]
     },
     "metadata": {
      "needs_background": "light"
     },
     "output_type": "display_data"
    }
   ],
   "source": [
    "central_segment.pivot_table(index= 'floor_group', values ='last_price', aggfunc='median').plot(kind='bar', figsize=(7, 5), grid=True)\n",
    "plt.show()"
   ]
  },
  {
   "cell_type": "markdown",
   "metadata": {},
   "source": [
    "Здесь тоже нет неожиданностей. Картина похода на то, что мы уже видели по общей выборке. "
   ]
  },
  {
   "cell_type": "markdown",
   "metadata": {},
   "source": [
    "Взаимосвязь удаленности от центра и цены:"
   ]
  },
  {
   "cell_type": "code",
   "execution_count": 243,
   "metadata": {},
   "outputs": [
    {
     "data": {
      "text/plain": [
       "-0.05043937954089692"
      ]
     },
     "execution_count": 243,
     "metadata": {},
     "output_type": "execute_result"
    }
   ],
   "source": [
    "central_segment['last_price'].corr(df['cityCenters_nearest'])"
   ]
  },
  {
   "cell_type": "code",
   "execution_count": 244,
   "metadata": {},
   "outputs": [
    {
     "data": {
      "image/png": "[encoded data removed]",
      "text/plain": [
       "<Figure size 504x360 with 1 Axes>"
      ]
     },
     "metadata": {
      "needs_background": "light"
     },
     "output_type": "display_data"
    }
   ],
   "source": [
    "central_segment.plot(x='last_price', y= 'cityCenters_nearest', kind = 'scatter', figsize=(7, 5), grid=True)\n",
    "plt.show()"
   ]
  },
  {
   "cell_type": "markdown",
   "metadata": {},
   "source": [
    "Поскольку сейчас мы рассматриваем центральную зону, то данные внутри должны быть достаточно однородны или с плавными переходами. Эта зона достаточно не большая, то и связь цены и удаленности от центра маленькая."
   ]
  },
  {
   "cell_type": "markdown",
   "metadata": {},
   "source": [
    "Взаимосвязь даты размещения объявления и цены:"
   ]
  },
  {
   "cell_type": "code",
   "execution_count": 245,
   "metadata": {},
   "outputs": [
    {
     "data": {
      "image/png": "[encoded data removed]",
      "text/plain": [
       "<Figure size 504x360 with 1 Axes>"
      ]
     },
     "metadata": {
      "needs_background": "light"
     },
     "output_type": "display_data"
    }
   ],
   "source": [
    "central_segment.pivot_table(index= 'year', values ='last_price', aggfunc='median').plot(figsize=(7, 5), grid=True)\n",
    "plt.show()"
   ]
  },
  {
   "cell_type": "code",
   "execution_count": 246,
   "metadata": {},
   "outputs": [
    {
     "data": {
      "text/plain": [
       "-0.03230552138621508"
      ]
     },
     "execution_count": 246,
     "metadata": {},
     "output_type": "execute_result"
    }
   ],
   "source": [
    "central_segment['last_price'].corr(df['year']) # коэффициент корреляции для центрального сегмента"
   ]
  },
  {
   "cell_type": "markdown",
   "metadata": {},
   "source": [
    "Взаимосвязь даты размещения объявления и цены по центральной зоне и по всей выборке очень похожи, хотя коэффициент корреляции по всей выборке чуть больше, но все равно очень низкий."
   ]
  },
  {
   "cell_type": "markdown",
   "metadata": {},
   "source": [
    "**Вывод**"
   ]
  },
  {
   "cell_type": "markdown",
   "metadata": {},
   "source": [
    "Данные по центральной зоне во многом похожи на данные полученные по общей выборке. Наиболее часто встречающаяся площадь, немного больше, чем та, которая чаще встречается в общей выборке. Высота потолков, тоже несколько отличается - наиболее встречающиеся показатели выше, чем по общей выборке. В центральной зоне встречаются чаще картиры с 3-4 комнатами, тогда как в общей выборке наиболее часто встречаются квартирвы с 1-2 комнатами. Взаимосвязь таких параметров как число комнат и цены, даты размещения и цены достаточно похожа на взаимосвязь этих же параметров по общей выборке."
   ]
  },
  {
   "cell_type": "markdown",
   "metadata": {},
   "source": [
    "## Общий вывод"
   ]
  },
  {
   "cell_type": "markdown",
   "metadata": {},
   "source": [
    "В данной работе мы получив данные о полученном файле, провели его предобработку: заменили пропущенные значения, где это уместно, преобразовали тип данных и удалили дубликаты."
   ]
  },
  {
   "cell_type": "markdown",
   "metadata": {},
   "source": [
    "Далее мы добавили несколько дополнительных столбцов в таблицу, которые нужны ним были для проведегия анализа."
   ]
  },
  {
   "cell_type": "markdown",
   "metadata": {},
   "source": [
    "В основной части проекта мы провели анализ данных по данным полученным от сервиса Яндекс.Недвижимость. Целью проекта было посмотреть, как распределяется количество объявления в зависимости от параметров площади, цены, числа комнат и высоты потолков. А также, нашей целью, было посмотреть есть ли взаимосвязь между ценой и рядом показателей по общей выборке и на примере центральной зоны Санкт-Петербурга. Наш анализ показал, что например число комнат не особенно влияют на цену. Значительно в большей степени на цену влияет площадь квартиры и этаж. Удаленность от центра влияет на цену в общей выборке, а в пределах центральной зону этой связи практически нет. \n",
    "Сделали анализ и определили, какой период продажи картиры считается нормальным, отбросив слишком медленные и слишком быстрые продажи. Этот период у нас оказался в диапазоне от 30 до 578 дней.\n",
    "Выбрали 10 населенных пунктов, в которых было наибольшее количество объявлений и посчитали среднюю стоимость квадратного метра по ним. Получилось, что самый дорогой кв.м в Санкт-Петербурге, а самый дешевый из выбранных 10 населеных пунктов в Выборге, там стоимость отличается от лидера десятки в два раза."
   ]
  },
  {
   "cell_type": "code",
   "execution_count": null,
   "metadata": {},
   "outputs": [],
   "source": []
  }
 ],
 "metadata": {
  "ExecuteTimeLog": [
   {
    "duration": 516,
    "start_time": "2022-01-29T19:59:57.622Z"
   },
   {
    "duration": 59,
    "start_time": "2022-01-29T19:59:59.120Z"
   },
   {
    "duration": 64,
    "start_time": "2022-01-29T20:00:10.278Z"
   },
   {
    "duration": 14,
    "start_time": "2022-01-29T20:01:53.818Z"
   },
   {
    "duration": 59,
    "start_time": "2022-01-29T20:45:19.428Z"
   },
   {
    "duration": 7,
    "start_time": "2022-01-29T20:45:21.851Z"
   },
   {
    "duration": 60,
    "start_time": "2022-01-29T20:45:35.731Z"
   },
   {
    "duration": 6,
    "start_time": "2022-01-29T20:45:36.628Z"
   },
   {
    "duration": 3,
    "start_time": "2022-01-29T20:45:41.800Z"
   },
   {
    "duration": 60,
    "start_time": "2022-01-29T20:45:42.471Z"
   },
   {
    "duration": 7,
    "start_time": "2022-01-29T20:45:43.405Z"
   },
   {
    "duration": 738,
    "start_time": "2022-01-29T20:50:29.051Z"
   },
   {
    "duration": 94,
    "start_time": "2022-01-29T20:50:44.301Z"
   },
   {
    "duration": 137,
    "start_time": "2022-01-29T20:50:55.183Z"
   },
   {
    "duration": 7,
    "start_time": "2022-01-29T20:50:57.274Z"
   },
   {
    "duration": 97,
    "start_time": "2022-01-29T20:51:50.003Z"
   },
   {
    "duration": 7,
    "start_time": "2022-01-29T20:51:51.693Z"
   },
   {
    "duration": 94,
    "start_time": "2022-01-29T20:52:44.560Z"
   },
   {
    "duration": 22,
    "start_time": "2022-01-29T20:52:47.278Z"
   },
   {
    "duration": 23,
    "start_time": "2022-01-29T20:53:24.406Z"
   },
   {
    "duration": 38,
    "start_time": "2022-01-29T20:54:17.972Z"
   },
   {
    "duration": 21,
    "start_time": "2022-01-29T20:54:32.131Z"
   },
   {
    "duration": 194,
    "start_time": "2022-01-29T21:05:41.763Z"
   },
   {
    "duration": 20,
    "start_time": "2022-01-29T21:06:01.069Z"
   },
   {
    "duration": 90,
    "start_time": "2022-01-29T21:07:48.883Z"
   },
   {
    "duration": 25,
    "start_time": "2022-01-29T21:07:50.019Z"
   },
   {
    "duration": 20,
    "start_time": "2022-01-29T21:07:51.765Z"
   },
   {
    "duration": 17,
    "start_time": "2022-01-29T21:07:52.859Z"
   },
   {
    "duration": 35,
    "start_time": "2022-01-29T21:07:55.799Z"
   },
   {
    "duration": 62,
    "start_time": "2022-01-29T21:08:35.756Z"
   },
   {
    "duration": 7,
    "start_time": "2022-01-29T21:08:39.156Z"
   },
   {
    "duration": 9,
    "start_time": "2022-01-29T21:08:41.182Z"
   },
   {
    "duration": 156,
    "start_time": "2022-01-29T21:08:53.032Z"
   },
   {
    "duration": 7,
    "start_time": "2022-01-29T21:08:54.765Z"
   },
   {
    "duration": 99,
    "start_time": "2022-01-29T21:09:06.169Z"
   },
   {
    "duration": 27,
    "start_time": "2022-01-29T21:09:08.083Z"
   },
   {
    "duration": 20,
    "start_time": "2022-01-29T21:09:09.647Z"
   },
   {
    "duration": 18,
    "start_time": "2022-01-29T21:09:10.832Z"
   },
   {
    "duration": 38,
    "start_time": "2022-01-29T21:09:12.383Z"
   },
   {
    "duration": 79,
    "start_time": "2022-01-29T21:13:31.684Z"
   },
   {
    "duration": 25,
    "start_time": "2022-01-29T21:13:33.129Z"
   },
   {
    "duration": 11,
    "start_time": "2022-01-29T21:13:46.454Z"
   },
   {
    "duration": 10,
    "start_time": "2022-01-29T21:13:47.532Z"
   },
   {
    "duration": 73,
    "start_time": "2022-01-29T21:13:50.668Z"
   },
   {
    "duration": 527,
    "start_time": "2022-01-30T14:43:18.085Z"
   },
   {
    "duration": 62,
    "start_time": "2022-01-30T14:43:18.614Z"
   },
   {
    "duration": 27,
    "start_time": "2022-01-30T14:43:18.678Z"
   },
   {
    "duration": 25,
    "start_time": "2022-01-30T14:43:18.707Z"
   },
   {
    "duration": 7,
    "start_time": "2022-01-30T14:43:18.734Z"
   },
   {
    "duration": 68,
    "start_time": "2022-01-30T14:43:18.742Z"
   },
   {
    "duration": 5,
    "start_time": "2022-01-30T14:59:15.237Z"
   },
   {
    "duration": 402,
    "start_time": "2022-01-30T15:07:24.859Z"
   },
   {
    "duration": 408,
    "start_time": "2022-01-30T15:07:30.591Z"
   },
   {
    "duration": 423,
    "start_time": "2022-01-30T15:34:34.529Z"
   },
   {
    "duration": 26,
    "start_time": "2022-01-30T15:35:10.452Z"
   },
   {
    "duration": 29,
    "start_time": "2022-01-30T15:35:29.428Z"
   },
   {
    "duration": 112,
    "start_time": "2022-01-30T15:59:20.748Z"
   },
   {
    "duration": 114,
    "start_time": "2022-01-30T15:59:31.462Z"
   },
   {
    "duration": 125,
    "start_time": "2022-01-30T16:00:11.343Z"
   },
   {
    "duration": 108,
    "start_time": "2022-01-30T16:00:22.784Z"
   },
   {
    "duration": 121,
    "start_time": "2022-01-30T16:01:22.096Z"
   },
   {
    "duration": 9096,
    "start_time": "2022-01-30T16:01:43.054Z"
   },
   {
    "duration": 810,
    "start_time": "2022-01-30T16:18:59.471Z"
   },
   {
    "duration": 1537,
    "start_time": "2022-01-30T16:20:25.312Z"
   },
   {
    "duration": 812,
    "start_time": "2022-01-30T16:21:52.456Z"
   },
   {
    "duration": 1026,
    "start_time": "2022-01-30T16:22:53.419Z"
   },
   {
    "duration": 1584,
    "start_time": "2022-01-30T16:24:39.599Z"
   },
   {
    "duration": 879,
    "start_time": "2022-01-30T16:25:59.771Z"
   },
   {
    "duration": 114,
    "start_time": "2022-01-30T16:28:56.242Z"
   },
   {
    "duration": 252,
    "start_time": "2022-01-30T16:29:04.657Z"
   },
   {
    "duration": 232,
    "start_time": "2022-01-30T16:29:20.074Z"
   },
   {
    "duration": 193,
    "start_time": "2022-01-30T16:30:59.215Z"
   },
   {
    "duration": 199,
    "start_time": "2022-01-30T16:32:03.472Z"
   },
   {
    "duration": 104,
    "start_time": "2022-01-30T16:32:43.400Z"
   },
   {
    "duration": 192,
    "start_time": "2022-01-30T16:32:51.284Z"
   },
   {
    "duration": 1508,
    "start_time": "2022-01-30T16:33:23.114Z"
   },
   {
    "duration": 199,
    "start_time": "2022-01-30T16:37:56.690Z"
   },
   {
    "duration": 1314,
    "start_time": "2022-01-30T16:41:13.443Z"
   },
   {
    "duration": 1647,
    "start_time": "2022-01-30T16:41:30.583Z"
   },
   {
    "duration": 331,
    "start_time": "2022-01-30T16:42:01.151Z"
   },
   {
    "duration": 21,
    "start_time": "2022-01-30T16:55:39.007Z"
   },
   {
    "duration": 216,
    "start_time": "2022-01-30T17:23:14.145Z"
   },
   {
    "duration": 205,
    "start_time": "2022-01-30T17:24:30.982Z"
   },
   {
    "duration": 2692,
    "start_time": "2022-01-30T17:24:41.482Z"
   },
   {
    "duration": 272,
    "start_time": "2022-01-30T17:24:49.156Z"
   },
   {
    "duration": 271,
    "start_time": "2022-01-30T17:25:42.724Z"
   },
   {
    "duration": 211,
    "start_time": "2022-01-30T17:27:01.158Z"
   },
   {
    "duration": 178,
    "start_time": "2022-01-30T17:27:16.030Z"
   },
   {
    "duration": 208,
    "start_time": "2022-01-30T17:27:27.822Z"
   },
   {
    "duration": 172,
    "start_time": "2022-01-30T17:27:38.147Z"
   },
   {
    "duration": 185,
    "start_time": "2022-01-30T17:27:45.331Z"
   },
   {
    "duration": 301,
    "start_time": "2022-01-30T17:27:57.496Z"
   },
   {
    "duration": 352,
    "start_time": "2022-01-30T17:28:14.784Z"
   },
   {
    "duration": 173,
    "start_time": "2022-01-30T17:28:58.550Z"
   },
   {
    "duration": 364,
    "start_time": "2022-01-30T17:29:06.060Z"
   },
   {
    "duration": 278,
    "start_time": "2022-01-30T17:29:14.303Z"
   },
   {
    "duration": 506,
    "start_time": "2022-01-30T17:30:06.786Z"
   },
   {
    "duration": 8913,
    "start_time": "2022-01-30T17:31:22.116Z"
   },
   {
    "duration": 192,
    "start_time": "2022-01-30T17:31:55.487Z"
   },
   {
    "duration": 281,
    "start_time": "2022-01-30T17:32:04.840Z"
   },
   {
    "duration": 276,
    "start_time": "2022-01-30T17:51:09.132Z"
   },
   {
    "duration": 951,
    "start_time": "2022-01-30T17:51:18.172Z"
   },
   {
    "duration": 113,
    "start_time": "2022-01-30T17:51:26.903Z"
   },
   {
    "duration": 237,
    "start_time": "2022-01-30T17:51:31.867Z"
   },
   {
    "duration": 193,
    "start_time": "2022-01-30T17:51:54.348Z"
   },
   {
    "duration": 183,
    "start_time": "2022-01-30T17:58:06.112Z"
   },
   {
    "duration": 2,
    "start_time": "2022-01-30T18:00:36.244Z"
   },
   {
    "duration": 203,
    "start_time": "2022-01-30T18:00:38.031Z"
   },
   {
    "duration": 329,
    "start_time": "2022-01-30T18:02:33.790Z"
   },
   {
    "duration": 416,
    "start_time": "2022-01-30T18:02:46.106Z"
   },
   {
    "duration": 278,
    "start_time": "2022-01-30T18:02:50.088Z"
   },
   {
    "duration": 295,
    "start_time": "2022-01-30T18:02:54.544Z"
   },
   {
    "duration": 281,
    "start_time": "2022-01-30T18:02:58.150Z"
   },
   {
    "duration": 265,
    "start_time": "2022-01-30T18:03:02.872Z"
   },
   {
    "duration": 283,
    "start_time": "2022-01-30T18:03:07.283Z"
   },
   {
    "duration": 181,
    "start_time": "2022-01-30T18:03:13.633Z"
   },
   {
    "duration": 152,
    "start_time": "2022-01-30T18:10:35.298Z"
   },
   {
    "duration": 310,
    "start_time": "2022-01-30T18:10:43.824Z"
   },
   {
    "duration": 972,
    "start_time": "2022-01-30T18:13:59.769Z"
   },
   {
    "duration": 112,
    "start_time": "2022-01-30T18:15:37.866Z"
   },
   {
    "duration": 865,
    "start_time": "2022-01-30T18:15:43.581Z"
   },
   {
    "duration": 6,
    "start_time": "2022-01-30T18:16:45.270Z"
   },
   {
    "duration": 8,
    "start_time": "2022-01-30T18:17:14.469Z"
   },
   {
    "duration": 5,
    "start_time": "2022-01-30T18:46:37.213Z"
   },
   {
    "duration": 333,
    "start_time": "2022-01-30T18:47:28.302Z"
   },
   {
    "duration": 5,
    "start_time": "2022-01-30T18:47:46.227Z"
   },
   {
    "duration": 194,
    "start_time": "2022-01-30T19:07:46.662Z"
   },
   {
    "duration": 320,
    "start_time": "2022-01-31T19:27:09.570Z"
   },
   {
    "duration": 664,
    "start_time": "2022-01-31T19:27:21.605Z"
   },
   {
    "duration": 78,
    "start_time": "2022-01-31T19:27:22.271Z"
   },
   {
    "duration": 37,
    "start_time": "2022-01-31T19:27:22.352Z"
   },
   {
    "duration": 25,
    "start_time": "2022-01-31T19:27:22.392Z"
   },
   {
    "duration": 15,
    "start_time": "2022-01-31T19:27:22.419Z"
   },
   {
    "duration": 102,
    "start_time": "2022-01-31T19:27:22.435Z"
   },
   {
    "duration": 5,
    "start_time": "2022-01-31T19:27:22.539Z"
   },
   {
    "duration": 47,
    "start_time": "2022-01-31T19:27:22.547Z"
   },
   {
    "duration": 1966,
    "start_time": "2022-01-31T19:27:22.608Z"
   },
   {
    "duration": -733,
    "start_time": "2022-01-31T19:27:25.309Z"
   },
   {
    "duration": -736,
    "start_time": "2022-01-31T19:27:25.313Z"
   },
   {
    "duration": -742,
    "start_time": "2022-01-31T19:27:25.319Z"
   },
   {
    "duration": -745,
    "start_time": "2022-01-31T19:27:25.323Z"
   },
   {
    "duration": -748,
    "start_time": "2022-01-31T19:27:25.327Z"
   },
   {
    "duration": -751,
    "start_time": "2022-01-31T19:27:25.331Z"
   },
   {
    "duration": -755,
    "start_time": "2022-01-31T19:27:25.336Z"
   },
   {
    "duration": -758,
    "start_time": "2022-01-31T19:27:25.340Z"
   },
   {
    "duration": -764,
    "start_time": "2022-01-31T19:27:25.347Z"
   },
   {
    "duration": 26,
    "start_time": "2022-01-31T19:27:34.068Z"
   },
   {
    "duration": 15,
    "start_time": "2022-01-31T19:28:14.309Z"
   },
   {
    "duration": 14,
    "start_time": "2022-01-31T19:28:40.359Z"
   },
   {
    "duration": 3,
    "start_time": "2022-01-31T19:38:03.944Z"
   },
   {
    "duration": 77,
    "start_time": "2022-01-31T19:38:03.949Z"
   },
   {
    "duration": 25,
    "start_time": "2022-01-31T19:38:04.028Z"
   },
   {
    "duration": 15,
    "start_time": "2022-01-31T19:38:04.055Z"
   },
   {
    "duration": 11,
    "start_time": "2022-01-31T19:38:04.072Z"
   },
   {
    "duration": 32,
    "start_time": "2022-01-31T19:38:04.085Z"
   },
   {
    "duration": 112,
    "start_time": "2022-01-31T19:38:04.120Z"
   },
   {
    "duration": 3,
    "start_time": "2022-01-31T19:38:04.234Z"
   },
   {
    "duration": 10,
    "start_time": "2022-01-31T19:38:04.239Z"
   },
   {
    "duration": 9,
    "start_time": "2022-01-31T19:38:04.252Z"
   },
   {
    "duration": 7,
    "start_time": "2022-01-31T19:38:04.263Z"
   },
   {
    "duration": 10,
    "start_time": "2022-01-31T19:38:04.272Z"
   },
   {
    "duration": 11,
    "start_time": "2022-01-31T19:38:04.284Z"
   },
   {
    "duration": 22,
    "start_time": "2022-01-31T19:38:04.298Z"
   },
   {
    "duration": 13,
    "start_time": "2022-01-31T19:38:04.322Z"
   },
   {
    "duration": 17,
    "start_time": "2022-01-31T19:38:04.337Z"
   },
   {
    "duration": 10,
    "start_time": "2022-01-31T19:38:04.356Z"
   },
   {
    "duration": 21,
    "start_time": "2022-01-31T19:38:04.368Z"
   },
   {
    "duration": 14,
    "start_time": "2022-01-31T19:38:04.391Z"
   },
   {
    "duration": 26,
    "start_time": "2022-01-31T19:55:24.979Z"
   },
   {
    "duration": 26,
    "start_time": "2022-01-31T19:55:46.155Z"
   },
   {
    "duration": 27,
    "start_time": "2022-01-31T19:57:16.262Z"
   },
   {
    "duration": 341,
    "start_time": "2022-01-31T19:59:45.735Z"
   },
   {
    "duration": 275,
    "start_time": "2022-01-31T19:59:54.821Z"
   },
   {
    "duration": 8,
    "start_time": "2022-01-31T20:00:01.714Z"
   },
   {
    "duration": 8,
    "start_time": "2022-01-31T20:00:18.864Z"
   },
   {
    "duration": 10,
    "start_time": "2022-01-31T20:01:14.294Z"
   },
   {
    "duration": 8,
    "start_time": "2022-01-31T20:13:16.545Z"
   },
   {
    "duration": 8,
    "start_time": "2022-01-31T21:11:39.613Z"
   },
   {
    "duration": 8,
    "start_time": "2022-01-31T21:13:05.643Z"
   },
   {
    "duration": 7,
    "start_time": "2022-01-31T21:16:43.679Z"
   },
   {
    "duration": 8,
    "start_time": "2022-01-31T21:16:52.586Z"
   },
   {
    "duration": 284,
    "start_time": "2022-01-31T21:21:02.063Z"
   },
   {
    "duration": 9,
    "start_time": "2022-01-31T21:23:56.223Z"
   },
   {
    "duration": 356,
    "start_time": "2022-02-01T19:14:06.011Z"
   },
   {
    "duration": 78,
    "start_time": "2022-02-01T19:14:37.067Z"
   },
   {
    "duration": 64,
    "start_time": "2022-02-01T19:15:01.129Z"
   },
   {
    "duration": 68,
    "start_time": "2022-02-01T19:15:36.554Z"
   },
   {
    "duration": 62,
    "start_time": "2022-02-01T19:18:16.446Z"
   },
   {
    "duration": 192,
    "start_time": "2022-02-01T19:19:03.951Z"
   },
   {
    "duration": 305,
    "start_time": "2022-02-01T19:19:17.684Z"
   },
   {
    "duration": 632,
    "start_time": "2022-02-01T19:19:23.903Z"
   },
   {
    "duration": 69,
    "start_time": "2022-02-01T19:19:24.538Z"
   },
   {
    "duration": 36,
    "start_time": "2022-02-01T19:19:24.609Z"
   },
   {
    "duration": 14,
    "start_time": "2022-02-01T19:19:24.647Z"
   },
   {
    "duration": 9,
    "start_time": "2022-02-01T19:19:24.663Z"
   },
   {
    "duration": 8,
    "start_time": "2022-02-01T19:19:24.674Z"
   },
   {
    "duration": 81,
    "start_time": "2022-02-01T19:19:24.713Z"
   },
   {
    "duration": 42,
    "start_time": "2022-02-01T19:19:24.797Z"
   },
   {
    "duration": 8,
    "start_time": "2022-02-01T19:19:24.842Z"
   },
   {
    "duration": 6376,
    "start_time": "2022-02-01T19:19:24.852Z"
   },
   {
    "duration": 1140,
    "start_time": "2022-02-01T19:19:30.091Z"
   },
   {
    "duration": 1132,
    "start_time": "2022-02-01T19:19:30.100Z"
   },
   {
    "duration": 1118,
    "start_time": "2022-02-01T19:19:30.115Z"
   },
   {
    "duration": 1100,
    "start_time": "2022-02-01T19:19:30.135Z"
   },
   {
    "duration": 1093,
    "start_time": "2022-02-01T19:19:30.143Z"
   },
   {
    "duration": 1089,
    "start_time": "2022-02-01T19:19:30.149Z"
   },
   {
    "duration": 1087,
    "start_time": "2022-02-01T19:19:30.153Z"
   },
   {
    "duration": 1056,
    "start_time": "2022-02-01T19:19:30.185Z"
   },
   {
    "duration": 1041,
    "start_time": "2022-02-01T19:19:30.202Z"
   },
   {
    "duration": 1011,
    "start_time": "2022-02-01T19:19:30.233Z"
   },
   {
    "duration": 996,
    "start_time": "2022-02-01T19:19:30.249Z"
   },
   {
    "duration": 971,
    "start_time": "2022-02-01T19:19:30.275Z"
   },
   {
    "duration": 965,
    "start_time": "2022-02-01T19:19:30.283Z"
   },
   {
    "duration": 5595,
    "start_time": "2022-02-01T19:22:05.939Z"
   },
   {
    "duration": 1235,
    "start_time": "2022-02-01T19:22:10.301Z"
   },
   {
    "duration": 4770,
    "start_time": "2022-02-01T19:23:05.031Z"
   },
   {
    "duration": 4901,
    "start_time": "2022-02-01T19:24:09.289Z"
   },
   {
    "duration": 5229,
    "start_time": "2022-02-01T19:25:32.911Z"
   },
   {
    "duration": 6041,
    "start_time": "2022-02-01T19:26:11.274Z"
   },
   {
    "duration": 7,
    "start_time": "2022-02-01T19:26:40.384Z"
   },
   {
    "duration": 9,
    "start_time": "2022-02-01T19:26:50.109Z"
   },
   {
    "duration": 28,
    "start_time": "2022-02-01T20:18:29.714Z"
   },
   {
    "duration": 4,
    "start_time": "2022-02-01T20:27:40.432Z"
   },
   {
    "duration": 4,
    "start_time": "2022-02-01T20:59:21.957Z"
   },
   {
    "duration": 29,
    "start_time": "2022-02-01T21:01:33.254Z"
   },
   {
    "duration": 3,
    "start_time": "2022-02-01T21:02:39.169Z"
   },
   {
    "duration": 62,
    "start_time": "2022-02-01T21:02:39.176Z"
   },
   {
    "duration": 22,
    "start_time": "2022-02-01T21:02:39.240Z"
   },
   {
    "duration": 10,
    "start_time": "2022-02-01T21:02:39.264Z"
   },
   {
    "duration": 7,
    "start_time": "2022-02-01T21:02:39.275Z"
   },
   {
    "duration": 33,
    "start_time": "2022-02-01T21:02:39.284Z"
   },
   {
    "duration": 67,
    "start_time": "2022-02-01T21:02:39.319Z"
   },
   {
    "duration": 4,
    "start_time": "2022-02-01T21:02:39.654Z"
   },
   {
    "duration": 4,
    "start_time": "2022-02-01T21:02:39.662Z"
   },
   {
    "duration": 28,
    "start_time": "2022-02-01T21:02:39.670Z"
   },
   {
    "duration": 2,
    "start_time": "2022-02-01T21:02:39.700Z"
   },
   {
    "duration": 3,
    "start_time": "2022-02-01T21:02:40.079Z"
   },
   {
    "duration": 2,
    "start_time": "2022-02-01T21:02:40.089Z"
   },
   {
    "duration": 2,
    "start_time": "2022-02-01T21:02:40.113Z"
   },
   {
    "duration": 2,
    "start_time": "2022-02-01T21:02:40.196Z"
   },
   {
    "duration": 2,
    "start_time": "2022-02-01T21:02:40.221Z"
   },
   {
    "duration": 3,
    "start_time": "2022-02-01T21:02:40.228Z"
   },
   {
    "duration": 2,
    "start_time": "2022-02-01T21:02:40.237Z"
   },
   {
    "duration": 2,
    "start_time": "2022-02-01T21:02:40.269Z"
   },
   {
    "duration": 2,
    "start_time": "2022-02-01T21:02:40.277Z"
   },
   {
    "duration": 2,
    "start_time": "2022-02-01T21:02:40.287Z"
   },
   {
    "duration": 2,
    "start_time": "2022-02-01T21:02:40.315Z"
   },
   {
    "duration": 2,
    "start_time": "2022-02-01T21:02:40.349Z"
   },
   {
    "duration": 2,
    "start_time": "2022-02-01T21:02:40.355Z"
   },
   {
    "duration": 2,
    "start_time": "2022-02-01T21:02:40.361Z"
   },
   {
    "duration": 2,
    "start_time": "2022-02-01T21:02:40.368Z"
   },
   {
    "duration": 29,
    "start_time": "2022-02-01T21:03:01.417Z"
   },
   {
    "duration": 6,
    "start_time": "2022-02-01T21:04:14.990Z"
   },
   {
    "duration": 5,
    "start_time": "2022-02-01T21:04:58.904Z"
   },
   {
    "duration": 3,
    "start_time": "2022-02-01T21:13:55.514Z"
   },
   {
    "duration": 5,
    "start_time": "2022-02-01T21:14:43.271Z"
   },
   {
    "duration": 5,
    "start_time": "2022-02-01T21:15:13.303Z"
   },
   {
    "duration": 48,
    "start_time": "2022-02-01T21:24:55.275Z"
   },
   {
    "duration": 14,
    "start_time": "2022-02-01T21:27:23.115Z"
   },
   {
    "duration": 61,
    "start_time": "2022-02-01T21:27:59.590Z"
   },
   {
    "duration": 506,
    "start_time": "2022-02-01T21:28:06.322Z"
   },
   {
    "duration": 50,
    "start_time": "2022-02-01T21:28:22.553Z"
   },
   {
    "duration": 2,
    "start_time": "2022-02-01T21:28:32.819Z"
   },
   {
    "duration": 71,
    "start_time": "2022-02-01T21:28:32.825Z"
   },
   {
    "duration": 28,
    "start_time": "2022-02-01T21:28:32.898Z"
   },
   {
    "duration": 11,
    "start_time": "2022-02-01T21:28:32.928Z"
   },
   {
    "duration": 9,
    "start_time": "2022-02-01T21:28:32.941Z"
   },
   {
    "duration": 9,
    "start_time": "2022-02-01T21:28:32.952Z"
   },
   {
    "duration": 112,
    "start_time": "2022-02-01T21:28:32.963Z"
   },
   {
    "duration": 4,
    "start_time": "2022-02-01T21:28:33.077Z"
   },
   {
    "duration": 5,
    "start_time": "2022-02-01T21:28:33.083Z"
   },
   {
    "duration": 25,
    "start_time": "2022-02-01T21:28:33.090Z"
   },
   {
    "duration": 49,
    "start_time": "2022-02-01T21:28:33.117Z"
   },
   {
    "duration": 8,
    "start_time": "2022-02-01T21:28:33.167Z"
   },
   {
    "duration": 2,
    "start_time": "2022-02-01T21:28:33.176Z"
   },
   {
    "duration": 4,
    "start_time": "2022-02-01T21:28:33.180Z"
   },
   {
    "duration": 5,
    "start_time": "2022-02-01T21:28:33.212Z"
   },
   {
    "duration": 5,
    "start_time": "2022-02-01T21:28:33.218Z"
   },
   {
    "duration": 4,
    "start_time": "2022-02-01T21:28:33.224Z"
   },
   {
    "duration": 4,
    "start_time": "2022-02-01T21:28:33.230Z"
   },
   {
    "duration": 4,
    "start_time": "2022-02-01T21:28:33.235Z"
   },
   {
    "duration": 5,
    "start_time": "2022-02-01T21:28:33.240Z"
   },
   {
    "duration": 4,
    "start_time": "2022-02-01T21:28:33.247Z"
   },
   {
    "duration": 4,
    "start_time": "2022-02-01T21:28:33.252Z"
   },
   {
    "duration": 4,
    "start_time": "2022-02-01T21:28:33.258Z"
   },
   {
    "duration": 3,
    "start_time": "2022-02-01T21:28:33.265Z"
   },
   {
    "duration": 4,
    "start_time": "2022-02-01T21:28:33.270Z"
   },
   {
    "duration": 5,
    "start_time": "2022-02-01T21:28:33.275Z"
   },
   {
    "duration": 31,
    "start_time": "2022-02-01T21:28:33.282Z"
   },
   {
    "duration": 4,
    "start_time": "2022-02-01T21:28:33.314Z"
   },
   {
    "duration": 3,
    "start_time": "2022-02-01T21:29:32.934Z"
   },
   {
    "duration": 4,
    "start_time": "2022-02-01T21:29:33.692Z"
   },
   {
    "duration": 3,
    "start_time": "2022-02-01T21:29:44.326Z"
   },
   {
    "duration": 49,
    "start_time": "2022-02-01T21:29:55.360Z"
   },
   {
    "duration": 9,
    "start_time": "2022-02-01T21:29:58.908Z"
   },
   {
    "duration": 47,
    "start_time": "2022-02-01T21:30:37.226Z"
   },
   {
    "duration": 9,
    "start_time": "2022-02-01T21:30:40.795Z"
   },
   {
    "duration": 3,
    "start_time": "2022-02-01T21:31:32.740Z"
   },
   {
    "duration": 8,
    "start_time": "2022-02-01T21:31:42.695Z"
   },
   {
    "duration": 49,
    "start_time": "2022-02-01T21:35:31.618Z"
   },
   {
    "duration": 8,
    "start_time": "2022-02-01T21:35:38.040Z"
   },
   {
    "duration": 196,
    "start_time": "2022-02-01T21:38:14.116Z"
   },
   {
    "duration": 8,
    "start_time": "2022-02-01T21:38:15.643Z"
   },
   {
    "duration": 51,
    "start_time": "2022-02-01T21:38:23.417Z"
   },
   {
    "duration": 11,
    "start_time": "2022-02-01T21:45:41.694Z"
   },
   {
    "duration": 8,
    "start_time": "2022-02-01T21:45:43.718Z"
   },
   {
    "duration": 51,
    "start_time": "2022-02-01T21:45:58.589Z"
   },
   {
    "duration": 8,
    "start_time": "2022-02-01T21:45:59.838Z"
   },
   {
    "duration": 9,
    "start_time": "2022-02-01T21:46:06.344Z"
   },
   {
    "duration": 12,
    "start_time": "2022-02-01T21:54:26.744Z"
   },
   {
    "duration": 10,
    "start_time": "2022-02-01T21:54:30.148Z"
   },
   {
    "duration": 8,
    "start_time": "2022-02-01T21:56:27.895Z"
   },
   {
    "duration": 9,
    "start_time": "2022-02-01T21:56:28.932Z"
   },
   {
    "duration": 12,
    "start_time": "2022-02-01T21:57:12.836Z"
   },
   {
    "duration": 8,
    "start_time": "2022-02-01T21:57:14.014Z"
   },
   {
    "duration": 226,
    "start_time": "2022-02-02T15:54:30.571Z"
   },
   {
    "duration": 601,
    "start_time": "2022-02-02T15:54:35.506Z"
   },
   {
    "duration": 72,
    "start_time": "2022-02-02T15:54:36.109Z"
   },
   {
    "duration": 32,
    "start_time": "2022-02-02T15:54:36.183Z"
   },
   {
    "duration": 16,
    "start_time": "2022-02-02T15:54:36.217Z"
   },
   {
    "duration": 33,
    "start_time": "2022-02-02T15:54:36.236Z"
   },
   {
    "duration": 12,
    "start_time": "2022-02-02T15:54:36.272Z"
   },
   {
    "duration": 98,
    "start_time": "2022-02-02T15:54:36.286Z"
   },
   {
    "duration": 4,
    "start_time": "2022-02-02T15:54:36.389Z"
   },
   {
    "duration": 10,
    "start_time": "2022-02-02T15:54:36.396Z"
   },
   {
    "duration": 11,
    "start_time": "2022-02-02T15:54:36.408Z"
   },
   {
    "duration": 10,
    "start_time": "2022-02-02T15:54:36.421Z"
   },
   {
    "duration": 29,
    "start_time": "2022-02-02T15:54:36.433Z"
   },
   {
    "duration": 11,
    "start_time": "2022-02-02T15:54:36.464Z"
   },
   {
    "duration": 7,
    "start_time": "2022-02-02T15:54:36.477Z"
   },
   {
    "duration": 4,
    "start_time": "2022-02-02T15:54:36.486Z"
   },
   {
    "duration": 5,
    "start_time": "2022-02-02T15:54:36.492Z"
   },
   {
    "duration": 5,
    "start_time": "2022-02-02T15:54:36.499Z"
   },
   {
    "duration": 5,
    "start_time": "2022-02-02T15:54:36.506Z"
   },
   {
    "duration": 6,
    "start_time": "2022-02-02T15:54:36.512Z"
   },
   {
    "duration": 5,
    "start_time": "2022-02-02T15:54:36.520Z"
   },
   {
    "duration": 2,
    "start_time": "2022-02-02T15:54:36.560Z"
   },
   {
    "duration": 7,
    "start_time": "2022-02-02T15:54:36.564Z"
   },
   {
    "duration": 12,
    "start_time": "2022-02-02T15:54:36.574Z"
   },
   {
    "duration": 8,
    "start_time": "2022-02-02T15:54:36.588Z"
   },
   {
    "duration": 8,
    "start_time": "2022-02-02T15:54:36.598Z"
   },
   {
    "duration": 8,
    "start_time": "2022-02-02T15:54:36.608Z"
   },
   {
    "duration": 6,
    "start_time": "2022-02-02T15:54:36.618Z"
   },
   {
    "duration": 6,
    "start_time": "2022-02-02T15:54:36.626Z"
   },
   {
    "duration": 6,
    "start_time": "2022-02-02T15:54:36.633Z"
   },
   {
    "duration": 7,
    "start_time": "2022-02-02T15:54:36.641Z"
   },
   {
    "duration": 9,
    "start_time": "2022-02-02T15:54:58.936Z"
   },
   {
    "duration": 11,
    "start_time": "2022-02-02T15:55:25.521Z"
   },
   {
    "duration": 276,
    "start_time": "2022-02-02T15:57:19.166Z"
   },
   {
    "duration": 7,
    "start_time": "2022-02-02T15:57:24.697Z"
   },
   {
    "duration": 6,
    "start_time": "2022-02-02T15:57:53.993Z"
   },
   {
    "duration": 6,
    "start_time": "2022-02-02T15:58:11.773Z"
   },
   {
    "duration": 781,
    "start_time": "2022-02-02T17:26:35.535Z"
   },
   {
    "duration": 119,
    "start_time": "2022-02-02T17:26:36.318Z"
   },
   {
    "duration": 47,
    "start_time": "2022-02-02T17:26:36.441Z"
   },
   {
    "duration": 16,
    "start_time": "2022-02-02T17:26:36.490Z"
   },
   {
    "duration": 39,
    "start_time": "2022-02-02T17:26:36.508Z"
   },
   {
    "duration": 18,
    "start_time": "2022-02-02T17:26:36.550Z"
   },
   {
    "duration": 142,
    "start_time": "2022-02-02T17:26:36.571Z"
   },
   {
    "duration": 5,
    "start_time": "2022-02-02T17:26:36.716Z"
   },
   {
    "duration": 7,
    "start_time": "2022-02-02T17:26:36.733Z"
   },
   {
    "duration": 25,
    "start_time": "2022-02-02T17:26:36.742Z"
   },
   {
    "duration": 19,
    "start_time": "2022-02-02T17:26:36.770Z"
   },
   {
    "duration": 26,
    "start_time": "2022-02-02T17:26:36.793Z"
   },
   {
    "duration": 18,
    "start_time": "2022-02-02T17:26:36.822Z"
   },
   {
    "duration": 25,
    "start_time": "2022-02-02T17:26:36.844Z"
   },
   {
    "duration": 9,
    "start_time": "2022-02-02T17:26:36.872Z"
   },
   {
    "duration": 14,
    "start_time": "2022-02-02T17:26:36.884Z"
   },
   {
    "duration": 10,
    "start_time": "2022-02-02T17:26:36.901Z"
   },
   {
    "duration": 10,
    "start_time": "2022-02-02T17:26:36.913Z"
   },
   {
    "duration": 28,
    "start_time": "2022-02-02T17:26:36.925Z"
   },
   {
    "duration": 5,
    "start_time": "2022-02-02T17:26:36.956Z"
   },
   {
    "duration": 16,
    "start_time": "2022-02-02T17:26:36.963Z"
   },
   {
    "duration": 6,
    "start_time": "2022-02-02T17:26:36.982Z"
   },
   {
    "duration": 4,
    "start_time": "2022-02-02T17:26:36.993Z"
   },
   {
    "duration": 5,
    "start_time": "2022-02-02T17:26:37.000Z"
   },
   {
    "duration": 8,
    "start_time": "2022-02-02T17:26:37.008Z"
   },
   {
    "duration": 11,
    "start_time": "2022-02-02T17:26:37.036Z"
   },
   {
    "duration": 6,
    "start_time": "2022-02-02T17:26:37.052Z"
   },
   {
    "duration": 6,
    "start_time": "2022-02-02T17:26:37.060Z"
   },
   {
    "duration": 8,
    "start_time": "2022-02-02T17:26:37.068Z"
   },
   {
    "duration": 6,
    "start_time": "2022-02-02T17:26:37.078Z"
   },
   {
    "duration": 9,
    "start_time": "2022-02-02T17:27:52.255Z"
   },
   {
    "duration": 10,
    "start_time": "2022-02-02T17:29:37.833Z"
   },
   {
    "duration": 6,
    "start_time": "2022-02-02T17:29:47.819Z"
   },
   {
    "duration": 6,
    "start_time": "2022-02-02T17:32:26.360Z"
   },
   {
    "duration": 9,
    "start_time": "2022-02-02T17:33:13.996Z"
   },
   {
    "duration": 6,
    "start_time": "2022-02-02T17:34:26.097Z"
   },
   {
    "duration": 11,
    "start_time": "2022-02-02T17:34:26.800Z"
   },
   {
    "duration": 373,
    "start_time": "2022-02-02T17:35:14.772Z"
   },
   {
    "duration": 9,
    "start_time": "2022-02-02T17:35:15.504Z"
   },
   {
    "duration": 5,
    "start_time": "2022-02-02T17:35:50.727Z"
   },
   {
    "duration": 9,
    "start_time": "2022-02-02T17:35:51.715Z"
   },
   {
    "duration": 206,
    "start_time": "2022-02-02T18:14:23.034Z"
   },
   {
    "duration": 6,
    "start_time": "2022-02-02T18:14:50.047Z"
   },
   {
    "duration": 257,
    "start_time": "2022-02-02T18:15:32.913Z"
   },
   {
    "duration": 273,
    "start_time": "2022-02-02T18:19:14.268Z"
   },
   {
    "duration": 113,
    "start_time": "2022-02-02T18:19:24.303Z"
   },
   {
    "duration": 276,
    "start_time": "2022-02-02T18:20:10.287Z"
   },
   {
    "duration": 11,
    "start_time": "2022-02-02T18:22:53.739Z"
   },
   {
    "duration": 5,
    "start_time": "2022-02-02T18:22:55.196Z"
   },
   {
    "duration": 10,
    "start_time": "2022-02-02T18:23:14.046Z"
   },
   {
    "duration": 10,
    "start_time": "2022-02-02T18:24:10.466Z"
   },
   {
    "duration": 10,
    "start_time": "2022-02-02T18:24:27.085Z"
   },
   {
    "duration": 85,
    "start_time": "2022-02-02T18:29:50.993Z"
   },
   {
    "duration": 259,
    "start_time": "2022-02-02T18:29:59.548Z"
   },
   {
    "duration": 12,
    "start_time": "2022-02-02T18:31:52.874Z"
   },
   {
    "duration": 252,
    "start_time": "2022-02-02T18:32:28.110Z"
   },
   {
    "duration": 253,
    "start_time": "2022-02-02T18:34:36.904Z"
   },
   {
    "duration": 7,
    "start_time": "2022-02-02T18:37:27.836Z"
   },
   {
    "duration": 247,
    "start_time": "2022-02-02T18:38:47.994Z"
   },
   {
    "duration": 260,
    "start_time": "2022-02-02T18:39:37.460Z"
   },
   {
    "duration": 241,
    "start_time": "2022-02-02T18:41:07.613Z"
   },
   {
    "duration": 4233,
    "start_time": "2022-02-02T18:41:55.827Z"
   },
   {
    "duration": 304,
    "start_time": "2022-02-02T18:42:27.402Z"
   },
   {
    "duration": 249,
    "start_time": "2022-02-02T18:43:50.179Z"
   },
   {
    "duration": 372,
    "start_time": "2022-02-02T18:51:50.937Z"
   },
   {
    "duration": 85,
    "start_time": "2022-02-02T18:54:50.026Z"
   },
   {
    "duration": 6,
    "start_time": "2022-02-02T18:54:55.685Z"
   },
   {
    "duration": 5,
    "start_time": "2022-02-02T19:04:09.186Z"
   },
   {
    "duration": 5,
    "start_time": "2022-02-02T19:04:39.743Z"
   },
   {
    "duration": 21,
    "start_time": "2022-02-02T19:05:12.406Z"
   },
   {
    "duration": 5,
    "start_time": "2022-02-02T19:05:32.163Z"
   },
   {
    "duration": 20,
    "start_time": "2022-02-02T19:05:33.236Z"
   },
   {
    "duration": 3,
    "start_time": "2022-02-02T19:06:07.727Z"
   },
   {
    "duration": 99,
    "start_time": "2022-02-02T19:06:07.733Z"
   },
   {
    "duration": 36,
    "start_time": "2022-02-02T19:06:07.835Z"
   },
   {
    "duration": 17,
    "start_time": "2022-02-02T19:06:07.874Z"
   },
   {
    "duration": 47,
    "start_time": "2022-02-02T19:06:07.894Z"
   },
   {
    "duration": 11,
    "start_time": "2022-02-02T19:06:07.944Z"
   },
   {
    "duration": 148,
    "start_time": "2022-02-02T19:06:07.959Z"
   },
   {
    "duration": 20,
    "start_time": "2022-02-02T19:06:08.112Z"
   },
   {
    "duration": 7,
    "start_time": "2022-02-02T19:06:08.135Z"
   },
   {
    "duration": 8,
    "start_time": "2022-02-02T19:06:08.144Z"
   },
   {
    "duration": 10,
    "start_time": "2022-02-02T19:06:08.154Z"
   },
   {
    "duration": 20,
    "start_time": "2022-02-02T19:06:08.166Z"
   },
   {
    "duration": 53,
    "start_time": "2022-02-02T19:06:08.189Z"
   },
   {
    "duration": 12,
    "start_time": "2022-02-02T19:06:08.245Z"
   },
   {
    "duration": 7,
    "start_time": "2022-02-02T19:06:08.260Z"
   },
   {
    "duration": 9,
    "start_time": "2022-02-02T19:06:08.270Z"
   },
   {
    "duration": 67,
    "start_time": "2022-02-02T19:06:08.282Z"
   },
   {
    "duration": 6,
    "start_time": "2022-02-02T19:06:08.351Z"
   },
   {
    "duration": 11,
    "start_time": "2022-02-02T19:06:08.361Z"
   },
   {
    "duration": 3,
    "start_time": "2022-02-02T19:06:08.375Z"
   },
   {
    "duration": 7,
    "start_time": "2022-02-02T19:06:08.380Z"
   },
   {
    "duration": 7,
    "start_time": "2022-02-02T19:06:08.389Z"
   },
   {
    "duration": 6,
    "start_time": "2022-02-02T19:06:08.433Z"
   },
   {
    "duration": 5,
    "start_time": "2022-02-02T19:06:08.441Z"
   },
   {
    "duration": 7,
    "start_time": "2022-02-02T19:06:08.448Z"
   },
   {
    "duration": 5,
    "start_time": "2022-02-02T19:06:08.458Z"
   },
   {
    "duration": 4,
    "start_time": "2022-02-02T19:06:08.466Z"
   },
   {
    "duration": 5,
    "start_time": "2022-02-02T19:06:08.473Z"
   },
   {
    "duration": 6,
    "start_time": "2022-02-02T19:06:08.481Z"
   },
   {
    "duration": 44,
    "start_time": "2022-02-02T19:06:08.489Z"
   },
   {
    "duration": 10,
    "start_time": "2022-02-02T19:06:08.536Z"
   },
   {
    "duration": 8,
    "start_time": "2022-02-02T19:06:08.548Z"
   },
   {
    "duration": 6,
    "start_time": "2022-02-02T19:06:08.559Z"
   },
   {
    "duration": 6,
    "start_time": "2022-02-02T19:06:08.567Z"
   },
   {
    "duration": 7,
    "start_time": "2022-02-02T19:06:08.576Z"
   },
   {
    "duration": 36,
    "start_time": "2022-02-02T19:06:27.392Z"
   },
   {
    "duration": 256,
    "start_time": "2022-02-02T19:15:30.646Z"
   },
   {
    "duration": 265,
    "start_time": "2022-02-02T19:17:46.224Z"
   },
   {
    "duration": 272,
    "start_time": "2022-02-02T19:17:59.036Z"
   },
   {
    "duration": 338,
    "start_time": "2022-02-02T19:18:47.510Z"
   },
   {
    "duration": 246,
    "start_time": "2022-02-02T19:19:30.186Z"
   },
   {
    "duration": 9,
    "start_time": "2022-02-02T19:22:18.405Z"
   },
   {
    "duration": 3,
    "start_time": "2022-02-02T19:22:20.714Z"
   },
   {
    "duration": 36,
    "start_time": "2022-02-02T19:22:25.679Z"
   },
   {
    "duration": 16,
    "start_time": "2022-02-02T19:23:27.378Z"
   },
   {
    "duration": 11,
    "start_time": "2022-02-02T19:24:23.350Z"
   },
   {
    "duration": 10,
    "start_time": "2022-02-02T19:24:24.150Z"
   },
   {
    "duration": 35,
    "start_time": "2022-02-02T19:24:25.218Z"
   },
   {
    "duration": 4,
    "start_time": "2022-02-02T19:24:59.256Z"
   },
   {
    "duration": 9,
    "start_time": "2022-02-02T19:25:01.992Z"
   },
   {
    "duration": 4,
    "start_time": "2022-02-02T19:25:03.881Z"
   },
   {
    "duration": 36,
    "start_time": "2022-02-02T19:25:04.605Z"
   },
   {
    "duration": 39,
    "start_time": "2022-02-02T19:25:48.732Z"
   },
   {
    "duration": 259,
    "start_time": "2022-02-02T19:33:08.390Z"
   },
   {
    "duration": 5,
    "start_time": "2022-02-02T19:34:55.502Z"
   },
   {
    "duration": 309,
    "start_time": "2022-02-02T19:35:26.983Z"
   },
   {
    "duration": 3945,
    "start_time": "2022-02-02T19:37:12.626Z"
   },
   {
    "duration": 251,
    "start_time": "2022-02-02T19:38:14.238Z"
   },
   {
    "duration": 4342,
    "start_time": "2022-02-02T19:38:48.540Z"
   },
   {
    "duration": 5,
    "start_time": "2022-02-02T19:40:22.207Z"
   },
   {
    "duration": 61,
    "start_time": "2022-02-02T19:40:47.351Z"
   },
   {
    "duration": 10,
    "start_time": "2022-02-02T19:40:59.972Z"
   },
   {
    "duration": 120,
    "start_time": "2022-02-02T19:40:59.985Z"
   },
   {
    "duration": 70,
    "start_time": "2022-02-02T19:41:00.109Z"
   },
   {
    "duration": 50,
    "start_time": "2022-02-02T19:41:00.183Z"
   },
   {
    "duration": 17,
    "start_time": "2022-02-02T19:41:00.236Z"
   },
   {
    "duration": 18,
    "start_time": "2022-02-02T19:41:00.256Z"
   },
   {
    "duration": 189,
    "start_time": "2022-02-02T19:41:00.277Z"
   },
   {
    "duration": 5,
    "start_time": "2022-02-02T19:41:00.470Z"
   },
   {
    "duration": 12,
    "start_time": "2022-02-02T19:41:00.479Z"
   },
   {
    "duration": 29,
    "start_time": "2022-02-02T19:41:00.494Z"
   },
   {
    "duration": 17,
    "start_time": "2022-02-02T19:41:00.526Z"
   },
   {
    "duration": 31,
    "start_time": "2022-02-02T19:41:00.546Z"
   },
   {
    "duration": 14,
    "start_time": "2022-02-02T19:41:00.581Z"
   },
   {
    "duration": 46,
    "start_time": "2022-02-02T19:41:00.598Z"
   },
   {
    "duration": 14,
    "start_time": "2022-02-02T19:41:00.647Z"
   },
   {
    "duration": 16,
    "start_time": "2022-02-02T19:41:00.664Z"
   },
   {
    "duration": 77,
    "start_time": "2022-02-02T19:41:00.683Z"
   },
   {
    "duration": 4070,
    "start_time": "2022-02-02T19:41:00.762Z"
   },
   {
    "duration": -263,
    "start_time": "2022-02-02T19:41:05.099Z"
   },
   {
    "duration": -267,
    "start_time": "2022-02-02T19:41:05.105Z"
   },
   {
    "duration": -272,
    "start_time": "2022-02-02T19:41:05.112Z"
   },
   {
    "duration": -277,
    "start_time": "2022-02-02T19:41:05.118Z"
   },
   {
    "duration": -297,
    "start_time": "2022-02-02T19:41:05.140Z"
   },
   {
    "duration": -350,
    "start_time": "2022-02-02T19:41:05.195Z"
   },
   {
    "duration": -383,
    "start_time": "2022-02-02T19:41:05.229Z"
   },
   {
    "duration": -386,
    "start_time": "2022-02-02T19:41:05.234Z"
   },
   {
    "duration": -391,
    "start_time": "2022-02-02T19:41:05.241Z"
   },
   {
    "duration": -419,
    "start_time": "2022-02-02T19:41:05.271Z"
   },
   {
    "duration": -451,
    "start_time": "2022-02-02T19:41:05.304Z"
   },
   {
    "duration": -483,
    "start_time": "2022-02-02T19:41:05.338Z"
   },
   {
    "duration": -502,
    "start_time": "2022-02-02T19:41:05.359Z"
   },
   {
    "duration": -506,
    "start_time": "2022-02-02T19:41:05.365Z"
   },
   {
    "duration": -509,
    "start_time": "2022-02-02T19:41:05.370Z"
   },
   {
    "duration": -516,
    "start_time": "2022-02-02T19:41:05.378Z"
   },
   {
    "duration": -519,
    "start_time": "2022-02-02T19:41:05.385Z"
   },
   {
    "duration": 4,
    "start_time": "2022-02-02T19:44:35.339Z"
   },
   {
    "duration": 130,
    "start_time": "2022-02-02T19:44:35.348Z"
   },
   {
    "duration": 69,
    "start_time": "2022-02-02T19:44:35.482Z"
   },
   {
    "duration": 24,
    "start_time": "2022-02-02T19:44:35.555Z"
   },
   {
    "duration": 51,
    "start_time": "2022-02-02T19:44:35.583Z"
   },
   {
    "duration": 16,
    "start_time": "2022-02-02T19:44:35.638Z"
   },
   {
    "duration": 147,
    "start_time": "2022-02-02T19:44:35.656Z"
   },
   {
    "duration": 5,
    "start_time": "2022-02-02T19:44:35.805Z"
   },
   {
    "duration": 19,
    "start_time": "2022-02-02T19:44:35.813Z"
   },
   {
    "duration": 9,
    "start_time": "2022-02-02T19:44:35.835Z"
   },
   {
    "duration": 10,
    "start_time": "2022-02-02T19:44:35.846Z"
   },
   {
    "duration": 19,
    "start_time": "2022-02-02T19:44:35.858Z"
   },
   {
    "duration": 16,
    "start_time": "2022-02-02T19:44:35.879Z"
   },
   {
    "duration": 42,
    "start_time": "2022-02-02T19:44:35.898Z"
   },
   {
    "duration": 22,
    "start_time": "2022-02-02T19:44:35.943Z"
   },
   {
    "duration": 32,
    "start_time": "2022-02-02T19:44:35.969Z"
   },
   {
    "duration": 7,
    "start_time": "2022-02-02T19:44:36.004Z"
   },
   {
    "duration": 70,
    "start_time": "2022-02-02T19:44:36.014Z"
   },
   {
    "duration": 4,
    "start_time": "2022-02-02T19:44:36.087Z"
   },
   {
    "duration": 49,
    "start_time": "2022-02-02T19:44:36.094Z"
   },
   {
    "duration": 4,
    "start_time": "2022-02-02T19:44:36.146Z"
   },
   {
    "duration": 7,
    "start_time": "2022-02-02T19:44:36.154Z"
   },
   {
    "duration": 8,
    "start_time": "2022-02-02T19:44:36.164Z"
   },
   {
    "duration": 4,
    "start_time": "2022-02-02T19:44:36.179Z"
   },
   {
    "duration": 4,
    "start_time": "2022-02-02T19:44:36.187Z"
   },
   {
    "duration": 41,
    "start_time": "2022-02-02T19:44:36.194Z"
   },
   {
    "duration": 8,
    "start_time": "2022-02-02T19:44:36.238Z"
   },
   {
    "duration": 12,
    "start_time": "2022-02-02T19:44:36.248Z"
   },
   {
    "duration": 9,
    "start_time": "2022-02-02T19:44:36.262Z"
   },
   {
    "duration": 8,
    "start_time": "2022-02-02T19:44:36.273Z"
   },
   {
    "duration": 8,
    "start_time": "2022-02-02T19:44:36.284Z"
   },
   {
    "duration": 8,
    "start_time": "2022-02-02T19:44:36.295Z"
   },
   {
    "duration": 27,
    "start_time": "2022-02-02T19:44:36.305Z"
   },
   {
    "duration": 3,
    "start_time": "2022-02-02T19:44:36.334Z"
   },
   {
    "duration": 8,
    "start_time": "2022-02-02T19:44:36.339Z"
   },
   {
    "duration": 7,
    "start_time": "2022-02-02T19:44:36.349Z"
   },
   {
    "duration": 5,
    "start_time": "2022-02-02T19:46:02.866Z"
   },
   {
    "duration": 3,
    "start_time": "2022-02-02T19:46:04.486Z"
   },
   {
    "duration": 52,
    "start_time": "2022-02-02T19:46:06.629Z"
   },
   {
    "duration": 4,
    "start_time": "2022-02-02T19:46:30.848Z"
   },
   {
    "duration": 95,
    "start_time": "2022-02-02T19:46:30.855Z"
   },
   {
    "duration": 38,
    "start_time": "2022-02-02T19:46:30.953Z"
   },
   {
    "duration": 41,
    "start_time": "2022-02-02T19:46:30.994Z"
   },
   {
    "duration": 13,
    "start_time": "2022-02-02T19:46:31.038Z"
   },
   {
    "duration": 23,
    "start_time": "2022-02-02T19:46:31.054Z"
   },
   {
    "duration": 211,
    "start_time": "2022-02-02T19:46:31.082Z"
   },
   {
    "duration": 6,
    "start_time": "2022-02-02T19:46:31.296Z"
   },
   {
    "duration": 15,
    "start_time": "2022-02-02T19:46:31.304Z"
   },
   {
    "duration": 7,
    "start_time": "2022-02-02T19:46:31.334Z"
   },
   {
    "duration": 15,
    "start_time": "2022-02-02T19:46:31.344Z"
   },
   {
    "duration": 24,
    "start_time": "2022-02-02T19:46:31.362Z"
   },
   {
    "duration": 45,
    "start_time": "2022-02-02T19:46:31.390Z"
   },
   {
    "duration": 10,
    "start_time": "2022-02-02T19:46:31.438Z"
   },
   {
    "duration": 9,
    "start_time": "2022-02-02T19:46:31.450Z"
   },
   {
    "duration": 19,
    "start_time": "2022-02-02T19:46:31.461Z"
   },
   {
    "duration": 8,
    "start_time": "2022-02-02T19:46:31.483Z"
   },
   {
    "duration": 90,
    "start_time": "2022-02-02T19:46:31.494Z"
   },
   {
    "duration": 10,
    "start_time": "2022-02-02T19:46:31.589Z"
   },
   {
    "duration": 18,
    "start_time": "2022-02-02T19:46:31.603Z"
   },
   {
    "duration": 8,
    "start_time": "2022-02-02T19:46:31.627Z"
   },
   {
    "duration": 10,
    "start_time": "2022-02-02T19:46:31.637Z"
   },
   {
    "duration": 13,
    "start_time": "2022-02-02T19:46:31.649Z"
   },
   {
    "duration": 10,
    "start_time": "2022-02-02T19:46:31.664Z"
   },
   {
    "duration": 6,
    "start_time": "2022-02-02T19:46:31.676Z"
   },
   {
    "duration": 7,
    "start_time": "2022-02-02T19:46:31.684Z"
   },
   {
    "duration": 12,
    "start_time": "2022-02-02T19:46:31.693Z"
   },
   {
    "duration": 37,
    "start_time": "2022-02-02T19:46:31.708Z"
   },
   {
    "duration": 3,
    "start_time": "2022-02-02T19:46:31.748Z"
   },
   {
    "duration": 10,
    "start_time": "2022-02-02T19:46:31.754Z"
   },
   {
    "duration": 6,
    "start_time": "2022-02-02T19:46:31.767Z"
   },
   {
    "duration": 14,
    "start_time": "2022-02-02T19:46:31.775Z"
   },
   {
    "duration": 7,
    "start_time": "2022-02-02T19:46:31.792Z"
   },
   {
    "duration": 10,
    "start_time": "2022-02-02T19:46:31.802Z"
   },
   {
    "duration": 17,
    "start_time": "2022-02-02T19:46:31.815Z"
   },
   {
    "duration": 76,
    "start_time": "2022-02-02T19:53:14.125Z"
   },
   {
    "duration": 5,
    "start_time": "2022-02-02T19:53:19.236Z"
   },
   {
    "duration": 250,
    "start_time": "2022-02-02T19:53:45.995Z"
   },
   {
    "duration": 8,
    "start_time": "2022-02-02T19:54:04.350Z"
   },
   {
    "duration": 40,
    "start_time": "2022-02-02T19:56:29.008Z"
   },
   {
    "duration": 6727,
    "start_time": "2022-02-02T20:11:25.387Z"
   },
   {
    "duration": 6611,
    "start_time": "2022-02-02T20:12:16.977Z"
   },
   {
    "duration": 6362,
    "start_time": "2022-02-02T20:14:57.485Z"
   },
   {
    "duration": 6599,
    "start_time": "2022-02-02T20:15:42.402Z"
   },
   {
    "duration": 5,
    "start_time": "2022-02-02T20:16:17.356Z"
   },
   {
    "duration": 93,
    "start_time": "2022-02-02T20:21:33.756Z"
   },
   {
    "duration": 284,
    "start_time": "2022-02-02T20:22:17.710Z"
   },
   {
    "duration": 262,
    "start_time": "2022-02-02T20:22:47.152Z"
   },
   {
    "duration": 70,
    "start_time": "2022-02-02T20:23:08.003Z"
   },
   {
    "duration": 24,
    "start_time": "2022-02-02T20:26:14.472Z"
   },
   {
    "duration": 282,
    "start_time": "2022-02-02T20:27:02.420Z"
   },
   {
    "duration": 25,
    "start_time": "2022-02-02T20:27:09.530Z"
   },
   {
    "duration": 17,
    "start_time": "2022-02-02T20:31:29.299Z"
   },
   {
    "duration": 12,
    "start_time": "2022-02-02T20:33:18.214Z"
   },
   {
    "duration": 11,
    "start_time": "2022-02-02T20:33:30.725Z"
   },
   {
    "duration": 13,
    "start_time": "2022-02-02T20:33:37.077Z"
   },
   {
    "duration": 13,
    "start_time": "2022-02-02T20:33:54.568Z"
   },
   {
    "duration": 4,
    "start_time": "2022-02-02T20:34:16.749Z"
   },
   {
    "duration": 91,
    "start_time": "2022-02-02T20:34:16.756Z"
   },
   {
    "duration": 35,
    "start_time": "2022-02-02T20:34:16.850Z"
   },
   {
    "duration": 19,
    "start_time": "2022-02-02T20:34:16.887Z"
   },
   {
    "duration": 35,
    "start_time": "2022-02-02T20:34:16.908Z"
   },
   {
    "duration": 13,
    "start_time": "2022-02-02T20:34:16.946Z"
   },
   {
    "duration": 143,
    "start_time": "2022-02-02T20:34:16.962Z"
   },
   {
    "duration": 4,
    "start_time": "2022-02-02T20:34:17.108Z"
   },
   {
    "duration": 21,
    "start_time": "2022-02-02T20:34:17.114Z"
   },
   {
    "duration": 10,
    "start_time": "2022-02-02T20:34:17.138Z"
   },
   {
    "duration": 13,
    "start_time": "2022-02-02T20:34:17.151Z"
   },
   {
    "duration": 28,
    "start_time": "2022-02-02T20:34:17.167Z"
   },
   {
    "duration": 43,
    "start_time": "2022-02-02T20:34:17.198Z"
   },
   {
    "duration": 10,
    "start_time": "2022-02-02T20:34:17.244Z"
   },
   {
    "duration": 8,
    "start_time": "2022-02-02T20:34:17.256Z"
   },
   {
    "duration": 19,
    "start_time": "2022-02-02T20:34:17.267Z"
   },
   {
    "duration": 9,
    "start_time": "2022-02-02T20:34:17.288Z"
   },
   {
    "duration": 65,
    "start_time": "2022-02-02T20:34:17.300Z"
   },
   {
    "duration": 28,
    "start_time": "2022-02-02T20:34:17.369Z"
   },
   {
    "duration": 42,
    "start_time": "2022-02-02T20:34:17.400Z"
   },
   {
    "duration": 89,
    "start_time": "2022-02-02T20:34:17.445Z"
   },
   {
    "duration": 3,
    "start_time": "2022-02-02T20:34:17.536Z"
   },
   {
    "duration": 8,
    "start_time": "2022-02-02T20:34:17.542Z"
   },
   {
    "duration": 21,
    "start_time": "2022-02-02T20:34:17.553Z"
   },
   {
    "duration": 11,
    "start_time": "2022-02-02T20:34:17.576Z"
   },
   {
    "duration": 7,
    "start_time": "2022-02-02T20:34:17.590Z"
   },
   {
    "duration": 6,
    "start_time": "2022-02-02T20:34:17.600Z"
   },
   {
    "duration": 6,
    "start_time": "2022-02-02T20:34:17.608Z"
   },
   {
    "duration": 10,
    "start_time": "2022-02-02T20:34:17.633Z"
   },
   {
    "duration": 5,
    "start_time": "2022-02-02T20:34:17.646Z"
   },
   {
    "duration": 6,
    "start_time": "2022-02-02T20:34:17.653Z"
   },
   {
    "duration": 6,
    "start_time": "2022-02-02T20:34:17.661Z"
   },
   {
    "duration": 5,
    "start_time": "2022-02-02T20:34:17.670Z"
   },
   {
    "duration": 9,
    "start_time": "2022-02-02T20:34:17.678Z"
   },
   {
    "duration": 7,
    "start_time": "2022-02-02T20:34:17.689Z"
   },
   {
    "duration": 35,
    "start_time": "2022-02-02T20:34:17.698Z"
   },
   {
    "duration": 9,
    "start_time": "2022-02-02T20:34:17.736Z"
   },
   {
    "duration": 252,
    "start_time": "2022-02-02T20:39:58.433Z"
   },
   {
    "duration": 573,
    "start_time": "2022-02-02T20:41:09.513Z"
   },
   {
    "duration": 273,
    "start_time": "2022-02-02T20:41:45.596Z"
   },
   {
    "duration": 259,
    "start_time": "2022-02-02T20:42:02.954Z"
   },
   {
    "duration": 46,
    "start_time": "2022-02-02T20:45:01.822Z"
   },
   {
    "duration": 12,
    "start_time": "2022-02-02T20:45:04.046Z"
   },
   {
    "duration": 33,
    "start_time": "2022-02-02T20:48:04.433Z"
   },
   {
    "duration": 11,
    "start_time": "2022-02-02T20:48:15.905Z"
   },
   {
    "duration": 41,
    "start_time": "2022-02-02T20:49:03.633Z"
   },
   {
    "duration": 11,
    "start_time": "2022-02-02T20:49:04.424Z"
   },
   {
    "duration": 7,
    "start_time": "2022-02-02T20:50:55.785Z"
   },
   {
    "duration": 11,
    "start_time": "2022-02-02T20:50:56.700Z"
   },
   {
    "duration": 7,
    "start_time": "2022-02-02T20:52:04.554Z"
   },
   {
    "duration": 12,
    "start_time": "2022-02-02T20:52:05.618Z"
   },
   {
    "duration": 3,
    "start_time": "2022-02-02T20:53:25.742Z"
   },
   {
    "duration": 95,
    "start_time": "2022-02-02T20:53:25.751Z"
   },
   {
    "duration": 38,
    "start_time": "2022-02-02T20:53:25.849Z"
   },
   {
    "duration": 45,
    "start_time": "2022-02-02T20:53:25.891Z"
   },
   {
    "duration": 12,
    "start_time": "2022-02-02T20:53:25.939Z"
   },
   {
    "duration": 12,
    "start_time": "2022-02-02T20:53:25.953Z"
   },
   {
    "duration": 165,
    "start_time": "2022-02-02T20:53:25.968Z"
   },
   {
    "duration": 4,
    "start_time": "2022-02-02T20:53:26.136Z"
   },
   {
    "duration": 10,
    "start_time": "2022-02-02T20:53:26.143Z"
   },
   {
    "duration": 12,
    "start_time": "2022-02-02T20:53:26.156Z"
   },
   {
    "duration": 10,
    "start_time": "2022-02-02T20:53:26.171Z"
   },
   {
    "duration": 54,
    "start_time": "2022-02-02T20:53:26.183Z"
   },
   {
    "duration": 14,
    "start_time": "2022-02-02T20:53:26.239Z"
   },
   {
    "duration": 28,
    "start_time": "2022-02-02T20:53:26.256Z"
   },
   {
    "duration": 25,
    "start_time": "2022-02-02T20:53:26.287Z"
   },
   {
    "duration": 17,
    "start_time": "2022-02-02T20:53:26.314Z"
   },
   {
    "duration": 9,
    "start_time": "2022-02-02T20:53:26.333Z"
   },
   {
    "duration": 50,
    "start_time": "2022-02-02T20:53:26.344Z"
   },
   {
    "duration": 36,
    "start_time": "2022-02-02T20:53:26.396Z"
   },
   {
    "duration": 14,
    "start_time": "2022-02-02T20:53:26.434Z"
   },
   {
    "duration": 91,
    "start_time": "2022-02-02T20:53:26.451Z"
   },
   {
    "duration": 36,
    "start_time": "2022-02-02T20:53:26.544Z"
   },
   {
    "duration": 3,
    "start_time": "2022-02-02T20:53:26.582Z"
   },
   {
    "duration": 3,
    "start_time": "2022-02-02T20:53:26.590Z"
   },
   {
    "duration": 36,
    "start_time": "2022-02-02T20:53:26.596Z"
   },
   {
    "duration": 50,
    "start_time": "2022-02-02T20:53:26.635Z"
   },
   {
    "duration": 15,
    "start_time": "2022-02-02T20:53:26.688Z"
   },
   {
    "duration": 28,
    "start_time": "2022-02-02T20:53:26.706Z"
   },
   {
    "duration": 8,
    "start_time": "2022-02-02T20:53:26.737Z"
   },
   {
    "duration": 6,
    "start_time": "2022-02-02T20:53:26.747Z"
   },
   {
    "duration": 5,
    "start_time": "2022-02-02T20:53:26.756Z"
   },
   {
    "duration": 9,
    "start_time": "2022-02-02T20:53:26.763Z"
   },
   {
    "duration": 12,
    "start_time": "2022-02-02T20:53:26.775Z"
   },
   {
    "duration": 8,
    "start_time": "2022-02-02T20:53:26.790Z"
   },
   {
    "duration": 32,
    "start_time": "2022-02-02T20:53:26.801Z"
   },
   {
    "duration": 9,
    "start_time": "2022-02-02T20:53:26.836Z"
   },
   {
    "duration": 105,
    "start_time": "2022-02-02T20:53:26.849Z"
   },
   {
    "duration": 87,
    "start_time": "2022-02-02T20:53:26.956Z"
   },
   {
    "duration": 9,
    "start_time": "2022-02-02T20:53:27.046Z"
   },
   {
    "duration": 9,
    "start_time": "2022-02-02T20:53:27.057Z"
   },
   {
    "duration": 31,
    "start_time": "2022-02-02T20:53:27.068Z"
   },
   {
    "duration": 17,
    "start_time": "2022-02-02T20:54:52.862Z"
   },
   {
    "duration": 9,
    "start_time": "2022-02-02T20:55:23.446Z"
   },
   {
    "duration": 13,
    "start_time": "2022-02-02T20:55:48.819Z"
   },
   {
    "duration": 7,
    "start_time": "2022-02-02T20:56:43.685Z"
   },
   {
    "duration": 11,
    "start_time": "2022-02-02T20:56:44.738Z"
   },
   {
    "duration": 26,
    "start_time": "2022-02-02T21:03:11.230Z"
   },
   {
    "duration": 7,
    "start_time": "2022-02-02T21:04:32.813Z"
   },
   {
    "duration": 28,
    "start_time": "2022-02-02T21:04:34.189Z"
   },
   {
    "duration": 57,
    "start_time": "2022-02-02T21:04:43.078Z"
   },
   {
    "duration": 7,
    "start_time": "2022-02-02T21:04:48.118Z"
   },
   {
    "duration": 26,
    "start_time": "2022-02-02T21:04:49.503Z"
   },
   {
    "duration": 10,
    "start_time": "2022-02-02T21:08:56.127Z"
   },
   {
    "duration": 250,
    "start_time": "2022-02-02T21:10:28.884Z"
   },
   {
    "duration": 59,
    "start_time": "2022-02-02T21:10:36.236Z"
   },
   {
    "duration": 75,
    "start_time": "2022-02-02T21:20:35.953Z"
   },
   {
    "duration": 97,
    "start_time": "2022-02-02T21:21:16.434Z"
   },
   {
    "duration": 96,
    "start_time": "2022-02-02T21:21:48.956Z"
   },
   {
    "duration": 5097,
    "start_time": "2022-02-02T21:22:00.771Z"
   },
   {
    "duration": 1139,
    "start_time": "2022-02-02T21:24:16.517Z"
   },
   {
    "duration": 1135,
    "start_time": "2022-02-02T21:24:45.725Z"
   },
   {
    "duration": 1273,
    "start_time": "2022-02-02T21:25:14.810Z"
   },
   {
    "duration": 1124,
    "start_time": "2022-02-02T21:26:05.920Z"
   },
   {
    "duration": 1278,
    "start_time": "2022-02-02T21:26:12.070Z"
   },
   {
    "duration": 51,
    "start_time": "2022-02-02T21:26:22.751Z"
   },
   {
    "duration": 1307,
    "start_time": "2022-02-02T21:27:36.125Z"
   },
   {
    "duration": 4785,
    "start_time": "2022-02-02T21:28:01.293Z"
   },
   {
    "duration": 5241,
    "start_time": "2022-02-02T21:32:59.504Z"
   },
   {
    "duration": 5075,
    "start_time": "2022-02-02T21:34:57.274Z"
   },
   {
    "duration": 4836,
    "start_time": "2022-02-02T21:35:46.601Z"
   },
   {
    "duration": 986,
    "start_time": "2022-02-02T21:39:18.889Z"
   },
   {
    "duration": 973,
    "start_time": "2022-02-02T21:39:33.550Z"
   },
   {
    "duration": 1222,
    "start_time": "2022-02-02T21:43:13.013Z"
   },
   {
    "duration": 1196,
    "start_time": "2022-02-02T21:44:02.167Z"
   },
   {
    "duration": 4258,
    "start_time": "2022-02-02T21:46:57.121Z"
   },
   {
    "duration": 3705,
    "start_time": "2022-02-02T21:49:36.546Z"
   },
   {
    "duration": 3632,
    "start_time": "2022-02-02T21:49:46.070Z"
   },
   {
    "duration": 3805,
    "start_time": "2022-02-02T21:53:45.126Z"
   },
   {
    "duration": 3563,
    "start_time": "2022-02-02T21:57:35.514Z"
   },
   {
    "duration": 4210,
    "start_time": "2022-02-02T21:57:52.659Z"
   },
   {
    "duration": 3423,
    "start_time": "2022-02-02T22:02:24.267Z"
   },
   {
    "duration": 1137,
    "start_time": "2022-02-02T22:04:40.956Z"
   },
   {
    "duration": 3,
    "start_time": "2022-02-02T22:06:38.837Z"
   },
   {
    "duration": 106,
    "start_time": "2022-02-02T22:06:38.845Z"
   },
   {
    "duration": 33,
    "start_time": "2022-02-02T22:06:38.953Z"
   },
   {
    "duration": 16,
    "start_time": "2022-02-02T22:06:38.989Z"
   },
   {
    "duration": 12,
    "start_time": "2022-02-02T22:06:39.033Z"
   },
   {
    "duration": 12,
    "start_time": "2022-02-02T22:06:39.047Z"
   },
   {
    "duration": 135,
    "start_time": "2022-02-02T22:06:39.061Z"
   },
   {
    "duration": 4,
    "start_time": "2022-02-02T22:06:39.199Z"
   },
   {
    "duration": 26,
    "start_time": "2022-02-02T22:06:39.207Z"
   },
   {
    "duration": 4,
    "start_time": "2022-02-02T22:06:39.236Z"
   },
   {
    "duration": 9,
    "start_time": "2022-02-02T22:06:39.243Z"
   },
   {
    "duration": 21,
    "start_time": "2022-02-02T22:06:39.254Z"
   },
   {
    "duration": 10,
    "start_time": "2022-02-02T22:06:39.277Z"
   },
   {
    "duration": 48,
    "start_time": "2022-02-02T22:06:39.289Z"
   },
   {
    "duration": 5,
    "start_time": "2022-02-02T22:06:39.340Z"
   },
   {
    "duration": 14,
    "start_time": "2022-02-02T22:06:39.347Z"
   },
   {
    "duration": 5,
    "start_time": "2022-02-02T22:06:39.363Z"
   },
   {
    "duration": 79,
    "start_time": "2022-02-02T22:06:39.370Z"
   },
   {
    "duration": 23,
    "start_time": "2022-02-02T22:06:39.451Z"
   },
   {
    "duration": 14,
    "start_time": "2022-02-02T22:06:39.477Z"
   },
   {
    "duration": 106,
    "start_time": "2022-02-02T22:06:39.494Z"
   },
   {
    "duration": 50,
    "start_time": "2022-02-02T22:06:39.603Z"
   },
   {
    "duration": 3,
    "start_time": "2022-02-02T22:06:39.657Z"
   },
   {
    "duration": 3,
    "start_time": "2022-02-02T22:06:39.665Z"
   },
   {
    "duration": 5,
    "start_time": "2022-02-02T22:06:39.671Z"
   },
   {
    "duration": 83,
    "start_time": "2022-02-02T22:06:39.679Z"
   },
   {
    "duration": 6,
    "start_time": "2022-02-02T22:06:39.765Z"
   },
   {
    "duration": 29,
    "start_time": "2022-02-02T22:06:39.774Z"
   },
   {
    "duration": 5,
    "start_time": "2022-02-02T22:06:39.806Z"
   },
   {
    "duration": 55,
    "start_time": "2022-02-02T22:06:39.833Z"
   },
   {
    "duration": 3,
    "start_time": "2022-02-02T22:06:39.890Z"
   },
   {
    "duration": 9,
    "start_time": "2022-02-02T22:06:39.895Z"
   },
   {
    "duration": 1186,
    "start_time": "2022-02-02T22:06:39.906Z"
   },
   {
    "duration": -115,
    "start_time": "2022-02-02T22:06:41.209Z"
   },
   {
    "duration": -121,
    "start_time": "2022-02-02T22:06:41.216Z"
   },
   {
    "duration": -125,
    "start_time": "2022-02-02T22:06:41.222Z"
   },
   {
    "duration": -129,
    "start_time": "2022-02-02T22:06:41.227Z"
   },
   {
    "duration": -135,
    "start_time": "2022-02-02T22:06:41.234Z"
   },
   {
    "duration": -139,
    "start_time": "2022-02-02T22:06:41.240Z"
   },
   {
    "duration": -144,
    "start_time": "2022-02-02T22:06:41.246Z"
   },
   {
    "duration": -149,
    "start_time": "2022-02-02T22:06:41.252Z"
   },
   {
    "duration": -152,
    "start_time": "2022-02-02T22:06:41.257Z"
   },
   {
    "duration": 3585,
    "start_time": "2022-02-02T22:07:01.865Z"
   },
   {
    "duration": 3489,
    "start_time": "2022-02-02T22:07:25.694Z"
   },
   {
    "duration": 3584,
    "start_time": "2022-02-02T22:07:53.088Z"
   },
   {
    "duration": 3642,
    "start_time": "2022-02-02T22:08:39.869Z"
   },
   {
    "duration": 3530,
    "start_time": "2022-02-02T22:12:01.266Z"
   },
   {
    "duration": 1248,
    "start_time": "2022-02-02T22:14:01.429Z"
   },
   {
    "duration": 1441,
    "start_time": "2022-02-03T06:45:03.814Z"
   },
   {
    "duration": 86,
    "start_time": "2022-02-03T06:45:05.258Z"
   },
   {
    "duration": 45,
    "start_time": "2022-02-03T06:45:05.347Z"
   },
   {
    "duration": 17,
    "start_time": "2022-02-03T06:45:05.395Z"
   },
   {
    "duration": 43,
    "start_time": "2022-02-03T06:45:05.415Z"
   },
   {
    "duration": 11,
    "start_time": "2022-02-03T06:45:05.460Z"
   },
   {
    "duration": 127,
    "start_time": "2022-02-03T06:45:05.474Z"
   },
   {
    "duration": 5,
    "start_time": "2022-02-03T06:45:05.606Z"
   },
   {
    "duration": 6,
    "start_time": "2022-02-03T06:45:05.616Z"
   },
   {
    "duration": 25,
    "start_time": "2022-02-03T06:45:05.625Z"
   },
   {
    "duration": 12,
    "start_time": "2022-02-03T06:45:05.653Z"
   },
   {
    "duration": 20,
    "start_time": "2022-02-03T06:45:05.667Z"
   },
   {
    "duration": 10,
    "start_time": "2022-02-03T06:45:05.690Z"
   },
   {
    "duration": 13,
    "start_time": "2022-02-03T06:45:05.702Z"
   },
   {
    "duration": 32,
    "start_time": "2022-02-03T06:45:05.717Z"
   },
   {
    "duration": 14,
    "start_time": "2022-02-03T06:45:05.752Z"
   },
   {
    "duration": 5,
    "start_time": "2022-02-03T06:45:05.768Z"
   },
   {
    "duration": 36,
    "start_time": "2022-02-03T06:45:05.775Z"
   },
   {
    "duration": 54,
    "start_time": "2022-02-03T06:45:05.813Z"
   },
   {
    "duration": 11,
    "start_time": "2022-02-03T06:45:05.869Z"
   },
   {
    "duration": 89,
    "start_time": "2022-02-03T06:45:05.882Z"
   },
   {
    "duration": 35,
    "start_time": "2022-02-03T06:45:05.974Z"
   },
   {
    "duration": 3,
    "start_time": "2022-02-03T06:45:06.014Z"
   },
   {
    "duration": 9,
    "start_time": "2022-02-03T06:45:06.020Z"
   },
   {
    "duration": 3,
    "start_time": "2022-02-03T06:45:06.050Z"
   },
   {
    "duration": 60,
    "start_time": "2022-02-03T06:45:06.056Z"
   },
   {
    "duration": 31,
    "start_time": "2022-02-03T06:45:06.119Z"
   },
   {
    "duration": 33,
    "start_time": "2022-02-03T06:45:06.153Z"
   },
   {
    "duration": 6,
    "start_time": "2022-02-03T06:45:06.189Z"
   },
   {
    "duration": 81,
    "start_time": "2022-02-03T06:45:06.197Z"
   },
   {
    "duration": 3,
    "start_time": "2022-02-03T06:45:06.280Z"
   },
   {
    "duration": 7,
    "start_time": "2022-02-03T06:45:06.286Z"
   },
   {
    "duration": 1485,
    "start_time": "2022-02-03T06:45:06.296Z"
   },
   {
    "duration": -294,
    "start_time": "2022-02-03T06:45:08.078Z"
   },
   {
    "duration": -310,
    "start_time": "2022-02-03T06:45:08.095Z"
   },
   {
    "duration": -314,
    "start_time": "2022-02-03T06:45:08.101Z"
   },
   {
    "duration": -319,
    "start_time": "2022-02-03T06:45:08.107Z"
   },
   {
    "duration": -323,
    "start_time": "2022-02-03T06:45:08.113Z"
   },
   {
    "duration": -328,
    "start_time": "2022-02-03T06:45:08.119Z"
   },
   {
    "duration": -334,
    "start_time": "2022-02-03T06:45:08.127Z"
   },
   {
    "duration": -339,
    "start_time": "2022-02-03T06:45:08.133Z"
   },
   {
    "duration": 868,
    "start_time": "2022-02-03T06:55:31.855Z"
   },
   {
    "duration": 748,
    "start_time": "2022-02-03T07:22:34.481Z"
   },
   {
    "duration": 39,
    "start_time": "2022-02-03T07:25:08.117Z"
   },
   {
    "duration": 99,
    "start_time": "2022-02-03T07:30:32.664Z"
   },
   {
    "duration": 143,
    "start_time": "2022-02-03T07:30:57.766Z"
   },
   {
    "duration": 396,
    "start_time": "2022-02-04T18:13:54.089Z"
   },
   {
    "duration": 802,
    "start_time": "2022-02-04T18:14:00.009Z"
   },
   {
    "duration": 90,
    "start_time": "2022-02-04T18:14:00.814Z"
   },
   {
    "duration": 54,
    "start_time": "2022-02-04T18:14:00.907Z"
   },
   {
    "duration": 24,
    "start_time": "2022-02-04T18:14:00.964Z"
   },
   {
    "duration": 11,
    "start_time": "2022-02-04T18:14:00.991Z"
   },
   {
    "duration": 11,
    "start_time": "2022-02-04T18:14:01.005Z"
   },
   {
    "duration": 140,
    "start_time": "2022-02-04T18:14:01.019Z"
   },
   {
    "duration": 4,
    "start_time": "2022-02-04T18:14:01.163Z"
   },
   {
    "duration": 13,
    "start_time": "2022-02-04T18:14:01.170Z"
   },
   {
    "duration": 7,
    "start_time": "2022-02-04T18:14:01.185Z"
   },
   {
    "duration": 10,
    "start_time": "2022-02-04T18:14:01.195Z"
   },
   {
    "duration": 42,
    "start_time": "2022-02-04T18:14:01.207Z"
   },
   {
    "duration": 12,
    "start_time": "2022-02-04T18:14:01.251Z"
   },
   {
    "duration": 31,
    "start_time": "2022-02-04T18:14:01.265Z"
   },
   {
    "duration": 7,
    "start_time": "2022-02-04T18:14:01.299Z"
   },
   {
    "duration": 14,
    "start_time": "2022-02-04T18:14:01.308Z"
   },
   {
    "duration": 28,
    "start_time": "2022-02-04T18:14:01.324Z"
   },
   {
    "duration": 59,
    "start_time": "2022-02-04T18:14:01.355Z"
   },
   {
    "duration": 34,
    "start_time": "2022-02-04T18:14:01.417Z"
   },
   {
    "duration": 14,
    "start_time": "2022-02-04T18:14:01.454Z"
   },
   {
    "duration": 101,
    "start_time": "2022-02-04T18:14:01.471Z"
   },
   {
    "duration": 35,
    "start_time": "2022-02-04T18:14:01.575Z"
   },
   {
    "duration": 2,
    "start_time": "2022-02-04T18:14:01.616Z"
   },
   {
    "duration": 3,
    "start_time": "2022-02-04T18:14:01.650Z"
   },
   {
    "duration": 21,
    "start_time": "2022-02-04T18:14:01.655Z"
   },
   {
    "duration": 64,
    "start_time": "2022-02-04T18:14:01.678Z"
   },
   {
    "duration": 7,
    "start_time": "2022-02-04T18:14:01.745Z"
   },
   {
    "duration": 35,
    "start_time": "2022-02-04T18:14:01.754Z"
   },
   {
    "duration": 11,
    "start_time": "2022-02-04T18:14:01.792Z"
   },
   {
    "duration": 74,
    "start_time": "2022-02-04T18:14:01.805Z"
   },
   {
    "duration": 828,
    "start_time": "2022-02-04T18:14:01.881Z"
   },
   {
    "duration": 51,
    "start_time": "2022-02-04T18:14:02.711Z"
   },
   {
    "duration": 109,
    "start_time": "2022-02-04T18:14:02.764Z"
   },
   {
    "duration": 422,
    "start_time": "2022-02-04T18:14:02.875Z"
   },
   {
    "duration": 3,
    "start_time": "2022-02-04T18:14:03.300Z"
   },
   {
    "duration": 8,
    "start_time": "2022-02-04T18:14:03.305Z"
   },
   {
    "duration": 8,
    "start_time": "2022-02-04T18:14:03.316Z"
   },
   {
    "duration": 23,
    "start_time": "2022-02-04T18:14:03.326Z"
   },
   {
    "duration": 6,
    "start_time": "2022-02-04T18:14:03.352Z"
   },
   {
    "duration": 6,
    "start_time": "2022-02-04T18:14:03.360Z"
   },
   {
    "duration": 508,
    "start_time": "2022-02-04T18:14:24.320Z"
   },
   {
    "duration": 1031,
    "start_time": "2022-02-04T18:14:30.563Z"
   },
   {
    "duration": 315,
    "start_time": "2022-02-04T18:14:36.060Z"
   },
   {
    "duration": 374,
    "start_time": "2022-02-04T18:14:48.229Z"
   },
   {
    "duration": 260,
    "start_time": "2022-02-04T18:15:29.738Z"
   },
   {
    "duration": 420,
    "start_time": "2022-02-04T18:15:36.528Z"
   },
   {
    "duration": 530,
    "start_time": "2022-02-04T18:21:29.437Z"
   },
   {
    "duration": 397,
    "start_time": "2022-02-04T18:21:42.795Z"
   },
   {
    "duration": 367,
    "start_time": "2022-02-04T18:22:22.159Z"
   },
   {
    "duration": 69,
    "start_time": "2022-02-04T18:24:12.913Z"
   },
   {
    "duration": 3,
    "start_time": "2022-02-04T18:24:15.769Z"
   },
   {
    "duration": 94,
    "start_time": "2022-02-04T18:24:15.775Z"
   },
   {
    "duration": 35,
    "start_time": "2022-02-04T18:24:15.872Z"
   },
   {
    "duration": 14,
    "start_time": "2022-02-04T18:24:15.910Z"
   },
   {
    "duration": 12,
    "start_time": "2022-02-04T18:24:15.948Z"
   },
   {
    "duration": 21,
    "start_time": "2022-02-04T18:24:15.962Z"
   },
   {
    "duration": 127,
    "start_time": "2022-02-04T18:24:15.986Z"
   },
   {
    "duration": 5,
    "start_time": "2022-02-04T18:24:16.116Z"
   },
   {
    "duration": 25,
    "start_time": "2022-02-04T18:24:16.123Z"
   },
   {
    "duration": 5,
    "start_time": "2022-02-04T18:24:16.151Z"
   },
   {
    "duration": 14,
    "start_time": "2022-02-04T18:24:16.158Z"
   },
   {
    "duration": 22,
    "start_time": "2022-02-04T18:24:16.174Z"
   },
   {
    "duration": 10,
    "start_time": "2022-02-04T18:24:16.198Z"
   },
   {
    "duration": 47,
    "start_time": "2022-02-04T18:24:16.210Z"
   },
   {
    "duration": 7,
    "start_time": "2022-02-04T18:24:16.260Z"
   },
   {
    "duration": 12,
    "start_time": "2022-02-04T18:24:16.270Z"
   },
   {
    "duration": 5,
    "start_time": "2022-02-04T18:24:16.285Z"
   },
   {
    "duration": 69,
    "start_time": "2022-02-04T18:24:16.292Z"
   },
   {
    "duration": 11,
    "start_time": "2022-02-04T18:24:16.366Z"
   },
   {
    "duration": 88,
    "start_time": "2022-02-04T18:24:16.380Z"
   },
   {
    "duration": 38,
    "start_time": "2022-02-04T18:24:16.471Z"
   },
   {
    "duration": 3,
    "start_time": "2022-02-04T18:24:16.512Z"
   },
   {
    "duration": 7,
    "start_time": "2022-02-04T18:24:16.518Z"
   },
   {
    "duration": 6,
    "start_time": "2022-02-04T18:24:16.549Z"
   },
   {
    "duration": 54,
    "start_time": "2022-02-04T18:24:16.558Z"
   },
   {
    "duration": 7,
    "start_time": "2022-02-04T18:24:16.614Z"
   },
   {
    "duration": 47,
    "start_time": "2022-02-04T18:24:16.623Z"
   },
   {
    "duration": 5,
    "start_time": "2022-02-04T18:24:16.673Z"
   },
   {
    "duration": 83,
    "start_time": "2022-02-04T18:24:16.680Z"
   },
   {
    "duration": 799,
    "start_time": "2022-02-04T18:24:16.765Z"
   },
   {
    "duration": 37,
    "start_time": "2022-02-04T18:24:17.567Z"
   },
   {
    "duration": 6,
    "start_time": "2022-02-04T18:24:17.606Z"
   },
   {
    "duration": 402,
    "start_time": "2022-02-04T18:24:17.615Z"
   },
   {
    "duration": 350,
    "start_time": "2022-02-04T18:24:18.020Z"
   },
   {
    "duration": 3,
    "start_time": "2022-02-04T18:24:18.372Z"
   },
   {
    "duration": 6,
    "start_time": "2022-02-04T18:24:18.378Z"
   },
   {
    "duration": 8,
    "start_time": "2022-02-04T18:24:18.387Z"
   },
   {
    "duration": 11,
    "start_time": "2022-02-04T18:24:18.398Z"
   },
   {
    "duration": 6,
    "start_time": "2022-02-04T18:24:18.412Z"
   },
   {
    "duration": 3,
    "start_time": "2022-02-04T18:27:21.800Z"
   },
   {
    "duration": 112,
    "start_time": "2022-02-04T18:27:21.805Z"
   },
   {
    "duration": 48,
    "start_time": "2022-02-04T18:27:21.920Z"
   },
   {
    "duration": 63,
    "start_time": "2022-02-04T18:27:21.970Z"
   },
   {
    "duration": 13,
    "start_time": "2022-02-04T18:27:22.036Z"
   },
   {
    "duration": 20,
    "start_time": "2022-02-04T18:27:22.051Z"
   },
   {
    "duration": 126,
    "start_time": "2022-02-04T18:27:22.074Z"
   },
   {
    "duration": 5,
    "start_time": "2022-02-04T18:27:22.203Z"
   },
   {
    "duration": 39,
    "start_time": "2022-02-04T18:27:22.210Z"
   },
   {
    "duration": 16,
    "start_time": "2022-02-04T18:27:22.251Z"
   },
   {
    "duration": 30,
    "start_time": "2022-02-04T18:27:22.269Z"
   },
   {
    "duration": 35,
    "start_time": "2022-02-04T18:27:22.301Z"
   },
   {
    "duration": 16,
    "start_time": "2022-02-04T18:27:22.339Z"
   },
   {
    "duration": 28,
    "start_time": "2022-02-04T18:27:22.358Z"
   },
   {
    "duration": 6,
    "start_time": "2022-02-04T18:27:22.388Z"
   },
   {
    "duration": 18,
    "start_time": "2022-02-04T18:27:22.397Z"
   },
   {
    "duration": 37,
    "start_time": "2022-02-04T18:27:22.417Z"
   },
   {
    "duration": 47,
    "start_time": "2022-02-04T18:27:22.457Z"
   },
   {
    "duration": 17,
    "start_time": "2022-02-04T18:27:22.509Z"
   },
   {
    "duration": 78,
    "start_time": "2022-02-04T18:27:22.529Z"
   },
   {
    "duration": 49,
    "start_time": "2022-02-04T18:27:22.609Z"
   },
   {
    "duration": 3,
    "start_time": "2022-02-04T18:27:22.661Z"
   },
   {
    "duration": 68,
    "start_time": "2022-02-04T18:27:22.667Z"
   },
   {
    "duration": 12,
    "start_time": "2022-02-04T18:27:22.737Z"
   },
   {
    "duration": 48,
    "start_time": "2022-02-04T18:27:22.751Z"
   },
   {
    "duration": 10,
    "start_time": "2022-02-04T18:27:22.802Z"
   },
   {
    "duration": 83,
    "start_time": "2022-02-04T18:27:22.815Z"
   },
   {
    "duration": 854,
    "start_time": "2022-02-04T18:27:22.901Z"
   },
   {
    "duration": 35,
    "start_time": "2022-02-04T18:27:23.758Z"
   },
   {
    "duration": 4,
    "start_time": "2022-02-04T18:27:23.796Z"
   },
   {
    "duration": 383,
    "start_time": "2022-02-04T18:27:23.802Z"
   },
   {
    "duration": 346,
    "start_time": "2022-02-04T18:27:24.188Z"
   },
   {
    "duration": 3,
    "start_time": "2022-02-04T18:27:24.537Z"
   },
   {
    "duration": 10,
    "start_time": "2022-02-04T18:27:24.549Z"
   },
   {
    "duration": 38,
    "start_time": "2022-02-04T18:27:24.561Z"
   },
   {
    "duration": 13,
    "start_time": "2022-02-04T18:27:24.602Z"
   },
   {
    "duration": 24,
    "start_time": "2022-02-04T18:27:24.618Z"
   },
   {
    "duration": 67,
    "start_time": "2022-02-04T18:28:27.640Z"
   },
   {
    "duration": 49,
    "start_time": "2022-02-04T18:30:41.725Z"
   },
   {
    "duration": 50,
    "start_time": "2022-02-04T18:30:51.619Z"
   },
   {
    "duration": 3,
    "start_time": "2022-02-04T18:30:58.125Z"
   },
   {
    "duration": 94,
    "start_time": "2022-02-04T18:30:58.133Z"
   },
   {
    "duration": 45,
    "start_time": "2022-02-04T18:30:58.230Z"
   },
   {
    "duration": 18,
    "start_time": "2022-02-04T18:30:58.278Z"
   },
   {
    "duration": 11,
    "start_time": "2022-02-04T18:30:58.299Z"
   },
   {
    "duration": 46,
    "start_time": "2022-02-04T18:30:58.313Z"
   },
   {
    "duration": 127,
    "start_time": "2022-02-04T18:30:58.361Z"
   },
   {
    "duration": 5,
    "start_time": "2022-02-04T18:30:58.490Z"
   },
   {
    "duration": 6,
    "start_time": "2022-02-04T18:30:58.499Z"
   },
   {
    "duration": 7,
    "start_time": "2022-02-04T18:30:58.508Z"
   },
   {
    "duration": 8,
    "start_time": "2022-02-04T18:30:58.548Z"
   },
   {
    "duration": 21,
    "start_time": "2022-02-04T18:30:58.558Z"
   },
   {
    "duration": 10,
    "start_time": "2022-02-04T18:30:58.581Z"
   },
   {
    "duration": 9,
    "start_time": "2022-02-04T18:30:58.594Z"
   },
   {
    "duration": 45,
    "start_time": "2022-02-04T18:30:58.605Z"
   },
   {
    "duration": 11,
    "start_time": "2022-02-04T18:30:58.652Z"
   },
   {
    "duration": 5,
    "start_time": "2022-02-04T18:30:58.665Z"
   },
   {
    "duration": 42,
    "start_time": "2022-02-04T18:30:58.672Z"
   },
   {
    "duration": 38,
    "start_time": "2022-02-04T18:30:58.717Z"
   },
   {
    "duration": 67,
    "start_time": "2022-02-04T18:30:58.757Z"
   },
   {
    "duration": 50,
    "start_time": "2022-02-04T18:30:58.827Z"
   },
   {
    "duration": 3,
    "start_time": "2022-02-04T18:30:58.879Z"
   },
   {
    "duration": 78,
    "start_time": "2022-02-04T18:30:58.884Z"
   },
   {
    "duration": 7,
    "start_time": "2022-02-04T18:30:58.966Z"
   },
   {
    "duration": 27,
    "start_time": "2022-02-04T18:30:58.976Z"
   },
   {
    "duration": 6,
    "start_time": "2022-02-04T18:30:59.006Z"
   },
   {
    "duration": 2261,
    "start_time": "2022-02-04T18:30:59.014Z"
   },
   {
    "duration": 856,
    "start_time": "2022-02-04T18:31:00.421Z"
   },
   {
    "duration": 849,
    "start_time": "2022-02-04T18:31:00.430Z"
   },
   {
    "duration": 842,
    "start_time": "2022-02-04T18:31:00.438Z"
   },
   {
    "duration": 837,
    "start_time": "2022-02-04T18:31:00.444Z"
   },
   {
    "duration": 832,
    "start_time": "2022-02-04T18:31:00.451Z"
   },
   {
    "duration": 827,
    "start_time": "2022-02-04T18:31:00.457Z"
   },
   {
    "duration": 822,
    "start_time": "2022-02-04T18:31:00.464Z"
   },
   {
    "duration": 815,
    "start_time": "2022-02-04T18:31:00.472Z"
   },
   {
    "duration": 810,
    "start_time": "2022-02-04T18:31:00.478Z"
   },
   {
    "duration": 804,
    "start_time": "2022-02-04T18:31:00.485Z"
   },
   {
    "duration": 295,
    "start_time": "2022-02-04T18:32:46.154Z"
   },
   {
    "duration": 56,
    "start_time": "2022-02-04T18:35:29.621Z"
   },
   {
    "duration": 4,
    "start_time": "2022-02-04T18:35:55.348Z"
   },
   {
    "duration": 102,
    "start_time": "2022-02-04T18:35:55.355Z"
   },
   {
    "duration": 34,
    "start_time": "2022-02-04T18:35:55.460Z"
   },
   {
    "duration": 32,
    "start_time": "2022-02-04T18:35:55.498Z"
   },
   {
    "duration": 29,
    "start_time": "2022-02-04T18:35:55.533Z"
   },
   {
    "duration": 22,
    "start_time": "2022-02-04T18:35:55.565Z"
   },
   {
    "duration": 128,
    "start_time": "2022-02-04T18:35:55.593Z"
   },
   {
    "duration": 5,
    "start_time": "2022-02-04T18:35:55.724Z"
   },
   {
    "duration": 21,
    "start_time": "2022-02-04T18:35:55.731Z"
   },
   {
    "duration": 18,
    "start_time": "2022-02-04T18:35:55.754Z"
   },
   {
    "duration": 25,
    "start_time": "2022-02-04T18:35:55.775Z"
   },
   {
    "duration": 29,
    "start_time": "2022-02-04T18:35:55.802Z"
   },
   {
    "duration": 12,
    "start_time": "2022-02-04T18:35:55.834Z"
   },
   {
    "duration": 10,
    "start_time": "2022-02-04T18:35:55.849Z"
   },
   {
    "duration": 14,
    "start_time": "2022-02-04T18:35:55.861Z"
   },
   {
    "duration": 24,
    "start_time": "2022-02-04T18:35:55.877Z"
   },
   {
    "duration": 14,
    "start_time": "2022-02-04T18:35:55.904Z"
   },
   {
    "duration": 55,
    "start_time": "2022-02-04T18:35:55.920Z"
   },
   {
    "duration": 10,
    "start_time": "2022-02-04T18:35:55.980Z"
   },
   {
    "duration": 80,
    "start_time": "2022-02-04T18:35:55.993Z"
   },
   {
    "duration": 33,
    "start_time": "2022-02-04T18:35:56.076Z"
   },
   {
    "duration": 4,
    "start_time": "2022-02-04T18:35:56.111Z"
   },
   {
    "duration": 82,
    "start_time": "2022-02-04T18:35:56.117Z"
   },
   {
    "duration": 7,
    "start_time": "2022-02-04T18:35:56.201Z"
   },
   {
    "duration": 47,
    "start_time": "2022-02-04T18:35:56.211Z"
   },
   {
    "duration": 5,
    "start_time": "2022-02-04T18:35:56.261Z"
   },
   {
    "duration": 59,
    "start_time": "2022-02-04T18:35:56.269Z"
   },
   {
    "duration": 813,
    "start_time": "2022-02-04T18:35:56.331Z"
   },
   {
    "duration": 42,
    "start_time": "2022-02-04T18:35:57.149Z"
   },
   {
    "duration": 4,
    "start_time": "2022-02-04T18:35:57.193Z"
   },
   {
    "duration": 396,
    "start_time": "2022-02-04T18:35:57.200Z"
   },
   {
    "duration": 349,
    "start_time": "2022-02-04T18:35:57.599Z"
   },
   {
    "duration": 3,
    "start_time": "2022-02-04T18:35:57.950Z"
   },
   {
    "duration": 8,
    "start_time": "2022-02-04T18:35:57.955Z"
   },
   {
    "duration": 7,
    "start_time": "2022-02-04T18:35:57.965Z"
   },
   {
    "duration": 5,
    "start_time": "2022-02-04T18:35:57.974Z"
   },
   {
    "duration": 6,
    "start_time": "2022-02-04T18:35:57.981Z"
   },
   {
    "duration": 398,
    "start_time": "2022-02-04T18:36:11.116Z"
   },
   {
    "duration": 577,
    "start_time": "2022-02-04T18:37:11.164Z"
   },
   {
    "duration": 773,
    "start_time": "2022-02-04T18:40:41.656Z"
   },
   {
    "duration": 381,
    "start_time": "2022-02-04T18:40:59.208Z"
   },
   {
    "duration": 361,
    "start_time": "2022-02-04T18:41:22.641Z"
   },
   {
    "duration": 545,
    "start_time": "2022-02-04T18:41:51.944Z"
   },
   {
    "duration": 416,
    "start_time": "2022-02-04T18:42:16.136Z"
   },
   {
    "duration": 1246,
    "start_time": "2022-02-04T18:42:25.850Z"
   },
   {
    "duration": 439,
    "start_time": "2022-02-04T18:42:30.782Z"
   },
   {
    "duration": 515,
    "start_time": "2022-02-04T18:49:44.196Z"
   },
   {
    "duration": 507,
    "start_time": "2022-02-04T18:50:21.936Z"
   },
   {
    "duration": 510,
    "start_time": "2022-02-04T18:50:34.367Z"
   },
   {
    "duration": 564,
    "start_time": "2022-02-04T18:52:04.252Z"
   },
   {
    "duration": 354,
    "start_time": "2022-02-04T18:58:06.449Z"
   },
   {
    "duration": 507,
    "start_time": "2022-02-04T18:58:54.724Z"
   },
   {
    "duration": 604,
    "start_time": "2022-02-04T18:59:03.306Z"
   },
   {
    "duration": 11,
    "start_time": "2022-02-04T20:10:08.267Z"
   },
   {
    "duration": 160,
    "start_time": "2022-02-04T20:15:09.978Z"
   },
   {
    "duration": 47,
    "start_time": "2022-02-04T20:15:14.613Z"
   },
   {
    "duration": 37,
    "start_time": "2022-02-04T20:15:44.437Z"
   },
   {
    "duration": 41,
    "start_time": "2022-02-04T20:20:40.430Z"
   },
   {
    "duration": 127,
    "start_time": "2022-02-04T20:25:43.066Z"
   },
   {
    "duration": 288,
    "start_time": "2022-02-04T20:25:48.049Z"
   },
   {
    "duration": 1421,
    "start_time": "2022-02-04T20:26:00.188Z"
   },
   {
    "duration": 231,
    "start_time": "2022-02-04T20:26:18.433Z"
   },
   {
    "duration": 12,
    "start_time": "2022-02-04T20:27:59.563Z"
   },
   {
    "duration": 329,
    "start_time": "2022-02-04T20:30:30.102Z"
   },
   {
    "duration": 13,
    "start_time": "2022-02-04T20:31:05.189Z"
   },
   {
    "duration": 3,
    "start_time": "2022-02-04T20:35:36.052Z"
   },
   {
    "duration": 3,
    "start_time": "2022-02-04T20:35:41.360Z"
   },
   {
    "duration": 11,
    "start_time": "2022-02-04T21:13:45.207Z"
   },
   {
    "duration": 3,
    "start_time": "2022-02-04T21:15:26.394Z"
   },
   {
    "duration": 4,
    "start_time": "2022-02-04T21:27:24.414Z"
   },
   {
    "duration": 4,
    "start_time": "2022-02-04T21:28:25.935Z"
   },
   {
    "duration": 4361,
    "start_time": "2022-02-04T21:28:49.749Z"
   },
   {
    "duration": 8,
    "start_time": "2022-02-04T21:33:32.474Z"
   },
   {
    "duration": 17,
    "start_time": "2022-02-04T21:35:54.161Z"
   },
   {
    "duration": 3,
    "start_time": "2022-02-04T21:51:11.965Z"
   },
   {
    "duration": 289,
    "start_time": "2022-02-04T21:59:49.170Z"
   },
   {
    "duration": 304,
    "start_time": "2022-02-04T22:00:21.270Z"
   },
   {
    "duration": 8,
    "start_time": "2022-02-04T22:01:41.639Z"
   },
   {
    "duration": 7,
    "start_time": "2022-02-04T22:01:45.704Z"
   },
   {
    "duration": 8,
    "start_time": "2022-02-04T22:01:46.986Z"
   },
   {
    "duration": 8,
    "start_time": "2022-02-04T22:01:48.965Z"
   },
   {
    "duration": 644,
    "start_time": "2022-02-04T22:06:29.124Z"
   },
   {
    "duration": 8,
    "start_time": "2022-02-04T22:07:45.246Z"
   },
   {
    "duration": 682,
    "start_time": "2022-02-04T22:08:05.957Z"
   },
   {
    "duration": 641,
    "start_time": "2022-02-04T22:09:03.099Z"
   },
   {
    "duration": 7,
    "start_time": "2022-02-04T22:12:36.248Z"
   },
   {
    "duration": 394,
    "start_time": "2022-02-04T22:17:48.118Z"
   },
   {
    "duration": 36,
    "start_time": "2022-02-04T22:18:27.079Z"
   },
   {
    "duration": 54,
    "start_time": "2022-02-04T22:25:21.026Z"
   },
   {
    "duration": 1320,
    "start_time": "2022-02-04T22:26:44.406Z"
   },
   {
    "duration": 928,
    "start_time": "2022-02-04T22:27:22.935Z"
   },
   {
    "duration": 642,
    "start_time": "2022-02-04T22:27:35.693Z"
   },
   {
    "duration": 4,
    "start_time": "2022-02-04T22:37:45.976Z"
   },
   {
    "duration": 292,
    "start_time": "2022-02-04T22:43:04.582Z"
   },
   {
    "duration": 292,
    "start_time": "2022-02-04T22:43:22.670Z"
   },
   {
    "duration": 58,
    "start_time": "2022-02-04T22:43:37.240Z"
   },
   {
    "duration": 375,
    "start_time": "2022-02-04T22:45:06.302Z"
   },
   {
    "duration": 12,
    "start_time": "2022-02-04T22:45:19.044Z"
   },
   {
    "duration": 11,
    "start_time": "2022-02-04T22:46:46.167Z"
   },
   {
    "duration": 122,
    "start_time": "2022-02-04T22:58:45.359Z"
   },
   {
    "duration": 34,
    "start_time": "2022-02-04T22:58:49.662Z"
   },
   {
    "duration": 283,
    "start_time": "2022-02-04T22:59:15.813Z"
   },
   {
    "duration": 341,
    "start_time": "2022-02-04T22:59:31.584Z"
   },
   {
    "duration": 118,
    "start_time": "2022-02-04T22:59:40.288Z"
   },
   {
    "duration": 34,
    "start_time": "2022-02-04T22:59:48.847Z"
   },
   {
    "duration": 26,
    "start_time": "2022-02-04T22:59:58.480Z"
   },
   {
    "duration": 16,
    "start_time": "2022-02-04T23:06:59.094Z"
   },
   {
    "duration": 280,
    "start_time": "2022-02-04T23:07:36.783Z"
   },
   {
    "duration": 293,
    "start_time": "2022-02-04T23:08:18.383Z"
   },
   {
    "duration": 14,
    "start_time": "2022-02-04T23:09:51.574Z"
   },
   {
    "duration": 290,
    "start_time": "2022-02-04T23:10:28.658Z"
   },
   {
    "duration": 14,
    "start_time": "2022-02-04T23:10:37.006Z"
   },
   {
    "duration": 90,
    "start_time": "2022-02-04T23:11:11.294Z"
   },
   {
    "duration": 8091,
    "start_time": "2022-02-04T23:11:16.688Z"
   },
   {
    "duration": 98,
    "start_time": "2022-02-04T23:13:42.338Z"
   },
   {
    "duration": 295,
    "start_time": "2022-02-04T23:14:07.220Z"
   },
   {
    "duration": 285,
    "start_time": "2022-02-04T23:14:21.363Z"
   },
   {
    "duration": 14,
    "start_time": "2022-02-04T23:14:39.082Z"
   },
   {
    "duration": 626,
    "start_time": "2022-02-04T23:16:53.741Z"
   },
   {
    "duration": 9210,
    "start_time": "2022-02-04T23:17:08.744Z"
   },
   {
    "duration": 7,
    "start_time": "2022-02-04T23:21:16.173Z"
   },
   {
    "duration": 7,
    "start_time": "2022-02-04T23:21:36.129Z"
   },
   {
    "duration": 294,
    "start_time": "2022-02-04T23:23:00.908Z"
   },
   {
    "duration": 384,
    "start_time": "2022-02-04T23:24:30.823Z"
   },
   {
    "duration": 16,
    "start_time": "2022-02-04T23:31:00.179Z"
   },
   {
    "duration": 15,
    "start_time": "2022-02-04T23:31:19.334Z"
   },
   {
    "duration": 14,
    "start_time": "2022-02-04T23:32:26.899Z"
   },
   {
    "duration": 4,
    "start_time": "2022-02-04T23:32:34.560Z"
   },
   {
    "duration": 29,
    "start_time": "2022-02-04T23:37:57.609Z"
   },
   {
    "duration": 822,
    "start_time": "2022-02-05T08:41:05.263Z"
   },
   {
    "duration": 96,
    "start_time": "2022-02-05T08:41:06.088Z"
   },
   {
    "duration": 44,
    "start_time": "2022-02-05T08:41:06.188Z"
   },
   {
    "duration": 41,
    "start_time": "2022-02-05T08:41:06.235Z"
   },
   {
    "duration": 14,
    "start_time": "2022-02-05T08:41:06.278Z"
   },
   {
    "duration": 12,
    "start_time": "2022-02-05T08:41:06.294Z"
   },
   {
    "duration": 151,
    "start_time": "2022-02-05T08:41:06.308Z"
   },
   {
    "duration": 6,
    "start_time": "2022-02-05T08:41:06.463Z"
   },
   {
    "duration": 10,
    "start_time": "2022-02-05T08:41:06.474Z"
   },
   {
    "duration": 5,
    "start_time": "2022-02-05T08:41:06.487Z"
   },
   {
    "duration": 8,
    "start_time": "2022-02-05T08:41:06.495Z"
   },
   {
    "duration": 19,
    "start_time": "2022-02-05T08:41:06.506Z"
   },
   {
    "duration": 14,
    "start_time": "2022-02-05T08:41:06.560Z"
   },
   {
    "duration": 11,
    "start_time": "2022-02-05T08:41:06.576Z"
   },
   {
    "duration": 4,
    "start_time": "2022-02-05T08:41:06.589Z"
   },
   {
    "duration": 10,
    "start_time": "2022-02-05T08:41:06.595Z"
   },
   {
    "duration": 4,
    "start_time": "2022-02-05T08:41:06.607Z"
   },
   {
    "duration": 87,
    "start_time": "2022-02-05T08:41:06.613Z"
   },
   {
    "duration": 12,
    "start_time": "2022-02-05T08:41:06.703Z"
   },
   {
    "duration": 98,
    "start_time": "2022-02-05T08:41:06.717Z"
   },
   {
    "duration": 52,
    "start_time": "2022-02-05T08:41:06.818Z"
   },
   {
    "duration": 3,
    "start_time": "2022-02-05T08:41:06.873Z"
   },
   {
    "duration": 55,
    "start_time": "2022-02-05T08:41:06.882Z"
   },
   {
    "duration": 12,
    "start_time": "2022-02-05T08:41:06.961Z"
   },
   {
    "duration": 39,
    "start_time": "2022-02-05T08:41:06.979Z"
   },
   {
    "duration": 13,
    "start_time": "2022-02-05T08:41:07.020Z"
   },
   {
    "duration": 71,
    "start_time": "2022-02-05T08:41:07.035Z"
   },
   {
    "duration": 866,
    "start_time": "2022-02-05T08:41:07.109Z"
   },
   {
    "duration": 38,
    "start_time": "2022-02-05T08:41:07.978Z"
   },
   {
    "duration": 152,
    "start_time": "2022-02-05T08:41:08.019Z"
   },
   {
    "duration": 447,
    "start_time": "2022-02-05T08:41:08.174Z"
   },
   {
    "duration": 425,
    "start_time": "2022-02-05T08:41:08.623Z"
   },
   {
    "duration": 387,
    "start_time": "2022-02-05T08:41:09.050Z"
   },
   {
    "duration": 412,
    "start_time": "2022-02-05T08:41:09.439Z"
   },
   {
    "duration": 572,
    "start_time": "2022-02-05T08:41:09.853Z"
   },
   {
    "duration": 12,
    "start_time": "2022-02-05T08:41:10.427Z"
   },
   {
    "duration": 28,
    "start_time": "2022-02-05T08:41:10.441Z"
   },
   {
    "duration": 8,
    "start_time": "2022-02-05T08:41:10.472Z"
   },
   {
    "duration": 264,
    "start_time": "2022-02-05T08:41:10.482Z"
   },
   {
    "duration": 18,
    "start_time": "2022-02-05T08:41:10.749Z"
   },
   {
    "duration": 15,
    "start_time": "2022-02-05T08:41:10.770Z"
   },
   {
    "duration": 8,
    "start_time": "2022-02-05T08:41:10.788Z"
   },
   {
    "duration": 10,
    "start_time": "2022-02-05T08:41:10.798Z"
   },
   {
    "duration": 886,
    "start_time": "2022-02-05T08:41:10.810Z"
   },
   {
    "duration": 7,
    "start_time": "2022-02-05T08:41:11.698Z"
   },
   {
    "duration": 740,
    "start_time": "2022-02-05T08:41:11.707Z"
   },
   {
    "duration": 20,
    "start_time": "2022-02-05T08:41:12.449Z"
   },
   {
    "duration": 826,
    "start_time": "2022-02-05T08:41:12.472Z"
   },
   {
    "duration": 3,
    "start_time": "2022-02-05T08:41:13.300Z"
   },
   {
    "duration": 23,
    "start_time": "2022-02-05T08:41:13.305Z"
   },
   {
    "duration": 4,
    "start_time": "2022-02-05T08:41:13.331Z"
   },
   {
    "duration": 133,
    "start_time": "2022-02-05T08:41:13.338Z"
   },
   {
    "duration": 983,
    "start_time": "2022-02-05T08:45:20.931Z"
   },
   {
    "duration": 449,
    "start_time": "2022-02-05T08:45:29.437Z"
   },
   {
    "duration": 428,
    "start_time": "2022-02-05T08:45:58.337Z"
   },
   {
    "duration": 406,
    "start_time": "2022-02-05T08:46:20.414Z"
   },
   {
    "duration": 8,
    "start_time": "2022-02-05T08:50:17.971Z"
   },
   {
    "duration": 496,
    "start_time": "2022-02-05T08:51:37.922Z"
   },
   {
    "duration": 531,
    "start_time": "2022-02-05T08:52:03.511Z"
   },
   {
    "duration": 356,
    "start_time": "2022-02-05T08:55:12.153Z"
   },
   {
    "duration": 543,
    "start_time": "2022-02-05T08:55:19.630Z"
   },
   {
    "duration": 574,
    "start_time": "2022-02-05T08:55:30.431Z"
   },
   {
    "duration": 58,
    "start_time": "2022-02-05T08:56:56.573Z"
   },
   {
    "duration": 18,
    "start_time": "2022-02-05T08:58:31.056Z"
   },
   {
    "duration": 8,
    "start_time": "2022-02-05T08:59:05.972Z"
   },
   {
    "duration": 640,
    "start_time": "2022-02-05T09:05:48.988Z"
   },
   {
    "duration": 8,
    "start_time": "2022-02-05T09:07:07.416Z"
   },
   {
    "duration": 580,
    "start_time": "2022-02-05T09:11:04.542Z"
   },
   {
    "duration": 540,
    "start_time": "2022-02-05T09:11:14.429Z"
   },
   {
    "duration": 537,
    "start_time": "2022-02-05T09:14:45.459Z"
   },
   {
    "duration": 11,
    "start_time": "2022-02-05T09:23:32.711Z"
   },
   {
    "duration": 8,
    "start_time": "2022-02-05T09:23:44.329Z"
   },
   {
    "duration": 133,
    "start_time": "2022-02-05T09:24:16.267Z"
   },
   {
    "duration": 53,
    "start_time": "2022-02-05T09:24:23.210Z"
   },
   {
    "duration": 53,
    "start_time": "2022-02-05T09:25:35.255Z"
   },
   {
    "duration": 3,
    "start_time": "2022-02-05T09:25:43.912Z"
   },
   {
    "duration": 89,
    "start_time": "2022-02-05T09:25:43.920Z"
   },
   {
    "duration": 52,
    "start_time": "2022-02-05T09:25:44.012Z"
   },
   {
    "duration": 53,
    "start_time": "2022-02-05T09:25:44.067Z"
   },
   {
    "duration": 42,
    "start_time": "2022-02-05T09:25:44.123Z"
   },
   {
    "duration": 11,
    "start_time": "2022-02-05T09:25:44.167Z"
   },
   {
    "duration": 15,
    "start_time": "2022-02-05T09:25:44.180Z"
   },
   {
    "duration": 137,
    "start_time": "2022-02-05T09:25:44.197Z"
   },
   {
    "duration": 5,
    "start_time": "2022-02-05T09:25:44.337Z"
   },
   {
    "duration": 15,
    "start_time": "2022-02-05T09:25:44.344Z"
   },
   {
    "duration": 6,
    "start_time": "2022-02-05T09:25:44.361Z"
   },
   {
    "duration": 7,
    "start_time": "2022-02-05T09:25:44.369Z"
   },
   {
    "duration": 17,
    "start_time": "2022-02-05T09:25:44.378Z"
   },
   {
    "duration": 10,
    "start_time": "2022-02-05T09:25:44.397Z"
   },
   {
    "duration": 50,
    "start_time": "2022-02-05T09:25:44.409Z"
   },
   {
    "duration": 5,
    "start_time": "2022-02-05T09:25:44.461Z"
   },
   {
    "duration": 9,
    "start_time": "2022-02-05T09:25:44.468Z"
   },
   {
    "duration": 5,
    "start_time": "2022-02-05T09:25:44.480Z"
   },
   {
    "duration": 73,
    "start_time": "2022-02-05T09:25:44.488Z"
   },
   {
    "duration": 12,
    "start_time": "2022-02-05T09:25:44.563Z"
   },
   {
    "duration": 96,
    "start_time": "2022-02-05T09:25:44.577Z"
   },
   {
    "duration": 34,
    "start_time": "2022-02-05T09:25:44.676Z"
   },
   {
    "duration": 3,
    "start_time": "2022-02-05T09:25:44.712Z"
   },
   {
    "duration": 87,
    "start_time": "2022-02-05T09:25:44.720Z"
   },
   {
    "duration": 6,
    "start_time": "2022-02-05T09:25:44.811Z"
   },
   {
    "duration": 53,
    "start_time": "2022-02-05T09:25:44.819Z"
   },
   {
    "duration": 5,
    "start_time": "2022-02-05T09:25:44.874Z"
   },
   {
    "duration": 55,
    "start_time": "2022-02-05T09:25:44.881Z"
   },
   {
    "duration": 873,
    "start_time": "2022-02-05T09:25:44.938Z"
   },
   {
    "duration": 54,
    "start_time": "2022-02-05T09:25:45.813Z"
   },
   {
    "duration": 4,
    "start_time": "2022-02-05T09:25:45.869Z"
   },
   {
    "duration": 398,
    "start_time": "2022-02-05T09:25:45.875Z"
   },
   {
    "duration": 558,
    "start_time": "2022-02-05T09:25:46.277Z"
   },
   {
    "duration": 25,
    "start_time": "2022-02-05T09:25:46.838Z"
   },
   {
    "duration": 647,
    "start_time": "2022-02-05T09:25:46.865Z"
   },
   {
    "duration": 366,
    "start_time": "2022-02-05T09:25:47.515Z"
   },
   {
    "duration": 414,
    "start_time": "2022-02-05T09:25:47.884Z"
   },
   {
    "duration": 576,
    "start_time": "2022-02-05T09:25:48.301Z"
   },
   {
    "duration": 15,
    "start_time": "2022-02-05T09:25:48.880Z"
   },
   {
    "duration": 3,
    "start_time": "2022-02-05T09:25:48.898Z"
   },
   {
    "duration": 4,
    "start_time": "2022-02-05T09:25:48.905Z"
   },
   {
    "duration": 411,
    "start_time": "2022-02-05T09:25:48.913Z"
   },
   {
    "duration": 12,
    "start_time": "2022-02-05T09:25:49.327Z"
   },
   {
    "duration": 42,
    "start_time": "2022-02-05T09:25:49.341Z"
   },
   {
    "duration": 8,
    "start_time": "2022-02-05T09:25:49.385Z"
   },
   {
    "duration": 9,
    "start_time": "2022-02-05T09:25:49.396Z"
   },
   {
    "duration": 793,
    "start_time": "2022-02-05T09:25:49.408Z"
   },
   {
    "duration": 7,
    "start_time": "2022-02-05T09:25:50.204Z"
   },
   {
    "duration": 761,
    "start_time": "2022-02-05T09:25:50.213Z"
   },
   {
    "duration": 8,
    "start_time": "2022-02-05T09:25:50.977Z"
   },
   {
    "duration": 728,
    "start_time": "2022-02-05T09:25:50.988Z"
   },
   {
    "duration": 3,
    "start_time": "2022-02-05T09:25:51.722Z"
   },
   {
    "duration": 40,
    "start_time": "2022-02-05T09:25:51.727Z"
   },
   {
    "duration": 5,
    "start_time": "2022-02-05T09:25:51.769Z"
   },
   {
    "duration": 28,
    "start_time": "2022-02-05T09:25:51.776Z"
   },
   {
    "duration": 8,
    "start_time": "2022-02-05T09:25:51.807Z"
   },
   {
    "duration": 7,
    "start_time": "2022-02-05T09:25:51.817Z"
   },
   {
    "duration": 41,
    "start_time": "2022-02-05T09:25:51.826Z"
   },
   {
    "duration": 54,
    "start_time": "2022-02-05T09:25:51.872Z"
   },
   {
    "duration": 238,
    "start_time": "2022-02-05T09:47:25.554Z"
   },
   {
    "duration": 10,
    "start_time": "2022-02-05T09:58:06.489Z"
   },
   {
    "duration": 9,
    "start_time": "2022-02-05T09:58:55.581Z"
   },
   {
    "duration": 130,
    "start_time": "2022-02-05T10:28:14.814Z"
   },
   {
    "duration": 127,
    "start_time": "2022-02-05T10:30:21.513Z"
   },
   {
    "duration": 112,
    "start_time": "2022-02-05T10:30:51.279Z"
   },
   {
    "duration": 11,
    "start_time": "2022-02-05T10:37:58.030Z"
   },
   {
    "duration": 553,
    "start_time": "2022-02-05T10:39:01.535Z"
   },
   {
    "duration": 546,
    "start_time": "2022-02-05T10:39:26.246Z"
   },
   {
    "duration": 1820,
    "start_time": "2022-02-05T10:39:41.159Z"
   },
   {
    "duration": 430,
    "start_time": "2022-02-05T10:39:47.253Z"
   },
   {
    "duration": 403,
    "start_time": "2022-02-05T10:40:21.941Z"
   },
   {
    "duration": 12,
    "start_time": "2022-02-05T10:40:41.082Z"
   },
   {
    "duration": 10,
    "start_time": "2022-02-05T10:42:14.025Z"
   },
   {
    "duration": 409,
    "start_time": "2022-02-05T10:42:17.005Z"
   },
   {
    "duration": 116,
    "start_time": "2022-02-05T11:18:32.520Z"
   },
   {
    "duration": 711,
    "start_time": "2022-02-05T11:18:37.937Z"
   },
   {
    "duration": 766,
    "start_time": "2022-02-05T11:20:52.086Z"
   },
   {
    "duration": 3,
    "start_time": "2022-02-05T11:23:30.183Z"
   },
   {
    "duration": 1280,
    "start_time": "2022-02-05T11:28:11.427Z"
   },
   {
    "duration": 500,
    "start_time": "2022-02-05T11:28:32.425Z"
   },
   {
    "duration": 479,
    "start_time": "2022-02-05T11:28:51.510Z"
   },
   {
    "duration": 831,
    "start_time": "2022-02-05T11:33:38.672Z"
   },
   {
    "duration": 787,
    "start_time": "2022-02-05T11:34:32.004Z"
   },
   {
    "duration": 716,
    "start_time": "2022-02-05T11:34:49.725Z"
   },
   {
    "duration": 683,
    "start_time": "2022-02-05T11:35:04.483Z"
   },
   {
    "duration": 822,
    "start_time": "2022-02-05T11:44:03.823Z"
   },
   {
    "duration": 775,
    "start_time": "2022-02-05T11:46:11.848Z"
   },
   {
    "duration": 121,
    "start_time": "2022-02-05T11:47:20.226Z"
   },
   {
    "duration": 655,
    "start_time": "2022-02-05T11:47:32.708Z"
   },
   {
    "duration": 724,
    "start_time": "2022-02-05T11:47:41.519Z"
   },
   {
    "duration": 767,
    "start_time": "2022-02-05T11:48:19.417Z"
   },
   {
    "duration": 789,
    "start_time": "2022-02-05T11:48:52.860Z"
   },
   {
    "duration": 728,
    "start_time": "2022-02-05T11:51:27.895Z"
   },
   {
    "duration": 1056,
    "start_time": "2022-02-05T11:51:58.238Z"
   },
   {
    "duration": 464,
    "start_time": "2022-02-05T12:00:38.594Z"
   },
   {
    "duration": 1392,
    "start_time": "2022-02-05T12:04:23.579Z"
   },
   {
    "duration": 357,
    "start_time": "2022-02-05T12:17:56.823Z"
   },
   {
    "duration": 267,
    "start_time": "2022-02-05T12:18:13.999Z"
   },
   {
    "duration": 377,
    "start_time": "2022-02-05T12:19:24.234Z"
   },
   {
    "duration": 322,
    "start_time": "2022-02-05T12:23:29.292Z"
   },
   {
    "duration": 272,
    "start_time": "2022-02-05T12:24:19.001Z"
   },
   {
    "duration": 129,
    "start_time": "2022-02-05T12:38:31.761Z"
   },
   {
    "duration": 124,
    "start_time": "2022-02-05T12:38:44.873Z"
   },
   {
    "duration": 6495,
    "start_time": "2022-02-05T12:40:15.978Z"
   },
   {
    "duration": 165,
    "start_time": "2022-02-05T12:41:13.792Z"
   },
   {
    "duration": 4,
    "start_time": "2022-02-05T12:41:20.580Z"
   },
   {
    "duration": 1373,
    "start_time": "2022-02-05T12:41:45.613Z"
   },
   {
    "duration": 6,
    "start_time": "2022-02-05T12:42:21.303Z"
   },
   {
    "duration": 7,
    "start_time": "2022-02-05T12:44:20.092Z"
   },
   {
    "duration": 4,
    "start_time": "2022-02-05T12:44:44.648Z"
   },
   {
    "duration": 81,
    "start_time": "2022-02-05T12:44:44.656Z"
   },
   {
    "duration": 41,
    "start_time": "2022-02-05T12:44:44.740Z"
   },
   {
    "duration": 15,
    "start_time": "2022-02-05T12:44:44.784Z"
   },
   {
    "duration": 12,
    "start_time": "2022-02-05T12:44:44.802Z"
   },
   {
    "duration": 52,
    "start_time": "2022-02-05T12:44:44.817Z"
   },
   {
    "duration": 128,
    "start_time": "2022-02-05T12:44:44.872Z"
   },
   {
    "duration": 5,
    "start_time": "2022-02-05T12:44:45.002Z"
   },
   {
    "duration": 5,
    "start_time": "2022-02-05T12:44:45.011Z"
   },
   {
    "duration": 5,
    "start_time": "2022-02-05T12:44:45.019Z"
   },
   {
    "duration": 47,
    "start_time": "2022-02-05T12:44:45.027Z"
   },
   {
    "duration": 18,
    "start_time": "2022-02-05T12:44:45.077Z"
   },
   {
    "duration": 10,
    "start_time": "2022-02-05T12:44:45.097Z"
   },
   {
    "duration": 12,
    "start_time": "2022-02-05T12:44:45.109Z"
   },
   {
    "duration": 40,
    "start_time": "2022-02-05T12:44:45.123Z"
   },
   {
    "duration": 12,
    "start_time": "2022-02-05T12:44:45.166Z"
   },
   {
    "duration": 5,
    "start_time": "2022-02-05T12:44:45.180Z"
   },
   {
    "duration": 41,
    "start_time": "2022-02-05T12:44:45.187Z"
   },
   {
    "duration": 17,
    "start_time": "2022-02-05T12:44:45.260Z"
   },
   {
    "duration": 94,
    "start_time": "2022-02-05T12:44:45.279Z"
   },
   {
    "duration": 37,
    "start_time": "2022-02-05T12:44:45.376Z"
   },
   {
    "duration": 3,
    "start_time": "2022-02-05T12:44:45.416Z"
   },
   {
    "duration": 91,
    "start_time": "2022-02-05T12:44:45.422Z"
   },
   {
    "duration": 6,
    "start_time": "2022-02-05T12:44:45.518Z"
   },
   {
    "duration": 50,
    "start_time": "2022-02-05T12:44:45.527Z"
   },
   {
    "duration": 6,
    "start_time": "2022-02-05T12:44:45.580Z"
   },
   {
    "duration": 82,
    "start_time": "2022-02-05T12:44:45.588Z"
   },
   {
    "duration": 1016,
    "start_time": "2022-02-05T12:44:45.673Z"
   },
   {
    "duration": 37,
    "start_time": "2022-02-05T12:44:46.691Z"
   },
   {
    "duration": 3,
    "start_time": "2022-02-05T12:44:46.731Z"
   },
   {
    "duration": 399,
    "start_time": "2022-02-05T12:44:46.767Z"
   },
   {
    "duration": 592,
    "start_time": "2022-02-05T12:44:47.168Z"
   },
   {
    "duration": 11,
    "start_time": "2022-02-05T12:44:47.763Z"
   },
   {
    "duration": 648,
    "start_time": "2022-02-05T12:44:47.777Z"
   },
   {
    "duration": 394,
    "start_time": "2022-02-05T12:44:48.428Z"
   },
   {
    "duration": 445,
    "start_time": "2022-02-05T12:44:48.825Z"
   },
   {
    "duration": 580,
    "start_time": "2022-02-05T12:44:49.272Z"
   },
   {
    "duration": 15,
    "start_time": "2022-02-05T12:44:49.860Z"
   },
   {
    "duration": 260,
    "start_time": "2022-02-05T12:44:49.878Z"
   },
   {
    "duration": 21,
    "start_time": "2022-02-05T12:44:50.141Z"
   },
   {
    "duration": 10,
    "start_time": "2022-02-05T12:44:50.165Z"
   },
   {
    "duration": 11,
    "start_time": "2022-02-05T12:44:50.178Z"
   },
   {
    "duration": 481,
    "start_time": "2022-02-05T12:44:50.192Z"
   },
   {
    "duration": 13,
    "start_time": "2022-02-05T12:44:50.676Z"
   },
   {
    "duration": 7,
    "start_time": "2022-02-05T12:44:50.691Z"
   },
   {
    "duration": 836,
    "start_time": "2022-02-05T12:44:50.700Z"
   },
   {
    "duration": 9,
    "start_time": "2022-02-05T12:44:51.539Z"
   },
   {
    "duration": 802,
    "start_time": "2022-02-05T12:44:51.562Z"
   },
   {
    "duration": 11,
    "start_time": "2022-02-05T12:44:52.370Z"
   },
   {
    "duration": 753,
    "start_time": "2022-02-05T12:44:52.384Z"
   },
   {
    "duration": 348,
    "start_time": "2022-02-05T12:44:53.140Z"
   },
   {
    "duration": 6,
    "start_time": "2022-02-05T12:44:53.491Z"
   },
   {
    "duration": 2,
    "start_time": "2022-02-05T12:44:53.500Z"
   },
   {
    "duration": 15,
    "start_time": "2022-02-05T12:44:53.505Z"
   },
   {
    "duration": 4,
    "start_time": "2022-02-05T12:44:53.522Z"
   },
   {
    "duration": 29,
    "start_time": "2022-02-05T12:44:53.560Z"
   },
   {
    "duration": 8,
    "start_time": "2022-02-05T12:44:53.591Z"
   },
   {
    "duration": 6,
    "start_time": "2022-02-05T12:44:53.602Z"
   },
   {
    "duration": 48,
    "start_time": "2022-02-05T12:44:53.611Z"
   },
   {
    "duration": 54,
    "start_time": "2022-02-05T12:44:53.663Z"
   },
   {
    "duration": 6,
    "start_time": "2022-02-05T12:45:26.947Z"
   },
   {
    "duration": 6,
    "start_time": "2022-02-05T12:46:08.427Z"
   },
   {
    "duration": 7,
    "start_time": "2022-02-05T12:46:22.850Z"
   },
   {
    "duration": 123,
    "start_time": "2022-02-05T12:48:10.698Z"
   },
   {
    "duration": 7,
    "start_time": "2022-02-05T12:48:26.580Z"
   },
   {
    "duration": 119,
    "start_time": "2022-02-05T12:50:02.338Z"
   },
   {
    "duration": 928,
    "start_time": "2022-02-05T12:50:07.713Z"
   },
   {
    "duration": 4,
    "start_time": "2022-02-05T12:50:36.076Z"
   },
   {
    "duration": 7,
    "start_time": "2022-02-05T12:50:46.664Z"
   },
   {
    "duration": 3,
    "start_time": "2022-02-05T12:51:09.716Z"
   },
   {
    "duration": 85,
    "start_time": "2022-02-05T12:51:09.725Z"
   },
   {
    "duration": 60,
    "start_time": "2022-02-05T12:51:09.813Z"
   },
   {
    "duration": 18,
    "start_time": "2022-02-05T12:51:09.877Z"
   },
   {
    "duration": 15,
    "start_time": "2022-02-05T12:51:09.898Z"
   },
   {
    "duration": 56,
    "start_time": "2022-02-05T12:51:09.916Z"
   },
   {
    "duration": 140,
    "start_time": "2022-02-05T12:51:09.975Z"
   },
   {
    "duration": 5,
    "start_time": "2022-02-05T12:51:10.118Z"
   },
   {
    "duration": 32,
    "start_time": "2022-02-05T12:51:10.127Z"
   },
   {
    "duration": 6,
    "start_time": "2022-02-05T12:51:10.164Z"
   },
   {
    "duration": 12,
    "start_time": "2022-02-05T12:51:10.173Z"
   },
   {
    "duration": 26,
    "start_time": "2022-02-05T12:51:10.188Z"
   },
   {
    "duration": 51,
    "start_time": "2022-02-05T12:51:10.217Z"
   },
   {
    "duration": 12,
    "start_time": "2022-02-05T12:51:10.271Z"
   },
   {
    "duration": 6,
    "start_time": "2022-02-05T12:51:10.287Z"
   },
   {
    "duration": 11,
    "start_time": "2022-02-05T12:51:10.296Z"
   },
   {
    "duration": 52,
    "start_time": "2022-02-05T12:51:10.310Z"
   },
   {
    "duration": 44,
    "start_time": "2022-02-05T12:51:10.365Z"
   },
   {
    "duration": 14,
    "start_time": "2022-02-05T12:51:10.412Z"
   },
   {
    "duration": 139,
    "start_time": "2022-02-05T12:51:10.429Z"
   },
   {
    "duration": 35,
    "start_time": "2022-02-05T12:51:10.570Z"
   },
   {
    "duration": 3,
    "start_time": "2022-02-05T12:51:10.607Z"
   },
   {
    "duration": 103,
    "start_time": "2022-02-05T12:51:10.612Z"
   },
   {
    "duration": 18,
    "start_time": "2022-02-05T12:51:10.724Z"
   },
   {
    "duration": 38,
    "start_time": "2022-02-05T12:51:10.745Z"
   },
   {
    "duration": 5,
    "start_time": "2022-02-05T12:51:10.786Z"
   },
   {
    "duration": 81,
    "start_time": "2022-02-05T12:51:10.793Z"
   },
   {
    "duration": 828,
    "start_time": "2022-02-05T12:51:10.877Z"
   },
   {
    "duration": 53,
    "start_time": "2022-02-05T12:51:11.708Z"
   },
   {
    "duration": 4,
    "start_time": "2022-02-05T12:51:11.765Z"
   },
   {
    "duration": 637,
    "start_time": "2022-02-05T12:51:11.772Z"
   },
   {
    "duration": 793,
    "start_time": "2022-02-05T12:51:12.412Z"
   },
   {
    "duration": 11,
    "start_time": "2022-02-05T12:51:13.208Z"
   },
   {
    "duration": 595,
    "start_time": "2022-02-05T12:51:13.223Z"
   },
   {
    "duration": 399,
    "start_time": "2022-02-05T12:51:13.820Z"
   },
   {
    "duration": 524,
    "start_time": "2022-02-05T12:51:14.222Z"
   },
   {
    "duration": 754,
    "start_time": "2022-02-05T12:51:14.748Z"
   },
   {
    "duration": 13,
    "start_time": "2022-02-05T12:51:15.505Z"
   },
   {
    "duration": 273,
    "start_time": "2022-02-05T12:51:15.520Z"
   },
   {
    "duration": 12,
    "start_time": "2022-02-05T12:51:15.795Z"
   },
   {
    "duration": 8,
    "start_time": "2022-02-05T12:51:15.810Z"
   },
   {
    "duration": 41,
    "start_time": "2022-02-05T12:51:15.820Z"
   },
   {
    "duration": 516,
    "start_time": "2022-02-05T12:51:15.864Z"
   },
   {
    "duration": 16,
    "start_time": "2022-02-05T12:51:16.384Z"
   },
   {
    "duration": 7,
    "start_time": "2022-02-05T12:51:16.404Z"
   },
   {
    "duration": 891,
    "start_time": "2022-02-05T12:51:16.414Z"
   },
   {
    "duration": 9,
    "start_time": "2022-02-05T12:51:17.309Z"
   },
   {
    "duration": 828,
    "start_time": "2022-02-05T12:51:17.321Z"
   },
   {
    "duration": 8,
    "start_time": "2022-02-05T12:51:18.159Z"
   },
   {
    "duration": 760,
    "start_time": "2022-02-05T12:51:18.169Z"
   },
   {
    "duration": 10,
    "start_time": "2022-02-05T12:51:18.932Z"
   },
   {
    "duration": 440,
    "start_time": "2022-02-05T12:51:18.960Z"
   },
   {
    "duration": 7,
    "start_time": "2022-02-05T12:51:19.403Z"
   },
   {
    "duration": 4,
    "start_time": "2022-02-05T12:51:19.413Z"
   },
   {
    "duration": 55,
    "start_time": "2022-02-05T12:51:19.420Z"
   },
   {
    "duration": 5,
    "start_time": "2022-02-05T12:51:19.478Z"
   },
   {
    "duration": 41,
    "start_time": "2022-02-05T12:51:19.486Z"
   },
   {
    "duration": 35,
    "start_time": "2022-02-05T12:51:19.529Z"
   },
   {
    "duration": 7,
    "start_time": "2022-02-05T12:51:19.566Z"
   },
   {
    "duration": 8,
    "start_time": "2022-02-05T12:51:19.576Z"
   },
   {
    "duration": 103,
    "start_time": "2022-02-05T12:51:19.586Z"
   },
   {
    "duration": 6,
    "start_time": "2022-02-05T12:55:06.108Z"
   },
   {
    "duration": 7,
    "start_time": "2022-02-05T12:55:12.369Z"
   },
   {
    "duration": 6,
    "start_time": "2022-02-05T12:57:17.812Z"
   },
   {
    "duration": 19,
    "start_time": "2022-02-05T12:57:37.971Z"
   },
   {
    "duration": 180,
    "start_time": "2022-02-05T12:58:59.460Z"
   },
   {
    "duration": 133,
    "start_time": "2022-02-05T12:59:57.839Z"
   },
   {
    "duration": 22,
    "start_time": "2022-02-05T13:00:05.814Z"
   },
   {
    "duration": 119,
    "start_time": "2022-02-05T13:05:23.005Z"
   },
   {
    "duration": 379,
    "start_time": "2022-02-05T13:05:42.245Z"
   },
   {
    "duration": 134,
    "start_time": "2022-02-05T13:06:18.564Z"
   },
   {
    "duration": 270,
    "start_time": "2022-02-05T13:06:27.347Z"
   },
   {
    "duration": 395,
    "start_time": "2022-02-05T13:10:25.272Z"
   },
   {
    "duration": 22,
    "start_time": "2022-02-05T13:24:48.100Z"
   },
   {
    "duration": 572,
    "start_time": "2022-02-05T13:26:01.595Z"
   },
   {
    "duration": 3,
    "start_time": "2022-02-05T13:38:15.727Z"
   },
   {
    "duration": 97,
    "start_time": "2022-02-05T13:38:15.779Z"
   },
   {
    "duration": 75,
    "start_time": "2022-02-05T13:38:15.895Z"
   },
   {
    "duration": 17,
    "start_time": "2022-02-05T13:38:15.988Z"
   },
   {
    "duration": 15,
    "start_time": "2022-02-05T13:38:16.165Z"
   },
   {
    "duration": 16,
    "start_time": "2022-02-05T13:38:16.192Z"
   },
   {
    "duration": 149,
    "start_time": "2022-02-05T13:38:16.263Z"
   },
   {
    "duration": 6,
    "start_time": "2022-02-05T13:38:16.421Z"
   },
   {
    "duration": 5,
    "start_time": "2022-02-05T13:38:16.465Z"
   },
   {
    "duration": 6,
    "start_time": "2022-02-05T13:38:16.509Z"
   },
   {
    "duration": 4,
    "start_time": "2022-02-05T13:38:16.563Z"
   },
   {
    "duration": 17,
    "start_time": "2022-02-05T13:38:16.584Z"
   },
   {
    "duration": 56,
    "start_time": "2022-02-05T13:38:16.613Z"
   },
   {
    "duration": 11,
    "start_time": "2022-02-05T13:38:16.688Z"
   },
   {
    "duration": 6,
    "start_time": "2022-02-05T13:38:16.708Z"
   },
   {
    "duration": 8,
    "start_time": "2022-02-05T13:38:16.800Z"
   },
   {
    "duration": 5,
    "start_time": "2022-02-05T13:38:16.859Z"
   },
   {
    "duration": 38,
    "start_time": "2022-02-05T13:38:16.959Z"
   },
   {
    "duration": 11,
    "start_time": "2022-02-05T13:38:17.063Z"
   },
   {
    "duration": 90,
    "start_time": "2022-02-05T13:38:17.081Z"
   },
   {
    "duration": 70,
    "start_time": "2022-02-05T13:38:17.232Z"
   },
   {
    "duration": 7,
    "start_time": "2022-02-05T13:38:17.318Z"
   },
   {
    "duration": 69,
    "start_time": "2022-02-05T13:38:17.397Z"
   },
   {
    "duration": 7,
    "start_time": "2022-02-05T13:38:17.476Z"
   },
   {
    "duration": 27,
    "start_time": "2022-02-05T13:38:17.575Z"
   },
   {
    "duration": 4,
    "start_time": "2022-02-05T13:38:18.437Z"
   },
   {
    "duration": 49,
    "start_time": "2022-02-05T13:38:18.493Z"
   },
   {
    "duration": 838,
    "start_time": "2022-02-05T13:38:18.565Z"
   },
   {
    "duration": 48,
    "start_time": "2022-02-05T13:38:19.831Z"
   },
   {
    "duration": 3,
    "start_time": "2022-02-05T13:38:20.513Z"
   },
   {
    "duration": 435,
    "start_time": "2022-02-05T13:38:20.530Z"
   },
   {
    "duration": 565,
    "start_time": "2022-02-05T13:38:21.536Z"
   },
   {
    "duration": 8,
    "start_time": "2022-02-05T13:38:22.485Z"
   },
   {
    "duration": 531,
    "start_time": "2022-02-05T13:38:22.928Z"
   },
   {
    "duration": 375,
    "start_time": "2022-02-05T13:38:24.019Z"
   },
   {
    "duration": 427,
    "start_time": "2022-02-05T13:38:24.410Z"
   },
   {
    "duration": 563,
    "start_time": "2022-02-05T13:38:25.096Z"
   },
   {
    "duration": 14,
    "start_time": "2022-02-05T13:38:25.678Z"
   },
   {
    "duration": 284,
    "start_time": "2022-02-05T13:38:25.707Z"
   },
   {
    "duration": 12,
    "start_time": "2022-02-05T13:38:26.008Z"
   },
   {
    "duration": 8,
    "start_time": "2022-02-05T13:38:26.471Z"
   },
   {
    "duration": 10,
    "start_time": "2022-02-05T13:38:26.498Z"
   },
   {
    "duration": 431,
    "start_time": "2022-02-05T13:38:26.560Z"
   },
   {
    "duration": 10,
    "start_time": "2022-02-05T13:38:27.777Z"
   },
   {
    "duration": 5,
    "start_time": "2022-02-05T13:38:27.798Z"
   },
   {
    "duration": 711,
    "start_time": "2022-02-05T13:38:28.634Z"
   },
   {
    "duration": 7,
    "start_time": "2022-02-05T13:38:29.363Z"
   },
   {
    "duration": 730,
    "start_time": "2022-02-05T13:38:30.104Z"
   },
   {
    "duration": 7,
    "start_time": "2022-02-05T13:38:30.872Z"
   },
   {
    "duration": 477826,
    "start_time": "2022-02-05T13:46:20.111Z"
   },
   {
    "duration": 292,
    "start_time": "2022-02-05T13:54:17.947Z"
   },
   {
    "duration": 4,
    "start_time": "2022-02-05T13:54:18.399Z"
   },
   {
    "duration": 28,
    "start_time": "2022-02-05T13:54:18.464Z"
   },
   {
    "duration": 8,
    "start_time": "2022-02-05T13:54:18.507Z"
   },
   {
    "duration": 8,
    "start_time": "2022-02-05T13:54:18.615Z"
   },
   {
    "duration": 10,
    "start_time": "2022-02-05T13:54:18.663Z"
   },
   {
    "duration": 58,
    "start_time": "2022-02-05T13:54:18.765Z"
   },
   {
    "duration": 40,
    "start_time": "2022-02-05T14:02:27.628Z"
   },
   {
    "duration": 3,
    "start_time": "2022-02-05T14:02:27.671Z"
   },
   {
    "duration": 748,
    "start_time": "2022-02-05T14:02:27.676Z"
   },
   {
    "duration": 5,
    "start_time": "2022-02-05T14:02:28.426Z"
   },
   {
    "duration": 8,
    "start_time": "2022-02-05T14:02:28.460Z"
   },
   {
    "duration": 350,
    "start_time": "2022-02-05T14:02:28.470Z"
   },
   {
    "duration": 490,
    "start_time": "2022-02-05T14:10:42.967Z"
   },
   {
    "duration": 356,
    "start_time": "2022-02-05T14:10:57.601Z"
   },
   {
    "duration": 4,
    "start_time": "2022-02-05T14:12:11.539Z"
   },
   {
    "duration": 6,
    "start_time": "2022-02-05T14:12:37.091Z"
   },
   {
    "duration": 7,
    "start_time": "2022-02-05T14:12:49.493Z"
   },
   {
    "duration": 4,
    "start_time": "2022-02-05T14:12:55.990Z"
   },
   {
    "duration": 27,
    "start_time": "2022-02-05T14:14:15.685Z"
   },
   {
    "duration": 3,
    "start_time": "2022-02-05T17:05:53.074Z"
   },
   {
    "duration": 335,
    "start_time": "2022-02-05T17:12:53.265Z"
   },
   {
    "duration": 607,
    "start_time": "2022-02-05T17:12:58.659Z"
   },
   {
    "duration": 64,
    "start_time": "2022-02-05T17:12:59.268Z"
   },
   {
    "duration": 27,
    "start_time": "2022-02-05T17:12:59.335Z"
   },
   {
    "duration": 14,
    "start_time": "2022-02-05T17:12:59.364Z"
   },
   {
    "duration": 8,
    "start_time": "2022-02-05T17:12:59.380Z"
   },
   {
    "duration": 8,
    "start_time": "2022-02-05T17:12:59.390Z"
   },
   {
    "duration": 84,
    "start_time": "2022-02-05T17:12:59.400Z"
   },
   {
    "duration": 3,
    "start_time": "2022-02-05T17:12:59.487Z"
   },
   {
    "duration": 3,
    "start_time": "2022-02-05T17:12:59.491Z"
   },
   {
    "duration": 3,
    "start_time": "2022-02-05T17:12:59.496Z"
   },
   {
    "duration": 5,
    "start_time": "2022-02-05T17:12:59.500Z"
   },
   {
    "duration": 13,
    "start_time": "2022-02-05T17:12:59.507Z"
   },
   {
    "duration": 6,
    "start_time": "2022-02-05T17:12:59.522Z"
   },
   {
    "duration": 6,
    "start_time": "2022-02-05T17:12:59.530Z"
   },
   {
    "duration": 35,
    "start_time": "2022-02-05T17:12:59.537Z"
   },
   {
    "duration": 7,
    "start_time": "2022-02-05T17:12:59.573Z"
   },
   {
    "duration": 3,
    "start_time": "2022-02-05T17:12:59.582Z"
   },
   {
    "duration": 24,
    "start_time": "2022-02-05T17:12:59.587Z"
   },
   {
    "duration": 7,
    "start_time": "2022-02-05T17:12:59.613Z"
   },
   {
    "duration": 64,
    "start_time": "2022-02-05T17:12:59.621Z"
   },
   {
    "duration": 20,
    "start_time": "2022-02-05T17:12:59.686Z"
   },
   {
    "duration": 2,
    "start_time": "2022-02-05T17:12:59.707Z"
   },
   {
    "duration": 31,
    "start_time": "2022-02-05T17:12:59.712Z"
   },
   {
    "duration": 4,
    "start_time": "2022-02-05T17:12:59.744Z"
   },
   {
    "duration": 38,
    "start_time": "2022-02-05T17:12:59.750Z"
   },
   {
    "duration": 7,
    "start_time": "2022-02-05T17:12:59.790Z"
   },
   {
    "duration": 34,
    "start_time": "2022-02-05T17:12:59.798Z"
   },
   {
    "duration": 465,
    "start_time": "2022-02-05T17:12:59.834Z"
   },
   {
    "duration": 19,
    "start_time": "2022-02-05T17:13:00.300Z"
   },
   {
    "duration": 81,
    "start_time": "2022-02-05T17:13:00.320Z"
   },
   {
    "duration": 245,
    "start_time": "2022-02-05T17:13:00.402Z"
   },
   {
    "duration": 310,
    "start_time": "2022-02-05T17:13:00.649Z"
   },
   {
    "duration": 14,
    "start_time": "2022-02-05T17:13:00.961Z"
   },
   {
    "duration": 308,
    "start_time": "2022-02-05T17:13:00.977Z"
   },
   {
    "duration": 229,
    "start_time": "2022-02-05T17:13:01.286Z"
   },
   {
    "duration": 222,
    "start_time": "2022-02-05T17:13:01.517Z"
   },
   {
    "duration": 323,
    "start_time": "2022-02-05T17:13:01.740Z"
   },
   {
    "duration": 14,
    "start_time": "2022-02-05T17:13:02.065Z"
   },
   {
    "duration": 150,
    "start_time": "2022-02-05T17:13:02.080Z"
   },
   {
    "duration": 8,
    "start_time": "2022-02-05T17:13:02.231Z"
   },
   {
    "duration": 5,
    "start_time": "2022-02-05T17:13:02.241Z"
   },
   {
    "duration": 89,
    "start_time": "2022-02-05T17:13:02.248Z"
   },
   {
    "duration": 228,
    "start_time": "2022-02-05T17:13:02.339Z"
   },
   {
    "duration": 8,
    "start_time": "2022-02-05T17:13:02.572Z"
   },
   {
    "duration": 5,
    "start_time": "2022-02-05T17:13:02.582Z"
   },
   {
    "duration": 495,
    "start_time": "2022-02-05T17:13:02.588Z"
   },
   {
    "duration": 5,
    "start_time": "2022-02-05T17:13:03.085Z"
   },
   {
    "duration": 502,
    "start_time": "2022-02-05T17:13:03.092Z"
   },
   {
    "duration": 4,
    "start_time": "2022-02-05T17:13:03.596Z"
   },
   {
    "duration": 491,
    "start_time": "2022-02-05T17:13:03.602Z"
   },
   {
    "duration": 14,
    "start_time": "2022-02-05T17:13:04.094Z"
   },
   {
    "duration": 165,
    "start_time": "2022-02-05T17:13:04.110Z"
   },
   {
    "duration": 4,
    "start_time": "2022-02-05T17:13:04.277Z"
   },
   {
    "duration": 7,
    "start_time": "2022-02-05T17:13:04.283Z"
   },
   {
    "duration": 141,
    "start_time": "2022-02-05T17:13:04.292Z"
   },
   {
    "duration": 212,
    "start_time": "2022-02-05T17:13:04.223Z"
   },
   {
    "duration": 202,
    "start_time": "2022-02-05T17:13:04.234Z"
   },
   {
    "duration": 192,
    "start_time": "2022-02-05T17:13:04.245Z"
   },
   {
    "duration": 351,
    "start_time": "2022-02-05T17:13:45.884Z"
   },
   {
    "duration": 314,
    "start_time": "2022-02-05T17:15:05.756Z"
   },
   {
    "duration": 2,
    "start_time": "2022-02-05T17:15:24.223Z"
   },
   {
    "duration": 2,
    "start_time": "2022-02-05T17:15:47.824Z"
   },
   {
    "duration": 2,
    "start_time": "2022-02-05T17:15:48.432Z"
   },
   {
    "duration": 9,
    "start_time": "2022-02-05T17:15:52.063Z"
   },
   {
    "duration": 4,
    "start_time": "2022-02-05T17:20:58.131Z"
   },
   {
    "duration": 2,
    "start_time": "2022-02-05T17:21:06.670Z"
   },
   {
    "duration": 65,
    "start_time": "2022-02-05T17:21:06.675Z"
   },
   {
    "duration": 20,
    "start_time": "2022-02-05T17:21:06.742Z"
   },
   {
    "duration": 13,
    "start_time": "2022-02-05T17:21:06.765Z"
   },
   {
    "duration": 8,
    "start_time": "2022-02-05T17:21:06.780Z"
   },
   {
    "duration": 8,
    "start_time": "2022-02-05T17:21:06.790Z"
   },
   {
    "duration": 89,
    "start_time": "2022-02-05T17:21:06.799Z"
   },
   {
    "duration": 4,
    "start_time": "2022-02-05T17:21:06.890Z"
   },
   {
    "duration": 3,
    "start_time": "2022-02-05T17:21:06.896Z"
   },
   {
    "duration": 4,
    "start_time": "2022-02-05T17:21:06.901Z"
   },
   {
    "duration": 6,
    "start_time": "2022-02-05T17:21:06.906Z"
   },
   {
    "duration": 11,
    "start_time": "2022-02-05T17:21:06.914Z"
   },
   {
    "duration": 7,
    "start_time": "2022-02-05T17:21:06.926Z"
   },
   {
    "duration": 39,
    "start_time": "2022-02-05T17:21:06.935Z"
   },
   {
    "duration": 3,
    "start_time": "2022-02-05T17:21:06.976Z"
   },
   {
    "duration": 8,
    "start_time": "2022-02-05T17:21:06.981Z"
   },
   {
    "duration": 5,
    "start_time": "2022-02-05T17:21:06.990Z"
   },
   {
    "duration": 31,
    "start_time": "2022-02-05T17:21:06.996Z"
   },
   {
    "duration": 7,
    "start_time": "2022-02-05T17:21:07.029Z"
   },
   {
    "duration": 72,
    "start_time": "2022-02-05T17:21:07.037Z"
   },
   {
    "duration": 21,
    "start_time": "2022-02-05T17:21:07.111Z"
   },
   {
    "duration": 2,
    "start_time": "2022-02-05T17:21:07.134Z"
   },
   {
    "duration": 54,
    "start_time": "2022-02-05T17:21:07.138Z"
   },
   {
    "duration": 4,
    "start_time": "2022-02-05T17:21:07.196Z"
   },
   {
    "duration": 21,
    "start_time": "2022-02-05T17:21:07.203Z"
   },
   {
    "duration": 4,
    "start_time": "2022-02-05T17:21:07.226Z"
   },
   {
    "duration": 64,
    "start_time": "2022-02-05T17:21:07.232Z"
   },
   {
    "duration": 460,
    "start_time": "2022-02-05T17:21:07.298Z"
   },
   {
    "duration": 25,
    "start_time": "2022-02-05T17:21:07.760Z"
   },
   {
    "duration": 2,
    "start_time": "2022-02-05T17:21:07.787Z"
   },
   {
    "duration": 222,
    "start_time": "2022-02-05T17:21:07.791Z"
   },
   {
    "duration": 349,
    "start_time": "2022-02-05T17:21:08.015Z"
   },
   {
    "duration": 11,
    "start_time": "2022-02-05T17:21:08.366Z"
   },
   {
    "duration": 286,
    "start_time": "2022-02-05T17:21:08.379Z"
   },
   {
    "duration": 199,
    "start_time": "2022-02-05T17:21:08.666Z"
   },
   {
    "duration": 222,
    "start_time": "2022-02-05T17:21:08.867Z"
   },
   {
    "duration": 301,
    "start_time": "2022-02-05T17:21:09.091Z"
   },
   {
    "duration": 9,
    "start_time": "2022-02-05T17:21:09.394Z"
   },
   {
    "duration": 148,
    "start_time": "2022-02-05T17:21:09.405Z"
   },
   {
    "duration": 7,
    "start_time": "2022-02-05T17:21:09.555Z"
   },
   {
    "duration": 5,
    "start_time": "2022-02-05T17:21:09.571Z"
   },
   {
    "duration": 7,
    "start_time": "2022-02-05T17:21:09.578Z"
   },
   {
    "duration": 239,
    "start_time": "2022-02-05T17:21:09.586Z"
   },
   {
    "duration": 7,
    "start_time": "2022-02-05T17:21:09.826Z"
   },
   {
    "duration": 4,
    "start_time": "2022-02-05T17:21:09.834Z"
   },
   {
    "duration": 456,
    "start_time": "2022-02-05T17:21:09.839Z"
   },
   {
    "duration": 4,
    "start_time": "2022-02-05T17:21:10.296Z"
   },
   {
    "duration": 529,
    "start_time": "2022-02-05T17:21:10.301Z"
   },
   {
    "duration": 5,
    "start_time": "2022-02-05T17:21:10.831Z"
   },
   {
    "duration": 484,
    "start_time": "2022-02-05T17:21:10.838Z"
   },
   {
    "duration": 13,
    "start_time": "2022-02-05T17:21:11.324Z"
   },
   {
    "duration": 172,
    "start_time": "2022-02-05T17:21:11.338Z"
   },
   {
    "duration": 4,
    "start_time": "2022-02-05T17:21:11.511Z"
   },
   {
    "duration": 7,
    "start_time": "2022-02-05T17:21:11.517Z"
   },
   {
    "duration": 2,
    "start_time": "2022-02-05T17:21:11.525Z"
   },
   {
    "duration": 2,
    "start_time": "2022-02-05T17:21:11.529Z"
   },
   {
    "duration": 3,
    "start_time": "2022-02-05T17:21:11.533Z"
   },
   {
    "duration": 37,
    "start_time": "2022-02-05T17:21:11.541Z"
   },
   {
    "duration": 9377,
    "start_time": "2022-02-05T17:21:11.580Z"
   },
   {
    "duration": 4,
    "start_time": "2022-02-05T17:22:29.340Z"
   },
   {
    "duration": 31,
    "start_time": "2022-02-05T17:22:33.919Z"
   },
   {
    "duration": 5,
    "start_time": "2022-02-05T17:25:55.070Z"
   },
   {
    "duration": 4,
    "start_time": "2022-02-05T17:27:09.988Z"
   },
   {
    "duration": 25,
    "start_time": "2022-02-05T17:28:16.942Z"
   },
   {
    "duration": 5,
    "start_time": "2022-02-05T17:28:48.656Z"
   },
   {
    "duration": 4,
    "start_time": "2022-02-05T17:28:59.799Z"
   },
   {
    "duration": 4,
    "start_time": "2022-02-05T17:29:55.946Z"
   },
   {
    "duration": 5,
    "start_time": "2022-02-05T17:30:17.634Z"
   },
   {
    "duration": 3,
    "start_time": "2022-02-05T17:48:53.757Z"
   },
   {
    "duration": 110,
    "start_time": "2022-02-05T17:50:28.907Z"
   },
   {
    "duration": 319,
    "start_time": "2022-02-05T17:50:35.048Z"
   },
   {
    "duration": 35,
    "start_time": "2022-02-05T17:51:00.329Z"
   },
   {
    "duration": 8,
    "start_time": "2022-02-05T17:51:09.396Z"
   },
   {
    "duration": 313,
    "start_time": "2022-02-05T17:51:29.091Z"
   },
   {
    "duration": 7,
    "start_time": "2022-02-05T17:51:43.719Z"
   },
   {
    "duration": 4,
    "start_time": "2022-02-05T17:51:46.378Z"
   },
   {
    "duration": 22,
    "start_time": "2022-02-05T17:52:22.009Z"
   },
   {
    "duration": 4,
    "start_time": "2022-02-05T17:52:42.192Z"
   },
   {
    "duration": 20,
    "start_time": "2022-02-05T17:52:45.076Z"
   },
   {
    "duration": 2,
    "start_time": "2022-02-05T18:17:34.918Z"
   },
   {
    "duration": 337,
    "start_time": "2022-02-05T18:21:59.550Z"
   },
   {
    "duration": 4,
    "start_time": "2022-02-05T18:23:37.685Z"
   },
   {
    "duration": 14,
    "start_time": "2022-02-05T18:23:38.765Z"
   },
   {
    "duration": 518,
    "start_time": "2022-02-05T18:24:52.031Z"
   },
   {
    "duration": 540,
    "start_time": "2022-02-05T18:25:38.769Z"
   },
   {
    "duration": 576,
    "start_time": "2022-02-05T18:26:53.121Z"
   },
   {
    "duration": 190,
    "start_time": "2022-02-05T18:27:54.989Z"
   },
   {
    "duration": 195,
    "start_time": "2022-02-05T18:31:09.175Z"
   },
   {
    "duration": 600,
    "start_time": "2022-02-05T18:31:31.376Z"
   },
   {
    "duration": 2,
    "start_time": "2022-02-05T18:45:31.253Z"
   },
   {
    "duration": 331,
    "start_time": "2022-02-05T18:48:25.814Z"
   },
   {
    "duration": 315,
    "start_time": "2022-02-05T18:48:34.142Z"
   },
   {
    "duration": 334,
    "start_time": "2022-02-05T18:51:26.373Z"
   },
   {
    "duration": 5,
    "start_time": "2022-02-05T18:52:38.074Z"
   },
   {
    "duration": 2,
    "start_time": "2022-02-05T18:53:41.415Z"
   },
   {
    "duration": 366,
    "start_time": "2022-02-05T18:54:18.667Z"
   },
   {
    "duration": 7119,
    "start_time": "2022-02-05T18:55:25.095Z"
   },
   {
    "duration": 7114,
    "start_time": "2022-02-05T18:56:00.843Z"
   },
   {
    "duration": 2,
    "start_time": "2022-02-05T18:56:25.488Z"
   },
   {
    "duration": 383,
    "start_time": "2022-02-05T18:59:30.873Z"
   },
   {
    "duration": 333,
    "start_time": "2022-02-05T19:03:35.819Z"
   },
   {
    "duration": 164,
    "start_time": "2022-02-05T19:04:25.189Z"
   },
   {
    "duration": 12,
    "start_time": "2022-02-05T19:08:19.300Z"
   },
   {
    "duration": 2,
    "start_time": "2022-02-05T19:08:20.911Z"
   },
   {
    "duration": 291,
    "start_time": "2022-02-05T19:08:40.427Z"
   },
   {
    "duration": 12,
    "start_time": "2022-02-05T19:08:58.741Z"
   },
   {
    "duration": 2,
    "start_time": "2022-02-05T19:08:59.969Z"
   },
   {
    "duration": 286,
    "start_time": "2022-02-05T19:09:00.962Z"
   },
   {
    "duration": 2,
    "start_time": "2022-02-05T19:11:11.188Z"
   },
   {
    "duration": 7,
    "start_time": "2022-02-05T19:12:46.434Z"
   },
   {
    "duration": 179,
    "start_time": "2022-02-05T19:12:52.695Z"
   },
   {
    "duration": 11,
    "start_time": "2022-02-05T19:13:31.004Z"
   },
   {
    "duration": 3,
    "start_time": "2022-02-05T19:13:36.350Z"
   },
   {
    "duration": 180,
    "start_time": "2022-02-05T19:13:38.933Z"
   },
   {
    "duration": 5,
    "start_time": "2022-02-05T19:16:12.511Z"
   },
   {
    "duration": 3,
    "start_time": "2022-02-05T19:17:20.232Z"
   },
   {
    "duration": 218,
    "start_time": "2022-02-05T19:46:20.189Z"
   },
   {
    "duration": 217,
    "start_time": "2022-02-05T19:46:40.990Z"
   },
   {
    "duration": 8,
    "start_time": "2022-02-05T19:48:13.362Z"
   },
   {
    "duration": 179,
    "start_time": "2022-02-05T19:48:16.241Z"
   },
   {
    "duration": 7,
    "start_time": "2022-02-05T19:48:30.616Z"
   },
   {
    "duration": 2,
    "start_time": "2022-02-05T19:48:32.613Z"
   },
   {
    "duration": 346,
    "start_time": "2022-02-05T19:50:04.452Z"
   },
   {
    "duration": 311,
    "start_time": "2022-02-05T19:50:23.868Z"
   },
   {
    "duration": 18,
    "start_time": "2022-02-05T19:50:30.393Z"
   },
   {
    "duration": 30,
    "start_time": "2022-02-05T19:52:04.796Z"
   },
   {
    "duration": 94,
    "start_time": "2022-02-05T19:52:57.371Z"
   },
   {
    "duration": 18,
    "start_time": "2022-02-05T19:53:11.494Z"
   },
   {
    "duration": 116,
    "start_time": "2022-02-05T19:54:25.169Z"
   },
   {
    "duration": 28,
    "start_time": "2022-02-05T19:54:29.674Z"
   },
   {
    "duration": 28,
    "start_time": "2022-02-05T19:56:37.783Z"
   },
   {
    "duration": 29,
    "start_time": "2022-02-05T19:57:27.348Z"
   },
   {
    "duration": 9,
    "start_time": "2022-02-05T19:59:07.685Z"
   },
   {
    "duration": 172,
    "start_time": "2022-02-05T19:59:11.266Z"
   },
   {
    "duration": 7,
    "start_time": "2022-02-05T19:59:32.793Z"
   },
   {
    "duration": 171,
    "start_time": "2022-02-05T19:59:35.706Z"
   },
   {
    "duration": 11,
    "start_time": "2022-02-05T20:00:29.690Z"
   },
   {
    "duration": 178,
    "start_time": "2022-02-05T20:00:35.625Z"
   },
   {
    "duration": 10,
    "start_time": "2022-02-05T20:01:39.719Z"
   },
   {
    "duration": 30,
    "start_time": "2022-02-05T20:02:36.993Z"
   },
   {
    "duration": 3,
    "start_time": "2022-02-05T20:03:35.976Z"
   },
   {
    "duration": 68,
    "start_time": "2022-02-05T20:03:35.981Z"
   },
   {
    "duration": 22,
    "start_time": "2022-02-05T20:03:36.051Z"
   },
   {
    "duration": 10,
    "start_time": "2022-02-05T20:03:36.075Z"
   },
   {
    "duration": 9,
    "start_time": "2022-02-05T20:03:36.086Z"
   },
   {
    "duration": 9,
    "start_time": "2022-02-05T20:03:36.096Z"
   },
   {
    "duration": 94,
    "start_time": "2022-02-05T20:03:36.106Z"
   },
   {
    "duration": 3,
    "start_time": "2022-02-05T20:03:36.202Z"
   },
   {
    "duration": 3,
    "start_time": "2022-02-05T20:03:36.207Z"
   },
   {
    "duration": 4,
    "start_time": "2022-02-05T20:03:36.212Z"
   },
   {
    "duration": 5,
    "start_time": "2022-02-05T20:03:36.217Z"
   },
   {
    "duration": 11,
    "start_time": "2022-02-05T20:03:36.224Z"
   },
   {
    "duration": 36,
    "start_time": "2022-02-05T20:03:36.237Z"
   },
   {
    "duration": 6,
    "start_time": "2022-02-05T20:03:36.275Z"
   },
   {
    "duration": 4,
    "start_time": "2022-02-05T20:03:36.283Z"
   },
   {
    "duration": 9,
    "start_time": "2022-02-05T20:03:36.288Z"
   },
   {
    "duration": 9,
    "start_time": "2022-02-05T20:03:36.298Z"
   },
   {
    "duration": 26,
    "start_time": "2022-02-05T20:03:36.309Z"
   },
   {
    "duration": 7,
    "start_time": "2022-02-05T20:03:36.337Z"
   },
   {
    "duration": 66,
    "start_time": "2022-02-05T20:03:36.345Z"
   },
   {
    "duration": 21,
    "start_time": "2022-02-05T20:03:36.412Z"
   },
   {
    "duration": 2,
    "start_time": "2022-02-05T20:03:36.435Z"
   },
   {
    "duration": 61,
    "start_time": "2022-02-05T20:03:36.441Z"
   },
   {
    "duration": 5,
    "start_time": "2022-02-05T20:03:36.505Z"
   },
   {
    "duration": 19,
    "start_time": "2022-02-05T20:03:36.511Z"
   },
   {
    "duration": 3,
    "start_time": "2022-02-05T20:03:36.532Z"
   },
   {
    "duration": 63,
    "start_time": "2022-02-05T20:03:36.537Z"
   },
   {
    "duration": 529,
    "start_time": "2022-02-05T20:03:36.601Z"
   },
   {
    "duration": 20,
    "start_time": "2022-02-05T20:03:37.132Z"
   },
   {
    "duration": 2,
    "start_time": "2022-02-05T20:03:37.154Z"
   },
   {
    "duration": 215,
    "start_time": "2022-02-05T20:03:37.171Z"
   },
   {
    "duration": 295,
    "start_time": "2022-02-05T20:03:37.388Z"
   },
   {
    "duration": 6,
    "start_time": "2022-02-05T20:03:37.685Z"
   },
   {
    "duration": 284,
    "start_time": "2022-02-05T20:03:37.693Z"
   },
   {
    "duration": 202,
    "start_time": "2022-02-05T20:03:37.979Z"
   },
   {
    "duration": 221,
    "start_time": "2022-02-05T20:03:38.183Z"
   },
   {
    "duration": 281,
    "start_time": "2022-02-05T20:03:38.405Z"
   },
   {
    "duration": 8,
    "start_time": "2022-02-05T20:03:38.688Z"
   },
   {
    "duration": 211,
    "start_time": "2022-02-05T20:03:38.697Z"
   },
   {
    "duration": 8,
    "start_time": "2022-02-05T20:03:38.911Z"
   },
   {
    "duration": 6,
    "start_time": "2022-02-05T20:03:38.921Z"
   },
   {
    "duration": 8,
    "start_time": "2022-02-05T20:03:38.928Z"
   },
   {
    "duration": 250,
    "start_time": "2022-02-05T20:03:38.938Z"
   },
   {
    "duration": 8,
    "start_time": "2022-02-05T20:03:39.190Z"
   },
   {
    "duration": 5,
    "start_time": "2022-02-05T20:03:39.200Z"
   },
   {
    "duration": 485,
    "start_time": "2022-02-05T20:03:39.206Z"
   },
   {
    "duration": 6,
    "start_time": "2022-02-05T20:03:39.693Z"
   },
   {
    "duration": 504,
    "start_time": "2022-02-05T20:03:39.703Z"
   },
   {
    "duration": 6,
    "start_time": "2022-02-05T20:03:40.209Z"
   },
   {
    "duration": 511,
    "start_time": "2022-02-05T20:03:40.216Z"
   },
   {
    "duration": 13,
    "start_time": "2022-02-05T20:03:40.729Z"
   },
   {
    "duration": 170,
    "start_time": "2022-02-05T20:03:40.743Z"
   },
   {
    "duration": 4,
    "start_time": "2022-02-05T20:03:40.915Z"
   },
   {
    "duration": 8,
    "start_time": "2022-02-05T20:03:40.921Z"
   },
   {
    "duration": 2,
    "start_time": "2022-02-05T20:03:40.930Z"
   },
   {
    "duration": 4,
    "start_time": "2022-02-05T20:03:40.934Z"
   },
   {
    "duration": 5,
    "start_time": "2022-02-05T20:03:40.939Z"
   },
   {
    "duration": 26,
    "start_time": "2022-02-05T20:03:40.945Z"
   },
   {
    "duration": 6,
    "start_time": "2022-02-05T20:03:40.973Z"
   },
   {
    "duration": 4,
    "start_time": "2022-02-05T20:03:40.981Z"
   },
   {
    "duration": 30,
    "start_time": "2022-02-05T20:03:40.987Z"
   },
   {
    "duration": 21,
    "start_time": "2022-02-05T20:03:41.019Z"
   },
   {
    "duration": 51,
    "start_time": "2022-02-05T20:03:41.042Z"
   },
   {
    "duration": 5,
    "start_time": "2022-02-05T20:03:41.095Z"
   },
   {
    "duration": 12,
    "start_time": "2022-02-05T20:03:41.102Z"
   },
   {
    "duration": 58,
    "start_time": "2022-02-05T20:03:41.115Z"
   },
   {
    "duration": 3,
    "start_time": "2022-02-05T20:03:41.175Z"
   },
   {
    "duration": 4,
    "start_time": "2022-02-05T20:03:41.180Z"
   },
   {
    "duration": 200,
    "start_time": "2022-02-05T20:03:41.185Z"
   },
   {
    "duration": 235,
    "start_time": "2022-02-05T20:03:41.387Z"
   },
   {
    "duration": 31,
    "start_time": "2022-02-05T20:08:04.024Z"
   },
   {
    "duration": 30,
    "start_time": "2022-02-05T20:17:07.087Z"
   },
   {
    "duration": 2,
    "start_time": "2022-02-05T20:18:33.819Z"
   },
   {
    "duration": 3,
    "start_time": "2022-02-05T20:18:39.890Z"
   },
   {
    "duration": 3,
    "start_time": "2022-02-05T20:18:47.772Z"
   },
   {
    "duration": 3,
    "start_time": "2022-02-05T20:19:39.439Z"
   },
   {
    "duration": 2,
    "start_time": "2022-02-05T20:19:50.143Z"
   },
   {
    "duration": 5,
    "start_time": "2022-02-05T20:20:08.954Z"
   },
   {
    "duration": 159,
    "start_time": "2022-02-05T20:20:49.228Z"
   },
   {
    "duration": 31,
    "start_time": "2022-02-05T20:25:53.183Z"
   },
   {
    "duration": 3,
    "start_time": "2022-02-05T20:26:29.782Z"
   },
   {
    "duration": 61,
    "start_time": "2022-02-05T20:26:29.789Z"
   },
   {
    "duration": 22,
    "start_time": "2022-02-05T20:26:29.853Z"
   },
   {
    "duration": 10,
    "start_time": "2022-02-05T20:26:29.878Z"
   },
   {
    "duration": 9,
    "start_time": "2022-02-05T20:26:29.890Z"
   },
   {
    "duration": 9,
    "start_time": "2022-02-05T20:26:29.901Z"
   },
   {
    "duration": 99,
    "start_time": "2022-02-05T20:26:29.912Z"
   },
   {
    "duration": 4,
    "start_time": "2022-02-05T20:26:30.013Z"
   },
   {
    "duration": 5,
    "start_time": "2022-02-05T20:26:30.020Z"
   },
   {
    "duration": 8,
    "start_time": "2022-02-05T20:26:30.027Z"
   },
   {
    "duration": 12,
    "start_time": "2022-02-05T20:26:30.037Z"
   },
   {
    "duration": 24,
    "start_time": "2022-02-05T20:26:30.051Z"
   },
   {
    "duration": 8,
    "start_time": "2022-02-05T20:26:30.076Z"
   },
   {
    "duration": 22,
    "start_time": "2022-02-05T20:26:30.086Z"
   },
   {
    "duration": 13,
    "start_time": "2022-02-05T20:26:30.110Z"
   },
   {
    "duration": 20,
    "start_time": "2022-02-05T20:26:30.124Z"
   },
   {
    "duration": 18,
    "start_time": "2022-02-05T20:26:30.146Z"
   },
   {
    "duration": 33,
    "start_time": "2022-02-05T20:26:30.166Z"
   },
   {
    "duration": 11,
    "start_time": "2022-02-05T20:26:30.200Z"
   },
   {
    "duration": 45,
    "start_time": "2022-02-05T20:26:30.212Z"
   },
   {
    "duration": 29,
    "start_time": "2022-02-05T20:26:30.259Z"
   },
   {
    "duration": 2,
    "start_time": "2022-02-05T20:26:30.289Z"
   },
   {
    "duration": 35,
    "start_time": "2022-02-05T20:26:30.293Z"
   },
   {
    "duration": 4,
    "start_time": "2022-02-05T20:26:30.331Z"
   },
   {
    "duration": 39,
    "start_time": "2022-02-05T20:26:30.338Z"
   },
   {
    "duration": 3,
    "start_time": "2022-02-05T20:26:30.379Z"
   },
   {
    "duration": 48,
    "start_time": "2022-02-05T20:26:30.384Z"
   },
   {
    "duration": 512,
    "start_time": "2022-02-05T20:26:30.434Z"
   },
   {
    "duration": 30,
    "start_time": "2022-02-05T20:26:30.947Z"
   },
   {
    "duration": 2,
    "start_time": "2022-02-05T20:26:30.979Z"
   },
   {
    "duration": 230,
    "start_time": "2022-02-05T20:26:30.983Z"
   },
   {
    "duration": 310,
    "start_time": "2022-02-05T20:26:31.214Z"
   },
   {
    "duration": 7,
    "start_time": "2022-02-05T20:26:31.526Z"
   },
   {
    "duration": 297,
    "start_time": "2022-02-05T20:26:31.534Z"
   },
   {
    "duration": 210,
    "start_time": "2022-02-05T20:26:31.833Z"
   },
   {
    "duration": 236,
    "start_time": "2022-02-05T20:26:32.045Z"
   },
   {
    "duration": 293,
    "start_time": "2022-02-05T20:26:32.283Z"
   },
   {
    "duration": 8,
    "start_time": "2022-02-05T20:26:32.577Z"
   },
   {
    "duration": 206,
    "start_time": "2022-02-05T20:26:32.586Z"
   },
   {
    "duration": 9,
    "start_time": "2022-02-05T20:26:32.793Z"
   },
   {
    "duration": 8,
    "start_time": "2022-02-05T20:26:32.803Z"
   },
   {
    "duration": 12,
    "start_time": "2022-02-05T20:26:32.812Z"
   },
   {
    "duration": 238,
    "start_time": "2022-02-05T20:26:32.825Z"
   },
   {
    "duration": 11,
    "start_time": "2022-02-05T20:26:33.065Z"
   },
   {
    "duration": 6,
    "start_time": "2022-02-05T20:26:33.077Z"
   },
   {
    "duration": 453,
    "start_time": "2022-02-05T20:26:33.085Z"
   },
   {
    "duration": 4,
    "start_time": "2022-02-05T20:26:33.540Z"
   },
   {
    "duration": 492,
    "start_time": "2022-02-05T20:26:33.545Z"
   },
   {
    "duration": 4,
    "start_time": "2022-02-05T20:26:34.038Z"
   },
   {
    "duration": 475,
    "start_time": "2022-02-05T20:26:34.044Z"
   },
   {
    "duration": 13,
    "start_time": "2022-02-05T20:26:34.521Z"
   },
   {
    "duration": 166,
    "start_time": "2022-02-05T20:26:34.536Z"
   },
   {
    "duration": 5,
    "start_time": "2022-02-05T20:26:34.703Z"
   },
   {
    "duration": 12,
    "start_time": "2022-02-05T20:26:34.710Z"
   },
   {
    "duration": 2,
    "start_time": "2022-02-05T20:26:34.724Z"
   },
   {
    "duration": 6,
    "start_time": "2022-02-05T20:26:34.728Z"
   },
   {
    "duration": 5,
    "start_time": "2022-02-05T20:26:34.736Z"
   },
   {
    "duration": 31,
    "start_time": "2022-02-05T20:26:34.742Z"
   },
   {
    "duration": 8,
    "start_time": "2022-02-05T20:26:34.775Z"
   },
   {
    "duration": 4,
    "start_time": "2022-02-05T20:26:34.787Z"
   },
   {
    "duration": 30,
    "start_time": "2022-02-05T20:26:34.793Z"
   },
   {
    "duration": 4,
    "start_time": "2022-02-05T20:26:34.824Z"
   },
   {
    "duration": 201,
    "start_time": "2022-02-05T20:26:34.830Z"
   },
   {
    "duration": 30,
    "start_time": "2022-02-05T20:26:35.032Z"
   },
   {
    "duration": 299,
    "start_time": "2022-02-05T20:27:50.652Z"
   },
   {
    "duration": 63,
    "start_time": "2022-02-05T20:27:58.123Z"
   },
   {
    "duration": 30,
    "start_time": "2022-02-05T20:28:23.478Z"
   },
   {
    "duration": 29,
    "start_time": "2022-02-05T20:28:53.777Z"
   },
   {
    "duration": 6,
    "start_time": "2022-02-05T20:36:08.886Z"
   },
   {
    "duration": 31,
    "start_time": "2022-02-05T20:36:29.644Z"
   },
   {
    "duration": 5,
    "start_time": "2022-02-05T20:36:39.946Z"
   },
   {
    "duration": 6,
    "start_time": "2022-02-05T20:38:22.247Z"
   },
   {
    "duration": 218,
    "start_time": "2022-02-05T20:40:05.591Z"
   },
   {
    "duration": 288,
    "start_time": "2022-02-05T20:42:14.918Z"
   },
   {
    "duration": 269,
    "start_time": "2022-02-05T20:42:16.460Z"
   },
   {
    "duration": 226,
    "start_time": "2022-02-05T20:42:20.442Z"
   },
   {
    "duration": 158,
    "start_time": "2022-02-05T20:42:33.508Z"
   },
   {
    "duration": 175,
    "start_time": "2022-02-05T20:42:53.393Z"
   },
   {
    "duration": 176,
    "start_time": "2022-02-05T20:43:13.376Z"
   },
   {
    "duration": 295,
    "start_time": "2022-02-05T20:43:58.164Z"
   },
   {
    "duration": 919,
    "start_time": "2022-02-05T20:44:17.246Z"
   },
   {
    "duration": 319,
    "start_time": "2022-02-05T20:44:21.878Z"
   },
   {
    "duration": 486,
    "start_time": "2022-02-05T20:46:11.758Z"
   },
   {
    "duration": 3,
    "start_time": "2022-02-05T20:49:46.120Z"
   },
   {
    "duration": 58,
    "start_time": "2022-02-05T20:49:46.126Z"
   },
   {
    "duration": 20,
    "start_time": "2022-02-05T20:49:46.185Z"
   },
   {
    "duration": 15,
    "start_time": "2022-02-05T20:49:46.207Z"
   },
   {
    "duration": 7,
    "start_time": "2022-02-05T20:49:46.223Z"
   },
   {
    "duration": 8,
    "start_time": "2022-02-05T20:49:46.232Z"
   },
   {
    "duration": 87,
    "start_time": "2022-02-05T20:49:46.242Z"
   },
   {
    "duration": 4,
    "start_time": "2022-02-05T20:49:46.330Z"
   },
   {
    "duration": 5,
    "start_time": "2022-02-05T20:49:46.336Z"
   },
   {
    "duration": 4,
    "start_time": "2022-02-05T20:49:46.343Z"
   },
   {
    "duration": 23,
    "start_time": "2022-02-05T20:49:46.348Z"
   },
   {
    "duration": 12,
    "start_time": "2022-02-05T20:49:46.373Z"
   },
   {
    "duration": 8,
    "start_time": "2022-02-05T20:49:46.386Z"
   },
   {
    "duration": 7,
    "start_time": "2022-02-05T20:49:46.395Z"
   },
   {
    "duration": 4,
    "start_time": "2022-02-05T20:49:46.403Z"
   },
   {
    "duration": 11,
    "start_time": "2022-02-05T20:49:46.409Z"
   },
   {
    "duration": 6,
    "start_time": "2022-02-05T20:49:46.421Z"
   },
   {
    "duration": 52,
    "start_time": "2022-02-05T20:49:46.429Z"
   },
   {
    "duration": 8,
    "start_time": "2022-02-05T20:49:46.482Z"
   },
   {
    "duration": 38,
    "start_time": "2022-02-05T20:49:46.491Z"
   },
   {
    "duration": 46,
    "start_time": "2022-02-05T20:49:46.530Z"
   },
   {
    "duration": 2,
    "start_time": "2022-02-05T20:49:46.579Z"
   },
   {
    "duration": 32,
    "start_time": "2022-02-05T20:49:46.583Z"
   },
   {
    "duration": 4,
    "start_time": "2022-02-05T20:49:46.616Z"
   },
   {
    "duration": 20,
    "start_time": "2022-02-05T20:49:46.621Z"
   },
   {
    "duration": 3,
    "start_time": "2022-02-05T20:49:46.642Z"
   },
   {
    "duration": 56,
    "start_time": "2022-02-05T20:49:46.647Z"
   },
   {
    "duration": 463,
    "start_time": "2022-02-05T20:49:46.704Z"
   },
   {
    "duration": 22,
    "start_time": "2022-02-05T20:49:47.168Z"
   },
   {
    "duration": 2,
    "start_time": "2022-02-05T20:49:47.192Z"
   },
   {
    "duration": 223,
    "start_time": "2022-02-05T20:49:47.195Z"
   },
   {
    "duration": 299,
    "start_time": "2022-02-05T20:49:47.420Z"
   },
   {
    "duration": 8,
    "start_time": "2022-02-05T20:49:47.720Z"
   },
   {
    "duration": 295,
    "start_time": "2022-02-05T20:49:47.730Z"
   },
   {
    "duration": 276,
    "start_time": "2022-02-05T20:49:48.026Z"
   },
   {
    "duration": 225,
    "start_time": "2022-02-05T20:49:48.303Z"
   },
   {
    "duration": 299,
    "start_time": "2022-02-05T20:49:48.529Z"
   },
   {
    "duration": 8,
    "start_time": "2022-02-05T20:49:48.830Z"
   },
   {
    "duration": 148,
    "start_time": "2022-02-05T20:49:48.839Z"
   },
   {
    "duration": 8,
    "start_time": "2022-02-05T20:49:48.989Z"
   },
   {
    "duration": 6,
    "start_time": "2022-02-05T20:49:48.998Z"
   },
   {
    "duration": 7,
    "start_time": "2022-02-05T20:49:49.005Z"
   },
   {
    "duration": 240,
    "start_time": "2022-02-05T20:49:49.014Z"
   },
   {
    "duration": 21,
    "start_time": "2022-02-05T20:49:49.255Z"
   },
   {
    "duration": 4,
    "start_time": "2022-02-05T20:49:49.278Z"
   },
   {
    "duration": 454,
    "start_time": "2022-02-05T20:49:49.286Z"
   },
   {
    "duration": 5,
    "start_time": "2022-02-05T20:49:49.742Z"
   },
   {
    "duration": 492,
    "start_time": "2022-02-05T20:49:49.748Z"
   },
   {
    "duration": 5,
    "start_time": "2022-02-05T20:49:50.241Z"
   },
   {
    "duration": 476,
    "start_time": "2022-02-05T20:49:50.247Z"
   },
   {
    "duration": 15,
    "start_time": "2022-02-05T20:49:50.724Z"
   },
   {
    "duration": 168,
    "start_time": "2022-02-05T20:49:50.740Z"
   },
   {
    "duration": 5,
    "start_time": "2022-02-05T20:49:50.910Z"
   },
   {
    "duration": 7,
    "start_time": "2022-02-05T20:49:50.917Z"
   },
   {
    "duration": 2,
    "start_time": "2022-02-05T20:49:50.925Z"
   },
   {
    "duration": 4,
    "start_time": "2022-02-05T20:49:50.929Z"
   },
   {
    "duration": 5,
    "start_time": "2022-02-05T20:49:50.934Z"
   },
   {
    "duration": 34,
    "start_time": "2022-02-05T20:49:50.940Z"
   },
   {
    "duration": 7,
    "start_time": "2022-02-05T20:49:50.975Z"
   },
   {
    "duration": 4,
    "start_time": "2022-02-05T20:49:50.984Z"
   },
   {
    "duration": 20,
    "start_time": "2022-02-05T20:49:50.989Z"
   },
   {
    "duration": 4,
    "start_time": "2022-02-05T20:49:51.011Z"
   },
   {
    "duration": 266,
    "start_time": "2022-02-05T20:49:51.017Z"
   },
   {
    "duration": 6,
    "start_time": "2022-02-05T20:49:51.285Z"
   },
   {
    "duration": 225,
    "start_time": "2022-02-05T20:49:51.292Z"
   },
   {
    "duration": 235,
    "start_time": "2022-02-05T20:49:51.518Z"
   },
   {
    "duration": 183,
    "start_time": "2022-02-05T20:49:51.755Z"
   },
   {
    "duration": 237,
    "start_time": "2022-02-05T20:49:51.939Z"
   },
   {
    "duration": 4,
    "start_time": "2022-02-05T20:49:52.178Z"
   },
   {
    "duration": 296,
    "start_time": "2022-02-05T20:49:52.184Z"
   },
   {
    "duration": 5,
    "start_time": "2022-02-05T20:49:52.481Z"
   },
   {
    "duration": 305,
    "start_time": "2022-02-05T20:49:52.488Z"
   },
   {
    "duration": 5,
    "start_time": "2022-02-05T20:49:52.795Z"
   },
   {
    "duration": 295,
    "start_time": "2022-02-05T20:49:52.801Z"
   },
   {
    "duration": 231,
    "start_time": "2022-02-05T20:49:53.098Z"
   },
   {
    "duration": 146,
    "start_time": "2022-02-05T20:52:06.084Z"
   },
   {
    "duration": 175,
    "start_time": "2022-02-05T20:53:57.560Z"
   },
   {
    "duration": 113,
    "start_time": "2022-02-05T21:05:43.945Z"
   },
   {
    "duration": 98,
    "start_time": "2022-02-05T21:06:02.985Z"
   },
   {
    "duration": 559,
    "start_time": "2022-02-05T21:06:17.831Z"
   },
   {
    "duration": 112,
    "start_time": "2022-02-05T21:06:42.299Z"
   },
   {
    "duration": 147,
    "start_time": "2022-02-05T21:06:48.738Z"
   },
   {
    "duration": 337,
    "start_time": "2022-02-05T21:11:29.352Z"
   },
   {
    "duration": 8243,
    "start_time": "2022-02-05T21:12:30.337Z"
   },
   {
    "duration": 498,
    "start_time": "2022-02-05T21:13:10.112Z"
   },
   {
    "duration": 511,
    "start_time": "2022-02-05T21:14:52.829Z"
   },
   {
    "duration": 159,
    "start_time": "2022-02-05T21:15:02.563Z"
   },
   {
    "duration": 248,
    "start_time": "2022-02-05T21:16:25.849Z"
   },
   {
    "duration": 555,
    "start_time": "2022-02-05T21:17:09.948Z"
   },
   {
    "duration": 251,
    "start_time": "2022-02-05T21:17:30.988Z"
   },
   {
    "duration": 154,
    "start_time": "2022-02-05T21:26:49.770Z"
   },
   {
    "duration": 3,
    "start_time": "2022-02-05T21:27:36.936Z"
   },
   {
    "duration": 166,
    "start_time": "2022-02-05T21:29:33.155Z"
   },
   {
    "duration": 373,
    "start_time": "2022-02-05T21:30:02.584Z"
   },
   {
    "duration": 175,
    "start_time": "2022-02-05T21:30:32.995Z"
   },
   {
    "duration": 245,
    "start_time": "2022-02-05T21:31:05.004Z"
   },
   {
    "duration": 834,
    "start_time": "2022-02-06T11:05:28.363Z"
   },
   {
    "duration": 92,
    "start_time": "2022-02-06T11:05:29.200Z"
   },
   {
    "duration": 50,
    "start_time": "2022-02-06T11:05:29.295Z"
   },
   {
    "duration": 39,
    "start_time": "2022-02-06T11:05:29.348Z"
   },
   {
    "duration": 19,
    "start_time": "2022-02-06T11:05:29.390Z"
   },
   {
    "duration": 12,
    "start_time": "2022-02-06T11:05:29.411Z"
   },
   {
    "duration": 190,
    "start_time": "2022-02-06T11:05:29.426Z"
   },
   {
    "duration": 4,
    "start_time": "2022-02-06T11:05:29.619Z"
   },
   {
    "duration": 13,
    "start_time": "2022-02-06T11:05:29.626Z"
   },
   {
    "duration": 5,
    "start_time": "2022-02-06T11:05:29.641Z"
   },
   {
    "duration": 22,
    "start_time": "2022-02-06T11:05:29.648Z"
   },
   {
    "duration": 20,
    "start_time": "2022-02-06T11:05:29.672Z"
   },
   {
    "duration": 10,
    "start_time": "2022-02-06T11:05:29.694Z"
   },
   {
    "duration": 10,
    "start_time": "2022-02-06T11:05:29.706Z"
   },
   {
    "duration": 5,
    "start_time": "2022-02-06T11:05:29.718Z"
   },
   {
    "duration": 10,
    "start_time": "2022-02-06T11:05:29.770Z"
   },
   {
    "duration": 10,
    "start_time": "2022-02-06T11:05:29.782Z"
   },
   {
    "duration": 42,
    "start_time": "2022-02-06T11:05:29.794Z"
   },
   {
    "duration": 34,
    "start_time": "2022-02-06T11:05:29.839Z"
   },
   {
    "duration": 74,
    "start_time": "2022-02-06T11:05:29.876Z"
   },
   {
    "duration": 45,
    "start_time": "2022-02-06T11:05:29.953Z"
   },
   {
    "duration": 3,
    "start_time": "2022-02-06T11:05:30.001Z"
   },
   {
    "duration": 79,
    "start_time": "2022-02-06T11:05:30.010Z"
   },
   {
    "duration": 7,
    "start_time": "2022-02-06T11:05:30.092Z"
   },
   {
    "duration": 41,
    "start_time": "2022-02-06T11:05:30.102Z"
   },
   {
    "duration": 21,
    "start_time": "2022-02-06T11:05:30.146Z"
   },
   {
    "duration": 64,
    "start_time": "2022-02-06T11:05:30.169Z"
   },
   {
    "duration": 922,
    "start_time": "2022-02-06T11:05:30.236Z"
   },
   {
    "duration": 45,
    "start_time": "2022-02-06T11:05:31.160Z"
   },
   {
    "duration": 130,
    "start_time": "2022-02-06T11:05:31.207Z"
   },
   {
    "duration": 454,
    "start_time": "2022-02-06T11:05:31.339Z"
   },
   {
    "duration": 573,
    "start_time": "2022-02-06T11:05:31.796Z"
   },
   {
    "duration": 15,
    "start_time": "2022-02-06T11:05:32.371Z"
   },
   {
    "duration": 589,
    "start_time": "2022-02-06T11:05:32.389Z"
   },
   {
    "duration": 369,
    "start_time": "2022-02-06T11:05:32.981Z"
   },
   {
    "duration": 423,
    "start_time": "2022-02-06T11:05:33.352Z"
   },
   {
    "duration": 720,
    "start_time": "2022-02-06T11:05:33.778Z"
   },
   {
    "duration": 13,
    "start_time": "2022-02-06T11:05:34.500Z"
   },
   {
    "duration": 266,
    "start_time": "2022-02-06T11:05:34.515Z"
   },
   {
    "duration": 14,
    "start_time": "2022-02-06T11:05:34.784Z"
   },
   {
    "duration": 8,
    "start_time": "2022-02-06T11:05:34.801Z"
   },
   {
    "duration": 125,
    "start_time": "2022-02-06T11:05:34.811Z"
   },
   {
    "duration": 434,
    "start_time": "2022-02-06T11:05:34.939Z"
   },
   {
    "duration": 10,
    "start_time": "2022-02-06T11:05:35.376Z"
   },
   {
    "duration": 6,
    "start_time": "2022-02-06T11:05:35.388Z"
   },
   {
    "duration": 785,
    "start_time": "2022-02-06T11:05:35.397Z"
   },
   {
    "duration": 7,
    "start_time": "2022-02-06T11:05:36.184Z"
   },
   {
    "duration": 771,
    "start_time": "2022-02-06T11:05:36.194Z"
   },
   {
    "duration": 7,
    "start_time": "2022-02-06T11:05:36.970Z"
   },
   {
    "duration": 783,
    "start_time": "2022-02-06T11:05:36.979Z"
   },
   {
    "duration": 26,
    "start_time": "2022-02-06T11:05:37.765Z"
   },
   {
    "duration": 302,
    "start_time": "2022-02-06T11:05:37.794Z"
   },
   {
    "duration": 3,
    "start_time": "2022-02-06T11:05:38.099Z"
   },
   {
    "duration": 8,
    "start_time": "2022-02-06T11:05:38.106Z"
   },
   {
    "duration": 356,
    "start_time": "2022-02-06T11:05:38.116Z"
   },
   {
    "duration": 358,
    "start_time": "2022-02-06T11:05:38.474Z"
   },
   {
    "duration": 348,
    "start_time": "2022-02-06T11:05:38.834Z"
   },
   {
    "duration": 9,
    "start_time": "2022-02-06T11:05:39.184Z"
   },
   {
    "duration": 3,
    "start_time": "2022-02-06T11:05:39.196Z"
   },
   {
    "duration": 5,
    "start_time": "2022-02-06T11:05:39.202Z"
   },
   {
    "duration": 4,
    "start_time": "2022-02-06T11:05:39.210Z"
   },
   {
    "duration": 59,
    "start_time": "2022-02-06T11:05:39.216Z"
   },
   {
    "duration": 14,
    "start_time": "2022-02-06T11:05:39.278Z"
   },
   {
    "duration": 7,
    "start_time": "2022-02-06T11:05:39.294Z"
   },
   {
    "duration": 76,
    "start_time": "2022-02-06T11:05:39.304Z"
   },
   {
    "duration": 6,
    "start_time": "2022-02-06T11:05:39.382Z"
   },
   {
    "duration": 338,
    "start_time": "2022-02-06T11:05:39.390Z"
   },
   {
    "duration": 9,
    "start_time": "2022-02-06T11:05:39.735Z"
   },
   {
    "duration": 428,
    "start_time": "2022-02-06T11:05:39.747Z"
   },
   {
    "duration": 511,
    "start_time": "2022-02-06T11:05:40.177Z"
   },
   {
    "duration": 354,
    "start_time": "2022-02-06T11:05:40.691Z"
   },
   {
    "duration": 441,
    "start_time": "2022-02-06T11:05:41.047Z"
   },
   {
    "duration": 9,
    "start_time": "2022-02-06T11:05:41.490Z"
   },
   {
    "duration": 413,
    "start_time": "2022-02-06T11:05:41.501Z"
   },
   {
    "duration": 9,
    "start_time": "2022-02-06T11:05:41.917Z"
   },
   {
    "duration": 474,
    "start_time": "2022-02-06T11:05:41.929Z"
   },
   {
    "duration": 8,
    "start_time": "2022-02-06T11:05:42.406Z"
   },
   {
    "duration": 485,
    "start_time": "2022-02-06T11:05:42.417Z"
   },
   {
    "duration": 450,
    "start_time": "2022-02-06T11:05:42.905Z"
   },
   {
    "duration": 351,
    "start_time": "2022-02-06T11:07:26.217Z"
   },
   {
    "duration": 3,
    "start_time": "2022-02-06T11:07:53.444Z"
   },
   {
    "duration": 84,
    "start_time": "2022-02-06T11:07:53.453Z"
   },
   {
    "duration": 50,
    "start_time": "2022-02-06T11:07:53.541Z"
   },
   {
    "duration": 17,
    "start_time": "2022-02-06T11:07:53.594Z"
   },
   {
    "duration": 12,
    "start_time": "2022-02-06T11:07:53.614Z"
   },
   {
    "duration": 51,
    "start_time": "2022-02-06T11:07:53.629Z"
   },
   {
    "duration": 139,
    "start_time": "2022-02-06T11:07:53.683Z"
   },
   {
    "duration": 5,
    "start_time": "2022-02-06T11:07:53.824Z"
   },
   {
    "duration": 36,
    "start_time": "2022-02-06T11:07:53.833Z"
   },
   {
    "duration": 6,
    "start_time": "2022-02-06T11:07:53.873Z"
   },
   {
    "duration": 21,
    "start_time": "2022-02-06T11:07:53.881Z"
   },
   {
    "duration": 20,
    "start_time": "2022-02-06T11:07:53.905Z"
   },
   {
    "duration": 43,
    "start_time": "2022-02-06T11:07:53.928Z"
   },
   {
    "duration": 26,
    "start_time": "2022-02-06T11:07:53.974Z"
   },
   {
    "duration": 15,
    "start_time": "2022-02-06T11:07:54.003Z"
   },
   {
    "duration": 24,
    "start_time": "2022-02-06T11:07:54.021Z"
   },
   {
    "duration": 25,
    "start_time": "2022-02-06T11:07:54.047Z"
   },
   {
    "duration": 62,
    "start_time": "2022-02-06T11:07:54.075Z"
   },
   {
    "duration": 34,
    "start_time": "2022-02-06T11:07:54.140Z"
   },
   {
    "duration": 70,
    "start_time": "2022-02-06T11:07:54.177Z"
   },
   {
    "duration": 52,
    "start_time": "2022-02-06T11:07:54.249Z"
   },
   {
    "duration": 3,
    "start_time": "2022-02-06T11:07:54.303Z"
   },
   {
    "duration": 82,
    "start_time": "2022-02-06T11:07:54.309Z"
   },
   {
    "duration": 6,
    "start_time": "2022-02-06T11:07:54.397Z"
   },
   {
    "duration": 28,
    "start_time": "2022-02-06T11:07:54.407Z"
   },
   {
    "duration": 5,
    "start_time": "2022-02-06T11:07:54.437Z"
   },
   {
    "duration": 57,
    "start_time": "2022-02-06T11:07:54.469Z"
   },
   {
    "duration": 831,
    "start_time": "2022-02-06T11:07:54.528Z"
   },
   {
    "duration": 37,
    "start_time": "2022-02-06T11:07:55.369Z"
   },
   {
    "duration": 3,
    "start_time": "2022-02-06T11:07:55.408Z"
   },
   {
    "duration": 408,
    "start_time": "2022-02-06T11:07:55.413Z"
   },
   {
    "duration": 657,
    "start_time": "2022-02-06T11:07:55.824Z"
   },
   {
    "duration": 10,
    "start_time": "2022-02-06T11:07:56.483Z"
   },
   {
    "duration": 559,
    "start_time": "2022-02-06T11:07:56.495Z"
   },
   {
    "duration": 347,
    "start_time": "2022-02-06T11:07:57.057Z"
   },
   {
    "duration": 416,
    "start_time": "2022-02-06T11:07:57.407Z"
   },
   {
    "duration": 566,
    "start_time": "2022-02-06T11:07:57.826Z"
   },
   {
    "duration": 12,
    "start_time": "2022-02-06T11:07:58.394Z"
   },
   {
    "duration": 270,
    "start_time": "2022-02-06T11:07:58.408Z"
   },
   {
    "duration": 14,
    "start_time": "2022-02-06T11:07:58.681Z"
   },
   {
    "duration": 8,
    "start_time": "2022-02-06T11:07:58.698Z"
   },
   {
    "duration": 13,
    "start_time": "2022-02-06T11:07:58.708Z"
   },
   {
    "duration": 466,
    "start_time": "2022-02-06T11:07:58.723Z"
   },
   {
    "duration": 11,
    "start_time": "2022-02-06T11:07:59.191Z"
   },
   {
    "duration": 7,
    "start_time": "2022-02-06T11:07:59.205Z"
   },
   {
    "duration": 836,
    "start_time": "2022-02-06T11:07:59.215Z"
   },
   {
    "duration": 21,
    "start_time": "2022-02-06T11:08:00.054Z"
   },
   {
    "duration": 776,
    "start_time": "2022-02-06T11:08:00.078Z"
   },
   {
    "duration": 18,
    "start_time": "2022-02-06T11:08:00.857Z"
   },
   {
    "duration": 758,
    "start_time": "2022-02-06T11:08:00.878Z"
   },
   {
    "duration": 39,
    "start_time": "2022-02-06T11:08:01.639Z"
   },
   {
    "duration": 288,
    "start_time": "2022-02-06T11:08:01.681Z"
   },
   {
    "duration": 3,
    "start_time": "2022-02-06T11:08:01.972Z"
   },
   {
    "duration": 8,
    "start_time": "2022-02-06T11:08:01.977Z"
   },
   {
    "duration": 337,
    "start_time": "2022-02-06T11:08:01.987Z"
   },
   {
    "duration": 346,
    "start_time": "2022-02-06T11:08:02.326Z"
   },
   {
    "duration": 344,
    "start_time": "2022-02-06T11:08:02.674Z"
   },
   {
    "duration": 10,
    "start_time": "2022-02-06T11:08:03.020Z"
   },
   {
    "duration": 391,
    "start_time": "2022-02-06T11:08:03.032Z"
   },
   {
    "duration": 381,
    "start_time": "2022-02-06T11:08:03.045Z"
   },
   {
    "duration": 350,
    "start_time": "2022-02-06T11:08:03.078Z"
   },
   {
    "duration": 306,
    "start_time": "2022-02-06T11:08:03.123Z"
   },
   {
    "duration": 264,
    "start_time": "2022-02-06T11:08:03.166Z"
   },
   {
    "duration": 220,
    "start_time": "2022-02-06T11:08:03.212Z"
   },
   {
    "duration": 177,
    "start_time": "2022-02-06T11:08:03.257Z"
   },
   {
    "duration": 128,
    "start_time": "2022-02-06T11:08:03.307Z"
   },
   {
    "duration": 118,
    "start_time": "2022-02-06T11:08:03.318Z"
   },
   {
    "duration": 73,
    "start_time": "2022-02-06T11:08:03.364Z"
   },
   {
    "duration": 36,
    "start_time": "2022-02-06T11:08:03.403Z"
   },
   {
    "duration": -8,
    "start_time": "2022-02-06T11:08:03.448Z"
   },
   {
    "duration": -53,
    "start_time": "2022-02-06T11:08:03.494Z"
   },
   {
    "duration": -62,
    "start_time": "2022-02-06T11:08:03.505Z"
   },
   {
    "duration": -70,
    "start_time": "2022-02-06T11:08:03.514Z"
   },
   {
    "duration": -80,
    "start_time": "2022-02-06T11:08:03.525Z"
   },
   {
    "duration": -88,
    "start_time": "2022-02-06T11:08:03.534Z"
   },
   {
    "duration": -97,
    "start_time": "2022-02-06T11:08:03.544Z"
   },
   {
    "duration": -104,
    "start_time": "2022-02-06T11:08:03.553Z"
   },
   {
    "duration": -114,
    "start_time": "2022-02-06T11:08:03.564Z"
   },
   {
    "duration": -122,
    "start_time": "2022-02-06T11:08:03.574Z"
   },
   {
    "duration": 10,
    "start_time": "2022-02-06T11:08:53.588Z"
   },
   {
    "duration": 15,
    "start_time": "2022-02-06T11:09:00.296Z"
   },
   {
    "duration": 47,
    "start_time": "2022-02-06T11:10:14.159Z"
   },
   {
    "duration": 313,
    "start_time": "2022-02-06T11:11:13.456Z"
   },
   {
    "duration": 86,
    "start_time": "2022-02-06T11:12:31.524Z"
   },
   {
    "duration": 280,
    "start_time": "2022-02-06T11:12:39.004Z"
   },
   {
    "duration": 293,
    "start_time": "2022-02-06T11:13:05.276Z"
   },
   {
    "duration": 264,
    "start_time": "2022-02-06T11:13:47.373Z"
   },
   {
    "duration": 1090,
    "start_time": "2022-02-06T11:19:43.578Z"
   },
   {
    "duration": 19,
    "start_time": "2022-02-06T11:20:02.828Z"
   },
   {
    "duration": 17,
    "start_time": "2022-02-06T11:20:31.629Z"
   },
   {
    "duration": 384,
    "start_time": "2022-02-06T11:21:32.557Z"
   },
   {
    "duration": 294,
    "start_time": "2022-02-06T11:22:07.140Z"
   },
   {
    "duration": 4,
    "start_time": "2022-02-06T11:22:26.975Z"
   },
   {
    "duration": 717,
    "start_time": "2022-02-06T11:22:28.766Z"
   },
   {
    "duration": 26,
    "start_time": "2022-02-06T11:22:50.386Z"
   },
   {
    "duration": 4,
    "start_time": "2022-02-06T11:25:09.015Z"
   },
   {
    "duration": 62,
    "start_time": "2022-02-06T11:27:08.037Z"
   },
   {
    "duration": 10,
    "start_time": "2022-02-06T11:28:14.778Z"
   },
   {
    "duration": 283,
    "start_time": "2022-02-06T11:28:58.674Z"
   },
   {
    "duration": 250,
    "start_time": "2022-02-06T11:29:08.816Z"
   },
   {
    "duration": 6,
    "start_time": "2022-02-06T11:29:30.730Z"
   },
   {
    "duration": 18,
    "start_time": "2022-02-06T11:31:59.554Z"
   },
   {
    "duration": 3,
    "start_time": "2022-02-06T11:32:25.716Z"
   },
   {
    "duration": 91,
    "start_time": "2022-02-06T11:32:25.724Z"
   },
   {
    "duration": 37,
    "start_time": "2022-02-06T11:32:25.818Z"
   },
   {
    "duration": 31,
    "start_time": "2022-02-06T11:32:25.858Z"
   },
   {
    "duration": 14,
    "start_time": "2022-02-06T11:32:25.893Z"
   },
   {
    "duration": 63,
    "start_time": "2022-02-06T11:32:25.910Z"
   },
   {
    "duration": 127,
    "start_time": "2022-02-06T11:32:25.976Z"
   },
   {
    "duration": 4,
    "start_time": "2022-02-06T11:32:26.107Z"
   },
   {
    "duration": 10,
    "start_time": "2022-02-06T11:32:26.114Z"
   },
   {
    "duration": 6,
    "start_time": "2022-02-06T11:32:26.127Z"
   },
   {
    "duration": 11,
    "start_time": "2022-02-06T11:32:26.168Z"
   },
   {
    "duration": 27,
    "start_time": "2022-02-06T11:32:26.181Z"
   },
   {
    "duration": 12,
    "start_time": "2022-02-06T11:32:26.211Z"
   },
   {
    "duration": 43,
    "start_time": "2022-02-06T11:32:26.226Z"
   },
   {
    "duration": 5,
    "start_time": "2022-02-06T11:32:26.272Z"
   },
   {
    "duration": 15,
    "start_time": "2022-02-06T11:32:26.279Z"
   },
   {
    "duration": 7,
    "start_time": "2022-02-06T11:32:26.297Z"
   },
   {
    "duration": 74,
    "start_time": "2022-02-06T11:32:26.306Z"
   },
   {
    "duration": 11,
    "start_time": "2022-02-06T11:32:26.386Z"
   },
   {
    "duration": 99,
    "start_time": "2022-02-06T11:32:26.400Z"
   },
   {
    "duration": 35,
    "start_time": "2022-02-06T11:32:26.501Z"
   },
   {
    "duration": 31,
    "start_time": "2022-02-06T11:32:26.539Z"
   },
   {
    "duration": 59,
    "start_time": "2022-02-06T11:32:26.572Z"
   },
   {
    "duration": 6,
    "start_time": "2022-02-06T11:32:26.634Z"
   },
   {
    "duration": 50,
    "start_time": "2022-02-06T11:32:26.642Z"
   },
   {
    "duration": 6,
    "start_time": "2022-02-06T11:32:26.695Z"
   },
   {
    "duration": 79,
    "start_time": "2022-02-06T11:32:26.703Z"
   },
   {
    "duration": 827,
    "start_time": "2022-02-06T11:32:26.784Z"
   },
   {
    "duration": 37,
    "start_time": "2022-02-06T11:32:27.613Z"
   },
   {
    "duration": 3,
    "start_time": "2022-02-06T11:32:27.669Z"
   },
   {
    "duration": 472,
    "start_time": "2022-02-06T11:32:27.675Z"
   },
   {
    "duration": 580,
    "start_time": "2022-02-06T11:32:28.149Z"
   },
   {
    "duration": 10,
    "start_time": "2022-02-06T11:32:28.732Z"
   },
   {
    "duration": 555,
    "start_time": "2022-02-06T11:32:28.744Z"
   },
   {
    "duration": 519,
    "start_time": "2022-02-06T11:32:29.301Z"
   },
   {
    "duration": 415,
    "start_time": "2022-02-06T11:32:29.823Z"
   },
   {
    "duration": 568,
    "start_time": "2022-02-06T11:32:30.241Z"
   },
   {
    "duration": 12,
    "start_time": "2022-02-06T11:32:30.811Z"
   },
   {
    "duration": 318,
    "start_time": "2022-02-06T11:32:30.826Z"
   },
   {
    "duration": 25,
    "start_time": "2022-02-06T11:32:31.146Z"
   },
   {
    "duration": 9,
    "start_time": "2022-02-06T11:32:31.173Z"
   },
   {
    "duration": 14,
    "start_time": "2022-02-06T11:32:31.184Z"
   },
   {
    "duration": 444,
    "start_time": "2022-02-06T11:32:31.200Z"
   },
   {
    "duration": 27,
    "start_time": "2022-02-06T11:32:31.647Z"
   },
   {
    "duration": 6,
    "start_time": "2022-02-06T11:32:31.677Z"
   },
   {
    "duration": 821,
    "start_time": "2022-02-06T11:32:31.686Z"
   },
   {
    "duration": 7,
    "start_time": "2022-02-06T11:32:32.509Z"
   },
   {
    "duration": 798,
    "start_time": "2022-02-06T11:32:32.518Z"
   },
   {
    "duration": 6,
    "start_time": "2022-02-06T11:32:33.319Z"
   },
   {
    "duration": 858,
    "start_time": "2022-02-06T11:32:33.327Z"
   },
   {
    "duration": 23,
    "start_time": "2022-02-06T11:32:34.187Z"
   },
   {
    "duration": 291,
    "start_time": "2022-02-06T11:32:34.217Z"
   },
   {
    "duration": 3,
    "start_time": "2022-02-06T11:32:34.511Z"
   },
   {
    "duration": 22,
    "start_time": "2022-02-06T11:32:34.516Z"
   },
   {
    "duration": 342,
    "start_time": "2022-02-06T11:32:34.540Z"
   },
   {
    "duration": 343,
    "start_time": "2022-02-06T11:32:34.885Z"
   },
   {
    "duration": 350,
    "start_time": "2022-02-06T11:32:35.230Z"
   },
   {
    "duration": 8,
    "start_time": "2022-02-06T11:32:35.582Z"
   },
   {
    "duration": 26,
    "start_time": "2022-02-06T11:32:35.592Z"
   },
   {
    "duration": 4,
    "start_time": "2022-02-06T11:32:35.620Z"
   },
   {
    "duration": 17,
    "start_time": "2022-02-06T11:32:35.626Z"
   },
   {
    "duration": 11,
    "start_time": "2022-02-06T11:32:35.670Z"
   },
   {
    "duration": 19,
    "start_time": "2022-02-06T11:32:35.683Z"
   },
   {
    "duration": 9,
    "start_time": "2022-02-06T11:32:35.704Z"
   },
   {
    "duration": 56,
    "start_time": "2022-02-06T11:32:35.715Z"
   },
   {
    "duration": 6,
    "start_time": "2022-02-06T11:32:35.773Z"
   },
   {
    "duration": 329,
    "start_time": "2022-02-06T11:32:35.781Z"
   },
   {
    "duration": 9,
    "start_time": "2022-02-06T11:32:36.113Z"
   },
   {
    "duration": 522,
    "start_time": "2022-02-06T11:32:36.124Z"
   },
   {
    "duration": 424,
    "start_time": "2022-02-06T11:32:36.649Z"
   },
   {
    "duration": 335,
    "start_time": "2022-02-06T11:32:37.075Z"
   },
   {
    "duration": 517,
    "start_time": "2022-02-06T11:32:37.412Z"
   },
   {
    "duration": 8,
    "start_time": "2022-02-06T11:32:37.932Z"
   },
   {
    "duration": 430,
    "start_time": "2022-02-06T11:32:37.942Z"
   },
   {
    "duration": 8,
    "start_time": "2022-02-06T11:32:38.374Z"
   },
   {
    "duration": 445,
    "start_time": "2022-02-06T11:32:38.384Z"
   },
   {
    "duration": 8,
    "start_time": "2022-02-06T11:32:38.831Z"
   },
   {
    "duration": 462,
    "start_time": "2022-02-06T11:32:38.841Z"
   },
   {
    "duration": 459,
    "start_time": "2022-02-06T11:32:39.306Z"
   },
   {
    "duration": 324,
    "start_time": "2022-02-06T11:33:46.059Z"
   },
   {
    "duration": 20,
    "start_time": "2022-02-06T11:35:30.185Z"
   },
   {
    "duration": 23,
    "start_time": "2022-02-06T11:37:11.795Z"
   },
   {
    "duration": 11,
    "start_time": "2022-02-06T11:43:21.340Z"
   },
   {
    "duration": 79,
    "start_time": "2022-02-06T11:48:59.322Z"
   },
   {
    "duration": 15,
    "start_time": "2022-02-06T11:50:01.459Z"
   },
   {
    "duration": 27,
    "start_time": "2022-02-06T11:50:30.757Z"
   },
   {
    "duration": 21,
    "start_time": "2022-02-06T11:51:15.659Z"
   },
   {
    "duration": 22,
    "start_time": "2022-02-06T12:08:00.865Z"
   },
   {
    "duration": 15,
    "start_time": "2022-02-06T12:19:17.493Z"
   },
   {
    "duration": 13,
    "start_time": "2022-02-06T12:19:53.028Z"
   },
   {
    "duration": 5,
    "start_time": "2022-02-06T12:28:53.731Z"
   },
   {
    "duration": 4,
    "start_time": "2022-02-06T12:33:40.177Z"
   },
   {
    "duration": 20,
    "start_time": "2022-02-06T12:36:23.705Z"
   },
   {
    "duration": 78,
    "start_time": "2022-02-06T12:40:05.029Z"
   },
   {
    "duration": 89,
    "start_time": "2022-02-06T12:40:27.132Z"
   },
   {
    "duration": 11,
    "start_time": "2022-02-06T12:41:09.127Z"
   },
   {
    "duration": 11,
    "start_time": "2022-02-06T12:42:08.393Z"
   },
   {
    "duration": 17,
    "start_time": "2022-02-06T12:46:54.725Z"
   },
   {
    "duration": 11,
    "start_time": "2022-02-06T12:53:02.313Z"
   },
   {
    "duration": 31,
    "start_time": "2022-02-06T12:58:14.459Z"
   },
   {
    "duration": 14,
    "start_time": "2022-02-06T12:59:19.961Z"
   },
   {
    "duration": 68,
    "start_time": "2022-02-06T13:12:58.340Z"
   },
   {
    "duration": 37,
    "start_time": "2022-02-06T13:15:04.194Z"
   },
   {
    "duration": 4,
    "start_time": "2022-02-06T13:21:04.519Z"
   },
   {
    "duration": 9,
    "start_time": "2022-02-06T13:44:26.455Z"
   },
   {
    "duration": 325,
    "start_time": "2022-02-06T14:22:27.296Z"
   },
   {
    "duration": 346,
    "start_time": "2022-02-06T14:22:44.107Z"
   },
   {
    "duration": 325,
    "start_time": "2022-02-06T14:24:22.663Z"
   },
   {
    "duration": 341,
    "start_time": "2022-02-06T14:26:21.275Z"
   },
   {
    "duration": 333,
    "start_time": "2022-02-06T14:29:02.785Z"
   },
   {
    "duration": 398,
    "start_time": "2022-02-06T14:32:49.835Z"
   },
   {
    "duration": 328,
    "start_time": "2022-02-06T14:33:01.889Z"
   },
   {
    "duration": 11,
    "start_time": "2022-02-06T14:34:22.975Z"
   },
   {
    "duration": 8,
    "start_time": "2022-02-06T14:34:52.233Z"
   },
   {
    "duration": 10,
    "start_time": "2022-02-06T14:34:59.182Z"
   },
   {
    "duration": 7,
    "start_time": "2022-02-06T14:36:54.639Z"
   },
   {
    "duration": 8,
    "start_time": "2022-02-06T14:36:55.874Z"
   },
   {
    "duration": 6,
    "start_time": "2022-02-06T14:36:56.910Z"
   },
   {
    "duration": 4,
    "start_time": "2022-02-06T14:42:39.378Z"
   },
   {
    "duration": 11,
    "start_time": "2022-02-06T14:46:10.400Z"
   },
   {
    "duration": 35,
    "start_time": "2022-02-06T14:51:14.750Z"
   },
   {
    "duration": 27,
    "start_time": "2022-02-06T14:52:20.976Z"
   },
   {
    "duration": 25,
    "start_time": "2022-02-06T14:55:10.785Z"
   },
   {
    "duration": 25,
    "start_time": "2022-02-06T14:55:18.721Z"
   },
   {
    "duration": 11,
    "start_time": "2022-02-06T15:01:46.481Z"
   },
   {
    "duration": 10,
    "start_time": "2022-02-06T15:06:57.589Z"
   },
   {
    "duration": 340,
    "start_time": "2022-02-06T15:17:44.926Z"
   },
   {
    "duration": 374,
    "start_time": "2022-02-06T15:17:54.972Z"
   },
   {
    "duration": 344,
    "start_time": "2022-02-06T15:25:27.577Z"
   },
   {
    "duration": 4,
    "start_time": "2022-02-06T15:25:37.592Z"
   },
   {
    "duration": 86,
    "start_time": "2022-02-06T15:25:37.602Z"
   },
   {
    "duration": 38,
    "start_time": "2022-02-06T15:25:37.691Z"
   },
   {
    "duration": 41,
    "start_time": "2022-02-06T15:25:37.732Z"
   },
   {
    "duration": 11,
    "start_time": "2022-02-06T15:25:37.776Z"
   },
   {
    "duration": 11,
    "start_time": "2022-02-06T15:25:37.790Z"
   },
   {
    "duration": 136,
    "start_time": "2022-02-06T15:25:37.804Z"
   },
   {
    "duration": 5,
    "start_time": "2022-02-06T15:25:37.943Z"
   },
   {
    "duration": 4,
    "start_time": "2022-02-06T15:25:37.972Z"
   },
   {
    "duration": 12,
    "start_time": "2022-02-06T15:25:37.979Z"
   },
   {
    "duration": 12,
    "start_time": "2022-02-06T15:25:37.993Z"
   },
   {
    "duration": 19,
    "start_time": "2022-02-06T15:25:38.007Z"
   },
   {
    "duration": 43,
    "start_time": "2022-02-06T15:25:38.028Z"
   },
   {
    "duration": 12,
    "start_time": "2022-02-06T15:25:38.074Z"
   },
   {
    "duration": 10,
    "start_time": "2022-02-06T15:25:38.089Z"
   },
   {
    "duration": 4,
    "start_time": "2022-02-06T15:25:38.102Z"
   },
   {
    "duration": 81,
    "start_time": "2022-02-06T15:25:38.108Z"
   },
   {
    "duration": 16,
    "start_time": "2022-02-06T15:25:38.191Z"
   },
   {
    "duration": 85,
    "start_time": "2022-02-06T15:25:38.210Z"
   },
   {
    "duration": 33,
    "start_time": "2022-02-06T15:25:38.297Z"
   },
   {
    "duration": 8,
    "start_time": "2022-02-06T15:25:38.333Z"
   },
   {
    "duration": 79,
    "start_time": "2022-02-06T15:25:38.343Z"
   },
   {
    "duration": 6,
    "start_time": "2022-02-06T15:25:38.425Z"
   },
   {
    "duration": 55,
    "start_time": "2022-02-06T15:25:38.436Z"
   },
   {
    "duration": 5,
    "start_time": "2022-02-06T15:25:38.494Z"
   },
   {
    "duration": 72,
    "start_time": "2022-02-06T15:25:38.501Z"
   },
   {
    "duration": 840,
    "start_time": "2022-02-06T15:25:38.576Z"
   },
   {
    "duration": 54,
    "start_time": "2022-02-06T15:25:39.418Z"
   },
   {
    "duration": 4,
    "start_time": "2022-02-06T15:25:39.474Z"
   },
   {
    "duration": 518,
    "start_time": "2022-02-06T15:25:39.480Z"
   },
   {
    "duration": 592,
    "start_time": "2022-02-06T15:25:40.002Z"
   },
   {
    "duration": 15,
    "start_time": "2022-02-06T15:25:40.597Z"
   },
   {
    "duration": 647,
    "start_time": "2022-02-06T15:25:40.614Z"
   },
   {
    "duration": 345,
    "start_time": "2022-02-06T15:25:41.269Z"
   },
   {
    "duration": 445,
    "start_time": "2022-02-06T15:25:41.616Z"
   },
   {
    "duration": 589,
    "start_time": "2022-02-06T15:25:42.063Z"
   },
   {
    "duration": 22,
    "start_time": "2022-02-06T15:25:42.654Z"
   },
   {
    "duration": 255,
    "start_time": "2022-02-06T15:25:42.678Z"
   },
   {
    "duration": 12,
    "start_time": "2022-02-06T15:25:42.936Z"
   },
   {
    "duration": 27,
    "start_time": "2022-02-06T15:25:42.950Z"
   },
   {
    "duration": 13,
    "start_time": "2022-02-06T15:25:42.979Z"
   },
   {
    "duration": 477,
    "start_time": "2022-02-06T15:25:42.994Z"
   },
   {
    "duration": 11,
    "start_time": "2022-02-06T15:25:43.474Z"
   },
   {
    "duration": 6,
    "start_time": "2022-02-06T15:25:43.490Z"
   },
   {
    "duration": 926,
    "start_time": "2022-02-06T15:25:43.499Z"
   },
   {
    "duration": 7,
    "start_time": "2022-02-06T15:25:44.427Z"
   },
   {
    "duration": 922,
    "start_time": "2022-02-06T15:25:44.436Z"
   },
   {
    "duration": 12,
    "start_time": "2022-02-06T15:25:45.361Z"
   },
   {
    "duration": 906,
    "start_time": "2022-02-06T15:25:45.376Z"
   },
   {
    "duration": 291,
    "start_time": "2022-02-06T15:25:46.285Z"
   },
   {
    "duration": 405,
    "start_time": "2022-02-06T15:25:46.579Z"
   },
   {
    "duration": 447,
    "start_time": "2022-02-06T15:25:46.986Z"
   },
   {
    "duration": 342,
    "start_time": "2022-02-06T15:25:47.435Z"
   },
   {
    "duration": 7,
    "start_time": "2022-02-06T15:25:47.780Z"
   },
   {
    "duration": 7,
    "start_time": "2022-02-06T15:25:47.789Z"
   },
   {
    "duration": 7,
    "start_time": "2022-02-06T15:25:47.798Z"
   },
   {
    "duration": 62,
    "start_time": "2022-02-06T15:25:47.807Z"
   },
   {
    "duration": 5,
    "start_time": "2022-02-06T15:25:47.872Z"
   },
   {
    "duration": 12,
    "start_time": "2022-02-06T15:25:47.879Z"
   },
   {
    "duration": 27,
    "start_time": "2022-02-06T15:25:47.894Z"
   },
   {
    "duration": 10,
    "start_time": "2022-02-06T15:25:47.923Z"
   },
   {
    "duration": 11,
    "start_time": "2022-02-06T15:25:47.968Z"
   },
   {
    "duration": 6,
    "start_time": "2022-02-06T15:25:47.982Z"
   },
   {
    "duration": 11,
    "start_time": "2022-02-06T15:25:47.990Z"
   },
   {
    "duration": 351,
    "start_time": "2022-02-06T15:25:48.004Z"
   },
   {
    "duration": 16,
    "start_time": "2022-02-06T15:25:48.357Z"
   },
   {
    "duration": 423,
    "start_time": "2022-02-06T15:25:48.376Z"
   },
   {
    "duration": 433,
    "start_time": "2022-02-06T15:25:48.802Z"
   },
   {
    "duration": 351,
    "start_time": "2022-02-06T15:25:49.237Z"
   },
   {
    "duration": 467,
    "start_time": "2022-02-06T15:25:49.591Z"
   },
   {
    "duration": 14,
    "start_time": "2022-02-06T15:25:50.061Z"
   },
   {
    "duration": 397,
    "start_time": "2022-02-06T15:25:50.078Z"
   },
   {
    "duration": 9,
    "start_time": "2022-02-06T15:25:50.478Z"
   },
   {
    "duration": 530,
    "start_time": "2022-02-06T15:25:50.490Z"
   },
   {
    "duration": 9,
    "start_time": "2022-02-06T15:25:51.023Z"
   },
   {
    "duration": 471,
    "start_time": "2022-02-06T15:25:51.034Z"
   },
   {
    "duration": 450,
    "start_time": "2022-02-06T15:25:51.507Z"
   },
   {
    "duration": 407,
    "start_time": "2022-02-06T15:35:27.152Z"
   },
   {
    "duration": 442,
    "start_time": "2022-02-06T15:35:37.192Z"
   },
   {
    "duration": 404,
    "start_time": "2022-02-06T15:35:47.244Z"
   },
   {
    "duration": 464,
    "start_time": "2022-02-06T16:06:11.122Z"
   },
   {
    "duration": 9,
    "start_time": "2022-02-06T16:06:46.321Z"
   },
   {
    "duration": 7,
    "start_time": "2022-02-06T16:07:59.643Z"
   },
   {
    "duration": 755,
    "start_time": "2022-02-06T16:13:47.809Z"
   },
   {
    "duration": 457,
    "start_time": "2022-02-06T16:16:00.196Z"
   },
   {
    "duration": 288,
    "start_time": "2022-02-06T16:22:00.425Z"
   },
   {
    "duration": 358,
    "start_time": "2022-02-06T16:30:53.332Z"
   },
   {
    "duration": 394,
    "start_time": "2022-02-06T16:31:19.052Z"
   },
   {
    "duration": 7,
    "start_time": "2022-02-06T16:31:39.820Z"
   },
   {
    "duration": 4,
    "start_time": "2022-02-06T16:56:54.479Z"
   },
   {
    "duration": 96,
    "start_time": "2022-02-06T16:56:54.487Z"
   },
   {
    "duration": 35,
    "start_time": "2022-02-06T16:56:54.585Z"
   },
   {
    "duration": 15,
    "start_time": "2022-02-06T16:56:54.623Z"
   },
   {
    "duration": 12,
    "start_time": "2022-02-06T16:56:54.669Z"
   },
   {
    "duration": 12,
    "start_time": "2022-02-06T16:56:54.684Z"
   },
   {
    "duration": 140,
    "start_time": "2022-02-06T16:56:54.698Z"
   },
   {
    "duration": 4,
    "start_time": "2022-02-06T16:56:54.840Z"
   },
   {
    "duration": 25,
    "start_time": "2022-02-06T16:56:54.848Z"
   },
   {
    "duration": 7,
    "start_time": "2022-02-06T16:56:54.876Z"
   },
   {
    "duration": 8,
    "start_time": "2022-02-06T16:56:54.886Z"
   },
   {
    "duration": 19,
    "start_time": "2022-02-06T16:56:54.897Z"
   },
   {
    "duration": 55,
    "start_time": "2022-02-06T16:56:54.918Z"
   },
   {
    "duration": 10,
    "start_time": "2022-02-06T16:56:54.975Z"
   },
   {
    "duration": 10,
    "start_time": "2022-02-06T16:56:54.987Z"
   },
   {
    "duration": 10,
    "start_time": "2022-02-06T16:56:54.999Z"
   },
   {
    "duration": 77,
    "start_time": "2022-02-06T16:56:55.011Z"
   },
   {
    "duration": 14,
    "start_time": "2022-02-06T16:56:55.091Z"
   },
   {
    "duration": 117,
    "start_time": "2022-02-06T16:56:55.108Z"
   },
   {
    "duration": 64,
    "start_time": "2022-02-06T16:56:55.228Z"
   },
   {
    "duration": 8,
    "start_time": "2022-02-06T16:56:55.294Z"
   },
   {
    "duration": 88,
    "start_time": "2022-02-06T16:56:55.305Z"
   },
   {
    "duration": 6,
    "start_time": "2022-02-06T16:56:55.396Z"
   },
   {
    "duration": 63,
    "start_time": "2022-02-06T16:56:55.408Z"
   },
   {
    "duration": 6,
    "start_time": "2022-02-06T16:56:55.475Z"
   },
   {
    "duration": 65,
    "start_time": "2022-02-06T16:56:55.483Z"
   },
   {
    "duration": 850,
    "start_time": "2022-02-06T16:56:55.550Z"
   },
   {
    "duration": 37,
    "start_time": "2022-02-06T16:56:56.402Z"
   },
   {
    "duration": 3,
    "start_time": "2022-02-06T16:56:56.442Z"
   },
   {
    "duration": 432,
    "start_time": "2022-02-06T16:56:56.447Z"
   },
   {
    "duration": 573,
    "start_time": "2022-02-06T16:56:56.881Z"
   },
   {
    "duration": 23,
    "start_time": "2022-02-06T16:56:57.456Z"
   },
   {
    "duration": 562,
    "start_time": "2022-02-06T16:56:57.481Z"
   },
   {
    "duration": 343,
    "start_time": "2022-02-06T16:56:58.046Z"
   },
   {
    "duration": 418,
    "start_time": "2022-02-06T16:56:58.393Z"
   },
   {
    "duration": 746,
    "start_time": "2022-02-06T16:56:58.815Z"
   },
   {
    "duration": 15,
    "start_time": "2022-02-06T16:56:59.568Z"
   },
   {
    "duration": 300,
    "start_time": "2022-02-06T16:56:59.586Z"
   },
   {
    "duration": 11,
    "start_time": "2022-02-06T16:56:59.888Z"
   },
   {
    "duration": 7,
    "start_time": "2022-02-06T16:56:59.902Z"
   },
   {
    "duration": 12,
    "start_time": "2022-02-06T16:56:59.912Z"
   },
   {
    "duration": 463,
    "start_time": "2022-02-06T16:56:59.926Z"
   },
   {
    "duration": 11,
    "start_time": "2022-02-06T16:57:00.392Z"
   },
   {
    "duration": 7,
    "start_time": "2022-02-06T16:57:00.406Z"
   },
   {
    "duration": 746,
    "start_time": "2022-02-06T16:57:00.416Z"
   },
   {
    "duration": 7,
    "start_time": "2022-02-06T16:57:01.165Z"
   },
   {
    "duration": 786,
    "start_time": "2022-02-06T16:57:01.174Z"
   },
   {
    "duration": 11,
    "start_time": "2022-02-06T16:57:01.963Z"
   },
   {
    "duration": 757,
    "start_time": "2022-02-06T16:57:01.976Z"
   },
   {
    "duration": 285,
    "start_time": "2022-02-06T16:57:02.735Z"
   },
   {
    "duration": 325,
    "start_time": "2022-02-06T16:57:03.022Z"
   },
   {
    "duration": 344,
    "start_time": "2022-02-06T16:57:03.349Z"
   },
   {
    "duration": 414,
    "start_time": "2022-02-06T16:57:03.695Z"
   },
   {
    "duration": 6,
    "start_time": "2022-02-06T16:57:04.112Z"
   },
   {
    "duration": 7,
    "start_time": "2022-02-06T16:57:04.120Z"
   },
   {
    "duration": 6,
    "start_time": "2022-02-06T16:57:04.130Z"
   },
   {
    "duration": 16,
    "start_time": "2022-02-06T16:57:04.170Z"
   },
   {
    "duration": 4,
    "start_time": "2022-02-06T16:57:04.189Z"
   },
   {
    "duration": 22,
    "start_time": "2022-02-06T16:57:04.195Z"
   },
   {
    "duration": 56,
    "start_time": "2022-02-06T16:57:04.219Z"
   },
   {
    "duration": 11,
    "start_time": "2022-02-06T16:57:04.277Z"
   },
   {
    "duration": 17,
    "start_time": "2022-02-06T16:57:04.291Z"
   },
   {
    "duration": 15,
    "start_time": "2022-02-06T16:57:04.310Z"
   },
   {
    "duration": 14,
    "start_time": "2022-02-06T16:57:04.327Z"
   },
   {
    "duration": 329,
    "start_time": "2022-02-06T16:57:04.343Z"
   },
   {
    "duration": 10,
    "start_time": "2022-02-06T16:57:04.674Z"
   },
   {
    "duration": 435,
    "start_time": "2022-02-06T16:57:04.686Z"
   },
   {
    "duration": 427,
    "start_time": "2022-02-06T16:57:05.124Z"
   },
   {
    "duration": 351,
    "start_time": "2022-02-06T16:57:05.557Z"
   },
   {
    "duration": 537,
    "start_time": "2022-02-06T16:57:05.910Z"
   },
   {
    "duration": 7,
    "start_time": "2022-02-06T16:57:06.449Z"
   },
   {
    "duration": 427,
    "start_time": "2022-02-06T16:57:06.470Z"
   },
   {
    "duration": 7,
    "start_time": "2022-02-06T16:57:06.899Z"
   },
   {
    "duration": 604,
    "start_time": "2022-02-06T16:57:06.908Z"
   },
   {
    "duration": 293,
    "start_time": "2022-02-06T16:57:07.514Z"
   },
   {
    "duration": 7,
    "start_time": "2022-02-06T16:57:07.810Z"
   },
   {
    "duration": 468,
    "start_time": "2022-02-06T16:57:07.819Z"
   },
   {
    "duration": 319,
    "start_time": "2022-02-06T16:57:08.290Z"
   },
   {
    "duration": 7,
    "start_time": "2022-02-06T16:57:08.611Z"
   },
   {
    "duration": 663,
    "start_time": "2022-02-12T22:18:03.792Z"
   },
   {
    "duration": 87,
    "start_time": "2022-02-12T22:18:04.457Z"
   },
   {
    "duration": 38,
    "start_time": "2022-02-12T22:18:04.547Z"
   },
   {
    "duration": 29,
    "start_time": "2022-02-12T22:18:04.587Z"
   },
   {
    "duration": 10,
    "start_time": "2022-02-12T22:18:04.618Z"
   },
   {
    "duration": 9,
    "start_time": "2022-02-12T22:18:04.631Z"
   },
   {
    "duration": 112,
    "start_time": "2022-02-12T22:18:04.642Z"
   },
   {
    "duration": 4,
    "start_time": "2022-02-12T22:18:04.756Z"
   },
   {
    "duration": 7,
    "start_time": "2022-02-12T22:18:04.763Z"
   },
   {
    "duration": 7,
    "start_time": "2022-02-12T22:18:04.772Z"
   },
   {
    "duration": 33,
    "start_time": "2022-02-12T22:18:04.781Z"
   },
   {
    "duration": 24,
    "start_time": "2022-02-12T22:18:04.816Z"
   },
   {
    "duration": 10,
    "start_time": "2022-02-12T22:18:04.842Z"
   },
   {
    "duration": 9,
    "start_time": "2022-02-12T22:18:04.855Z"
   },
   {
    "duration": 8,
    "start_time": "2022-02-12T22:18:04.867Z"
   },
   {
    "duration": 5,
    "start_time": "2022-02-12T22:18:04.907Z"
   },
   {
    "duration": 30,
    "start_time": "2022-02-12T22:18:04.914Z"
   },
   {
    "duration": 9,
    "start_time": "2022-02-12T22:18:04.946Z"
   },
   {
    "duration": 77,
    "start_time": "2022-02-12T22:18:04.957Z"
   },
   {
    "duration": 25,
    "start_time": "2022-02-12T22:18:05.036Z"
   },
   {
    "duration": 7,
    "start_time": "2022-02-12T22:18:05.063Z"
   },
   {
    "duration": 62,
    "start_time": "2022-02-12T22:18:05.072Z"
   },
   {
    "duration": 6,
    "start_time": "2022-02-12T22:18:05.139Z"
   },
   {
    "duration": 30,
    "start_time": "2022-02-12T22:18:05.147Z"
   },
   {
    "duration": 9,
    "start_time": "2022-02-12T22:18:05.179Z"
   },
   {
    "duration": 53,
    "start_time": "2022-02-12T22:18:05.190Z"
   },
   {
    "duration": 562,
    "start_time": "2022-02-12T22:18:05.245Z"
   },
   {
    "duration": 28,
    "start_time": "2022-02-12T22:18:05.809Z"
   },
   {
    "duration": 93,
    "start_time": "2022-02-12T22:18:05.839Z"
   },
   {
    "duration": 314,
    "start_time": "2022-02-12T22:18:05.934Z"
   },
   {
    "duration": 371,
    "start_time": "2022-02-12T22:18:06.249Z"
   },
   {
    "duration": 11,
    "start_time": "2022-02-12T22:18:06.621Z"
   },
   {
    "duration": 365,
    "start_time": "2022-02-12T22:18:06.634Z"
   },
   {
    "duration": 222,
    "start_time": "2022-02-12T22:18:07.007Z"
   },
   {
    "duration": 272,
    "start_time": "2022-02-12T22:18:07.231Z"
   },
   {
    "duration": 366,
    "start_time": "2022-02-12T22:18:07.507Z"
   },
   {
    "duration": 9,
    "start_time": "2022-02-12T22:18:07.875Z"
   },
   {
    "duration": 176,
    "start_time": "2022-02-12T22:18:07.886Z"
   },
   {
    "duration": 10,
    "start_time": "2022-02-12T22:18:08.064Z"
   },
   {
    "duration": 7,
    "start_time": "2022-02-12T22:18:08.076Z"
   },
   {
    "duration": 122,
    "start_time": "2022-02-12T22:18:08.085Z"
   },
   {
    "duration": 275,
    "start_time": "2022-02-12T22:18:08.210Z"
   },
   {
    "duration": 9,
    "start_time": "2022-02-12T22:18:08.486Z"
   },
   {
    "duration": 6,
    "start_time": "2022-02-12T22:18:08.508Z"
   },
   {
    "duration": 558,
    "start_time": "2022-02-12T22:18:08.515Z"
   },
   {
    "duration": 7,
    "start_time": "2022-02-12T22:18:09.075Z"
   },
   {
    "duration": 552,
    "start_time": "2022-02-12T22:18:09.084Z"
   },
   {
    "duration": 8,
    "start_time": "2022-02-12T22:18:09.638Z"
   },
   {
    "duration": 578,
    "start_time": "2022-02-12T22:18:09.648Z"
   },
   {
    "duration": 204,
    "start_time": "2022-02-12T22:18:10.229Z"
   },
   {
    "duration": 232,
    "start_time": "2022-02-12T22:18:10.435Z"
   },
   {
    "duration": 247,
    "start_time": "2022-02-12T22:18:10.670Z"
   },
   {
    "duration": 247,
    "start_time": "2022-02-12T22:18:10.919Z"
   },
   {
    "duration": 6,
    "start_time": "2022-02-12T22:18:11.168Z"
   },
   {
    "duration": 23,
    "start_time": "2022-02-12T22:18:11.175Z"
   },
   {
    "duration": 18,
    "start_time": "2022-02-12T22:18:11.200Z"
   },
   {
    "duration": 17,
    "start_time": "2022-02-12T22:18:11.220Z"
   },
   {
    "duration": 12,
    "start_time": "2022-02-12T22:18:11.239Z"
   },
   {
    "duration": 17,
    "start_time": "2022-02-12T22:18:11.253Z"
   },
   {
    "duration": 30,
    "start_time": "2022-02-12T22:18:11.272Z"
   },
   {
    "duration": 10,
    "start_time": "2022-02-12T22:18:11.304Z"
   },
   {
    "duration": 12,
    "start_time": "2022-02-12T22:18:11.316Z"
   },
   {
    "duration": 6,
    "start_time": "2022-02-12T22:18:11.330Z"
   },
   {
    "duration": 9,
    "start_time": "2022-02-12T22:18:11.337Z"
   },
   {
    "duration": 240,
    "start_time": "2022-02-12T22:18:11.348Z"
   },
   {
    "duration": 19,
    "start_time": "2022-02-12T22:18:11.591Z"
   },
   {
    "duration": 265,
    "start_time": "2022-02-12T22:18:11.612Z"
   },
   {
    "duration": 330,
    "start_time": "2022-02-12T22:18:11.882Z"
   },
   {
    "duration": 225,
    "start_time": "2022-02-12T22:18:12.214Z"
   },
   {
    "duration": 289,
    "start_time": "2022-02-12T22:18:12.441Z"
   },
   {
    "duration": 7,
    "start_time": "2022-02-12T22:18:12.731Z"
   },
   {
    "duration": 318,
    "start_time": "2022-02-12T22:18:12.739Z"
   },
   {
    "duration": 5,
    "start_time": "2022-02-12T22:18:13.059Z"
   },
   {
    "duration": 383,
    "start_time": "2022-02-12T22:18:13.066Z"
   },
   {
    "duration": 187,
    "start_time": "2022-02-12T22:18:13.451Z"
   },
   {
    "duration": 6,
    "start_time": "2022-02-12T22:18:13.640Z"
   },
   {
    "duration": 374,
    "start_time": "2022-02-12T22:18:13.648Z"
   },
   {
    "duration": 207,
    "start_time": "2022-02-12T22:18:14.024Z"
   },
   {
    "duration": 6,
    "start_time": "2022-02-12T22:18:14.233Z"
   },
   {
    "duration": 633,
    "start_time": "2022-02-13T14:42:32.184Z"
   },
   {
    "duration": 60,
    "start_time": "2022-02-13T14:42:32.819Z"
   },
   {
    "duration": 180,
    "start_time": "2022-02-13T14:42:32.881Z"
   },
   {
    "duration": 173,
    "start_time": "2022-02-13T14:42:33.062Z"
   },
   {
    "duration": 172,
    "start_time": "2022-02-13T14:42:33.237Z"
   },
   {
    "duration": 174,
    "start_time": "2022-02-13T14:42:33.410Z"
   },
   {
    "duration": 198,
    "start_time": "2022-02-13T14:42:33.586Z"
   },
   {
    "duration": 103,
    "start_time": "2022-02-13T14:42:33.787Z"
   },
   {
    "duration": 213,
    "start_time": "2022-02-13T14:42:33.893Z"
   },
   {
    "duration": 150,
    "start_time": "2022-02-13T14:42:34.108Z"
   },
   {
    "duration": 136,
    "start_time": "2022-02-13T14:42:34.259Z"
   },
   {
    "duration": 212,
    "start_time": "2022-02-13T14:42:34.397Z"
   },
   {
    "duration": 260,
    "start_time": "2022-02-13T14:42:34.611Z"
   },
   {
    "duration": 181,
    "start_time": "2022-02-13T14:42:34.873Z"
   },
   {
    "duration": -994,
    "start_time": "2022-02-13T14:42:36.051Z"
   },
   {
    "duration": -1063,
    "start_time": "2022-02-13T14:42:36.121Z"
   },
   {
    "duration": -1113,
    "start_time": "2022-02-13T14:42:36.173Z"
   },
   {
    "duration": -1125,
    "start_time": "2022-02-13T14:42:36.186Z"
   },
   {
    "duration": -1138,
    "start_time": "2022-02-13T14:42:36.200Z"
   },
   {
    "duration": -1151,
    "start_time": "2022-02-13T14:42:36.214Z"
   },
   {
    "duration": -1205,
    "start_time": "2022-02-13T14:42:36.269Z"
   },
   {
    "duration": -1252,
    "start_time": "2022-02-13T14:42:36.317Z"
   },
   {
    "duration": -1285,
    "start_time": "2022-02-13T14:42:36.351Z"
   },
   {
    "duration": -1296,
    "start_time": "2022-02-13T14:42:36.363Z"
   },
   {
    "duration": -1473,
    "start_time": "2022-02-13T14:42:36.541Z"
   },
   {
    "duration": -1484,
    "start_time": "2022-02-13T14:42:36.553Z"
   },
   {
    "duration": -1497,
    "start_time": "2022-02-13T14:42:36.567Z"
   },
   {
    "duration": -1508,
    "start_time": "2022-02-13T14:42:36.579Z"
   },
   {
    "duration": -1520,
    "start_time": "2022-02-13T14:42:36.592Z"
   },
   {
    "duration": -1532,
    "start_time": "2022-02-13T14:42:36.604Z"
   },
   {
    "duration": -1544,
    "start_time": "2022-02-13T14:42:36.617Z"
   },
   {
    "duration": -1554,
    "start_time": "2022-02-13T14:42:36.628Z"
   },
   {
    "duration": -1586,
    "start_time": "2022-02-13T14:42:36.661Z"
   },
   {
    "duration": -1596,
    "start_time": "2022-02-13T14:42:36.672Z"
   },
   {
    "duration": -1608,
    "start_time": "2022-02-13T14:42:36.685Z"
   },
   {
    "duration": -1619,
    "start_time": "2022-02-13T14:42:36.697Z"
   },
   {
    "duration": -1630,
    "start_time": "2022-02-13T14:42:36.709Z"
   },
   {
    "duration": -1641,
    "start_time": "2022-02-13T14:42:36.721Z"
   },
   {
    "duration": -1669,
    "start_time": "2022-02-13T14:42:36.750Z"
   },
   {
    "duration": -1705,
    "start_time": "2022-02-13T14:42:36.787Z"
   },
   {
    "duration": -1718,
    "start_time": "2022-02-13T14:42:36.801Z"
   },
   {
    "duration": -1745,
    "start_time": "2022-02-13T14:42:36.829Z"
   },
   {
    "duration": -1784,
    "start_time": "2022-02-13T14:42:36.869Z"
   },
   {
    "duration": -1829,
    "start_time": "2022-02-13T14:42:36.915Z"
   },
   {
    "duration": -1874,
    "start_time": "2022-02-13T14:42:36.961Z"
   },
   {
    "duration": -2002,
    "start_time": "2022-02-13T14:42:37.090Z"
   },
   {
    "duration": -2036,
    "start_time": "2022-02-13T14:42:37.125Z"
   },
   {
    "duration": -2047,
    "start_time": "2022-02-13T14:42:37.137Z"
   },
   {
    "duration": -2059,
    "start_time": "2022-02-13T14:42:37.150Z"
   },
   {
    "duration": -2069,
    "start_time": "2022-02-13T14:42:37.161Z"
   },
   {
    "duration": -2081,
    "start_time": "2022-02-13T14:42:37.174Z"
   },
   {
    "duration": -2091,
    "start_time": "2022-02-13T14:42:37.185Z"
   },
   {
    "duration": -2103,
    "start_time": "2022-02-13T14:42:37.198Z"
   },
   {
    "duration": -2150,
    "start_time": "2022-02-13T14:42:37.246Z"
   },
   {
    "duration": -2197,
    "start_time": "2022-02-13T14:42:37.294Z"
   },
   {
    "duration": -2225,
    "start_time": "2022-02-13T14:42:37.323Z"
   },
   {
    "duration": -2237,
    "start_time": "2022-02-13T14:42:37.336Z"
   },
   {
    "duration": -2268,
    "start_time": "2022-02-13T14:42:37.368Z"
   },
   {
    "duration": -2322,
    "start_time": "2022-02-13T14:42:37.423Z"
   },
   {
    "duration": -2369,
    "start_time": "2022-02-13T14:42:37.470Z"
   },
   {
    "duration": -2381,
    "start_time": "2022-02-13T14:42:37.483Z"
   },
   {
    "duration": -2393,
    "start_time": "2022-02-13T14:42:37.496Z"
   },
   {
    "duration": -2404,
    "start_time": "2022-02-13T14:42:37.508Z"
   },
   {
    "duration": -2415,
    "start_time": "2022-02-13T14:42:37.520Z"
   },
   {
    "duration": -2427,
    "start_time": "2022-02-13T14:42:37.533Z"
   },
   {
    "duration": -2437,
    "start_time": "2022-02-13T14:42:37.544Z"
   },
   {
    "duration": -2449,
    "start_time": "2022-02-13T14:42:37.557Z"
   },
   {
    "duration": -2481,
    "start_time": "2022-02-13T14:42:37.590Z"
   },
   {
    "duration": -2493,
    "start_time": "2022-02-13T14:42:37.603Z"
   },
   {
    "duration": -2539,
    "start_time": "2022-02-13T14:42:37.649Z"
   },
   {
    "duration": -2585,
    "start_time": "2022-02-13T14:42:37.696Z"
   },
   {
    "duration": -2612,
    "start_time": "2022-02-13T14:42:37.724Z"
   },
   {
    "duration": -2624,
    "start_time": "2022-02-13T14:42:37.737Z"
   },
   {
    "duration": -2677,
    "start_time": "2022-02-13T14:42:37.791Z"
   },
   {
    "duration": -2720,
    "start_time": "2022-02-13T14:42:37.835Z"
   },
   {
    "duration": -2696,
    "start_time": "2022-02-13T14:42:37.867Z"
   },
   {
    "duration": -2707,
    "start_time": "2022-02-13T14:42:37.880Z"
   },
   {
    "duration": -2717,
    "start_time": "2022-02-13T14:42:37.890Z"
   },
   {
    "duration": -2730,
    "start_time": "2022-02-13T14:42:37.904Z"
   },
   {
    "duration": -2740,
    "start_time": "2022-02-13T14:42:37.916Z"
   },
   {
    "duration": -2751,
    "start_time": "2022-02-13T14:42:37.928Z"
   },
   {
    "duration": 107,
    "start_time": "2022-02-13T14:49:40.570Z"
   },
   {
    "duration": 45,
    "start_time": "2022-02-13T14:49:45.316Z"
   },
   {
    "duration": 4,
    "start_time": "2022-02-13T14:51:06.555Z"
   },
   {
    "duration": 13,
    "start_time": "2022-02-13T14:51:18.466Z"
   },
   {
    "duration": 10422,
    "start_time": "2022-02-13T14:53:08.139Z"
   },
   {
    "duration": 60,
    "start_time": "2022-02-13T14:53:33.280Z"
   },
   {
    "duration": 38,
    "start_time": "2022-02-13T14:54:26.709Z"
   },
   {
    "duration": 39,
    "start_time": "2022-02-13T14:54:40.121Z"
   },
   {
    "duration": 55,
    "start_time": "2022-02-13T14:54:52.420Z"
   },
   {
    "duration": 39,
    "start_time": "2022-02-13T14:55:03.271Z"
   },
   {
    "duration": 9,
    "start_time": "2022-02-13T15:03:54.608Z"
   },
   {
    "duration": 2,
    "start_time": "2022-02-13T15:03:58.380Z"
   },
   {
    "duration": 1135,
    "start_time": "2022-02-13T15:03:58.384Z"
   },
   {
    "duration": 1019,
    "start_time": "2022-02-13T15:03:59.521Z"
   },
   {
    "duration": 1014,
    "start_time": "2022-02-13T15:04:00.542Z"
   },
   {
    "duration": 701,
    "start_time": "2022-02-13T15:04:01.558Z"
   },
   {
    "duration": 717,
    "start_time": "2022-02-13T15:04:02.260Z"
   },
   {
    "duration": 1135,
    "start_time": "2022-02-13T15:04:02.978Z"
   },
   {
    "duration": 539,
    "start_time": "2022-02-13T15:04:04.116Z"
   },
   {
    "duration": 1004,
    "start_time": "2022-02-13T15:04:04.658Z"
   },
   {
    "duration": 824,
    "start_time": "2022-02-13T15:04:05.664Z"
   },
   {
    "duration": 1679,
    "start_time": "2022-02-13T15:04:06.490Z"
   },
   {
    "duration": 927,
    "start_time": "2022-02-13T15:04:08.171Z"
   },
   {
    "duration": 1458,
    "start_time": "2022-02-13T15:04:09.100Z"
   },
   {
    "duration": 578,
    "start_time": "2022-02-13T15:04:10.559Z"
   },
   {
    "duration": 1361,
    "start_time": "2022-02-13T15:04:11.139Z"
   },
   {
    "duration": 1219,
    "start_time": "2022-02-13T15:04:12.502Z"
   },
   {
    "duration": 837,
    "start_time": "2022-02-13T15:04:13.722Z"
   },
   {
    "duration": 2016,
    "start_time": "2022-02-13T15:04:14.561Z"
   },
   {
    "duration": 1159,
    "start_time": "2022-02-13T15:04:16.578Z"
   },
   {
    "duration": 1023,
    "start_time": "2022-02-13T15:04:17.739Z"
   },
   {
    "duration": 734,
    "start_time": "2022-02-13T15:04:18.764Z"
   },
   {
    "duration": 995,
    "start_time": "2022-02-13T15:04:19.500Z"
   },
   {
    "duration": 1612,
    "start_time": "2022-02-13T15:04:20.499Z"
   },
   {
    "duration": 1251,
    "start_time": "2022-02-13T15:04:22.113Z"
   },
   {
    "duration": 1845,
    "start_time": "2022-02-13T15:04:23.365Z"
   },
   {
    "duration": 853,
    "start_time": "2022-02-13T15:04:25.212Z"
   },
   {
    "duration": 311,
    "start_time": "2022-02-13T15:04:26.066Z"
   },
   {
    "duration": 1269,
    "start_time": "2022-02-13T15:04:26.379Z"
   },
   {
    "duration": 1074,
    "start_time": "2022-02-13T15:04:27.650Z"
   },
   {
    "duration": 861,
    "start_time": "2022-02-13T15:04:28.726Z"
   },
   {
    "duration": 864,
    "start_time": "2022-02-13T15:04:29.589Z"
   },
   {
    "duration": 1084,
    "start_time": "2022-02-13T15:04:30.455Z"
   },
   {
    "duration": 1553,
    "start_time": "2022-02-13T15:04:31.541Z"
   },
   {
    "duration": 598,
    "start_time": "2022-02-13T15:04:33.096Z"
   },
   {
    "duration": 1045,
    "start_time": "2022-02-13T15:04:33.695Z"
   },
   {
    "duration": 762,
    "start_time": "2022-02-13T15:04:34.741Z"
   },
   {
    "duration": 1314,
    "start_time": "2022-02-13T15:04:35.505Z"
   },
   {
    "duration": 1284,
    "start_time": "2022-02-13T15:04:36.821Z"
   },
   {
    "duration": 2013,
    "start_time": "2022-02-13T15:04:38.107Z"
   },
   {
    "duration": 1452,
    "start_time": "2022-02-13T15:04:40.121Z"
   },
   {
    "duration": 946,
    "start_time": "2022-02-13T15:04:41.574Z"
   },
   {
    "duration": 1903,
    "start_time": "2022-02-13T15:04:42.521Z"
   },
   {
    "duration": 793,
    "start_time": "2022-02-13T15:04:44.426Z"
   },
   {
    "duration": 1214,
    "start_time": "2022-02-13T15:04:45.221Z"
   },
   {
    "duration": 629,
    "start_time": "2022-02-13T15:04:46.437Z"
   },
   {
    "duration": 1233,
    "start_time": "2022-02-13T15:04:47.068Z"
   },
   {
    "duration": 1775,
    "start_time": "2022-02-13T15:04:48.302Z"
   },
   {
    "duration": 189,
    "start_time": "2022-02-13T15:04:50.079Z"
   },
   {
    "duration": 1739,
    "start_time": "2022-02-13T15:04:50.270Z"
   },
   {
    "duration": 596,
    "start_time": "2022-02-13T15:04:52.010Z"
   },
   {
    "duration": 1795,
    "start_time": "2022-02-13T15:04:52.608Z"
   },
   {
    "duration": 152,
    "start_time": "2022-02-13T15:04:54.405Z"
   },
   {
    "duration": 1066,
    "start_time": "2022-02-13T15:04:54.559Z"
   },
   {
    "duration": 558,
    "start_time": "2022-02-13T15:04:55.627Z"
   },
   {
    "duration": 678,
    "start_time": "2022-02-13T15:04:56.186Z"
   },
   {
    "duration": 254,
    "start_time": "2022-02-13T15:04:56.866Z"
   },
   {
    "duration": 902,
    "start_time": "2022-02-13T15:04:57.121Z"
   },
   {
    "duration": 712,
    "start_time": "2022-02-13T15:04:58.024Z"
   },
   {
    "duration": 399,
    "start_time": "2022-02-13T15:04:58.737Z"
   },
   {
    "duration": 1703,
    "start_time": "2022-02-13T15:04:59.137Z"
   },
   {
    "duration": 936,
    "start_time": "2022-02-13T15:05:00.842Z"
   },
   {
    "duration": 1423,
    "start_time": "2022-02-13T15:05:01.779Z"
   },
   {
    "duration": 1004,
    "start_time": "2022-02-13T15:05:03.204Z"
   },
   {
    "duration": 840,
    "start_time": "2022-02-13T15:05:04.209Z"
   },
   {
    "duration": 1172,
    "start_time": "2022-02-13T15:05:05.051Z"
   },
   {
    "duration": 747,
    "start_time": "2022-02-13T15:05:06.224Z"
   },
   {
    "duration": 758,
    "start_time": "2022-02-13T15:05:06.973Z"
   },
   {
    "duration": 525,
    "start_time": "2022-02-13T15:05:07.736Z"
   },
   {
    "duration": 725,
    "start_time": "2022-02-13T15:05:08.263Z"
   },
   {
    "duration": 724,
    "start_time": "2022-02-13T15:05:08.989Z"
   },
   {
    "duration": 553,
    "start_time": "2022-02-13T15:05:09.715Z"
   },
   {
    "duration": 580,
    "start_time": "2022-02-13T15:05:10.269Z"
   },
   {
    "duration": 335,
    "start_time": "2022-02-13T15:05:10.851Z"
   },
   {
    "duration": 960,
    "start_time": "2022-02-13T15:05:11.188Z"
   },
   {
    "duration": 378,
    "start_time": "2022-02-13T15:05:12.150Z"
   },
   {
    "duration": 641,
    "start_time": "2022-02-13T15:05:12.530Z"
   },
   {
    "duration": 461,
    "start_time": "2022-02-13T15:05:13.173Z"
   },
   {
    "duration": 882,
    "start_time": "2022-02-13T15:05:13.636Z"
   },
   {
    "duration": 1175,
    "start_time": "2022-02-13T15:05:14.520Z"
   },
   {
    "duration": 946,
    "start_time": "2022-02-13T15:05:15.696Z"
   },
   {
    "duration": 518,
    "start_time": "2022-02-13T15:05:16.643Z"
   },
   {
    "duration": 5872,
    "start_time": "2022-02-13T15:19:25.870Z"
   },
   {
    "duration": -446,
    "start_time": "2022-02-13T15:19:32.190Z"
   },
   {
    "duration": 3,
    "start_time": "2022-02-13T15:20:37.933Z"
   },
   {
    "duration": 1630,
    "start_time": "2022-02-13T15:20:37.941Z"
   },
   {
    "duration": 1322,
    "start_time": "2022-02-13T15:20:39.572Z"
   },
   {
    "duration": 1202,
    "start_time": "2022-02-13T15:20:40.896Z"
   },
   {
    "duration": 974,
    "start_time": "2022-02-13T15:20:42.100Z"
   },
   {
    "duration": 2369,
    "start_time": "2022-02-13T15:20:43.076Z"
   },
   {
    "duration": 1138,
    "start_time": "2022-02-13T15:20:45.447Z"
   },
   {
    "duration": 724,
    "start_time": "2022-02-13T15:20:46.587Z"
   },
   {
    "duration": 1922,
    "start_time": "2022-02-13T15:20:47.314Z"
   },
   {
    "duration": 1380,
    "start_time": "2022-02-13T15:20:49.238Z"
   },
   {
    "duration": 1208,
    "start_time": "2022-02-13T15:20:50.620Z"
   },
   {
    "duration": 719,
    "start_time": "2022-02-13T15:20:51.830Z"
   },
   {
    "duration": 1320,
    "start_time": "2022-02-13T15:20:52.551Z"
   },
   {
    "duration": 804,
    "start_time": "2022-02-13T15:20:53.873Z"
   },
   {
    "duration": 667,
    "start_time": "2022-02-13T15:20:54.679Z"
   },
   {
    "duration": 1237,
    "start_time": "2022-02-13T15:20:55.348Z"
   },
   {
    "duration": 1229,
    "start_time": "2022-02-13T15:20:56.587Z"
   },
   {
    "duration": 978,
    "start_time": "2022-02-13T15:20:57.817Z"
   },
   {
    "duration": 797,
    "start_time": "2022-02-13T15:20:58.797Z"
   },
   {
    "duration": 7215,
    "start_time": "2022-02-13T15:20:59.595Z"
   },
   {
    "duration": -409,
    "start_time": "2022-02-13T15:21:07.224Z"
   },
   {
    "duration": -421,
    "start_time": "2022-02-13T15:21:07.237Z"
   },
   {
    "duration": -430,
    "start_time": "2022-02-13T15:21:07.248Z"
   },
   {
    "duration": -442,
    "start_time": "2022-02-13T15:21:07.261Z"
   },
   {
    "duration": -451,
    "start_time": "2022-02-13T15:21:07.272Z"
   },
   {
    "duration": -462,
    "start_time": "2022-02-13T15:21:07.285Z"
   },
   {
    "duration": -492,
    "start_time": "2022-02-13T15:21:07.316Z"
   },
   {
    "duration": -505,
    "start_time": "2022-02-13T15:21:07.330Z"
   },
   {
    "duration": -519,
    "start_time": "2022-02-13T15:21:07.346Z"
   },
   {
    "duration": -529,
    "start_time": "2022-02-13T15:21:07.357Z"
   },
   {
    "duration": -540,
    "start_time": "2022-02-13T15:21:07.370Z"
   },
   {
    "duration": -550,
    "start_time": "2022-02-13T15:21:07.381Z"
   },
   {
    "duration": -563,
    "start_time": "2022-02-13T15:21:07.395Z"
   },
   {
    "duration": -572,
    "start_time": "2022-02-13T15:21:07.406Z"
   },
   {
    "duration": -601,
    "start_time": "2022-02-13T15:21:07.436Z"
   },
   {
    "duration": -611,
    "start_time": "2022-02-13T15:21:07.447Z"
   },
   {
    "duration": -623,
    "start_time": "2022-02-13T15:21:07.461Z"
   },
   {
    "duration": -635,
    "start_time": "2022-02-13T15:21:07.474Z"
   },
   {
    "duration": -644,
    "start_time": "2022-02-13T15:21:07.485Z"
   },
   {
    "duration": -656,
    "start_time": "2022-02-13T15:21:07.498Z"
   },
   {
    "duration": -668,
    "start_time": "2022-02-13T15:21:07.511Z"
   },
   {
    "duration": -679,
    "start_time": "2022-02-13T15:21:07.523Z"
   },
   {
    "duration": -703,
    "start_time": "2022-02-13T15:21:07.549Z"
   },
   {
    "duration": -715,
    "start_time": "2022-02-13T15:21:07.562Z"
   },
   {
    "duration": -726,
    "start_time": "2022-02-13T15:21:07.574Z"
   },
   {
    "duration": -737,
    "start_time": "2022-02-13T15:21:07.586Z"
   },
   {
    "duration": -746,
    "start_time": "2022-02-13T15:21:07.597Z"
   },
   {
    "duration": -758,
    "start_time": "2022-02-13T15:21:07.610Z"
   },
   {
    "duration": -769,
    "start_time": "2022-02-13T15:21:07.623Z"
   },
   {
    "duration": -767,
    "start_time": "2022-02-13T15:21:07.638Z"
   },
   {
    "duration": -792,
    "start_time": "2022-02-13T15:21:07.664Z"
   },
   {
    "duration": -804,
    "start_time": "2022-02-13T15:21:07.678Z"
   },
   {
    "duration": -815,
    "start_time": "2022-02-13T15:21:07.690Z"
   },
   {
    "duration": -826,
    "start_time": "2022-02-13T15:21:07.702Z"
   },
   {
    "duration": -838,
    "start_time": "2022-02-13T15:21:07.715Z"
   },
   {
    "duration": -844,
    "start_time": "2022-02-13T15:21:07.727Z"
   },
   {
    "duration": -855,
    "start_time": "2022-02-13T15:21:07.740Z"
   },
   {
    "duration": -866,
    "start_time": "2022-02-13T15:21:07.752Z"
   },
   {
    "duration": -891,
    "start_time": "2022-02-13T15:21:07.779Z"
   },
   {
    "duration": -902,
    "start_time": "2022-02-13T15:21:07.791Z"
   },
   {
    "duration": -915,
    "start_time": "2022-02-13T15:21:07.806Z"
   },
   {
    "duration": -925,
    "start_time": "2022-02-13T15:21:07.818Z"
   },
   {
    "duration": -937,
    "start_time": "2022-02-13T15:21:07.831Z"
   },
   {
    "duration": -946,
    "start_time": "2022-02-13T15:21:07.842Z"
   },
   {
    "duration": -959,
    "start_time": "2022-02-13T15:21:07.856Z"
   },
   {
    "duration": -969,
    "start_time": "2022-02-13T15:21:07.868Z"
   },
   {
    "duration": -994,
    "start_time": "2022-02-13T15:21:07.895Z"
   },
   {
    "duration": -1006,
    "start_time": "2022-02-13T15:21:07.908Z"
   },
   {
    "duration": -1016,
    "start_time": "2022-02-13T15:21:07.920Z"
   },
   {
    "duration": -1027,
    "start_time": "2022-02-13T15:21:07.932Z"
   },
   {
    "duration": -1037,
    "start_time": "2022-02-13T15:21:07.943Z"
   },
   {
    "duration": -1047,
    "start_time": "2022-02-13T15:21:07.955Z"
   },
   {
    "duration": -1057,
    "start_time": "2022-02-13T15:21:07.966Z"
   },
   {
    "duration": -1069,
    "start_time": "2022-02-13T15:21:07.979Z"
   },
   {
    "duration": -1117,
    "start_time": "2022-02-13T15:21:08.029Z"
   },
   {
    "duration": -1129,
    "start_time": "2022-02-13T15:21:08.042Z"
   },
   {
    "duration": -1140,
    "start_time": "2022-02-13T15:21:08.054Z"
   },
   {
    "duration": -1094,
    "start_time": "2022-02-13T15:21:08.066Z"
   },
   {
    "duration": -1104,
    "start_time": "2022-02-13T15:21:08.077Z"
   },
   {
    "duration": -1114,
    "start_time": "2022-02-13T15:21:08.089Z"
   },
   {
    "duration": -1125,
    "start_time": "2022-02-13T15:21:08.101Z"
   },
   {
    "duration": -1136,
    "start_time": "2022-02-13T15:21:08.113Z"
   },
   {
    "duration": 6055,
    "start_time": "2022-02-13T15:26:23.672Z"
   },
   {
    "duration": 5923,
    "start_time": "2022-02-13T15:26:37.024Z"
   },
   {
    "duration": 778,
    "start_time": "2022-02-13T15:27:44.813Z"
   },
   {
    "duration": 656,
    "start_time": "2022-02-13T15:28:00.244Z"
   },
   {
    "duration": 129,
    "start_time": "2022-02-13T15:28:24.803Z"
   },
   {
    "duration": 669,
    "start_time": "2022-02-13T15:29:37.513Z"
   },
   {
    "duration": 5488,
    "start_time": "2022-02-13T15:30:16.386Z"
   },
   {
    "duration": 5479,
    "start_time": "2022-02-13T15:31:18.731Z"
   },
   {
    "duration": 5692,
    "start_time": "2022-02-13T15:39:20.113Z"
   },
   {
    "duration": 6,
    "start_time": "2022-02-13T15:42:43.685Z"
   },
   {
    "duration": 407,
    "start_time": "2022-02-13T15:43:03.592Z"
   },
   {
    "duration": 45,
    "start_time": "2022-02-13T15:43:16.263Z"
   },
   {
    "duration": 31,
    "start_time": "2022-02-13T15:45:09.442Z"
   },
   {
    "duration": 24,
    "start_time": "2022-02-13T15:47:42.231Z"
   },
   {
    "duration": 31,
    "start_time": "2022-02-13T15:51:46.263Z"
   },
   {
    "duration": 5356,
    "start_time": "2022-02-13T16:17:02.123Z"
   },
   {
    "duration": 3,
    "start_time": "2022-02-13T16:22:37.043Z"
   },
   {
    "duration": 7,
    "start_time": "2022-02-13T16:25:56.056Z"
   },
   {
    "duration": 15,
    "start_time": "2022-02-13T16:26:30.593Z"
   },
   {
    "duration": 405,
    "start_time": "2022-02-13T16:31:01.968Z"
   },
   {
    "duration": 3,
    "start_time": "2022-02-13T16:40:34.923Z"
   },
   {
    "duration": 71,
    "start_time": "2022-02-13T16:40:34.931Z"
   },
   {
    "duration": 23,
    "start_time": "2022-02-13T16:40:35.004Z"
   },
   {
    "duration": 12,
    "start_time": "2022-02-13T16:40:35.030Z"
   },
   {
    "duration": 30,
    "start_time": "2022-02-13T16:40:35.044Z"
   },
   {
    "duration": 9,
    "start_time": "2022-02-13T16:40:35.075Z"
   },
   {
    "duration": 117,
    "start_time": "2022-02-13T16:40:35.086Z"
   },
   {
    "duration": 4,
    "start_time": "2022-02-13T16:40:35.205Z"
   },
   {
    "duration": 4,
    "start_time": "2022-02-13T16:40:35.212Z"
   },
   {
    "duration": 3,
    "start_time": "2022-02-13T16:40:35.218Z"
   },
   {
    "duration": 7,
    "start_time": "2022-02-13T16:40:35.223Z"
   },
   {
    "duration": 9,
    "start_time": "2022-02-13T16:40:35.232Z"
   },
   {
    "duration": 57,
    "start_time": "2022-02-13T16:40:35.243Z"
   },
   {
    "duration": 3,
    "start_time": "2022-02-13T16:40:35.301Z"
   },
   {
    "duration": 17,
    "start_time": "2022-02-13T16:40:35.306Z"
   },
   {
    "duration": 11,
    "start_time": "2022-02-13T16:40:35.325Z"
   },
   {
    "duration": 15,
    "start_time": "2022-02-13T16:40:35.338Z"
   },
   {
    "duration": 17,
    "start_time": "2022-02-13T16:40:35.355Z"
   },
   {
    "duration": 34,
    "start_time": "2022-02-13T16:40:35.373Z"
   },
   {
    "duration": 14,
    "start_time": "2022-02-13T16:40:35.409Z"
   },
   {
    "duration": 805,
    "start_time": "2022-02-13T16:40:35.425Z"
   },
   {
    "duration": 90,
    "start_time": "2022-02-13T16:40:36.144Z"
   },
   {
    "duration": 77,
    "start_time": "2022-02-13T16:40:36.157Z"
   },
   {
    "duration": -3,
    "start_time": "2022-02-13T16:40:36.238Z"
   },
   {
    "duration": -15,
    "start_time": "2022-02-13T16:40:36.251Z"
   },
   {
    "duration": -27,
    "start_time": "2022-02-13T16:40:36.264Z"
   },
   {
    "duration": -39,
    "start_time": "2022-02-13T16:40:36.277Z"
   },
   {
    "duration": -51,
    "start_time": "2022-02-13T16:40:36.290Z"
   },
   {
    "duration": -63,
    "start_time": "2022-02-13T16:40:36.303Z"
   },
   {
    "duration": -76,
    "start_time": "2022-02-13T16:40:36.317Z"
   },
   {
    "duration": -87,
    "start_time": "2022-02-13T16:40:36.329Z"
   },
   {
    "duration": -114,
    "start_time": "2022-02-13T16:40:36.358Z"
   },
   {
    "duration": -125,
    "start_time": "2022-02-13T16:40:36.371Z"
   },
   {
    "duration": -139,
    "start_time": "2022-02-13T16:40:36.386Z"
   },
   {
    "duration": -150,
    "start_time": "2022-02-13T16:40:36.398Z"
   },
   {
    "duration": -162,
    "start_time": "2022-02-13T16:40:36.412Z"
   },
   {
    "duration": -174,
    "start_time": "2022-02-13T16:40:36.425Z"
   },
   {
    "duration": -188,
    "start_time": "2022-02-13T16:40:36.440Z"
   },
   {
    "duration": -199,
    "start_time": "2022-02-13T16:40:36.453Z"
   },
   {
    "duration": -226,
    "start_time": "2022-02-13T16:40:36.481Z"
   },
   {
    "duration": -238,
    "start_time": "2022-02-13T16:40:36.494Z"
   },
   {
    "duration": -252,
    "start_time": "2022-02-13T16:40:36.509Z"
   },
   {
    "duration": -268,
    "start_time": "2022-02-13T16:40:36.527Z"
   },
   {
    "duration": -281,
    "start_time": "2022-02-13T16:40:36.541Z"
   },
   {
    "duration": -292,
    "start_time": "2022-02-13T16:40:36.553Z"
   },
   {
    "duration": -305,
    "start_time": "2022-02-13T16:40:36.568Z"
   },
   {
    "duration": -329,
    "start_time": "2022-02-13T16:40:36.593Z"
   },
   {
    "duration": -342,
    "start_time": "2022-02-13T16:40:36.607Z"
   },
   {
    "duration": -357,
    "start_time": "2022-02-13T16:40:36.624Z"
   },
   {
    "duration": -731,
    "start_time": "2022-02-13T16:40:36.999Z"
   },
   {
    "duration": -740,
    "start_time": "2022-02-13T16:40:37.010Z"
   },
   {
    "duration": -753,
    "start_time": "2022-02-13T16:40:37.024Z"
   },
   {
    "duration": -766,
    "start_time": "2022-02-13T16:40:37.038Z"
   },
   {
    "duration": -778,
    "start_time": "2022-02-13T16:40:37.052Z"
   },
   {
    "duration": -788,
    "start_time": "2022-02-13T16:40:37.063Z"
   },
   {
    "duration": -802,
    "start_time": "2022-02-13T16:40:37.078Z"
   },
   {
    "duration": -813,
    "start_time": "2022-02-13T16:40:37.091Z"
   },
   {
    "duration": -843,
    "start_time": "2022-02-13T16:40:37.122Z"
   },
   {
    "duration": -854,
    "start_time": "2022-02-13T16:40:37.134Z"
   },
   {
    "duration": -866,
    "start_time": "2022-02-13T16:40:37.148Z"
   },
   {
    "duration": -877,
    "start_time": "2022-02-13T16:40:37.160Z"
   },
   {
    "duration": -889,
    "start_time": "2022-02-13T16:40:37.173Z"
   },
   {
    "duration": -900,
    "start_time": "2022-02-13T16:40:37.185Z"
   },
   {
    "duration": -914,
    "start_time": "2022-02-13T16:40:37.200Z"
   },
   {
    "duration": -924,
    "start_time": "2022-02-13T16:40:37.211Z"
   },
   {
    "duration": -953,
    "start_time": "2022-02-13T16:40:37.241Z"
   },
   {
    "duration": -964,
    "start_time": "2022-02-13T16:40:37.253Z"
   },
   {
    "duration": -977,
    "start_time": "2022-02-13T16:40:37.267Z"
   },
   {
    "duration": -988,
    "start_time": "2022-02-13T16:40:37.279Z"
   },
   {
    "duration": -1001,
    "start_time": "2022-02-13T16:40:37.292Z"
   },
   {
    "duration": -1012,
    "start_time": "2022-02-13T16:40:37.304Z"
   },
   {
    "duration": -1026,
    "start_time": "2022-02-13T16:40:37.319Z"
   },
   {
    "duration": -1272,
    "start_time": "2022-02-13T16:40:37.566Z"
   },
   {
    "duration": -1285,
    "start_time": "2022-02-13T16:40:37.579Z"
   },
   {
    "duration": -1296,
    "start_time": "2022-02-13T16:40:37.591Z"
   },
   {
    "duration": -1309,
    "start_time": "2022-02-13T16:40:37.605Z"
   },
   {
    "duration": -1336,
    "start_time": "2022-02-13T16:40:37.633Z"
   },
   {
    "duration": -1349,
    "start_time": "2022-02-13T16:40:37.647Z"
   },
   {
    "duration": -1363,
    "start_time": "2022-02-13T16:40:37.661Z"
   },
   {
    "duration": -1375,
    "start_time": "2022-02-13T16:40:37.675Z"
   },
   {
    "duration": -1387,
    "start_time": "2022-02-13T16:40:37.687Z"
   },
   {
    "duration": -1398,
    "start_time": "2022-02-13T16:40:37.700Z"
   },
   {
    "duration": -1410,
    "start_time": "2022-02-13T16:40:37.713Z"
   },
   {
    "duration": 340,
    "start_time": "2022-02-13T16:41:27.572Z"
   },
   {
    "duration": 7,
    "start_time": "2022-02-13T16:45:37.119Z"
   },
   {
    "duration": 10,
    "start_time": "2022-02-13T16:45:39.664Z"
   },
   {
    "duration": 2,
    "start_time": "2022-02-13T16:46:38.504Z"
   },
   {
    "duration": 59,
    "start_time": "2022-02-13T16:46:38.509Z"
   },
   {
    "duration": 19,
    "start_time": "2022-02-13T16:46:38.570Z"
   },
   {
    "duration": 9,
    "start_time": "2022-02-13T16:46:38.591Z"
   },
   {
    "duration": 7,
    "start_time": "2022-02-13T16:46:38.601Z"
   },
   {
    "duration": 8,
    "start_time": "2022-02-13T16:46:38.609Z"
   },
   {
    "duration": 90,
    "start_time": "2022-02-13T16:46:38.618Z"
   },
   {
    "duration": 3,
    "start_time": "2022-02-13T16:46:38.709Z"
   },
   {
    "duration": 4,
    "start_time": "2022-02-13T16:46:38.714Z"
   },
   {
    "duration": 3,
    "start_time": "2022-02-13T16:46:38.720Z"
   },
   {
    "duration": 6,
    "start_time": "2022-02-13T16:46:38.725Z"
   },
   {
    "duration": 8,
    "start_time": "2022-02-13T16:46:38.732Z"
   },
   {
    "duration": 54,
    "start_time": "2022-02-13T16:46:38.742Z"
   },
   {
    "duration": 4,
    "start_time": "2022-02-13T16:46:38.798Z"
   },
   {
    "duration": 8,
    "start_time": "2022-02-13T16:46:38.804Z"
   },
   {
    "duration": 7,
    "start_time": "2022-02-13T16:46:38.814Z"
   },
   {
    "duration": 8,
    "start_time": "2022-02-13T16:46:38.822Z"
   },
   {
    "duration": 7,
    "start_time": "2022-02-13T16:46:38.832Z"
   },
   {
    "duration": 49,
    "start_time": "2022-02-13T16:46:38.840Z"
   },
   {
    "duration": 6,
    "start_time": "2022-02-13T16:46:38.890Z"
   },
   {
    "duration": 6,
    "start_time": "2022-02-13T16:46:38.898Z"
   },
   {
    "duration": 11,
    "start_time": "2022-02-13T16:46:38.906Z"
   },
   {
    "duration": 54,
    "start_time": "2022-02-13T16:46:38.918Z"
   },
   {
    "duration": 23,
    "start_time": "2022-02-13T16:46:38.974Z"
   },
   {
    "duration": 6,
    "start_time": "2022-02-13T16:46:38.998Z"
   },
   {
    "duration": 43,
    "start_time": "2022-02-13T16:46:39.005Z"
   },
   {
    "duration": 4,
    "start_time": "2022-02-13T16:46:39.050Z"
   },
   {
    "duration": 28,
    "start_time": "2022-02-13T16:46:39.072Z"
   },
   {
    "duration": 9,
    "start_time": "2022-02-13T16:46:39.102Z"
   },
   {
    "duration": 34,
    "start_time": "2022-02-13T16:46:39.113Z"
   },
   {
    "duration": 552,
    "start_time": "2022-02-13T16:46:39.149Z"
   },
   {
    "duration": 335,
    "start_time": "2022-02-13T16:46:39.703Z"
   },
   {
    "duration": -2852,
    "start_time": "2022-02-13T16:46:42.892Z"
   },
   {
    "duration": -2868,
    "start_time": "2022-02-13T16:46:42.909Z"
   },
   {
    "duration": -2885,
    "start_time": "2022-02-13T16:46:42.927Z"
   },
   {
    "duration": -2901,
    "start_time": "2022-02-13T16:46:42.944Z"
   },
   {
    "duration": -2916,
    "start_time": "2022-02-13T16:46:42.960Z"
   },
   {
    "duration": -2934,
    "start_time": "2022-02-13T16:46:42.979Z"
   },
   {
    "duration": -2993,
    "start_time": "2022-02-13T16:46:43.039Z"
   },
   {
    "duration": -3010,
    "start_time": "2022-02-13T16:46:43.057Z"
   },
   {
    "duration": -3022,
    "start_time": "2022-02-13T16:46:43.070Z"
   },
   {
    "duration": -3036,
    "start_time": "2022-02-13T16:46:43.085Z"
   },
   {
    "duration": -3048,
    "start_time": "2022-02-13T16:46:43.098Z"
   },
   {
    "duration": -3084,
    "start_time": "2022-02-13T16:46:43.135Z"
   },
   {
    "duration": -3097,
    "start_time": "2022-02-13T16:46:43.149Z"
   },
   {
    "duration": -3110,
    "start_time": "2022-02-13T16:46:43.163Z"
   },
   {
    "duration": -3122,
    "start_time": "2022-02-13T16:46:43.176Z"
   },
   {
    "duration": -3137,
    "start_time": "2022-02-13T16:46:43.192Z"
   },
   {
    "duration": -3148,
    "start_time": "2022-02-13T16:46:43.204Z"
   },
   {
    "duration": -3161,
    "start_time": "2022-02-13T16:46:43.217Z"
   },
   {
    "duration": -3187,
    "start_time": "2022-02-13T16:46:43.244Z"
   },
   {
    "duration": -3200,
    "start_time": "2022-02-13T16:46:43.258Z"
   },
   {
    "duration": -3211,
    "start_time": "2022-02-13T16:46:43.270Z"
   },
   {
    "duration": -3224,
    "start_time": "2022-02-13T16:46:43.284Z"
   },
   {
    "duration": -3249,
    "start_time": "2022-02-13T16:46:43.310Z"
   },
   {
    "duration": -3263,
    "start_time": "2022-02-13T16:46:43.325Z"
   },
   {
    "duration": -3289,
    "start_time": "2022-02-13T16:46:43.352Z"
   },
   {
    "duration": -3317,
    "start_time": "2022-02-13T16:46:43.380Z"
   },
   {
    "duration": -3344,
    "start_time": "2022-02-13T16:46:43.408Z"
   },
   {
    "duration": -3358,
    "start_time": "2022-02-13T16:46:43.423Z"
   },
   {
    "duration": -3371,
    "start_time": "2022-02-13T16:46:43.437Z"
   },
   {
    "duration": -3383,
    "start_time": "2022-02-13T16:46:43.450Z"
   },
   {
    "duration": -3395,
    "start_time": "2022-02-13T16:46:43.463Z"
   },
   {
    "duration": -3409,
    "start_time": "2022-02-13T16:46:43.478Z"
   },
   {
    "duration": -3420,
    "start_time": "2022-02-13T16:46:43.490Z"
   },
   {
    "duration": -3433,
    "start_time": "2022-02-13T16:46:43.504Z"
   },
   {
    "duration": -3460,
    "start_time": "2022-02-13T16:46:43.532Z"
   },
   {
    "duration": -3473,
    "start_time": "2022-02-13T16:46:43.546Z"
   },
   {
    "duration": -3485,
    "start_time": "2022-02-13T16:46:43.558Z"
   },
   {
    "duration": -3497,
    "start_time": "2022-02-13T16:46:43.571Z"
   },
   {
    "duration": -3508,
    "start_time": "2022-02-13T16:46:43.583Z"
   },
   {
    "duration": -3521,
    "start_time": "2022-02-13T16:46:43.597Z"
   },
   {
    "duration": -3532,
    "start_time": "2022-02-13T16:46:43.609Z"
   },
   {
    "duration": -3544,
    "start_time": "2022-02-13T16:46:43.622Z"
   },
   {
    "duration": -3571,
    "start_time": "2022-02-13T16:46:43.650Z"
   },
   {
    "duration": -3586,
    "start_time": "2022-02-13T16:46:43.665Z"
   },
   {
    "duration": -3597,
    "start_time": "2022-02-13T16:46:43.677Z"
   },
   {
    "duration": -3611,
    "start_time": "2022-02-13T16:46:43.692Z"
   },
   {
    "duration": -3622,
    "start_time": "2022-02-13T16:46:43.704Z"
   },
   {
    "duration": -3635,
    "start_time": "2022-02-13T16:46:43.717Z"
   },
   {
    "duration": -3647,
    "start_time": "2022-02-13T16:46:43.730Z"
   },
   {
    "duration": -3660,
    "start_time": "2022-02-13T16:46:43.744Z"
   },
   {
    "duration": -3687,
    "start_time": "2022-02-13T16:46:43.772Z"
   },
   {
    "duration": 337,
    "start_time": "2022-02-13T16:51:34.089Z"
   },
   {
    "duration": 341,
    "start_time": "2022-02-13T16:51:48.809Z"
   },
   {
    "duration": 328,
    "start_time": "2022-02-13T16:52:04.169Z"
   },
   {
    "duration": 13,
    "start_time": "2022-02-13T16:52:23.302Z"
   },
   {
    "duration": 1563,
    "start_time": "2022-02-13T16:55:51.698Z"
   },
   {
    "duration": 1574,
    "start_time": "2022-02-13T16:55:58.759Z"
   },
   {
    "duration": 337,
    "start_time": "2022-02-13T16:59:42.809Z"
   },
   {
    "duration": 2,
    "start_time": "2022-02-13T17:00:09.477Z"
   },
   {
    "duration": 80,
    "start_time": "2022-02-13T17:00:09.483Z"
   },
   {
    "duration": 20,
    "start_time": "2022-02-13T17:00:09.564Z"
   },
   {
    "duration": 13,
    "start_time": "2022-02-13T17:00:09.586Z"
   },
   {
    "duration": 13,
    "start_time": "2022-02-13T17:00:09.601Z"
   },
   {
    "duration": 30,
    "start_time": "2022-02-13T17:00:09.616Z"
   },
   {
    "duration": 103,
    "start_time": "2022-02-13T17:00:09.647Z"
   },
   {
    "duration": 3,
    "start_time": "2022-02-13T17:00:09.752Z"
   },
   {
    "duration": 10,
    "start_time": "2022-02-13T17:00:09.773Z"
   },
   {
    "duration": 42,
    "start_time": "2022-02-13T17:00:09.785Z"
   },
   {
    "duration": 29,
    "start_time": "2022-02-13T17:00:09.829Z"
   },
   {
    "duration": 35,
    "start_time": "2022-02-13T17:00:09.860Z"
   },
   {
    "duration": 19,
    "start_time": "2022-02-13T17:00:09.897Z"
   },
   {
    "duration": 18,
    "start_time": "2022-02-13T17:00:09.918Z"
   },
   {
    "duration": 24,
    "start_time": "2022-02-13T17:00:09.938Z"
   },
   {
    "duration": 31,
    "start_time": "2022-02-13T17:00:09.963Z"
   },
   {
    "duration": 17,
    "start_time": "2022-02-13T17:00:09.996Z"
   },
   {
    "duration": 38,
    "start_time": "2022-02-13T17:00:10.015Z"
   },
   {
    "duration": 5777,
    "start_time": "2022-02-13T17:00:10.055Z"
   },
   {
    "duration": 545,
    "start_time": "2022-02-13T17:00:15.290Z"
   },
   {
    "duration": 530,
    "start_time": "2022-02-13T17:00:15.306Z"
   },
   {
    "duration": 519,
    "start_time": "2022-02-13T17:00:15.318Z"
   },
   {
    "duration": 505,
    "start_time": "2022-02-13T17:00:15.333Z"
   },
   {
    "duration": 491,
    "start_time": "2022-02-13T17:00:15.348Z"
   },
   {
    "duration": 478,
    "start_time": "2022-02-13T17:00:15.362Z"
   },
   {
    "duration": 467,
    "start_time": "2022-02-13T17:00:15.374Z"
   },
   {
    "duration": 440,
    "start_time": "2022-02-13T17:00:15.403Z"
   },
   {
    "duration": 427,
    "start_time": "2022-02-13T17:00:15.417Z"
   },
   {
    "duration": 414,
    "start_time": "2022-02-13T17:00:15.431Z"
   },
   {
    "duration": 403,
    "start_time": "2022-02-13T17:00:15.443Z"
   },
   {
    "duration": 391,
    "start_time": "2022-02-13T17:00:15.456Z"
   },
   {
    "duration": 379,
    "start_time": "2022-02-13T17:00:15.468Z"
   },
   {
    "duration": 366,
    "start_time": "2022-02-13T17:00:15.482Z"
   },
   {
    "duration": 354,
    "start_time": "2022-02-13T17:00:15.495Z"
   },
   {
    "duration": 325,
    "start_time": "2022-02-13T17:00:15.525Z"
   },
   {
    "duration": 314,
    "start_time": "2022-02-13T17:00:15.537Z"
   },
   {
    "duration": 301,
    "start_time": "2022-02-13T17:00:15.551Z"
   },
   {
    "duration": 291,
    "start_time": "2022-02-13T17:00:15.563Z"
   },
   {
    "duration": 279,
    "start_time": "2022-02-13T17:00:15.576Z"
   },
   {
    "duration": 268,
    "start_time": "2022-02-13T17:00:15.588Z"
   },
   {
    "duration": 255,
    "start_time": "2022-02-13T17:00:15.602Z"
   },
   {
    "duration": 245,
    "start_time": "2022-02-13T17:00:15.613Z"
   },
   {
    "duration": 216,
    "start_time": "2022-02-13T17:00:15.643Z"
   },
   {
    "duration": 205,
    "start_time": "2022-02-13T17:00:15.655Z"
   },
   {
    "duration": 192,
    "start_time": "2022-02-13T17:00:15.669Z"
   },
   {
    "duration": 181,
    "start_time": "2022-02-13T17:00:15.681Z"
   },
   {
    "duration": 168,
    "start_time": "2022-02-13T17:00:15.695Z"
   },
   {
    "duration": 157,
    "start_time": "2022-02-13T17:00:15.707Z"
   },
   {
    "duration": 143,
    "start_time": "2022-02-13T17:00:15.722Z"
   },
   {
    "duration": 130,
    "start_time": "2022-02-13T17:00:15.736Z"
   },
   {
    "duration": 99,
    "start_time": "2022-02-13T17:00:15.768Z"
   },
   {
    "duration": 88,
    "start_time": "2022-02-13T17:00:15.780Z"
   },
   {
    "duration": 75,
    "start_time": "2022-02-13T17:00:15.794Z"
   },
   {
    "duration": 63,
    "start_time": "2022-02-13T17:00:15.807Z"
   },
   {
    "duration": 51,
    "start_time": "2022-02-13T17:00:15.820Z"
   },
   {
    "duration": 40,
    "start_time": "2022-02-13T17:00:15.832Z"
   },
   {
    "duration": 27,
    "start_time": "2022-02-13T17:00:15.846Z"
   },
   {
    "duration": 15,
    "start_time": "2022-02-13T17:00:15.859Z"
   },
   {
    "duration": -12,
    "start_time": "2022-02-13T17:00:15.887Z"
   },
   {
    "duration": -24,
    "start_time": "2022-02-13T17:00:15.900Z"
   },
   {
    "duration": -37,
    "start_time": "2022-02-13T17:00:15.914Z"
   },
   {
    "duration": -48,
    "start_time": "2022-02-13T17:00:15.926Z"
   },
   {
    "duration": -61,
    "start_time": "2022-02-13T17:00:15.940Z"
   },
   {
    "duration": -73,
    "start_time": "2022-02-13T17:00:15.952Z"
   },
   {
    "duration": -85,
    "start_time": "2022-02-13T17:00:15.965Z"
   },
   {
    "duration": -96,
    "start_time": "2022-02-13T17:00:15.977Z"
   },
   {
    "duration": -123,
    "start_time": "2022-02-13T17:00:16.005Z"
   },
   {
    "duration": -134,
    "start_time": "2022-02-13T17:00:16.017Z"
   },
   {
    "duration": -146,
    "start_time": "2022-02-13T17:00:16.031Z"
   },
   {
    "duration": -158,
    "start_time": "2022-02-13T17:00:16.043Z"
   },
   {
    "duration": -170,
    "start_time": "2022-02-13T17:00:16.056Z"
   },
   {
    "duration": -181,
    "start_time": "2022-02-13T17:00:16.068Z"
   },
   {
    "duration": -194,
    "start_time": "2022-02-13T17:00:16.082Z"
   },
   {
    "duration": -205,
    "start_time": "2022-02-13T17:00:16.094Z"
   },
   {
    "duration": -234,
    "start_time": "2022-02-13T17:00:16.124Z"
   },
   {
    "duration": -245,
    "start_time": "2022-02-13T17:00:16.136Z"
   },
   {
    "duration": -257,
    "start_time": "2022-02-13T17:00:16.149Z"
   },
   {
    "duration": -268,
    "start_time": "2022-02-13T17:00:16.161Z"
   },
   {
    "duration": -298,
    "start_time": "2022-02-13T17:00:16.192Z"
   },
   {
    "duration": -309,
    "start_time": "2022-02-13T17:00:16.204Z"
   },
   {
    "duration": -323,
    "start_time": "2022-02-13T17:00:16.218Z"
   },
   {
    "duration": -351,
    "start_time": "2022-02-13T17:00:16.248Z"
   },
   {
    "duration": -364,
    "start_time": "2022-02-13T17:00:16.262Z"
   },
   {
    "duration": -376,
    "start_time": "2022-02-13T17:00:16.274Z"
   },
   {
    "duration": 5657,
    "start_time": "2022-02-13T17:03:12.747Z"
   },
   {
    "duration": 4,
    "start_time": "2022-02-13T17:27:30.232Z"
   },
   {
    "duration": 10,
    "start_time": "2022-02-13T17:27:38.467Z"
   },
   {
    "duration": 4,
    "start_time": "2022-02-13T17:30:01.607Z"
   },
   {
    "duration": 2,
    "start_time": "2022-02-13T17:30:05.650Z"
   },
   {
    "duration": 68,
    "start_time": "2022-02-13T17:30:05.656Z"
   },
   {
    "duration": 21,
    "start_time": "2022-02-13T17:30:05.725Z"
   },
   {
    "duration": 25,
    "start_time": "2022-02-13T17:30:05.748Z"
   },
   {
    "duration": 11,
    "start_time": "2022-02-13T17:30:05.775Z"
   },
   {
    "duration": 14,
    "start_time": "2022-02-13T17:30:05.787Z"
   },
   {
    "duration": 81,
    "start_time": "2022-02-13T17:30:05.802Z"
   },
   {
    "duration": 4,
    "start_time": "2022-02-13T17:30:05.885Z"
   },
   {
    "duration": 10,
    "start_time": "2022-02-13T17:30:05.892Z"
   },
   {
    "duration": 14,
    "start_time": "2022-02-13T17:30:05.904Z"
   },
   {
    "duration": 23,
    "start_time": "2022-02-13T17:30:05.919Z"
   },
   {
    "duration": 16,
    "start_time": "2022-02-13T17:30:05.944Z"
   },
   {
    "duration": 13,
    "start_time": "2022-02-13T17:30:05.961Z"
   },
   {
    "duration": 17,
    "start_time": "2022-02-13T17:30:05.975Z"
   },
   {
    "duration": 13,
    "start_time": "2022-02-13T17:30:05.993Z"
   },
   {
    "duration": 14,
    "start_time": "2022-02-13T17:30:06.007Z"
   },
   {
    "duration": 11,
    "start_time": "2022-02-13T17:30:06.022Z"
   },
   {
    "duration": 32,
    "start_time": "2022-02-13T17:30:06.035Z"
   },
   {
    "duration": 7,
    "start_time": "2022-02-13T17:30:06.069Z"
   },
   {
    "duration": 16,
    "start_time": "2022-02-13T17:30:06.077Z"
   },
   {
    "duration": 22,
    "start_time": "2022-02-13T17:30:06.094Z"
   },
   {
    "duration": 348,
    "start_time": "2022-02-13T17:30:06.117Z"
   },
   {
    "duration": -361,
    "start_time": "2022-02-13T17:30:06.830Z"
   },
   {
    "duration": -426,
    "start_time": "2022-02-13T17:30:06.896Z"
   },
   {
    "duration": -441,
    "start_time": "2022-02-13T17:30:06.912Z"
   },
   {
    "duration": -453,
    "start_time": "2022-02-13T17:30:06.925Z"
   },
   {
    "duration": -470,
    "start_time": "2022-02-13T17:30:06.943Z"
   },
   {
    "duration": -482,
    "start_time": "2022-02-13T17:30:06.956Z"
   },
   {
    "duration": -495,
    "start_time": "2022-02-13T17:30:06.970Z"
   },
   {
    "duration": -509,
    "start_time": "2022-02-13T17:30:06.985Z"
   },
   {
    "duration": -541,
    "start_time": "2022-02-13T17:30:07.018Z"
   },
   {
    "duration": -553,
    "start_time": "2022-02-13T17:30:07.031Z"
   },
   {
    "duration": -566,
    "start_time": "2022-02-13T17:30:07.045Z"
   },
   {
    "duration": -579,
    "start_time": "2022-02-13T17:30:07.059Z"
   },
   {
    "duration": -591,
    "start_time": "2022-02-13T17:30:07.072Z"
   },
   {
    "duration": -603,
    "start_time": "2022-02-13T17:30:07.085Z"
   },
   {
    "duration": -616,
    "start_time": "2022-02-13T17:30:07.099Z"
   },
   {
    "duration": -630,
    "start_time": "2022-02-13T17:30:07.114Z"
   },
   {
    "duration": -661,
    "start_time": "2022-02-13T17:30:07.145Z"
   },
   {
    "duration": -672,
    "start_time": "2022-02-13T17:30:07.157Z"
   },
   {
    "duration": -713,
    "start_time": "2022-02-13T17:30:07.199Z"
   },
   {
    "duration": -757,
    "start_time": "2022-02-13T17:30:07.244Z"
   },
   {
    "duration": -787,
    "start_time": "2022-02-13T17:30:07.275Z"
   },
   {
    "duration": -817,
    "start_time": "2022-02-13T17:30:07.306Z"
   },
   {
    "duration": -871,
    "start_time": "2022-02-13T17:30:07.361Z"
   },
   {
    "duration": -906,
    "start_time": "2022-02-13T17:30:07.397Z"
   },
   {
    "duration": -957,
    "start_time": "2022-02-13T17:30:07.449Z"
   },
   {
    "duration": -1003,
    "start_time": "2022-02-13T17:30:07.496Z"
   },
   {
    "duration": -1017,
    "start_time": "2022-02-13T17:30:07.511Z"
   },
   {
    "duration": -1029,
    "start_time": "2022-02-13T17:30:07.524Z"
   },
   {
    "duration": -1042,
    "start_time": "2022-02-13T17:30:07.537Z"
   },
   {
    "duration": -1053,
    "start_time": "2022-02-13T17:30:07.549Z"
   },
   {
    "duration": -1065,
    "start_time": "2022-02-13T17:30:07.562Z"
   },
   {
    "duration": -1075,
    "start_time": "2022-02-13T17:30:07.573Z"
   },
   {
    "duration": -1087,
    "start_time": "2022-02-13T17:30:07.586Z"
   },
   {
    "duration": -1118,
    "start_time": "2022-02-13T17:30:07.618Z"
   },
   {
    "duration": -1129,
    "start_time": "2022-02-13T17:30:07.631Z"
   },
   {
    "duration": -1139,
    "start_time": "2022-02-13T17:30:07.642Z"
   },
   {
    "duration": -1151,
    "start_time": "2022-02-13T17:30:07.656Z"
   },
   {
    "duration": -1163,
    "start_time": "2022-02-13T17:30:07.669Z"
   },
   {
    "duration": -1215,
    "start_time": "2022-02-13T17:30:07.722Z"
   },
   {
    "duration": -1245,
    "start_time": "2022-02-13T17:30:07.754Z"
   },
   {
    "duration": -1295,
    "start_time": "2022-02-13T17:30:07.807Z"
   },
   {
    "duration": 62,
    "start_time": "2022-02-13T17:30:06.513Z"
   },
   {
    "duration": 27,
    "start_time": "2022-02-13T17:30:06.577Z"
   },
   {
    "duration": 7,
    "start_time": "2022-02-13T17:30:06.605Z"
   },
   {
    "duration": 57,
    "start_time": "2022-02-13T17:30:06.614Z"
   },
   {
    "duration": 4,
    "start_time": "2022-02-13T17:30:06.673Z"
   },
   {
    "duration": 18,
    "start_time": "2022-02-13T17:30:06.678Z"
   },
   {
    "duration": 178,
    "start_time": "2022-02-13T17:30:06.698Z"
   },
   {
    "duration": 5,
    "start_time": "2022-02-13T17:30:06.879Z"
   },
   {
    "duration": 245,
    "start_time": "2022-02-13T17:30:06.886Z"
   },
   {
    "duration": 214,
    "start_time": "2022-02-13T17:30:07.133Z"
   },
   {
    "duration": 173,
    "start_time": "2022-02-13T17:30:07.349Z"
   },
   {
    "duration": 230,
    "start_time": "2022-02-13T17:30:07.523Z"
   },
   {
    "duration": 4,
    "start_time": "2022-02-13T17:30:07.755Z"
   },
   {
    "duration": 313,
    "start_time": "2022-02-13T17:30:07.760Z"
   },
   {
    "duration": 5,
    "start_time": "2022-02-13T17:30:08.075Z"
   },
   {
    "duration": 316,
    "start_time": "2022-02-13T17:30:08.081Z"
   },
   {
    "duration": 332,
    "start_time": "2022-02-13T17:30:08.399Z"
   },
   {
    "duration": -1942,
    "start_time": "2022-02-13T17:30:10.675Z"
   },
   {
    "duration": -1952,
    "start_time": "2022-02-13T17:30:10.686Z"
   },
   {
    "duration": -1965,
    "start_time": "2022-02-13T17:30:10.700Z"
   },
   {
    "duration": -1976,
    "start_time": "2022-02-13T17:30:10.712Z"
   },
   {
    "duration": 7,
    "start_time": "2022-02-13T17:51:57.007Z"
   },
   {
    "duration": 8,
    "start_time": "2022-02-13T17:53:26.387Z"
   },
   {
    "duration": 12,
    "start_time": "2022-02-13T17:53:28.781Z"
   },
   {
    "duration": 11,
    "start_time": "2022-02-13T17:53:46.265Z"
   },
   {
    "duration": 11,
    "start_time": "2022-02-13T17:54:08.739Z"
   },
   {
    "duration": 28,
    "start_time": "2022-02-13T17:55:33.096Z"
   },
   {
    "duration": 89,
    "start_time": "2022-02-13T18:00:00.990Z"
   },
   {
    "duration": 10,
    "start_time": "2022-02-13T18:00:09.641Z"
   },
   {
    "duration": 78,
    "start_time": "2022-02-13T18:03:44.828Z"
   },
   {
    "duration": 11,
    "start_time": "2022-02-13T18:03:49.315Z"
   },
   {
    "duration": 74,
    "start_time": "2022-02-13T18:07:49.670Z"
   },
   {
    "duration": 18,
    "start_time": "2022-02-13T18:07:52.883Z"
   },
   {
    "duration": 5,
    "start_time": "2022-02-13T18:08:10.594Z"
   },
   {
    "duration": 14,
    "start_time": "2022-02-13T18:08:13.049Z"
   },
   {
    "duration": 331,
    "start_time": "2022-02-13T18:26:40.550Z"
   },
   {
    "duration": 6379,
    "start_time": "2022-02-13T18:26:50.238Z"
   },
   {
    "duration": 337,
    "start_time": "2022-02-13T18:27:37.782Z"
   },
   {
    "duration": 339,
    "start_time": "2022-02-13T18:30:06.113Z"
   },
   {
    "duration": 2,
    "start_time": "2022-02-13T18:31:01.142Z"
   },
   {
    "duration": 94,
    "start_time": "2022-02-13T18:31:01.148Z"
   },
   {
    "duration": 24,
    "start_time": "2022-02-13T18:31:01.244Z"
   },
   {
    "duration": 18,
    "start_time": "2022-02-13T18:31:01.270Z"
   },
   {
    "duration": 10,
    "start_time": "2022-02-13T18:31:01.290Z"
   },
   {
    "duration": 18,
    "start_time": "2022-02-13T18:31:01.302Z"
   },
   {
    "duration": 93,
    "start_time": "2022-02-13T18:31:01.321Z"
   },
   {
    "duration": 4,
    "start_time": "2022-02-13T18:31:01.416Z"
   },
   {
    "duration": 17,
    "start_time": "2022-02-13T18:31:01.422Z"
   },
   {
    "duration": 15,
    "start_time": "2022-02-13T18:31:01.441Z"
   },
   {
    "duration": 25,
    "start_time": "2022-02-13T18:31:01.458Z"
   },
   {
    "duration": 33,
    "start_time": "2022-02-13T18:31:01.485Z"
   },
   {
    "duration": 9,
    "start_time": "2022-02-13T18:31:01.519Z"
   },
   {
    "duration": 17,
    "start_time": "2022-02-13T18:31:01.530Z"
   },
   {
    "duration": 23,
    "start_time": "2022-02-13T18:31:01.549Z"
   },
   {
    "duration": 6,
    "start_time": "2022-02-13T18:31:01.574Z"
   },
   {
    "duration": 23,
    "start_time": "2022-02-13T18:31:01.581Z"
   },
   {
    "duration": 29,
    "start_time": "2022-02-13T18:31:01.605Z"
   },
   {
    "duration": 7,
    "start_time": "2022-02-13T18:31:01.636Z"
   },
   {
    "duration": 20,
    "start_time": "2022-02-13T18:31:01.645Z"
   },
   {
    "duration": 23,
    "start_time": "2022-02-13T18:31:01.667Z"
   },
   {
    "duration": 28,
    "start_time": "2022-02-13T18:31:01.692Z"
   },
   {
    "duration": 15,
    "start_time": "2022-02-13T18:31:01.722Z"
   },
   {
    "duration": 21,
    "start_time": "2022-02-13T18:31:01.740Z"
   },
   {
    "duration": 14,
    "start_time": "2022-02-13T18:31:01.763Z"
   },
   {
    "duration": 31,
    "start_time": "2022-02-13T18:31:01.779Z"
   },
   {
    "duration": 40,
    "start_time": "2022-02-13T18:31:01.812Z"
   },
   {
    "duration": 35,
    "start_time": "2022-02-13T18:31:01.854Z"
   },
   {
    "duration": 5,
    "start_time": "2022-02-13T18:31:01.891Z"
   },
   {
    "duration": 52,
    "start_time": "2022-02-13T18:31:01.897Z"
   },
   {
    "duration": 4,
    "start_time": "2022-02-13T18:31:01.951Z"
   },
   {
    "duration": 30,
    "start_time": "2022-02-13T18:31:01.957Z"
   },
   {
    "duration": 11,
    "start_time": "2022-02-13T18:31:01.989Z"
   },
   {
    "duration": 54,
    "start_time": "2022-02-13T18:31:02.002Z"
   },
   {
    "duration": 626,
    "start_time": "2022-02-13T18:31:02.058Z"
   },
   {
    "duration": 19,
    "start_time": "2022-02-13T18:31:02.686Z"
   },
   {
    "duration": 14,
    "start_time": "2022-02-13T18:31:02.707Z"
   },
   {
    "duration": 239,
    "start_time": "2022-02-13T18:31:02.723Z"
   },
   {
    "duration": 310,
    "start_time": "2022-02-13T18:31:02.963Z"
   },
   {
    "duration": 8,
    "start_time": "2022-02-13T18:31:03.275Z"
   },
   {
    "duration": 302,
    "start_time": "2022-02-13T18:31:03.285Z"
   },
   {
    "duration": 187,
    "start_time": "2022-02-13T18:31:03.589Z"
   },
   {
    "duration": 254,
    "start_time": "2022-02-13T18:31:03.777Z"
   },
   {
    "duration": 312,
    "start_time": "2022-02-13T18:31:04.033Z"
   },
   {
    "duration": 8,
    "start_time": "2022-02-13T18:31:04.347Z"
   },
   {
    "duration": 140,
    "start_time": "2022-02-13T18:31:04.356Z"
   },
   {
    "duration": 8,
    "start_time": "2022-02-13T18:31:04.500Z"
   },
   {
    "duration": 7,
    "start_time": "2022-02-13T18:31:04.510Z"
   },
   {
    "duration": 9,
    "start_time": "2022-02-13T18:31:04.519Z"
   },
   {
    "duration": 326,
    "start_time": "2022-02-13T18:31:04.530Z"
   },
   {
    "duration": 14,
    "start_time": "2022-02-13T18:31:04.858Z"
   },
   {
    "duration": 7,
    "start_time": "2022-02-13T18:31:04.874Z"
   },
   {
    "duration": 520,
    "start_time": "2022-02-13T18:31:04.883Z"
   },
   {
    "duration": 6,
    "start_time": "2022-02-13T18:31:05.404Z"
   },
   {
    "duration": 492,
    "start_time": "2022-02-13T18:31:05.411Z"
   },
   {
    "duration": 6,
    "start_time": "2022-02-13T18:31:05.905Z"
   },
   {
    "duration": 491,
    "start_time": "2022-02-13T18:31:05.912Z"
   },
   {
    "duration": 153,
    "start_time": "2022-02-13T18:31:06.405Z"
   },
   {
    "duration": 169,
    "start_time": "2022-02-13T18:31:06.560Z"
   },
   {
    "duration": 187,
    "start_time": "2022-02-13T18:31:06.731Z"
   },
   {
    "duration": 182,
    "start_time": "2022-02-13T18:31:06.920Z"
   },
   {
    "duration": 4,
    "start_time": "2022-02-13T18:31:07.103Z"
   },
   {
    "duration": 5,
    "start_time": "2022-02-13T18:31:07.108Z"
   },
   {
    "duration": 4,
    "start_time": "2022-02-13T18:31:07.114Z"
   },
   {
    "duration": 11,
    "start_time": "2022-02-13T18:31:07.120Z"
   },
   {
    "duration": 2,
    "start_time": "2022-02-13T18:31:07.132Z"
   },
   {
    "duration": 38,
    "start_time": "2022-02-13T18:31:07.135Z"
   },
   {
    "duration": 17,
    "start_time": "2022-02-13T18:31:07.174Z"
   },
   {
    "duration": 8,
    "start_time": "2022-02-13T18:31:07.192Z"
   },
   {
    "duration": 7,
    "start_time": "2022-02-13T18:31:07.202Z"
   },
   {
    "duration": 6,
    "start_time": "2022-02-13T18:31:07.211Z"
   },
   {
    "duration": 10,
    "start_time": "2022-02-13T18:31:07.218Z"
   },
   {
    "duration": 182,
    "start_time": "2022-02-13T18:31:07.229Z"
   },
   {
    "duration": 5,
    "start_time": "2022-02-13T18:31:07.413Z"
   },
   {
    "duration": 222,
    "start_time": "2022-02-13T18:31:07.420Z"
   },
   {
    "duration": 223,
    "start_time": "2022-02-13T18:31:07.643Z"
   },
   {
    "duration": 244,
    "start_time": "2022-02-13T18:31:07.868Z"
   },
   {
    "duration": 241,
    "start_time": "2022-02-13T18:31:08.113Z"
   },
   {
    "duration": 16,
    "start_time": "2022-02-13T18:31:08.355Z"
   },
   {
    "duration": 277,
    "start_time": "2022-02-13T18:31:08.373Z"
   },
   {
    "duration": 5,
    "start_time": "2022-02-13T18:31:08.652Z"
   },
   {
    "duration": 319,
    "start_time": "2022-02-13T18:31:08.659Z"
   },
   {
    "duration": 163,
    "start_time": "2022-02-13T18:31:08.980Z"
   },
   {
    "duration": 6,
    "start_time": "2022-02-13T18:31:09.145Z"
   },
   {
    "duration": 334,
    "start_time": "2022-02-13T18:31:09.153Z"
   },
   {
    "duration": 165,
    "start_time": "2022-02-13T18:31:09.488Z"
   },
   {
    "duration": 4,
    "start_time": "2022-02-13T18:31:09.655Z"
   },
   {
    "duration": 10,
    "start_time": "2022-02-13T18:32:50.627Z"
   },
   {
    "duration": 1322,
    "start_time": "2022-02-13T18:32:54.610Z"
   },
   {
    "duration": 5,
    "start_time": "2022-02-13T18:33:19.417Z"
   },
   {
    "duration": 1329,
    "start_time": "2022-02-13T18:33:21.838Z"
   },
   {
    "duration": 332,
    "start_time": "2022-02-13T18:34:44.742Z"
   },
   {
    "duration": 2,
    "start_time": "2022-02-13T18:34:58.898Z"
   },
   {
    "duration": 780,
    "start_time": "2022-02-13T18:35:02.146Z"
   },
   {
    "duration": 2,
    "start_time": "2022-02-13T18:35:19.407Z"
   },
   {
    "duration": 59,
    "start_time": "2022-02-13T18:35:19.415Z"
   },
   {
    "duration": 21,
    "start_time": "2022-02-13T18:35:19.476Z"
   },
   {
    "duration": 12,
    "start_time": "2022-02-13T18:35:19.499Z"
   },
   {
    "duration": 11,
    "start_time": "2022-02-13T18:35:19.512Z"
   },
   {
    "duration": 11,
    "start_time": "2022-02-13T18:35:19.525Z"
   },
   {
    "duration": 98,
    "start_time": "2022-02-13T18:35:19.538Z"
   },
   {
    "duration": 4,
    "start_time": "2022-02-13T18:35:19.638Z"
   },
   {
    "duration": 29,
    "start_time": "2022-02-13T18:35:19.645Z"
   },
   {
    "duration": 4,
    "start_time": "2022-02-13T18:35:19.676Z"
   },
   {
    "duration": 6,
    "start_time": "2022-02-13T18:35:19.682Z"
   },
   {
    "duration": 10,
    "start_time": "2022-02-13T18:35:19.690Z"
   },
   {
    "duration": 4,
    "start_time": "2022-02-13T18:35:19.702Z"
   },
   {
    "duration": 8,
    "start_time": "2022-02-13T18:35:19.708Z"
   },
   {
    "duration": 7,
    "start_time": "2022-02-13T18:35:19.718Z"
   },
   {
    "duration": 45,
    "start_time": "2022-02-13T18:35:19.727Z"
   },
   {
    "duration": 4,
    "start_time": "2022-02-13T18:35:19.773Z"
   },
   {
    "duration": 24,
    "start_time": "2022-02-13T18:35:19.779Z"
   },
   {
    "duration": 1973,
    "start_time": "2022-02-13T18:35:19.805Z"
   },
   {
    "duration": -2194,
    "start_time": "2022-02-13T18:35:23.975Z"
   },
   {
    "duration": -2241,
    "start_time": "2022-02-13T18:35:24.023Z"
   },
   {
    "duration": -2273,
    "start_time": "2022-02-13T18:35:24.057Z"
   },
   {
    "duration": -2286,
    "start_time": "2022-02-13T18:35:24.070Z"
   },
   {
    "duration": -2299,
    "start_time": "2022-02-13T18:35:24.084Z"
   },
   {
    "duration": -2309,
    "start_time": "2022-02-13T18:35:24.095Z"
   },
   {
    "duration": -2321,
    "start_time": "2022-02-13T18:35:24.108Z"
   },
   {
    "duration": -2331,
    "start_time": "2022-02-13T18:35:24.119Z"
   },
   {
    "duration": -2343,
    "start_time": "2022-02-13T18:35:24.132Z"
   },
   {
    "duration": -2353,
    "start_time": "2022-02-13T18:35:24.143Z"
   },
   {
    "duration": -2387,
    "start_time": "2022-02-13T18:35:24.178Z"
   },
   {
    "duration": -2431,
    "start_time": "2022-02-13T18:35:24.223Z"
   },
   {
    "duration": -2509,
    "start_time": "2022-02-13T18:35:24.302Z"
   },
   {
    "duration": -2562,
    "start_time": "2022-02-13T18:35:24.356Z"
   },
   {
    "duration": -2614,
    "start_time": "2022-02-13T18:35:24.409Z"
   },
   {
    "duration": -2626,
    "start_time": "2022-02-13T18:35:24.422Z"
   },
   {
    "duration": -2639,
    "start_time": "2022-02-13T18:35:24.436Z"
   },
   {
    "duration": -2648,
    "start_time": "2022-02-13T18:35:24.447Z"
   },
   {
    "duration": -2660,
    "start_time": "2022-02-13T18:35:24.460Z"
   },
   {
    "duration": -2672,
    "start_time": "2022-02-13T18:35:24.472Z"
   },
   {
    "duration": -2684,
    "start_time": "2022-02-13T18:35:24.486Z"
   },
   {
    "duration": -2695,
    "start_time": "2022-02-13T18:35:24.498Z"
   },
   {
    "duration": -2728,
    "start_time": "2022-02-13T18:35:24.532Z"
   },
   {
    "duration": -2757,
    "start_time": "2022-02-13T18:35:24.562Z"
   },
   {
    "duration": -2817,
    "start_time": "2022-02-13T18:35:24.623Z"
   },
   {
    "duration": -2881,
    "start_time": "2022-02-13T18:35:24.688Z"
   },
   {
    "duration": -2931,
    "start_time": "2022-02-13T18:35:24.739Z"
   },
   {
    "duration": -2993,
    "start_time": "2022-02-13T18:35:24.802Z"
   },
   {
    "duration": -3025,
    "start_time": "2022-02-13T18:35:24.835Z"
   },
   {
    "duration": -3036,
    "start_time": "2022-02-13T18:35:24.847Z"
   },
   {
    "duration": -3048,
    "start_time": "2022-02-13T18:35:24.860Z"
   },
   {
    "duration": -3059,
    "start_time": "2022-02-13T18:35:24.872Z"
   },
   {
    "duration": -3071,
    "start_time": "2022-02-13T18:35:24.885Z"
   },
   {
    "duration": -3082,
    "start_time": "2022-02-13T18:35:24.897Z"
   },
   {
    "duration": -3094,
    "start_time": "2022-02-13T18:35:24.910Z"
   },
   {
    "duration": -3105,
    "start_time": "2022-02-13T18:35:24.922Z"
   },
   {
    "duration": -3139,
    "start_time": "2022-02-13T18:35:24.957Z"
   },
   {
    "duration": -3099,
    "start_time": "2022-02-13T18:35:24.969Z"
   },
   {
    "duration": -3113,
    "start_time": "2022-02-13T18:35:24.985Z"
   },
   {
    "duration": -3164,
    "start_time": "2022-02-13T18:35:25.036Z"
   },
   {
    "duration": -3230,
    "start_time": "2022-02-13T18:35:25.103Z"
   },
   {
    "duration": -3278,
    "start_time": "2022-02-13T18:35:25.152Z"
   },
   {
    "duration": -3327,
    "start_time": "2022-02-13T18:35:25.202Z"
   },
   {
    "duration": -3377,
    "start_time": "2022-02-13T18:35:25.253Z"
   },
   {
    "duration": -3425,
    "start_time": "2022-02-13T18:35:25.302Z"
   },
   {
    "duration": -3473,
    "start_time": "2022-02-13T18:35:25.351Z"
   },
   {
    "duration": -3524,
    "start_time": "2022-02-13T18:35:25.403Z"
   },
   {
    "duration": -3573,
    "start_time": "2022-02-13T18:35:25.453Z"
   },
   {
    "duration": -3626,
    "start_time": "2022-02-13T18:35:25.507Z"
   },
   {
    "duration": -3675,
    "start_time": "2022-02-13T18:35:25.556Z"
   },
   {
    "duration": -3722,
    "start_time": "2022-02-13T18:35:25.604Z"
   },
   {
    "duration": -3752,
    "start_time": "2022-02-13T18:35:25.635Z"
   },
   {
    "duration": -3766,
    "start_time": "2022-02-13T18:35:25.649Z"
   },
   {
    "duration": -3777,
    "start_time": "2022-02-13T18:35:25.661Z"
   },
   {
    "duration": -3789,
    "start_time": "2022-02-13T18:35:25.674Z"
   },
   {
    "duration": -3800,
    "start_time": "2022-02-13T18:35:25.685Z"
   },
   {
    "duration": -3813,
    "start_time": "2022-02-13T18:35:25.699Z"
   },
   {
    "duration": -3825,
    "start_time": "2022-02-13T18:35:25.712Z"
   },
   {
    "duration": -3839,
    "start_time": "2022-02-13T18:35:25.726Z"
   },
   {
    "duration": -3873,
    "start_time": "2022-02-13T18:35:25.761Z"
   },
   {
    "duration": -3885,
    "start_time": "2022-02-13T18:35:25.774Z"
   },
   {
    "duration": -3898,
    "start_time": "2022-02-13T18:35:25.787Z"
   },
   {
    "duration": -3910,
    "start_time": "2022-02-13T18:35:25.800Z"
   },
   {
    "duration": -3921,
    "start_time": "2022-02-13T18:35:25.812Z"
   },
   {
    "duration": -3934,
    "start_time": "2022-02-13T18:35:25.825Z"
   },
   {
    "duration": -3945,
    "start_time": "2022-02-13T18:35:25.837Z"
   },
   {
    "duration": -3958,
    "start_time": "2022-02-13T18:35:25.850Z"
   },
   {
    "duration": -3989,
    "start_time": "2022-02-13T18:35:25.882Z"
   },
   {
    "duration": 6685,
    "start_time": "2022-02-13T18:38:19.726Z"
   },
   {
    "duration": 5878,
    "start_time": "2022-02-13T18:41:55.198Z"
   },
   {
    "duration": 2,
    "start_time": "2022-02-13T18:42:32.069Z"
   },
   {
    "duration": 65,
    "start_time": "2022-02-13T18:42:32.075Z"
   },
   {
    "duration": 30,
    "start_time": "2022-02-13T18:42:32.143Z"
   },
   {
    "duration": 13,
    "start_time": "2022-02-13T18:42:32.175Z"
   },
   {
    "duration": 7,
    "start_time": "2022-02-13T18:42:32.190Z"
   },
   {
    "duration": 7,
    "start_time": "2022-02-13T18:42:32.199Z"
   },
   {
    "duration": 90,
    "start_time": "2022-02-13T18:42:32.208Z"
   },
   {
    "duration": 3,
    "start_time": "2022-02-13T18:42:32.300Z"
   },
   {
    "duration": 4,
    "start_time": "2022-02-13T18:42:32.306Z"
   },
   {
    "duration": 4,
    "start_time": "2022-02-13T18:42:32.311Z"
   },
   {
    "duration": 6,
    "start_time": "2022-02-13T18:42:32.317Z"
   },
   {
    "duration": 8,
    "start_time": "2022-02-13T18:42:32.324Z"
   },
   {
    "duration": 3,
    "start_time": "2022-02-13T18:42:32.334Z"
   },
   {
    "duration": 41,
    "start_time": "2022-02-13T18:42:32.338Z"
   },
   {
    "duration": 7,
    "start_time": "2022-02-13T18:42:32.381Z"
   },
   {
    "duration": 17,
    "start_time": "2022-02-13T18:42:32.390Z"
   },
   {
    "duration": 6,
    "start_time": "2022-02-13T18:42:32.409Z"
   },
   {
    "duration": 32,
    "start_time": "2022-02-13T18:42:32.416Z"
   },
   {
    "duration": 2,
    "start_time": "2022-02-13T18:42:32.450Z"
   },
   {
    "duration": 7,
    "start_time": "2022-02-13T18:42:32.453Z"
   },
   {
    "duration": 16,
    "start_time": "2022-02-13T18:42:32.461Z"
   },
   {
    "duration": 2,
    "start_time": "2022-02-13T18:42:32.479Z"
   },
   {
    "duration": 14,
    "start_time": "2022-02-13T18:42:32.483Z"
   },
   {
    "duration": 6,
    "start_time": "2022-02-13T18:42:32.500Z"
   },
   {
    "duration": 28,
    "start_time": "2022-02-13T18:42:32.508Z"
   },
   {
    "duration": 86,
    "start_time": "2022-02-13T18:42:32.538Z"
   },
   {
    "duration": 46,
    "start_time": "2022-02-13T18:42:32.626Z"
   },
   {
    "duration": 9,
    "start_time": "2022-02-13T18:42:32.674Z"
   },
   {
    "duration": 52,
    "start_time": "2022-02-13T18:42:32.684Z"
   },
   {
    "duration": 5,
    "start_time": "2022-02-13T18:42:32.738Z"
   },
   {
    "duration": 45,
    "start_time": "2022-02-13T18:42:32.745Z"
   },
   {
    "duration": 3,
    "start_time": "2022-02-13T18:42:32.792Z"
   },
   {
    "duration": 32,
    "start_time": "2022-02-13T18:42:32.797Z"
   },
   {
    "duration": 491,
    "start_time": "2022-02-13T18:42:32.830Z"
   },
   {
    "duration": 22,
    "start_time": "2022-02-13T18:42:33.323Z"
   },
   {
    "duration": 2,
    "start_time": "2022-02-13T18:42:33.348Z"
   },
   {
    "duration": 276,
    "start_time": "2022-02-13T18:42:33.352Z"
   },
   {
    "duration": 320,
    "start_time": "2022-02-13T18:42:33.630Z"
   },
   {
    "duration": 7,
    "start_time": "2022-02-13T18:42:33.952Z"
   },
   {
    "duration": 287,
    "start_time": "2022-02-13T18:42:33.971Z"
   },
   {
    "duration": 189,
    "start_time": "2022-02-13T18:42:34.260Z"
   },
   {
    "duration": 223,
    "start_time": "2022-02-13T18:42:34.451Z"
   },
   {
    "duration": 413,
    "start_time": "2022-02-13T18:42:34.675Z"
   },
   {
    "duration": 9,
    "start_time": "2022-02-13T18:42:35.090Z"
   },
   {
    "duration": 147,
    "start_time": "2022-02-13T18:42:35.100Z"
   },
   {
    "duration": 8,
    "start_time": "2022-02-13T18:42:35.249Z"
   },
   {
    "duration": 6,
    "start_time": "2022-02-13T18:42:35.272Z"
   },
   {
    "duration": 8,
    "start_time": "2022-02-13T18:42:35.280Z"
   },
   {
    "duration": 241,
    "start_time": "2022-02-13T18:42:35.290Z"
   },
   {
    "duration": 9,
    "start_time": "2022-02-13T18:42:35.533Z"
   },
   {
    "duration": 5,
    "start_time": "2022-02-13T18:42:35.543Z"
   },
   {
    "duration": 512,
    "start_time": "2022-02-13T18:42:35.572Z"
   },
   {
    "duration": 5,
    "start_time": "2022-02-13T18:42:36.085Z"
   },
   {
    "duration": 519,
    "start_time": "2022-02-13T18:42:36.091Z"
   },
   {
    "duration": 5,
    "start_time": "2022-02-13T18:42:36.611Z"
   },
   {
    "duration": 482,
    "start_time": "2022-02-13T18:42:36.617Z"
   },
   {
    "duration": 154,
    "start_time": "2022-02-13T18:42:37.100Z"
   },
   {
    "duration": 173,
    "start_time": "2022-02-13T18:42:37.256Z"
   },
   {
    "duration": 184,
    "start_time": "2022-02-13T18:42:37.430Z"
   },
   {
    "duration": 184,
    "start_time": "2022-02-13T18:42:37.616Z"
   },
   {
    "duration": 5,
    "start_time": "2022-02-13T18:42:37.801Z"
   },
   {
    "duration": 13,
    "start_time": "2022-02-13T18:42:37.807Z"
   },
   {
    "duration": 31,
    "start_time": "2022-02-13T18:42:37.821Z"
   },
   {
    "duration": 26,
    "start_time": "2022-02-13T18:42:37.854Z"
   },
   {
    "duration": 15,
    "start_time": "2022-02-13T18:42:37.881Z"
   },
   {
    "duration": 23,
    "start_time": "2022-02-13T18:42:37.897Z"
   },
   {
    "duration": 22,
    "start_time": "2022-02-13T18:42:37.922Z"
   },
   {
    "duration": 27,
    "start_time": "2022-02-13T18:42:37.945Z"
   },
   {
    "duration": 35,
    "start_time": "2022-02-13T18:42:37.973Z"
   },
   {
    "duration": 10,
    "start_time": "2022-02-13T18:42:38.012Z"
   },
   {
    "duration": 17,
    "start_time": "2022-02-13T18:42:38.023Z"
   },
   {
    "duration": 186,
    "start_time": "2022-02-13T18:42:38.042Z"
   },
   {
    "duration": 6,
    "start_time": "2022-02-13T18:42:38.230Z"
   },
   {
    "duration": 242,
    "start_time": "2022-02-13T18:42:38.238Z"
   },
   {
    "duration": 220,
    "start_time": "2022-02-13T18:42:38.482Z"
   },
   {
    "duration": 179,
    "start_time": "2022-02-13T18:42:38.704Z"
   },
   {
    "duration": 289,
    "start_time": "2022-02-13T18:42:38.884Z"
   },
   {
    "duration": 6,
    "start_time": "2022-02-13T18:42:39.175Z"
   },
   {
    "duration": 272,
    "start_time": "2022-02-13T18:42:39.183Z"
   },
   {
    "duration": 5,
    "start_time": "2022-02-13T18:42:39.457Z"
   },
   {
    "duration": 316,
    "start_time": "2022-02-13T18:42:39.463Z"
   },
   {
    "duration": 158,
    "start_time": "2022-02-13T18:42:39.781Z"
   },
   {
    "duration": 5,
    "start_time": "2022-02-13T18:42:39.941Z"
   },
   {
    "duration": 311,
    "start_time": "2022-02-13T18:42:39.947Z"
   },
   {
    "duration": 171,
    "start_time": "2022-02-13T18:42:40.260Z"
   },
   {
    "duration": 5,
    "start_time": "2022-02-13T18:42:40.432Z"
   },
   {
    "duration": 5,
    "start_time": "2022-02-13T18:59:26.143Z"
   },
   {
    "duration": 11,
    "start_time": "2022-02-13T18:59:32.917Z"
   },
   {
    "duration": 561,
    "start_time": "2022-02-13T19:03:48.693Z"
   },
   {
    "duration": 337,
    "start_time": "2022-02-13T19:03:58.525Z"
   },
   {
    "duration": 2,
    "start_time": "2022-02-13T19:10:15.287Z"
   },
   {
    "duration": 57,
    "start_time": "2022-02-13T19:10:15.294Z"
   },
   {
    "duration": 20,
    "start_time": "2022-02-13T19:10:15.353Z"
   },
   {
    "duration": 9,
    "start_time": "2022-02-13T19:10:15.375Z"
   },
   {
    "duration": 7,
    "start_time": "2022-02-13T19:10:15.386Z"
   },
   {
    "duration": 7,
    "start_time": "2022-02-13T19:10:15.395Z"
   },
   {
    "duration": 84,
    "start_time": "2022-02-13T19:10:15.404Z"
   },
   {
    "duration": 3,
    "start_time": "2022-02-13T19:10:15.490Z"
   },
   {
    "duration": 3,
    "start_time": "2022-02-13T19:10:15.495Z"
   },
   {
    "duration": 3,
    "start_time": "2022-02-13T19:10:15.500Z"
   },
   {
    "duration": 6,
    "start_time": "2022-02-13T19:10:15.504Z"
   },
   {
    "duration": 7,
    "start_time": "2022-02-13T19:10:15.512Z"
   },
   {
    "duration": 4,
    "start_time": "2022-02-13T19:10:15.520Z"
   },
   {
    "duration": 11,
    "start_time": "2022-02-13T19:10:15.525Z"
   },
   {
    "duration": 37,
    "start_time": "2022-02-13T19:10:15.538Z"
   },
   {
    "duration": 5,
    "start_time": "2022-02-13T19:10:15.576Z"
   },
   {
    "duration": 4,
    "start_time": "2022-02-13T19:10:15.583Z"
   },
   {
    "duration": 30,
    "start_time": "2022-02-13T19:10:15.588Z"
   },
   {
    "duration": 2,
    "start_time": "2022-02-13T19:10:15.620Z"
   },
   {
    "duration": 5,
    "start_time": "2022-02-13T19:10:15.624Z"
   },
   {
    "duration": 15,
    "start_time": "2022-02-13T19:10:15.631Z"
   },
   {
    "duration": 2,
    "start_time": "2022-02-13T19:10:15.647Z"
   },
   {
    "duration": 26,
    "start_time": "2022-02-13T19:10:15.651Z"
   },
   {
    "duration": 6,
    "start_time": "2022-02-13T19:10:15.679Z"
   },
   {
    "duration": 24,
    "start_time": "2022-02-13T19:10:15.687Z"
   },
   {
    "duration": 35,
    "start_time": "2022-02-13T19:10:15.713Z"
   },
   {
    "duration": 40,
    "start_time": "2022-02-13T19:10:15.750Z"
   },
   {
    "duration": 6,
    "start_time": "2022-02-13T19:10:15.792Z"
   },
   {
    "duration": 33,
    "start_time": "2022-02-13T19:10:15.799Z"
   },
   {
    "duration": 4,
    "start_time": "2022-02-13T19:10:15.833Z"
   },
   {
    "duration": 43,
    "start_time": "2022-02-13T19:10:15.838Z"
   },
   {
    "duration": 3,
    "start_time": "2022-02-13T19:10:15.883Z"
   },
   {
    "duration": 34,
    "start_time": "2022-02-13T19:10:15.888Z"
   },
   {
    "duration": 498,
    "start_time": "2022-02-13T19:10:15.924Z"
   },
   {
    "duration": 20,
    "start_time": "2022-02-13T19:10:16.424Z"
   },
   {
    "duration": 2,
    "start_time": "2022-02-13T19:10:16.446Z"
   },
   {
    "duration": 225,
    "start_time": "2022-02-13T19:10:16.449Z"
   },
   {
    "duration": 359,
    "start_time": "2022-02-13T19:10:16.676Z"
   },
   {
    "duration": 8,
    "start_time": "2022-02-13T19:10:17.037Z"
   },
   {
    "duration": 392,
    "start_time": "2022-02-13T19:10:17.047Z"
   },
   {
    "duration": 179,
    "start_time": "2022-02-13T19:10:17.441Z"
   },
   {
    "duration": 218,
    "start_time": "2022-02-13T19:10:17.622Z"
   },
   {
    "duration": 306,
    "start_time": "2022-02-13T19:10:17.842Z"
   },
   {
    "duration": 8,
    "start_time": "2022-02-13T19:10:18.149Z"
   },
   {
    "duration": 135,
    "start_time": "2022-02-13T19:10:18.159Z"
   },
   {
    "duration": 7,
    "start_time": "2022-02-13T19:10:18.296Z"
   },
   {
    "duration": 6,
    "start_time": "2022-02-13T19:10:18.305Z"
   },
   {
    "duration": 8,
    "start_time": "2022-02-13T19:10:18.314Z"
   },
   {
    "duration": 251,
    "start_time": "2022-02-13T19:10:18.324Z"
   },
   {
    "duration": 7,
    "start_time": "2022-02-13T19:10:18.577Z"
   },
   {
    "duration": 4,
    "start_time": "2022-02-13T19:10:18.586Z"
   },
   {
    "duration": 535,
    "start_time": "2022-02-13T19:10:18.592Z"
   },
   {
    "duration": 4,
    "start_time": "2022-02-13T19:10:19.129Z"
   },
   {
    "duration": 607,
    "start_time": "2022-02-13T19:10:19.135Z"
   },
   {
    "duration": 5,
    "start_time": "2022-02-13T19:10:19.743Z"
   },
   {
    "duration": 456,
    "start_time": "2022-02-13T19:10:19.750Z"
   },
   {
    "duration": 152,
    "start_time": "2022-02-13T19:10:20.207Z"
   },
   {
    "duration": 174,
    "start_time": "2022-02-13T19:10:20.361Z"
   },
   {
    "duration": 188,
    "start_time": "2022-02-13T19:10:20.536Z"
   },
   {
    "duration": 189,
    "start_time": "2022-02-13T19:10:20.725Z"
   },
   {
    "duration": 5,
    "start_time": "2022-02-13T19:10:20.915Z"
   },
   {
    "duration": 15,
    "start_time": "2022-02-13T19:10:20.921Z"
   },
   {
    "duration": 15,
    "start_time": "2022-02-13T19:10:20.937Z"
   },
   {
    "duration": 11,
    "start_time": "2022-02-13T19:10:20.954Z"
   },
   {
    "duration": 2,
    "start_time": "2022-02-13T19:10:20.972Z"
   },
   {
    "duration": 10,
    "start_time": "2022-02-13T19:10:20.976Z"
   },
   {
    "duration": 14,
    "start_time": "2022-02-13T19:10:20.988Z"
   },
   {
    "duration": 6,
    "start_time": "2022-02-13T19:10:21.004Z"
   },
   {
    "duration": 11,
    "start_time": "2022-02-13T19:10:21.012Z"
   },
   {
    "duration": 18,
    "start_time": "2022-02-13T19:10:21.024Z"
   },
   {
    "duration": 10,
    "start_time": "2022-02-13T19:10:21.044Z"
   },
   {
    "duration": 181,
    "start_time": "2022-02-13T19:10:21.056Z"
   },
   {
    "duration": 6,
    "start_time": "2022-02-13T19:10:21.239Z"
   },
   {
    "duration": 225,
    "start_time": "2022-02-13T19:10:21.247Z"
   },
   {
    "duration": 214,
    "start_time": "2022-02-13T19:10:21.474Z"
   },
   {
    "duration": 188,
    "start_time": "2022-02-13T19:10:21.690Z"
   },
   {
    "duration": 229,
    "start_time": "2022-02-13T19:10:21.880Z"
   },
   {
    "duration": 4,
    "start_time": "2022-02-13T19:10:22.111Z"
   },
   {
    "duration": 361,
    "start_time": "2022-02-13T19:10:22.117Z"
   },
   {
    "duration": 5,
    "start_time": "2022-02-13T19:10:22.479Z"
   },
   {
    "duration": 323,
    "start_time": "2022-02-13T19:10:22.485Z"
   },
   {
    "duration": 174,
    "start_time": "2022-02-13T19:10:22.810Z"
   },
   {
    "duration": 5,
    "start_time": "2022-02-13T19:10:22.985Z"
   },
   {
    "duration": 282,
    "start_time": "2022-02-13T19:10:22.991Z"
   },
   {
    "duration": 164,
    "start_time": "2022-02-13T19:10:23.275Z"
   },
   {
    "duration": 5,
    "start_time": "2022-02-13T19:10:23.441Z"
   },
   {
    "duration": 246,
    "start_time": "2022-02-13T19:15:48.919Z"
   },
   {
    "duration": 382,
    "start_time": "2022-02-13T19:16:29.817Z"
   },
   {
    "duration": 245,
    "start_time": "2022-02-13T19:16:45.690Z"
   },
   {
    "duration": 236,
    "start_time": "2022-02-13T19:17:08.453Z"
   },
   {
    "duration": 246,
    "start_time": "2022-02-13T19:18:04.960Z"
   },
   {
    "duration": 465,
    "start_time": "2022-02-13T19:18:33.698Z"
   },
   {
    "duration": 306,
    "start_time": "2022-02-13T19:18:53.554Z"
   },
   {
    "duration": 200,
    "start_time": "2022-02-13T19:19:41.356Z"
   },
   {
    "duration": 238,
    "start_time": "2022-02-13T19:19:54.504Z"
   },
   {
    "duration": 211,
    "start_time": "2022-02-13T19:20:04.307Z"
   },
   {
    "duration": 245,
    "start_time": "2022-02-13T19:20:31.080Z"
   },
   {
    "duration": 215,
    "start_time": "2022-02-13T19:20:54.562Z"
   },
   {
    "duration": 244,
    "start_time": "2022-02-13T19:21:21.032Z"
   },
   {
    "duration": 205,
    "start_time": "2022-02-13T19:21:45.580Z"
   },
   {
    "duration": 240,
    "start_time": "2022-02-13T19:27:39.111Z"
   },
   {
    "duration": 340,
    "start_time": "2022-02-13T19:27:48.763Z"
   },
   {
    "duration": 271,
    "start_time": "2022-02-13T19:27:58.878Z"
   },
   {
    "duration": 406,
    "start_time": "2022-02-13T19:28:07.098Z"
   },
   {
    "duration": 102,
    "start_time": "2022-02-13T19:28:37.021Z"
   },
   {
    "duration": 327,
    "start_time": "2022-02-13T19:28:48.202Z"
   },
   {
    "duration": 258,
    "start_time": "2022-02-13T19:29:10.892Z"
   },
   {
    "duration": 343,
    "start_time": "2022-02-13T19:32:23.473Z"
   },
   {
    "duration": 8653,
    "start_time": "2022-02-13T19:32:36.441Z"
   },
   {
    "duration": 16,
    "start_time": "2022-02-13T19:34:38.358Z"
   },
   {
    "duration": 3787,
    "start_time": "2022-02-13T19:35:14.803Z"
   },
   {
    "duration": 16,
    "start_time": "2022-02-13T19:36:31.425Z"
   },
   {
    "duration": 16,
    "start_time": "2022-02-13T19:38:08.578Z"
   },
   {
    "duration": 5,
    "start_time": "2022-02-13T19:45:27.712Z"
   },
   {
    "duration": 3,
    "start_time": "2022-02-13T19:50:24.512Z"
   },
   {
    "duration": 71,
    "start_time": "2022-02-13T19:50:24.519Z"
   },
   {
    "duration": 21,
    "start_time": "2022-02-13T19:50:24.592Z"
   },
   {
    "duration": 12,
    "start_time": "2022-02-13T19:50:24.615Z"
   },
   {
    "duration": 9,
    "start_time": "2022-02-13T19:50:24.629Z"
   },
   {
    "duration": 34,
    "start_time": "2022-02-13T19:50:24.640Z"
   },
   {
    "duration": 64,
    "start_time": "2022-02-13T19:50:24.676Z"
   },
   {
    "duration": 31,
    "start_time": "2022-02-13T19:50:24.742Z"
   },
   {
    "duration": 19,
    "start_time": "2022-02-13T19:50:24.776Z"
   },
   {
    "duration": 9,
    "start_time": "2022-02-13T19:50:24.797Z"
   },
   {
    "duration": 27,
    "start_time": "2022-02-13T19:50:24.808Z"
   },
   {
    "duration": 18,
    "start_time": "2022-02-13T19:50:24.836Z"
   },
   {
    "duration": 13,
    "start_time": "2022-02-13T19:50:24.855Z"
   },
   {
    "duration": 18,
    "start_time": "2022-02-13T19:50:24.870Z"
   },
   {
    "duration": 22,
    "start_time": "2022-02-13T19:50:24.890Z"
   },
   {
    "duration": 20,
    "start_time": "2022-02-13T19:50:24.913Z"
   },
   {
    "duration": 9,
    "start_time": "2022-02-13T19:50:24.934Z"
   },
   {
    "duration": 33,
    "start_time": "2022-02-13T19:50:24.944Z"
   },
   {
    "duration": 14,
    "start_time": "2022-02-13T19:50:24.978Z"
   },
   {
    "duration": 12,
    "start_time": "2022-02-13T19:50:24.994Z"
   },
   {
    "duration": 25,
    "start_time": "2022-02-13T19:50:25.008Z"
   },
   {
    "duration": 2,
    "start_time": "2022-02-13T19:50:25.035Z"
   },
   {
    "duration": 19,
    "start_time": "2022-02-13T19:50:25.040Z"
   },
   {
    "duration": 8,
    "start_time": "2022-02-13T19:50:25.061Z"
   },
   {
    "duration": 33,
    "start_time": "2022-02-13T19:50:25.071Z"
   },
   {
    "duration": 40,
    "start_time": "2022-02-13T19:50:25.105Z"
   },
   {
    "duration": 23,
    "start_time": "2022-02-13T19:50:25.171Z"
   },
   {
    "duration": 8,
    "start_time": "2022-02-13T19:50:25.196Z"
   },
   {
    "duration": 36,
    "start_time": "2022-02-13T19:50:25.205Z"
   },
   {
    "duration": 31,
    "start_time": "2022-02-13T19:50:25.242Z"
   },
   {
    "duration": 30,
    "start_time": "2022-02-13T19:50:25.276Z"
   },
   {
    "duration": 5,
    "start_time": "2022-02-13T19:50:25.308Z"
   },
   {
    "duration": 59,
    "start_time": "2022-02-13T19:50:25.314Z"
   },
   {
    "duration": 458,
    "start_time": "2022-02-13T19:50:25.374Z"
   },
   {
    "duration": 21,
    "start_time": "2022-02-13T19:50:25.833Z"
   },
   {
    "duration": 16,
    "start_time": "2022-02-13T19:50:25.856Z"
   },
   {
    "duration": 325,
    "start_time": "2022-02-13T19:50:25.873Z"
   },
   {
    "duration": 598,
    "start_time": "2022-02-13T19:50:26.200Z"
   },
   {
    "duration": 10,
    "start_time": "2022-02-13T19:50:26.803Z"
   },
   {
    "duration": 541,
    "start_time": "2022-02-13T19:50:26.816Z"
   },
   {
    "duration": 215,
    "start_time": "2022-02-13T19:50:27.359Z"
   },
   {
    "duration": 244,
    "start_time": "2022-02-13T19:50:27.575Z"
   },
   {
    "duration": 331,
    "start_time": "2022-02-13T19:50:27.820Z"
   },
   {
    "duration": 19,
    "start_time": "2022-02-13T19:50:28.152Z"
   },
   {
    "duration": 148,
    "start_time": "2022-02-13T19:50:28.173Z"
   },
   {
    "duration": 8,
    "start_time": "2022-02-13T19:50:28.322Z"
   },
   {
    "duration": 6,
    "start_time": "2022-02-13T19:50:28.331Z"
   },
   {
    "duration": 8,
    "start_time": "2022-02-13T19:50:28.338Z"
   },
   {
    "duration": 250,
    "start_time": "2022-02-13T19:50:28.371Z"
   },
   {
    "duration": 8,
    "start_time": "2022-02-13T19:50:28.623Z"
   },
   {
    "duration": 4,
    "start_time": "2022-02-13T19:50:28.632Z"
   },
   {
    "duration": 572,
    "start_time": "2022-02-13T19:50:28.637Z"
   },
   {
    "duration": 4,
    "start_time": "2022-02-13T19:50:29.211Z"
   },
   {
    "duration": 504,
    "start_time": "2022-02-13T19:50:29.217Z"
   },
   {
    "duration": 5,
    "start_time": "2022-02-13T19:50:29.722Z"
   },
   {
    "duration": 496,
    "start_time": "2022-02-13T19:50:29.728Z"
   },
   {
    "duration": 158,
    "start_time": "2022-02-13T19:50:30.226Z"
   },
   {
    "duration": 182,
    "start_time": "2022-02-13T19:50:30.385Z"
   },
   {
    "duration": 181,
    "start_time": "2022-02-13T19:50:30.572Z"
   },
   {
    "duration": 194,
    "start_time": "2022-02-13T19:50:30.754Z"
   },
   {
    "duration": 4,
    "start_time": "2022-02-13T19:50:30.950Z"
   },
   {
    "duration": 24,
    "start_time": "2022-02-13T19:50:30.956Z"
   },
   {
    "duration": 27,
    "start_time": "2022-02-13T19:50:30.981Z"
   },
   {
    "duration": 27,
    "start_time": "2022-02-13T19:50:31.009Z"
   },
   {
    "duration": 7,
    "start_time": "2022-02-13T19:50:31.038Z"
   },
   {
    "duration": 22,
    "start_time": "2022-02-13T19:50:31.047Z"
   },
   {
    "duration": 41,
    "start_time": "2022-02-13T19:50:31.071Z"
   },
   {
    "duration": 29,
    "start_time": "2022-02-13T19:50:31.114Z"
   },
   {
    "duration": 18,
    "start_time": "2022-02-13T19:50:31.145Z"
   },
   {
    "duration": 22,
    "start_time": "2022-02-13T19:50:31.165Z"
   },
   {
    "duration": 18,
    "start_time": "2022-02-13T19:50:31.189Z"
   },
   {
    "duration": 192,
    "start_time": "2022-02-13T19:50:31.209Z"
   },
   {
    "duration": 6,
    "start_time": "2022-02-13T19:50:31.405Z"
   },
   {
    "duration": 235,
    "start_time": "2022-02-13T19:50:31.412Z"
   },
   {
    "duration": 223,
    "start_time": "2022-02-13T19:50:31.648Z"
   },
   {
    "duration": 182,
    "start_time": "2022-02-13T19:50:31.873Z"
   },
   {
    "duration": 306,
    "start_time": "2022-02-13T19:50:32.057Z"
   },
   {
    "duration": 9,
    "start_time": "2022-02-13T19:50:32.365Z"
   },
   {
    "duration": 279,
    "start_time": "2022-02-13T19:50:32.376Z"
   },
   {
    "duration": 15,
    "start_time": "2022-02-13T19:50:32.657Z"
   },
   {
    "duration": 308,
    "start_time": "2022-02-13T19:50:32.674Z"
   },
   {
    "duration": 160,
    "start_time": "2022-02-13T19:50:32.984Z"
   },
   {
    "duration": 5,
    "start_time": "2022-02-13T19:50:33.146Z"
   },
   {
    "duration": 338,
    "start_time": "2022-02-13T19:50:33.152Z"
   },
   {
    "duration": 166,
    "start_time": "2022-02-13T19:50:33.491Z"
   },
   {
    "duration": 14,
    "start_time": "2022-02-13T19:50:33.658Z"
   },
   {
    "duration": 2,
    "start_time": "2022-02-13T19:55:30.104Z"
   },
   {
    "duration": 64,
    "start_time": "2022-02-13T19:55:30.110Z"
   },
   {
    "duration": 21,
    "start_time": "2022-02-13T19:55:30.176Z"
   },
   {
    "duration": 10,
    "start_time": "2022-02-13T19:55:30.199Z"
   },
   {
    "duration": 7,
    "start_time": "2022-02-13T19:55:30.211Z"
   },
   {
    "duration": 7,
    "start_time": "2022-02-13T19:55:30.220Z"
   },
   {
    "duration": 85,
    "start_time": "2022-02-13T19:55:30.228Z"
   },
   {
    "duration": 3,
    "start_time": "2022-02-13T19:55:30.314Z"
   },
   {
    "duration": 7,
    "start_time": "2022-02-13T19:55:30.319Z"
   },
   {
    "duration": 6,
    "start_time": "2022-02-13T19:55:30.327Z"
   },
   {
    "duration": 6,
    "start_time": "2022-02-13T19:55:30.335Z"
   },
   {
    "duration": 9,
    "start_time": "2022-02-13T19:55:30.342Z"
   },
   {
    "duration": 20,
    "start_time": "2022-02-13T19:55:30.352Z"
   },
   {
    "duration": 6,
    "start_time": "2022-02-13T19:55:30.374Z"
   },
   {
    "duration": 11,
    "start_time": "2022-02-13T19:55:30.382Z"
   },
   {
    "duration": 8,
    "start_time": "2022-02-13T19:55:30.394Z"
   },
   {
    "duration": 17,
    "start_time": "2022-02-13T19:55:30.404Z"
   },
   {
    "duration": 38,
    "start_time": "2022-02-13T19:55:30.422Z"
   },
   {
    "duration": 2,
    "start_time": "2022-02-13T19:55:30.462Z"
   },
   {
    "duration": 19,
    "start_time": "2022-02-13T19:55:30.466Z"
   },
   {
    "duration": 20,
    "start_time": "2022-02-13T19:55:30.487Z"
   },
   {
    "duration": 6,
    "start_time": "2022-02-13T19:55:30.508Z"
   },
   {
    "duration": 20,
    "start_time": "2022-02-13T19:55:30.515Z"
   },
   {
    "duration": 13,
    "start_time": "2022-02-13T19:55:30.536Z"
   },
   {
    "duration": 31,
    "start_time": "2022-02-13T19:55:30.550Z"
   },
   {
    "duration": 39,
    "start_time": "2022-02-13T19:55:30.582Z"
   },
   {
    "duration": 49,
    "start_time": "2022-02-13T19:55:30.623Z"
   },
   {
    "duration": 7,
    "start_time": "2022-02-13T19:55:30.675Z"
   },
   {
    "duration": 33,
    "start_time": "2022-02-13T19:55:30.684Z"
   },
   {
    "duration": 6,
    "start_time": "2022-02-13T19:55:30.719Z"
   },
   {
    "duration": 50,
    "start_time": "2022-02-13T19:55:30.726Z"
   },
   {
    "duration": 15,
    "start_time": "2022-02-13T19:55:30.778Z"
   },
   {
    "duration": 34,
    "start_time": "2022-02-13T19:55:30.795Z"
   },
   {
    "duration": 526,
    "start_time": "2022-02-13T19:55:30.831Z"
   },
   {
    "duration": 36,
    "start_time": "2022-02-13T19:55:31.359Z"
   },
   {
    "duration": 3,
    "start_time": "2022-02-13T19:55:31.396Z"
   },
   {
    "duration": 254,
    "start_time": "2022-02-13T19:55:31.400Z"
   },
   {
    "duration": 387,
    "start_time": "2022-02-13T19:55:31.656Z"
   },
   {
    "duration": 8,
    "start_time": "2022-02-13T19:55:32.045Z"
   },
   {
    "duration": 334,
    "start_time": "2022-02-13T19:55:32.054Z"
   },
   {
    "duration": 217,
    "start_time": "2022-02-13T19:55:32.390Z"
   },
   {
    "duration": 249,
    "start_time": "2022-02-13T19:55:32.609Z"
   },
   {
    "duration": 318,
    "start_time": "2022-02-13T19:55:32.862Z"
   },
   {
    "duration": 8,
    "start_time": "2022-02-13T19:55:33.183Z"
   },
   {
    "duration": 141,
    "start_time": "2022-02-13T19:55:33.192Z"
   },
   {
    "duration": 8,
    "start_time": "2022-02-13T19:55:33.334Z"
   },
   {
    "duration": 4,
    "start_time": "2022-02-13T19:55:33.344Z"
   },
   {
    "duration": 24,
    "start_time": "2022-02-13T19:55:33.350Z"
   },
   {
    "duration": 241,
    "start_time": "2022-02-13T19:55:33.375Z"
   },
   {
    "duration": 6,
    "start_time": "2022-02-13T19:55:33.618Z"
   },
   {
    "duration": 4,
    "start_time": "2022-02-13T19:55:33.626Z"
   },
   {
    "duration": 472,
    "start_time": "2022-02-13T19:55:33.631Z"
   },
   {
    "duration": 5,
    "start_time": "2022-02-13T19:55:34.104Z"
   },
   {
    "duration": 540,
    "start_time": "2022-02-13T19:55:34.110Z"
   },
   {
    "duration": 4,
    "start_time": "2022-02-13T19:55:34.652Z"
   },
   {
    "duration": 466,
    "start_time": "2022-02-13T19:55:34.658Z"
   },
   {
    "duration": 158,
    "start_time": "2022-02-13T19:55:35.126Z"
   },
   {
    "duration": 172,
    "start_time": "2022-02-13T19:55:35.286Z"
   },
   {
    "duration": 184,
    "start_time": "2022-02-13T19:55:35.459Z"
   },
   {
    "duration": 182,
    "start_time": "2022-02-13T19:55:35.644Z"
   },
   {
    "duration": 4,
    "start_time": "2022-02-13T19:55:35.828Z"
   },
   {
    "duration": 4,
    "start_time": "2022-02-13T19:55:35.834Z"
   },
   {
    "duration": 5,
    "start_time": "2022-02-13T19:55:35.839Z"
   },
   {
    "duration": 34,
    "start_time": "2022-02-13T19:55:35.845Z"
   },
   {
    "duration": 2,
    "start_time": "2022-02-13T19:55:35.880Z"
   },
   {
    "duration": 9,
    "start_time": "2022-02-13T19:55:35.884Z"
   },
   {
    "duration": 14,
    "start_time": "2022-02-13T19:55:35.895Z"
   },
   {
    "duration": 7,
    "start_time": "2022-02-13T19:55:35.910Z"
   },
   {
    "duration": 9,
    "start_time": "2022-02-13T19:55:35.918Z"
   },
   {
    "duration": 8,
    "start_time": "2022-02-13T19:55:35.928Z"
   },
   {
    "duration": 9,
    "start_time": "2022-02-13T19:55:35.937Z"
   },
   {
    "duration": 187,
    "start_time": "2022-02-13T19:55:35.948Z"
   },
   {
    "duration": 6,
    "start_time": "2022-02-13T19:55:36.137Z"
   },
   {
    "duration": 250,
    "start_time": "2022-02-13T19:55:36.144Z"
   },
   {
    "duration": 238,
    "start_time": "2022-02-13T19:55:36.396Z"
   },
   {
    "duration": 194,
    "start_time": "2022-02-13T19:55:36.635Z"
   },
   {
    "duration": 348,
    "start_time": "2022-02-13T19:55:36.831Z"
   },
   {
    "duration": 5,
    "start_time": "2022-02-13T19:55:37.180Z"
   },
   {
    "duration": 370,
    "start_time": "2022-02-13T19:55:37.187Z"
   },
   {
    "duration": 5,
    "start_time": "2022-02-13T19:55:37.558Z"
   },
   {
    "duration": 318,
    "start_time": "2022-02-13T19:55:37.571Z"
   },
   {
    "duration": 150,
    "start_time": "2022-02-13T19:55:37.891Z"
   },
   {
    "duration": 5,
    "start_time": "2022-02-13T19:55:38.042Z"
   },
   {
    "duration": 338,
    "start_time": "2022-02-13T19:55:38.049Z"
   },
   {
    "duration": 184,
    "start_time": "2022-02-13T19:55:38.388Z"
   },
   {
    "duration": 9,
    "start_time": "2022-02-13T19:55:38.574Z"
   },
   {
    "duration": 109,
    "start_time": "2022-02-14T11:33:33.711Z"
   },
   {
    "duration": 521,
    "start_time": "2022-02-14T11:48:43.225Z"
   },
   {
    "duration": 835,
    "start_time": "2022-02-14T11:48:49.364Z"
   },
   {
    "duration": 85,
    "start_time": "2022-02-14T11:48:50.202Z"
   },
   {
    "duration": 44,
    "start_time": "2022-02-14T11:48:50.290Z"
   },
   {
    "duration": 32,
    "start_time": "2022-02-14T11:48:50.336Z"
   },
   {
    "duration": 11,
    "start_time": "2022-02-14T11:48:50.370Z"
   },
   {
    "duration": 17,
    "start_time": "2022-02-14T11:48:50.384Z"
   },
   {
    "duration": 179,
    "start_time": "2022-02-14T11:48:50.404Z"
   },
   {
    "duration": 4,
    "start_time": "2022-02-14T11:48:50.587Z"
   },
   {
    "duration": 6,
    "start_time": "2022-02-14T11:48:50.595Z"
   },
   {
    "duration": 6,
    "start_time": "2022-02-14T11:48:50.603Z"
   },
   {
    "duration": 9,
    "start_time": "2022-02-14T11:48:50.611Z"
   },
   {
    "duration": 41,
    "start_time": "2022-02-14T11:48:50.623Z"
   },
   {
    "duration": 6,
    "start_time": "2022-02-14T11:48:50.666Z"
   },
   {
    "duration": 12,
    "start_time": "2022-02-14T11:48:50.674Z"
   },
   {
    "duration": 10,
    "start_time": "2022-02-14T11:48:50.689Z"
   },
   {
    "duration": 9,
    "start_time": "2022-02-14T11:48:50.701Z"
   },
   {
    "duration": 5,
    "start_time": "2022-02-14T11:48:50.758Z"
   },
   {
    "duration": 42,
    "start_time": "2022-02-14T11:48:50.765Z"
   },
   {
    "duration": 10,
    "start_time": "2022-02-14T11:48:50.810Z"
   },
   {
    "duration": 4,
    "start_time": "2022-02-14T11:48:50.822Z"
   },
   {
    "duration": 16,
    "start_time": "2022-02-14T11:48:50.860Z"
   },
   {
    "duration": 3,
    "start_time": "2022-02-14T11:48:50.878Z"
   },
   {
    "duration": 14,
    "start_time": "2022-02-14T11:48:50.889Z"
   },
   {
    "duration": 11,
    "start_time": "2022-02-14T11:48:50.907Z"
   },
   {
    "duration": 50,
    "start_time": "2022-02-14T11:48:50.960Z"
   },
   {
    "duration": 106,
    "start_time": "2022-02-14T11:48:51.012Z"
   },
   {
    "duration": 59,
    "start_time": "2022-02-14T11:48:51.121Z"
   },
   {
    "duration": 9,
    "start_time": "2022-02-14T11:48:51.182Z"
   },
   {
    "duration": 87,
    "start_time": "2022-02-14T11:48:51.194Z"
   },
   {
    "duration": 8,
    "start_time": "2022-02-14T11:48:51.284Z"
   },
   {
    "duration": 33,
    "start_time": "2022-02-14T11:48:51.295Z"
   },
   {
    "duration": 31,
    "start_time": "2022-02-14T11:48:51.330Z"
   },
   {
    "duration": 56,
    "start_time": "2022-02-14T11:48:51.363Z"
   },
   {
    "duration": 982,
    "start_time": "2022-02-14T11:48:51.421Z"
   },
   {
    "duration": 54,
    "start_time": "2022-02-14T11:48:52.405Z"
   },
   {
    "duration": 114,
    "start_time": "2022-02-14T11:48:52.461Z"
   },
   {
    "duration": 483,
    "start_time": "2022-02-14T11:48:52.578Z"
   },
   {
    "duration": 627,
    "start_time": "2022-02-14T11:48:53.063Z"
   },
   {
    "duration": 13,
    "start_time": "2022-02-14T11:48:53.694Z"
   },
   {
    "duration": 627,
    "start_time": "2022-02-14T11:48:53.710Z"
   },
   {
    "duration": 406,
    "start_time": "2022-02-14T11:48:54.340Z"
   },
   {
    "duration": 471,
    "start_time": "2022-02-14T11:48:54.750Z"
   },
   {
    "duration": 603,
    "start_time": "2022-02-14T11:48:55.224Z"
   },
   {
    "duration": 12,
    "start_time": "2022-02-14T11:48:55.829Z"
   },
   {
    "duration": 247,
    "start_time": "2022-02-14T11:48:55.860Z"
   },
   {
    "duration": 12,
    "start_time": "2022-02-14T11:48:56.109Z"
   },
   {
    "duration": 37,
    "start_time": "2022-02-14T11:48:56.123Z"
   },
   {
    "duration": 101,
    "start_time": "2022-02-14T11:48:56.162Z"
   },
   {
    "duration": 463,
    "start_time": "2022-02-14T11:48:56.265Z"
   },
   {
    "duration": 11,
    "start_time": "2022-02-14T11:48:56.730Z"
   },
   {
    "duration": 20,
    "start_time": "2022-02-14T11:48:56.743Z"
   },
   {
    "duration": 716,
    "start_time": "2022-02-14T11:48:56.765Z"
   },
   {
    "duration": 7,
    "start_time": "2022-02-14T11:48:57.484Z"
   },
   {
    "duration": 1124,
    "start_time": "2022-02-14T11:48:57.494Z"
   },
   {
    "duration": 8,
    "start_time": "2022-02-14T11:48:58.621Z"
   },
   {
    "duration": 760,
    "start_time": "2022-02-14T11:48:58.631Z"
   },
   {
    "duration": 286,
    "start_time": "2022-02-14T11:48:59.393Z"
   },
   {
    "duration": 323,
    "start_time": "2022-02-14T11:48:59.681Z"
   },
   {
    "duration": 482,
    "start_time": "2022-02-14T11:49:00.007Z"
   },
   {
    "duration": 480,
    "start_time": "2022-02-14T11:49:00.492Z"
   },
   {
    "duration": 8,
    "start_time": "2022-02-14T11:49:00.975Z"
   },
   {
    "duration": 11,
    "start_time": "2022-02-14T11:49:00.986Z"
   },
   {
    "duration": 9,
    "start_time": "2022-02-14T11:49:01.000Z"
   },
   {
    "duration": 58,
    "start_time": "2022-02-14T11:49:01.012Z"
   },
   {
    "duration": 5,
    "start_time": "2022-02-14T11:49:01.073Z"
   },
   {
    "duration": 18,
    "start_time": "2022-02-14T11:49:01.081Z"
   },
   {
    "duration": 67,
    "start_time": "2022-02-14T11:49:01.102Z"
   },
   {
    "duration": 14,
    "start_time": "2022-02-14T11:49:01.180Z"
   },
   {
    "duration": 12,
    "start_time": "2022-02-14T11:49:01.197Z"
   },
   {
    "duration": 5,
    "start_time": "2022-02-14T11:49:01.212Z"
   },
   {
    "duration": 45,
    "start_time": "2022-02-14T11:49:01.220Z"
   },
   {
    "duration": 323,
    "start_time": "2022-02-14T11:49:01.267Z"
   },
   {
    "duration": 8,
    "start_time": "2022-02-14T11:49:01.593Z"
   },
   {
    "duration": 450,
    "start_time": "2022-02-14T11:49:01.604Z"
   },
   {
    "duration": 745,
    "start_time": "2022-02-14T11:49:02.060Z"
   },
   {
    "duration": 501,
    "start_time": "2022-02-14T11:49:02.808Z"
   },
   {
    "duration": 692,
    "start_time": "2022-02-14T11:49:03.312Z"
   },
   {
    "duration": 8,
    "start_time": "2022-02-14T11:49:04.006Z"
   },
   {
    "duration": 497,
    "start_time": "2022-02-14T11:49:04.016Z"
   },
   {
    "duration": 8,
    "start_time": "2022-02-14T11:49:04.515Z"
   },
   {
    "duration": 533,
    "start_time": "2022-02-14T11:49:04.526Z"
   },
   {
    "duration": 279,
    "start_time": "2022-02-14T11:49:05.062Z"
   },
   {
    "duration": 19,
    "start_time": "2022-02-14T11:49:05.344Z"
   },
   {
    "duration": 473,
    "start_time": "2022-02-14T11:49:05.366Z"
   },
   {
    "duration": 318,
    "start_time": "2022-02-14T11:49:05.842Z"
   },
   {
    "duration": 7,
    "start_time": "2022-02-14T11:49:06.163Z"
   },
   {
    "duration": 15,
    "start_time": "2022-02-14T12:36:50.739Z"
   },
   {
    "duration": 4,
    "start_time": "2022-02-14T12:37:34.810Z"
   },
   {
    "duration": 88,
    "start_time": "2022-02-14T12:37:34.816Z"
   },
   {
    "duration": 56,
    "start_time": "2022-02-14T12:37:34.907Z"
   },
   {
    "duration": 16,
    "start_time": "2022-02-14T12:37:34.965Z"
   },
   {
    "duration": 12,
    "start_time": "2022-02-14T12:37:34.983Z"
   },
   {
    "duration": 12,
    "start_time": "2022-02-14T12:37:34.997Z"
   },
   {
    "duration": 125,
    "start_time": "2022-02-14T12:37:35.059Z"
   },
   {
    "duration": 4,
    "start_time": "2022-02-14T12:37:35.187Z"
   },
   {
    "duration": 8,
    "start_time": "2022-02-14T12:37:35.193Z"
   },
   {
    "duration": 6,
    "start_time": "2022-02-14T12:37:35.203Z"
   },
   {
    "duration": 9,
    "start_time": "2022-02-14T12:37:35.211Z"
   },
   {
    "duration": 48,
    "start_time": "2022-02-14T12:37:35.222Z"
   },
   {
    "duration": 5,
    "start_time": "2022-02-14T12:37:35.272Z"
   },
   {
    "duration": 15,
    "start_time": "2022-02-14T12:37:35.279Z"
   },
   {
    "duration": 9,
    "start_time": "2022-02-14T12:37:35.296Z"
   },
   {
    "duration": 57,
    "start_time": "2022-02-14T12:37:35.308Z"
   },
   {
    "duration": 7,
    "start_time": "2022-02-14T12:37:35.367Z"
   },
   {
    "duration": 40,
    "start_time": "2022-02-14T12:37:35.377Z"
   },
   {
    "duration": 3,
    "start_time": "2022-02-14T12:37:35.426Z"
   },
   {
    "duration": 29,
    "start_time": "2022-02-14T12:37:35.432Z"
   },
   {
    "duration": 19,
    "start_time": "2022-02-14T12:37:35.464Z"
   },
   {
    "duration": 4,
    "start_time": "2022-02-14T12:37:35.486Z"
   },
   {
    "duration": 15,
    "start_time": "2022-02-14T12:37:35.493Z"
   },
   {
    "duration": 58,
    "start_time": "2022-02-14T12:37:35.511Z"
   },
   {
    "duration": 49,
    "start_time": "2022-02-14T12:37:35.572Z"
   },
   {
    "duration": 68,
    "start_time": "2022-02-14T12:37:35.660Z"
   },
   {
    "duration": 60,
    "start_time": "2022-02-14T12:37:35.731Z"
   },
   {
    "duration": 11,
    "start_time": "2022-02-14T12:37:35.795Z"
   },
   {
    "duration": 87,
    "start_time": "2022-02-14T12:37:35.809Z"
   },
   {
    "duration": 8,
    "start_time": "2022-02-14T12:37:35.899Z"
   },
   {
    "duration": 54,
    "start_time": "2022-02-14T12:37:35.910Z"
   },
   {
    "duration": 7,
    "start_time": "2022-02-14T12:37:35.967Z"
   },
   {
    "duration": 82,
    "start_time": "2022-02-14T12:37:35.977Z"
   },
   {
    "duration": 893,
    "start_time": "2022-02-14T12:37:36.063Z"
   },
   {
    "duration": 36,
    "start_time": "2022-02-14T12:37:36.960Z"
   },
   {
    "duration": 3,
    "start_time": "2022-02-14T12:37:36.999Z"
   },
   {
    "duration": 450,
    "start_time": "2022-02-14T12:37:37.004Z"
   },
   {
    "duration": 672,
    "start_time": "2022-02-14T12:37:37.460Z"
   },
   {
    "duration": 29,
    "start_time": "2022-02-14T12:37:38.134Z"
   },
   {
    "duration": 596,
    "start_time": "2022-02-14T12:37:38.165Z"
   },
   {
    "duration": 369,
    "start_time": "2022-02-14T12:37:38.763Z"
   },
   {
    "duration": 440,
    "start_time": "2022-02-14T12:37:39.135Z"
   },
   {
    "duration": 592,
    "start_time": "2022-02-14T12:37:39.578Z"
   },
   {
    "duration": 13,
    "start_time": "2022-02-14T12:37:40.172Z"
   },
   {
    "duration": 254,
    "start_time": "2022-02-14T12:37:40.187Z"
   },
   {
    "duration": 19,
    "start_time": "2022-02-14T12:37:40.443Z"
   },
   {
    "duration": 8,
    "start_time": "2022-02-14T12:37:40.465Z"
   },
   {
    "duration": 11,
    "start_time": "2022-02-14T12:37:40.476Z"
   },
   {
    "duration": 494,
    "start_time": "2022-02-14T12:37:40.490Z"
   },
   {
    "duration": 12,
    "start_time": "2022-02-14T12:37:40.986Z"
   },
   {
    "duration": 7,
    "start_time": "2022-02-14T12:37:41.000Z"
   },
   {
    "duration": 798,
    "start_time": "2022-02-14T12:37:41.009Z"
   },
   {
    "duration": 7,
    "start_time": "2022-02-14T12:37:41.809Z"
   },
   {
    "duration": 782,
    "start_time": "2022-02-14T12:37:41.819Z"
   },
   {
    "duration": 8,
    "start_time": "2022-02-14T12:37:42.610Z"
   },
   {
    "duration": 756,
    "start_time": "2022-02-14T12:37:42.622Z"
   },
   {
    "duration": 282,
    "start_time": "2022-02-14T12:37:43.382Z"
   },
   {
    "duration": 351,
    "start_time": "2022-02-14T12:37:43.668Z"
   },
   {
    "duration": 322,
    "start_time": "2022-02-14T12:37:44.022Z"
   },
   {
    "duration": 334,
    "start_time": "2022-02-14T12:37:44.347Z"
   },
   {
    "duration": 8,
    "start_time": "2022-02-14T12:37:44.684Z"
   },
   {
    "duration": 8,
    "start_time": "2022-02-14T12:37:44.695Z"
   },
   {
    "duration": 6,
    "start_time": "2022-02-14T12:37:44.706Z"
   },
   {
    "duration": 53,
    "start_time": "2022-02-14T12:37:44.715Z"
   },
   {
    "duration": 4,
    "start_time": "2022-02-14T12:37:44.770Z"
   },
   {
    "duration": 15,
    "start_time": "2022-02-14T12:37:44.776Z"
   },
   {
    "duration": 25,
    "start_time": "2022-02-14T12:37:44.793Z"
   },
   {
    "duration": 48,
    "start_time": "2022-02-14T12:37:44.820Z"
   },
   {
    "duration": 10,
    "start_time": "2022-02-14T12:37:44.870Z"
   },
   {
    "duration": 6,
    "start_time": "2022-02-14T12:37:44.883Z"
   },
   {
    "duration": 7,
    "start_time": "2022-02-14T12:37:44.892Z"
   },
   {
    "duration": 332,
    "start_time": "2022-02-14T12:37:44.901Z"
   },
   {
    "duration": 9,
    "start_time": "2022-02-14T12:37:45.235Z"
   },
   {
    "duration": 446,
    "start_time": "2022-02-14T12:37:45.246Z"
   },
   {
    "duration": 458,
    "start_time": "2022-02-14T12:37:45.694Z"
   },
   {
    "duration": 360,
    "start_time": "2022-02-14T12:37:46.154Z"
   },
   {
    "duration": 525,
    "start_time": "2022-02-14T12:37:46.516Z"
   },
   {
    "duration": 18,
    "start_time": "2022-02-14T12:37:47.043Z"
   },
   {
    "duration": 420,
    "start_time": "2022-02-14T12:37:47.063Z"
   },
   {
    "duration": 9,
    "start_time": "2022-02-14T12:37:47.485Z"
   },
   {
    "duration": 508,
    "start_time": "2022-02-14T12:37:47.496Z"
   },
   {
    "duration": 284,
    "start_time": "2022-02-14T12:37:48.007Z"
   },
   {
    "duration": 7,
    "start_time": "2022-02-14T12:37:48.294Z"
   },
   {
    "duration": 546,
    "start_time": "2022-02-14T12:37:48.303Z"
   },
   {
    "duration": 311,
    "start_time": "2022-02-14T12:37:48.851Z"
   },
   {
    "duration": 8,
    "start_time": "2022-02-14T12:37:49.164Z"
   },
   {
    "duration": 433,
    "start_time": "2022-02-14T13:35:11.468Z"
   },
   {
    "duration": 128,
    "start_time": "2022-02-14T17:09:14.975Z"
   },
   {
    "duration": 639,
    "start_time": "2022-02-14T17:09:52.250Z"
   },
   {
    "duration": 973,
    "start_time": "2022-02-14T17:10:00.305Z"
   },
   {
    "duration": 99,
    "start_time": "2022-02-14T17:10:01.282Z"
   },
   {
    "duration": 76,
    "start_time": "2022-02-14T17:10:01.385Z"
   },
   {
    "duration": 16,
    "start_time": "2022-02-14T17:10:01.464Z"
   },
   {
    "duration": 31,
    "start_time": "2022-02-14T17:10:01.482Z"
   },
   {
    "duration": 43,
    "start_time": "2022-02-14T17:10:01.515Z"
   },
   {
    "duration": 168,
    "start_time": "2022-02-14T17:10:01.561Z"
   },
   {
    "duration": 5,
    "start_time": "2022-02-14T17:10:01.734Z"
   },
   {
    "duration": 23,
    "start_time": "2022-02-14T17:10:01.743Z"
   },
   {
    "duration": 23,
    "start_time": "2022-02-14T17:10:01.768Z"
   },
   {
    "duration": 19,
    "start_time": "2022-02-14T17:10:01.794Z"
   },
   {
    "duration": 32,
    "start_time": "2022-02-14T17:10:01.816Z"
   },
   {
    "duration": 58,
    "start_time": "2022-02-14T17:10:01.852Z"
   },
   {
    "duration": 41,
    "start_time": "2022-02-14T17:10:01.913Z"
   },
   {
    "duration": 13,
    "start_time": "2022-02-14T17:10:01.956Z"
   },
   {
    "duration": 25,
    "start_time": "2022-02-14T17:10:01.972Z"
   },
   {
    "duration": 77,
    "start_time": "2022-02-14T17:10:02.000Z"
   },
   {
    "duration": 62,
    "start_time": "2022-02-14T17:10:02.080Z"
   },
   {
    "duration": 54583,
    "start_time": "2022-02-14T17:10:02.144Z"
   },
   {
    "duration": 4,
    "start_time": "2022-02-14T17:10:56.730Z"
   },
   {
    "duration": 10,
    "start_time": "2022-02-14T17:10:56.737Z"
   },
   {
    "duration": 10,
    "start_time": "2022-02-14T17:10:56.750Z"
   },
   {
    "duration": 19,
    "start_time": "2022-02-14T17:10:56.768Z"
   },
   {
    "duration": 4,
    "start_time": "2022-02-14T17:10:56.792Z"
   },
   {
    "duration": 43,
    "start_time": "2022-02-14T17:10:56.798Z"
   },
   {
    "duration": 13,
    "start_time": "2022-02-14T17:10:56.843Z"
   },
   {
    "duration": 82,
    "start_time": "2022-02-14T17:10:56.859Z"
   },
   {
    "duration": 105,
    "start_time": "2022-02-14T17:10:56.944Z"
   },
   {
    "duration": 45,
    "start_time": "2022-02-14T17:10:57.051Z"
   },
   {
    "duration": 35,
    "start_time": "2022-02-14T17:10:57.099Z"
   },
   {
    "duration": 63,
    "start_time": "2022-02-14T17:10:57.136Z"
   },
   {
    "duration": 37,
    "start_time": "2022-02-14T17:10:57.202Z"
   },
   {
    "duration": 40,
    "start_time": "2022-02-14T17:10:57.242Z"
   },
   {
    "duration": 10,
    "start_time": "2022-02-14T17:10:57.286Z"
   },
   {
    "duration": 109,
    "start_time": "2022-02-14T17:10:57.300Z"
   },
   {
    "duration": 890,
    "start_time": "2022-02-14T17:10:57.412Z"
   },
   {
    "duration": 56,
    "start_time": "2022-02-14T17:10:58.305Z"
   },
   {
    "duration": 227,
    "start_time": "2022-02-14T17:10:58.364Z"
   },
   {
    "duration": 507,
    "start_time": "2022-02-14T17:10:58.594Z"
   },
   {
    "duration": 698,
    "start_time": "2022-02-14T17:10:59.103Z"
   },
   {
    "duration": 37,
    "start_time": "2022-02-14T17:10:59.804Z"
   },
   {
    "duration": 603,
    "start_time": "2022-02-14T17:10:59.844Z"
   },
   {
    "duration": 398,
    "start_time": "2022-02-14T17:11:00.449Z"
   },
   {
    "duration": 507,
    "start_time": "2022-02-14T17:11:00.850Z"
   },
   {
    "duration": 634,
    "start_time": "2022-02-14T17:11:01.360Z"
   },
   {
    "duration": 13,
    "start_time": "2022-02-14T17:11:01.997Z"
   },
   {
    "duration": 249,
    "start_time": "2022-02-14T17:11:02.031Z"
   },
   {
    "duration": 12,
    "start_time": "2022-02-14T17:11:02.282Z"
   },
   {
    "duration": 9,
    "start_time": "2022-02-14T17:11:02.296Z"
   },
   {
    "duration": 88,
    "start_time": "2022-02-14T17:11:02.332Z"
   },
   {
    "duration": 575,
    "start_time": "2022-02-14T17:11:02.432Z"
   },
   {
    "duration": 27,
    "start_time": "2022-02-14T17:11:03.010Z"
   },
   {
    "duration": 11,
    "start_time": "2022-02-14T17:11:03.040Z"
   },
   {
    "duration": 770,
    "start_time": "2022-02-14T17:11:03.053Z"
   },
   {
    "duration": 12,
    "start_time": "2022-02-14T17:11:03.825Z"
   },
   {
    "duration": 1009,
    "start_time": "2022-02-14T17:11:03.839Z"
   },
   {
    "duration": 7,
    "start_time": "2022-02-14T17:11:04.850Z"
   },
   {
    "duration": 728,
    "start_time": "2022-02-14T17:11:04.860Z"
   },
   {
    "duration": 294,
    "start_time": "2022-02-14T17:11:05.591Z"
   },
   {
    "duration": 387,
    "start_time": "2022-02-14T17:11:05.888Z"
   },
   {
    "duration": 393,
    "start_time": "2022-02-14T17:11:06.278Z"
   },
   {
    "duration": 358,
    "start_time": "2022-02-14T17:11:06.674Z"
   },
   {
    "duration": 6,
    "start_time": "2022-02-14T17:11:07.035Z"
   },
   {
    "duration": 9,
    "start_time": "2022-02-14T17:11:07.044Z"
   },
   {
    "duration": 7,
    "start_time": "2022-02-14T17:11:07.055Z"
   },
   {
    "duration": 18,
    "start_time": "2022-02-14T17:11:07.064Z"
   },
   {
    "duration": 50,
    "start_time": "2022-02-14T17:11:07.085Z"
   },
   {
    "duration": 14,
    "start_time": "2022-02-14T17:11:07.145Z"
   },
   {
    "duration": 26,
    "start_time": "2022-02-14T17:11:07.162Z"
   },
   {
    "duration": 44,
    "start_time": "2022-02-14T17:11:07.190Z"
   },
   {
    "duration": 13,
    "start_time": "2022-02-14T17:11:07.236Z"
   },
   {
    "duration": 11,
    "start_time": "2022-02-14T17:11:07.252Z"
   },
   {
    "duration": 286,
    "start_time": "2022-02-14T17:11:07.266Z"
   },
   {
    "duration": 351,
    "start_time": "2022-02-14T17:11:07.555Z"
   },
   {
    "duration": 24,
    "start_time": "2022-02-14T17:11:07.908Z"
   },
   {
    "duration": 469,
    "start_time": "2022-02-14T17:11:07.935Z"
   },
   {
    "duration": 573,
    "start_time": "2022-02-14T17:11:08.406Z"
   },
   {
    "duration": 369,
    "start_time": "2022-02-14T17:11:08.982Z"
   },
   {
    "duration": 754,
    "start_time": "2022-02-14T17:11:09.353Z"
   },
   {
    "duration": 9,
    "start_time": "2022-02-14T17:11:10.111Z"
   },
   {
    "duration": 461,
    "start_time": "2022-02-14T17:11:10.133Z"
   },
   {
    "duration": 7,
    "start_time": "2022-02-14T17:11:10.597Z"
   },
   {
    "duration": 525,
    "start_time": "2022-02-14T17:11:10.607Z"
   },
   {
    "duration": 300,
    "start_time": "2022-02-14T17:11:11.135Z"
   },
   {
    "duration": 9,
    "start_time": "2022-02-14T17:11:11.438Z"
   },
   {
    "duration": 500,
    "start_time": "2022-02-14T17:11:11.450Z"
   },
   {
    "duration": 384,
    "start_time": "2022-02-14T17:11:11.953Z"
   },
   {
    "duration": 10,
    "start_time": "2022-02-14T17:11:12.339Z"
   },
   {
    "duration": 124,
    "start_time": "2022-02-14T17:13:58.789Z"
   },
   {
    "duration": 40,
    "start_time": "2022-02-14T17:14:05.976Z"
   },
   {
    "duration": 42,
    "start_time": "2022-02-14T17:14:12.958Z"
   },
   {
    "duration": 34,
    "start_time": "2022-02-14T17:14:50.209Z"
   },
   {
    "duration": 34,
    "start_time": "2022-02-14T17:15:02.121Z"
   },
   {
    "duration": 127,
    "start_time": "2022-02-14T17:16:04.952Z"
   },
   {
    "duration": 4,
    "start_time": "2022-02-14T17:16:19.576Z"
   },
   {
    "duration": 80,
    "start_time": "2022-02-14T17:16:19.584Z"
   },
   {
    "duration": 36,
    "start_time": "2022-02-14T17:16:19.667Z"
   },
   {
    "duration": 39,
    "start_time": "2022-02-14T17:16:19.706Z"
   },
   {
    "duration": 13,
    "start_time": "2022-02-14T17:16:19.748Z"
   },
   {
    "duration": 13,
    "start_time": "2022-02-14T17:16:19.764Z"
   },
   {
    "duration": 157,
    "start_time": "2022-02-14T17:16:19.779Z"
   },
   {
    "duration": 6,
    "start_time": "2022-02-14T17:16:19.939Z"
   },
   {
    "duration": 7,
    "start_time": "2022-02-14T17:16:19.949Z"
   },
   {
    "duration": 13,
    "start_time": "2022-02-14T17:16:19.959Z"
   },
   {
    "duration": 10,
    "start_time": "2022-02-14T17:16:19.974Z"
   },
   {
    "duration": 15,
    "start_time": "2022-02-14T17:16:19.987Z"
   },
   {
    "duration": 30,
    "start_time": "2022-02-14T17:16:20.004Z"
   },
   {
    "duration": 17,
    "start_time": "2022-02-14T17:16:20.037Z"
   },
   {
    "duration": 9,
    "start_time": "2022-02-14T17:16:20.056Z"
   },
   {
    "duration": 11,
    "start_time": "2022-02-14T17:16:20.067Z"
   },
   {
    "duration": 9,
    "start_time": "2022-02-14T17:16:20.080Z"
   },
   {
    "duration": 74,
    "start_time": "2022-02-14T17:16:20.091Z"
   },
   {
    "duration": 105,
    "start_time": "2022-02-14T17:16:20.168Z"
   },
   {
    "duration": -1135,
    "start_time": "2022-02-14T17:16:21.412Z"
   },
   {
    "duration": -1213,
    "start_time": "2022-02-14T17:16:21.491Z"
   },
   {
    "duration": -1224,
    "start_time": "2022-02-14T17:16:21.504Z"
   },
   {
    "duration": -1237,
    "start_time": "2022-02-14T17:16:21.519Z"
   },
   {
    "duration": -1248,
    "start_time": "2022-02-14T17:16:21.531Z"
   },
   {
    "duration": -1260,
    "start_time": "2022-02-14T17:16:21.545Z"
   },
   {
    "duration": -1271,
    "start_time": "2022-02-14T17:16:21.557Z"
   },
   {
    "duration": -1283,
    "start_time": "2022-02-14T17:16:21.571Z"
   },
   {
    "duration": -1295,
    "start_time": "2022-02-14T17:16:21.584Z"
   },
   {
    "duration": -1325,
    "start_time": "2022-02-14T17:16:21.616Z"
   },
   {
    "duration": -1336,
    "start_time": "2022-02-14T17:16:21.628Z"
   },
   {
    "duration": -1349,
    "start_time": "2022-02-14T17:16:21.643Z"
   },
   {
    "duration": -1359,
    "start_time": "2022-02-14T17:16:21.655Z"
   },
   {
    "duration": -1370,
    "start_time": "2022-02-14T17:16:21.667Z"
   },
   {
    "duration": -1381,
    "start_time": "2022-02-14T17:16:21.679Z"
   },
   {
    "duration": -1392,
    "start_time": "2022-02-14T17:16:21.692Z"
   },
   {
    "duration": -1404,
    "start_time": "2022-02-14T17:16:21.705Z"
   },
   {
    "duration": -1430,
    "start_time": "2022-02-14T17:16:21.733Z"
   },
   {
    "duration": -1441,
    "start_time": "2022-02-14T17:16:21.745Z"
   },
   {
    "duration": -1452,
    "start_time": "2022-02-14T17:16:21.757Z"
   },
   {
    "duration": -1463,
    "start_time": "2022-02-14T17:16:21.770Z"
   },
   {
    "duration": -1476,
    "start_time": "2022-02-14T17:16:21.784Z"
   },
   {
    "duration": -1485,
    "start_time": "2022-02-14T17:16:21.795Z"
   },
   {
    "duration": -1497,
    "start_time": "2022-02-14T17:16:21.808Z"
   },
   {
    "duration": -1490,
    "start_time": "2022-02-14T17:16:21.821Z"
   },
   {
    "duration": -1525,
    "start_time": "2022-02-14T17:16:21.858Z"
   },
   {
    "duration": -1536,
    "start_time": "2022-02-14T17:16:21.873Z"
   },
   {
    "duration": 351,
    "start_time": "2022-02-14T17:16:20.340Z"
   },
   {
    "duration": 11,
    "start_time": "2022-02-14T17:16:20.693Z"
   },
   {
    "duration": 27,
    "start_time": "2022-02-14T17:16:20.707Z"
   },
   {
    "duration": 14,
    "start_time": "2022-02-14T17:16:20.737Z"
   },
   {
    "duration": 504,
    "start_time": "2022-02-14T17:16:20.753Z"
   },
   {
    "duration": 11,
    "start_time": "2022-02-14T17:16:21.259Z"
   },
   {
    "duration": 12,
    "start_time": "2022-02-14T17:16:21.272Z"
   },
   {
    "duration": 766,
    "start_time": "2022-02-14T17:16:21.286Z"
   },
   {
    "duration": 6,
    "start_time": "2022-02-14T17:16:22.054Z"
   },
   {
    "duration": 835,
    "start_time": "2022-02-14T17:16:22.062Z"
   },
   {
    "duration": 7,
    "start_time": "2022-02-14T17:16:22.900Z"
   },
   {
    "duration": 731,
    "start_time": "2022-02-14T17:16:22.909Z"
   },
   {
    "duration": 283,
    "start_time": "2022-02-14T17:16:23.643Z"
   },
   {
    "duration": -4549,
    "start_time": "2022-02-14T17:16:28.478Z"
   },
   {
    "duration": -4560,
    "start_time": "2022-02-14T17:16:28.491Z"
   },
   {
    "duration": -4582,
    "start_time": "2022-02-14T17:16:28.514Z"
   },
   {
    "duration": -4596,
    "start_time": "2022-02-14T17:16:28.530Z"
   },
   {
    "duration": -4609,
    "start_time": "2022-02-14T17:16:28.544Z"
   },
   {
    "duration": -4703,
    "start_time": "2022-02-14T17:16:28.639Z"
   },
   {
    "duration": -4725,
    "start_time": "2022-02-14T17:16:28.663Z"
   },
   {
    "duration": -4824,
    "start_time": "2022-02-14T17:16:28.763Z"
   },
   {
    "duration": -4873,
    "start_time": "2022-02-14T17:16:28.814Z"
   },
   {
    "duration": -4955,
    "start_time": "2022-02-14T17:16:28.897Z"
   },
   {
    "duration": -5005,
    "start_time": "2022-02-14T17:16:28.949Z"
   },
   {
    "duration": -5076,
    "start_time": "2022-02-14T17:16:29.022Z"
   },
   {
    "duration": -5166,
    "start_time": "2022-02-14T17:16:29.113Z"
   },
   {
    "duration": -5234,
    "start_time": "2022-02-14T17:16:29.183Z"
   },
   {
    "duration": -5304,
    "start_time": "2022-02-14T17:16:29.254Z"
   },
   {
    "duration": -5366,
    "start_time": "2022-02-14T17:16:29.317Z"
   },
   {
    "duration": -5469,
    "start_time": "2022-02-14T17:16:29.421Z"
   },
   {
    "duration": -5525,
    "start_time": "2022-02-14T17:16:29.479Z"
   },
   {
    "duration": -5562,
    "start_time": "2022-02-14T17:16:29.517Z"
   },
   {
    "duration": -5579,
    "start_time": "2022-02-14T17:16:29.535Z"
   },
   {
    "duration": -5589,
    "start_time": "2022-02-14T17:16:29.546Z"
   },
   {
    "duration": -5601,
    "start_time": "2022-02-14T17:16:29.560Z"
   },
   {
    "duration": -5611,
    "start_time": "2022-02-14T17:16:29.571Z"
   },
   {
    "duration": -5623,
    "start_time": "2022-02-14T17:16:29.584Z"
   },
   {
    "duration": -5634,
    "start_time": "2022-02-14T17:16:29.596Z"
   },
   {
    "duration": -5669,
    "start_time": "2022-02-14T17:16:29.633Z"
   },
   {
    "duration": -5679,
    "start_time": "2022-02-14T17:16:29.644Z"
   },
   {
    "duration": -5691,
    "start_time": "2022-02-14T17:16:29.658Z"
   },
   {
    "duration": -5702,
    "start_time": "2022-02-14T17:16:29.670Z"
   },
   {
    "duration": 79,
    "start_time": "2022-02-14T17:17:02.847Z"
   },
   {
    "duration": 85,
    "start_time": "2022-02-14T17:17:18.342Z"
   },
   {
    "duration": 91783,
    "start_time": "2022-02-14T17:17:23.379Z"
   },
   {
    "duration": 19,
    "start_time": "2022-02-14T17:18:55.166Z"
   },
   {
    "duration": 11,
    "start_time": "2022-02-14T17:19:30.943Z"
   },
   {
    "duration": 47,
    "start_time": "2022-02-14T17:19:38.295Z"
   },
   {
    "duration": 3,
    "start_time": "2022-02-14T17:21:31.910Z"
   },
   {
    "duration": 79,
    "start_time": "2022-02-14T17:21:31.918Z"
   },
   {
    "duration": 67,
    "start_time": "2022-02-14T17:21:32.001Z"
   },
   {
    "duration": 16,
    "start_time": "2022-02-14T17:21:32.071Z"
   },
   {
    "duration": 49,
    "start_time": "2022-02-14T17:21:32.091Z"
   },
   {
    "duration": 15,
    "start_time": "2022-02-14T17:21:32.143Z"
   },
   {
    "duration": 152,
    "start_time": "2022-02-14T17:21:32.160Z"
   },
   {
    "duration": 18,
    "start_time": "2022-02-14T17:21:32.315Z"
   },
   {
    "duration": 5,
    "start_time": "2022-02-14T17:21:32.337Z"
   },
   {
    "duration": 5,
    "start_time": "2022-02-14T17:21:32.345Z"
   },
   {
    "duration": 9,
    "start_time": "2022-02-14T17:21:32.352Z"
   },
   {
    "duration": 14,
    "start_time": "2022-02-14T17:21:32.363Z"
   },
   {
    "duration": 6,
    "start_time": "2022-02-14T17:21:32.380Z"
   },
   {
    "duration": 12,
    "start_time": "2022-02-14T17:21:32.433Z"
   },
   {
    "duration": 9,
    "start_time": "2022-02-14T17:21:32.448Z"
   },
   {
    "duration": 10,
    "start_time": "2022-02-14T17:21:32.460Z"
   },
   {
    "duration": 17,
    "start_time": "2022-02-14T17:21:32.473Z"
   },
   {
    "duration": 74,
    "start_time": "2022-02-14T17:21:32.492Z"
   },
   {
    "duration": 93482,
    "start_time": "2022-02-14T17:21:32.568Z"
   },
   {
    "duration": 3,
    "start_time": "2022-02-14T17:23:06.052Z"
   },
   {
    "duration": 9,
    "start_time": "2022-02-14T17:23:06.058Z"
   },
   {
    "duration": 8,
    "start_time": "2022-02-14T17:23:06.069Z"
   },
   {
    "duration": 19,
    "start_time": "2022-02-14T17:23:06.079Z"
   },
   {
    "duration": 3,
    "start_time": "2022-02-14T17:23:06.104Z"
   },
   {
    "duration": 27,
    "start_time": "2022-02-14T17:23:06.136Z"
   },
   {
    "duration": 12,
    "start_time": "2022-02-14T17:23:06.165Z"
   },
   {
    "duration": 76,
    "start_time": "2022-02-14T17:23:06.179Z"
   },
   {
    "duration": 88,
    "start_time": "2022-02-14T17:23:06.258Z"
   },
   {
    "duration": 37,
    "start_time": "2022-02-14T17:23:06.349Z"
   },
   {
    "duration": 9,
    "start_time": "2022-02-14T17:23:06.388Z"
   },
   {
    "duration": 87,
    "start_time": "2022-02-14T17:23:06.399Z"
   },
   {
    "duration": 6,
    "start_time": "2022-02-14T17:23:06.488Z"
   },
   {
    "duration": 43,
    "start_time": "2022-02-14T17:23:06.497Z"
   },
   {
    "duration": 5,
    "start_time": "2022-02-14T17:23:06.543Z"
   },
   {
    "duration": 55,
    "start_time": "2022-02-14T17:23:06.551Z"
   },
   {
    "duration": 869,
    "start_time": "2022-02-14T17:23:06.608Z"
   },
   {
    "duration": 55,
    "start_time": "2022-02-14T17:23:07.479Z"
   },
   {
    "duration": 3,
    "start_time": "2022-02-14T17:23:07.536Z"
   },
   {
    "duration": 464,
    "start_time": "2022-02-14T17:23:07.542Z"
   },
   {
    "duration": 686,
    "start_time": "2022-02-14T17:23:08.008Z"
   },
   {
    "duration": 11,
    "start_time": "2022-02-14T17:23:08.697Z"
   },
   {
    "duration": 639,
    "start_time": "2022-02-14T17:23:08.710Z"
   },
   {
    "duration": 464,
    "start_time": "2022-02-14T17:23:09.352Z"
   },
   {
    "duration": 478,
    "start_time": "2022-02-14T17:23:09.819Z"
   },
   {
    "duration": 660,
    "start_time": "2022-02-14T17:23:10.300Z"
   },
   {
    "duration": 13,
    "start_time": "2022-02-14T17:23:10.962Z"
   },
   {
    "duration": 378,
    "start_time": "2022-02-14T17:23:10.978Z"
   },
   {
    "duration": 16,
    "start_time": "2022-02-14T17:23:11.360Z"
   },
   {
    "duration": 10,
    "start_time": "2022-02-14T17:23:11.380Z"
   },
   {
    "duration": 46,
    "start_time": "2022-02-14T17:23:11.393Z"
   },
   {
    "duration": 528,
    "start_time": "2022-02-14T17:23:11.442Z"
   },
   {
    "duration": 11,
    "start_time": "2022-02-14T17:23:11.973Z"
   },
   {
    "duration": 8,
    "start_time": "2022-02-14T17:23:11.987Z"
   },
   {
    "duration": 872,
    "start_time": "2022-02-14T17:23:11.998Z"
   },
   {
    "duration": 7,
    "start_time": "2022-02-14T17:23:12.873Z"
   },
   {
    "duration": 976,
    "start_time": "2022-02-14T17:23:12.883Z"
   },
   {
    "duration": 8,
    "start_time": "2022-02-14T17:23:13.862Z"
   },
   {
    "duration": 906,
    "start_time": "2022-02-14T17:23:13.872Z"
   },
   {
    "duration": 335,
    "start_time": "2022-02-14T17:23:14.781Z"
   },
   {
    "duration": 418,
    "start_time": "2022-02-14T17:23:15.119Z"
   },
   {
    "duration": 383,
    "start_time": "2022-02-14T17:23:15.540Z"
   },
   {
    "duration": 420,
    "start_time": "2022-02-14T17:23:15.926Z"
   },
   {
    "duration": 8,
    "start_time": "2022-02-14T17:23:16.349Z"
   },
   {
    "duration": 14,
    "start_time": "2022-02-14T17:23:16.359Z"
   },
   {
    "duration": 7,
    "start_time": "2022-02-14T17:23:16.375Z"
   },
   {
    "duration": 60,
    "start_time": "2022-02-14T17:23:16.385Z"
   },
   {
    "duration": 4,
    "start_time": "2022-02-14T17:23:16.448Z"
   },
   {
    "duration": 17,
    "start_time": "2022-02-14T17:23:16.456Z"
   },
   {
    "duration": 62,
    "start_time": "2022-02-14T17:23:16.482Z"
   },
   {
    "duration": 10,
    "start_time": "2022-02-14T17:23:16.547Z"
   },
   {
    "duration": 10,
    "start_time": "2022-02-14T17:23:16.560Z"
   },
   {
    "duration": 6,
    "start_time": "2022-02-14T17:23:16.573Z"
   },
   {
    "duration": 8,
    "start_time": "2022-02-14T17:23:16.581Z"
   },
   {
    "duration": 341,
    "start_time": "2022-02-14T17:23:16.632Z"
   },
   {
    "duration": 12,
    "start_time": "2022-02-14T17:23:16.976Z"
   },
   {
    "duration": 494,
    "start_time": "2022-02-14T17:23:16.990Z"
   },
   {
    "duration": 474,
    "start_time": "2022-02-14T17:23:17.487Z"
   },
   {
    "duration": 412,
    "start_time": "2022-02-14T17:23:17.964Z"
   },
   {
    "duration": 516,
    "start_time": "2022-02-14T17:23:18.379Z"
   },
   {
    "duration": 11,
    "start_time": "2022-02-14T17:23:18.898Z"
   },
   {
    "duration": 463,
    "start_time": "2022-02-14T17:23:18.932Z"
   },
   {
    "duration": 8,
    "start_time": "2022-02-14T17:23:19.398Z"
   },
   {
    "duration": 505,
    "start_time": "2022-02-14T17:23:19.408Z"
   },
   {
    "duration": 303,
    "start_time": "2022-02-14T17:23:19.917Z"
   },
   {
    "duration": 12,
    "start_time": "2022-02-14T17:23:20.222Z"
   },
   {
    "duration": 800,
    "start_time": "2022-02-14T17:23:20.237Z"
   },
   {
    "duration": 455,
    "start_time": "2022-02-14T17:23:21.039Z"
   },
   {
    "duration": 11,
    "start_time": "2022-02-14T17:23:21.497Z"
   },
   {
    "duration": 70,
    "start_time": "2022-02-14T17:24:06.910Z"
   },
   {
    "duration": 3,
    "start_time": "2022-02-14T17:24:35.492Z"
   },
   {
    "duration": 92,
    "start_time": "2022-02-14T17:24:35.501Z"
   },
   {
    "duration": 145,
    "start_time": "2022-02-14T17:24:35.596Z"
   },
   {
    "duration": 19,
    "start_time": "2022-02-14T17:24:35.745Z"
   },
   {
    "duration": 11,
    "start_time": "2022-02-14T17:24:35.768Z"
   },
   {
    "duration": 58,
    "start_time": "2022-02-14T17:24:35.782Z"
   },
   {
    "duration": 124,
    "start_time": "2022-02-14T17:24:35.843Z"
   },
   {
    "duration": 6,
    "start_time": "2022-02-14T17:24:35.970Z"
   },
   {
    "duration": 12,
    "start_time": "2022-02-14T17:24:35.980Z"
   },
   {
    "duration": 39,
    "start_time": "2022-02-14T17:24:35.995Z"
   },
   {
    "duration": 9,
    "start_time": "2022-02-14T17:24:36.036Z"
   },
   {
    "duration": 19,
    "start_time": "2022-02-14T17:24:36.049Z"
   },
   {
    "duration": 7,
    "start_time": "2022-02-14T17:24:36.071Z"
   },
   {
    "duration": 51,
    "start_time": "2022-02-14T17:24:36.081Z"
   },
   {
    "duration": 13,
    "start_time": "2022-02-14T17:24:36.135Z"
   },
   {
    "duration": 10,
    "start_time": "2022-02-14T17:24:36.150Z"
   },
   {
    "duration": 8,
    "start_time": "2022-02-14T17:24:36.163Z"
   },
   {
    "duration": 87,
    "start_time": "2022-02-14T17:24:36.173Z"
   },
   {
    "duration": 112262,
    "start_time": "2022-02-14T17:24:36.263Z"
   },
   {
    "duration": 4,
    "start_time": "2022-02-14T17:26:28.541Z"
   },
   {
    "duration": 10,
    "start_time": "2022-02-14T17:26:28.548Z"
   },
   {
    "duration": 6,
    "start_time": "2022-02-14T17:26:28.561Z"
   },
   {
    "duration": 30,
    "start_time": "2022-02-14T17:26:28.570Z"
   },
   {
    "duration": 4,
    "start_time": "2022-02-14T17:26:28.610Z"
   },
   {
    "duration": 19,
    "start_time": "2022-02-14T17:26:28.632Z"
   },
   {
    "duration": 15,
    "start_time": "2022-02-14T17:26:28.654Z"
   },
   {
    "duration": 143,
    "start_time": "2022-02-14T17:26:28.672Z"
   },
   {
    "duration": 119,
    "start_time": "2022-02-14T17:26:28.819Z"
   },
   {
    "duration": 51,
    "start_time": "2022-02-14T17:26:28.942Z"
   },
   {
    "duration": 38,
    "start_time": "2022-02-14T17:26:28.996Z"
   },
   {
    "duration": 103,
    "start_time": "2022-02-14T17:26:29.037Z"
   },
   {
    "duration": 10,
    "start_time": "2022-02-14T17:26:29.143Z"
   },
   {
    "duration": 46,
    "start_time": "2022-02-14T17:26:29.156Z"
   },
   {
    "duration": 29,
    "start_time": "2022-02-14T17:26:29.204Z"
   },
   {
    "duration": 60,
    "start_time": "2022-02-14T17:26:29.235Z"
   },
   {
    "duration": 869,
    "start_time": "2022-02-14T17:26:29.297Z"
   },
   {
    "duration": 40,
    "start_time": "2022-02-14T17:26:30.168Z"
   },
   {
    "duration": 22,
    "start_time": "2022-02-14T17:26:30.211Z"
   },
   {
    "duration": 480,
    "start_time": "2022-02-14T17:26:30.236Z"
   },
   {
    "duration": 640,
    "start_time": "2022-02-14T17:26:30.719Z"
   },
   {
    "duration": 14,
    "start_time": "2022-02-14T17:26:31.361Z"
   },
   {
    "duration": 612,
    "start_time": "2022-02-14T17:26:31.377Z"
   },
   {
    "duration": 461,
    "start_time": "2022-02-14T17:26:31.991Z"
   },
   {
    "duration": 459,
    "start_time": "2022-02-14T17:26:32.455Z"
   },
   {
    "duration": 640,
    "start_time": "2022-02-14T17:26:32.916Z"
   },
   {
    "duration": 16,
    "start_time": "2022-02-14T17:26:33.560Z"
   },
   {
    "duration": 278,
    "start_time": "2022-02-14T17:26:33.579Z"
   },
   {
    "duration": 12,
    "start_time": "2022-02-14T17:26:33.860Z"
   },
   {
    "duration": 8,
    "start_time": "2022-02-14T17:26:33.875Z"
   },
   {
    "duration": 14,
    "start_time": "2022-02-14T17:26:33.885Z"
   },
   {
    "duration": 512,
    "start_time": "2022-02-14T17:26:33.902Z"
   },
   {
    "duration": 25,
    "start_time": "2022-02-14T17:26:34.418Z"
   },
   {
    "duration": 8,
    "start_time": "2022-02-14T17:26:34.447Z"
   },
   {
    "duration": 1123,
    "start_time": "2022-02-14T17:26:34.458Z"
   },
   {
    "duration": 8,
    "start_time": "2022-02-14T17:26:35.584Z"
   },
   {
    "duration": 779,
    "start_time": "2022-02-14T17:26:35.595Z"
   },
   {
    "duration": 7,
    "start_time": "2022-02-14T17:26:36.376Z"
   },
   {
    "duration": 741,
    "start_time": "2022-02-14T17:26:36.385Z"
   },
   {
    "duration": 273,
    "start_time": "2022-02-14T17:26:37.132Z"
   },
   {
    "duration": 491,
    "start_time": "2022-02-14T17:26:37.407Z"
   },
   {
    "duration": 344,
    "start_time": "2022-02-14T17:26:37.900Z"
   },
   {
    "duration": 348,
    "start_time": "2022-02-14T17:26:38.247Z"
   },
   {
    "duration": 8,
    "start_time": "2022-02-14T17:26:38.599Z"
   },
   {
    "duration": 29,
    "start_time": "2022-02-14T17:26:38.610Z"
   },
   {
    "duration": 7,
    "start_time": "2022-02-14T17:26:38.642Z"
   },
   {
    "duration": 20,
    "start_time": "2022-02-14T17:26:38.652Z"
   },
   {
    "duration": 3,
    "start_time": "2022-02-14T17:26:38.674Z"
   },
   {
    "duration": 54,
    "start_time": "2022-02-14T17:26:38.679Z"
   },
   {
    "duration": 28,
    "start_time": "2022-02-14T17:26:38.741Z"
   },
   {
    "duration": 12,
    "start_time": "2022-02-14T17:26:38.773Z"
   },
   {
    "duration": 44,
    "start_time": "2022-02-14T17:26:38.788Z"
   },
   {
    "duration": 6,
    "start_time": "2022-02-14T17:26:38.835Z"
   },
   {
    "duration": 10,
    "start_time": "2022-02-14T17:26:38.844Z"
   },
   {
    "duration": 331,
    "start_time": "2022-02-14T17:26:38.856Z"
   },
   {
    "duration": 9,
    "start_time": "2022-02-14T17:26:39.190Z"
   },
   {
    "duration": 456,
    "start_time": "2022-02-14T17:26:39.201Z"
   },
   {
    "duration": 464,
    "start_time": "2022-02-14T17:26:39.659Z"
   },
   {
    "duration": 359,
    "start_time": "2022-02-14T17:26:40.126Z"
   },
   {
    "duration": 465,
    "start_time": "2022-02-14T17:26:40.487Z"
   },
   {
    "duration": 10,
    "start_time": "2022-02-14T17:26:40.955Z"
   },
   {
    "duration": 506,
    "start_time": "2022-02-14T17:26:40.968Z"
   },
   {
    "duration": 8,
    "start_time": "2022-02-14T17:26:41.477Z"
   },
   {
    "duration": 530,
    "start_time": "2022-02-14T17:26:41.488Z"
   },
   {
    "duration": 308,
    "start_time": "2022-02-14T17:26:42.021Z"
   },
   {
    "duration": 8,
    "start_time": "2022-02-14T17:26:42.332Z"
   },
   {
    "duration": 563,
    "start_time": "2022-02-14T17:26:42.343Z"
   },
   {
    "duration": 482,
    "start_time": "2022-02-14T17:26:42.910Z"
   },
   {
    "duration": 8,
    "start_time": "2022-02-14T17:26:43.394Z"
   },
   {
    "duration": 71,
    "start_time": "2022-02-14T17:26:43.404Z"
   },
   {
    "duration": 3,
    "start_time": "2022-02-14T17:26:45.124Z"
   },
   {
    "duration": 115,
    "start_time": "2022-02-14T17:26:45.133Z"
   },
   {
    "duration": 109,
    "start_time": "2022-02-14T17:26:45.251Z"
   },
   {
    "duration": 23,
    "start_time": "2022-02-14T17:26:45.364Z"
   },
   {
    "duration": 48,
    "start_time": "2022-02-14T17:26:45.390Z"
   },
   {
    "duration": 11,
    "start_time": "2022-02-14T17:26:45.441Z"
   },
   {
    "duration": 192,
    "start_time": "2022-02-14T17:26:45.456Z"
   },
   {
    "duration": 6,
    "start_time": "2022-02-14T17:26:45.651Z"
   },
   {
    "duration": 6,
    "start_time": "2022-02-14T17:26:45.663Z"
   },
   {
    "duration": 6,
    "start_time": "2022-02-14T17:26:45.673Z"
   },
   {
    "duration": 50,
    "start_time": "2022-02-14T17:26:45.682Z"
   },
   {
    "duration": 17,
    "start_time": "2022-02-14T17:26:45.736Z"
   },
   {
    "duration": 5,
    "start_time": "2022-02-14T17:26:45.756Z"
   },
   {
    "duration": 14,
    "start_time": "2022-02-14T17:26:45.764Z"
   },
   {
    "duration": 10,
    "start_time": "2022-02-14T17:26:45.781Z"
   },
   {
    "duration": 45,
    "start_time": "2022-02-14T17:26:45.793Z"
   },
   {
    "duration": 5,
    "start_time": "2022-02-14T17:26:45.841Z"
   },
   {
    "duration": 40,
    "start_time": "2022-02-14T17:26:45.848Z"
   },
   {
    "duration": 101294,
    "start_time": "2022-02-14T17:26:45.891Z"
   },
   {
    "duration": 5,
    "start_time": "2022-02-14T17:28:27.188Z"
   },
   {
    "duration": 25,
    "start_time": "2022-02-14T17:28:27.196Z"
   },
   {
    "duration": 16,
    "start_time": "2022-02-14T17:28:27.224Z"
   },
   {
    "duration": 46,
    "start_time": "2022-02-14T17:28:27.243Z"
   },
   {
    "duration": 4,
    "start_time": "2022-02-14T17:28:27.296Z"
   },
   {
    "duration": 49,
    "start_time": "2022-02-14T17:28:27.305Z"
   },
   {
    "duration": 19,
    "start_time": "2022-02-14T17:28:27.357Z"
   },
   {
    "duration": 119,
    "start_time": "2022-02-14T17:28:27.379Z"
   },
   {
    "duration": 82,
    "start_time": "2022-02-14T17:28:27.501Z"
   },
   {
    "duration": 66,
    "start_time": "2022-02-14T17:28:27.586Z"
   },
   {
    "duration": 10,
    "start_time": "2022-02-14T17:28:27.655Z"
   },
   {
    "duration": 119,
    "start_time": "2022-02-14T17:28:27.667Z"
   },
   {
    "duration": 9,
    "start_time": "2022-02-14T17:28:27.789Z"
   },
   {
    "duration": 45,
    "start_time": "2022-02-14T17:28:27.801Z"
   },
   {
    "duration": 5,
    "start_time": "2022-02-14T17:28:27.849Z"
   },
   {
    "duration": 75,
    "start_time": "2022-02-14T17:28:27.857Z"
   },
   {
    "duration": 866,
    "start_time": "2022-02-14T17:28:27.935Z"
   },
   {
    "duration": 55,
    "start_time": "2022-02-14T17:28:28.803Z"
   },
   {
    "duration": 4,
    "start_time": "2022-02-14T17:28:28.860Z"
   },
   {
    "duration": 485,
    "start_time": "2022-02-14T17:28:28.866Z"
   },
   {
    "duration": 629,
    "start_time": "2022-02-14T17:28:29.353Z"
   },
   {
    "duration": 10,
    "start_time": "2022-02-14T17:28:29.984Z"
   },
   {
    "duration": 615,
    "start_time": "2022-02-14T17:28:29.997Z"
   },
   {
    "duration": 690,
    "start_time": "2022-02-14T17:28:30.615Z"
   },
   {
    "duration": 728,
    "start_time": "2022-02-14T17:28:31.309Z"
   },
   {
    "duration": 1010,
    "start_time": "2022-02-14T17:28:32.040Z"
   },
   {
    "duration": 12,
    "start_time": "2022-02-14T17:28:33.053Z"
   },
   {
    "duration": 269,
    "start_time": "2022-02-14T17:28:33.068Z"
   },
   {
    "duration": 12,
    "start_time": "2022-02-14T17:28:33.339Z"
   },
   {
    "duration": 10,
    "start_time": "2022-02-14T17:28:33.354Z"
   },
   {
    "duration": 16,
    "start_time": "2022-02-14T17:28:33.367Z"
   },
   {
    "duration": 789,
    "start_time": "2022-02-14T17:28:33.386Z"
   },
   {
    "duration": 15,
    "start_time": "2022-02-14T17:28:34.178Z"
   },
   {
    "duration": 36,
    "start_time": "2022-02-14T17:28:34.196Z"
   },
   {
    "duration": 1121,
    "start_time": "2022-02-14T17:28:34.235Z"
   },
   {
    "duration": 8,
    "start_time": "2022-02-14T17:28:35.360Z"
   },
   {
    "duration": 1166,
    "start_time": "2022-02-14T17:28:35.371Z"
   },
   {
    "duration": 8,
    "start_time": "2022-02-14T17:28:36.540Z"
   },
   {
    "duration": 1143,
    "start_time": "2022-02-14T17:28:36.550Z"
   },
   {
    "duration": 397,
    "start_time": "2022-02-14T17:28:37.696Z"
   },
   {
    "duration": 409,
    "start_time": "2022-02-14T17:28:38.096Z"
   },
   {
    "duration": 341,
    "start_time": "2022-02-14T17:28:38.508Z"
   },
   {
    "duration": 342,
    "start_time": "2022-02-14T17:28:38.852Z"
   },
   {
    "duration": 6,
    "start_time": "2022-02-14T17:28:39.197Z"
   },
   {
    "duration": 27,
    "start_time": "2022-02-14T17:28:39.204Z"
   },
   {
    "duration": 22,
    "start_time": "2022-02-14T17:28:39.234Z"
   },
   {
    "duration": 17,
    "start_time": "2022-02-14T17:28:39.259Z"
   },
   {
    "duration": 4,
    "start_time": "2022-02-14T17:28:39.278Z"
   },
   {
    "duration": 14,
    "start_time": "2022-02-14T17:28:39.285Z"
   },
   {
    "duration": 26,
    "start_time": "2022-02-14T17:28:39.336Z"
   },
   {
    "duration": 11,
    "start_time": "2022-02-14T17:28:39.365Z"
   },
   {
    "duration": 11,
    "start_time": "2022-02-14T17:28:39.379Z"
   },
   {
    "duration": 41,
    "start_time": "2022-02-14T17:28:39.394Z"
   },
   {
    "duration": 9,
    "start_time": "2022-02-14T17:28:39.438Z"
   },
   {
    "duration": 516,
    "start_time": "2022-02-14T17:28:39.450Z"
   },
   {
    "duration": 13,
    "start_time": "2022-02-14T17:28:39.969Z"
   },
   {
    "duration": 739,
    "start_time": "2022-02-14T17:28:39.984Z"
   },
   {
    "duration": 728,
    "start_time": "2022-02-14T17:28:40.726Z"
   },
   {
    "duration": 383,
    "start_time": "2022-02-14T17:28:41.456Z"
   },
   {
    "duration": 516,
    "start_time": "2022-02-14T17:28:41.842Z"
   },
   {
    "duration": 10,
    "start_time": "2022-02-14T17:28:42.361Z"
   },
   {
    "duration": 605,
    "start_time": "2022-02-14T17:28:42.374Z"
   },
   {
    "duration": 7,
    "start_time": "2022-02-14T17:28:42.982Z"
   },
   {
    "duration": 503,
    "start_time": "2022-02-14T17:28:42.992Z"
   },
   {
    "duration": 285,
    "start_time": "2022-02-14T17:28:43.498Z"
   },
   {
    "duration": 9,
    "start_time": "2022-02-14T17:28:43.786Z"
   },
   {
    "duration": 847,
    "start_time": "2022-02-14T17:28:43.798Z"
   },
   {
    "duration": 340,
    "start_time": "2022-02-14T17:28:44.649Z"
   },
   {
    "duration": 8,
    "start_time": "2022-02-14T17:28:44.992Z"
   },
   {
    "duration": 67,
    "start_time": "2022-02-14T17:28:45.002Z"
   },
   {
    "duration": 66558,
    "start_time": "2022-02-14T17:37:35.367Z"
   },
   {
    "duration": 25,
    "start_time": "2022-02-14T17:38:48.797Z"
   },
   {
    "duration": 17,
    "start_time": "2022-02-14T17:39:02.127Z"
   },
   {
    "duration": 109,
    "start_time": "2022-02-14T17:39:08.605Z"
   },
   {
    "duration": 4,
    "start_time": "2022-02-14T17:41:44.934Z"
   },
   {
    "duration": 90,
    "start_time": "2022-02-14T17:41:44.943Z"
   },
   {
    "duration": 39,
    "start_time": "2022-02-14T17:41:45.036Z"
   },
   {
    "duration": 18,
    "start_time": "2022-02-14T17:41:45.078Z"
   },
   {
    "duration": 43,
    "start_time": "2022-02-14T17:41:45.098Z"
   },
   {
    "duration": 12,
    "start_time": "2022-02-14T17:41:45.144Z"
   },
   {
    "duration": 139,
    "start_time": "2022-02-14T17:41:45.158Z"
   },
   {
    "duration": 4,
    "start_time": "2022-02-14T17:41:45.299Z"
   },
   {
    "duration": 25,
    "start_time": "2022-02-14T17:41:45.307Z"
   },
   {
    "duration": 5,
    "start_time": "2022-02-14T17:41:45.335Z"
   },
   {
    "duration": 12,
    "start_time": "2022-02-14T17:41:45.342Z"
   },
   {
    "duration": 18,
    "start_time": "2022-02-14T17:41:45.357Z"
   },
   {
    "duration": 5,
    "start_time": "2022-02-14T17:41:45.378Z"
   },
   {
    "duration": 53,
    "start_time": "2022-02-14T17:41:45.385Z"
   },
   {
    "duration": 9,
    "start_time": "2022-02-14T17:41:45.441Z"
   },
   {
    "duration": 14,
    "start_time": "2022-02-14T17:41:45.452Z"
   },
   {
    "duration": 6,
    "start_time": "2022-02-14T17:41:45.468Z"
   },
   {
    "duration": 72,
    "start_time": "2022-02-14T17:41:45.476Z"
   },
   {
    "duration": 99523,
    "start_time": "2022-02-14T17:41:45.551Z"
   },
   {
    "duration": 59407,
    "start_time": "2022-02-14T17:43:25.077Z"
   },
   {
    "duration": 11,
    "start_time": "2022-02-14T17:44:24.487Z"
   },
   {
    "duration": 99,
    "start_time": "2022-02-14T17:44:24.500Z"
   },
   {
    "duration": 52,
    "start_time": "2022-02-14T17:44:24.602Z"
   },
   {
    "duration": 13,
    "start_time": "2022-02-14T17:44:24.664Z"
   },
   {
    "duration": 91,
    "start_time": "2022-02-14T17:44:24.683Z"
   },
   {
    "duration": 6,
    "start_time": "2022-02-14T17:44:24.776Z"
   },
   {
    "duration": 69,
    "start_time": "2022-02-14T17:44:24.785Z"
   },
   {
    "duration": 5,
    "start_time": "2022-02-14T17:44:24.857Z"
   },
   {
    "duration": 77,
    "start_time": "2022-02-14T17:44:24.865Z"
   },
   {
    "duration": 863,
    "start_time": "2022-02-14T17:44:24.944Z"
   },
   {
    "duration": 46,
    "start_time": "2022-02-14T17:44:25.809Z"
   },
   {
    "duration": 4,
    "start_time": "2022-02-14T17:44:25.858Z"
   },
   {
    "duration": 713,
    "start_time": "2022-02-14T17:44:25.866Z"
   },
   {
    "duration": 771,
    "start_time": "2022-02-14T17:44:26.582Z"
   },
   {
    "duration": 18,
    "start_time": "2022-02-14T17:44:27.357Z"
   },
   {
    "duration": 691,
    "start_time": "2022-02-14T17:44:27.378Z"
   },
   {
    "duration": 665,
    "start_time": "2022-02-14T17:44:28.072Z"
   },
   {
    "duration": 455,
    "start_time": "2022-02-14T17:44:28.740Z"
   },
   {
    "duration": 1037,
    "start_time": "2022-02-14T17:44:29.199Z"
   },
   {
    "duration": 16,
    "start_time": "2022-02-14T17:44:30.239Z"
   },
   {
    "duration": 377,
    "start_time": "2022-02-14T17:44:30.258Z"
   },
   {
    "duration": 12,
    "start_time": "2022-02-14T17:44:30.638Z"
   },
   {
    "duration": 11,
    "start_time": "2022-02-14T17:44:30.652Z"
   },
   {
    "duration": 31,
    "start_time": "2022-02-14T17:44:30.665Z"
   },
   {
    "duration": 480,
    "start_time": "2022-02-14T17:44:30.699Z"
   },
   {
    "duration": 15,
    "start_time": "2022-02-14T17:44:31.182Z"
   },
   {
    "duration": 33,
    "start_time": "2022-02-14T17:44:31.200Z"
   },
   {
    "duration": 740,
    "start_time": "2022-02-14T17:44:31.236Z"
   },
   {
    "duration": 8,
    "start_time": "2022-02-14T17:44:31.978Z"
   },
   {
    "duration": 865,
    "start_time": "2022-02-14T17:44:31.989Z"
   },
   {
    "duration": 7,
    "start_time": "2022-02-14T17:44:32.856Z"
   },
   {
    "duration": 1235,
    "start_time": "2022-02-14T17:44:32.866Z"
   },
   {
    "duration": 436,
    "start_time": "2022-02-14T17:44:34.105Z"
   },
   {
    "duration": 407,
    "start_time": "2022-02-14T17:44:34.543Z"
   },
   {
    "duration": 442,
    "start_time": "2022-02-14T17:44:34.953Z"
   },
   {
    "duration": 350,
    "start_time": "2022-02-14T17:44:35.397Z"
   },
   {
    "duration": 9,
    "start_time": "2022-02-14T17:44:35.750Z"
   },
   {
    "duration": 16,
    "start_time": "2022-02-14T17:44:35.762Z"
   },
   {
    "duration": 9,
    "start_time": "2022-02-14T17:44:35.781Z"
   },
   {
    "duration": 57,
    "start_time": "2022-02-14T17:44:35.793Z"
   },
   {
    "duration": 8,
    "start_time": "2022-02-14T17:44:35.854Z"
   },
   {
    "duration": 16,
    "start_time": "2022-02-14T17:44:35.864Z"
   },
   {
    "duration": 51,
    "start_time": "2022-02-14T17:44:35.883Z"
   },
   {
    "duration": 10,
    "start_time": "2022-02-14T17:44:35.937Z"
   },
   {
    "duration": 21,
    "start_time": "2022-02-14T17:44:35.950Z"
   },
   {
    "duration": 6,
    "start_time": "2022-02-14T17:44:35.974Z"
   },
   {
    "duration": 9,
    "start_time": "2022-02-14T17:44:35.982Z"
   },
   {
    "duration": 343,
    "start_time": "2022-02-14T17:44:35.993Z"
   },
   {
    "duration": 11,
    "start_time": "2022-02-14T17:44:36.343Z"
   },
   {
    "duration": 529,
    "start_time": "2022-02-14T17:44:36.357Z"
   },
   {
    "duration": 468,
    "start_time": "2022-02-14T17:44:36.889Z"
   },
   {
    "duration": 476,
    "start_time": "2022-02-14T17:44:37.360Z"
   },
   {
    "duration": 471,
    "start_time": "2022-02-14T17:44:37.839Z"
   },
   {
    "duration": 20,
    "start_time": "2022-02-14T17:44:38.313Z"
   },
   {
    "duration": 453,
    "start_time": "2022-02-14T17:44:38.336Z"
   },
   {
    "duration": 7,
    "start_time": "2022-02-14T17:44:38.792Z"
   },
   {
    "duration": 499,
    "start_time": "2022-02-14T17:44:38.802Z"
   },
   {
    "duration": 292,
    "start_time": "2022-02-14T17:44:39.303Z"
   },
   {
    "duration": 7,
    "start_time": "2022-02-14T17:44:39.598Z"
   },
   {
    "duration": 826,
    "start_time": "2022-02-14T17:44:39.607Z"
   },
   {
    "duration": 331,
    "start_time": "2022-02-14T17:44:40.436Z"
   },
   {
    "duration": 8,
    "start_time": "2022-02-14T17:44:40.770Z"
   },
   {
    "duration": 653,
    "start_time": "2022-02-15T15:05:00.598Z"
   },
   {
    "duration": 63,
    "start_time": "2022-02-15T15:05:01.252Z"
   },
   {
    "duration": 26,
    "start_time": "2022-02-15T15:05:01.316Z"
   },
   {
    "duration": 9,
    "start_time": "2022-02-15T15:05:01.344Z"
   },
   {
    "duration": 9,
    "start_time": "2022-02-15T15:05:01.354Z"
   },
   {
    "duration": 7,
    "start_time": "2022-02-15T15:05:01.365Z"
   },
   {
    "duration": 87,
    "start_time": "2022-02-15T15:05:01.374Z"
   },
   {
    "duration": 3,
    "start_time": "2022-02-15T15:05:01.463Z"
   },
   {
    "duration": 5,
    "start_time": "2022-02-15T15:05:01.468Z"
   },
   {
    "duration": 7,
    "start_time": "2022-02-15T15:05:01.474Z"
   },
   {
    "duration": 8,
    "start_time": "2022-02-15T15:05:01.482Z"
   },
   {
    "duration": 12,
    "start_time": "2022-02-15T15:05:01.491Z"
   },
   {
    "duration": 3,
    "start_time": "2022-02-15T15:05:01.505Z"
   },
   {
    "duration": 26,
    "start_time": "2022-02-15T15:05:01.509Z"
   },
   {
    "duration": 14,
    "start_time": "2022-02-15T15:05:01.537Z"
   },
   {
    "duration": 15,
    "start_time": "2022-02-15T15:05:01.553Z"
   },
   {
    "duration": 11,
    "start_time": "2022-02-15T15:05:01.569Z"
   },
   {
    "duration": 28,
    "start_time": "2022-02-15T15:05:01.582Z"
   },
   {
    "duration": 58543,
    "start_time": "2022-02-15T15:05:01.611Z"
   },
   {
    "duration": 30281,
    "start_time": "2022-02-15T15:06:00.155Z"
   },
   {
    "duration": 7,
    "start_time": "2022-02-15T15:06:30.438Z"
   },
   {
    "duration": 40,
    "start_time": "2022-02-15T15:06:30.446Z"
   },
   {
    "duration": 20,
    "start_time": "2022-02-15T15:06:30.489Z"
   },
   {
    "duration": 22,
    "start_time": "2022-02-15T15:06:30.512Z"
   },
   {
    "duration": 33,
    "start_time": "2022-02-15T15:06:30.535Z"
   },
   {
    "duration": 5,
    "start_time": "2022-02-15T15:06:30.569Z"
   },
   {
    "duration": 22,
    "start_time": "2022-02-15T15:06:30.575Z"
   },
   {
    "duration": 3,
    "start_time": "2022-02-15T15:06:30.599Z"
   },
   {
    "duration": 58,
    "start_time": "2022-02-15T15:06:30.604Z"
   },
   {
    "duration": 484,
    "start_time": "2022-02-15T15:06:30.663Z"
   },
   {
    "duration": 22,
    "start_time": "2022-02-15T15:06:31.148Z"
   },
   {
    "duration": 86,
    "start_time": "2022-02-15T15:06:31.171Z"
   },
   {
    "duration": 364,
    "start_time": "2022-02-15T15:06:31.260Z"
   },
   {
    "duration": 540,
    "start_time": "2022-02-15T15:06:31.631Z"
   },
   {
    "duration": 11,
    "start_time": "2022-02-15T15:06:32.173Z"
   },
   {
    "duration": 501,
    "start_time": "2022-02-15T15:06:32.186Z"
   },
   {
    "duration": 305,
    "start_time": "2022-02-15T15:06:32.689Z"
   },
   {
    "duration": 258,
    "start_time": "2022-02-15T15:06:32.996Z"
   },
   {
    "duration": 327,
    "start_time": "2022-02-15T15:06:33.256Z"
   },
   {
    "duration": 7,
    "start_time": "2022-02-15T15:06:33.585Z"
   },
   {
    "duration": 143,
    "start_time": "2022-02-15T15:06:33.593Z"
   },
   {
    "duration": 8,
    "start_time": "2022-02-15T15:06:33.738Z"
   },
   {
    "duration": 10,
    "start_time": "2022-02-15T15:06:33.747Z"
   },
   {
    "duration": 78,
    "start_time": "2022-02-15T15:06:33.759Z"
   },
   {
    "duration": 248,
    "start_time": "2022-02-15T15:06:33.838Z"
   },
   {
    "duration": 6,
    "start_time": "2022-02-15T15:06:34.088Z"
   },
   {
    "duration": 8,
    "start_time": "2022-02-15T15:06:34.096Z"
   },
   {
    "duration": 461,
    "start_time": "2022-02-15T15:06:34.105Z"
   },
   {
    "duration": 4,
    "start_time": "2022-02-15T15:06:34.567Z"
   },
   {
    "duration": 498,
    "start_time": "2022-02-15T15:06:34.573Z"
   },
   {
    "duration": 6,
    "start_time": "2022-02-15T15:06:35.073Z"
   },
   {
    "duration": 504,
    "start_time": "2022-02-15T15:06:35.080Z"
   },
   {
    "duration": 157,
    "start_time": "2022-02-15T15:06:35.586Z"
   },
   {
    "duration": 175,
    "start_time": "2022-02-15T15:06:35.745Z"
   },
   {
    "duration": 180,
    "start_time": "2022-02-15T15:06:35.921Z"
   },
   {
    "duration": 183,
    "start_time": "2022-02-15T15:06:36.103Z"
   },
   {
    "duration": 4,
    "start_time": "2022-02-15T15:06:36.287Z"
   },
   {
    "duration": 5,
    "start_time": "2022-02-15T15:06:36.292Z"
   },
   {
    "duration": 5,
    "start_time": "2022-02-15T15:06:36.299Z"
   },
   {
    "duration": 32,
    "start_time": "2022-02-15T15:06:36.306Z"
   },
   {
    "duration": 3,
    "start_time": "2022-02-15T15:06:36.340Z"
   },
   {
    "duration": 9,
    "start_time": "2022-02-15T15:06:36.344Z"
   },
   {
    "duration": 18,
    "start_time": "2022-02-15T15:06:36.355Z"
   },
   {
    "duration": 7,
    "start_time": "2022-02-15T15:06:36.375Z"
   },
   {
    "duration": 8,
    "start_time": "2022-02-15T15:06:36.384Z"
   },
   {
    "duration": 5,
    "start_time": "2022-02-15T15:06:36.393Z"
   },
   {
    "duration": 36,
    "start_time": "2022-02-15T15:06:36.399Z"
   },
   {
    "duration": 174,
    "start_time": "2022-02-15T15:06:36.440Z"
   },
   {
    "duration": 16,
    "start_time": "2022-02-15T15:06:36.616Z"
   },
   {
    "duration": 227,
    "start_time": "2022-02-15T15:06:36.633Z"
   },
   {
    "duration": 286,
    "start_time": "2022-02-15T15:06:36.862Z"
   },
   {
    "duration": 193,
    "start_time": "2022-02-15T15:06:37.149Z"
   },
   {
    "duration": 259,
    "start_time": "2022-02-15T15:06:37.343Z"
   },
   {
    "duration": 5,
    "start_time": "2022-02-15T15:06:37.603Z"
   },
   {
    "duration": 339,
    "start_time": "2022-02-15T15:06:37.610Z"
   },
   {
    "duration": 5,
    "start_time": "2022-02-15T15:06:37.950Z"
   },
   {
    "duration": 320,
    "start_time": "2022-02-15T15:06:37.956Z"
   },
   {
    "duration": 198,
    "start_time": "2022-02-15T15:06:38.277Z"
   },
   {
    "duration": 6,
    "start_time": "2022-02-15T15:06:38.477Z"
   },
   {
    "duration": 373,
    "start_time": "2022-02-15T15:06:38.485Z"
   },
   {
    "duration": 204,
    "start_time": "2022-02-15T15:06:38.860Z"
   },
   {
    "duration": 5,
    "start_time": "2022-02-15T15:06:39.066Z"
   },
   {
    "duration": 593,
    "start_time": "2022-02-16T06:13:16.367Z"
   },
   {
    "duration": 76,
    "start_time": "2022-02-16T06:13:16.962Z"
   },
   {
    "duration": 26,
    "start_time": "2022-02-16T06:13:17.040Z"
   },
   {
    "duration": 9,
    "start_time": "2022-02-16T06:13:17.067Z"
   },
   {
    "duration": 8,
    "start_time": "2022-02-16T06:13:17.077Z"
   },
   {
    "duration": 7,
    "start_time": "2022-02-16T06:13:17.086Z"
   },
   {
    "duration": 89,
    "start_time": "2022-02-16T06:13:17.095Z"
   },
   {
    "duration": 3,
    "start_time": "2022-02-16T06:13:17.187Z"
   },
   {
    "duration": 5,
    "start_time": "2022-02-16T06:13:17.192Z"
   },
   {
    "duration": 10,
    "start_time": "2022-02-16T06:13:17.198Z"
   },
   {
    "duration": 6,
    "start_time": "2022-02-16T06:13:17.209Z"
   },
   {
    "duration": 26,
    "start_time": "2022-02-16T06:13:17.217Z"
   },
   {
    "duration": 4,
    "start_time": "2022-02-16T06:13:17.245Z"
   },
   {
    "duration": 11,
    "start_time": "2022-02-16T06:13:17.251Z"
   },
   {
    "duration": 10,
    "start_time": "2022-02-16T06:13:17.264Z"
   },
   {
    "duration": 8,
    "start_time": "2022-02-16T06:13:17.276Z"
   },
   {
    "duration": 9,
    "start_time": "2022-02-16T06:13:17.285Z"
   },
   {
    "duration": 40,
    "start_time": "2022-02-16T06:13:17.295Z"
   },
   {
    "duration": 59354,
    "start_time": "2022-02-16T06:13:17.336Z"
   },
   {
    "duration": 8,
    "start_time": "2022-02-16T06:14:56.124Z"
   },
   {
    "duration": 63,
    "start_time": "2022-02-16T06:14:56.133Z"
   },
   {
    "duration": 20,
    "start_time": "2022-02-16T06:14:56.198Z"
   },
   {
    "duration": 16,
    "start_time": "2022-02-16T06:14:56.219Z"
   },
   {
    "duration": 8,
    "start_time": "2022-02-16T06:14:56.236Z"
   },
   {
    "duration": 7,
    "start_time": "2022-02-16T06:14:56.246Z"
   },
   {
    "duration": 78,
    "start_time": "2022-02-16T06:14:56.255Z"
   },
   {
    "duration": 4,
    "start_time": "2022-02-16T06:14:56.334Z"
   },
   {
    "duration": 4,
    "start_time": "2022-02-16T06:14:56.339Z"
   },
   {
    "duration": 4,
    "start_time": "2022-02-16T06:14:56.344Z"
   },
   {
    "duration": 6,
    "start_time": "2022-02-16T06:14:56.349Z"
   },
   {
    "duration": 8,
    "start_time": "2022-02-16T06:14:56.356Z"
   },
   {
    "duration": 3,
    "start_time": "2022-02-16T06:14:56.366Z"
   },
   {
    "duration": 11,
    "start_time": "2022-02-16T06:14:56.370Z"
   },
   {
    "duration": 7,
    "start_time": "2022-02-16T06:14:56.383Z"
   },
   {
    "duration": 8,
    "start_time": "2022-02-16T06:14:56.392Z"
   },
   {
    "duration": 31,
    "start_time": "2022-02-16T06:14:56.401Z"
   },
   {
    "duration": 23,
    "start_time": "2022-02-16T06:14:56.433Z"
   },
   {
    "duration": 3,
    "start_time": "2022-02-16T06:35:29.024Z"
   },
   {
    "duration": 61,
    "start_time": "2022-02-16T06:35:29.028Z"
   },
   {
    "duration": 19,
    "start_time": "2022-02-16T06:35:29.091Z"
   },
   {
    "duration": 21,
    "start_time": "2022-02-16T06:35:29.112Z"
   },
   {
    "duration": 7,
    "start_time": "2022-02-16T06:35:29.135Z"
   },
   {
    "duration": 13,
    "start_time": "2022-02-16T06:35:29.143Z"
   },
   {
    "duration": 75,
    "start_time": "2022-02-16T06:35:29.158Z"
   },
   {
    "duration": 4,
    "start_time": "2022-02-16T06:35:29.234Z"
   },
   {
    "duration": 4,
    "start_time": "2022-02-16T06:35:29.239Z"
   },
   {
    "duration": 4,
    "start_time": "2022-02-16T06:35:29.245Z"
   },
   {
    "duration": 7,
    "start_time": "2022-02-16T06:35:29.250Z"
   },
   {
    "duration": 10,
    "start_time": "2022-02-16T06:35:29.258Z"
   },
   {
    "duration": 8,
    "start_time": "2022-02-16T06:35:29.269Z"
   },
   {
    "duration": 13,
    "start_time": "2022-02-16T06:35:29.279Z"
   },
   {
    "duration": 9,
    "start_time": "2022-02-16T06:35:29.294Z"
   },
   {
    "duration": 31,
    "start_time": "2022-02-16T06:35:29.305Z"
   },
   {
    "duration": 3,
    "start_time": "2022-02-16T06:35:29.338Z"
   },
   {
    "duration": 24,
    "start_time": "2022-02-16T06:35:29.342Z"
   },
   {
    "duration": 61436,
    "start_time": "2022-02-16T06:35:29.369Z"
   },
   {
    "duration": 32840,
    "start_time": "2022-02-16T06:36:30.807Z"
   },
   {
    "duration": 7,
    "start_time": "2022-02-16T06:37:03.649Z"
   },
   {
    "duration": 40,
    "start_time": "2022-02-16T06:37:03.658Z"
   },
   {
    "duration": 42,
    "start_time": "2022-02-16T06:37:03.700Z"
   },
   {
    "duration": 5,
    "start_time": "2022-02-16T06:37:03.744Z"
   },
   {
    "duration": 34,
    "start_time": "2022-02-16T06:37:03.751Z"
   },
   {
    "duration": 4,
    "start_time": "2022-02-16T06:37:03.787Z"
   },
   {
    "duration": 42,
    "start_time": "2022-02-16T06:37:03.792Z"
   },
   {
    "duration": 4,
    "start_time": "2022-02-16T06:37:03.836Z"
   },
   {
    "duration": 31,
    "start_time": "2022-02-16T06:37:03.842Z"
   },
   {
    "duration": 492,
    "start_time": "2022-02-16T06:37:03.875Z"
   },
   {
    "duration": 21,
    "start_time": "2022-02-16T06:37:04.368Z"
   },
   {
    "duration": 2,
    "start_time": "2022-02-16T06:37:04.390Z"
   },
   {
    "duration": 259,
    "start_time": "2022-02-16T06:37:04.396Z"
   },
   {
    "duration": 412,
    "start_time": "2022-02-16T06:37:04.659Z"
   },
   {
    "duration": 8,
    "start_time": "2022-02-16T06:37:05.073Z"
   },
   {
    "duration": 335,
    "start_time": "2022-02-16T06:37:05.082Z"
   },
   {
    "duration": 215,
    "start_time": "2022-02-16T06:37:05.419Z"
   },
   {
    "duration": 249,
    "start_time": "2022-02-16T06:37:05.636Z"
   },
   {
    "duration": 346,
    "start_time": "2022-02-16T06:37:05.887Z"
   },
   {
    "duration": 9,
    "start_time": "2022-02-16T06:37:06.235Z"
   },
   {
    "duration": 146,
    "start_time": "2022-02-16T06:37:06.245Z"
   },
   {
    "duration": 7,
    "start_time": "2022-02-16T06:37:06.393Z"
   },
   {
    "duration": 5,
    "start_time": "2022-02-16T06:37:06.402Z"
   },
   {
    "duration": 23,
    "start_time": "2022-02-16T06:37:06.409Z"
   },
   {
    "duration": 265,
    "start_time": "2022-02-16T06:37:06.434Z"
   },
   {
    "duration": 15,
    "start_time": "2022-02-16T06:37:06.701Z"
   },
   {
    "duration": 6,
    "start_time": "2022-02-16T06:37:06.717Z"
   },
   {
    "duration": 553,
    "start_time": "2022-02-16T06:37:06.731Z"
   },
   {
    "duration": 5,
    "start_time": "2022-02-16T06:37:07.285Z"
   },
   {
    "duration": 510,
    "start_time": "2022-02-16T06:37:07.292Z"
   },
   {
    "duration": 4,
    "start_time": "2022-02-16T06:37:07.804Z"
   },
   {
    "duration": 468,
    "start_time": "2022-02-16T06:37:07.810Z"
   },
   {
    "duration": 166,
    "start_time": "2022-02-16T06:37:08.279Z"
   },
   {
    "duration": 176,
    "start_time": "2022-02-16T06:37:08.446Z"
   },
   {
    "duration": 191,
    "start_time": "2022-02-16T06:37:08.623Z"
   },
   {
    "duration": 182,
    "start_time": "2022-02-16T06:37:08.816Z"
   },
   {
    "duration": 4,
    "start_time": "2022-02-16T06:37:09.000Z"
   },
   {
    "duration": 5,
    "start_time": "2022-02-16T06:37:09.005Z"
   },
   {
    "duration": 21,
    "start_time": "2022-02-16T06:37:09.011Z"
   },
   {
    "duration": 11,
    "start_time": "2022-02-16T06:37:09.034Z"
   },
   {
    "duration": 2,
    "start_time": "2022-02-16T06:37:09.046Z"
   },
   {
    "duration": 8,
    "start_time": "2022-02-16T06:37:09.050Z"
   },
   {
    "duration": 15,
    "start_time": "2022-02-16T06:37:09.059Z"
   },
   {
    "duration": 7,
    "start_time": "2022-02-16T06:37:09.075Z"
   },
   {
    "duration": 6,
    "start_time": "2022-02-16T06:37:09.084Z"
   },
   {
    "duration": 10,
    "start_time": "2022-02-16T06:37:09.091Z"
   },
   {
    "duration": 33,
    "start_time": "2022-02-16T06:37:09.102Z"
   },
   {
    "duration": 177,
    "start_time": "2022-02-16T06:37:09.136Z"
   },
   {
    "duration": 6,
    "start_time": "2022-02-16T06:37:09.314Z"
   },
   {
    "duration": 239,
    "start_time": "2022-02-16T06:37:09.322Z"
   },
   {
    "duration": 242,
    "start_time": "2022-02-16T06:37:09.562Z"
   },
   {
    "duration": 191,
    "start_time": "2022-02-16T06:37:09.805Z"
   },
   {
    "duration": 300,
    "start_time": "2022-02-16T06:37:09.998Z"
   },
   {
    "duration": 5,
    "start_time": "2022-02-16T06:37:10.302Z"
   },
   {
    "duration": 343,
    "start_time": "2022-02-16T06:37:10.308Z"
   },
   {
    "duration": 5,
    "start_time": "2022-02-16T06:37:10.652Z"
   },
   {
    "duration": 319,
    "start_time": "2022-02-16T06:37:10.658Z"
   },
   {
    "duration": 158,
    "start_time": "2022-02-16T06:37:10.978Z"
   },
   {
    "duration": 5,
    "start_time": "2022-02-16T06:37:11.137Z"
   },
   {
    "duration": 328,
    "start_time": "2022-02-16T06:37:11.144Z"
   },
   {
    "duration": 164,
    "start_time": "2022-02-16T06:37:11.474Z"
   },
   {
    "duration": 5,
    "start_time": "2022-02-16T06:37:11.640Z"
   }
  ],
  "kernelspec": {
   "display_name": "Python 3 (ipykernel)",
   "language": "python",
   "name": "python3"
  },
  "language_info": {
   "codemirror_mode": {
    "name": "ipython",
    "version": 3
   },
   "file_extension": ".py",
   "mimetype": "text/x-python",
   "name": "python",
   "nbconvert_exporter": "python",
   "pygments_lexer": "ipython3",
   "version": "3.9.7"
  },
  "toc": {
   "base_numbering": 1,
   "nav_menu": {},
   "number_sections": true,
   "sideBar": true,
   "skip_h1_title": true,
   "title_cell": "Содержание",
   "title_sidebar": "Contents",
   "toc_cell": true,
   "toc_position": {},
   "toc_section_display": true,
   "toc_window_display": false
  }
 },
 "nbformat": 4,
 "nbformat_minor": 2
}
