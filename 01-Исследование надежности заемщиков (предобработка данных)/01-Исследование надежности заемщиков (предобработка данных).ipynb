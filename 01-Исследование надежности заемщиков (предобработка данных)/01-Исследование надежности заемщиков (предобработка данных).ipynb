{
 "cells": [
  {
   "cell_type": "markdown",
   "metadata": {},
   "source": [
    "# Исследование надёжности заёмщиков\n",
    "\n",
    "Заказчик — кредитный отдел банка. Нужно разобраться, влияет ли семейное положение и количество детей клиента на факт погашения кредита в срок. Входные данные от банка — статистика о платёжеспособности клиентов.\n",
    "\n",
    "Результаты исследования будут учтены при построении модели **кредитного скоринга** — специальной системы, которая оценивает способность потенциального заёмщика вернуть кредит банку."
   ]
  },
  {
   "cell_type": "markdown",
   "metadata": {},
   "source": [
    "## Шаг 1. Откройте файл с данными и изучите общую информацию"
   ]
  },
  {
   "cell_type": "code",
   "execution_count": 1,
   "metadata": {},
   "outputs": [],
   "source": [
    "import pandas as pd # импорт библиотеки pandas"
   ]
  },
  {
   "cell_type": "code",
   "execution_count": 2,
   "metadata": {},
   "outputs": [],
   "source": [
    "df = pd.read_csv('/datasets/data.csv') # чтения файла в переменную df\n"
   ]
  },
  {
   "cell_type": "code",
   "execution_count": 3,
   "metadata": {},
   "outputs": [
    {
     "data": {
      "text/html": [
       "<div>\n",
       "<style scoped>\n",
       "    .dataframe tbody tr th:only-of-type {\n",
       "        vertical-align: middle;\n",
       "    }\n",
       "\n",
       "    .dataframe tbody tr th {\n",
       "        vertical-align: top;\n",
       "    }\n",
       "\n",
       "    .dataframe thead th {\n",
       "        text-align: right;\n",
       "    }\n",
       "</style>\n",
       "<table border=\"1\" class=\"dataframe\">\n",
       "  <thead>\n",
       "    <tr style=\"text-align: right;\">\n",
       "      <th></th>\n",
       "      <th>children</th>\n",
       "      <th>days_employed</th>\n",
       "      <th>dob_years</th>\n",
       "      <th>education</th>\n",
       "      <th>education_id</th>\n",
       "      <th>family_status</th>\n",
       "      <th>family_status_id</th>\n",
       "      <th>gender</th>\n",
       "      <th>income_type</th>\n",
       "      <th>debt</th>\n",
       "      <th>total_income</th>\n",
       "      <th>purpose</th>\n",
       "    </tr>\n",
       "  </thead>\n",
       "  <tbody>\n",
       "    <tr>\n",
       "      <td>0</td>\n",
       "      <td>1</td>\n",
       "      <td>-8437.673028</td>\n",
       "      <td>42</td>\n",
       "      <td>высшее</td>\n",
       "      <td>0</td>\n",
       "      <td>женат / замужем</td>\n",
       "      <td>0</td>\n",
       "      <td>F</td>\n",
       "      <td>сотрудник</td>\n",
       "      <td>0</td>\n",
       "      <td>253875.639453</td>\n",
       "      <td>покупка жилья</td>\n",
       "    </tr>\n",
       "    <tr>\n",
       "      <td>1</td>\n",
       "      <td>1</td>\n",
       "      <td>-4024.803754</td>\n",
       "      <td>36</td>\n",
       "      <td>среднее</td>\n",
       "      <td>1</td>\n",
       "      <td>женат / замужем</td>\n",
       "      <td>0</td>\n",
       "      <td>F</td>\n",
       "      <td>сотрудник</td>\n",
       "      <td>0</td>\n",
       "      <td>112080.014102</td>\n",
       "      <td>приобретение автомобиля</td>\n",
       "    </tr>\n",
       "    <tr>\n",
       "      <td>2</td>\n",
       "      <td>0</td>\n",
       "      <td>-5623.422610</td>\n",
       "      <td>33</td>\n",
       "      <td>Среднее</td>\n",
       "      <td>1</td>\n",
       "      <td>женат / замужем</td>\n",
       "      <td>0</td>\n",
       "      <td>M</td>\n",
       "      <td>сотрудник</td>\n",
       "      <td>0</td>\n",
       "      <td>145885.952297</td>\n",
       "      <td>покупка жилья</td>\n",
       "    </tr>\n",
       "    <tr>\n",
       "      <td>3</td>\n",
       "      <td>3</td>\n",
       "      <td>-4124.747207</td>\n",
       "      <td>32</td>\n",
       "      <td>среднее</td>\n",
       "      <td>1</td>\n",
       "      <td>женат / замужем</td>\n",
       "      <td>0</td>\n",
       "      <td>M</td>\n",
       "      <td>сотрудник</td>\n",
       "      <td>0</td>\n",
       "      <td>267628.550329</td>\n",
       "      <td>дополнительное образование</td>\n",
       "    </tr>\n",
       "    <tr>\n",
       "      <td>4</td>\n",
       "      <td>0</td>\n",
       "      <td>340266.072047</td>\n",
       "      <td>53</td>\n",
       "      <td>среднее</td>\n",
       "      <td>1</td>\n",
       "      <td>гражданский брак</td>\n",
       "      <td>1</td>\n",
       "      <td>F</td>\n",
       "      <td>пенсионер</td>\n",
       "      <td>0</td>\n",
       "      <td>158616.077870</td>\n",
       "      <td>сыграть свадьбу</td>\n",
       "    </tr>\n",
       "    <tr>\n",
       "      <td>5</td>\n",
       "      <td>0</td>\n",
       "      <td>-926.185831</td>\n",
       "      <td>27</td>\n",
       "      <td>высшее</td>\n",
       "      <td>0</td>\n",
       "      <td>гражданский брак</td>\n",
       "      <td>1</td>\n",
       "      <td>M</td>\n",
       "      <td>компаньон</td>\n",
       "      <td>0</td>\n",
       "      <td>255763.565419</td>\n",
       "      <td>покупка жилья</td>\n",
       "    </tr>\n",
       "    <tr>\n",
       "      <td>6</td>\n",
       "      <td>0</td>\n",
       "      <td>-2879.202052</td>\n",
       "      <td>43</td>\n",
       "      <td>высшее</td>\n",
       "      <td>0</td>\n",
       "      <td>женат / замужем</td>\n",
       "      <td>0</td>\n",
       "      <td>F</td>\n",
       "      <td>компаньон</td>\n",
       "      <td>0</td>\n",
       "      <td>240525.971920</td>\n",
       "      <td>операции с жильем</td>\n",
       "    </tr>\n",
       "    <tr>\n",
       "      <td>7</td>\n",
       "      <td>0</td>\n",
       "      <td>-152.779569</td>\n",
       "      <td>50</td>\n",
       "      <td>СРЕДНЕЕ</td>\n",
       "      <td>1</td>\n",
       "      <td>женат / замужем</td>\n",
       "      <td>0</td>\n",
       "      <td>M</td>\n",
       "      <td>сотрудник</td>\n",
       "      <td>0</td>\n",
       "      <td>135823.934197</td>\n",
       "      <td>образование</td>\n",
       "    </tr>\n",
       "    <tr>\n",
       "      <td>8</td>\n",
       "      <td>2</td>\n",
       "      <td>-6929.865299</td>\n",
       "      <td>35</td>\n",
       "      <td>ВЫСШЕЕ</td>\n",
       "      <td>0</td>\n",
       "      <td>гражданский брак</td>\n",
       "      <td>1</td>\n",
       "      <td>F</td>\n",
       "      <td>сотрудник</td>\n",
       "      <td>0</td>\n",
       "      <td>95856.832424</td>\n",
       "      <td>на проведение свадьбы</td>\n",
       "    </tr>\n",
       "    <tr>\n",
       "      <td>9</td>\n",
       "      <td>0</td>\n",
       "      <td>-2188.756445</td>\n",
       "      <td>41</td>\n",
       "      <td>среднее</td>\n",
       "      <td>1</td>\n",
       "      <td>женат / замужем</td>\n",
       "      <td>0</td>\n",
       "      <td>M</td>\n",
       "      <td>сотрудник</td>\n",
       "      <td>0</td>\n",
       "      <td>144425.938277</td>\n",
       "      <td>покупка жилья для семьи</td>\n",
       "    </tr>\n",
       "  </tbody>\n",
       "</table>\n",
       "</div>"
      ],
      "text/plain": [
       "   children  days_employed  dob_years education  education_id  \\\n",
       "0         1   -8437.673028         42    высшее             0   \n",
       "1         1   -4024.803754         36   среднее             1   \n",
       "2         0   -5623.422610         33   Среднее             1   \n",
       "3         3   -4124.747207         32   среднее             1   \n",
       "4         0  340266.072047         53   среднее             1   \n",
       "5         0    -926.185831         27    высшее             0   \n",
       "6         0   -2879.202052         43    высшее             0   \n",
       "7         0    -152.779569         50   СРЕДНЕЕ             1   \n",
       "8         2   -6929.865299         35    ВЫСШЕЕ             0   \n",
       "9         0   -2188.756445         41   среднее             1   \n",
       "\n",
       "      family_status  family_status_id gender income_type  debt   total_income  \\\n",
       "0   женат / замужем                 0      F   сотрудник     0  253875.639453   \n",
       "1   женат / замужем                 0      F   сотрудник     0  112080.014102   \n",
       "2   женат / замужем                 0      M   сотрудник     0  145885.952297   \n",
       "3   женат / замужем                 0      M   сотрудник     0  267628.550329   \n",
       "4  гражданский брак                 1      F   пенсионер     0  158616.077870   \n",
       "5  гражданский брак                 1      M   компаньон     0  255763.565419   \n",
       "6   женат / замужем                 0      F   компаньон     0  240525.971920   \n",
       "7   женат / замужем                 0      M   сотрудник     0  135823.934197   \n",
       "8  гражданский брак                 1      F   сотрудник     0   95856.832424   \n",
       "9   женат / замужем                 0      M   сотрудник     0  144425.938277   \n",
       "\n",
       "                      purpose  \n",
       "0               покупка жилья  \n",
       "1     приобретение автомобиля  \n",
       "2               покупка жилья  \n",
       "3  дополнительное образование  \n",
       "4             сыграть свадьбу  \n",
       "5               покупка жилья  \n",
       "6           операции с жильем  \n",
       "7                 образование  \n",
       "8       на проведение свадьбы  \n",
       "9     покупка жилья для семьи  "
      ]
     },
     "metadata": {},
     "output_type": "display_data"
    }
   ],
   "source": [
    "display(df.head(10)) # просмотр первых 10 строк таблицы"
   ]
  },
  {
   "cell_type": "code",
   "execution_count": 4,
   "metadata": {},
   "outputs": [
    {
     "name": "stdout",
     "output_type": "stream",
     "text": [
      "<class 'pandas.core.frame.DataFrame'>\n",
      "RangeIndex: 21525 entries, 0 to 21524\n",
      "Data columns (total 12 columns):\n",
      "children            21525 non-null int64\n",
      "days_employed       19351 non-null float64\n",
      "dob_years           21525 non-null int64\n",
      "education           21525 non-null object\n",
      "education_id        21525 non-null int64\n",
      "family_status       21525 non-null object\n",
      "family_status_id    21525 non-null int64\n",
      "gender              21525 non-null object\n",
      "income_type         21525 non-null object\n",
      "debt                21525 non-null int64\n",
      "total_income        19351 non-null float64\n",
      "purpose             21525 non-null object\n",
      "dtypes: float64(2), int64(5), object(5)\n",
      "memory usage: 2.0+ MB\n"
     ]
    }
   ],
   "source": [
    "df.info() # получение сводной информации о файле"
   ]
  },
  {
   "cell_type": "markdown",
   "metadata": {},
   "source": [
    "В таблице 12 столбцов. Тип данных в пяти столбцах - object, в пяти - int64 и в двух - float64"
   ]
  },
  {
   "cell_type": "markdown",
   "metadata": {},
   "source": [
    "Согласно документации к данным:\n",
    "- children — количество детей в семье\n",
    "- days_employed — общий трудовой стаж в днях\n",
    "- dob_years — возраст клиента в годах\n",
    "- education — уровень образования клиента\n",
    "- education_id — идентификатор уровня образования\n",
    "- family_status — семейное положение\n",
    "- family_status_id — идентификатор семейного положения\n",
    "- gender — пол клиента\n",
    "- income_type — тип занятости\n",
    "- debt — имел ли задолженность по возврату кредитов\n",
    "- total_income — ежемесячный доход\n",
    "- purpose — цель получения кредита"
   ]
  },
  {
   "cell_type": "markdown",
   "metadata": {},
   "source": [
    "Количество значений в столбцах отличается. Значит в данных есть пропуски. Таких столбцов у нас два: трудовой стаж (days_employed) и тип занятости (total_income).\n"
   ]
  },
  {
   "cell_type": "markdown",
   "metadata": {},
   "source": [
    "По первым 10 строкам уже видно, что в данных есть дубликаты. А в столбце стаж есть отрицательные и слишком большие цифры, что говорит о том, что данные нужно обработать и перепроверить. Возможно есть еще некорректные или неполные данные, но по первым 10 строкам их пока не видно."
   ]
  },
  {
   "cell_type": "markdown",
   "metadata": {},
   "source": [
    "**Вывод**"
   ]
  },
  {
   "cell_type": "markdown",
   "metadata": {},
   "source": [
    "В каждой строке таблицы данные о заемщике. Часть данных рассказывает о самом заемщике, а часть о его ближайшем окружении (дети и семейное положение). \n"
   ]
  },
  {
   "cell_type": "markdown",
   "metadata": {},
   "source": [
    "Цель проекта: определить влияет ли ближайшее окружение клиента (наличие супруга и детей) на платежеспособность клиента."
   ]
  },
  {
   "cell_type": "markdown",
   "metadata": {},
   "source": [
    "На первый взгляд данных достаточно для проверки гипотез. Но встречаются проблемы в данных (пропуски и дубликаты)."
   ]
  },
  {
   "cell_type": "markdown",
   "metadata": {},
   "source": [
    "Чтобы перейти непосредственно к проверке гипотез, нужно устранить проблемы в данных."
   ]
  },
  {
   "cell_type": "code",
   "execution_count": 5,
   "metadata": {},
   "outputs": [
    {
     "data": {
      "text/plain": [
       "children            0.000000\n",
       "days_employed       0.100999\n",
       "dob_years           0.000000\n",
       "education           0.000000\n",
       "education_id        0.000000\n",
       "family_status       0.000000\n",
       "family_status_id    0.000000\n",
       "gender              0.000000\n",
       "income_type         0.000000\n",
       "debt                0.000000\n",
       "total_income        0.100999\n",
       "purpose             0.000000\n",
       "dtype: float64"
      ]
     },
     "execution_count": 5,
     "metadata": {},
     "output_type": "execute_result"
    }
   ],
   "source": [
    "df.isna().mean()\n"
   ]
  },
  {
   "cell_type": "markdown",
   "metadata": {},
   "source": [
    "## Шаг 2. Предобработка данных"
   ]
  },
  {
   "cell_type": "markdown",
   "metadata": {},
   "source": [
    "### Обработка пропусков"
   ]
  },
  {
   "cell_type": "markdown",
   "metadata": {},
   "source": [
    "Посчитаем пропуски методом isna() в комбинации с методом sum(), чтобы получить количество пропусков, а не только значение True или False"
   ]
  },
  {
   "cell_type": "code",
   "execution_count": 6,
   "metadata": {},
   "outputs": [
    {
     "data": {
      "text/plain": [
       "children               0\n",
       "days_employed       2174\n",
       "dob_years              0\n",
       "education              0\n",
       "education_id           0\n",
       "family_status          0\n",
       "family_status_id       0\n",
       "gender                 0\n",
       "income_type            0\n",
       "debt                   0\n",
       "total_income        2174\n",
       "purpose                0\n",
       "dtype: int64"
      ]
     },
     "execution_count": 6,
     "metadata": {},
     "output_type": "execute_result"
    }
   ],
   "source": [
    "df.isna().sum() # подсчет пропусков"
   ]
  },
  {
   "cell_type": "markdown",
   "metadata": {},
   "source": [
    "Есть предположение, что люди, которые никогда не работали просто пропускают графу со стажем при заполнении анкеты. В этом случае можно заменить данные на ноль. Но возможны и другие причины пропусков, например человек никогда не работал. Поскольку пропусков более 10% от общего количества, замена на ноль может сильно исказить данные. Поэтому лучше посчитать среднюю арифметическую, но для этого сначала необходимо избавится от отрицательных значений и слишком больших значений."
   ]
  },
  {
   "cell_type": "markdown",
   "metadata": {},
   "source": [
    "Избавлятся от отрицательных значений будем с помощью метода abs(), который возвращает абсолютное значение числа, т.е. его модуль."
   ]
  },
  {
   "cell_type": "code",
   "execution_count": 7,
   "metadata": {},
   "outputs": [
    {
     "data": {
      "text/html": [
       "<div>\n",
       "<style scoped>\n",
       "    .dataframe tbody tr th:only-of-type {\n",
       "        vertical-align: middle;\n",
       "    }\n",
       "\n",
       "    .dataframe tbody tr th {\n",
       "        vertical-align: top;\n",
       "    }\n",
       "\n",
       "    .dataframe thead th {\n",
       "        text-align: right;\n",
       "    }\n",
       "</style>\n",
       "<table border=\"1\" class=\"dataframe\">\n",
       "  <thead>\n",
       "    <tr style=\"text-align: right;\">\n",
       "      <th></th>\n",
       "      <th>children</th>\n",
       "      <th>days_employed</th>\n",
       "      <th>dob_years</th>\n",
       "      <th>education</th>\n",
       "      <th>education_id</th>\n",
       "      <th>family_status</th>\n",
       "      <th>family_status_id</th>\n",
       "      <th>gender</th>\n",
       "      <th>income_type</th>\n",
       "      <th>debt</th>\n",
       "      <th>total_income</th>\n",
       "      <th>purpose</th>\n",
       "    </tr>\n",
       "  </thead>\n",
       "  <tbody>\n",
       "    <tr>\n",
       "      <td>0</td>\n",
       "      <td>1</td>\n",
       "      <td>8437.673028</td>\n",
       "      <td>42</td>\n",
       "      <td>высшее</td>\n",
       "      <td>0</td>\n",
       "      <td>женат / замужем</td>\n",
       "      <td>0</td>\n",
       "      <td>F</td>\n",
       "      <td>сотрудник</td>\n",
       "      <td>0</td>\n",
       "      <td>253875.639453</td>\n",
       "      <td>покупка жилья</td>\n",
       "    </tr>\n",
       "    <tr>\n",
       "      <td>1</td>\n",
       "      <td>1</td>\n",
       "      <td>4024.803754</td>\n",
       "      <td>36</td>\n",
       "      <td>среднее</td>\n",
       "      <td>1</td>\n",
       "      <td>женат / замужем</td>\n",
       "      <td>0</td>\n",
       "      <td>F</td>\n",
       "      <td>сотрудник</td>\n",
       "      <td>0</td>\n",
       "      <td>112080.014102</td>\n",
       "      <td>приобретение автомобиля</td>\n",
       "    </tr>\n",
       "    <tr>\n",
       "      <td>2</td>\n",
       "      <td>0</td>\n",
       "      <td>5623.422610</td>\n",
       "      <td>33</td>\n",
       "      <td>Среднее</td>\n",
       "      <td>1</td>\n",
       "      <td>женат / замужем</td>\n",
       "      <td>0</td>\n",
       "      <td>M</td>\n",
       "      <td>сотрудник</td>\n",
       "      <td>0</td>\n",
       "      <td>145885.952297</td>\n",
       "      <td>покупка жилья</td>\n",
       "    </tr>\n",
       "    <tr>\n",
       "      <td>3</td>\n",
       "      <td>3</td>\n",
       "      <td>4124.747207</td>\n",
       "      <td>32</td>\n",
       "      <td>среднее</td>\n",
       "      <td>1</td>\n",
       "      <td>женат / замужем</td>\n",
       "      <td>0</td>\n",
       "      <td>M</td>\n",
       "      <td>сотрудник</td>\n",
       "      <td>0</td>\n",
       "      <td>267628.550329</td>\n",
       "      <td>дополнительное образование</td>\n",
       "    </tr>\n",
       "    <tr>\n",
       "      <td>4</td>\n",
       "      <td>0</td>\n",
       "      <td>340266.072047</td>\n",
       "      <td>53</td>\n",
       "      <td>среднее</td>\n",
       "      <td>1</td>\n",
       "      <td>гражданский брак</td>\n",
       "      <td>1</td>\n",
       "      <td>F</td>\n",
       "      <td>пенсионер</td>\n",
       "      <td>0</td>\n",
       "      <td>158616.077870</td>\n",
       "      <td>сыграть свадьбу</td>\n",
       "    </tr>\n",
       "    <tr>\n",
       "      <td>5</td>\n",
       "      <td>0</td>\n",
       "      <td>926.185831</td>\n",
       "      <td>27</td>\n",
       "      <td>высшее</td>\n",
       "      <td>0</td>\n",
       "      <td>гражданский брак</td>\n",
       "      <td>1</td>\n",
       "      <td>M</td>\n",
       "      <td>компаньон</td>\n",
       "      <td>0</td>\n",
       "      <td>255763.565419</td>\n",
       "      <td>покупка жилья</td>\n",
       "    </tr>\n",
       "    <tr>\n",
       "      <td>6</td>\n",
       "      <td>0</td>\n",
       "      <td>2879.202052</td>\n",
       "      <td>43</td>\n",
       "      <td>высшее</td>\n",
       "      <td>0</td>\n",
       "      <td>женат / замужем</td>\n",
       "      <td>0</td>\n",
       "      <td>F</td>\n",
       "      <td>компаньон</td>\n",
       "      <td>0</td>\n",
       "      <td>240525.971920</td>\n",
       "      <td>операции с жильем</td>\n",
       "    </tr>\n",
       "    <tr>\n",
       "      <td>7</td>\n",
       "      <td>0</td>\n",
       "      <td>152.779569</td>\n",
       "      <td>50</td>\n",
       "      <td>СРЕДНЕЕ</td>\n",
       "      <td>1</td>\n",
       "      <td>женат / замужем</td>\n",
       "      <td>0</td>\n",
       "      <td>M</td>\n",
       "      <td>сотрудник</td>\n",
       "      <td>0</td>\n",
       "      <td>135823.934197</td>\n",
       "      <td>образование</td>\n",
       "    </tr>\n",
       "    <tr>\n",
       "      <td>8</td>\n",
       "      <td>2</td>\n",
       "      <td>6929.865299</td>\n",
       "      <td>35</td>\n",
       "      <td>ВЫСШЕЕ</td>\n",
       "      <td>0</td>\n",
       "      <td>гражданский брак</td>\n",
       "      <td>1</td>\n",
       "      <td>F</td>\n",
       "      <td>сотрудник</td>\n",
       "      <td>0</td>\n",
       "      <td>95856.832424</td>\n",
       "      <td>на проведение свадьбы</td>\n",
       "    </tr>\n",
       "    <tr>\n",
       "      <td>9</td>\n",
       "      <td>0</td>\n",
       "      <td>2188.756445</td>\n",
       "      <td>41</td>\n",
       "      <td>среднее</td>\n",
       "      <td>1</td>\n",
       "      <td>женат / замужем</td>\n",
       "      <td>0</td>\n",
       "      <td>M</td>\n",
       "      <td>сотрудник</td>\n",
       "      <td>0</td>\n",
       "      <td>144425.938277</td>\n",
       "      <td>покупка жилья для семьи</td>\n",
       "    </tr>\n",
       "  </tbody>\n",
       "</table>\n",
       "</div>"
      ],
      "text/plain": [
       "   children  days_employed  dob_years education  education_id  \\\n",
       "0         1    8437.673028         42    высшее             0   \n",
       "1         1    4024.803754         36   среднее             1   \n",
       "2         0    5623.422610         33   Среднее             1   \n",
       "3         3    4124.747207         32   среднее             1   \n",
       "4         0  340266.072047         53   среднее             1   \n",
       "5         0     926.185831         27    высшее             0   \n",
       "6         0    2879.202052         43    высшее             0   \n",
       "7         0     152.779569         50   СРЕДНЕЕ             1   \n",
       "8         2    6929.865299         35    ВЫСШЕЕ             0   \n",
       "9         0    2188.756445         41   среднее             1   \n",
       "\n",
       "      family_status  family_status_id gender income_type  debt   total_income  \\\n",
       "0   женат / замужем                 0      F   сотрудник     0  253875.639453   \n",
       "1   женат / замужем                 0      F   сотрудник     0  112080.014102   \n",
       "2   женат / замужем                 0      M   сотрудник     0  145885.952297   \n",
       "3   женат / замужем                 0      M   сотрудник     0  267628.550329   \n",
       "4  гражданский брак                 1      F   пенсионер     0  158616.077870   \n",
       "5  гражданский брак                 1      M   компаньон     0  255763.565419   \n",
       "6   женат / замужем                 0      F   компаньон     0  240525.971920   \n",
       "7   женат / замужем                 0      M   сотрудник     0  135823.934197   \n",
       "8  гражданский брак                 1      F   сотрудник     0   95856.832424   \n",
       "9   женат / замужем                 0      M   сотрудник     0  144425.938277   \n",
       "\n",
       "                      purpose  \n",
       "0               покупка жилья  \n",
       "1     приобретение автомобиля  \n",
       "2               покупка жилья  \n",
       "3  дополнительное образование  \n",
       "4             сыграть свадьбу  \n",
       "5               покупка жилья  \n",
       "6           операции с жильем  \n",
       "7                 образование  \n",
       "8       на проведение свадьбы  \n",
       "9     покупка жилья для семьи  "
      ]
     },
     "metadata": {},
     "output_type": "display_data"
    }
   ],
   "source": [
    "df['days_employed'] = abs(df['days_employed']) # заменяем отрицательные значения на модуль\n",
    "display(df.head(10)) # сразу проверяем, что данные изменились на примере первых 10 строк\n"
   ]
  },
  {
   "cell_type": "markdown",
   "metadata": {},
   "source": [
    "Как правило человек начинает работать не ранее 18 лет (но могут быть и исключения).А также стаж не может быть больше, чем возраст человека. Поэтому найдем все значения, которые больше, чем возраст клиента умноженный на 365 дней. Вероятно, что данные о стаже выражены в часах и тогда стаж разделим на 24 и получим данные в днях"
   ]
  },
  {
   "cell_type": "markdown",
   "metadata": {},
   "source": [
    "Мы знаем, что в данном столбце есть пропуски. Чтобы цикл не прервал свою работу, при столкновении с пропущенным значением, используем конструкцию try-except. "
   ]
  },
  {
   "cell_type": "code",
   "execution_count": 8,
   "metadata": {},
   "outputs": [],
   "source": [
    "import warnings\n",
    "warnings.simplefilter(\"ignore\")\n",
    "\n",
    "for i in range(len(df['days_employed'])):\n",
    "    if df['days_employed'][i]>= df['dob_years'][i]*365:\n",
    "        try:    \n",
    "            df['days_employed'][i]/= 24 # код где может быть ошибка\n",
    "        except:\n",
    "            df['days_employed'][i]=df['days_employed'][i] # действия, если возникла ошибка\n",
    "            \n",
    "\n",
    "               \n"
   ]
  },
  {
   "cell_type": "markdown",
   "metadata": {},
   "source": [
    "\n"
   ]
  },
  {
   "cell_type": "code",
   "execution_count": 9,
   "metadata": {},
   "outputs": [
    {
     "data": {
      "text/html": [
       "<div>\n",
       "<style scoped>\n",
       "    .dataframe tbody tr th:only-of-type {\n",
       "        vertical-align: middle;\n",
       "    }\n",
       "\n",
       "    .dataframe tbody tr th {\n",
       "        vertical-align: top;\n",
       "    }\n",
       "\n",
       "    .dataframe thead th {\n",
       "        text-align: right;\n",
       "    }\n",
       "</style>\n",
       "<table border=\"1\" class=\"dataframe\">\n",
       "  <thead>\n",
       "    <tr style=\"text-align: right;\">\n",
       "      <th></th>\n",
       "      <th>children</th>\n",
       "      <th>days_employed</th>\n",
       "      <th>dob_years</th>\n",
       "      <th>education</th>\n",
       "      <th>education_id</th>\n",
       "      <th>family_status</th>\n",
       "      <th>family_status_id</th>\n",
       "      <th>gender</th>\n",
       "      <th>income_type</th>\n",
       "      <th>debt</th>\n",
       "      <th>total_income</th>\n",
       "      <th>purpose</th>\n",
       "    </tr>\n",
       "  </thead>\n",
       "  <tbody>\n",
       "    <tr>\n",
       "      <td>0</td>\n",
       "      <td>1</td>\n",
       "      <td>8437.673028</td>\n",
       "      <td>42</td>\n",
       "      <td>высшее</td>\n",
       "      <td>0</td>\n",
       "      <td>женат / замужем</td>\n",
       "      <td>0</td>\n",
       "      <td>F</td>\n",
       "      <td>сотрудник</td>\n",
       "      <td>0</td>\n",
       "      <td>253875.639453</td>\n",
       "      <td>покупка жилья</td>\n",
       "    </tr>\n",
       "    <tr>\n",
       "      <td>1</td>\n",
       "      <td>1</td>\n",
       "      <td>4024.803754</td>\n",
       "      <td>36</td>\n",
       "      <td>среднее</td>\n",
       "      <td>1</td>\n",
       "      <td>женат / замужем</td>\n",
       "      <td>0</td>\n",
       "      <td>F</td>\n",
       "      <td>сотрудник</td>\n",
       "      <td>0</td>\n",
       "      <td>112080.014102</td>\n",
       "      <td>приобретение автомобиля</td>\n",
       "    </tr>\n",
       "    <tr>\n",
       "      <td>2</td>\n",
       "      <td>0</td>\n",
       "      <td>5623.422610</td>\n",
       "      <td>33</td>\n",
       "      <td>Среднее</td>\n",
       "      <td>1</td>\n",
       "      <td>женат / замужем</td>\n",
       "      <td>0</td>\n",
       "      <td>M</td>\n",
       "      <td>сотрудник</td>\n",
       "      <td>0</td>\n",
       "      <td>145885.952297</td>\n",
       "      <td>покупка жилья</td>\n",
       "    </tr>\n",
       "    <tr>\n",
       "      <td>3</td>\n",
       "      <td>3</td>\n",
       "      <td>4124.747207</td>\n",
       "      <td>32</td>\n",
       "      <td>среднее</td>\n",
       "      <td>1</td>\n",
       "      <td>женат / замужем</td>\n",
       "      <td>0</td>\n",
       "      <td>M</td>\n",
       "      <td>сотрудник</td>\n",
       "      <td>0</td>\n",
       "      <td>267628.550329</td>\n",
       "      <td>дополнительное образование</td>\n",
       "    </tr>\n",
       "    <tr>\n",
       "      <td>4</td>\n",
       "      <td>0</td>\n",
       "      <td>14177.753002</td>\n",
       "      <td>53</td>\n",
       "      <td>среднее</td>\n",
       "      <td>1</td>\n",
       "      <td>гражданский брак</td>\n",
       "      <td>1</td>\n",
       "      <td>F</td>\n",
       "      <td>пенсионер</td>\n",
       "      <td>0</td>\n",
       "      <td>158616.077870</td>\n",
       "      <td>сыграть свадьбу</td>\n",
       "    </tr>\n",
       "    <tr>\n",
       "      <td>5</td>\n",
       "      <td>0</td>\n",
       "      <td>926.185831</td>\n",
       "      <td>27</td>\n",
       "      <td>высшее</td>\n",
       "      <td>0</td>\n",
       "      <td>гражданский брак</td>\n",
       "      <td>1</td>\n",
       "      <td>M</td>\n",
       "      <td>компаньон</td>\n",
       "      <td>0</td>\n",
       "      <td>255763.565419</td>\n",
       "      <td>покупка жилья</td>\n",
       "    </tr>\n",
       "    <tr>\n",
       "      <td>6</td>\n",
       "      <td>0</td>\n",
       "      <td>2879.202052</td>\n",
       "      <td>43</td>\n",
       "      <td>высшее</td>\n",
       "      <td>0</td>\n",
       "      <td>женат / замужем</td>\n",
       "      <td>0</td>\n",
       "      <td>F</td>\n",
       "      <td>компаньон</td>\n",
       "      <td>0</td>\n",
       "      <td>240525.971920</td>\n",
       "      <td>операции с жильем</td>\n",
       "    </tr>\n",
       "    <tr>\n",
       "      <td>7</td>\n",
       "      <td>0</td>\n",
       "      <td>152.779569</td>\n",
       "      <td>50</td>\n",
       "      <td>СРЕДНЕЕ</td>\n",
       "      <td>1</td>\n",
       "      <td>женат / замужем</td>\n",
       "      <td>0</td>\n",
       "      <td>M</td>\n",
       "      <td>сотрудник</td>\n",
       "      <td>0</td>\n",
       "      <td>135823.934197</td>\n",
       "      <td>образование</td>\n",
       "    </tr>\n",
       "    <tr>\n",
       "      <td>8</td>\n",
       "      <td>2</td>\n",
       "      <td>6929.865299</td>\n",
       "      <td>35</td>\n",
       "      <td>ВЫСШЕЕ</td>\n",
       "      <td>0</td>\n",
       "      <td>гражданский брак</td>\n",
       "      <td>1</td>\n",
       "      <td>F</td>\n",
       "      <td>сотрудник</td>\n",
       "      <td>0</td>\n",
       "      <td>95856.832424</td>\n",
       "      <td>на проведение свадьбы</td>\n",
       "    </tr>\n",
       "    <tr>\n",
       "      <td>9</td>\n",
       "      <td>0</td>\n",
       "      <td>2188.756445</td>\n",
       "      <td>41</td>\n",
       "      <td>среднее</td>\n",
       "      <td>1</td>\n",
       "      <td>женат / замужем</td>\n",
       "      <td>0</td>\n",
       "      <td>M</td>\n",
       "      <td>сотрудник</td>\n",
       "      <td>0</td>\n",
       "      <td>144425.938277</td>\n",
       "      <td>покупка жилья для семьи</td>\n",
       "    </tr>\n",
       "  </tbody>\n",
       "</table>\n",
       "</div>"
      ],
      "text/plain": [
       "   children  days_employed  dob_years education  education_id  \\\n",
       "0         1    8437.673028         42    высшее             0   \n",
       "1         1    4024.803754         36   среднее             1   \n",
       "2         0    5623.422610         33   Среднее             1   \n",
       "3         3    4124.747207         32   среднее             1   \n",
       "4         0   14177.753002         53   среднее             1   \n",
       "5         0     926.185831         27    высшее             0   \n",
       "6         0    2879.202052         43    высшее             0   \n",
       "7         0     152.779569         50   СРЕДНЕЕ             1   \n",
       "8         2    6929.865299         35    ВЫСШЕЕ             0   \n",
       "9         0    2188.756445         41   среднее             1   \n",
       "\n",
       "      family_status  family_status_id gender income_type  debt   total_income  \\\n",
       "0   женат / замужем                 0      F   сотрудник     0  253875.639453   \n",
       "1   женат / замужем                 0      F   сотрудник     0  112080.014102   \n",
       "2   женат / замужем                 0      M   сотрудник     0  145885.952297   \n",
       "3   женат / замужем                 0      M   сотрудник     0  267628.550329   \n",
       "4  гражданский брак                 1      F   пенсионер     0  158616.077870   \n",
       "5  гражданский брак                 1      M   компаньон     0  255763.565419   \n",
       "6   женат / замужем                 0      F   компаньон     0  240525.971920   \n",
       "7   женат / замужем                 0      M   сотрудник     0  135823.934197   \n",
       "8  гражданский брак                 1      F   сотрудник     0   95856.832424   \n",
       "9   женат / замужем                 0      M   сотрудник     0  144425.938277   \n",
       "\n",
       "                      purpose  \n",
       "0               покупка жилья  \n",
       "1     приобретение автомобиля  \n",
       "2               покупка жилья  \n",
       "3  дополнительное образование  \n",
       "4             сыграть свадьбу  \n",
       "5               покупка жилья  \n",
       "6           операции с жильем  \n",
       "7                 образование  \n",
       "8       на проведение свадьбы  \n",
       "9     покупка жилья для семьи  "
      ]
     },
     "metadata": {},
     "output_type": "display_data"
    }
   ],
   "source": [
    "display(df.head(10)) # проверим первые 10 строк"
   ]
  },
  {
   "cell_type": "markdown",
   "metadata": {},
   "source": [
    "Данные изменились. В 5-ой строке было огромное значение, соответствующее более 900 лет работы, теперь данные приведены к дневному формату."
   ]
  },
  {
   "cell_type": "markdown",
   "metadata": {},
   "source": [
    "Стаж конечно не может быть больше возраста человека, но при этом в 20 лет можно иметь больше стажа работы, чем в 60. Поэтому считать средний стаж по возрасным группам не имеет смысла. Мы посчитаем среднее арифметическое по всей выборке и заменим пропущенные значения на него."
   ]
  },
  {
   "cell_type": "code",
   "execution_count": 10,
   "metadata": {},
   "outputs": [
    {
     "data": {
      "text/plain": [
       "4633.577338893336"
      ]
     },
     "metadata": {},
     "output_type": "display_data"
    }
   ],
   "source": [
    "days_employed_mean = df['days_employed'].sort_values().mean() # отсортируем данные в столбце по возрастанию и посчитаем среднее арифметическое\n",
    "display(days_employed_mean) # выведем значение на экран"
   ]
  },
  {
   "cell_type": "markdown",
   "metadata": {},
   "source": [
    "С помощью метода fillna() заменяем пропуски. Он вместо NaN вставит в столбик тот аргумент, который мы ему укажем. В нашем случае - это среднее арифметическое."
   ]
  },
  {
   "cell_type": "code",
   "execution_count": 11,
   "metadata": {},
   "outputs": [],
   "source": [
    "df['days_employed'] = df['days_employed'].fillna(days_employed_mean) # заменяем пропуски на расчитанное среднее арифметическое"
   ]
  },
  {
   "cell_type": "markdown",
   "metadata": {},
   "source": [
    "Данные о доходе в месяц (total_income) напрямую влияют на кредитоспособность людей. "
   ]
  },
  {
   "cell_type": "markdown",
   "metadata": {},
   "source": [
    "- необходимо заполнить пропуски в этом столбце"
   ]
  },
  {
   "cell_type": "markdown",
   "metadata": {},
   "source": [
    "Поскольку банк не выдает кредитов людям без дохода, то заменять пропуски на ноль нельзя. Разброс дохода тоже может быть очень большим и брать среднее арифметическое не корректно. Для редактирования данных больше всего подойдет замена на медиану значения дохода. Но для начала нужно отсортировать сумму дохода по возрастанию."
   ]
  },
  {
   "cell_type": "markdown",
   "metadata": {},
   "source": [
    "Для сортировки используем метод sort_values(), который отсортирует наши данные в порядке возрастания. А затем с помощью метода fillna() заменим пропуски на медиану."
   ]
  },
  {
   "cell_type": "code",
   "execution_count": 12,
   "metadata": {},
   "outputs": [
    {
     "data": {
      "text/plain": [
       "145017.93753253992"
      ]
     },
     "metadata": {},
     "output_type": "display_data"
    }
   ],
   "source": [
    "total_income_median = df['total_income'].sort_values().median() # отсортируем данные в столбце по возрастанию и посчитаем медиану\n",
    "\n",
    "display(total_income_median) # выводим значение на экран"
   ]
  },
  {
   "cell_type": "code",
   "execution_count": 13,
   "metadata": {},
   "outputs": [],
   "source": [
    "df['total_income'] = df['total_income'].fillna(total_income_median) # заменяем пропущенные значения в столбце на медиану"
   ]
  },
  {
   "cell_type": "markdown",
   "metadata": {},
   "source": [
    "Проверим, что все пропуски заполнены"
   ]
  },
  {
   "cell_type": "code",
   "execution_count": 14,
   "metadata": {},
   "outputs": [
    {
     "data": {
      "text/plain": [
       "children            0\n",
       "days_employed       0\n",
       "dob_years           0\n",
       "education           0\n",
       "education_id        0\n",
       "family_status       0\n",
       "family_status_id    0\n",
       "gender              0\n",
       "income_type         0\n",
       "debt                0\n",
       "total_income        0\n",
       "purpose             0\n",
       "dtype: int64"
      ]
     },
     "execution_count": 14,
     "metadata": {},
     "output_type": "execute_result"
    }
   ],
   "source": [
    "df.isna().sum() # подсчет пропусков"
   ]
  },
  {
   "cell_type": "markdown",
   "metadata": {},
   "source": [
    "В процессе предобработки данных, обнаружилось, что в столбце возраст клиента (dob_years) есть нулевые значения (не пропущенные, а именно равные 0). Проверим:"
   ]
  },
  {
   "cell_type": "code",
   "execution_count": 15,
   "metadata": {},
   "outputs": [
    {
     "data": {
      "text/plain": [
       "0"
      ]
     },
     "metadata": {},
     "output_type": "display_data"
    }
   ],
   "source": [
    "display(df['dob_years'].min()) # определяем минимальное количество с помощью метода min()\n"
   ]
  },
  {
   "cell_type": "markdown",
   "metadata": {},
   "source": [
    "Действительно нулевые значения есть. Не понятно только заменять их на среднее арифметическое или на медиану. Среднее арифметическое сложит все значения и поделит из на количество аргументов, а медиана находит значение находящееся в середине выборки. Посчитаем и то и другое."
   ]
  },
  {
   "cell_type": "code",
   "execution_count": 16,
   "metadata": {},
   "outputs": [
    {
     "data": {
      "text/plain": [
       "43.29337979094077"
      ]
     },
     "metadata": {},
     "output_type": "display_data"
    }
   ],
   "source": [
    "display(df['dob_years'].mean()) # расчет среднего арифметического"
   ]
  },
  {
   "cell_type": "code",
   "execution_count": 17,
   "metadata": {},
   "outputs": [
    {
     "data": {
      "text/plain": [
       "42.0"
      ]
     },
     "metadata": {},
     "output_type": "display_data"
    }
   ],
   "source": [
    "\n",
    "display(df['dob_years'].sort_values().median()) # расчет медианы по отсортированному по возрастанию списку\n"
   ]
  },
  {
   "cell_type": "markdown",
   "metadata": {},
   "source": [
    "Среднее арифметическое и медиана очень близки по значению, поэтому нет особой разницы, что использовать. Мы заменим ноль на медиану."
   ]
  },
  {
   "cell_type": "markdown",
   "metadata": {},
   "source": [
    "Для замены значения используем метод replace(). В качестве аргументов подадим ему старое значение (0) и новое значение (значение медианы)"
   ]
  },
  {
   "cell_type": "code",
   "execution_count": 18,
   "metadata": {},
   "outputs": [
    {
     "data": {
      "text/plain": [
       "19"
      ]
     },
     "metadata": {},
     "output_type": "display_data"
    }
   ],
   "source": [
    "dob_years_median = df['dob_years'].median() # сохраним в переменную значение медианы\n",
    "df['dob_years'] = df['dob_years'].replace(0, dob_years_median) # заменим 0 на значение в переменной\n",
    "display(df['dob_years'].min()) # проверим минимальное значение"
   ]
  },
  {
   "cell_type": "markdown",
   "metadata": {},
   "source": [
    "Нули заменили и проверили, что теперь минимальное значение не равно 0"
   ]
  },
  {
   "cell_type": "markdown",
   "metadata": {},
   "source": [
    "В анализе потребуется работа со столбцом, в котором указано количество детей. Проверим его на наличие \"артефактов\"."
   ]
  },
  {
   "cell_type": "markdown",
   "metadata": {},
   "source": [
    "С помощью метода value_counts(), мы можем увидеть не только уникальные значения, но и частоту их появления."
   ]
  },
  {
   "cell_type": "code",
   "execution_count": 19,
   "metadata": {},
   "outputs": [
    {
     "data": {
      "text/plain": [
       " 0     14149\n",
       " 1      4818\n",
       " 2      2055\n",
       " 3       330\n",
       " 20       76\n",
       "-1        47\n",
       " 4        41\n",
       " 5         9\n",
       "Name: children, dtype: int64"
      ]
     },
     "execution_count": 19,
     "metadata": {},
     "output_type": "execute_result"
    }
   ],
   "source": [
    "df['children'].value_counts()"
   ]
  },
  {
   "cell_type": "markdown",
   "metadata": {},
   "source": [
    "Опять обнаружены отрицательные значения. Возможно при заполнении анкеты клиенты ставили перед количеством дефис, но при загрузке в программу он попат туда, как минус. Заменим их на модуль числа с помощью метода abs()"
   ]
  },
  {
   "cell_type": "code",
   "execution_count": 20,
   "metadata": {},
   "outputs": [],
   "source": [
    "df['children'] = abs(df['children']) # замена значения на его модуль"
   ]
  },
  {
   "cell_type": "markdown",
   "metadata": {},
   "source": [
    "Также есть некоторое количество людей, у которых отмечено по 20 детей. По 20 детей написано даже у людей, которым до 30 лет. Вероятнее всего здесь опять некорректное введение данных. Возможно клиент указал 2.0, а система восприняла это, как 20.\n"
   ]
  },
  {
   "cell_type": "code",
   "execution_count": 21,
   "metadata": {},
   "outputs": [
    {
     "data": {
      "text/html": [
       "<div>\n",
       "<style scoped>\n",
       "    .dataframe tbody tr th:only-of-type {\n",
       "        vertical-align: middle;\n",
       "    }\n",
       "\n",
       "    .dataframe tbody tr th {\n",
       "        vertical-align: top;\n",
       "    }\n",
       "\n",
       "    .dataframe thead th {\n",
       "        text-align: right;\n",
       "    }\n",
       "</style>\n",
       "<table border=\"1\" class=\"dataframe\">\n",
       "  <thead>\n",
       "    <tr style=\"text-align: right;\">\n",
       "      <th></th>\n",
       "      <th>children</th>\n",
       "      <th>days_employed</th>\n",
       "      <th>dob_years</th>\n",
       "      <th>education</th>\n",
       "      <th>education_id</th>\n",
       "      <th>family_status</th>\n",
       "      <th>family_status_id</th>\n",
       "      <th>gender</th>\n",
       "      <th>income_type</th>\n",
       "      <th>debt</th>\n",
       "      <th>total_income</th>\n",
       "      <th>purpose</th>\n",
       "    </tr>\n",
       "  </thead>\n",
       "  <tbody>\n",
       "    <tr>\n",
       "      <td>606</td>\n",
       "      <td>20</td>\n",
       "      <td>880.221113</td>\n",
       "      <td>21</td>\n",
       "      <td>среднее</td>\n",
       "      <td>1</td>\n",
       "      <td>женат / замужем</td>\n",
       "      <td>0</td>\n",
       "      <td>M</td>\n",
       "      <td>компаньон</td>\n",
       "      <td>0</td>\n",
       "      <td>145334.865002</td>\n",
       "      <td>покупка жилья</td>\n",
       "    </tr>\n",
       "    <tr>\n",
       "      <td>720</td>\n",
       "      <td>20</td>\n",
       "      <td>855.595512</td>\n",
       "      <td>44</td>\n",
       "      <td>среднее</td>\n",
       "      <td>1</td>\n",
       "      <td>женат / замужем</td>\n",
       "      <td>0</td>\n",
       "      <td>F</td>\n",
       "      <td>компаньон</td>\n",
       "      <td>0</td>\n",
       "      <td>112998.738649</td>\n",
       "      <td>покупка недвижимости</td>\n",
       "    </tr>\n",
       "    <tr>\n",
       "      <td>1074</td>\n",
       "      <td>20</td>\n",
       "      <td>3310.411598</td>\n",
       "      <td>56</td>\n",
       "      <td>среднее</td>\n",
       "      <td>1</td>\n",
       "      <td>женат / замужем</td>\n",
       "      <td>0</td>\n",
       "      <td>F</td>\n",
       "      <td>сотрудник</td>\n",
       "      <td>1</td>\n",
       "      <td>229518.537004</td>\n",
       "      <td>получение образования</td>\n",
       "    </tr>\n",
       "    <tr>\n",
       "      <td>2510</td>\n",
       "      <td>20</td>\n",
       "      <td>2714.161249</td>\n",
       "      <td>59</td>\n",
       "      <td>высшее</td>\n",
       "      <td>0</td>\n",
       "      <td>вдовец / вдова</td>\n",
       "      <td>2</td>\n",
       "      <td>F</td>\n",
       "      <td>сотрудник</td>\n",
       "      <td>0</td>\n",
       "      <td>264474.835577</td>\n",
       "      <td>операции с коммерческой недвижимостью</td>\n",
       "    </tr>\n",
       "    <tr>\n",
       "      <td>2941</td>\n",
       "      <td>20</td>\n",
       "      <td>90.066313</td>\n",
       "      <td>42</td>\n",
       "      <td>среднее</td>\n",
       "      <td>1</td>\n",
       "      <td>женат / замужем</td>\n",
       "      <td>0</td>\n",
       "      <td>F</td>\n",
       "      <td>сотрудник</td>\n",
       "      <td>0</td>\n",
       "      <td>199739.941398</td>\n",
       "      <td>на покупку автомобиля</td>\n",
       "    </tr>\n",
       "    <tr>\n",
       "      <td>...</td>\n",
       "      <td>...</td>\n",
       "      <td>...</td>\n",
       "      <td>...</td>\n",
       "      <td>...</td>\n",
       "      <td>...</td>\n",
       "      <td>...</td>\n",
       "      <td>...</td>\n",
       "      <td>...</td>\n",
       "      <td>...</td>\n",
       "      <td>...</td>\n",
       "      <td>...</td>\n",
       "      <td>...</td>\n",
       "    </tr>\n",
       "    <tr>\n",
       "      <td>21008</td>\n",
       "      <td>20</td>\n",
       "      <td>1240.257910</td>\n",
       "      <td>40</td>\n",
       "      <td>среднее</td>\n",
       "      <td>1</td>\n",
       "      <td>женат / замужем</td>\n",
       "      <td>0</td>\n",
       "      <td>F</td>\n",
       "      <td>сотрудник</td>\n",
       "      <td>1</td>\n",
       "      <td>133524.010303</td>\n",
       "      <td>свой автомобиль</td>\n",
       "    </tr>\n",
       "    <tr>\n",
       "      <td>21325</td>\n",
       "      <td>20</td>\n",
       "      <td>601.174883</td>\n",
       "      <td>37</td>\n",
       "      <td>среднее</td>\n",
       "      <td>1</td>\n",
       "      <td>женат / замужем</td>\n",
       "      <td>0</td>\n",
       "      <td>F</td>\n",
       "      <td>компаньон</td>\n",
       "      <td>0</td>\n",
       "      <td>102986.065978</td>\n",
       "      <td>профильное образование</td>\n",
       "    </tr>\n",
       "    <tr>\n",
       "      <td>21390</td>\n",
       "      <td>20</td>\n",
       "      <td>4633.577339</td>\n",
       "      <td>53</td>\n",
       "      <td>среднее</td>\n",
       "      <td>1</td>\n",
       "      <td>женат / замужем</td>\n",
       "      <td>0</td>\n",
       "      <td>M</td>\n",
       "      <td>компаньон</td>\n",
       "      <td>0</td>\n",
       "      <td>145017.937533</td>\n",
       "      <td>покупка жилой недвижимости</td>\n",
       "    </tr>\n",
       "    <tr>\n",
       "      <td>21404</td>\n",
       "      <td>20</td>\n",
       "      <td>494.788448</td>\n",
       "      <td>52</td>\n",
       "      <td>среднее</td>\n",
       "      <td>1</td>\n",
       "      <td>женат / замужем</td>\n",
       "      <td>0</td>\n",
       "      <td>M</td>\n",
       "      <td>компаньон</td>\n",
       "      <td>0</td>\n",
       "      <td>156629.683642</td>\n",
       "      <td>операции со своей недвижимостью</td>\n",
       "    </tr>\n",
       "    <tr>\n",
       "      <td>21491</td>\n",
       "      <td>20</td>\n",
       "      <td>173.954460</td>\n",
       "      <td>27</td>\n",
       "      <td>среднее</td>\n",
       "      <td>1</td>\n",
       "      <td>женат / замужем</td>\n",
       "      <td>0</td>\n",
       "      <td>F</td>\n",
       "      <td>сотрудник</td>\n",
       "      <td>0</td>\n",
       "      <td>155520.899688</td>\n",
       "      <td>на покупку подержанного автомобиля</td>\n",
       "    </tr>\n",
       "  </tbody>\n",
       "</table>\n",
       "<p>76 rows × 12 columns</p>\n",
       "</div>"
      ],
      "text/plain": [
       "       children  days_employed  dob_years education  education_id  \\\n",
       "606          20     880.221113         21   среднее             1   \n",
       "720          20     855.595512         44   среднее             1   \n",
       "1074         20    3310.411598         56   среднее             1   \n",
       "2510         20    2714.161249         59    высшее             0   \n",
       "2941         20      90.066313         42   среднее             1   \n",
       "...         ...            ...        ...       ...           ...   \n",
       "21008        20    1240.257910         40   среднее             1   \n",
       "21325        20     601.174883         37   среднее             1   \n",
       "21390        20    4633.577339         53   среднее             1   \n",
       "21404        20     494.788448         52   среднее             1   \n",
       "21491        20     173.954460         27   среднее             1   \n",
       "\n",
       "         family_status  family_status_id gender income_type  debt  \\\n",
       "606    женат / замужем                 0      M   компаньон     0   \n",
       "720    женат / замужем                 0      F   компаньон     0   \n",
       "1074   женат / замужем                 0      F   сотрудник     1   \n",
       "2510    вдовец / вдова                 2      F   сотрудник     0   \n",
       "2941   женат / замужем                 0      F   сотрудник     0   \n",
       "...                ...               ...    ...         ...   ...   \n",
       "21008  женат / замужем                 0      F   сотрудник     1   \n",
       "21325  женат / замужем                 0      F   компаньон     0   \n",
       "21390  женат / замужем                 0      M   компаньон     0   \n",
       "21404  женат / замужем                 0      M   компаньон     0   \n",
       "21491  женат / замужем                 0      F   сотрудник     0   \n",
       "\n",
       "        total_income                                purpose  \n",
       "606    145334.865002                          покупка жилья  \n",
       "720    112998.738649                   покупка недвижимости  \n",
       "1074   229518.537004                  получение образования  \n",
       "2510   264474.835577  операции с коммерческой недвижимостью  \n",
       "2941   199739.941398                  на покупку автомобиля  \n",
       "...              ...                                    ...  \n",
       "21008  133524.010303                        свой автомобиль  \n",
       "21325  102986.065978                 профильное образование  \n",
       "21390  145017.937533             покупка жилой недвижимости  \n",
       "21404  156629.683642        операции со своей недвижимостью  \n",
       "21491  155520.899688     на покупку подержанного автомобиля  \n",
       "\n",
       "[76 rows x 12 columns]"
      ]
     },
     "metadata": {},
     "output_type": "display_data"
    }
   ],
   "source": [
    "children = df.loc[df['children'] == 20] # посмотрим строки с указанием количеста детей равное 20\n",
    "\n",
    "display(children)"
   ]
  },
  {
   "cell_type": "code",
   "execution_count": 22,
   "metadata": {},
   "outputs": [],
   "source": [
    "df['children'] = df['children'].replace(20, 2)"
   ]
  },
  {
   "cell_type": "markdown",
   "metadata": {},
   "source": [
    "Мы заменили данные с помощью метода raplace() и вновь проверили данные с помощью value_counts()"
   ]
  },
  {
   "cell_type": "code",
   "execution_count": 23,
   "metadata": {},
   "outputs": [
    {
     "data": {
      "text/plain": [
       "0    14149\n",
       "1     4865\n",
       "2     2131\n",
       "3      330\n",
       "4       41\n",
       "5        9\n",
       "Name: children, dtype: int64"
      ]
     },
     "execution_count": 23,
     "metadata": {},
     "output_type": "execute_result"
    }
   ],
   "source": [
    "df['children'].value_counts()"
   ]
  },
  {
   "cell_type": "markdown",
   "metadata": {},
   "source": [
    "**Вывод**"
   ]
  },
  {
   "cell_type": "markdown",
   "metadata": {},
   "source": [
    "На начальном этапе обнаружены следующие проблемы в данных:"
   ]
  },
  {
   "cell_type": "markdown",
   "metadata": {},
   "source": [
    "- пропущены значения в столбцах с указанием трудового стажа и дохода в месяц\n",
    "- обнаружены отрицательные значения в столбцах с количеством детей и трудовым стажем\n",
    "- обнаружены большие числа в столбце трудовой стаж (данные указаны в часах, а не в днях)\n",
    "- в столбце с указанием количеста детей обнаружены ненормально большое количество\n",
    "- в столбце с указанием возраста некоторые значения равны 0."
   ]
  },
  {
   "cell_type": "markdown",
   "metadata": {},
   "source": [
    "Мы устранили указанные проблемы с помощью различных методов. Теперь пропущенные данные, отрицательные значения и просто некорректро введенные цифры не исказят результат."
   ]
  },
  {
   "cell_type": "markdown",
   "metadata": {},
   "source": [
    "### Замена типа данных"
   ]
  },
  {
   "cell_type": "markdown",
   "metadata": {},
   "source": [
    "В столбцах с указанием трудового стажа в днях и дохода, после запятой слишком много цифр. В трудовом стаже - это будет считаться некорректным введением данных, так как трудовой стаж -это целое число. А в столбике с доходом, много символов после запятой усложняют восприятие."
   ]
  },
  {
   "cell_type": "markdown",
   "metadata": {},
   "source": [
    "Заменим вещественный тип танных на целочисленный в столбце с трудовым стажем (days_employed) методом astype() "
   ]
  },
  {
   "cell_type": "code",
   "execution_count": 24,
   "metadata": {},
   "outputs": [],
   "source": [
    "df['days_employed'] = df['days_employed'].astype('int') # приведение вещественного значения к целочисленному\n"
   ]
  },
  {
   "cell_type": "markdown",
   "metadata": {},
   "source": [
    "Данные в столбце доход в месяц total_income, тоже приведем к целочисленному значению, поскольку округление до целого числа не сильно изменит суммарный доход даже при кредите на 10 лет. А вот читать в данных целые числа удобнее."
   ]
  },
  {
   "cell_type": "code",
   "execution_count": 25,
   "metadata": {},
   "outputs": [],
   "source": [
    "df['total_income'] = df['total_income'].astype('int') # приведение вещественного значения к целочисленному"
   ]
  },
  {
   "cell_type": "code",
   "execution_count": 26,
   "metadata": {},
   "outputs": [
    {
     "name": "stdout",
     "output_type": "stream",
     "text": [
      "<class 'pandas.core.frame.DataFrame'>\n",
      "RangeIndex: 21525 entries, 0 to 21524\n",
      "Data columns (total 12 columns):\n",
      "children            21525 non-null int64\n",
      "days_employed       21525 non-null int64\n",
      "dob_years           21525 non-null int64\n",
      "education           21525 non-null object\n",
      "education_id        21525 non-null int64\n",
      "family_status       21525 non-null object\n",
      "family_status_id    21525 non-null int64\n",
      "gender              21525 non-null object\n",
      "income_type         21525 non-null object\n",
      "debt                21525 non-null int64\n",
      "total_income        21525 non-null int64\n",
      "purpose             21525 non-null object\n",
      "dtypes: int64(7), object(5)\n",
      "memory usage: 2.0+ MB\n"
     ]
    }
   ],
   "source": [
    "df.info() # проверим информацию о данных"
   ]
  },
  {
   "cell_type": "markdown",
   "metadata": {},
   "source": [
    "Тип данных успешно обновлен."
   ]
  },
  {
   "cell_type": "markdown",
   "metadata": {},
   "source": [
    "**Вывод**"
   ]
  },
  {
   "cell_type": "markdown",
   "metadata": {},
   "source": [
    "Поскольку трудовой стаж измеряется в целых днях, то данные в этом столбце заменили на целочисленные. Данные в столбце доход в месяц (total_income), тоже привели к целочислееному значению. После преобразований читать таблицу стало удобнее."
   ]
  },
  {
   "cell_type": "markdown",
   "metadata": {},
   "source": [
    "### Обработка дубликатов"
   ]
  },
  {
   "cell_type": "markdown",
   "metadata": {},
   "source": [
    "Следующим этапом предобработки, будет проверка наличия дубликатов и их удаление."
   ]
  },
  {
   "cell_type": "markdown",
   "metadata": {},
   "source": [
    "Для начала проверим список уникальных значений в комбинации с их встречаемостью в таблице с помощью метода value_counts()."
   ]
  },
  {
   "cell_type": "markdown",
   "metadata": {},
   "source": [
    "Последовательно проверим на наличие дубликатов столбики с указанием образования (education), семейного положения (family_status) и типа занятости (income_type)."
   ]
  },
  {
   "cell_type": "markdown",
   "metadata": {},
   "source": [
    "Для начала проверим наличие полностью эдентичных строк методом df.duplicated().sum(). Если такие обнаружатся, то удалим дублирующиемя записи и обновим индексацию строк в таблице"
   ]
  },
  {
   "cell_type": "code",
   "execution_count": 27,
   "metadata": {},
   "outputs": [
    {
     "data": {
      "text/plain": [
       "55"
      ]
     },
     "execution_count": 27,
     "metadata": {},
     "output_type": "execute_result"
    }
   ],
   "source": [
    "df.duplicated().sum()"
   ]
  },
  {
   "cell_type": "code",
   "execution_count": 28,
   "metadata": {},
   "outputs": [],
   "source": [
    "df = df.drop_duplicates().reset_index(drop=True)"
   ]
  },
  {
   "cell_type": "code",
   "execution_count": 29,
   "metadata": {},
   "outputs": [
    {
     "data": {
      "text/plain": [
       "0"
      ]
     },
     "execution_count": 29,
     "metadata": {},
     "output_type": "execute_result"
    }
   ],
   "source": [
    "df.duplicated().sum()"
   ]
  },
  {
   "cell_type": "markdown",
   "metadata": {},
   "source": [
    "Начнем с образования:"
   ]
  },
  {
   "cell_type": "code",
   "execution_count": 30,
   "metadata": {},
   "outputs": [
    {
     "data": {
      "text/plain": [
       "среднее                13704\n",
       "высшее                  4710\n",
       "СРЕДНЕЕ                  772\n",
       "Среднее                  711\n",
       "неоконченное высшее      668\n",
       "ВЫСШЕЕ                   273\n",
       "Высшее                   268\n",
       "начальное                250\n",
       "Неоконченное высшее       47\n",
       "НЕОКОНЧЕННОЕ ВЫСШЕЕ       29\n",
       "НАЧАЛЬНОЕ                 17\n",
       "Начальное                 15\n",
       "ученая степень             4\n",
       "Ученая степень             1\n",
       "УЧЕНАЯ СТЕПЕНЬ             1\n",
       "Name: education, dtype: int64"
      ]
     },
     "execution_count": 30,
     "metadata": {},
     "output_type": "execute_result"
    }
   ],
   "source": [
    "df['education'].value_counts() # поиск уникальных значений с указанием их встречаемости "
   ]
  },
  {
   "cell_type": "markdown",
   "metadata": {},
   "source": [
    "Сразу в глаза бросились одни и те же наименования, но написанные разным шрифтом. "
   ]
  },
  {
   "cell_type": "markdown",
   "metadata": {},
   "source": [
    "Приведем значения к нижнему регистру с помощью метода str.lower()"
   ]
  },
  {
   "cell_type": "code",
   "execution_count": 31,
   "metadata": {},
   "outputs": [
    {
     "data": {
      "text/plain": [
       "среднее                15187\n",
       "высшее                  5251\n",
       "неоконченное высшее      744\n",
       "начальное                282\n",
       "ученая степень             6\n",
       "Name: education, dtype: int64"
      ]
     },
     "execution_count": 31,
     "metadata": {},
     "output_type": "execute_result"
    }
   ],
   "source": [
    "df['education'] = df['education'].str.lower() # приведение значений к нижнему регистру\n",
    "df['education'].value_counts() # проверим список уникальных значений"
   ]
  },
  {
   "cell_type": "markdown",
   "metadata": {},
   "source": [
    "Список сильно сократился. Дубликаты удалены. Переходим к сдедующему столбцу:"
   ]
  },
  {
   "cell_type": "code",
   "execution_count": 32,
   "metadata": {},
   "outputs": [
    {
     "data": {
      "text/plain": [
       "женат / замужем          12344\n",
       "гражданский брак          4162\n",
       "Не женат / не замужем     2810\n",
       "в разводе                 1195\n",
       "вдовец / вдова             959\n",
       "Name: family_status, dtype: int64"
      ]
     },
     "execution_count": 32,
     "metadata": {},
     "output_type": "execute_result"
    }
   ],
   "source": [
    "df['family_status'].value_counts() # поиск уникальных значений с указанием их встречаемости"
   ]
  },
  {
   "cell_type": "markdown",
   "metadata": {},
   "source": [
    "Явных дубликатов нет, но строка \"Не женат / не замужем\" содержит прописные буквы. Если в таблицу добавят новые данные, но уже с этой строкой, написанной строчными буквами- образуется дубликат. Чтобы этого избежать в будущем, сразу приведем все символы к нижнему регистру, методом str.lower()"
   ]
  },
  {
   "cell_type": "code",
   "execution_count": 33,
   "metadata": {},
   "outputs": [],
   "source": [
    "df['family_status'] = df['family_status'].str.lower() # приведение значений к нижнему регистру"
   ]
  },
  {
   "cell_type": "markdown",
   "metadata": {},
   "source": [
    "Столбик с семейным статусом отработали, перейдем к типом занятости:"
   ]
  },
  {
   "cell_type": "code",
   "execution_count": 34,
   "metadata": {},
   "outputs": [
    {
     "data": {
      "text/plain": [
       "сотрудник          11090\n",
       "компаньон           5080\n",
       "пенсионер           3837\n",
       "госслужащий         1457\n",
       "предприниматель        2\n",
       "безработный            2\n",
       "в декрете              1\n",
       "студент                1\n",
       "Name: income_type, dtype: int64"
      ]
     },
     "execution_count": 34,
     "metadata": {},
     "output_type": "execute_result"
    }
   ],
   "source": [
    "df['income_type'].value_counts() # поиск уникальных значений с указанием их встречаемости "
   ]
  },
  {
   "cell_type": "markdown",
   "metadata": {},
   "source": [
    "В данном столбце дубликатов не обнаружено."
   ]
  },
  {
   "cell_type": "markdown",
   "metadata": {},
   "source": [
    "**Вывод**"
   ]
  },
  {
   "cell_type": "markdown",
   "metadata": {},
   "source": [
    "В данной части анализа мы удаляли дубликаты. Наличие дубликатов при группировке и приводит к неверному трактованию результатов. Можно было бы еще больше объединить значения, но для этого нужна дополнительная информация от банка, например является ли \"не женат/не замужем\", \"в разводе\" \"и вдовец / вдова\" для них единым признаком заемщика. Но без дополнительной информации, мы пока ничего объединять не будем."
   ]
  },
  {
   "cell_type": "markdown",
   "metadata": {},
   "source": [
    "### Лемматизация"
   ]
  },
  {
   "cell_type": "markdown",
   "metadata": {},
   "source": [
    "В столбике с указание цели кредита (purpose) значения произвольные, т.е например одна и та же цель может быть описана разными словами. "
   ]
  },
  {
   "cell_type": "markdown",
   "metadata": {},
   "source": [
    "С помощью метода unique() посмотрим уникальные значения в столбце. Поскольку подсчет встречаемости, нам сейчас не важен, то использовали именно этот метод, а не value_counts()"
   ]
  },
  {
   "cell_type": "code",
   "execution_count": 35,
   "metadata": {},
   "outputs": [
    {
     "data": {
      "text/plain": [
       "array(['покупка жилья', 'приобретение автомобиля',\n",
       "       'дополнительное образование', 'сыграть свадьбу',\n",
       "       'операции с жильем', 'образование', 'на проведение свадьбы',\n",
       "       'покупка жилья для семьи', 'покупка недвижимости',\n",
       "       'покупка коммерческой недвижимости', 'покупка жилой недвижимости',\n",
       "       'строительство собственной недвижимости', 'недвижимость',\n",
       "       'строительство недвижимости', 'на покупку подержанного автомобиля',\n",
       "       'на покупку своего автомобиля',\n",
       "       'операции с коммерческой недвижимостью',\n",
       "       'строительство жилой недвижимости', 'жилье',\n",
       "       'операции со своей недвижимостью', 'автомобили',\n",
       "       'заняться образованием', 'сделка с подержанным автомобилем',\n",
       "       'получение образования', 'автомобиль', 'свадьба',\n",
       "       'получение дополнительного образования', 'покупка своего жилья',\n",
       "       'операции с недвижимостью', 'получение высшего образования',\n",
       "       'свой автомобиль', 'сделка с автомобилем',\n",
       "       'профильное образование', 'высшее образование',\n",
       "       'покупка жилья для сдачи', 'на покупку автомобиля', 'ремонт жилью',\n",
       "       'заняться высшим образованием'], dtype=object)"
      ]
     },
     "execution_count": 35,
     "metadata": {},
     "output_type": "execute_result"
    }
   ],
   "source": [
    "df['purpose'].unique() # выделение уникальных значений"
   ]
  },
  {
   "cell_type": "markdown",
   "metadata": {},
   "source": [
    "Для того, чтобы удалить дубликаты из такого списка проводят лемматизацию. Лемматизация - это преобразование слов в лемму, то есть в их первоначальную словарную форму. После выделения лемм, можно будет обработать дубликаты."
   ]
  },
  {
   "cell_type": "markdown",
   "metadata": {},
   "source": [
    "Выделим леммы в значениях столбца и составим из них список. \n",
    "\n",
    "    "
   ]
  },
  {
   "cell_type": "markdown",
   "metadata": {},
   "source": [
    "Поскольку лемматизация работает с одной строкой, напишем цикл, в котором лемматизация последовательно будет проведена по всем строкам, а результат лемматизации сохранен в общий список. Создадим пустой список purpose_lemm и будем добавлять в него значения методом append(). "
   ]
  },
  {
   "cell_type": "code",
   "execution_count": 36,
   "metadata": {},
   "outputs": [
    {
     "data": {
      "text/plain": [
       "['покупка   жилье \\n',\n",
       " 'приобретение   автомобиль \\n',\n",
       " 'покупка   жилье \\n',\n",
       " 'дополнительный   образование \\n',\n",
       " 'сыграть   свадьба \\n',\n",
       " 'покупка   жилье \\n',\n",
       " 'операция   с   жилье \\n',\n",
       " 'образование \\n',\n",
       " 'на   проведение   свадьба \\n',\n",
       " 'покупка   жилье   для   семья \\n',\n",
       " 'покупка   недвижимость \\n',\n",
       " 'покупка   коммерческий   недвижимость \\n',\n",
       " 'сыграть   свадьба \\n',\n",
       " 'приобретение   автомобиль \\n',\n",
       " 'покупка   жилой   недвижимость \\n',\n",
       " 'строительство   собственный   недвижимость \\n',\n",
       " 'недвижимость \\n',\n",
       " 'строительство   недвижимость \\n',\n",
       " 'на   покупка   подержать   автомобиль \\n',\n",
       " 'на   покупка   свой   автомобиль \\n',\n",
       " 'недвижимость \\n',\n",
       " 'приобретение   автомобиль \\n',\n",
       " 'на   покупка   подержать   автомобиль \\n',\n",
       " 'сыграть   свадьба \\n',\n",
       " 'операция   с   коммерческий   недвижимость \\n',\n",
       " 'покупка   недвижимость \\n',\n",
       " 'образование \\n',\n",
       " 'строительство   собственный   недвижимость \\n',\n",
       " 'строительство   собственный   недвижимость \\n',\n",
       " 'строительство   жилой   недвижимость \\n',\n",
       " 'операция   с   коммерческий   недвижимость \\n',\n",
       " 'жилье \\n',\n",
       " 'на   проведение   свадьба \\n',\n",
       " 'покупка   жилье \\n',\n",
       " 'операция   со   свой   недвижимость \\n',\n",
       " 'на   проведение   свадьба \\n',\n",
       " 'автомобиль \\n',\n",
       " 'приобретение   автомобиль \\n']"
      ]
     },
     "metadata": {},
     "output_type": "display_data"
    }
   ],
   "source": [
    "from pymystem3 import Mystem # подключение лемматизатора для слов на русском языке\n",
    "m = Mystem()\n",
    "\n",
    "purpose_lemm = [] # пустой список, куда будет сохранен итоговый список результатов всех лемматизации\n",
    "for i in range(len(df['purpose'].unique())): # цикл с указаием по каким позициям будет проводится лемматизация\n",
    "        \n",
    "    lemmas = ' '.join(m.lemmatize(df['purpose'][i])) # выделение леммы по строке и объединение в список\n",
    "    from collections import Counter\n",
    "    purpose_lemm.append(lemmas) \n",
    "    \n",
    "display(purpose_lemm)"
   ]
  },
  {
   "cell_type": "markdown",
   "metadata": {},
   "source": [
    "Напишем функцию, которая будет возвращать результат лемматизации в новый столбец purpose_lemm. Метод apply() записывает в новый столбец значения возвращенные функцией."
   ]
  },
  {
   "cell_type": "code",
   "execution_count": 37,
   "metadata": {},
   "outputs": [
    {
     "data": {
      "text/html": [
       "<div>\n",
       "<style scoped>\n",
       "    .dataframe tbody tr th:only-of-type {\n",
       "        vertical-align: middle;\n",
       "    }\n",
       "\n",
       "    .dataframe tbody tr th {\n",
       "        vertical-align: top;\n",
       "    }\n",
       "\n",
       "    .dataframe thead th {\n",
       "        text-align: right;\n",
       "    }\n",
       "</style>\n",
       "<table border=\"1\" class=\"dataframe\">\n",
       "  <thead>\n",
       "    <tr style=\"text-align: right;\">\n",
       "      <th></th>\n",
       "      <th>children</th>\n",
       "      <th>days_employed</th>\n",
       "      <th>dob_years</th>\n",
       "      <th>education</th>\n",
       "      <th>education_id</th>\n",
       "      <th>family_status</th>\n",
       "      <th>family_status_id</th>\n",
       "      <th>gender</th>\n",
       "      <th>income_type</th>\n",
       "      <th>debt</th>\n",
       "      <th>total_income</th>\n",
       "      <th>purpose</th>\n",
       "      <th>purpose_lemm</th>\n",
       "    </tr>\n",
       "  </thead>\n",
       "  <tbody>\n",
       "    <tr>\n",
       "      <td>0</td>\n",
       "      <td>1</td>\n",
       "      <td>8437</td>\n",
       "      <td>42</td>\n",
       "      <td>высшее</td>\n",
       "      <td>0</td>\n",
       "      <td>женат / замужем</td>\n",
       "      <td>0</td>\n",
       "      <td>F</td>\n",
       "      <td>сотрудник</td>\n",
       "      <td>0</td>\n",
       "      <td>253875</td>\n",
       "      <td>покупка жилья</td>\n",
       "      <td>недвижимость</td>\n",
       "    </tr>\n",
       "    <tr>\n",
       "      <td>1</td>\n",
       "      <td>1</td>\n",
       "      <td>4024</td>\n",
       "      <td>36</td>\n",
       "      <td>среднее</td>\n",
       "      <td>1</td>\n",
       "      <td>женат / замужем</td>\n",
       "      <td>0</td>\n",
       "      <td>F</td>\n",
       "      <td>сотрудник</td>\n",
       "      <td>0</td>\n",
       "      <td>112080</td>\n",
       "      <td>приобретение автомобиля</td>\n",
       "      <td>автомобиль</td>\n",
       "    </tr>\n",
       "    <tr>\n",
       "      <td>2</td>\n",
       "      <td>0</td>\n",
       "      <td>5623</td>\n",
       "      <td>33</td>\n",
       "      <td>среднее</td>\n",
       "      <td>1</td>\n",
       "      <td>женат / замужем</td>\n",
       "      <td>0</td>\n",
       "      <td>M</td>\n",
       "      <td>сотрудник</td>\n",
       "      <td>0</td>\n",
       "      <td>145885</td>\n",
       "      <td>покупка жилья</td>\n",
       "      <td>недвижимость</td>\n",
       "    </tr>\n",
       "    <tr>\n",
       "      <td>3</td>\n",
       "      <td>3</td>\n",
       "      <td>4124</td>\n",
       "      <td>32</td>\n",
       "      <td>среднее</td>\n",
       "      <td>1</td>\n",
       "      <td>женат / замужем</td>\n",
       "      <td>0</td>\n",
       "      <td>M</td>\n",
       "      <td>сотрудник</td>\n",
       "      <td>0</td>\n",
       "      <td>267628</td>\n",
       "      <td>дополнительное образование</td>\n",
       "      <td>образование</td>\n",
       "    </tr>\n",
       "    <tr>\n",
       "      <td>4</td>\n",
       "      <td>0</td>\n",
       "      <td>14177</td>\n",
       "      <td>53</td>\n",
       "      <td>среднее</td>\n",
       "      <td>1</td>\n",
       "      <td>гражданский брак</td>\n",
       "      <td>1</td>\n",
       "      <td>F</td>\n",
       "      <td>пенсионер</td>\n",
       "      <td>0</td>\n",
       "      <td>158616</td>\n",
       "      <td>сыграть свадьбу</td>\n",
       "      <td>свадьба</td>\n",
       "    </tr>\n",
       "    <tr>\n",
       "      <td>5</td>\n",
       "      <td>0</td>\n",
       "      <td>926</td>\n",
       "      <td>27</td>\n",
       "      <td>высшее</td>\n",
       "      <td>0</td>\n",
       "      <td>гражданский брак</td>\n",
       "      <td>1</td>\n",
       "      <td>M</td>\n",
       "      <td>компаньон</td>\n",
       "      <td>0</td>\n",
       "      <td>255763</td>\n",
       "      <td>покупка жилья</td>\n",
       "      <td>недвижимость</td>\n",
       "    </tr>\n",
       "    <tr>\n",
       "      <td>6</td>\n",
       "      <td>0</td>\n",
       "      <td>2879</td>\n",
       "      <td>43</td>\n",
       "      <td>высшее</td>\n",
       "      <td>0</td>\n",
       "      <td>женат / замужем</td>\n",
       "      <td>0</td>\n",
       "      <td>F</td>\n",
       "      <td>компаньон</td>\n",
       "      <td>0</td>\n",
       "      <td>240525</td>\n",
       "      <td>операции с жильем</td>\n",
       "      <td>недвижимость</td>\n",
       "    </tr>\n",
       "    <tr>\n",
       "      <td>7</td>\n",
       "      <td>0</td>\n",
       "      <td>152</td>\n",
       "      <td>50</td>\n",
       "      <td>среднее</td>\n",
       "      <td>1</td>\n",
       "      <td>женат / замужем</td>\n",
       "      <td>0</td>\n",
       "      <td>M</td>\n",
       "      <td>сотрудник</td>\n",
       "      <td>0</td>\n",
       "      <td>135823</td>\n",
       "      <td>образование</td>\n",
       "      <td>образование</td>\n",
       "    </tr>\n",
       "    <tr>\n",
       "      <td>8</td>\n",
       "      <td>2</td>\n",
       "      <td>6929</td>\n",
       "      <td>35</td>\n",
       "      <td>высшее</td>\n",
       "      <td>0</td>\n",
       "      <td>гражданский брак</td>\n",
       "      <td>1</td>\n",
       "      <td>F</td>\n",
       "      <td>сотрудник</td>\n",
       "      <td>0</td>\n",
       "      <td>95856</td>\n",
       "      <td>на проведение свадьбы</td>\n",
       "      <td>свадьба</td>\n",
       "    </tr>\n",
       "    <tr>\n",
       "      <td>9</td>\n",
       "      <td>0</td>\n",
       "      <td>2188</td>\n",
       "      <td>41</td>\n",
       "      <td>среднее</td>\n",
       "      <td>1</td>\n",
       "      <td>женат / замужем</td>\n",
       "      <td>0</td>\n",
       "      <td>M</td>\n",
       "      <td>сотрудник</td>\n",
       "      <td>0</td>\n",
       "      <td>144425</td>\n",
       "      <td>покупка жилья для семьи</td>\n",
       "      <td>недвижимость</td>\n",
       "    </tr>\n",
       "  </tbody>\n",
       "</table>\n",
       "</div>"
      ],
      "text/plain": [
       "   children  days_employed  dob_years education  education_id  \\\n",
       "0         1           8437         42    высшее             0   \n",
       "1         1           4024         36   среднее             1   \n",
       "2         0           5623         33   среднее             1   \n",
       "3         3           4124         32   среднее             1   \n",
       "4         0          14177         53   среднее             1   \n",
       "5         0            926         27    высшее             0   \n",
       "6         0           2879         43    высшее             0   \n",
       "7         0            152         50   среднее             1   \n",
       "8         2           6929         35    высшее             0   \n",
       "9         0           2188         41   среднее             1   \n",
       "\n",
       "      family_status  family_status_id gender income_type  debt  total_income  \\\n",
       "0   женат / замужем                 0      F   сотрудник     0        253875   \n",
       "1   женат / замужем                 0      F   сотрудник     0        112080   \n",
       "2   женат / замужем                 0      M   сотрудник     0        145885   \n",
       "3   женат / замужем                 0      M   сотрудник     0        267628   \n",
       "4  гражданский брак                 1      F   пенсионер     0        158616   \n",
       "5  гражданский брак                 1      M   компаньон     0        255763   \n",
       "6   женат / замужем                 0      F   компаньон     0        240525   \n",
       "7   женат / замужем                 0      M   сотрудник     0        135823   \n",
       "8  гражданский брак                 1      F   сотрудник     0         95856   \n",
       "9   женат / замужем                 0      M   сотрудник     0        144425   \n",
       "\n",
       "                      purpose  purpose_lemm  \n",
       "0               покупка жилья  недвижимость  \n",
       "1     приобретение автомобиля    автомобиль  \n",
       "2               покупка жилья  недвижимость  \n",
       "3  дополнительное образование   образование  \n",
       "4             сыграть свадьбу       свадьба  \n",
       "5               покупка жилья  недвижимость  \n",
       "6           операции с жильем  недвижимость  \n",
       "7                 образование   образование  \n",
       "8       на проведение свадьбы       свадьба  \n",
       "9     покупка жилья для семьи  недвижимость  "
      ]
     },
     "metadata": {},
     "output_type": "display_data"
    }
   ],
   "source": [
    "def purpose_change(purpose):\n",
    "    lemmas_row = m.lemmatize(purpose)\n",
    "    if 'автомобиль' in lemmas_row:\n",
    "        return 'автомобиль'\n",
    "    if 'свадьба' in lemmas_row:\n",
    "        return 'свадьба'\n",
    "    if 'образование' in lemmas_row:\n",
    "        return 'образование'\n",
    "    if 'свадьба' in lemmas_row:\n",
    "        return 'свадьба'\n",
    "    if ['жилье' in lemmas_row and 'недвижимость' in lemmas_row]:               \n",
    "        return 'недвижимость'\n",
    "    \n",
    "    \n",
    "    \n",
    "df['purpose_lemm'] = df['purpose'].apply(purpose_change)\n",
    "display(df.head(10))\n"
   ]
  },
  {
   "cell_type": "markdown",
   "metadata": {},
   "source": [
    "Проверяем уникальные значения:"
   ]
  },
  {
   "cell_type": "code",
   "execution_count": 38,
   "metadata": {},
   "outputs": [
    {
     "data": {
      "text/plain": [
       "array(['недвижимость', 'автомобиль', 'образование', 'свадьба'],\n",
       "      dtype=object)"
      ]
     },
     "execution_count": 38,
     "metadata": {},
     "output_type": "execute_result"
    }
   ],
   "source": [
    "df['purpose_lemm'].unique()\n"
   ]
  },
  {
   "cell_type": "markdown",
   "metadata": {},
   "source": [
    "**Вывод**"
   ]
  },
  {
   "cell_type": "markdown",
   "metadata": {},
   "source": [
    "Лемматизация позволила ним удалить дубликаты в столбике с целью кредита (purpose). Обработанные данные мы сохранили в отдельный столбец. Вместо достаточно емкого списка, мы получили 4 значения,  которые легко читаются и все группировки уже будем проводить по нему. "
   ]
  },
  {
   "cell_type": "markdown",
   "metadata": {},
   "source": [
    "### Категоризация данных"
   ]
  },
  {
   "cell_type": "markdown",
   "metadata": {},
   "source": [
    "В нашей таблице есть категории в виде названий. У них разная длина и это приводит к усложнению восприятия информации."
   ]
  },
  {
   "cell_type": "markdown",
   "metadata": {},
   "source": [
    "Для оптимизации дальнейших подсчетов, создадим отдельные файлы-словари, где названию категории соответствует номер."
   ]
  },
  {
   "cell_type": "markdown",
   "metadata": {},
   "source": [
    "Сначала создадим файл-словарь для семейного положения:"
   ]
  },
  {
   "cell_type": "markdown",
   "metadata": {},
   "source": [
    "В переменную family_status_id добавим два столбца: данные по идентификатору семейного положения и по названию семейного положения. А затем удалим дубликаты с обновление индексации и данные перезапишем в переменную family_status_id."
   ]
  },
  {
   "cell_type": "code",
   "execution_count": 39,
   "metadata": {},
   "outputs": [],
   "source": [
    "family_status_id = df[['family_status_id', 'family_status']] # выделение двух столбцов из датасета df "
   ]
  },
  {
   "cell_type": "code",
   "execution_count": 40,
   "metadata": {},
   "outputs": [
    {
     "data": {
      "text/html": [
       "<div>\n",
       "<style scoped>\n",
       "    .dataframe tbody tr th:only-of-type {\n",
       "        vertical-align: middle;\n",
       "    }\n",
       "\n",
       "    .dataframe tbody tr th {\n",
       "        vertical-align: top;\n",
       "    }\n",
       "\n",
       "    .dataframe thead th {\n",
       "        text-align: right;\n",
       "    }\n",
       "</style>\n",
       "<table border=\"1\" class=\"dataframe\">\n",
       "  <thead>\n",
       "    <tr style=\"text-align: right;\">\n",
       "      <th></th>\n",
       "      <th>family_status_id</th>\n",
       "      <th>family_status</th>\n",
       "    </tr>\n",
       "  </thead>\n",
       "  <tbody>\n",
       "    <tr>\n",
       "      <td>0</td>\n",
       "      <td>0</td>\n",
       "      <td>женат / замужем</td>\n",
       "    </tr>\n",
       "    <tr>\n",
       "      <td>1</td>\n",
       "      <td>1</td>\n",
       "      <td>гражданский брак</td>\n",
       "    </tr>\n",
       "    <tr>\n",
       "      <td>2</td>\n",
       "      <td>2</td>\n",
       "      <td>вдовец / вдова</td>\n",
       "    </tr>\n",
       "    <tr>\n",
       "      <td>3</td>\n",
       "      <td>3</td>\n",
       "      <td>в разводе</td>\n",
       "    </tr>\n",
       "    <tr>\n",
       "      <td>4</td>\n",
       "      <td>4</td>\n",
       "      <td>не женат / не замужем</td>\n",
       "    </tr>\n",
       "  </tbody>\n",
       "</table>\n",
       "</div>"
      ],
      "text/plain": [
       "   family_status_id          family_status\n",
       "0                 0        женат / замужем\n",
       "1                 1       гражданский брак\n",
       "2                 2         вдовец / вдова\n",
       "3                 3              в разводе\n",
       "4                 4  не женат / не замужем"
      ]
     },
     "metadata": {},
     "output_type": "display_data"
    }
   ],
   "source": [
    "family_status_id = family_status_id.drop_duplicates().reset_index(drop = True) # удаление дубликатов с обновлением индексации\n",
    "display(family_status_id) # просмотр результата"
   ]
  },
  {
   "cell_type": "markdown",
   "metadata": {},
   "source": [
    "К столбцу с лемматизированной целью кредита нет идентификаторов."
   ]
  },
  {
   "cell_type": "markdown",
   "metadata": {},
   "source": [
    "Создадим словарь, в котором название категории цели кредита будет ключом, а справа укажем значение- номер категории."
   ]
  },
  {
   "cell_type": "code",
   "execution_count": 41,
   "metadata": {},
   "outputs": [],
   "source": [
    "purpose_id ={'недвижимость': 0, 'автомобиль':1, 'образование':2, 'свадьба':3} # создание словаря"
   ]
  },
  {
   "cell_type": "markdown",
   "metadata": {},
   "source": [
    "С помощью метода map() добавим номер идентификатора цели кредита в датасет df"
   ]
  },
  {
   "cell_type": "code",
   "execution_count": 42,
   "metadata": {},
   "outputs": [],
   "source": [
    "df['purpose_lemm_id'] = df['purpose_lemm'].map(purpose_id) \n",
    "    \n"
   ]
  },
  {
   "cell_type": "markdown",
   "metadata": {},
   "source": [
    "Затем проведем операцию аналогичную той, что мы сделали, когда категоризировали семейное положение."
   ]
  },
  {
   "cell_type": "code",
   "execution_count": 43,
   "metadata": {},
   "outputs": [],
   "source": [
    "purpose_lemm_id = df[['purpose_lemm_id', 'purpose_lemm']] # выделение двух столбцов, для создания файла-ключа"
   ]
  },
  {
   "cell_type": "code",
   "execution_count": 44,
   "metadata": {},
   "outputs": [
    {
     "data": {
      "text/html": [
       "<div>\n",
       "<style scoped>\n",
       "    .dataframe tbody tr th:only-of-type {\n",
       "        vertical-align: middle;\n",
       "    }\n",
       "\n",
       "    .dataframe tbody tr th {\n",
       "        vertical-align: top;\n",
       "    }\n",
       "\n",
       "    .dataframe thead th {\n",
       "        text-align: right;\n",
       "    }\n",
       "</style>\n",
       "<table border=\"1\" class=\"dataframe\">\n",
       "  <thead>\n",
       "    <tr style=\"text-align: right;\">\n",
       "      <th></th>\n",
       "      <th>purpose_lemm_id</th>\n",
       "      <th>purpose_lemm</th>\n",
       "    </tr>\n",
       "  </thead>\n",
       "  <tbody>\n",
       "    <tr>\n",
       "      <td>0</td>\n",
       "      <td>0</td>\n",
       "      <td>недвижимость</td>\n",
       "    </tr>\n",
       "    <tr>\n",
       "      <td>1</td>\n",
       "      <td>1</td>\n",
       "      <td>автомобиль</td>\n",
       "    </tr>\n",
       "    <tr>\n",
       "      <td>2</td>\n",
       "      <td>2</td>\n",
       "      <td>образование</td>\n",
       "    </tr>\n",
       "    <tr>\n",
       "      <td>3</td>\n",
       "      <td>3</td>\n",
       "      <td>свадьба</td>\n",
       "    </tr>\n",
       "  </tbody>\n",
       "</table>\n",
       "</div>"
      ],
      "text/plain": [
       "   purpose_lemm_id  purpose_lemm\n",
       "0                0  недвижимость\n",
       "1                1    автомобиль\n",
       "2                2   образование\n",
       "3                3       свадьба"
      ]
     },
     "metadata": {},
     "output_type": "display_data"
    }
   ],
   "source": [
    "purpose_lemm_id = purpose_lemm_id.drop_duplicates().reset_index(drop = True) # удаление дубликатов\n",
    "display(purpose_lemm_id)"
   ]
  },
  {
   "cell_type": "markdown",
   "metadata": {},
   "source": [
    "У нас еще есть один столбик по которому нужно провести категоризацию. Если этого не сделать, про при анализе придется смотреть каждую строчку таблицы, ведь средний доход у всех разный и если и есть дубликаты, то их очень мало."
   ]
  },
  {
   "cell_type": "markdown",
   "metadata": {},
   "source": [
    "Сначала посмотрим с какими минимальными и максимальными значениями нам придется столкнутся в столбце с указанием среднего дохода."
   ]
  },
  {
   "cell_type": "code",
   "execution_count": 45,
   "metadata": {},
   "outputs": [
    {
     "data": {
      "text/plain": [
       "20667"
      ]
     },
     "metadata": {},
     "output_type": "display_data"
    },
    {
     "data": {
      "text/plain": [
       "2265604"
      ]
     },
     "metadata": {},
     "output_type": "display_data"
    }
   ],
   "source": [
    "display(df['total_income'].min()) # расчет минимального значения\n",
    "display(df['total_income'].max()) # расчет максимального значения\n"
   ]
  },
  {
   "cell_type": "markdown",
   "metadata": {},
   "source": [
    "Минимально 20667, а максимум 226504. Поставим первую группу до 50000, потом два увеличения на 100000, затем на 150000, а после дохода в 500000, укрупняем и добавляем по 500000"
   ]
  },
  {
   "cell_type": "markdown",
   "metadata": {},
   "source": [
    "Для начала напишем функцию, которая отнесет разный уровень дохода в разные группы и присвоит им номер."
   ]
  },
  {
   "cell_type": "markdown",
   "metadata": {},
   "source": [
    "\n",
    "\n"
   ]
  },
  {
   "cell_type": "code",
   "execution_count": 46,
   "metadata": {},
   "outputs": [],
   "source": [
    "def total_income_id(total_income): # функция для отнесения дохода в определенную группу и присвоения ей номера\n",
    "        \n",
    "    if total_income <= 50000:\n",
    "        return 0\n",
    "    if total_income <= 150000:\n",
    "        return 1\n",
    "    if total_income <= 250000:\n",
    "        return 2\n",
    "    if total_income <= 350000:\n",
    "        return 3\n",
    "    if total_income <= 500000:\n",
    "        return 4\n",
    "    if total_income <= 1000000:\n",
    "        return 5\n",
    "    if total_income <= 1500000:\n",
    "        return 6\n",
    "    if total_income <= 2000000:\n",
    "        return 7\n",
    "     \n",
    "    return 8 "
   ]
  },
  {
   "cell_type": "markdown",
   "metadata": {},
   "source": [
    "Аналогично, как и с целью кредита с помощью метода apply() заносим в новый столбец таблицы идентификатор для уровня дохода."
   ]
  },
  {
   "cell_type": "code",
   "execution_count": 47,
   "metadata": {},
   "outputs": [],
   "source": [
    "df['total_income_id']=df['total_income'].apply(total_income_id) # добавление столбца со значениями возвращенными функцией\n"
   ]
  },
  {
   "cell_type": "markdown",
   "metadata": {},
   "source": [
    "Создаем словарь, где ключ - это номер группы, а значение - это диапазон значений дохода "
   ]
  },
  {
   "cell_type": "code",
   "execution_count": 48,
   "metadata": {},
   "outputs": [],
   "source": [
    "total_income_dict = {0: 'доход до 50 000 руб.', 1: 'доход от 50 001 до 150 000', 2: 'доход от 150 001 до 250 000', 3: 'доход от 250 001 до 350 000', 4:'доход от 300 001 до 500 000', 5: 'доход от 500 001- до 1 000 000', 6: '1 000 001-1 500 000', 7: 'доход от 1 500 001 до 2 000 000', 8: 'доход более 2 000 000'}"
   ]
  },
  {
   "cell_type": "markdown",
   "metadata": {},
   "source": [
    "С помощью метода map() добавим номер идентификатора дохода в датасет df"
   ]
  },
  {
   "cell_type": "code",
   "execution_count": 49,
   "metadata": {},
   "outputs": [],
   "source": [
    "df['total_income_group'] = df['total_income_id'].map(total_income_dict)"
   ]
  },
  {
   "cell_type": "code",
   "execution_count": 50,
   "metadata": {},
   "outputs": [],
   "source": [
    "total_income_group = df[['total_income_id','total_income_group']] # выделение двух столбцов, для создания файла-ключа"
   ]
  },
  {
   "cell_type": "code",
   "execution_count": 51,
   "metadata": {},
   "outputs": [
    {
     "data": {
      "text/html": [
       "<div>\n",
       "<style scoped>\n",
       "    .dataframe tbody tr th:only-of-type {\n",
       "        vertical-align: middle;\n",
       "    }\n",
       "\n",
       "    .dataframe tbody tr th {\n",
       "        vertical-align: top;\n",
       "    }\n",
       "\n",
       "    .dataframe thead th {\n",
       "        text-align: right;\n",
       "    }\n",
       "</style>\n",
       "<table border=\"1\" class=\"dataframe\">\n",
       "  <thead>\n",
       "    <tr style=\"text-align: right;\">\n",
       "      <th></th>\n",
       "      <th>total_income_id</th>\n",
       "      <th>total_income_group</th>\n",
       "    </tr>\n",
       "  </thead>\n",
       "  <tbody>\n",
       "    <tr>\n",
       "      <td>0</td>\n",
       "      <td>3</td>\n",
       "      <td>доход от 250 001 до 350 000</td>\n",
       "    </tr>\n",
       "    <tr>\n",
       "      <td>1</td>\n",
       "      <td>1</td>\n",
       "      <td>доход от 50 001 до 150 000</td>\n",
       "    </tr>\n",
       "    <tr>\n",
       "      <td>2</td>\n",
       "      <td>2</td>\n",
       "      <td>доход от 150 001 до 250 000</td>\n",
       "    </tr>\n",
       "    <tr>\n",
       "      <td>3</td>\n",
       "      <td>5</td>\n",
       "      <td>доход от 500 001- до 1 000 000</td>\n",
       "    </tr>\n",
       "    <tr>\n",
       "      <td>4</td>\n",
       "      <td>4</td>\n",
       "      <td>доход от 300 001 до 500 000</td>\n",
       "    </tr>\n",
       "    <tr>\n",
       "      <td>5</td>\n",
       "      <td>0</td>\n",
       "      <td>доход до 50 000 руб.</td>\n",
       "    </tr>\n",
       "    <tr>\n",
       "      <td>6</td>\n",
       "      <td>6</td>\n",
       "      <td>1 000 001-1 500 000</td>\n",
       "    </tr>\n",
       "    <tr>\n",
       "      <td>7</td>\n",
       "      <td>7</td>\n",
       "      <td>доход от 1 500 001 до 2 000 000</td>\n",
       "    </tr>\n",
       "    <tr>\n",
       "      <td>8</td>\n",
       "      <td>8</td>\n",
       "      <td>доход более 2 000 000</td>\n",
       "    </tr>\n",
       "  </tbody>\n",
       "</table>\n",
       "</div>"
      ],
      "text/plain": [
       "   total_income_id               total_income_group\n",
       "0                3      доход от 250 001 до 350 000\n",
       "1                1       доход от 50 001 до 150 000\n",
       "2                2      доход от 150 001 до 250 000\n",
       "3                5   доход от 500 001- до 1 000 000\n",
       "4                4      доход от 300 001 до 500 000\n",
       "5                0             доход до 50 000 руб.\n",
       "6                6              1 000 001-1 500 000\n",
       "7                7  доход от 1 500 001 до 2 000 000\n",
       "8                8            доход более 2 000 000"
      ]
     },
     "metadata": {},
     "output_type": "display_data"
    }
   ],
   "source": [
    "total_income_group = total_income_group.drop_duplicates().reset_index(drop = True) # удаление дубликатов\n",
    "display(total_income_group)"
   ]
  },
  {
   "cell_type": "markdown",
   "metadata": {},
   "source": [
    "**Вывод**"
   ]
  },
  {
   "cell_type": "markdown",
   "metadata": {},
   "source": [
    "Мы провели категоризацию данных. Теперь при анализе мы можем группировать необходимые данные привязывая к выделенным категориям. Также мы облегчили визуальную работу с таблицей. Для дальнейшей фильтрации нам не нужно будет набирать полное название категории или как для дохода пробегаться по всем строкам таблицы."
   ]
  },
  {
   "cell_type": "markdown",
   "metadata": {},
   "source": [
    "## Шаг 3. Ответьте на вопросы"
   ]
  },
  {
   "cell_type": "markdown",
   "metadata": {},
   "source": [
    "- Есть ли зависимость между наличием детей и возвратом кредита в срок?"
   ]
  },
  {
   "cell_type": "markdown",
   "metadata": {},
   "source": [
    "Для определения зависимости между наличием детей и вероятностью возврата кредита, проведем группировку столбца наличия задолженности (debt) по столбцу количество детей. И сразу посчитаем сумму невозвращенных кредитов и общую сумму выданных кредитов по каждой группе. Чтобы одновременно посчитать и сумму и общее количество значений используем метод agg()."
   ]
  },
  {
   "cell_type": "code",
   "execution_count": 52,
   "metadata": {},
   "outputs": [],
   "source": [
    "children_dert_final = df.groupby('children').agg({'debt': ['sum', 'count']}) # группировка столбца наличия задолженности (debt) по столбцу количество детей и расчет суммы невозвращенных кредитов и общего количества кредитов\n"
   ]
  },
  {
   "cell_type": "markdown",
   "metadata": {},
   "source": [
    "Посчитаем конверсию по каждой группе и сохраним ее в столбик convers_percents (конверсия указана в процентах):"
   ]
  },
  {
   "cell_type": "code",
   "execution_count": 53,
   "metadata": {},
   "outputs": [],
   "source": [
    "children_dert_final['convers_percents'] = (df.groupby('children')['debt'].sum()/df.groupby('children')['debt'].count())*100"
   ]
  },
  {
   "cell_type": "code",
   "execution_count": 54,
   "metadata": {},
   "outputs": [
    {
     "data": {
      "text/html": [
       "<div>\n",
       "<style scoped>\n",
       "    .dataframe tbody tr th:only-of-type {\n",
       "        vertical-align: middle;\n",
       "    }\n",
       "\n",
       "    .dataframe tbody tr th {\n",
       "        vertical-align: top;\n",
       "    }\n",
       "\n",
       "    .dataframe thead tr th {\n",
       "        text-align: left;\n",
       "    }\n",
       "\n",
       "    .dataframe thead tr:last-of-type th {\n",
       "        text-align: right;\n",
       "    }\n",
       "</style>\n",
       "<table border=\"1\" class=\"dataframe\">\n",
       "  <thead>\n",
       "    <tr>\n",
       "      <th></th>\n",
       "      <th colspan=\"2\" halign=\"left\">debt</th>\n",
       "      <th>convers_percents</th>\n",
       "    </tr>\n",
       "    <tr>\n",
       "      <th></th>\n",
       "      <th>sum</th>\n",
       "      <th>count</th>\n",
       "      <th></th>\n",
       "    </tr>\n",
       "    <tr>\n",
       "      <th>children</th>\n",
       "      <th></th>\n",
       "      <th></th>\n",
       "      <th></th>\n",
       "    </tr>\n",
       "  </thead>\n",
       "  <tbody>\n",
       "    <tr>\n",
       "      <td>0</td>\n",
       "      <td>1063</td>\n",
       "      <td>14106</td>\n",
       "      <td>7.535800</td>\n",
       "    </tr>\n",
       "    <tr>\n",
       "      <td>1</td>\n",
       "      <td>445</td>\n",
       "      <td>4856</td>\n",
       "      <td>9.163921</td>\n",
       "    </tr>\n",
       "    <tr>\n",
       "      <td>2</td>\n",
       "      <td>202</td>\n",
       "      <td>2128</td>\n",
       "      <td>9.492481</td>\n",
       "    </tr>\n",
       "    <tr>\n",
       "      <td>3</td>\n",
       "      <td>27</td>\n",
       "      <td>330</td>\n",
       "      <td>8.181818</td>\n",
       "    </tr>\n",
       "    <tr>\n",
       "      <td>4</td>\n",
       "      <td>4</td>\n",
       "      <td>41</td>\n",
       "      <td>9.756098</td>\n",
       "    </tr>\n",
       "    <tr>\n",
       "      <td>5</td>\n",
       "      <td>0</td>\n",
       "      <td>9</td>\n",
       "      <td>0.000000</td>\n",
       "    </tr>\n",
       "  </tbody>\n",
       "</table>\n",
       "</div>"
      ],
      "text/plain": [
       "          debt        convers_percents\n",
       "           sum  count                 \n",
       "children                              \n",
       "0         1063  14106         7.535800\n",
       "1          445   4856         9.163921\n",
       "2          202   2128         9.492481\n",
       "3           27    330         8.181818\n",
       "4            4     41         9.756098\n",
       "5            0      9         0.000000"
      ]
     },
     "metadata": {},
     "output_type": "display_data"
    }
   ],
   "source": [
    "display(children_dert_final)"
   ]
  },
  {
   "cell_type": "markdown",
   "metadata": {},
   "source": [
    "**Вывод**"
   ]
  },
  {
   "cell_type": "markdown",
   "metadata": {},
   "source": [
    "На первый взгляд количество невозвращенных кредитов в группе бездетных клиентов больше, но при этом и количество самих кредитов выше. В группе где один ребенок у заемщика, процент невозвратов больше, а у клиентов с двумя детьми еще больше. У клиентов с тремя детьми, процент невозвратов снижается, по сравнению с предыдущей группой, но возможно, что какие-то некорректные данные остались вне поля нашего зрения. По столь малой выборке, которая приходится на группу с тремя детьми, сложно сделать однозначный вывод. По группе с четырьмя детьми процент невозвратов растет, по сравнению в другими группами, но опять же выборка слишком мала, для выводов."
   ]
  },
  {
   "cell_type": "markdown",
   "metadata": {},
   "source": [
    "- Есть ли зависимость между семейным положением и возвратом кредита в срок?"
   ]
  },
  {
   "cell_type": "markdown",
   "metadata": {},
   "source": [
    "Для определения зависимости между семейным положением и вероятностью возврата кредита, проведем группировку столбца наличия задолженности (debt) по столбцу идентификатора семейного статуса. И сразу посчитаем сумму невозвращенных кредитов и общую сумму выданных кредитов по каждой группе. "
   ]
  },
  {
   "cell_type": "markdown",
   "metadata": {},
   "source": [
    "С помощью метода pivot_table() сделаем сводную таблицу в которой посчитаем сколько невыплаченных кредитов приходится на каждую группу заемщиков."
   ]
  },
  {
   "cell_type": "code",
   "execution_count": 55,
   "metadata": {},
   "outputs": [
    {
     "data": {
      "text/html": [
       "<div>\n",
       "<style scoped>\n",
       "    .dataframe tbody tr th:only-of-type {\n",
       "        vertical-align: middle;\n",
       "    }\n",
       "\n",
       "    .dataframe tbody tr th {\n",
       "        vertical-align: top;\n",
       "    }\n",
       "\n",
       "    .dataframe thead th {\n",
       "        text-align: right;\n",
       "    }\n",
       "</style>\n",
       "<table border=\"1\" class=\"dataframe\">\n",
       "  <thead>\n",
       "    <tr style=\"text-align: right;\">\n",
       "      <th>family_status</th>\n",
       "      <th>в разводе</th>\n",
       "      <th>вдовец / вдова</th>\n",
       "      <th>гражданский брак</th>\n",
       "      <th>женат / замужем</th>\n",
       "      <th>не женат / не замужем</th>\n",
       "    </tr>\n",
       "    <tr>\n",
       "      <th>family_status_id</th>\n",
       "      <th></th>\n",
       "      <th></th>\n",
       "      <th></th>\n",
       "      <th></th>\n",
       "      <th></th>\n",
       "    </tr>\n",
       "  </thead>\n",
       "  <tbody>\n",
       "    <tr>\n",
       "      <td>0</td>\n",
       "      <td>NaN</td>\n",
       "      <td>NaN</td>\n",
       "      <td>NaN</td>\n",
       "      <td>931.0</td>\n",
       "      <td>NaN</td>\n",
       "    </tr>\n",
       "    <tr>\n",
       "      <td>1</td>\n",
       "      <td>NaN</td>\n",
       "      <td>NaN</td>\n",
       "      <td>388.0</td>\n",
       "      <td>NaN</td>\n",
       "      <td>NaN</td>\n",
       "    </tr>\n",
       "    <tr>\n",
       "      <td>2</td>\n",
       "      <td>NaN</td>\n",
       "      <td>63.0</td>\n",
       "      <td>NaN</td>\n",
       "      <td>NaN</td>\n",
       "      <td>NaN</td>\n",
       "    </tr>\n",
       "    <tr>\n",
       "      <td>3</td>\n",
       "      <td>85.0</td>\n",
       "      <td>NaN</td>\n",
       "      <td>NaN</td>\n",
       "      <td>NaN</td>\n",
       "      <td>NaN</td>\n",
       "    </tr>\n",
       "    <tr>\n",
       "      <td>4</td>\n",
       "      <td>NaN</td>\n",
       "      <td>NaN</td>\n",
       "      <td>NaN</td>\n",
       "      <td>NaN</td>\n",
       "      <td>274.0</td>\n",
       "    </tr>\n",
       "  </tbody>\n",
       "</table>\n",
       "</div>"
      ],
      "text/plain": [
       "family_status     в разводе  вдовец / вдова  гражданский брак  \\\n",
       "family_status_id                                                \n",
       "0                       NaN             NaN               NaN   \n",
       "1                       NaN             NaN             388.0   \n",
       "2                       NaN            63.0               NaN   \n",
       "3                      85.0             NaN               NaN   \n",
       "4                       NaN             NaN               NaN   \n",
       "\n",
       "family_status     женат / замужем  не женат / не замужем  \n",
       "family_status_id                                          \n",
       "0                           931.0                    NaN  \n",
       "1                             NaN                    NaN  \n",
       "2                             NaN                    NaN  \n",
       "3                             NaN                    NaN  \n",
       "4                             NaN                  274.0  "
      ]
     },
     "metadata": {},
     "output_type": "display_data"
    }
   ],
   "source": [
    "family_status_final =df.pivot_table(index='family_status_id', columns='family_status', values='debt', aggfunc='sum')\n",
    "display(family_status_final)"
   ]
  },
  {
   "cell_type": "markdown",
   "metadata": {},
   "source": [
    "Расчитаем конверсию:"
   ]
  },
  {
   "cell_type": "code",
   "execution_count": 56,
   "metadata": {},
   "outputs": [],
   "source": [
    "family_status_final['convers_percents'] = (df.groupby('family_status_id')['debt'].sum()/df.groupby('family_status_id')['debt'].count())*100 # расчет конверсии"
   ]
  },
  {
   "cell_type": "code",
   "execution_count": 57,
   "metadata": {},
   "outputs": [
    {
     "data": {
      "text/html": [
       "<div>\n",
       "<style scoped>\n",
       "    .dataframe tbody tr th:only-of-type {\n",
       "        vertical-align: middle;\n",
       "    }\n",
       "\n",
       "    .dataframe tbody tr th {\n",
       "        vertical-align: top;\n",
       "    }\n",
       "\n",
       "    .dataframe thead th {\n",
       "        text-align: right;\n",
       "    }\n",
       "</style>\n",
       "<table border=\"1\" class=\"dataframe\">\n",
       "  <thead>\n",
       "    <tr style=\"text-align: right;\">\n",
       "      <th>family_status</th>\n",
       "      <th>в разводе</th>\n",
       "      <th>вдовец / вдова</th>\n",
       "      <th>гражданский брак</th>\n",
       "      <th>женат / замужем</th>\n",
       "      <th>не женат / не замужем</th>\n",
       "      <th>convers_percents</th>\n",
       "    </tr>\n",
       "    <tr>\n",
       "      <th>family_status_id</th>\n",
       "      <th></th>\n",
       "      <th></th>\n",
       "      <th></th>\n",
       "      <th></th>\n",
       "      <th></th>\n",
       "      <th></th>\n",
       "    </tr>\n",
       "  </thead>\n",
       "  <tbody>\n",
       "    <tr>\n",
       "      <td>0</td>\n",
       "      <td>NaN</td>\n",
       "      <td>NaN</td>\n",
       "      <td>NaN</td>\n",
       "      <td>931.0</td>\n",
       "      <td>NaN</td>\n",
       "      <td>7.542126</td>\n",
       "    </tr>\n",
       "    <tr>\n",
       "      <td>1</td>\n",
       "      <td>NaN</td>\n",
       "      <td>NaN</td>\n",
       "      <td>388.0</td>\n",
       "      <td>NaN</td>\n",
       "      <td>NaN</td>\n",
       "      <td>9.322441</td>\n",
       "    </tr>\n",
       "    <tr>\n",
       "      <td>2</td>\n",
       "      <td>NaN</td>\n",
       "      <td>63.0</td>\n",
       "      <td>NaN</td>\n",
       "      <td>NaN</td>\n",
       "      <td>NaN</td>\n",
       "      <td>6.569343</td>\n",
       "    </tr>\n",
       "    <tr>\n",
       "      <td>3</td>\n",
       "      <td>85.0</td>\n",
       "      <td>NaN</td>\n",
       "      <td>NaN</td>\n",
       "      <td>NaN</td>\n",
       "      <td>NaN</td>\n",
       "      <td>7.112971</td>\n",
       "    </tr>\n",
       "    <tr>\n",
       "      <td>4</td>\n",
       "      <td>NaN</td>\n",
       "      <td>NaN</td>\n",
       "      <td>NaN</td>\n",
       "      <td>NaN</td>\n",
       "      <td>274.0</td>\n",
       "      <td>9.750890</td>\n",
       "    </tr>\n",
       "  </tbody>\n",
       "</table>\n",
       "</div>"
      ],
      "text/plain": [
       "family_status     в разводе  вдовец / вдова  гражданский брак  \\\n",
       "family_status_id                                                \n",
       "0                       NaN             NaN               NaN   \n",
       "1                       NaN             NaN             388.0   \n",
       "2                       NaN            63.0               NaN   \n",
       "3                      85.0             NaN               NaN   \n",
       "4                       NaN             NaN               NaN   \n",
       "\n",
       "family_status     женат / замужем  не женат / не замужем  convers_percents  \n",
       "family_status_id                                                            \n",
       "0                           931.0                    NaN          7.542126  \n",
       "1                             NaN                    NaN          9.322441  \n",
       "2                             NaN                    NaN          6.569343  \n",
       "3                             NaN                    NaN          7.112971  \n",
       "4                             NaN                  274.0          9.750890  "
      ]
     },
     "metadata": {},
     "output_type": "display_data"
    }
   ],
   "source": [
    "display(family_status_final)"
   ]
  },
  {
   "cell_type": "markdown",
   "metadata": {},
   "source": [
    "**Вывод**"
   ]
  },
  {
   "cell_type": "markdown",
   "metadata": {},
   "source": [
    "Самое большое количество кредитов в группе женатых людей и конверсия у них 7,5%. Достаточно высокая конверсия у людей не женатых и находящихся в граждансом браке. Можно однозначно сказать, что процент невозврата по клиентам не состоящим в зарегистрированном браке выше. "
   ]
  },
  {
   "cell_type": "markdown",
   "metadata": {},
   "source": [
    "- Есть ли зависимость между уровнем дохода и возвратом кредита в срок?"
   ]
  },
  {
   "cell_type": "markdown",
   "metadata": {},
   "source": [
    "Для определения зависимости между уровнем дохода и вероятностью возврата кредита, проведем группировку столбца наличия задолженности (debt) по столбцу идентификатора дохода. И сразу посчитаем сумму невозвращенных кредитов и общую сумму выданных кредитов по каждой группе. Чтобы одновременно посчитать и сумму и общее количество значений используем метод agg()"
   ]
  },
  {
   "cell_type": "code",
   "execution_count": 58,
   "metadata": {},
   "outputs": [],
   "source": [
    "total_income_id = df.groupby('total_income_group').agg({'debt': ['sum', 'count']})"
   ]
  },
  {
   "cell_type": "markdown",
   "metadata": {},
   "source": [
    "Для этого расчета у нас также\n",
    "есть категоризированные данные. Применим их и с помощью метода merge() соединим две таблицы: категоризированные данные и сгруппированные данные по кредиту."
   ]
  },
  {
   "cell_type": "code",
   "execution_count": 59,
   "metadata": {},
   "outputs": [],
   "source": [
    "total_income_final = total_income_group.merge(total_income_id, on='total_income_group', how='left')"
   ]
  },
  {
   "cell_type": "markdown",
   "metadata": {},
   "source": [
    "Расчитаем конверсию:"
   ]
  },
  {
   "cell_type": "code",
   "execution_count": 60,
   "metadata": {},
   "outputs": [],
   "source": [
    "total_income_final['convers_percents'] = (df.groupby('total_income_id')['debt'].sum()/df.groupby('total_income_id')['debt'].count())*100"
   ]
  },
  {
   "cell_type": "code",
   "execution_count": 61,
   "metadata": {},
   "outputs": [
    {
     "data": {
      "text/html": [
       "<div>\n",
       "<style scoped>\n",
       "    .dataframe tbody tr th:only-of-type {\n",
       "        vertical-align: middle;\n",
       "    }\n",
       "\n",
       "    .dataframe tbody tr th {\n",
       "        vertical-align: top;\n",
       "    }\n",
       "\n",
       "    .dataframe thead th {\n",
       "        text-align: right;\n",
       "    }\n",
       "</style>\n",
       "<table border=\"1\" class=\"dataframe\">\n",
       "  <thead>\n",
       "    <tr style=\"text-align: right;\">\n",
       "      <th></th>\n",
       "      <th>total_income_id</th>\n",
       "      <th>total_income_group</th>\n",
       "      <th>(debt, sum)</th>\n",
       "      <th>(debt, count)</th>\n",
       "      <th>convers_percents</th>\n",
       "    </tr>\n",
       "  </thead>\n",
       "  <tbody>\n",
       "    <tr>\n",
       "      <td>0</td>\n",
       "      <td>3</td>\n",
       "      <td>доход от 250 001 до 350 000</td>\n",
       "      <td>139</td>\n",
       "      <td>1954</td>\n",
       "      <td>6.182796</td>\n",
       "    </tr>\n",
       "    <tr>\n",
       "      <td>1</td>\n",
       "      <td>1</td>\n",
       "      <td>доход от 50 001 до 150 000</td>\n",
       "      <td>992</td>\n",
       "      <td>11914</td>\n",
       "      <td>8.326339</td>\n",
       "    </tr>\n",
       "    <tr>\n",
       "      <td>2</td>\n",
       "      <td>2</td>\n",
       "      <td>доход от 150 001 до 250 000</td>\n",
       "      <td>532</td>\n",
       "      <td>6372</td>\n",
       "      <td>8.349027</td>\n",
       "    </tr>\n",
       "    <tr>\n",
       "      <td>3</td>\n",
       "      <td>5</td>\n",
       "      <td>доход от 500 001- до 1 000 000</td>\n",
       "      <td>12</td>\n",
       "      <td>197</td>\n",
       "      <td>7.113613</td>\n",
       "    </tr>\n",
       "    <tr>\n",
       "      <td>4</td>\n",
       "      <td>4</td>\n",
       "      <td>доход от 300 001 до 500 000</td>\n",
       "      <td>41</td>\n",
       "      <td>636</td>\n",
       "      <td>6.446541</td>\n",
       "    </tr>\n",
       "    <tr>\n",
       "      <td>5</td>\n",
       "      <td>0</td>\n",
       "      <td>доход до 50 000 руб.</td>\n",
       "      <td>23</td>\n",
       "      <td>372</td>\n",
       "      <td>6.091371</td>\n",
       "    </tr>\n",
       "    <tr>\n",
       "      <td>6</td>\n",
       "      <td>6</td>\n",
       "      <td>1 000 001-1 500 000</td>\n",
       "      <td>1</td>\n",
       "      <td>18</td>\n",
       "      <td>5.555556</td>\n",
       "    </tr>\n",
       "    <tr>\n",
       "      <td>7</td>\n",
       "      <td>7</td>\n",
       "      <td>доход от 1 500 001 до 2 000 000</td>\n",
       "      <td>0</td>\n",
       "      <td>5</td>\n",
       "      <td>0.000000</td>\n",
       "    </tr>\n",
       "    <tr>\n",
       "      <td>8</td>\n",
       "      <td>8</td>\n",
       "      <td>доход более 2 000 000</td>\n",
       "      <td>1</td>\n",
       "      <td>2</td>\n",
       "      <td>50.000000</td>\n",
       "    </tr>\n",
       "  </tbody>\n",
       "</table>\n",
       "</div>"
      ],
      "text/plain": [
       "   total_income_id               total_income_group  (debt, sum)  \\\n",
       "0                3      доход от 250 001 до 350 000          139   \n",
       "1                1       доход от 50 001 до 150 000          992   \n",
       "2                2      доход от 150 001 до 250 000          532   \n",
       "3                5   доход от 500 001- до 1 000 000           12   \n",
       "4                4      доход от 300 001 до 500 000           41   \n",
       "5                0             доход до 50 000 руб.           23   \n",
       "6                6              1 000 001-1 500 000            1   \n",
       "7                7  доход от 1 500 001 до 2 000 000            0   \n",
       "8                8            доход более 2 000 000            1   \n",
       "\n",
       "   (debt, count)  convers_percents  \n",
       "0           1954          6.182796  \n",
       "1          11914          8.326339  \n",
       "2           6372          8.349027  \n",
       "3            197          7.113613  \n",
       "4            636          6.446541  \n",
       "5            372          6.091371  \n",
       "6             18          5.555556  \n",
       "7              5          0.000000  \n",
       "8              2         50.000000  "
      ]
     },
     "metadata": {},
     "output_type": "display_data"
    }
   ],
   "source": [
    "display(total_income_final)"
   ]
  },
  {
   "cell_type": "markdown",
   "metadata": {},
   "source": [
    "**Вывод**"
   ]
  },
  {
   "cell_type": "markdown",
   "metadata": {},
   "source": [
    "Как оказалось, люди с доходом до 50000 более дисциплинированные в плане погашения долгов, чем люди с большим доходом. Категории с доходом более 500000, мы рассмтривать не будем, потому что количество в выборке по этим группам очень маленькое. Хуже всего возвращают кредиты люли из групп с доходом от 50000 до 250000.  "
   ]
  },
  {
   "cell_type": "markdown",
   "metadata": {},
   "source": [
    "- Как разные цели кредита влияют на его возврат в срок?"
   ]
  },
  {
   "cell_type": "markdown",
   "metadata": {},
   "source": [
    "Для определения зависимости между целью кредита и вероятностью возврата кредита, проведем группировку столбца наличия задолженности (debt) по столбцу идентификатора цели кредита. И сразу посчитаем сумму невозвращенных кредитов и общую сумму выданных кредитов по каждой группе. Чтобы одновременно посчитать и сумму и общее количество значений используем метод agg()"
   ]
  },
  {
   "cell_type": "code",
   "execution_count": 62,
   "metadata": {},
   "outputs": [],
   "source": [
    "purpose_group = df.groupby('purpose_lemm_id').agg({'debt': ['sum', 'count']})"
   ]
  },
  {
   "cell_type": "markdown",
   "metadata": {},
   "source": [
    "Применим категоризированные данные и с помощью метода merge() соединим две таблицы: категоризированные данные и сгруппированные данные по кредиту."
   ]
  },
  {
   "cell_type": "code",
   "execution_count": 63,
   "metadata": {},
   "outputs": [],
   "source": [
    "purpose_final = purpose_lemm_id.merge(purpose_group, on='purpose_lemm_id', how='left')\n"
   ]
  },
  {
   "cell_type": "markdown",
   "metadata": {},
   "source": [
    "Расчитаем конверсию:\n"
   ]
  },
  {
   "cell_type": "code",
   "execution_count": 64,
   "metadata": {},
   "outputs": [],
   "source": [
    "purpose_final['convers_percents'] = (df.groupby('purpose_lemm_id')['debt'].sum()/df.groupby('purpose_lemm_id')['debt'].count())*100"
   ]
  },
  {
   "cell_type": "code",
   "execution_count": 65,
   "metadata": {},
   "outputs": [
    {
     "data": {
      "text/html": [
       "<div>\n",
       "<style scoped>\n",
       "    .dataframe tbody tr th:only-of-type {\n",
       "        vertical-align: middle;\n",
       "    }\n",
       "\n",
       "    .dataframe tbody tr th {\n",
       "        vertical-align: top;\n",
       "    }\n",
       "\n",
       "    .dataframe thead th {\n",
       "        text-align: right;\n",
       "    }\n",
       "</style>\n",
       "<table border=\"1\" class=\"dataframe\">\n",
       "  <thead>\n",
       "    <tr style=\"text-align: right;\">\n",
       "      <th></th>\n",
       "      <th>purpose_lemm_id</th>\n",
       "      <th>purpose_lemm</th>\n",
       "      <th>(debt, sum)</th>\n",
       "      <th>(debt, count)</th>\n",
       "      <th>convers_percents</th>\n",
       "    </tr>\n",
       "  </thead>\n",
       "  <tbody>\n",
       "    <tr>\n",
       "      <td>0</td>\n",
       "      <td>0</td>\n",
       "      <td>недвижимость</td>\n",
       "      <td>782</td>\n",
       "      <td>10814</td>\n",
       "      <td>7.231367</td>\n",
       "    </tr>\n",
       "    <tr>\n",
       "      <td>1</td>\n",
       "      <td>1</td>\n",
       "      <td>автомобиль</td>\n",
       "      <td>403</td>\n",
       "      <td>4308</td>\n",
       "      <td>9.354689</td>\n",
       "    </tr>\n",
       "    <tr>\n",
       "      <td>2</td>\n",
       "      <td>2</td>\n",
       "      <td>образование</td>\n",
       "      <td>370</td>\n",
       "      <td>4014</td>\n",
       "      <td>9.217738</td>\n",
       "    </tr>\n",
       "    <tr>\n",
       "      <td>3</td>\n",
       "      <td>3</td>\n",
       "      <td>свадьба</td>\n",
       "      <td>186</td>\n",
       "      <td>2334</td>\n",
       "      <td>7.969152</td>\n",
       "    </tr>\n",
       "  </tbody>\n",
       "</table>\n",
       "</div>"
      ],
      "text/plain": [
       "   purpose_lemm_id  purpose_lemm  (debt, sum)  (debt, count)  convers_percents\n",
       "0                0  недвижимость          782          10814          7.231367\n",
       "1                1    автомобиль          403           4308          9.354689\n",
       "2                2   образование          370           4014          9.217738\n",
       "3                3       свадьба          186           2334          7.969152"
      ]
     },
     "metadata": {},
     "output_type": "display_data"
    }
   ],
   "source": [
    "display(purpose_final)"
   ]
  },
  {
   "cell_type": "markdown",
   "metadata": {},
   "source": [
    "**Вывод**"
   ]
  },
  {
   "cell_type": "markdown",
   "metadata": {},
   "source": [
    "На покупку недвижимости выдано больше всего кредитов, но невозврат в этой группе меньше, чем на автомобиль. Также высокий процент показывает конверсия кредита на обучение."
   ]
  },
  {
   "cell_type": "markdown",
   "metadata": {},
   "source": [
    "## Шаг 4. Общий вывод"
   ]
  },
  {
   "cell_type": "markdown",
   "metadata": {},
   "source": [
    "В процессе анализа данных была проведена предобработка данных, включающая:\n",
    "- удаление пропусков\n",
    "- замену некорректных значений\n",
    "- изменены типы данных в столбцах с указанием дохода и стажа\n",
    "- удаление дубликатов с помощью приведения значений к нижнему регистру\n",
    "- использована лемматизация для удаления дубликатов по столбцу с укащзанием цели кредита в произвольной форме\n",
    "- проведена категоризация данных.\n"
   ]
  },
  {
   "cell_type": "markdown",
   "metadata": {},
   "source": [
    "Полученные данные говорят о том, что уровень дохода, цель кредита, семейное положение и наличие детей, каждый в своем роде влияет на возврат кредита. Но для более точной оценки нужно оценивать эти показатели вместе, а не отдельно. За основу такого анализа я бы взяла уровень дохода и изучила бы более подробно группу с доходом от 50000 до 250000. Именно в этой группе посмотрела как влияет семейное положение, количество детей и цель кредита на возврат заемных средств."
   ]
  },
  {
   "cell_type": "code",
   "execution_count": null,
   "metadata": {},
   "outputs": [],
   "source": []
  }
 ],
 "metadata": {
  "ExecuteTimeLog": [
   {
    "duration": 523,
    "start_time": "2022-01-16T07:10:56.178Z"
   },
   {
    "duration": 239,
    "start_time": "2022-01-16T07:19:57.962Z"
   },
   {
    "duration": 190,
    "start_time": "2022-01-16T07:20:12.597Z"
   },
   {
    "duration": 2,
    "start_time": "2022-01-16T07:20:31.336Z"
   },
   {
    "duration": 2,
    "start_time": "2022-01-16T07:20:37.962Z"
   },
   {
    "duration": 213,
    "start_time": "2022-01-16T07:20:39.712Z"
   },
   {
    "duration": 43,
    "start_time": "2022-01-16T07:20:57.042Z"
   },
   {
    "duration": 17,
    "start_time": "2022-01-16T07:21:00.022Z"
   },
   {
    "duration": 10,
    "start_time": "2022-01-16T07:22:03.725Z"
   },
   {
    "duration": 7,
    "start_time": "2022-01-16T08:02:58.677Z"
   },
   {
    "duration": 5,
    "start_time": "2022-01-16T08:20:07.793Z"
   },
   {
    "duration": 5,
    "start_time": "2022-01-16T08:21:15.040Z"
   },
   {
    "duration": 7,
    "start_time": "2022-01-16T08:22:12.210Z"
   },
   {
    "duration": 9,
    "start_time": "2022-01-16T08:25:00.392Z"
   },
   {
    "duration": 268,
    "start_time": "2022-01-16T08:28:28.060Z"
   },
   {
    "duration": 196,
    "start_time": "2022-01-16T08:28:42.908Z"
   },
   {
    "duration": 373,
    "start_time": "2022-01-16T17:01:56.013Z"
   },
   {
    "duration": 551,
    "start_time": "2022-01-16T17:02:09.850Z"
   },
   {
    "duration": 50,
    "start_time": "2022-01-16T17:02:10.403Z"
   },
   {
    "duration": 16,
    "start_time": "2022-01-16T17:02:10.455Z"
   },
   {
    "duration": 10,
    "start_time": "2022-01-16T17:02:10.473Z"
   },
   {
    "duration": 3,
    "start_time": "2022-01-16T17:02:10.485Z"
   },
   {
    "duration": 4,
    "start_time": "2022-01-16T17:05:11.478Z"
   },
   {
    "duration": 11,
    "start_time": "2022-01-16T17:06:29.223Z"
   },
   {
    "duration": 2,
    "start_time": "2022-01-16T17:25:42.967Z"
   },
   {
    "duration": 52,
    "start_time": "2022-01-16T17:25:42.971Z"
   },
   {
    "duration": 12,
    "start_time": "2022-01-16T17:25:43.025Z"
   },
   {
    "duration": 11,
    "start_time": "2022-01-16T17:25:43.038Z"
   },
   {
    "duration": 8,
    "start_time": "2022-01-16T17:25:43.051Z"
   },
   {
    "duration": 4,
    "start_time": "2022-01-16T17:25:43.060Z"
   },
   {
    "duration": 4,
    "start_time": "2022-01-16T17:26:15.434Z"
   },
   {
    "duration": 4,
    "start_time": "2022-01-16T17:33:52.288Z"
   },
   {
    "duration": 381,
    "start_time": "2022-01-16T17:37:29.992Z"
   },
   {
    "duration": 6,
    "start_time": "2022-01-16T17:38:18.549Z"
   },
   {
    "duration": 5,
    "start_time": "2022-01-16T17:38:26.490Z"
   },
   {
    "duration": 8,
    "start_time": "2022-01-16T17:39:42.622Z"
   },
   {
    "duration": 2,
    "start_time": "2022-01-16T17:41:08.512Z"
   },
   {
    "duration": 8,
    "start_time": "2022-01-16T17:41:10.241Z"
   },
   {
    "duration": 5,
    "start_time": "2022-01-16T17:41:16.120Z"
   },
   {
    "duration": 3,
    "start_time": "2022-01-16T17:41:21.270Z"
   },
   {
    "duration": 50,
    "start_time": "2022-01-16T17:41:21.274Z"
   },
   {
    "duration": 11,
    "start_time": "2022-01-16T17:41:21.326Z"
   },
   {
    "duration": 10,
    "start_time": "2022-01-16T17:41:21.339Z"
   },
   {
    "duration": 8,
    "start_time": "2022-01-16T17:41:21.350Z"
   },
   {
    "duration": 3,
    "start_time": "2022-01-16T17:41:21.360Z"
   },
   {
    "duration": 4,
    "start_time": "2022-01-16T17:41:21.364Z"
   },
   {
    "duration": 9,
    "start_time": "2022-01-16T17:41:21.369Z"
   },
   {
    "duration": 4,
    "start_time": "2022-01-16T17:41:21.379Z"
   },
   {
    "duration": 6,
    "start_time": "2022-01-16T17:45:28.799Z"
   },
   {
    "duration": 8,
    "start_time": "2022-01-16T17:48:27.337Z"
   },
   {
    "duration": 4,
    "start_time": "2022-01-16T17:49:08.280Z"
   },
   {
    "duration": 4,
    "start_time": "2022-01-16T17:50:09.838Z"
   },
   {
    "duration": 9,
    "start_time": "2022-01-16T17:51:31.141Z"
   },
   {
    "duration": 3,
    "start_time": "2022-01-16T17:51:40.499Z"
   },
   {
    "duration": 49,
    "start_time": "2022-01-16T17:51:40.504Z"
   },
   {
    "duration": 13,
    "start_time": "2022-01-16T17:51:40.554Z"
   },
   {
    "duration": 11,
    "start_time": "2022-01-16T17:51:40.569Z"
   },
   {
    "duration": 9,
    "start_time": "2022-01-16T17:51:40.582Z"
   },
   {
    "duration": 7,
    "start_time": "2022-01-16T17:51:40.592Z"
   },
   {
    "duration": 38,
    "start_time": "2022-01-16T17:51:40.600Z"
   },
   {
    "duration": 3,
    "start_time": "2022-01-16T17:51:40.639Z"
   },
   {
    "duration": 10,
    "start_time": "2022-01-16T17:51:40.644Z"
   },
   {
    "duration": 4,
    "start_time": "2022-01-16T17:52:21.320Z"
   },
   {
    "duration": 9,
    "start_time": "2022-01-16T17:52:25.783Z"
   },
   {
    "duration": 9,
    "start_time": "2022-01-16T17:56:41.130Z"
   },
   {
    "duration": 13,
    "start_time": "2022-01-16T18:10:11.819Z"
   },
   {
    "duration": 15,
    "start_time": "2022-01-16T18:20:51.675Z"
   },
   {
    "duration": 9,
    "start_time": "2022-01-16T18:21:40.128Z"
   },
   {
    "duration": 5,
    "start_time": "2022-01-16T18:50:53.077Z"
   },
   {
    "duration": 309,
    "start_time": "2022-01-16T18:57:39.156Z"
   },
   {
    "duration": 3,
    "start_time": "2022-01-16T18:58:10.200Z"
   },
   {
    "duration": 4,
    "start_time": "2022-01-16T18:58:29.420Z"
   },
   {
    "duration": 8334,
    "start_time": "2022-01-16T19:25:45.518Z"
   },
   {
    "duration": 4,
    "start_time": "2022-01-16T19:27:23.489Z"
   },
   {
    "duration": 12,
    "start_time": "2022-01-16T19:27:58.571Z"
   },
   {
    "duration": 14,
    "start_time": "2022-01-16T19:29:06.283Z"
   },
   {
    "duration": 320,
    "start_time": "2022-01-16T19:39:10.232Z"
   },
   {
    "duration": 9,
    "start_time": "2022-01-16T19:41:40.507Z"
   },
   {
    "duration": 296,
    "start_time": "2022-01-17T16:32:27.732Z"
   },
   {
    "duration": 950,
    "start_time": "2022-01-17T16:36:34.781Z"
   },
   {
    "duration": 53,
    "start_time": "2022-01-17T16:36:35.734Z"
   },
   {
    "duration": 24,
    "start_time": "2022-01-17T16:36:35.790Z"
   },
   {
    "duration": 16,
    "start_time": "2022-01-17T16:36:35.816Z"
   },
   {
    "duration": 33,
    "start_time": "2022-01-17T16:36:35.834Z"
   },
   {
    "duration": 18,
    "start_time": "2022-01-17T16:36:35.869Z"
   },
   {
    "duration": 314,
    "start_time": "2022-01-17T16:36:35.888Z"
   },
   {
    "duration": 713,
    "start_time": "2022-01-17T16:36:35.491Z"
   },
   {
    "duration": 709,
    "start_time": "2022-01-17T16:36:35.496Z"
   },
   {
    "duration": 696,
    "start_time": "2022-01-17T16:36:35.511Z"
   },
   {
    "duration": 692,
    "start_time": "2022-01-17T16:36:35.516Z"
   },
   {
    "duration": 689,
    "start_time": "2022-01-17T16:36:35.521Z"
   },
   {
    "duration": 685,
    "start_time": "2022-01-17T16:36:35.526Z"
   },
   {
    "duration": 682,
    "start_time": "2022-01-17T16:36:35.531Z"
   },
   {
    "duration": 237,
    "start_time": "2022-01-17T16:37:27.253Z"
   },
   {
    "duration": 242,
    "start_time": "2022-01-17T16:37:41.422Z"
   },
   {
    "duration": 248,
    "start_time": "2022-01-17T16:37:52.095Z"
   },
   {
    "duration": 240,
    "start_time": "2022-01-17T16:38:24.447Z"
   },
   {
    "duration": 240,
    "start_time": "2022-01-17T16:42:31.803Z"
   },
   {
    "duration": 258,
    "start_time": "2022-01-17T16:42:49.498Z"
   },
   {
    "duration": 92,
    "start_time": "2022-01-17T16:50:51.396Z"
   },
   {
    "duration": 91,
    "start_time": "2022-01-17T16:50:59.622Z"
   },
   {
    "duration": 10,
    "start_time": "2022-01-17T16:51:04.989Z"
   },
   {
    "duration": 312,
    "start_time": "2022-01-17T16:51:53.262Z"
   },
   {
    "duration": 6,
    "start_time": "2022-01-17T16:52:53.649Z"
   },
   {
    "duration": 245,
    "start_time": "2022-01-17T16:54:36.743Z"
   },
   {
    "duration": 299,
    "start_time": "2022-01-17T16:55:29.794Z"
   },
   {
    "duration": 257,
    "start_time": "2022-01-17T16:56:07.714Z"
   },
   {
    "duration": 2,
    "start_time": "2022-01-17T17:08:40.058Z"
   },
   {
    "duration": 285,
    "start_time": "2022-01-17T17:08:52.007Z"
   },
   {
    "duration": 24,
    "start_time": "2022-01-17T17:10:02.538Z"
   },
   {
    "duration": 83,
    "start_time": "2022-01-17T17:11:30.132Z"
   },
   {
    "duration": 22,
    "start_time": "2022-01-17T17:11:39.044Z"
   },
   {
    "duration": 344,
    "start_time": "2022-01-17T17:15:52.503Z"
   },
   {
    "duration": 252,
    "start_time": "2022-01-17T17:23:53.404Z"
   },
   {
    "duration": 83,
    "start_time": "2022-01-17T17:28:08.056Z"
   },
   {
    "duration": 297,
    "start_time": "2022-01-17T17:28:14.991Z"
   },
   {
    "duration": 82,
    "start_time": "2022-01-17T17:29:05.153Z"
   },
   {
    "duration": 84,
    "start_time": "2022-01-17T17:30:23.600Z"
   },
   {
    "duration": 81,
    "start_time": "2022-01-17T17:30:34.106Z"
   },
   {
    "duration": 85,
    "start_time": "2022-01-17T17:30:57.252Z"
   },
   {
    "duration": 87,
    "start_time": "2022-01-17T17:31:36.664Z"
   },
   {
    "duration": 413,
    "start_time": "2022-01-17T17:32:04.623Z"
   },
   {
    "duration": 329,
    "start_time": "2022-01-17T17:34:42.542Z"
   },
   {
    "duration": 6,
    "start_time": "2022-01-17T17:39:22.519Z"
   },
   {
    "duration": 80,
    "start_time": "2022-01-17T17:40:15.652Z"
   },
   {
    "duration": 91,
    "start_time": "2022-01-17T17:40:19.840Z"
   },
   {
    "duration": 84,
    "start_time": "2022-01-17T17:40:41.269Z"
   },
   {
    "duration": 82,
    "start_time": "2022-01-17T17:40:55.577Z"
   },
   {
    "duration": 24,
    "start_time": "2022-01-17T17:42:18.604Z"
   },
   {
    "duration": 88,
    "start_time": "2022-01-17T17:42:56.971Z"
   },
   {
    "duration": 290,
    "start_time": "2022-01-17T17:43:18.601Z"
   },
   {
    "duration": 262,
    "start_time": "2022-01-17T17:43:48.134Z"
   },
   {
    "duration": 2,
    "start_time": "2022-01-17T17:44:42.356Z"
   },
   {
    "duration": 3,
    "start_time": "2022-01-17T17:44:49.212Z"
   },
   {
    "duration": 2,
    "start_time": "2022-01-17T17:44:52.011Z"
   },
   {
    "duration": 241,
    "start_time": "2022-01-17T17:44:54.330Z"
   },
   {
    "duration": 344,
    "start_time": "2022-01-17T17:45:14.673Z"
   },
   {
    "duration": 305,
    "start_time": "2022-01-17T17:45:25.210Z"
   },
   {
    "duration": 241,
    "start_time": "2022-01-17T17:46:30.838Z"
   },
   {
    "duration": 235,
    "start_time": "2022-01-17T17:47:44.283Z"
   },
   {
    "duration": 330,
    "start_time": "2022-01-17T17:49:10.291Z"
   },
   {
    "duration": 543,
    "start_time": "2022-01-17T17:51:26.788Z"
   },
   {
    "duration": 261,
    "start_time": "2022-01-17T17:57:19.634Z"
   },
   {
    "duration": 274,
    "start_time": "2022-01-17T17:57:46.775Z"
   },
   {
    "duration": 246,
    "start_time": "2022-01-17T17:58:29.531Z"
   },
   {
    "duration": 38,
    "start_time": "2022-01-17T18:00:30.386Z"
   },
   {
    "duration": 64,
    "start_time": "2022-01-17T18:01:15.459Z"
   },
   {
    "duration": 3,
    "start_time": "2022-01-17T18:02:20.516Z"
   },
   {
    "duration": 57,
    "start_time": "2022-01-17T18:02:23.943Z"
   },
   {
    "duration": 23,
    "start_time": "2022-01-17T18:04:04.481Z"
   },
   {
    "duration": 5,
    "start_time": "2022-01-17T18:17:06.140Z"
   },
   {
    "duration": 7,
    "start_time": "2022-01-17T18:17:07.965Z"
   },
   {
    "duration": 3,
    "start_time": "2022-01-17T18:18:39.451Z"
   },
   {
    "duration": 53,
    "start_time": "2022-01-17T18:18:39.456Z"
   },
   {
    "duration": 11,
    "start_time": "2022-01-17T18:18:39.511Z"
   },
   {
    "duration": 11,
    "start_time": "2022-01-17T18:18:39.524Z"
   },
   {
    "duration": 23,
    "start_time": "2022-01-17T18:18:39.537Z"
   },
   {
    "duration": 13,
    "start_time": "2022-01-17T18:18:39.562Z"
   },
   {
    "duration": 3,
    "start_time": "2022-01-17T18:18:39.577Z"
   },
   {
    "duration": 59,
    "start_time": "2022-01-17T18:18:39.582Z"
   },
   {
    "duration": 22,
    "start_time": "2022-01-17T18:18:39.643Z"
   },
   {
    "duration": 9,
    "start_time": "2022-01-17T18:18:39.666Z"
   },
   {
    "duration": 8,
    "start_time": "2022-01-17T18:18:39.676Z"
   },
   {
    "duration": 3,
    "start_time": "2022-01-17T18:18:39.685Z"
   },
   {
    "duration": 14,
    "start_time": "2022-01-17T18:18:39.690Z"
   },
   {
    "duration": 12,
    "start_time": "2022-01-17T18:18:39.706Z"
   },
   {
    "duration": 44,
    "start_time": "2022-01-17T18:18:39.720Z"
   },
   {
    "duration": 3,
    "start_time": "2022-01-17T18:27:02.624Z"
   },
   {
    "duration": 64,
    "start_time": "2022-01-17T18:27:02.629Z"
   },
   {
    "duration": 12,
    "start_time": "2022-01-17T18:27:02.695Z"
   },
   {
    "duration": 26,
    "start_time": "2022-01-17T18:27:02.709Z"
   },
   {
    "duration": 20,
    "start_time": "2022-01-17T18:27:02.737Z"
   },
   {
    "duration": 18,
    "start_time": "2022-01-17T18:27:02.759Z"
   },
   {
    "duration": 21,
    "start_time": "2022-01-17T18:27:02.780Z"
   },
   {
    "duration": 68,
    "start_time": "2022-01-17T18:27:02.803Z"
   },
   {
    "duration": 7,
    "start_time": "2022-01-17T18:27:02.872Z"
   },
   {
    "duration": 19,
    "start_time": "2022-01-17T18:27:02.881Z"
   },
   {
    "duration": 14,
    "start_time": "2022-01-17T18:27:02.902Z"
   },
   {
    "duration": 959,
    "start_time": "2022-01-17T18:27:02.918Z"
   },
   {
    "duration": 757,
    "start_time": "2022-01-17T18:27:03.122Z"
   },
   {
    "duration": 12,
    "start_time": "2022-01-17T18:28:09.208Z"
   },
   {
    "duration": 47,
    "start_time": "2022-01-17T18:28:50.889Z"
   },
   {
    "duration": 13,
    "start_time": "2022-01-17T18:28:55.764Z"
   },
   {
    "duration": 53,
    "start_time": "2022-01-17T18:30:03.623Z"
   },
   {
    "duration": 13,
    "start_time": "2022-01-17T18:30:08.522Z"
   },
   {
    "duration": 3953,
    "start_time": "2022-01-17T18:31:23.165Z"
   },
   {
    "duration": 796,
    "start_time": "2022-01-17T18:31:26.324Z"
   },
   {
    "duration": 23,
    "start_time": "2022-01-17T18:32:07.944Z"
   },
   {
    "duration": 13,
    "start_time": "2022-01-17T18:32:13.451Z"
   },
   {
    "duration": 12,
    "start_time": "2022-01-17T18:32:17.861Z"
   },
   {
    "duration": 25,
    "start_time": "2022-01-17T18:32:45.581Z"
   },
   {
    "duration": 13,
    "start_time": "2022-01-17T18:32:49.603Z"
   },
   {
    "duration": 252,
    "start_time": "2022-01-17T18:33:03.201Z"
   },
   {
    "duration": 14,
    "start_time": "2022-01-17T18:33:09.599Z"
   },
   {
    "duration": 3898,
    "start_time": "2022-01-17T18:33:47.784Z"
   },
   {
    "duration": 13,
    "start_time": "2022-01-17T18:33:53.204Z"
   },
   {
    "duration": 3583,
    "start_time": "2022-01-17T18:34:43.347Z"
   },
   {
    "duration": 4199,
    "start_time": "2022-01-17T18:35:07.203Z"
   },
   {
    "duration": 2,
    "start_time": "2022-01-17T18:36:58.924Z"
   },
   {
    "duration": 607,
    "start_time": "2022-01-17T18:39:19.029Z"
   },
   {
    "duration": 235,
    "start_time": "2022-01-17T18:39:42.353Z"
   },
   {
    "duration": 944,
    "start_time": "2022-01-17T18:39:59.887Z"
   },
   {
    "duration": 94,
    "start_time": "2022-01-17T18:40:50.257Z"
   },
   {
    "duration": 10,
    "start_time": "2022-01-17T18:41:16.296Z"
   },
   {
    "duration": 14,
    "start_time": "2022-01-17T18:41:19.920Z"
   },
   {
    "duration": 6,
    "start_time": "2022-01-17T18:41:41.837Z"
   },
   {
    "duration": 13,
    "start_time": "2022-01-17T18:41:44.612Z"
   },
   {
    "duration": 24,
    "start_time": "2022-01-17T18:42:23.740Z"
   },
   {
    "duration": 80,
    "start_time": "2022-01-17T18:50:16.010Z"
   },
   {
    "duration": 4462,
    "start_time": "2022-01-17T18:50:39.918Z"
   },
   {
    "duration": 23,
    "start_time": "2022-01-17T18:58:36.402Z"
   },
   {
    "duration": 2,
    "start_time": "2022-01-17T18:58:46.186Z"
   },
   {
    "duration": 25,
    "start_time": "2022-01-17T18:58:50.482Z"
   },
   {
    "duration": 3,
    "start_time": "2022-01-17T18:58:55.352Z"
   },
   {
    "duration": 60,
    "start_time": "2022-01-17T18:58:55.357Z"
   },
   {
    "duration": 12,
    "start_time": "2022-01-17T18:58:55.419Z"
   },
   {
    "duration": 11,
    "start_time": "2022-01-17T18:58:55.433Z"
   },
   {
    "duration": 18,
    "start_time": "2022-01-17T18:58:55.446Z"
   },
   {
    "duration": 13,
    "start_time": "2022-01-17T18:58:55.466Z"
   },
   {
    "duration": 3,
    "start_time": "2022-01-17T18:58:55.481Z"
   },
   {
    "duration": 26,
    "start_time": "2022-01-17T18:58:55.485Z"
   },
   {
    "duration": 11,
    "start_time": "2022-01-17T18:58:55.513Z"
   },
   {
    "duration": 9,
    "start_time": "2022-01-17T18:58:55.525Z"
   },
   {
    "duration": 27,
    "start_time": "2022-01-17T18:58:55.535Z"
   },
   {
    "duration": 12,
    "start_time": "2022-01-17T18:58:55.563Z"
   },
   {
    "duration": 263,
    "start_time": "2022-01-17T18:58:55.576Z"
   },
   {
    "duration": 806,
    "start_time": "2022-01-17T18:58:55.035Z"
   },
   {
    "duration": 247,
    "start_time": "2022-01-17T19:01:47.319Z"
   },
   {
    "duration": 22,
    "start_time": "2022-01-17T19:01:56.244Z"
   },
   {
    "duration": 42,
    "start_time": "2022-01-17T19:04:37.572Z"
   },
   {
    "duration": 742,
    "start_time": "2022-01-17T19:18:32.804Z"
   },
   {
    "duration": 22,
    "start_time": "2022-01-17T19:18:41.617Z"
   },
   {
    "duration": 9,
    "start_time": "2022-01-17T19:21:58.870Z"
   },
   {
    "duration": 12,
    "start_time": "2022-01-17T19:25:05.678Z"
   },
   {
    "duration": 6,
    "start_time": "2022-01-17T19:26:37.735Z"
   },
   {
    "duration": 6,
    "start_time": "2022-01-17T19:29:01.966Z"
   },
   {
    "duration": 83,
    "start_time": "2022-01-17T19:29:21.610Z"
   },
   {
    "duration": 5,
    "start_time": "2022-01-17T19:29:29.213Z"
   },
   {
    "duration": 14,
    "start_time": "2022-01-17T19:32:36.961Z"
   },
   {
    "duration": 7,
    "start_time": "2022-01-17T19:33:31.995Z"
   },
   {
    "duration": 7,
    "start_time": "2022-01-17T19:34:32.041Z"
   },
   {
    "duration": 4,
    "start_time": "2022-01-17T19:35:55.543Z"
   },
   {
    "duration": 3,
    "start_time": "2022-01-17T19:35:59.394Z"
   },
   {
    "duration": 52,
    "start_time": "2022-01-17T19:35:59.400Z"
   },
   {
    "duration": 12,
    "start_time": "2022-01-17T19:35:59.454Z"
   },
   {
    "duration": 12,
    "start_time": "2022-01-17T19:35:59.469Z"
   },
   {
    "duration": 9,
    "start_time": "2022-01-17T19:35:59.483Z"
   },
   {
    "duration": 13,
    "start_time": "2022-01-17T19:35:59.494Z"
   },
   {
    "duration": 678,
    "start_time": "2022-01-17T19:35:59.508Z"
   },
   {
    "duration": 14,
    "start_time": "2022-01-17T19:36:00.187Z"
   },
   {
    "duration": 20,
    "start_time": "2022-01-17T19:36:00.203Z"
   },
   {
    "duration": 6,
    "start_time": "2022-01-17T19:36:00.225Z"
   },
   {
    "duration": 11,
    "start_time": "2022-01-17T19:36:00.232Z"
   },
   {
    "duration": 16,
    "start_time": "2022-01-17T19:36:00.245Z"
   },
   {
    "duration": 13,
    "start_time": "2022-01-17T19:36:00.262Z"
   },
   {
    "duration": 13,
    "start_time": "2022-01-17T19:36:00.277Z"
   },
   {
    "duration": 12,
    "start_time": "2022-01-17T19:36:00.292Z"
   },
   {
    "duration": 6,
    "start_time": "2022-01-17T19:38:53.477Z"
   },
   {
    "duration": 21,
    "start_time": "2022-01-17T19:41:21.968Z"
   },
   {
    "duration": 22,
    "start_time": "2022-01-17T19:43:52.310Z"
   },
   {
    "duration": 9,
    "start_time": "2022-01-17T19:44:30.393Z"
   },
   {
    "duration": 77,
    "start_time": "2022-01-17T19:44:53.890Z"
   },
   {
    "duration": 5,
    "start_time": "2022-01-17T19:44:59.193Z"
   },
   {
    "duration": 7,
    "start_time": "2022-01-17T19:45:33.011Z"
   },
   {
    "duration": 4,
    "start_time": "2022-01-17T19:46:05.696Z"
   },
   {
    "duration": 6,
    "start_time": "2022-01-17T19:47:03.860Z"
   },
   {
    "duration": 4,
    "start_time": "2022-01-17T19:49:30.513Z"
   },
   {
    "duration": 390,
    "start_time": "2022-01-17T19:54:37.445Z"
   },
   {
    "duration": 233,
    "start_time": "2022-01-17T19:56:45.486Z"
   },
   {
    "duration": 83,
    "start_time": "2022-01-17T19:57:35.379Z"
   },
   {
    "duration": 5,
    "start_time": "2022-01-17T19:57:41.515Z"
   },
   {
    "duration": 18,
    "start_time": "2022-01-17T19:58:04.904Z"
   },
   {
    "duration": 17,
    "start_time": "2022-01-17T19:58:14.450Z"
   },
   {
    "duration": 3,
    "start_time": "2022-01-17T19:59:42.426Z"
   },
   {
    "duration": 56,
    "start_time": "2022-01-17T19:59:42.432Z"
   },
   {
    "duration": 13,
    "start_time": "2022-01-17T19:59:42.491Z"
   },
   {
    "duration": 15,
    "start_time": "2022-01-17T19:59:42.506Z"
   },
   {
    "duration": 10,
    "start_time": "2022-01-17T19:59:42.523Z"
   },
   {
    "duration": 14,
    "start_time": "2022-01-17T19:59:42.561Z"
   },
   {
    "duration": 693,
    "start_time": "2022-01-17T19:59:42.576Z"
   },
   {
    "duration": 14,
    "start_time": "2022-01-17T19:59:43.270Z"
   },
   {
    "duration": 8,
    "start_time": "2022-01-17T19:59:43.287Z"
   },
   {
    "duration": 3,
    "start_time": "2022-01-17T19:59:43.297Z"
   },
   {
    "duration": 10,
    "start_time": "2022-01-17T19:59:43.302Z"
   },
   {
    "duration": 5,
    "start_time": "2022-01-17T19:59:43.314Z"
   },
   {
    "duration": 44,
    "start_time": "2022-01-17T19:59:43.321Z"
   },
   {
    "duration": 34,
    "start_time": "2022-01-17T19:59:43.367Z"
   },
   {
    "duration": 5,
    "start_time": "2022-01-17T19:59:43.403Z"
   },
   {
    "duration": 12,
    "start_time": "2022-01-17T19:59:43.410Z"
   },
   {
    "duration": 46,
    "start_time": "2022-01-17T19:59:43.424Z"
   },
   {
    "duration": 14,
    "start_time": "2022-01-17T19:59:43.472Z"
   },
   {
    "duration": 11,
    "start_time": "2022-01-17T19:59:43.487Z"
   },
   {
    "duration": 4,
    "start_time": "2022-01-17T20:02:48.172Z"
   },
   {
    "duration": 4,
    "start_time": "2022-01-17T20:06:40.566Z"
   },
   {
    "duration": 12,
    "start_time": "2022-01-17T20:06:42.878Z"
   },
   {
    "duration": 19,
    "start_time": "2022-01-17T20:10:04.193Z"
   },
   {
    "duration": 17,
    "start_time": "2022-01-17T20:10:13.986Z"
   },
   {
    "duration": 238,
    "start_time": "2022-01-17T20:10:59.533Z"
   },
   {
    "duration": 22,
    "start_time": "2022-01-17T20:14:22.577Z"
   },
   {
    "duration": 33,
    "start_time": "2022-01-17T20:14:36.994Z"
   },
   {
    "duration": 7,
    "start_time": "2022-01-17T20:18:41.161Z"
   },
   {
    "duration": 84,
    "start_time": "2022-01-17T20:20:45.212Z"
   },
   {
    "duration": 287,
    "start_time": "2022-01-17T20:20:51.893Z"
   },
   {
    "duration": 17,
    "start_time": "2022-01-17T20:21:26.526Z"
   },
   {
    "duration": 13,
    "start_time": "2022-01-17T20:21:40.959Z"
   },
   {
    "duration": 8,
    "start_time": "2022-01-17T20:22:01.118Z"
   },
   {
    "duration": 16,
    "start_time": "2022-01-17T20:22:38.136Z"
   },
   {
    "duration": 9,
    "start_time": "2022-01-17T20:24:02.558Z"
   },
   {
    "duration": 13,
    "start_time": "2022-01-17T20:25:15.194Z"
   },
   {
    "duration": 7,
    "start_time": "2022-01-17T20:26:10.606Z"
   },
   {
    "duration": 10,
    "start_time": "2022-01-17T20:27:08.067Z"
   },
   {
    "duration": 8,
    "start_time": "2022-01-17T20:43:24.211Z"
   },
   {
    "duration": 301,
    "start_time": "2022-01-18T17:01:52.617Z"
   },
   {
    "duration": 240,
    "start_time": "2022-01-18T17:02:09.668Z"
   },
   {
    "duration": 274,
    "start_time": "2022-01-18T17:03:12.522Z"
   },
   {
    "duration": 258,
    "start_time": "2022-01-18T17:22:43.410Z"
   },
   {
    "duration": 231,
    "start_time": "2022-01-18T17:24:05.297Z"
   },
   {
    "duration": 241,
    "start_time": "2022-01-18T17:24:41.444Z"
   },
   {
    "duration": 604,
    "start_time": "2022-01-18T17:24:51.058Z"
   },
   {
    "duration": 52,
    "start_time": "2022-01-18T17:24:51.664Z"
   },
   {
    "duration": 19,
    "start_time": "2022-01-18T17:24:51.718Z"
   },
   {
    "duration": 21,
    "start_time": "2022-01-18T17:24:51.738Z"
   },
   {
    "duration": 9,
    "start_time": "2022-01-18T17:24:51.761Z"
   },
   {
    "duration": 21,
    "start_time": "2022-01-18T17:24:51.772Z"
   },
   {
    "duration": 676,
    "start_time": "2022-01-18T17:24:51.795Z"
   },
   {
    "duration": 13,
    "start_time": "2022-01-18T17:24:52.474Z"
   },
   {
    "duration": 13,
    "start_time": "2022-01-18T17:24:52.490Z"
   },
   {
    "duration": 3,
    "start_time": "2022-01-18T17:24:52.505Z"
   },
   {
    "duration": 12,
    "start_time": "2022-01-18T17:24:52.509Z"
   },
   {
    "duration": 19,
    "start_time": "2022-01-18T17:24:52.522Z"
   },
   {
    "duration": 10,
    "start_time": "2022-01-18T17:24:52.542Z"
   },
   {
    "duration": 24,
    "start_time": "2022-01-18T17:24:52.553Z"
   },
   {
    "duration": 3,
    "start_time": "2022-01-18T17:24:52.579Z"
   },
   {
    "duration": 11,
    "start_time": "2022-01-18T17:24:52.584Z"
   },
   {
    "duration": 19,
    "start_time": "2022-01-18T17:24:52.597Z"
   },
   {
    "duration": 4,
    "start_time": "2022-01-18T17:24:52.641Z"
   },
   {
    "duration": 16,
    "start_time": "2022-01-18T17:24:52.647Z"
   },
   {
    "duration": 20,
    "start_time": "2022-01-18T17:24:52.664Z"
   },
   {
    "duration": 19,
    "start_time": "2022-01-18T17:24:52.686Z"
   },
   {
    "duration": 8,
    "start_time": "2022-01-18T17:24:52.708Z"
   },
   {
    "duration": 28,
    "start_time": "2022-01-18T17:24:52.719Z"
   },
   {
    "duration": 8,
    "start_time": "2022-01-18T17:24:52.749Z"
   },
   {
    "duration": 26,
    "start_time": "2022-01-18T17:24:52.758Z"
   },
   {
    "duration": 17,
    "start_time": "2022-01-18T17:24:52.785Z"
   },
   {
    "duration": 12,
    "start_time": "2022-01-18T17:24:52.803Z"
   },
   {
    "duration": 4110,
    "start_time": "2022-01-18T17:24:52.817Z"
   },
   {
    "duration": 3969,
    "start_time": "2022-01-18T17:26:06.882Z"
   },
   {
    "duration": 12396,
    "start_time": "2022-01-18T17:31:07.474Z"
   },
   {
    "duration": 318,
    "start_time": "2022-01-18T17:38:56.887Z"
   },
   {
    "duration": 229,
    "start_time": "2022-01-18T17:39:51.366Z"
   },
   {
    "duration": 4045,
    "start_time": "2022-01-18T17:40:11.816Z"
   },
   {
    "duration": 4430,
    "start_time": "2022-01-18T17:40:33.095Z"
   },
   {
    "duration": 4199,
    "start_time": "2022-01-18T17:40:45.132Z"
   },
   {
    "duration": 4127,
    "start_time": "2022-01-18T17:41:07.278Z"
   },
   {
    "duration": 5252,
    "start_time": "2022-01-18T19:03:00.141Z"
   },
   {
    "duration": 4235,
    "start_time": "2022-01-18T19:03:26.158Z"
   },
   {
    "duration": 2,
    "start_time": "2022-01-18T19:05:25.060Z"
   },
   {
    "duration": 13258,
    "start_time": "2022-01-18T19:05:28.694Z"
   },
   {
    "duration": 3,
    "start_time": "2022-01-18T19:06:43.604Z"
   },
   {
    "duration": 1039,
    "start_time": "2022-01-18T19:09:27.222Z"
   },
   {
    "duration": 1012,
    "start_time": "2022-01-18T19:09:51.295Z"
   },
   {
    "duration": 709,
    "start_time": "2022-01-18T19:10:07.619Z"
   },
   {
    "duration": 664,
    "start_time": "2022-01-18T19:10:18.230Z"
   },
   {
    "duration": 1021,
    "start_time": "2022-01-18T19:20:02.414Z"
   },
   {
    "duration": 917,
    "start_time": "2022-01-18T19:20:26.304Z"
   },
   {
    "duration": 933,
    "start_time": "2022-01-18T19:22:00.566Z"
   },
   {
    "duration": 3,
    "start_time": "2022-01-18T19:23:29.027Z"
   },
   {
    "duration": 61,
    "start_time": "2022-01-18T19:23:29.032Z"
   },
   {
    "duration": 19,
    "start_time": "2022-01-18T19:23:29.096Z"
   },
   {
    "duration": 16,
    "start_time": "2022-01-18T19:23:29.118Z"
   },
   {
    "duration": 9,
    "start_time": "2022-01-18T19:23:29.141Z"
   },
   {
    "duration": 14,
    "start_time": "2022-01-18T19:23:29.152Z"
   },
   {
    "duration": 695,
    "start_time": "2022-01-18T19:23:29.168Z"
   },
   {
    "duration": 13,
    "start_time": "2022-01-18T19:23:29.864Z"
   },
   {
    "duration": 10,
    "start_time": "2022-01-18T19:23:29.879Z"
   },
   {
    "duration": 4,
    "start_time": "2022-01-18T19:23:29.891Z"
   },
   {
    "duration": 11,
    "start_time": "2022-01-18T19:23:29.896Z"
   },
   {
    "duration": 5,
    "start_time": "2022-01-18T19:23:29.909Z"
   },
   {
    "duration": 29,
    "start_time": "2022-01-18T19:23:29.915Z"
   },
   {
    "duration": 23,
    "start_time": "2022-01-18T19:23:29.946Z"
   },
   {
    "duration": 5,
    "start_time": "2022-01-18T19:23:29.971Z"
   },
   {
    "duration": 15,
    "start_time": "2022-01-18T19:23:29.978Z"
   },
   {
    "duration": 21,
    "start_time": "2022-01-18T19:23:29.995Z"
   },
   {
    "duration": 5,
    "start_time": "2022-01-18T19:23:30.042Z"
   },
   {
    "duration": 8,
    "start_time": "2022-01-18T19:23:30.049Z"
   },
   {
    "duration": 25,
    "start_time": "2022-01-18T19:23:30.059Z"
   },
   {
    "duration": 15,
    "start_time": "2022-01-18T19:23:30.086Z"
   },
   {
    "duration": 8,
    "start_time": "2022-01-18T19:23:30.103Z"
   },
   {
    "duration": 40,
    "start_time": "2022-01-18T19:23:30.113Z"
   },
   {
    "duration": 7,
    "start_time": "2022-01-18T19:23:30.155Z"
   },
   {
    "duration": 17,
    "start_time": "2022-01-18T19:23:30.164Z"
   },
   {
    "duration": 18,
    "start_time": "2022-01-18T19:23:30.183Z"
   },
   {
    "duration": 12,
    "start_time": "2022-01-18T19:23:30.205Z"
   },
   {
    "duration": 20,
    "start_time": "2022-01-18T19:23:30.219Z"
   },
   {
    "duration": 12,
    "start_time": "2022-01-18T19:23:30.241Z"
   },
   {
    "duration": 1028,
    "start_time": "2022-01-18T19:23:30.254Z"
   },
   {
    "duration": 890,
    "start_time": "2022-01-18T19:23:43.618Z"
   },
   {
    "duration": 939,
    "start_time": "2022-01-18T19:24:54.579Z"
   },
   {
    "duration": 906,
    "start_time": "2022-01-18T19:25:43.330Z"
   },
   {
    "duration": 756,
    "start_time": "2022-01-18T19:29:36.983Z"
   },
   {
    "duration": 4363,
    "start_time": "2022-01-18T19:30:17.163Z"
   },
   {
    "duration": 4673,
    "start_time": "2022-01-18T19:31:02.821Z"
   },
   {
    "duration": 4482,
    "start_time": "2022-01-18T19:35:03.103Z"
   },
   {
    "duration": 4088,
    "start_time": "2022-01-18T19:35:19.510Z"
   },
   {
    "duration": 281,
    "start_time": "2022-01-18T19:41:02.758Z"
   },
   {
    "duration": 269,
    "start_time": "2022-01-18T19:43:04.794Z"
   },
   {
    "duration": 250,
    "start_time": "2022-01-18T20:04:53.899Z"
   },
   {
    "duration": 4477,
    "start_time": "2022-01-18T20:05:09.348Z"
   },
   {
    "duration": 5174,
    "start_time": "2022-01-18T20:09:28.333Z"
   },
   {
    "duration": 246,
    "start_time": "2022-01-18T20:11:04.768Z"
   },
   {
    "duration": 822,
    "start_time": "2022-01-19T17:12:07.237Z"
   },
   {
    "duration": 71,
    "start_time": "2022-01-19T17:12:08.062Z"
   },
   {
    "duration": 32,
    "start_time": "2022-01-19T17:12:08.137Z"
   },
   {
    "duration": 21,
    "start_time": "2022-01-19T17:12:08.173Z"
   },
   {
    "duration": 41,
    "start_time": "2022-01-19T17:12:08.198Z"
   },
   {
    "duration": 21,
    "start_time": "2022-01-19T17:12:08.242Z"
   },
   {
    "duration": 1283,
    "start_time": "2022-01-19T17:12:08.266Z"
   },
   {
    "duration": 21,
    "start_time": "2022-01-19T17:12:09.553Z"
   },
   {
    "duration": 11,
    "start_time": "2022-01-19T17:12:09.577Z"
   },
   {
    "duration": 4,
    "start_time": "2022-01-19T17:12:09.592Z"
   },
   {
    "duration": 9,
    "start_time": "2022-01-19T17:12:09.633Z"
   },
   {
    "duration": 4,
    "start_time": "2022-01-19T17:12:09.645Z"
   },
   {
    "duration": 15,
    "start_time": "2022-01-19T17:12:09.651Z"
   },
   {
    "duration": 68,
    "start_time": "2022-01-19T17:12:09.668Z"
   },
   {
    "duration": 7,
    "start_time": "2022-01-19T17:12:09.739Z"
   },
   {
    "duration": 11,
    "start_time": "2022-01-19T17:12:09.748Z"
   },
   {
    "duration": 26,
    "start_time": "2022-01-19T17:12:09.762Z"
   },
   {
    "duration": 6,
    "start_time": "2022-01-19T17:12:09.790Z"
   },
   {
    "duration": 38,
    "start_time": "2022-01-19T17:12:09.798Z"
   },
   {
    "duration": 30,
    "start_time": "2022-01-19T17:12:09.839Z"
   },
   {
    "duration": 32,
    "start_time": "2022-01-19T17:12:09.871Z"
   },
   {
    "duration": 34,
    "start_time": "2022-01-19T17:12:09.905Z"
   },
   {
    "duration": 25,
    "start_time": "2022-01-19T17:12:09.944Z"
   },
   {
    "duration": 10,
    "start_time": "2022-01-19T17:12:09.972Z"
   },
   {
    "duration": 57,
    "start_time": "2022-01-19T17:12:09.985Z"
   },
   {
    "duration": 14,
    "start_time": "2022-01-19T17:12:10.044Z"
   },
   {
    "duration": 14,
    "start_time": "2022-01-19T17:12:10.061Z"
   },
   {
    "duration": 5,
    "start_time": "2022-01-19T17:12:10.078Z"
   },
   {
    "duration": 6,
    "start_time": "2022-01-19T17:12:10.086Z"
   },
   {
    "duration": 6076,
    "start_time": "2022-01-19T17:12:10.094Z"
   },
   {
    "duration": 29,
    "start_time": "2022-01-19T17:22:37.686Z"
   },
   {
    "duration": 931,
    "start_time": "2022-01-19T17:30:33.465Z"
   },
   {
    "duration": 353,
    "start_time": "2022-01-19T17:38:39.748Z"
   },
   {
    "duration": 3831,
    "start_time": "2022-01-19T17:39:55.357Z"
   },
   {
    "duration": 3936,
    "start_time": "2022-01-19T17:40:31.141Z"
   },
   {
    "duration": 953,
    "start_time": "2022-01-19T17:41:54.196Z"
   },
   {
    "duration": 3,
    "start_time": "2022-01-19T17:42:30.716Z"
   },
   {
    "duration": 6162,
    "start_time": "2022-01-19T17:43:18.227Z"
   },
   {
    "duration": 3944,
    "start_time": "2022-01-19T17:43:43.257Z"
   },
   {
    "duration": 4670,
    "start_time": "2022-01-19T17:48:39.646Z"
   },
   {
    "duration": 241,
    "start_time": "2022-01-19T17:50:32.394Z"
   },
   {
    "duration": 959,
    "start_time": "2022-01-19T17:56:08.387Z"
   },
   {
    "duration": 1147,
    "start_time": "2022-01-19T18:03:57.295Z"
   },
   {
    "duration": 3951,
    "start_time": "2022-01-19T18:04:17.530Z"
   },
   {
    "duration": 3973,
    "start_time": "2022-01-19T18:08:17.066Z"
   },
   {
    "duration": 269,
    "start_time": "2022-01-19T18:08:41.174Z"
   },
   {
    "duration": 7,
    "start_time": "2022-01-19T18:09:14.030Z"
   },
   {
    "duration": 4035,
    "start_time": "2022-01-19T18:09:38.266Z"
   },
   {
    "duration": 7,
    "start_time": "2022-01-19T18:09:44.678Z"
   },
   {
    "duration": 6,
    "start_time": "2022-01-19T18:09:52.350Z"
   },
   {
    "duration": 3931,
    "start_time": "2022-01-19T18:11:51.636Z"
   },
   {
    "duration": 7,
    "start_time": "2022-01-19T18:11:59.289Z"
   },
   {
    "duration": 7,
    "start_time": "2022-01-19T18:12:39.421Z"
   },
   {
    "duration": 3778,
    "start_time": "2022-01-19T18:15:04.594Z"
   },
   {
    "duration": 7,
    "start_time": "2022-01-19T18:15:12.324Z"
   },
   {
    "duration": 4003,
    "start_time": "2022-01-19T18:19:23.988Z"
   },
   {
    "duration": 7,
    "start_time": "2022-01-19T18:19:34.432Z"
   },
   {
    "duration": 4085,
    "start_time": "2022-01-19T18:20:53.468Z"
   },
   {
    "duration": 7,
    "start_time": "2022-01-19T18:21:00.845Z"
   },
   {
    "duration": 109,
    "start_time": "2022-01-19T18:23:35.867Z"
   },
   {
    "duration": 4070,
    "start_time": "2022-01-19T18:23:45.331Z"
   },
   {
    "duration": 8,
    "start_time": "2022-01-19T18:23:54.183Z"
   },
   {
    "duration": 7,
    "start_time": "2022-01-19T18:23:57.602Z"
   },
   {
    "duration": 3726,
    "start_time": "2022-01-19T18:25:47.553Z"
   },
   {
    "duration": 6,
    "start_time": "2022-01-19T18:25:54.930Z"
   },
   {
    "duration": 5561,
    "start_time": "2022-01-19T18:26:21.512Z"
   },
   {
    "duration": 4253,
    "start_time": "2022-01-19T18:26:41.509Z"
   },
   {
    "duration": 7,
    "start_time": "2022-01-19T18:26:49.944Z"
   },
   {
    "duration": 4131,
    "start_time": "2022-01-19T18:27:11.516Z"
   },
   {
    "duration": 8,
    "start_time": "2022-01-19T18:27:19.445Z"
   },
   {
    "duration": 4226,
    "start_time": "2022-01-19T18:27:46.010Z"
   },
   {
    "duration": 7,
    "start_time": "2022-01-19T18:27:53.745Z"
   },
   {
    "duration": 4320,
    "start_time": "2022-01-19T18:28:26.721Z"
   },
   {
    "duration": 7,
    "start_time": "2022-01-19T18:28:34.895Z"
   },
   {
    "duration": 4251,
    "start_time": "2022-01-19T18:28:52.901Z"
   },
   {
    "duration": 7,
    "start_time": "2022-01-19T18:29:01.386Z"
   },
   {
    "duration": 4039,
    "start_time": "2022-01-19T18:30:03.471Z"
   },
   {
    "duration": 9,
    "start_time": "2022-01-19T18:30:10.777Z"
   },
   {
    "duration": 4017,
    "start_time": "2022-01-19T18:30:30.593Z"
   },
   {
    "duration": 8,
    "start_time": "2022-01-19T18:30:37.860Z"
   },
   {
    "duration": 1428,
    "start_time": "2022-01-19T18:31:22.578Z"
   },
   {
    "duration": 1537,
    "start_time": "2022-01-19T18:31:37.445Z"
   },
   {
    "duration": 4627,
    "start_time": "2022-01-19T18:31:57.316Z"
   },
   {
    "duration": 7,
    "start_time": "2022-01-19T18:32:05.116Z"
   },
   {
    "duration": 4206,
    "start_time": "2022-01-19T18:34:07.169Z"
   },
   {
    "duration": 7,
    "start_time": "2022-01-19T18:34:15.957Z"
   },
   {
    "duration": 7,
    "start_time": "2022-01-19T18:34:19.447Z"
   },
   {
    "duration": 86,
    "start_time": "2022-01-19T18:34:42.005Z"
   },
   {
    "duration": 106,
    "start_time": "2022-01-19T18:34:51.022Z"
   },
   {
    "duration": 4175,
    "start_time": "2022-01-19T18:35:23.296Z"
   },
   {
    "duration": 6,
    "start_time": "2022-01-19T18:35:37.969Z"
   },
   {
    "duration": 1188,
    "start_time": "2022-01-19T18:37:02.114Z"
   },
   {
    "duration": 88,
    "start_time": "2022-01-19T18:37:20.847Z"
   },
   {
    "duration": 4308,
    "start_time": "2022-01-19T18:37:59.099Z"
   },
   {
    "duration": 8,
    "start_time": "2022-01-19T18:38:07.369Z"
   },
   {
    "duration": 4211,
    "start_time": "2022-01-19T18:39:58.830Z"
   },
   {
    "duration": 7,
    "start_time": "2022-01-19T18:40:07.109Z"
   },
   {
    "duration": 92,
    "start_time": "2022-01-19T18:40:14.685Z"
   },
   {
    "duration": 4940,
    "start_time": "2022-01-19T18:40:40.040Z"
   },
   {
    "duration": 7,
    "start_time": "2022-01-19T18:40:49.138Z"
   },
   {
    "duration": 5196,
    "start_time": "2022-01-19T18:41:50.427Z"
   },
   {
    "duration": 7,
    "start_time": "2022-01-19T18:42:06.806Z"
   },
   {
    "duration": 4419,
    "start_time": "2022-01-19T18:49:29.783Z"
   },
   {
    "duration": 10,
    "start_time": "2022-01-19T18:49:37.423Z"
   },
   {
    "duration": 4575,
    "start_time": "2022-01-19T18:49:58.483Z"
   },
   {
    "duration": 9,
    "start_time": "2022-01-19T18:50:08.301Z"
   },
   {
    "duration": 94,
    "start_time": "2022-01-19T18:51:17.795Z"
   },
   {
    "duration": 4526,
    "start_time": "2022-01-19T18:51:24.873Z"
   },
   {
    "duration": 9,
    "start_time": "2022-01-19T18:51:33.497Z"
   },
   {
    "duration": 35,
    "start_time": "2022-01-19T18:52:13.698Z"
   },
   {
    "duration": 3,
    "start_time": "2022-01-19T18:54:40.517Z"
   },
   {
    "duration": 90,
    "start_time": "2022-01-19T18:54:40.525Z"
   },
   {
    "duration": 38,
    "start_time": "2022-01-19T18:54:40.619Z"
   },
   {
    "duration": 25,
    "start_time": "2022-01-19T18:54:40.661Z"
   },
   {
    "duration": 54,
    "start_time": "2022-01-19T18:54:40.689Z"
   },
   {
    "duration": 20,
    "start_time": "2022-01-19T18:54:40.745Z"
   },
   {
    "duration": 1252,
    "start_time": "2022-01-19T18:54:40.767Z"
   },
   {
    "duration": 21,
    "start_time": "2022-01-19T18:54:42.022Z"
   },
   {
    "duration": 11,
    "start_time": "2022-01-19T18:54:42.047Z"
   },
   {
    "duration": 7,
    "start_time": "2022-01-19T18:54:42.061Z"
   },
   {
    "duration": 13,
    "start_time": "2022-01-19T18:54:42.071Z"
   },
   {
    "duration": 50,
    "start_time": "2022-01-19T18:54:42.086Z"
   },
   {
    "duration": 17,
    "start_time": "2022-01-19T18:54:42.139Z"
   },
   {
    "duration": 37,
    "start_time": "2022-01-19T18:54:42.158Z"
   },
   {
    "duration": 37,
    "start_time": "2022-01-19T18:54:42.198Z"
   },
   {
    "duration": 13,
    "start_time": "2022-01-19T18:54:42.238Z"
   },
   {
    "duration": 28,
    "start_time": "2022-01-19T18:54:42.254Z"
   },
   {
    "duration": 5,
    "start_time": "2022-01-19T18:54:42.284Z"
   },
   {
    "duration": 44,
    "start_time": "2022-01-19T18:54:42.291Z"
   },
   {
    "duration": 19,
    "start_time": "2022-01-19T18:54:42.338Z"
   },
   {
    "duration": 24,
    "start_time": "2022-01-19T18:54:42.360Z"
   },
   {
    "duration": 46,
    "start_time": "2022-01-19T18:54:42.386Z"
   },
   {
    "duration": 36,
    "start_time": "2022-01-19T18:54:42.436Z"
   },
   {
    "duration": 11,
    "start_time": "2022-01-19T18:54:42.478Z"
   },
   {
    "duration": 53,
    "start_time": "2022-01-19T18:54:42.492Z"
   },
   {
    "duration": 13,
    "start_time": "2022-01-19T18:54:42.548Z"
   },
   {
    "duration": 10,
    "start_time": "2022-01-19T18:54:42.564Z"
   },
   {
    "duration": 1004,
    "start_time": "2022-01-19T18:54:42.577Z"
   },
   {
    "duration": 4505,
    "start_time": "2022-01-19T18:54:43.584Z"
   },
   {
    "duration": 7,
    "start_time": "2022-01-19T18:54:48.092Z"
   },
   {
    "duration": 6387,
    "start_time": "2022-01-19T18:54:48.102Z"
   },
   {
    "duration": 34,
    "start_time": "2022-01-19T18:55:08.981Z"
   },
   {
    "duration": 10,
    "start_time": "2022-01-19T18:56:56.989Z"
   },
   {
    "duration": 447,
    "start_time": "2022-01-19T18:57:35.537Z"
   },
   {
    "duration": 268,
    "start_time": "2022-01-19T18:58:10.563Z"
   },
   {
    "duration": 4564,
    "start_time": "2022-01-19T18:59:16.710Z"
   },
   {
    "duration": 7,
    "start_time": "2022-01-19T18:59:24.626Z"
   },
   {
    "duration": 32,
    "start_time": "2022-01-19T18:59:33.788Z"
   },
   {
    "duration": 90,
    "start_time": "2022-01-19T19:01:09.439Z"
   },
   {
    "duration": 178,
    "start_time": "2022-01-19T19:01:23.157Z"
   },
   {
    "duration": 102,
    "start_time": "2022-01-19T19:02:02.346Z"
   },
   {
    "duration": 97,
    "start_time": "2022-01-19T19:02:26.545Z"
   },
   {
    "duration": 99,
    "start_time": "2022-01-19T19:02:43.128Z"
   },
   {
    "duration": 89,
    "start_time": "2022-01-19T19:02:52.008Z"
   },
   {
    "duration": 4632,
    "start_time": "2022-01-19T19:03:19.258Z"
   },
   {
    "duration": 10,
    "start_time": "2022-01-19T19:03:27.124Z"
   },
   {
    "duration": 54,
    "start_time": "2022-01-19T19:03:35.236Z"
   },
   {
    "duration": 4598,
    "start_time": "2022-01-19T19:05:53.157Z"
   },
   {
    "duration": 9,
    "start_time": "2022-01-19T19:06:00.671Z"
   },
   {
    "duration": 10,
    "start_time": "2022-01-19T20:14:30.304Z"
   },
   {
    "duration": 11,
    "start_time": "2022-01-19T20:14:40.055Z"
   },
   {
    "duration": 8,
    "start_time": "2022-01-19T20:15:13.613Z"
   },
   {
    "duration": 7,
    "start_time": "2022-01-19T20:15:48.389Z"
   },
   {
    "duration": 9,
    "start_time": "2022-01-19T20:17:44.305Z"
   },
   {
    "duration": 5,
    "start_time": "2022-01-19T20:18:49.705Z"
   },
   {
    "duration": 8,
    "start_time": "2022-01-19T20:19:04.884Z"
   },
   {
    "duration": 14,
    "start_time": "2022-01-19T20:20:17.322Z"
   },
   {
    "duration": 10,
    "start_time": "2022-01-19T20:21:02.225Z"
   },
   {
    "duration": 39,
    "start_time": "2022-01-19T20:28:11.098Z"
   },
   {
    "duration": 338,
    "start_time": "2022-01-19T20:35:09.046Z"
   },
   {
    "duration": 33,
    "start_time": "2022-01-19T20:35:30.185Z"
   },
   {
    "duration": 322,
    "start_time": "2022-01-19T20:35:34.142Z"
   },
   {
    "duration": 32,
    "start_time": "2022-01-19T20:35:38.433Z"
   },
   {
    "duration": 335,
    "start_time": "2022-01-19T20:36:16.709Z"
   },
   {
    "duration": 32,
    "start_time": "2022-01-19T20:36:20.333Z"
   },
   {
    "duration": 320,
    "start_time": "2022-01-19T20:37:28.759Z"
   },
   {
    "duration": 32,
    "start_time": "2022-01-19T20:37:33.419Z"
   },
   {
    "duration": 340,
    "start_time": "2022-01-19T20:38:11.527Z"
   },
   {
    "duration": 14,
    "start_time": "2022-01-19T20:38:14.578Z"
   },
   {
    "duration": 330,
    "start_time": "2022-01-19T20:39:01.236Z"
   },
   {
    "duration": 277,
    "start_time": "2022-01-19T20:40:06.499Z"
   },
   {
    "duration": 322,
    "start_time": "2022-01-19T20:40:41.064Z"
   },
   {
    "duration": 8,
    "start_time": "2022-01-19T20:41:05.210Z"
   },
   {
    "duration": 278,
    "start_time": "2022-01-19T20:46:13.873Z"
   },
   {
    "duration": 6300,
    "start_time": "2022-01-19T20:46:23.327Z"
   },
   {
    "duration": -337,
    "start_time": "2022-01-19T20:46:29.968Z"
   },
   {
    "duration": -344,
    "start_time": "2022-01-19T20:46:29.976Z"
   },
   {
    "duration": 267,
    "start_time": "2022-01-19T20:46:51.805Z"
   },
   {
    "duration": 5,
    "start_time": "2022-01-19T20:47:14.745Z"
   },
   {
    "duration": 7,
    "start_time": "2022-01-19T20:47:16.325Z"
   },
   {
    "duration": 6,
    "start_time": "2022-01-19T20:47:17.916Z"
   },
   {
    "duration": 21,
    "start_time": "2022-01-19T20:48:03.162Z"
   },
   {
    "duration": 13,
    "start_time": "2022-01-19T20:48:25.337Z"
   },
   {
    "duration": 4,
    "start_time": "2022-01-19T20:48:29.694Z"
   },
   {
    "duration": 67,
    "start_time": "2022-01-19T20:48:29.703Z"
   },
   {
    "duration": 18,
    "start_time": "2022-01-19T20:48:29.773Z"
   },
   {
    "duration": 40,
    "start_time": "2022-01-19T20:48:29.794Z"
   },
   {
    "duration": 11,
    "start_time": "2022-01-19T20:48:29.837Z"
   },
   {
    "duration": 20,
    "start_time": "2022-01-19T20:48:29.850Z"
   },
   {
    "duration": 1264,
    "start_time": "2022-01-19T20:48:29.872Z"
   },
   {
    "duration": 20,
    "start_time": "2022-01-19T20:48:31.139Z"
   },
   {
    "duration": 16,
    "start_time": "2022-01-19T20:48:31.164Z"
   },
   {
    "duration": 5,
    "start_time": "2022-01-19T20:48:31.182Z"
   },
   {
    "duration": 44,
    "start_time": "2022-01-19T20:48:31.190Z"
   },
   {
    "duration": 8,
    "start_time": "2022-01-19T20:48:31.236Z"
   },
   {
    "duration": 16,
    "start_time": "2022-01-19T20:48:31.247Z"
   },
   {
    "duration": 37,
    "start_time": "2022-01-19T20:48:31.265Z"
   },
   {
    "duration": 5,
    "start_time": "2022-01-19T20:48:31.305Z"
   },
   {
    "duration": 8,
    "start_time": "2022-01-19T20:48:31.334Z"
   },
   {
    "duration": 27,
    "start_time": "2022-01-19T20:48:31.345Z"
   },
   {
    "duration": 7,
    "start_time": "2022-01-19T20:48:31.374Z"
   },
   {
    "duration": 52,
    "start_time": "2022-01-19T20:48:31.384Z"
   },
   {
    "duration": 14,
    "start_time": "2022-01-19T20:48:31.438Z"
   },
   {
    "duration": 35,
    "start_time": "2022-01-19T20:48:31.455Z"
   },
   {
    "duration": 389,
    "start_time": "2022-01-19T20:48:31.493Z"
   },
   {
    "duration": 10,
    "start_time": "2022-01-19T20:48:31.885Z"
   },
   {
    "duration": 33,
    "start_time": "2022-01-19T20:48:31.902Z"
   },
   {
    "duration": 9,
    "start_time": "2022-01-19T20:48:31.939Z"
   },
   {
    "duration": 7,
    "start_time": "2022-01-19T20:48:31.950Z"
   },
   {
    "duration": 17,
    "start_time": "2022-01-19T20:48:31.959Z"
   },
   {
    "duration": 57,
    "start_time": "2022-01-19T20:48:31.979Z"
   },
   {
    "duration": 10,
    "start_time": "2022-01-19T20:48:32.039Z"
   },
   {
    "duration": 26,
    "start_time": "2022-01-19T20:48:32.052Z"
   },
   {
    "duration": 11,
    "start_time": "2022-01-19T20:48:32.080Z"
   },
   {
    "duration": 18,
    "start_time": "2022-01-19T20:48:32.133Z"
   },
   {
    "duration": 12,
    "start_time": "2022-01-19T20:48:32.154Z"
   },
   {
    "duration": 9,
    "start_time": "2022-01-19T20:48:32.168Z"
   },
   {
    "duration": 964,
    "start_time": "2022-01-19T20:48:32.180Z"
   },
   {
    "duration": 4072,
    "start_time": "2022-01-19T20:48:33.147Z"
   },
   {
    "duration": 7,
    "start_time": "2022-01-19T20:48:37.233Z"
   },
   {
    "duration": 12,
    "start_time": "2022-01-19T20:48:37.242Z"
   },
   {
    "duration": 8,
    "start_time": "2022-01-19T20:48:37.256Z"
   },
   {
    "duration": 9,
    "start_time": "2022-01-19T20:48:37.267Z"
   },
   {
    "duration": 7,
    "start_time": "2022-01-19T21:02:28.198Z"
   },
   {
    "duration": 13,
    "start_time": "2022-01-19T21:02:29.941Z"
   },
   {
    "duration": 8,
    "start_time": "2022-01-19T21:02:54.896Z"
   },
   {
    "duration": 9,
    "start_time": "2022-01-19T21:02:57.081Z"
   },
   {
    "duration": 10,
    "start_time": "2022-01-19T21:06:05.712Z"
   },
   {
    "duration": 11,
    "start_time": "2022-01-19T21:06:18.806Z"
   },
   {
    "duration": 12,
    "start_time": "2022-01-19T21:07:07.996Z"
   },
   {
    "duration": 14,
    "start_time": "2022-01-19T21:07:45.687Z"
   },
   {
    "duration": 628,
    "start_time": "2022-01-20T05:19:49.553Z"
   },
   {
    "duration": 51,
    "start_time": "2022-01-20T05:19:50.182Z"
   },
   {
    "duration": 17,
    "start_time": "2022-01-20T05:19:50.235Z"
   },
   {
    "duration": 14,
    "start_time": "2022-01-20T05:19:50.254Z"
   },
   {
    "duration": 9,
    "start_time": "2022-01-20T05:19:50.270Z"
   },
   {
    "duration": 13,
    "start_time": "2022-01-20T05:19:50.280Z"
   },
   {
    "duration": 628,
    "start_time": "2022-01-20T05:19:50.294Z"
   },
   {
    "duration": 12,
    "start_time": "2022-01-20T05:19:50.924Z"
   },
   {
    "duration": 8,
    "start_time": "2022-01-20T05:19:50.938Z"
   },
   {
    "duration": 3,
    "start_time": "2022-01-20T05:19:50.961Z"
   },
   {
    "duration": 9,
    "start_time": "2022-01-20T05:19:50.966Z"
   },
   {
    "duration": 3,
    "start_time": "2022-01-20T05:19:50.976Z"
   },
   {
    "duration": 10,
    "start_time": "2022-01-20T05:19:50.981Z"
   },
   {
    "duration": 22,
    "start_time": "2022-01-20T05:19:50.993Z"
   },
   {
    "duration": 4,
    "start_time": "2022-01-20T05:19:51.016Z"
   },
   {
    "duration": 41,
    "start_time": "2022-01-20T05:19:51.022Z"
   },
   {
    "duration": 17,
    "start_time": "2022-01-20T05:19:51.065Z"
   },
   {
    "duration": 5,
    "start_time": "2022-01-20T05:19:51.084Z"
   },
   {
    "duration": 6,
    "start_time": "2022-01-20T05:19:51.090Z"
   },
   {
    "duration": 12,
    "start_time": "2022-01-20T05:19:51.097Z"
   },
   {
    "duration": 20,
    "start_time": "2022-01-20T05:19:51.111Z"
   },
   {
    "duration": 219,
    "start_time": "2022-01-20T05:19:51.133Z"
   },
   {
    "duration": 10,
    "start_time": "2022-01-20T05:19:51.355Z"
   },
   {
    "duration": 8,
    "start_time": "2022-01-20T05:19:51.367Z"
   },
   {
    "duration": 5,
    "start_time": "2022-01-20T05:19:51.376Z"
   },
   {
    "duration": 5,
    "start_time": "2022-01-20T05:19:51.382Z"
   },
   {
    "duration": 11,
    "start_time": "2022-01-20T05:19:51.389Z"
   },
   {
    "duration": 14,
    "start_time": "2022-01-20T05:19:51.402Z"
   },
   {
    "duration": 7,
    "start_time": "2022-01-20T05:19:51.417Z"
   },
   {
    "duration": 17,
    "start_time": "2022-01-20T05:19:51.461Z"
   },
   {
    "duration": 9,
    "start_time": "2022-01-20T05:19:51.479Z"
   },
   {
    "duration": 13,
    "start_time": "2022-01-20T05:19:51.490Z"
   },
   {
    "duration": 9,
    "start_time": "2022-01-20T05:19:51.505Z"
   },
   {
    "duration": 7,
    "start_time": "2022-01-20T05:19:51.515Z"
   },
   {
    "duration": 710,
    "start_time": "2022-01-20T05:19:51.523Z"
   },
   {
    "duration": 3036,
    "start_time": "2022-01-20T05:19:52.235Z"
   },
   {
    "duration": 6,
    "start_time": "2022-01-20T05:19:55.272Z"
   },
   {
    "duration": 9,
    "start_time": "2022-01-20T05:19:55.279Z"
   },
   {
    "duration": 6,
    "start_time": "2022-01-20T05:19:55.290Z"
   },
   {
    "duration": 10,
    "start_time": "2022-01-20T05:19:55.298Z"
   },
   {
    "duration": 8,
    "start_time": "2022-01-20T05:19:55.310Z"
   },
   {
    "duration": 23,
    "start_time": "2022-01-20T05:19:55.320Z"
   },
   {
    "duration": 7,
    "start_time": "2022-01-20T05:19:55.360Z"
   },
   {
    "duration": 4,
    "start_time": "2022-01-20T05:19:55.369Z"
   },
   {
    "duration": 15,
    "start_time": "2022-01-20T05:19:55.375Z"
   },
   {
    "duration": 2,
    "start_time": "2022-01-20T05:20:56.789Z"
   },
   {
    "duration": 2,
    "start_time": "2022-01-20T05:20:58.341Z"
   },
   {
    "duration": 3,
    "start_time": "2022-01-20T05:20:59.180Z"
   },
   {
    "duration": 5,
    "start_time": "2022-01-20T05:21:00.422Z"
   },
   {
    "duration": 10,
    "start_time": "2022-01-20T05:21:01.387Z"
   },
   {
    "duration": 330,
    "start_time": "2022-01-20T05:23:42.196Z"
   },
   {
    "duration": 3,
    "start_time": "2022-01-20T05:26:13.235Z"
   },
   {
    "duration": 7,
    "start_time": "2022-01-20T05:26:20.792Z"
   },
   {
    "duration": 9,
    "start_time": "2022-01-20T05:26:54.071Z"
   },
   {
    "duration": 6,
    "start_time": "2022-01-20T05:26:56.134Z"
   },
   {
    "duration": 314,
    "start_time": "2022-01-20T05:27:07.799Z"
   },
   {
    "duration": 6,
    "start_time": "2022-01-20T05:27:09.063Z"
   },
   {
    "duration": 243,
    "start_time": "2022-01-20T05:27:51.814Z"
   },
   {
    "duration": 258,
    "start_time": "2022-01-20T05:28:02.108Z"
   },
   {
    "duration": 6,
    "start_time": "2022-01-20T05:28:18.560Z"
   },
   {
    "duration": 1208,
    "start_time": "2022-01-20T05:37:05.918Z"
   },
   {
    "duration": 2,
    "start_time": "2022-01-20T05:39:14.429Z"
   },
   {
    "duration": 256,
    "start_time": "2022-01-20T05:49:26.288Z"
   },
   {
    "duration": 5,
    "start_time": "2022-01-20T05:58:31.732Z"
   },
   {
    "duration": 253,
    "start_time": "2022-01-20T05:58:35.676Z"
   },
   {
    "duration": 6,
    "start_time": "2022-01-20T05:58:45.585Z"
   },
   {
    "duration": 357,
    "start_time": "2022-01-20T05:59:16.841Z"
   },
   {
    "duration": 13,
    "start_time": "2022-01-20T05:59:22.933Z"
   },
   {
    "duration": 6,
    "start_time": "2022-01-20T06:09:14.506Z"
   },
   {
    "duration": 13,
    "start_time": "2022-01-20T06:09:17.401Z"
   },
   {
    "duration": 346,
    "start_time": "2022-01-20T06:09:26.218Z"
   },
   {
    "duration": 250,
    "start_time": "2022-01-20T06:10:06.007Z"
   },
   {
    "duration": 6,
    "start_time": "2022-01-20T06:11:36.053Z"
   },
   {
    "duration": 247,
    "start_time": "2022-01-20T06:11:37.589Z"
   },
   {
    "duration": 10,
    "start_time": "2022-01-20T06:11:43.577Z"
   },
   {
    "duration": 3,
    "start_time": "2022-01-20T06:12:12.837Z"
   },
   {
    "duration": 58,
    "start_time": "2022-01-20T06:12:12.841Z"
   },
   {
    "duration": 15,
    "start_time": "2022-01-20T06:12:12.902Z"
   },
   {
    "duration": 41,
    "start_time": "2022-01-20T06:12:12.920Z"
   },
   {
    "duration": 14,
    "start_time": "2022-01-20T06:12:12.963Z"
   },
   {
    "duration": 13,
    "start_time": "2022-01-20T06:12:12.979Z"
   },
   {
    "duration": 686,
    "start_time": "2022-01-20T06:12:12.995Z"
   },
   {
    "duration": 12,
    "start_time": "2022-01-20T06:12:13.683Z"
   },
   {
    "duration": 9,
    "start_time": "2022-01-20T06:12:13.696Z"
   },
   {
    "duration": 4,
    "start_time": "2022-01-20T06:12:13.707Z"
   },
   {
    "duration": 9,
    "start_time": "2022-01-20T06:12:13.712Z"
   },
   {
    "duration": 4,
    "start_time": "2022-01-20T06:12:13.722Z"
   },
   {
    "duration": 39,
    "start_time": "2022-01-20T06:12:13.727Z"
   },
   {
    "duration": 21,
    "start_time": "2022-01-20T06:12:13.768Z"
   },
   {
    "duration": 4,
    "start_time": "2022-01-20T06:12:13.790Z"
   },
   {
    "duration": 9,
    "start_time": "2022-01-20T06:12:13.796Z"
   },
   {
    "duration": 17,
    "start_time": "2022-01-20T06:12:13.806Z"
   },
   {
    "duration": 38,
    "start_time": "2022-01-20T06:12:13.825Z"
   },
   {
    "duration": 3,
    "start_time": "2022-01-20T06:12:13.867Z"
   },
   {
    "duration": 7,
    "start_time": "2022-01-20T06:12:13.872Z"
   },
   {
    "duration": 22,
    "start_time": "2022-01-20T06:12:13.881Z"
   },
   {
    "duration": 226,
    "start_time": "2022-01-20T06:12:13.905Z"
   },
   {
    "duration": 5,
    "start_time": "2022-01-20T06:12:14.132Z"
   },
   {
    "duration": 22,
    "start_time": "2022-01-20T06:12:14.139Z"
   },
   {
    "duration": 3,
    "start_time": "2022-01-20T06:12:14.163Z"
   },
   {
    "duration": 4,
    "start_time": "2022-01-20T06:12:14.168Z"
   },
   {
    "duration": 12,
    "start_time": "2022-01-20T06:12:14.173Z"
   },
   {
    "duration": 14,
    "start_time": "2022-01-20T06:12:14.187Z"
   },
   {
    "duration": 7,
    "start_time": "2022-01-20T06:12:14.203Z"
   },
   {
    "duration": 29,
    "start_time": "2022-01-20T06:12:14.212Z"
   },
   {
    "duration": 24,
    "start_time": "2022-01-20T06:12:14.242Z"
   },
   {
    "duration": 14,
    "start_time": "2022-01-20T06:12:14.268Z"
   },
   {
    "duration": 10,
    "start_time": "2022-01-20T06:12:14.284Z"
   },
   {
    "duration": 7,
    "start_time": "2022-01-20T06:12:14.295Z"
   },
   {
    "duration": 691,
    "start_time": "2022-01-20T06:12:14.304Z"
   },
   {
    "duration": 2848,
    "start_time": "2022-01-20T06:12:14.997Z"
   },
   {
    "duration": 16,
    "start_time": "2022-01-20T06:12:17.846Z"
   },
   {
    "duration": 5,
    "start_time": "2022-01-20T06:12:17.863Z"
   },
   {
    "duration": 6,
    "start_time": "2022-01-20T06:12:17.870Z"
   },
   {
    "duration": 4,
    "start_time": "2022-01-20T06:12:17.878Z"
   },
   {
    "duration": 12,
    "start_time": "2022-01-20T06:12:17.883Z"
   },
   {
    "duration": 12,
    "start_time": "2022-01-20T06:12:17.897Z"
   },
   {
    "duration": 3,
    "start_time": "2022-01-20T06:12:17.911Z"
   },
   {
    "duration": 8,
    "start_time": "2022-01-20T06:12:17.915Z"
   },
   {
    "duration": 43,
    "start_time": "2022-01-20T06:12:17.925Z"
   },
   {
    "duration": 8,
    "start_time": "2022-01-20T06:12:17.970Z"
   },
   {
    "duration": 12,
    "start_time": "2022-01-20T06:12:17.980Z"
   },
   {
    "duration": 403,
    "start_time": "2022-01-20T17:53:28.402Z"
   },
   {
    "duration": 762,
    "start_time": "2022-01-20T17:53:44.508Z"
   },
   {
    "duration": 58,
    "start_time": "2022-01-20T17:53:45.272Z"
   },
   {
    "duration": 27,
    "start_time": "2022-01-20T17:53:45.333Z"
   },
   {
    "duration": 18,
    "start_time": "2022-01-20T17:53:45.364Z"
   },
   {
    "duration": 42,
    "start_time": "2022-01-20T17:53:45.384Z"
   },
   {
    "duration": 27,
    "start_time": "2022-01-20T17:53:45.429Z"
   },
   {
    "duration": 1969,
    "start_time": "2022-01-20T17:53:45.460Z"
   },
   {
    "duration": 26,
    "start_time": "2022-01-20T17:53:47.435Z"
   },
   {
    "duration": 11,
    "start_time": "2022-01-20T17:53:47.465Z"
   },
   {
    "duration": 4,
    "start_time": "2022-01-20T17:53:47.479Z"
   },
   {
    "duration": 40,
    "start_time": "2022-01-20T17:53:47.485Z"
   },
   {
    "duration": 4,
    "start_time": "2022-01-20T17:53:47.527Z"
   },
   {
    "duration": 16,
    "start_time": "2022-01-20T17:53:47.534Z"
   },
   {
    "duration": 75,
    "start_time": "2022-01-20T17:53:47.553Z"
   },
   {
    "duration": 7,
    "start_time": "2022-01-20T17:53:47.631Z"
   },
   {
    "duration": 10,
    "start_time": "2022-01-20T17:53:47.641Z"
   },
   {
    "duration": 28,
    "start_time": "2022-01-20T17:53:47.654Z"
   },
   {
    "duration": 45,
    "start_time": "2022-01-20T17:53:47.685Z"
   },
   {
    "duration": 9,
    "start_time": "2022-01-20T17:53:47.732Z"
   },
   {
    "duration": 10,
    "start_time": "2022-01-20T17:53:47.743Z"
   },
   {
    "duration": 67,
    "start_time": "2022-01-20T17:53:47.756Z"
   },
   {
    "duration": 374,
    "start_time": "2022-01-20T17:53:47.825Z"
   },
   {
    "duration": 21,
    "start_time": "2022-01-20T17:53:48.204Z"
   },
   {
    "duration": 16,
    "start_time": "2022-01-20T17:53:48.228Z"
   },
   {
    "duration": 5,
    "start_time": "2022-01-20T17:53:48.247Z"
   },
   {
    "duration": 5,
    "start_time": "2022-01-20T17:53:48.254Z"
   },
   {
    "duration": 18,
    "start_time": "2022-01-20T17:53:48.261Z"
   },
   {
    "duration": 20,
    "start_time": "2022-01-20T17:53:48.323Z"
   },
   {
    "duration": 11,
    "start_time": "2022-01-20T17:53:48.345Z"
   },
   {
    "duration": 22,
    "start_time": "2022-01-20T17:53:48.359Z"
   },
   {
    "duration": 42,
    "start_time": "2022-01-20T17:53:48.384Z"
   },
   {
    "duration": 18,
    "start_time": "2022-01-20T17:53:48.429Z"
   },
   {
    "duration": 10,
    "start_time": "2022-01-20T17:53:48.449Z"
   },
   {
    "duration": 10,
    "start_time": "2022-01-20T17:53:48.461Z"
   },
   {
    "duration": 914,
    "start_time": "2022-01-20T17:53:48.473Z"
   },
   {
    "duration": 4410,
    "start_time": "2022-01-20T17:53:49.391Z"
   },
   {
    "duration": 21,
    "start_time": "2022-01-20T17:53:53.803Z"
   },
   {
    "duration": 3,
    "start_time": "2022-01-20T17:53:53.826Z"
   },
   {
    "duration": 5,
    "start_time": "2022-01-20T17:53:53.831Z"
   },
   {
    "duration": 4,
    "start_time": "2022-01-20T17:53:53.838Z"
   },
   {
    "duration": 14,
    "start_time": "2022-01-20T17:53:53.845Z"
   },
   {
    "duration": 16,
    "start_time": "2022-01-20T17:53:53.861Z"
   },
   {
    "duration": 4,
    "start_time": "2022-01-20T17:53:53.923Z"
   },
   {
    "duration": 12,
    "start_time": "2022-01-20T17:53:53.929Z"
   },
   {
    "duration": 22,
    "start_time": "2022-01-20T17:53:53.944Z"
   },
   {
    "duration": 9,
    "start_time": "2022-01-20T17:53:53.968Z"
   },
   {
    "duration": 54,
    "start_time": "2022-01-20T17:53:53.979Z"
   },
   {
    "duration": 352,
    "start_time": "2022-01-20T17:53:54.036Z"
   },
   {
    "duration": 292,
    "start_time": "2022-01-20T17:54:10.085Z"
   },
   {
    "duration": 109,
    "start_time": "2022-01-20T17:54:24.023Z"
   },
   {
    "duration": 345,
    "start_time": "2022-01-20T17:54:42.362Z"
   },
   {
    "duration": 11,
    "start_time": "2022-01-20T18:00:32.808Z"
   },
   {
    "duration": 11,
    "start_time": "2022-01-20T18:08:03.097Z"
   },
   {
    "duration": 11,
    "start_time": "2022-01-20T18:08:52.540Z"
   },
   {
    "duration": 288,
    "start_time": "2022-01-20T18:25:03.539Z"
   },
   {
    "duration": 334,
    "start_time": "2022-01-20T18:25:11.985Z"
   },
   {
    "duration": 320,
    "start_time": "2022-01-20T18:25:29.820Z"
   },
   {
    "duration": 13,
    "start_time": "2022-01-20T18:26:03.726Z"
   },
   {
    "duration": 14,
    "start_time": "2022-01-20T18:26:29.686Z"
   },
   {
    "duration": 9,
    "start_time": "2022-01-20T18:28:53.343Z"
   },
   {
    "duration": 11,
    "start_time": "2022-01-20T18:28:54.652Z"
   },
   {
    "duration": 330,
    "start_time": "2022-01-20T18:29:50.302Z"
   },
   {
    "duration": 287,
    "start_time": "2022-01-20T18:30:36.010Z"
   },
   {
    "duration": 10,
    "start_time": "2022-01-20T18:31:11.395Z"
   },
   {
    "duration": 12,
    "start_time": "2022-01-20T18:31:15.233Z"
   },
   {
    "duration": 95,
    "start_time": "2022-01-20T18:31:59.422Z"
   },
   {
    "duration": 7,
    "start_time": "2022-01-20T18:32:06.515Z"
   },
   {
    "duration": 10,
    "start_time": "2022-01-20T18:32:09.333Z"
   },
   {
    "duration": 4,
    "start_time": "2022-01-20T18:34:06.195Z"
   },
   {
    "duration": 67,
    "start_time": "2022-01-20T18:34:06.204Z"
   },
   {
    "duration": 19,
    "start_time": "2022-01-20T18:34:06.273Z"
   },
   {
    "duration": 34,
    "start_time": "2022-01-20T18:34:06.295Z"
   },
   {
    "duration": 12,
    "start_time": "2022-01-20T18:34:06.332Z"
   },
   {
    "duration": 19,
    "start_time": "2022-01-20T18:34:06.347Z"
   },
   {
    "duration": 1347,
    "start_time": "2022-01-20T18:34:06.369Z"
   },
   {
    "duration": 19,
    "start_time": "2022-01-20T18:34:07.718Z"
   },
   {
    "duration": 13,
    "start_time": "2022-01-20T18:34:07.741Z"
   },
   {
    "duration": 4,
    "start_time": "2022-01-20T18:34:07.757Z"
   },
   {
    "duration": 13,
    "start_time": "2022-01-20T18:34:07.763Z"
   },
   {
    "duration": 45,
    "start_time": "2022-01-20T18:34:07.778Z"
   },
   {
    "duration": 13,
    "start_time": "2022-01-20T18:34:07.825Z"
   },
   {
    "duration": 36,
    "start_time": "2022-01-20T18:34:07.841Z"
   },
   {
    "duration": 48,
    "start_time": "2022-01-20T18:34:07.879Z"
   },
   {
    "duration": 11,
    "start_time": "2022-01-20T18:34:07.930Z"
   },
   {
    "duration": 26,
    "start_time": "2022-01-20T18:34:07.944Z"
   },
   {
    "duration": 7,
    "start_time": "2022-01-20T18:34:07.973Z"
   },
   {
    "duration": 43,
    "start_time": "2022-01-20T18:34:07.982Z"
   },
   {
    "duration": 10,
    "start_time": "2022-01-20T18:34:08.027Z"
   },
   {
    "duration": 34,
    "start_time": "2022-01-20T18:34:08.039Z"
   },
   {
    "duration": 376,
    "start_time": "2022-01-20T18:34:08.076Z"
   },
   {
    "duration": 10,
    "start_time": "2022-01-20T18:34:08.454Z"
   },
   {
    "duration": 13,
    "start_time": "2022-01-20T18:34:08.471Z"
   },
   {
    "duration": 37,
    "start_time": "2022-01-20T18:34:08.488Z"
   },
   {
    "duration": 6,
    "start_time": "2022-01-20T18:34:08.528Z"
   },
   {
    "duration": 17,
    "start_time": "2022-01-20T18:34:08.537Z"
   },
   {
    "duration": 22,
    "start_time": "2022-01-20T18:34:08.556Z"
   },
   {
    "duration": 47,
    "start_time": "2022-01-20T18:34:08.581Z"
   },
   {
    "duration": 24,
    "start_time": "2022-01-20T18:34:08.631Z"
   },
   {
    "duration": 8,
    "start_time": "2022-01-20T18:34:08.658Z"
   },
   {
    "duration": 54,
    "start_time": "2022-01-20T18:34:08.669Z"
   },
   {
    "duration": 9,
    "start_time": "2022-01-20T18:34:08.726Z"
   },
   {
    "duration": 11,
    "start_time": "2022-01-20T18:34:08.737Z"
   },
   {
    "duration": 928,
    "start_time": "2022-01-20T18:34:08.750Z"
   },
   {
    "duration": 4193,
    "start_time": "2022-01-20T18:34:09.681Z"
   },
   {
    "duration": 7,
    "start_time": "2022-01-20T18:34:13.876Z"
   },
   {
    "duration": 4,
    "start_time": "2022-01-20T18:34:13.885Z"
   },
   {
    "duration": 5,
    "start_time": "2022-01-20T18:34:13.891Z"
   },
   {
    "duration": 2,
    "start_time": "2022-01-20T18:34:13.924Z"
   },
   {
    "duration": 17,
    "start_time": "2022-01-20T18:34:13.929Z"
   },
   {
    "duration": 15,
    "start_time": "2022-01-20T18:34:13.948Z"
   },
   {
    "duration": 4,
    "start_time": "2022-01-20T18:34:13.966Z"
   },
   {
    "duration": 10,
    "start_time": "2022-01-20T18:34:13.973Z"
   },
   {
    "duration": 61,
    "start_time": "2022-01-20T18:34:13.985Z"
   },
   {
    "duration": 10,
    "start_time": "2022-01-20T18:34:14.049Z"
   },
   {
    "duration": 17,
    "start_time": "2022-01-20T18:34:14.061Z"
   },
   {
    "duration": 3,
    "start_time": "2022-01-20T18:34:14.081Z"
   },
   {
    "duration": 38,
    "start_time": "2022-01-20T18:34:14.087Z"
   },
   {
    "duration": 5,
    "start_time": "2022-01-20T18:34:14.128Z"
   },
   {
    "duration": 6,
    "start_time": "2022-01-20T18:34:14.136Z"
   },
   {
    "duration": 17,
    "start_time": "2022-01-20T18:34:14.145Z"
   },
   {
    "duration": 10,
    "start_time": "2022-01-20T18:34:14.164Z"
   },
   {
    "duration": 54,
    "start_time": "2022-01-20T18:34:14.176Z"
   },
   {
    "duration": 8,
    "start_time": "2022-01-20T18:34:19.389Z"
   },
   {
    "duration": 11,
    "start_time": "2022-01-20T18:34:22.541Z"
   },
   {
    "duration": 11,
    "start_time": "2022-01-20T18:34:48.741Z"
   },
   {
    "duration": 15,
    "start_time": "2022-01-20T18:34:50.456Z"
   },
   {
    "duration": 12,
    "start_time": "2022-01-20T18:36:19.377Z"
   },
   {
    "duration": 8,
    "start_time": "2022-01-20T18:36:20.525Z"
   },
   {
    "duration": 11,
    "start_time": "2022-01-20T18:36:21.618Z"
   },
   {
    "duration": 10,
    "start_time": "2022-01-20T18:38:03.590Z"
   },
   {
    "duration": 467,
    "start_time": "2022-01-20T18:38:04.729Z"
   },
   {
    "duration": 12,
    "start_time": "2022-01-20T18:39:31.558Z"
   },
   {
    "duration": 8,
    "start_time": "2022-01-20T18:39:32.589Z"
   },
   {
    "duration": 11,
    "start_time": "2022-01-20T18:39:33.588Z"
   },
   {
    "duration": 271,
    "start_time": "2022-01-20T18:41:35.160Z"
   },
   {
    "duration": 10,
    "start_time": "2022-01-20T18:41:48.123Z"
   },
   {
    "duration": 7,
    "start_time": "2022-01-20T18:41:52.823Z"
   },
   {
    "duration": 11,
    "start_time": "2022-01-20T18:41:54.529Z"
   },
   {
    "duration": 8,
    "start_time": "2022-01-20T18:42:19.336Z"
   },
   {
    "duration": 6843,
    "start_time": "2022-01-20T18:44:28.461Z"
   },
   {
    "duration": 9576,
    "start_time": "2022-01-20T18:45:41.796Z"
   },
   {
    "duration": 7584,
    "start_time": "2022-01-20T18:50:37.409Z"
   },
   {
    "duration": -956,
    "start_time": "2022-01-20T18:50:45.952Z"
   },
   {
    "duration": 9361,
    "start_time": "2022-01-20T18:51:15.948Z"
   },
   {
    "duration": -938,
    "start_time": "2022-01-20T18:51:26.249Z"
   },
   {
    "duration": 9723,
    "start_time": "2022-01-20T18:53:03.063Z"
   },
   {
    "duration": 11,
    "start_time": "2022-01-20T18:54:38.259Z"
   },
   {
    "duration": 3,
    "start_time": "2022-01-20T18:55:13.077Z"
   },
   {
    "duration": 7942,
    "start_time": "2022-01-20T18:55:18.620Z"
   },
   {
    "duration": 344,
    "start_time": "2022-01-20T19:06:17.519Z"
   },
   {
    "duration": 16,
    "start_time": "2022-01-20T19:06:47.648Z"
   },
   {
    "duration": 16,
    "start_time": "2022-01-20T19:07:05.582Z"
   },
   {
    "duration": 16,
    "start_time": "2022-01-20T19:07:19.905Z"
   },
   {
    "duration": 3,
    "start_time": "2022-01-20T19:07:25.048Z"
   },
   {
    "duration": 11,
    "start_time": "2022-01-20T19:07:27.005Z"
   },
   {
    "duration": 7,
    "start_time": "2022-01-20T19:08:56.567Z"
   },
   {
    "duration": 7648,
    "start_time": "2022-01-20T19:09:09.030Z"
   },
   {
    "duration": 7853,
    "start_time": "2022-01-20T19:09:26.501Z"
   },
   {
    "duration": 95,
    "start_time": "2022-01-20T19:15:52.797Z"
   },
   {
    "duration": 116,
    "start_time": "2022-01-20T19:16:03.347Z"
   },
   {
    "duration": 110,
    "start_time": "2022-01-20T19:16:10.406Z"
   },
   {
    "duration": 15,
    "start_time": "2022-01-20T19:16:40.423Z"
   },
   {
    "duration": 12,
    "start_time": "2022-01-20T19:16:45.404Z"
   },
   {
    "duration": 321,
    "start_time": "2022-01-20T19:21:20.557Z"
   },
   {
    "duration": 303,
    "start_time": "2022-01-20T19:21:41.330Z"
   },
   {
    "duration": 8,
    "start_time": "2022-01-20T19:22:17.127Z"
   },
   {
    "duration": 340,
    "start_time": "2022-01-20T19:22:33.715Z"
   },
   {
    "duration": 94,
    "start_time": "2022-01-20T19:24:45.379Z"
   },
   {
    "duration": 98,
    "start_time": "2022-01-20T19:24:49.920Z"
   },
   {
    "duration": 103,
    "start_time": "2022-01-20T19:25:09.656Z"
   },
   {
    "duration": 409,
    "start_time": "2022-01-20T19:25:23.703Z"
   },
   {
    "duration": 98,
    "start_time": "2022-01-20T19:27:13.207Z"
   },
   {
    "duration": 393,
    "start_time": "2022-01-20T19:27:20.756Z"
   },
   {
    "duration": 306,
    "start_time": "2022-01-20T19:27:26.776Z"
   },
   {
    "duration": 9,
    "start_time": "2022-01-20T19:43:22.316Z"
   },
   {
    "duration": 12,
    "start_time": "2022-01-20T19:43:29.290Z"
   },
   {
    "duration": 8,
    "start_time": "2022-01-20T19:43:57.340Z"
   },
   {
    "duration": 9,
    "start_time": "2022-01-20T19:44:50.064Z"
   },
   {
    "duration": 12,
    "start_time": "2022-01-20T19:44:51.318Z"
   },
   {
    "duration": 10,
    "start_time": "2022-01-20T19:47:46.249Z"
   },
   {
    "duration": 12,
    "start_time": "2022-01-20T19:49:19.201Z"
   },
   {
    "duration": 295,
    "start_time": "2022-01-20T19:49:20.367Z"
   },
   {
    "duration": 11,
    "start_time": "2022-01-20T19:49:36.306Z"
   },
   {
    "duration": 13,
    "start_time": "2022-01-20T19:50:04.359Z"
   },
   {
    "duration": 7,
    "start_time": "2022-01-20T19:55:44.925Z"
   },
   {
    "duration": 8,
    "start_time": "2022-01-20T19:56:19.414Z"
   },
   {
    "duration": 11,
    "start_time": "2022-01-20T19:57:58.750Z"
   },
   {
    "duration": 5,
    "start_time": "2022-01-20T20:06:14.309Z"
   },
   {
    "duration": 123,
    "start_time": "2022-01-20T20:09:51.585Z"
   },
   {
    "duration": 27,
    "start_time": "2022-01-20T20:09:57.382Z"
   },
   {
    "duration": 22,
    "start_time": "2022-01-20T20:13:24.079Z"
   },
   {
    "duration": 14,
    "start_time": "2022-01-20T20:16:42.668Z"
   },
   {
    "duration": 13,
    "start_time": "2022-01-20T20:16:43.729Z"
   },
   {
    "duration": 14,
    "start_time": "2022-01-20T20:16:45.014Z"
   },
   {
    "duration": 16,
    "start_time": "2022-01-20T20:19:25.280Z"
   },
   {
    "duration": 5,
    "start_time": "2022-01-20T20:25:22.176Z"
   },
   {
    "duration": 17,
    "start_time": "2022-01-20T20:25:23.740Z"
   },
   {
    "duration": 5,
    "start_time": "2022-01-20T20:25:25.470Z"
   },
   {
    "duration": 6,
    "start_time": "2022-01-20T20:29:12.339Z"
   },
   {
    "duration": 20,
    "start_time": "2022-01-20T20:29:21.526Z"
   },
   {
    "duration": 7,
    "start_time": "2022-01-20T20:29:48.878Z"
   },
   {
    "duration": 28,
    "start_time": "2022-01-20T20:29:53.717Z"
   },
   {
    "duration": 8,
    "start_time": "2022-01-20T20:30:39.710Z"
   },
   {
    "duration": 30,
    "start_time": "2022-01-20T20:30:41.080Z"
   },
   {
    "duration": 8,
    "start_time": "2022-01-20T20:31:09.488Z"
   },
   {
    "duration": 6,
    "start_time": "2022-01-20T20:33:13.111Z"
   },
   {
    "duration": 9,
    "start_time": "2022-01-20T20:33:14.027Z"
   },
   {
    "duration": 13,
    "start_time": "2022-01-20T20:33:14.802Z"
   },
   {
    "duration": 296,
    "start_time": "2022-01-20T20:36:51.043Z"
   },
   {
    "duration": 398,
    "start_time": "2022-01-20T20:36:59.514Z"
   },
   {
    "duration": 11,
    "start_time": "2022-01-20T20:37:46.291Z"
   },
   {
    "duration": 651,
    "start_time": "2022-01-20T20:38:34.610Z"
   },
   {
    "duration": 10,
    "start_time": "2022-01-20T20:40:03.092Z"
   },
   {
    "duration": 427,
    "start_time": "2022-01-20T20:40:29.802Z"
   },
   {
    "duration": 6,
    "start_time": "2022-01-20T20:41:58.963Z"
   },
   {
    "duration": 1620,
    "start_time": "2022-01-20T20:42:02.075Z"
   },
   {
    "duration": 5,
    "start_time": "2022-01-20T20:42:48.682Z"
   },
   {
    "duration": 16,
    "start_time": "2022-01-20T20:42:53.281Z"
   },
   {
    "duration": 6,
    "start_time": "2022-01-20T20:43:04.105Z"
   },
   {
    "duration": 9,
    "start_time": "2022-01-20T20:43:20.322Z"
   },
   {
    "duration": 6,
    "start_time": "2022-01-20T20:43:21.264Z"
   },
   {
    "duration": 12,
    "start_time": "2022-01-20T20:43:22.556Z"
   },
   {
    "duration": 4,
    "start_time": "2022-01-20T20:47:13.524Z"
   },
   {
    "duration": 7,
    "start_time": "2022-01-20T20:47:15.461Z"
   },
   {
    "duration": 12,
    "start_time": "2022-01-20T20:47:16.529Z"
   },
   {
    "duration": 16,
    "start_time": "2022-01-20T20:47:18.136Z"
   },
   {
    "duration": 10,
    "start_time": "2022-01-20T20:48:19.317Z"
   },
   {
    "duration": 4,
    "start_time": "2022-01-20T20:48:43.077Z"
   },
   {
    "duration": 61,
    "start_time": "2022-01-20T20:48:43.087Z"
   },
   {
    "duration": 25,
    "start_time": "2022-01-20T20:48:43.151Z"
   },
   {
    "duration": 45,
    "start_time": "2022-01-20T20:48:43.180Z"
   },
   {
    "duration": 23,
    "start_time": "2022-01-20T20:48:43.229Z"
   },
   {
    "duration": 21,
    "start_time": "2022-01-20T20:48:43.255Z"
   },
   {
    "duration": 1249,
    "start_time": "2022-01-20T20:48:43.279Z"
   },
   {
    "duration": 24,
    "start_time": "2022-01-20T20:48:44.531Z"
   },
   {
    "duration": 12,
    "start_time": "2022-01-20T20:48:44.560Z"
   },
   {
    "duration": 4,
    "start_time": "2022-01-20T20:48:44.575Z"
   },
   {
    "duration": 43,
    "start_time": "2022-01-20T20:48:44.581Z"
   },
   {
    "duration": 4,
    "start_time": "2022-01-20T20:48:44.626Z"
   },
   {
    "duration": 12,
    "start_time": "2022-01-20T20:48:44.632Z"
   },
   {
    "duration": 33,
    "start_time": "2022-01-20T20:48:44.646Z"
   },
   {
    "duration": 5,
    "start_time": "2022-01-20T20:48:44.681Z"
   },
   {
    "duration": 7,
    "start_time": "2022-01-20T20:48:44.723Z"
   },
   {
    "duration": 24,
    "start_time": "2022-01-20T20:48:44.732Z"
   },
   {
    "duration": 7,
    "start_time": "2022-01-20T20:48:44.758Z"
   },
   {
    "duration": 4,
    "start_time": "2022-01-20T20:48:44.767Z"
   },
   {
    "duration": 51,
    "start_time": "2022-01-20T20:48:44.773Z"
   },
   {
    "duration": 31,
    "start_time": "2022-01-20T20:48:44.826Z"
   },
   {
    "duration": 344,
    "start_time": "2022-01-20T20:48:44.859Z"
   },
   {
    "duration": 7,
    "start_time": "2022-01-20T20:48:45.206Z"
   },
   {
    "duration": 11,
    "start_time": "2022-01-20T20:48:45.228Z"
   },
   {
    "duration": 5,
    "start_time": "2022-01-20T20:48:45.242Z"
   },
   {
    "duration": 5,
    "start_time": "2022-01-20T20:48:45.249Z"
   },
   {
    "duration": 18,
    "start_time": "2022-01-20T20:48:45.256Z"
   },
   {
    "duration": 60,
    "start_time": "2022-01-20T20:48:45.276Z"
   },
   {
    "duration": 9,
    "start_time": "2022-01-20T20:48:45.339Z"
   },
   {
    "duration": 22,
    "start_time": "2022-01-20T20:48:45.351Z"
   },
   {
    "duration": 8,
    "start_time": "2022-01-20T20:48:45.375Z"
   },
   {
    "duration": 48,
    "start_time": "2022-01-20T20:48:45.386Z"
   },
   {
    "duration": 10,
    "start_time": "2022-01-20T20:48:45.436Z"
   },
   {
    "duration": 9,
    "start_time": "2022-01-20T20:48:45.448Z"
   },
   {
    "duration": 906,
    "start_time": "2022-01-20T20:48:45.460Z"
   },
   {
    "duration": 3978,
    "start_time": "2022-01-20T20:48:46.368Z"
   },
   {
    "duration": 9,
    "start_time": "2022-01-20T20:48:50.350Z"
   },
   {
    "duration": 4,
    "start_time": "2022-01-20T20:48:50.361Z"
   },
   {
    "duration": 4,
    "start_time": "2022-01-20T20:48:50.368Z"
   },
   {
    "duration": 4,
    "start_time": "2022-01-20T20:48:50.374Z"
   },
   {
    "duration": 49,
    "start_time": "2022-01-20T20:48:50.381Z"
   },
   {
    "duration": 21,
    "start_time": "2022-01-20T20:48:50.433Z"
   },
   {
    "duration": 4,
    "start_time": "2022-01-20T20:48:50.457Z"
   },
   {
    "duration": 8,
    "start_time": "2022-01-20T20:48:50.464Z"
   },
   {
    "duration": 108,
    "start_time": "2022-01-20T20:48:50.474Z"
   },
   {
    "duration": 90,
    "start_time": "2022-01-20T20:48:50.600Z"
   },
   {
    "duration": 55,
    "start_time": "2022-01-20T20:48:50.693Z"
   },
   {
    "duration": 7,
    "start_time": "2022-01-20T20:48:50.751Z"
   },
   {
    "duration": 21,
    "start_time": "2022-01-20T20:48:50.760Z"
   },
   {
    "duration": 13,
    "start_time": "2022-01-20T20:48:50.784Z"
   },
   {
    "duration": 22,
    "start_time": "2022-01-20T20:48:50.801Z"
   },
   {
    "duration": 12,
    "start_time": "2022-01-20T20:48:50.825Z"
   },
   {
    "duration": 13,
    "start_time": "2022-01-20T20:48:50.840Z"
   },
   {
    "duration": 10,
    "start_time": "2022-01-20T20:48:50.856Z"
   },
   {
    "duration": 57,
    "start_time": "2022-01-20T20:48:50.868Z"
   },
   {
    "duration": 10,
    "start_time": "2022-01-20T20:48:50.927Z"
   },
   {
    "duration": 9,
    "start_time": "2022-01-20T20:48:50.939Z"
   },
   {
    "duration": 10,
    "start_time": "2022-01-20T20:48:50.950Z"
   },
   {
    "duration": 12,
    "start_time": "2022-01-20T20:48:50.962Z"
   },
   {
    "duration": 9,
    "start_time": "2022-01-20T20:48:50.976Z"
   },
   {
    "duration": 12,
    "start_time": "2022-01-20T20:48:51.024Z"
   },
   {
    "duration": 16,
    "start_time": "2022-01-20T20:48:51.038Z"
   },
   {
    "duration": 12,
    "start_time": "2022-01-20T20:48:51.056Z"
   },
   {
    "duration": 9,
    "start_time": "2022-01-20T20:48:51.070Z"
   },
   {
    "duration": 12,
    "start_time": "2022-01-20T20:48:51.123Z"
   },
   {
    "duration": 11,
    "start_time": "2022-01-20T20:48:51.137Z"
   },
   {
    "duration": 13,
    "start_time": "2022-01-20T20:48:51.150Z"
   },
   {
    "duration": 7,
    "start_time": "2022-01-20T20:48:51.165Z"
   },
   {
    "duration": 50,
    "start_time": "2022-01-20T20:48:51.179Z"
   },
   {
    "duration": 12,
    "start_time": "2022-01-20T20:48:51.231Z"
   },
   {
    "duration": 7,
    "start_time": "2022-01-20T20:49:10.943Z"
   },
   {
    "duration": 11,
    "start_time": "2022-01-20T20:51:27.410Z"
   },
   {
    "duration": 9,
    "start_time": "2022-01-20T20:55:01.192Z"
   },
   {
    "duration": 8,
    "start_time": "2022-01-20T20:55:02.036Z"
   },
   {
    "duration": 11,
    "start_time": "2022-01-20T20:55:04.040Z"
   },
   {
    "duration": 3,
    "start_time": "2022-01-20T20:55:57.412Z"
   },
   {
    "duration": 30,
    "start_time": "2022-01-20T20:55:59.973Z"
   },
   {
    "duration": 9,
    "start_time": "2022-01-20T20:57:04.267Z"
   },
   {
    "duration": 11,
    "start_time": "2022-01-20T20:57:29.013Z"
   },
   {
    "duration": 18,
    "start_time": "2022-01-20T20:57:30.541Z"
   },
   {
    "duration": 624,
    "start_time": "2022-01-21T06:18:36.277Z"
   },
   {
    "duration": 50,
    "start_time": "2022-01-21T06:18:36.903Z"
   },
   {
    "duration": 19,
    "start_time": "2022-01-21T06:18:36.955Z"
   },
   {
    "duration": 21,
    "start_time": "2022-01-21T06:18:36.976Z"
   },
   {
    "duration": 25,
    "start_time": "2022-01-21T06:18:36.998Z"
   },
   {
    "duration": 33,
    "start_time": "2022-01-21T06:18:37.024Z"
   },
   {
    "duration": 662,
    "start_time": "2022-01-21T06:18:37.058Z"
   },
   {
    "duration": 13,
    "start_time": "2022-01-21T06:18:37.722Z"
   },
   {
    "duration": 14,
    "start_time": "2022-01-21T06:18:37.737Z"
   },
   {
    "duration": 19,
    "start_time": "2022-01-21T06:18:37.753Z"
   },
   {
    "duration": 14,
    "start_time": "2022-01-21T06:18:37.774Z"
   },
   {
    "duration": 20,
    "start_time": "2022-01-21T06:18:37.789Z"
   },
   {
    "duration": 24,
    "start_time": "2022-01-21T06:18:37.811Z"
   },
   {
    "duration": 43,
    "start_time": "2022-01-21T06:18:37.836Z"
   },
   {
    "duration": 3,
    "start_time": "2022-01-21T06:18:37.881Z"
   },
   {
    "duration": 33,
    "start_time": "2022-01-21T06:18:37.886Z"
   },
   {
    "duration": 23,
    "start_time": "2022-01-21T06:18:37.921Z"
   },
   {
    "duration": 8,
    "start_time": "2022-01-21T06:18:37.946Z"
   },
   {
    "duration": 12,
    "start_time": "2022-01-21T06:18:37.956Z"
   },
   {
    "duration": 26,
    "start_time": "2022-01-21T06:18:37.969Z"
   },
   {
    "duration": 41,
    "start_time": "2022-01-21T06:18:37.996Z"
   },
   {
    "duration": 220,
    "start_time": "2022-01-21T06:18:38.039Z"
   },
   {
    "duration": 6,
    "start_time": "2022-01-21T06:18:38.260Z"
   },
   {
    "duration": 35,
    "start_time": "2022-01-21T06:18:38.267Z"
   },
   {
    "duration": 10,
    "start_time": "2022-01-21T06:18:38.304Z"
   },
   {
    "duration": 20,
    "start_time": "2022-01-21T06:18:38.316Z"
   },
   {
    "duration": 22,
    "start_time": "2022-01-21T06:18:38.340Z"
   },
   {
    "duration": 27,
    "start_time": "2022-01-21T06:18:38.365Z"
   },
   {
    "duration": 8,
    "start_time": "2022-01-21T06:18:38.394Z"
   },
   {
    "duration": 27,
    "start_time": "2022-01-21T06:18:38.403Z"
   },
   {
    "duration": 24,
    "start_time": "2022-01-21T06:18:38.432Z"
   },
   {
    "duration": 25,
    "start_time": "2022-01-21T06:18:38.458Z"
   },
   {
    "duration": 25,
    "start_time": "2022-01-21T06:18:38.485Z"
   },
   {
    "duration": 13,
    "start_time": "2022-01-21T06:18:38.512Z"
   },
   {
    "duration": 669,
    "start_time": "2022-01-21T06:18:38.526Z"
   },
   {
    "duration": 2408,
    "start_time": "2022-01-21T06:18:39.198Z"
   },
   {
    "duration": 5,
    "start_time": "2022-01-21T06:18:41.608Z"
   },
   {
    "duration": 4,
    "start_time": "2022-01-21T06:18:41.614Z"
   },
   {
    "duration": 5,
    "start_time": "2022-01-21T06:18:41.619Z"
   },
   {
    "duration": 5,
    "start_time": "2022-01-21T06:18:41.626Z"
   },
   {
    "duration": 11,
    "start_time": "2022-01-21T06:18:41.632Z"
   },
   {
    "duration": 12,
    "start_time": "2022-01-21T06:18:41.645Z"
   },
   {
    "duration": 3,
    "start_time": "2022-01-21T06:18:41.658Z"
   },
   {
    "duration": 38,
    "start_time": "2022-01-21T06:18:41.662Z"
   },
   {
    "duration": 13,
    "start_time": "2022-01-21T06:18:41.701Z"
   },
   {
    "duration": 6,
    "start_time": "2022-01-21T06:18:41.716Z"
   },
   {
    "duration": 9,
    "start_time": "2022-01-21T06:18:41.723Z"
   },
   {
    "duration": 4,
    "start_time": "2022-01-21T06:18:41.734Z"
   },
   {
    "duration": 14,
    "start_time": "2022-01-21T06:18:41.739Z"
   },
   {
    "duration": 2,
    "start_time": "2022-01-21T06:18:41.755Z"
   },
   {
    "duration": 7,
    "start_time": "2022-01-21T06:18:41.759Z"
   },
   {
    "duration": 37,
    "start_time": "2022-01-21T06:18:41.767Z"
   },
   {
    "duration": 9,
    "start_time": "2022-01-21T06:18:41.805Z"
   },
   {
    "duration": 2,
    "start_time": "2022-01-21T06:18:41.816Z"
   },
   {
    "duration": 17,
    "start_time": "2022-01-21T06:18:41.819Z"
   },
   {
    "duration": 8,
    "start_time": "2022-01-21T06:18:41.837Z"
   },
   {
    "duration": 8,
    "start_time": "2022-01-21T06:18:41.847Z"
   },
   {
    "duration": 8,
    "start_time": "2022-01-21T06:18:41.856Z"
   },
   {
    "duration": 10,
    "start_time": "2022-01-21T06:18:41.899Z"
   },
   {
    "duration": 8,
    "start_time": "2022-01-21T06:18:41.910Z"
   },
   {
    "duration": 8,
    "start_time": "2022-01-21T06:18:41.920Z"
   },
   {
    "duration": 8,
    "start_time": "2022-01-21T06:18:41.930Z"
   },
   {
    "duration": 10,
    "start_time": "2022-01-21T06:18:41.940Z"
   },
   {
    "duration": 9,
    "start_time": "2022-01-21T06:18:41.999Z"
   },
   {
    "duration": 7,
    "start_time": "2022-01-21T06:18:42.009Z"
   },
   {
    "duration": 7,
    "start_time": "2022-01-21T06:18:42.018Z"
   },
   {
    "duration": 9,
    "start_time": "2022-01-21T06:18:42.026Z"
   },
   {
    "duration": 8,
    "start_time": "2022-01-21T06:18:42.037Z"
   },
   {
    "duration": 6,
    "start_time": "2022-01-21T06:18:42.046Z"
   },
   {
    "duration": 48,
    "start_time": "2022-01-21T06:18:42.053Z"
   },
   {
    "duration": 8,
    "start_time": "2022-01-21T06:18:42.102Z"
   },
   {
    "duration": 3,
    "start_time": "2022-01-21T06:19:36.450Z"
   },
   {
    "duration": 56,
    "start_time": "2022-01-21T06:19:36.454Z"
   },
   {
    "duration": 14,
    "start_time": "2022-01-21T06:19:36.512Z"
   },
   {
    "duration": 13,
    "start_time": "2022-01-21T06:19:36.527Z"
   },
   {
    "duration": 11,
    "start_time": "2022-01-21T06:19:36.541Z"
   },
   {
    "duration": 46,
    "start_time": "2022-01-21T06:19:36.554Z"
   },
   {
    "duration": 706,
    "start_time": "2022-01-21T06:19:36.602Z"
   },
   {
    "duration": 14,
    "start_time": "2022-01-21T06:19:37.310Z"
   },
   {
    "duration": 10,
    "start_time": "2022-01-21T06:19:37.326Z"
   },
   {
    "duration": 6,
    "start_time": "2022-01-21T06:19:37.338Z"
   },
   {
    "duration": 10,
    "start_time": "2022-01-21T06:19:37.346Z"
   },
   {
    "duration": 4,
    "start_time": "2022-01-21T06:19:37.358Z"
   },
   {
    "duration": 37,
    "start_time": "2022-01-21T06:19:37.363Z"
   },
   {
    "duration": 23,
    "start_time": "2022-01-21T06:19:37.402Z"
   },
   {
    "duration": 4,
    "start_time": "2022-01-21T06:19:37.427Z"
   },
   {
    "duration": 8,
    "start_time": "2022-01-21T06:19:37.433Z"
   },
   {
    "duration": 18,
    "start_time": "2022-01-21T06:19:37.442Z"
   },
   {
    "duration": 40,
    "start_time": "2022-01-21T06:19:37.463Z"
   },
   {
    "duration": 3,
    "start_time": "2022-01-21T06:19:37.508Z"
   },
   {
    "duration": 6,
    "start_time": "2022-01-21T06:19:37.515Z"
   },
   {
    "duration": 23,
    "start_time": "2022-01-21T06:19:37.523Z"
   },
   {
    "duration": 280,
    "start_time": "2022-01-21T06:19:37.549Z"
   },
   {
    "duration": 6,
    "start_time": "2022-01-21T06:19:37.831Z"
   },
   {
    "duration": 12,
    "start_time": "2022-01-21T06:19:37.839Z"
   },
   {
    "duration": 7,
    "start_time": "2022-01-21T06:19:37.852Z"
   },
   {
    "duration": 6,
    "start_time": "2022-01-21T06:19:37.860Z"
   },
   {
    "duration": 31,
    "start_time": "2022-01-21T06:19:37.868Z"
   },
   {
    "duration": 17,
    "start_time": "2022-01-21T06:19:37.900Z"
   },
   {
    "duration": 7,
    "start_time": "2022-01-21T06:19:37.919Z"
   },
   {
    "duration": 22,
    "start_time": "2022-01-21T06:19:37.928Z"
   },
   {
    "duration": 7,
    "start_time": "2022-01-21T06:19:37.952Z"
   },
   {
    "duration": 40,
    "start_time": "2022-01-21T06:19:37.961Z"
   },
   {
    "duration": 7,
    "start_time": "2022-01-21T06:19:38.003Z"
   },
   {
    "duration": 8,
    "start_time": "2022-01-21T06:19:38.012Z"
   },
   {
    "duration": 706,
    "start_time": "2022-01-21T06:19:38.022Z"
   },
   {
    "duration": 2642,
    "start_time": "2022-01-21T06:19:38.730Z"
   },
   {
    "duration": 5,
    "start_time": "2022-01-21T06:19:41.374Z"
   },
   {
    "duration": 22,
    "start_time": "2022-01-21T06:19:41.380Z"
   },
   {
    "duration": 17,
    "start_time": "2022-01-21T06:19:41.404Z"
   },
   {
    "duration": 23,
    "start_time": "2022-01-21T06:19:41.423Z"
   },
   {
    "duration": 14,
    "start_time": "2022-01-21T06:19:41.448Z"
   },
   {
    "duration": 28,
    "start_time": "2022-01-21T06:19:41.464Z"
   },
   {
    "duration": 22,
    "start_time": "2022-01-21T06:19:41.494Z"
   },
   {
    "duration": 19,
    "start_time": "2022-01-21T06:19:41.518Z"
   },
   {
    "duration": 28,
    "start_time": "2022-01-21T06:19:41.539Z"
   },
   {
    "duration": 26,
    "start_time": "2022-01-21T06:19:41.569Z"
   },
   {
    "duration": 25,
    "start_time": "2022-01-21T06:19:41.596Z"
   },
   {
    "duration": 34,
    "start_time": "2022-01-21T06:19:41.623Z"
   },
   {
    "duration": 28,
    "start_time": "2022-01-21T06:19:41.658Z"
   },
   {
    "duration": 24,
    "start_time": "2022-01-21T06:19:41.687Z"
   },
   {
    "duration": 35,
    "start_time": "2022-01-21T06:19:41.712Z"
   },
   {
    "duration": 36,
    "start_time": "2022-01-21T06:19:41.749Z"
   },
   {
    "duration": 26,
    "start_time": "2022-01-21T06:19:41.786Z"
   },
   {
    "duration": 14,
    "start_time": "2022-01-21T06:19:41.814Z"
   },
   {
    "duration": 44,
    "start_time": "2022-01-21T06:19:41.832Z"
   },
   {
    "duration": 28,
    "start_time": "2022-01-21T06:19:41.878Z"
   },
   {
    "duration": 25,
    "start_time": "2022-01-21T06:19:41.907Z"
   },
   {
    "duration": 10,
    "start_time": "2022-01-21T06:19:41.934Z"
   },
   {
    "duration": 17,
    "start_time": "2022-01-21T06:19:41.946Z"
   },
   {
    "duration": 25,
    "start_time": "2022-01-21T06:19:41.965Z"
   },
   {
    "duration": 14,
    "start_time": "2022-01-21T06:19:41.992Z"
   },
   {
    "duration": 22,
    "start_time": "2022-01-21T06:19:42.008Z"
   },
   {
    "duration": 30,
    "start_time": "2022-01-21T06:19:42.032Z"
   },
   {
    "duration": 27,
    "start_time": "2022-01-21T06:19:42.063Z"
   },
   {
    "duration": 39,
    "start_time": "2022-01-21T06:19:42.092Z"
   },
   {
    "duration": 24,
    "start_time": "2022-01-21T06:19:42.133Z"
   },
   {
    "duration": 16,
    "start_time": "2022-01-21T06:19:42.159Z"
   },
   {
    "duration": 20,
    "start_time": "2022-01-21T06:19:42.177Z"
   },
   {
    "duration": 15,
    "start_time": "2022-01-21T06:19:42.199Z"
   },
   {
    "duration": 21,
    "start_time": "2022-01-21T06:19:42.216Z"
   },
   {
    "duration": 23,
    "start_time": "2022-01-21T06:19:42.239Z"
   },
   {
    "duration": 6,
    "start_time": "2022-01-21T06:20:36.014Z"
   },
   {
    "duration": 8,
    "start_time": "2022-01-21T06:20:38.376Z"
   },
   {
    "duration": 9,
    "start_time": "2022-01-21T06:20:39.712Z"
   },
   {
    "duration": 3,
    "start_time": "2022-01-21T06:21:10.945Z"
   },
   {
    "duration": 12,
    "start_time": "2022-01-21T06:21:12.469Z"
   },
   {
    "duration": 3,
    "start_time": "2022-01-21T06:21:13.180Z"
   },
   {
    "duration": 5,
    "start_time": "2022-01-21T06:21:14.916Z"
   },
   {
    "duration": 4,
    "start_time": "2022-01-21T06:21:16.284Z"
   },
   {
    "duration": 10,
    "start_time": "2022-01-21T06:21:18.661Z"
   },
   {
    "duration": 3,
    "start_time": "2022-01-21T06:21:27.125Z"
   },
   {
    "duration": 8,
    "start_time": "2022-01-21T06:21:37.277Z"
   },
   {
    "duration": 5,
    "start_time": "2022-01-21T06:21:37.977Z"
   },
   {
    "duration": 7,
    "start_time": "2022-01-21T06:21:39.496Z"
   },
   {
    "duration": 10,
    "start_time": "2022-01-21T06:21:40.801Z"
   },
   {
    "duration": 346,
    "start_time": "2022-01-21T17:48:18.213Z"
   },
   {
    "duration": 699,
    "start_time": "2022-01-21T17:48:22.390Z"
   },
   {
    "duration": 53,
    "start_time": "2022-01-21T17:48:23.091Z"
   },
   {
    "duration": 22,
    "start_time": "2022-01-21T17:48:23.146Z"
   },
   {
    "duration": 30,
    "start_time": "2022-01-21T17:48:23.170Z"
   },
   {
    "duration": 12,
    "start_time": "2022-01-21T17:48:23.202Z"
   },
   {
    "duration": 17,
    "start_time": "2022-01-21T17:48:23.216Z"
   },
   {
    "duration": 708,
    "start_time": "2022-01-21T17:48:23.235Z"
   },
   {
    "duration": 13,
    "start_time": "2022-01-21T17:48:23.947Z"
   },
   {
    "duration": 9,
    "start_time": "2022-01-21T17:48:23.963Z"
   },
   {
    "duration": 24,
    "start_time": "2022-01-21T17:48:23.974Z"
   },
   {
    "duration": 8,
    "start_time": "2022-01-21T17:48:24.000Z"
   },
   {
    "duration": 4,
    "start_time": "2022-01-21T17:48:24.010Z"
   },
   {
    "duration": 11,
    "start_time": "2022-01-21T17:48:24.016Z"
   },
   {
    "duration": 22,
    "start_time": "2022-01-21T17:48:24.029Z"
   },
   {
    "duration": 5,
    "start_time": "2022-01-21T17:48:24.053Z"
   },
   {
    "duration": 45,
    "start_time": "2022-01-21T17:48:24.060Z"
   },
   {
    "duration": 38,
    "start_time": "2022-01-21T17:48:24.107Z"
   },
   {
    "duration": 5,
    "start_time": "2022-01-21T17:48:24.146Z"
   },
   {
    "duration": 19,
    "start_time": "2022-01-21T17:48:24.153Z"
   },
   {
    "duration": 18,
    "start_time": "2022-01-21T17:48:24.174Z"
   },
   {
    "duration": 29,
    "start_time": "2022-01-21T17:48:24.194Z"
   },
   {
    "duration": 226,
    "start_time": "2022-01-21T17:48:24.224Z"
   },
   {
    "duration": 5,
    "start_time": "2022-01-21T17:48:24.454Z"
   },
   {
    "duration": 8,
    "start_time": "2022-01-21T17:48:24.461Z"
   },
   {
    "duration": 5,
    "start_time": "2022-01-21T17:48:24.471Z"
   },
   {
    "duration": 22,
    "start_time": "2022-01-21T17:48:24.477Z"
   },
   {
    "duration": 21,
    "start_time": "2022-01-21T17:48:24.500Z"
   },
   {
    "duration": 15,
    "start_time": "2022-01-21T17:48:24.523Z"
   },
   {
    "duration": 7,
    "start_time": "2022-01-21T17:48:24.539Z"
   },
   {
    "duration": 23,
    "start_time": "2022-01-21T17:48:24.548Z"
   },
   {
    "duration": 8,
    "start_time": "2022-01-21T17:48:24.573Z"
   },
   {
    "duration": 24,
    "start_time": "2022-01-21T17:48:24.583Z"
   },
   {
    "duration": 12,
    "start_time": "2022-01-21T17:48:24.609Z"
   },
   {
    "duration": 15,
    "start_time": "2022-01-21T17:48:24.622Z"
   },
   {
    "duration": 680,
    "start_time": "2022-01-21T17:48:24.638Z"
   },
   {
    "duration": 2689,
    "start_time": "2022-01-21T17:48:25.320Z"
   },
   {
    "duration": 5,
    "start_time": "2022-01-21T17:48:28.010Z"
   },
   {
    "duration": 5,
    "start_time": "2022-01-21T17:48:28.017Z"
   },
   {
    "duration": 6,
    "start_time": "2022-01-21T17:48:28.024Z"
   },
   {
    "duration": 7,
    "start_time": "2022-01-21T17:48:28.032Z"
   },
   {
    "duration": 11,
    "start_time": "2022-01-21T17:48:28.040Z"
   },
   {
    "duration": 14,
    "start_time": "2022-01-21T17:48:28.052Z"
   },
   {
    "duration": 3,
    "start_time": "2022-01-21T17:48:28.067Z"
   },
   {
    "duration": 33,
    "start_time": "2022-01-21T17:48:28.071Z"
   },
   {
    "duration": 19,
    "start_time": "2022-01-21T17:48:28.105Z"
   },
   {
    "duration": 7,
    "start_time": "2022-01-21T17:48:28.125Z"
   },
   {
    "duration": 8,
    "start_time": "2022-01-21T17:48:28.134Z"
   },
   {
    "duration": 3,
    "start_time": "2022-01-21T17:48:28.144Z"
   },
   {
    "duration": 15,
    "start_time": "2022-01-21T17:48:28.149Z"
   },
   {
    "duration": 3,
    "start_time": "2022-01-21T17:48:28.165Z"
   },
   {
    "duration": 4,
    "start_time": "2022-01-21T17:48:28.199Z"
   },
   {
    "duration": 11,
    "start_time": "2022-01-21T17:48:28.205Z"
   },
   {
    "duration": 9,
    "start_time": "2022-01-21T17:48:28.218Z"
   },
   {
    "duration": 2,
    "start_time": "2022-01-21T17:48:28.229Z"
   },
   {
    "duration": 16,
    "start_time": "2022-01-21T17:48:28.232Z"
   },
   {
    "duration": 8,
    "start_time": "2022-01-21T17:48:28.250Z"
   },
   {
    "duration": 38,
    "start_time": "2022-01-21T17:48:28.260Z"
   },
   {
    "duration": 8,
    "start_time": "2022-01-21T17:48:28.300Z"
   },
   {
    "duration": 9,
    "start_time": "2022-01-21T17:48:28.310Z"
   },
   {
    "duration": 6,
    "start_time": "2022-01-21T17:48:28.321Z"
   },
   {
    "duration": 5,
    "start_time": "2022-01-21T17:48:28.329Z"
   },
   {
    "duration": 9,
    "start_time": "2022-01-21T17:48:28.336Z"
   },
   {
    "duration": 9,
    "start_time": "2022-01-21T17:48:28.346Z"
   },
   {
    "duration": 44,
    "start_time": "2022-01-21T17:48:28.357Z"
   },
   {
    "duration": 5,
    "start_time": "2022-01-21T17:48:28.403Z"
   },
   {
    "duration": 9,
    "start_time": "2022-01-21T17:48:28.410Z"
   },
   {
    "duration": 8,
    "start_time": "2022-01-21T17:48:28.421Z"
   },
   {
    "duration": 7,
    "start_time": "2022-01-21T17:48:28.433Z"
   },
   {
    "duration": 8,
    "start_time": "2022-01-21T17:48:28.442Z"
   },
   {
    "duration": 7,
    "start_time": "2022-01-21T17:48:28.452Z"
   },
   {
    "duration": 38,
    "start_time": "2022-01-21T17:48:28.461Z"
   },
   {
    "duration": 463,
    "start_time": "2022-01-21T17:49:07.775Z"
   },
   {
    "duration": 440,
    "start_time": "2022-01-21T17:49:13.305Z"
   },
   {
    "duration": 426,
    "start_time": "2022-01-21T17:53:58.467Z"
   },
   {
    "duration": 14,
    "start_time": "2022-01-21T17:55:11.583Z"
   },
   {
    "duration": 436,
    "start_time": "2022-01-21T18:06:55.429Z"
   },
   {
    "duration": 3,
    "start_time": "2022-01-21T18:08:40.639Z"
   },
   {
    "duration": 8,
    "start_time": "2022-01-21T18:12:36.117Z"
   },
   {
    "duration": 5,
    "start_time": "2022-01-21T18:20:19.033Z"
   },
   {
    "duration": 3,
    "start_time": "2022-01-21T18:21:28.305Z"
   },
   {
    "duration": 52,
    "start_time": "2022-01-21T18:21:28.312Z"
   },
   {
    "duration": 12,
    "start_time": "2022-01-21T18:21:28.366Z"
   },
   {
    "duration": 12,
    "start_time": "2022-01-21T18:21:28.380Z"
   },
   {
    "duration": 12,
    "start_time": "2022-01-21T18:21:28.393Z"
   },
   {
    "duration": 14,
    "start_time": "2022-01-21T18:21:28.406Z"
   },
   {
    "duration": 712,
    "start_time": "2022-01-21T18:21:28.425Z"
   },
   {
    "duration": 12,
    "start_time": "2022-01-21T18:21:29.139Z"
   },
   {
    "duration": 8,
    "start_time": "2022-01-21T18:21:29.154Z"
   },
   {
    "duration": 3,
    "start_time": "2022-01-21T18:21:29.164Z"
   },
   {
    "duration": 31,
    "start_time": "2022-01-21T18:21:29.168Z"
   },
   {
    "duration": 3,
    "start_time": "2022-01-21T18:21:29.201Z"
   },
   {
    "duration": 10,
    "start_time": "2022-01-21T18:21:29.206Z"
   },
   {
    "duration": 5,
    "start_time": "2022-01-21T18:21:29.218Z"
   },
   {
    "duration": 22,
    "start_time": "2022-01-21T18:21:29.225Z"
   },
   {
    "duration": 4,
    "start_time": "2022-01-21T18:21:29.249Z"
   },
   {
    "duration": 6,
    "start_time": "2022-01-21T18:21:29.255Z"
   },
   {
    "duration": 19,
    "start_time": "2022-01-21T18:21:29.299Z"
   },
   {
    "duration": 6,
    "start_time": "2022-01-21T18:21:29.320Z"
   },
   {
    "duration": 4,
    "start_time": "2022-01-21T18:21:29.327Z"
   },
   {
    "duration": 7,
    "start_time": "2022-01-21T18:21:29.332Z"
   },
   {
    "duration": 21,
    "start_time": "2022-01-21T18:21:29.341Z"
   },
   {
    "duration": 212,
    "start_time": "2022-01-21T18:21:29.397Z"
   },
   {
    "duration": 6,
    "start_time": "2022-01-21T18:21:29.611Z"
   },
   {
    "duration": 9,
    "start_time": "2022-01-21T18:21:29.618Z"
   },
   {
    "duration": 5,
    "start_time": "2022-01-21T18:21:29.628Z"
   },
   {
    "duration": 5,
    "start_time": "2022-01-21T18:21:29.634Z"
   },
   {
    "duration": 12,
    "start_time": "2022-01-21T18:21:29.641Z"
   },
   {
    "duration": 44,
    "start_time": "2022-01-21T18:21:29.656Z"
   },
   {
    "duration": 7,
    "start_time": "2022-01-21T18:21:29.702Z"
   },
   {
    "duration": 19,
    "start_time": "2022-01-21T18:21:29.710Z"
   },
   {
    "duration": 7,
    "start_time": "2022-01-21T18:21:29.730Z"
   },
   {
    "duration": 16,
    "start_time": "2022-01-21T18:21:29.738Z"
   },
   {
    "duration": 10,
    "start_time": "2022-01-21T18:21:29.756Z"
   },
   {
    "duration": 33,
    "start_time": "2022-01-21T18:21:29.767Z"
   },
   {
    "duration": 692,
    "start_time": "2022-01-21T18:21:29.802Z"
   },
   {
    "duration": 2531,
    "start_time": "2022-01-21T18:21:30.498Z"
   },
   {
    "duration": 5,
    "start_time": "2022-01-21T18:21:33.030Z"
   },
   {
    "duration": 4,
    "start_time": "2022-01-21T18:21:33.036Z"
   },
   {
    "duration": 4,
    "start_time": "2022-01-21T18:21:33.042Z"
   },
   {
    "duration": 7,
    "start_time": "2022-01-21T18:21:33.048Z"
   },
   {
    "duration": 13,
    "start_time": "2022-01-21T18:21:33.057Z"
   },
   {
    "duration": 33,
    "start_time": "2022-01-21T18:21:33.072Z"
   },
   {
    "duration": 2,
    "start_time": "2022-01-21T18:21:33.107Z"
   },
   {
    "duration": 9,
    "start_time": "2022-01-21T18:21:33.111Z"
   },
   {
    "duration": 16,
    "start_time": "2022-01-21T18:21:33.121Z"
   },
   {
    "duration": 7,
    "start_time": "2022-01-21T18:21:33.139Z"
   },
   {
    "duration": 10,
    "start_time": "2022-01-21T18:21:33.148Z"
   },
   {
    "duration": 4,
    "start_time": "2022-01-21T18:21:33.159Z"
   },
   {
    "duration": 39,
    "start_time": "2022-01-21T18:21:33.164Z"
   },
   {
    "duration": 3,
    "start_time": "2022-01-21T18:21:33.205Z"
   },
   {
    "duration": 8,
    "start_time": "2022-01-21T18:21:33.210Z"
   },
   {
    "duration": 14,
    "start_time": "2022-01-21T18:21:33.220Z"
   },
   {
    "duration": 9,
    "start_time": "2022-01-21T18:21:33.236Z"
   },
   {
    "duration": 8,
    "start_time": "2022-01-21T18:21:33.246Z"
   },
   {
    "duration": 21,
    "start_time": "2022-01-21T18:21:33.255Z"
   },
   {
    "duration": 24,
    "start_time": "2022-01-21T18:21:33.277Z"
   },
   {
    "duration": 7,
    "start_time": "2022-01-21T18:21:33.303Z"
   },
   {
    "duration": 8,
    "start_time": "2022-01-21T18:21:33.311Z"
   },
   {
    "duration": 8,
    "start_time": "2022-01-21T18:21:33.321Z"
   },
   {
    "duration": 9,
    "start_time": "2022-01-21T18:21:33.330Z"
   },
   {
    "duration": 9,
    "start_time": "2022-01-21T18:21:33.341Z"
   },
   {
    "duration": 8,
    "start_time": "2022-01-21T18:21:33.352Z"
   },
   {
    "duration": 41,
    "start_time": "2022-01-21T18:21:33.362Z"
   },
   {
    "duration": 7,
    "start_time": "2022-01-21T18:21:33.405Z"
   },
   {
    "duration": 6,
    "start_time": "2022-01-21T18:21:33.413Z"
   },
   {
    "duration": 8,
    "start_time": "2022-01-21T18:21:33.421Z"
   },
   {
    "duration": 9,
    "start_time": "2022-01-21T18:21:33.431Z"
   },
   {
    "duration": 8,
    "start_time": "2022-01-21T18:21:33.442Z"
   },
   {
    "duration": 4,
    "start_time": "2022-01-21T18:21:33.452Z"
   },
   {
    "duration": 45,
    "start_time": "2022-01-21T18:21:33.458Z"
   },
   {
    "duration": 9,
    "start_time": "2022-01-21T18:21:33.505Z"
   },
   {
    "duration": 5,
    "start_time": "2022-01-21T18:22:03.182Z"
   },
   {
    "duration": 447,
    "start_time": "2022-01-21T18:22:50.055Z"
   },
   {
    "duration": 426,
    "start_time": "2022-01-21T18:22:56.742Z"
   },
   {
    "duration": 19,
    "start_time": "2022-01-21T18:23:48.297Z"
   },
   {
    "duration": 2,
    "start_time": "2022-01-21T18:24:44.276Z"
   },
   {
    "duration": 4,
    "start_time": "2022-01-21T18:24:47.177Z"
   },
   {
    "duration": 3,
    "start_time": "2022-01-21T18:25:02.496Z"
   },
   {
    "duration": 66,
    "start_time": "2022-01-21T18:25:02.502Z"
   },
   {
    "duration": 15,
    "start_time": "2022-01-21T18:25:02.571Z"
   },
   {
    "duration": 34,
    "start_time": "2022-01-21T18:25:02.589Z"
   },
   {
    "duration": 27,
    "start_time": "2022-01-21T18:25:02.625Z"
   },
   {
    "duration": 28,
    "start_time": "2022-01-21T18:25:02.654Z"
   },
   {
    "duration": 725,
    "start_time": "2022-01-21T18:25:02.684Z"
   },
   {
    "duration": 13,
    "start_time": "2022-01-21T18:25:03.410Z"
   },
   {
    "duration": 19,
    "start_time": "2022-01-21T18:25:03.427Z"
   },
   {
    "duration": 20,
    "start_time": "2022-01-21T18:25:03.449Z"
   },
   {
    "duration": 22,
    "start_time": "2022-01-21T18:25:03.471Z"
   },
   {
    "duration": 4,
    "start_time": "2022-01-21T18:25:03.495Z"
   },
   {
    "duration": 24,
    "start_time": "2022-01-21T18:25:03.501Z"
   },
   {
    "duration": 18,
    "start_time": "2022-01-21T18:25:03.528Z"
   },
   {
    "duration": 9,
    "start_time": "2022-01-21T18:25:03.548Z"
   },
   {
    "duration": 23,
    "start_time": "2022-01-21T18:25:03.559Z"
   },
   {
    "duration": 29,
    "start_time": "2022-01-21T18:25:03.584Z"
   },
   {
    "duration": 26,
    "start_time": "2022-01-21T18:25:03.615Z"
   },
   {
    "duration": 24,
    "start_time": "2022-01-21T18:25:03.643Z"
   },
   {
    "duration": 14,
    "start_time": "2022-01-21T18:25:03.669Z"
   },
   {
    "duration": 23,
    "start_time": "2022-01-21T18:25:03.684Z"
   },
   {
    "duration": 30,
    "start_time": "2022-01-21T18:25:03.708Z"
   },
   {
    "duration": 219,
    "start_time": "2022-01-21T18:25:03.739Z"
   },
   {
    "duration": 6,
    "start_time": "2022-01-21T18:25:03.960Z"
   },
   {
    "duration": 27,
    "start_time": "2022-01-21T18:25:03.967Z"
   },
   {
    "duration": 19,
    "start_time": "2022-01-21T18:25:03.998Z"
   },
   {
    "duration": 7,
    "start_time": "2022-01-21T18:25:04.021Z"
   },
   {
    "duration": 31,
    "start_time": "2022-01-21T18:25:04.030Z"
   },
   {
    "duration": 20,
    "start_time": "2022-01-21T18:25:04.063Z"
   },
   {
    "duration": 7,
    "start_time": "2022-01-21T18:25:04.084Z"
   },
   {
    "duration": 37,
    "start_time": "2022-01-21T18:25:04.093Z"
   },
   {
    "duration": 13,
    "start_time": "2022-01-21T18:25:04.132Z"
   },
   {
    "duration": 17,
    "start_time": "2022-01-21T18:25:04.146Z"
   },
   {
    "duration": 7,
    "start_time": "2022-01-21T18:25:04.165Z"
   },
   {
    "duration": 17,
    "start_time": "2022-01-21T18:25:04.173Z"
   },
   {
    "duration": 723,
    "start_time": "2022-01-21T18:25:04.191Z"
   },
   {
    "duration": 2981,
    "start_time": "2022-01-21T18:25:04.917Z"
   },
   {
    "duration": 6,
    "start_time": "2022-01-21T18:25:07.900Z"
   },
   {
    "duration": 5,
    "start_time": "2022-01-21T18:25:07.907Z"
   },
   {
    "duration": 5,
    "start_time": "2022-01-21T18:25:07.913Z"
   },
   {
    "duration": 4,
    "start_time": "2022-01-21T18:25:07.920Z"
   },
   {
    "duration": 18,
    "start_time": "2022-01-21T18:25:07.926Z"
   },
   {
    "duration": 13,
    "start_time": "2022-01-21T18:25:07.945Z"
   },
   {
    "duration": 4,
    "start_time": "2022-01-21T18:25:07.959Z"
   },
   {
    "duration": 35,
    "start_time": "2022-01-21T18:25:07.965Z"
   },
   {
    "duration": 17,
    "start_time": "2022-01-21T18:25:08.001Z"
   },
   {
    "duration": 12,
    "start_time": "2022-01-21T18:25:08.020Z"
   },
   {
    "duration": 19,
    "start_time": "2022-01-21T18:25:08.033Z"
   },
   {
    "duration": 4,
    "start_time": "2022-01-21T18:25:08.053Z"
   },
   {
    "duration": 45,
    "start_time": "2022-01-21T18:25:08.058Z"
   },
   {
    "duration": 3,
    "start_time": "2022-01-21T18:25:08.105Z"
   },
   {
    "duration": 9,
    "start_time": "2022-01-21T18:25:08.109Z"
   },
   {
    "duration": 12,
    "start_time": "2022-01-21T18:25:08.120Z"
   },
   {
    "duration": 10,
    "start_time": "2022-01-21T18:25:08.133Z"
   },
   {
    "duration": 1,
    "start_time": "2022-01-21T18:25:08.145Z"
   },
   {
    "duration": 17,
    "start_time": "2022-01-21T18:25:08.148Z"
   },
   {
    "duration": 35,
    "start_time": "2022-01-21T18:25:08.167Z"
   },
   {
    "duration": 6,
    "start_time": "2022-01-21T18:25:08.204Z"
   },
   {
    "duration": 11,
    "start_time": "2022-01-21T18:25:08.212Z"
   },
   {
    "duration": 11,
    "start_time": "2022-01-21T18:25:08.225Z"
   },
   {
    "duration": 16,
    "start_time": "2022-01-21T18:25:08.238Z"
   },
   {
    "duration": 9,
    "start_time": "2022-01-21T18:25:08.256Z"
   },
   {
    "duration": 8,
    "start_time": "2022-01-21T18:25:08.266Z"
   },
   {
    "duration": 28,
    "start_time": "2022-01-21T18:25:08.276Z"
   },
   {
    "duration": 7,
    "start_time": "2022-01-21T18:25:08.305Z"
   },
   {
    "duration": 5,
    "start_time": "2022-01-21T18:25:08.314Z"
   },
   {
    "duration": 9,
    "start_time": "2022-01-21T18:25:08.321Z"
   },
   {
    "duration": 8,
    "start_time": "2022-01-21T18:25:08.332Z"
   },
   {
    "duration": 10,
    "start_time": "2022-01-21T18:25:08.341Z"
   },
   {
    "duration": 6,
    "start_time": "2022-01-21T18:25:08.352Z"
   },
   {
    "duration": 45,
    "start_time": "2022-01-21T18:25:08.360Z"
   },
   {
    "duration": 9,
    "start_time": "2022-01-21T18:25:08.406Z"
   },
   {
    "duration": 4,
    "start_time": "2022-01-21T18:26:55.272Z"
   },
   {
    "duration": 3,
    "start_time": "2022-01-21T18:27:47.708Z"
   },
   {
    "duration": 66,
    "start_time": "2022-01-21T18:27:47.714Z"
   },
   {
    "duration": 13,
    "start_time": "2022-01-21T18:27:47.782Z"
   },
   {
    "duration": 19,
    "start_time": "2022-01-21T18:27:47.797Z"
   },
   {
    "duration": 13,
    "start_time": "2022-01-21T18:27:47.818Z"
   },
   {
    "duration": 26,
    "start_time": "2022-01-21T18:27:47.832Z"
   },
   {
    "duration": 730,
    "start_time": "2022-01-21T18:27:47.860Z"
   },
   {
    "duration": 12,
    "start_time": "2022-01-21T18:27:48.592Z"
   },
   {
    "duration": 20,
    "start_time": "2022-01-21T18:27:48.607Z"
   },
   {
    "duration": 15,
    "start_time": "2022-01-21T18:27:48.629Z"
   },
   {
    "duration": 22,
    "start_time": "2022-01-21T18:27:48.646Z"
   },
   {
    "duration": 8,
    "start_time": "2022-01-21T18:27:48.669Z"
   },
   {
    "duration": 27,
    "start_time": "2022-01-21T18:27:48.679Z"
   },
   {
    "duration": 5,
    "start_time": "2022-01-21T18:27:48.708Z"
   },
   {
    "duration": 24,
    "start_time": "2022-01-21T18:27:48.714Z"
   },
   {
    "duration": 30,
    "start_time": "2022-01-21T18:27:48.739Z"
   },
   {
    "duration": 19,
    "start_time": "2022-01-21T18:27:48.771Z"
   },
   {
    "duration": 13,
    "start_time": "2022-01-21T18:27:48.792Z"
   },
   {
    "duration": 25,
    "start_time": "2022-01-21T18:27:48.807Z"
   },
   {
    "duration": 28,
    "start_time": "2022-01-21T18:27:48.834Z"
   },
   {
    "duration": 39,
    "start_time": "2022-01-21T18:27:48.864Z"
   },
   {
    "duration": 210,
    "start_time": "2022-01-21T18:27:48.905Z"
   },
   {
    "duration": 5,
    "start_time": "2022-01-21T18:27:49.117Z"
   },
   {
    "duration": 7,
    "start_time": "2022-01-21T18:27:49.127Z"
   },
   {
    "duration": 5,
    "start_time": "2022-01-21T18:27:49.137Z"
   },
   {
    "duration": 6,
    "start_time": "2022-01-21T18:27:49.143Z"
   },
   {
    "duration": 12,
    "start_time": "2022-01-21T18:27:49.151Z"
   },
   {
    "duration": 15,
    "start_time": "2022-01-21T18:27:49.197Z"
   },
   {
    "duration": 7,
    "start_time": "2022-01-21T18:27:49.214Z"
   },
   {
    "duration": 18,
    "start_time": "2022-01-21T18:27:49.223Z"
   },
   {
    "duration": 7,
    "start_time": "2022-01-21T18:27:49.242Z"
   },
   {
    "duration": 49,
    "start_time": "2022-01-21T18:27:49.251Z"
   },
   {
    "duration": 8,
    "start_time": "2022-01-21T18:27:49.301Z"
   },
   {
    "duration": 7,
    "start_time": "2022-01-21T18:27:49.311Z"
   },
   {
    "duration": 727,
    "start_time": "2022-01-21T18:27:49.320Z"
   },
   {
    "duration": 2482,
    "start_time": "2022-01-21T18:27:50.049Z"
   },
   {
    "duration": 6,
    "start_time": "2022-01-21T18:27:52.533Z"
   },
   {
    "duration": 6,
    "start_time": "2022-01-21T18:27:52.541Z"
   },
   {
    "duration": 5,
    "start_time": "2022-01-21T18:27:52.549Z"
   },
   {
    "duration": 5,
    "start_time": "2022-01-21T18:27:52.556Z"
   },
   {
    "duration": 12,
    "start_time": "2022-01-21T18:27:52.563Z"
   },
   {
    "duration": 30,
    "start_time": "2022-01-21T18:27:52.577Z"
   },
   {
    "duration": 2,
    "start_time": "2022-01-21T18:27:52.609Z"
   },
   {
    "duration": 11,
    "start_time": "2022-01-21T18:27:52.613Z"
   },
   {
    "duration": 16,
    "start_time": "2022-01-21T18:27:52.626Z"
   },
   {
    "duration": 7,
    "start_time": "2022-01-21T18:27:52.644Z"
   },
   {
    "duration": 13,
    "start_time": "2022-01-21T18:27:52.653Z"
   },
   {
    "duration": 31,
    "start_time": "2022-01-21T18:27:52.668Z"
   },
   {
    "duration": 12,
    "start_time": "2022-01-21T18:27:52.701Z"
   },
   {
    "duration": 8,
    "start_time": "2022-01-21T18:27:52.715Z"
   },
   {
    "duration": 8,
    "start_time": "2022-01-21T18:27:52.725Z"
   },
   {
    "duration": 12,
    "start_time": "2022-01-21T18:27:52.735Z"
   },
   {
    "duration": 10,
    "start_time": "2022-01-21T18:27:52.749Z"
   },
   {
    "duration": 2,
    "start_time": "2022-01-21T18:27:52.761Z"
   },
   {
    "duration": 43,
    "start_time": "2022-01-21T18:27:52.764Z"
   },
   {
    "duration": 8,
    "start_time": "2022-01-21T18:27:52.809Z"
   },
   {
    "duration": 6,
    "start_time": "2022-01-21T18:27:52.819Z"
   },
   {
    "duration": 8,
    "start_time": "2022-01-21T18:27:52.827Z"
   },
   {
    "duration": 9,
    "start_time": "2022-01-21T18:27:52.836Z"
   },
   {
    "duration": 6,
    "start_time": "2022-01-21T18:27:52.846Z"
   },
   {
    "duration": 8,
    "start_time": "2022-01-21T18:27:52.853Z"
   },
   {
    "duration": 50,
    "start_time": "2022-01-21T18:27:52.863Z"
   },
   {
    "duration": 9,
    "start_time": "2022-01-21T18:27:52.915Z"
   },
   {
    "duration": 6,
    "start_time": "2022-01-21T18:27:52.926Z"
   },
   {
    "duration": 6,
    "start_time": "2022-01-21T18:27:52.934Z"
   },
   {
    "duration": 8,
    "start_time": "2022-01-21T18:27:52.941Z"
   },
   {
    "duration": 11,
    "start_time": "2022-01-21T18:27:52.950Z"
   },
   {
    "duration": 39,
    "start_time": "2022-01-21T18:27:52.962Z"
   },
   {
    "duration": 4,
    "start_time": "2022-01-21T18:27:53.006Z"
   },
   {
    "duration": 8,
    "start_time": "2022-01-21T18:27:53.012Z"
   },
   {
    "duration": 9,
    "start_time": "2022-01-21T18:27:53.022Z"
   },
   {
    "duration": 4,
    "start_time": "2022-01-21T18:29:10.494Z"
   },
   {
    "duration": 6,
    "start_time": "2022-01-21T18:29:40.619Z"
   },
   {
    "duration": 7,
    "start_time": "2022-01-21T18:32:22.897Z"
   },
   {
    "duration": 355,
    "start_time": "2022-01-21T18:35:08.813Z"
   },
   {
    "duration": 6,
    "start_time": "2022-01-21T18:35:14.329Z"
   },
   {
    "duration": 7,
    "start_time": "2022-01-21T18:38:03.217Z"
   },
   {
    "duration": 294,
    "start_time": "2022-01-21T18:38:14.017Z"
   },
   {
    "duration": 275,
    "start_time": "2022-01-21T18:38:18.744Z"
   },
   {
    "duration": 6,
    "start_time": "2022-01-21T18:38:38.326Z"
   },
   {
    "duration": 85,
    "start_time": "2022-01-21T18:43:45.544Z"
   },
   {
    "duration": 84,
    "start_time": "2022-01-21T18:43:54.025Z"
   },
   {
    "duration": 98,
    "start_time": "2022-01-21T18:55:46.737Z"
   },
   {
    "duration": 10,
    "start_time": "2022-01-21T18:56:01.192Z"
   },
   {
    "duration": 97,
    "start_time": "2022-01-21T18:56:36.578Z"
   },
   {
    "duration": 9,
    "start_time": "2022-01-21T18:56:40.433Z"
   },
   {
    "duration": 9,
    "start_time": "2022-01-21T18:57:18.121Z"
   },
   {
    "duration": 3,
    "start_time": "2022-01-21T18:57:37.861Z"
   },
   {
    "duration": 51,
    "start_time": "2022-01-21T18:57:37.868Z"
   },
   {
    "duration": 12,
    "start_time": "2022-01-21T18:57:37.921Z"
   },
   {
    "duration": 11,
    "start_time": "2022-01-21T18:57:37.936Z"
   },
   {
    "duration": 14,
    "start_time": "2022-01-21T18:57:37.949Z"
   },
   {
    "duration": 42,
    "start_time": "2022-01-21T18:57:37.965Z"
   },
   {
    "duration": 711,
    "start_time": "2022-01-21T18:57:38.009Z"
   },
   {
    "duration": 13,
    "start_time": "2022-01-21T18:57:38.722Z"
   },
   {
    "duration": 9,
    "start_time": "2022-01-21T18:57:38.737Z"
   },
   {
    "duration": 4,
    "start_time": "2022-01-21T18:57:38.747Z"
   },
   {
    "duration": 9,
    "start_time": "2022-01-21T18:57:38.752Z"
   },
   {
    "duration": 3,
    "start_time": "2022-01-21T18:57:38.763Z"
   },
   {
    "duration": 41,
    "start_time": "2022-01-21T18:57:38.767Z"
   },
   {
    "duration": 4,
    "start_time": "2022-01-21T18:57:38.809Z"
   },
   {
    "duration": 8,
    "start_time": "2022-01-21T18:57:38.815Z"
   },
   {
    "duration": 7,
    "start_time": "2022-01-21T18:57:38.825Z"
   },
   {
    "duration": 6,
    "start_time": "2022-01-21T18:57:38.834Z"
   },
   {
    "duration": 5,
    "start_time": "2022-01-21T18:57:38.842Z"
   },
   {
    "duration": 4,
    "start_time": "2022-01-21T18:57:38.849Z"
   },
   {
    "duration": 62,
    "start_time": "2022-01-21T18:57:38.854Z"
   },
   {
    "duration": 220,
    "start_time": "2022-01-21T18:57:38.918Z"
   },
   {
    "duration": 6,
    "start_time": "2022-01-21T18:57:39.140Z"
   },
   {
    "duration": 9,
    "start_time": "2022-01-21T18:57:39.147Z"
   },
   {
    "duration": 3,
    "start_time": "2022-01-21T18:57:39.160Z"
   },
   {
    "duration": 3,
    "start_time": "2022-01-21T18:57:39.166Z"
   },
   {
    "duration": 35,
    "start_time": "2022-01-21T18:57:39.171Z"
   },
   {
    "duration": 15,
    "start_time": "2022-01-21T18:57:39.210Z"
   },
   {
    "duration": 8,
    "start_time": "2022-01-21T18:57:39.227Z"
   },
   {
    "duration": 17,
    "start_time": "2022-01-21T18:57:39.237Z"
   },
   {
    "duration": 45,
    "start_time": "2022-01-21T18:57:39.256Z"
   },
   {
    "duration": 15,
    "start_time": "2022-01-21T18:57:39.303Z"
   },
   {
    "duration": 8,
    "start_time": "2022-01-21T18:57:39.320Z"
   },
   {
    "duration": 6,
    "start_time": "2022-01-21T18:57:39.330Z"
   },
   {
    "duration": 730,
    "start_time": "2022-01-21T18:57:39.338Z"
   },
   {
    "duration": 2761,
    "start_time": "2022-01-21T18:57:40.070Z"
   },
   {
    "duration": 5,
    "start_time": "2022-01-21T18:57:42.833Z"
   },
   {
    "duration": 3,
    "start_time": "2022-01-21T18:57:42.839Z"
   },
   {
    "duration": 7,
    "start_time": "2022-01-21T18:57:42.844Z"
   },
   {
    "duration": 5,
    "start_time": "2022-01-21T18:57:42.853Z"
   },
   {
    "duration": 42,
    "start_time": "2022-01-21T18:57:42.860Z"
   },
   {
    "duration": 13,
    "start_time": "2022-01-21T18:57:42.904Z"
   },
   {
    "duration": 3,
    "start_time": "2022-01-21T18:57:42.918Z"
   },
   {
    "duration": 9,
    "start_time": "2022-01-21T18:57:42.922Z"
   },
   {
    "duration": 16,
    "start_time": "2022-01-21T18:57:42.933Z"
   },
   {
    "duration": 7,
    "start_time": "2022-01-21T18:57:42.951Z"
   },
   {
    "duration": 42,
    "start_time": "2022-01-21T18:57:42.960Z"
   },
   {
    "duration": 4,
    "start_time": "2022-01-21T18:57:43.003Z"
   },
   {
    "duration": 19,
    "start_time": "2022-01-21T18:57:43.009Z"
   },
   {
    "duration": 3,
    "start_time": "2022-01-21T18:57:43.030Z"
   },
   {
    "duration": 10,
    "start_time": "2022-01-21T18:57:43.034Z"
   },
   {
    "duration": 11,
    "start_time": "2022-01-21T18:57:43.046Z"
   },
   {
    "duration": 9,
    "start_time": "2022-01-21T18:57:43.059Z"
   },
   {
    "duration": 2,
    "start_time": "2022-01-21T18:57:43.070Z"
   },
   {
    "duration": 14,
    "start_time": "2022-01-21T18:57:43.099Z"
   },
   {
    "duration": 9,
    "start_time": "2022-01-21T18:57:43.115Z"
   },
   {
    "duration": 7,
    "start_time": "2022-01-21T18:57:43.126Z"
   },
   {
    "duration": 8,
    "start_time": "2022-01-21T18:57:43.135Z"
   },
   {
    "duration": 10,
    "start_time": "2022-01-21T18:57:43.145Z"
   },
   {
    "duration": 10,
    "start_time": "2022-01-21T18:57:43.156Z"
   },
   {
    "duration": 33,
    "start_time": "2022-01-21T18:57:43.167Z"
   },
   {
    "duration": 8,
    "start_time": "2022-01-21T18:57:43.202Z"
   },
   {
    "duration": 10,
    "start_time": "2022-01-21T18:57:43.211Z"
   },
   {
    "duration": 9,
    "start_time": "2022-01-21T18:57:43.223Z"
   },
   {
    "duration": 5,
    "start_time": "2022-01-21T18:57:43.233Z"
   },
   {
    "duration": 15,
    "start_time": "2022-01-21T18:57:43.240Z"
   },
   {
    "duration": 10,
    "start_time": "2022-01-21T18:57:43.257Z"
   },
   {
    "duration": 11,
    "start_time": "2022-01-21T18:57:43.299Z"
   },
   {
    "duration": 5,
    "start_time": "2022-01-21T18:57:43.312Z"
   },
   {
    "duration": 10,
    "start_time": "2022-01-21T18:57:43.322Z"
   },
   {
    "duration": 8,
    "start_time": "2022-01-21T18:57:43.333Z"
   },
   {
    "duration": 198,
    "start_time": "2022-01-21T18:58:14.977Z"
   },
   {
    "duration": 101,
    "start_time": "2022-01-21T19:00:04.637Z"
   },
   {
    "duration": 6,
    "start_time": "2022-01-21T19:00:10.707Z"
   },
   {
    "duration": 2,
    "start_time": "2022-01-21T19:00:38.634Z"
   },
   {
    "duration": 6,
    "start_time": "2022-01-21T19:00:42.770Z"
   },
   {
    "duration": 4,
    "start_time": "2022-01-21T19:02:22.468Z"
   },
   {
    "duration": 3,
    "start_time": "2022-01-21T19:02:23.825Z"
   },
   {
    "duration": 6,
    "start_time": "2022-01-21T19:02:26.191Z"
   },
   {
    "duration": 3,
    "start_time": "2022-01-21T19:02:39.959Z"
   },
   {
    "duration": 64,
    "start_time": "2022-01-21T19:02:39.966Z"
   },
   {
    "duration": 13,
    "start_time": "2022-01-21T19:02:40.031Z"
   },
   {
    "duration": 19,
    "start_time": "2022-01-21T19:02:40.046Z"
   },
   {
    "duration": 12,
    "start_time": "2022-01-21T19:02:40.067Z"
   },
   {
    "duration": 28,
    "start_time": "2022-01-21T19:02:40.081Z"
   },
   {
    "duration": 715,
    "start_time": "2022-01-21T19:02:40.110Z"
   },
   {
    "duration": 13,
    "start_time": "2022-01-21T19:02:40.827Z"
   },
   {
    "duration": 8,
    "start_time": "2022-01-21T19:02:40.844Z"
   },
   {
    "duration": 3,
    "start_time": "2022-01-21T19:02:40.854Z"
   },
   {
    "duration": 10,
    "start_time": "2022-01-21T19:02:40.859Z"
   },
   {
    "duration": 3,
    "start_time": "2022-01-21T19:02:40.870Z"
   },
   {
    "duration": 9,
    "start_time": "2022-01-21T19:02:40.899Z"
   },
   {
    "duration": 4,
    "start_time": "2022-01-21T19:02:40.910Z"
   },
   {
    "duration": 5,
    "start_time": "2022-01-21T19:02:40.916Z"
   },
   {
    "duration": 7,
    "start_time": "2022-01-21T19:02:40.923Z"
   },
   {
    "duration": 7,
    "start_time": "2022-01-21T19:02:40.932Z"
   },
   {
    "duration": 5,
    "start_time": "2022-01-21T19:02:40.941Z"
   },
   {
    "duration": 6,
    "start_time": "2022-01-21T19:02:40.948Z"
   },
   {
    "duration": 63,
    "start_time": "2022-01-21T19:02:40.955Z"
   },
   {
    "duration": 5,
    "start_time": "2022-01-21T19:02:41.020Z"
   },
   {
    "duration": 4,
    "start_time": "2022-01-21T19:02:41.026Z"
   },
   {
    "duration": 8,
    "start_time": "2022-01-21T19:02:41.032Z"
   },
   {
    "duration": 21,
    "start_time": "2022-01-21T19:02:41.044Z"
   },
   {
    "duration": 31,
    "start_time": "2022-01-21T19:02:41.068Z"
   },
   {
    "duration": 5,
    "start_time": "2022-01-21T19:02:41.101Z"
   },
   {
    "duration": 13,
    "start_time": "2022-01-21T19:02:41.108Z"
   },
   {
    "duration": 15,
    "start_time": "2022-01-21T19:02:41.122Z"
   },
   {
    "duration": 7,
    "start_time": "2022-01-21T19:02:41.138Z"
   },
   {
    "duration": 18,
    "start_time": "2022-01-21T19:02:41.147Z"
   },
   {
    "duration": 37,
    "start_time": "2022-01-21T19:02:41.167Z"
   },
   {
    "duration": 13,
    "start_time": "2022-01-21T19:02:41.206Z"
   },
   {
    "duration": 10,
    "start_time": "2022-01-21T19:02:41.222Z"
   },
   {
    "duration": 8,
    "start_time": "2022-01-21T19:02:41.233Z"
   },
   {
    "duration": 729,
    "start_time": "2022-01-21T19:02:41.243Z"
   },
   {
    "duration": 2758,
    "start_time": "2022-01-21T19:02:41.974Z"
   },
   {
    "duration": 6,
    "start_time": "2022-01-21T19:02:44.735Z"
   },
   {
    "duration": 14,
    "start_time": "2022-01-21T19:02:44.743Z"
   },
   {
    "duration": 10,
    "start_time": "2022-01-21T19:02:44.759Z"
   },
   {
    "duration": 27,
    "start_time": "2022-01-21T19:02:44.770Z"
   },
   {
    "duration": 29,
    "start_time": "2022-01-21T19:02:44.799Z"
   },
   {
    "duration": 19,
    "start_time": "2022-01-21T19:02:44.830Z"
   },
   {
    "duration": 11,
    "start_time": "2022-01-21T19:02:44.851Z"
   },
   {
    "duration": 19,
    "start_time": "2022-01-21T19:02:44.864Z"
   },
   {
    "duration": 42,
    "start_time": "2022-01-21T19:02:44.884Z"
   },
   {
    "duration": 18,
    "start_time": "2022-01-21T19:02:44.929Z"
   },
   {
    "duration": 36,
    "start_time": "2022-01-21T19:02:44.949Z"
   },
   {
    "duration": 13,
    "start_time": "2022-01-21T19:02:44.988Z"
   },
   {
    "duration": 30,
    "start_time": "2022-01-21T19:02:45.003Z"
   },
   {
    "duration": 27,
    "start_time": "2022-01-21T19:02:45.035Z"
   },
   {
    "duration": 17,
    "start_time": "2022-01-21T19:02:45.064Z"
   },
   {
    "duration": 34,
    "start_time": "2022-01-21T19:02:45.082Z"
   },
   {
    "duration": 30,
    "start_time": "2022-01-21T19:02:45.117Z"
   },
   {
    "duration": 28,
    "start_time": "2022-01-21T19:02:45.149Z"
   },
   {
    "duration": 42,
    "start_time": "2022-01-21T19:02:45.179Z"
   },
   {
    "duration": 24,
    "start_time": "2022-01-21T19:02:45.223Z"
   },
   {
    "duration": 19,
    "start_time": "2022-01-21T19:02:45.249Z"
   },
   {
    "duration": 24,
    "start_time": "2022-01-21T19:02:45.270Z"
   },
   {
    "duration": 16,
    "start_time": "2022-01-21T19:02:45.296Z"
   },
   {
    "duration": 28,
    "start_time": "2022-01-21T19:02:45.314Z"
   },
   {
    "duration": 16,
    "start_time": "2022-01-21T19:02:45.343Z"
   },
   {
    "duration": 28,
    "start_time": "2022-01-21T19:02:45.361Z"
   },
   {
    "duration": 23,
    "start_time": "2022-01-21T19:02:45.390Z"
   },
   {
    "duration": 29,
    "start_time": "2022-01-21T19:02:45.415Z"
   },
   {
    "duration": 25,
    "start_time": "2022-01-21T19:02:45.446Z"
   },
   {
    "duration": 14,
    "start_time": "2022-01-21T19:02:45.473Z"
   },
   {
    "duration": 27,
    "start_time": "2022-01-21T19:02:45.488Z"
   },
   {
    "duration": 31,
    "start_time": "2022-01-21T19:02:45.516Z"
   },
   {
    "duration": 19,
    "start_time": "2022-01-21T19:02:45.552Z"
   },
   {
    "duration": 23,
    "start_time": "2022-01-21T19:02:45.573Z"
   },
   {
    "duration": 23,
    "start_time": "2022-01-21T19:02:45.598Z"
   },
   {
    "duration": 4,
    "start_time": "2022-01-21T19:03:37.280Z"
   },
   {
    "duration": 7,
    "start_time": "2022-01-21T19:03:41.260Z"
   },
   {
    "duration": 4,
    "start_time": "2022-01-21T19:31:13.844Z"
   },
   {
    "duration": 4,
    "start_time": "2022-01-21T19:32:28.277Z"
   },
   {
    "duration": 9,
    "start_time": "2022-01-21T19:56:30.832Z"
   },
   {
    "duration": 19,
    "start_time": "2022-01-21T19:57:01.969Z"
   },
   {
    "duration": 12,
    "start_time": "2022-01-21T20:04:17.611Z"
   },
   {
    "duration": 7,
    "start_time": "2022-01-21T20:05:31.599Z"
   },
   {
    "duration": 3,
    "start_time": "2022-01-21T20:14:42.434Z"
   },
   {
    "duration": 47,
    "start_time": "2022-01-21T20:14:42.441Z"
   },
   {
    "duration": 13,
    "start_time": "2022-01-21T20:14:42.490Z"
   },
   {
    "duration": 10,
    "start_time": "2022-01-21T20:14:42.506Z"
   },
   {
    "duration": 9,
    "start_time": "2022-01-21T20:14:42.519Z"
   },
   {
    "duration": 22,
    "start_time": "2022-01-21T20:14:42.530Z"
   },
   {
    "duration": 729,
    "start_time": "2022-01-21T20:14:42.554Z"
   },
   {
    "duration": 15,
    "start_time": "2022-01-21T20:14:43.285Z"
   },
   {
    "duration": 8,
    "start_time": "2022-01-21T20:14:43.303Z"
   },
   {
    "duration": 3,
    "start_time": "2022-01-21T20:14:43.313Z"
   },
   {
    "duration": 9,
    "start_time": "2022-01-21T20:14:43.318Z"
   },
   {
    "duration": 3,
    "start_time": "2022-01-21T20:14:43.329Z"
   },
   {
    "duration": 11,
    "start_time": "2022-01-21T20:14:43.334Z"
   },
   {
    "duration": 5,
    "start_time": "2022-01-21T20:14:43.346Z"
   },
   {
    "duration": 3,
    "start_time": "2022-01-21T20:14:43.353Z"
   },
   {
    "duration": 6,
    "start_time": "2022-01-21T20:14:43.399Z"
   },
   {
    "duration": 5,
    "start_time": "2022-01-21T20:14:43.407Z"
   },
   {
    "duration": 5,
    "start_time": "2022-01-21T20:14:43.414Z"
   },
   {
    "duration": 4,
    "start_time": "2022-01-21T20:14:43.420Z"
   },
   {
    "duration": 22,
    "start_time": "2022-01-21T20:14:43.425Z"
   },
   {
    "duration": 3,
    "start_time": "2022-01-21T20:14:43.449Z"
   },
   {
    "duration": 7,
    "start_time": "2022-01-21T20:14:43.454Z"
   },
   {
    "duration": 37,
    "start_time": "2022-01-21T20:14:43.462Z"
   },
   {
    "duration": 4,
    "start_time": "2022-01-21T20:14:43.503Z"
   },
   {
    "duration": 6,
    "start_time": "2022-01-21T20:14:43.510Z"
   },
   {
    "duration": 15,
    "start_time": "2022-01-21T20:14:43.518Z"
   },
   {
    "duration": 8,
    "start_time": "2022-01-21T20:14:43.535Z"
   },
   {
    "duration": 12,
    "start_time": "2022-01-21T20:14:43.544Z"
   },
   {
    "duration": 41,
    "start_time": "2022-01-21T20:14:43.558Z"
   },
   {
    "duration": 6,
    "start_time": "2022-01-21T20:14:43.601Z"
   },
   {
    "duration": 709,
    "start_time": "2022-01-21T20:14:43.608Z"
   },
   {
    "duration": 2761,
    "start_time": "2022-01-21T20:14:44.319Z"
   },
   {
    "duration": 16,
    "start_time": "2022-01-21T20:14:47.082Z"
   },
   {
    "duration": 2,
    "start_time": "2022-01-21T20:14:47.100Z"
   },
   {
    "duration": 9,
    "start_time": "2022-01-21T20:14:47.104Z"
   },
   {
    "duration": 6,
    "start_time": "2022-01-21T20:14:47.115Z"
   },
   {
    "duration": 18,
    "start_time": "2022-01-21T20:14:47.122Z"
   },
   {
    "duration": 12,
    "start_time": "2022-01-21T20:14:47.142Z"
   },
   {
    "duration": 3,
    "start_time": "2022-01-21T20:14:47.156Z"
   },
   {
    "duration": 12,
    "start_time": "2022-01-21T20:14:47.161Z"
   },
   {
    "duration": 33,
    "start_time": "2022-01-21T20:14:47.174Z"
   },
   {
    "duration": 7,
    "start_time": "2022-01-21T20:14:47.209Z"
   },
   {
    "duration": 10,
    "start_time": "2022-01-21T20:14:47.218Z"
   },
   {
    "duration": 5,
    "start_time": "2022-01-21T20:14:47.230Z"
   },
   {
    "duration": 13,
    "start_time": "2022-01-21T20:14:47.236Z"
   },
   {
    "duration": 7,
    "start_time": "2022-01-21T20:14:47.251Z"
   },
   {
    "duration": 8,
    "start_time": "2022-01-21T20:14:47.260Z"
   },
   {
    "duration": 33,
    "start_time": "2022-01-21T20:14:47.270Z"
   },
   {
    "duration": 10,
    "start_time": "2022-01-21T20:14:47.305Z"
   },
   {
    "duration": 3,
    "start_time": "2022-01-21T20:14:47.317Z"
   },
   {
    "duration": 15,
    "start_time": "2022-01-21T20:14:47.322Z"
   },
   {
    "duration": 8,
    "start_time": "2022-01-21T20:14:47.339Z"
   },
   {
    "duration": 8,
    "start_time": "2022-01-21T20:14:47.349Z"
   },
   {
    "duration": 47,
    "start_time": "2022-01-21T20:14:47.358Z"
   },
   {
    "duration": 9,
    "start_time": "2022-01-21T20:14:47.407Z"
   },
   {
    "duration": 7,
    "start_time": "2022-01-21T20:14:47.417Z"
   },
   {
    "duration": 8,
    "start_time": "2022-01-21T20:14:47.426Z"
   },
   {
    "duration": 8,
    "start_time": "2022-01-21T20:14:47.436Z"
   },
   {
    "duration": 53,
    "start_time": "2022-01-21T20:14:47.446Z"
   },
   {
    "duration": 7,
    "start_time": "2022-01-21T20:14:47.501Z"
   },
   {
    "duration": 15,
    "start_time": "2022-01-21T20:14:47.509Z"
   },
   {
    "duration": 15,
    "start_time": "2022-01-21T20:14:47.526Z"
   },
   {
    "duration": 19,
    "start_time": "2022-01-21T20:14:47.543Z"
   },
   {
    "duration": 11,
    "start_time": "2022-01-21T20:14:47.564Z"
   },
   {
    "duration": 11,
    "start_time": "2022-01-21T20:14:47.577Z"
   },
   {
    "duration": 24,
    "start_time": "2022-01-21T20:14:47.589Z"
   },
   {
    "duration": 22,
    "start_time": "2022-01-21T20:14:47.615Z"
   },
   {
    "duration": 6,
    "start_time": "2022-01-21T20:29:42.536Z"
   },
   {
    "duration": 6,
    "start_time": "2022-01-21T20:30:09.049Z"
   },
   {
    "duration": 2,
    "start_time": "2022-01-21T20:43:34.641Z"
   },
   {
    "duration": 50,
    "start_time": "2022-01-21T20:43:34.647Z"
   },
   {
    "duration": 13,
    "start_time": "2022-01-21T20:43:34.698Z"
   },
   {
    "duration": 11,
    "start_time": "2022-01-21T20:43:34.713Z"
   },
   {
    "duration": 8,
    "start_time": "2022-01-21T20:43:34.726Z"
   },
   {
    "duration": 13,
    "start_time": "2022-01-21T20:43:34.736Z"
   },
   {
    "duration": 729,
    "start_time": "2022-01-21T20:43:34.750Z"
   },
   {
    "duration": 12,
    "start_time": "2022-01-21T20:43:35.481Z"
   },
   {
    "duration": 7,
    "start_time": "2022-01-21T20:43:35.499Z"
   },
   {
    "duration": 3,
    "start_time": "2022-01-21T20:43:35.508Z"
   },
   {
    "duration": 8,
    "start_time": "2022-01-21T20:43:35.513Z"
   },
   {
    "duration": 3,
    "start_time": "2022-01-21T20:43:35.523Z"
   },
   {
    "duration": 10,
    "start_time": "2022-01-21T20:43:35.527Z"
   },
   {
    "duration": 4,
    "start_time": "2022-01-21T20:43:35.539Z"
   },
   {
    "duration": 5,
    "start_time": "2022-01-21T20:43:35.544Z"
   },
   {
    "duration": 48,
    "start_time": "2022-01-21T20:43:35.551Z"
   },
   {
    "duration": 6,
    "start_time": "2022-01-21T20:43:35.601Z"
   },
   {
    "duration": 7,
    "start_time": "2022-01-21T20:43:35.608Z"
   },
   {
    "duration": 5,
    "start_time": "2022-01-21T20:43:35.616Z"
   },
   {
    "duration": 22,
    "start_time": "2022-01-21T20:43:35.622Z"
   },
   {
    "duration": 4,
    "start_time": "2022-01-21T20:43:35.645Z"
   },
   {
    "duration": 7,
    "start_time": "2022-01-21T20:43:35.650Z"
   },
   {
    "duration": 4,
    "start_time": "2022-01-21T20:43:35.659Z"
   },
   {
    "duration": 33,
    "start_time": "2022-01-21T20:43:35.667Z"
   },
   {
    "duration": 9,
    "start_time": "2022-01-21T20:43:35.702Z"
   },
   {
    "duration": 17,
    "start_time": "2022-01-21T20:43:35.712Z"
   },
   {
    "duration": 11,
    "start_time": "2022-01-21T20:43:35.731Z"
   },
   {
    "duration": 13,
    "start_time": "2022-01-21T20:43:35.744Z"
   },
   {
    "duration": 10,
    "start_time": "2022-01-21T20:43:35.759Z"
   },
   {
    "duration": 29,
    "start_time": "2022-01-21T20:43:35.771Z"
   },
   {
    "duration": 2647,
    "start_time": "2022-01-21T20:43:35.802Z"
   },
   {
    "duration": 6,
    "start_time": "2022-01-21T20:43:38.451Z"
   },
   {
    "duration": 4,
    "start_time": "2022-01-21T20:43:38.459Z"
   },
   {
    "duration": 4,
    "start_time": "2022-01-21T20:43:38.465Z"
   },
   {
    "duration": 27,
    "start_time": "2022-01-21T20:43:38.471Z"
   },
   {
    "duration": 8,
    "start_time": "2022-01-21T20:43:38.500Z"
   },
   {
    "duration": 11,
    "start_time": "2022-01-21T20:43:38.509Z"
   },
   {
    "duration": 3,
    "start_time": "2022-01-21T20:43:38.521Z"
   },
   {
    "duration": 6,
    "start_time": "2022-01-21T20:43:38.526Z"
   },
   {
    "duration": 14,
    "start_time": "2022-01-21T20:43:38.533Z"
   },
   {
    "duration": 8,
    "start_time": "2022-01-21T20:43:38.548Z"
   },
   {
    "duration": 40,
    "start_time": "2022-01-21T20:43:38.558Z"
   },
   {
    "duration": 4,
    "start_time": "2022-01-21T20:43:38.600Z"
   },
   {
    "duration": 13,
    "start_time": "2022-01-21T20:43:38.606Z"
   },
   {
    "duration": 5,
    "start_time": "2022-01-21T20:43:38.620Z"
   },
   {
    "duration": 7,
    "start_time": "2022-01-21T20:43:38.626Z"
   },
   {
    "duration": 10,
    "start_time": "2022-01-21T20:43:38.634Z"
   },
   {
    "duration": 9,
    "start_time": "2022-01-21T20:43:38.646Z"
   },
   {
    "duration": 2,
    "start_time": "2022-01-21T20:43:38.656Z"
   },
   {
    "duration": 50,
    "start_time": "2022-01-21T20:43:38.660Z"
   },
   {
    "duration": 8,
    "start_time": "2022-01-21T20:43:38.712Z"
   },
   {
    "duration": 7,
    "start_time": "2022-01-21T20:43:38.722Z"
   },
   {
    "duration": 9,
    "start_time": "2022-01-21T20:43:38.730Z"
   },
   {
    "duration": 9,
    "start_time": "2022-01-21T20:43:38.741Z"
   },
   {
    "duration": 5,
    "start_time": "2022-01-21T20:43:38.752Z"
   },
   {
    "duration": 11,
    "start_time": "2022-01-21T20:43:38.759Z"
   },
   {
    "duration": 29,
    "start_time": "2022-01-21T20:43:38.772Z"
   },
   {
    "duration": 11,
    "start_time": "2022-01-21T20:43:38.803Z"
   },
   {
    "duration": 7,
    "start_time": "2022-01-21T20:43:38.816Z"
   },
   {
    "duration": 5,
    "start_time": "2022-01-21T20:43:38.824Z"
   },
   {
    "duration": 8,
    "start_time": "2022-01-21T20:43:38.831Z"
   },
   {
    "duration": 8,
    "start_time": "2022-01-21T20:43:38.841Z"
   },
   {
    "duration": 8,
    "start_time": "2022-01-21T20:43:38.851Z"
   },
   {
    "duration": 39,
    "start_time": "2022-01-21T20:43:38.861Z"
   },
   {
    "duration": 10,
    "start_time": "2022-01-21T20:43:38.902Z"
   },
   {
    "duration": 9,
    "start_time": "2022-01-21T20:43:38.914Z"
   },
   {
    "duration": 700,
    "start_time": "2022-01-21T20:44:41.574Z"
   },
   {
    "duration": 2,
    "start_time": "2022-01-21T20:44:46.966Z"
   },
   {
    "duration": 53,
    "start_time": "2022-01-21T20:44:46.973Z"
   },
   {
    "duration": 13,
    "start_time": "2022-01-21T20:44:47.028Z"
   },
   {
    "duration": 15,
    "start_time": "2022-01-21T20:44:47.043Z"
   },
   {
    "duration": 10,
    "start_time": "2022-01-21T20:44:47.060Z"
   },
   {
    "duration": 36,
    "start_time": "2022-01-21T20:44:47.071Z"
   },
   {
    "duration": 725,
    "start_time": "2022-01-21T20:44:47.108Z"
   },
   {
    "duration": 13,
    "start_time": "2022-01-21T20:44:47.835Z"
   },
   {
    "duration": 7,
    "start_time": "2022-01-21T20:44:47.852Z"
   },
   {
    "duration": 3,
    "start_time": "2022-01-21T20:44:47.861Z"
   },
   {
    "duration": 34,
    "start_time": "2022-01-21T20:44:47.865Z"
   },
   {
    "duration": 3,
    "start_time": "2022-01-21T20:44:47.901Z"
   },
   {
    "duration": 11,
    "start_time": "2022-01-21T20:44:47.906Z"
   },
   {
    "duration": 3,
    "start_time": "2022-01-21T20:44:47.919Z"
   },
   {
    "duration": 5,
    "start_time": "2022-01-21T20:44:47.924Z"
   },
   {
    "duration": 8,
    "start_time": "2022-01-21T20:44:47.930Z"
   },
   {
    "duration": 6,
    "start_time": "2022-01-21T20:44:47.939Z"
   },
   {
    "duration": 7,
    "start_time": "2022-01-21T20:44:47.946Z"
   },
   {
    "duration": 3,
    "start_time": "2022-01-21T20:44:47.954Z"
   },
   {
    "duration": 24,
    "start_time": "2022-01-21T20:44:47.999Z"
   },
   {
    "duration": 4,
    "start_time": "2022-01-21T20:44:48.025Z"
   },
   {
    "duration": 9,
    "start_time": "2022-01-21T20:44:48.031Z"
   },
   {
    "duration": 4,
    "start_time": "2022-01-21T20:44:48.041Z"
   },
   {
    "duration": 3,
    "start_time": "2022-01-21T20:44:48.049Z"
   },
   {
    "duration": 7,
    "start_time": "2022-01-21T20:44:48.055Z"
   },
   {
    "duration": 47,
    "start_time": "2022-01-21T20:44:48.063Z"
   },
   {
    "duration": 8,
    "start_time": "2022-01-21T20:44:48.111Z"
   },
   {
    "duration": 16,
    "start_time": "2022-01-21T20:44:48.121Z"
   },
   {
    "duration": 11,
    "start_time": "2022-01-21T20:44:48.138Z"
   },
   {
    "duration": 7,
    "start_time": "2022-01-21T20:44:48.150Z"
   },
   {
    "duration": 739,
    "start_time": "2022-01-21T20:44:48.159Z"
   },
   {
    "duration": 2644,
    "start_time": "2022-01-21T20:44:48.900Z"
   },
   {
    "duration": 5,
    "start_time": "2022-01-21T20:44:51.546Z"
   },
   {
    "duration": 23,
    "start_time": "2022-01-21T20:44:51.552Z"
   },
   {
    "duration": 16,
    "start_time": "2022-01-21T20:44:51.576Z"
   },
   {
    "duration": 4,
    "start_time": "2022-01-21T20:44:51.594Z"
   },
   {
    "duration": 15,
    "start_time": "2022-01-21T20:44:51.600Z"
   },
   {
    "duration": 12,
    "start_time": "2022-01-21T20:44:51.617Z"
   },
   {
    "duration": 3,
    "start_time": "2022-01-21T20:44:51.630Z"
   },
   {
    "duration": 9,
    "start_time": "2022-01-21T20:44:51.634Z"
   },
   {
    "duration": 17,
    "start_time": "2022-01-21T20:44:51.644Z"
   },
   {
    "duration": 9,
    "start_time": "2022-01-21T20:44:51.663Z"
   },
   {
    "duration": 33,
    "start_time": "2022-01-21T20:44:51.674Z"
   },
   {
    "duration": 4,
    "start_time": "2022-01-21T20:44:51.708Z"
   },
   {
    "duration": 14,
    "start_time": "2022-01-21T20:44:51.714Z"
   },
   {
    "duration": 4,
    "start_time": "2022-01-21T20:44:51.729Z"
   },
   {
    "duration": 10,
    "start_time": "2022-01-21T20:44:51.734Z"
   },
   {
    "duration": 17,
    "start_time": "2022-01-21T20:44:51.746Z"
   },
   {
    "duration": 10,
    "start_time": "2022-01-21T20:44:51.764Z"
   },
   {
    "duration": 2,
    "start_time": "2022-01-21T20:44:51.775Z"
   },
   {
    "duration": 13,
    "start_time": "2022-01-21T20:44:51.799Z"
   },
   {
    "duration": 12,
    "start_time": "2022-01-21T20:44:51.814Z"
   },
   {
    "duration": 13,
    "start_time": "2022-01-21T20:44:51.827Z"
   },
   {
    "duration": 7,
    "start_time": "2022-01-21T20:44:51.842Z"
   },
   {
    "duration": 8,
    "start_time": "2022-01-21T20:44:51.851Z"
   },
   {
    "duration": 5,
    "start_time": "2022-01-21T20:44:51.861Z"
   },
   {
    "duration": 35,
    "start_time": "2022-01-21T20:44:51.868Z"
   },
   {
    "duration": 8,
    "start_time": "2022-01-21T20:44:51.905Z"
   },
   {
    "duration": 12,
    "start_time": "2022-01-21T20:44:51.914Z"
   },
   {
    "duration": 7,
    "start_time": "2022-01-21T20:44:51.928Z"
   },
   {
    "duration": 5,
    "start_time": "2022-01-21T20:44:51.937Z"
   },
   {
    "duration": 10,
    "start_time": "2022-01-21T20:44:51.943Z"
   },
   {
    "duration": 9,
    "start_time": "2022-01-21T20:44:51.954Z"
   },
   {
    "duration": 7,
    "start_time": "2022-01-21T20:44:51.999Z"
   },
   {
    "duration": 5,
    "start_time": "2022-01-21T20:44:52.008Z"
   },
   {
    "duration": 11,
    "start_time": "2022-01-21T20:44:52.014Z"
   },
   {
    "duration": 9,
    "start_time": "2022-01-21T20:44:52.026Z"
   },
   {
    "duration": 713,
    "start_time": "2022-01-21T20:56:05.976Z"
   },
   {
    "duration": 2675,
    "start_time": "2022-01-21T20:58:21.709Z"
   },
   {
    "duration": 12,
    "start_time": "2022-01-21T21:17:51.133Z"
   },
   {
    "duration": 4,
    "start_time": "2022-01-21T21:17:56.914Z"
   },
   {
    "duration": 10,
    "start_time": "2022-01-21T21:17:58.040Z"
   },
   {
    "duration": 8,
    "start_time": "2022-01-21T21:18:27.941Z"
   },
   {
    "duration": 6,
    "start_time": "2022-01-21T21:19:07.686Z"
   },
   {
    "duration": 10,
    "start_time": "2022-01-21T21:19:09.531Z"
   },
   {
    "duration": 4,
    "start_time": "2022-01-21T21:26:06.655Z"
   },
   {
    "duration": 11,
    "start_time": "2022-01-21T21:27:04.626Z"
   },
   {
    "duration": 3,
    "start_time": "2022-01-21T21:31:51.779Z"
   },
   {
    "duration": 5,
    "start_time": "2022-01-21T21:34:16.801Z"
   },
   {
    "duration": 6,
    "start_time": "2022-01-21T21:37:29.272Z"
   },
   {
    "duration": 10,
    "start_time": "2022-01-21T21:37:30.488Z"
   },
   {
    "duration": 6,
    "start_time": "2022-01-21T21:48:44.537Z"
   },
   {
    "duration": 4,
    "start_time": "2022-01-21T21:57:48.484Z"
   },
   {
    "duration": 5,
    "start_time": "2022-01-21T21:58:07.156Z"
   },
   {
    "duration": 4,
    "start_time": "2022-01-21T22:03:47.906Z"
   },
   {
    "duration": 11,
    "start_time": "2022-01-21T22:06:40.636Z"
   },
   {
    "duration": 4,
    "start_time": "2022-01-21T22:07:58.901Z"
   },
   {
    "duration": 11,
    "start_time": "2022-01-21T22:08:21.785Z"
   },
   {
    "duration": 2,
    "start_time": "2022-01-21T22:08:33.001Z"
   },
   {
    "duration": 55,
    "start_time": "2022-01-21T22:08:33.008Z"
   },
   {
    "duration": 15,
    "start_time": "2022-01-21T22:08:33.065Z"
   },
   {
    "duration": 26,
    "start_time": "2022-01-21T22:08:33.083Z"
   },
   {
    "duration": 11,
    "start_time": "2022-01-21T22:08:33.111Z"
   },
   {
    "duration": 16,
    "start_time": "2022-01-21T22:08:33.124Z"
   },
   {
    "duration": 752,
    "start_time": "2022-01-21T22:08:33.142Z"
   },
   {
    "duration": 21,
    "start_time": "2022-01-21T22:08:33.895Z"
   },
   {
    "duration": 10,
    "start_time": "2022-01-21T22:08:33.919Z"
   },
   {
    "duration": 3,
    "start_time": "2022-01-21T22:08:33.931Z"
   },
   {
    "duration": 8,
    "start_time": "2022-01-21T22:08:33.936Z"
   },
   {
    "duration": 3,
    "start_time": "2022-01-21T22:08:33.946Z"
   },
   {
    "duration": 10,
    "start_time": "2022-01-21T22:08:33.951Z"
   },
   {
    "duration": 38,
    "start_time": "2022-01-21T22:08:33.963Z"
   },
   {
    "duration": 5,
    "start_time": "2022-01-21T22:08:34.003Z"
   },
   {
    "duration": 8,
    "start_time": "2022-01-21T22:08:34.010Z"
   },
   {
    "duration": 7,
    "start_time": "2022-01-21T22:08:34.020Z"
   },
   {
    "duration": 14,
    "start_time": "2022-01-21T22:08:34.029Z"
   },
   {
    "duration": 7,
    "start_time": "2022-01-21T22:08:34.045Z"
   },
   {
    "duration": 61,
    "start_time": "2022-01-21T22:08:34.053Z"
   },
   {
    "duration": 4,
    "start_time": "2022-01-21T22:08:34.115Z"
   },
   {
    "duration": 10,
    "start_time": "2022-01-21T22:08:34.120Z"
   },
   {
    "duration": 5,
    "start_time": "2022-01-21T22:08:34.131Z"
   },
   {
    "duration": 4,
    "start_time": "2022-01-21T22:08:34.140Z"
   },
   {
    "duration": 11,
    "start_time": "2022-01-21T22:08:34.146Z"
   },
   {
    "duration": 53,
    "start_time": "2022-01-21T22:08:34.159Z"
   },
   {
    "duration": 8,
    "start_time": "2022-01-21T22:08:34.213Z"
   },
   {
    "duration": 12,
    "start_time": "2022-01-21T22:08:34.223Z"
   },
   {
    "duration": 15,
    "start_time": "2022-01-21T22:08:34.237Z"
   },
   {
    "duration": 7,
    "start_time": "2022-01-21T22:08:34.254Z"
   },
   {
    "duration": 758,
    "start_time": "2022-01-21T22:08:34.263Z"
   },
   {
    "duration": 2766,
    "start_time": "2022-01-21T22:08:35.023Z"
   },
   {
    "duration": 5,
    "start_time": "2022-01-21T22:08:37.799Z"
   },
   {
    "duration": 14,
    "start_time": "2022-01-21T22:08:37.805Z"
   },
   {
    "duration": 12,
    "start_time": "2022-01-21T22:08:37.821Z"
   },
   {
    "duration": 3,
    "start_time": "2022-01-21T22:08:37.835Z"
   },
   {
    "duration": 8,
    "start_time": "2022-01-21T22:08:37.840Z"
   },
   {
    "duration": 9,
    "start_time": "2022-01-21T22:08:37.850Z"
   },
   {
    "duration": 42,
    "start_time": "2022-01-21T22:08:37.861Z"
   },
   {
    "duration": 7,
    "start_time": "2022-01-21T22:08:37.905Z"
   },
   {
    "duration": 4,
    "start_time": "2022-01-21T22:08:37.914Z"
   },
   {
    "duration": 14,
    "start_time": "2022-01-21T22:08:37.920Z"
   },
   {
    "duration": 3,
    "start_time": "2022-01-21T22:08:37.936Z"
   },
   {
    "duration": 7,
    "start_time": "2022-01-21T22:08:37.941Z"
   },
   {
    "duration": 50,
    "start_time": "2022-01-21T22:08:37.949Z"
   },
   {
    "duration": 11,
    "start_time": "2022-01-21T22:08:38.001Z"
   },
   {
    "duration": 2,
    "start_time": "2022-01-21T22:08:38.014Z"
   },
   {
    "duration": 15,
    "start_time": "2022-01-21T22:08:38.019Z"
   },
   {
    "duration": 9,
    "start_time": "2022-01-21T22:08:38.036Z"
   },
   {
    "duration": 8,
    "start_time": "2022-01-21T22:08:38.047Z"
   },
   {
    "duration": 47,
    "start_time": "2022-01-21T22:08:38.057Z"
   },
   {
    "duration": 7,
    "start_time": "2022-01-21T22:08:38.106Z"
   },
   {
    "duration": 6,
    "start_time": "2022-01-21T22:08:38.115Z"
   },
   {
    "duration": 9,
    "start_time": "2022-01-21T22:08:38.123Z"
   },
   {
    "duration": 8,
    "start_time": "2022-01-21T22:08:38.133Z"
   },
   {
    "duration": 7,
    "start_time": "2022-01-21T22:08:38.143Z"
   },
   {
    "duration": 7,
    "start_time": "2022-01-21T22:08:38.152Z"
   },
   {
    "duration": 41,
    "start_time": "2022-01-21T22:08:38.160Z"
   },
   {
    "duration": 9,
    "start_time": "2022-01-21T22:08:38.203Z"
   },
   {
    "duration": 9,
    "start_time": "2022-01-21T22:08:38.214Z"
   },
   {
    "duration": 9,
    "start_time": "2022-01-21T22:08:38.224Z"
   },
   {
    "duration": 5,
    "start_time": "2022-01-21T22:08:38.234Z"
   },
   {
    "duration": 8,
    "start_time": "2022-01-21T22:08:38.241Z"
   },
   {
    "duration": 7,
    "start_time": "2022-01-21T22:08:38.251Z"
   },
   {
    "duration": 8,
    "start_time": "2022-01-21T22:22:22.754Z"
   },
   {
    "duration": 394,
    "start_time": "2022-01-21T22:35:45.038Z"
   },
   {
    "duration": 7,
    "start_time": "2022-01-21T22:39:31.772Z"
   },
   {
    "duration": 4,
    "start_time": "2022-01-21T22:43:10.168Z"
   },
   {
    "duration": 13,
    "start_time": "2022-01-21T22:43:34.274Z"
   },
   {
    "duration": 18,
    "start_time": "2022-01-21T22:45:41.684Z"
   },
   {
    "duration": 9,
    "start_time": "2022-01-21T22:46:47.699Z"
   },
   {
    "duration": 5,
    "start_time": "2022-01-21T22:53:38.236Z"
   },
   {
    "duration": 10,
    "start_time": "2022-01-21T22:55:00.626Z"
   },
   {
    "duration": 2453,
    "start_time": "2022-01-21T22:56:06.146Z"
   },
   {
    "duration": 95,
    "start_time": "2022-01-21T22:59:28.827Z"
   },
   {
    "duration": 6,
    "start_time": "2022-01-21T23:01:00.529Z"
   },
   {
    "duration": 9,
    "start_time": "2022-01-21T23:03:57.515Z"
   },
   {
    "duration": 8,
    "start_time": "2022-01-21T23:05:38.280Z"
   },
   {
    "duration": 7,
    "start_time": "2022-01-21T23:07:11.957Z"
   },
   {
    "duration": 6,
    "start_time": "2022-01-21T23:07:13.012Z"
   },
   {
    "duration": 8,
    "start_time": "2022-01-21T23:07:14.913Z"
   },
   {
    "duration": 8,
    "start_time": "2022-01-21T23:07:20.675Z"
   },
   {
    "duration": 9,
    "start_time": "2022-01-21T23:09:37.311Z"
   },
   {
    "duration": 6,
    "start_time": "2022-01-21T23:09:38.199Z"
   },
   {
    "duration": 8,
    "start_time": "2022-01-21T23:09:39.024Z"
   },
   {
    "duration": 9,
    "start_time": "2022-01-21T23:09:41.170Z"
   },
   {
    "duration": 2,
    "start_time": "2022-01-21T23:10:28.900Z"
   },
   {
    "duration": 51,
    "start_time": "2022-01-21T23:10:28.904Z"
   },
   {
    "duration": 13,
    "start_time": "2022-01-21T23:10:28.957Z"
   },
   {
    "duration": 12,
    "start_time": "2022-01-21T23:10:28.971Z"
   },
   {
    "duration": 21,
    "start_time": "2022-01-21T23:10:28.985Z"
   },
   {
    "duration": 13,
    "start_time": "2022-01-21T23:10:29.008Z"
   },
   {
    "duration": 641,
    "start_time": "2022-01-21T23:10:29.023Z"
   },
   {
    "duration": 12,
    "start_time": "2022-01-21T23:10:29.666Z"
   },
   {
    "duration": 19,
    "start_time": "2022-01-21T23:10:29.680Z"
   },
   {
    "duration": 4,
    "start_time": "2022-01-21T23:10:29.701Z"
   },
   {
    "duration": 9,
    "start_time": "2022-01-21T23:10:29.706Z"
   },
   {
    "duration": 3,
    "start_time": "2022-01-21T23:10:29.717Z"
   },
   {
    "duration": 10,
    "start_time": "2022-01-21T23:10:29.722Z"
   },
   {
    "duration": 5,
    "start_time": "2022-01-21T23:10:29.734Z"
   },
   {
    "duration": 6,
    "start_time": "2022-01-21T23:10:29.740Z"
   },
   {
    "duration": 8,
    "start_time": "2022-01-21T23:10:29.748Z"
   },
   {
    "duration": 6,
    "start_time": "2022-01-21T23:10:29.757Z"
   },
   {
    "duration": 39,
    "start_time": "2022-01-21T23:10:29.764Z"
   },
   {
    "duration": 4,
    "start_time": "2022-01-21T23:10:29.805Z"
   },
   {
    "duration": 22,
    "start_time": "2022-01-21T23:10:29.811Z"
   },
   {
    "duration": 3,
    "start_time": "2022-01-21T23:10:29.834Z"
   },
   {
    "duration": 9,
    "start_time": "2022-01-21T23:10:29.839Z"
   },
   {
    "duration": 5,
    "start_time": "2022-01-21T23:10:29.850Z"
   },
   {
    "duration": 5,
    "start_time": "2022-01-21T23:10:29.856Z"
   },
   {
    "duration": 42,
    "start_time": "2022-01-21T23:10:29.862Z"
   },
   {
    "duration": 7,
    "start_time": "2022-01-21T23:10:29.905Z"
   },
   {
    "duration": 20,
    "start_time": "2022-01-21T23:10:29.916Z"
   },
   {
    "duration": 6,
    "start_time": "2022-01-21T23:10:29.939Z"
   },
   {
    "duration": 15,
    "start_time": "2022-01-21T23:10:29.947Z"
   },
   {
    "duration": 8,
    "start_time": "2022-01-21T23:10:29.964Z"
   },
   {
    "duration": 6,
    "start_time": "2022-01-21T23:10:29.999Z"
   },
   {
    "duration": 736,
    "start_time": "2022-01-21T23:10:30.006Z"
   },
   {
    "duration": 2624,
    "start_time": "2022-01-21T23:10:30.744Z"
   },
   {
    "duration": 5,
    "start_time": "2022-01-21T23:10:33.370Z"
   },
   {
    "duration": 28,
    "start_time": "2022-01-21T23:10:33.377Z"
   },
   {
    "duration": 32,
    "start_time": "2022-01-21T23:10:33.406Z"
   },
   {
    "duration": 14,
    "start_time": "2022-01-21T23:10:33.440Z"
   },
   {
    "duration": 37,
    "start_time": "2022-01-21T23:10:33.456Z"
   },
   {
    "duration": 29,
    "start_time": "2022-01-21T23:10:33.494Z"
   },
   {
    "duration": 45,
    "start_time": "2022-01-21T23:10:33.525Z"
   },
   {
    "duration": 30,
    "start_time": "2022-01-21T23:10:33.571Z"
   },
   {
    "duration": 16,
    "start_time": "2022-01-21T23:10:33.603Z"
   },
   {
    "duration": 42,
    "start_time": "2022-01-21T23:10:33.620Z"
   },
   {
    "duration": 37,
    "start_time": "2022-01-21T23:10:33.664Z"
   },
   {
    "duration": 31,
    "start_time": "2022-01-21T23:10:33.703Z"
   },
   {
    "duration": 38,
    "start_time": "2022-01-21T23:10:33.736Z"
   },
   {
    "duration": 25,
    "start_time": "2022-01-21T23:10:33.776Z"
   },
   {
    "duration": 52,
    "start_time": "2022-01-21T23:10:33.803Z"
   },
   {
    "duration": 52,
    "start_time": "2022-01-21T23:10:33.856Z"
   },
   {
    "duration": 22,
    "start_time": "2022-01-21T23:10:33.909Z"
   },
   {
    "duration": 44,
    "start_time": "2022-01-21T23:10:33.932Z"
   },
   {
    "duration": 18,
    "start_time": "2022-01-21T23:10:33.978Z"
   },
   {
    "duration": 47,
    "start_time": "2022-01-21T23:10:33.997Z"
   },
   {
    "duration": 40,
    "start_time": "2022-01-21T23:10:34.046Z"
   },
   {
    "duration": 36,
    "start_time": "2022-01-21T23:10:34.087Z"
   },
   {
    "duration": 11,
    "start_time": "2022-01-21T23:10:34.125Z"
   },
   {
    "duration": 17,
    "start_time": "2022-01-21T23:10:34.137Z"
   },
   {
    "duration": 12,
    "start_time": "2022-01-21T23:10:34.156Z"
   },
   {
    "duration": 24,
    "start_time": "2022-01-21T23:10:34.170Z"
   },
   {
    "duration": 24,
    "start_time": "2022-01-21T23:10:34.196Z"
   },
   {
    "duration": 18,
    "start_time": "2022-01-21T23:10:34.222Z"
   },
   {
    "duration": 24,
    "start_time": "2022-01-21T23:10:34.242Z"
   },
   {
    "duration": 8,
    "start_time": "2022-01-21T23:11:10.166Z"
   },
   {
    "duration": 5,
    "start_time": "2022-01-21T23:15:18.858Z"
   },
   {
    "duration": 3,
    "start_time": "2022-01-21T23:22:35.887Z"
   },
   {
    "duration": 58,
    "start_time": "2022-01-21T23:22:35.894Z"
   },
   {
    "duration": 13,
    "start_time": "2022-01-21T23:22:35.954Z"
   },
   {
    "duration": 13,
    "start_time": "2022-01-21T23:22:35.969Z"
   },
   {
    "duration": 21,
    "start_time": "2022-01-21T23:22:35.984Z"
   },
   {
    "duration": 19,
    "start_time": "2022-01-21T23:22:36.007Z"
   },
   {
    "duration": 723,
    "start_time": "2022-01-21T23:22:36.027Z"
   },
   {
    "duration": 13,
    "start_time": "2022-01-21T23:22:36.752Z"
   },
   {
    "duration": 8,
    "start_time": "2022-01-21T23:22:36.769Z"
   },
   {
    "duration": 20,
    "start_time": "2022-01-21T23:22:36.779Z"
   },
   {
    "duration": 12,
    "start_time": "2022-01-21T23:22:36.801Z"
   },
   {
    "duration": 4,
    "start_time": "2022-01-21T23:22:36.815Z"
   },
   {
    "duration": 11,
    "start_time": "2022-01-21T23:22:36.821Z"
   },
   {
    "duration": 5,
    "start_time": "2022-01-21T23:22:36.833Z"
   },
   {
    "duration": 8,
    "start_time": "2022-01-21T23:22:36.840Z"
   },
   {
    "duration": 14,
    "start_time": "2022-01-21T23:22:36.849Z"
   },
   {
    "duration": 40,
    "start_time": "2022-01-21T23:22:36.864Z"
   },
   {
    "duration": 6,
    "start_time": "2022-01-21T23:22:36.905Z"
   },
   {
    "duration": 5,
    "start_time": "2022-01-21T23:22:36.913Z"
   },
   {
    "duration": 24,
    "start_time": "2022-01-21T23:22:36.919Z"
   },
   {
    "duration": 3,
    "start_time": "2022-01-21T23:22:36.944Z"
   },
   {
    "duration": 8,
    "start_time": "2022-01-21T23:22:36.949Z"
   },
   {
    "duration": 4,
    "start_time": "2022-01-21T23:22:36.958Z"
   },
   {
    "duration": 36,
    "start_time": "2022-01-21T23:22:36.965Z"
   },
   {
    "duration": 17,
    "start_time": "2022-01-21T23:22:37.003Z"
   },
   {
    "duration": 7,
    "start_time": "2022-01-21T23:22:37.021Z"
   },
   {
    "duration": 20,
    "start_time": "2022-01-21T23:22:37.030Z"
   },
   {
    "duration": 9,
    "start_time": "2022-01-21T23:22:37.052Z"
   },
   {
    "duration": 39,
    "start_time": "2022-01-21T23:22:37.062Z"
   },
   {
    "duration": 12,
    "start_time": "2022-01-21T23:22:37.103Z"
   },
   {
    "duration": 8,
    "start_time": "2022-01-21T23:22:37.116Z"
   },
   {
    "duration": 719,
    "start_time": "2022-01-21T23:22:37.125Z"
   },
   {
    "duration": 2506,
    "start_time": "2022-01-21T23:22:37.846Z"
   },
   {
    "duration": 5,
    "start_time": "2022-01-21T23:22:40.353Z"
   },
   {
    "duration": 12,
    "start_time": "2022-01-21T23:22:40.359Z"
   },
   {
    "duration": 29,
    "start_time": "2022-01-21T23:22:40.373Z"
   },
   {
    "duration": 3,
    "start_time": "2022-01-21T23:22:40.403Z"
   },
   {
    "duration": 8,
    "start_time": "2022-01-21T23:22:40.407Z"
   },
   {
    "duration": 8,
    "start_time": "2022-01-21T23:22:40.417Z"
   },
   {
    "duration": 12,
    "start_time": "2022-01-21T23:22:40.426Z"
   },
   {
    "duration": 5,
    "start_time": "2022-01-21T23:22:40.439Z"
   },
   {
    "duration": 5,
    "start_time": "2022-01-21T23:22:40.446Z"
   },
   {
    "duration": 15,
    "start_time": "2022-01-21T23:22:40.453Z"
   },
   {
    "duration": 2,
    "start_time": "2022-01-21T23:22:40.499Z"
   },
   {
    "duration": 7,
    "start_time": "2022-01-21T23:22:40.503Z"
   },
   {
    "duration": 9,
    "start_time": "2022-01-21T23:22:40.511Z"
   },
   {
    "duration": 9,
    "start_time": "2022-01-21T23:22:40.521Z"
   },
   {
    "duration": 7,
    "start_time": "2022-01-21T23:22:40.531Z"
   },
   {
    "duration": 7,
    "start_time": "2022-01-21T23:22:40.539Z"
   },
   {
    "duration": 7,
    "start_time": "2022-01-21T23:22:40.547Z"
   },
   {
    "duration": 43,
    "start_time": "2022-01-21T23:22:40.556Z"
   },
   {
    "duration": 6,
    "start_time": "2022-01-21T23:22:40.600Z"
   },
   {
    "duration": 10,
    "start_time": "2022-01-21T23:22:40.608Z"
   },
   {
    "duration": 12,
    "start_time": "2022-01-21T23:22:40.619Z"
   },
   {
    "duration": 9,
    "start_time": "2022-01-21T23:22:40.632Z"
   },
   {
    "duration": 5,
    "start_time": "2022-01-21T23:22:40.642Z"
   },
   {
    "duration": 8,
    "start_time": "2022-01-21T23:22:40.649Z"
   },
   {
    "duration": 9,
    "start_time": "2022-01-21T23:22:40.659Z"
   },
   {
    "duration": 33,
    "start_time": "2022-01-21T23:22:40.669Z"
   },
   {
    "duration": 5,
    "start_time": "2022-01-21T23:22:40.703Z"
   },
   {
    "duration": 10,
    "start_time": "2022-01-21T23:22:40.710Z"
   },
   {
    "duration": 10,
    "start_time": "2022-01-21T23:22:40.721Z"
   },
   {
    "duration": 3,
    "start_time": "2022-01-21T23:53:26.918Z"
   },
   {
    "duration": 54,
    "start_time": "2022-01-21T23:53:26.922Z"
   },
   {
    "duration": 12,
    "start_time": "2022-01-21T23:53:26.978Z"
   },
   {
    "duration": 13,
    "start_time": "2022-01-21T23:53:26.992Z"
   },
   {
    "duration": 9,
    "start_time": "2022-01-21T23:53:27.007Z"
   },
   {
    "duration": 16,
    "start_time": "2022-01-21T23:53:27.018Z"
   },
   {
    "duration": 670,
    "start_time": "2022-01-21T23:53:27.036Z"
   },
   {
    "duration": 13,
    "start_time": "2022-01-21T23:53:27.707Z"
   },
   {
    "duration": 7,
    "start_time": "2022-01-21T23:53:27.723Z"
   },
   {
    "duration": 3,
    "start_time": "2022-01-21T23:53:27.732Z"
   },
   {
    "duration": 9,
    "start_time": "2022-01-21T23:53:27.737Z"
   },
   {
    "duration": 3,
    "start_time": "2022-01-21T23:53:27.747Z"
   },
   {
    "duration": 12,
    "start_time": "2022-01-21T23:53:27.752Z"
   },
   {
    "duration": 37,
    "start_time": "2022-01-21T23:53:27.765Z"
   },
   {
    "duration": 5,
    "start_time": "2022-01-21T23:53:27.804Z"
   },
   {
    "duration": 8,
    "start_time": "2022-01-21T23:53:27.810Z"
   },
   {
    "duration": 7,
    "start_time": "2022-01-21T23:53:27.819Z"
   },
   {
    "duration": 5,
    "start_time": "2022-01-21T23:53:27.828Z"
   },
   {
    "duration": 4,
    "start_time": "2022-01-21T23:53:27.834Z"
   },
   {
    "duration": 21,
    "start_time": "2022-01-21T23:53:27.840Z"
   },
   {
    "duration": 38,
    "start_time": "2022-01-21T23:53:27.862Z"
   },
   {
    "duration": 8,
    "start_time": "2022-01-21T23:53:27.901Z"
   },
   {
    "duration": 6,
    "start_time": "2022-01-21T23:53:27.910Z"
   },
   {
    "duration": 5,
    "start_time": "2022-01-21T23:53:27.917Z"
   },
   {
    "duration": 12,
    "start_time": "2022-01-21T23:53:27.923Z"
   },
   {
    "duration": 7,
    "start_time": "2022-01-21T23:53:27.937Z"
   },
   {
    "duration": 16,
    "start_time": "2022-01-21T23:53:27.948Z"
   },
   {
    "duration": 36,
    "start_time": "2022-01-21T23:53:27.966Z"
   },
   {
    "duration": 12,
    "start_time": "2022-01-21T23:53:28.004Z"
   },
   {
    "duration": 12,
    "start_time": "2022-01-21T23:53:28.018Z"
   },
   {
    "duration": 8,
    "start_time": "2022-01-21T23:53:28.032Z"
   },
   {
    "duration": 718,
    "start_time": "2022-01-21T23:53:28.042Z"
   },
   {
    "duration": 2574,
    "start_time": "2022-01-21T23:53:28.761Z"
   },
   {
    "duration": 5,
    "start_time": "2022-01-21T23:53:31.337Z"
   },
   {
    "duration": 22,
    "start_time": "2022-01-21T23:53:31.344Z"
   },
   {
    "duration": 22,
    "start_time": "2022-01-21T23:53:31.367Z"
   },
   {
    "duration": 7,
    "start_time": "2022-01-21T23:53:31.391Z"
   },
   {
    "duration": 11,
    "start_time": "2022-01-21T23:53:31.400Z"
   },
   {
    "duration": 7,
    "start_time": "2022-01-21T23:53:31.413Z"
   },
   {
    "duration": 16,
    "start_time": "2022-01-21T23:53:31.422Z"
   },
   {
    "duration": 7,
    "start_time": "2022-01-21T23:53:31.440Z"
   },
   {
    "duration": 6,
    "start_time": "2022-01-21T23:53:31.449Z"
   },
   {
    "duration": 13,
    "start_time": "2022-01-21T23:53:31.457Z"
   },
   {
    "duration": 4,
    "start_time": "2022-01-21T23:53:31.472Z"
   },
   {
    "duration": 5,
    "start_time": "2022-01-21T23:53:31.499Z"
   },
   {
    "duration": 11,
    "start_time": "2022-01-21T23:53:31.506Z"
   },
   {
    "duration": 9,
    "start_time": "2022-01-21T23:53:31.518Z"
   },
   {
    "duration": 8,
    "start_time": "2022-01-21T23:53:31.529Z"
   },
   {
    "duration": 9,
    "start_time": "2022-01-21T23:53:31.539Z"
   },
   {
    "duration": 8,
    "start_time": "2022-01-21T23:53:31.550Z"
   },
   {
    "duration": 42,
    "start_time": "2022-01-21T23:53:31.559Z"
   },
   {
    "duration": 5,
    "start_time": "2022-01-21T23:53:31.603Z"
   },
   {
    "duration": 11,
    "start_time": "2022-01-21T23:53:31.610Z"
   },
   {
    "duration": 7,
    "start_time": "2022-01-21T23:53:31.623Z"
   },
   {
    "duration": 12,
    "start_time": "2022-01-21T23:53:31.632Z"
   },
   {
    "duration": 8,
    "start_time": "2022-01-21T23:53:31.645Z"
   },
   {
    "duration": 8,
    "start_time": "2022-01-21T23:53:31.654Z"
   },
   {
    "duration": 10,
    "start_time": "2022-01-21T23:53:31.664Z"
   },
   {
    "duration": 7,
    "start_time": "2022-01-21T23:53:31.699Z"
   },
   {
    "duration": 5,
    "start_time": "2022-01-21T23:53:31.708Z"
   },
   {
    "duration": 9,
    "start_time": "2022-01-21T23:53:31.714Z"
   },
   {
    "duration": 10,
    "start_time": "2022-01-21T23:53:31.725Z"
   },
   {
    "duration": 609,
    "start_time": "2022-01-27T07:00:04.021Z"
   },
   {
    "duration": 52,
    "start_time": "2022-01-27T07:00:04.632Z"
   },
   {
    "duration": 20,
    "start_time": "2022-01-27T07:00:04.686Z"
   },
   {
    "duration": 41,
    "start_time": "2022-01-27T07:00:04.708Z"
   },
   {
    "duration": 19,
    "start_time": "2022-01-27T07:00:04.751Z"
   },
   {
    "duration": 17,
    "start_time": "2022-01-27T07:00:04.771Z"
   },
   {
    "duration": 727,
    "start_time": "2022-01-27T07:00:04.790Z"
   },
   {
    "duration": 14,
    "start_time": "2022-01-27T07:00:05.520Z"
   },
   {
    "duration": 13,
    "start_time": "2022-01-27T07:00:05.536Z"
   },
   {
    "duration": 12,
    "start_time": "2022-01-27T07:00:05.550Z"
   },
   {
    "duration": 20,
    "start_time": "2022-01-27T07:00:05.564Z"
   },
   {
    "duration": 16,
    "start_time": "2022-01-27T07:00:05.586Z"
   },
   {
    "duration": 51,
    "start_time": "2022-01-27T07:00:05.604Z"
   },
   {
    "duration": 13,
    "start_time": "2022-01-27T07:00:05.657Z"
   },
   {
    "duration": 15,
    "start_time": "2022-01-27T07:00:05.672Z"
   },
   {
    "duration": 20,
    "start_time": "2022-01-27T07:00:05.689Z"
   },
   {
    "duration": 20,
    "start_time": "2022-01-27T07:00:05.710Z"
   },
   {
    "duration": 42,
    "start_time": "2022-01-27T07:00:05.732Z"
   },
   {
    "duration": 13,
    "start_time": "2022-01-27T07:00:05.776Z"
   },
   {
    "duration": 31,
    "start_time": "2022-01-27T07:00:05.791Z"
   },
   {
    "duration": 20,
    "start_time": "2022-01-27T07:00:05.824Z"
   },
   {
    "duration": 22,
    "start_time": "2022-01-27T07:00:05.846Z"
   },
   {
    "duration": 10,
    "start_time": "2022-01-27T07:00:05.872Z"
   },
   {
    "duration": 11,
    "start_time": "2022-01-27T07:00:05.884Z"
   },
   {
    "duration": 28,
    "start_time": "2022-01-27T07:00:05.896Z"
   },
   {
    "duration": 18,
    "start_time": "2022-01-27T07:00:05.926Z"
   },
   {
    "duration": 37,
    "start_time": "2022-01-27T07:00:05.946Z"
   },
   {
    "duration": 11,
    "start_time": "2022-01-27T07:00:05.984Z"
   },
   {
    "duration": 19,
    "start_time": "2022-01-27T07:00:05.997Z"
   },
   {
    "duration": 17,
    "start_time": "2022-01-27T07:00:06.018Z"
   },
   {
    "duration": 19,
    "start_time": "2022-01-27T07:00:06.036Z"
   },
   {
    "duration": 728,
    "start_time": "2022-01-27T07:00:06.057Z"
   },
   {
    "duration": 2858,
    "start_time": "2022-01-27T07:00:06.787Z"
   },
   {
    "duration": 5,
    "start_time": "2022-01-27T07:00:09.647Z"
   },
   {
    "duration": 15,
    "start_time": "2022-01-27T07:00:09.654Z"
   },
   {
    "duration": 30,
    "start_time": "2022-01-27T07:00:09.670Z"
   },
   {
    "duration": 2,
    "start_time": "2022-01-27T07:00:09.702Z"
   },
   {
    "duration": 9,
    "start_time": "2022-01-27T07:00:09.706Z"
   },
   {
    "duration": 9,
    "start_time": "2022-01-27T07:00:09.717Z"
   },
   {
    "duration": 250,
    "start_time": "2022-01-27T07:00:09.727Z"
   },
   {
    "duration": -501,
    "start_time": "2022-01-27T07:00:10.480Z"
   },
   {
    "duration": -502,
    "start_time": "2022-01-27T07:00:10.482Z"
   },
   {
    "duration": -504,
    "start_time": "2022-01-27T07:00:10.485Z"
   },
   {
    "duration": -508,
    "start_time": "2022-01-27T07:00:10.490Z"
   },
   {
    "duration": -510,
    "start_time": "2022-01-27T07:00:10.493Z"
   },
   {
    "duration": -511,
    "start_time": "2022-01-27T07:00:10.496Z"
   },
   {
    "duration": -512,
    "start_time": "2022-01-27T07:00:10.498Z"
   },
   {
    "duration": -513,
    "start_time": "2022-01-27T07:00:10.500Z"
   },
   {
    "duration": -514,
    "start_time": "2022-01-27T07:00:10.502Z"
   },
   {
    "duration": -515,
    "start_time": "2022-01-27T07:00:10.504Z"
   },
   {
    "duration": -516,
    "start_time": "2022-01-27T07:00:10.506Z"
   },
   {
    "duration": -518,
    "start_time": "2022-01-27T07:00:10.509Z"
   },
   {
    "duration": -519,
    "start_time": "2022-01-27T07:00:10.511Z"
   },
   {
    "duration": -521,
    "start_time": "2022-01-27T07:00:10.514Z"
   },
   {
    "duration": -522,
    "start_time": "2022-01-27T07:00:10.516Z"
   },
   {
    "duration": -527,
    "start_time": "2022-01-27T07:00:10.522Z"
   },
   {
    "duration": -527,
    "start_time": "2022-01-27T07:00:10.524Z"
   },
   {
    "duration": -530,
    "start_time": "2022-01-27T07:00:10.528Z"
   },
   {
    "duration": -531,
    "start_time": "2022-01-27T07:00:10.530Z"
   },
   {
    "duration": -533,
    "start_time": "2022-01-27T07:00:10.533Z"
   },
   {
    "duration": -534,
    "start_time": "2022-01-27T07:00:10.535Z"
   },
   {
    "duration": -534,
    "start_time": "2022-01-27T07:00:10.537Z"
   },
   {
    "duration": 20,
    "start_time": "2022-01-27T07:13:22.445Z"
   },
   {
    "duration": 6,
    "start_time": "2022-01-27T07:14:12.108Z"
   },
   {
    "duration": 3,
    "start_time": "2022-01-27T07:14:15.237Z"
   },
   {
    "duration": 13,
    "start_time": "2022-01-27T07:14:24.708Z"
   },
   {
    "duration": 3,
    "start_time": "2022-01-27T07:14:25.048Z"
   },
   {
    "duration": 5,
    "start_time": "2022-01-27T07:14:25.391Z"
   },
   {
    "duration": 10,
    "start_time": "2022-01-27T07:14:25.554Z"
   },
   {
    "duration": 10,
    "start_time": "2022-01-27T07:14:25.726Z"
   },
   {
    "duration": 10,
    "start_time": "2022-01-27T07:14:26.774Z"
   },
   {
    "duration": 10,
    "start_time": "2022-01-27T07:14:27.152Z"
   },
   {
    "duration": 9,
    "start_time": "2022-01-27T07:14:27.329Z"
   },
   {
    "duration": 8,
    "start_time": "2022-01-27T07:14:28.383Z"
   },
   {
    "duration": 8,
    "start_time": "2022-01-27T07:14:28.751Z"
   },
   {
    "duration": 8,
    "start_time": "2022-01-27T07:14:29.140Z"
   },
   {
    "duration": 10,
    "start_time": "2022-01-27T07:14:29.321Z"
   },
   {
    "duration": 7,
    "start_time": "2022-01-27T07:14:30.250Z"
   },
   {
    "duration": 6,
    "start_time": "2022-01-27T07:14:30.623Z"
   },
   {
    "duration": 7,
    "start_time": "2022-01-27T07:14:31.001Z"
   },
   {
    "duration": 9,
    "start_time": "2022-01-27T07:14:31.145Z"
   },
   {
    "duration": 9,
    "start_time": "2022-01-27T07:14:32.272Z"
   },
   {
    "duration": 5,
    "start_time": "2022-01-27T07:14:32.659Z"
   },
   {
    "duration": 7,
    "start_time": "2022-01-27T07:14:33.167Z"
   },
   {
    "duration": 9,
    "start_time": "2022-01-27T07:14:33.346Z"
   },
   {
    "duration": 227,
    "start_time": "2022-01-27T17:48:34.316Z"
   },
   {
    "duration": 164,
    "start_time": "2022-01-27T17:48:44.729Z"
   },
   {
    "duration": 606,
    "start_time": "2022-01-27T17:49:15.707Z"
   },
   {
    "duration": 53,
    "start_time": "2022-01-27T17:49:16.315Z"
   },
   {
    "duration": 27,
    "start_time": "2022-01-27T17:49:16.370Z"
   },
   {
    "duration": 12,
    "start_time": "2022-01-27T17:49:16.399Z"
   },
   {
    "duration": 37,
    "start_time": "2022-01-27T17:49:16.413Z"
   },
   {
    "duration": 10,
    "start_time": "2022-01-27T17:49:16.452Z"
   },
   {
    "duration": 43,
    "start_time": "2022-01-27T17:49:16.463Z"
   },
   {
    "duration": 645,
    "start_time": "2022-01-27T17:49:16.508Z"
   },
   {
    "duration": 12,
    "start_time": "2022-01-27T17:49:17.155Z"
   },
   {
    "duration": 10,
    "start_time": "2022-01-27T17:49:17.169Z"
   },
   {
    "duration": 17,
    "start_time": "2022-01-27T17:49:17.180Z"
   },
   {
    "duration": 13,
    "start_time": "2022-01-27T17:49:17.199Z"
   },
   {
    "duration": 4,
    "start_time": "2022-01-27T17:49:17.213Z"
   },
   {
    "duration": 20,
    "start_time": "2022-01-27T17:49:17.218Z"
   },
   {
    "duration": 6,
    "start_time": "2022-01-27T17:49:17.239Z"
   },
   {
    "duration": 7,
    "start_time": "2022-01-27T17:49:17.246Z"
   },
   {
    "duration": 8,
    "start_time": "2022-01-27T17:49:17.255Z"
   },
   {
    "duration": 6,
    "start_time": "2022-01-27T17:49:17.265Z"
   },
   {
    "duration": 28,
    "start_time": "2022-01-27T17:49:17.272Z"
   },
   {
    "duration": 4,
    "start_time": "2022-01-27T17:49:17.301Z"
   },
   {
    "duration": 32,
    "start_time": "2022-01-27T17:49:17.306Z"
   },
   {
    "duration": 7,
    "start_time": "2022-01-27T17:49:17.339Z"
   },
   {
    "duration": 12,
    "start_time": "2022-01-27T17:49:17.350Z"
   },
   {
    "duration": 6,
    "start_time": "2022-01-27T17:49:17.364Z"
   },
   {
    "duration": 25,
    "start_time": "2022-01-27T17:49:17.372Z"
   },
   {
    "duration": 14,
    "start_time": "2022-01-27T17:49:17.399Z"
   },
   {
    "duration": 8,
    "start_time": "2022-01-27T17:49:17.414Z"
   },
   {
    "duration": 20,
    "start_time": "2022-01-27T17:49:17.423Z"
   },
   {
    "duration": 9,
    "start_time": "2022-01-27T17:49:17.445Z"
   },
   {
    "duration": 45,
    "start_time": "2022-01-27T17:49:17.456Z"
   },
   {
    "duration": 22,
    "start_time": "2022-01-27T17:49:17.504Z"
   },
   {
    "duration": 9,
    "start_time": "2022-01-27T17:49:17.528Z"
   },
   {
    "duration": 664,
    "start_time": "2022-01-27T17:49:17.539Z"
   },
   {
    "duration": 2841,
    "start_time": "2022-01-27T17:49:18.205Z"
   },
   {
    "duration": 5,
    "start_time": "2022-01-27T17:49:21.048Z"
   },
   {
    "duration": 14,
    "start_time": "2022-01-27T17:49:21.055Z"
   },
   {
    "duration": 32,
    "start_time": "2022-01-27T17:49:21.071Z"
   },
   {
    "duration": 4,
    "start_time": "2022-01-27T17:49:21.105Z"
   },
   {
    "duration": 11,
    "start_time": "2022-01-27T17:49:21.111Z"
   },
   {
    "duration": 9,
    "start_time": "2022-01-27T17:49:21.124Z"
   },
   {
    "duration": 198,
    "start_time": "2022-01-27T17:49:21.135Z"
   },
   {
    "duration": -5468,
    "start_time": "2022-01-27T17:49:26.803Z"
   },
   {
    "duration": -5478,
    "start_time": "2022-01-27T17:49:26.815Z"
   },
   {
    "duration": -5486,
    "start_time": "2022-01-27T17:49:26.824Z"
   },
   {
    "duration": -5495,
    "start_time": "2022-01-27T17:49:26.835Z"
   },
   {
    "duration": -5504,
    "start_time": "2022-01-27T17:49:26.845Z"
   },
   {
    "duration": -5514,
    "start_time": "2022-01-27T17:49:26.857Z"
   },
   {
    "duration": -5523,
    "start_time": "2022-01-27T17:49:26.867Z"
   },
   {
    "duration": -5532,
    "start_time": "2022-01-27T17:49:26.878Z"
   },
   {
    "duration": -5541,
    "start_time": "2022-01-27T17:49:26.888Z"
   },
   {
    "duration": -5568,
    "start_time": "2022-01-27T17:49:26.917Z"
   },
   {
    "duration": -5577,
    "start_time": "2022-01-27T17:49:26.927Z"
   },
   {
    "duration": -5587,
    "start_time": "2022-01-27T17:49:26.939Z"
   },
   {
    "duration": -5595,
    "start_time": "2022-01-27T17:49:26.949Z"
   },
   {
    "duration": -5604,
    "start_time": "2022-01-27T17:49:26.959Z"
   },
   {
    "duration": -5613,
    "start_time": "2022-01-27T17:49:26.969Z"
   },
   {
    "duration": -5621,
    "start_time": "2022-01-27T17:49:26.979Z"
   },
   {
    "duration": -5629,
    "start_time": "2022-01-27T17:49:26.988Z"
   },
   {
    "duration": -5638,
    "start_time": "2022-01-27T17:49:26.999Z"
   },
   {
    "duration": -5647,
    "start_time": "2022-01-27T17:49:27.009Z"
   },
   {
    "duration": -5696,
    "start_time": "2022-01-27T17:49:27.060Z"
   },
   {
    "duration": -5748,
    "start_time": "2022-01-27T17:49:27.113Z"
   },
   {
    "duration": -5787,
    "start_time": "2022-01-27T17:49:27.153Z"
   },
   {
    "duration": 12,
    "start_time": "2022-01-27T17:50:16.542Z"
   },
   {
    "duration": 3,
    "start_time": "2022-01-27T17:50:42.320Z"
   },
   {
    "duration": 54,
    "start_time": "2022-01-27T17:50:42.327Z"
   },
   {
    "duration": 13,
    "start_time": "2022-01-27T17:50:42.383Z"
   },
   {
    "duration": 14,
    "start_time": "2022-01-27T17:50:42.398Z"
   },
   {
    "duration": 10,
    "start_time": "2022-01-27T17:50:42.414Z"
   },
   {
    "duration": 12,
    "start_time": "2022-01-27T17:50:42.426Z"
   },
   {
    "duration": 14,
    "start_time": "2022-01-27T17:50:42.440Z"
   },
   {
    "duration": 720,
    "start_time": "2022-01-27T17:50:42.455Z"
   },
   {
    "duration": 19,
    "start_time": "2022-01-27T17:50:43.178Z"
   },
   {
    "duration": 7,
    "start_time": "2022-01-27T17:50:43.199Z"
   },
   {
    "duration": 4,
    "start_time": "2022-01-27T17:50:43.207Z"
   },
   {
    "duration": 10,
    "start_time": "2022-01-27T17:50:43.212Z"
   },
   {
    "duration": 4,
    "start_time": "2022-01-27T17:50:43.223Z"
   },
   {
    "duration": 11,
    "start_time": "2022-01-27T17:50:43.228Z"
   },
   {
    "duration": 4,
    "start_time": "2022-01-27T17:50:43.241Z"
   },
   {
    "duration": 5,
    "start_time": "2022-01-27T17:50:43.247Z"
   },
   {
    "duration": 45,
    "start_time": "2022-01-27T17:50:43.253Z"
   },
   {
    "duration": 7,
    "start_time": "2022-01-27T17:50:43.300Z"
   },
   {
    "duration": 6,
    "start_time": "2022-01-27T17:50:43.308Z"
   },
   {
    "duration": 5,
    "start_time": "2022-01-27T17:50:43.316Z"
   },
   {
    "duration": 24,
    "start_time": "2022-01-27T17:50:43.322Z"
   },
   {
    "duration": 6,
    "start_time": "2022-01-27T17:50:43.347Z"
   },
   {
    "duration": 42,
    "start_time": "2022-01-27T17:50:43.355Z"
   },
   {
    "duration": 4,
    "start_time": "2022-01-27T17:50:43.401Z"
   },
   {
    "duration": 5,
    "start_time": "2022-01-27T17:50:43.407Z"
   },
   {
    "duration": 14,
    "start_time": "2022-01-27T17:50:43.414Z"
   },
   {
    "duration": 7,
    "start_time": "2022-01-27T17:50:43.430Z"
   },
   {
    "duration": 21,
    "start_time": "2022-01-27T17:50:43.439Z"
   },
   {
    "duration": 7,
    "start_time": "2022-01-27T17:50:43.462Z"
   },
   {
    "duration": 14,
    "start_time": "2022-01-27T17:50:43.498Z"
   },
   {
    "duration": 11,
    "start_time": "2022-01-27T17:50:43.514Z"
   },
   {
    "duration": 11,
    "start_time": "2022-01-27T17:50:43.526Z"
   },
   {
    "duration": 684,
    "start_time": "2022-01-27T17:50:43.539Z"
   },
   {
    "duration": 2942,
    "start_time": "2022-01-27T17:50:44.225Z"
   },
   {
    "duration": 7,
    "start_time": "2022-01-27T17:50:47.169Z"
   },
   {
    "duration": 10,
    "start_time": "2022-01-27T17:50:47.198Z"
   },
   {
    "duration": 25,
    "start_time": "2022-01-27T17:50:47.209Z"
   },
   {
    "duration": 4,
    "start_time": "2022-01-27T17:50:47.236Z"
   },
   {
    "duration": 26,
    "start_time": "2022-01-27T17:50:47.242Z"
   },
   {
    "duration": 15,
    "start_time": "2022-01-27T17:50:47.270Z"
   },
   {
    "duration": 192,
    "start_time": "2022-01-27T17:50:47.286Z"
   },
   {
    "duration": -5514,
    "start_time": "2022-01-27T17:50:52.994Z"
   },
   {
    "duration": -5523,
    "start_time": "2022-01-27T17:50:53.004Z"
   },
   {
    "duration": -5533,
    "start_time": "2022-01-27T17:50:53.015Z"
   },
   {
    "duration": -5541,
    "start_time": "2022-01-27T17:50:53.024Z"
   },
   {
    "duration": -5551,
    "start_time": "2022-01-27T17:50:53.035Z"
   },
   {
    "duration": -5559,
    "start_time": "2022-01-27T17:50:53.044Z"
   },
   {
    "duration": -5570,
    "start_time": "2022-01-27T17:50:53.056Z"
   },
   {
    "duration": -5578,
    "start_time": "2022-01-27T17:50:53.065Z"
   },
   {
    "duration": -5589,
    "start_time": "2022-01-27T17:50:53.077Z"
   },
   {
    "duration": -5622,
    "start_time": "2022-01-27T17:50:53.111Z"
   },
   {
    "duration": -5632,
    "start_time": "2022-01-27T17:50:53.122Z"
   },
   {
    "duration": -5640,
    "start_time": "2022-01-27T17:50:53.131Z"
   },
   {
    "duration": -5650,
    "start_time": "2022-01-27T17:50:53.141Z"
   },
   {
    "duration": -5659,
    "start_time": "2022-01-27T17:50:53.151Z"
   },
   {
    "duration": -5668,
    "start_time": "2022-01-27T17:50:53.161Z"
   },
   {
    "duration": -5677,
    "start_time": "2022-01-27T17:50:53.171Z"
   },
   {
    "duration": -5687,
    "start_time": "2022-01-27T17:50:53.182Z"
   },
   {
    "duration": -5694,
    "start_time": "2022-01-27T17:50:53.190Z"
   },
   {
    "duration": -5704,
    "start_time": "2022-01-27T17:50:53.201Z"
   },
   {
    "duration": -5725,
    "start_time": "2022-01-27T17:50:53.223Z"
   },
   {
    "duration": -5735,
    "start_time": "2022-01-27T17:50:53.234Z"
   },
   {
    "duration": -5743,
    "start_time": "2022-01-27T17:50:53.243Z"
   },
   {
    "duration": 389,
    "start_time": "2022-01-27T17:59:36.790Z"
   },
   {
    "duration": 388,
    "start_time": "2022-01-27T18:00:01.303Z"
   },
   {
    "duration": 379,
    "start_time": "2022-01-27T18:01:01.022Z"
   },
   {
    "duration": 12,
    "start_time": "2022-01-27T18:01:48.603Z"
   },
   {
    "duration": 264,
    "start_time": "2022-01-27T18:10:39.223Z"
   },
   {
    "duration": 3,
    "start_time": "2022-01-27T18:10:54.245Z"
   },
   {
    "duration": 52,
    "start_time": "2022-01-27T18:10:54.252Z"
   },
   {
    "duration": 14,
    "start_time": "2022-01-27T18:10:54.306Z"
   },
   {
    "duration": 12,
    "start_time": "2022-01-27T18:10:54.322Z"
   },
   {
    "duration": 11,
    "start_time": "2022-01-27T18:10:54.336Z"
   },
   {
    "duration": 11,
    "start_time": "2022-01-27T18:10:54.348Z"
   },
   {
    "duration": 49,
    "start_time": "2022-01-27T18:10:54.360Z"
   },
   {
    "duration": 679,
    "start_time": "2022-01-27T18:10:54.410Z"
   },
   {
    "duration": 18,
    "start_time": "2022-01-27T18:10:55.091Z"
   },
   {
    "duration": 176,
    "start_time": "2022-01-27T18:10:55.111Z"
   },
   {
    "duration": -5940,
    "start_time": "2022-01-27T18:11:01.230Z"
   },
   {
    "duration": -5952,
    "start_time": "2022-01-27T18:11:01.242Z"
   },
   {
    "duration": -5961,
    "start_time": "2022-01-27T18:11:01.252Z"
   },
   {
    "duration": -5973,
    "start_time": "2022-01-27T18:11:01.265Z"
   },
   {
    "duration": -5982,
    "start_time": "2022-01-27T18:11:01.275Z"
   },
   {
    "duration": -5992,
    "start_time": "2022-01-27T18:11:01.286Z"
   },
   {
    "duration": -6000,
    "start_time": "2022-01-27T18:11:01.295Z"
   },
   {
    "duration": -6009,
    "start_time": "2022-01-27T18:11:01.305Z"
   },
   {
    "duration": -6051,
    "start_time": "2022-01-27T18:11:01.348Z"
   },
   {
    "duration": -6061,
    "start_time": "2022-01-27T18:11:01.359Z"
   },
   {
    "duration": -6069,
    "start_time": "2022-01-27T18:11:01.368Z"
   },
   {
    "duration": -6079,
    "start_time": "2022-01-27T18:11:01.379Z"
   },
   {
    "duration": -6087,
    "start_time": "2022-01-27T18:11:01.388Z"
   },
   {
    "duration": -6097,
    "start_time": "2022-01-27T18:11:01.399Z"
   },
   {
    "duration": -6106,
    "start_time": "2022-01-27T18:11:01.409Z"
   },
   {
    "duration": -6116,
    "start_time": "2022-01-27T18:11:01.420Z"
   },
   {
    "duration": -6125,
    "start_time": "2022-01-27T18:11:01.430Z"
   },
   {
    "duration": -6136,
    "start_time": "2022-01-27T18:11:01.442Z"
   },
   {
    "duration": -6159,
    "start_time": "2022-01-27T18:11:01.466Z"
   },
   {
    "duration": -6316,
    "start_time": "2022-01-27T18:11:01.623Z"
   },
   {
    "duration": -6325,
    "start_time": "2022-01-27T18:11:01.633Z"
   },
   {
    "duration": -6335,
    "start_time": "2022-01-27T18:11:01.644Z"
   },
   {
    "duration": -6344,
    "start_time": "2022-01-27T18:11:01.654Z"
   },
   {
    "duration": -6355,
    "start_time": "2022-01-27T18:11:01.666Z"
   },
   {
    "duration": -6364,
    "start_time": "2022-01-27T18:11:01.676Z"
   },
   {
    "duration": -6375,
    "start_time": "2022-01-27T18:11:01.688Z"
   },
   {
    "duration": -6384,
    "start_time": "2022-01-27T18:11:01.699Z"
   },
   {
    "duration": -6398,
    "start_time": "2022-01-27T18:11:01.714Z"
   },
   {
    "duration": -6424,
    "start_time": "2022-01-27T18:11:01.742Z"
   },
   {
    "duration": -6436,
    "start_time": "2022-01-27T18:11:01.754Z"
   },
   {
    "duration": -6446,
    "start_time": "2022-01-27T18:11:01.765Z"
   },
   {
    "duration": -6458,
    "start_time": "2022-01-27T18:11:01.778Z"
   },
   {
    "duration": -6469,
    "start_time": "2022-01-27T18:11:01.790Z"
   },
   {
    "duration": -6481,
    "start_time": "2022-01-27T18:11:01.803Z"
   },
   {
    "duration": -6493,
    "start_time": "2022-01-27T18:11:01.816Z"
   },
   {
    "duration": -6505,
    "start_time": "2022-01-27T18:11:01.828Z"
   },
   {
    "duration": -6514,
    "start_time": "2022-01-27T18:11:01.838Z"
   },
   {
    "duration": -6543,
    "start_time": "2022-01-27T18:11:01.868Z"
   },
   {
    "duration": -6552,
    "start_time": "2022-01-27T18:11:01.878Z"
   },
   {
    "duration": -6562,
    "start_time": "2022-01-27T18:11:01.889Z"
   },
   {
    "duration": -6571,
    "start_time": "2022-01-27T18:11:01.899Z"
   },
   {
    "duration": -6582,
    "start_time": "2022-01-27T18:11:01.911Z"
   },
   {
    "duration": -6614,
    "start_time": "2022-01-27T18:11:01.944Z"
   },
   {
    "duration": -6625,
    "start_time": "2022-01-27T18:11:01.956Z"
   },
   {
    "duration": -6648,
    "start_time": "2022-01-27T18:11:01.980Z"
   },
   {
    "duration": -6657,
    "start_time": "2022-01-27T18:11:01.990Z"
   },
   {
    "duration": -6666,
    "start_time": "2022-01-27T18:11:01.999Z"
   },
   {
    "duration": -6676,
    "start_time": "2022-01-27T18:11:02.010Z"
   },
   {
    "duration": -6684,
    "start_time": "2022-01-27T18:11:02.019Z"
   },
   {
    "duration": -6693,
    "start_time": "2022-01-27T18:11:02.029Z"
   },
   {
    "duration": -6701,
    "start_time": "2022-01-27T18:11:02.038Z"
   },
   {
    "duration": -6711,
    "start_time": "2022-01-27T18:11:02.049Z"
   },
   {
    "duration": -6720,
    "start_time": "2022-01-27T18:11:02.059Z"
   },
   {
    "duration": 186,
    "start_time": "2022-01-27T18:11:15.603Z"
   },
   {
    "duration": 174,
    "start_time": "2022-01-27T18:11:49.955Z"
   },
   {
    "duration": 197,
    "start_time": "2022-01-27T18:13:43.698Z"
   },
   {
    "duration": 169,
    "start_time": "2022-01-27T18:13:55.200Z"
   },
   {
    "duration": 7,
    "start_time": "2022-01-27T18:14:55.188Z"
   },
   {
    "duration": 184,
    "start_time": "2022-01-27T18:18:47.462Z"
   },
   {
    "duration": 193,
    "start_time": "2022-01-27T18:19:35.925Z"
   },
   {
    "duration": 180,
    "start_time": "2022-01-27T18:19:47.697Z"
   },
   {
    "duration": 175,
    "start_time": "2022-01-27T18:21:37.830Z"
   },
   {
    "duration": 184,
    "start_time": "2022-01-27T18:22:03.707Z"
   },
   {
    "duration": 187,
    "start_time": "2022-01-27T18:22:19.879Z"
   },
   {
    "duration": 66,
    "start_time": "2022-01-27T18:25:40.725Z"
   },
   {
    "duration": 193,
    "start_time": "2022-01-27T18:25:50.023Z"
   },
   {
    "duration": 193,
    "start_time": "2022-01-27T18:26:08.831Z"
   },
   {
    "duration": 182,
    "start_time": "2022-01-27T18:26:28.592Z"
   },
   {
    "duration": 8,
    "start_time": "2022-01-27T18:27:06.051Z"
   },
   {
    "duration": 25,
    "start_time": "2022-01-27T18:31:46.452Z"
   },
   {
    "duration": 16,
    "start_time": "2022-01-27T18:35:37.765Z"
   },
   {
    "duration": 17,
    "start_time": "2022-01-27T18:35:47.061Z"
   },
   {
    "duration": 39,
    "start_time": "2022-01-27T18:37:35.868Z"
   },
   {
    "duration": 17,
    "start_time": "2022-01-27T18:38:07.693Z"
   },
   {
    "duration": 2,
    "start_time": "2022-01-27T18:41:11.342Z"
   },
   {
    "duration": 55,
    "start_time": "2022-01-27T18:41:11.348Z"
   },
   {
    "duration": 12,
    "start_time": "2022-01-27T18:41:11.405Z"
   },
   {
    "duration": 12,
    "start_time": "2022-01-27T18:41:11.419Z"
   },
   {
    "duration": 9,
    "start_time": "2022-01-27T18:41:11.434Z"
   },
   {
    "duration": 12,
    "start_time": "2022-01-27T18:41:11.445Z"
   },
   {
    "duration": 40,
    "start_time": "2022-01-27T18:41:11.459Z"
   },
   {
    "duration": 746,
    "start_time": "2022-01-27T18:41:11.501Z"
   },
   {
    "duration": 12,
    "start_time": "2022-01-27T18:41:12.249Z"
   },
   {
    "duration": 8,
    "start_time": "2022-01-27T18:41:12.263Z"
   },
   {
    "duration": 3,
    "start_time": "2022-01-27T18:41:12.273Z"
   },
   {
    "duration": 24,
    "start_time": "2022-01-27T18:41:12.278Z"
   },
   {
    "duration": 4,
    "start_time": "2022-01-27T18:41:12.303Z"
   },
   {
    "duration": 11,
    "start_time": "2022-01-27T18:41:12.309Z"
   },
   {
    "duration": 5,
    "start_time": "2022-01-27T18:41:12.322Z"
   },
   {
    "duration": 5,
    "start_time": "2022-01-27T18:41:12.328Z"
   },
   {
    "duration": 9,
    "start_time": "2022-01-27T18:41:12.335Z"
   },
   {
    "duration": 5,
    "start_time": "2022-01-27T18:41:12.346Z"
   },
   {
    "duration": 5,
    "start_time": "2022-01-27T18:41:12.353Z"
   },
   {
    "duration": 40,
    "start_time": "2022-01-27T18:41:12.360Z"
   },
   {
    "duration": 23,
    "start_time": "2022-01-27T18:41:12.402Z"
   },
   {
    "duration": 3,
    "start_time": "2022-01-27T18:41:12.427Z"
   },
   {
    "duration": 10,
    "start_time": "2022-01-27T18:41:12.431Z"
   },
   {
    "duration": 4,
    "start_time": "2022-01-27T18:41:12.444Z"
   },
   {
    "duration": 6,
    "start_time": "2022-01-27T18:41:12.450Z"
   },
   {
    "duration": 18,
    "start_time": "2022-01-27T18:41:12.457Z"
   },
   {
    "duration": 29,
    "start_time": "2022-01-27T18:41:12.476Z"
   },
   {
    "duration": 7,
    "start_time": "2022-01-27T18:41:12.507Z"
   },
   {
    "duration": 23,
    "start_time": "2022-01-27T18:41:12.515Z"
   },
   {
    "duration": 7,
    "start_time": "2022-01-27T18:41:12.539Z"
   },
   {
    "duration": 16,
    "start_time": "2022-01-27T18:41:12.547Z"
   },
   {
    "duration": 33,
    "start_time": "2022-01-27T18:41:12.564Z"
   },
   {
    "duration": 6,
    "start_time": "2022-01-27T18:41:12.598Z"
   },
   {
    "duration": 671,
    "start_time": "2022-01-27T18:41:12.605Z"
   },
   {
    "duration": 2828,
    "start_time": "2022-01-27T18:41:13.278Z"
   },
   {
    "duration": 6,
    "start_time": "2022-01-27T18:41:16.108Z"
   },
   {
    "duration": 10,
    "start_time": "2022-01-27T18:41:16.116Z"
   },
   {
    "duration": 14,
    "start_time": "2022-01-27T18:41:16.128Z"
   },
   {
    "duration": 3,
    "start_time": "2022-01-27T18:41:16.145Z"
   },
   {
    "duration": 8,
    "start_time": "2022-01-27T18:41:16.150Z"
   },
   {
    "duration": 8,
    "start_time": "2022-01-27T18:41:16.198Z"
   },
   {
    "duration": 180,
    "start_time": "2022-01-27T18:41:16.208Z"
   },
   {
    "duration": -5548,
    "start_time": "2022-01-27T18:41:21.938Z"
   },
   {
    "duration": -5586,
    "start_time": "2022-01-27T18:41:21.978Z"
   },
   {
    "duration": -5620,
    "start_time": "2022-01-27T18:41:22.014Z"
   },
   {
    "duration": -5658,
    "start_time": "2022-01-27T18:41:22.053Z"
   },
   {
    "duration": -5695,
    "start_time": "2022-01-27T18:41:22.092Z"
   },
   {
    "duration": -5704,
    "start_time": "2022-01-27T18:41:22.102Z"
   },
   {
    "duration": -5744,
    "start_time": "2022-01-27T18:41:22.144Z"
   },
   {
    "duration": -5782,
    "start_time": "2022-01-27T18:41:22.183Z"
   },
   {
    "duration": -5820,
    "start_time": "2022-01-27T18:41:22.223Z"
   },
   {
    "duration": -5829,
    "start_time": "2022-01-27T18:41:22.233Z"
   },
   {
    "duration": -5837,
    "start_time": "2022-01-27T18:41:22.243Z"
   },
   {
    "duration": -5890,
    "start_time": "2022-01-27T18:41:22.297Z"
   },
   {
    "duration": -5927,
    "start_time": "2022-01-27T18:41:22.336Z"
   },
   {
    "duration": -5963,
    "start_time": "2022-01-27T18:41:22.374Z"
   },
   {
    "duration": -5973,
    "start_time": "2022-01-27T18:41:22.385Z"
   },
   {
    "duration": -5980,
    "start_time": "2022-01-27T18:41:22.394Z"
   },
   {
    "duration": -5990,
    "start_time": "2022-01-27T18:41:22.405Z"
   },
   {
    "duration": -5998,
    "start_time": "2022-01-27T18:41:22.415Z"
   },
   {
    "duration": -6006,
    "start_time": "2022-01-27T18:41:22.425Z"
   },
   {
    "duration": -6033,
    "start_time": "2022-01-27T18:41:22.453Z"
   },
   {
    "duration": -6066,
    "start_time": "2022-01-27T18:41:22.488Z"
   },
   {
    "duration": -6102,
    "start_time": "2022-01-27T18:41:22.525Z"
   },
   {
    "duration": 9,
    "start_time": "2022-01-27T18:41:57.455Z"
   },
   {
    "duration": 173,
    "start_time": "2022-01-27T18:46:19.149Z"
   },
   {
    "duration": 181,
    "start_time": "2022-01-27T18:47:51.360Z"
   },
   {
    "duration": 191,
    "start_time": "2022-01-27T18:48:39.848Z"
   },
   {
    "duration": 3,
    "start_time": "2022-01-27T18:58:44.974Z"
   },
   {
    "duration": 60,
    "start_time": "2022-01-27T18:58:44.981Z"
   },
   {
    "duration": 14,
    "start_time": "2022-01-27T18:58:45.043Z"
   },
   {
    "duration": 13,
    "start_time": "2022-01-27T18:58:45.060Z"
   },
   {
    "duration": 32,
    "start_time": "2022-01-27T18:58:45.076Z"
   },
   {
    "duration": 11,
    "start_time": "2022-01-27T18:58:45.111Z"
   },
   {
    "duration": 15,
    "start_time": "2022-01-27T18:58:45.124Z"
   },
   {
    "duration": 721,
    "start_time": "2022-01-27T18:58:45.141Z"
   },
   {
    "duration": 13,
    "start_time": "2022-01-27T18:58:45.865Z"
   },
   {
    "duration": 17,
    "start_time": "2022-01-27T18:58:45.881Z"
   },
   {
    "duration": 3,
    "start_time": "2022-01-27T18:58:45.900Z"
   },
   {
    "duration": 9,
    "start_time": "2022-01-27T18:58:45.905Z"
   },
   {
    "duration": 3,
    "start_time": "2022-01-27T18:58:45.916Z"
   },
   {
    "duration": 10,
    "start_time": "2022-01-27T18:58:45.921Z"
   },
   {
    "duration": 4,
    "start_time": "2022-01-27T18:58:45.933Z"
   },
   {
    "duration": 6,
    "start_time": "2022-01-27T18:58:45.938Z"
   },
   {
    "duration": 8,
    "start_time": "2022-01-27T18:58:45.945Z"
   },
   {
    "duration": 47,
    "start_time": "2022-01-27T18:58:45.955Z"
   },
   {
    "duration": 6,
    "start_time": "2022-01-27T18:58:46.004Z"
   },
   {
    "duration": 4,
    "start_time": "2022-01-27T18:58:46.012Z"
   },
   {
    "duration": 23,
    "start_time": "2022-01-27T18:58:46.018Z"
   },
   {
    "duration": 5,
    "start_time": "2022-01-27T18:58:46.043Z"
   },
   {
    "duration": 9,
    "start_time": "2022-01-27T18:58:46.050Z"
   },
   {
    "duration": 3,
    "start_time": "2022-01-27T18:58:46.063Z"
   },
   {
    "duration": 4,
    "start_time": "2022-01-27T18:58:46.098Z"
   },
   {
    "duration": 17,
    "start_time": "2022-01-27T18:58:46.104Z"
   },
   {
    "duration": 15,
    "start_time": "2022-01-27T18:58:46.123Z"
   },
   {
    "duration": 9,
    "start_time": "2022-01-27T18:58:46.140Z"
   },
   {
    "duration": 47,
    "start_time": "2022-01-27T18:58:46.151Z"
   },
   {
    "duration": 9,
    "start_time": "2022-01-27T18:58:46.200Z"
   },
   {
    "duration": 16,
    "start_time": "2022-01-27T18:58:46.211Z"
   },
   {
    "duration": 9,
    "start_time": "2022-01-27T18:58:46.229Z"
   },
   {
    "duration": 8,
    "start_time": "2022-01-27T18:58:46.240Z"
   },
   {
    "duration": 707,
    "start_time": "2022-01-27T18:58:46.250Z"
   },
   {
    "duration": 2745,
    "start_time": "2022-01-27T18:58:46.959Z"
   },
   {
    "duration": 5,
    "start_time": "2022-01-27T18:58:49.706Z"
   },
   {
    "duration": 10,
    "start_time": "2022-01-27T18:58:49.713Z"
   },
   {
    "duration": 13,
    "start_time": "2022-01-27T18:58:49.724Z"
   },
   {
    "duration": 3,
    "start_time": "2022-01-27T18:58:49.738Z"
   },
   {
    "duration": 12,
    "start_time": "2022-01-27T18:58:49.742Z"
   },
   {
    "duration": 11,
    "start_time": "2022-01-27T18:58:49.756Z"
   },
   {
    "duration": 10,
    "start_time": "2022-01-27T18:58:49.797Z"
   },
   {
    "duration": 5,
    "start_time": "2022-01-27T18:58:49.808Z"
   },
   {
    "duration": 5,
    "start_time": "2022-01-27T18:58:49.815Z"
   },
   {
    "duration": 16,
    "start_time": "2022-01-27T18:58:49.822Z"
   },
   {
    "duration": 6,
    "start_time": "2022-01-27T18:58:49.839Z"
   },
   {
    "duration": 12,
    "start_time": "2022-01-27T18:58:49.846Z"
   },
   {
    "duration": 12,
    "start_time": "2022-01-27T18:58:49.860Z"
   },
   {
    "duration": 10,
    "start_time": "2022-01-27T18:58:49.897Z"
   },
   {
    "duration": 8,
    "start_time": "2022-01-27T18:58:49.908Z"
   },
   {
    "duration": 12,
    "start_time": "2022-01-27T18:58:49.917Z"
   },
   {
    "duration": 8,
    "start_time": "2022-01-27T18:58:49.930Z"
   },
   {
    "duration": 8,
    "start_time": "2022-01-27T18:58:49.940Z"
   },
   {
    "duration": 2,
    "start_time": "2022-01-27T18:58:49.949Z"
   },
   {
    "duration": 93,
    "start_time": "2022-01-27T18:58:49.953Z"
   },
   {
    "duration": -5654,
    "start_time": "2022-01-27T18:58:55.702Z"
   },
   {
    "duration": -5665,
    "start_time": "2022-01-27T18:58:55.714Z"
   },
   {
    "duration": -5674,
    "start_time": "2022-01-27T18:58:55.724Z"
   },
   {
    "duration": -5695,
    "start_time": "2022-01-27T18:58:55.746Z"
   },
   {
    "duration": -5704,
    "start_time": "2022-01-27T18:58:55.756Z"
   },
   {
    "duration": -5713,
    "start_time": "2022-01-27T18:58:55.767Z"
   },
   {
    "duration": -5721,
    "start_time": "2022-01-27T18:58:55.776Z"
   },
   {
    "duration": -5731,
    "start_time": "2022-01-27T18:58:55.786Z"
   },
   {
    "duration": -5739,
    "start_time": "2022-01-27T18:58:55.795Z"
   },
   {
    "duration": -5749,
    "start_time": "2022-01-27T18:58:55.806Z"
   },
   {
    "duration": 175,
    "start_time": "2022-01-27T18:59:20.414Z"
   },
   {
    "duration": 191,
    "start_time": "2022-01-27T19:00:51.374Z"
   },
   {
    "duration": 182,
    "start_time": "2022-01-27T19:01:25.747Z"
   },
   {
    "duration": 56,
    "start_time": "2022-01-27T19:58:39.263Z"
   },
   {
    "duration": 183,
    "start_time": "2022-01-27T19:58:48.306Z"
   },
   {
    "duration": 2,
    "start_time": "2022-01-27T20:00:27.327Z"
   },
   {
    "duration": 60,
    "start_time": "2022-01-27T20:00:27.333Z"
   },
   {
    "duration": 14,
    "start_time": "2022-01-27T20:00:27.395Z"
   },
   {
    "duration": 13,
    "start_time": "2022-01-27T20:00:27.412Z"
   },
   {
    "duration": 10,
    "start_time": "2022-01-27T20:00:27.427Z"
   },
   {
    "duration": 11,
    "start_time": "2022-01-27T20:00:27.439Z"
   },
   {
    "duration": 49,
    "start_time": "2022-01-27T20:00:27.452Z"
   },
   {
    "duration": 701,
    "start_time": "2022-01-27T20:00:27.504Z"
   },
   {
    "duration": 12,
    "start_time": "2022-01-27T20:00:28.207Z"
   },
   {
    "duration": 12,
    "start_time": "2022-01-27T20:00:28.221Z"
   },
   {
    "duration": 3,
    "start_time": "2022-01-27T20:00:28.235Z"
   },
   {
    "duration": 12,
    "start_time": "2022-01-27T20:00:28.239Z"
   },
   {
    "duration": 3,
    "start_time": "2022-01-27T20:00:28.252Z"
   },
   {
    "duration": 14,
    "start_time": "2022-01-27T20:00:28.257Z"
   },
   {
    "duration": 25,
    "start_time": "2022-01-27T20:00:28.273Z"
   },
   {
    "duration": 6,
    "start_time": "2022-01-27T20:00:28.300Z"
   },
   {
    "duration": 6,
    "start_time": "2022-01-27T20:00:28.308Z"
   },
   {
    "duration": 5,
    "start_time": "2022-01-27T20:00:28.316Z"
   },
   {
    "duration": 5,
    "start_time": "2022-01-27T20:00:28.323Z"
   },
   {
    "duration": 3,
    "start_time": "2022-01-27T20:00:28.329Z"
   },
   {
    "duration": 23,
    "start_time": "2022-01-27T20:00:28.333Z"
   },
   {
    "duration": 3,
    "start_time": "2022-01-27T20:00:28.358Z"
   },
   {
    "duration": 6,
    "start_time": "2022-01-27T20:00:28.400Z"
   },
   {
    "duration": 6,
    "start_time": "2022-01-27T20:00:28.409Z"
   },
   {
    "duration": 6,
    "start_time": "2022-01-27T20:00:28.416Z"
   },
   {
    "duration": 11,
    "start_time": "2022-01-27T20:00:28.424Z"
   },
   {
    "duration": 13,
    "start_time": "2022-01-27T20:00:28.437Z"
   },
   {
    "duration": 7,
    "start_time": "2022-01-27T20:00:28.452Z"
   },
   {
    "duration": 50,
    "start_time": "2022-01-27T20:00:28.460Z"
   },
   {
    "duration": 7,
    "start_time": "2022-01-27T20:00:28.512Z"
   },
   {
    "duration": 14,
    "start_time": "2022-01-27T20:00:28.521Z"
   },
   {
    "duration": 13,
    "start_time": "2022-01-27T20:00:28.537Z"
   },
   {
    "duration": 8,
    "start_time": "2022-01-27T20:00:28.551Z"
   },
   {
    "duration": 729,
    "start_time": "2022-01-27T20:00:28.561Z"
   },
   {
    "duration": 2772,
    "start_time": "2022-01-27T20:00:29.292Z"
   },
   {
    "duration": 6,
    "start_time": "2022-01-27T20:00:32.066Z"
   },
   {
    "duration": 28,
    "start_time": "2022-01-27T20:00:32.074Z"
   },
   {
    "duration": 14,
    "start_time": "2022-01-27T20:00:32.104Z"
   },
   {
    "duration": 4,
    "start_time": "2022-01-27T20:00:32.120Z"
   },
   {
    "duration": 9,
    "start_time": "2022-01-27T20:00:32.126Z"
   },
   {
    "duration": 11,
    "start_time": "2022-01-27T20:00:32.137Z"
   },
   {
    "duration": 14,
    "start_time": "2022-01-27T20:00:32.150Z"
   },
   {
    "duration": 35,
    "start_time": "2022-01-27T20:00:32.166Z"
   },
   {
    "duration": 5,
    "start_time": "2022-01-27T20:00:32.204Z"
   },
   {
    "duration": 14,
    "start_time": "2022-01-27T20:00:32.211Z"
   },
   {
    "duration": 14,
    "start_time": "2022-01-27T20:00:32.227Z"
   },
   {
    "duration": 22,
    "start_time": "2022-01-27T20:00:32.242Z"
   },
   {
    "duration": 18,
    "start_time": "2022-01-27T20:00:32.265Z"
   },
   {
    "duration": 15,
    "start_time": "2022-01-27T20:00:32.285Z"
   },
   {
    "duration": 8,
    "start_time": "2022-01-27T20:00:32.302Z"
   },
   {
    "duration": 8,
    "start_time": "2022-01-27T20:00:32.312Z"
   },
   {
    "duration": 10,
    "start_time": "2022-01-27T20:00:32.321Z"
   },
   {
    "duration": 8,
    "start_time": "2022-01-27T20:00:32.333Z"
   },
   {
    "duration": 9,
    "start_time": "2022-01-27T20:00:32.343Z"
   },
   {
    "duration": 35,
    "start_time": "2022-01-27T20:00:32.354Z"
   },
   {
    "duration": 9,
    "start_time": "2022-01-27T20:00:32.391Z"
   },
   {
    "duration": 23,
    "start_time": "2022-01-27T20:00:32.401Z"
   },
   {
    "duration": 8,
    "start_time": "2022-01-27T20:00:32.426Z"
   },
   {
    "duration": 8,
    "start_time": "2022-01-27T20:00:32.436Z"
   },
   {
    "duration": 30,
    "start_time": "2022-01-27T20:00:32.446Z"
   },
   {
    "duration": 18,
    "start_time": "2022-01-27T20:00:32.478Z"
   },
   {
    "duration": 9,
    "start_time": "2022-01-27T20:00:32.498Z"
   },
   {
    "duration": 14,
    "start_time": "2022-01-27T20:00:32.509Z"
   },
   {
    "duration": 9,
    "start_time": "2022-01-27T20:00:32.525Z"
   },
   {
    "duration": 20,
    "start_time": "2022-01-27T20:00:32.539Z"
   },
   {
    "duration": 17,
    "start_time": "2022-01-27T20:00:52.537Z"
   },
   {
    "duration": 23,
    "start_time": "2022-01-27T20:01:18.490Z"
   },
   {
    "duration": 22,
    "start_time": "2022-01-27T20:02:17.389Z"
   },
   {
    "duration": 3,
    "start_time": "2022-01-27T20:02:28.796Z"
   },
   {
    "duration": 55,
    "start_time": "2022-01-27T20:02:28.803Z"
   },
   {
    "duration": 13,
    "start_time": "2022-01-27T20:02:28.860Z"
   },
   {
    "duration": 26,
    "start_time": "2022-01-27T20:02:28.875Z"
   },
   {
    "duration": 11,
    "start_time": "2022-01-27T20:02:28.903Z"
   },
   {
    "duration": 10,
    "start_time": "2022-01-27T20:02:28.915Z"
   },
   {
    "duration": 15,
    "start_time": "2022-01-27T20:02:28.927Z"
   },
   {
    "duration": 729,
    "start_time": "2022-01-27T20:02:28.943Z"
   },
   {
    "duration": 13,
    "start_time": "2022-01-27T20:02:29.675Z"
   },
   {
    "duration": 7,
    "start_time": "2022-01-27T20:02:29.697Z"
   },
   {
    "duration": 5,
    "start_time": "2022-01-27T20:02:29.706Z"
   },
   {
    "duration": 12,
    "start_time": "2022-01-27T20:02:29.712Z"
   },
   {
    "duration": 9,
    "start_time": "2022-01-27T20:02:29.725Z"
   },
   {
    "duration": 13,
    "start_time": "2022-01-27T20:02:29.735Z"
   },
   {
    "duration": 4,
    "start_time": "2022-01-27T20:02:29.750Z"
   },
   {
    "duration": 7,
    "start_time": "2022-01-27T20:02:29.755Z"
   },
   {
    "duration": 35,
    "start_time": "2022-01-27T20:02:29.763Z"
   },
   {
    "duration": 7,
    "start_time": "2022-01-27T20:02:29.800Z"
   },
   {
    "duration": 10,
    "start_time": "2022-01-27T20:02:29.808Z"
   },
   {
    "duration": 7,
    "start_time": "2022-01-27T20:02:29.819Z"
   },
   {
    "duration": 26,
    "start_time": "2022-01-27T20:02:29.828Z"
   },
   {
    "duration": 4,
    "start_time": "2022-01-27T20:02:29.856Z"
   },
   {
    "duration": 37,
    "start_time": "2022-01-27T20:02:29.861Z"
   },
   {
    "duration": 4,
    "start_time": "2022-01-27T20:02:29.902Z"
   },
   {
    "duration": 6,
    "start_time": "2022-01-27T20:02:29.908Z"
   },
   {
    "duration": 27,
    "start_time": "2022-01-27T20:02:29.915Z"
   },
   {
    "duration": 15,
    "start_time": "2022-01-27T20:02:29.944Z"
   },
   {
    "duration": 7,
    "start_time": "2022-01-27T20:02:29.961Z"
   },
   {
    "duration": 38,
    "start_time": "2022-01-27T20:02:29.970Z"
   },
   {
    "duration": 37,
    "start_time": "2022-01-27T20:02:30.011Z"
   },
   {
    "duration": 15,
    "start_time": "2022-01-27T20:02:30.050Z"
   },
   {
    "duration": 7,
    "start_time": "2022-01-27T20:02:30.067Z"
   },
   {
    "duration": 21,
    "start_time": "2022-01-27T20:02:30.076Z"
   },
   {
    "duration": 731,
    "start_time": "2022-01-27T20:02:30.099Z"
   },
   {
    "duration": 2973,
    "start_time": "2022-01-27T20:02:30.832Z"
   },
   {
    "duration": 7,
    "start_time": "2022-01-27T20:02:33.807Z"
   },
   {
    "duration": 12,
    "start_time": "2022-01-27T20:02:33.815Z"
   },
   {
    "duration": 13,
    "start_time": "2022-01-27T20:02:33.829Z"
   },
   {
    "duration": 3,
    "start_time": "2022-01-27T20:02:33.844Z"
   },
   {
    "duration": 9,
    "start_time": "2022-01-27T20:02:33.849Z"
   },
   {
    "duration": 40,
    "start_time": "2022-01-27T20:02:33.860Z"
   },
   {
    "duration": 12,
    "start_time": "2022-01-27T20:02:33.902Z"
   },
   {
    "duration": 8,
    "start_time": "2022-01-27T20:02:33.917Z"
   },
   {
    "duration": 5,
    "start_time": "2022-01-27T20:02:33.928Z"
   },
   {
    "duration": 18,
    "start_time": "2022-01-27T20:02:33.935Z"
   },
   {
    "duration": 4,
    "start_time": "2022-01-27T20:02:33.955Z"
   },
   {
    "duration": 38,
    "start_time": "2022-01-27T20:02:33.961Z"
   },
   {
    "duration": 12,
    "start_time": "2022-01-27T20:02:34.002Z"
   },
   {
    "duration": 15,
    "start_time": "2022-01-27T20:02:34.017Z"
   },
   {
    "duration": 12,
    "start_time": "2022-01-27T20:02:34.035Z"
   },
   {
    "duration": 7,
    "start_time": "2022-01-27T20:02:34.049Z"
   },
   {
    "duration": 41,
    "start_time": "2022-01-27T20:02:34.058Z"
   },
   {
    "duration": 5,
    "start_time": "2022-01-27T20:02:34.102Z"
   },
   {
    "duration": 7,
    "start_time": "2022-01-27T20:02:34.109Z"
   },
   {
    "duration": 36,
    "start_time": "2022-01-27T20:02:34.118Z"
   },
   {
    "duration": 6,
    "start_time": "2022-01-27T20:02:34.157Z"
   },
   {
    "duration": 35,
    "start_time": "2022-01-27T20:02:34.165Z"
   },
   {
    "duration": 10,
    "start_time": "2022-01-27T20:02:34.202Z"
   },
   {
    "duration": 15,
    "start_time": "2022-01-27T20:02:34.214Z"
   },
   {
    "duration": 10,
    "start_time": "2022-01-27T20:02:34.231Z"
   },
   {
    "duration": 12,
    "start_time": "2022-01-27T20:02:34.243Z"
   },
   {
    "duration": 9,
    "start_time": "2022-01-27T20:02:34.257Z"
   },
   {
    "duration": 34,
    "start_time": "2022-01-27T20:02:34.268Z"
   },
   {
    "duration": 9,
    "start_time": "2022-01-27T20:02:34.304Z"
   },
   {
    "duration": 14,
    "start_time": "2022-01-27T20:02:34.316Z"
   },
   {
    "duration": 2,
    "start_time": "2022-01-27T20:04:33.815Z"
   },
   {
    "duration": 53,
    "start_time": "2022-01-27T20:04:33.822Z"
   },
   {
    "duration": 13,
    "start_time": "2022-01-27T20:04:33.877Z"
   },
   {
    "duration": 17,
    "start_time": "2022-01-27T20:04:33.892Z"
   },
   {
    "duration": 9,
    "start_time": "2022-01-27T20:04:33.911Z"
   },
   {
    "duration": 14,
    "start_time": "2022-01-27T20:04:33.922Z"
   },
   {
    "duration": 19,
    "start_time": "2022-01-27T20:04:33.938Z"
   },
   {
    "duration": 695,
    "start_time": "2022-01-27T20:04:33.959Z"
   },
   {
    "duration": 13,
    "start_time": "2022-01-27T20:04:34.657Z"
   },
   {
    "duration": 9,
    "start_time": "2022-01-27T20:04:34.672Z"
   },
   {
    "duration": 16,
    "start_time": "2022-01-27T20:04:34.682Z"
   },
   {
    "duration": 7,
    "start_time": "2022-01-27T20:04:34.700Z"
   },
   {
    "duration": 4,
    "start_time": "2022-01-27T20:04:34.708Z"
   },
   {
    "duration": 11,
    "start_time": "2022-01-27T20:04:34.713Z"
   },
   {
    "duration": 4,
    "start_time": "2022-01-27T20:04:34.725Z"
   },
   {
    "duration": 6,
    "start_time": "2022-01-27T20:04:34.730Z"
   },
   {
    "duration": 12,
    "start_time": "2022-01-27T20:04:34.738Z"
   },
   {
    "duration": 6,
    "start_time": "2022-01-27T20:04:34.751Z"
   },
   {
    "duration": 6,
    "start_time": "2022-01-27T20:04:34.798Z"
   },
   {
    "duration": 5,
    "start_time": "2022-01-27T20:04:34.806Z"
   },
   {
    "duration": 24,
    "start_time": "2022-01-27T20:04:34.813Z"
   },
   {
    "duration": 5,
    "start_time": "2022-01-27T20:04:34.839Z"
   },
   {
    "duration": 9,
    "start_time": "2022-01-27T20:04:34.848Z"
   },
   {
    "duration": 8,
    "start_time": "2022-01-27T20:04:34.859Z"
   },
   {
    "duration": 31,
    "start_time": "2022-01-27T20:04:34.868Z"
   },
   {
    "duration": 13,
    "start_time": "2022-01-27T20:04:34.901Z"
   },
   {
    "duration": 14,
    "start_time": "2022-01-27T20:04:34.916Z"
   },
   {
    "duration": 8,
    "start_time": "2022-01-27T20:04:34.932Z"
   },
   {
    "duration": 18,
    "start_time": "2022-01-27T20:04:34.942Z"
   },
   {
    "duration": 38,
    "start_time": "2022-01-27T20:04:34.962Z"
   },
   {
    "duration": 13,
    "start_time": "2022-01-27T20:04:35.002Z"
   },
   {
    "duration": 13,
    "start_time": "2022-01-27T20:04:35.017Z"
   },
   {
    "duration": 10,
    "start_time": "2022-01-27T20:04:35.032Z"
   },
   {
    "duration": 735,
    "start_time": "2022-01-27T20:04:35.044Z"
   },
   {
    "duration": 2801,
    "start_time": "2022-01-27T20:04:35.781Z"
   },
   {
    "duration": 17,
    "start_time": "2022-01-27T20:04:38.584Z"
   },
   {
    "duration": 12,
    "start_time": "2022-01-27T20:04:38.602Z"
   },
   {
    "duration": 11,
    "start_time": "2022-01-27T20:04:38.616Z"
   },
   {
    "duration": 4,
    "start_time": "2022-01-27T20:04:38.629Z"
   },
   {
    "duration": 9,
    "start_time": "2022-01-27T20:04:38.634Z"
   },
   {
    "duration": 7,
    "start_time": "2022-01-27T20:04:38.644Z"
   },
   {
    "duration": 12,
    "start_time": "2022-01-27T20:04:38.652Z"
   },
   {
    "duration": 31,
    "start_time": "2022-01-27T20:04:38.665Z"
   },
   {
    "duration": 4,
    "start_time": "2022-01-27T20:04:38.698Z"
   },
   {
    "duration": 13,
    "start_time": "2022-01-27T20:04:38.704Z"
   },
   {
    "duration": 3,
    "start_time": "2022-01-27T20:04:38.718Z"
   },
   {
    "duration": 7,
    "start_time": "2022-01-27T20:04:38.723Z"
   },
   {
    "duration": 8,
    "start_time": "2022-01-27T20:04:38.732Z"
   },
   {
    "duration": 12,
    "start_time": "2022-01-27T20:04:38.742Z"
   },
   {
    "duration": 7,
    "start_time": "2022-01-27T20:04:38.755Z"
   },
   {
    "duration": 37,
    "start_time": "2022-01-27T20:04:38.764Z"
   },
   {
    "duration": 8,
    "start_time": "2022-01-27T20:04:38.803Z"
   },
   {
    "duration": 9,
    "start_time": "2022-01-27T20:04:38.813Z"
   },
   {
    "duration": 2,
    "start_time": "2022-01-27T20:04:38.824Z"
   },
   {
    "duration": 27,
    "start_time": "2022-01-27T20:04:38.828Z"
   },
   {
    "duration": 6,
    "start_time": "2022-01-27T20:04:38.857Z"
   },
   {
    "duration": 40,
    "start_time": "2022-01-27T20:04:38.864Z"
   },
   {
    "duration": 11,
    "start_time": "2022-01-27T20:04:38.906Z"
   },
   {
    "duration": 7,
    "start_time": "2022-01-27T20:04:38.919Z"
   },
   {
    "duration": 9,
    "start_time": "2022-01-27T20:04:38.928Z"
   },
   {
    "duration": 10,
    "start_time": "2022-01-27T20:04:38.940Z"
   },
   {
    "duration": 10,
    "start_time": "2022-01-27T20:04:38.952Z"
   },
   {
    "duration": 37,
    "start_time": "2022-01-27T20:04:38.964Z"
   },
   {
    "duration": 8,
    "start_time": "2022-01-27T20:04:39.003Z"
   },
   {
    "duration": 10,
    "start_time": "2022-01-27T20:04:39.017Z"
   },
   {
    "duration": 254,
    "start_time": "2022-01-27T20:05:14.303Z"
   },
   {
    "duration": 25,
    "start_time": "2022-01-27T20:05:55.976Z"
   },
   {
    "duration": 195,
    "start_time": "2022-01-27T20:12:50.038Z"
   },
   {
    "duration": 23,
    "start_time": "2022-01-27T20:13:11.354Z"
   },
   {
    "duration": 869,
    "start_time": "2022-01-28T08:35:26.441Z"
   },
   {
    "duration": 72,
    "start_time": "2022-01-28T08:35:27.313Z"
   },
   {
    "duration": 31,
    "start_time": "2022-01-28T08:35:27.388Z"
   },
   {
    "duration": 38,
    "start_time": "2022-01-28T08:35:27.421Z"
   },
   {
    "duration": 17,
    "start_time": "2022-01-28T08:35:27.462Z"
   },
   {
    "duration": 23,
    "start_time": "2022-01-28T08:35:27.482Z"
   },
   {
    "duration": 44,
    "start_time": "2022-01-28T08:35:27.507Z"
   },
   {
    "duration": 676,
    "start_time": "2022-01-28T08:35:27.555Z"
   },
   {
    "duration": 13,
    "start_time": "2022-01-28T08:35:28.233Z"
   },
   {
    "duration": 14,
    "start_time": "2022-01-28T08:35:28.247Z"
   },
   {
    "duration": 30,
    "start_time": "2022-01-28T08:35:28.263Z"
   },
   {
    "duration": 16,
    "start_time": "2022-01-28T08:35:28.294Z"
   },
   {
    "duration": 30,
    "start_time": "2022-01-28T08:35:28.312Z"
   },
   {
    "duration": 23,
    "start_time": "2022-01-28T08:35:28.344Z"
   },
   {
    "duration": 15,
    "start_time": "2022-01-28T08:35:28.369Z"
   },
   {
    "duration": 25,
    "start_time": "2022-01-28T08:35:28.386Z"
   },
   {
    "duration": 46,
    "start_time": "2022-01-28T08:35:28.413Z"
   },
   {
    "duration": 43,
    "start_time": "2022-01-28T08:35:28.462Z"
   },
   {
    "duration": 40,
    "start_time": "2022-01-28T08:35:28.507Z"
   },
   {
    "duration": 30,
    "start_time": "2022-01-28T08:35:28.549Z"
   },
   {
    "duration": 60,
    "start_time": "2022-01-28T08:35:28.581Z"
   },
   {
    "duration": 33,
    "start_time": "2022-01-28T08:35:28.643Z"
   },
   {
    "duration": 32,
    "start_time": "2022-01-28T08:35:28.680Z"
   },
   {
    "duration": 37,
    "start_time": "2022-01-28T08:35:28.715Z"
   },
   {
    "duration": 40,
    "start_time": "2022-01-28T08:35:28.754Z"
   },
   {
    "duration": 48,
    "start_time": "2022-01-28T08:35:28.797Z"
   },
   {
    "duration": 32,
    "start_time": "2022-01-28T08:35:28.847Z"
   },
   {
    "duration": 40,
    "start_time": "2022-01-28T08:35:28.880Z"
   },
   {
    "duration": 53,
    "start_time": "2022-01-28T08:35:28.922Z"
   },
   {
    "duration": 44,
    "start_time": "2022-01-28T08:35:28.977Z"
   },
   {
    "duration": 46,
    "start_time": "2022-01-28T08:35:29.023Z"
   },
   {
    "duration": 52,
    "start_time": "2022-01-28T08:35:29.071Z"
   },
   {
    "duration": 45,
    "start_time": "2022-01-28T08:35:29.125Z"
   },
   {
    "duration": 709,
    "start_time": "2022-01-28T08:35:29.172Z"
   },
   {
    "duration": 3252,
    "start_time": "2022-01-28T08:35:29.884Z"
   },
   {
    "duration": 5,
    "start_time": "2022-01-28T08:35:33.138Z"
   },
   {
    "duration": 23,
    "start_time": "2022-01-28T08:35:33.144Z"
   },
   {
    "duration": 13,
    "start_time": "2022-01-28T08:35:33.169Z"
   },
   {
    "duration": 2,
    "start_time": "2022-01-28T08:35:33.184Z"
   },
   {
    "duration": 7,
    "start_time": "2022-01-28T08:35:33.188Z"
   },
   {
    "duration": 9,
    "start_time": "2022-01-28T08:35:33.197Z"
   },
   {
    "duration": 10,
    "start_time": "2022-01-28T08:35:33.208Z"
   },
   {
    "duration": 8,
    "start_time": "2022-01-28T08:35:33.219Z"
   },
   {
    "duration": 35,
    "start_time": "2022-01-28T08:35:33.228Z"
   },
   {
    "duration": 17,
    "start_time": "2022-01-28T08:35:33.265Z"
   },
   {
    "duration": 6,
    "start_time": "2022-01-28T08:35:33.284Z"
   },
   {
    "duration": 7,
    "start_time": "2022-01-28T08:35:33.292Z"
   },
   {
    "duration": 10,
    "start_time": "2022-01-28T08:35:33.300Z"
   },
   {
    "duration": 9,
    "start_time": "2022-01-28T08:35:33.311Z"
   },
   {
    "duration": 40,
    "start_time": "2022-01-28T08:35:33.321Z"
   },
   {
    "duration": 12,
    "start_time": "2022-01-28T08:35:33.363Z"
   },
   {
    "duration": 8,
    "start_time": "2022-01-28T08:35:33.376Z"
   },
   {
    "duration": 4,
    "start_time": "2022-01-28T08:35:33.386Z"
   },
   {
    "duration": 27,
    "start_time": "2022-01-28T08:35:33.392Z"
   },
   {
    "duration": 6,
    "start_time": "2022-01-28T08:35:33.421Z"
   },
   {
    "duration": 39,
    "start_time": "2022-01-28T08:35:33.429Z"
   },
   {
    "duration": 45,
    "start_time": "2022-01-28T08:35:33.469Z"
   },
   {
    "duration": 19,
    "start_time": "2022-01-28T08:35:33.516Z"
   },
   {
    "duration": 18,
    "start_time": "2022-01-28T08:35:33.537Z"
   },
   {
    "duration": 20,
    "start_time": "2022-01-28T08:35:33.557Z"
   },
   {
    "duration": 22,
    "start_time": "2022-01-28T08:35:33.579Z"
   },
   {
    "duration": 17,
    "start_time": "2022-01-28T08:35:33.603Z"
   },
   {
    "duration": 24,
    "start_time": "2022-01-28T08:35:33.622Z"
   },
   {
    "duration": 19,
    "start_time": "2022-01-28T08:35:33.647Z"
   },
   {
    "duration": 23,
    "start_time": "2022-01-28T08:35:52.190Z"
   },
   {
    "duration": 3,
    "start_time": "2022-01-28T08:56:41.300Z"
   },
   {
    "duration": 72,
    "start_time": "2022-01-28T08:56:41.305Z"
   },
   {
    "duration": 14,
    "start_time": "2022-01-28T08:56:41.379Z"
   },
   {
    "duration": 44,
    "start_time": "2022-01-28T08:56:41.395Z"
   },
   {
    "duration": 30,
    "start_time": "2022-01-28T08:56:41.442Z"
   },
   {
    "duration": 33,
    "start_time": "2022-01-28T08:56:41.473Z"
   },
   {
    "duration": 47,
    "start_time": "2022-01-28T08:56:41.508Z"
   },
   {
    "duration": 664,
    "start_time": "2022-01-28T08:56:41.557Z"
   },
   {
    "duration": 16,
    "start_time": "2022-01-28T08:56:42.223Z"
   },
   {
    "duration": 39,
    "start_time": "2022-01-28T08:56:42.241Z"
   },
   {
    "duration": 29,
    "start_time": "2022-01-28T08:56:42.282Z"
   },
   {
    "duration": 44,
    "start_time": "2022-01-28T08:56:42.313Z"
   },
   {
    "duration": 32,
    "start_time": "2022-01-28T08:56:42.358Z"
   },
   {
    "duration": 44,
    "start_time": "2022-01-28T08:56:42.392Z"
   },
   {
    "duration": 31,
    "start_time": "2022-01-28T08:56:42.438Z"
   },
   {
    "duration": 42,
    "start_time": "2022-01-28T08:56:42.471Z"
   },
   {
    "duration": 42,
    "start_time": "2022-01-28T08:56:42.515Z"
   },
   {
    "duration": 45,
    "start_time": "2022-01-28T08:56:42.559Z"
   },
   {
    "duration": 35,
    "start_time": "2022-01-28T08:56:42.607Z"
   },
   {
    "duration": 33,
    "start_time": "2022-01-28T08:56:42.645Z"
   },
   {
    "duration": 47,
    "start_time": "2022-01-28T08:56:42.680Z"
   },
   {
    "duration": 34,
    "start_time": "2022-01-28T08:56:42.729Z"
   },
   {
    "duration": 25,
    "start_time": "2022-01-28T08:56:42.765Z"
   },
   {
    "duration": 23,
    "start_time": "2022-01-28T08:56:42.792Z"
   },
   {
    "duration": 16,
    "start_time": "2022-01-28T08:56:42.817Z"
   },
   {
    "duration": 35,
    "start_time": "2022-01-28T08:56:42.834Z"
   },
   {
    "duration": 40,
    "start_time": "2022-01-28T08:56:42.871Z"
   },
   {
    "duration": 17,
    "start_time": "2022-01-28T08:56:42.913Z"
   },
   {
    "duration": 50,
    "start_time": "2022-01-28T08:56:42.931Z"
   },
   {
    "duration": 40,
    "start_time": "2022-01-28T08:56:42.983Z"
   },
   {
    "duration": 55,
    "start_time": "2022-01-28T08:56:43.025Z"
   },
   {
    "duration": 43,
    "start_time": "2022-01-28T08:56:43.082Z"
   },
   {
    "duration": 51,
    "start_time": "2022-01-28T08:56:43.127Z"
   },
   {
    "duration": 727,
    "start_time": "2022-01-28T08:56:43.180Z"
   },
   {
    "duration": 2865,
    "start_time": "2022-01-28T08:56:43.909Z"
   },
   {
    "duration": 5,
    "start_time": "2022-01-28T08:56:46.776Z"
   },
   {
    "duration": 28,
    "start_time": "2022-01-28T08:56:46.782Z"
   },
   {
    "duration": 38,
    "start_time": "2022-01-28T08:56:46.812Z"
   },
   {
    "duration": 23,
    "start_time": "2022-01-28T08:56:46.852Z"
   },
   {
    "duration": 63,
    "start_time": "2022-01-28T08:56:46.877Z"
   },
   {
    "duration": 37,
    "start_time": "2022-01-28T08:56:46.942Z"
   },
   {
    "duration": 47,
    "start_time": "2022-01-28T08:56:46.980Z"
   },
   {
    "duration": 31,
    "start_time": "2022-01-28T08:56:47.029Z"
   },
   {
    "duration": 30,
    "start_time": "2022-01-28T08:56:47.062Z"
   },
   {
    "duration": 46,
    "start_time": "2022-01-28T08:56:47.094Z"
   },
   {
    "duration": 47,
    "start_time": "2022-01-28T08:56:47.142Z"
   },
   {
    "duration": 46,
    "start_time": "2022-01-28T08:56:47.191Z"
   },
   {
    "duration": 40,
    "start_time": "2022-01-28T08:56:47.239Z"
   },
   {
    "duration": 42,
    "start_time": "2022-01-28T08:56:47.281Z"
   },
   {
    "duration": 36,
    "start_time": "2022-01-28T08:56:47.324Z"
   },
   {
    "duration": 26,
    "start_time": "2022-01-28T08:56:47.362Z"
   },
   {
    "duration": 30,
    "start_time": "2022-01-28T08:56:47.390Z"
   },
   {
    "duration": 47,
    "start_time": "2022-01-28T08:56:47.422Z"
   },
   {
    "duration": 16,
    "start_time": "2022-01-28T08:56:47.471Z"
   },
   {
    "duration": 28,
    "start_time": "2022-01-28T08:56:47.491Z"
   },
   {
    "duration": 44,
    "start_time": "2022-01-28T08:56:47.521Z"
   },
   {
    "duration": 36,
    "start_time": "2022-01-28T08:56:47.567Z"
   },
   {
    "duration": 48,
    "start_time": "2022-01-28T08:56:47.605Z"
   },
   {
    "duration": 39,
    "start_time": "2022-01-28T08:56:47.654Z"
   },
   {
    "duration": 36,
    "start_time": "2022-01-28T08:56:47.695Z"
   },
   {
    "duration": 34,
    "start_time": "2022-01-28T08:56:47.733Z"
   },
   {
    "duration": 39,
    "start_time": "2022-01-28T08:56:47.769Z"
   },
   {
    "duration": 41,
    "start_time": "2022-01-28T08:56:47.809Z"
   },
   {
    "duration": -74,
    "start_time": "2022-01-28T08:58:17.760Z"
   },
   {
    "duration": 3,
    "start_time": "2022-01-28T08:58:19.879Z"
   },
   {
    "duration": 52,
    "start_time": "2022-01-28T08:58:19.884Z"
   },
   {
    "duration": 13,
    "start_time": "2022-01-28T08:58:19.938Z"
   },
   {
    "duration": 12,
    "start_time": "2022-01-28T08:58:19.953Z"
   },
   {
    "duration": 9,
    "start_time": "2022-01-28T08:58:19.967Z"
   },
   {
    "duration": 9,
    "start_time": "2022-01-28T08:58:19.978Z"
   },
   {
    "duration": 12,
    "start_time": "2022-01-28T08:58:19.990Z"
   },
   {
    "duration": 692,
    "start_time": "2022-01-28T08:58:20.005Z"
   },
   {
    "duration": 13,
    "start_time": "2022-01-28T08:58:20.698Z"
   },
   {
    "duration": 11,
    "start_time": "2022-01-28T08:58:20.713Z"
   },
   {
    "duration": 5,
    "start_time": "2022-01-28T08:58:20.725Z"
   },
   {
    "duration": 19,
    "start_time": "2022-01-28T08:58:20.731Z"
   },
   {
    "duration": 11,
    "start_time": "2022-01-28T08:58:20.761Z"
   },
   {
    "duration": 21,
    "start_time": "2022-01-28T08:58:20.773Z"
   },
   {
    "duration": 20,
    "start_time": "2022-01-28T08:58:20.796Z"
   },
   {
    "duration": 37,
    "start_time": "2022-01-28T08:58:20.818Z"
   },
   {
    "duration": 21,
    "start_time": "2022-01-28T08:58:20.857Z"
   },
   {
    "duration": 21,
    "start_time": "2022-01-28T08:58:20.880Z"
   },
   {
    "duration": 23,
    "start_time": "2022-01-28T08:58:20.904Z"
   },
   {
    "duration": 13,
    "start_time": "2022-01-28T08:58:20.930Z"
   },
   {
    "duration": 40,
    "start_time": "2022-01-28T08:58:20.945Z"
   },
   {
    "duration": 16,
    "start_time": "2022-01-28T08:58:20.987Z"
   },
   {
    "duration": 25,
    "start_time": "2022-01-28T08:58:21.005Z"
   },
   {
    "duration": 11,
    "start_time": "2022-01-28T08:58:21.032Z"
   },
   {
    "duration": 12,
    "start_time": "2022-01-28T08:58:21.045Z"
   },
   {
    "duration": 23,
    "start_time": "2022-01-28T08:58:21.059Z"
   },
   {
    "duration": 37,
    "start_time": "2022-01-28T08:58:21.084Z"
   },
   {
    "duration": 6392,
    "start_time": "2022-01-28T08:58:21.123Z"
   },
   {
    "duration": -88,
    "start_time": "2022-01-28T08:58:27.605Z"
   },
   {
    "duration": -99,
    "start_time": "2022-01-28T08:58:27.617Z"
   },
   {
    "duration": -106,
    "start_time": "2022-01-28T08:58:27.625Z"
   },
   {
    "duration": -114,
    "start_time": "2022-01-28T08:58:27.634Z"
   },
   {
    "duration": -117,
    "start_time": "2022-01-28T08:58:27.638Z"
   },
   {
    "duration": -121,
    "start_time": "2022-01-28T08:58:27.643Z"
   },
   {
    "duration": -126,
    "start_time": "2022-01-28T08:58:27.649Z"
   },
   {
    "duration": -131,
    "start_time": "2022-01-28T08:58:27.655Z"
   },
   {
    "duration": -134,
    "start_time": "2022-01-28T08:58:27.659Z"
   },
   {
    "duration": -140,
    "start_time": "2022-01-28T08:58:27.666Z"
   },
   {
    "duration": -143,
    "start_time": "2022-01-28T08:58:27.670Z"
   },
   {
    "duration": -147,
    "start_time": "2022-01-28T08:58:27.675Z"
   },
   {
    "duration": -153,
    "start_time": "2022-01-28T08:58:27.682Z"
   },
   {
    "duration": -157,
    "start_time": "2022-01-28T08:58:27.687Z"
   },
   {
    "duration": -160,
    "start_time": "2022-01-28T08:58:27.691Z"
   },
   {
    "duration": -166,
    "start_time": "2022-01-28T08:58:27.698Z"
   },
   {
    "duration": -170,
    "start_time": "2022-01-28T08:58:27.703Z"
   },
   {
    "duration": -174,
    "start_time": "2022-01-28T08:58:27.708Z"
   },
   {
    "duration": -179,
    "start_time": "2022-01-28T08:58:27.714Z"
   },
   {
    "duration": -183,
    "start_time": "2022-01-28T08:58:27.719Z"
   },
   {
    "duration": -186,
    "start_time": "2022-01-28T08:58:27.723Z"
   },
   {
    "duration": -189,
    "start_time": "2022-01-28T08:58:27.727Z"
   },
   {
    "duration": -193,
    "start_time": "2022-01-28T08:58:27.732Z"
   },
   {
    "duration": -196,
    "start_time": "2022-01-28T08:58:27.736Z"
   },
   {
    "duration": -199,
    "start_time": "2022-01-28T08:58:27.740Z"
   },
   {
    "duration": -202,
    "start_time": "2022-01-28T08:58:27.744Z"
   },
   {
    "duration": -205,
    "start_time": "2022-01-28T08:58:27.748Z"
   },
   {
    "duration": -209,
    "start_time": "2022-01-28T08:58:27.753Z"
   },
   {
    "duration": -211,
    "start_time": "2022-01-28T08:58:27.756Z"
   },
   {
    "duration": -214,
    "start_time": "2022-01-28T08:58:27.760Z"
   },
   {
    "duration": -218,
    "start_time": "2022-01-28T08:58:27.765Z"
   },
   {
    "duration": -221,
    "start_time": "2022-01-28T08:58:27.769Z"
   },
   {
    "duration": -224,
    "start_time": "2022-01-28T08:58:27.773Z"
   },
   {
    "duration": -227,
    "start_time": "2022-01-28T08:58:27.777Z"
   },
   {
    "duration": -230,
    "start_time": "2022-01-28T08:58:27.781Z"
   },
   {
    "duration": -233,
    "start_time": "2022-01-28T08:58:27.785Z"
   },
   {
    "duration": 33,
    "start_time": "2022-01-28T09:28:46.031Z"
   },
   {
    "duration": 41,
    "start_time": "2022-01-28T09:31:20.232Z"
   },
   {
    "duration": 6430,
    "start_time": "2022-01-28T09:32:10.867Z"
   },
   {
    "duration": 3,
    "start_time": "2022-01-28T09:32:32.342Z"
   },
   {
    "duration": 78,
    "start_time": "2022-01-28T09:32:32.347Z"
   },
   {
    "duration": 14,
    "start_time": "2022-01-28T09:32:32.428Z"
   },
   {
    "duration": 42,
    "start_time": "2022-01-28T09:32:32.445Z"
   },
   {
    "duration": 25,
    "start_time": "2022-01-28T09:32:32.489Z"
   },
   {
    "duration": 43,
    "start_time": "2022-01-28T09:32:32.517Z"
   },
   {
    "duration": 48,
    "start_time": "2022-01-28T09:32:32.562Z"
   },
   {
    "duration": 696,
    "start_time": "2022-01-28T09:32:32.612Z"
   },
   {
    "duration": 13,
    "start_time": "2022-01-28T09:32:33.310Z"
   },
   {
    "duration": 37,
    "start_time": "2022-01-28T09:32:33.325Z"
   },
   {
    "duration": 16,
    "start_time": "2022-01-28T09:32:33.364Z"
   },
   {
    "duration": 23,
    "start_time": "2022-01-28T09:32:33.382Z"
   },
   {
    "duration": 18,
    "start_time": "2022-01-28T09:32:33.407Z"
   },
   {
    "duration": 48,
    "start_time": "2022-01-28T09:32:33.427Z"
   },
   {
    "duration": 13,
    "start_time": "2022-01-28T09:32:33.477Z"
   },
   {
    "duration": 24,
    "start_time": "2022-01-28T09:32:33.492Z"
   },
   {
    "duration": 38,
    "start_time": "2022-01-28T09:32:33.518Z"
   },
   {
    "duration": 20,
    "start_time": "2022-01-28T09:32:33.558Z"
   },
   {
    "duration": 29,
    "start_time": "2022-01-28T09:32:33.580Z"
   },
   {
    "duration": 35,
    "start_time": "2022-01-28T09:32:33.611Z"
   },
   {
    "duration": 30,
    "start_time": "2022-01-28T09:32:33.648Z"
   },
   {
    "duration": 40,
    "start_time": "2022-01-28T09:32:33.679Z"
   },
   {
    "duration": 32,
    "start_time": "2022-01-28T09:32:33.725Z"
   },
   {
    "duration": 33,
    "start_time": "2022-01-28T09:32:33.761Z"
   },
   {
    "duration": 31,
    "start_time": "2022-01-28T09:32:33.796Z"
   },
   {
    "duration": 62,
    "start_time": "2022-01-28T09:32:33.829Z"
   },
   {
    "duration": 29,
    "start_time": "2022-01-28T09:32:33.894Z"
   },
   {
    "duration": 6637,
    "start_time": "2022-01-28T09:32:33.925Z"
   },
   {
    "duration": 126,
    "start_time": "2022-01-28T09:32:40.438Z"
   },
   {
    "duration": 117,
    "start_time": "2022-01-28T09:32:40.448Z"
   },
   {
    "duration": 115,
    "start_time": "2022-01-28T09:32:40.452Z"
   },
   {
    "duration": 111,
    "start_time": "2022-01-28T09:32:40.457Z"
   },
   {
    "duration": 103,
    "start_time": "2022-01-28T09:32:40.466Z"
   },
   {
    "duration": 101,
    "start_time": "2022-01-28T09:32:40.470Z"
   },
   {
    "duration": 95,
    "start_time": "2022-01-28T09:32:40.476Z"
   },
   {
    "duration": 88,
    "start_time": "2022-01-28T09:32:40.485Z"
   },
   {
    "duration": 85,
    "start_time": "2022-01-28T09:32:40.489Z"
   },
   {
    "duration": 74,
    "start_time": "2022-01-28T09:32:40.500Z"
   },
   {
    "duration": 70,
    "start_time": "2022-01-28T09:32:40.505Z"
   },
   {
    "duration": 65,
    "start_time": "2022-01-28T09:32:40.511Z"
   },
   {
    "duration": 56,
    "start_time": "2022-01-28T09:32:40.521Z"
   },
   {
    "duration": 51,
    "start_time": "2022-01-28T09:32:40.527Z"
   },
   {
    "duration": 41,
    "start_time": "2022-01-28T09:32:40.537Z"
   },
   {
    "duration": 37,
    "start_time": "2022-01-28T09:32:40.542Z"
   },
   {
    "duration": 27,
    "start_time": "2022-01-28T09:32:40.553Z"
   },
   {
    "duration": 24,
    "start_time": "2022-01-28T09:32:40.557Z"
   },
   {
    "duration": 16,
    "start_time": "2022-01-28T09:32:40.566Z"
   },
   {
    "duration": 13,
    "start_time": "2022-01-28T09:32:40.570Z"
   },
   {
    "duration": 8,
    "start_time": "2022-01-28T09:32:40.576Z"
   },
   {
    "duration": 0,
    "start_time": "2022-01-28T09:32:40.585Z"
   },
   {
    "duration": -3,
    "start_time": "2022-01-28T09:32:40.589Z"
   },
   {
    "duration": -12,
    "start_time": "2022-01-28T09:32:40.599Z"
   },
   {
    "duration": -16,
    "start_time": "2022-01-28T09:32:40.603Z"
   },
   {
    "duration": -19,
    "start_time": "2022-01-28T09:32:40.607Z"
   },
   {
    "duration": -27,
    "start_time": "2022-01-28T09:32:40.616Z"
   },
   {
    "duration": -30,
    "start_time": "2022-01-28T09:32:40.620Z"
   },
   {
    "duration": -34,
    "start_time": "2022-01-28T09:32:40.625Z"
   },
   {
    "duration": -41,
    "start_time": "2022-01-28T09:32:40.633Z"
   },
   {
    "duration": -44,
    "start_time": "2022-01-28T09:32:40.637Z"
   },
   {
    "duration": -48,
    "start_time": "2022-01-28T09:32:40.642Z"
   },
   {
    "duration": -55,
    "start_time": "2022-01-28T09:32:40.650Z"
   },
   {
    "duration": -58,
    "start_time": "2022-01-28T09:32:40.654Z"
   },
   {
    "duration": -62,
    "start_time": "2022-01-28T09:32:40.659Z"
   },
   {
    "duration": -69,
    "start_time": "2022-01-28T09:32:40.667Z"
   },
   {
    "duration": -73,
    "start_time": "2022-01-28T09:32:40.672Z"
   },
   {
    "duration": 82,
    "start_time": "2022-01-28T09:33:02.100Z"
   },
   {
    "duration": 262,
    "start_time": "2022-01-28T09:33:07.900Z"
   },
   {
    "duration": 137,
    "start_time": "2022-01-28T09:34:14.574Z"
   },
   {
    "duration": 3,
    "start_time": "2022-01-28T09:34:21.213Z"
   },
   {
    "duration": 68,
    "start_time": "2022-01-28T09:34:21.220Z"
   },
   {
    "duration": 13,
    "start_time": "2022-01-28T09:34:21.290Z"
   },
   {
    "duration": 39,
    "start_time": "2022-01-28T09:34:21.306Z"
   },
   {
    "duration": 32,
    "start_time": "2022-01-28T09:34:21.347Z"
   },
   {
    "duration": 26,
    "start_time": "2022-01-28T09:34:21.381Z"
   },
   {
    "duration": 30,
    "start_time": "2022-01-28T09:34:21.409Z"
   },
   {
    "duration": 673,
    "start_time": "2022-01-28T09:34:21.440Z"
   },
   {
    "duration": 12,
    "start_time": "2022-01-28T09:34:22.115Z"
   },
   {
    "duration": 34,
    "start_time": "2022-01-28T09:34:22.129Z"
   },
   {
    "duration": 15,
    "start_time": "2022-01-28T09:34:22.165Z"
   },
   {
    "duration": 12,
    "start_time": "2022-01-28T09:34:22.182Z"
   },
   {
    "duration": 18,
    "start_time": "2022-01-28T09:34:22.195Z"
   },
   {
    "duration": 13,
    "start_time": "2022-01-28T09:34:22.215Z"
   },
   {
    "duration": 5,
    "start_time": "2022-01-28T09:34:22.230Z"
   },
   {
    "duration": 7,
    "start_time": "2022-01-28T09:34:22.237Z"
   },
   {
    "duration": 15,
    "start_time": "2022-01-28T09:34:22.246Z"
   },
   {
    "duration": 7,
    "start_time": "2022-01-28T09:34:22.263Z"
   },
   {
    "duration": 13,
    "start_time": "2022-01-28T09:34:22.272Z"
   },
   {
    "duration": 4,
    "start_time": "2022-01-28T09:34:22.286Z"
   },
   {
    "duration": 26,
    "start_time": "2022-01-28T09:34:22.292Z"
   },
   {
    "duration": 4,
    "start_time": "2022-01-28T09:34:22.320Z"
   },
   {
    "duration": 8,
    "start_time": "2022-01-28T09:34:22.325Z"
   },
   {
    "duration": 5,
    "start_time": "2022-01-28T09:34:22.359Z"
   },
   {
    "duration": 8,
    "start_time": "2022-01-28T09:34:22.366Z"
   },
   {
    "duration": 15,
    "start_time": "2022-01-28T09:34:22.376Z"
   },
   {
    "duration": 15,
    "start_time": "2022-01-28T09:34:22.393Z"
   },
   {
    "duration": 6168,
    "start_time": "2022-01-28T09:34:22.412Z"
   },
   {
    "duration": 98,
    "start_time": "2022-01-28T09:34:28.485Z"
   },
   {
    "duration": 94,
    "start_time": "2022-01-28T09:34:28.490Z"
   },
   {
    "duration": 89,
    "start_time": "2022-01-28T09:34:28.496Z"
   },
   {
    "duration": 83,
    "start_time": "2022-01-28T09:34:28.503Z"
   },
   {
    "duration": 80,
    "start_time": "2022-01-28T09:34:28.507Z"
   },
   {
    "duration": 77,
    "start_time": "2022-01-28T09:34:28.511Z"
   },
   {
    "duration": 71,
    "start_time": "2022-01-28T09:34:28.518Z"
   },
   {
    "duration": 68,
    "start_time": "2022-01-28T09:34:28.522Z"
   },
   {
    "duration": 65,
    "start_time": "2022-01-28T09:34:28.526Z"
   },
   {
    "duration": 62,
    "start_time": "2022-01-28T09:34:28.530Z"
   },
   {
    "duration": 57,
    "start_time": "2022-01-28T09:34:28.536Z"
   },
   {
    "duration": 54,
    "start_time": "2022-01-28T09:34:28.540Z"
   },
   {
    "duration": 51,
    "start_time": "2022-01-28T09:34:28.544Z"
   },
   {
    "duration": 48,
    "start_time": "2022-01-28T09:34:28.548Z"
   },
   {
    "duration": 44,
    "start_time": "2022-01-28T09:34:28.553Z"
   },
   {
    "duration": 41,
    "start_time": "2022-01-28T09:34:28.557Z"
   },
   {
    "duration": 38,
    "start_time": "2022-01-28T09:34:28.561Z"
   },
   {
    "duration": 33,
    "start_time": "2022-01-28T09:34:28.567Z"
   },
   {
    "duration": 24,
    "start_time": "2022-01-28T09:34:28.577Z"
   },
   {
    "duration": 21,
    "start_time": "2022-01-28T09:34:28.581Z"
   },
   {
    "duration": 17,
    "start_time": "2022-01-28T09:34:28.587Z"
   },
   {
    "duration": 14,
    "start_time": "2022-01-28T09:34:28.591Z"
   },
   {
    "duration": 11,
    "start_time": "2022-01-28T09:34:28.595Z"
   },
   {
    "duration": 6,
    "start_time": "2022-01-28T09:34:28.601Z"
   },
   {
    "duration": 3,
    "start_time": "2022-01-28T09:34:28.605Z"
   },
   {
    "duration": 1,
    "start_time": "2022-01-28T09:34:28.608Z"
   },
   {
    "duration": -3,
    "start_time": "2022-01-28T09:34:28.613Z"
   },
   {
    "duration": -8,
    "start_time": "2022-01-28T09:34:28.618Z"
   },
   {
    "duration": -11,
    "start_time": "2022-01-28T09:34:28.622Z"
   },
   {
    "duration": -14,
    "start_time": "2022-01-28T09:34:28.626Z"
   },
   {
    "duration": -17,
    "start_time": "2022-01-28T09:34:28.630Z"
   },
   {
    "duration": -22,
    "start_time": "2022-01-28T09:34:28.636Z"
   },
   {
    "duration": -24,
    "start_time": "2022-01-28T09:34:28.639Z"
   },
   {
    "duration": -27,
    "start_time": "2022-01-28T09:34:28.643Z"
   },
   {
    "duration": -32,
    "start_time": "2022-01-28T09:34:28.648Z"
   },
   {
    "duration": -36,
    "start_time": "2022-01-28T09:34:28.653Z"
   },
   {
    "duration": -39,
    "start_time": "2022-01-28T09:34:28.657Z"
   },
   {
    "duration": 148,
    "start_time": "2022-01-28T09:35:04.244Z"
   },
   {
    "duration": 145,
    "start_time": "2022-01-28T09:35:04.249Z"
   },
   {
    "duration": 138,
    "start_time": "2022-01-28T09:35:04.257Z"
   },
   {
    "duration": 134,
    "start_time": "2022-01-28T09:35:04.262Z"
   },
   {
    "duration": 131,
    "start_time": "2022-01-28T09:35:04.266Z"
   },
   {
    "duration": 127,
    "start_time": "2022-01-28T09:35:04.272Z"
   },
   {
    "duration": 124,
    "start_time": "2022-01-28T09:35:04.276Z"
   },
   {
    "duration": 121,
    "start_time": "2022-01-28T09:35:04.280Z"
   },
   {
    "duration": 116,
    "start_time": "2022-01-28T09:35:04.286Z"
   },
   {
    "duration": 113,
    "start_time": "2022-01-28T09:35:04.291Z"
   },
   {
    "duration": 110,
    "start_time": "2022-01-28T09:35:04.295Z"
   },
   {
    "duration": 106,
    "start_time": "2022-01-28T09:35:04.300Z"
   },
   {
    "duration": 100,
    "start_time": "2022-01-28T09:35:04.307Z"
   },
   {
    "duration": 97,
    "start_time": "2022-01-28T09:35:04.311Z"
   },
   {
    "duration": 86,
    "start_time": "2022-01-28T09:35:04.323Z"
   },
   {
    "duration": 82,
    "start_time": "2022-01-28T09:35:04.328Z"
   },
   {
    "duration": 79,
    "start_time": "2022-01-28T09:35:04.333Z"
   },
   {
    "duration": 73,
    "start_time": "2022-01-28T09:35:04.340Z"
   },
   {
    "duration": 70,
    "start_time": "2022-01-28T09:35:04.344Z"
   },
   {
    "duration": 64,
    "start_time": "2022-01-28T09:35:04.351Z"
   },
   {
    "duration": 60,
    "start_time": "2022-01-28T09:35:04.356Z"
   },
   {
    "duration": 57,
    "start_time": "2022-01-28T09:35:04.360Z"
   },
   {
    "duration": 54,
    "start_time": "2022-01-28T09:35:04.364Z"
   },
   {
    "duration": 49,
    "start_time": "2022-01-28T09:35:04.370Z"
   },
   {
    "duration": 46,
    "start_time": "2022-01-28T09:35:04.374Z"
   },
   {
    "duration": 43,
    "start_time": "2022-01-28T09:35:04.378Z"
   },
   {
    "duration": 40,
    "start_time": "2022-01-28T09:35:04.382Z"
   },
   {
    "duration": 35,
    "start_time": "2022-01-28T09:35:04.388Z"
   },
   {
    "duration": 31,
    "start_time": "2022-01-28T09:35:04.394Z"
   },
   {
    "duration": 27,
    "start_time": "2022-01-28T09:35:04.399Z"
   },
   {
    "duration": 22,
    "start_time": "2022-01-28T09:35:04.405Z"
   },
   {
    "duration": 17,
    "start_time": "2022-01-28T09:35:04.411Z"
   },
   {
    "duration": 13,
    "start_time": "2022-01-28T09:35:04.416Z"
   },
   {
    "duration": 7,
    "start_time": "2022-01-28T09:35:04.423Z"
   },
   {
    "duration": -4,
    "start_time": "2022-01-28T09:35:04.434Z"
   },
   {
    "duration": 21,
    "start_time": "2022-01-28T09:35:04.439Z"
   },
   {
    "duration": 18,
    "start_time": "2022-01-28T09:35:04.443Z"
   },
   {
    "duration": 15,
    "start_time": "2022-01-28T09:35:04.447Z"
   },
   {
    "duration": 11,
    "start_time": "2022-01-28T09:35:04.452Z"
   },
   {
    "duration": 8,
    "start_time": "2022-01-28T09:35:04.456Z"
   },
   {
    "duration": 5,
    "start_time": "2022-01-28T09:35:04.460Z"
   },
   {
    "duration": 2,
    "start_time": "2022-01-28T09:35:04.464Z"
   },
   {
    "duration": -1,
    "start_time": "2022-01-28T09:35:04.468Z"
   },
   {
    "duration": -5,
    "start_time": "2022-01-28T09:35:04.473Z"
   },
   {
    "duration": -19,
    "start_time": "2022-01-28T09:35:04.488Z"
   },
   {
    "duration": -23,
    "start_time": "2022-01-28T09:35:04.492Z"
   },
   {
    "duration": -26,
    "start_time": "2022-01-28T09:35:04.496Z"
   },
   {
    "duration": -29,
    "start_time": "2022-01-28T09:35:04.500Z"
   },
   {
    "duration": -33,
    "start_time": "2022-01-28T09:35:04.505Z"
   },
   {
    "duration": -41,
    "start_time": "2022-01-28T09:35:04.514Z"
   },
   {
    "duration": -46,
    "start_time": "2022-01-28T09:35:04.520Z"
   },
   {
    "duration": -54,
    "start_time": "2022-01-28T09:35:04.529Z"
   },
   {
    "duration": -56,
    "start_time": "2022-01-28T09:35:04.532Z"
   },
   {
    "duration": -60,
    "start_time": "2022-01-28T09:35:04.538Z"
   },
   {
    "duration": -68,
    "start_time": "2022-01-28T09:35:04.547Z"
   },
   {
    "duration": -71,
    "start_time": "2022-01-28T09:35:04.551Z"
   },
   {
    "duration": -146,
    "start_time": "2022-01-28T09:35:04.627Z"
   },
   {
    "duration": -157,
    "start_time": "2022-01-28T09:35:04.639Z"
   },
   {
    "duration": -160,
    "start_time": "2022-01-28T09:35:04.643Z"
   },
   {
    "duration": -163,
    "start_time": "2022-01-28T09:35:04.647Z"
   },
   {
    "duration": -165,
    "start_time": "2022-01-28T09:35:04.650Z"
   },
   {
    "duration": -173,
    "start_time": "2022-01-28T09:35:04.659Z"
   },
   {
    "duration": -182,
    "start_time": "2022-01-28T09:35:04.669Z"
   },
   {
    "duration": -185,
    "start_time": "2022-01-28T09:35:04.673Z"
   },
   {
    "duration": -188,
    "start_time": "2022-01-28T09:35:04.677Z"
   },
   {
    "duration": 4,
    "start_time": "2022-01-28T09:36:01.980Z"
   },
   {
    "duration": 66,
    "start_time": "2022-01-28T09:36:01.986Z"
   },
   {
    "duration": 19,
    "start_time": "2022-01-28T09:36:02.054Z"
   },
   {
    "duration": 17,
    "start_time": "2022-01-28T09:36:02.076Z"
   },
   {
    "duration": 10,
    "start_time": "2022-01-28T09:36:02.095Z"
   },
   {
    "duration": 10,
    "start_time": "2022-01-28T09:36:02.107Z"
   },
   {
    "duration": 57,
    "start_time": "2022-01-28T09:36:02.119Z"
   },
   {
    "duration": 717,
    "start_time": "2022-01-28T09:36:02.179Z"
   },
   {
    "duration": 14,
    "start_time": "2022-01-28T09:36:02.898Z"
   },
   {
    "duration": 19,
    "start_time": "2022-01-28T09:36:02.913Z"
   },
   {
    "duration": 24,
    "start_time": "2022-01-28T09:36:02.934Z"
   },
   {
    "duration": 16,
    "start_time": "2022-01-28T09:36:02.960Z"
   },
   {
    "duration": 14,
    "start_time": "2022-01-28T09:36:02.978Z"
   },
   {
    "duration": 16,
    "start_time": "2022-01-28T09:36:02.994Z"
   },
   {
    "duration": 20,
    "start_time": "2022-01-28T09:36:03.012Z"
   },
   {
    "duration": 17,
    "start_time": "2022-01-28T09:36:03.033Z"
   },
   {
    "duration": 20,
    "start_time": "2022-01-28T09:36:03.052Z"
   },
   {
    "duration": 23,
    "start_time": "2022-01-28T09:36:03.074Z"
   },
   {
    "duration": 6,
    "start_time": "2022-01-28T09:36:03.101Z"
   },
   {
    "duration": 4,
    "start_time": "2022-01-28T09:36:03.109Z"
   },
   {
    "duration": 26,
    "start_time": "2022-01-28T09:36:03.115Z"
   },
   {
    "duration": 5,
    "start_time": "2022-01-28T09:36:03.143Z"
   },
   {
    "duration": 17,
    "start_time": "2022-01-28T09:36:03.149Z"
   },
   {
    "duration": 8,
    "start_time": "2022-01-28T09:36:03.168Z"
   },
   {
    "duration": 6,
    "start_time": "2022-01-28T09:36:03.178Z"
   },
   {
    "duration": 19,
    "start_time": "2022-01-28T09:36:03.185Z"
   },
   {
    "duration": 15,
    "start_time": "2022-01-28T09:36:03.206Z"
   },
   {
    "duration": 6695,
    "start_time": "2022-01-28T09:36:03.223Z"
   },
   {
    "duration": 95,
    "start_time": "2022-01-28T09:36:09.825Z"
   },
   {
    "duration": 91,
    "start_time": "2022-01-28T09:36:09.830Z"
   },
   {
    "duration": 85,
    "start_time": "2022-01-28T09:36:09.837Z"
   },
   {
    "duration": 82,
    "start_time": "2022-01-28T09:36:09.841Z"
   },
   {
    "duration": 79,
    "start_time": "2022-01-28T09:36:09.845Z"
   },
   {
    "duration": 73,
    "start_time": "2022-01-28T09:36:09.852Z"
   },
   {
    "duration": 71,
    "start_time": "2022-01-28T09:36:09.855Z"
   },
   {
    "duration": 68,
    "start_time": "2022-01-28T09:36:09.859Z"
   },
   {
    "duration": 64,
    "start_time": "2022-01-28T09:36:09.864Z"
   },
   {
    "duration": 60,
    "start_time": "2022-01-28T09:36:09.869Z"
   },
   {
    "duration": 57,
    "start_time": "2022-01-28T09:36:09.873Z"
   },
   {
    "duration": 54,
    "start_time": "2022-01-28T09:36:09.877Z"
   },
   {
    "duration": 51,
    "start_time": "2022-01-28T09:36:09.881Z"
   },
   {
    "duration": 46,
    "start_time": "2022-01-28T09:36:09.887Z"
   },
   {
    "duration": 43,
    "start_time": "2022-01-28T09:36:09.891Z"
   },
   {
    "duration": 40,
    "start_time": "2022-01-28T09:36:09.895Z"
   },
   {
    "duration": 36,
    "start_time": "2022-01-28T09:36:09.900Z"
   },
   {
    "duration": 27,
    "start_time": "2022-01-28T09:36:09.910Z"
   },
   {
    "duration": 24,
    "start_time": "2022-01-28T09:36:09.914Z"
   },
   {
    "duration": 19,
    "start_time": "2022-01-28T09:36:09.920Z"
   },
   {
    "duration": 16,
    "start_time": "2022-01-28T09:36:09.924Z"
   },
   {
    "duration": 13,
    "start_time": "2022-01-28T09:36:09.928Z"
   },
   {
    "duration": 10,
    "start_time": "2022-01-28T09:36:09.932Z"
   },
   {
    "duration": 5,
    "start_time": "2022-01-28T09:36:09.938Z"
   },
   {
    "duration": 2,
    "start_time": "2022-01-28T09:36:09.942Z"
   },
   {
    "duration": -1,
    "start_time": "2022-01-28T09:36:09.946Z"
   },
   {
    "duration": -5,
    "start_time": "2022-01-28T09:36:09.951Z"
   },
   {
    "duration": -8,
    "start_time": "2022-01-28T09:36:09.955Z"
   },
   {
    "duration": -11,
    "start_time": "2022-01-28T09:36:09.959Z"
   },
   {
    "duration": -14,
    "start_time": "2022-01-28T09:36:09.963Z"
   },
   {
    "duration": -19,
    "start_time": "2022-01-28T09:36:09.969Z"
   },
   {
    "duration": -22,
    "start_time": "2022-01-28T09:36:09.973Z"
   },
   {
    "duration": -24,
    "start_time": "2022-01-28T09:36:09.976Z"
   },
   {
    "duration": -29,
    "start_time": "2022-01-28T09:36:09.981Z"
   },
   {
    "duration": -33,
    "start_time": "2022-01-28T09:36:09.986Z"
   },
   {
    "duration": -36,
    "start_time": "2022-01-28T09:36:09.990Z"
   },
   {
    "duration": -39,
    "start_time": "2022-01-28T09:36:09.994Z"
   },
   {
    "duration": 251,
    "start_time": "2022-01-28T09:44:10.305Z"
   },
   {
    "duration": 5,
    "start_time": "2022-01-28T09:44:21.846Z"
   },
   {
    "duration": 8,
    "start_time": "2022-01-28T09:44:48.006Z"
   },
   {
    "duration": 17,
    "start_time": "2022-01-28T09:47:24.551Z"
   },
   {
    "duration": 3,
    "start_time": "2022-01-28T09:47:34.436Z"
   },
   {
    "duration": 69,
    "start_time": "2022-01-28T09:47:34.441Z"
   },
   {
    "duration": 13,
    "start_time": "2022-01-28T09:47:34.511Z"
   },
   {
    "duration": 39,
    "start_time": "2022-01-28T09:47:34.526Z"
   },
   {
    "duration": 33,
    "start_time": "2022-01-28T09:47:34.567Z"
   },
   {
    "duration": 34,
    "start_time": "2022-01-28T09:47:34.601Z"
   },
   {
    "duration": 30,
    "start_time": "2022-01-28T09:47:34.638Z"
   },
   {
    "duration": 667,
    "start_time": "2022-01-28T09:47:34.670Z"
   },
   {
    "duration": 13,
    "start_time": "2022-01-28T09:47:35.338Z"
   },
   {
    "duration": 35,
    "start_time": "2022-01-28T09:47:35.360Z"
   },
   {
    "duration": 33,
    "start_time": "2022-01-28T09:47:35.397Z"
   },
   {
    "duration": 32,
    "start_time": "2022-01-28T09:47:35.431Z"
   },
   {
    "duration": 34,
    "start_time": "2022-01-28T09:47:35.464Z"
   },
   {
    "duration": 52,
    "start_time": "2022-01-28T09:47:35.500Z"
   },
   {
    "duration": 31,
    "start_time": "2022-01-28T09:47:35.554Z"
   },
   {
    "duration": 28,
    "start_time": "2022-01-28T09:47:35.586Z"
   },
   {
    "duration": 36,
    "start_time": "2022-01-28T09:47:35.615Z"
   },
   {
    "duration": 56,
    "start_time": "2022-01-28T09:47:35.653Z"
   },
   {
    "duration": 21,
    "start_time": "2022-01-28T09:47:35.712Z"
   },
   {
    "duration": 24,
    "start_time": "2022-01-28T09:47:35.735Z"
   },
   {
    "duration": 49,
    "start_time": "2022-01-28T09:47:35.761Z"
   },
   {
    "duration": 37,
    "start_time": "2022-01-28T09:47:35.812Z"
   },
   {
    "duration": 35,
    "start_time": "2022-01-28T09:47:35.850Z"
   },
   {
    "duration": 36,
    "start_time": "2022-01-28T09:47:35.887Z"
   },
   {
    "duration": 39,
    "start_time": "2022-01-28T09:47:35.925Z"
   },
   {
    "duration": 46,
    "start_time": "2022-01-28T09:47:35.965Z"
   },
   {
    "duration": 39,
    "start_time": "2022-01-28T09:47:36.013Z"
   },
   {
    "duration": 41,
    "start_time": "2022-01-28T09:47:36.054Z"
   },
   {
    "duration": 29,
    "start_time": "2022-01-28T09:47:36.097Z"
   },
   {
    "duration": 61,
    "start_time": "2022-01-28T09:47:36.128Z"
   },
   {
    "duration": 45,
    "start_time": "2022-01-28T09:47:36.191Z"
   },
   {
    "duration": 38,
    "start_time": "2022-01-28T09:47:36.239Z"
   },
   {
    "duration": 40,
    "start_time": "2022-01-28T09:47:36.279Z"
   },
   {
    "duration": 55,
    "start_time": "2022-01-28T09:47:36.321Z"
   },
   {
    "duration": 787,
    "start_time": "2022-01-28T09:47:36.377Z"
   },
   {
    "duration": 3064,
    "start_time": "2022-01-28T09:47:37.167Z"
   },
   {
    "duration": 5,
    "start_time": "2022-01-28T09:47:40.233Z"
   },
   {
    "duration": 26,
    "start_time": "2022-01-28T09:47:40.240Z"
   },
   {
    "duration": 12,
    "start_time": "2022-01-28T09:47:40.268Z"
   },
   {
    "duration": 3,
    "start_time": "2022-01-28T09:47:40.282Z"
   },
   {
    "duration": 10,
    "start_time": "2022-01-28T09:47:40.287Z"
   },
   {
    "duration": 7,
    "start_time": "2022-01-28T09:47:40.299Z"
   },
   {
    "duration": 12,
    "start_time": "2022-01-28T09:47:40.307Z"
   },
   {
    "duration": 8,
    "start_time": "2022-01-28T09:47:40.321Z"
   },
   {
    "duration": 5,
    "start_time": "2022-01-28T09:47:40.361Z"
   },
   {
    "duration": 20,
    "start_time": "2022-01-28T09:47:40.368Z"
   },
   {
    "duration": 3,
    "start_time": "2022-01-28T09:47:40.390Z"
   },
   {
    "duration": 6,
    "start_time": "2022-01-28T09:47:40.395Z"
   },
   {
    "duration": 11,
    "start_time": "2022-01-28T09:47:40.403Z"
   },
   {
    "duration": 12,
    "start_time": "2022-01-28T09:47:40.416Z"
   },
   {
    "duration": 39,
    "start_time": "2022-01-28T09:47:40.430Z"
   },
   {
    "duration": 8,
    "start_time": "2022-01-28T09:47:40.471Z"
   },
   {
    "duration": 10,
    "start_time": "2022-01-28T09:47:40.480Z"
   },
   {
    "duration": 21,
    "start_time": "2022-01-28T09:47:40.492Z"
   },
   {
    "duration": 6,
    "start_time": "2022-01-28T09:47:40.517Z"
   },
   {
    "duration": 43,
    "start_time": "2022-01-28T09:47:40.524Z"
   },
   {
    "duration": 10,
    "start_time": "2022-01-28T09:47:40.569Z"
   },
   {
    "duration": 9,
    "start_time": "2022-01-28T09:47:40.580Z"
   },
   {
    "duration": 9,
    "start_time": "2022-01-28T09:47:40.591Z"
   },
   {
    "duration": 8,
    "start_time": "2022-01-28T09:47:40.601Z"
   },
   {
    "duration": 20,
    "start_time": "2022-01-28T09:47:40.611Z"
   },
   {
    "duration": 14,
    "start_time": "2022-01-28T09:47:40.633Z"
   },
   {
    "duration": 12,
    "start_time": "2022-01-28T09:47:40.649Z"
   },
   {
    "duration": 7,
    "start_time": "2022-01-28T09:47:40.663Z"
   },
   {
    "duration": 23,
    "start_time": "2022-01-28T09:48:15.045Z"
   },
   {
    "duration": 3,
    "start_time": "2022-01-28T09:48:38.871Z"
   },
   {
    "duration": 57,
    "start_time": "2022-01-28T09:48:38.876Z"
   },
   {
    "duration": 15,
    "start_time": "2022-01-28T09:48:38.935Z"
   },
   {
    "duration": 13,
    "start_time": "2022-01-28T09:48:38.960Z"
   },
   {
    "duration": 11,
    "start_time": "2022-01-28T09:48:38.975Z"
   },
   {
    "duration": 9,
    "start_time": "2022-01-28T09:48:38.988Z"
   },
   {
    "duration": 15,
    "start_time": "2022-01-28T09:48:39.000Z"
   },
   {
    "duration": 704,
    "start_time": "2022-01-28T09:48:39.017Z"
   },
   {
    "duration": 15,
    "start_time": "2022-01-28T09:48:39.722Z"
   },
   {
    "duration": 24,
    "start_time": "2022-01-28T09:48:39.739Z"
   },
   {
    "duration": 3,
    "start_time": "2022-01-28T09:48:39.765Z"
   },
   {
    "duration": 10,
    "start_time": "2022-01-28T09:48:39.770Z"
   },
   {
    "duration": 3,
    "start_time": "2022-01-28T09:48:39.782Z"
   },
   {
    "duration": 13,
    "start_time": "2022-01-28T09:48:39.786Z"
   },
   {
    "duration": 4,
    "start_time": "2022-01-28T09:48:39.800Z"
   },
   {
    "duration": 9,
    "start_time": "2022-01-28T09:48:39.806Z"
   },
   {
    "duration": 8,
    "start_time": "2022-01-28T09:48:39.816Z"
   },
   {
    "duration": 36,
    "start_time": "2022-01-28T09:48:39.826Z"
   },
   {
    "duration": 6,
    "start_time": "2022-01-28T09:48:39.865Z"
   },
   {
    "duration": 5,
    "start_time": "2022-01-28T09:48:39.873Z"
   },
   {
    "duration": 24,
    "start_time": "2022-01-28T09:48:39.879Z"
   },
   {
    "duration": 5,
    "start_time": "2022-01-28T09:48:39.904Z"
   },
   {
    "duration": 8,
    "start_time": "2022-01-28T09:48:39.910Z"
   },
   {
    "duration": 3,
    "start_time": "2022-01-28T09:48:39.919Z"
   },
   {
    "duration": 4,
    "start_time": "2022-01-28T09:48:39.924Z"
   },
   {
    "duration": 43,
    "start_time": "2022-01-28T09:48:39.929Z"
   },
   {
    "duration": 15,
    "start_time": "2022-01-28T09:48:39.974Z"
   },
   {
    "duration": 17,
    "start_time": "2022-01-28T09:48:39.991Z"
   },
   {
    "duration": 52,
    "start_time": "2022-01-28T09:48:40.010Z"
   },
   {
    "duration": 8,
    "start_time": "2022-01-28T09:48:40.064Z"
   },
   {
    "duration": 18,
    "start_time": "2022-01-28T09:48:40.074Z"
   },
   {
    "duration": 14,
    "start_time": "2022-01-28T09:48:40.095Z"
   },
   {
    "duration": 16,
    "start_time": "2022-01-28T09:48:40.111Z"
   },
   {
    "duration": 10,
    "start_time": "2022-01-28T09:48:40.129Z"
   },
   {
    "duration": 8,
    "start_time": "2022-01-28T09:48:40.160Z"
   },
   {
    "duration": 715,
    "start_time": "2022-01-28T09:48:40.170Z"
   },
   {
    "duration": 2997,
    "start_time": "2022-01-28T09:48:40.887Z"
   },
   {
    "duration": 4,
    "start_time": "2022-01-28T09:48:43.886Z"
   },
   {
    "duration": 22,
    "start_time": "2022-01-28T09:48:43.892Z"
   },
   {
    "duration": 12,
    "start_time": "2022-01-28T09:48:43.916Z"
   },
   {
    "duration": 2,
    "start_time": "2022-01-28T09:48:43.930Z"
   },
   {
    "duration": 12,
    "start_time": "2022-01-28T09:48:43.934Z"
   },
   {
    "duration": 16,
    "start_time": "2022-01-28T09:48:43.948Z"
   },
   {
    "duration": 16,
    "start_time": "2022-01-28T09:48:43.965Z"
   },
   {
    "duration": 8,
    "start_time": "2022-01-28T09:48:43.983Z"
   },
   {
    "duration": 4,
    "start_time": "2022-01-28T09:48:43.993Z"
   },
   {
    "duration": 14,
    "start_time": "2022-01-28T09:48:43.999Z"
   },
   {
    "duration": 4,
    "start_time": "2022-01-28T09:48:44.014Z"
   },
   {
    "duration": 7,
    "start_time": "2022-01-28T09:48:44.020Z"
   },
   {
    "duration": 10,
    "start_time": "2022-01-28T09:48:44.028Z"
   },
   {
    "duration": 9,
    "start_time": "2022-01-28T09:48:44.061Z"
   },
   {
    "duration": 8,
    "start_time": "2022-01-28T09:48:44.071Z"
   },
   {
    "duration": 6,
    "start_time": "2022-01-28T09:48:44.081Z"
   },
   {
    "duration": 8,
    "start_time": "2022-01-28T09:48:44.089Z"
   },
   {
    "duration": 27,
    "start_time": "2022-01-28T09:48:44.101Z"
   },
   {
    "duration": 36,
    "start_time": "2022-01-28T09:48:44.130Z"
   },
   {
    "duration": 16,
    "start_time": "2022-01-28T09:48:44.168Z"
   },
   {
    "duration": 8,
    "start_time": "2022-01-28T09:48:44.186Z"
   },
   {
    "duration": 6,
    "start_time": "2022-01-28T09:48:44.196Z"
   },
   {
    "duration": 8,
    "start_time": "2022-01-28T09:48:44.204Z"
   },
   {
    "duration": 9,
    "start_time": "2022-01-28T09:48:44.214Z"
   },
   {
    "duration": 36,
    "start_time": "2022-01-28T09:48:44.225Z"
   },
   {
    "duration": 5,
    "start_time": "2022-01-28T09:48:44.263Z"
   },
   {
    "duration": 10,
    "start_time": "2022-01-28T09:48:44.270Z"
   },
   {
    "duration": 8,
    "start_time": "2022-01-28T09:48:44.282Z"
   },
   {
    "duration": 256,
    "start_time": "2022-01-28T10:22:47.293Z"
   },
   {
    "duration": 7,
    "start_time": "2022-01-28T10:22:54.874Z"
   },
   {
    "duration": 11,
    "start_time": "2022-01-28T10:23:01.260Z"
   },
   {
    "duration": 80,
    "start_time": "2022-01-28T11:41:04.509Z"
   },
   {
    "duration": 87,
    "start_time": "2022-01-28T11:42:07.662Z"
   },
   {
    "duration": 82,
    "start_time": "2022-01-28T11:43:31.415Z"
   },
   {
    "duration": 3,
    "start_time": "2022-01-28T11:44:37.438Z"
   },
   {
    "duration": 76,
    "start_time": "2022-01-28T11:44:37.443Z"
   },
   {
    "duration": 12,
    "start_time": "2022-01-28T11:44:37.521Z"
   },
   {
    "duration": 29,
    "start_time": "2022-01-28T11:44:37.535Z"
   },
   {
    "duration": 23,
    "start_time": "2022-01-28T11:44:37.566Z"
   },
   {
    "duration": 33,
    "start_time": "2022-01-28T11:44:37.590Z"
   },
   {
    "duration": 26,
    "start_time": "2022-01-28T11:44:37.625Z"
   },
   {
    "duration": 653,
    "start_time": "2022-01-28T11:44:37.653Z"
   },
   {
    "duration": 13,
    "start_time": "2022-01-28T11:44:38.308Z"
   },
   {
    "duration": 34,
    "start_time": "2022-01-28T11:44:38.323Z"
   },
   {
    "duration": 105,
    "start_time": "2022-01-28T11:44:38.358Z"
   },
   {
    "duration": 191,
    "start_time": "2022-01-28T11:44:38.276Z"
   },
   {
    "duration": 186,
    "start_time": "2022-01-28T11:44:38.282Z"
   },
   {
    "duration": 182,
    "start_time": "2022-01-28T11:44:38.286Z"
   },
   {
    "duration": 179,
    "start_time": "2022-01-28T11:44:38.290Z"
   },
   {
    "duration": 176,
    "start_time": "2022-01-28T11:44:38.294Z"
   },
   {
    "duration": 171,
    "start_time": "2022-01-28T11:44:38.300Z"
   },
   {
    "duration": 168,
    "start_time": "2022-01-28T11:44:38.304Z"
   },
   {
    "duration": 164,
    "start_time": "2022-01-28T11:44:38.309Z"
   },
   {
    "duration": 162,
    "start_time": "2022-01-28T11:44:38.312Z"
   },
   {
    "duration": 156,
    "start_time": "2022-01-28T11:44:38.318Z"
   },
   {
    "duration": 153,
    "start_time": "2022-01-28T11:44:38.322Z"
   },
   {
    "duration": 150,
    "start_time": "2022-01-28T11:44:38.326Z"
   },
   {
    "duration": 146,
    "start_time": "2022-01-28T11:44:38.331Z"
   },
   {
    "duration": 141,
    "start_time": "2022-01-28T11:44:38.337Z"
   },
   {
    "duration": 137,
    "start_time": "2022-01-28T11:44:38.341Z"
   },
   {
    "duration": 134,
    "start_time": "2022-01-28T11:44:38.345Z"
   },
   {
    "duration": 130,
    "start_time": "2022-01-28T11:44:38.350Z"
   },
   {
    "duration": 127,
    "start_time": "2022-01-28T11:44:38.355Z"
   },
   {
    "duration": 124,
    "start_time": "2022-01-28T11:44:38.359Z"
   },
   {
    "duration": 121,
    "start_time": "2022-01-28T11:44:38.363Z"
   },
   {
    "duration": 110,
    "start_time": "2022-01-28T11:44:38.375Z"
   },
   {
    "duration": 105,
    "start_time": "2022-01-28T11:44:38.380Z"
   },
   {
    "duration": 101,
    "start_time": "2022-01-28T11:44:38.385Z"
   },
   {
    "duration": 98,
    "start_time": "2022-01-28T11:44:38.389Z"
   },
   {
    "duration": 96,
    "start_time": "2022-01-28T11:44:38.392Z"
   },
   {
    "duration": 92,
    "start_time": "2022-01-28T11:44:38.397Z"
   },
   {
    "duration": 89,
    "start_time": "2022-01-28T11:44:38.401Z"
   },
   {
    "duration": 86,
    "start_time": "2022-01-28T11:44:38.405Z"
   },
   {
    "duration": 83,
    "start_time": "2022-01-28T11:44:38.409Z"
   },
   {
    "duration": 80,
    "start_time": "2022-01-28T11:44:38.413Z"
   },
   {
    "duration": 77,
    "start_time": "2022-01-28T11:44:38.417Z"
   },
   {
    "duration": 74,
    "start_time": "2022-01-28T11:44:38.421Z"
   },
   {
    "duration": 71,
    "start_time": "2022-01-28T11:44:38.425Z"
   },
   {
    "duration": 67,
    "start_time": "2022-01-28T11:44:38.429Z"
   },
   {
    "duration": 64,
    "start_time": "2022-01-28T11:44:38.433Z"
   },
   {
    "duration": 61,
    "start_time": "2022-01-28T11:44:38.437Z"
   },
   {
    "duration": 58,
    "start_time": "2022-01-28T11:44:38.441Z"
   },
   {
    "duration": 55,
    "start_time": "2022-01-28T11:44:38.445Z"
   },
   {
    "duration": 51,
    "start_time": "2022-01-28T11:44:38.450Z"
   },
   {
    "duration": 48,
    "start_time": "2022-01-28T11:44:38.454Z"
   },
   {
    "duration": 46,
    "start_time": "2022-01-28T11:44:38.457Z"
   },
   {
    "duration": 43,
    "start_time": "2022-01-28T11:44:38.461Z"
   },
   {
    "duration": 39,
    "start_time": "2022-01-28T11:44:38.466Z"
   },
   {
    "duration": 91,
    "start_time": "2022-01-28T11:44:38.470Z"
   },
   {
    "duration": 88,
    "start_time": "2022-01-28T11:44:38.474Z"
   },
   {
    "duration": 76,
    "start_time": "2022-01-28T11:44:38.487Z"
   },
   {
    "duration": 72,
    "start_time": "2022-01-28T11:44:38.491Z"
   },
   {
    "duration": 69,
    "start_time": "2022-01-28T11:44:38.495Z"
   },
   {
    "duration": 65,
    "start_time": "2022-01-28T11:44:38.500Z"
   },
   {
    "duration": 62,
    "start_time": "2022-01-28T11:44:38.504Z"
   },
   {
    "duration": 59,
    "start_time": "2022-01-28T11:44:38.508Z"
   },
   {
    "duration": 56,
    "start_time": "2022-01-28T11:44:38.512Z"
   },
   {
    "duration": 51,
    "start_time": "2022-01-28T11:44:38.517Z"
   },
   {
    "duration": 48,
    "start_time": "2022-01-28T11:44:38.521Z"
   },
   {
    "duration": 45,
    "start_time": "2022-01-28T11:44:38.525Z"
   },
   {
    "duration": 39,
    "start_time": "2022-01-28T11:44:38.532Z"
   },
   {
    "duration": 58,
    "start_time": "2022-01-28T11:45:32.889Z"
   },
   {
    "duration": 87,
    "start_time": "2022-01-28T11:56:57.688Z"
   },
   {
    "duration": 108,
    "start_time": "2022-01-28T12:04:32.022Z"
   },
   {
    "duration": 259,
    "start_time": "2022-01-28T12:04:46.679Z"
   },
   {
    "duration": 3,
    "start_time": "2022-01-28T12:04:58.173Z"
   },
   {
    "duration": 53,
    "start_time": "2022-01-28T12:04:58.178Z"
   },
   {
    "duration": 12,
    "start_time": "2022-01-28T12:04:58.233Z"
   },
   {
    "duration": 13,
    "start_time": "2022-01-28T12:04:58.247Z"
   },
   {
    "duration": 9,
    "start_time": "2022-01-28T12:04:58.262Z"
   },
   {
    "duration": 10,
    "start_time": "2022-01-28T12:04:58.273Z"
   },
   {
    "duration": 13,
    "start_time": "2022-01-28T12:04:58.285Z"
   },
   {
    "duration": 691,
    "start_time": "2022-01-28T12:04:58.300Z"
   },
   {
    "duration": 12,
    "start_time": "2022-01-28T12:04:58.993Z"
   },
   {
    "duration": 11,
    "start_time": "2022-01-28T12:04:59.007Z"
   },
   {
    "duration": 257,
    "start_time": "2022-01-28T12:04:59.020Z"
   },
   {
    "duration": 283,
    "start_time": "2022-01-28T12:04:58.998Z"
   },
   {
    "duration": 279,
    "start_time": "2022-01-28T12:04:59.003Z"
   },
   {
    "duration": 274,
    "start_time": "2022-01-28T12:04:59.009Z"
   },
   {
    "duration": 272,
    "start_time": "2022-01-28T12:04:59.012Z"
   },
   {
    "duration": 266,
    "start_time": "2022-01-28T12:04:59.019Z"
   },
   {
    "duration": 262,
    "start_time": "2022-01-28T12:04:59.023Z"
   },
   {
    "duration": 260,
    "start_time": "2022-01-28T12:04:59.027Z"
   },
   {
    "duration": 254,
    "start_time": "2022-01-28T12:04:59.033Z"
   },
   {
    "duration": 251,
    "start_time": "2022-01-28T12:04:59.037Z"
   },
   {
    "duration": 248,
    "start_time": "2022-01-28T12:04:59.041Z"
   },
   {
    "duration": 237,
    "start_time": "2022-01-28T12:04:59.053Z"
   },
   {
    "duration": 234,
    "start_time": "2022-01-28T12:04:59.057Z"
   },
   {
    "duration": 230,
    "start_time": "2022-01-28T12:04:59.062Z"
   },
   {
    "duration": 226,
    "start_time": "2022-01-28T12:04:59.067Z"
   },
   {
    "duration": 222,
    "start_time": "2022-01-28T12:04:59.072Z"
   },
   {
    "duration": 218,
    "start_time": "2022-01-28T12:04:59.076Z"
   },
   {
    "duration": 214,
    "start_time": "2022-01-28T12:04:59.081Z"
   },
   {
    "duration": 209,
    "start_time": "2022-01-28T12:04:59.087Z"
   },
   {
    "duration": 205,
    "start_time": "2022-01-28T12:04:59.092Z"
   },
   {
    "duration": 202,
    "start_time": "2022-01-28T12:04:59.096Z"
   },
   {
    "duration": 196,
    "start_time": "2022-01-28T12:04:59.103Z"
   },
   {
    "duration": 193,
    "start_time": "2022-01-28T12:04:59.107Z"
   },
   {
    "duration": 188,
    "start_time": "2022-01-28T12:04:59.112Z"
   },
   {
    "duration": 184,
    "start_time": "2022-01-28T12:04:59.117Z"
   },
   {
    "duration": 181,
    "start_time": "2022-01-28T12:04:59.121Z"
   },
   {
    "duration": 178,
    "start_time": "2022-01-28T12:04:59.125Z"
   },
   {
    "duration": 174,
    "start_time": "2022-01-28T12:04:59.130Z"
   },
   {
    "duration": 169,
    "start_time": "2022-01-28T12:04:59.136Z"
   },
   {
    "duration": 166,
    "start_time": "2022-01-28T12:04:59.140Z"
   },
   {
    "duration": 163,
    "start_time": "2022-01-28T12:04:59.144Z"
   },
   {
    "duration": 158,
    "start_time": "2022-01-28T12:04:59.150Z"
   },
   {
    "duration": 150,
    "start_time": "2022-01-28T12:04:59.159Z"
   },
   {
    "duration": 146,
    "start_time": "2022-01-28T12:04:59.164Z"
   },
   {
    "duration": 142,
    "start_time": "2022-01-28T12:04:59.169Z"
   },
   {
    "duration": 139,
    "start_time": "2022-01-28T12:04:59.173Z"
   },
   {
    "duration": 136,
    "start_time": "2022-01-28T12:04:59.177Z"
   },
   {
    "duration": 132,
    "start_time": "2022-01-28T12:04:59.182Z"
   },
   {
    "duration": 128,
    "start_time": "2022-01-28T12:04:59.187Z"
   },
   {
    "duration": 125,
    "start_time": "2022-01-28T12:04:59.191Z"
   },
   {
    "duration": 122,
    "start_time": "2022-01-28T12:04:59.195Z"
   },
   {
    "duration": 159,
    "start_time": "2022-01-28T12:04:59.201Z"
   },
   {
    "duration": 158,
    "start_time": "2022-01-28T12:04:59.204Z"
   },
   {
    "duration": 155,
    "start_time": "2022-01-28T12:04:59.208Z"
   },
   {
    "duration": 152,
    "start_time": "2022-01-28T12:04:59.212Z"
   },
   {
    "duration": 148,
    "start_time": "2022-01-28T12:04:59.217Z"
   },
   {
    "duration": 145,
    "start_time": "2022-01-28T12:04:59.221Z"
   },
   {
    "duration": 141,
    "start_time": "2022-01-28T12:04:59.226Z"
   },
   {
    "duration": 139,
    "start_time": "2022-01-28T12:04:59.229Z"
   },
   {
    "duration": 134,
    "start_time": "2022-01-28T12:04:59.235Z"
   },
   {
    "duration": 125,
    "start_time": "2022-01-28T12:04:59.245Z"
   },
   {
    "duration": 115,
    "start_time": "2022-01-28T12:04:59.256Z"
   },
   {
    "duration": 104,
    "start_time": "2022-01-28T12:04:59.268Z"
   },
   {
    "duration": 101,
    "start_time": "2022-01-28T12:04:59.272Z"
   },
   {
    "duration": 98,
    "start_time": "2022-01-28T12:04:59.276Z"
   },
   {
    "duration": 95,
    "start_time": "2022-01-28T12:04:59.281Z"
   },
   {
    "duration": 91,
    "start_time": "2022-01-28T12:04:59.286Z"
   },
   {
    "duration": 88,
    "start_time": "2022-01-28T12:04:59.290Z"
   },
   {
    "duration": 8,
    "start_time": "2022-01-28T12:05:26.327Z"
   },
   {
    "duration": 22,
    "start_time": "2022-01-28T12:06:24.797Z"
   },
   {
    "duration": 306,
    "start_time": "2022-01-28T12:08:02.054Z"
   },
   {
    "duration": 8,
    "start_time": "2022-01-28T12:08:08.270Z"
   },
   {
    "duration": 307,
    "start_time": "2022-01-28T12:31:16.659Z"
   },
   {
    "duration": 5,
    "start_time": "2022-01-28T12:31:54.399Z"
   },
   {
    "duration": 3,
    "start_time": "2022-01-28T12:31:59.990Z"
   },
   {
    "duration": 123,
    "start_time": "2022-01-28T12:31:59.995Z"
   },
   {
    "duration": 13,
    "start_time": "2022-01-28T12:32:00.120Z"
   },
   {
    "duration": 147,
    "start_time": "2022-01-28T12:32:00.135Z"
   },
   {
    "duration": 33,
    "start_time": "2022-01-28T12:32:00.284Z"
   },
   {
    "duration": 81,
    "start_time": "2022-01-28T12:32:00.318Z"
   },
   {
    "duration": 35,
    "start_time": "2022-01-28T12:32:00.401Z"
   },
   {
    "duration": 680,
    "start_time": "2022-01-28T12:32:00.439Z"
   },
   {
    "duration": 12,
    "start_time": "2022-01-28T12:32:01.120Z"
   },
   {
    "duration": 40,
    "start_time": "2022-01-28T12:32:01.134Z"
   },
   {
    "duration": 44,
    "start_time": "2022-01-28T12:32:01.176Z"
   },
   {
    "duration": 71,
    "start_time": "2022-01-28T12:32:01.222Z"
   },
   {
    "duration": 3,
    "start_time": "2022-01-28T12:32:01.295Z"
   },
   {
    "duration": 346,
    "start_time": "2022-01-28T12:32:01.300Z"
   },
   {
    "duration": 317,
    "start_time": "2022-01-28T12:32:01.334Z"
   },
   {
    "duration": 312,
    "start_time": "2022-01-28T12:32:01.340Z"
   },
   {
    "duration": 293,
    "start_time": "2022-01-28T12:32:01.360Z"
   },
   {
    "duration": 291,
    "start_time": "2022-01-28T12:32:01.364Z"
   },
   {
    "duration": 285,
    "start_time": "2022-01-28T12:32:01.372Z"
   },
   {
    "duration": 275,
    "start_time": "2022-01-28T12:32:01.383Z"
   },
   {
    "duration": 270,
    "start_time": "2022-01-28T12:32:01.389Z"
   },
   {
    "duration": 263,
    "start_time": "2022-01-28T12:32:01.398Z"
   },
   {
    "duration": 257,
    "start_time": "2022-01-28T12:32:01.405Z"
   },
   {
    "duration": 246,
    "start_time": "2022-01-28T12:32:01.417Z"
   },
   {
    "duration": 242,
    "start_time": "2022-01-28T12:32:01.422Z"
   },
   {
    "duration": 233,
    "start_time": "2022-01-28T12:32:01.432Z"
   },
   {
    "duration": 228,
    "start_time": "2022-01-28T12:32:01.438Z"
   },
   {
    "duration": 219,
    "start_time": "2022-01-28T12:32:01.448Z"
   },
   {
    "duration": 215,
    "start_time": "2022-01-28T12:32:01.453Z"
   },
   {
    "duration": 206,
    "start_time": "2022-01-28T12:32:01.463Z"
   },
   {
    "duration": 202,
    "start_time": "2022-01-28T12:32:01.468Z"
   },
   {
    "duration": 192,
    "start_time": "2022-01-28T12:32:01.479Z"
   },
   {
    "duration": 188,
    "start_time": "2022-01-28T12:32:01.484Z"
   },
   {
    "duration": 185,
    "start_time": "2022-01-28T12:32:01.489Z"
   },
   {
    "duration": 176,
    "start_time": "2022-01-28T12:32:01.499Z"
   },
   {
    "duration": 171,
    "start_time": "2022-01-28T12:32:01.505Z"
   },
   {
    "duration": 161,
    "start_time": "2022-01-28T12:32:01.516Z"
   },
   {
    "duration": 156,
    "start_time": "2022-01-28T12:32:01.521Z"
   },
   {
    "duration": 146,
    "start_time": "2022-01-28T12:32:01.532Z"
   },
   {
    "duration": 140,
    "start_time": "2022-01-28T12:32:01.539Z"
   },
   {
    "duration": 130,
    "start_time": "2022-01-28T12:32:01.550Z"
   },
   {
    "duration": 119,
    "start_time": "2022-01-28T12:32:01.562Z"
   },
   {
    "duration": 115,
    "start_time": "2022-01-28T12:32:01.567Z"
   },
   {
    "duration": 103,
    "start_time": "2022-01-28T12:32:01.580Z"
   },
   {
    "duration": 98,
    "start_time": "2022-01-28T12:32:01.587Z"
   },
   {
    "duration": 89,
    "start_time": "2022-01-28T12:32:01.597Z"
   },
   {
    "duration": 83,
    "start_time": "2022-01-28T12:32:01.605Z"
   },
   {
    "duration": 75,
    "start_time": "2022-01-28T12:32:01.614Z"
   },
   {
    "duration": 68,
    "start_time": "2022-01-28T12:32:01.622Z"
   },
   {
    "duration": 29,
    "start_time": "2022-01-28T12:32:01.664Z"
   },
   {
    "duration": 18,
    "start_time": "2022-01-28T12:32:01.677Z"
   },
   {
    "duration": 16,
    "start_time": "2022-01-28T12:32:01.680Z"
   },
   {
    "duration": -3,
    "start_time": "2022-01-28T12:32:01.700Z"
   },
   {
    "duration": -7,
    "start_time": "2022-01-28T12:32:01.705Z"
   },
   {
    "duration": -14,
    "start_time": "2022-01-28T12:32:01.713Z"
   },
   {
    "duration": -16,
    "start_time": "2022-01-28T12:32:01.717Z"
   },
   {
    "duration": -20,
    "start_time": "2022-01-28T12:32:01.722Z"
   },
   {
    "duration": 30,
    "start_time": "2022-01-28T12:32:01.731Z"
   },
   {
    "duration": 26,
    "start_time": "2022-01-28T12:32:01.737Z"
   },
   {
    "duration": 24,
    "start_time": "2022-01-28T12:32:01.740Z"
   },
   {
    "duration": 22,
    "start_time": "2022-01-28T12:32:01.744Z"
   },
   {
    "duration": 19,
    "start_time": "2022-01-28T12:32:01.748Z"
   },
   {
    "duration": 15,
    "start_time": "2022-01-28T12:32:01.753Z"
   },
   {
    "duration": 9,
    "start_time": "2022-01-28T12:32:01.761Z"
   },
   {
    "duration": 6,
    "start_time": "2022-01-28T12:32:01.765Z"
   },
   {
    "duration": 3,
    "start_time": "2022-01-28T12:32:01.769Z"
   },
   {
    "duration": 0,
    "start_time": "2022-01-28T12:32:01.774Z"
   },
   {
    "duration": -4,
    "start_time": "2022-01-28T12:32:01.779Z"
   },
   {
    "duration": 7,
    "start_time": "2022-01-28T12:35:33.086Z"
   },
   {
    "duration": 2,
    "start_time": "2022-01-28T12:35:48.624Z"
   },
   {
    "duration": 70,
    "start_time": "2022-01-28T12:35:48.628Z"
   },
   {
    "duration": 12,
    "start_time": "2022-01-28T12:35:48.700Z"
   },
   {
    "duration": 27,
    "start_time": "2022-01-28T12:35:48.714Z"
   },
   {
    "duration": 23,
    "start_time": "2022-01-28T12:35:48.743Z"
   },
   {
    "duration": 28,
    "start_time": "2022-01-28T12:35:48.767Z"
   },
   {
    "duration": 35,
    "start_time": "2022-01-28T12:35:48.796Z"
   },
   {
    "duration": 695,
    "start_time": "2022-01-28T12:35:48.834Z"
   },
   {
    "duration": 18,
    "start_time": "2022-01-28T12:35:49.531Z"
   },
   {
    "duration": 21,
    "start_time": "2022-01-28T12:35:49.551Z"
   },
   {
    "duration": 36,
    "start_time": "2022-01-28T12:35:49.574Z"
   },
   {
    "duration": 41,
    "start_time": "2022-01-28T12:35:49.612Z"
   },
   {
    "duration": 14,
    "start_time": "2022-01-28T12:35:49.654Z"
   },
   {
    "duration": 45,
    "start_time": "2022-01-28T12:35:49.670Z"
   },
   {
    "duration": 12,
    "start_time": "2022-01-28T12:35:49.716Z"
   },
   {
    "duration": 42,
    "start_time": "2022-01-28T12:35:49.730Z"
   },
   {
    "duration": 32,
    "start_time": "2022-01-28T12:35:49.773Z"
   },
   {
    "duration": 17,
    "start_time": "2022-01-28T12:35:49.806Z"
   },
   {
    "duration": 32,
    "start_time": "2022-01-28T12:35:49.825Z"
   },
   {
    "duration": 20,
    "start_time": "2022-01-28T12:35:49.859Z"
   },
   {
    "duration": 32,
    "start_time": "2022-01-28T12:35:49.881Z"
   },
   {
    "duration": 7,
    "start_time": "2022-01-28T12:35:49.915Z"
   },
   {
    "duration": 14,
    "start_time": "2022-01-28T12:35:49.926Z"
   },
   {
    "duration": 18,
    "start_time": "2022-01-28T12:35:49.943Z"
   },
   {
    "duration": 21,
    "start_time": "2022-01-28T12:35:49.962Z"
   },
   {
    "duration": 28,
    "start_time": "2022-01-28T12:35:49.984Z"
   },
   {
    "duration": 42,
    "start_time": "2022-01-28T12:35:50.013Z"
   },
   {
    "duration": 18,
    "start_time": "2022-01-28T12:35:50.057Z"
   },
   {
    "duration": 31,
    "start_time": "2022-01-28T12:35:50.077Z"
   },
   {
    "duration": 17,
    "start_time": "2022-01-28T12:35:50.109Z"
   },
   {
    "duration": 46,
    "start_time": "2022-01-28T12:35:50.127Z"
   },
   {
    "duration": 27,
    "start_time": "2022-01-28T12:35:50.174Z"
   },
   {
    "duration": 32,
    "start_time": "2022-01-28T12:35:50.203Z"
   },
   {
    "duration": 43,
    "start_time": "2022-01-28T12:35:50.237Z"
   },
   {
    "duration": 38,
    "start_time": "2022-01-28T12:35:50.282Z"
   },
   {
    "duration": 719,
    "start_time": "2022-01-28T12:35:50.323Z"
   },
   {
    "duration": 3024,
    "start_time": "2022-01-28T12:35:51.045Z"
   },
   {
    "duration": 5,
    "start_time": "2022-01-28T12:35:54.071Z"
   },
   {
    "duration": 44,
    "start_time": "2022-01-28T12:35:54.077Z"
   },
   {
    "duration": 33,
    "start_time": "2022-01-28T12:35:54.123Z"
   },
   {
    "duration": 22,
    "start_time": "2022-01-28T12:35:54.158Z"
   },
   {
    "duration": 29,
    "start_time": "2022-01-28T12:35:54.182Z"
   },
   {
    "duration": 31,
    "start_time": "2022-01-28T12:35:54.212Z"
   },
   {
    "duration": 25,
    "start_time": "2022-01-28T12:35:54.245Z"
   },
   {
    "duration": 27,
    "start_time": "2022-01-28T12:35:54.272Z"
   },
   {
    "duration": 22,
    "start_time": "2022-01-28T12:35:54.301Z"
   },
   {
    "duration": 28,
    "start_time": "2022-01-28T12:35:54.325Z"
   },
   {
    "duration": 27,
    "start_time": "2022-01-28T12:35:54.355Z"
   },
   {
    "duration": 28,
    "start_time": "2022-01-28T12:35:54.384Z"
   },
   {
    "duration": 24,
    "start_time": "2022-01-28T12:35:54.414Z"
   },
   {
    "duration": 25,
    "start_time": "2022-01-28T12:35:54.439Z"
   },
   {
    "duration": 19,
    "start_time": "2022-01-28T12:35:54.466Z"
   },
   {
    "duration": 25,
    "start_time": "2022-01-28T12:35:54.487Z"
   },
   {
    "duration": 25,
    "start_time": "2022-01-28T12:35:54.513Z"
   },
   {
    "duration": 30,
    "start_time": "2022-01-28T12:35:54.540Z"
   },
   {
    "duration": 15,
    "start_time": "2022-01-28T12:35:54.572Z"
   },
   {
    "duration": 26,
    "start_time": "2022-01-28T12:35:54.589Z"
   },
   {
    "duration": 34,
    "start_time": "2022-01-28T12:35:54.617Z"
   },
   {
    "duration": 20,
    "start_time": "2022-01-28T12:35:54.653Z"
   },
   {
    "duration": 23,
    "start_time": "2022-01-28T12:35:54.675Z"
   },
   {
    "duration": 40,
    "start_time": "2022-01-28T12:35:54.700Z"
   },
   {
    "duration": 32,
    "start_time": "2022-01-28T12:35:54.742Z"
   },
   {
    "duration": 21,
    "start_time": "2022-01-28T12:35:54.776Z"
   },
   {
    "duration": 14,
    "start_time": "2022-01-28T12:35:54.799Z"
   },
   {
    "duration": 27,
    "start_time": "2022-01-28T12:35:54.815Z"
   },
   {
    "duration": 114,
    "start_time": "2022-01-28T16:55:11.445Z"
   },
   {
    "duration": 287,
    "start_time": "2022-01-28T16:55:44.155Z"
   },
   {
    "duration": 595,
    "start_time": "2022-01-28T16:55:48.898Z"
   },
   {
    "duration": 58,
    "start_time": "2022-01-28T16:55:49.495Z"
   },
   {
    "duration": 19,
    "start_time": "2022-01-28T16:55:49.560Z"
   },
   {
    "duration": 38,
    "start_time": "2022-01-28T16:55:49.581Z"
   },
   {
    "duration": 36,
    "start_time": "2022-01-28T16:55:49.621Z"
   },
   {
    "duration": 38,
    "start_time": "2022-01-28T16:55:49.659Z"
   },
   {
    "duration": 53,
    "start_time": "2022-01-28T16:55:49.699Z"
   },
   {
    "duration": 625,
    "start_time": "2022-01-28T16:55:49.755Z"
   },
   {
    "duration": 11,
    "start_time": "2022-01-28T16:55:50.382Z"
   },
   {
    "duration": 351,
    "start_time": "2022-01-28T16:55:50.395Z"
   },
   {
    "duration": -6454,
    "start_time": "2022-01-28T16:55:57.204Z"
   },
   {
    "duration": -6465,
    "start_time": "2022-01-28T16:55:57.216Z"
   },
   {
    "duration": -6476,
    "start_time": "2022-01-28T16:55:57.229Z"
   },
   {
    "duration": -6489,
    "start_time": "2022-01-28T16:55:57.243Z"
   },
   {
    "duration": -6498,
    "start_time": "2022-01-28T16:55:57.254Z"
   },
   {
    "duration": -6510,
    "start_time": "2022-01-28T16:55:57.267Z"
   },
   {
    "duration": -6520,
    "start_time": "2022-01-28T16:55:57.278Z"
   },
   {
    "duration": -6531,
    "start_time": "2022-01-28T16:55:57.291Z"
   },
   {
    "duration": -6541,
    "start_time": "2022-01-28T16:55:57.302Z"
   },
   {
    "duration": -6573,
    "start_time": "2022-01-28T16:55:57.335Z"
   },
   {
    "duration": -6581,
    "start_time": "2022-01-28T16:55:57.345Z"
   },
   {
    "duration": -6597,
    "start_time": "2022-01-28T16:55:57.362Z"
   },
   {
    "duration": -6605,
    "start_time": "2022-01-28T16:55:57.372Z"
   },
   {
    "duration": -6618,
    "start_time": "2022-01-28T16:55:57.386Z"
   },
   {
    "duration": -6629,
    "start_time": "2022-01-28T16:55:57.398Z"
   },
   {
    "duration": -6642,
    "start_time": "2022-01-28T16:55:57.413Z"
   },
   {
    "duration": -6653,
    "start_time": "2022-01-28T16:55:57.425Z"
   },
   {
    "duration": -6679,
    "start_time": "2022-01-28T16:55:57.453Z"
   },
   {
    "duration": -6689,
    "start_time": "2022-01-28T16:55:57.464Z"
   },
   {
    "duration": -6699,
    "start_time": "2022-01-28T16:55:57.476Z"
   },
   {
    "duration": -6709,
    "start_time": "2022-01-28T16:55:57.487Z"
   },
   {
    "duration": -6721,
    "start_time": "2022-01-28T16:55:57.500Z"
   },
   {
    "duration": -6728,
    "start_time": "2022-01-28T16:55:57.509Z"
   },
   {
    "duration": -6739,
    "start_time": "2022-01-28T16:55:57.521Z"
   },
   {
    "duration": -6749,
    "start_time": "2022-01-28T16:55:57.532Z"
   },
   {
    "duration": -6759,
    "start_time": "2022-01-28T16:55:57.544Z"
   },
   {
    "duration": -6924,
    "start_time": "2022-01-28T16:55:57.710Z"
   },
   {
    "duration": -6936,
    "start_time": "2022-01-28T16:55:57.724Z"
   },
   {
    "duration": -6945,
    "start_time": "2022-01-28T16:55:57.734Z"
   },
   {
    "duration": -6956,
    "start_time": "2022-01-28T16:55:57.746Z"
   },
   {
    "duration": -6965,
    "start_time": "2022-01-28T16:55:57.756Z"
   },
   {
    "duration": -6975,
    "start_time": "2022-01-28T16:55:57.768Z"
   },
   {
    "duration": -6985,
    "start_time": "2022-01-28T16:55:57.779Z"
   },
   {
    "duration": -6996,
    "start_time": "2022-01-28T16:55:57.791Z"
   },
   {
    "duration": -7005,
    "start_time": "2022-01-28T16:55:57.802Z"
   },
   {
    "duration": -7029,
    "start_time": "2022-01-28T16:55:57.827Z"
   },
   {
    "duration": -7040,
    "start_time": "2022-01-28T16:55:57.839Z"
   },
   {
    "duration": -7053,
    "start_time": "2022-01-28T16:55:57.854Z"
   },
   {
    "duration": -7064,
    "start_time": "2022-01-28T16:55:57.866Z"
   },
   {
    "duration": -7074,
    "start_time": "2022-01-28T16:55:57.877Z"
   },
   {
    "duration": -7085,
    "start_time": "2022-01-28T16:55:57.890Z"
   },
   {
    "duration": -7096,
    "start_time": "2022-01-28T16:55:57.902Z"
   },
   {
    "duration": -7108,
    "start_time": "2022-01-28T16:55:57.916Z"
   },
   {
    "duration": -7113,
    "start_time": "2022-01-28T16:55:57.974Z"
   },
   {
    "duration": -7175,
    "start_time": "2022-01-28T16:55:58.037Z"
   },
   {
    "duration": -7217,
    "start_time": "2022-01-28T16:55:58.081Z"
   },
   {
    "duration": -7265,
    "start_time": "2022-01-28T16:55:58.130Z"
   },
   {
    "duration": -7275,
    "start_time": "2022-01-28T16:55:58.142Z"
   },
   {
    "duration": -7284,
    "start_time": "2022-01-28T16:55:58.152Z"
   },
   {
    "duration": -7294,
    "start_time": "2022-01-28T16:55:58.163Z"
   },
   {
    "duration": -7302,
    "start_time": "2022-01-28T16:55:58.173Z"
   },
   {
    "duration": -7311,
    "start_time": "2022-01-28T16:55:58.183Z"
   },
   {
    "duration": -7319,
    "start_time": "2022-01-28T16:55:58.193Z"
   },
   {
    "duration": -7330,
    "start_time": "2022-01-28T16:55:58.205Z"
   },
   {
    "duration": -7338,
    "start_time": "2022-01-28T16:55:58.215Z"
   },
   {
    "duration": -7367,
    "start_time": "2022-01-28T16:55:58.245Z"
   },
   {
    "duration": 237,
    "start_time": "2022-01-28T16:56:58.229Z"
   },
   {
    "duration": 247,
    "start_time": "2022-01-28T16:57:40.010Z"
   },
   {
    "duration": 258,
    "start_time": "2022-01-28T17:00:11.844Z"
   },
   {
    "duration": 104,
    "start_time": "2022-01-28T17:00:28.352Z"
   },
   {
    "duration": 262,
    "start_time": "2022-01-28T17:00:32.343Z"
   },
   {
    "duration": 11,
    "start_time": "2022-01-28T17:00:39.383Z"
   },
   {
    "duration": 3,
    "start_time": "2022-01-28T17:07:25.958Z"
   },
   {
    "duration": 5,
    "start_time": "2022-01-28T17:07:30.394Z"
   },
   {
    "duration": 3,
    "start_time": "2022-01-28T17:07:42.954Z"
   },
   {
    "duration": 64,
    "start_time": "2022-01-28T17:07:42.961Z"
   },
   {
    "duration": 12,
    "start_time": "2022-01-28T17:07:43.027Z"
   },
   {
    "duration": 43,
    "start_time": "2022-01-28T17:07:43.040Z"
   },
   {
    "duration": 18,
    "start_time": "2022-01-28T17:07:43.085Z"
   },
   {
    "duration": 19,
    "start_time": "2022-01-28T17:07:43.105Z"
   },
   {
    "duration": 20,
    "start_time": "2022-01-28T17:07:43.125Z"
   },
   {
    "duration": 678,
    "start_time": "2022-01-28T17:07:43.146Z"
   },
   {
    "duration": 12,
    "start_time": "2022-01-28T17:07:43.826Z"
   },
   {
    "duration": 35,
    "start_time": "2022-01-28T17:07:43.840Z"
   },
   {
    "duration": 35,
    "start_time": "2022-01-28T17:07:43.876Z"
   },
   {
    "duration": 33,
    "start_time": "2022-01-28T17:07:43.912Z"
   },
   {
    "duration": 42,
    "start_time": "2022-01-28T17:07:43.947Z"
   },
   {
    "duration": 28,
    "start_time": "2022-01-28T17:07:43.990Z"
   },
   {
    "duration": 37,
    "start_time": "2022-01-28T17:07:44.020Z"
   },
   {
    "duration": 30,
    "start_time": "2022-01-28T17:07:44.059Z"
   },
   {
    "duration": 16,
    "start_time": "2022-01-28T17:07:44.091Z"
   },
   {
    "duration": 30,
    "start_time": "2022-01-28T17:07:44.109Z"
   },
   {
    "duration": 12,
    "start_time": "2022-01-28T17:07:44.141Z"
   },
   {
    "duration": 26,
    "start_time": "2022-01-28T17:07:44.155Z"
   },
   {
    "duration": 16,
    "start_time": "2022-01-28T17:07:44.183Z"
   },
   {
    "duration": 50,
    "start_time": "2022-01-28T17:07:44.201Z"
   },
   {
    "duration": 9,
    "start_time": "2022-01-28T17:07:44.252Z"
   },
   {
    "duration": 11,
    "start_time": "2022-01-28T17:07:44.265Z"
   },
   {
    "duration": 287,
    "start_time": "2022-01-28T17:07:44.278Z"
   },
   {
    "duration": -7939,
    "start_time": "2022-01-28T17:07:52.506Z"
   },
   {
    "duration": -7991,
    "start_time": "2022-01-28T17:07:52.559Z"
   },
   {
    "duration": -8001,
    "start_time": "2022-01-28T17:07:52.570Z"
   },
   {
    "duration": -8012,
    "start_time": "2022-01-28T17:07:52.582Z"
   },
   {
    "duration": -8024,
    "start_time": "2022-01-28T17:07:52.595Z"
   },
   {
    "duration": -8035,
    "start_time": "2022-01-28T17:07:52.607Z"
   },
   {
    "duration": -8044,
    "start_time": "2022-01-28T17:07:52.617Z"
   },
   {
    "duration": -8055,
    "start_time": "2022-01-28T17:07:52.629Z"
   },
   {
    "duration": -8065,
    "start_time": "2022-01-28T17:07:52.639Z"
   },
   {
    "duration": -8092,
    "start_time": "2022-01-28T17:07:52.667Z"
   },
   {
    "duration": -8103,
    "start_time": "2022-01-28T17:07:52.679Z"
   },
   {
    "duration": -8113,
    "start_time": "2022-01-28T17:07:52.690Z"
   },
   {
    "duration": -8123,
    "start_time": "2022-01-28T17:07:52.701Z"
   },
   {
    "duration": -8177,
    "start_time": "2022-01-28T17:07:52.756Z"
   },
   {
    "duration": -8214,
    "start_time": "2022-01-28T17:07:52.794Z"
   },
   {
    "duration": -8258,
    "start_time": "2022-01-28T17:07:52.839Z"
   },
   {
    "duration": -8297,
    "start_time": "2022-01-28T17:07:52.879Z"
   },
   {
    "duration": -8338,
    "start_time": "2022-01-28T17:07:52.921Z"
   },
   {
    "duration": -8347,
    "start_time": "2022-01-28T17:07:52.931Z"
   },
   {
    "duration": -8357,
    "start_time": "2022-01-28T17:07:52.942Z"
   },
   {
    "duration": -8367,
    "start_time": "2022-01-28T17:07:52.952Z"
   },
   {
    "duration": -8376,
    "start_time": "2022-01-28T17:07:52.962Z"
   },
   {
    "duration": -8384,
    "start_time": "2022-01-28T17:07:52.971Z"
   },
   {
    "duration": -8395,
    "start_time": "2022-01-28T17:07:52.982Z"
   },
   {
    "duration": -8404,
    "start_time": "2022-01-28T17:07:52.992Z"
   },
   {
    "duration": -8413,
    "start_time": "2022-01-28T17:07:53.002Z"
   },
   {
    "duration": -8422,
    "start_time": "2022-01-28T17:07:53.012Z"
   },
   {
    "duration": -8453,
    "start_time": "2022-01-28T17:07:53.044Z"
   },
   {
    "duration": -8461,
    "start_time": "2022-01-28T17:07:53.053Z"
   },
   {
    "duration": -8473,
    "start_time": "2022-01-28T17:07:53.065Z"
   },
   {
    "duration": -8509,
    "start_time": "2022-01-28T17:07:53.102Z"
   },
   {
    "duration": -8567,
    "start_time": "2022-01-28T17:07:53.161Z"
   },
   {
    "duration": -8602,
    "start_time": "2022-01-28T17:07:53.197Z"
   },
   {
    "duration": -8644,
    "start_time": "2022-01-28T17:07:53.239Z"
   },
   {
    "duration": -8683,
    "start_time": "2022-01-28T17:07:53.279Z"
   },
   {
    "duration": -8712,
    "start_time": "2022-01-28T17:07:53.309Z"
   },
   {
    "duration": -8722,
    "start_time": "2022-01-28T17:07:53.320Z"
   },
   {
    "duration": -8732,
    "start_time": "2022-01-28T17:07:53.331Z"
   },
   {
    "duration": -8741,
    "start_time": "2022-01-28T17:07:53.341Z"
   },
   {
    "duration": -8750,
    "start_time": "2022-01-28T17:07:53.351Z"
   },
   {
    "duration": -8759,
    "start_time": "2022-01-28T17:07:53.361Z"
   },
   {
    "duration": 527,
    "start_time": "2022-01-28T17:09:10.704Z"
   },
   {
    "duration": 4,
    "start_time": "2022-01-28T17:10:58.824Z"
   },
   {
    "duration": 81,
    "start_time": "2022-01-28T17:23:03.036Z"
   },
   {
    "duration": 10,
    "start_time": "2022-01-28T17:23:08.123Z"
   },
   {
    "duration": 13,
    "start_time": "2022-01-28T17:26:50.036Z"
   },
   {
    "duration": 11,
    "start_time": "2022-01-28T17:27:01.273Z"
   },
   {
    "duration": 3005,
    "start_time": "2022-01-28T17:30:33.562Z"
   },
   {
    "duration": 3170,
    "start_time": "2022-01-28T17:30:39.281Z"
   },
   {
    "duration": 12,
    "start_time": "2022-01-28T17:32:22.807Z"
   },
   {
    "duration": 12,
    "start_time": "2022-01-28T17:33:09.231Z"
   },
   {
    "duration": 8,
    "start_time": "2022-01-28T17:34:09.632Z"
   },
   {
    "duration": 357,
    "start_time": "2022-01-28T17:34:20.538Z"
   },
   {
    "duration": 258,
    "start_time": "2022-01-28T17:34:30.720Z"
   },
   {
    "duration": 8,
    "start_time": "2022-01-28T17:34:36.324Z"
   },
   {
    "duration": 25,
    "start_time": "2022-01-28T17:37:16.604Z"
   },
   {
    "duration": 3,
    "start_time": "2022-01-28T17:37:34.759Z"
   },
   {
    "duration": 10,
    "start_time": "2022-01-28T17:37:39.767Z"
   },
   {
    "duration": 3920,
    "start_time": "2022-01-28T17:39:19.762Z"
   },
   {
    "duration": 23,
    "start_time": "2022-01-28T17:39:23.684Z"
   },
   {
    "duration": 83,
    "start_time": "2022-01-28T17:39:50.847Z"
   },
   {
    "duration": 4027,
    "start_time": "2022-01-28T17:41:10.463Z"
   },
   {
    "duration": 21,
    "start_time": "2022-01-28T17:41:14.491Z"
   },
   {
    "duration": 4145,
    "start_time": "2022-01-28T17:41:58.567Z"
   },
   {
    "duration": 20,
    "start_time": "2022-01-28T17:42:02.714Z"
   },
   {
    "duration": 2651,
    "start_time": "2022-01-28T17:46:08.707Z"
   },
   {
    "duration": 21,
    "start_time": "2022-01-28T17:46:11.360Z"
   },
   {
    "duration": 13,
    "start_time": "2022-01-28T17:50:05.177Z"
   },
   {
    "duration": 3,
    "start_time": "2022-01-28T17:51:36.197Z"
   },
   {
    "duration": 90,
    "start_time": "2022-01-28T17:51:36.204Z"
   },
   {
    "duration": 19,
    "start_time": "2022-01-28T17:51:36.296Z"
   },
   {
    "duration": 29,
    "start_time": "2022-01-28T17:51:36.317Z"
   },
   {
    "duration": 29,
    "start_time": "2022-01-28T17:51:36.348Z"
   },
   {
    "duration": 33,
    "start_time": "2022-01-28T17:51:36.379Z"
   },
   {
    "duration": 36,
    "start_time": "2022-01-28T17:51:36.414Z"
   },
   {
    "duration": 1096,
    "start_time": "2022-01-28T17:51:36.452Z"
   },
   {
    "duration": 22,
    "start_time": "2022-01-28T17:51:37.551Z"
   },
   {
    "duration": 14,
    "start_time": "2022-01-28T17:51:37.575Z"
   },
   {
    "duration": 3,
    "start_time": "2022-01-28T17:51:37.591Z"
   },
   {
    "duration": 12,
    "start_time": "2022-01-28T17:51:37.596Z"
   },
   {
    "duration": 4,
    "start_time": "2022-01-28T17:51:37.610Z"
   },
   {
    "duration": 14,
    "start_time": "2022-01-28T17:51:37.615Z"
   },
   {
    "duration": 31,
    "start_time": "2022-01-28T17:51:37.631Z"
   },
   {
    "duration": 19,
    "start_time": "2022-01-28T17:51:37.664Z"
   },
   {
    "duration": 36,
    "start_time": "2022-01-28T17:51:37.684Z"
   },
   {
    "duration": 15,
    "start_time": "2022-01-28T17:51:37.721Z"
   },
   {
    "duration": 26,
    "start_time": "2022-01-28T17:51:37.737Z"
   },
   {
    "duration": 6,
    "start_time": "2022-01-28T17:51:37.765Z"
   },
   {
    "duration": 37,
    "start_time": "2022-01-28T17:51:37.773Z"
   },
   {
    "duration": 22,
    "start_time": "2022-01-28T17:51:37.812Z"
   },
   {
    "duration": 37,
    "start_time": "2022-01-28T17:51:37.835Z"
   },
   {
    "duration": 248,
    "start_time": "2022-01-28T17:51:37.876Z"
   },
   {
    "duration": -7000,
    "start_time": "2022-01-28T17:51:45.127Z"
   },
   {
    "duration": -7021,
    "start_time": "2022-01-28T17:51:45.149Z"
   },
   {
    "duration": -7032,
    "start_time": "2022-01-28T17:51:45.161Z"
   },
   {
    "duration": -7041,
    "start_time": "2022-01-28T17:51:45.172Z"
   },
   {
    "duration": -7051,
    "start_time": "2022-01-28T17:51:45.183Z"
   },
   {
    "duration": -7060,
    "start_time": "2022-01-28T17:51:45.193Z"
   },
   {
    "duration": -7070,
    "start_time": "2022-01-28T17:51:45.204Z"
   },
   {
    "duration": -7078,
    "start_time": "2022-01-28T17:51:45.214Z"
   },
   {
    "duration": -7088,
    "start_time": "2022-01-28T17:51:45.225Z"
   },
   {
    "duration": -7097,
    "start_time": "2022-01-28T17:51:45.235Z"
   },
   {
    "duration": -7122,
    "start_time": "2022-01-28T17:51:45.260Z"
   },
   {
    "duration": -7131,
    "start_time": "2022-01-28T17:51:45.270Z"
   },
   {
    "duration": -7142,
    "start_time": "2022-01-28T17:51:45.282Z"
   },
   {
    "duration": -7151,
    "start_time": "2022-01-28T17:51:45.292Z"
   },
   {
    "duration": -7162,
    "start_time": "2022-01-28T17:51:45.304Z"
   },
   {
    "duration": -7172,
    "start_time": "2022-01-28T17:51:45.315Z"
   },
   {
    "duration": -7184,
    "start_time": "2022-01-28T17:51:45.327Z"
   },
   {
    "duration": -7404,
    "start_time": "2022-01-28T17:51:45.549Z"
   },
   {
    "duration": -7418,
    "start_time": "2022-01-28T17:51:45.563Z"
   },
   {
    "duration": -7427,
    "start_time": "2022-01-28T17:51:45.573Z"
   },
   {
    "duration": -7437,
    "start_time": "2022-01-28T17:51:45.584Z"
   },
   {
    "duration": -7446,
    "start_time": "2022-01-28T17:51:45.595Z"
   },
   {
    "duration": -7457,
    "start_time": "2022-01-28T17:51:45.607Z"
   },
   {
    "duration": -7466,
    "start_time": "2022-01-28T17:51:45.617Z"
   },
   {
    "duration": -7476,
    "start_time": "2022-01-28T17:51:45.628Z"
   },
   {
    "duration": -7486,
    "start_time": "2022-01-28T17:51:45.639Z"
   },
   {
    "duration": -7510,
    "start_time": "2022-01-28T17:51:45.664Z"
   },
   {
    "duration": -7519,
    "start_time": "2022-01-28T17:51:45.674Z"
   },
   {
    "duration": -7531,
    "start_time": "2022-01-28T17:51:45.686Z"
   },
   {
    "duration": -7539,
    "start_time": "2022-01-28T17:51:45.696Z"
   },
   {
    "duration": -7549,
    "start_time": "2022-01-28T17:51:45.707Z"
   },
   {
    "duration": -7558,
    "start_time": "2022-01-28T17:51:45.717Z"
   },
   {
    "duration": -7568,
    "start_time": "2022-01-28T17:51:45.728Z"
   },
   {
    "duration": -7578,
    "start_time": "2022-01-28T17:51:45.739Z"
   },
   {
    "duration": -7587,
    "start_time": "2022-01-28T17:51:45.751Z"
   },
   {
    "duration": -7595,
    "start_time": "2022-01-28T17:51:45.760Z"
   },
   {
    "duration": -7624,
    "start_time": "2022-01-28T17:51:45.789Z"
   },
   {
    "duration": -7633,
    "start_time": "2022-01-28T17:51:45.800Z"
   },
   {
    "duration": -7644,
    "start_time": "2022-01-28T17:51:45.812Z"
   },
   {
    "duration": -7653,
    "start_time": "2022-01-28T17:51:45.822Z"
   },
   {
    "duration": -7664,
    "start_time": "2022-01-28T17:51:45.833Z"
   },
   {
    "duration": 3,
    "start_time": "2022-01-28T17:56:33.234Z"
   },
   {
    "duration": 69,
    "start_time": "2022-01-28T17:56:33.241Z"
   },
   {
    "duration": 11,
    "start_time": "2022-01-28T17:56:33.312Z"
   },
   {
    "duration": 39,
    "start_time": "2022-01-28T17:56:33.325Z"
   },
   {
    "duration": 44,
    "start_time": "2022-01-28T17:56:33.366Z"
   },
   {
    "duration": 36,
    "start_time": "2022-01-28T17:56:33.411Z"
   },
   {
    "duration": 31,
    "start_time": "2022-01-28T17:56:33.449Z"
   },
   {
    "duration": 674,
    "start_time": "2022-01-28T17:56:33.482Z"
   },
   {
    "duration": 12,
    "start_time": "2022-01-28T17:56:34.158Z"
   },
   {
    "duration": 29,
    "start_time": "2022-01-28T17:56:34.173Z"
   },
   {
    "duration": 29,
    "start_time": "2022-01-28T17:56:34.204Z"
   },
   {
    "duration": 40,
    "start_time": "2022-01-28T17:56:34.235Z"
   },
   {
    "duration": 37,
    "start_time": "2022-01-28T17:56:34.277Z"
   },
   {
    "duration": 41,
    "start_time": "2022-01-28T17:56:34.316Z"
   },
   {
    "duration": 17,
    "start_time": "2022-01-28T17:56:34.359Z"
   },
   {
    "duration": 40,
    "start_time": "2022-01-28T17:56:34.378Z"
   },
   {
    "duration": 34,
    "start_time": "2022-01-28T17:56:34.420Z"
   },
   {
    "duration": 16,
    "start_time": "2022-01-28T17:56:34.456Z"
   },
   {
    "duration": 28,
    "start_time": "2022-01-28T17:56:34.474Z"
   },
   {
    "duration": 20,
    "start_time": "2022-01-28T17:56:34.504Z"
   },
   {
    "duration": 50,
    "start_time": "2022-01-28T17:56:34.526Z"
   },
   {
    "duration": 38,
    "start_time": "2022-01-28T17:56:34.578Z"
   },
   {
    "duration": 36,
    "start_time": "2022-01-28T17:56:34.618Z"
   },
   {
    "duration": 267,
    "start_time": "2022-01-28T17:56:34.658Z"
   },
   {
    "duration": -6866,
    "start_time": "2022-01-28T17:56:41.793Z"
   },
   {
    "duration": -6876,
    "start_time": "2022-01-28T17:56:41.804Z"
   },
   {
    "duration": -6887,
    "start_time": "2022-01-28T17:56:41.816Z"
   },
   {
    "duration": -6898,
    "start_time": "2022-01-28T17:56:41.828Z"
   },
   {
    "duration": -6907,
    "start_time": "2022-01-28T17:56:41.838Z"
   },
   {
    "duration": -6918,
    "start_time": "2022-01-28T17:56:41.850Z"
   },
   {
    "duration": -6928,
    "start_time": "2022-01-28T17:56:41.861Z"
   },
   {
    "duration": -6939,
    "start_time": "2022-01-28T17:56:41.873Z"
   },
   {
    "duration": -6949,
    "start_time": "2022-01-28T17:56:41.884Z"
   },
   {
    "duration": -6975,
    "start_time": "2022-01-28T17:56:41.911Z"
   },
   {
    "duration": -6985,
    "start_time": "2022-01-28T17:56:41.922Z"
   },
   {
    "duration": -6997,
    "start_time": "2022-01-28T17:56:41.935Z"
   },
   {
    "duration": -7007,
    "start_time": "2022-01-28T17:56:41.946Z"
   },
   {
    "duration": -7019,
    "start_time": "2022-01-28T17:56:41.959Z"
   },
   {
    "duration": -7028,
    "start_time": "2022-01-28T17:56:41.969Z"
   },
   {
    "duration": -7041,
    "start_time": "2022-01-28T17:56:41.983Z"
   },
   {
    "duration": -7053,
    "start_time": "2022-01-28T17:56:41.996Z"
   },
   {
    "duration": -7079,
    "start_time": "2022-01-28T17:56:42.023Z"
   },
   {
    "duration": -7089,
    "start_time": "2022-01-28T17:56:42.034Z"
   },
   {
    "duration": -7101,
    "start_time": "2022-01-28T17:56:42.047Z"
   },
   {
    "duration": -7111,
    "start_time": "2022-01-28T17:56:42.058Z"
   },
   {
    "duration": -7122,
    "start_time": "2022-01-28T17:56:42.070Z"
   },
   {
    "duration": -7132,
    "start_time": "2022-01-28T17:56:42.081Z"
   },
   {
    "duration": -7143,
    "start_time": "2022-01-28T17:56:42.093Z"
   },
   {
    "duration": -7152,
    "start_time": "2022-01-28T17:56:42.103Z"
   },
   {
    "duration": -7163,
    "start_time": "2022-01-28T17:56:42.115Z"
   },
   {
    "duration": -7187,
    "start_time": "2022-01-28T17:56:42.140Z"
   },
   {
    "duration": -7199,
    "start_time": "2022-01-28T17:56:42.153Z"
   },
   {
    "duration": -7210,
    "start_time": "2022-01-28T17:56:42.165Z"
   },
   {
    "duration": -7222,
    "start_time": "2022-01-28T17:56:42.178Z"
   },
   {
    "duration": -7232,
    "start_time": "2022-01-28T17:56:42.189Z"
   },
   {
    "duration": -7243,
    "start_time": "2022-01-28T17:56:42.201Z"
   },
   {
    "duration": -7253,
    "start_time": "2022-01-28T17:56:42.212Z"
   },
   {
    "duration": -7266,
    "start_time": "2022-01-28T17:56:42.226Z"
   },
   {
    "duration": -7276,
    "start_time": "2022-01-28T17:56:42.237Z"
   },
   {
    "duration": -7303,
    "start_time": "2022-01-28T17:56:42.265Z"
   },
   {
    "duration": -7313,
    "start_time": "2022-01-28T17:56:42.276Z"
   },
   {
    "duration": -7323,
    "start_time": "2022-01-28T17:56:42.287Z"
   },
   {
    "duration": -7333,
    "start_time": "2022-01-28T17:56:42.298Z"
   },
   {
    "duration": -7343,
    "start_time": "2022-01-28T17:56:42.309Z"
   },
   {
    "duration": -7351,
    "start_time": "2022-01-28T17:56:42.318Z"
   },
   {
    "duration": 4,
    "start_time": "2022-01-28T17:58:07.384Z"
   },
   {
    "duration": 2,
    "start_time": "2022-01-28T17:58:12.222Z"
   },
   {
    "duration": 54,
    "start_time": "2022-01-28T17:58:12.228Z"
   },
   {
    "duration": 12,
    "start_time": "2022-01-28T17:58:12.284Z"
   },
   {
    "duration": 11,
    "start_time": "2022-01-28T17:58:12.298Z"
   },
   {
    "duration": 9,
    "start_time": "2022-01-28T17:58:12.311Z"
   },
   {
    "duration": 9,
    "start_time": "2022-01-28T17:58:12.322Z"
   },
   {
    "duration": 38,
    "start_time": "2022-01-28T17:58:12.333Z"
   },
   {
    "duration": 687,
    "start_time": "2022-01-28T17:58:12.373Z"
   },
   {
    "duration": 11,
    "start_time": "2022-01-28T17:58:13.063Z"
   },
   {
    "duration": 8,
    "start_time": "2022-01-28T17:58:13.076Z"
   },
   {
    "duration": 3,
    "start_time": "2022-01-28T17:58:13.086Z"
   },
   {
    "duration": 15,
    "start_time": "2022-01-28T17:58:13.090Z"
   },
   {
    "duration": 3,
    "start_time": "2022-01-28T17:58:13.107Z"
   },
   {
    "duration": 13,
    "start_time": "2022-01-28T17:58:13.111Z"
   },
   {
    "duration": 4,
    "start_time": "2022-01-28T17:58:13.126Z"
   },
   {
    "duration": 29,
    "start_time": "2022-01-28T17:58:13.132Z"
   },
   {
    "duration": 6,
    "start_time": "2022-01-28T17:58:13.163Z"
   },
   {
    "duration": 10,
    "start_time": "2022-01-28T17:58:13.170Z"
   },
   {
    "duration": 12,
    "start_time": "2022-01-28T17:58:13.182Z"
   },
   {
    "duration": 7,
    "start_time": "2022-01-28T17:58:13.195Z"
   },
   {
    "duration": 22,
    "start_time": "2022-01-28T17:58:13.203Z"
   },
   {
    "duration": 3,
    "start_time": "2022-01-28T17:58:13.227Z"
   },
   {
    "duration": 30,
    "start_time": "2022-01-28T17:58:13.232Z"
   },
   {
    "duration": 3,
    "start_time": "2022-01-28T17:58:13.266Z"
   },
   {
    "duration": 6,
    "start_time": "2022-01-28T17:58:13.272Z"
   },
   {
    "duration": 14,
    "start_time": "2022-01-28T17:58:13.279Z"
   },
   {
    "duration": 14,
    "start_time": "2022-01-28T17:58:13.295Z"
   },
   {
    "duration": 16,
    "start_time": "2022-01-28T17:58:13.311Z"
   },
   {
    "duration": 44,
    "start_time": "2022-01-28T17:58:13.329Z"
   },
   {
    "duration": 7,
    "start_time": "2022-01-28T17:58:13.375Z"
   },
   {
    "duration": 19,
    "start_time": "2022-01-28T17:58:13.384Z"
   },
   {
    "duration": 10,
    "start_time": "2022-01-28T17:58:13.405Z"
   },
   {
    "duration": 13,
    "start_time": "2022-01-28T17:58:13.416Z"
   },
   {
    "duration": 38,
    "start_time": "2022-01-28T17:58:13.431Z"
   },
   {
    "duration": 7,
    "start_time": "2022-01-28T17:58:13.470Z"
   },
   {
    "duration": 699,
    "start_time": "2022-01-28T17:58:13.479Z"
   },
   {
    "duration": 3084,
    "start_time": "2022-01-28T17:58:14.180Z"
   },
   {
    "duration": 4,
    "start_time": "2022-01-28T17:58:17.266Z"
   },
   {
    "duration": 11,
    "start_time": "2022-01-28T17:58:17.272Z"
   },
   {
    "duration": 12,
    "start_time": "2022-01-28T17:58:17.284Z"
   },
   {
    "duration": 2,
    "start_time": "2022-01-28T17:58:17.298Z"
   },
   {
    "duration": 8,
    "start_time": "2022-01-28T17:58:17.302Z"
   },
   {
    "duration": 9,
    "start_time": "2022-01-28T17:58:17.311Z"
   },
   {
    "duration": 10,
    "start_time": "2022-01-28T17:58:17.322Z"
   },
   {
    "duration": 31,
    "start_time": "2022-01-28T17:58:17.333Z"
   },
   {
    "duration": 4,
    "start_time": "2022-01-28T17:58:17.365Z"
   },
   {
    "duration": 16,
    "start_time": "2022-01-28T17:58:17.370Z"
   },
   {
    "duration": 6,
    "start_time": "2022-01-28T17:58:17.387Z"
   },
   {
    "duration": 9,
    "start_time": "2022-01-28T17:58:17.395Z"
   },
   {
    "duration": 11,
    "start_time": "2022-01-28T17:58:17.405Z"
   },
   {
    "duration": 9,
    "start_time": "2022-01-28T17:58:17.418Z"
   },
   {
    "duration": 36,
    "start_time": "2022-01-28T17:58:17.429Z"
   },
   {
    "duration": 11,
    "start_time": "2022-01-28T17:58:17.467Z"
   },
   {
    "duration": 9,
    "start_time": "2022-01-28T17:58:17.480Z"
   },
   {
    "duration": 25,
    "start_time": "2022-01-28T17:58:17.491Z"
   },
   {
    "duration": 6,
    "start_time": "2022-01-28T17:58:17.518Z"
   },
   {
    "duration": 12,
    "start_time": "2022-01-28T17:58:17.526Z"
   },
   {
    "duration": 8,
    "start_time": "2022-01-28T17:58:17.561Z"
   },
   {
    "duration": 5,
    "start_time": "2022-01-28T17:58:17.571Z"
   },
   {
    "duration": 7,
    "start_time": "2022-01-28T17:58:17.579Z"
   },
   {
    "duration": 9,
    "start_time": "2022-01-28T17:58:17.588Z"
   },
   {
    "duration": 9,
    "start_time": "2022-01-28T17:58:17.599Z"
   },
   {
    "duration": 7,
    "start_time": "2022-01-28T17:58:17.609Z"
   },
   {
    "duration": 8,
    "start_time": "2022-01-28T17:58:17.617Z"
   },
   {
    "duration": 37,
    "start_time": "2022-01-28T17:58:17.627Z"
   },
   {
    "duration": 4,
    "start_time": "2022-01-28T18:09:36.936Z"
   },
   {
    "duration": 13,
    "start_time": "2022-01-28T18:09:41.028Z"
   },
   {
    "duration": 3,
    "start_time": "2022-01-28T18:09:45.487Z"
   },
   {
    "duration": 5,
    "start_time": "2022-01-28T18:09:48.256Z"
   },
   {
    "duration": 11,
    "start_time": "2022-01-28T18:09:49.381Z"
   },
   {
    "duration": 265,
    "start_time": "2022-01-28T18:09:50.850Z"
   },
   {
    "duration": 7,
    "start_time": "2022-01-28T18:10:13.444Z"
   },
   {
    "duration": 10,
    "start_time": "2022-01-28T18:10:41.974Z"
   },
   {
    "duration": 4,
    "start_time": "2022-01-28T18:11:18.879Z"
   },
   {
    "duration": 3,
    "start_time": "2022-01-28T18:13:18.296Z"
   },
   {
    "duration": 5,
    "start_time": "2022-01-28T18:13:20.367Z"
   },
   {
    "duration": 4,
    "start_time": "2022-01-28T18:13:21.508Z"
   },
   {
    "duration": 10,
    "start_time": "2022-01-28T18:13:22.594Z"
   },
   {
    "duration": 3,
    "start_time": "2022-01-28T18:14:27.876Z"
   },
   {
    "duration": 51,
    "start_time": "2022-01-28T18:14:27.883Z"
   },
   {
    "duration": 14,
    "start_time": "2022-01-28T18:14:27.936Z"
   },
   {
    "duration": 13,
    "start_time": "2022-01-28T18:14:27.953Z"
   },
   {
    "duration": 12,
    "start_time": "2022-01-28T18:14:27.968Z"
   },
   {
    "duration": 20,
    "start_time": "2022-01-28T18:14:27.982Z"
   },
   {
    "duration": 26,
    "start_time": "2022-01-28T18:14:28.004Z"
   },
   {
    "duration": 680,
    "start_time": "2022-01-28T18:14:28.031Z"
   },
   {
    "duration": 12,
    "start_time": "2022-01-28T18:14:28.713Z"
   },
   {
    "duration": 22,
    "start_time": "2022-01-28T18:14:28.727Z"
   },
   {
    "duration": 4,
    "start_time": "2022-01-28T18:14:28.751Z"
   },
   {
    "duration": 9,
    "start_time": "2022-01-28T18:14:28.760Z"
   },
   {
    "duration": 4,
    "start_time": "2022-01-28T18:14:28.771Z"
   },
   {
    "duration": 10,
    "start_time": "2022-01-28T18:14:28.777Z"
   },
   {
    "duration": 4,
    "start_time": "2022-01-28T18:14:28.789Z"
   },
   {
    "duration": 5,
    "start_time": "2022-01-28T18:14:28.794Z"
   },
   {
    "duration": 10,
    "start_time": "2022-01-28T18:14:28.801Z"
   },
   {
    "duration": 8,
    "start_time": "2022-01-28T18:14:28.812Z"
   },
   {
    "duration": 5,
    "start_time": "2022-01-28T18:14:28.821Z"
   },
   {
    "duration": 4,
    "start_time": "2022-01-28T18:14:28.860Z"
   },
   {
    "duration": 25,
    "start_time": "2022-01-28T18:14:28.865Z"
   },
   {
    "duration": 4,
    "start_time": "2022-01-28T18:14:28.893Z"
   },
   {
    "duration": 7,
    "start_time": "2022-01-28T18:14:28.899Z"
   },
   {
    "duration": 5,
    "start_time": "2022-01-28T18:14:28.907Z"
   },
   {
    "duration": 8,
    "start_time": "2022-01-28T18:14:28.914Z"
   },
   {
    "duration": 17,
    "start_time": "2022-01-28T18:14:28.924Z"
   },
   {
    "duration": 15,
    "start_time": "2022-01-28T18:14:28.961Z"
   },
   {
    "duration": 15,
    "start_time": "2022-01-28T18:14:28.978Z"
   },
   {
    "duration": 14,
    "start_time": "2022-01-28T18:14:28.995Z"
   },
   {
    "duration": 7,
    "start_time": "2022-01-28T18:14:29.011Z"
   },
   {
    "duration": 46,
    "start_time": "2022-01-28T18:14:29.019Z"
   },
   {
    "duration": 7,
    "start_time": "2022-01-28T18:14:29.067Z"
   },
   {
    "duration": 14,
    "start_time": "2022-01-28T18:14:29.075Z"
   },
   {
    "duration": 9,
    "start_time": "2022-01-28T18:14:29.091Z"
   },
   {
    "duration": 6,
    "start_time": "2022-01-28T18:14:29.101Z"
   },
   {
    "duration": 829,
    "start_time": "2022-01-28T18:14:29.109Z"
   },
   {
    "duration": 2942,
    "start_time": "2022-01-28T18:14:29.940Z"
   },
   {
    "duration": 4,
    "start_time": "2022-01-28T18:14:32.884Z"
   },
   {
    "duration": 9,
    "start_time": "2022-01-28T18:14:32.890Z"
   },
   {
    "duration": 12,
    "start_time": "2022-01-28T18:14:32.900Z"
   },
   {
    "duration": 3,
    "start_time": "2022-01-28T18:14:32.913Z"
   },
   {
    "duration": 8,
    "start_time": "2022-01-28T18:14:32.917Z"
   },
   {
    "duration": 36,
    "start_time": "2022-01-28T18:14:32.926Z"
   },
   {
    "duration": 10,
    "start_time": "2022-01-28T18:14:32.963Z"
   },
   {
    "duration": 5,
    "start_time": "2022-01-28T18:14:32.975Z"
   },
   {
    "duration": 4,
    "start_time": "2022-01-28T18:14:32.982Z"
   },
   {
    "duration": 13,
    "start_time": "2022-01-28T18:14:32.988Z"
   },
   {
    "duration": 3,
    "start_time": "2022-01-28T18:14:33.002Z"
   },
   {
    "duration": 10,
    "start_time": "2022-01-28T18:14:33.007Z"
   },
   {
    "duration": 9,
    "start_time": "2022-01-28T18:14:33.019Z"
   },
   {
    "duration": 38,
    "start_time": "2022-01-28T18:14:33.029Z"
   },
   {
    "duration": 8,
    "start_time": "2022-01-28T18:14:33.069Z"
   },
   {
    "duration": 8,
    "start_time": "2022-01-28T18:14:33.079Z"
   },
   {
    "duration": 8,
    "start_time": "2022-01-28T18:14:33.088Z"
   },
   {
    "duration": 22,
    "start_time": "2022-01-28T18:14:33.098Z"
   },
   {
    "duration": 42,
    "start_time": "2022-01-28T18:14:33.122Z"
   },
   {
    "duration": 11,
    "start_time": "2022-01-28T18:14:33.166Z"
   },
   {
    "duration": 12,
    "start_time": "2022-01-28T18:14:33.178Z"
   },
   {
    "duration": 245,
    "start_time": "2022-01-28T18:14:33.191Z"
   },
   {
    "duration": -6966,
    "start_time": "2022-01-28T18:14:40.404Z"
   },
   {
    "duration": -6992,
    "start_time": "2022-01-28T18:14:40.431Z"
   },
   {
    "duration": -7003,
    "start_time": "2022-01-28T18:14:40.443Z"
   },
   {
    "duration": -7013,
    "start_time": "2022-01-28T18:14:40.454Z"
   },
   {
    "duration": -7030,
    "start_time": "2022-01-28T18:14:40.473Z"
   },
   {
    "duration": -7041,
    "start_time": "2022-01-28T18:14:40.485Z"
   },
   {
    "duration": 10,
    "start_time": "2022-01-28T18:15:07.551Z"
   },
   {
    "duration": 14,
    "start_time": "2022-01-28T18:15:31.267Z"
   },
   {
    "duration": 13,
    "start_time": "2022-01-28T18:15:37.107Z"
   },
   {
    "duration": 10,
    "start_time": "2022-01-28T18:15:38.099Z"
   },
   {
    "duration": 3,
    "start_time": "2022-01-28T18:16:04.381Z"
   },
   {
    "duration": 54,
    "start_time": "2022-01-28T18:16:04.389Z"
   },
   {
    "duration": 17,
    "start_time": "2022-01-28T18:16:04.445Z"
   },
   {
    "duration": 22,
    "start_time": "2022-01-28T18:16:04.464Z"
   },
   {
    "duration": 14,
    "start_time": "2022-01-28T18:16:04.488Z"
   },
   {
    "duration": 13,
    "start_time": "2022-01-28T18:16:04.503Z"
   },
   {
    "duration": 42,
    "start_time": "2022-01-28T18:16:04.518Z"
   },
   {
    "duration": 682,
    "start_time": "2022-01-28T18:16:04.563Z"
   },
   {
    "duration": 15,
    "start_time": "2022-01-28T18:16:05.247Z"
   },
   {
    "duration": 7,
    "start_time": "2022-01-28T18:16:05.264Z"
   },
   {
    "duration": 4,
    "start_time": "2022-01-28T18:16:05.272Z"
   },
   {
    "duration": 8,
    "start_time": "2022-01-28T18:16:05.277Z"
   },
   {
    "duration": 3,
    "start_time": "2022-01-28T18:16:05.286Z"
   },
   {
    "duration": 11,
    "start_time": "2022-01-28T18:16:05.290Z"
   },
   {
    "duration": 18,
    "start_time": "2022-01-28T18:16:05.302Z"
   },
   {
    "duration": 14,
    "start_time": "2022-01-28T18:16:05.322Z"
   },
   {
    "duration": 23,
    "start_time": "2022-01-28T18:16:05.338Z"
   },
   {
    "duration": 7,
    "start_time": "2022-01-28T18:16:05.363Z"
   },
   {
    "duration": 11,
    "start_time": "2022-01-28T18:16:05.372Z"
   },
   {
    "duration": 21,
    "start_time": "2022-01-28T18:16:05.384Z"
   },
   {
    "duration": 25,
    "start_time": "2022-01-28T18:16:05.407Z"
   },
   {
    "duration": 14,
    "start_time": "2022-01-28T18:16:05.434Z"
   },
   {
    "duration": 16,
    "start_time": "2022-01-28T18:16:05.452Z"
   },
   {
    "duration": 19,
    "start_time": "2022-01-28T18:16:05.470Z"
   },
   {
    "duration": 29,
    "start_time": "2022-01-28T18:16:05.490Z"
   },
   {
    "duration": 27,
    "start_time": "2022-01-28T18:16:05.520Z"
   },
   {
    "duration": 21,
    "start_time": "2022-01-28T18:16:05.548Z"
   },
   {
    "duration": 36,
    "start_time": "2022-01-28T18:16:05.570Z"
   },
   {
    "duration": 36,
    "start_time": "2022-01-28T18:16:05.608Z"
   },
   {
    "duration": 7,
    "start_time": "2022-01-28T18:16:05.646Z"
   },
   {
    "duration": 45,
    "start_time": "2022-01-28T18:16:05.655Z"
   },
   {
    "duration": 33,
    "start_time": "2022-01-28T18:16:05.701Z"
   },
   {
    "duration": 29,
    "start_time": "2022-01-28T18:16:05.736Z"
   },
   {
    "duration": 13,
    "start_time": "2022-01-28T18:16:05.767Z"
   },
   {
    "duration": 10,
    "start_time": "2022-01-28T18:16:05.782Z"
   },
   {
    "duration": 714,
    "start_time": "2022-01-28T18:16:05.794Z"
   },
   {
    "duration": 3100,
    "start_time": "2022-01-28T18:16:06.511Z"
   },
   {
    "duration": 6,
    "start_time": "2022-01-28T18:16:09.613Z"
   },
   {
    "duration": 24,
    "start_time": "2022-01-28T18:16:09.621Z"
   },
   {
    "duration": 28,
    "start_time": "2022-01-28T18:16:09.647Z"
   },
   {
    "duration": 19,
    "start_time": "2022-01-28T18:16:09.677Z"
   },
   {
    "duration": 31,
    "start_time": "2022-01-28T18:16:09.697Z"
   },
   {
    "duration": 16,
    "start_time": "2022-01-28T18:16:09.730Z"
   },
   {
    "duration": 35,
    "start_time": "2022-01-28T18:16:09.748Z"
   },
   {
    "duration": 9,
    "start_time": "2022-01-28T18:16:09.785Z"
   },
   {
    "duration": 4,
    "start_time": "2022-01-28T18:16:09.796Z"
   },
   {
    "duration": 13,
    "start_time": "2022-01-28T18:16:09.801Z"
   },
   {
    "duration": 4,
    "start_time": "2022-01-28T18:16:09.816Z"
   },
   {
    "duration": 6,
    "start_time": "2022-01-28T18:16:09.822Z"
   },
   {
    "duration": 10,
    "start_time": "2022-01-28T18:16:09.829Z"
   },
   {
    "duration": 23,
    "start_time": "2022-01-28T18:16:09.840Z"
   },
   {
    "duration": 9,
    "start_time": "2022-01-28T18:16:09.865Z"
   },
   {
    "duration": 7,
    "start_time": "2022-01-28T18:16:09.876Z"
   },
   {
    "duration": 8,
    "start_time": "2022-01-28T18:16:09.885Z"
   },
   {
    "duration": 25,
    "start_time": "2022-01-28T18:16:09.895Z"
   },
   {
    "duration": 39,
    "start_time": "2022-01-28T18:16:09.921Z"
   },
   {
    "duration": 8,
    "start_time": "2022-01-28T18:16:09.962Z"
   },
   {
    "duration": 12,
    "start_time": "2022-01-28T18:16:09.972Z"
   },
   {
    "duration": 20,
    "start_time": "2022-01-28T18:16:09.985Z"
   },
   {
    "duration": 39,
    "start_time": "2022-01-28T18:16:10.006Z"
   },
   {
    "duration": 14,
    "start_time": "2022-01-28T18:16:10.048Z"
   },
   {
    "duration": 25,
    "start_time": "2022-01-28T18:16:10.064Z"
   },
   {
    "duration": 18,
    "start_time": "2022-01-28T18:16:10.090Z"
   },
   {
    "duration": 23,
    "start_time": "2022-01-28T18:16:10.110Z"
   },
   {
    "duration": 32,
    "start_time": "2022-01-28T18:16:10.137Z"
   },
   {
    "duration": 7,
    "start_time": "2022-01-28T18:17:16.827Z"
   },
   {
    "duration": 9,
    "start_time": "2022-01-28T18:17:17.864Z"
   },
   {
    "duration": 3,
    "start_time": "2022-01-28T18:17:23.842Z"
   },
   {
    "duration": 76,
    "start_time": "2022-01-28T18:17:23.850Z"
   },
   {
    "duration": 13,
    "start_time": "2022-01-28T18:17:23.928Z"
   },
   {
    "duration": 26,
    "start_time": "2022-01-28T18:17:23.943Z"
   },
   {
    "duration": 17,
    "start_time": "2022-01-28T18:17:23.971Z"
   },
   {
    "duration": 22,
    "start_time": "2022-01-28T18:17:23.990Z"
   },
   {
    "duration": 29,
    "start_time": "2022-01-28T18:17:24.013Z"
   },
   {
    "duration": 703,
    "start_time": "2022-01-28T18:17:24.044Z"
   },
   {
    "duration": 16,
    "start_time": "2022-01-28T18:17:24.750Z"
   },
   {
    "duration": 10,
    "start_time": "2022-01-28T18:17:24.768Z"
   },
   {
    "duration": 3,
    "start_time": "2022-01-28T18:17:24.780Z"
   },
   {
    "duration": 9,
    "start_time": "2022-01-28T18:17:24.785Z"
   },
   {
    "duration": 3,
    "start_time": "2022-01-28T18:17:24.796Z"
   },
   {
    "duration": 14,
    "start_time": "2022-01-28T18:17:24.800Z"
   },
   {
    "duration": 3,
    "start_time": "2022-01-28T18:17:24.816Z"
   },
   {
    "duration": 6,
    "start_time": "2022-01-28T18:17:24.821Z"
   },
   {
    "duration": 34,
    "start_time": "2022-01-28T18:17:24.828Z"
   },
   {
    "duration": 6,
    "start_time": "2022-01-28T18:17:24.863Z"
   },
   {
    "duration": 6,
    "start_time": "2022-01-28T18:17:24.871Z"
   },
   {
    "duration": 4,
    "start_time": "2022-01-28T18:17:24.879Z"
   },
   {
    "duration": 22,
    "start_time": "2022-01-28T18:17:24.885Z"
   },
   {
    "duration": 3,
    "start_time": "2022-01-28T18:17:24.908Z"
   },
   {
    "duration": 9,
    "start_time": "2022-01-28T18:17:24.913Z"
   },
   {
    "duration": 3,
    "start_time": "2022-01-28T18:17:24.925Z"
   },
   {
    "duration": 3,
    "start_time": "2022-01-28T18:17:24.960Z"
   },
   {
    "duration": 13,
    "start_time": "2022-01-28T18:17:24.965Z"
   },
   {
    "duration": 14,
    "start_time": "2022-01-28T18:17:24.979Z"
   },
   {
    "duration": 15,
    "start_time": "2022-01-28T18:17:24.994Z"
   },
   {
    "duration": 16,
    "start_time": "2022-01-28T18:17:25.011Z"
   },
   {
    "duration": 36,
    "start_time": "2022-01-28T18:17:25.029Z"
   },
   {
    "duration": 18,
    "start_time": "2022-01-28T18:17:25.067Z"
   },
   {
    "duration": 8,
    "start_time": "2022-01-28T18:17:25.086Z"
   },
   {
    "duration": 13,
    "start_time": "2022-01-28T18:17:25.095Z"
   },
   {
    "duration": 8,
    "start_time": "2022-01-28T18:17:25.110Z"
   },
   {
    "duration": 8,
    "start_time": "2022-01-28T18:17:25.119Z"
   },
   {
    "duration": 729,
    "start_time": "2022-01-28T18:17:25.128Z"
   },
   {
    "duration": 2881,
    "start_time": "2022-01-28T18:17:25.861Z"
   },
   {
    "duration": 19,
    "start_time": "2022-01-28T18:17:28.744Z"
   },
   {
    "duration": 17,
    "start_time": "2022-01-28T18:17:28.765Z"
   },
   {
    "duration": 22,
    "start_time": "2022-01-28T18:17:28.784Z"
   },
   {
    "duration": 5,
    "start_time": "2022-01-28T18:17:28.808Z"
   },
   {
    "duration": 25,
    "start_time": "2022-01-28T18:17:28.815Z"
   },
   {
    "duration": 52,
    "start_time": "2022-01-28T18:17:28.842Z"
   },
   {
    "duration": 25,
    "start_time": "2022-01-28T18:17:28.895Z"
   },
   {
    "duration": 24,
    "start_time": "2022-01-28T18:17:28.921Z"
   },
   {
    "duration": 16,
    "start_time": "2022-01-28T18:17:28.946Z"
   },
   {
    "duration": 35,
    "start_time": "2022-01-28T18:17:28.963Z"
   },
   {
    "duration": 33,
    "start_time": "2022-01-28T18:17:28.999Z"
   },
   {
    "duration": 41,
    "start_time": "2022-01-28T18:17:29.034Z"
   },
   {
    "duration": 36,
    "start_time": "2022-01-28T18:17:29.077Z"
   },
   {
    "duration": 26,
    "start_time": "2022-01-28T18:17:29.115Z"
   },
   {
    "duration": 21,
    "start_time": "2022-01-28T18:17:29.143Z"
   },
   {
    "duration": 7,
    "start_time": "2022-01-28T18:17:29.166Z"
   },
   {
    "duration": 8,
    "start_time": "2022-01-28T18:17:29.174Z"
   },
   {
    "duration": 23,
    "start_time": "2022-01-28T18:17:29.183Z"
   },
   {
    "duration": 6,
    "start_time": "2022-01-28T18:17:29.208Z"
   },
   {
    "duration": 9,
    "start_time": "2022-01-28T18:17:29.216Z"
   },
   {
    "duration": 11,
    "start_time": "2022-01-28T18:17:29.226Z"
   },
   {
    "duration": 6,
    "start_time": "2022-01-28T18:17:29.260Z"
   },
   {
    "duration": 7,
    "start_time": "2022-01-28T18:17:29.267Z"
   },
   {
    "duration": 11,
    "start_time": "2022-01-28T18:17:29.276Z"
   },
   {
    "duration": 7,
    "start_time": "2022-01-28T18:17:29.288Z"
   },
   {
    "duration": 6,
    "start_time": "2022-01-28T18:17:29.297Z"
   },
   {
    "duration": 7,
    "start_time": "2022-01-28T18:17:29.305Z"
   },
   {
    "duration": 7,
    "start_time": "2022-01-28T18:17:29.314Z"
   },
   {
    "duration": 3,
    "start_time": "2022-01-28T18:18:49.917Z"
   },
   {
    "duration": 80,
    "start_time": "2022-01-28T18:18:49.925Z"
   },
   {
    "duration": 13,
    "start_time": "2022-01-28T18:18:50.007Z"
   },
   {
    "duration": 30,
    "start_time": "2022-01-28T18:18:50.022Z"
   },
   {
    "duration": 42,
    "start_time": "2022-01-28T18:18:50.054Z"
   },
   {
    "duration": 13,
    "start_time": "2022-01-28T18:18:50.098Z"
   },
   {
    "duration": 39,
    "start_time": "2022-01-28T18:18:50.113Z"
   },
   {
    "duration": 670,
    "start_time": "2022-01-28T18:18:50.154Z"
   },
   {
    "duration": 12,
    "start_time": "2022-01-28T18:18:50.827Z"
   },
   {
    "duration": 22,
    "start_time": "2022-01-28T18:18:50.842Z"
   },
   {
    "duration": 3,
    "start_time": "2022-01-28T18:18:50.866Z"
   },
   {
    "duration": 9,
    "start_time": "2022-01-28T18:18:50.871Z"
   },
   {
    "duration": 3,
    "start_time": "2022-01-28T18:18:50.881Z"
   },
   {
    "duration": 9,
    "start_time": "2022-01-28T18:18:50.886Z"
   },
   {
    "duration": 4,
    "start_time": "2022-01-28T18:18:50.897Z"
   },
   {
    "duration": 7,
    "start_time": "2022-01-28T18:18:50.903Z"
   },
   {
    "duration": 7,
    "start_time": "2022-01-28T18:18:50.912Z"
   },
   {
    "duration": 41,
    "start_time": "2022-01-28T18:18:50.921Z"
   },
   {
    "duration": 6,
    "start_time": "2022-01-28T18:18:50.963Z"
   },
   {
    "duration": 3,
    "start_time": "2022-01-28T18:18:50.971Z"
   },
   {
    "duration": 24,
    "start_time": "2022-01-28T18:18:50.976Z"
   },
   {
    "duration": 4,
    "start_time": "2022-01-28T18:18:51.002Z"
   },
   {
    "duration": 9,
    "start_time": "2022-01-28T18:18:51.007Z"
   },
   {
    "duration": 3,
    "start_time": "2022-01-28T18:18:51.020Z"
   },
   {
    "duration": 40,
    "start_time": "2022-01-28T18:18:51.025Z"
   },
   {
    "duration": 15,
    "start_time": "2022-01-28T18:18:51.067Z"
   },
   {
    "duration": 15,
    "start_time": "2022-01-28T18:18:51.084Z"
   },
   {
    "duration": 15,
    "start_time": "2022-01-28T18:18:51.101Z"
   },
   {
    "duration": 50,
    "start_time": "2022-01-28T18:18:51.118Z"
   },
   {
    "duration": 11,
    "start_time": "2022-01-28T18:18:51.170Z"
   },
   {
    "duration": 29,
    "start_time": "2022-01-28T18:18:51.183Z"
   },
   {
    "duration": 10,
    "start_time": "2022-01-28T18:18:51.213Z"
   },
   {
    "duration": 42,
    "start_time": "2022-01-28T18:18:51.225Z"
   },
   {
    "duration": 11,
    "start_time": "2022-01-28T18:18:51.270Z"
   },
   {
    "duration": 7,
    "start_time": "2022-01-28T18:18:51.283Z"
   },
   {
    "duration": 777,
    "start_time": "2022-01-28T18:18:51.292Z"
   },
   {
    "duration": 3061,
    "start_time": "2022-01-28T18:18:52.072Z"
   },
   {
    "duration": 6,
    "start_time": "2022-01-28T18:18:55.135Z"
   },
   {
    "duration": 25,
    "start_time": "2022-01-28T18:18:55.143Z"
   },
   {
    "duration": 12,
    "start_time": "2022-01-28T18:18:55.170Z"
   },
   {
    "duration": 9,
    "start_time": "2022-01-28T18:18:55.183Z"
   },
   {
    "duration": 10,
    "start_time": "2022-01-28T18:18:55.193Z"
   },
   {
    "duration": 7,
    "start_time": "2022-01-28T18:18:55.204Z"
   },
   {
    "duration": 9,
    "start_time": "2022-01-28T18:18:55.213Z"
   },
   {
    "duration": 5,
    "start_time": "2022-01-28T18:18:55.223Z"
   },
   {
    "duration": 30,
    "start_time": "2022-01-28T18:18:55.230Z"
   },
   {
    "duration": 12,
    "start_time": "2022-01-28T18:18:55.262Z"
   },
   {
    "duration": 7,
    "start_time": "2022-01-28T18:18:55.276Z"
   },
   {
    "duration": 11,
    "start_time": "2022-01-28T18:18:55.284Z"
   },
   {
    "duration": 9,
    "start_time": "2022-01-28T18:18:55.297Z"
   },
   {
    "duration": 10,
    "start_time": "2022-01-28T18:18:55.308Z"
   },
   {
    "duration": 8,
    "start_time": "2022-01-28T18:18:55.319Z"
   },
   {
    "duration": 6,
    "start_time": "2022-01-28T18:18:55.328Z"
   },
   {
    "duration": 10,
    "start_time": "2022-01-28T18:18:55.360Z"
   },
   {
    "duration": 31,
    "start_time": "2022-01-28T18:18:55.372Z"
   },
   {
    "duration": 6,
    "start_time": "2022-01-28T18:18:55.405Z"
   },
   {
    "duration": 8,
    "start_time": "2022-01-28T18:18:55.413Z"
   },
   {
    "duration": 46,
    "start_time": "2022-01-28T18:18:55.423Z"
   },
   {
    "duration": 7,
    "start_time": "2022-01-28T18:18:55.472Z"
   },
   {
    "duration": 13,
    "start_time": "2022-01-28T18:18:55.481Z"
   },
   {
    "duration": 8,
    "start_time": "2022-01-28T18:18:55.495Z"
   },
   {
    "duration": 9,
    "start_time": "2022-01-28T18:18:55.505Z"
   },
   {
    "duration": 6,
    "start_time": "2022-01-28T18:18:55.516Z"
   },
   {
    "duration": 7,
    "start_time": "2022-01-28T18:18:55.523Z"
   },
   {
    "duration": 29,
    "start_time": "2022-01-28T18:18:55.531Z"
   },
   {
    "duration": 5,
    "start_time": "2022-01-28T18:31:54.879Z"
   },
   {
    "duration": 140,
    "start_time": "2022-01-28T18:41:28.328Z"
   },
   {
    "duration": 267,
    "start_time": "2022-01-28T18:41:35.885Z"
   },
   {
    "duration": 4,
    "start_time": "2022-01-28T18:41:42.203Z"
   },
   {
    "duration": 4,
    "start_time": "2022-01-28T18:41:43.622Z"
   },
   {
    "duration": 4,
    "start_time": "2022-01-28T18:41:57.518Z"
   },
   {
    "duration": 9,
    "start_time": "2022-01-28T18:42:53.805Z"
   },
   {
    "duration": 2,
    "start_time": "2022-01-28T18:43:15.927Z"
   },
   {
    "duration": 9,
    "start_time": "2022-01-28T18:43:17.066Z"
   },
   {
    "duration": 3,
    "start_time": "2022-01-28T18:43:30.400Z"
   },
   {
    "duration": 64,
    "start_time": "2022-01-28T18:43:30.405Z"
   },
   {
    "duration": 13,
    "start_time": "2022-01-28T18:43:30.472Z"
   },
   {
    "duration": 22,
    "start_time": "2022-01-28T18:43:30.487Z"
   },
   {
    "duration": 13,
    "start_time": "2022-01-28T18:43:30.511Z"
   },
   {
    "duration": 23,
    "start_time": "2022-01-28T18:43:30.526Z"
   },
   {
    "duration": 16,
    "start_time": "2022-01-28T18:43:30.560Z"
   },
   {
    "duration": 706,
    "start_time": "2022-01-28T18:43:30.578Z"
   },
   {
    "duration": 13,
    "start_time": "2022-01-28T18:43:31.286Z"
   },
   {
    "duration": 6,
    "start_time": "2022-01-28T18:43:31.300Z"
   },
   {
    "duration": 5,
    "start_time": "2022-01-28T18:43:31.308Z"
   },
   {
    "duration": 24,
    "start_time": "2022-01-28T18:43:31.314Z"
   },
   {
    "duration": 23,
    "start_time": "2022-01-28T18:43:31.339Z"
   },
   {
    "duration": 3,
    "start_time": "2022-01-28T18:43:31.364Z"
   },
   {
    "duration": 13,
    "start_time": "2022-01-28T18:43:31.369Z"
   },
   {
    "duration": 12,
    "start_time": "2022-01-28T18:43:31.385Z"
   },
   {
    "duration": 28,
    "start_time": "2022-01-28T18:43:31.399Z"
   },
   {
    "duration": 15,
    "start_time": "2022-01-28T18:43:31.428Z"
   },
   {
    "duration": 25,
    "start_time": "2022-01-28T18:43:31.444Z"
   },
   {
    "duration": 17,
    "start_time": "2022-01-28T18:43:31.471Z"
   },
   {
    "duration": 28,
    "start_time": "2022-01-28T18:43:31.489Z"
   },
   {
    "duration": 15,
    "start_time": "2022-01-28T18:43:31.519Z"
   },
   {
    "duration": 18,
    "start_time": "2022-01-28T18:43:31.536Z"
   },
   {
    "duration": 33,
    "start_time": "2022-01-28T18:43:31.556Z"
   },
   {
    "duration": 13,
    "start_time": "2022-01-28T18:43:31.591Z"
   },
   {
    "duration": 16,
    "start_time": "2022-01-28T18:43:31.606Z"
   },
   {
    "duration": 17,
    "start_time": "2022-01-28T18:43:31.624Z"
   },
   {
    "duration": 35,
    "start_time": "2022-01-28T18:43:31.643Z"
   },
   {
    "duration": 27,
    "start_time": "2022-01-28T18:43:31.680Z"
   },
   {
    "duration": 16,
    "start_time": "2022-01-28T18:43:31.709Z"
   },
   {
    "duration": 16,
    "start_time": "2022-01-28T18:43:31.727Z"
   },
   {
    "duration": 16,
    "start_time": "2022-01-28T18:43:31.745Z"
   },
   {
    "duration": 7,
    "start_time": "2022-01-28T18:43:31.762Z"
   },
   {
    "duration": 21,
    "start_time": "2022-01-28T18:43:31.771Z"
   },
   {
    "duration": 8,
    "start_time": "2022-01-28T18:43:31.794Z"
   },
   {
    "duration": 12,
    "start_time": "2022-01-28T18:43:31.804Z"
   },
   {
    "duration": 10,
    "start_time": "2022-01-28T18:43:31.818Z"
   },
   {
    "duration": 31,
    "start_time": "2022-01-28T18:43:31.829Z"
   },
   {
    "duration": 710,
    "start_time": "2022-01-28T18:43:31.862Z"
   },
   {
    "duration": 3132,
    "start_time": "2022-01-28T18:43:32.573Z"
   },
   {
    "duration": 4,
    "start_time": "2022-01-28T18:43:35.707Z"
   },
   {
    "duration": 17,
    "start_time": "2022-01-28T18:43:35.715Z"
   },
   {
    "duration": 40,
    "start_time": "2022-01-28T18:43:35.734Z"
   },
   {
    "duration": 15,
    "start_time": "2022-01-28T18:43:35.776Z"
   },
   {
    "duration": 16,
    "start_time": "2022-01-28T18:43:35.793Z"
   },
   {
    "duration": 9,
    "start_time": "2022-01-28T18:43:35.811Z"
   },
   {
    "duration": 10,
    "start_time": "2022-01-28T18:43:35.821Z"
   },
   {
    "duration": 5,
    "start_time": "2022-01-28T18:43:35.832Z"
   },
   {
    "duration": 7,
    "start_time": "2022-01-28T18:43:35.838Z"
   },
   {
    "duration": 16,
    "start_time": "2022-01-28T18:43:35.847Z"
   },
   {
    "duration": 5,
    "start_time": "2022-01-28T18:43:35.865Z"
   },
   {
    "duration": 11,
    "start_time": "2022-01-28T18:43:35.872Z"
   },
   {
    "duration": 10,
    "start_time": "2022-01-28T18:43:35.885Z"
   },
   {
    "duration": 11,
    "start_time": "2022-01-28T18:43:35.897Z"
   },
   {
    "duration": 8,
    "start_time": "2022-01-28T18:43:35.909Z"
   },
   {
    "duration": 7,
    "start_time": "2022-01-28T18:43:35.919Z"
   },
   {
    "duration": 8,
    "start_time": "2022-01-28T18:43:35.927Z"
   },
   {
    "duration": 45,
    "start_time": "2022-01-28T18:43:35.936Z"
   },
   {
    "duration": 6,
    "start_time": "2022-01-28T18:43:35.983Z"
   },
   {
    "duration": 9,
    "start_time": "2022-01-28T18:43:35.991Z"
   },
   {
    "duration": 10,
    "start_time": "2022-01-28T18:43:36.002Z"
   },
   {
    "duration": 8,
    "start_time": "2022-01-28T18:43:36.014Z"
   },
   {
    "duration": 36,
    "start_time": "2022-01-28T18:43:36.024Z"
   },
   {
    "duration": 12,
    "start_time": "2022-01-28T18:43:36.062Z"
   },
   {
    "duration": 11,
    "start_time": "2022-01-28T18:43:36.075Z"
   },
   {
    "duration": 6,
    "start_time": "2022-01-28T18:43:36.088Z"
   },
   {
    "duration": 7,
    "start_time": "2022-01-28T18:43:36.096Z"
   },
   {
    "duration": 8,
    "start_time": "2022-01-28T18:43:36.105Z"
   },
   {
    "duration": 4,
    "start_time": "2022-01-28T18:44:39.026Z"
   },
   {
    "duration": 8,
    "start_time": "2022-01-28T18:44:40.129Z"
   },
   {
    "duration": 4,
    "start_time": "2022-01-28T18:45:12.348Z"
   },
   {
    "duration": 8,
    "start_time": "2022-01-28T18:45:13.218Z"
   },
   {
    "duration": 3,
    "start_time": "2022-01-28T18:45:49.368Z"
   },
   {
    "duration": 52,
    "start_time": "2022-01-28T18:45:49.376Z"
   },
   {
    "duration": 16,
    "start_time": "2022-01-28T18:45:49.430Z"
   },
   {
    "duration": 19,
    "start_time": "2022-01-28T18:45:49.448Z"
   },
   {
    "duration": 9,
    "start_time": "2022-01-28T18:45:49.469Z"
   },
   {
    "duration": 9,
    "start_time": "2022-01-28T18:45:49.479Z"
   },
   {
    "duration": 12,
    "start_time": "2022-01-28T18:45:49.490Z"
   },
   {
    "duration": 685,
    "start_time": "2022-01-28T18:45:49.504Z"
   },
   {
    "duration": 12,
    "start_time": "2022-01-28T18:45:50.192Z"
   },
   {
    "duration": 8,
    "start_time": "2022-01-28T18:45:50.206Z"
   },
   {
    "duration": 16,
    "start_time": "2022-01-28T18:45:50.216Z"
   },
   {
    "duration": 10,
    "start_time": "2022-01-28T18:45:50.234Z"
   },
   {
    "duration": 3,
    "start_time": "2022-01-28T18:45:50.245Z"
   },
   {
    "duration": 10,
    "start_time": "2022-01-28T18:45:50.260Z"
   },
   {
    "duration": 4,
    "start_time": "2022-01-28T18:45:50.272Z"
   },
   {
    "duration": 6,
    "start_time": "2022-01-28T18:45:50.278Z"
   },
   {
    "duration": 7,
    "start_time": "2022-01-28T18:45:50.286Z"
   },
   {
    "duration": 6,
    "start_time": "2022-01-28T18:45:50.295Z"
   },
   {
    "duration": 9,
    "start_time": "2022-01-28T18:45:50.302Z"
   },
   {
    "duration": 5,
    "start_time": "2022-01-28T18:45:50.312Z"
   },
   {
    "duration": 55,
    "start_time": "2022-01-28T18:45:50.318Z"
   },
   {
    "duration": 3,
    "start_time": "2022-01-28T18:45:50.375Z"
   },
   {
    "duration": 8,
    "start_time": "2022-01-28T18:45:50.382Z"
   },
   {
    "duration": 7,
    "start_time": "2022-01-28T18:45:50.393Z"
   },
   {
    "duration": 6,
    "start_time": "2022-01-28T18:45:50.401Z"
   },
   {
    "duration": 13,
    "start_time": "2022-01-28T18:45:50.408Z"
   },
   {
    "duration": 13,
    "start_time": "2022-01-28T18:45:50.422Z"
   },
   {
    "duration": 38,
    "start_time": "2022-01-28T18:45:50.437Z"
   },
   {
    "duration": 14,
    "start_time": "2022-01-28T18:45:50.477Z"
   },
   {
    "duration": 12,
    "start_time": "2022-01-28T18:45:50.493Z"
   },
   {
    "duration": 26,
    "start_time": "2022-01-28T18:45:50.506Z"
   },
   {
    "duration": 19,
    "start_time": "2022-01-28T18:45:50.533Z"
   },
   {
    "duration": 27,
    "start_time": "2022-01-28T18:45:50.553Z"
   },
   {
    "duration": 22,
    "start_time": "2022-01-28T18:45:50.582Z"
   },
   {
    "duration": 30,
    "start_time": "2022-01-28T18:45:50.606Z"
   },
   {
    "duration": 700,
    "start_time": "2022-01-28T18:45:50.638Z"
   },
   {
    "duration": 3031,
    "start_time": "2022-01-28T18:45:51.340Z"
   },
   {
    "duration": 5,
    "start_time": "2022-01-28T18:45:54.372Z"
   },
   {
    "duration": 8,
    "start_time": "2022-01-28T18:45:54.379Z"
   },
   {
    "duration": 12,
    "start_time": "2022-01-28T18:45:54.388Z"
   },
   {
    "duration": 3,
    "start_time": "2022-01-28T18:45:54.402Z"
   },
   {
    "duration": 7,
    "start_time": "2022-01-28T18:45:54.406Z"
   },
   {
    "duration": 7,
    "start_time": "2022-01-28T18:45:54.415Z"
   },
   {
    "duration": 44,
    "start_time": "2022-01-28T18:45:54.423Z"
   },
   {
    "duration": 6,
    "start_time": "2022-01-28T18:45:54.469Z"
   },
   {
    "duration": 5,
    "start_time": "2022-01-28T18:45:54.477Z"
   },
   {
    "duration": 12,
    "start_time": "2022-01-28T18:45:54.484Z"
   },
   {
    "duration": 14,
    "start_time": "2022-01-28T18:45:54.498Z"
   },
   {
    "duration": 22,
    "start_time": "2022-01-28T18:45:54.513Z"
   },
   {
    "duration": 20,
    "start_time": "2022-01-28T18:45:54.537Z"
   },
   {
    "duration": 23,
    "start_time": "2022-01-28T18:45:54.559Z"
   },
   {
    "duration": 23,
    "start_time": "2022-01-28T18:45:54.583Z"
   },
   {
    "duration": 15,
    "start_time": "2022-01-28T18:45:54.608Z"
   },
   {
    "duration": 21,
    "start_time": "2022-01-28T18:45:54.624Z"
   },
   {
    "duration": 29,
    "start_time": "2022-01-28T18:45:54.647Z"
   },
   {
    "duration": 7,
    "start_time": "2022-01-28T18:45:54.678Z"
   },
   {
    "duration": 24,
    "start_time": "2022-01-28T18:45:54.686Z"
   },
   {
    "duration": 14,
    "start_time": "2022-01-28T18:45:54.711Z"
   },
   {
    "duration": 22,
    "start_time": "2022-01-28T18:45:54.727Z"
   },
   {
    "duration": 16,
    "start_time": "2022-01-28T18:45:54.751Z"
   },
   {
    "duration": 23,
    "start_time": "2022-01-28T18:45:54.769Z"
   },
   {
    "duration": 11,
    "start_time": "2022-01-28T18:45:54.794Z"
   },
   {
    "duration": 12,
    "start_time": "2022-01-28T18:45:54.807Z"
   },
   {
    "duration": 8,
    "start_time": "2022-01-28T18:45:54.821Z"
   },
   {
    "duration": 8,
    "start_time": "2022-01-28T18:45:54.833Z"
   },
   {
    "duration": 2,
    "start_time": "2022-01-28T18:48:45.759Z"
   },
   {
    "duration": 66,
    "start_time": "2022-01-28T18:48:45.766Z"
   },
   {
    "duration": 12,
    "start_time": "2022-01-28T18:48:45.834Z"
   },
   {
    "duration": 29,
    "start_time": "2022-01-28T18:48:45.849Z"
   },
   {
    "duration": 36,
    "start_time": "2022-01-28T18:48:45.879Z"
   },
   {
    "duration": 16,
    "start_time": "2022-01-28T18:48:45.916Z"
   },
   {
    "duration": 27,
    "start_time": "2022-01-28T18:48:45.933Z"
   },
   {
    "duration": 679,
    "start_time": "2022-01-28T18:48:45.962Z"
   },
   {
    "duration": 18,
    "start_time": "2022-01-28T18:48:46.643Z"
   },
   {
    "duration": 23,
    "start_time": "2022-01-28T18:48:46.663Z"
   },
   {
    "duration": 14,
    "start_time": "2022-01-28T18:48:46.688Z"
   },
   {
    "duration": 30,
    "start_time": "2022-01-28T18:48:46.704Z"
   },
   {
    "duration": 25,
    "start_time": "2022-01-28T18:48:46.736Z"
   },
   {
    "duration": 28,
    "start_time": "2022-01-28T18:48:46.763Z"
   },
   {
    "duration": 19,
    "start_time": "2022-01-28T18:48:46.793Z"
   },
   {
    "duration": 31,
    "start_time": "2022-01-28T18:48:46.814Z"
   },
   {
    "duration": 22,
    "start_time": "2022-01-28T18:48:46.846Z"
   },
   {
    "duration": 35,
    "start_time": "2022-01-28T18:48:46.870Z"
   },
   {
    "duration": 17,
    "start_time": "2022-01-28T18:48:46.907Z"
   },
   {
    "duration": 20,
    "start_time": "2022-01-28T18:48:46.926Z"
   },
   {
    "duration": 43,
    "start_time": "2022-01-28T18:48:46.947Z"
   },
   {
    "duration": 21,
    "start_time": "2022-01-28T18:48:46.991Z"
   },
   {
    "duration": 41,
    "start_time": "2022-01-28T18:48:47.013Z"
   },
   {
    "duration": 18,
    "start_time": "2022-01-28T18:48:47.058Z"
   },
   {
    "duration": 34,
    "start_time": "2022-01-28T18:48:47.079Z"
   },
   {
    "duration": 38,
    "start_time": "2022-01-28T18:48:47.114Z"
   },
   {
    "duration": 28,
    "start_time": "2022-01-28T18:48:47.153Z"
   },
   {
    "duration": 24,
    "start_time": "2022-01-28T18:48:47.183Z"
   },
   {
    "duration": 19,
    "start_time": "2022-01-28T18:48:47.209Z"
   },
   {
    "duration": 25,
    "start_time": "2022-01-28T18:48:47.229Z"
   },
   {
    "duration": 34,
    "start_time": "2022-01-28T18:48:47.255Z"
   },
   {
    "duration": 32,
    "start_time": "2022-01-28T18:48:47.291Z"
   },
   {
    "duration": 44,
    "start_time": "2022-01-28T18:48:47.324Z"
   },
   {
    "duration": 28,
    "start_time": "2022-01-28T18:48:47.370Z"
   },
   {
    "duration": 33,
    "start_time": "2022-01-28T18:48:47.399Z"
   },
   {
    "duration": 699,
    "start_time": "2022-01-28T18:48:47.434Z"
   },
   {
    "duration": 2787,
    "start_time": "2022-01-28T18:48:48.135Z"
   },
   {
    "duration": 4,
    "start_time": "2022-01-28T18:48:50.923Z"
   },
   {
    "duration": 26,
    "start_time": "2022-01-28T18:48:50.929Z"
   },
   {
    "duration": 21,
    "start_time": "2022-01-28T18:48:50.960Z"
   },
   {
    "duration": 13,
    "start_time": "2022-01-28T18:48:50.983Z"
   },
   {
    "duration": 22,
    "start_time": "2022-01-28T18:48:50.997Z"
   },
   {
    "duration": 16,
    "start_time": "2022-01-28T18:48:51.021Z"
   },
   {
    "duration": 29,
    "start_time": "2022-01-28T18:48:51.039Z"
   },
   {
    "duration": 18,
    "start_time": "2022-01-28T18:48:51.070Z"
   },
   {
    "duration": 22,
    "start_time": "2022-01-28T18:48:51.090Z"
   },
   {
    "duration": 32,
    "start_time": "2022-01-28T18:48:51.114Z"
   },
   {
    "duration": 13,
    "start_time": "2022-01-28T18:48:51.148Z"
   },
   {
    "duration": 36,
    "start_time": "2022-01-28T18:48:51.162Z"
   },
   {
    "duration": 27,
    "start_time": "2022-01-28T18:48:51.199Z"
   },
   {
    "duration": 17,
    "start_time": "2022-01-28T18:48:51.228Z"
   },
   {
    "duration": 7,
    "start_time": "2022-01-28T18:48:51.246Z"
   },
   {
    "duration": 6,
    "start_time": "2022-01-28T18:48:51.255Z"
   },
   {
    "duration": 6,
    "start_time": "2022-01-28T18:48:51.263Z"
   },
   {
    "duration": 24,
    "start_time": "2022-01-28T18:48:51.271Z"
   },
   {
    "duration": 6,
    "start_time": "2022-01-28T18:48:51.296Z"
   },
   {
    "duration": 13,
    "start_time": "2022-01-28T18:48:51.303Z"
   },
   {
    "duration": 13,
    "start_time": "2022-01-28T18:48:51.318Z"
   },
   {
    "duration": 5,
    "start_time": "2022-01-28T18:48:51.333Z"
   },
   {
    "duration": 9,
    "start_time": "2022-01-28T18:48:51.339Z"
   },
   {
    "duration": 7,
    "start_time": "2022-01-28T18:48:51.350Z"
   },
   {
    "duration": 13,
    "start_time": "2022-01-28T18:48:51.358Z"
   },
   {
    "duration": 7,
    "start_time": "2022-01-28T18:48:51.373Z"
   },
   {
    "duration": 7,
    "start_time": "2022-01-28T18:48:51.381Z"
   },
   {
    "duration": 7,
    "start_time": "2022-01-28T18:48:51.390Z"
   },
   {
    "duration": 605,
    "start_time": "2022-01-29T10:07:18.042Z"
   },
   {
    "duration": 53,
    "start_time": "2022-01-29T10:07:18.649Z"
   },
   {
    "duration": 22,
    "start_time": "2022-01-29T10:07:18.706Z"
   },
   {
    "duration": 19,
    "start_time": "2022-01-29T10:07:18.731Z"
   },
   {
    "duration": 15,
    "start_time": "2022-01-29T10:07:18.752Z"
   },
   {
    "duration": 38,
    "start_time": "2022-01-29T10:07:18.769Z"
   },
   {
    "duration": 21,
    "start_time": "2022-01-29T10:07:18.811Z"
   },
   {
    "duration": 724,
    "start_time": "2022-01-29T10:07:18.835Z"
   },
   {
    "duration": 14,
    "start_time": "2022-01-29T10:07:19.561Z"
   },
   {
    "duration": 23,
    "start_time": "2022-01-29T10:07:19.577Z"
   },
   {
    "duration": 4,
    "start_time": "2022-01-29T10:07:19.602Z"
   },
   {
    "duration": 38,
    "start_time": "2022-01-29T10:07:19.607Z"
   },
   {
    "duration": 18,
    "start_time": "2022-01-29T10:07:19.647Z"
   },
   {
    "duration": 32,
    "start_time": "2022-01-29T10:07:19.667Z"
   },
   {
    "duration": 15,
    "start_time": "2022-01-29T10:07:19.701Z"
   },
   {
    "duration": 23,
    "start_time": "2022-01-29T10:07:19.718Z"
   },
   {
    "duration": 19,
    "start_time": "2022-01-29T10:07:19.743Z"
   },
   {
    "duration": 21,
    "start_time": "2022-01-29T10:07:19.764Z"
   },
   {
    "duration": 15,
    "start_time": "2022-01-29T10:07:19.786Z"
   },
   {
    "duration": 17,
    "start_time": "2022-01-29T10:07:19.803Z"
   },
   {
    "duration": 45,
    "start_time": "2022-01-29T10:07:19.822Z"
   },
   {
    "duration": 4,
    "start_time": "2022-01-29T10:07:19.869Z"
   },
   {
    "duration": 8,
    "start_time": "2022-01-29T10:07:19.877Z"
   },
   {
    "duration": 5,
    "start_time": "2022-01-29T10:07:19.888Z"
   },
   {
    "duration": 16,
    "start_time": "2022-01-29T10:07:19.895Z"
   },
   {
    "duration": 24,
    "start_time": "2022-01-29T10:07:19.913Z"
   },
   {
    "duration": 16,
    "start_time": "2022-01-29T10:07:19.939Z"
   },
   {
    "duration": 18,
    "start_time": "2022-01-29T10:07:19.957Z"
   },
   {
    "duration": 21,
    "start_time": "2022-01-29T10:07:19.977Z"
   },
   {
    "duration": 8,
    "start_time": "2022-01-29T10:07:20.000Z"
   },
   {
    "duration": 25,
    "start_time": "2022-01-29T10:07:20.009Z"
   },
   {
    "duration": 8,
    "start_time": "2022-01-29T10:07:20.036Z"
   },
   {
    "duration": 21,
    "start_time": "2022-01-29T10:07:20.046Z"
   },
   {
    "duration": 32,
    "start_time": "2022-01-29T10:07:20.068Z"
   },
   {
    "duration": 10,
    "start_time": "2022-01-29T10:07:20.102Z"
   },
   {
    "duration": 722,
    "start_time": "2022-01-29T10:07:20.115Z"
   },
   {
    "duration": 3045,
    "start_time": "2022-01-29T10:07:20.839Z"
   },
   {
    "duration": 5,
    "start_time": "2022-01-29T10:07:23.899Z"
   },
   {
    "duration": 9,
    "start_time": "2022-01-29T10:07:23.906Z"
   },
   {
    "duration": 13,
    "start_time": "2022-01-29T10:07:23.917Z"
   },
   {
    "duration": 3,
    "start_time": "2022-01-29T10:07:23.931Z"
   },
   {
    "duration": 10,
    "start_time": "2022-01-29T10:07:23.936Z"
   },
   {
    "duration": 8,
    "start_time": "2022-01-29T10:07:23.948Z"
   },
   {
    "duration": 48,
    "start_time": "2022-01-29T10:07:23.958Z"
   },
   {
    "duration": 6,
    "start_time": "2022-01-29T10:07:24.008Z"
   },
   {
    "duration": 5,
    "start_time": "2022-01-29T10:07:24.015Z"
   },
   {
    "duration": 19,
    "start_time": "2022-01-29T10:07:24.021Z"
   },
   {
    "duration": 7,
    "start_time": "2022-01-29T10:07:24.041Z"
   },
   {
    "duration": 9,
    "start_time": "2022-01-29T10:07:24.050Z"
   },
   {
    "duration": 45,
    "start_time": "2022-01-29T10:07:24.061Z"
   },
   {
    "duration": 11,
    "start_time": "2022-01-29T10:07:24.108Z"
   },
   {
    "duration": 9,
    "start_time": "2022-01-29T10:07:24.121Z"
   },
   {
    "duration": 13,
    "start_time": "2022-01-29T10:07:24.131Z"
   },
   {
    "duration": 18,
    "start_time": "2022-01-29T10:07:24.146Z"
   },
   {
    "duration": 48,
    "start_time": "2022-01-29T10:07:24.166Z"
   },
   {
    "duration": 7,
    "start_time": "2022-01-29T10:07:24.216Z"
   },
   {
    "duration": 12,
    "start_time": "2022-01-29T10:07:24.224Z"
   },
   {
    "duration": 11,
    "start_time": "2022-01-29T10:07:24.237Z"
   },
   {
    "duration": 6,
    "start_time": "2022-01-29T10:07:24.250Z"
   },
   {
    "duration": 11,
    "start_time": "2022-01-29T10:07:24.257Z"
   },
   {
    "duration": 37,
    "start_time": "2022-01-29T10:07:24.270Z"
   },
   {
    "duration": 12,
    "start_time": "2022-01-29T10:07:24.309Z"
   },
   {
    "duration": 7,
    "start_time": "2022-01-29T10:07:24.322Z"
   },
   {
    "duration": 12,
    "start_time": "2022-01-29T10:07:24.331Z"
   },
   {
    "duration": 10,
    "start_time": "2022-01-29T10:07:24.345Z"
   },
   {
    "duration": 613,
    "start_time": "2022-02-16T05:54:59.396Z"
   },
   {
    "duration": 60,
    "start_time": "2022-02-16T05:55:00.011Z"
   },
   {
    "duration": 19,
    "start_time": "2022-02-16T05:55:00.073Z"
   },
   {
    "duration": 13,
    "start_time": "2022-02-16T05:55:00.093Z"
   },
   {
    "duration": 28,
    "start_time": "2022-02-16T05:55:00.108Z"
   },
   {
    "duration": 11,
    "start_time": "2022-02-16T05:55:00.137Z"
   },
   {
    "duration": 12,
    "start_time": "2022-02-16T05:55:00.149Z"
   },
   {
    "duration": 619,
    "start_time": "2022-02-16T05:55:00.163Z"
   },
   {
    "duration": 12,
    "start_time": "2022-02-16T05:55:00.784Z"
   },
   {
    "duration": 12,
    "start_time": "2022-02-16T05:55:00.798Z"
   },
   {
    "duration": 6,
    "start_time": "2022-02-16T05:55:00.811Z"
   },
   {
    "duration": 10,
    "start_time": "2022-02-16T05:55:00.831Z"
   },
   {
    "duration": 3,
    "start_time": "2022-02-16T05:55:00.843Z"
   },
   {
    "duration": 20,
    "start_time": "2022-02-16T05:55:00.848Z"
   },
   {
    "duration": 4,
    "start_time": "2022-02-16T05:55:00.870Z"
   },
   {
    "duration": 8,
    "start_time": "2022-02-16T05:55:00.875Z"
   },
   {
    "duration": 15,
    "start_time": "2022-02-16T05:55:00.884Z"
   },
   {
    "duration": 6,
    "start_time": "2022-02-16T05:55:00.901Z"
   },
   {
    "duration": 7,
    "start_time": "2022-02-16T05:55:00.908Z"
   },
   {
    "duration": 12,
    "start_time": "2022-02-16T05:55:00.917Z"
   },
   {
    "duration": 35,
    "start_time": "2022-02-16T05:55:00.932Z"
   },
   {
    "duration": 4,
    "start_time": "2022-02-16T05:55:00.968Z"
   },
   {
    "duration": 14,
    "start_time": "2022-02-16T05:55:00.976Z"
   },
   {
    "duration": 7,
    "start_time": "2022-02-16T05:55:00.993Z"
   },
   {
    "duration": 16,
    "start_time": "2022-02-16T05:55:01.002Z"
   },
   {
    "duration": 14,
    "start_time": "2022-02-16T05:55:01.020Z"
   },
   {
    "duration": 14,
    "start_time": "2022-02-16T05:55:01.035Z"
   },
   {
    "duration": 16,
    "start_time": "2022-02-16T05:55:01.050Z"
   },
   {
    "duration": 14,
    "start_time": "2022-02-16T05:55:01.067Z"
   },
   {
    "duration": 6,
    "start_time": "2022-02-16T05:55:01.082Z"
   },
   {
    "duration": 43,
    "start_time": "2022-02-16T05:55:01.090Z"
   },
   {
    "duration": 8,
    "start_time": "2022-02-16T05:55:01.134Z"
   },
   {
    "duration": 17,
    "start_time": "2022-02-16T05:55:01.143Z"
   },
   {
    "duration": 14,
    "start_time": "2022-02-16T05:55:01.161Z"
   },
   {
    "duration": 14,
    "start_time": "2022-02-16T05:55:01.176Z"
   },
   {
    "duration": 603,
    "start_time": "2022-02-16T05:55:01.192Z"
   },
   {
    "duration": 2620,
    "start_time": "2022-02-16T05:55:01.796Z"
   },
   {
    "duration": 15,
    "start_time": "2022-02-16T05:55:04.417Z"
   },
   {
    "duration": 7,
    "start_time": "2022-02-16T05:55:04.434Z"
   },
   {
    "duration": 11,
    "start_time": "2022-02-16T05:55:04.442Z"
   },
   {
    "duration": 2,
    "start_time": "2022-02-16T05:55:04.455Z"
   },
   {
    "duration": 7,
    "start_time": "2022-02-16T05:55:04.458Z"
   },
   {
    "duration": 6,
    "start_time": "2022-02-16T05:55:04.466Z"
   },
   {
    "duration": 8,
    "start_time": "2022-02-16T05:55:04.474Z"
   },
   {
    "duration": 5,
    "start_time": "2022-02-16T05:55:04.483Z"
   },
   {
    "duration": 5,
    "start_time": "2022-02-16T05:55:04.490Z"
   },
   {
    "duration": 15,
    "start_time": "2022-02-16T05:55:04.532Z"
   },
   {
    "duration": 3,
    "start_time": "2022-02-16T05:55:04.549Z"
   },
   {
    "duration": 9,
    "start_time": "2022-02-16T05:55:04.554Z"
   },
   {
    "duration": 13,
    "start_time": "2022-02-16T05:55:04.564Z"
   },
   {
    "duration": 10,
    "start_time": "2022-02-16T05:55:04.579Z"
   },
   {
    "duration": 7,
    "start_time": "2022-02-16T05:55:04.591Z"
   },
   {
    "duration": 11,
    "start_time": "2022-02-16T05:55:04.599Z"
   },
   {
    "duration": 19,
    "start_time": "2022-02-16T05:55:04.612Z"
   },
   {
    "duration": 20,
    "start_time": "2022-02-16T05:55:04.633Z"
   },
   {
    "duration": 7,
    "start_time": "2022-02-16T05:55:04.654Z"
   },
   {
    "duration": 10,
    "start_time": "2022-02-16T05:55:04.662Z"
   },
   {
    "duration": 11,
    "start_time": "2022-02-16T05:55:04.673Z"
   },
   {
    "duration": 6,
    "start_time": "2022-02-16T05:55:04.686Z"
   },
   {
    "duration": 11,
    "start_time": "2022-02-16T05:55:04.693Z"
   },
   {
    "duration": 33,
    "start_time": "2022-02-16T05:55:04.705Z"
   },
   {
    "duration": 6,
    "start_time": "2022-02-16T05:55:04.740Z"
   },
   {
    "duration": 10,
    "start_time": "2022-02-16T05:55:04.748Z"
   },
   {
    "duration": 11,
    "start_time": "2022-02-16T05:55:04.759Z"
   },
   {
    "duration": 10,
    "start_time": "2022-02-16T05:55:04.771Z"
   },
   {
    "duration": 704,
    "start_time": "2022-02-16T16:30:05.586Z"
   },
   {
    "duration": 57,
    "start_time": "2022-02-16T16:30:06.292Z"
   },
   {
    "duration": 20,
    "start_time": "2022-02-16T16:30:06.351Z"
   },
   {
    "duration": 11,
    "start_time": "2022-02-16T16:30:06.373Z"
   },
   {
    "duration": 40,
    "start_time": "2022-02-16T16:30:06.386Z"
   },
   {
    "duration": 10,
    "start_time": "2022-02-16T16:30:06.427Z"
   },
   {
    "duration": 18,
    "start_time": "2022-02-16T16:30:06.439Z"
   },
   {
    "duration": 1232,
    "start_time": "2022-02-16T16:30:06.461Z"
   },
   {
    "duration": 13,
    "start_time": "2022-02-16T16:30:07.696Z"
   },
   {
    "duration": 16,
    "start_time": "2022-02-16T16:30:07.710Z"
   },
   {
    "duration": 5,
    "start_time": "2022-02-16T16:30:07.728Z"
   },
   {
    "duration": 8,
    "start_time": "2022-02-16T16:30:07.735Z"
   },
   {
    "duration": 3,
    "start_time": "2022-02-16T16:30:07.746Z"
   },
   {
    "duration": 19,
    "start_time": "2022-02-16T16:30:07.751Z"
   },
   {
    "duration": 5,
    "start_time": "2022-02-16T16:30:07.772Z"
   },
   {
    "duration": 40,
    "start_time": "2022-02-16T16:30:07.779Z"
   },
   {
    "duration": 6,
    "start_time": "2022-02-16T16:30:07.822Z"
   },
   {
    "duration": 8,
    "start_time": "2022-02-16T16:30:07.830Z"
   },
   {
    "duration": 9,
    "start_time": "2022-02-16T16:30:07.840Z"
   },
   {
    "duration": 6,
    "start_time": "2022-02-16T16:30:07.851Z"
   },
   {
    "duration": 25,
    "start_time": "2022-02-16T16:30:07.859Z"
   },
   {
    "duration": 33,
    "start_time": "2022-02-16T16:30:07.887Z"
   },
   {
    "duration": 8,
    "start_time": "2022-02-16T16:30:07.926Z"
   },
   {
    "duration": 6,
    "start_time": "2022-02-16T16:30:07.937Z"
   },
   {
    "duration": 7,
    "start_time": "2022-02-16T16:30:07.945Z"
   },
   {
    "duration": 17,
    "start_time": "2022-02-16T16:30:07.954Z"
   },
   {
    "duration": 15,
    "start_time": "2022-02-16T16:30:07.973Z"
   },
   {
    "duration": 45,
    "start_time": "2022-02-16T16:30:07.990Z"
   },
   {
    "duration": 17,
    "start_time": "2022-02-16T16:30:08.037Z"
   },
   {
    "duration": 8,
    "start_time": "2022-02-16T16:30:08.056Z"
   },
   {
    "duration": 24,
    "start_time": "2022-02-16T16:30:08.065Z"
   },
   {
    "duration": 30,
    "start_time": "2022-02-16T16:30:08.091Z"
   },
   {
    "duration": 13,
    "start_time": "2022-02-16T16:30:08.122Z"
   },
   {
    "duration": 12,
    "start_time": "2022-02-16T16:30:08.137Z"
   },
   {
    "duration": 9,
    "start_time": "2022-02-16T16:30:08.150Z"
   },
   {
    "duration": 734,
    "start_time": "2022-02-16T16:30:08.161Z"
   },
   {
    "duration": 3479,
    "start_time": "2022-02-16T16:30:08.897Z"
   },
   {
    "duration": 5,
    "start_time": "2022-02-16T16:30:12.378Z"
   },
   {
    "duration": 10,
    "start_time": "2022-02-16T16:30:12.385Z"
   },
   {
    "duration": 31,
    "start_time": "2022-02-16T16:30:12.397Z"
   },
   {
    "duration": 3,
    "start_time": "2022-02-16T16:30:12.429Z"
   },
   {
    "duration": 12,
    "start_time": "2022-02-16T16:30:12.434Z"
   },
   {
    "duration": 10,
    "start_time": "2022-02-16T16:30:12.448Z"
   },
   {
    "duration": 11,
    "start_time": "2022-02-16T16:30:12.459Z"
   },
   {
    "duration": 5,
    "start_time": "2022-02-16T16:30:12.471Z"
   },
   {
    "duration": 4,
    "start_time": "2022-02-16T16:30:12.478Z"
   },
   {
    "duration": 46,
    "start_time": "2022-02-16T16:30:12.484Z"
   },
   {
    "duration": 27,
    "start_time": "2022-02-16T16:30:12.532Z"
   },
   {
    "duration": 11,
    "start_time": "2022-02-16T16:30:12.561Z"
   },
   {
    "duration": 18,
    "start_time": "2022-02-16T16:30:12.574Z"
   },
   {
    "duration": 12,
    "start_time": "2022-02-16T16:30:12.594Z"
   },
   {
    "duration": 20,
    "start_time": "2022-02-16T16:30:12.609Z"
   },
   {
    "duration": 19,
    "start_time": "2022-02-16T16:30:12.631Z"
   },
   {
    "duration": 7,
    "start_time": "2022-02-16T16:30:12.653Z"
   },
   {
    "duration": 36,
    "start_time": "2022-02-16T16:30:12.662Z"
   },
   {
    "duration": 6,
    "start_time": "2022-02-16T16:30:12.700Z"
   },
   {
    "duration": 13,
    "start_time": "2022-02-16T16:30:12.708Z"
   },
   {
    "duration": 19,
    "start_time": "2022-02-16T16:30:12.723Z"
   },
   {
    "duration": 7,
    "start_time": "2022-02-16T16:30:12.743Z"
   },
   {
    "duration": 13,
    "start_time": "2022-02-16T16:30:12.752Z"
   },
   {
    "duration": 13,
    "start_time": "2022-02-16T16:30:12.766Z"
   },
   {
    "duration": 15,
    "start_time": "2022-02-16T16:30:12.781Z"
   },
   {
    "duration": 21,
    "start_time": "2022-02-16T16:30:12.798Z"
   },
   {
    "duration": 10,
    "start_time": "2022-02-16T16:30:12.821Z"
   },
   {
    "duration": 8,
    "start_time": "2022-02-16T16:30:12.833Z"
   }
  ],
  "kernelspec": {
   "display_name": "Python 3 (ipykernel)",
   "language": "python",
   "name": "python3"
  },
  "language_info": {
   "codemirror_mode": {
    "name": "ipython",
    "version": 3
   },
   "file_extension": ".py",
   "mimetype": "text/x-python",
   "name": "python",
   "nbconvert_exporter": "python",
   "pygments_lexer": "ipython3",
   "version": "3.9.7"
  },
  "toc": {
   "base_numbering": 1,
   "nav_menu": {},
   "number_sections": true,
   "sideBar": true,
   "skip_h1_title": true,
   "title_cell": "Table of Contents",
   "title_sidebar": "Contents",
   "toc_cell": false,
   "toc_position": {},
   "toc_section_display": true,
   "toc_window_display": false
  }
 },
 "nbformat": 4,
 "nbformat_minor": 2
}
