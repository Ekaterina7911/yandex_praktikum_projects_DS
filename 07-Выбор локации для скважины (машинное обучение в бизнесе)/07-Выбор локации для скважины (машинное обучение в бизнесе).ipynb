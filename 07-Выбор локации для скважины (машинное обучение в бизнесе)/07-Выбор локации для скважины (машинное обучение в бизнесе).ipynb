{
 "cells": [
  {
   "cell_type": "markdown",
   "metadata": {},
   "source": [
    "# Выбор локации для скважины"
   ]
  },
  {
   "cell_type": "markdown",
   "metadata": {},
   "source": [
    "Допустим, вы работаете в добывающей компании «ГлавРосГосНефть». Нужно решить, где бурить новую скважину.\n",
    "\n",
    "Вам предоставлены пробы нефти в трёх регионах: в каждом 10 000 месторождений, где измерили качество нефти и объём её запасов. Постройте модель машинного обучения, которая поможет определить регион, где добыча принесёт наибольшую прибыль. Проанализируйте возможную прибыль и риски техникой *Bootstrap.*\n",
    "\n",
    "Шаги для выбора локации:\n",
    "\n",
    "- В избранном регионе ищут месторождения, для каждого определяют значения признаков;\n",
    "- Строят модель и оценивают объём запасов;\n",
    "- Выбирают месторождения с самым высокими оценками значений. Количество месторождений зависит от бюджета компании и стоимости разработки одной скважины;\n",
    "- Прибыль равна суммарной прибыли отобранных месторождений."
   ]
  },
  {
   "cell_type": "markdown",
   "metadata": {},
   "source": [
    "## Загрузка и подготовка данных"
   ]
  },
  {
   "cell_type": "markdown",
   "metadata": {},
   "source": [
    "В самом начале импортируем все необходимые библиотеки"
   ]
  },
  {
   "cell_type": "code",
   "execution_count": 1,
   "metadata": {},
   "outputs": [],
   "source": [
    "import pandas as pd\n",
    "\n",
    "from sklearn.model_selection import train_test_split\n",
    "\n",
    "from sklearn.linear_model import LinearRegression\n",
    "\n",
    "from sklearn.metrics import mean_squared_error\n",
    "\n",
    "from sklearn.metrics import r2_score #\n",
    "\n",
    "import numpy as np\n",
    "\n",
    "from scipy import stats as st"
   ]
  },
  {
   "cell_type": "markdown",
   "metadata": {},
   "source": [
    "В нашем распоряжении три отдельных файла с данными по трем разным регионам. Каждую таблицу посмотрим отдельно и если будет необходимо, то проведем предобработку."
   ]
  },
  {
   "cell_type": "markdown",
   "metadata": {},
   "source": [
    "### Загрузка и подготовка данных первый регион"
   ]
  },
  {
   "cell_type": "code",
   "execution_count": 2,
   "metadata": {},
   "outputs": [],
   "source": [
    "geo_data_0 = pd.read_csv('/datasets/geo_data_0.csv') # открытие первого файла"
   ]
  },
  {
   "cell_type": "code",
   "execution_count": 3,
   "metadata": {},
   "outputs": [
    {
     "data": {
      "text/html": [
       "<div>\n",
       "<style scoped>\n",
       "    .dataframe tbody tr th:only-of-type {\n",
       "        vertical-align: middle;\n",
       "    }\n",
       "\n",
       "    .dataframe tbody tr th {\n",
       "        vertical-align: top;\n",
       "    }\n",
       "\n",
       "    .dataframe thead th {\n",
       "        text-align: right;\n",
       "    }\n",
       "</style>\n",
       "<table border=\"1\" class=\"dataframe\">\n",
       "  <thead>\n",
       "    <tr style=\"text-align: right;\">\n",
       "      <th></th>\n",
       "      <th>id</th>\n",
       "      <th>f0</th>\n",
       "      <th>f1</th>\n",
       "      <th>f2</th>\n",
       "      <th>product</th>\n",
       "    </tr>\n",
       "  </thead>\n",
       "  <tbody>\n",
       "    <tr>\n",
       "      <th>0</th>\n",
       "      <td>txEyH</td>\n",
       "      <td>0.705745</td>\n",
       "      <td>-0.497823</td>\n",
       "      <td>1.221170</td>\n",
       "      <td>105.280062</td>\n",
       "    </tr>\n",
       "    <tr>\n",
       "      <th>1</th>\n",
       "      <td>2acmU</td>\n",
       "      <td>1.334711</td>\n",
       "      <td>-0.340164</td>\n",
       "      <td>4.365080</td>\n",
       "      <td>73.037750</td>\n",
       "    </tr>\n",
       "    <tr>\n",
       "      <th>2</th>\n",
       "      <td>409Wp</td>\n",
       "      <td>1.022732</td>\n",
       "      <td>0.151990</td>\n",
       "      <td>1.419926</td>\n",
       "      <td>85.265647</td>\n",
       "    </tr>\n",
       "    <tr>\n",
       "      <th>3</th>\n",
       "      <td>iJLyR</td>\n",
       "      <td>-0.032172</td>\n",
       "      <td>0.139033</td>\n",
       "      <td>2.978566</td>\n",
       "      <td>168.620776</td>\n",
       "    </tr>\n",
       "    <tr>\n",
       "      <th>4</th>\n",
       "      <td>Xdl7t</td>\n",
       "      <td>1.988431</td>\n",
       "      <td>0.155413</td>\n",
       "      <td>4.751769</td>\n",
       "      <td>154.036647</td>\n",
       "    </tr>\n",
       "  </tbody>\n",
       "</table>\n",
       "</div>"
      ],
      "text/plain": [
       "      id        f0        f1        f2     product\n",
       "0  txEyH  0.705745 -0.497823  1.221170  105.280062\n",
       "1  2acmU  1.334711 -0.340164  4.365080   73.037750\n",
       "2  409Wp  1.022732  0.151990  1.419926   85.265647\n",
       "3  iJLyR -0.032172  0.139033  2.978566  168.620776\n",
       "4  Xdl7t  1.988431  0.155413  4.751769  154.036647"
      ]
     },
     "metadata": {},
     "output_type": "display_data"
    }
   ],
   "source": [
    "display(geo_data_0.head()) # просмотр первых пяти строк."
   ]
  },
  {
   "cell_type": "markdown",
   "metadata": {},
   "source": [
    "На первый взгляд, ошибок в данных не видно. В файле есть показатели f0, f1, f2, которые характеризуют свойства залежей, но поскольку нам не уточняют, что это конкретно, будем считать, что данные корректны и они могут действительно быть как положительные, так и отрицательные. Данную информацию, лучше уточнить у специалистов, но как я уже сказала в данном случае считам данные верными. Посмотрим информацию о файле методом info()"
   ]
  },
  {
   "cell_type": "code",
   "execution_count": 4,
   "metadata": {},
   "outputs": [
    {
     "name": "stdout",
     "output_type": "stream",
     "text": [
      "<class 'pandas.core.frame.DataFrame'>\n",
      "RangeIndex: 100000 entries, 0 to 99999\n",
      "Data columns (total 5 columns):\n",
      " #   Column   Non-Null Count   Dtype  \n",
      "---  ------   --------------   -----  \n",
      " 0   id       100000 non-null  object \n",
      " 1   f0       100000 non-null  float64\n",
      " 2   f1       100000 non-null  float64\n",
      " 3   f2       100000 non-null  float64\n",
      " 4   product  100000 non-null  float64\n",
      "dtypes: float64(4), object(1)\n",
      "memory usage: 3.8+ MB\n"
     ]
    }
   ],
   "source": [
    "geo_data_0.info() # просмотр информации о файле"
   ]
  },
  {
   "cell_type": "markdown",
   "metadata": {},
   "source": [
    "В файле 4 столбца. В одном столбце тип данных - object, а в трех остальных- float64. Необходимости менять тип данных в столбах нет. Во всех столбцах одинаковое количество данных, следовательно пропусков нет."
   ]
  },
  {
   "cell_type": "markdown",
   "metadata": {},
   "source": [
    "В соответствии с документацией в файле есть следующие данные:\n",
    "- id — уникальный идентификатор скважины;\n",
    "- f0, f1, f2 — три признака точек;\n",
    "- product — объём запасов в скважине (тыс. баррелей)."
   ]
  },
  {
   "cell_type": "markdown",
   "metadata": {},
   "source": [
    "Проверим, нет ли полностью дублирующихся строк:"
   ]
  },
  {
   "cell_type": "code",
   "execution_count": 5,
   "metadata": {},
   "outputs": [
    {
     "data": {
      "text/plain": [
       "0"
      ]
     },
     "execution_count": 5,
     "metadata": {},
     "output_type": "execute_result"
    }
   ],
   "source": [
    "geo_data_0.duplicated().sum() # подсчет количества дублирующихся строк"
   ]
  },
  {
   "cell_type": "markdown",
   "metadata": {},
   "source": [
    "Полностью дублирующихся строк нет. Посмотрим, нет ли дублирующихся \"id\":"
   ]
  },
  {
   "cell_type": "code",
   "execution_count": 6,
   "metadata": {},
   "outputs": [
    {
     "data": {
      "text/plain": [
       "Tdehs    2\n",
       "bxg6G    2\n",
       "AGS9W    2\n",
       "A5aEY    2\n",
       "bsk9y    2\n",
       "HZww2    2\n",
       "fiKDv    2\n",
       "74z30    2\n",
       "TtcGQ    2\n",
       "QcMuo    2\n",
       "1KiCT    1\n",
       "D6Nj9    1\n",
       "3fsYF    1\n",
       "2KS4I    1\n",
       "QJ3jY    1\n",
       "Name: id, dtype: int64"
      ]
     },
     "execution_count": 6,
     "metadata": {},
     "output_type": "execute_result"
    }
   ],
   "source": [
    "geo_data_0['id'].value_counts().head(15) # подсчет количества дублирующихся уникальных значений на примере первых 15 позиций"
   ]
  },
  {
   "cell_type": "code",
   "execution_count": 7,
   "metadata": {},
   "outputs": [
    {
     "data": {
      "text/html": [
       "<div>\n",
       "<style scoped>\n",
       "    .dataframe tbody tr th:only-of-type {\n",
       "        vertical-align: middle;\n",
       "    }\n",
       "\n",
       "    .dataframe tbody tr th {\n",
       "        vertical-align: top;\n",
       "    }\n",
       "\n",
       "    .dataframe thead th {\n",
       "        text-align: right;\n",
       "    }\n",
       "</style>\n",
       "<table border=\"1\" class=\"dataframe\">\n",
       "  <thead>\n",
       "    <tr style=\"text-align: right;\">\n",
       "      <th></th>\n",
       "      <th>id</th>\n",
       "      <th>f0</th>\n",
       "      <th>f1</th>\n",
       "      <th>f2</th>\n",
       "      <th>product</th>\n",
       "    </tr>\n",
       "  </thead>\n",
       "  <tbody>\n",
       "    <tr>\n",
       "      <th>1949</th>\n",
       "      <td>QcMuo</td>\n",
       "      <td>0.506563</td>\n",
       "      <td>-0.323775</td>\n",
       "      <td>-2.215583</td>\n",
       "      <td>75.496502</td>\n",
       "    </tr>\n",
       "    <tr>\n",
       "      <th>63593</th>\n",
       "      <td>QcMuo</td>\n",
       "      <td>0.635635</td>\n",
       "      <td>-0.473422</td>\n",
       "      <td>0.862670</td>\n",
       "      <td>64.578675</td>\n",
       "    </tr>\n",
       "  </tbody>\n",
       "</table>\n",
       "</div>"
      ],
      "text/plain": [
       "          id        f0        f1        f2    product\n",
       "1949   QcMuo  0.506563 -0.323775 -2.215583  75.496502\n",
       "63593  QcMuo  0.635635 -0.473422  0.862670  64.578675"
      ]
     },
     "metadata": {},
     "output_type": "display_data"
    }
   ],
   "source": [
    "display(geo_data_0.loc[geo_data_0['id']=='QcMuo']) # с помощью логической индексации вывод строк по заданному условию "
   ]
  },
  {
   "cell_type": "markdown",
   "metadata": {},
   "source": [
    "Поскольку на количество запасов нефти влияют, в данном случае только показатели f0-f3, обращать внимание на дублирующийся ID мы не будем. Скорее всего анализ скважины проводили несколько раз, поэтому ее id продублировался."
   ]
  },
  {
   "cell_type": "markdown",
   "metadata": {},
   "source": [
    "Посмотрим насколько сильно коррелируют между собой данные в таблице. Если корреляция между какими-то столбцами будет очень сильной, то это может нам помешать построить модель, которая будет адекватно предсказывать результаты."
   ]
  },
  {
   "cell_type": "code",
   "execution_count": 8,
   "metadata": {},
   "outputs": [
    {
     "data": {
      "text/html": [
       "<div>\n",
       "<style scoped>\n",
       "    .dataframe tbody tr th:only-of-type {\n",
       "        vertical-align: middle;\n",
       "    }\n",
       "\n",
       "    .dataframe tbody tr th {\n",
       "        vertical-align: top;\n",
       "    }\n",
       "\n",
       "    .dataframe thead th {\n",
       "        text-align: right;\n",
       "    }\n",
       "</style>\n",
       "<table border=\"1\" class=\"dataframe\">\n",
       "  <thead>\n",
       "    <tr style=\"text-align: right;\">\n",
       "      <th></th>\n",
       "      <th>f0</th>\n",
       "      <th>f1</th>\n",
       "      <th>f2</th>\n",
       "      <th>product</th>\n",
       "    </tr>\n",
       "  </thead>\n",
       "  <tbody>\n",
       "    <tr>\n",
       "      <th>f0</th>\n",
       "      <td>1.000000</td>\n",
       "      <td>-0.440723</td>\n",
       "      <td>-0.003153</td>\n",
       "      <td>0.143536</td>\n",
       "    </tr>\n",
       "    <tr>\n",
       "      <th>f1</th>\n",
       "      <td>-0.440723</td>\n",
       "      <td>1.000000</td>\n",
       "      <td>0.001724</td>\n",
       "      <td>-0.192356</td>\n",
       "    </tr>\n",
       "    <tr>\n",
       "      <th>f2</th>\n",
       "      <td>-0.003153</td>\n",
       "      <td>0.001724</td>\n",
       "      <td>1.000000</td>\n",
       "      <td>0.483663</td>\n",
       "    </tr>\n",
       "    <tr>\n",
       "      <th>product</th>\n",
       "      <td>0.143536</td>\n",
       "      <td>-0.192356</td>\n",
       "      <td>0.483663</td>\n",
       "      <td>1.000000</td>\n",
       "    </tr>\n",
       "  </tbody>\n",
       "</table>\n",
       "</div>"
      ],
      "text/plain": [
       "               f0        f1        f2   product\n",
       "f0       1.000000 -0.440723 -0.003153  0.143536\n",
       "f1      -0.440723  1.000000  0.001724 -0.192356\n",
       "f2      -0.003153  0.001724  1.000000  0.483663\n",
       "product  0.143536 -0.192356  0.483663  1.000000"
      ]
     },
     "execution_count": 8,
     "metadata": {},
     "output_type": "execute_result"
    }
   ],
   "source": [
    "geo_data_0.corr() # расчет попарного коэффициента корреляции"
   ]
  },
  {
   "cell_type": "markdown",
   "metadata": {},
   "source": [
    "Корреляция достаточно слабая, так что можно спокойно использовать все столбцы для построения модели. Дополнительно посмотрим статистические данные по столбцам с признаками."
   ]
  },
  {
   "cell_type": "code",
   "execution_count": 9,
   "metadata": {},
   "outputs": [
    {
     "data": {
      "text/html": [
       "<div>\n",
       "<style scoped>\n",
       "    .dataframe tbody tr th:only-of-type {\n",
       "        vertical-align: middle;\n",
       "    }\n",
       "\n",
       "    .dataframe tbody tr th {\n",
       "        vertical-align: top;\n",
       "    }\n",
       "\n",
       "    .dataframe thead th {\n",
       "        text-align: right;\n",
       "    }\n",
       "</style>\n",
       "<table border=\"1\" class=\"dataframe\">\n",
       "  <thead>\n",
       "    <tr style=\"text-align: right;\">\n",
       "      <th></th>\n",
       "      <th>f0</th>\n",
       "      <th>f1</th>\n",
       "      <th>f2</th>\n",
       "      <th>product</th>\n",
       "    </tr>\n",
       "  </thead>\n",
       "  <tbody>\n",
       "    <tr>\n",
       "      <th>count</th>\n",
       "      <td>100000.000000</td>\n",
       "      <td>100000.000000</td>\n",
       "      <td>100000.000000</td>\n",
       "      <td>100000.000000</td>\n",
       "    </tr>\n",
       "    <tr>\n",
       "      <th>mean</th>\n",
       "      <td>0.500419</td>\n",
       "      <td>0.250143</td>\n",
       "      <td>2.502647</td>\n",
       "      <td>92.500000</td>\n",
       "    </tr>\n",
       "    <tr>\n",
       "      <th>std</th>\n",
       "      <td>0.871832</td>\n",
       "      <td>0.504433</td>\n",
       "      <td>3.248248</td>\n",
       "      <td>44.288691</td>\n",
       "    </tr>\n",
       "    <tr>\n",
       "      <th>min</th>\n",
       "      <td>-1.408605</td>\n",
       "      <td>-0.848218</td>\n",
       "      <td>-12.088328</td>\n",
       "      <td>0.000000</td>\n",
       "    </tr>\n",
       "    <tr>\n",
       "      <th>25%</th>\n",
       "      <td>-0.072580</td>\n",
       "      <td>-0.200881</td>\n",
       "      <td>0.287748</td>\n",
       "      <td>56.497507</td>\n",
       "    </tr>\n",
       "    <tr>\n",
       "      <th>50%</th>\n",
       "      <td>0.502360</td>\n",
       "      <td>0.250252</td>\n",
       "      <td>2.515969</td>\n",
       "      <td>91.849972</td>\n",
       "    </tr>\n",
       "    <tr>\n",
       "      <th>75%</th>\n",
       "      <td>1.073581</td>\n",
       "      <td>0.700646</td>\n",
       "      <td>4.715088</td>\n",
       "      <td>128.564089</td>\n",
       "    </tr>\n",
       "    <tr>\n",
       "      <th>max</th>\n",
       "      <td>2.362331</td>\n",
       "      <td>1.343769</td>\n",
       "      <td>16.003790</td>\n",
       "      <td>185.364347</td>\n",
       "    </tr>\n",
       "  </tbody>\n",
       "</table>\n",
       "</div>"
      ],
      "text/plain": [
       "                  f0             f1             f2        product\n",
       "count  100000.000000  100000.000000  100000.000000  100000.000000\n",
       "mean        0.500419       0.250143       2.502647      92.500000\n",
       "std         0.871832       0.504433       3.248248      44.288691\n",
       "min        -1.408605      -0.848218     -12.088328       0.000000\n",
       "25%        -0.072580      -0.200881       0.287748      56.497507\n",
       "50%         0.502360       0.250252       2.515969      91.849972\n",
       "75%         1.073581       0.700646       4.715088     128.564089\n",
       "max         2.362331       1.343769      16.003790     185.364347"
      ]
     },
     "execution_count": 9,
     "metadata": {},
     "output_type": "execute_result"
    }
   ],
   "source": [
    "geo_data_0[['f0', 'f1', 'f2', 'product']].describe() # просмотр статистических данных по столбцам с признаками"
   ]
  },
  {
   "cell_type": "markdown",
   "metadata": {},
   "source": [
    "По всем столбцам медиана и среднее приблизительно равны, и можно говорить о нормальном распределении. Максимальные и минимальные значения по всем столбцам в одном диапазоне, поэтому масштабировать признаки не требуется."
   ]
  },
  {
   "cell_type": "markdown",
   "metadata": {},
   "source": [
    "Далее посмотрим данные из второго набора данных."
   ]
  },
  {
   "cell_type": "markdown",
   "metadata": {},
   "source": [
    "### Загрузка и подготовка данных второй регион"
   ]
  },
  {
   "cell_type": "code",
   "execution_count": 10,
   "metadata": {},
   "outputs": [],
   "source": [
    "geo_data_1 = pd.read_csv('/datasets/geo_data_1.csv') # открытие второго файла"
   ]
  },
  {
   "cell_type": "code",
   "execution_count": 11,
   "metadata": {},
   "outputs": [
    {
     "data": {
      "text/html": [
       "<div>\n",
       "<style scoped>\n",
       "    .dataframe tbody tr th:only-of-type {\n",
       "        vertical-align: middle;\n",
       "    }\n",
       "\n",
       "    .dataframe tbody tr th {\n",
       "        vertical-align: top;\n",
       "    }\n",
       "\n",
       "    .dataframe thead th {\n",
       "        text-align: right;\n",
       "    }\n",
       "</style>\n",
       "<table border=\"1\" class=\"dataframe\">\n",
       "  <thead>\n",
       "    <tr style=\"text-align: right;\">\n",
       "      <th></th>\n",
       "      <th>id</th>\n",
       "      <th>f0</th>\n",
       "      <th>f1</th>\n",
       "      <th>f2</th>\n",
       "      <th>product</th>\n",
       "    </tr>\n",
       "  </thead>\n",
       "  <tbody>\n",
       "    <tr>\n",
       "      <th>0</th>\n",
       "      <td>kBEdx</td>\n",
       "      <td>-15.001348</td>\n",
       "      <td>-8.276000</td>\n",
       "      <td>-0.005876</td>\n",
       "      <td>3.179103</td>\n",
       "    </tr>\n",
       "    <tr>\n",
       "      <th>1</th>\n",
       "      <td>62mP7</td>\n",
       "      <td>14.272088</td>\n",
       "      <td>-3.475083</td>\n",
       "      <td>0.999183</td>\n",
       "      <td>26.953261</td>\n",
       "    </tr>\n",
       "    <tr>\n",
       "      <th>2</th>\n",
       "      <td>vyE1P</td>\n",
       "      <td>6.263187</td>\n",
       "      <td>-5.948386</td>\n",
       "      <td>5.001160</td>\n",
       "      <td>134.766305</td>\n",
       "    </tr>\n",
       "    <tr>\n",
       "      <th>3</th>\n",
       "      <td>KcrkZ</td>\n",
       "      <td>-13.081196</td>\n",
       "      <td>-11.506057</td>\n",
       "      <td>4.999415</td>\n",
       "      <td>137.945408</td>\n",
       "    </tr>\n",
       "    <tr>\n",
       "      <th>4</th>\n",
       "      <td>AHL4O</td>\n",
       "      <td>12.702195</td>\n",
       "      <td>-8.147433</td>\n",
       "      <td>5.004363</td>\n",
       "      <td>134.766305</td>\n",
       "    </tr>\n",
       "  </tbody>\n",
       "</table>\n",
       "</div>"
      ],
      "text/plain": [
       "      id         f0         f1        f2     product\n",
       "0  kBEdx -15.001348  -8.276000 -0.005876    3.179103\n",
       "1  62mP7  14.272088  -3.475083  0.999183   26.953261\n",
       "2  vyE1P   6.263187  -5.948386  5.001160  134.766305\n",
       "3  KcrkZ -13.081196 -11.506057  4.999415  137.945408\n",
       "4  AHL4O  12.702195  -8.147433  5.004363  134.766305"
      ]
     },
     "metadata": {},
     "output_type": "display_data"
    }
   ],
   "source": [
    "display(geo_data_1.head()) # просмотр первых пяти строк."
   ]
  },
  {
   "cell_type": "markdown",
   "metadata": {},
   "source": [
    "На первый взгляд, ошибок в данных не видно. Посмотрим информацию о файле методом info()"
   ]
  },
  {
   "cell_type": "code",
   "execution_count": 12,
   "metadata": {},
   "outputs": [
    {
     "name": "stdout",
     "output_type": "stream",
     "text": [
      "<class 'pandas.core.frame.DataFrame'>\n",
      "RangeIndex: 100000 entries, 0 to 99999\n",
      "Data columns (total 5 columns):\n",
      " #   Column   Non-Null Count   Dtype  \n",
      "---  ------   --------------   -----  \n",
      " 0   id       100000 non-null  object \n",
      " 1   f0       100000 non-null  float64\n",
      " 2   f1       100000 non-null  float64\n",
      " 3   f2       100000 non-null  float64\n",
      " 4   product  100000 non-null  float64\n",
      "dtypes: float64(4), object(1)\n",
      "memory usage: 3.8+ MB\n"
     ]
    }
   ],
   "source": [
    "geo_data_1.info() # просмотр информации о файле"
   ]
  },
  {
   "cell_type": "markdown",
   "metadata": {},
   "source": [
    "В файле 4 столбца. В одном столбце тип данных - object, а в трех остальных- float64. Необходимости менять тип данных в столбах нет. Во всех столбцах одинаковое количество данных, следовательно пропусков нет."
   ]
  },
  {
   "cell_type": "markdown",
   "metadata": {},
   "source": [
    "В соответствии с документацией в файле есть следующие данные:\n",
    "\n",
    "- id — уникальный идентификатор скважины;\n",
    "- f0, f1, f2 — три признака точек;\n",
    "- product — объём запасов в скважине (тыс. баррелей)."
   ]
  },
  {
   "cell_type": "code",
   "execution_count": 13,
   "metadata": {},
   "outputs": [
    {
     "data": {
      "text/plain": [
       "0"
      ]
     },
     "execution_count": 13,
     "metadata": {},
     "output_type": "execute_result"
    }
   ],
   "source": [
    "geo_data_1.duplicated().sum() # подсчет количества дублирующихся строк"
   ]
  },
  {
   "cell_type": "markdown",
   "metadata": {},
   "source": [
    "Полностью дублирующихся строк нет. Проверять есть ли дублирующиеся данные в столбце с \"id\" мы не будем, потому что как мы сказали ранее видимо анализ в некоторых скважинах проводился несколько раз, но данные были получены разные и их признали релевантными. Последнее, что мы посмотрим - это корреляцию."
   ]
  },
  {
   "cell_type": "code",
   "execution_count": 14,
   "metadata": {},
   "outputs": [
    {
     "data": {
      "text/html": [
       "<div>\n",
       "<style scoped>\n",
       "    .dataframe tbody tr th:only-of-type {\n",
       "        vertical-align: middle;\n",
       "    }\n",
       "\n",
       "    .dataframe tbody tr th {\n",
       "        vertical-align: top;\n",
       "    }\n",
       "\n",
       "    .dataframe thead th {\n",
       "        text-align: right;\n",
       "    }\n",
       "</style>\n",
       "<table border=\"1\" class=\"dataframe\">\n",
       "  <thead>\n",
       "    <tr style=\"text-align: right;\">\n",
       "      <th></th>\n",
       "      <th>f0</th>\n",
       "      <th>f1</th>\n",
       "      <th>f2</th>\n",
       "      <th>product</th>\n",
       "    </tr>\n",
       "  </thead>\n",
       "  <tbody>\n",
       "    <tr>\n",
       "      <th>f0</th>\n",
       "      <td>1.000000</td>\n",
       "      <td>0.182287</td>\n",
       "      <td>-0.001777</td>\n",
       "      <td>-0.030491</td>\n",
       "    </tr>\n",
       "    <tr>\n",
       "      <th>f1</th>\n",
       "      <td>0.182287</td>\n",
       "      <td>1.000000</td>\n",
       "      <td>-0.002595</td>\n",
       "      <td>-0.010155</td>\n",
       "    </tr>\n",
       "    <tr>\n",
       "      <th>f2</th>\n",
       "      <td>-0.001777</td>\n",
       "      <td>-0.002595</td>\n",
       "      <td>1.000000</td>\n",
       "      <td>0.999397</td>\n",
       "    </tr>\n",
       "    <tr>\n",
       "      <th>product</th>\n",
       "      <td>-0.030491</td>\n",
       "      <td>-0.010155</td>\n",
       "      <td>0.999397</td>\n",
       "      <td>1.000000</td>\n",
       "    </tr>\n",
       "  </tbody>\n",
       "</table>\n",
       "</div>"
      ],
      "text/plain": [
       "               f0        f1        f2   product\n",
       "f0       1.000000  0.182287 -0.001777 -0.030491\n",
       "f1       0.182287  1.000000 -0.002595 -0.010155\n",
       "f2      -0.001777 -0.002595  1.000000  0.999397\n",
       "product -0.030491 -0.010155  0.999397  1.000000"
      ]
     },
     "execution_count": 14,
     "metadata": {},
     "output_type": "execute_result"
    }
   ],
   "source": [
    "geo_data_1.corr() # расчет попарного коэффициента корреляции"
   ]
  },
  {
   "cell_type": "markdown",
   "metadata": {},
   "source": [
    "Корреляция между признаками f0-f2 достаточно низкая. Данные пригодны для построения модели."
   ]
  },
  {
   "cell_type": "code",
   "execution_count": 15,
   "metadata": {},
   "outputs": [
    {
     "data": {
      "text/html": [
       "<div>\n",
       "<style scoped>\n",
       "    .dataframe tbody tr th:only-of-type {\n",
       "        vertical-align: middle;\n",
       "    }\n",
       "\n",
       "    .dataframe tbody tr th {\n",
       "        vertical-align: top;\n",
       "    }\n",
       "\n",
       "    .dataframe thead th {\n",
       "        text-align: right;\n",
       "    }\n",
       "</style>\n",
       "<table border=\"1\" class=\"dataframe\">\n",
       "  <thead>\n",
       "    <tr style=\"text-align: right;\">\n",
       "      <th></th>\n",
       "      <th>f0</th>\n",
       "      <th>f1</th>\n",
       "      <th>f2</th>\n",
       "      <th>product</th>\n",
       "    </tr>\n",
       "  </thead>\n",
       "  <tbody>\n",
       "    <tr>\n",
       "      <th>count</th>\n",
       "      <td>100000.000000</td>\n",
       "      <td>100000.000000</td>\n",
       "      <td>100000.000000</td>\n",
       "      <td>100000.000000</td>\n",
       "    </tr>\n",
       "    <tr>\n",
       "      <th>mean</th>\n",
       "      <td>1.141296</td>\n",
       "      <td>-4.796579</td>\n",
       "      <td>2.494541</td>\n",
       "      <td>68.825000</td>\n",
       "    </tr>\n",
       "    <tr>\n",
       "      <th>std</th>\n",
       "      <td>8.965932</td>\n",
       "      <td>5.119872</td>\n",
       "      <td>1.703572</td>\n",
       "      <td>45.944423</td>\n",
       "    </tr>\n",
       "    <tr>\n",
       "      <th>min</th>\n",
       "      <td>-31.609576</td>\n",
       "      <td>-26.358598</td>\n",
       "      <td>-0.018144</td>\n",
       "      <td>0.000000</td>\n",
       "    </tr>\n",
       "    <tr>\n",
       "      <th>25%</th>\n",
       "      <td>-6.298551</td>\n",
       "      <td>-8.267985</td>\n",
       "      <td>1.000021</td>\n",
       "      <td>26.953261</td>\n",
       "    </tr>\n",
       "    <tr>\n",
       "      <th>50%</th>\n",
       "      <td>1.153055</td>\n",
       "      <td>-4.813172</td>\n",
       "      <td>2.011479</td>\n",
       "      <td>57.085625</td>\n",
       "    </tr>\n",
       "    <tr>\n",
       "      <th>75%</th>\n",
       "      <td>8.621015</td>\n",
       "      <td>-1.332816</td>\n",
       "      <td>3.999904</td>\n",
       "      <td>107.813044</td>\n",
       "    </tr>\n",
       "    <tr>\n",
       "      <th>max</th>\n",
       "      <td>29.421755</td>\n",
       "      <td>18.734063</td>\n",
       "      <td>5.019721</td>\n",
       "      <td>137.945408</td>\n",
       "    </tr>\n",
       "  </tbody>\n",
       "</table>\n",
       "</div>"
      ],
      "text/plain": [
       "                  f0             f1             f2        product\n",
       "count  100000.000000  100000.000000  100000.000000  100000.000000\n",
       "mean        1.141296      -4.796579       2.494541      68.825000\n",
       "std         8.965932       5.119872       1.703572      45.944423\n",
       "min       -31.609576     -26.358598      -0.018144       0.000000\n",
       "25%        -6.298551      -8.267985       1.000021      26.953261\n",
       "50%         1.153055      -4.813172       2.011479      57.085625\n",
       "75%         8.621015      -1.332816       3.999904     107.813044\n",
       "max        29.421755      18.734063       5.019721     137.945408"
      ]
     },
     "execution_count": 15,
     "metadata": {},
     "output_type": "execute_result"
    }
   ],
   "source": [
    "geo_data_1[['f0', 'f1', 'f2', 'product']].describe() # просмотр статистических данных по столбцам с признаками"
   ]
  },
  {
   "cell_type": "markdown",
   "metadata": {},
   "source": [
    "Здеть ситуация аналогичная данным по первому региону: распределение признаков близко к нормальному. Данные находятся в одном числовом диапазоне, поэтому масштабирование не требуется."
   ]
  },
  {
   "cell_type": "markdown",
   "metadata": {},
   "source": [
    "Посмотрим последний комплект данных."
   ]
  },
  {
   "cell_type": "markdown",
   "metadata": {},
   "source": [
    "### Загрузка и подготовка данных третий регион"
   ]
  },
  {
   "cell_type": "code",
   "execution_count": 16,
   "metadata": {},
   "outputs": [],
   "source": [
    "geo_data_2 = pd.read_csv('/datasets/geo_data_2.csv') # открытие третьего файла"
   ]
  },
  {
   "cell_type": "code",
   "execution_count": 17,
   "metadata": {},
   "outputs": [
    {
     "data": {
      "text/html": [
       "<div>\n",
       "<style scoped>\n",
       "    .dataframe tbody tr th:only-of-type {\n",
       "        vertical-align: middle;\n",
       "    }\n",
       "\n",
       "    .dataframe tbody tr th {\n",
       "        vertical-align: top;\n",
       "    }\n",
       "\n",
       "    .dataframe thead th {\n",
       "        text-align: right;\n",
       "    }\n",
       "</style>\n",
       "<table border=\"1\" class=\"dataframe\">\n",
       "  <thead>\n",
       "    <tr style=\"text-align: right;\">\n",
       "      <th></th>\n",
       "      <th>id</th>\n",
       "      <th>f0</th>\n",
       "      <th>f1</th>\n",
       "      <th>f2</th>\n",
       "      <th>product</th>\n",
       "    </tr>\n",
       "  </thead>\n",
       "  <tbody>\n",
       "    <tr>\n",
       "      <th>0</th>\n",
       "      <td>fwXo0</td>\n",
       "      <td>-1.146987</td>\n",
       "      <td>0.963328</td>\n",
       "      <td>-0.828965</td>\n",
       "      <td>27.758673</td>\n",
       "    </tr>\n",
       "    <tr>\n",
       "      <th>1</th>\n",
       "      <td>WJtFt</td>\n",
       "      <td>0.262778</td>\n",
       "      <td>0.269839</td>\n",
       "      <td>-2.530187</td>\n",
       "      <td>56.069697</td>\n",
       "    </tr>\n",
       "    <tr>\n",
       "      <th>2</th>\n",
       "      <td>ovLUW</td>\n",
       "      <td>0.194587</td>\n",
       "      <td>0.289035</td>\n",
       "      <td>-5.586433</td>\n",
       "      <td>62.871910</td>\n",
       "    </tr>\n",
       "    <tr>\n",
       "      <th>3</th>\n",
       "      <td>q6cA6</td>\n",
       "      <td>2.236060</td>\n",
       "      <td>-0.553760</td>\n",
       "      <td>0.930038</td>\n",
       "      <td>114.572842</td>\n",
       "    </tr>\n",
       "    <tr>\n",
       "      <th>4</th>\n",
       "      <td>WPMUX</td>\n",
       "      <td>-0.515993</td>\n",
       "      <td>1.716266</td>\n",
       "      <td>5.899011</td>\n",
       "      <td>149.600746</td>\n",
       "    </tr>\n",
       "  </tbody>\n",
       "</table>\n",
       "</div>"
      ],
      "text/plain": [
       "      id        f0        f1        f2     product\n",
       "0  fwXo0 -1.146987  0.963328 -0.828965   27.758673\n",
       "1  WJtFt  0.262778  0.269839 -2.530187   56.069697\n",
       "2  ovLUW  0.194587  0.289035 -5.586433   62.871910\n",
       "3  q6cA6  2.236060 -0.553760  0.930038  114.572842\n",
       "4  WPMUX -0.515993  1.716266  5.899011  149.600746"
      ]
     },
     "metadata": {},
     "output_type": "display_data"
    }
   ],
   "source": [
    "display(geo_data_2.head()) # просмотр первых пяти строк."
   ]
  },
  {
   "cell_type": "markdown",
   "metadata": {},
   "source": [
    "На первый взгляд, ошибок в данных не видно. Посмотрим информацию о файле методом info()"
   ]
  },
  {
   "cell_type": "code",
   "execution_count": 18,
   "metadata": {},
   "outputs": [
    {
     "name": "stdout",
     "output_type": "stream",
     "text": [
      "<class 'pandas.core.frame.DataFrame'>\n",
      "RangeIndex: 100000 entries, 0 to 99999\n",
      "Data columns (total 5 columns):\n",
      " #   Column   Non-Null Count   Dtype  \n",
      "---  ------   --------------   -----  \n",
      " 0   id       100000 non-null  object \n",
      " 1   f0       100000 non-null  float64\n",
      " 2   f1       100000 non-null  float64\n",
      " 3   f2       100000 non-null  float64\n",
      " 4   product  100000 non-null  float64\n",
      "dtypes: float64(4), object(1)\n",
      "memory usage: 3.8+ MB\n"
     ]
    }
   ],
   "source": [
    "geo_data_2.info() # просмотр информации о файле"
   ]
  },
  {
   "cell_type": "markdown",
   "metadata": {},
   "source": [
    "В файле 4 столбца. В одном столбце тип данных - object, а в трех остальных- float64. Необходимости менять тип данных в столбцах нет. Во всех столбцах одинаковое количество данных, следовательно пропусков нет. Состав данных такой же как и в первых двух таблицах."
   ]
  },
  {
   "cell_type": "code",
   "execution_count": 19,
   "metadata": {},
   "outputs": [
    {
     "data": {
      "text/plain": [
       "0"
      ]
     },
     "execution_count": 19,
     "metadata": {},
     "output_type": "execute_result"
    }
   ],
   "source": [
    "geo_data_2.duplicated().sum() # подсчет количества дублирующихся строк"
   ]
  },
  {
   "cell_type": "markdown",
   "metadata": {},
   "source": [
    "Полностью дублирующихся строк нет. Посмотрим корреляцию между признаками."
   ]
  },
  {
   "cell_type": "code",
   "execution_count": 20,
   "metadata": {},
   "outputs": [
    {
     "data": {
      "text/html": [
       "<div>\n",
       "<style scoped>\n",
       "    .dataframe tbody tr th:only-of-type {\n",
       "        vertical-align: middle;\n",
       "    }\n",
       "\n",
       "    .dataframe tbody tr th {\n",
       "        vertical-align: top;\n",
       "    }\n",
       "\n",
       "    .dataframe thead th {\n",
       "        text-align: right;\n",
       "    }\n",
       "</style>\n",
       "<table border=\"1\" class=\"dataframe\">\n",
       "  <thead>\n",
       "    <tr style=\"text-align: right;\">\n",
       "      <th></th>\n",
       "      <th>f0</th>\n",
       "      <th>f1</th>\n",
       "      <th>f2</th>\n",
       "      <th>product</th>\n",
       "    </tr>\n",
       "  </thead>\n",
       "  <tbody>\n",
       "    <tr>\n",
       "      <th>f0</th>\n",
       "      <td>1.000000</td>\n",
       "      <td>0.000528</td>\n",
       "      <td>-0.000448</td>\n",
       "      <td>-0.001987</td>\n",
       "    </tr>\n",
       "    <tr>\n",
       "      <th>f1</th>\n",
       "      <td>0.000528</td>\n",
       "      <td>1.000000</td>\n",
       "      <td>0.000779</td>\n",
       "      <td>-0.001012</td>\n",
       "    </tr>\n",
       "    <tr>\n",
       "      <th>f2</th>\n",
       "      <td>-0.000448</td>\n",
       "      <td>0.000779</td>\n",
       "      <td>1.000000</td>\n",
       "      <td>0.445871</td>\n",
       "    </tr>\n",
       "    <tr>\n",
       "      <th>product</th>\n",
       "      <td>-0.001987</td>\n",
       "      <td>-0.001012</td>\n",
       "      <td>0.445871</td>\n",
       "      <td>1.000000</td>\n",
       "    </tr>\n",
       "  </tbody>\n",
       "</table>\n",
       "</div>"
      ],
      "text/plain": [
       "               f0        f1        f2   product\n",
       "f0       1.000000  0.000528 -0.000448 -0.001987\n",
       "f1       0.000528  1.000000  0.000779 -0.001012\n",
       "f2      -0.000448  0.000779  1.000000  0.445871\n",
       "product -0.001987 -0.001012  0.445871  1.000000"
      ]
     },
     "execution_count": 20,
     "metadata": {},
     "output_type": "execute_result"
    }
   ],
   "source": [
    "geo_data_2.corr() # расчет попарного коэффициента корреляции"
   ]
  },
  {
   "cell_type": "markdown",
   "metadata": {},
   "source": [
    "Корреляция между признаками f0-f2 достаточно низкая. Данные пригодны для построения модели."
   ]
  },
  {
   "cell_type": "code",
   "execution_count": 21,
   "metadata": {},
   "outputs": [
    {
     "data": {
      "text/html": [
       "<div>\n",
       "<style scoped>\n",
       "    .dataframe tbody tr th:only-of-type {\n",
       "        vertical-align: middle;\n",
       "    }\n",
       "\n",
       "    .dataframe tbody tr th {\n",
       "        vertical-align: top;\n",
       "    }\n",
       "\n",
       "    .dataframe thead th {\n",
       "        text-align: right;\n",
       "    }\n",
       "</style>\n",
       "<table border=\"1\" class=\"dataframe\">\n",
       "  <thead>\n",
       "    <tr style=\"text-align: right;\">\n",
       "      <th></th>\n",
       "      <th>f0</th>\n",
       "      <th>f1</th>\n",
       "      <th>f2</th>\n",
       "      <th>product</th>\n",
       "    </tr>\n",
       "  </thead>\n",
       "  <tbody>\n",
       "    <tr>\n",
       "      <th>count</th>\n",
       "      <td>100000.000000</td>\n",
       "      <td>100000.000000</td>\n",
       "      <td>100000.000000</td>\n",
       "      <td>100000.000000</td>\n",
       "    </tr>\n",
       "    <tr>\n",
       "      <th>mean</th>\n",
       "      <td>0.002023</td>\n",
       "      <td>-0.002081</td>\n",
       "      <td>2.495128</td>\n",
       "      <td>95.000000</td>\n",
       "    </tr>\n",
       "    <tr>\n",
       "      <th>std</th>\n",
       "      <td>1.732045</td>\n",
       "      <td>1.730417</td>\n",
       "      <td>3.473445</td>\n",
       "      <td>44.749921</td>\n",
       "    </tr>\n",
       "    <tr>\n",
       "      <th>min</th>\n",
       "      <td>-8.760004</td>\n",
       "      <td>-7.084020</td>\n",
       "      <td>-11.970335</td>\n",
       "      <td>0.000000</td>\n",
       "    </tr>\n",
       "    <tr>\n",
       "      <th>25%</th>\n",
       "      <td>-1.162288</td>\n",
       "      <td>-1.174820</td>\n",
       "      <td>0.130359</td>\n",
       "      <td>59.450441</td>\n",
       "    </tr>\n",
       "    <tr>\n",
       "      <th>50%</th>\n",
       "      <td>0.009424</td>\n",
       "      <td>-0.009482</td>\n",
       "      <td>2.484236</td>\n",
       "      <td>94.925613</td>\n",
       "    </tr>\n",
       "    <tr>\n",
       "      <th>75%</th>\n",
       "      <td>1.158535</td>\n",
       "      <td>1.163678</td>\n",
       "      <td>4.858794</td>\n",
       "      <td>130.595027</td>\n",
       "    </tr>\n",
       "    <tr>\n",
       "      <th>max</th>\n",
       "      <td>7.238262</td>\n",
       "      <td>7.844801</td>\n",
       "      <td>16.739402</td>\n",
       "      <td>190.029838</td>\n",
       "    </tr>\n",
       "  </tbody>\n",
       "</table>\n",
       "</div>"
      ],
      "text/plain": [
       "                  f0             f1             f2        product\n",
       "count  100000.000000  100000.000000  100000.000000  100000.000000\n",
       "mean        0.002023      -0.002081       2.495128      95.000000\n",
       "std         1.732045       1.730417       3.473445      44.749921\n",
       "min        -8.760004      -7.084020     -11.970335       0.000000\n",
       "25%        -1.162288      -1.174820       0.130359      59.450441\n",
       "50%         0.009424      -0.009482       2.484236      94.925613\n",
       "75%         1.158535       1.163678       4.858794     130.595027\n",
       "max         7.238262       7.844801      16.739402     190.029838"
      ]
     },
     "execution_count": 21,
     "metadata": {},
     "output_type": "execute_result"
    }
   ],
   "source": [
    "geo_data_2[['f0', 'f1', 'f2', 'product']].describe()"
   ]
  },
  {
   "cell_type": "markdown",
   "metadata": {},
   "source": [
    "Данные находятся в одном числовом диаразоне, поэтому масштабироавние не требуется. А вот распределение нормальное только у признака F2. Ву всех остальных признаков наблюдается скошенность (у F0 скошенность влево, а у F1 - вправо)."
   ]
  },
  {
   "cell_type": "markdown",
   "metadata": {},
   "source": [
    "**Вывод**"
   ]
  },
  {
   "cell_type": "markdown",
   "metadata": {},
   "source": [
    "Мы посмотрели все три таблицы. Состав данных в них одинаковый. Явных ошибок в данных мы не обнаружили. Подностью дублирующихся строк нет. Пропусков нет. Коэффициент корреляции между признаками f0-f2 низкий, а значит можно строить можель не боясь искажения результата. Признаки находятся в одном диапазоне, а значит масштабирование проводить не нужно. "
   ]
  },
  {
   "cell_type": "markdown",
   "metadata": {},
   "source": [
    "Данные готовы для построения моделей."
   ]
  },
  {
   "cell_type": "markdown",
   "metadata": {},
   "source": [
    "## Обучение и проверка модели"
   ]
  },
  {
   "cell_type": "markdown",
   "metadata": {},
   "source": [
    "В этом разделе мы построим модель, которая будет предсказывать объем запасов нефти в новых скважинах. "
   ]
  },
  {
   "cell_type": "markdown",
   "metadata": {},
   "source": [
    "У нас данные из трех разных регионов, а как известно, нет двух одинаковых месторождений. На формирование залежей влияют разные условия: характер природного резервуара, толщина и прочность/пористость пород, кавернозность горных пород, давление внутри залежи и многое другое. Также соотношение газа, нефти и воды в пустотных пространствах в разных местах разное. Поэтому нельзя строить одну модель для всех регионов. Мы обучим для каждого региона свою модель и проверим ее на валидационной выборке."
   ]
  },
  {
   "cell_type": "markdown",
   "metadata": {},
   "source": [
    "### Построение модели для первого региона"
   ]
  },
  {
   "cell_type": "markdown",
   "metadata": {},
   "source": [
    "Разделим выборку на признаки (features) и целевой признак (target). В качестве целевого признака у нас будет объем запасов в скважине."
   ]
  },
  {
   "cell_type": "code",
   "execution_count": 22,
   "metadata": {},
   "outputs": [],
   "source": [
    "target_0 = geo_data_0['product'] # целевой признак\n",
    "features_0 = geo_data_0.drop('product', axis=1) # признаки\n"
   ]
  },
  {
   "cell_type": "markdown",
   "metadata": {},
   "source": [
    "Для начала нам необходимо разделить данные на две части: на обучающую и валидационную выборки. Обучающая выборка будет самой большой и вместит 75 % данных. С помощью нее мы будем обучать модель. Вторая выборка валидационная (25% от объема данных), нужна нам для проверки качества работы алгоритма во время обучения модели."
   ]
  },
  {
   "cell_type": "code",
   "execution_count": 23,
   "metadata": {},
   "outputs": [],
   "source": [
    "features_train_0, features_valid_0, target_train_0, \\\n",
    " target_valid_0 = train_test_split(features_0, target_0, test_size=0.25, random_state=12345) # разделение данных на обучаюший и валидационные наборы данных"
   ]
  },
  {
   "cell_type": "markdown",
   "metadata": {},
   "source": [
    "Проверим, что разделили верно:"
   ]
  },
  {
   "cell_type": "code",
   "execution_count": 24,
   "metadata": {},
   "outputs": [
    {
     "name": "stdout",
     "output_type": "stream",
     "text": [
      "(75000, 4)\n",
      "(75000,)\n"
     ]
    }
   ],
   "source": [
    "print(features_train_0.shape)\n",
    "print(target_train_0.shape)"
   ]
  },
  {
   "cell_type": "code",
   "execution_count": 25,
   "metadata": {},
   "outputs": [
    {
     "name": "stdout",
     "output_type": "stream",
     "text": [
      "(25000, 4)\n",
      "(25000,)\n"
     ]
    }
   ],
   "source": [
    "print(features_valid_0.shape)\n",
    "print(target_valid_0.shape)"
   ]
  },
  {
   "cell_type": "markdown",
   "metadata": {},
   "source": [
    "Поскольку целевой признак у нас количественный, то нам придется решать задачу регрессии. Мы будем обучать модель линейной регрессии, как наиболее предсказуемую."
   ]
  },
  {
   "cell_type": "code",
   "execution_count": 26,
   "metadata": {},
   "outputs": [],
   "source": [
    "model_0 = LinearRegression() # инициализация модели линейной регрессии\n",
    "model_0.fit(features_train_0[['f0', 'f1', 'f2']], target_train_0) # обучение модели\n",
    "predicted_valid_0 = model_0.predict(features_valid_0[['f0', 'f1', 'f2']]) # получение предсказания результата на валидационной выборке"
   ]
  },
  {
   "cell_type": "code",
   "execution_count": 27,
   "metadata": {},
   "outputs": [],
   "source": [
    "predicted_valid_0 = pd.Series(predicted_valid_0, index = target_valid_0.index) \n",
    "# преобразование предсказаний в объект Series и присвоение значениям индексов, как у целевого признака"
   ]
  },
  {
   "cell_type": "markdown",
   "metadata": {},
   "source": [
    "В качестве метрики качества для своей модели мы будем использовать RMSE - корень из среднеквадратичной ошибки, который показывает как сильно правильный ответ отличается от предсказания."
   ]
  },
  {
   "cell_type": "code",
   "execution_count": 28,
   "metadata": {},
   "outputs": [
    {
     "name": "stdout",
     "output_type": "stream",
     "text": [
      "Linear Regression\n",
      "RMSE: 37.5794217150813\n"
     ]
    }
   ],
   "source": [
    "rmse =  (mean_squared_error(target_valid_0, predicted_valid_0)) ** 0.5 # расчет корня из среднеквадратичной ошибки\n",
    "\n",
    "print(\"Linear Regression\")\n",
    "print(\"RMSE:\", rmse)\n"
   ]
  },
  {
   "cell_type": "markdown",
   "metadata": {},
   "source": [
    "Чтобы оценить адекватность модели, нужно сравнить её со случайной. Отвечать на все объекты одним и тем же числом — простой способ регрессионного предсказания. Чтобы оно не сильно расходилось с правдой, примем за такое число среднее значение."
   ]
  },
  {
   "cell_type": "code",
   "execution_count": 29,
   "metadata": {},
   "outputs": [
    {
     "name": "stdout",
     "output_type": "stream",
     "text": [
      "Mean\n",
      "RMSE = 44.289591053907365\n"
     ]
    }
   ],
   "source": [
    "predicted_valid = pd.Series(target_train_0.mean(), index=target_valid_0.index)\n",
    "rmse = (mean_squared_error(target_valid_0, predicted_valid)) ** 0.5\n",
    "\n",
    "print(\"Mean\")\n",
    "print(\"RMSE =\", rmse)"
   ]
  },
  {
   "cell_type": "markdown",
   "metadata": {},
   "source": [
    "Чем меньше RSME, тем лучше модель предсказывает. В нашем случае, этот показатель ниже, чем RSME случайной модели - это говорит о том, что модель неплохо справляется."
   ]
  },
  {
   "cell_type": "markdown",
   "metadata": {},
   "source": [
    "Посчитаем среднее зачение объема запасов нефти по предсказанным данным и реальным."
   ]
  },
  {
   "cell_type": "code",
   "execution_count": 30,
   "metadata": {},
   "outputs": [
    {
     "name": "stdout",
     "output_type": "stream",
     "text": [
      "Среднее значение объема запасов (реальные данные): 92.07859674082927\n",
      "Среднее значение объема запасов (предсказанные данные): 92.59256778438035\n"
     ]
    }
   ],
   "source": [
    "print(\"Среднее значение объема запасов (реальные данные):\", target_valid_0.mean())\n",
    "print(\"Среднее значение объема запасов (предсказанные данные):\", predicted_valid_0.mean())"
   ]
  },
  {
   "cell_type": "markdown",
   "metadata": {},
   "source": [
    "Среднии значения достаточно близки, но модель предсказывает немного более оптимистичные данные, чем есть на самом деле."
   ]
  },
  {
   "cell_type": "markdown",
   "metadata": {},
   "source": [
    "Для дополнительной проверки качества модели посчитаем такой показатель как коэффициент детерминации, или метрика R2."
   ]
  },
  {
   "cell_type": "code",
   "execution_count": 31,
   "metadata": {},
   "outputs": [
    {
     "name": "stdout",
     "output_type": "stream",
     "text": [
      "R2 = 0.27994321524487786\n"
     ]
    }
   ],
   "source": [
    "print(\"R2 =\", r2_score(target_valid_0, predicted_valid_0)) # расчет коэфициента детирминации"
   ]
  },
  {
   "cell_type": "markdown",
   "metadata": {},
   "source": [
    "Чем ближе этот показатель к единице, тем лучше. В нашем случает модель работает лучше, чем среднее, но как ранее мы видили, что до идеала ей далеко. "
   ]
  },
  {
   "cell_type": "markdown",
   "metadata": {},
   "source": [
    "### Построение модели для второго региона"
   ]
  },
  {
   "cell_type": "markdown",
   "metadata": {},
   "source": [
    "Аналогично, как и для первого региона разделим выборку на признаки (features) и целевой признак (target). В качестве целевого признака у нас будет объем запасов в скважине."
   ]
  },
  {
   "cell_type": "code",
   "execution_count": 32,
   "metadata": {},
   "outputs": [],
   "source": [
    "target_1 = geo_data_1['product'] # целевой признак\n",
    "features_1 = geo_data_1.drop('product', axis=1) # признаки\n"
   ]
  },
  {
   "cell_type": "markdown",
   "metadata": {},
   "source": [
    "Поделим данные на две части: на обучающую и валидационную выборки. Обучающая выборка будет самой большой и вместит 75 % данных. С помощью нее мы будем обучать модель. Вторая выборка валидационная (25% от объема данных), нужна нам для проверки качества работы алгоритма во время обучения модели."
   ]
  },
  {
   "cell_type": "code",
   "execution_count": 33,
   "metadata": {},
   "outputs": [],
   "source": [
    "features_train_1, features_valid_1, target_train_1, \\\n",
    " target_valid_1 = train_test_split(features_1, target_1, test_size=0.25, random_state=12345) # разделение данных на обучаюший и валидационные наборы данных"
   ]
  },
  {
   "cell_type": "markdown",
   "metadata": {},
   "source": [
    "Проверим, что разделили верно:"
   ]
  },
  {
   "cell_type": "code",
   "execution_count": 34,
   "metadata": {},
   "outputs": [
    {
     "name": "stdout",
     "output_type": "stream",
     "text": [
      "(75000, 4)\n",
      "(75000,)\n"
     ]
    }
   ],
   "source": [
    "print(features_train_1.shape)\n",
    "print(target_train_1.shape)"
   ]
  },
  {
   "cell_type": "code",
   "execution_count": 35,
   "metadata": {},
   "outputs": [
    {
     "name": "stdout",
     "output_type": "stream",
     "text": [
      "(25000, 4)\n",
      "(25000,)\n"
     ]
    }
   ],
   "source": [
    "print(features_valid_1.shape)\n",
    "print(target_valid_1.shape)"
   ]
  },
  {
   "cell_type": "markdown",
   "metadata": {},
   "source": [
    "Поскольку целевой признак у нас количественный то нам придется решать задачу регрессии. Мы будем обучать модель линейной регрессии, как наиболее предсказуемую."
   ]
  },
  {
   "cell_type": "code",
   "execution_count": 36,
   "metadata": {},
   "outputs": [],
   "source": [
    "model_1 = LinearRegression() # инициализация модели линейной регрессии\n",
    "model_1.fit(features_train_1[['f0', 'f1', 'f2']], target_train_1) # обучение модели\n",
    "predicted_valid_1 = model_1.predict(features_valid_1[['f0', 'f1', 'f2']]) # получение предсказания результата на валидационной выборке"
   ]
  },
  {
   "cell_type": "code",
   "execution_count": 37,
   "metadata": {},
   "outputs": [],
   "source": [
    "predicted_valid_1 = pd.Series(predicted_valid_1, index = target_valid_1.index)\n",
    "# преобразование предсказаний в объект Series и присвоение значениям индексов, как у целевого признака"
   ]
  },
  {
   "cell_type": "markdown",
   "metadata": {},
   "source": [
    "В качестве метрики качества для своей модели мы будем использовать RMSE - корень из среднеквадратичной ошибки, который показывает как сильно правильный ответ отличается от предсказания."
   ]
  },
  {
   "cell_type": "code",
   "execution_count": 38,
   "metadata": {},
   "outputs": [
    {
     "name": "stdout",
     "output_type": "stream",
     "text": [
      "Linear Regression\n",
      "RMSE: 0.893099286775617\n"
     ]
    }
   ],
   "source": [
    "rmse =  (mean_squared_error(target_valid_1, predicted_valid_1)) ** 0.5 # расчет корня из среднеквадратичной ошибки\n",
    "\n",
    "print(\"Linear Regression\")\n",
    "print(\"RMSE:\", rmse)\n"
   ]
  },
  {
   "cell_type": "markdown",
   "metadata": {},
   "source": [
    "Чтобы оценить адекватность модели, нужно сравнить её со случайной. Отвечать на все объекты одним и тем же числом — простой способ регрессионного предсказания. Чтобы оно не сильно расходилось с правдой, примем за такое число среднее значение."
   ]
  },
  {
   "cell_type": "code",
   "execution_count": 39,
   "metadata": {},
   "outputs": [
    {
     "name": "stdout",
     "output_type": "stream",
     "text": [
      "Mean\n",
      "RMSE = 46.02144533725462\n"
     ]
    }
   ],
   "source": [
    "predicted_valid = pd.Series(target_train_1.mean(), index=target_valid_1.index)\n",
    "rmse = (mean_squared_error(target_valid_1, predicted_valid)) ** 0.5\n",
    "\n",
    "print(\"Mean\")\n",
    "print(\"RMSE =\", rmse)"
   ]
  },
  {
   "cell_type": "markdown",
   "metadata": {},
   "source": [
    "Чем меньше RSME тем лучше модель предсказывает. В нашем случае, этот показатель значительно ниже, RSME случайной модели - это говорит о том, что модель очень хорошо работает."
   ]
  },
  {
   "cell_type": "markdown",
   "metadata": {},
   "source": [
    "Посчитаем среднее зачение объема запасов нефти по предсказанным данным и реальным."
   ]
  },
  {
   "cell_type": "code",
   "execution_count": 40,
   "metadata": {},
   "outputs": [
    {
     "name": "stdout",
     "output_type": "stream",
     "text": [
      "Среднее значение объема запасов (реальные данные): 68.72313602435997\n",
      "Среднее значение объема запасов (предсказанные данные): 68.728546895446\n"
     ]
    }
   ],
   "source": [
    "print(\"Среднее значение объема запасов (реальные данные):\", target_valid_1.mean())\n",
    "print(\"Среднее значение объема запасов (предсказанные данные):\", predicted_valid_1.mean())"
   ]
  },
  {
   "cell_type": "markdown",
   "metadata": {},
   "source": [
    "Средние значения практически равны."
   ]
  },
  {
   "cell_type": "markdown",
   "metadata": {},
   "source": [
    "Для дополнительной проверки качества модели посчитаем такой показатель как коэффициент детерминации, или метрика R2."
   ]
  },
  {
   "cell_type": "code",
   "execution_count": 41,
   "metadata": {},
   "outputs": [
    {
     "name": "stdout",
     "output_type": "stream",
     "text": [
      "R2 = 0.9996233978805127\n"
     ]
    }
   ],
   "source": [
    "print(\"R2 =\", r2_score(target_valid_1, predicted_valid_1))"
   ]
  },
  {
   "cell_type": "markdown",
   "metadata": {},
   "source": [
    "Чем ближе этот показатель к единице, тем лучше. В нашем случает модель работает практически идеально."
   ]
  },
  {
   "cell_type": "markdown",
   "metadata": {},
   "source": [
    "### Построение модели для третьего региона"
   ]
  },
  {
   "cell_type": "markdown",
   "metadata": {},
   "source": [
    "Снова разделим выборку на признаки (features) и целевой признак (target). В качестве целевого признака у нас будет объем запасов в скважине."
   ]
  },
  {
   "cell_type": "code",
   "execution_count": 42,
   "metadata": {},
   "outputs": [],
   "source": [
    "target_2 = geo_data_2['product'] # целевой признак\n",
    "features_2 = geo_data_2.drop('product', axis=1) # признаки\n"
   ]
  },
  {
   "cell_type": "markdown",
   "metadata": {},
   "source": [
    "Для начала нам необходимо разделить данные на две части: на обучающую и валидационную выборки. Обучающая выборка будет самой большой и вместит 75 % данных. С помощью нее мы будем обучать модель. Вторая выборка валидационная (25% от объема данных), нужна нам для проверки качества работы алгоритма во время обучения модели."
   ]
  },
  {
   "cell_type": "code",
   "execution_count": 43,
   "metadata": {},
   "outputs": [],
   "source": [
    "features_train_2, features_valid_2, target_train_2, \\\n",
    " target_valid_2 = train_test_split(features_2, target_2, test_size=0.25, random_state=12345) # разделение данных на обучаюший и валидационные наборы данных"
   ]
  },
  {
   "cell_type": "markdown",
   "metadata": {},
   "source": [
    "Проверим, что разделили верно:"
   ]
  },
  {
   "cell_type": "code",
   "execution_count": 44,
   "metadata": {},
   "outputs": [
    {
     "name": "stdout",
     "output_type": "stream",
     "text": [
      "(75000, 4)\n",
      "(75000,)\n"
     ]
    }
   ],
   "source": [
    "print(features_train_2.shape)\n",
    "print(target_train_2.shape)"
   ]
  },
  {
   "cell_type": "code",
   "execution_count": 45,
   "metadata": {},
   "outputs": [
    {
     "name": "stdout",
     "output_type": "stream",
     "text": [
      "(25000, 4)\n",
      "(25000,)\n"
     ]
    }
   ],
   "source": [
    "print(features_valid_2.shape)\n",
    "print(target_valid_2.shape)"
   ]
  },
  {
   "cell_type": "markdown",
   "metadata": {},
   "source": [
    "Вновь целевой признак у нас количественный и нам придется решать задачу регрессии. И снова мы будем обучать модель линейной регрессии, как наиболее предсказуемую."
   ]
  },
  {
   "cell_type": "code",
   "execution_count": 46,
   "metadata": {},
   "outputs": [],
   "source": [
    "model_2 = LinearRegression() # инициализация модели линейной регрессии\n",
    "model_2.fit(features_train_2[['f0', 'f1', 'f2']], target_train_2) # обучение модели\n",
    "predicted_valid_2 = model_2.predict(features_valid_2[['f0', 'f1', 'f2']]) # получение предсказания результата на валидационной выборке"
   ]
  },
  {
   "cell_type": "code",
   "execution_count": 47,
   "metadata": {},
   "outputs": [],
   "source": [
    "predicted_valid_2 = pd.Series(predicted_valid_2, index = target_valid_2.index)\n",
    "# преобразование предсказаний в объект Series и присвоение значениям индексов, как у целевого признака"
   ]
  },
  {
   "cell_type": "markdown",
   "metadata": {},
   "source": [
    "В качестве метрики качества для своей модели мы будем использовать RMSE - корень из среднеквадратичной ошибки, который показывает как сильно правильный ответ отличается от предсказания."
   ]
  },
  {
   "cell_type": "code",
   "execution_count": 48,
   "metadata": {},
   "outputs": [
    {
     "name": "stdout",
     "output_type": "stream",
     "text": [
      "Linear Regression\n",
      "RMSE: 40.02970873393434\n"
     ]
    }
   ],
   "source": [
    "rmse =  (mean_squared_error(target_valid_2, predicted_valid_2)) ** 0.5 # расчет корня из среднеквадратичной ошибки\n",
    "\n",
    "print(\"Linear Regression\")\n",
    "print(\"RMSE:\", rmse)\n"
   ]
  },
  {
   "cell_type": "markdown",
   "metadata": {},
   "source": [
    "Как и в предыдущих двух случаях, оценим адекватность модели, сравнив её со случайной. "
   ]
  },
  {
   "cell_type": "code",
   "execution_count": 49,
   "metadata": {},
   "outputs": [
    {
     "name": "stdout",
     "output_type": "stream",
     "text": [
      "Mean\n",
      "RMSE = 44.90234968510566\n"
     ]
    }
   ],
   "source": [
    "predicted_valid = pd.Series(target_train_2.mean(), index=target_valid_2.index)\n",
    "rmse = (mean_squared_error(target_valid_2, predicted_valid)) ** 0.5\n",
    "\n",
    "print(\"Mean\")\n",
    "print(\"RMSE =\", rmse)"
   ]
  },
  {
   "cell_type": "markdown",
   "metadata": {},
   "source": [
    "Чем меньше RSME тем лучше модель предсказывает. В нашем случае, этот показатель немного ниже, чем RSME случайной модели - это говорит о том, что и эта модель неплохо справляется."
   ]
  },
  {
   "cell_type": "markdown",
   "metadata": {},
   "source": [
    "Посчитаем среднее зачение объема запасов нефти по предсказанным данным и реальным."
   ]
  },
  {
   "cell_type": "code",
   "execution_count": 50,
   "metadata": {},
   "outputs": [
    {
     "name": "stdout",
     "output_type": "stream",
     "text": [
      "Среднее значение объема запасов (реальные данные): 94.88423280885438\n",
      "Среднее значение объема запасов (предсказанные данные): 94.96504596800489\n"
     ]
    }
   ],
   "source": [
    "print(\"Среднее значение объема запасов (реальные данные):\", target_valid_2.mean())\n",
    "print(\"Среднее значение объема запасов (предсказанные данные):\", predicted_valid_2.mean())"
   ]
  },
  {
   "cell_type": "markdown",
   "metadata": {},
   "source": [
    "Среднии значения достаточно близки, но модель предсказывает немного более оптимистичные данные, чем есть на самом деле."
   ]
  },
  {
   "cell_type": "markdown",
   "metadata": {},
   "source": [
    "Для дополнительной проверки качества модели, посчитаем такой показатель, как коэффициент детерминации (метрика R2)."
   ]
  },
  {
   "cell_type": "code",
   "execution_count": 51,
   "metadata": {},
   "outputs": [
    {
     "name": "stdout",
     "output_type": "stream",
     "text": [
      "R2 = 0.20524758386040443\n"
     ]
    }
   ],
   "source": [
    "print(\"R2 =\", r2_score(target_valid_2, predicted_valid_2))"
   ]
  },
  {
   "cell_type": "markdown",
   "metadata": {},
   "source": [
    "Чем ближе этот показатель к единице, тем лучше. В нашем случает модель работает лучше, чем среднее, но как ранее мы видим, что до идеала ей далеко. "
   ]
  },
  {
   "cell_type": "markdown",
   "metadata": {},
   "source": [
    "**Вывод**"
   ]
  },
  {
   "cell_type": "markdown",
   "metadata": {},
   "source": [
    "В этом разделе мы построили для каждого региона свою модель линейной регрессии. Во всех трех случаях среднее значение предсказанных объемов близко к среднему реальных объемов запасов в скважине. Вторая модель обучилась лучше, чем первая и третья. Для всех трех моделей мы посчитали показатель RSME, который показывает на сколько сильно правильный ответ отличается от предсказания. Все расчитанные RSME ниже RSME случайных моделей. Дополнительно мы посчитали коэффициент детерминации, который подтвердил наше предположение о качестве моделей: лучше всего работает модель для второго региона (RSME = 0.89, R2 = 0.99), на втором месте модель для первого региона (RSME = 37.58, R2 = 0.28), на третьем месте модель для третьего региона (RSME = 40.03,  R2 = 0.21"
   ]
  },
  {
   "cell_type": "markdown",
   "metadata": {},
   "source": [
    "## Подготовка к расчёту прибыли"
   ]
  },
  {
   "cell_type": "markdown",
   "metadata": {},
   "source": [
    "Для начала сохраним в переменные значения выручки и затрат, чтобы если в последствии эти показатели придется менять, то поменять их нужно будет только в одном месте."
   ]
  },
  {
   "cell_type": "code",
   "execution_count": 52,
   "metadata": {},
   "outputs": [],
   "source": [
    "TOTAL_BUDGET = 10000000000 # общий бюджет затрат на разработку 200 скважин\n",
    "TOTAL_WELLS = 200 # количество разрабатываемых скважин\n",
    "REVENUE_PER_UNIT = 450000 # выручка за тысячу баррелей нефти\n",
    "\n"
   ]
  },
  {
   "cell_type": "markdown",
   "metadata": {},
   "source": [
    "Теперь определимся, что такое точка безубыточности. Точкой безубыточности называют такой объем продаж/реализации, который полностью покрывает затраты, но прибыль при этом равна нулю. Исходя из этого определения рассчитаем точку безубыточности или как еще называют порог рентабельности в среднем для одной скважины."
   ]
  },
  {
   "cell_type": "code",
   "execution_count": 53,
   "metadata": {},
   "outputs": [
    {
     "name": "stdout",
     "output_type": "stream",
     "text": [
      "111.11111111111111\n"
     ]
    }
   ],
   "source": [
    "break_even_point = TOTAL_BUDGET / REVENUE_PER_UNIT / TOTAL_WELLS # расчет точки безубыточности для одной скважины\n",
    "print(break_even_point)"
   ]
  },
  {
   "cell_type": "markdown",
   "metadata": {},
   "source": [
    "Сравним полученное значение со средней добычей по регионам."
   ]
  },
  {
   "cell_type": "code",
   "execution_count": 54,
   "metadata": {},
   "outputs": [
    {
     "name": "stdout",
     "output_type": "stream",
     "text": [
      "False\n",
      "False\n",
      "False\n"
     ]
    }
   ],
   "source": [
    "print(break_even_point <= target_0.mean())\n",
    "print(break_even_point <= target_1.mean())\n",
    "print(break_even_point <= target_2.mean())"
   ]
  },
  {
   "cell_type": "markdown",
   "metadata": {},
   "source": [
    "Во всех трех регионах среднее количество добычи меньше реального среднего добываемого количества. Теперь посмотрим насколько реальное среднее отличается от среднего безубыточного объема."
   ]
  },
  {
   "cell_type": "code",
   "execution_count": 55,
   "metadata": {},
   "outputs": [
    {
     "name": "stdout",
     "output_type": "stream",
     "text": [
      "Средний безубыточный объем запасов больше реального среднего запаса в регионе 1 на: 18.6111111111111\n",
      "Средний безубыточный объем запасов больше реального среднего запаса в регионе 2 на: 42.2861111111111\n",
      "Средний безубыточный объем запасов больше реального среднего запаса в регионе 3 на: 16.11111111111107\n"
     ]
    }
   ],
   "source": [
    "print(\"Средний безубыточный объем запасов больше реального среднего запаса в регионе 1 на:\", \\\n",
    "      break_even_point - target_0.mean())\n",
    "print(\"Средний безубыточный объем запасов больше реального среднего запаса в регионе 2 на:\", \\\n",
    "      break_even_point - target_1.mean())\n",
    "print(\"Средний безубыточный объем запасов больше реального среднего запаса в регионе 3 на:\", \\\n",
    "      break_even_point - target_2.mean())"
   ]
  },
  {
   "cell_type": "markdown",
   "metadata": {},
   "source": [
    "Ближе всего к точке безубыточности третий регион. "
   ]
  },
  {
   "cell_type": "markdown",
   "metadata": {},
   "source": [
    "**Вывод**"
   ]
  },
  {
   "cell_type": "markdown",
   "metadata": {},
   "source": [
    "В этом разделе мы посчитали средний объем добычи нефти, который позволит нам достигнуть точки безубыточности, т.е такой объем при котором выручка будет полностью покрывать затраты, но прибыль будет равна нулю. Далее мы сравнили этот показатель со средней добычей по регионам и оказалось, что расчитанные реальные средние ниже точки безубыточности. Ближе всего к безубыточному объему третий регион, где реальная средняя меньше точки безубыточности на 16,11 тыс.баррелей, а дальше всего второй (разница составляет 42,28 тыс.баррелей). "
   ]
  },
  {
   "cell_type": "markdown",
   "metadata": {},
   "source": [
    "## Расчёт прибыли и рисков "
   ]
  },
  {
   "cell_type": "markdown",
   "metadata": {},
   "source": [
    "В этом разделе мы посчитаем среднюю прибыль по регионам применив технику Bootstrap с 1000 выборками, а также посчитаем риск убытков."
   ]
  },
  {
   "cell_type": "markdown",
   "metadata": {},
   "source": [
    "Для начала создадим функцию, которая будет рассчитывать прибыль, основываясь на предсказаниях сделанных моделью."
   ]
  },
  {
   "cell_type": "code",
   "execution_count": 56,
   "metadata": {},
   "outputs": [],
   "source": [
    "def profit (target_valid, predicted_valid, count):\n",
    "    prob_sorted = predicted_valid.sort_values(ascending = False) # сохраняем в переменную отсортированный по убыванию список значений предсказаний\n",
    "    selected = target_valid[prob_sorted.index][:count] # отбираем значения из целевого признака по индексу предсказаний\n",
    "   \n",
    "        \n",
    "    return REVENUE_PER_UNIT* selected.sum() - TOTAL_BUDGET # формула расчета прибыль: цена * кол-во - затраты\n",
    "\n"
   ]
  },
  {
   "cell_type": "markdown",
   "metadata": {},
   "source": [
    "Далее применим Bootstrap с 1000 выборками для моделей. Эта техника сводится к тому, что из большой выборки случайно отбираются элементы в подвыборки. Мы будем проводить отбор с возвращением, т.е. один и тот же элемнт может быть в разных выборках. Далее в каждой подвыборке производятся вычисления (мы будем считать прибыль для 200 лучших элементов из 500). Далее мы посчитаем среднюю прибыль по каждому региону основываясь на данных полученных с помощью Bootstrap."
   ]
  },
  {
   "cell_type": "markdown",
   "metadata": {},
   "source": [
    "Также мы найдем крайние значения доверительного интервала равного 95% и посчитаем риск убытков. Риск убытков мы расчитаем следующим образом: количество значений убытка разделим на общее количество рассчитанных значений прибыли/убытка с помощью техники Bootstrap"
   ]
  },
  {
   "cell_type": "code",
   "execution_count": 57,
   "metadata": {},
   "outputs": [],
   "source": [
    "state = np.random.RandomState(12345) #  указываем random_state для воспроизводимости"
   ]
  },
  {
   "cell_type": "markdown",
   "metadata": {},
   "source": [
    "Рассчитаем прибыль и риски для первого региона."
   ]
  },
  {
   "cell_type": "code",
   "execution_count": 58,
   "metadata": {},
   "outputs": [
    {
     "name": "stdout",
     "output_type": "stream",
     "text": [
      "Средняя прибыль в первом регионе: 425938526.91059244\n",
      "Доверительный интервал: -102090094.83793654 947976353.3583689\n",
      "Риск убытков в первом регионе составляет: 0.06\n"
     ]
    }
   ],
   "source": [
    "values_0 = []\n",
    "for i in range(1000):\n",
    "    target_subsample = target_valid_0.sample(n=500, frac=None, replace=True, random_state=state) # создание подвыборок\n",
    "       \n",
    "    probs_subsample = predicted_valid_0[target_subsample.index] # подбор значений предсканий по индекцу целевого признака попавшего в подвыборку\n",
    "    values_0.append(profit(target_subsample, probs_subsample, 200)) # расчет значения прибыли для 200 скважин\n",
    "    \n",
    "values_0 = pd.Series(values_0)\n",
    "mean = values_0.mean() # расчет средней прибыли по региону\n",
    "\n",
    "lower_0 = values_0.quantile(0.025) \n",
    "upper_0 = values_0.quantile(0.975) # расчет доверительного интервала\n",
    "\n",
    "risk_of_loss_0 = (values_0 < 0).mean() #расчет рисков убытков\n",
    "\n",
    "print(\"Средняя прибыль в первом регионе:\", mean)\n",
    "print(\"Доверительный интервал:\", lower_0, upper_0)\n",
    "print(\"Риск убытков в первом регионе составляет:\", risk_of_loss_0)\n"
   ]
  },
  {
   "cell_type": "markdown",
   "metadata": {},
   "source": [
    "Рассчитаем прибыль и риски для второго региона."
   ]
  },
  {
   "cell_type": "code",
   "execution_count": 59,
   "metadata": {},
   "outputs": [
    {
     "name": "stdout",
     "output_type": "stream",
     "text": [
      "Средняя прибыль во втором регионе: 518259493.6973249\n",
      "Доверительный интервал: 128123231.43308444 953612982.0669085\n",
      "Риск убытков во втором регионе составляет: 0.003\n"
     ]
    }
   ],
   "source": [
    "values_1 = []\n",
    "for i in range(1000):\n",
    "    target_subsample = target_valid_1.sample(n=500, frac=None, replace=True, random_state=state) # создание подвыборок\n",
    "       \n",
    "    probs_subsample = predicted_valid_1[target_subsample.index] # подбор значений предсканий по индекцу целевого признака попавшего в подвыборку\n",
    "    values_1.append(profit(target_subsample, probs_subsample, 200)) # расчет значения прибыли для 200 скважин\n",
    "    \n",
    "values_1 = pd.Series(values_1)\n",
    "mean = values_1.mean() # расчет средней прибыли по региону\n",
    "\n",
    "lower_1 = values_1.quantile(0.025) \n",
    "upper_1 = values_1.quantile(0.975) # расчет доверительного интервала\n",
    "\n",
    "risk_of_loss_1 = (values_1 < 0).mean() #расчет рисков убытков\n",
    "\n",
    "\n",
    "print(\"Средняя прибыль во втором регионе:\", mean)\n",
    "print(\"Доверительный интервал:\", lower_1, upper_1)\n",
    "print(\"Риск убытков во втором регионе составляет:\", risk_of_loss_1)"
   ]
  },
  {
   "cell_type": "markdown",
   "metadata": {},
   "source": [
    "Рассчитаем прибыль и риски для первого региона."
   ]
  },
  {
   "cell_type": "code",
   "execution_count": 60,
   "metadata": {},
   "outputs": [
    {
     "name": "stdout",
     "output_type": "stream",
     "text": [
      "Средняя прибыль в третьем регионе: 420194005.3440501\n",
      "Доверительный интервал: -115852609.16001143 989629939.8445739\n",
      "Риск убытков в третьем регионе составляет: 0.062\n"
     ]
    }
   ],
   "source": [
    "values_2 = []\n",
    "for i in range(1000):\n",
    "    target_subsample = target_valid_2.sample(n=500, frac=None, replace=True, random_state=state) # создание подвыборок\n",
    "       \n",
    "    probs_subsample = predicted_valid_2[target_subsample.index] # подбор значений предсканий по индекцу целевого признака попавшего в подвыборку\n",
    "    values_2.append(profit(target_subsample, probs_subsample, 200)) # расчет значения прибыли для 200 скважин\n",
    "    \n",
    "values_2 = pd.Series(values_2)\n",
    "mean = values_2.mean() # расчет средней прибыли по региону\n",
    "\n",
    "lower_2 = values_2.quantile(0.025) \n",
    "upper_2 = values_2.quantile(0.975) # расчет доверительного интервала\n",
    "\n",
    "risk_of_loss_2 = (values_2 < 0).mean() #расчет рисков убытков\n",
    "\n",
    "\n",
    "print(\"Средняя прибыль в третьем регионе:\", mean)\n",
    "print(\"Доверительный интервал:\", lower_2, upper_2)\n",
    "print(\"Риск убытков в третьем регионе составляет:\", risk_of_loss_2)"
   ]
  },
  {
   "cell_type": "markdown",
   "metadata": {},
   "source": [
    "Итак результаты у нас такие:\n",
    "- 1 регион: средняя прибыль 425,9 млн.руб, доверительный интервал в диапазоне от -102.1 млн.руб. до 948.0 млн.руб., риск убытков 6%\n",
    "- 2 регион: средняя прибыль 518,3 млн.руб, доверительный интервал в диапазоне от 128.0 млн.руб. до 953.6 млн.руб., риск убытков 0,3%\n",
    "- 3 регион: средняя прибыль 420,2 млн.руб, доверительный интервал в диапазоне от -115.9 млн.руб. до 989.6 млн.руб., риск убытков 6,2%\n"
   ]
  },
  {
   "cell_type": "markdown",
   "metadata": {},
   "source": [
    "## Общий вывод"
   ]
  },
  {
   "cell_type": "markdown",
   "metadata": {},
   "source": [
    "В данной работе мы проводили исследование для определения региона, где добыча нефти принесет наибольшую прибыль."
   ]
  },
  {
   "cell_type": "markdown",
   "metadata": {},
   "source": [
    "В первом разделе работы мы загрузили и изучили данные по трем регионам. В нашем распоряжении данные о 100 тыс.скважин в каждом регионе. Пропусков в данных нет, дубликатов строк тоже. Все данные по признакам находятся в одном числовом диапазоне, поэтому масштабировать признаки не нужно. Данные пригодны для построения моделей."
   ]
  },
  {
   "cell_type": "markdown",
   "metadata": {},
   "source": [
    "Во втором разделе мы обучили три модели линейной регрессии, по одной на каждый регион. Делать одну модель на всех не целесообразно, поскольку характеристики нефтяных залежей в разных регионах разные. Линейную регрессию выбрали как наиболее предсказуемый вид модели."
   ]
  },
  {
   "cell_type": "markdown",
   "metadata": {},
   "source": [
    "Для всех трех моделей мы посчитали показатель RSME и дополнительно мы посчитали коэффициент детерминации, который подтвердил наше предположение о качестве моделей: лучше всего работает модель для второго региона (RSME = 0.89, R2 = 0.99), на втором месте модель для первого региона (RSME = 37.58, R2 = 0.28), на третьем месте модель для третьего региона (RSME = 40.03, R2 = 0.21)."
   ]
  },
  {
   "cell_type": "markdown",
   "metadata": {},
   "source": [
    "В следующем разделе мы посчитали безубыточный объем добычи нефти с одной скважины и сравнили его со средним запасом в каждом регионе. Ближе всего к безубыточному объему третий регион, где реальная средняя меньше точки безубыточности всего на 16,11 тыс.баррелей, а дальше всего второй (разница составляет 42,28 тыс.баррелей). "
   ]
  },
  {
   "cell_type": "markdown",
   "metadata": {},
   "source": [
    "Поскольку для разведки региона исследуют 500 точек и только 200 лучших выбирают для разработки, мы применили технику Bootstrap с 1000 выборками и посчитали среднюю прибыль по этим выборкам в четвертом разделе проекта. Результаты получились следующие:\n",
    "- 1 регион: средняя прибыль 425,9 млн.руб, доверительный интервал в диапазоне от -102.1 млн.руб. до 948.0 млн.руб., риск убытков 6%\n",
    "- 2 регион: средняя прибыль 518,3 млн.руб, доверительный интервал в диапазоне от 128.0 млн.руб. до 953.6 млн.руб., риск убытков 0,3%\n",
    "- 3 регион: средняя прибыль 420,2 млн.руб, доверительный интервал в диапазоне от -115.9 млн.руб. до 989.6 млн.руб., риск убытков 6,2%"
   ]
  },
  {
   "cell_type": "markdown",
   "metadata": {},
   "source": [
    "По результатам проведенного исследования рекомендую для разработки второй регион, потому что в нем риск убытков небольшой, а средняя прибыль самая большая из всех трех регионов."
   ]
  },
  {
   "cell_type": "code",
   "execution_count": null,
   "metadata": {},
   "outputs": [],
   "source": []
  }
 ],
 "metadata": {
  "ExecuteTimeLog": [
   {
    "duration": 374,
    "start_time": "2022-04-08T17:42:42.754Z"
   },
   {
    "duration": 126,
    "start_time": "2022-04-08T17:42:43.130Z"
   },
   {
    "duration": 18,
    "start_time": "2022-04-08T17:42:43.258Z"
   },
   {
    "duration": 119,
    "start_time": "2022-04-08T17:42:43.278Z"
   },
   {
    "duration": 11,
    "start_time": "2022-04-08T17:42:43.399Z"
   },
   {
    "duration": 118,
    "start_time": "2022-04-08T17:42:43.412Z"
   },
   {
    "duration": 9,
    "start_time": "2022-04-08T17:42:43.532Z"
   },
   {
    "duration": 15,
    "start_time": "2022-04-08T17:44:12.293Z"
   },
   {
    "duration": 49,
    "start_time": "2022-04-08T17:44:41.783Z"
   },
   {
    "duration": 48,
    "start_time": "2022-04-08T17:44:50.663Z"
   },
   {
    "duration": 195,
    "start_time": "2022-04-08T20:10:26.660Z"
   },
   {
    "duration": 40,
    "start_time": "2022-04-08T20:10:34.920Z"
   },
   {
    "duration": 393,
    "start_time": "2022-04-08T20:10:43.676Z"
   },
   {
    "duration": 117,
    "start_time": "2022-04-08T20:10:44.070Z"
   },
   {
    "duration": 15,
    "start_time": "2022-04-08T20:10:44.189Z"
   },
   {
    "duration": 16,
    "start_time": "2022-04-08T20:10:44.205Z"
   },
   {
    "duration": 69,
    "start_time": "2022-04-08T20:10:44.223Z"
   },
   {
    "duration": 24,
    "start_time": "2022-04-08T20:10:44.294Z"
   },
   {
    "duration": 186,
    "start_time": "2022-04-08T20:11:39.009Z"
   },
   {
    "duration": 27,
    "start_time": "2022-04-08T20:11:47.350Z"
   },
   {
    "duration": 53,
    "start_time": "2022-04-08T20:11:56.611Z"
   },
   {
    "duration": 190,
    "start_time": "2022-04-08T20:13:14.679Z"
   },
   {
    "duration": 7,
    "start_time": "2022-04-08T20:13:21.563Z"
   },
   {
    "duration": 13,
    "start_time": "2022-04-08T20:13:32.618Z"
   },
   {
    "duration": 50,
    "start_time": "2022-04-08T20:17:31.416Z"
   },
   {
    "duration": 2,
    "start_time": "2022-04-08T20:20:41.731Z"
   },
   {
    "duration": 122,
    "start_time": "2022-04-08T20:20:41.735Z"
   },
   {
    "duration": 8,
    "start_time": "2022-04-08T20:20:41.858Z"
   },
   {
    "duration": 21,
    "start_time": "2022-04-08T20:20:41.868Z"
   },
   {
    "duration": 45,
    "start_time": "2022-04-08T20:20:41.892Z"
   },
   {
    "duration": 69,
    "start_time": "2022-04-08T20:20:41.939Z"
   },
   {
    "duration": 16,
    "start_time": "2022-04-08T20:20:42.009Z"
   },
   {
    "duration": 126,
    "start_time": "2022-04-08T20:20:42.026Z"
   },
   {
    "duration": 8,
    "start_time": "2022-04-08T20:20:42.154Z"
   },
   {
    "duration": 22,
    "start_time": "2022-04-08T20:20:42.164Z"
   },
   {
    "duration": 39,
    "start_time": "2022-04-08T20:20:42.188Z"
   },
   {
    "duration": 75,
    "start_time": "2022-04-08T20:20:42.229Z"
   },
   {
    "duration": 124,
    "start_time": "2022-04-08T20:20:42.306Z"
   },
   {
    "duration": 7,
    "start_time": "2022-04-08T20:20:42.433Z"
   },
   {
    "duration": 14,
    "start_time": "2022-04-08T20:20:42.442Z"
   },
   {
    "duration": 54,
    "start_time": "2022-04-08T20:20:42.458Z"
   },
   {
    "duration": 45,
    "start_time": "2022-04-08T20:20:42.514Z"
   },
   {
    "duration": 6,
    "start_time": "2022-04-08T20:25:13.254Z"
   },
   {
    "duration": 799,
    "start_time": "2022-04-08T20:26:38.145Z"
   },
   {
    "duration": 37,
    "start_time": "2022-04-08T20:26:45.629Z"
   },
   {
    "duration": 2,
    "start_time": "2022-04-08T20:27:12.826Z"
   },
   {
    "duration": 17,
    "start_time": "2022-04-08T20:27:18.852Z"
   },
   {
    "duration": 18,
    "start_time": "2022-04-08T20:27:53.023Z"
   },
   {
    "duration": 7,
    "start_time": "2022-04-08T20:28:33.009Z"
   },
   {
    "duration": 8,
    "start_time": "2022-04-08T20:28:47.735Z"
   },
   {
    "duration": 7,
    "start_time": "2022-04-08T20:29:11.306Z"
   },
   {
    "duration": 3,
    "start_time": "2022-04-08T20:29:21.319Z"
   },
   {
    "duration": 5,
    "start_time": "2022-04-08T20:30:06.613Z"
   },
   {
    "duration": 7,
    "start_time": "2022-04-08T20:49:29.100Z"
   },
   {
    "duration": 3,
    "start_time": "2022-04-08T20:56:09.566Z"
   },
   {
    "duration": 122,
    "start_time": "2022-04-08T20:56:09.571Z"
   },
   {
    "duration": 8,
    "start_time": "2022-04-08T20:56:09.694Z"
   },
   {
    "duration": 15,
    "start_time": "2022-04-08T20:56:09.704Z"
   },
   {
    "duration": 41,
    "start_time": "2022-04-08T20:56:09.721Z"
   },
   {
    "duration": 59,
    "start_time": "2022-04-08T20:56:09.763Z"
   },
   {
    "duration": 14,
    "start_time": "2022-04-08T20:56:09.824Z"
   },
   {
    "duration": 123,
    "start_time": "2022-04-08T20:56:09.840Z"
   },
   {
    "duration": 9,
    "start_time": "2022-04-08T20:56:09.965Z"
   },
   {
    "duration": 14,
    "start_time": "2022-04-08T20:56:09.981Z"
   },
   {
    "duration": 42,
    "start_time": "2022-04-08T20:56:09.997Z"
   },
   {
    "duration": 74,
    "start_time": "2022-04-08T20:56:10.041Z"
   },
   {
    "duration": 123,
    "start_time": "2022-04-08T20:56:10.118Z"
   },
   {
    "duration": 11,
    "start_time": "2022-04-08T20:56:10.242Z"
   },
   {
    "duration": 27,
    "start_time": "2022-04-08T20:56:10.255Z"
   },
   {
    "duration": 43,
    "start_time": "2022-04-08T20:56:10.283Z"
   },
   {
    "duration": 68,
    "start_time": "2022-04-08T20:56:10.327Z"
   },
   {
    "duration": 5,
    "start_time": "2022-04-08T20:56:10.396Z"
   },
   {
    "duration": 18,
    "start_time": "2022-04-08T20:56:10.402Z"
   },
   {
    "duration": 5,
    "start_time": "2022-04-08T20:56:10.422Z"
   },
   {
    "duration": 5,
    "start_time": "2022-04-08T20:56:10.428Z"
   },
   {
    "duration": 10,
    "start_time": "2022-04-08T20:56:10.434Z"
   },
   {
    "duration": 0,
    "start_time": "2022-04-08T20:56:10.446Z"
   },
   {
    "duration": 32,
    "start_time": "2022-04-08T21:04:22.537Z"
   },
   {
    "duration": 3,
    "start_time": "2022-04-08T21:04:49.696Z"
   },
   {
    "duration": 115,
    "start_time": "2022-04-08T21:04:49.701Z"
   },
   {
    "duration": 8,
    "start_time": "2022-04-08T21:04:49.818Z"
   },
   {
    "duration": 14,
    "start_time": "2022-04-08T21:04:49.828Z"
   },
   {
    "duration": 55,
    "start_time": "2022-04-08T21:04:49.844Z"
   },
   {
    "duration": 52,
    "start_time": "2022-04-08T21:04:49.900Z"
   },
   {
    "duration": 31,
    "start_time": "2022-04-08T21:04:49.954Z"
   },
   {
    "duration": 121,
    "start_time": "2022-04-08T21:04:49.987Z"
   },
   {
    "duration": 10,
    "start_time": "2022-04-08T21:04:50.109Z"
   },
   {
    "duration": 14,
    "start_time": "2022-04-08T21:04:50.120Z"
   },
   {
    "duration": 53,
    "start_time": "2022-04-08T21:04:50.135Z"
   },
   {
    "duration": 49,
    "start_time": "2022-04-08T21:04:50.190Z"
   },
   {
    "duration": 116,
    "start_time": "2022-04-08T21:04:50.241Z"
   },
   {
    "duration": 8,
    "start_time": "2022-04-08T21:04:50.360Z"
   },
   {
    "duration": 23,
    "start_time": "2022-04-08T21:04:50.369Z"
   },
   {
    "duration": 41,
    "start_time": "2022-04-08T21:04:50.393Z"
   },
   {
    "duration": 68,
    "start_time": "2022-04-08T21:04:50.435Z"
   },
   {
    "duration": 9,
    "start_time": "2022-04-08T21:04:50.505Z"
   },
   {
    "duration": 26,
    "start_time": "2022-04-08T21:04:50.516Z"
   },
   {
    "duration": 5,
    "start_time": "2022-04-08T21:04:50.546Z"
   },
   {
    "duration": 6,
    "start_time": "2022-04-08T21:04:50.552Z"
   },
   {
    "duration": 57,
    "start_time": "2022-04-08T21:04:50.560Z"
   },
   {
    "duration": 0,
    "start_time": "2022-04-08T21:04:50.619Z"
   },
   {
    "duration": 13,
    "start_time": "2022-04-08T21:08:43.211Z"
   },
   {
    "duration": 2,
    "start_time": "2022-04-08T21:09:05.650Z"
   },
   {
    "duration": 121,
    "start_time": "2022-04-08T21:09:05.654Z"
   },
   {
    "duration": 9,
    "start_time": "2022-04-08T21:09:05.777Z"
   },
   {
    "duration": 23,
    "start_time": "2022-04-08T21:09:05.788Z"
   },
   {
    "duration": 41,
    "start_time": "2022-04-08T21:09:05.814Z"
   },
   {
    "duration": 65,
    "start_time": "2022-04-08T21:09:05.856Z"
   },
   {
    "duration": 14,
    "start_time": "2022-04-08T21:09:05.922Z"
   },
   {
    "duration": 12,
    "start_time": "2022-04-08T21:09:05.937Z"
   },
   {
    "duration": 125,
    "start_time": "2022-04-08T21:09:05.951Z"
   },
   {
    "duration": 8,
    "start_time": "2022-04-08T21:09:06.080Z"
   },
   {
    "duration": 16,
    "start_time": "2022-04-08T21:09:06.089Z"
   },
   {
    "duration": 39,
    "start_time": "2022-04-08T21:09:06.107Z"
   },
   {
    "duration": 73,
    "start_time": "2022-04-08T21:09:06.148Z"
   },
   {
    "duration": 117,
    "start_time": "2022-04-08T21:09:06.222Z"
   },
   {
    "duration": 7,
    "start_time": "2022-04-08T21:09:06.341Z"
   },
   {
    "duration": 16,
    "start_time": "2022-04-08T21:09:06.350Z"
   },
   {
    "duration": 49,
    "start_time": "2022-04-08T21:09:06.368Z"
   },
   {
    "duration": 64,
    "start_time": "2022-04-08T21:09:06.418Z"
   },
   {
    "duration": 6,
    "start_time": "2022-04-08T21:09:06.483Z"
   },
   {
    "duration": 7,
    "start_time": "2022-04-08T21:09:06.491Z"
   },
   {
    "duration": 58,
    "start_time": "2022-04-08T21:09:06.500Z"
   },
   {
    "duration": 21,
    "start_time": "2022-04-08T21:09:06.561Z"
   },
   {
    "duration": 4,
    "start_time": "2022-04-08T21:09:06.583Z"
   },
   {
    "duration": 23,
    "start_time": "2022-04-08T21:09:06.589Z"
   },
   {
    "duration": 76,
    "start_time": "2022-04-08T21:09:06.614Z"
   },
   {
    "duration": 9,
    "start_time": "2022-04-08T21:09:31.344Z"
   },
   {
    "duration": 10,
    "start_time": "2022-04-08T21:09:54.961Z"
   },
   {
    "duration": 1289,
    "start_time": "2022-04-09T08:12:38.961Z"
   },
   {
    "duration": 122,
    "start_time": "2022-04-09T08:12:40.253Z"
   },
   {
    "duration": 25,
    "start_time": "2022-04-09T08:12:40.377Z"
   },
   {
    "duration": 16,
    "start_time": "2022-04-09T08:12:40.403Z"
   },
   {
    "duration": 48,
    "start_time": "2022-04-09T08:12:40.421Z"
   },
   {
    "duration": 74,
    "start_time": "2022-04-09T08:12:40.470Z"
   },
   {
    "duration": 14,
    "start_time": "2022-04-09T08:12:40.546Z"
   },
   {
    "duration": 14,
    "start_time": "2022-04-09T08:12:40.562Z"
   },
   {
    "duration": 138,
    "start_time": "2022-04-09T08:12:40.578Z"
   },
   {
    "duration": 8,
    "start_time": "2022-04-09T08:12:40.718Z"
   },
   {
    "duration": 14,
    "start_time": "2022-04-09T08:12:40.728Z"
   },
   {
    "duration": 63,
    "start_time": "2022-04-09T08:12:40.743Z"
   },
   {
    "duration": 48,
    "start_time": "2022-04-09T08:12:40.807Z"
   },
   {
    "duration": 122,
    "start_time": "2022-04-09T08:12:40.858Z"
   },
   {
    "duration": 9,
    "start_time": "2022-04-09T08:12:40.981Z"
   },
   {
    "duration": 22,
    "start_time": "2022-04-09T08:12:40.991Z"
   },
   {
    "duration": 43,
    "start_time": "2022-04-09T08:12:41.014Z"
   },
   {
    "duration": 70,
    "start_time": "2022-04-09T08:12:41.058Z"
   },
   {
    "duration": 7,
    "start_time": "2022-04-09T08:12:41.130Z"
   },
   {
    "duration": 6,
    "start_time": "2022-04-09T08:12:41.138Z"
   },
   {
    "duration": 56,
    "start_time": "2022-04-09T08:12:41.145Z"
   },
   {
    "duration": 4,
    "start_time": "2022-04-09T08:12:41.203Z"
   },
   {
    "duration": 4,
    "start_time": "2022-04-09T08:12:41.209Z"
   },
   {
    "duration": 21,
    "start_time": "2022-04-09T08:12:41.215Z"
   },
   {
    "duration": 103,
    "start_time": "2022-04-09T08:12:41.303Z"
   },
   {
    "duration": 6,
    "start_time": "2022-04-09T08:12:41.407Z"
   },
   {
    "duration": 6,
    "start_time": "2022-04-09T08:29:58.060Z"
   },
   {
    "duration": 90,
    "start_time": "2022-04-09T08:31:38.411Z"
   },
   {
    "duration": 3,
    "start_time": "2022-04-09T08:32:07.835Z"
   },
   {
    "duration": 6,
    "start_time": "2022-04-09T08:32:14.268Z"
   },
   {
    "duration": 5,
    "start_time": "2022-04-09T08:32:29.444Z"
   },
   {
    "duration": 5,
    "start_time": "2022-04-09T08:32:50.434Z"
   },
   {
    "duration": 5,
    "start_time": "2022-04-09T08:32:51.703Z"
   },
   {
    "duration": 5,
    "start_time": "2022-04-09T08:33:06.431Z"
   },
   {
    "duration": 3,
    "start_time": "2022-04-09T08:33:26.848Z"
   },
   {
    "duration": 4,
    "start_time": "2022-04-09T08:33:38.764Z"
   },
   {
    "duration": 2,
    "start_time": "2022-04-09T09:28:53.825Z"
   },
   {
    "duration": 135,
    "start_time": "2022-04-09T09:28:53.829Z"
   },
   {
    "duration": 9,
    "start_time": "2022-04-09T09:28:53.966Z"
   },
   {
    "duration": 14,
    "start_time": "2022-04-09T09:28:53.977Z"
   },
   {
    "duration": 48,
    "start_time": "2022-04-09T09:28:53.993Z"
   },
   {
    "duration": 62,
    "start_time": "2022-04-09T09:28:54.042Z"
   },
   {
    "duration": 14,
    "start_time": "2022-04-09T09:28:54.106Z"
   },
   {
    "duration": 13,
    "start_time": "2022-04-09T09:28:54.121Z"
   },
   {
    "duration": 128,
    "start_time": "2022-04-09T09:28:54.136Z"
   },
   {
    "duration": 8,
    "start_time": "2022-04-09T09:28:54.266Z"
   },
   {
    "duration": 28,
    "start_time": "2022-04-09T09:28:54.275Z"
   },
   {
    "duration": 39,
    "start_time": "2022-04-09T09:28:54.305Z"
   },
   {
    "duration": 66,
    "start_time": "2022-04-09T09:28:54.346Z"
   },
   {
    "duration": 120,
    "start_time": "2022-04-09T09:28:54.414Z"
   },
   {
    "duration": 9,
    "start_time": "2022-04-09T09:28:54.535Z"
   },
   {
    "duration": 15,
    "start_time": "2022-04-09T09:28:54.546Z"
   },
   {
    "duration": 59,
    "start_time": "2022-04-09T09:28:54.562Z"
   },
   {
    "duration": 55,
    "start_time": "2022-04-09T09:28:54.623Z"
   },
   {
    "duration": 22,
    "start_time": "2022-04-09T09:28:54.679Z"
   },
   {
    "duration": 7,
    "start_time": "2022-04-09T09:28:54.703Z"
   },
   {
    "duration": 8,
    "start_time": "2022-04-09T09:28:54.711Z"
   },
   {
    "duration": 6,
    "start_time": "2022-04-09T09:28:54.721Z"
   },
   {
    "duration": 41,
    "start_time": "2022-04-09T09:28:54.728Z"
   },
   {
    "duration": 3,
    "start_time": "2022-04-09T09:28:54.771Z"
   },
   {
    "duration": 3,
    "start_time": "2022-04-09T09:28:54.802Z"
   },
   {
    "duration": 95,
    "start_time": "2022-04-09T09:28:54.807Z"
   },
   {
    "duration": 100,
    "start_time": "2022-04-09T09:28:54.904Z"
   },
   {
    "duration": 6,
    "start_time": "2022-04-09T09:28:55.006Z"
   },
   {
    "duration": 5,
    "start_time": "2022-04-09T09:28:55.014Z"
   },
   {
    "duration": 6,
    "start_time": "2022-04-09T09:28:55.020Z"
   },
   {
    "duration": 6,
    "start_time": "2022-04-09T09:28:55.027Z"
   },
   {
    "duration": 67,
    "start_time": "2022-04-09T09:28:55.034Z"
   },
   {
    "duration": 3,
    "start_time": "2022-04-09T09:28:55.103Z"
   },
   {
    "duration": 4,
    "start_time": "2022-04-09T09:28:55.107Z"
   },
   {
    "duration": 13,
    "start_time": "2022-04-09T09:28:55.113Z"
   },
   {
    "duration": 79,
    "start_time": "2022-04-09T09:28:55.129Z"
   },
   {
    "duration": 97,
    "start_time": "2022-04-09T09:28:55.210Z"
   },
   {
    "duration": 5,
    "start_time": "2022-04-09T09:28:55.308Z"
   },
   {
    "duration": 11,
    "start_time": "2022-04-09T09:28:55.314Z"
   },
   {
    "duration": 5,
    "start_time": "2022-04-09T09:28:55.327Z"
   },
   {
    "duration": 32,
    "start_time": "2022-04-09T09:28:55.336Z"
   },
   {
    "duration": 32,
    "start_time": "2022-04-09T09:28:55.370Z"
   },
   {
    "duration": 4,
    "start_time": "2022-04-09T09:28:55.404Z"
   },
   {
    "duration": 19,
    "start_time": "2022-04-09T09:28:55.409Z"
   },
   {
    "duration": 81,
    "start_time": "2022-04-09T09:28:55.430Z"
   },
   {
    "duration": 6,
    "start_time": "2022-04-09T09:28:55.602Z"
   },
   {
    "duration": 5,
    "start_time": "2022-04-09T09:28:55.609Z"
   },
   {
    "duration": 4,
    "start_time": "2022-04-09T09:28:55.616Z"
   },
   {
    "duration": 50,
    "start_time": "2022-04-09T17:36:44.930Z"
   },
   {
    "duration": 1192,
    "start_time": "2022-04-09T17:36:53.402Z"
   },
   {
    "duration": 760,
    "start_time": "2022-04-09T17:36:54.596Z"
   },
   {
    "duration": 16,
    "start_time": "2022-04-09T17:36:55.358Z"
   },
   {
    "duration": 15,
    "start_time": "2022-04-09T17:36:55.376Z"
   },
   {
    "duration": 61,
    "start_time": "2022-04-09T17:36:55.393Z"
   },
   {
    "duration": 60,
    "start_time": "2022-04-09T17:36:55.456Z"
   },
   {
    "duration": 16,
    "start_time": "2022-04-09T17:36:55.532Z"
   },
   {
    "duration": 19,
    "start_time": "2022-04-09T17:36:55.550Z"
   },
   {
    "duration": 63,
    "start_time": "2022-04-09T17:54:39.905Z"
   },
   {
    "duration": 3,
    "start_time": "2022-04-09T17:54:48.452Z"
   },
   {
    "duration": 146,
    "start_time": "2022-04-09T17:54:48.457Z"
   },
   {
    "duration": 9,
    "start_time": "2022-04-09T17:54:48.604Z"
   },
   {
    "duration": 23,
    "start_time": "2022-04-09T17:54:48.615Z"
   },
   {
    "duration": 50,
    "start_time": "2022-04-09T17:54:48.640Z"
   },
   {
    "duration": 71,
    "start_time": "2022-04-09T17:54:48.691Z"
   },
   {
    "duration": 16,
    "start_time": "2022-04-09T17:54:48.763Z"
   },
   {
    "duration": 15,
    "start_time": "2022-04-09T17:54:48.780Z"
   },
   {
    "duration": 136,
    "start_time": "2022-04-09T17:54:48.797Z"
   },
   {
    "duration": 10,
    "start_time": "2022-04-09T17:54:48.935Z"
   },
   {
    "duration": 19,
    "start_time": "2022-04-09T17:54:48.946Z"
   },
   {
    "duration": 65,
    "start_time": "2022-04-09T17:54:48.967Z"
   },
   {
    "duration": 18,
    "start_time": "2022-04-09T17:54:49.035Z"
   },
   {
    "duration": 3,
    "start_time": "2022-04-09T17:58:31.667Z"
   },
   {
    "duration": 124,
    "start_time": "2022-04-09T17:58:31.671Z"
   },
   {
    "duration": 10,
    "start_time": "2022-04-09T17:58:31.796Z"
   },
   {
    "duration": 24,
    "start_time": "2022-04-09T17:58:31.808Z"
   },
   {
    "duration": 46,
    "start_time": "2022-04-09T17:58:31.835Z"
   },
   {
    "duration": 75,
    "start_time": "2022-04-09T17:58:31.883Z"
   },
   {
    "duration": 15,
    "start_time": "2022-04-09T17:58:31.959Z"
   },
   {
    "duration": 20,
    "start_time": "2022-04-09T17:58:31.975Z"
   },
   {
    "duration": 135,
    "start_time": "2022-04-09T17:58:31.996Z"
   },
   {
    "duration": 9,
    "start_time": "2022-04-09T17:58:32.133Z"
   },
   {
    "duration": 20,
    "start_time": "2022-04-09T17:58:32.143Z"
   },
   {
    "duration": 42,
    "start_time": "2022-04-09T17:58:32.164Z"
   },
   {
    "duration": 35,
    "start_time": "2022-04-09T17:58:32.208Z"
   },
   {
    "duration": 129,
    "start_time": "2022-04-09T17:58:32.245Z"
   },
   {
    "duration": 9,
    "start_time": "2022-04-09T17:58:32.376Z"
   },
   {
    "duration": 20,
    "start_time": "2022-04-09T17:58:32.386Z"
   },
   {
    "duration": 59,
    "start_time": "2022-04-09T17:58:32.407Z"
   },
   {
    "duration": 16,
    "start_time": "2022-04-09T17:58:32.467Z"
   },
   {
    "duration": 9,
    "start_time": "2022-04-09T18:30:15.658Z"
   },
   {
    "duration": 9,
    "start_time": "2022-04-09T18:56:03.959Z"
   },
   {
    "duration": 4,
    "start_time": "2022-04-09T18:56:13.384Z"
   },
   {
    "duration": 137,
    "start_time": "2022-04-09T18:56:13.390Z"
   },
   {
    "duration": 9,
    "start_time": "2022-04-09T18:56:13.531Z"
   },
   {
    "duration": 18,
    "start_time": "2022-04-09T18:56:13.542Z"
   },
   {
    "duration": 72,
    "start_time": "2022-04-09T18:56:13.563Z"
   },
   {
    "duration": 62,
    "start_time": "2022-04-09T18:56:13.638Z"
   },
   {
    "duration": 33,
    "start_time": "2022-04-09T18:56:13.702Z"
   },
   {
    "duration": 18,
    "start_time": "2022-04-09T18:56:13.736Z"
   },
   {
    "duration": 132,
    "start_time": "2022-04-09T18:56:13.756Z"
   },
   {
    "duration": 9,
    "start_time": "2022-04-09T18:56:13.890Z"
   },
   {
    "duration": 17,
    "start_time": "2022-04-09T18:56:13.900Z"
   },
   {
    "duration": 43,
    "start_time": "2022-04-09T18:56:13.932Z"
   },
   {
    "duration": 15,
    "start_time": "2022-04-09T18:56:13.978Z"
   },
   {
    "duration": 141,
    "start_time": "2022-04-09T18:56:13.995Z"
   },
   {
    "duration": 11,
    "start_time": "2022-04-09T18:56:14.137Z"
   },
   {
    "duration": 18,
    "start_time": "2022-04-09T18:56:14.150Z"
   },
   {
    "duration": 69,
    "start_time": "2022-04-09T18:56:14.170Z"
   },
   {
    "duration": 16,
    "start_time": "2022-04-09T18:56:14.241Z"
   },
   {
    "duration": 7,
    "start_time": "2022-04-09T18:56:14.259Z"
   },
   {
    "duration": 10,
    "start_time": "2022-04-09T18:56:14.268Z"
   },
   {
    "duration": 17,
    "start_time": "2022-04-09T18:56:14.280Z"
   },
   {
    "duration": 13,
    "start_time": "2022-04-09T18:56:14.299Z"
   },
   {
    "duration": 54,
    "start_time": "2022-04-09T18:56:14.314Z"
   },
   {
    "duration": 3,
    "start_time": "2022-04-09T18:56:14.370Z"
   },
   {
    "duration": 7,
    "start_time": "2022-04-09T18:56:14.374Z"
   },
   {
    "duration": 21,
    "start_time": "2022-04-09T18:56:14.383Z"
   },
   {
    "duration": 0,
    "start_time": "2022-04-09T18:56:14.406Z"
   },
   {
    "duration": 0,
    "start_time": "2022-04-09T18:56:14.407Z"
   },
   {
    "duration": 4,
    "start_time": "2022-04-09T18:56:40.622Z"
   },
   {
    "duration": 133,
    "start_time": "2022-04-09T18:56:40.628Z"
   },
   {
    "duration": 9,
    "start_time": "2022-04-09T18:56:40.763Z"
   },
   {
    "duration": 18,
    "start_time": "2022-04-09T18:56:40.774Z"
   },
   {
    "duration": 61,
    "start_time": "2022-04-09T18:56:40.794Z"
   },
   {
    "duration": 60,
    "start_time": "2022-04-09T18:56:40.856Z"
   },
   {
    "duration": 29,
    "start_time": "2022-04-09T18:56:40.917Z"
   },
   {
    "duration": 17,
    "start_time": "2022-04-09T18:56:40.948Z"
   },
   {
    "duration": 136,
    "start_time": "2022-04-09T18:56:40.967Z"
   },
   {
    "duration": 9,
    "start_time": "2022-04-09T18:56:41.105Z"
   },
   {
    "duration": 27,
    "start_time": "2022-04-09T18:56:41.116Z"
   },
   {
    "duration": 43,
    "start_time": "2022-04-09T18:56:41.145Z"
   },
   {
    "duration": 15,
    "start_time": "2022-04-09T18:56:41.191Z"
   },
   {
    "duration": 144,
    "start_time": "2022-04-09T18:56:41.208Z"
   },
   {
    "duration": 10,
    "start_time": "2022-04-09T18:56:41.354Z"
   },
   {
    "duration": 19,
    "start_time": "2022-04-09T18:56:41.366Z"
   },
   {
    "duration": 75,
    "start_time": "2022-04-09T18:56:41.387Z"
   },
   {
    "duration": 16,
    "start_time": "2022-04-09T18:56:41.465Z"
   },
   {
    "duration": 7,
    "start_time": "2022-04-09T18:56:41.484Z"
   },
   {
    "duration": 41,
    "start_time": "2022-04-09T18:56:41.493Z"
   },
   {
    "duration": 10,
    "start_time": "2022-04-09T18:56:41.536Z"
   },
   {
    "duration": 6,
    "start_time": "2022-04-09T18:56:41.548Z"
   },
   {
    "duration": 41,
    "start_time": "2022-04-09T18:56:41.556Z"
   },
   {
    "duration": 4,
    "start_time": "2022-04-09T18:56:41.599Z"
   },
   {
    "duration": 27,
    "start_time": "2022-04-09T18:56:41.605Z"
   },
   {
    "duration": 22,
    "start_time": "2022-04-09T18:56:41.635Z"
   },
   {
    "duration": 178,
    "start_time": "2022-04-09T18:56:41.659Z"
   },
   {
    "duration": 8,
    "start_time": "2022-04-09T18:56:41.839Z"
   },
   {
    "duration": 3,
    "start_time": "2022-04-09T19:01:59.907Z"
   },
   {
    "duration": 131,
    "start_time": "2022-04-09T19:01:59.912Z"
   },
   {
    "duration": 10,
    "start_time": "2022-04-09T19:02:00.046Z"
   },
   {
    "duration": 20,
    "start_time": "2022-04-09T19:02:00.058Z"
   },
   {
    "duration": 69,
    "start_time": "2022-04-09T19:02:00.081Z"
   },
   {
    "duration": 61,
    "start_time": "2022-04-09T19:02:00.152Z"
   },
   {
    "duration": 28,
    "start_time": "2022-04-09T19:02:00.215Z"
   },
   {
    "duration": 22,
    "start_time": "2022-04-09T19:02:00.244Z"
   },
   {
    "duration": 127,
    "start_time": "2022-04-09T19:02:00.268Z"
   },
   {
    "duration": 9,
    "start_time": "2022-04-09T19:02:00.397Z"
   },
   {
    "duration": 30,
    "start_time": "2022-04-09T19:02:00.408Z"
   },
   {
    "duration": 44,
    "start_time": "2022-04-09T19:02:00.440Z"
   },
   {
    "duration": 15,
    "start_time": "2022-04-09T19:02:00.487Z"
   },
   {
    "duration": 142,
    "start_time": "2022-04-09T19:02:00.504Z"
   },
   {
    "duration": 9,
    "start_time": "2022-04-09T19:02:00.648Z"
   },
   {
    "duration": 21,
    "start_time": "2022-04-09T19:02:00.658Z"
   },
   {
    "duration": 59,
    "start_time": "2022-04-09T19:02:00.681Z"
   },
   {
    "duration": 15,
    "start_time": "2022-04-09T19:02:00.742Z"
   },
   {
    "duration": 6,
    "start_time": "2022-04-09T19:02:00.759Z"
   },
   {
    "duration": 21,
    "start_time": "2022-04-09T19:02:00.767Z"
   },
   {
    "duration": 11,
    "start_time": "2022-04-09T19:02:00.790Z"
   },
   {
    "duration": 5,
    "start_time": "2022-04-09T19:02:00.803Z"
   },
   {
    "duration": 60,
    "start_time": "2022-04-09T19:02:00.810Z"
   },
   {
    "duration": 3,
    "start_time": "2022-04-09T19:02:00.872Z"
   },
   {
    "duration": 10,
    "start_time": "2022-04-09T19:02:00.877Z"
   },
   {
    "duration": 47,
    "start_time": "2022-04-09T19:02:00.889Z"
   },
   {
    "duration": 97,
    "start_time": "2022-04-09T19:02:00.938Z"
   },
   {
    "duration": 19,
    "start_time": "2022-04-09T19:02:01.037Z"
   },
   {
    "duration": 11,
    "start_time": "2022-04-09T19:02:01.058Z"
   },
   {
    "duration": 15,
    "start_time": "2022-04-09T19:02:01.071Z"
   },
   {
    "duration": 1157,
    "start_time": "2022-04-10T09:36:26.188Z"
   },
   {
    "duration": 131,
    "start_time": "2022-04-10T09:36:27.347Z"
   },
   {
    "duration": 19,
    "start_time": "2022-04-10T09:36:27.480Z"
   },
   {
    "duration": 31,
    "start_time": "2022-04-10T09:36:27.501Z"
   },
   {
    "duration": 52,
    "start_time": "2022-04-10T09:36:27.535Z"
   },
   {
    "duration": 82,
    "start_time": "2022-04-10T09:36:27.589Z"
   },
   {
    "duration": 17,
    "start_time": "2022-04-10T09:36:27.673Z"
   },
   {
    "duration": 42,
    "start_time": "2022-04-10T09:36:27.692Z"
   },
   {
    "duration": 125,
    "start_time": "2022-04-10T09:36:27.736Z"
   },
   {
    "duration": 9,
    "start_time": "2022-04-10T09:36:27.865Z"
   },
   {
    "duration": 33,
    "start_time": "2022-04-10T09:36:27.876Z"
   },
   {
    "duration": 53,
    "start_time": "2022-04-10T09:36:27.911Z"
   },
   {
    "duration": 17,
    "start_time": "2022-04-10T09:36:27.966Z"
   },
   {
    "duration": 135,
    "start_time": "2022-04-10T09:36:27.986Z"
   },
   {
    "duration": 10,
    "start_time": "2022-04-10T09:36:28.123Z"
   },
   {
    "duration": 22,
    "start_time": "2022-04-10T09:36:28.135Z"
   },
   {
    "duration": 49,
    "start_time": "2022-04-10T09:36:28.159Z"
   },
   {
    "duration": 36,
    "start_time": "2022-04-10T09:36:28.210Z"
   },
   {
    "duration": 7,
    "start_time": "2022-04-10T09:36:28.247Z"
   },
   {
    "duration": 13,
    "start_time": "2022-04-10T09:36:28.256Z"
   },
   {
    "duration": 9,
    "start_time": "2022-04-10T09:36:28.270Z"
   },
   {
    "duration": 5,
    "start_time": "2022-04-10T09:36:28.281Z"
   },
   {
    "duration": 69,
    "start_time": "2022-04-10T09:36:28.288Z"
   },
   {
    "duration": 4,
    "start_time": "2022-04-10T09:36:28.359Z"
   },
   {
    "duration": 6,
    "start_time": "2022-04-10T09:36:28.365Z"
   },
   {
    "duration": 65,
    "start_time": "2022-04-10T09:36:28.373Z"
   },
   {
    "duration": 95,
    "start_time": "2022-04-10T09:36:28.442Z"
   },
   {
    "duration": 7,
    "start_time": "2022-04-10T09:36:28.541Z"
   },
   {
    "duration": 7,
    "start_time": "2022-04-10T09:36:28.550Z"
   },
   {
    "duration": 10,
    "start_time": "2022-04-10T09:36:28.559Z"
   },
   {
    "duration": 8,
    "start_time": "2022-04-10T09:36:28.571Z"
   },
   {
    "duration": 73,
    "start_time": "2022-04-10T09:36:28.581Z"
   },
   {
    "duration": 4,
    "start_time": "2022-04-10T09:36:28.655Z"
   },
   {
    "duration": 7,
    "start_time": "2022-04-10T09:36:28.660Z"
   },
   {
    "duration": 67,
    "start_time": "2022-04-10T09:36:28.669Z"
   },
   {
    "duration": 101,
    "start_time": "2022-04-10T09:36:28.738Z"
   },
   {
    "duration": 11,
    "start_time": "2022-04-10T09:36:28.841Z"
   },
   {
    "duration": 7,
    "start_time": "2022-04-10T09:36:28.854Z"
   },
   {
    "duration": 7,
    "start_time": "2022-04-10T09:36:28.863Z"
   },
   {
    "duration": 60,
    "start_time": "2022-04-10T09:36:28.872Z"
   },
   {
    "duration": 46,
    "start_time": "2022-04-10T09:36:28.934Z"
   },
   {
    "duration": 4,
    "start_time": "2022-04-10T09:36:28.982Z"
   },
   {
    "duration": 10,
    "start_time": "2022-04-10T09:36:28.987Z"
   },
   {
    "duration": 41,
    "start_time": "2022-04-10T09:36:28.999Z"
   },
   {
    "duration": 12,
    "start_time": "2022-04-10T09:36:29.133Z"
   },
   {
    "duration": 87,
    "start_time": "2022-04-10T09:36:29.147Z"
   },
   {
    "duration": 5,
    "start_time": "2022-04-10T09:36:29.236Z"
   },
   {
    "duration": 5,
    "start_time": "2022-04-10T09:36:29.243Z"
   },
   {
    "duration": 6,
    "start_time": "2022-04-10T09:42:29.007Z"
   },
   {
    "duration": 3,
    "start_time": "2022-04-10T09:44:03.190Z"
   },
   {
    "duration": 176,
    "start_time": "2022-04-10T09:44:03.196Z"
   },
   {
    "duration": 10,
    "start_time": "2022-04-10T09:44:03.374Z"
   },
   {
    "duration": 29,
    "start_time": "2022-04-10T09:44:03.387Z"
   },
   {
    "duration": 58,
    "start_time": "2022-04-10T09:44:03.418Z"
   },
   {
    "duration": 81,
    "start_time": "2022-04-10T09:44:03.479Z"
   },
   {
    "duration": 21,
    "start_time": "2022-04-10T09:44:03.562Z"
   },
   {
    "duration": 32,
    "start_time": "2022-04-10T09:44:03.585Z"
   },
   {
    "duration": 128,
    "start_time": "2022-04-10T09:44:03.619Z"
   },
   {
    "duration": 10,
    "start_time": "2022-04-10T09:44:03.750Z"
   },
   {
    "duration": 27,
    "start_time": "2022-04-10T09:44:03.762Z"
   },
   {
    "duration": 54,
    "start_time": "2022-04-10T09:44:03.791Z"
   },
   {
    "duration": 16,
    "start_time": "2022-04-10T09:44:03.848Z"
   },
   {
    "duration": 139,
    "start_time": "2022-04-10T09:44:03.866Z"
   },
   {
    "duration": 11,
    "start_time": "2022-04-10T09:44:04.007Z"
   },
   {
    "duration": 18,
    "start_time": "2022-04-10T09:44:04.032Z"
   },
   {
    "duration": 58,
    "start_time": "2022-04-10T09:44:04.052Z"
   },
   {
    "duration": 24,
    "start_time": "2022-04-10T09:44:04.112Z"
   },
   {
    "duration": 8,
    "start_time": "2022-04-10T09:44:04.138Z"
   },
   {
    "duration": 14,
    "start_time": "2022-04-10T09:44:04.148Z"
   },
   {
    "duration": 19,
    "start_time": "2022-04-10T09:44:04.164Z"
   },
   {
    "duration": 11,
    "start_time": "2022-04-10T09:44:04.185Z"
   },
   {
    "duration": 48,
    "start_time": "2022-04-10T09:44:04.198Z"
   },
   {
    "duration": 4,
    "start_time": "2022-04-10T09:44:04.248Z"
   },
   {
    "duration": 9,
    "start_time": "2022-04-10T09:44:04.253Z"
   },
   {
    "duration": 16,
    "start_time": "2022-04-10T09:44:04.264Z"
   },
   {
    "duration": 100,
    "start_time": "2022-04-10T09:44:04.333Z"
   },
   {
    "duration": 12,
    "start_time": "2022-04-10T09:44:04.437Z"
   },
   {
    "duration": 7,
    "start_time": "2022-04-10T09:44:04.451Z"
   },
   {
    "duration": 18,
    "start_time": "2022-04-10T09:44:04.459Z"
   },
   {
    "duration": 13,
    "start_time": "2022-04-10T09:44:04.478Z"
   },
   {
    "duration": 63,
    "start_time": "2022-04-10T09:44:04.493Z"
   },
   {
    "duration": 3,
    "start_time": "2022-04-10T09:44:04.559Z"
   },
   {
    "duration": 7,
    "start_time": "2022-04-10T09:44:04.564Z"
   },
   {
    "duration": 16,
    "start_time": "2022-04-10T09:44:04.573Z"
   },
   {
    "duration": 105,
    "start_time": "2022-04-10T09:44:04.633Z"
   },
   {
    "duration": 22,
    "start_time": "2022-04-10T09:44:04.740Z"
   },
   {
    "duration": 12,
    "start_time": "2022-04-10T09:44:04.764Z"
   },
   {
    "duration": 12,
    "start_time": "2022-04-10T09:44:04.778Z"
   },
   {
    "duration": 9,
    "start_time": "2022-04-10T09:44:04.792Z"
   },
   {
    "duration": 57,
    "start_time": "2022-04-10T09:44:04.803Z"
   },
   {
    "duration": 4,
    "start_time": "2022-04-10T09:44:04.862Z"
   },
   {
    "duration": 22,
    "start_time": "2022-04-10T09:44:04.867Z"
   },
   {
    "duration": 42,
    "start_time": "2022-04-10T09:44:04.890Z"
   },
   {
    "duration": 105,
    "start_time": "2022-04-10T09:44:04.935Z"
   },
   {
    "duration": 38,
    "start_time": "2022-04-10T09:44:05.042Z"
   },
   {
    "duration": 8,
    "start_time": "2022-04-10T09:44:05.083Z"
   },
   {
    "duration": 44,
    "start_time": "2022-04-10T09:44:05.093Z"
   },
   {
    "duration": 5,
    "start_time": "2022-04-10T10:06:17.465Z"
   },
   {
    "duration": 3,
    "start_time": "2022-04-10T10:06:28.321Z"
   },
   {
    "duration": 135,
    "start_time": "2022-04-10T10:06:28.326Z"
   },
   {
    "duration": 9,
    "start_time": "2022-04-10T10:06:28.463Z"
   },
   {
    "duration": 19,
    "start_time": "2022-04-10T10:06:28.474Z"
   },
   {
    "duration": 64,
    "start_time": "2022-04-10T10:06:28.495Z"
   },
   {
    "duration": 56,
    "start_time": "2022-04-10T10:06:28.561Z"
   },
   {
    "duration": 24,
    "start_time": "2022-04-10T10:06:28.619Z"
   },
   {
    "duration": 15,
    "start_time": "2022-04-10T10:06:28.645Z"
   },
   {
    "duration": 134,
    "start_time": "2022-04-10T10:06:28.662Z"
   },
   {
    "duration": 9,
    "start_time": "2022-04-10T10:06:28.798Z"
   },
   {
    "duration": 27,
    "start_time": "2022-04-10T10:06:28.808Z"
   },
   {
    "duration": 43,
    "start_time": "2022-04-10T10:06:28.837Z"
   },
   {
    "duration": 16,
    "start_time": "2022-04-10T10:06:28.881Z"
   },
   {
    "duration": 135,
    "start_time": "2022-04-10T10:06:28.899Z"
   },
   {
    "duration": 10,
    "start_time": "2022-04-10T10:06:29.036Z"
   },
   {
    "duration": 18,
    "start_time": "2022-04-10T10:06:29.047Z"
   },
   {
    "duration": 68,
    "start_time": "2022-04-10T10:06:29.067Z"
   },
   {
    "duration": 16,
    "start_time": "2022-04-10T10:06:29.136Z"
   },
   {
    "duration": 7,
    "start_time": "2022-04-10T10:06:29.154Z"
   },
   {
    "duration": 7,
    "start_time": "2022-04-10T10:06:29.163Z"
   },
   {
    "duration": 7,
    "start_time": "2022-04-10T10:06:29.172Z"
   },
   {
    "duration": 5,
    "start_time": "2022-04-10T10:06:29.180Z"
   },
   {
    "duration": 78,
    "start_time": "2022-04-10T10:06:29.187Z"
   },
   {
    "duration": 3,
    "start_time": "2022-04-10T10:06:29.269Z"
   },
   {
    "duration": 6,
    "start_time": "2022-04-10T10:06:29.274Z"
   },
   {
    "duration": 54,
    "start_time": "2022-04-10T10:06:29.281Z"
   },
   {
    "duration": 96,
    "start_time": "2022-04-10T10:06:29.338Z"
   },
   {
    "duration": 7,
    "start_time": "2022-04-10T10:06:29.436Z"
   },
   {
    "duration": 4,
    "start_time": "2022-04-10T10:06:29.445Z"
   },
   {
    "duration": 7,
    "start_time": "2022-04-10T10:06:29.450Z"
   },
   {
    "duration": 6,
    "start_time": "2022-04-10T10:06:29.458Z"
   },
   {
    "duration": 79,
    "start_time": "2022-04-10T10:06:29.465Z"
   },
   {
    "duration": 3,
    "start_time": "2022-04-10T10:06:29.546Z"
   },
   {
    "duration": 5,
    "start_time": "2022-04-10T10:06:29.551Z"
   },
   {
    "duration": 17,
    "start_time": "2022-04-10T10:06:29.558Z"
   },
   {
    "duration": 102,
    "start_time": "2022-04-10T10:06:29.635Z"
   },
   {
    "duration": 9,
    "start_time": "2022-04-10T10:06:29.739Z"
   },
   {
    "duration": 5,
    "start_time": "2022-04-10T10:06:29.750Z"
   },
   {
    "duration": 5,
    "start_time": "2022-04-10T10:06:29.756Z"
   },
   {
    "duration": 5,
    "start_time": "2022-04-10T10:06:29.763Z"
   },
   {
    "duration": 82,
    "start_time": "2022-04-10T10:06:29.770Z"
   },
   {
    "duration": 4,
    "start_time": "2022-04-10T10:06:29.854Z"
   },
   {
    "duration": 7,
    "start_time": "2022-04-10T10:06:29.859Z"
   },
   {
    "duration": 16,
    "start_time": "2022-04-10T10:06:29.868Z"
   },
   {
    "duration": 104,
    "start_time": "2022-04-10T10:06:29.933Z"
   },
   {
    "duration": 8,
    "start_time": "2022-04-10T10:06:30.040Z"
   },
   {
    "duration": 13,
    "start_time": "2022-04-10T10:06:30.050Z"
   },
   {
    "duration": 10,
    "start_time": "2022-04-10T10:06:30.065Z"
   },
   {
    "duration": 13,
    "start_time": "2022-04-10T10:08:09.190Z"
   },
   {
    "duration": 4,
    "start_time": "2022-04-10T10:08:14.880Z"
   },
   {
    "duration": 6,
    "start_time": "2022-04-10T10:09:38.535Z"
   },
   {
    "duration": 5,
    "start_time": "2022-04-10T10:12:50.676Z"
   },
   {
    "duration": 4,
    "start_time": "2022-04-10T10:13:05.964Z"
   },
   {
    "duration": 6,
    "start_time": "2022-04-10T10:15:42.216Z"
   },
   {
    "duration": 6,
    "start_time": "2022-04-10T10:16:26.657Z"
   },
   {
    "duration": 6,
    "start_time": "2022-04-10T10:16:57.220Z"
   },
   {
    "duration": 5,
    "start_time": "2022-04-10T10:17:02.729Z"
   },
   {
    "duration": 5,
    "start_time": "2022-04-10T10:17:09.865Z"
   },
   {
    "duration": 3,
    "start_time": "2022-04-10T10:17:27.341Z"
   },
   {
    "duration": 152,
    "start_time": "2022-04-10T10:17:27.346Z"
   },
   {
    "duration": 10,
    "start_time": "2022-04-10T10:17:27.500Z"
   },
   {
    "duration": 29,
    "start_time": "2022-04-10T10:17:27.511Z"
   },
   {
    "duration": 45,
    "start_time": "2022-04-10T10:17:27.542Z"
   },
   {
    "duration": 73,
    "start_time": "2022-04-10T10:17:27.588Z"
   },
   {
    "duration": 16,
    "start_time": "2022-04-10T10:17:27.663Z"
   },
   {
    "duration": 15,
    "start_time": "2022-04-10T10:17:27.681Z"
   },
   {
    "duration": 141,
    "start_time": "2022-04-10T10:17:27.698Z"
   },
   {
    "duration": 10,
    "start_time": "2022-04-10T10:17:27.841Z"
   },
   {
    "duration": 21,
    "start_time": "2022-04-10T10:17:27.853Z"
   },
   {
    "duration": 63,
    "start_time": "2022-04-10T10:17:27.875Z"
   },
   {
    "duration": 16,
    "start_time": "2022-04-10T10:17:27.941Z"
   },
   {
    "duration": 128,
    "start_time": "2022-04-10T10:17:27.959Z"
   },
   {
    "duration": 10,
    "start_time": "2022-04-10T10:17:28.088Z"
   },
   {
    "duration": 21,
    "start_time": "2022-04-10T10:17:28.099Z"
   },
   {
    "duration": 56,
    "start_time": "2022-04-10T10:17:28.121Z"
   },
   {
    "duration": 15,
    "start_time": "2022-04-10T10:17:28.179Z"
   },
   {
    "duration": 7,
    "start_time": "2022-04-10T10:17:28.196Z"
   },
   {
    "duration": 28,
    "start_time": "2022-04-10T10:17:28.205Z"
   },
   {
    "duration": 11,
    "start_time": "2022-04-10T10:17:28.235Z"
   },
   {
    "duration": 5,
    "start_time": "2022-04-10T10:17:28.248Z"
   },
   {
    "duration": 41,
    "start_time": "2022-04-10T10:17:28.254Z"
   },
   {
    "duration": 3,
    "start_time": "2022-04-10T10:17:28.297Z"
   },
   {
    "duration": 30,
    "start_time": "2022-04-10T10:17:28.301Z"
   },
   {
    "duration": 18,
    "start_time": "2022-04-10T10:17:28.333Z"
   },
   {
    "duration": 85,
    "start_time": "2022-04-10T10:17:28.353Z"
   },
   {
    "duration": 102,
    "start_time": "2022-04-10T10:17:28.440Z"
   },
   {
    "duration": 5,
    "start_time": "2022-04-10T10:17:28.544Z"
   },
   {
    "duration": 9,
    "start_time": "2022-04-10T10:17:28.551Z"
   },
   {
    "duration": 8,
    "start_time": "2022-04-10T10:17:28.561Z"
   },
   {
    "duration": 64,
    "start_time": "2022-04-10T10:17:28.570Z"
   },
   {
    "duration": 4,
    "start_time": "2022-04-10T10:17:28.636Z"
   },
   {
    "duration": 7,
    "start_time": "2022-04-10T10:17:28.641Z"
   },
   {
    "duration": 17,
    "start_time": "2022-04-10T10:17:28.650Z"
   },
   {
    "duration": 164,
    "start_time": "2022-04-10T10:17:28.669Z"
   },
   {
    "duration": 6,
    "start_time": "2022-04-10T10:17:28.836Z"
   },
   {
    "duration": 6,
    "start_time": "2022-04-10T10:17:28.844Z"
   },
   {
    "duration": 9,
    "start_time": "2022-04-10T10:17:28.851Z"
   },
   {
    "duration": 5,
    "start_time": "2022-04-10T10:17:28.862Z"
   },
   {
    "duration": 74,
    "start_time": "2022-04-10T10:17:28.869Z"
   },
   {
    "duration": 4,
    "start_time": "2022-04-10T10:17:28.944Z"
   },
   {
    "duration": 8,
    "start_time": "2022-04-10T10:17:28.949Z"
   },
   {
    "duration": 18,
    "start_time": "2022-04-10T10:17:28.959Z"
   },
   {
    "duration": 101,
    "start_time": "2022-04-10T10:17:29.033Z"
   },
   {
    "duration": 11,
    "start_time": "2022-04-10T10:17:29.136Z"
   },
   {
    "duration": 5,
    "start_time": "2022-04-10T10:17:29.149Z"
   },
   {
    "duration": 5,
    "start_time": "2022-04-10T10:17:29.156Z"
   },
   {
    "duration": 4,
    "start_time": "2022-04-10T10:33:24.251Z"
   },
   {
    "duration": 228,
    "start_time": "2022-04-10T10:33:24.257Z"
   },
   {
    "duration": 12,
    "start_time": "2022-04-10T10:33:24.487Z"
   },
   {
    "duration": 33,
    "start_time": "2022-04-10T10:33:24.501Z"
   },
   {
    "duration": 55,
    "start_time": "2022-04-10T10:33:24.536Z"
   },
   {
    "duration": 81,
    "start_time": "2022-04-10T10:33:24.593Z"
   },
   {
    "duration": 18,
    "start_time": "2022-04-10T10:33:24.676Z"
   },
   {
    "duration": 39,
    "start_time": "2022-04-10T10:33:24.696Z"
   },
   {
    "duration": 134,
    "start_time": "2022-04-10T10:33:24.737Z"
   },
   {
    "duration": 10,
    "start_time": "2022-04-10T10:33:24.872Z"
   },
   {
    "duration": 20,
    "start_time": "2022-04-10T10:33:24.883Z"
   },
   {
    "duration": 62,
    "start_time": "2022-04-10T10:33:24.905Z"
   },
   {
    "duration": 16,
    "start_time": "2022-04-10T10:33:24.969Z"
   },
   {
    "duration": 143,
    "start_time": "2022-04-10T10:33:24.986Z"
   },
   {
    "duration": 10,
    "start_time": "2022-04-10T10:33:25.131Z"
   },
   {
    "duration": 25,
    "start_time": "2022-04-10T10:33:25.143Z"
   },
   {
    "duration": 63,
    "start_time": "2022-04-10T10:33:25.170Z"
   },
   {
    "duration": 17,
    "start_time": "2022-04-10T10:33:25.236Z"
   },
   {
    "duration": 8,
    "start_time": "2022-04-10T10:33:25.254Z"
   },
   {
    "duration": 10,
    "start_time": "2022-04-10T10:33:25.264Z"
   },
   {
    "duration": 7,
    "start_time": "2022-04-10T10:33:25.276Z"
   },
   {
    "duration": 5,
    "start_time": "2022-04-10T10:33:25.285Z"
   },
   {
    "duration": 74,
    "start_time": "2022-04-10T10:33:25.292Z"
   },
   {
    "duration": 3,
    "start_time": "2022-04-10T10:33:25.370Z"
   },
   {
    "duration": 8,
    "start_time": "2022-04-10T10:33:25.375Z"
   },
   {
    "duration": 50,
    "start_time": "2022-04-10T10:33:25.385Z"
   },
   {
    "duration": 98,
    "start_time": "2022-04-10T10:33:25.437Z"
   },
   {
    "duration": 9,
    "start_time": "2022-04-10T10:33:25.536Z"
   },
   {
    "duration": 10,
    "start_time": "2022-04-10T10:33:25.547Z"
   },
   {
    "duration": 9,
    "start_time": "2022-04-10T10:33:25.559Z"
   },
   {
    "duration": 6,
    "start_time": "2022-04-10T10:33:25.570Z"
   },
   {
    "duration": 75,
    "start_time": "2022-04-10T10:33:25.578Z"
   },
   {
    "duration": 4,
    "start_time": "2022-04-10T10:33:25.655Z"
   },
   {
    "duration": 7,
    "start_time": "2022-04-10T10:33:25.660Z"
   },
   {
    "duration": 18,
    "start_time": "2022-04-10T10:33:25.669Z"
   },
   {
    "duration": 97,
    "start_time": "2022-04-10T10:33:25.737Z"
   },
   {
    "duration": 10,
    "start_time": "2022-04-10T10:33:25.836Z"
   },
   {
    "duration": 6,
    "start_time": "2022-04-10T10:33:25.848Z"
   },
   {
    "duration": 7,
    "start_time": "2022-04-10T10:33:25.856Z"
   },
   {
    "duration": 2,
    "start_time": "2022-04-10T12:12:21.607Z"
   },
   {
    "duration": 3,
    "start_time": "2022-04-10T12:14:48.415Z"
   },
   {
    "duration": 3,
    "start_time": "2022-04-10T12:15:45.808Z"
   },
   {
    "duration": 3,
    "start_time": "2022-04-10T12:18:26.567Z"
   },
   {
    "duration": 3,
    "start_time": "2022-04-10T12:24:33.155Z"
   },
   {
    "duration": 3,
    "start_time": "2022-04-10T12:26:13.955Z"
   },
   {
    "duration": 10,
    "start_time": "2022-04-10T12:28:43.113Z"
   },
   {
    "duration": 5,
    "start_time": "2022-04-10T12:29:13.074Z"
   },
   {
    "duration": 6,
    "start_time": "2022-04-10T12:29:52.067Z"
   },
   {
    "duration": 6,
    "start_time": "2022-04-10T12:31:56.509Z"
   },
   {
    "duration": 5,
    "start_time": "2022-04-10T12:32:55.833Z"
   },
   {
    "duration": 4,
    "start_time": "2022-04-10T12:43:37.734Z"
   },
   {
    "duration": 5,
    "start_time": "2022-04-10T12:50:25.990Z"
   },
   {
    "duration": 5,
    "start_time": "2022-04-10T13:00:43.149Z"
   },
   {
    "duration": 139,
    "start_time": "2022-04-10T15:26:04.378Z"
   },
   {
    "duration": 139,
    "start_time": "2022-04-10T15:26:13.067Z"
   },
   {
    "duration": 153,
    "start_time": "2022-04-10T15:30:25.022Z"
   },
   {
    "duration": 4,
    "start_time": "2022-04-10T15:30:51.942Z"
   },
   {
    "duration": 1408,
    "start_time": "2022-04-10T15:31:34.339Z"
   },
   {
    "duration": 2207,
    "start_time": "2022-04-11T17:08:22.924Z"
   },
   {
    "duration": 258,
    "start_time": "2022-04-11T17:08:25.134Z"
   },
   {
    "duration": 28,
    "start_time": "2022-04-11T17:08:25.395Z"
   },
   {
    "duration": 27,
    "start_time": "2022-04-11T17:08:25.427Z"
   },
   {
    "duration": 97,
    "start_time": "2022-04-11T17:08:25.458Z"
   },
   {
    "duration": 134,
    "start_time": "2022-04-11T17:08:25.557Z"
   },
   {
    "duration": 32,
    "start_time": "2022-04-11T17:08:25.694Z"
   },
   {
    "duration": 38,
    "start_time": "2022-04-11T17:08:25.729Z"
   },
   {
    "duration": 217,
    "start_time": "2022-04-11T17:08:25.769Z"
   },
   {
    "duration": 14,
    "start_time": "2022-04-11T17:08:25.991Z"
   },
   {
    "duration": 54,
    "start_time": "2022-04-11T17:08:26.008Z"
   },
   {
    "duration": 106,
    "start_time": "2022-04-11T17:08:26.065Z"
   },
   {
    "duration": 20,
    "start_time": "2022-04-11T17:08:26.173Z"
   },
   {
    "duration": 176,
    "start_time": "2022-04-11T17:08:26.196Z"
   },
   {
    "duration": 13,
    "start_time": "2022-04-11T17:08:26.374Z"
   },
   {
    "duration": 30,
    "start_time": "2022-04-11T17:08:26.389Z"
   },
   {
    "duration": 90,
    "start_time": "2022-04-11T17:08:26.422Z"
   },
   {
    "duration": 46,
    "start_time": "2022-04-11T17:08:26.514Z"
   },
   {
    "duration": 19,
    "start_time": "2022-04-11T17:08:26.563Z"
   },
   {
    "duration": 11,
    "start_time": "2022-04-11T17:08:26.585Z"
   },
   {
    "duration": 10,
    "start_time": "2022-04-11T17:08:26.598Z"
   },
   {
    "duration": 37,
    "start_time": "2022-04-11T17:08:26.611Z"
   },
   {
    "duration": 72,
    "start_time": "2022-04-11T17:08:26.653Z"
   },
   {
    "duration": 5,
    "start_time": "2022-04-11T17:08:26.727Z"
   },
   {
    "duration": 35,
    "start_time": "2022-04-11T17:08:26.735Z"
   },
   {
    "duration": 170,
    "start_time": "2022-04-11T17:08:26.773Z"
   },
   {
    "duration": 12,
    "start_time": "2022-04-11T17:08:26.949Z"
   },
   {
    "duration": 24,
    "start_time": "2022-04-11T17:08:26.968Z"
   },
   {
    "duration": 14,
    "start_time": "2022-04-11T17:08:26.994Z"
   },
   {
    "duration": 28,
    "start_time": "2022-04-11T17:08:27.010Z"
   },
   {
    "duration": 63,
    "start_time": "2022-04-11T17:08:27.040Z"
   },
   {
    "duration": 89,
    "start_time": "2022-04-11T17:08:27.105Z"
   },
   {
    "duration": 6,
    "start_time": "2022-04-11T17:08:27.196Z"
   },
   {
    "duration": 21,
    "start_time": "2022-04-11T17:08:27.205Z"
   },
   {
    "duration": 132,
    "start_time": "2022-04-11T17:08:27.229Z"
   },
   {
    "duration": 101,
    "start_time": "2022-04-11T17:08:27.367Z"
   },
   {
    "duration": 11,
    "start_time": "2022-04-11T17:08:27.471Z"
   },
   {
    "duration": 7,
    "start_time": "2022-04-11T17:08:27.486Z"
   },
   {
    "duration": 21,
    "start_time": "2022-04-11T17:08:27.496Z"
   },
   {
    "duration": 8,
    "start_time": "2022-04-11T17:08:27.520Z"
   },
   {
    "duration": 59,
    "start_time": "2022-04-11T17:08:27.548Z"
   },
   {
    "duration": 20,
    "start_time": "2022-04-11T17:08:27.610Z"
   },
   {
    "duration": 9,
    "start_time": "2022-04-11T17:08:27.632Z"
   },
   {
    "duration": 44,
    "start_time": "2022-04-11T17:08:27.648Z"
   },
   {
    "duration": 108,
    "start_time": "2022-04-11T17:08:27.750Z"
   },
   {
    "duration": 9,
    "start_time": "2022-04-11T17:08:27.864Z"
   },
   {
    "duration": 7,
    "start_time": "2022-04-11T17:08:27.876Z"
   },
   {
    "duration": 7,
    "start_time": "2022-04-11T17:08:27.885Z"
   },
   {
    "duration": 6,
    "start_time": "2022-04-11T17:08:27.894Z"
   },
   {
    "duration": 49,
    "start_time": "2022-04-11T17:08:27.902Z"
   },
   {
    "duration": 20,
    "start_time": "2022-04-11T17:08:27.954Z"
   },
   {
    "duration": 16,
    "start_time": "2022-04-11T17:08:27.976Z"
   },
   {
    "duration": 6,
    "start_time": "2022-04-11T17:08:27.996Z"
   },
   {
    "duration": 7,
    "start_time": "2022-04-11T17:08:28.004Z"
   },
   {
    "duration": 234,
    "start_time": "2022-04-11T17:08:28.014Z"
   },
   {
    "duration": 213,
    "start_time": "2022-04-11T17:08:35.533Z"
   },
   {
    "duration": 20,
    "start_time": "2022-04-11T17:09:10.746Z"
   },
   {
    "duration": 15,
    "start_time": "2022-04-11T17:09:20.058Z"
   },
   {
    "duration": 15,
    "start_time": "2022-04-11T17:11:02.911Z"
   },
   {
    "duration": 5,
    "start_time": "2022-04-11T17:11:22.132Z"
   },
   {
    "duration": 4,
    "start_time": "2022-04-11T17:11:26.209Z"
   },
   {
    "duration": 11,
    "start_time": "2022-04-11T17:11:47.528Z"
   },
   {
    "duration": 234,
    "start_time": "2022-04-11T17:13:37.842Z"
   },
   {
    "duration": 15,
    "start_time": "2022-04-11T17:13:43.713Z"
   },
   {
    "duration": 22,
    "start_time": "2022-04-11T17:19:08.141Z"
   },
   {
    "duration": 13,
    "start_time": "2022-04-11T17:22:03.006Z"
   },
   {
    "duration": 5,
    "start_time": "2022-04-11T17:23:02.629Z"
   },
   {
    "duration": 6,
    "start_time": "2022-04-11T17:23:16.237Z"
   },
   {
    "duration": 5,
    "start_time": "2022-04-11T17:24:43.670Z"
   },
   {
    "duration": 32,
    "start_time": "2022-04-11T17:27:35.400Z"
   },
   {
    "duration": 3709,
    "start_time": "2022-04-11T17:49:55.435Z"
   },
   {
    "duration": 3310,
    "start_time": "2022-04-11T17:50:21.467Z"
   },
   {
    "duration": 3,
    "start_time": "2022-04-11T17:51:34.926Z"
   },
   {
    "duration": 3200,
    "start_time": "2022-04-11T17:51:41.930Z"
   },
   {
    "duration": 5,
    "start_time": "2022-04-11T17:51:49.872Z"
   },
   {
    "duration": 828,
    "start_time": "2022-04-11T17:51:49.881Z"
   },
   {
    "duration": 13,
    "start_time": "2022-04-11T17:51:50.711Z"
   },
   {
    "duration": 29,
    "start_time": "2022-04-11T17:51:50.727Z"
   },
   {
    "duration": 98,
    "start_time": "2022-04-11T17:51:50.759Z"
   },
   {
    "duration": 86,
    "start_time": "2022-04-11T17:51:50.860Z"
   },
   {
    "duration": 21,
    "start_time": "2022-04-11T17:51:50.948Z"
   },
   {
    "duration": 20,
    "start_time": "2022-04-11T17:51:50.972Z"
   },
   {
    "duration": 913,
    "start_time": "2022-04-11T17:51:50.995Z"
   },
   {
    "duration": 13,
    "start_time": "2022-04-11T17:51:51.911Z"
   },
   {
    "duration": 33,
    "start_time": "2022-04-11T17:51:51.927Z"
   },
   {
    "duration": 98,
    "start_time": "2022-04-11T17:51:51.962Z"
   },
   {
    "duration": 18,
    "start_time": "2022-04-11T17:51:52.064Z"
   },
   {
    "duration": 2747,
    "start_time": "2022-04-11T17:51:52.084Z"
   },
   {
    "duration": 13,
    "start_time": "2022-04-11T17:51:54.834Z"
   },
   {
    "duration": 22,
    "start_time": "2022-04-11T17:51:54.849Z"
   },
   {
    "duration": 98,
    "start_time": "2022-04-11T17:51:54.874Z"
   },
   {
    "duration": 20,
    "start_time": "2022-04-11T17:51:54.975Z"
   },
   {
    "duration": 4,
    "start_time": "2022-04-11T17:51:54.997Z"
   },
   {
    "duration": 13,
    "start_time": "2022-04-11T17:51:55.003Z"
   },
   {
    "duration": 9,
    "start_time": "2022-04-11T17:51:55.042Z"
   },
   {
    "duration": 7,
    "start_time": "2022-04-11T17:51:55.054Z"
   },
   {
    "duration": 33,
    "start_time": "2022-04-11T17:51:55.063Z"
   },
   {
    "duration": 4,
    "start_time": "2022-04-11T17:51:55.099Z"
   },
   {
    "duration": 41,
    "start_time": "2022-04-11T17:51:55.106Z"
   },
   {
    "duration": 3443,
    "start_time": "2022-04-11T17:51:55.151Z"
   },
   {
    "duration": 5,
    "start_time": "2022-04-11T17:55:19.255Z"
   },
   {
    "duration": 195,
    "start_time": "2022-04-11T17:55:19.263Z"
   },
   {
    "duration": 14,
    "start_time": "2022-04-11T17:55:19.460Z"
   },
   {
    "duration": 25,
    "start_time": "2022-04-11T17:55:19.476Z"
   },
   {
    "duration": 118,
    "start_time": "2022-04-11T17:55:19.504Z"
   },
   {
    "duration": 109,
    "start_time": "2022-04-11T17:55:19.624Z"
   },
   {
    "duration": 22,
    "start_time": "2022-04-11T17:55:19.743Z"
   },
   {
    "duration": 24,
    "start_time": "2022-04-11T17:55:19.768Z"
   },
   {
    "duration": 173,
    "start_time": "2022-04-11T17:55:19.794Z"
   },
   {
    "duration": 14,
    "start_time": "2022-04-11T17:55:19.969Z"
   },
   {
    "duration": 32,
    "start_time": "2022-04-11T17:55:19.985Z"
   },
   {
    "duration": 90,
    "start_time": "2022-04-11T17:55:20.020Z"
   },
   {
    "duration": 35,
    "start_time": "2022-04-11T17:55:20.115Z"
   },
   {
    "duration": 1640,
    "start_time": "2022-04-11T17:55:20.152Z"
   },
   {
    "duration": 13,
    "start_time": "2022-04-11T17:55:21.794Z"
   },
   {
    "duration": 42,
    "start_time": "2022-04-11T17:55:21.810Z"
   },
   {
    "duration": 88,
    "start_time": "2022-04-11T17:55:21.856Z"
   },
   {
    "duration": 18,
    "start_time": "2022-04-11T17:55:21.948Z"
   },
   {
    "duration": 4,
    "start_time": "2022-04-11T17:55:21.969Z"
   },
   {
    "duration": 9,
    "start_time": "2022-04-11T17:55:21.975Z"
   },
   {
    "duration": 7,
    "start_time": "2022-04-11T17:55:21.988Z"
   },
   {
    "duration": 47,
    "start_time": "2022-04-11T17:55:21.998Z"
   },
   {
    "duration": 16,
    "start_time": "2022-04-11T17:55:22.048Z"
   },
   {
    "duration": 19,
    "start_time": "2022-04-11T17:55:22.067Z"
   },
   {
    "duration": 12,
    "start_time": "2022-04-11T17:55:22.089Z"
   },
   {
    "duration": 46,
    "start_time": "2022-04-11T17:55:22.104Z"
   },
   {
    "duration": 5,
    "start_time": "2022-04-11T17:55:22.153Z"
   },
   {
    "duration": 11,
    "start_time": "2022-04-11T17:55:22.160Z"
   },
   {
    "duration": 72,
    "start_time": "2022-04-11T17:55:22.173Z"
   },
   {
    "duration": 11,
    "start_time": "2022-04-11T17:55:22.248Z"
   },
   {
    "duration": 11,
    "start_time": "2022-04-11T17:55:22.344Z"
   },
   {
    "duration": 10,
    "start_time": "2022-04-11T17:55:22.358Z"
   },
   {
    "duration": 12,
    "start_time": "2022-04-11T17:55:22.371Z"
   },
   {
    "duration": 9,
    "start_time": "2022-04-11T17:55:22.386Z"
   },
   {
    "duration": 56,
    "start_time": "2022-04-11T17:55:22.398Z"
   },
   {
    "duration": 5,
    "start_time": "2022-04-11T17:55:22.456Z"
   },
   {
    "duration": 12,
    "start_time": "2022-04-11T17:55:22.468Z"
   },
   {
    "duration": 163,
    "start_time": "2022-04-11T17:55:22.488Z"
   },
   {
    "duration": 8,
    "start_time": "2022-04-11T17:55:22.654Z"
   },
   {
    "duration": 13,
    "start_time": "2022-04-11T17:55:22.664Z"
   },
   {
    "duration": 67,
    "start_time": "2022-04-11T17:55:22.680Z"
   },
   {
    "duration": 8,
    "start_time": "2022-04-11T17:55:22.749Z"
   },
   {
    "duration": 9,
    "start_time": "2022-04-11T17:55:22.759Z"
   },
   {
    "duration": 20,
    "start_time": "2022-04-11T17:55:22.770Z"
   },
   {
    "duration": 6,
    "start_time": "2022-04-11T17:55:22.793Z"
   },
   {
    "duration": 5,
    "start_time": "2022-04-11T17:55:22.844Z"
   },
   {
    "duration": 105,
    "start_time": "2022-04-11T17:55:22.852Z"
   },
   {
    "duration": 85,
    "start_time": "2022-04-11T17:55:22.960Z"
   },
   {
    "duration": 10,
    "start_time": "2022-04-11T17:55:23.047Z"
   },
   {
    "duration": 7,
    "start_time": "2022-04-11T17:55:23.059Z"
   },
   {
    "duration": 10,
    "start_time": "2022-04-11T17:55:23.068Z"
   },
   {
    "duration": 4,
    "start_time": "2022-04-11T17:55:23.080Z"
   },
   {
    "duration": 58,
    "start_time": "2022-04-11T17:55:23.087Z"
   },
   {
    "duration": 13,
    "start_time": "2022-04-11T17:55:23.147Z"
   },
   {
    "duration": 8,
    "start_time": "2022-04-11T17:55:23.162Z"
   },
   {
    "duration": 33,
    "start_time": "2022-04-11T17:55:23.173Z"
   },
   {
    "duration": 0,
    "start_time": "2022-04-11T17:55:23.242Z"
   },
   {
    "duration": 0,
    "start_time": "2022-04-11T17:55:23.244Z"
   },
   {
    "duration": 0,
    "start_time": "2022-04-11T17:55:23.246Z"
   },
   {
    "duration": 0,
    "start_time": "2022-04-11T17:55:23.248Z"
   },
   {
    "duration": 0,
    "start_time": "2022-04-11T17:55:23.249Z"
   },
   {
    "duration": 17,
    "start_time": "2022-04-11T17:57:48.784Z"
   },
   {
    "duration": 22,
    "start_time": "2022-04-11T17:58:41.817Z"
   },
   {
    "duration": 44,
    "start_time": "2022-04-11T17:59:14.561Z"
   },
   {
    "duration": 22,
    "start_time": "2022-04-11T18:00:33.674Z"
   },
   {
    "duration": 33,
    "start_time": "2022-04-11T18:01:27.066Z"
   },
   {
    "duration": 34,
    "start_time": "2022-04-11T18:02:10.609Z"
   },
   {
    "duration": 31,
    "start_time": "2022-04-11T18:02:23.309Z"
   },
   {
    "duration": 5,
    "start_time": "2022-04-11T18:03:29.419Z"
   },
   {
    "duration": 29,
    "start_time": "2022-04-11T18:03:37.770Z"
   },
   {
    "duration": 13,
    "start_time": "2022-04-11T18:05:15.055Z"
   },
   {
    "duration": 7,
    "start_time": "2022-04-11T18:05:23.274Z"
   },
   {
    "duration": 7,
    "start_time": "2022-04-11T18:05:33.926Z"
   },
   {
    "duration": 7,
    "start_time": "2022-04-11T18:08:36.119Z"
   },
   {
    "duration": 4,
    "start_time": "2022-04-11T18:11:39.462Z"
   },
   {
    "duration": 22,
    "start_time": "2022-04-11T18:11:43.761Z"
   },
   {
    "duration": 23,
    "start_time": "2022-04-11T18:13:34.940Z"
   },
   {
    "duration": 4,
    "start_time": "2022-04-11T18:15:03.687Z"
   },
   {
    "duration": 4,
    "start_time": "2022-04-11T18:15:06.527Z"
   },
   {
    "duration": 22,
    "start_time": "2022-04-11T18:15:09.231Z"
   },
   {
    "duration": 25,
    "start_time": "2022-04-11T18:15:21.861Z"
   },
   {
    "duration": 6,
    "start_time": "2022-04-11T18:16:56.681Z"
   },
   {
    "duration": 27,
    "start_time": "2022-04-11T18:17:00.620Z"
   },
   {
    "duration": 21,
    "start_time": "2022-04-11T18:17:37.274Z"
   },
   {
    "duration": 144,
    "start_time": "2022-04-11T18:17:43.033Z"
   },
   {
    "duration": 5,
    "start_time": "2022-04-11T18:18:03.175Z"
   },
   {
    "duration": 147,
    "start_time": "2022-04-11T18:18:06.341Z"
   },
   {
    "duration": 24,
    "start_time": "2022-04-11T18:18:11.705Z"
   },
   {
    "duration": 22,
    "start_time": "2022-04-11T18:18:45.438Z"
   },
   {
    "duration": 141,
    "start_time": "2022-04-11T18:22:29.066Z"
   },
   {
    "duration": 21,
    "start_time": "2022-04-11T18:26:17.633Z"
   },
   {
    "duration": 16,
    "start_time": "2022-04-11T18:38:39.908Z"
   },
   {
    "duration": 24,
    "start_time": "2022-04-11T19:26:10.945Z"
   },
   {
    "duration": 155,
    "start_time": "2022-04-11T19:38:44.302Z"
   },
   {
    "duration": 24,
    "start_time": "2022-04-11T19:39:52.007Z"
   },
   {
    "duration": 20,
    "start_time": "2022-04-11T19:59:56.711Z"
   },
   {
    "duration": 24,
    "start_time": "2022-04-11T20:00:10.500Z"
   },
   {
    "duration": 15,
    "start_time": "2022-04-11T20:00:19.641Z"
   },
   {
    "duration": 202,
    "start_time": "2022-04-11T20:02:20.620Z"
   },
   {
    "duration": 12,
    "start_time": "2022-04-11T20:02:26.952Z"
   },
   {
    "duration": 13,
    "start_time": "2022-04-11T20:02:38.725Z"
   },
   {
    "duration": 15,
    "start_time": "2022-04-11T20:07:06.428Z"
   },
   {
    "duration": 13,
    "start_time": "2022-04-11T20:11:09.444Z"
   },
   {
    "duration": 4,
    "start_time": "2022-04-11T20:12:28.577Z"
   },
   {
    "duration": 188,
    "start_time": "2022-04-11T20:12:28.585Z"
   },
   {
    "duration": 12,
    "start_time": "2022-04-11T20:12:28.776Z"
   },
   {
    "duration": 28,
    "start_time": "2022-04-11T20:12:28.790Z"
   },
   {
    "duration": 76,
    "start_time": "2022-04-11T20:12:28.842Z"
   },
   {
    "duration": 84,
    "start_time": "2022-04-11T20:12:28.920Z"
   },
   {
    "duration": 54,
    "start_time": "2022-04-11T20:12:29.007Z"
   },
   {
    "duration": 22,
    "start_time": "2022-04-11T20:12:29.063Z"
   },
   {
    "duration": 154,
    "start_time": "2022-04-11T20:12:29.088Z"
   },
   {
    "duration": 13,
    "start_time": "2022-04-11T20:12:29.244Z"
   },
   {
    "duration": 28,
    "start_time": "2022-04-11T20:12:29.260Z"
   },
   {
    "duration": 106,
    "start_time": "2022-04-11T20:12:29.293Z"
   },
   {
    "duration": 21,
    "start_time": "2022-04-11T20:12:29.402Z"
   },
   {
    "duration": 153,
    "start_time": "2022-04-11T20:12:29.445Z"
   },
   {
    "duration": 13,
    "start_time": "2022-04-11T20:12:29.600Z"
   },
   {
    "duration": 38,
    "start_time": "2022-04-11T20:12:29.616Z"
   },
   {
    "duration": 109,
    "start_time": "2022-04-11T20:12:29.656Z"
   },
   {
    "duration": 28,
    "start_time": "2022-04-11T20:12:29.767Z"
   },
   {
    "duration": 4,
    "start_time": "2022-04-11T20:12:29.797Z"
   },
   {
    "duration": 14,
    "start_time": "2022-04-11T20:12:29.804Z"
   },
   {
    "duration": 24,
    "start_time": "2022-04-11T20:12:29.821Z"
   },
   {
    "duration": 10,
    "start_time": "2022-04-11T20:12:29.848Z"
   },
   {
    "duration": 8,
    "start_time": "2022-04-11T20:12:29.860Z"
   },
   {
    "duration": 8,
    "start_time": "2022-04-11T20:12:29.871Z"
   },
   {
    "duration": 11,
    "start_time": "2022-04-11T20:12:29.881Z"
   },
   {
    "duration": 65,
    "start_time": "2022-04-11T20:12:29.894Z"
   },
   {
    "duration": 6,
    "start_time": "2022-04-11T20:12:29.962Z"
   },
   {
    "duration": 11,
    "start_time": "2022-04-11T20:12:29.970Z"
   },
   {
    "duration": 74,
    "start_time": "2022-04-11T20:12:29.984Z"
   },
   {
    "duration": 8,
    "start_time": "2022-04-11T20:12:30.143Z"
   },
   {
    "duration": 18,
    "start_time": "2022-04-11T20:12:30.154Z"
   },
   {
    "duration": 71,
    "start_time": "2022-04-11T20:12:30.176Z"
   },
   {
    "duration": 8,
    "start_time": "2022-04-11T20:12:30.249Z"
   },
   {
    "duration": 14,
    "start_time": "2022-04-11T20:12:30.260Z"
   },
   {
    "duration": 29,
    "start_time": "2022-04-11T20:12:30.277Z"
   },
   {
    "duration": 35,
    "start_time": "2022-04-11T20:12:30.309Z"
   },
   {
    "duration": 15,
    "start_time": "2022-04-11T20:12:30.346Z"
   },
   {
    "duration": 180,
    "start_time": "2022-04-11T20:12:30.363Z"
   },
   {
    "duration": 7,
    "start_time": "2022-04-11T20:12:30.547Z"
   },
   {
    "duration": 11,
    "start_time": "2022-04-11T20:12:30.557Z"
   },
   {
    "duration": 9,
    "start_time": "2022-04-11T20:12:30.576Z"
   },
   {
    "duration": 25,
    "start_time": "2022-04-11T20:12:30.588Z"
   },
   {
    "duration": 7,
    "start_time": "2022-04-11T20:12:30.644Z"
   },
   {
    "duration": 34,
    "start_time": "2022-04-11T20:12:30.654Z"
   },
   {
    "duration": 4,
    "start_time": "2022-04-11T20:12:30.691Z"
   },
   {
    "duration": 25,
    "start_time": "2022-04-11T20:12:30.698Z"
   },
   {
    "duration": 48,
    "start_time": "2022-04-11T20:12:30.726Z"
   },
   {
    "duration": 100,
    "start_time": "2022-04-11T20:12:30.845Z"
   },
   {
    "duration": 24,
    "start_time": "2022-04-11T20:12:30.948Z"
   },
   {
    "duration": 13,
    "start_time": "2022-04-11T20:12:30.974Z"
   },
   {
    "duration": 27,
    "start_time": "2022-04-11T20:12:30.991Z"
   },
   {
    "duration": 29,
    "start_time": "2022-04-11T20:12:31.021Z"
   },
   {
    "duration": 23,
    "start_time": "2022-04-11T20:12:31.052Z"
   },
   {
    "duration": 32,
    "start_time": "2022-04-11T20:12:31.078Z"
   },
   {
    "duration": 14,
    "start_time": "2022-04-11T20:12:31.113Z"
   },
   {
    "duration": 39,
    "start_time": "2022-04-11T20:12:31.130Z"
   },
   {
    "duration": 0,
    "start_time": "2022-04-11T20:12:31.172Z"
   },
   {
    "duration": 0,
    "start_time": "2022-04-11T20:12:31.174Z"
   },
   {
    "duration": 0,
    "start_time": "2022-04-11T20:12:31.176Z"
   },
   {
    "duration": 0,
    "start_time": "2022-04-11T20:12:31.179Z"
   },
   {
    "duration": 0,
    "start_time": "2022-04-11T20:12:31.181Z"
   },
   {
    "duration": 0,
    "start_time": "2022-04-11T20:12:31.182Z"
   },
   {
    "duration": 9,
    "start_time": "2022-04-11T20:13:08.470Z"
   },
   {
    "duration": 3294,
    "start_time": "2022-04-11T20:13:42.894Z"
   },
   {
    "duration": 10,
    "start_time": "2022-04-11T20:14:00.018Z"
   },
   {
    "duration": 12,
    "start_time": "2022-04-11T20:14:15.971Z"
   },
   {
    "duration": 13,
    "start_time": "2022-04-11T20:15:36.639Z"
   },
   {
    "duration": 14,
    "start_time": "2022-04-11T20:16:04.494Z"
   },
   {
    "duration": 4,
    "start_time": "2022-04-11T20:17:17.696Z"
   },
   {
    "duration": 188,
    "start_time": "2022-04-11T20:17:17.703Z"
   },
   {
    "duration": 14,
    "start_time": "2022-04-11T20:17:17.893Z"
   },
   {
    "duration": 58,
    "start_time": "2022-04-11T20:17:17.911Z"
   },
   {
    "duration": 90,
    "start_time": "2022-04-11T20:17:17.971Z"
   },
   {
    "duration": 104,
    "start_time": "2022-04-11T20:17:18.063Z"
   },
   {
    "duration": 23,
    "start_time": "2022-04-11T20:17:18.170Z"
   },
   {
    "duration": 39,
    "start_time": "2022-04-11T20:17:18.196Z"
   },
   {
    "duration": 166,
    "start_time": "2022-04-11T20:17:18.238Z"
   },
   {
    "duration": 13,
    "start_time": "2022-04-11T20:17:18.408Z"
   },
   {
    "duration": 42,
    "start_time": "2022-04-11T20:17:18.423Z"
   },
   {
    "duration": 99,
    "start_time": "2022-04-11T20:17:18.468Z"
   },
   {
    "duration": 21,
    "start_time": "2022-04-11T20:17:18.569Z"
   },
   {
    "duration": 185,
    "start_time": "2022-04-11T20:17:18.593Z"
   },
   {
    "duration": 16,
    "start_time": "2022-04-11T20:17:18.780Z"
   },
   {
    "duration": 47,
    "start_time": "2022-04-11T20:17:18.804Z"
   },
   {
    "duration": 101,
    "start_time": "2022-04-11T20:17:18.854Z"
   },
   {
    "duration": 27,
    "start_time": "2022-04-11T20:17:18.958Z"
   },
   {
    "duration": 9,
    "start_time": "2022-04-11T20:17:18.988Z"
   },
   {
    "duration": 45,
    "start_time": "2022-04-11T20:17:19.000Z"
   },
   {
    "duration": 12,
    "start_time": "2022-04-11T20:17:19.048Z"
   },
   {
    "duration": 9,
    "start_time": "2022-04-11T20:17:19.063Z"
   },
   {
    "duration": 11,
    "start_time": "2022-04-11T20:17:19.074Z"
   },
   {
    "duration": 6,
    "start_time": "2022-04-11T20:17:19.087Z"
   },
   {
    "duration": 11,
    "start_time": "2022-04-11T20:17:19.096Z"
   },
   {
    "duration": 80,
    "start_time": "2022-04-11T20:17:19.109Z"
   },
   {
    "duration": 5,
    "start_time": "2022-04-11T20:17:19.192Z"
   },
   {
    "duration": 5,
    "start_time": "2022-04-11T20:17:19.203Z"
   },
   {
    "duration": 52,
    "start_time": "2022-04-11T20:17:19.210Z"
   },
   {
    "duration": 98,
    "start_time": "2022-04-11T20:17:19.265Z"
   },
   {
    "duration": 29,
    "start_time": "2022-04-11T20:17:19.444Z"
   },
   {
    "duration": 12,
    "start_time": "2022-04-11T20:17:19.475Z"
   },
   {
    "duration": 11,
    "start_time": "2022-04-11T20:17:19.489Z"
   },
   {
    "duration": 7,
    "start_time": "2022-04-11T20:17:19.502Z"
   },
   {
    "duration": 82,
    "start_time": "2022-04-11T20:17:19.511Z"
   },
   {
    "duration": 8,
    "start_time": "2022-04-11T20:17:19.596Z"
   },
   {
    "duration": 5,
    "start_time": "2022-04-11T20:17:19.606Z"
   },
   {
    "duration": 48,
    "start_time": "2022-04-11T20:17:19.614Z"
   },
   {
    "duration": 90,
    "start_time": "2022-04-11T20:17:19.666Z"
   },
   {
    "duration": 109,
    "start_time": "2022-04-11T20:17:19.759Z"
   },
   {
    "duration": 9,
    "start_time": "2022-04-11T20:17:19.872Z"
   },
   {
    "duration": 9,
    "start_time": "2022-04-11T20:17:19.883Z"
   },
   {
    "duration": 9,
    "start_time": "2022-04-11T20:17:19.894Z"
   },
   {
    "duration": 110,
    "start_time": "2022-04-11T20:17:19.906Z"
   },
   {
    "duration": 5,
    "start_time": "2022-04-11T20:17:20.019Z"
   },
   {
    "duration": 16,
    "start_time": "2022-04-11T20:17:20.027Z"
   },
   {
    "duration": 40,
    "start_time": "2022-04-11T20:17:20.049Z"
   },
   {
    "duration": 116,
    "start_time": "2022-04-11T20:17:20.145Z"
   },
   {
    "duration": 11,
    "start_time": "2022-04-11T20:17:20.265Z"
   },
   {
    "duration": 7,
    "start_time": "2022-04-11T20:17:20.278Z"
   },
   {
    "duration": 7,
    "start_time": "2022-04-11T20:17:20.288Z"
   },
   {
    "duration": 9,
    "start_time": "2022-04-11T20:17:20.298Z"
   },
   {
    "duration": 36,
    "start_time": "2022-04-11T20:17:20.309Z"
   },
   {
    "duration": 26,
    "start_time": "2022-04-11T20:17:20.348Z"
   },
   {
    "duration": 7,
    "start_time": "2022-04-11T20:17:20.378Z"
   },
   {
    "duration": 17,
    "start_time": "2022-04-11T20:17:20.387Z"
   },
   {
    "duration": 5,
    "start_time": "2022-04-11T20:18:48.075Z"
   },
   {
    "duration": 201,
    "start_time": "2022-04-11T20:18:48.083Z"
   },
   {
    "duration": 13,
    "start_time": "2022-04-11T20:18:48.289Z"
   },
   {
    "duration": 46,
    "start_time": "2022-04-11T20:18:48.305Z"
   },
   {
    "duration": 74,
    "start_time": "2022-04-11T20:18:48.354Z"
   },
   {
    "duration": 68,
    "start_time": "2022-04-11T20:18:48.443Z"
   },
   {
    "duration": 44,
    "start_time": "2022-04-11T20:18:48.514Z"
   },
   {
    "duration": 28,
    "start_time": "2022-04-11T20:18:48.571Z"
   },
   {
    "duration": 235,
    "start_time": "2022-04-11T20:18:48.603Z"
   },
   {
    "duration": 17,
    "start_time": "2022-04-11T20:18:48.846Z"
   },
   {
    "duration": 25,
    "start_time": "2022-04-11T20:18:48.865Z"
   },
   {
    "duration": 97,
    "start_time": "2022-04-11T20:18:48.892Z"
   },
   {
    "duration": 19,
    "start_time": "2022-04-11T20:18:48.991Z"
   },
   {
    "duration": 163,
    "start_time": "2022-04-11T20:18:49.013Z"
   },
   {
    "duration": 13,
    "start_time": "2022-04-11T20:18:49.178Z"
   },
   {
    "duration": 21,
    "start_time": "2022-04-11T20:18:49.193Z"
   },
   {
    "duration": 101,
    "start_time": "2022-04-11T20:18:49.216Z"
   },
   {
    "duration": 39,
    "start_time": "2022-04-11T20:18:49.320Z"
   },
   {
    "duration": 4,
    "start_time": "2022-04-11T20:18:49.361Z"
   },
   {
    "duration": 25,
    "start_time": "2022-04-11T20:18:49.368Z"
   },
   {
    "duration": 24,
    "start_time": "2022-04-11T20:18:49.396Z"
   },
   {
    "duration": 19,
    "start_time": "2022-04-11T20:18:49.422Z"
   },
   {
    "duration": 20,
    "start_time": "2022-04-11T20:18:49.443Z"
   },
   {
    "duration": 16,
    "start_time": "2022-04-11T20:18:49.465Z"
   },
   {
    "duration": 27,
    "start_time": "2022-04-11T20:18:49.483Z"
   },
   {
    "duration": 28,
    "start_time": "2022-04-11T20:18:49.512Z"
   },
   {
    "duration": 17,
    "start_time": "2022-04-11T20:18:49.542Z"
   },
   {
    "duration": 11,
    "start_time": "2022-04-11T20:18:49.565Z"
   },
   {
    "duration": 65,
    "start_time": "2022-04-11T20:18:49.579Z"
   },
   {
    "duration": 113,
    "start_time": "2022-04-11T20:18:49.648Z"
   },
   {
    "duration": 25,
    "start_time": "2022-04-11T20:18:49.764Z"
   },
   {
    "duration": 19,
    "start_time": "2022-04-11T20:18:49.792Z"
   },
   {
    "duration": 30,
    "start_time": "2022-04-11T20:18:49.814Z"
   },
   {
    "duration": 6,
    "start_time": "2022-04-11T20:18:49.846Z"
   },
   {
    "duration": 33,
    "start_time": "2022-04-11T20:18:49.855Z"
   },
   {
    "duration": 6,
    "start_time": "2022-04-11T20:18:49.890Z"
   },
   {
    "duration": 24,
    "start_time": "2022-04-11T20:18:49.899Z"
   },
   {
    "duration": 117,
    "start_time": "2022-04-11T20:18:49.926Z"
   },
   {
    "duration": 9,
    "start_time": "2022-04-11T20:18:50.046Z"
   },
   {
    "duration": 109,
    "start_time": "2022-04-11T20:18:50.058Z"
   },
   {
    "duration": 17,
    "start_time": "2022-04-11T20:18:50.170Z"
   },
   {
    "duration": 12,
    "start_time": "2022-04-11T20:18:50.190Z"
   },
   {
    "duration": 31,
    "start_time": "2022-04-11T20:18:50.205Z"
   },
   {
    "duration": 20,
    "start_time": "2022-04-11T20:18:50.238Z"
   },
   {
    "duration": 9,
    "start_time": "2022-04-11T20:18:50.260Z"
   },
   {
    "duration": 10,
    "start_time": "2022-04-11T20:18:50.272Z"
   },
   {
    "duration": 158,
    "start_time": "2022-04-11T20:18:50.284Z"
   },
   {
    "duration": 7,
    "start_time": "2022-04-11T20:18:50.445Z"
   },
   {
    "duration": 23,
    "start_time": "2022-04-11T20:18:50.454Z"
   },
   {
    "duration": 65,
    "start_time": "2022-04-11T20:18:50.479Z"
   },
   {
    "duration": 23,
    "start_time": "2022-04-11T20:18:50.548Z"
   },
   {
    "duration": 14,
    "start_time": "2022-04-11T20:18:50.574Z"
   },
   {
    "duration": 14,
    "start_time": "2022-04-11T20:18:50.590Z"
   },
   {
    "duration": 20,
    "start_time": "2022-04-11T20:18:50.606Z"
   },
   {
    "duration": 15,
    "start_time": "2022-04-11T20:18:50.629Z"
   },
   {
    "duration": 20,
    "start_time": "2022-04-11T20:18:50.647Z"
   },
   {
    "duration": 7,
    "start_time": "2022-04-11T20:18:50.669Z"
   },
   {
    "duration": 13,
    "start_time": "2022-04-11T20:18:50.679Z"
   },
   {
    "duration": 14,
    "start_time": "2022-04-11T20:18:50.695Z"
   },
   {
    "duration": 12,
    "start_time": "2022-04-11T20:18:50.712Z"
   },
   {
    "duration": 11,
    "start_time": "2022-04-11T20:18:50.727Z"
   },
   {
    "duration": 47,
    "start_time": "2022-04-11T20:18:50.742Z"
   },
   {
    "duration": 16,
    "start_time": "2022-04-11T20:24:06.386Z"
   },
   {
    "duration": 13,
    "start_time": "2022-04-11T20:24:28.069Z"
   },
   {
    "duration": 13,
    "start_time": "2022-04-11T20:24:51.567Z"
   },
   {
    "duration": 10,
    "start_time": "2022-04-11T20:25:04.669Z"
   },
   {
    "duration": 3721,
    "start_time": "2022-04-11T20:25:21.219Z"
   },
   {
    "duration": 15,
    "start_time": "2022-04-11T20:26:29.155Z"
   },
   {
    "duration": 4342,
    "start_time": "2022-04-11T20:27:05.489Z"
   },
   {
    "duration": 3915,
    "start_time": "2022-04-11T20:27:16.325Z"
   },
   {
    "duration": 3458,
    "start_time": "2022-04-11T20:27:27.380Z"
   },
   {
    "duration": 9,
    "start_time": "2022-04-11T20:27:42.366Z"
   },
   {
    "duration": 9,
    "start_time": "2022-04-11T20:28:07.505Z"
   },
   {
    "duration": 3549,
    "start_time": "2022-04-11T20:28:28.010Z"
   },
   {
    "duration": 3582,
    "start_time": "2022-04-11T20:28:42.129Z"
   },
   {
    "duration": 13,
    "start_time": "2022-04-11T20:28:58.277Z"
   },
   {
    "duration": 13,
    "start_time": "2022-04-11T20:29:10.637Z"
   },
   {
    "duration": 233,
    "start_time": "2022-04-11T20:30:04.361Z"
   },
   {
    "duration": 17,
    "start_time": "2022-04-11T20:30:15.954Z"
   },
   {
    "duration": 14,
    "start_time": "2022-04-11T20:30:56.866Z"
   },
   {
    "duration": 1232,
    "start_time": "2022-04-12T05:39:22.197Z"
   },
   {
    "duration": 132,
    "start_time": "2022-04-12T05:39:23.431Z"
   },
   {
    "duration": 18,
    "start_time": "2022-04-12T05:39:23.564Z"
   },
   {
    "duration": 20,
    "start_time": "2022-04-12T05:39:23.584Z"
   },
   {
    "duration": 50,
    "start_time": "2022-04-12T05:39:23.618Z"
   },
   {
    "duration": 74,
    "start_time": "2022-04-12T05:39:23.670Z"
   },
   {
    "duration": 19,
    "start_time": "2022-04-12T05:39:23.746Z"
   },
   {
    "duration": 17,
    "start_time": "2022-04-12T05:39:23.767Z"
   },
   {
    "duration": 138,
    "start_time": "2022-04-12T05:39:23.786Z"
   },
   {
    "duration": 9,
    "start_time": "2022-04-12T05:39:23.927Z"
   },
   {
    "duration": 20,
    "start_time": "2022-04-12T05:39:23.938Z"
   },
   {
    "duration": 68,
    "start_time": "2022-04-12T05:39:23.960Z"
   },
   {
    "duration": 15,
    "start_time": "2022-04-12T05:39:24.030Z"
   },
   {
    "duration": 136,
    "start_time": "2022-04-12T05:39:24.047Z"
   },
   {
    "duration": 11,
    "start_time": "2022-04-12T05:39:24.185Z"
   },
   {
    "duration": 32,
    "start_time": "2022-04-12T05:39:24.198Z"
   },
   {
    "duration": 52,
    "start_time": "2022-04-12T05:39:24.232Z"
   },
   {
    "duration": 38,
    "start_time": "2022-04-12T05:39:24.286Z"
   },
   {
    "duration": 4,
    "start_time": "2022-04-12T05:39:24.326Z"
   },
   {
    "duration": 8,
    "start_time": "2022-04-12T05:39:24.332Z"
   },
   {
    "duration": 8,
    "start_time": "2022-04-12T05:39:24.342Z"
   },
   {
    "duration": 9,
    "start_time": "2022-04-12T05:39:24.352Z"
   },
   {
    "duration": 10,
    "start_time": "2022-04-12T05:39:24.363Z"
   },
   {
    "duration": 12,
    "start_time": "2022-04-12T05:39:24.375Z"
   },
   {
    "duration": 16,
    "start_time": "2022-04-12T05:39:24.389Z"
   },
   {
    "duration": 22,
    "start_time": "2022-04-12T05:39:24.407Z"
   },
   {
    "duration": 4,
    "start_time": "2022-04-12T05:39:24.431Z"
   },
   {
    "duration": 13,
    "start_time": "2022-04-12T05:39:24.441Z"
   },
   {
    "duration": 66,
    "start_time": "2022-04-12T05:39:24.456Z"
   },
   {
    "duration": 93,
    "start_time": "2022-04-12T05:39:24.525Z"
   },
   {
    "duration": 7,
    "start_time": "2022-04-12T05:39:24.620Z"
   },
   {
    "duration": 9,
    "start_time": "2022-04-12T05:39:24.629Z"
   },
   {
    "duration": 23,
    "start_time": "2022-04-12T05:39:24.640Z"
   },
   {
    "duration": 9,
    "start_time": "2022-04-12T05:39:24.665Z"
   },
   {
    "duration": 19,
    "start_time": "2022-04-12T05:39:24.675Z"
   },
   {
    "duration": 8,
    "start_time": "2022-04-12T05:39:24.695Z"
   },
   {
    "duration": 17,
    "start_time": "2022-04-12T05:39:24.705Z"
   },
   {
    "duration": 26,
    "start_time": "2022-04-12T05:39:24.724Z"
   },
   {
    "duration": 6,
    "start_time": "2022-04-12T05:39:24.820Z"
   },
   {
    "duration": 107,
    "start_time": "2022-04-12T05:39:24.827Z"
   },
   {
    "duration": 10,
    "start_time": "2022-04-12T05:39:24.936Z"
   },
   {
    "duration": 22,
    "start_time": "2022-04-12T05:39:24.947Z"
   },
   {
    "duration": 8,
    "start_time": "2022-04-12T05:39:24.971Z"
   },
   {
    "duration": 19,
    "start_time": "2022-04-12T05:39:24.981Z"
   },
   {
    "duration": 3,
    "start_time": "2022-04-12T05:39:25.003Z"
   },
   {
    "duration": 11,
    "start_time": "2022-04-12T05:39:25.008Z"
   },
   {
    "duration": 33,
    "start_time": "2022-04-12T05:39:25.021Z"
   },
   {
    "duration": 6,
    "start_time": "2022-04-12T05:39:25.120Z"
   },
   {
    "duration": 11,
    "start_time": "2022-04-12T05:39:25.218Z"
   },
   {
    "duration": 19,
    "start_time": "2022-04-12T05:39:25.231Z"
   },
   {
    "duration": 9,
    "start_time": "2022-04-12T05:39:25.251Z"
   },
   {
    "duration": 8,
    "start_time": "2022-04-12T05:39:25.262Z"
   },
   {
    "duration": 9,
    "start_time": "2022-04-12T05:39:25.271Z"
   },
   {
    "duration": 18,
    "start_time": "2022-04-12T05:39:25.282Z"
   },
   {
    "duration": 16,
    "start_time": "2022-04-12T05:39:25.302Z"
   },
   {
    "duration": 25,
    "start_time": "2022-04-12T05:39:25.320Z"
   },
   {
    "duration": 10,
    "start_time": "2022-04-12T05:39:25.347Z"
   },
   {
    "duration": 14,
    "start_time": "2022-04-12T05:39:25.359Z"
   },
   {
    "duration": 13,
    "start_time": "2022-04-12T05:39:25.375Z"
   },
   {
    "duration": 14,
    "start_time": "2022-04-12T05:39:25.390Z"
   },
   {
    "duration": 12,
    "start_time": "2022-04-12T05:39:25.405Z"
   },
   {
    "duration": 85,
    "start_time": "2022-04-12T05:39:25.419Z"
   },
   {
    "duration": 97,
    "start_time": "2022-04-12T05:39:35.941Z"
   },
   {
    "duration": 19,
    "start_time": "2022-04-12T05:40:08.422Z"
   },
   {
    "duration": 4,
    "start_time": "2022-04-12T05:45:43.513Z"
   },
   {
    "duration": 16,
    "start_time": "2022-04-12T05:45:56.720Z"
   },
   {
    "duration": 4,
    "start_time": "2022-04-12T05:46:03.142Z"
   },
   {
    "duration": 15,
    "start_time": "2022-04-12T05:46:08.751Z"
   },
   {
    "duration": 15,
    "start_time": "2022-04-12T05:46:28.764Z"
   },
   {
    "duration": 143,
    "start_time": "2022-04-12T05:57:10.663Z"
   },
   {
    "duration": 17,
    "start_time": "2022-04-12T05:57:17.350Z"
   },
   {
    "duration": 4,
    "start_time": "2022-04-12T05:58:00.031Z"
   },
   {
    "duration": 3,
    "start_time": "2022-04-12T05:58:13.647Z"
   },
   {
    "duration": 16,
    "start_time": "2022-04-12T05:58:27.047Z"
   },
   {
    "duration": 15,
    "start_time": "2022-04-12T05:58:44.173Z"
   },
   {
    "duration": 40,
    "start_time": "2022-04-12T06:02:55.863Z"
   },
   {
    "duration": 16,
    "start_time": "2022-04-12T06:06:54.389Z"
   },
   {
    "duration": 16,
    "start_time": "2022-04-12T06:07:19.996Z"
   },
   {
    "duration": 1670,
    "start_time": "2022-04-12T17:19:14.981Z"
   },
   {
    "duration": 212,
    "start_time": "2022-04-12T17:19:16.654Z"
   },
   {
    "duration": 36,
    "start_time": "2022-04-12T17:19:16.869Z"
   },
   {
    "duration": 45,
    "start_time": "2022-04-12T17:19:16.908Z"
   },
   {
    "duration": 146,
    "start_time": "2022-04-12T17:19:16.958Z"
   },
   {
    "duration": 160,
    "start_time": "2022-04-12T17:19:17.107Z"
   },
   {
    "duration": 31,
    "start_time": "2022-04-12T17:19:17.270Z"
   },
   {
    "duration": 47,
    "start_time": "2022-04-12T17:19:17.304Z"
   },
   {
    "duration": 159,
    "start_time": "2022-04-12T17:19:17.354Z"
   },
   {
    "duration": 18,
    "start_time": "2022-04-12T17:19:17.515Z"
   },
   {
    "duration": 23,
    "start_time": "2022-04-12T17:19:17.536Z"
   },
   {
    "duration": 104,
    "start_time": "2022-04-12T17:19:17.562Z"
   },
   {
    "duration": 20,
    "start_time": "2022-04-12T17:19:17.668Z"
   },
   {
    "duration": 203,
    "start_time": "2022-04-12T17:19:17.692Z"
   },
   {
    "duration": 14,
    "start_time": "2022-04-12T17:19:17.897Z"
   },
   {
    "duration": 20,
    "start_time": "2022-04-12T17:19:17.925Z"
   },
   {
    "duration": 99,
    "start_time": "2022-04-12T17:19:17.947Z"
   },
   {
    "duration": 18,
    "start_time": "2022-04-12T17:19:18.049Z"
   },
   {
    "duration": 4,
    "start_time": "2022-04-12T17:19:18.069Z"
   },
   {
    "duration": 10,
    "start_time": "2022-04-12T17:19:18.075Z"
   },
   {
    "duration": 6,
    "start_time": "2022-04-12T17:19:18.087Z"
   },
   {
    "duration": 6,
    "start_time": "2022-04-12T17:19:18.125Z"
   },
   {
    "duration": 35,
    "start_time": "2022-04-12T17:19:18.133Z"
   },
   {
    "duration": 23,
    "start_time": "2022-04-12T17:19:18.170Z"
   },
   {
    "duration": 9,
    "start_time": "2022-04-12T17:19:18.195Z"
   },
   {
    "duration": 17,
    "start_time": "2022-04-12T17:19:18.206Z"
   },
   {
    "duration": 5,
    "start_time": "2022-04-12T17:19:18.226Z"
   },
   {
    "duration": 11,
    "start_time": "2022-04-12T17:19:18.233Z"
   },
   {
    "duration": 81,
    "start_time": "2022-04-12T17:19:18.247Z"
   },
   {
    "duration": 92,
    "start_time": "2022-04-12T17:19:18.332Z"
   },
   {
    "duration": 10,
    "start_time": "2022-04-12T17:19:18.428Z"
   },
   {
    "duration": 18,
    "start_time": "2022-04-12T17:19:18.440Z"
   },
   {
    "duration": 16,
    "start_time": "2022-04-12T17:19:18.461Z"
   },
   {
    "duration": 33,
    "start_time": "2022-04-12T17:19:18.479Z"
   },
   {
    "duration": 35,
    "start_time": "2022-04-12T17:19:18.514Z"
   },
   {
    "duration": 6,
    "start_time": "2022-04-12T17:19:18.552Z"
   },
   {
    "duration": 10,
    "start_time": "2022-04-12T17:19:18.561Z"
   },
   {
    "duration": 59,
    "start_time": "2022-04-12T17:19:18.574Z"
   },
   {
    "duration": 92,
    "start_time": "2022-04-12T17:19:18.637Z"
   },
   {
    "duration": 15,
    "start_time": "2022-04-12T17:19:18.732Z"
   },
   {
    "duration": 83,
    "start_time": "2022-04-12T17:19:18.757Z"
   },
   {
    "duration": 9,
    "start_time": "2022-04-12T17:19:18.843Z"
   },
   {
    "duration": 8,
    "start_time": "2022-04-12T17:19:18.855Z"
   },
   {
    "duration": 20,
    "start_time": "2022-04-12T17:19:18.865Z"
   },
   {
    "duration": 4,
    "start_time": "2022-04-12T17:19:18.888Z"
   },
   {
    "duration": 31,
    "start_time": "2022-04-12T17:19:18.895Z"
   },
   {
    "duration": 95,
    "start_time": "2022-04-12T17:19:18.929Z"
   },
   {
    "duration": 95,
    "start_time": "2022-04-12T17:19:19.033Z"
   },
   {
    "duration": 10,
    "start_time": "2022-04-12T17:19:19.130Z"
   },
   {
    "duration": 12,
    "start_time": "2022-04-12T17:19:19.143Z"
   },
   {
    "duration": 8,
    "start_time": "2022-04-12T17:19:19.157Z"
   },
   {
    "duration": 6,
    "start_time": "2022-04-12T17:19:19.167Z"
   },
   {
    "duration": 50,
    "start_time": "2022-04-12T17:19:19.176Z"
   },
   {
    "duration": 21,
    "start_time": "2022-04-12T17:19:19.228Z"
   },
   {
    "duration": 14,
    "start_time": "2022-04-12T17:19:19.252Z"
   },
   {
    "duration": 9,
    "start_time": "2022-04-12T17:19:19.269Z"
   },
   {
    "duration": 315,
    "start_time": "2022-04-12T17:19:19.281Z"
   },
   {
    "duration": 45,
    "start_time": "2022-04-12T17:19:31.214Z"
   },
   {
    "duration": 36,
    "start_time": "2022-04-12T17:20:01.193Z"
   },
   {
    "duration": 31,
    "start_time": "2022-04-12T17:20:24.961Z"
   },
   {
    "duration": 16,
    "start_time": "2022-04-12T17:56:11.136Z"
   },
   {
    "duration": 13,
    "start_time": "2022-04-12T17:56:17.514Z"
   },
   {
    "duration": 12,
    "start_time": "2022-04-12T18:02:09.757Z"
   },
   {
    "duration": 12,
    "start_time": "2022-04-12T18:02:18.924Z"
   },
   {
    "duration": 4,
    "start_time": "2022-04-12T18:02:50.235Z"
   },
   {
    "duration": 162,
    "start_time": "2022-04-12T18:02:50.242Z"
   },
   {
    "duration": 13,
    "start_time": "2022-04-12T18:02:50.406Z"
   },
   {
    "duration": 19,
    "start_time": "2022-04-12T18:02:50.426Z"
   },
   {
    "duration": 105,
    "start_time": "2022-04-12T18:02:50.447Z"
   },
   {
    "duration": 78,
    "start_time": "2022-04-12T18:02:50.554Z"
   },
   {
    "duration": 21,
    "start_time": "2022-04-12T18:02:50.634Z"
   },
   {
    "duration": 20,
    "start_time": "2022-04-12T18:02:50.657Z"
   },
   {
    "duration": 11,
    "start_time": "2022-04-12T18:02:50.680Z"
   },
   {
    "duration": 1677,
    "start_time": "2022-04-12T18:03:28.478Z"
   },
   {
    "duration": 1777,
    "start_time": "2022-04-12T18:04:05.505Z"
   },
   {
    "duration": 1853,
    "start_time": "2022-04-12T18:04:24.998Z"
   },
   {
    "duration": 12,
    "start_time": "2022-04-12T18:05:21.688Z"
   },
   {
    "duration": 16,
    "start_time": "2022-04-12T18:05:52.835Z"
   },
   {
    "duration": 1761,
    "start_time": "2022-04-12T18:06:13.357Z"
   },
   {
    "duration": 1711,
    "start_time": "2022-04-12T18:06:32.269Z"
   },
   {
    "duration": 11,
    "start_time": "2022-04-12T18:06:56.717Z"
   },
   {
    "duration": 2210,
    "start_time": "2022-04-12T18:07:15.818Z"
   },
   {
    "duration": 117,
    "start_time": "2022-04-12T18:07:27.420Z"
   },
   {
    "duration": 31,
    "start_time": "2022-04-12T18:07:37.395Z"
   },
   {
    "duration": 40,
    "start_time": "2022-04-12T18:07:54.930Z"
   },
   {
    "duration": 4,
    "start_time": "2022-04-12T18:09:38.624Z"
   },
   {
    "duration": 177,
    "start_time": "2022-04-12T18:09:38.631Z"
   },
   {
    "duration": 19,
    "start_time": "2022-04-12T18:09:38.811Z"
   },
   {
    "duration": 24,
    "start_time": "2022-04-12T18:09:38.832Z"
   },
   {
    "duration": 116,
    "start_time": "2022-04-12T18:09:38.860Z"
   },
   {
    "duration": 83,
    "start_time": "2022-04-12T18:09:38.978Z"
   },
   {
    "duration": 21,
    "start_time": "2022-04-12T18:09:39.063Z"
   },
   {
    "duration": 47,
    "start_time": "2022-04-12T18:09:39.086Z"
   },
   {
    "duration": 38,
    "start_time": "2022-04-12T18:09:39.136Z"
   },
   {
    "duration": 170,
    "start_time": "2022-04-12T18:09:39.177Z"
   },
   {
    "duration": 14,
    "start_time": "2022-04-12T18:09:39.350Z"
   },
   {
    "duration": 30,
    "start_time": "2022-04-12T18:09:39.366Z"
   },
   {
    "duration": 94,
    "start_time": "2022-04-12T18:09:39.399Z"
   },
   {
    "duration": 48,
    "start_time": "2022-04-12T18:09:39.496Z"
   },
   {
    "duration": 38,
    "start_time": "2022-04-12T18:09:39.546Z"
   },
   {
    "duration": 174,
    "start_time": "2022-04-12T18:09:39.586Z"
   },
   {
    "duration": 14,
    "start_time": "2022-04-12T18:09:39.762Z"
   },
   {
    "duration": 28,
    "start_time": "2022-04-12T18:09:39.778Z"
   },
   {
    "duration": 82,
    "start_time": "2022-04-12T18:09:39.824Z"
   },
   {
    "duration": 34,
    "start_time": "2022-04-12T18:09:39.908Z"
   },
   {
    "duration": 39,
    "start_time": "2022-04-12T18:09:39.944Z"
   },
   {
    "duration": 4,
    "start_time": "2022-04-12T18:25:21.286Z"
   },
   {
    "duration": 189,
    "start_time": "2022-04-12T18:25:21.294Z"
   },
   {
    "duration": 13,
    "start_time": "2022-04-12T18:25:21.486Z"
   },
   {
    "duration": 28,
    "start_time": "2022-04-12T18:25:21.527Z"
   },
   {
    "duration": 123,
    "start_time": "2022-04-12T18:25:21.558Z"
   },
   {
    "duration": 89,
    "start_time": "2022-04-12T18:25:21.683Z"
   },
   {
    "duration": 22,
    "start_time": "2022-04-12T18:25:21.774Z"
   },
   {
    "duration": 52,
    "start_time": "2022-04-12T18:25:21.798Z"
   },
   {
    "duration": 48,
    "start_time": "2022-04-12T18:25:21.854Z"
   },
   {
    "duration": 249,
    "start_time": "2022-04-12T18:25:21.905Z"
   },
   {
    "duration": 19,
    "start_time": "2022-04-12T18:25:22.160Z"
   },
   {
    "duration": 24,
    "start_time": "2022-04-12T18:25:22.181Z"
   },
   {
    "duration": 119,
    "start_time": "2022-04-12T18:25:22.207Z"
   },
   {
    "duration": 25,
    "start_time": "2022-04-12T18:25:22.329Z"
   },
   {
    "duration": 37,
    "start_time": "2022-04-12T18:25:22.357Z"
   },
   {
    "duration": 198,
    "start_time": "2022-04-12T18:25:22.396Z"
   },
   {
    "duration": 13,
    "start_time": "2022-04-12T18:25:22.596Z"
   },
   {
    "duration": 27,
    "start_time": "2022-04-12T18:25:22.624Z"
   },
   {
    "duration": 109,
    "start_time": "2022-04-12T18:25:22.654Z"
   },
   {
    "duration": 19,
    "start_time": "2022-04-12T18:25:22.765Z"
   },
   {
    "duration": 63,
    "start_time": "2022-04-12T18:25:22.787Z"
   },
   {
    "duration": 3,
    "start_time": "2022-04-12T18:25:22.853Z"
   },
   {
    "duration": 9,
    "start_time": "2022-04-12T18:25:22.859Z"
   },
   {
    "duration": 5,
    "start_time": "2022-04-12T18:25:22.871Z"
   },
   {
    "duration": 7,
    "start_time": "2022-04-12T18:25:22.879Z"
   },
   {
    "duration": 38,
    "start_time": "2022-04-12T18:25:22.888Z"
   },
   {
    "duration": 8,
    "start_time": "2022-04-12T18:25:22.928Z"
   },
   {
    "duration": 12,
    "start_time": "2022-04-12T18:25:22.939Z"
   },
   {
    "duration": 15,
    "start_time": "2022-04-12T18:25:22.965Z"
   },
   {
    "duration": 5,
    "start_time": "2022-04-12T18:25:22.982Z"
   },
   {
    "duration": 35,
    "start_time": "2022-04-12T18:25:22.990Z"
   },
   {
    "duration": 31,
    "start_time": "2022-04-12T18:25:23.028Z"
   },
   {
    "duration": 64,
    "start_time": "2022-04-12T18:25:23.062Z"
   },
   {
    "duration": 11,
    "start_time": "2022-04-12T18:25:23.130Z"
   },
   {
    "duration": 22,
    "start_time": "2022-04-12T18:25:23.227Z"
   },
   {
    "duration": 8,
    "start_time": "2022-04-12T18:25:23.252Z"
   },
   {
    "duration": 6,
    "start_time": "2022-04-12T18:25:23.263Z"
   },
   {
    "duration": 18,
    "start_time": "2022-04-12T18:25:23.271Z"
   },
   {
    "duration": 5,
    "start_time": "2022-04-12T18:25:23.325Z"
   },
   {
    "duration": 23,
    "start_time": "2022-04-12T18:25:23.333Z"
   },
   {
    "duration": 19,
    "start_time": "2022-04-12T18:25:23.359Z"
   },
   {
    "duration": 48,
    "start_time": "2022-04-12T18:25:23.381Z"
   },
   {
    "duration": 98,
    "start_time": "2022-04-12T18:25:23.432Z"
   },
   {
    "duration": 7,
    "start_time": "2022-04-12T18:25:23.533Z"
   },
   {
    "duration": 21,
    "start_time": "2022-04-12T18:25:23.543Z"
   },
   {
    "duration": 6,
    "start_time": "2022-04-12T18:25:23.567Z"
   },
   {
    "duration": 13,
    "start_time": "2022-04-12T18:25:23.576Z"
   },
   {
    "duration": 10,
    "start_time": "2022-04-12T18:25:23.624Z"
   },
   {
    "duration": 14,
    "start_time": "2022-04-12T18:25:23.637Z"
   },
   {
    "duration": 20,
    "start_time": "2022-04-12T18:25:23.653Z"
   },
   {
    "duration": 154,
    "start_time": "2022-04-12T18:25:23.676Z"
   },
   {
    "duration": 25,
    "start_time": "2022-04-12T18:25:23.832Z"
   },
   {
    "duration": 9,
    "start_time": "2022-04-12T18:25:23.860Z"
   },
   {
    "duration": 9,
    "start_time": "2022-04-12T18:25:23.871Z"
   },
   {
    "duration": 15,
    "start_time": "2022-04-12T18:25:23.882Z"
   },
   {
    "duration": 9,
    "start_time": "2022-04-12T18:25:23.899Z"
   },
   {
    "duration": 21,
    "start_time": "2022-04-12T18:25:23.910Z"
   },
   {
    "duration": 24,
    "start_time": "2022-04-12T18:25:23.934Z"
   },
   {
    "duration": 4,
    "start_time": "2022-04-12T18:25:23.960Z"
   },
   {
    "duration": 69,
    "start_time": "2022-04-12T18:25:23.966Z"
   },
   {
    "duration": 0,
    "start_time": "2022-04-12T18:25:24.040Z"
   },
   {
    "duration": 0,
    "start_time": "2022-04-12T18:25:24.043Z"
   },
   {
    "duration": 0,
    "start_time": "2022-04-12T18:25:24.044Z"
   },
   {
    "duration": 0,
    "start_time": "2022-04-12T18:25:24.046Z"
   },
   {
    "duration": 0,
    "start_time": "2022-04-12T18:25:24.048Z"
   },
   {
    "duration": 14,
    "start_time": "2022-04-12T18:36:16.640Z"
   },
   {
    "duration": 4,
    "start_time": "2022-04-12T18:36:22.484Z"
   },
   {
    "duration": 23,
    "start_time": "2022-04-12T18:36:24.524Z"
   },
   {
    "duration": 5,
    "start_time": "2022-04-12T18:37:38.188Z"
   },
   {
    "duration": 5,
    "start_time": "2022-04-12T18:37:59.654Z"
   },
   {
    "duration": 6,
    "start_time": "2022-04-12T18:38:12.995Z"
   },
   {
    "duration": 6,
    "start_time": "2022-04-12T18:38:29.937Z"
   },
   {
    "duration": 32,
    "start_time": "2022-04-12T18:38:39.864Z"
   },
   {
    "duration": 5,
    "start_time": "2022-04-12T18:39:21.478Z"
   },
   {
    "duration": 4,
    "start_time": "2022-04-12T18:39:27.806Z"
   },
   {
    "duration": 23,
    "start_time": "2022-04-12T18:39:29.854Z"
   },
   {
    "duration": 149,
    "start_time": "2022-04-12T18:39:35.180Z"
   },
   {
    "duration": 23,
    "start_time": "2022-04-12T18:41:33.612Z"
   },
   {
    "duration": 5,
    "start_time": "2022-04-12T18:41:42.941Z"
   },
   {
    "duration": 123,
    "start_time": "2022-04-12T18:42:24.026Z"
   },
   {
    "duration": 110,
    "start_time": "2022-04-12T18:42:30.184Z"
   },
   {
    "duration": 5,
    "start_time": "2022-04-12T18:42:36.437Z"
   },
   {
    "duration": 31,
    "start_time": "2022-04-12T18:42:42.996Z"
   },
   {
    "duration": 33,
    "start_time": "2022-04-12T18:43:02.838Z"
   },
   {
    "duration": 31,
    "start_time": "2022-04-12T18:43:17.756Z"
   },
   {
    "duration": 13,
    "start_time": "2022-04-12T18:43:43.805Z"
   },
   {
    "duration": 12,
    "start_time": "2022-04-12T18:44:41.099Z"
   },
   {
    "duration": 5,
    "start_time": "2022-04-12T18:44:54.348Z"
   },
   {
    "duration": 24,
    "start_time": "2022-04-12T18:46:50.482Z"
   },
   {
    "duration": 21,
    "start_time": "2022-04-12T18:47:11.282Z"
   },
   {
    "duration": 22,
    "start_time": "2022-04-12T18:47:47.156Z"
   },
   {
    "duration": 21,
    "start_time": "2022-04-12T18:48:18.643Z"
   },
   {
    "duration": 8,
    "start_time": "2022-04-12T18:52:09.636Z"
   },
   {
    "duration": 12,
    "start_time": "2022-04-12T18:52:46.940Z"
   },
   {
    "duration": 22,
    "start_time": "2022-04-12T18:53:43.719Z"
   },
   {
    "duration": 12,
    "start_time": "2022-04-12T18:54:11.958Z"
   },
   {
    "duration": 16,
    "start_time": "2022-04-12T18:54:22.864Z"
   },
   {
    "duration": 16,
    "start_time": "2022-04-12T18:58:09.761Z"
   },
   {
    "duration": 22,
    "start_time": "2022-04-12T18:59:21.740Z"
   },
   {
    "duration": 4,
    "start_time": "2022-04-12T18:59:45.942Z"
   },
   {
    "duration": 101,
    "start_time": "2022-04-12T19:01:26.857Z"
   },
   {
    "duration": 7,
    "start_time": "2022-04-12T19:01:40.515Z"
   },
   {
    "duration": 4,
    "start_time": "2022-04-12T19:02:47.130Z"
   },
   {
    "duration": 202,
    "start_time": "2022-04-12T19:02:47.137Z"
   },
   {
    "duration": 14,
    "start_time": "2022-04-12T19:02:47.342Z"
   },
   {
    "duration": 64,
    "start_time": "2022-04-12T19:02:47.361Z"
   },
   {
    "duration": 116,
    "start_time": "2022-04-12T19:02:47.428Z"
   },
   {
    "duration": 146,
    "start_time": "2022-04-12T19:02:47.547Z"
   },
   {
    "duration": 42,
    "start_time": "2022-04-12T19:02:47.697Z"
   },
   {
    "duration": 26,
    "start_time": "2022-04-12T19:02:47.742Z"
   },
   {
    "duration": 79,
    "start_time": "2022-04-12T19:02:47.772Z"
   },
   {
    "duration": 155,
    "start_time": "2022-04-12T19:02:47.853Z"
   },
   {
    "duration": 17,
    "start_time": "2022-04-12T19:02:48.011Z"
   },
   {
    "duration": 22,
    "start_time": "2022-04-12T19:02:48.030Z"
   },
   {
    "duration": 102,
    "start_time": "2022-04-12T19:02:48.055Z"
   },
   {
    "duration": 21,
    "start_time": "2022-04-12T19:02:48.159Z"
   },
   {
    "duration": 69,
    "start_time": "2022-04-12T19:02:48.183Z"
   },
   {
    "duration": 154,
    "start_time": "2022-04-12T19:02:48.255Z"
   },
   {
    "duration": 18,
    "start_time": "2022-04-12T19:02:48.412Z"
   },
   {
    "duration": 23,
    "start_time": "2022-04-12T19:02:48.432Z"
   },
   {
    "duration": 109,
    "start_time": "2022-04-12T19:02:48.457Z"
   },
   {
    "duration": 20,
    "start_time": "2022-04-12T19:02:48.568Z"
   },
   {
    "duration": 70,
    "start_time": "2022-04-12T19:02:48.590Z"
   },
   {
    "duration": 4,
    "start_time": "2022-04-12T19:02:48.663Z"
   },
   {
    "duration": 7,
    "start_time": "2022-04-12T19:02:48.670Z"
   },
   {
    "duration": 4,
    "start_time": "2022-04-12T19:02:48.686Z"
   },
   {
    "duration": 36,
    "start_time": "2022-04-12T19:02:48.692Z"
   },
   {
    "duration": 9,
    "start_time": "2022-04-12T19:02:48.730Z"
   },
   {
    "duration": 21,
    "start_time": "2022-04-12T19:02:48.742Z"
   },
   {
    "duration": 13,
    "start_time": "2022-04-12T19:02:48.766Z"
   },
   {
    "duration": 20,
    "start_time": "2022-04-12T19:02:48.781Z"
   },
   {
    "duration": 24,
    "start_time": "2022-04-12T19:02:48.803Z"
   },
   {
    "duration": 7,
    "start_time": "2022-04-12T19:02:48.829Z"
   },
   {
    "duration": 87,
    "start_time": "2022-04-12T19:02:48.839Z"
   },
   {
    "duration": 8,
    "start_time": "2022-04-12T19:02:48.930Z"
   },
   {
    "duration": 11,
    "start_time": "2022-04-12T19:02:49.025Z"
   },
   {
    "duration": 6,
    "start_time": "2022-04-12T19:02:49.039Z"
   },
   {
    "duration": 8,
    "start_time": "2022-04-12T19:02:49.047Z"
   },
   {
    "duration": 7,
    "start_time": "2022-04-12T19:02:49.057Z"
   },
   {
    "duration": 15,
    "start_time": "2022-04-12T19:02:49.066Z"
   },
   {
    "duration": 5,
    "start_time": "2022-04-12T19:02:49.123Z"
   },
   {
    "duration": 6,
    "start_time": "2022-04-12T19:02:49.131Z"
   },
   {
    "duration": 88,
    "start_time": "2022-04-12T19:02:49.140Z"
   },
   {
    "duration": 7,
    "start_time": "2022-04-12T19:02:49.231Z"
   },
   {
    "duration": 9,
    "start_time": "2022-04-12T19:02:49.326Z"
   },
   {
    "duration": 16,
    "start_time": "2022-04-12T19:02:49.337Z"
   },
   {
    "duration": 9,
    "start_time": "2022-04-12T19:02:49.355Z"
   },
   {
    "duration": 6,
    "start_time": "2022-04-12T19:02:49.366Z"
   },
   {
    "duration": 51,
    "start_time": "2022-04-12T19:02:49.374Z"
   },
   {
    "duration": 5,
    "start_time": "2022-04-12T19:02:49.427Z"
   },
   {
    "duration": 6,
    "start_time": "2022-04-12T19:02:49.434Z"
   },
   {
    "duration": 86,
    "start_time": "2022-04-12T19:02:49.442Z"
   },
   {
    "duration": 94,
    "start_time": "2022-04-12T19:02:49.531Z"
   },
   {
    "duration": 8,
    "start_time": "2022-04-12T19:02:49.628Z"
   },
   {
    "duration": 6,
    "start_time": "2022-04-12T19:02:49.639Z"
   },
   {
    "duration": 8,
    "start_time": "2022-04-12T19:02:49.646Z"
   },
   {
    "duration": 16,
    "start_time": "2022-04-12T19:02:49.656Z"
   },
   {
    "duration": 13,
    "start_time": "2022-04-12T19:02:49.674Z"
   },
   {
    "duration": 39,
    "start_time": "2022-04-12T19:02:49.690Z"
   },
   {
    "duration": 8,
    "start_time": "2022-04-12T19:02:49.731Z"
   },
   {
    "duration": 11,
    "start_time": "2022-04-12T19:02:49.741Z"
   },
   {
    "duration": 1428,
    "start_time": "2022-04-13T17:10:28.919Z"
   },
   {
    "duration": 143,
    "start_time": "2022-04-13T17:10:30.357Z"
   },
   {
    "duration": 35,
    "start_time": "2022-04-13T17:10:30.502Z"
   },
   {
    "duration": 26,
    "start_time": "2022-04-13T17:10:30.545Z"
   },
   {
    "duration": 46,
    "start_time": "2022-04-13T17:10:30.575Z"
   },
   {
    "duration": 84,
    "start_time": "2022-04-13T17:10:30.625Z"
   },
   {
    "duration": 29,
    "start_time": "2022-04-13T17:10:30.710Z"
   },
   {
    "duration": 34,
    "start_time": "2022-04-13T17:10:30.741Z"
   },
   {
    "duration": 32,
    "start_time": "2022-04-13T17:10:30.777Z"
   },
   {
    "duration": 152,
    "start_time": "2022-04-13T17:10:30.822Z"
   },
   {
    "duration": 11,
    "start_time": "2022-04-13T17:10:30.976Z"
   },
   {
    "duration": 38,
    "start_time": "2022-04-13T17:10:30.988Z"
   },
   {
    "duration": 60,
    "start_time": "2022-04-13T17:10:31.031Z"
   },
   {
    "duration": 17,
    "start_time": "2022-04-13T17:10:31.094Z"
   },
   {
    "duration": 38,
    "start_time": "2022-04-13T17:10:31.131Z"
   },
   {
    "duration": 139,
    "start_time": "2022-04-13T17:10:31.172Z"
   },
   {
    "duration": 24,
    "start_time": "2022-04-13T17:10:31.313Z"
   },
   {
    "duration": 38,
    "start_time": "2022-04-13T17:10:31.339Z"
   },
   {
    "duration": 53,
    "start_time": "2022-04-13T17:10:31.379Z"
   },
   {
    "duration": 21,
    "start_time": "2022-04-13T17:10:31.434Z"
   },
   {
    "duration": 40,
    "start_time": "2022-04-13T17:10:31.457Z"
   },
   {
    "duration": 3,
    "start_time": "2022-04-13T17:10:31.499Z"
   },
   {
    "duration": 16,
    "start_time": "2022-04-13T17:10:31.503Z"
   },
   {
    "duration": 21,
    "start_time": "2022-04-13T17:10:31.521Z"
   },
   {
    "duration": 23,
    "start_time": "2022-04-13T17:10:31.544Z"
   },
   {
    "duration": 11,
    "start_time": "2022-04-13T17:10:31.569Z"
   },
   {
    "duration": 18,
    "start_time": "2022-04-13T17:10:31.582Z"
   },
   {
    "duration": 167,
    "start_time": "2022-04-13T17:10:31.602Z"
   },
   {
    "duration": 0,
    "start_time": "2022-04-13T17:10:31.771Z"
   },
   {
    "duration": 0,
    "start_time": "2022-04-13T17:10:31.772Z"
   },
   {
    "duration": 0,
    "start_time": "2022-04-13T17:10:31.773Z"
   },
   {
    "duration": 0,
    "start_time": "2022-04-13T17:10:31.774Z"
   },
   {
    "duration": 2,
    "start_time": "2022-04-13T17:11:24.091Z"
   },
   {
    "duration": 173,
    "start_time": "2022-04-13T17:11:24.095Z"
   },
   {
    "duration": 14,
    "start_time": "2022-04-13T17:11:24.270Z"
   },
   {
    "duration": 17,
    "start_time": "2022-04-13T17:11:24.286Z"
   },
   {
    "duration": 73,
    "start_time": "2022-04-13T17:11:24.306Z"
   },
   {
    "duration": 72,
    "start_time": "2022-04-13T17:11:24.381Z"
   },
   {
    "duration": 22,
    "start_time": "2022-04-13T17:11:24.465Z"
   },
   {
    "duration": 16,
    "start_time": "2022-04-13T17:11:24.488Z"
   },
   {
    "duration": 56,
    "start_time": "2022-04-13T17:11:24.505Z"
   },
   {
    "duration": 141,
    "start_time": "2022-04-13T17:11:24.566Z"
   },
   {
    "duration": 9,
    "start_time": "2022-04-13T17:11:24.710Z"
   },
   {
    "duration": 50,
    "start_time": "2022-04-13T17:11:24.721Z"
   },
   {
    "duration": 48,
    "start_time": "2022-04-13T17:11:24.773Z"
   },
   {
    "duration": 34,
    "start_time": "2022-04-13T17:11:24.823Z"
   },
   {
    "duration": 36,
    "start_time": "2022-04-13T17:11:24.862Z"
   },
   {
    "duration": 181,
    "start_time": "2022-04-13T17:11:24.900Z"
   },
   {
    "duration": 12,
    "start_time": "2022-04-13T17:11:25.085Z"
   },
   {
    "duration": 16,
    "start_time": "2022-04-13T17:11:25.099Z"
   },
   {
    "duration": 66,
    "start_time": "2022-04-13T17:11:25.117Z"
   },
   {
    "duration": 14,
    "start_time": "2022-04-13T17:11:25.185Z"
   },
   {
    "duration": 60,
    "start_time": "2022-04-13T17:11:25.200Z"
   },
   {
    "duration": 4,
    "start_time": "2022-04-13T17:11:25.262Z"
   },
   {
    "duration": 12,
    "start_time": "2022-04-13T17:11:25.268Z"
   },
   {
    "duration": 10,
    "start_time": "2022-04-13T17:11:25.282Z"
   },
   {
    "duration": 7,
    "start_time": "2022-04-13T17:11:25.294Z"
   },
   {
    "duration": 7,
    "start_time": "2022-04-13T17:11:25.303Z"
   },
   {
    "duration": 5,
    "start_time": "2022-04-13T17:11:25.312Z"
   },
   {
    "duration": 15,
    "start_time": "2022-04-13T17:11:25.319Z"
   },
   {
    "duration": 38,
    "start_time": "2022-04-13T17:11:25.338Z"
   },
   {
    "duration": 3,
    "start_time": "2022-04-13T17:11:25.378Z"
   },
   {
    "duration": 4,
    "start_time": "2022-04-13T17:11:25.383Z"
   },
   {
    "duration": 29,
    "start_time": "2022-04-13T17:11:25.389Z"
   },
   {
    "duration": 21,
    "start_time": "2022-04-13T17:11:58.352Z"
   },
   {
    "duration": 5,
    "start_time": "2022-04-13T17:12:04.349Z"
   },
   {
    "duration": 6,
    "start_time": "2022-04-13T17:12:08.109Z"
   },
   {
    "duration": 4,
    "start_time": "2022-04-13T17:15:03.435Z"
   },
   {
    "duration": 183,
    "start_time": "2022-04-13T17:15:03.441Z"
   },
   {
    "duration": 13,
    "start_time": "2022-04-13T17:15:03.627Z"
   },
   {
    "duration": 31,
    "start_time": "2022-04-13T17:15:03.642Z"
   },
   {
    "duration": 84,
    "start_time": "2022-04-13T17:15:03.680Z"
   },
   {
    "duration": 70,
    "start_time": "2022-04-13T17:15:03.766Z"
   },
   {
    "duration": 27,
    "start_time": "2022-04-13T17:15:03.838Z"
   },
   {
    "duration": 21,
    "start_time": "2022-04-13T17:15:03.868Z"
   },
   {
    "duration": 46,
    "start_time": "2022-04-13T17:15:03.892Z"
   },
   {
    "duration": 160,
    "start_time": "2022-04-13T17:15:03.941Z"
   },
   {
    "duration": 9,
    "start_time": "2022-04-13T17:15:04.105Z"
   },
   {
    "duration": 36,
    "start_time": "2022-04-13T17:15:04.116Z"
   },
   {
    "duration": 73,
    "start_time": "2022-04-13T17:15:04.153Z"
   },
   {
    "duration": 24,
    "start_time": "2022-04-13T17:15:04.227Z"
   },
   {
    "duration": 43,
    "start_time": "2022-04-13T17:15:04.253Z"
   },
   {
    "duration": 186,
    "start_time": "2022-04-13T17:15:04.298Z"
   },
   {
    "duration": 9,
    "start_time": "2022-04-13T17:15:04.486Z"
   },
   {
    "duration": 28,
    "start_time": "2022-04-13T17:15:04.497Z"
   },
   {
    "duration": 70,
    "start_time": "2022-04-13T17:15:04.528Z"
   },
   {
    "duration": 35,
    "start_time": "2022-04-13T17:15:04.601Z"
   },
   {
    "duration": 44,
    "start_time": "2022-04-13T17:15:04.638Z"
   },
   {
    "duration": 3,
    "start_time": "2022-04-13T17:15:04.684Z"
   },
   {
    "duration": 4,
    "start_time": "2022-04-13T17:15:04.688Z"
   },
   {
    "duration": 8,
    "start_time": "2022-04-13T17:15:04.694Z"
   },
   {
    "duration": 8,
    "start_time": "2022-04-13T17:15:04.704Z"
   },
   {
    "duration": 5,
    "start_time": "2022-04-13T17:15:04.738Z"
   },
   {
    "duration": 3,
    "start_time": "2022-04-13T17:15:04.745Z"
   },
   {
    "duration": 16,
    "start_time": "2022-04-13T17:15:04.750Z"
   },
   {
    "duration": 27,
    "start_time": "2022-04-13T17:15:04.771Z"
   },
   {
    "duration": 5,
    "start_time": "2022-04-13T17:15:04.800Z"
   },
   {
    "duration": 12,
    "start_time": "2022-04-13T17:15:04.806Z"
   },
   {
    "duration": 50,
    "start_time": "2022-04-13T17:15:04.826Z"
   },
   {
    "duration": 46,
    "start_time": "2022-04-13T17:15:04.878Z"
   },
   {
    "duration": 113,
    "start_time": "2022-04-13T17:15:04.928Z"
   },
   {
    "duration": 13,
    "start_time": "2022-04-13T17:15:05.053Z"
   },
   {
    "duration": 9,
    "start_time": "2022-04-13T17:15:05.068Z"
   },
   {
    "duration": 8,
    "start_time": "2022-04-13T17:15:05.079Z"
   },
   {
    "duration": 22,
    "start_time": "2022-04-13T17:15:05.088Z"
   },
   {
    "duration": 3,
    "start_time": "2022-04-13T17:15:05.112Z"
   },
   {
    "duration": 31,
    "start_time": "2022-04-13T17:15:05.117Z"
   },
   {
    "duration": 33,
    "start_time": "2022-04-13T17:15:05.151Z"
   },
   {
    "duration": 23,
    "start_time": "2022-04-13T17:15:05.228Z"
   },
   {
    "duration": 23,
    "start_time": "2022-04-13T17:15:05.258Z"
   },
   {
    "duration": 14,
    "start_time": "2022-04-13T17:15:05.324Z"
   },
   {
    "duration": 9,
    "start_time": "2022-04-13T17:15:05.340Z"
   },
   {
    "duration": 19,
    "start_time": "2022-04-13T17:15:05.353Z"
   },
   {
    "duration": 27,
    "start_time": "2022-04-13T17:15:05.374Z"
   },
   {
    "duration": 3,
    "start_time": "2022-04-13T17:15:05.403Z"
   },
   {
    "duration": 8,
    "start_time": "2022-04-13T17:15:05.408Z"
   },
   {
    "duration": 110,
    "start_time": "2022-04-13T17:15:05.428Z"
   },
   {
    "duration": 9,
    "start_time": "2022-04-13T17:15:05.547Z"
   },
   {
    "duration": 69,
    "start_time": "2022-04-13T17:15:05.562Z"
   },
   {
    "duration": 11,
    "start_time": "2022-04-13T17:15:05.637Z"
   },
   {
    "duration": 19,
    "start_time": "2022-04-13T17:15:05.652Z"
   },
   {
    "duration": 3,
    "start_time": "2022-04-13T17:15:05.679Z"
   },
   {
    "duration": 5,
    "start_time": "2022-04-13T17:15:05.684Z"
   },
   {
    "duration": 7,
    "start_time": "2022-04-13T17:15:05.691Z"
   },
   {
    "duration": 7,
    "start_time": "2022-04-13T17:15:05.700Z"
   },
   {
    "duration": 14,
    "start_time": "2022-04-13T17:15:53.032Z"
   },
   {
    "duration": 9,
    "start_time": "2022-04-13T17:15:57.957Z"
   },
   {
    "duration": 19,
    "start_time": "2022-04-13T17:16:01.328Z"
   },
   {
    "duration": 4,
    "start_time": "2022-04-13T17:16:15.112Z"
   },
   {
    "duration": 4,
    "start_time": "2022-04-13T17:16:18.821Z"
   },
   {
    "duration": 12,
    "start_time": "2022-04-13T17:16:20.565Z"
   },
   {
    "duration": 8,
    "start_time": "2022-04-13T17:16:24.400Z"
   },
   {
    "duration": 5,
    "start_time": "2022-04-13T17:16:34.105Z"
   },
   {
    "duration": 15,
    "start_time": "2022-04-13T17:17:11.815Z"
   },
   {
    "duration": 6,
    "start_time": "2022-04-13T17:23:01.651Z"
   },
   {
    "duration": 4,
    "start_time": "2022-04-13T17:23:48.696Z"
   },
   {
    "duration": 3,
    "start_time": "2022-04-13T17:23:54.875Z"
   },
   {
    "duration": 5,
    "start_time": "2022-04-13T17:24:01.453Z"
   },
   {
    "duration": 10,
    "start_time": "2022-04-13T17:27:27.296Z"
   },
   {
    "duration": 29,
    "start_time": "2022-04-13T17:27:37.758Z"
   },
   {
    "duration": 8,
    "start_time": "2022-04-13T17:27:59.297Z"
   },
   {
    "duration": 13,
    "start_time": "2022-04-13T17:28:29.749Z"
   },
   {
    "duration": 29,
    "start_time": "2022-04-13T17:51:31.241Z"
   },
   {
    "duration": 4,
    "start_time": "2022-04-13T17:51:42.960Z"
   },
   {
    "duration": 5,
    "start_time": "2022-04-13T17:52:34.126Z"
   },
   {
    "duration": 18,
    "start_time": "2022-04-13T17:52:47.392Z"
   },
   {
    "duration": 23,
    "start_time": "2022-04-13T17:53:18.763Z"
   },
   {
    "duration": 4,
    "start_time": "2022-04-13T17:53:23.409Z"
   },
   {
    "duration": 6,
    "start_time": "2022-04-13T17:58:35.631Z"
   },
   {
    "duration": 3,
    "start_time": "2022-04-13T17:59:04.884Z"
   },
   {
    "duration": 3,
    "start_time": "2022-04-13T17:59:28.982Z"
   },
   {
    "duration": 4,
    "start_time": "2022-04-13T18:02:35.291Z"
   },
   {
    "duration": 3,
    "start_time": "2022-04-13T18:02:46.930Z"
   },
   {
    "duration": 3,
    "start_time": "2022-04-13T18:02:54.536Z"
   },
   {
    "duration": 3,
    "start_time": "2022-04-13T18:05:40.867Z"
   },
   {
    "duration": 173,
    "start_time": "2022-04-13T18:05:40.875Z"
   },
   {
    "duration": 17,
    "start_time": "2022-04-13T18:05:41.050Z"
   },
   {
    "duration": 18,
    "start_time": "2022-04-13T18:05:41.069Z"
   },
   {
    "duration": 65,
    "start_time": "2022-04-13T18:05:41.089Z"
   },
   {
    "duration": 99,
    "start_time": "2022-04-13T18:05:41.159Z"
   },
   {
    "duration": 21,
    "start_time": "2022-04-13T18:05:41.262Z"
   },
   {
    "duration": 15,
    "start_time": "2022-04-13T18:05:41.286Z"
   },
   {
    "duration": 54,
    "start_time": "2022-04-13T18:05:41.303Z"
   },
   {
    "duration": 139,
    "start_time": "2022-04-13T18:05:41.361Z"
   },
   {
    "duration": 10,
    "start_time": "2022-04-13T18:05:41.502Z"
   },
   {
    "duration": 23,
    "start_time": "2022-04-13T18:05:41.514Z"
   },
   {
    "duration": 53,
    "start_time": "2022-04-13T18:05:41.539Z"
   },
   {
    "duration": 40,
    "start_time": "2022-04-13T18:05:41.595Z"
   },
   {
    "duration": 61,
    "start_time": "2022-04-13T18:05:41.638Z"
   },
   {
    "duration": 168,
    "start_time": "2022-04-13T18:05:41.700Z"
   },
   {
    "duration": 13,
    "start_time": "2022-04-13T18:05:41.870Z"
   },
   {
    "duration": 17,
    "start_time": "2022-04-13T18:05:41.884Z"
   },
   {
    "duration": 80,
    "start_time": "2022-04-13T18:05:41.902Z"
   },
   {
    "duration": 14,
    "start_time": "2022-04-13T18:05:41.984Z"
   },
   {
    "duration": 67,
    "start_time": "2022-04-13T18:05:42.000Z"
   },
   {
    "duration": 8,
    "start_time": "2022-04-13T18:05:42.071Z"
   },
   {
    "duration": 3,
    "start_time": "2022-04-13T18:05:42.081Z"
   },
   {
    "duration": 5,
    "start_time": "2022-04-13T18:05:42.085Z"
   },
   {
    "duration": 4,
    "start_time": "2022-04-13T18:05:42.091Z"
   },
   {
    "duration": 4,
    "start_time": "2022-04-13T18:05:42.097Z"
   },
   {
    "duration": 4,
    "start_time": "2022-04-13T18:05:42.102Z"
   },
   {
    "duration": 18,
    "start_time": "2022-04-13T18:05:42.108Z"
   },
   {
    "duration": 29,
    "start_time": "2022-04-13T18:05:42.136Z"
   },
   {
    "duration": 4,
    "start_time": "2022-04-13T18:05:42.167Z"
   },
   {
    "duration": 12,
    "start_time": "2022-04-13T18:05:42.172Z"
   },
   {
    "duration": 56,
    "start_time": "2022-04-13T18:05:42.186Z"
   },
   {
    "duration": 8,
    "start_time": "2022-04-13T18:05:42.247Z"
   },
   {
    "duration": 77,
    "start_time": "2022-04-13T18:05:42.259Z"
   },
   {
    "duration": 30,
    "start_time": "2022-04-13T18:05:42.338Z"
   },
   {
    "duration": 6,
    "start_time": "2022-04-13T18:05:42.380Z"
   },
   {
    "duration": 6,
    "start_time": "2022-04-13T18:05:42.387Z"
   },
   {
    "duration": 11,
    "start_time": "2022-04-13T18:05:42.395Z"
   },
   {
    "duration": 68,
    "start_time": "2022-04-13T18:05:42.408Z"
   },
   {
    "duration": 4,
    "start_time": "2022-04-13T18:05:42.478Z"
   },
   {
    "duration": 15,
    "start_time": "2022-04-13T18:05:42.483Z"
   },
   {
    "duration": 18,
    "start_time": "2022-04-13T18:05:42.500Z"
   },
   {
    "duration": 15,
    "start_time": "2022-04-13T18:05:42.532Z"
   },
   {
    "duration": 11,
    "start_time": "2022-04-13T18:05:42.549Z"
   },
   {
    "duration": 70,
    "start_time": "2022-04-13T18:05:42.562Z"
   },
   {
    "duration": 22,
    "start_time": "2022-04-13T18:05:42.641Z"
   },
   {
    "duration": 11,
    "start_time": "2022-04-13T18:05:42.669Z"
   },
   {
    "duration": 7,
    "start_time": "2022-04-13T18:05:42.682Z"
   },
   {
    "duration": 63,
    "start_time": "2022-04-13T18:05:42.691Z"
   },
   {
    "duration": 10,
    "start_time": "2022-04-13T18:05:42.755Z"
   },
   {
    "duration": 15,
    "start_time": "2022-04-13T18:05:42.766Z"
   },
   {
    "duration": 15,
    "start_time": "2022-04-13T18:05:42.784Z"
   },
   {
    "duration": 39,
    "start_time": "2022-04-13T18:05:42.801Z"
   },
   {
    "duration": 8,
    "start_time": "2022-04-13T18:05:42.841Z"
   },
   {
    "duration": 70,
    "start_time": "2022-04-13T18:05:42.852Z"
   },
   {
    "duration": 11,
    "start_time": "2022-04-13T18:05:42.926Z"
   },
   {
    "duration": 17,
    "start_time": "2022-04-13T18:05:42.939Z"
   },
   {
    "duration": 5,
    "start_time": "2022-04-13T18:05:42.958Z"
   },
   {
    "duration": 10,
    "start_time": "2022-04-13T18:05:42.966Z"
   },
   {
    "duration": 9,
    "start_time": "2022-04-13T18:05:42.978Z"
   },
   {
    "duration": 14,
    "start_time": "2022-04-13T18:05:42.988Z"
   },
   {
    "duration": 11,
    "start_time": "2022-04-13T18:05:43.005Z"
   },
   {
    "duration": 15,
    "start_time": "2022-04-13T18:05:43.026Z"
   },
   {
    "duration": 17,
    "start_time": "2022-04-13T18:05:43.042Z"
   },
   {
    "duration": 15,
    "start_time": "2022-04-13T18:05:43.063Z"
   },
   {
    "duration": 20,
    "start_time": "2022-04-13T18:05:43.079Z"
   },
   {
    "duration": 11,
    "start_time": "2022-04-13T18:05:43.101Z"
   },
   {
    "duration": 32,
    "start_time": "2022-04-13T18:05:43.113Z"
   },
   {
    "duration": 10,
    "start_time": "2022-04-13T18:05:59.771Z"
   },
   {
    "duration": 22,
    "start_time": "2022-04-13T18:06:19.354Z"
   },
   {
    "duration": 3,
    "start_time": "2022-04-13T18:06:41.101Z"
   },
   {
    "duration": 8,
    "start_time": "2022-04-13T18:06:45.325Z"
   },
   {
    "duration": 19,
    "start_time": "2022-04-13T18:07:01.045Z"
   },
   {
    "duration": 4,
    "start_time": "2022-04-13T18:07:32.471Z"
   },
   {
    "duration": 5,
    "start_time": "2022-04-13T18:07:34.919Z"
   },
   {
    "duration": 6,
    "start_time": "2022-04-13T18:07:37.111Z"
   },
   {
    "duration": 8,
    "start_time": "2022-04-13T18:08:38.681Z"
   },
   {
    "duration": 10,
    "start_time": "2022-04-13T18:10:13.917Z"
   },
   {
    "duration": 2,
    "start_time": "2022-04-13T18:11:43.918Z"
   },
   {
    "duration": 158,
    "start_time": "2022-04-13T18:11:43.925Z"
   },
   {
    "duration": 8,
    "start_time": "2022-04-13T18:11:44.085Z"
   },
   {
    "duration": 50,
    "start_time": "2022-04-13T18:11:44.095Z"
   },
   {
    "duration": 52,
    "start_time": "2022-04-13T18:11:44.147Z"
   },
   {
    "duration": 74,
    "start_time": "2022-04-13T18:11:44.200Z"
   },
   {
    "duration": 16,
    "start_time": "2022-04-13T18:11:44.276Z"
   },
   {
    "duration": 19,
    "start_time": "2022-04-13T18:11:44.294Z"
   },
   {
    "duration": 45,
    "start_time": "2022-04-13T18:11:44.324Z"
   },
   {
    "duration": 128,
    "start_time": "2022-04-13T18:11:44.374Z"
   },
   {
    "duration": 9,
    "start_time": "2022-04-13T18:11:44.504Z"
   },
   {
    "duration": 34,
    "start_time": "2022-04-13T18:11:44.522Z"
   },
   {
    "duration": 51,
    "start_time": "2022-04-13T18:11:44.558Z"
   },
   {
    "duration": 28,
    "start_time": "2022-04-13T18:11:44.611Z"
   },
   {
    "duration": 43,
    "start_time": "2022-04-13T18:11:44.643Z"
   },
   {
    "duration": 149,
    "start_time": "2022-04-13T18:11:44.687Z"
   },
   {
    "duration": 12,
    "start_time": "2022-04-13T18:11:44.844Z"
   },
   {
    "duration": 22,
    "start_time": "2022-04-13T18:11:44.857Z"
   },
   {
    "duration": 52,
    "start_time": "2022-04-13T18:11:44.881Z"
   },
   {
    "duration": 20,
    "start_time": "2022-04-13T18:11:44.935Z"
   },
   {
    "duration": 33,
    "start_time": "2022-04-13T18:11:44.956Z"
   },
   {
    "duration": 2,
    "start_time": "2022-04-13T18:11:44.990Z"
   },
   {
    "duration": 4,
    "start_time": "2022-04-13T18:11:44.994Z"
   },
   {
    "duration": 5,
    "start_time": "2022-04-13T18:11:44.999Z"
   },
   {
    "duration": 9,
    "start_time": "2022-04-13T18:11:45.022Z"
   },
   {
    "duration": 8,
    "start_time": "2022-04-13T18:11:45.033Z"
   },
   {
    "duration": 8,
    "start_time": "2022-04-13T18:11:45.045Z"
   },
   {
    "duration": 17,
    "start_time": "2022-04-13T18:11:45.059Z"
   },
   {
    "duration": 17,
    "start_time": "2022-04-13T18:11:45.078Z"
   },
   {
    "duration": 4,
    "start_time": "2022-04-13T18:11:45.097Z"
   },
   {
    "duration": 7,
    "start_time": "2022-04-13T18:11:45.103Z"
   },
   {
    "duration": 44,
    "start_time": "2022-04-13T18:11:45.111Z"
   },
   {
    "duration": 72,
    "start_time": "2022-04-13T18:11:45.159Z"
   },
   {
    "duration": 84,
    "start_time": "2022-04-13T18:11:45.245Z"
   },
   {
    "duration": 9,
    "start_time": "2022-04-13T18:11:45.337Z"
   },
   {
    "duration": 10,
    "start_time": "2022-04-13T18:11:45.348Z"
   },
   {
    "duration": 9,
    "start_time": "2022-04-13T18:11:45.360Z"
   },
   {
    "duration": 7,
    "start_time": "2022-04-13T18:11:45.370Z"
   },
   {
    "duration": 46,
    "start_time": "2022-04-13T18:11:45.379Z"
   },
   {
    "duration": 3,
    "start_time": "2022-04-13T18:11:45.427Z"
   },
   {
    "duration": 23,
    "start_time": "2022-04-13T18:11:45.432Z"
   },
   {
    "duration": 26,
    "start_time": "2022-04-13T18:11:45.457Z"
   },
   {
    "duration": 58,
    "start_time": "2022-04-13T18:11:45.486Z"
   },
   {
    "duration": 121,
    "start_time": "2022-04-13T18:11:45.546Z"
   },
   {
    "duration": 15,
    "start_time": "2022-04-13T18:11:45.669Z"
   },
   {
    "duration": 19,
    "start_time": "2022-04-13T18:11:45.686Z"
   },
   {
    "duration": 19,
    "start_time": "2022-04-13T18:11:45.706Z"
   },
   {
    "duration": 22,
    "start_time": "2022-04-13T18:11:45.727Z"
   },
   {
    "duration": 31,
    "start_time": "2022-04-13T18:11:45.751Z"
   },
   {
    "duration": 4,
    "start_time": "2022-04-13T18:11:45.783Z"
   },
   {
    "duration": 19,
    "start_time": "2022-04-13T18:11:45.789Z"
   },
   {
    "duration": 130,
    "start_time": "2022-04-13T18:11:45.810Z"
   },
   {
    "duration": 9,
    "start_time": "2022-04-13T18:11:45.951Z"
   },
   {
    "duration": 21,
    "start_time": "2022-04-13T18:11:46.030Z"
   },
   {
    "duration": 14,
    "start_time": "2022-04-13T18:11:46.059Z"
   },
   {
    "duration": 7,
    "start_time": "2022-04-13T18:11:46.075Z"
   },
   {
    "duration": 18,
    "start_time": "2022-04-13T18:11:46.083Z"
   },
   {
    "duration": 17,
    "start_time": "2022-04-13T18:11:46.103Z"
   },
   {
    "duration": 12,
    "start_time": "2022-04-13T18:11:46.126Z"
   },
   {
    "duration": 19,
    "start_time": "2022-04-13T18:11:46.141Z"
   },
   {
    "duration": 17,
    "start_time": "2022-04-13T18:11:46.162Z"
   },
   {
    "duration": 12,
    "start_time": "2022-04-13T18:11:46.181Z"
   },
   {
    "duration": 32,
    "start_time": "2022-04-13T18:11:46.195Z"
   },
   {
    "duration": 15,
    "start_time": "2022-04-13T18:11:46.233Z"
   },
   {
    "duration": 23,
    "start_time": "2022-04-13T18:11:46.251Z"
   },
   {
    "duration": 18,
    "start_time": "2022-04-13T18:11:46.276Z"
   },
   {
    "duration": 29,
    "start_time": "2022-04-13T18:11:46.296Z"
   },
   {
    "duration": 24,
    "start_time": "2022-04-13T18:11:46.328Z"
   },
   {
    "duration": 22,
    "start_time": "2022-04-13T18:11:46.355Z"
   },
   {
    "duration": 20,
    "start_time": "2022-04-13T18:11:46.383Z"
   },
   {
    "duration": 3,
    "start_time": "2022-04-13T18:12:46.603Z"
   },
   {
    "duration": 9,
    "start_time": "2022-04-13T18:14:40.072Z"
   },
   {
    "duration": 12,
    "start_time": "2022-04-13T18:14:46.745Z"
   },
   {
    "duration": 6,
    "start_time": "2022-04-13T18:24:07.328Z"
   },
   {
    "duration": 27,
    "start_time": "2022-04-13T18:26:07.833Z"
   },
   {
    "duration": 15,
    "start_time": "2022-04-13T18:26:28.498Z"
   },
   {
    "duration": 10,
    "start_time": "2022-04-13T18:26:35.179Z"
   },
   {
    "duration": 10,
    "start_time": "2022-04-13T18:28:34.861Z"
   },
   {
    "duration": 10,
    "start_time": "2022-04-13T18:29:31.607Z"
   },
   {
    "duration": 11,
    "start_time": "2022-04-13T18:29:33.573Z"
   },
   {
    "duration": 25,
    "start_time": "2022-04-13T18:35:15.537Z"
   },
   {
    "duration": 14,
    "start_time": "2022-04-13T18:36:04.015Z"
   },
   {
    "duration": 17,
    "start_time": "2022-04-13T18:37:45.829Z"
   },
   {
    "duration": 4,
    "start_time": "2022-04-13T18:38:29.569Z"
   },
   {
    "duration": 4,
    "start_time": "2022-04-13T18:40:27.002Z"
   },
   {
    "duration": 1675,
    "start_time": "2022-04-13T18:41:50.936Z"
   },
   {
    "duration": 6,
    "start_time": "2022-04-13T18:41:52.991Z"
   },
   {
    "duration": 1326,
    "start_time": "2022-04-13T18:42:04.074Z"
   },
   {
    "duration": 1316,
    "start_time": "2022-04-13T18:42:07.301Z"
   },
   {
    "duration": 1484,
    "start_time": "2022-04-13T18:42:50.021Z"
   },
   {
    "duration": 1459,
    "start_time": "2022-04-13T18:43:12.852Z"
   },
   {
    "duration": 1312,
    "start_time": "2022-04-13T18:47:02.635Z"
   },
   {
    "duration": 1436,
    "start_time": "2022-04-13T18:52:19.589Z"
   },
   {
    "duration": 1632,
    "start_time": "2022-04-13T18:53:15.599Z"
   },
   {
    "duration": 196,
    "start_time": "2022-04-13T18:53:26.813Z"
   },
   {
    "duration": 1333,
    "start_time": "2022-04-13T18:53:31.937Z"
   },
   {
    "duration": 1439,
    "start_time": "2022-04-13T18:54:18.517Z"
   },
   {
    "duration": 1301,
    "start_time": "2022-04-13T18:54:45.140Z"
   },
   {
    "duration": 1385,
    "start_time": "2022-04-13T18:55:08.568Z"
   },
   {
    "duration": 3,
    "start_time": "2022-04-13T18:55:46.064Z"
   },
   {
    "duration": 190,
    "start_time": "2022-04-13T18:55:46.068Z"
   },
   {
    "duration": 11,
    "start_time": "2022-04-13T18:55:46.260Z"
   },
   {
    "duration": 31,
    "start_time": "2022-04-13T18:55:46.273Z"
   },
   {
    "duration": 54,
    "start_time": "2022-04-13T18:55:46.307Z"
   },
   {
    "duration": 43,
    "start_time": "2022-04-13T18:55:46.364Z"
   },
   {
    "duration": 32,
    "start_time": "2022-04-13T18:55:46.409Z"
   },
   {
    "duration": 17,
    "start_time": "2022-04-13T18:55:46.443Z"
   },
   {
    "duration": 27,
    "start_time": "2022-04-13T18:55:46.463Z"
   },
   {
    "duration": 139,
    "start_time": "2022-04-13T18:55:46.492Z"
   },
   {
    "duration": 14,
    "start_time": "2022-04-13T18:55:46.635Z"
   },
   {
    "duration": 28,
    "start_time": "2022-04-13T18:55:46.650Z"
   },
   {
    "duration": 49,
    "start_time": "2022-04-13T18:55:46.680Z"
   },
   {
    "duration": 20,
    "start_time": "2022-04-13T18:55:46.730Z"
   },
   {
    "duration": 29,
    "start_time": "2022-04-13T18:55:46.752Z"
   },
   {
    "duration": 142,
    "start_time": "2022-04-13T18:55:46.782Z"
   },
   {
    "duration": 12,
    "start_time": "2022-04-13T18:55:46.925Z"
   },
   {
    "duration": 33,
    "start_time": "2022-04-13T18:55:46.942Z"
   },
   {
    "duration": 39,
    "start_time": "2022-04-13T18:55:46.976Z"
   },
   {
    "duration": 27,
    "start_time": "2022-04-13T18:55:47.017Z"
   },
   {
    "duration": 30,
    "start_time": "2022-04-13T18:55:47.048Z"
   },
   {
    "duration": 3,
    "start_time": "2022-04-13T18:55:47.080Z"
   },
   {
    "duration": 17,
    "start_time": "2022-04-13T18:55:47.084Z"
   },
   {
    "duration": 30,
    "start_time": "2022-04-13T18:55:47.103Z"
   },
   {
    "duration": 16,
    "start_time": "2022-04-13T18:55:47.135Z"
   },
   {
    "duration": 13,
    "start_time": "2022-04-13T18:55:47.153Z"
   },
   {
    "duration": 16,
    "start_time": "2022-04-13T18:55:47.168Z"
   },
   {
    "duration": 24,
    "start_time": "2022-04-13T18:55:47.186Z"
   },
   {
    "duration": 45,
    "start_time": "2022-04-13T18:55:47.214Z"
   },
   {
    "duration": 18,
    "start_time": "2022-04-13T18:55:47.261Z"
   },
   {
    "duration": 20,
    "start_time": "2022-04-13T18:55:47.280Z"
   },
   {
    "duration": 52,
    "start_time": "2022-04-13T18:55:47.301Z"
   },
   {
    "duration": 67,
    "start_time": "2022-04-13T18:55:47.355Z"
   },
   {
    "duration": 101,
    "start_time": "2022-04-13T18:55:47.424Z"
   },
   {
    "duration": 27,
    "start_time": "2022-04-13T18:55:47.530Z"
   },
   {
    "duration": 32,
    "start_time": "2022-04-13T18:55:47.560Z"
   },
   {
    "duration": 26,
    "start_time": "2022-04-13T18:55:47.593Z"
   },
   {
    "duration": 34,
    "start_time": "2022-04-13T18:55:47.621Z"
   },
   {
    "duration": 21,
    "start_time": "2022-04-13T18:55:47.659Z"
   },
   {
    "duration": 12,
    "start_time": "2022-04-13T18:55:47.682Z"
   },
   {
    "duration": 37,
    "start_time": "2022-04-13T18:55:47.696Z"
   },
   {
    "duration": 39,
    "start_time": "2022-04-13T18:55:47.735Z"
   },
   {
    "duration": 7,
    "start_time": "2022-04-13T18:55:47.837Z"
   },
   {
    "duration": 95,
    "start_time": "2022-04-13T18:55:47.845Z"
   },
   {
    "duration": 32,
    "start_time": "2022-04-13T18:55:47.942Z"
   },
   {
    "duration": 21,
    "start_time": "2022-04-13T18:55:47.976Z"
   },
   {
    "duration": 22,
    "start_time": "2022-04-13T18:55:47.999Z"
   },
   {
    "duration": 21,
    "start_time": "2022-04-13T18:55:48.027Z"
   },
   {
    "duration": 44,
    "start_time": "2022-04-13T18:55:48.050Z"
   },
   {
    "duration": 4,
    "start_time": "2022-04-13T18:55:48.096Z"
   },
   {
    "duration": 20,
    "start_time": "2022-04-13T18:55:48.101Z"
   },
   {
    "duration": 38,
    "start_time": "2022-04-13T18:55:48.123Z"
   },
   {
    "duration": 61,
    "start_time": "2022-04-13T18:55:48.167Z"
   },
   {
    "duration": 19,
    "start_time": "2022-04-13T18:55:48.230Z"
   },
   {
    "duration": 87,
    "start_time": "2022-04-13T18:55:48.252Z"
   },
   {
    "duration": 19,
    "start_time": "2022-04-13T18:55:48.341Z"
   },
   {
    "duration": 6,
    "start_time": "2022-04-13T18:55:48.364Z"
   },
   {
    "duration": 25,
    "start_time": "2022-04-13T18:55:48.371Z"
   },
   {
    "duration": 30,
    "start_time": "2022-04-13T18:55:48.398Z"
   },
   {
    "duration": 20,
    "start_time": "2022-04-13T18:55:48.430Z"
   },
   {
    "duration": 14,
    "start_time": "2022-04-13T18:55:48.452Z"
   },
   {
    "duration": 45,
    "start_time": "2022-04-13T18:55:48.467Z"
   },
   {
    "duration": 19,
    "start_time": "2022-04-13T18:55:48.515Z"
   },
   {
    "duration": 22,
    "start_time": "2022-04-13T18:55:48.536Z"
   },
   {
    "duration": 8,
    "start_time": "2022-04-13T18:55:48.560Z"
   },
   {
    "duration": 13,
    "start_time": "2022-04-13T18:55:48.570Z"
   },
   {
    "duration": 26,
    "start_time": "2022-04-13T18:55:48.584Z"
   },
   {
    "duration": 1399,
    "start_time": "2022-04-13T18:55:48.612Z"
   },
   {
    "duration": 1365,
    "start_time": "2022-04-13T18:56:14.127Z"
   },
   {
    "duration": 3,
    "start_time": "2022-04-13T18:56:35.775Z"
   },
   {
    "duration": 163,
    "start_time": "2022-04-13T18:56:35.781Z"
   },
   {
    "duration": 11,
    "start_time": "2022-04-13T18:56:35.946Z"
   },
   {
    "duration": 17,
    "start_time": "2022-04-13T18:56:35.959Z"
   },
   {
    "duration": 78,
    "start_time": "2022-04-13T18:56:35.978Z"
   },
   {
    "duration": 53,
    "start_time": "2022-04-13T18:56:36.059Z"
   },
   {
    "duration": 23,
    "start_time": "2022-04-13T18:56:36.114Z"
   },
   {
    "duration": 21,
    "start_time": "2022-04-13T18:56:36.142Z"
   },
   {
    "duration": 27,
    "start_time": "2022-04-13T18:56:36.168Z"
   },
   {
    "duration": 142,
    "start_time": "2022-04-13T18:56:36.196Z"
   },
   {
    "duration": 14,
    "start_time": "2022-04-13T18:56:36.340Z"
   },
   {
    "duration": 17,
    "start_time": "2022-04-13T18:56:36.355Z"
   },
   {
    "duration": 35,
    "start_time": "2022-04-13T18:56:36.375Z"
   },
   {
    "duration": 25,
    "start_time": "2022-04-13T18:56:36.424Z"
   },
   {
    "duration": 32,
    "start_time": "2022-04-13T18:56:36.453Z"
   },
   {
    "duration": 133,
    "start_time": "2022-04-13T18:56:36.487Z"
   },
   {
    "duration": 16,
    "start_time": "2022-04-13T18:56:36.621Z"
   },
   {
    "duration": 19,
    "start_time": "2022-04-13T18:56:36.639Z"
   },
   {
    "duration": 44,
    "start_time": "2022-04-13T18:56:36.660Z"
   },
   {
    "duration": 37,
    "start_time": "2022-04-13T18:56:36.706Z"
   },
   {
    "duration": 30,
    "start_time": "2022-04-13T18:56:36.747Z"
   },
   {
    "duration": 2,
    "start_time": "2022-04-13T18:56:36.778Z"
   },
   {
    "duration": 9,
    "start_time": "2022-04-13T18:56:36.782Z"
   },
   {
    "duration": 4,
    "start_time": "2022-04-13T18:56:36.792Z"
   },
   {
    "duration": 4,
    "start_time": "2022-04-13T18:56:36.798Z"
   },
   {
    "duration": 27,
    "start_time": "2022-04-13T18:56:36.803Z"
   },
   {
    "duration": 21,
    "start_time": "2022-04-13T18:56:36.831Z"
   },
   {
    "duration": 12,
    "start_time": "2022-04-13T18:56:36.854Z"
   },
   {
    "duration": 17,
    "start_time": "2022-04-13T18:56:36.868Z"
   },
   {
    "duration": 3,
    "start_time": "2022-04-13T18:56:36.887Z"
   },
   {
    "duration": 7,
    "start_time": "2022-04-13T18:56:36.892Z"
   },
   {
    "duration": 52,
    "start_time": "2022-04-13T18:56:36.901Z"
   },
   {
    "duration": 10,
    "start_time": "2022-04-13T18:56:37.028Z"
   },
   {
    "duration": 18,
    "start_time": "2022-04-13T18:56:37.043Z"
   },
   {
    "duration": 6,
    "start_time": "2022-04-13T18:56:37.063Z"
   },
   {
    "duration": 6,
    "start_time": "2022-04-13T18:56:37.124Z"
   },
   {
    "duration": 11,
    "start_time": "2022-04-13T18:56:37.142Z"
   },
   {
    "duration": 10,
    "start_time": "2022-04-13T18:56:37.155Z"
   },
   {
    "duration": 22,
    "start_time": "2022-04-13T18:56:37.167Z"
   },
   {
    "duration": 3,
    "start_time": "2022-04-13T18:56:37.191Z"
   },
   {
    "duration": 5,
    "start_time": "2022-04-13T18:56:37.195Z"
   },
   {
    "duration": 38,
    "start_time": "2022-04-13T18:56:37.202Z"
   },
   {
    "duration": 4,
    "start_time": "2022-04-13T18:56:37.242Z"
   },
   {
    "duration": 80,
    "start_time": "2022-04-13T18:56:37.250Z"
   },
   {
    "duration": 88,
    "start_time": "2022-04-13T18:56:37.334Z"
   },
   {
    "duration": 6,
    "start_time": "2022-04-13T18:56:37.424Z"
   },
   {
    "duration": 11,
    "start_time": "2022-04-13T18:56:37.431Z"
   },
   {
    "duration": 17,
    "start_time": "2022-04-13T18:56:37.444Z"
   },
   {
    "duration": 20,
    "start_time": "2022-04-13T18:56:37.463Z"
   },
   {
    "duration": 3,
    "start_time": "2022-04-13T18:56:37.485Z"
   },
   {
    "duration": 5,
    "start_time": "2022-04-13T18:56:37.490Z"
   },
   {
    "duration": 59,
    "start_time": "2022-04-13T18:56:37.496Z"
   },
   {
    "duration": 7,
    "start_time": "2022-04-13T18:56:37.558Z"
   },
   {
    "duration": 68,
    "start_time": "2022-04-13T18:56:37.569Z"
   },
   {
    "duration": 90,
    "start_time": "2022-04-13T18:56:37.640Z"
   },
   {
    "duration": 9,
    "start_time": "2022-04-13T18:56:37.733Z"
   },
   {
    "duration": 15,
    "start_time": "2022-04-13T18:56:37.744Z"
   },
   {
    "duration": 5,
    "start_time": "2022-04-13T18:56:37.761Z"
   },
   {
    "duration": 6,
    "start_time": "2022-04-13T18:56:37.767Z"
   },
   {
    "duration": 5,
    "start_time": "2022-04-13T18:56:37.775Z"
   },
   {
    "duration": 5,
    "start_time": "2022-04-13T18:56:37.782Z"
   },
   {
    "duration": 5,
    "start_time": "2022-04-13T18:56:37.788Z"
   },
   {
    "duration": 8,
    "start_time": "2022-04-13T18:56:37.795Z"
   },
   {
    "duration": 7,
    "start_time": "2022-04-13T18:56:37.805Z"
   },
   {
    "duration": 22,
    "start_time": "2022-04-13T18:56:37.826Z"
   },
   {
    "duration": 13,
    "start_time": "2022-04-13T18:56:37.850Z"
   },
   {
    "duration": 8,
    "start_time": "2022-04-13T18:56:37.864Z"
   },
   {
    "duration": 1387,
    "start_time": "2022-04-13T18:56:37.874Z"
   },
   {
    "duration": 1316,
    "start_time": "2022-04-13T18:57:02.054Z"
   },
   {
    "duration": 4,
    "start_time": "2022-04-13T19:00:40.034Z"
   },
   {
    "duration": 205,
    "start_time": "2022-04-13T19:00:40.040Z"
   },
   {
    "duration": 16,
    "start_time": "2022-04-13T19:00:40.249Z"
   },
   {
    "duration": 15,
    "start_time": "2022-04-13T19:00:40.269Z"
   },
   {
    "duration": 59,
    "start_time": "2022-04-13T19:00:40.286Z"
   },
   {
    "duration": 65,
    "start_time": "2022-04-13T19:00:40.350Z"
   },
   {
    "duration": 23,
    "start_time": "2022-04-13T19:00:40.431Z"
   },
   {
    "duration": 16,
    "start_time": "2022-04-13T19:00:40.456Z"
   },
   {
    "duration": 26,
    "start_time": "2022-04-13T19:00:40.475Z"
   },
   {
    "duration": 169,
    "start_time": "2022-04-13T19:00:40.503Z"
   },
   {
    "duration": 10,
    "start_time": "2022-04-13T19:00:40.674Z"
   },
   {
    "duration": 15,
    "start_time": "2022-04-13T19:00:40.687Z"
   },
   {
    "duration": 65,
    "start_time": "2022-04-13T19:00:40.704Z"
   },
   {
    "duration": 13,
    "start_time": "2022-04-13T19:00:40.772Z"
   },
   {
    "duration": 56,
    "start_time": "2022-04-13T19:00:40.787Z"
   },
   {
    "duration": 139,
    "start_time": "2022-04-13T19:00:40.844Z"
   },
   {
    "duration": 8,
    "start_time": "2022-04-13T19:00:40.985Z"
   },
   {
    "duration": 15,
    "start_time": "2022-04-13T19:00:40.995Z"
   },
   {
    "duration": 66,
    "start_time": "2022-04-13T19:00:41.012Z"
   },
   {
    "duration": 15,
    "start_time": "2022-04-13T19:00:41.080Z"
   },
   {
    "duration": 55,
    "start_time": "2022-04-13T19:00:41.097Z"
   },
   {
    "duration": 6,
    "start_time": "2022-04-13T19:00:41.157Z"
   },
   {
    "duration": 3,
    "start_time": "2022-04-13T19:00:41.168Z"
   },
   {
    "duration": 2,
    "start_time": "2022-04-13T19:00:41.176Z"
   },
   {
    "duration": 5,
    "start_time": "2022-04-13T19:00:41.180Z"
   },
   {
    "duration": 4,
    "start_time": "2022-04-13T19:00:41.187Z"
   },
   {
    "duration": 4,
    "start_time": "2022-04-13T19:00:41.193Z"
   },
   {
    "duration": 37,
    "start_time": "2022-04-13T19:00:41.199Z"
   },
   {
    "duration": 44,
    "start_time": "2022-04-13T19:00:41.238Z"
   },
   {
    "duration": 3,
    "start_time": "2022-04-13T19:00:41.285Z"
   },
   {
    "duration": 4,
    "start_time": "2022-04-13T19:00:41.291Z"
   },
   {
    "duration": 56,
    "start_time": "2022-04-13T19:00:41.297Z"
   },
   {
    "duration": 5,
    "start_time": "2022-04-13T19:00:41.355Z"
   },
   {
    "duration": 8,
    "start_time": "2022-04-13T19:00:41.362Z"
   },
   {
    "duration": 22,
    "start_time": "2022-04-13T19:00:41.423Z"
   },
   {
    "duration": 14,
    "start_time": "2022-04-13T19:00:41.447Z"
   },
   {
    "duration": 10,
    "start_time": "2022-04-13T19:00:41.463Z"
   },
   {
    "duration": 7,
    "start_time": "2022-04-13T19:00:41.475Z"
   },
   {
    "duration": 62,
    "start_time": "2022-04-13T19:00:41.483Z"
   },
   {
    "duration": 10,
    "start_time": "2022-04-13T19:00:41.547Z"
   },
   {
    "duration": 10,
    "start_time": "2022-04-13T19:00:41.559Z"
   },
   {
    "duration": 20,
    "start_time": "2022-04-13T19:00:41.573Z"
   },
   {
    "duration": 4,
    "start_time": "2022-04-13T19:00:41.629Z"
   },
   {
    "duration": 24,
    "start_time": "2022-04-13T19:00:41.635Z"
   },
   {
    "duration": 13,
    "start_time": "2022-04-13T19:00:41.661Z"
   },
   {
    "duration": 50,
    "start_time": "2022-04-13T19:00:41.676Z"
   },
   {
    "duration": 7,
    "start_time": "2022-04-13T19:00:41.729Z"
   },
   {
    "duration": 11,
    "start_time": "2022-04-13T19:00:41.744Z"
   },
   {
    "duration": 26,
    "start_time": "2022-04-13T19:00:41.757Z"
   },
   {
    "duration": 3,
    "start_time": "2022-04-13T19:00:41.784Z"
   },
   {
    "duration": 6,
    "start_time": "2022-04-13T19:00:41.788Z"
   },
   {
    "duration": 68,
    "start_time": "2022-04-13T19:00:41.796Z"
   },
   {
    "duration": 51,
    "start_time": "2022-04-13T19:00:41.872Z"
   },
   {
    "duration": 16,
    "start_time": "2022-04-13T19:00:41.929Z"
   },
   {
    "duration": 75,
    "start_time": "2022-04-13T19:00:41.947Z"
   },
   {
    "duration": 16,
    "start_time": "2022-04-13T19:00:42.024Z"
   },
   {
    "duration": 15,
    "start_time": "2022-04-13T19:00:42.042Z"
   },
   {
    "duration": 12,
    "start_time": "2022-04-13T19:00:42.059Z"
   },
   {
    "duration": 3,
    "start_time": "2022-04-13T19:00:42.074Z"
   },
   {
    "duration": 6,
    "start_time": "2022-04-13T19:00:42.079Z"
   },
   {
    "duration": 5,
    "start_time": "2022-04-13T19:00:42.087Z"
   },
   {
    "duration": 2,
    "start_time": "2022-04-13T19:00:42.094Z"
   },
   {
    "duration": 8,
    "start_time": "2022-04-13T19:00:42.098Z"
   },
   {
    "duration": 26,
    "start_time": "2022-04-13T19:00:42.108Z"
   },
   {
    "duration": 10,
    "start_time": "2022-04-13T19:00:42.138Z"
   },
   {
    "duration": 5,
    "start_time": "2022-04-13T19:00:42.157Z"
   },
   {
    "duration": 7,
    "start_time": "2022-04-13T19:00:42.163Z"
   },
   {
    "duration": 1358,
    "start_time": "2022-04-13T19:00:42.172Z"
   },
   {
    "duration": 1518,
    "start_time": "2022-04-13T19:00:43.535Z"
   },
   {
    "duration": 1334,
    "start_time": "2022-04-13T19:00:45.055Z"
   },
   {
    "duration": 36,
    "start_time": "2022-04-13T20:26:19.578Z"
   },
   {
    "duration": 38,
    "start_time": "2022-04-13T20:33:01.517Z"
   },
   {
    "duration": 37,
    "start_time": "2022-04-13T20:33:40.711Z"
   },
   {
    "duration": 36,
    "start_time": "2022-04-13T20:34:23.932Z"
   },
   {
    "duration": 4,
    "start_time": "2022-04-13T20:35:20.382Z"
   },
   {
    "duration": 161,
    "start_time": "2022-04-13T20:35:20.394Z"
   },
   {
    "duration": 9,
    "start_time": "2022-04-13T20:35:20.557Z"
   },
   {
    "duration": 21,
    "start_time": "2022-04-13T20:35:20.567Z"
   },
   {
    "duration": 67,
    "start_time": "2022-04-13T20:35:20.590Z"
   },
   {
    "duration": 74,
    "start_time": "2022-04-13T20:35:20.659Z"
   },
   {
    "duration": 15,
    "start_time": "2022-04-13T20:35:20.735Z"
   },
   {
    "duration": 38,
    "start_time": "2022-04-13T20:35:20.752Z"
   },
   {
    "duration": 46,
    "start_time": "2022-04-13T20:35:20.791Z"
   },
   {
    "duration": 128,
    "start_time": "2022-04-13T20:35:20.839Z"
   },
   {
    "duration": 9,
    "start_time": "2022-04-13T20:35:20.968Z"
   },
   {
    "duration": 26,
    "start_time": "2022-04-13T20:35:20.979Z"
   },
   {
    "duration": 48,
    "start_time": "2022-04-13T20:35:21.007Z"
   },
   {
    "duration": 15,
    "start_time": "2022-04-13T20:35:21.057Z"
   },
   {
    "duration": 61,
    "start_time": "2022-04-13T20:35:21.076Z"
   },
   {
    "duration": 129,
    "start_time": "2022-04-13T20:35:21.139Z"
   },
   {
    "duration": 9,
    "start_time": "2022-04-13T20:35:21.270Z"
   },
   {
    "duration": 17,
    "start_time": "2022-04-13T20:35:21.281Z"
   },
   {
    "duration": 59,
    "start_time": "2022-04-13T20:35:21.300Z"
   },
   {
    "duration": 14,
    "start_time": "2022-04-13T20:35:21.362Z"
   },
   {
    "duration": 55,
    "start_time": "2022-04-13T20:35:21.377Z"
   },
   {
    "duration": 7,
    "start_time": "2022-04-13T20:35:21.433Z"
   },
   {
    "duration": 17,
    "start_time": "2022-04-13T20:35:21.442Z"
   },
   {
    "duration": 3,
    "start_time": "2022-04-13T20:35:21.461Z"
   },
   {
    "duration": 3,
    "start_time": "2022-04-13T20:35:21.467Z"
   },
   {
    "duration": 15,
    "start_time": "2022-04-13T20:35:21.472Z"
   },
   {
    "duration": 10,
    "start_time": "2022-04-13T20:35:21.526Z"
   },
   {
    "duration": 94,
    "start_time": "2022-04-13T20:35:21.538Z"
   },
   {
    "duration": 6,
    "start_time": "2022-04-13T20:35:21.635Z"
   },
   {
    "duration": 5,
    "start_time": "2022-04-13T20:35:21.643Z"
   },
   {
    "duration": 5,
    "start_time": "2022-04-13T20:35:21.650Z"
   },
   {
    "duration": 11,
    "start_time": "2022-04-13T20:35:21.657Z"
   },
   {
    "duration": 24,
    "start_time": "2022-04-13T20:35:21.669Z"
   },
   {
    "duration": 8,
    "start_time": "2022-04-13T20:35:21.723Z"
   },
   {
    "duration": 3,
    "start_time": "2022-04-13T20:35:21.733Z"
   },
   {
    "duration": 99,
    "start_time": "2022-04-13T20:35:21.738Z"
   },
   {
    "duration": 87,
    "start_time": "2022-04-13T20:35:21.839Z"
   },
   {
    "duration": 13,
    "start_time": "2022-04-13T20:35:21.935Z"
   },
   {
    "duration": 16,
    "start_time": "2022-04-13T20:35:21.949Z"
   },
   {
    "duration": 13,
    "start_time": "2022-04-13T20:35:21.966Z"
   },
   {
    "duration": 9,
    "start_time": "2022-04-13T20:35:21.981Z"
   },
   {
    "duration": 25,
    "start_time": "2022-04-13T20:35:21.994Z"
   },
   {
    "duration": 35,
    "start_time": "2022-04-13T20:35:22.021Z"
   },
   {
    "duration": 15,
    "start_time": "2022-04-13T20:35:22.057Z"
   },
   {
    "duration": 25,
    "start_time": "2022-04-13T20:35:22.073Z"
   },
   {
    "duration": 28,
    "start_time": "2022-04-13T20:35:22.100Z"
   },
   {
    "duration": 9,
    "start_time": "2022-04-13T20:35:22.130Z"
   },
   {
    "duration": 92,
    "start_time": "2022-04-13T20:35:22.141Z"
   },
   {
    "duration": 90,
    "start_time": "2022-04-13T20:35:22.235Z"
   },
   {
    "duration": 9,
    "start_time": "2022-04-13T20:35:22.327Z"
   },
   {
    "duration": 20,
    "start_time": "2022-04-13T20:35:22.337Z"
   },
   {
    "duration": 7,
    "start_time": "2022-04-13T20:35:22.359Z"
   },
   {
    "duration": 25,
    "start_time": "2022-04-13T20:35:22.367Z"
   },
   {
    "duration": 24,
    "start_time": "2022-04-13T20:35:22.394Z"
   },
   {
    "duration": 15,
    "start_time": "2022-04-13T20:35:22.420Z"
   },
   {
    "duration": 12,
    "start_time": "2022-04-13T20:35:22.437Z"
   },
   {
    "duration": 17,
    "start_time": "2022-04-13T20:35:22.451Z"
   },
   {
    "duration": 1370,
    "start_time": "2022-04-13T20:35:22.470Z"
   },
   {
    "duration": 1314,
    "start_time": "2022-04-13T20:35:23.843Z"
   },
   {
    "duration": 1219,
    "start_time": "2022-04-13T20:35:25.158Z"
   },
   {
    "duration": 1196,
    "start_time": "2022-04-13T20:36:43.363Z"
   },
   {
    "duration": 1199,
    "start_time": "2022-04-13T20:43:03.544Z"
   },
   {
    "duration": 1234,
    "start_time": "2022-04-13T20:51:39.480Z"
   },
   {
    "duration": 1412,
    "start_time": "2022-04-13T20:52:07.992Z"
   },
   {
    "duration": 4,
    "start_time": "2022-04-13T21:15:46.066Z"
   },
   {
    "duration": 152,
    "start_time": "2022-04-13T21:15:46.072Z"
   },
   {
    "duration": 10,
    "start_time": "2022-04-13T21:15:46.226Z"
   },
   {
    "duration": 16,
    "start_time": "2022-04-13T21:15:46.238Z"
   },
   {
    "duration": 38,
    "start_time": "2022-04-13T21:15:46.255Z"
   },
   {
    "duration": 69,
    "start_time": "2022-04-13T21:15:46.295Z"
   },
   {
    "duration": 19,
    "start_time": "2022-04-13T21:15:46.366Z"
   },
   {
    "duration": 17,
    "start_time": "2022-04-13T21:15:46.387Z"
   },
   {
    "duration": 48,
    "start_time": "2022-04-13T21:15:46.407Z"
   },
   {
    "duration": 116,
    "start_time": "2022-04-13T21:15:46.457Z"
   },
   {
    "duration": 9,
    "start_time": "2022-04-13T21:15:46.574Z"
   },
   {
    "duration": 14,
    "start_time": "2022-04-13T21:15:46.585Z"
   },
   {
    "duration": 59,
    "start_time": "2022-04-13T21:15:46.600Z"
   },
   {
    "duration": 14,
    "start_time": "2022-04-13T21:15:46.660Z"
   },
   {
    "duration": 54,
    "start_time": "2022-04-13T21:15:46.676Z"
   },
   {
    "duration": 126,
    "start_time": "2022-04-13T21:15:46.732Z"
   },
   {
    "duration": 8,
    "start_time": "2022-04-13T21:15:46.860Z"
   },
   {
    "duration": 14,
    "start_time": "2022-04-13T21:15:46.870Z"
   },
   {
    "duration": 59,
    "start_time": "2022-04-13T21:15:46.886Z"
   },
   {
    "duration": 14,
    "start_time": "2022-04-13T21:15:46.947Z"
   },
   {
    "duration": 32,
    "start_time": "2022-04-13T21:15:46.963Z"
   },
   {
    "duration": 33,
    "start_time": "2022-04-13T21:15:46.997Z"
   },
   {
    "duration": 17,
    "start_time": "2022-04-13T21:15:47.032Z"
   },
   {
    "duration": 3,
    "start_time": "2022-04-13T21:15:47.053Z"
   },
   {
    "duration": 5,
    "start_time": "2022-04-13T21:15:47.057Z"
   },
   {
    "duration": 67,
    "start_time": "2022-04-13T21:15:47.064Z"
   },
   {
    "duration": 9,
    "start_time": "2022-04-13T21:15:47.132Z"
   },
   {
    "duration": 84,
    "start_time": "2022-04-13T21:15:47.144Z"
   },
   {
    "duration": 10,
    "start_time": "2022-04-13T21:15:47.229Z"
   },
   {
    "duration": 4,
    "start_time": "2022-04-13T21:15:47.241Z"
   },
   {
    "duration": 5,
    "start_time": "2022-04-13T21:15:47.246Z"
   },
   {
    "duration": 5,
    "start_time": "2022-04-13T21:15:47.252Z"
   },
   {
    "duration": 21,
    "start_time": "2022-04-13T21:15:47.259Z"
   },
   {
    "duration": 3,
    "start_time": "2022-04-13T21:15:47.282Z"
   },
   {
    "duration": 5,
    "start_time": "2022-04-13T21:15:47.322Z"
   },
   {
    "duration": 17,
    "start_time": "2022-04-13T21:15:47.331Z"
   },
   {
    "duration": 73,
    "start_time": "2022-04-13T21:15:47.350Z"
   },
   {
    "duration": 14,
    "start_time": "2022-04-13T21:15:47.429Z"
   },
   {
    "duration": 94,
    "start_time": "2022-04-13T21:15:47.444Z"
   },
   {
    "duration": 4,
    "start_time": "2022-04-13T21:15:47.540Z"
   },
   {
    "duration": 5,
    "start_time": "2022-04-13T21:15:47.546Z"
   },
   {
    "duration": 6,
    "start_time": "2022-04-13T21:15:47.553Z"
   },
   {
    "duration": 18,
    "start_time": "2022-04-13T21:15:47.560Z"
   },
   {
    "duration": 4,
    "start_time": "2022-04-13T21:15:47.580Z"
   },
   {
    "duration": 6,
    "start_time": "2022-04-13T21:15:47.585Z"
   },
   {
    "duration": 16,
    "start_time": "2022-04-13T21:15:47.631Z"
   },
   {
    "duration": 75,
    "start_time": "2022-04-13T21:15:47.648Z"
   },
   {
    "duration": 15,
    "start_time": "2022-04-13T21:15:47.724Z"
   },
   {
    "duration": 93,
    "start_time": "2022-04-13T21:15:47.741Z"
   },
   {
    "duration": 6,
    "start_time": "2022-04-13T21:15:47.836Z"
   },
   {
    "duration": 5,
    "start_time": "2022-04-13T21:15:47.843Z"
   },
   {
    "duration": 3,
    "start_time": "2022-04-13T21:15:47.850Z"
   },
   {
    "duration": 5,
    "start_time": "2022-04-13T21:15:47.855Z"
   },
   {
    "duration": 6,
    "start_time": "2022-04-13T21:15:47.862Z"
   },
   {
    "duration": 7,
    "start_time": "2022-04-13T21:15:47.870Z"
   },
   {
    "duration": 1268,
    "start_time": "2022-04-13T21:29:27.096Z"
   },
   {
    "duration": 145,
    "start_time": "2022-04-13T21:29:28.366Z"
   },
   {
    "duration": 17,
    "start_time": "2022-04-13T21:29:28.513Z"
   },
   {
    "duration": 26,
    "start_time": "2022-04-13T21:29:28.539Z"
   },
   {
    "duration": 68,
    "start_time": "2022-04-13T21:29:28.567Z"
   },
   {
    "duration": 62,
    "start_time": "2022-04-13T21:29:28.637Z"
   },
   {
    "duration": 31,
    "start_time": "2022-04-13T21:29:28.700Z"
   },
   {
    "duration": 17,
    "start_time": "2022-04-13T21:29:28.734Z"
   },
   {
    "duration": 39,
    "start_time": "2022-04-13T21:29:28.752Z"
   },
   {
    "duration": 153,
    "start_time": "2022-04-13T21:29:28.793Z"
   },
   {
    "duration": 11,
    "start_time": "2022-04-13T21:29:28.948Z"
   },
   {
    "duration": 18,
    "start_time": "2022-04-13T21:29:28.961Z"
   },
   {
    "duration": 74,
    "start_time": "2022-04-13T21:29:28.981Z"
   },
   {
    "duration": 16,
    "start_time": "2022-04-13T21:29:29.058Z"
   },
   {
    "duration": 51,
    "start_time": "2022-04-13T21:29:29.076Z"
   },
   {
    "duration": 133,
    "start_time": "2022-04-13T21:29:29.130Z"
   },
   {
    "duration": 9,
    "start_time": "2022-04-13T21:29:29.265Z"
   },
   {
    "duration": 17,
    "start_time": "2022-04-13T21:29:29.276Z"
   },
   {
    "duration": 67,
    "start_time": "2022-04-13T21:29:29.295Z"
   },
   {
    "duration": 13,
    "start_time": "2022-04-13T21:29:29.364Z"
   },
   {
    "duration": 55,
    "start_time": "2022-04-13T21:29:29.379Z"
   },
   {
    "duration": 6,
    "start_time": "2022-04-13T21:29:29.436Z"
   },
   {
    "duration": 17,
    "start_time": "2022-04-13T21:29:29.444Z"
   },
   {
    "duration": 3,
    "start_time": "2022-04-13T21:29:29.463Z"
   },
   {
    "duration": 5,
    "start_time": "2022-04-13T21:29:29.468Z"
   },
   {
    "duration": 20,
    "start_time": "2022-04-13T21:29:29.474Z"
   },
   {
    "duration": 5,
    "start_time": "2022-04-13T21:29:29.525Z"
   },
   {
    "duration": 82,
    "start_time": "2022-04-13T21:29:29.545Z"
   },
   {
    "duration": 11,
    "start_time": "2022-04-13T21:29:29.628Z"
   },
   {
    "duration": 4,
    "start_time": "2022-04-13T21:29:29.642Z"
   },
   {
    "duration": 5,
    "start_time": "2022-04-13T21:29:29.647Z"
   },
   {
    "duration": 6,
    "start_time": "2022-04-13T21:29:29.653Z"
   },
   {
    "duration": 20,
    "start_time": "2022-04-13T21:29:29.660Z"
   },
   {
    "duration": 12,
    "start_time": "2022-04-13T21:29:29.723Z"
   },
   {
    "duration": 17,
    "start_time": "2022-04-13T21:29:29.737Z"
   },
   {
    "duration": 21,
    "start_time": "2022-04-13T21:29:29.756Z"
   },
   {
    "duration": 11,
    "start_time": "2022-04-13T21:29:29.822Z"
   },
   {
    "duration": 93,
    "start_time": "2022-04-13T21:29:29.834Z"
   },
   {
    "duration": 9,
    "start_time": "2022-04-13T21:29:29.931Z"
   },
   {
    "duration": 5,
    "start_time": "2022-04-13T21:29:29.941Z"
   },
   {
    "duration": 4,
    "start_time": "2022-04-13T21:29:29.948Z"
   },
   {
    "duration": 5,
    "start_time": "2022-04-13T21:29:29.954Z"
   },
   {
    "duration": 122,
    "start_time": "2022-04-13T21:29:29.961Z"
   },
   {
    "duration": 0,
    "start_time": "2022-04-13T21:29:30.084Z"
   },
   {
    "duration": 0,
    "start_time": "2022-04-13T21:29:30.086Z"
   },
   {
    "duration": 0,
    "start_time": "2022-04-13T21:29:30.087Z"
   },
   {
    "duration": 0,
    "start_time": "2022-04-13T21:29:30.088Z"
   },
   {
    "duration": 0,
    "start_time": "2022-04-13T21:29:30.089Z"
   },
   {
    "duration": 0,
    "start_time": "2022-04-13T21:29:30.090Z"
   },
   {
    "duration": 0,
    "start_time": "2022-04-13T21:29:30.091Z"
   },
   {
    "duration": 0,
    "start_time": "2022-04-13T21:29:30.092Z"
   },
   {
    "duration": 0,
    "start_time": "2022-04-13T21:29:30.093Z"
   },
   {
    "duration": 0,
    "start_time": "2022-04-13T21:29:30.094Z"
   },
   {
    "duration": 0,
    "start_time": "2022-04-13T21:29:30.095Z"
   },
   {
    "duration": 0,
    "start_time": "2022-04-13T21:29:30.096Z"
   },
   {
    "duration": 0,
    "start_time": "2022-04-13T21:29:30.097Z"
   },
   {
    "duration": 0,
    "start_time": "2022-04-13T21:29:30.122Z"
   },
   {
    "duration": 0,
    "start_time": "2022-04-13T21:29:30.123Z"
   },
   {
    "duration": 0,
    "start_time": "2022-04-13T21:29:30.126Z"
   },
   {
    "duration": 0,
    "start_time": "2022-04-13T21:29:30.128Z"
   },
   {
    "duration": 24,
    "start_time": "2022-04-13T21:30:11.814Z"
   },
   {
    "duration": 1338,
    "start_time": "2022-04-13T21:30:25.540Z"
   },
   {
    "duration": 136,
    "start_time": "2022-04-13T21:30:26.880Z"
   },
   {
    "duration": 21,
    "start_time": "2022-04-13T21:30:27.017Z"
   },
   {
    "duration": 15,
    "start_time": "2022-04-13T21:30:27.040Z"
   },
   {
    "duration": 71,
    "start_time": "2022-04-13T21:30:27.056Z"
   },
   {
    "duration": 57,
    "start_time": "2022-04-13T21:30:27.131Z"
   },
   {
    "duration": 14,
    "start_time": "2022-04-13T21:30:27.190Z"
   },
   {
    "duration": 37,
    "start_time": "2022-04-13T21:30:27.206Z"
   },
   {
    "duration": 38,
    "start_time": "2022-04-13T21:30:27.244Z"
   },
   {
    "duration": 130,
    "start_time": "2022-04-13T21:30:27.284Z"
   },
   {
    "duration": 16,
    "start_time": "2022-04-13T21:30:27.415Z"
   },
   {
    "duration": 22,
    "start_time": "2022-04-13T21:30:27.433Z"
   },
   {
    "duration": 46,
    "start_time": "2022-04-13T21:30:27.457Z"
   },
   {
    "duration": 29,
    "start_time": "2022-04-13T21:30:27.505Z"
   },
   {
    "duration": 35,
    "start_time": "2022-04-13T21:30:27.536Z"
   },
   {
    "duration": 125,
    "start_time": "2022-04-13T21:30:27.572Z"
   },
   {
    "duration": 9,
    "start_time": "2022-04-13T21:30:27.698Z"
   },
   {
    "duration": 30,
    "start_time": "2022-04-13T21:30:27.709Z"
   },
   {
    "duration": 44,
    "start_time": "2022-04-13T21:30:27.740Z"
   },
   {
    "duration": 13,
    "start_time": "2022-04-13T21:30:27.786Z"
   },
   {
    "duration": 57,
    "start_time": "2022-04-13T21:30:27.801Z"
   },
   {
    "duration": 6,
    "start_time": "2022-04-13T21:30:27.859Z"
   },
   {
    "duration": 30,
    "start_time": "2022-04-13T21:30:27.866Z"
   },
   {
    "duration": 3,
    "start_time": "2022-04-13T21:30:27.898Z"
   },
   {
    "duration": 14,
    "start_time": "2022-04-13T21:30:27.903Z"
   },
   {
    "duration": 24,
    "start_time": "2022-04-13T21:30:27.919Z"
   },
   {
    "duration": 83,
    "start_time": "2022-04-13T21:30:27.946Z"
   },
   {
    "duration": 95,
    "start_time": "2022-04-13T21:30:28.038Z"
   },
   {
    "duration": 10,
    "start_time": "2022-04-13T21:30:28.135Z"
   },
   {
    "duration": 10,
    "start_time": "2022-04-13T21:30:28.147Z"
   },
   {
    "duration": 7,
    "start_time": "2022-04-13T21:30:28.159Z"
   },
   {
    "duration": 12,
    "start_time": "2022-04-13T21:30:28.168Z"
   },
   {
    "duration": 28,
    "start_time": "2022-04-13T21:30:28.181Z"
   },
   {
    "duration": 4,
    "start_time": "2022-04-13T21:30:28.211Z"
   },
   {
    "duration": 4,
    "start_time": "2022-04-13T21:30:28.223Z"
   },
   {
    "duration": 29,
    "start_time": "2022-04-13T21:30:28.229Z"
   },
   {
    "duration": 5,
    "start_time": "2022-04-13T21:30:28.336Z"
   },
   {
    "duration": 96,
    "start_time": "2022-04-13T21:30:28.342Z"
   },
   {
    "duration": 14,
    "start_time": "2022-04-13T21:30:28.440Z"
   },
   {
    "duration": 4,
    "start_time": "2022-04-13T21:30:28.456Z"
   },
   {
    "duration": 12,
    "start_time": "2022-04-13T21:30:28.462Z"
   },
   {
    "duration": 5,
    "start_time": "2022-04-13T21:30:28.476Z"
   },
   {
    "duration": 23,
    "start_time": "2022-04-13T21:30:28.483Z"
   },
   {
    "duration": 4,
    "start_time": "2022-04-13T21:30:28.508Z"
   },
   {
    "duration": 21,
    "start_time": "2022-04-13T21:30:28.513Z"
   },
   {
    "duration": 19,
    "start_time": "2022-04-13T21:30:28.536Z"
   },
   {
    "duration": 7,
    "start_time": "2022-04-13T21:30:28.626Z"
   },
   {
    "duration": 94,
    "start_time": "2022-04-13T21:30:28.634Z"
   },
   {
    "duration": 16,
    "start_time": "2022-04-13T21:30:28.730Z"
   },
   {
    "duration": 6,
    "start_time": "2022-04-13T21:30:28.748Z"
   },
   {
    "duration": 11,
    "start_time": "2022-04-13T21:30:28.755Z"
   },
   {
    "duration": 9,
    "start_time": "2022-04-13T21:30:28.768Z"
   },
   {
    "duration": 20,
    "start_time": "2022-04-13T21:30:28.778Z"
   },
   {
    "duration": 8,
    "start_time": "2022-04-13T21:30:28.800Z"
   },
   {
    "duration": 6,
    "start_time": "2022-04-13T21:30:28.809Z"
   },
   {
    "duration": 13,
    "start_time": "2022-04-13T21:30:28.816Z"
   },
   {
    "duration": 13,
    "start_time": "2022-04-13T21:30:28.831Z"
   },
   {
    "duration": 1244,
    "start_time": "2022-04-13T21:30:28.845Z"
   },
   {
    "duration": 1237,
    "start_time": "2022-04-13T21:30:30.091Z"
   },
   {
    "duration": 1286,
    "start_time": "2022-04-13T21:30:31.330Z"
   },
   {
    "duration": 1548,
    "start_time": "2022-04-15T17:30:52.783Z"
   },
   {
    "duration": 150,
    "start_time": "2022-04-15T17:30:54.333Z"
   },
   {
    "duration": 25,
    "start_time": "2022-04-15T17:30:54.485Z"
   },
   {
    "duration": 42,
    "start_time": "2022-04-15T17:30:54.515Z"
   },
   {
    "duration": 94,
    "start_time": "2022-04-15T17:30:54.560Z"
   },
   {
    "duration": 96,
    "start_time": "2022-04-15T17:30:54.656Z"
   },
   {
    "duration": 25,
    "start_time": "2022-04-15T17:30:54.755Z"
   },
   {
    "duration": 26,
    "start_time": "2022-04-15T17:30:54.782Z"
   },
   {
    "duration": 83,
    "start_time": "2022-04-15T17:30:54.810Z"
   },
   {
    "duration": 155,
    "start_time": "2022-04-15T17:30:54.898Z"
   },
   {
    "duration": 13,
    "start_time": "2022-04-15T17:30:55.055Z"
   },
   {
    "duration": 27,
    "start_time": "2022-04-15T17:30:55.070Z"
   },
   {
    "duration": 93,
    "start_time": "2022-04-15T17:30:55.099Z"
   },
   {
    "duration": 18,
    "start_time": "2022-04-15T17:30:55.194Z"
   },
   {
    "duration": 71,
    "start_time": "2022-04-15T17:30:55.214Z"
   },
   {
    "duration": 161,
    "start_time": "2022-04-15T17:30:55.287Z"
   },
   {
    "duration": 13,
    "start_time": "2022-04-15T17:30:55.450Z"
   },
   {
    "duration": 27,
    "start_time": "2022-04-15T17:30:55.465Z"
   },
   {
    "duration": 107,
    "start_time": "2022-04-15T17:30:55.494Z"
   },
   {
    "duration": 25,
    "start_time": "2022-04-15T17:30:55.605Z"
   },
   {
    "duration": 82,
    "start_time": "2022-04-15T17:30:55.632Z"
   },
   {
    "duration": 8,
    "start_time": "2022-04-15T17:30:55.716Z"
   },
   {
    "duration": 43,
    "start_time": "2022-04-15T17:30:55.726Z"
   },
   {
    "duration": 5,
    "start_time": "2022-04-15T17:30:55.771Z"
   },
   {
    "duration": 7,
    "start_time": "2022-04-15T17:30:55.777Z"
   },
   {
    "duration": 73,
    "start_time": "2022-04-15T17:30:55.786Z"
   },
   {
    "duration": 89,
    "start_time": "2022-04-15T17:30:55.866Z"
   },
   {
    "duration": 7,
    "start_time": "2022-04-15T17:30:55.965Z"
   },
   {
    "duration": 13,
    "start_time": "2022-04-15T17:30:55.974Z"
   },
   {
    "duration": 8,
    "start_time": "2022-04-15T17:30:56.053Z"
   },
   {
    "duration": 11,
    "start_time": "2022-04-15T17:30:56.063Z"
   },
   {
    "duration": 11,
    "start_time": "2022-04-15T17:30:56.076Z"
   },
   {
    "duration": 25,
    "start_time": "2022-04-15T17:30:56.089Z"
   },
   {
    "duration": 36,
    "start_time": "2022-04-15T17:30:56.116Z"
   },
   {
    "duration": 5,
    "start_time": "2022-04-15T17:30:56.154Z"
   },
   {
    "duration": 193,
    "start_time": "2022-04-15T17:30:56.160Z"
   },
   {
    "duration": 7,
    "start_time": "2022-04-15T17:30:56.355Z"
   },
   {
    "duration": 9,
    "start_time": "2022-04-15T17:30:56.365Z"
   },
   {
    "duration": 8,
    "start_time": "2022-04-15T17:30:56.377Z"
   },
   {
    "duration": 6,
    "start_time": "2022-04-15T17:30:56.389Z"
   },
   {
    "duration": 6,
    "start_time": "2022-04-15T17:30:56.397Z"
   },
   {
    "duration": 8,
    "start_time": "2022-04-15T17:30:56.451Z"
   },
   {
    "duration": 28,
    "start_time": "2022-04-15T17:30:56.462Z"
   },
   {
    "duration": 4,
    "start_time": "2022-04-15T17:30:56.492Z"
   },
   {
    "duration": 9,
    "start_time": "2022-04-15T17:30:56.499Z"
   },
   {
    "duration": 61,
    "start_time": "2022-04-15T17:30:56.510Z"
   },
   {
    "duration": 79,
    "start_time": "2022-04-15T17:30:56.574Z"
   },
   {
    "duration": 101,
    "start_time": "2022-04-15T17:30:56.659Z"
   },
   {
    "duration": 9,
    "start_time": "2022-04-15T17:30:56.763Z"
   },
   {
    "duration": 9,
    "start_time": "2022-04-15T17:30:56.775Z"
   },
   {
    "duration": 7,
    "start_time": "2022-04-15T17:30:56.786Z"
   },
   {
    "duration": 12,
    "start_time": "2022-04-15T17:30:56.795Z"
   },
   {
    "duration": 48,
    "start_time": "2022-04-15T17:30:56.809Z"
   },
   {
    "duration": 10,
    "start_time": "2022-04-15T17:30:56.859Z"
   },
   {
    "duration": 11,
    "start_time": "2022-04-15T17:30:56.871Z"
   },
   {
    "duration": 7,
    "start_time": "2022-04-15T17:30:56.885Z"
   },
   {
    "duration": 9,
    "start_time": "2022-04-15T17:30:56.894Z"
   },
   {
    "duration": 2866,
    "start_time": "2022-04-15T17:30:56.906Z"
   },
   {
    "duration": 0,
    "start_time": "2022-04-15T17:30:59.775Z"
   },
   {
    "duration": 0,
    "start_time": "2022-04-15T17:30:59.777Z"
   },
   {
    "duration": 1872,
    "start_time": "2022-04-15T17:31:20.985Z"
   },
   {
    "duration": 1960,
    "start_time": "2022-04-15T17:36:23.997Z"
   },
   {
    "duration": 5,
    "start_time": "2022-04-15T17:37:06.398Z"
   },
   {
    "duration": 174,
    "start_time": "2022-04-15T17:37:06.407Z"
   },
   {
    "duration": 14,
    "start_time": "2022-04-15T17:37:06.584Z"
   },
   {
    "duration": 51,
    "start_time": "2022-04-15T17:37:06.601Z"
   },
   {
    "duration": 74,
    "start_time": "2022-04-15T17:37:06.654Z"
   },
   {
    "duration": 84,
    "start_time": "2022-04-15T17:37:06.730Z"
   },
   {
    "duration": 41,
    "start_time": "2022-04-15T17:37:06.816Z"
   },
   {
    "duration": 26,
    "start_time": "2022-04-15T17:37:06.859Z"
   },
   {
    "duration": 64,
    "start_time": "2022-04-15T17:37:06.889Z"
   },
   {
    "duration": 153,
    "start_time": "2022-04-15T17:37:06.955Z"
   },
   {
    "duration": 13,
    "start_time": "2022-04-15T17:37:07.111Z"
   },
   {
    "duration": 37,
    "start_time": "2022-04-15T17:37:07.126Z"
   },
   {
    "duration": 65,
    "start_time": "2022-04-15T17:37:07.165Z"
   },
   {
    "duration": 19,
    "start_time": "2022-04-15T17:37:07.252Z"
   },
   {
    "duration": 46,
    "start_time": "2022-04-15T17:37:07.273Z"
   },
   {
    "duration": 177,
    "start_time": "2022-04-15T17:37:07.322Z"
   },
   {
    "duration": 12,
    "start_time": "2022-04-15T17:37:07.501Z"
   },
   {
    "duration": 42,
    "start_time": "2022-04-15T17:37:07.515Z"
   },
   {
    "duration": 66,
    "start_time": "2022-04-15T17:37:07.559Z"
   },
   {
    "duration": 42,
    "start_time": "2022-04-15T17:37:07.627Z"
   },
   {
    "duration": 46,
    "start_time": "2022-04-15T17:37:07.671Z"
   },
   {
    "duration": 9,
    "start_time": "2022-04-15T17:37:07.720Z"
   },
   {
    "duration": 22,
    "start_time": "2022-04-15T17:37:07.752Z"
   },
   {
    "duration": 6,
    "start_time": "2022-04-15T17:37:07.779Z"
   },
   {
    "duration": 6,
    "start_time": "2022-04-15T17:37:07.787Z"
   },
   {
    "duration": 66,
    "start_time": "2022-04-15T17:37:07.795Z"
   },
   {
    "duration": 90,
    "start_time": "2022-04-15T17:37:07.863Z"
   },
   {
    "duration": 9,
    "start_time": "2022-04-15T17:37:07.955Z"
   },
   {
    "duration": 12,
    "start_time": "2022-04-15T17:37:07.966Z"
   },
   {
    "duration": 8,
    "start_time": "2022-04-15T17:37:07.980Z"
   },
   {
    "duration": 8,
    "start_time": "2022-04-15T17:37:07.990Z"
   },
   {
    "duration": 52,
    "start_time": "2022-04-15T17:37:08.000Z"
   },
   {
    "duration": 24,
    "start_time": "2022-04-15T17:37:08.054Z"
   },
   {
    "duration": 4,
    "start_time": "2022-04-15T17:37:08.080Z"
   },
   {
    "duration": 7,
    "start_time": "2022-04-15T17:37:08.087Z"
   },
   {
    "duration": 63,
    "start_time": "2022-04-15T17:37:08.096Z"
   },
   {
    "duration": 5,
    "start_time": "2022-04-15T17:37:08.251Z"
   },
   {
    "duration": 10,
    "start_time": "2022-04-15T17:37:08.258Z"
   },
   {
    "duration": 8,
    "start_time": "2022-04-15T17:37:08.270Z"
   },
   {
    "duration": 9,
    "start_time": "2022-04-15T17:37:08.281Z"
   },
   {
    "duration": 9,
    "start_time": "2022-04-15T17:37:08.292Z"
   },
   {
    "duration": 9,
    "start_time": "2022-04-15T17:37:08.351Z"
   },
   {
    "duration": 32,
    "start_time": "2022-04-15T17:37:08.363Z"
   },
   {
    "duration": 5,
    "start_time": "2022-04-15T17:37:08.397Z"
   },
   {
    "duration": 6,
    "start_time": "2022-04-15T17:37:08.404Z"
   },
   {
    "duration": 56,
    "start_time": "2022-04-15T17:37:08.412Z"
   },
   {
    "duration": 82,
    "start_time": "2022-04-15T17:37:08.471Z"
   },
   {
    "duration": 96,
    "start_time": "2022-04-15T17:37:08.557Z"
   },
   {
    "duration": 9,
    "start_time": "2022-04-15T17:37:08.655Z"
   },
   {
    "duration": 7,
    "start_time": "2022-04-15T17:37:08.666Z"
   },
   {
    "duration": 6,
    "start_time": "2022-04-15T17:37:08.675Z"
   },
   {
    "duration": 12,
    "start_time": "2022-04-15T17:37:08.682Z"
   },
   {
    "duration": 10,
    "start_time": "2022-04-15T17:37:08.696Z"
   },
   {
    "duration": 46,
    "start_time": "2022-04-15T17:37:08.708Z"
   },
   {
    "duration": 9,
    "start_time": "2022-04-15T17:37:08.756Z"
   },
   {
    "duration": 5,
    "start_time": "2022-04-15T17:37:08.768Z"
   },
   {
    "duration": 5,
    "start_time": "2022-04-15T17:37:08.776Z"
   },
   {
    "duration": 2057,
    "start_time": "2022-04-15T17:37:08.784Z"
   },
   {
    "duration": 1946,
    "start_time": "2022-04-15T17:37:10.843Z"
   },
   {
    "duration": 2080,
    "start_time": "2022-04-15T17:37:12.792Z"
   },
   {
    "duration": 6,
    "start_time": "2022-04-15T17:40:39.587Z"
   },
   {
    "duration": 187,
    "start_time": "2022-04-15T17:40:39.596Z"
   },
   {
    "duration": 14,
    "start_time": "2022-04-15T17:40:39.786Z"
   },
   {
    "duration": 24,
    "start_time": "2022-04-15T17:40:39.802Z"
   },
   {
    "duration": 99,
    "start_time": "2022-04-15T17:40:39.828Z"
   },
   {
    "duration": 108,
    "start_time": "2022-04-15T17:40:39.929Z"
   },
   {
    "duration": 30,
    "start_time": "2022-04-15T17:40:40.052Z"
   },
   {
    "duration": 20,
    "start_time": "2022-04-15T17:40:40.085Z"
   },
   {
    "duration": 92,
    "start_time": "2022-04-15T17:40:40.107Z"
   },
   {
    "duration": 159,
    "start_time": "2022-04-15T17:40:40.204Z"
   },
   {
    "duration": 13,
    "start_time": "2022-04-15T17:40:40.365Z"
   },
   {
    "duration": 22,
    "start_time": "2022-04-15T17:40:40.380Z"
   },
   {
    "duration": 116,
    "start_time": "2022-04-15T17:40:40.404Z"
   },
   {
    "duration": 36,
    "start_time": "2022-04-15T17:40:40.524Z"
   },
   {
    "duration": 67,
    "start_time": "2022-04-15T17:40:40.563Z"
   },
   {
    "duration": 153,
    "start_time": "2022-04-15T17:40:40.653Z"
   },
   {
    "duration": 13,
    "start_time": "2022-04-15T17:40:40.809Z"
   },
   {
    "duration": 36,
    "start_time": "2022-04-15T17:40:40.824Z"
   },
   {
    "duration": 68,
    "start_time": "2022-04-15T17:40:40.862Z"
   },
   {
    "duration": 37,
    "start_time": "2022-04-15T17:40:40.933Z"
   },
   {
    "duration": 48,
    "start_time": "2022-04-15T17:40:40.972Z"
   },
   {
    "duration": 34,
    "start_time": "2022-04-15T17:40:41.022Z"
   },
   {
    "duration": 34,
    "start_time": "2022-04-15T17:40:41.058Z"
   },
   {
    "duration": 6,
    "start_time": "2022-04-15T17:40:41.094Z"
   },
   {
    "duration": 15,
    "start_time": "2022-04-15T17:40:41.102Z"
   },
   {
    "duration": 143,
    "start_time": "2022-04-15T17:40:41.119Z"
   },
   {
    "duration": 87,
    "start_time": "2022-04-15T17:40:41.265Z"
   },
   {
    "duration": 11,
    "start_time": "2022-04-15T17:40:41.358Z"
   },
   {
    "duration": 9,
    "start_time": "2022-04-15T17:40:41.371Z"
   },
   {
    "duration": 8,
    "start_time": "2022-04-15T17:40:41.383Z"
   },
   {
    "duration": 9,
    "start_time": "2022-04-15T17:40:41.394Z"
   },
   {
    "duration": 53,
    "start_time": "2022-04-15T17:40:41.406Z"
   },
   {
    "duration": 29,
    "start_time": "2022-04-15T17:40:41.462Z"
   },
   {
    "duration": 5,
    "start_time": "2022-04-15T17:40:41.494Z"
   },
   {
    "duration": 8,
    "start_time": "2022-04-15T17:40:41.502Z"
   },
   {
    "duration": 54,
    "start_time": "2022-04-15T17:40:41.512Z"
   },
   {
    "duration": 84,
    "start_time": "2022-04-15T17:40:41.570Z"
   },
   {
    "duration": 111,
    "start_time": "2022-04-15T17:40:41.657Z"
   },
   {
    "duration": 7,
    "start_time": "2022-04-15T17:40:41.771Z"
   },
   {
    "duration": 8,
    "start_time": "2022-04-15T17:40:41.780Z"
   },
   {
    "duration": 7,
    "start_time": "2022-04-15T17:40:41.791Z"
   },
   {
    "duration": 8,
    "start_time": "2022-04-15T17:40:41.801Z"
   },
   {
    "duration": 64,
    "start_time": "2022-04-15T17:40:41.812Z"
   },
   {
    "duration": 6,
    "start_time": "2022-04-15T17:40:41.879Z"
   },
   {
    "duration": 14,
    "start_time": "2022-04-15T17:40:41.887Z"
   },
   {
    "duration": 50,
    "start_time": "2022-04-15T17:40:41.903Z"
   },
   {
    "duration": 5,
    "start_time": "2022-04-15T17:40:41.958Z"
   },
   {
    "duration": 100,
    "start_time": "2022-04-15T17:40:42.052Z"
   },
   {
    "duration": 16,
    "start_time": "2022-04-15T17:40:42.154Z"
   },
   {
    "duration": 8,
    "start_time": "2022-04-15T17:40:42.173Z"
   },
   {
    "duration": 10,
    "start_time": "2022-04-15T17:40:42.183Z"
   },
   {
    "duration": 4,
    "start_time": "2022-04-15T17:40:42.195Z"
   },
   {
    "duration": 11,
    "start_time": "2022-04-15T17:40:42.200Z"
   },
   {
    "duration": 41,
    "start_time": "2022-04-15T17:40:42.213Z"
   },
   {
    "duration": 14,
    "start_time": "2022-04-15T17:40:42.256Z"
   },
   {
    "duration": 6,
    "start_time": "2022-04-15T17:40:42.272Z"
   },
   {
    "duration": 9,
    "start_time": "2022-04-15T17:40:42.280Z"
   },
   {
    "duration": 2078,
    "start_time": "2022-04-15T17:40:42.291Z"
   },
   {
    "duration": 2474,
    "start_time": "2022-04-15T17:40:44.371Z"
   },
   {
    "duration": 2111,
    "start_time": "2022-04-15T17:40:46.847Z"
   },
   {
    "duration": 1523,
    "start_time": "2022-04-15T18:35:27.690Z"
   },
   {
    "duration": 158,
    "start_time": "2022-04-15T18:35:29.216Z"
   },
   {
    "duration": 25,
    "start_time": "2022-04-15T18:35:29.376Z"
   },
   {
    "duration": 24,
    "start_time": "2022-04-15T18:35:29.405Z"
   },
   {
    "duration": 76,
    "start_time": "2022-04-15T18:35:29.452Z"
   },
   {
    "duration": 127,
    "start_time": "2022-04-15T18:35:29.532Z"
   },
   {
    "duration": 24,
    "start_time": "2022-04-15T18:35:29.662Z"
   },
   {
    "duration": 22,
    "start_time": "2022-04-15T18:35:29.689Z"
   },
   {
    "duration": 105,
    "start_time": "2022-04-15T18:35:29.713Z"
   },
   {
    "duration": 177,
    "start_time": "2022-04-15T18:35:29.824Z"
   },
   {
    "duration": 17,
    "start_time": "2022-04-15T18:35:30.004Z"
   },
   {
    "duration": 38,
    "start_time": "2022-04-15T18:35:30.024Z"
   },
   {
    "duration": 70,
    "start_time": "2022-04-15T18:35:30.064Z"
   },
   {
    "duration": 21,
    "start_time": "2022-04-15T18:35:30.153Z"
   },
   {
    "duration": 52,
    "start_time": "2022-04-15T18:35:30.177Z"
   },
   {
    "duration": 164,
    "start_time": "2022-04-15T18:35:30.251Z"
   },
   {
    "duration": 14,
    "start_time": "2022-04-15T18:35:30.417Z"
   },
   {
    "duration": 40,
    "start_time": "2022-04-15T18:35:30.434Z"
   },
   {
    "duration": 94,
    "start_time": "2022-04-15T18:35:30.477Z"
   },
   {
    "duration": 19,
    "start_time": "2022-04-15T18:35:30.573Z"
   },
   {
    "duration": 75,
    "start_time": "2022-04-15T18:35:30.595Z"
   },
   {
    "duration": 7,
    "start_time": "2022-04-15T18:35:30.672Z"
   },
   {
    "duration": 53,
    "start_time": "2022-04-15T18:35:30.682Z"
   },
   {
    "duration": 12,
    "start_time": "2022-04-15T18:35:30.737Z"
   },
   {
    "duration": 23,
    "start_time": "2022-04-15T18:35:30.752Z"
   },
   {
    "duration": 78,
    "start_time": "2022-04-15T18:35:30.776Z"
   },
   {
    "duration": 6,
    "start_time": "2022-04-15T18:35:30.857Z"
   },
   {
    "duration": 12,
    "start_time": "2022-04-15T18:35:30.959Z"
   },
   {
    "duration": 23,
    "start_time": "2022-04-15T18:35:30.974Z"
   },
   {
    "duration": 26,
    "start_time": "2022-04-15T18:35:30.999Z"
   },
   {
    "duration": 18,
    "start_time": "2022-04-15T18:35:31.051Z"
   },
   {
    "duration": 24,
    "start_time": "2022-04-15T18:35:31.072Z"
   },
   {
    "duration": 40,
    "start_time": "2022-04-15T18:35:31.098Z"
   },
   {
    "duration": 4,
    "start_time": "2022-04-15T18:35:31.141Z"
   },
   {
    "duration": 17,
    "start_time": "2022-04-15T18:35:31.147Z"
   },
   {
    "duration": 95,
    "start_time": "2022-04-15T18:35:31.166Z"
   },
   {
    "duration": 89,
    "start_time": "2022-04-15T18:35:31.265Z"
   },
   {
    "duration": 26,
    "start_time": "2022-04-15T18:35:31.357Z"
   },
   {
    "duration": 20,
    "start_time": "2022-04-15T18:35:31.386Z"
   },
   {
    "duration": 45,
    "start_time": "2022-04-15T18:35:31.409Z"
   },
   {
    "duration": 18,
    "start_time": "2022-04-15T18:35:31.457Z"
   },
   {
    "duration": 24,
    "start_time": "2022-04-15T18:35:31.478Z"
   },
   {
    "duration": 49,
    "start_time": "2022-04-15T18:35:31.504Z"
   },
   {
    "duration": 5,
    "start_time": "2022-04-15T18:35:31.555Z"
   },
   {
    "duration": 21,
    "start_time": "2022-04-15T18:35:31.562Z"
   },
   {
    "duration": 66,
    "start_time": "2022-04-15T18:35:31.586Z"
   },
   {
    "duration": 7,
    "start_time": "2022-04-15T18:35:31.655Z"
   },
   {
    "duration": 108,
    "start_time": "2022-04-15T18:35:31.665Z"
   },
   {
    "duration": 24,
    "start_time": "2022-04-15T18:35:31.775Z"
   },
   {
    "duration": 18,
    "start_time": "2022-04-15T18:35:31.801Z"
   },
   {
    "duration": 7,
    "start_time": "2022-04-15T18:35:31.853Z"
   },
   {
    "duration": 12,
    "start_time": "2022-04-15T18:35:31.863Z"
   },
   {
    "duration": 26,
    "start_time": "2022-04-15T18:35:31.878Z"
   },
   {
    "duration": 28,
    "start_time": "2022-04-15T18:35:31.907Z"
   },
   {
    "duration": 16,
    "start_time": "2022-04-15T18:35:31.937Z"
   },
   {
    "duration": 9,
    "start_time": "2022-04-15T18:35:31.957Z"
   },
   {
    "duration": 25,
    "start_time": "2022-04-15T18:35:31.968Z"
   },
   {
    "duration": 1944,
    "start_time": "2022-04-15T18:35:31.995Z"
   },
   {
    "duration": 1944,
    "start_time": "2022-04-15T18:35:33.942Z"
   },
   {
    "duration": 2318,
    "start_time": "2022-04-15T18:35:35.888Z"
   },
   {
    "duration": 2104,
    "start_time": "2022-04-15T18:37:16.958Z"
   },
   {
    "duration": 5,
    "start_time": "2022-04-15T18:37:32.863Z"
   },
   {
    "duration": 194,
    "start_time": "2022-04-15T18:37:32.870Z"
   },
   {
    "duration": 13,
    "start_time": "2022-04-15T18:37:33.066Z"
   },
   {
    "duration": 25,
    "start_time": "2022-04-15T18:37:33.081Z"
   },
   {
    "duration": 107,
    "start_time": "2022-04-15T18:37:33.108Z"
   },
   {
    "duration": 71,
    "start_time": "2022-04-15T18:37:33.218Z"
   },
   {
    "duration": 20,
    "start_time": "2022-04-15T18:37:33.291Z"
   },
   {
    "duration": 47,
    "start_time": "2022-04-15T18:37:33.314Z"
   },
   {
    "duration": 68,
    "start_time": "2022-04-15T18:37:33.366Z"
   },
   {
    "duration": 177,
    "start_time": "2022-04-15T18:37:33.452Z"
   },
   {
    "duration": 21,
    "start_time": "2022-04-15T18:37:33.631Z"
   },
   {
    "duration": 25,
    "start_time": "2022-04-15T18:37:33.654Z"
   },
   {
    "duration": 99,
    "start_time": "2022-04-15T18:37:33.682Z"
   },
   {
    "duration": 22,
    "start_time": "2022-04-15T18:37:33.784Z"
   },
   {
    "duration": 74,
    "start_time": "2022-04-15T18:37:33.808Z"
   },
   {
    "duration": 159,
    "start_time": "2022-04-15T18:37:33.884Z"
   },
   {
    "duration": 13,
    "start_time": "2022-04-15T18:37:34.045Z"
   },
   {
    "duration": 28,
    "start_time": "2022-04-15T18:37:34.060Z"
   },
   {
    "duration": 95,
    "start_time": "2022-04-15T18:37:34.090Z"
   },
   {
    "duration": 22,
    "start_time": "2022-04-15T18:37:34.187Z"
   },
   {
    "duration": 74,
    "start_time": "2022-04-15T18:37:34.211Z"
   },
   {
    "duration": 10,
    "start_time": "2022-04-15T18:37:34.288Z"
   },
   {
    "duration": 26,
    "start_time": "2022-04-15T18:37:34.300Z"
   },
   {
    "duration": 22,
    "start_time": "2022-04-15T18:37:34.332Z"
   },
   {
    "duration": 9,
    "start_time": "2022-04-15T18:37:34.356Z"
   },
   {
    "duration": 26,
    "start_time": "2022-04-15T18:37:34.367Z"
   },
   {
    "duration": 63,
    "start_time": "2022-04-15T18:37:34.396Z"
   },
   {
    "duration": 13,
    "start_time": "2022-04-15T18:37:34.552Z"
   },
   {
    "duration": 10,
    "start_time": "2022-04-15T18:37:34.567Z"
   },
   {
    "duration": 14,
    "start_time": "2022-04-15T18:37:34.579Z"
   },
   {
    "duration": 8,
    "start_time": "2022-04-15T18:37:34.595Z"
   },
   {
    "duration": 11,
    "start_time": "2022-04-15T18:37:34.605Z"
   },
   {
    "duration": 35,
    "start_time": "2022-04-15T18:37:34.651Z"
   },
   {
    "duration": 5,
    "start_time": "2022-04-15T18:37:34.689Z"
   },
   {
    "duration": 12,
    "start_time": "2022-04-15T18:37:34.696Z"
   },
   {
    "duration": 50,
    "start_time": "2022-04-15T18:37:34.710Z"
   },
   {
    "duration": 4,
    "start_time": "2022-04-15T18:37:34.763Z"
   },
   {
    "duration": 104,
    "start_time": "2022-04-15T18:37:34.851Z"
   },
   {
    "duration": 8,
    "start_time": "2022-04-15T18:37:34.957Z"
   },
   {
    "duration": 6,
    "start_time": "2022-04-15T18:37:34.967Z"
   },
   {
    "duration": 6,
    "start_time": "2022-04-15T18:37:34.976Z"
   },
   {
    "duration": 11,
    "start_time": "2022-04-15T18:37:34.984Z"
   },
   {
    "duration": 74,
    "start_time": "2022-04-15T18:37:34.998Z"
   },
   {
    "duration": 5,
    "start_time": "2022-04-15T18:37:35.075Z"
   },
   {
    "duration": 14,
    "start_time": "2022-04-15T18:37:35.082Z"
   },
   {
    "duration": 54,
    "start_time": "2022-04-15T18:37:35.098Z"
   },
   {
    "duration": 5,
    "start_time": "2022-04-15T18:37:35.156Z"
   },
   {
    "duration": 98,
    "start_time": "2022-04-15T18:37:35.164Z"
   },
   {
    "duration": 7,
    "start_time": "2022-04-15T18:37:35.264Z"
   },
   {
    "duration": 81,
    "start_time": "2022-04-15T18:37:35.274Z"
   },
   {
    "duration": 14,
    "start_time": "2022-04-15T18:37:35.357Z"
   },
   {
    "duration": 7,
    "start_time": "2022-04-15T18:37:35.374Z"
   },
   {
    "duration": 13,
    "start_time": "2022-04-15T18:37:35.385Z"
   },
   {
    "duration": 11,
    "start_time": "2022-04-15T18:37:35.401Z"
   },
   {
    "duration": 10,
    "start_time": "2022-04-15T18:37:35.415Z"
   },
   {
    "duration": 27,
    "start_time": "2022-04-15T18:37:35.427Z"
   },
   {
    "duration": 6,
    "start_time": "2022-04-15T18:37:35.457Z"
   },
   {
    "duration": 2178,
    "start_time": "2022-04-15T18:37:35.465Z"
   },
   {
    "duration": 1951,
    "start_time": "2022-04-15T18:37:37.651Z"
   },
   {
    "duration": 2207,
    "start_time": "2022-04-15T18:37:39.604Z"
   },
   {
    "duration": 1545,
    "start_time": "2022-04-15T18:38:15.091Z"
   },
   {
    "duration": 147,
    "start_time": "2022-04-15T18:38:16.639Z"
   },
   {
    "duration": 24,
    "start_time": "2022-04-15T18:38:16.789Z"
   },
   {
    "duration": 42,
    "start_time": "2022-04-15T18:38:16.817Z"
   },
   {
    "duration": 92,
    "start_time": "2022-04-15T18:38:16.861Z"
   },
   {
    "duration": 73,
    "start_time": "2022-04-15T18:38:16.955Z"
   },
   {
    "duration": 33,
    "start_time": "2022-04-15T18:38:17.031Z"
   },
   {
    "duration": 26,
    "start_time": "2022-04-15T18:38:17.066Z"
   },
   {
    "duration": 80,
    "start_time": "2022-04-15T18:38:17.094Z"
   },
   {
    "duration": 166,
    "start_time": "2022-04-15T18:38:17.179Z"
   },
   {
    "duration": 12,
    "start_time": "2022-04-15T18:38:17.348Z"
   },
   {
    "duration": 26,
    "start_time": "2022-04-15T18:38:17.363Z"
   },
   {
    "duration": 96,
    "start_time": "2022-04-15T18:38:17.391Z"
   },
   {
    "duration": 19,
    "start_time": "2022-04-15T18:38:17.490Z"
   },
   {
    "duration": 73,
    "start_time": "2022-04-15T18:38:17.511Z"
   },
   {
    "duration": 166,
    "start_time": "2022-04-15T18:38:17.587Z"
   },
   {
    "duration": 17,
    "start_time": "2022-04-15T18:38:17.756Z"
   },
   {
    "duration": 22,
    "start_time": "2022-04-15T18:38:17.775Z"
   },
   {
    "duration": 122,
    "start_time": "2022-04-15T18:38:17.799Z"
   },
   {
    "duration": 39,
    "start_time": "2022-04-15T18:38:17.924Z"
   },
   {
    "duration": 64,
    "start_time": "2022-04-15T18:38:17.965Z"
   },
   {
    "duration": 25,
    "start_time": "2022-04-15T18:38:18.031Z"
   },
   {
    "duration": 25,
    "start_time": "2022-04-15T18:38:18.058Z"
   },
   {
    "duration": 6,
    "start_time": "2022-04-15T18:38:18.085Z"
   },
   {
    "duration": 11,
    "start_time": "2022-04-15T18:38:18.093Z"
   },
   {
    "duration": 64,
    "start_time": "2022-04-15T18:38:18.106Z"
   },
   {
    "duration": 82,
    "start_time": "2022-04-15T18:38:18.173Z"
   },
   {
    "duration": 95,
    "start_time": "2022-04-15T18:38:18.266Z"
   },
   {
    "duration": 13,
    "start_time": "2022-04-15T18:38:18.363Z"
   },
   {
    "duration": 11,
    "start_time": "2022-04-15T18:38:18.379Z"
   },
   {
    "duration": 6,
    "start_time": "2022-04-15T18:38:18.392Z"
   },
   {
    "duration": 8,
    "start_time": "2022-04-15T18:38:18.401Z"
   },
   {
    "duration": 62,
    "start_time": "2022-04-15T18:38:18.412Z"
   },
   {
    "duration": 5,
    "start_time": "2022-04-15T18:38:18.476Z"
   },
   {
    "duration": 13,
    "start_time": "2022-04-15T18:38:18.484Z"
   },
   {
    "duration": 61,
    "start_time": "2022-04-15T18:38:18.499Z"
   },
   {
    "duration": 97,
    "start_time": "2022-04-15T18:38:18.564Z"
   },
   {
    "duration": 14,
    "start_time": "2022-04-15T18:38:18.663Z"
   },
   {
    "duration": 12,
    "start_time": "2022-04-15T18:38:18.680Z"
   },
   {
    "duration": 57,
    "start_time": "2022-04-15T18:38:18.695Z"
   },
   {
    "duration": 6,
    "start_time": "2022-04-15T18:38:18.755Z"
   },
   {
    "duration": 13,
    "start_time": "2022-04-15T18:38:18.764Z"
   },
   {
    "duration": 32,
    "start_time": "2022-04-15T18:38:18.780Z"
   },
   {
    "duration": 5,
    "start_time": "2022-04-15T18:38:18.815Z"
   },
   {
    "duration": 8,
    "start_time": "2022-04-15T18:38:18.852Z"
   },
   {
    "duration": 93,
    "start_time": "2022-04-15T18:38:18.863Z"
   },
   {
    "duration": 92,
    "start_time": "2022-04-15T18:38:18.960Z"
   },
   {
    "duration": 13,
    "start_time": "2022-04-15T18:38:19.055Z"
   },
   {
    "duration": 82,
    "start_time": "2022-04-15T18:38:19.071Z"
   },
   {
    "duration": 8,
    "start_time": "2022-04-15T18:38:19.156Z"
   },
   {
    "duration": 13,
    "start_time": "2022-04-15T18:38:19.167Z"
   },
   {
    "duration": 10,
    "start_time": "2022-04-15T18:38:19.182Z"
   },
   {
    "duration": 12,
    "start_time": "2022-04-15T18:38:19.194Z"
   },
   {
    "duration": 47,
    "start_time": "2022-04-15T18:38:19.209Z"
   },
   {
    "duration": 12,
    "start_time": "2022-04-15T18:38:19.259Z"
   },
   {
    "duration": 6,
    "start_time": "2022-04-15T18:38:19.274Z"
   },
   {
    "duration": 6,
    "start_time": "2022-04-15T18:38:19.283Z"
   },
   {
    "duration": 2277,
    "start_time": "2022-04-15T18:38:19.292Z"
   },
   {
    "duration": 2014,
    "start_time": "2022-04-15T18:38:21.572Z"
   },
   {
    "duration": 2569,
    "start_time": "2022-04-15T18:38:23.589Z"
   }
  ],
  "kernelspec": {
   "display_name": "Python 3 (ipykernel)",
   "language": "python",
   "name": "python3"
  },
  "language_info": {
   "codemirror_mode": {
    "name": "ipython",
    "version": 3
   },
   "file_extension": ".py",
   "mimetype": "text/x-python",
   "name": "python",
   "nbconvert_exporter": "python",
   "pygments_lexer": "ipython3",
   "version": "3.9.7"
  },
  "toc": {
   "base_numbering": 1,
   "nav_menu": {},
   "number_sections": true,
   "sideBar": true,
   "skip_h1_title": true,
   "title_cell": "Table of Contents",
   "title_sidebar": "Contents",
   "toc_cell": false,
   "toc_position": {},
   "toc_section_display": true,
   "toc_window_display": false
  }
 },
 "nbformat": 4,
 "nbformat_minor": 2
}
