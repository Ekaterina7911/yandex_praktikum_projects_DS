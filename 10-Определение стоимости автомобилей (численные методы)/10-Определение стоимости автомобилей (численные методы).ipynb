{
 "cells": [
  {
   "cell_type": "markdown",
   "metadata": {},
   "source": [
    "# Определение стоимости автомобилей"
   ]
  },
  {
   "cell_type": "markdown",
   "metadata": {},
   "source": [
    "Сервис по продаже автомобилей с пробегом «Не бит, не крашен» разрабатывает приложение для привлечения новых клиентов. В нём можно быстро узнать рыночную стоимость своего автомобиля. В вашем распоряжении исторические данные: технические характеристики, комплектации и цены автомобилей. Вам нужно построить модель для определения стоимости. \n",
    "\n",
    "Заказчику важны:\n",
    "\n",
    "- качество предсказания;\n",
    "- скорость предсказания;\n",
    "- время обучения."
   ]
  },
  {
   "cell_type": "markdown",
   "metadata": {},
   "source": [
    "В процессе выполнения проекта мы посмотрим несколько моделей, попробуем подобрать лучшие гиперпараметры, а также посчитаем время выполнения обучения и предсказания. В качестве метрики качества используем RMSE (корень от среднеквадратичной ошибки). Но для начала мы посмотрим имеющиеся данные, оценим их качество (проверим на наличие ошибок) и проведем предобработку."
   ]
  },
  {
   "cell_type": "markdown",
   "metadata": {},
   "source": [
    "## Подготовка данных"
   ]
  },
  {
   "cell_type": "markdown",
   "metadata": {},
   "source": [
    "### Загрузка и предварительная оценка качества данных"
   ]
  },
  {
   "cell_type": "markdown",
   "metadata": {},
   "source": [
    "В самом начале импортируем все необходимые библиотеки"
   ]
  },
  {
   "cell_type": "code",
   "execution_count": 1,
   "metadata": {},
   "outputs": [
    {
     "name": "stdout",
     "output_type": "stream",
     "text": [
      "Requirement already satisfied: catboost in /opt/conda/lib/python3.9/site-packages (1.0.3)\n",
      "Requirement already satisfied: matplotlib in /opt/conda/lib/python3.9/site-packages (from catboost) (3.3.4)\n",
      "Requirement already satisfied: six in /opt/conda/lib/python3.9/site-packages (from catboost) (1.16.0)\n",
      "Requirement already satisfied: graphviz in /opt/conda/lib/python3.9/site-packages (from catboost) (0.20)\n",
      "Requirement already satisfied: numpy>=1.16.0 in /opt/conda/lib/python3.9/site-packages (from catboost) (1.22.3)\n",
      "Requirement already satisfied: plotly in /opt/conda/lib/python3.9/site-packages (from catboost) (5.4.0)\n",
      "Requirement already satisfied: scipy in /opt/conda/lib/python3.9/site-packages (from catboost) (1.8.0)\n",
      "Requirement already satisfied: pandas>=0.24.0 in /opt/conda/lib/python3.9/site-packages (from catboost) (1.2.4)\n",
      "Requirement already satisfied: python-dateutil>=2.7.3 in /opt/conda/lib/python3.9/site-packages (from pandas>=0.24.0->catboost) (2.8.2)\n",
      "Requirement already satisfied: pytz>=2017.3 in /opt/conda/lib/python3.9/site-packages (from pandas>=0.24.0->catboost) (2021.3)\n",
      "Requirement already satisfied: cycler>=0.10 in /opt/conda/lib/python3.9/site-packages (from matplotlib->catboost) (0.11.0)\n",
      "Requirement already satisfied: pyparsing!=2.0.4,!=2.1.2,!=2.1.6,>=2.0.3 in /opt/conda/lib/python3.9/site-packages (from matplotlib->catboost) (3.0.6)\n",
      "Requirement already satisfied: kiwisolver>=1.0.1 in /opt/conda/lib/python3.9/site-packages (from matplotlib->catboost) (1.4.2)\n",
      "Requirement already satisfied: pillow>=6.2.0 in /opt/conda/lib/python3.9/site-packages (from matplotlib->catboost) (8.4.0)\n",
      "Requirement already satisfied: tenacity>=6.2.0 in /opt/conda/lib/python3.9/site-packages (from plotly->catboost) (8.0.1)\n"
     ]
    }
   ],
   "source": [
    "! pip install catboost\n"
   ]
  },
  {
   "cell_type": "code",
   "execution_count": 2,
   "metadata": {},
   "outputs": [
    {
     "name": "stdout",
     "output_type": "stream",
     "text": [
      "Requirement already satisfied: lightgbm in /opt/conda/lib/python3.9/site-packages (3.3.1)\n",
      "Requirement already satisfied: numpy in /opt/conda/lib/python3.9/site-packages (from lightgbm) (1.22.3)\n",
      "Requirement already satisfied: scikit-learn!=0.22.0 in /opt/conda/lib/python3.9/site-packages (from lightgbm) (0.24.1)\n",
      "Requirement already satisfied: wheel in /opt/conda/lib/python3.9/site-packages (from lightgbm) (0.37.0)\n",
      "Requirement already satisfied: scipy in /opt/conda/lib/python3.9/site-packages (from lightgbm) (1.8.0)\n",
      "Requirement already satisfied: threadpoolctl>=2.0.0 in /opt/conda/lib/python3.9/site-packages (from scikit-learn!=0.22.0->lightgbm) (3.1.0)\n",
      "Requirement already satisfied: joblib>=0.11 in /opt/conda/lib/python3.9/site-packages (from scikit-learn!=0.22.0->lightgbm) (1.1.0)\n"
     ]
    }
   ],
   "source": [
    "! pip install lightgbm"
   ]
  },
  {
   "cell_type": "code",
   "execution_count": 3,
   "metadata": {},
   "outputs": [],
   "source": [
    "import pandas as pd\n",
    "import numpy as np\n",
    "import lightgbm as lgb\n",
    "import matplotlib.pyplot as plt\n",
    "import time\n",
    "\n",
    "from sklearn.model_selection import train_test_split\n",
    "\n",
    "from sklearn.tree import DecisionTreeRegressor\n",
    "from sklearn.ensemble import RandomForestRegressor\n",
    "from sklearn.linear_model import LinearRegression\n",
    "from sklearn.linear_model import Lasso\n",
    "from catboost import CatBoostRegressor\n",
    "from lightgbm import LGBMRegressor\n",
    "\n",
    "\n",
    "\n",
    "from sklearn.metrics import mean_squared_error\n",
    "from sklearn.preprocessing import StandardScaler\n",
    "from sklearn.model_selection import GridSearchCV\n",
    "from sklearn.metrics import make_scorer\n",
    "from sklearn.model_selection import RandomizedSearchCV\n"
   ]
  },
  {
   "cell_type": "markdown",
   "metadata": {},
   "source": [
    "Загрузим файл с данными и посмотрим на первые 5 строк."
   ]
  },
  {
   "cell_type": "code",
   "execution_count": 4,
   "metadata": {},
   "outputs": [],
   "source": [
    "auto = pd.read_csv('/datasets/autos.csv') #открываем файл"
   ]
  },
  {
   "cell_type": "code",
   "execution_count": 5,
   "metadata": {},
   "outputs": [
    {
     "data": {
      "text/html": [
       "<div>\n",
       "<style scoped>\n",
       "    .dataframe tbody tr th:only-of-type {\n",
       "        vertical-align: middle;\n",
       "    }\n",
       "\n",
       "    .dataframe tbody tr th {\n",
       "        vertical-align: top;\n",
       "    }\n",
       "\n",
       "    .dataframe thead th {\n",
       "        text-align: right;\n",
       "    }\n",
       "</style>\n",
       "<table border=\"1\" class=\"dataframe\">\n",
       "  <thead>\n",
       "    <tr style=\"text-align: right;\">\n",
       "      <th></th>\n",
       "      <th>DateCrawled</th>\n",
       "      <th>Price</th>\n",
       "      <th>VehicleType</th>\n",
       "      <th>RegistrationYear</th>\n",
       "      <th>Gearbox</th>\n",
       "      <th>Power</th>\n",
       "      <th>Model</th>\n",
       "      <th>Kilometer</th>\n",
       "      <th>RegistrationMonth</th>\n",
       "      <th>FuelType</th>\n",
       "      <th>Brand</th>\n",
       "      <th>NotRepaired</th>\n",
       "      <th>DateCreated</th>\n",
       "      <th>NumberOfPictures</th>\n",
       "      <th>PostalCode</th>\n",
       "      <th>LastSeen</th>\n",
       "    </tr>\n",
       "  </thead>\n",
       "  <tbody>\n",
       "    <tr>\n",
       "      <th>0</th>\n",
       "      <td>2016-03-24 11:52:17</td>\n",
       "      <td>480</td>\n",
       "      <td>NaN</td>\n",
       "      <td>1993</td>\n",
       "      <td>manual</td>\n",
       "      <td>0</td>\n",
       "      <td>golf</td>\n",
       "      <td>150000</td>\n",
       "      <td>0</td>\n",
       "      <td>petrol</td>\n",
       "      <td>volkswagen</td>\n",
       "      <td>NaN</td>\n",
       "      <td>2016-03-24 00:00:00</td>\n",
       "      <td>0</td>\n",
       "      <td>70435</td>\n",
       "      <td>2016-04-07 03:16:57</td>\n",
       "    </tr>\n",
       "    <tr>\n",
       "      <th>1</th>\n",
       "      <td>2016-03-24 10:58:45</td>\n",
       "      <td>18300</td>\n",
       "      <td>coupe</td>\n",
       "      <td>2011</td>\n",
       "      <td>manual</td>\n",
       "      <td>190</td>\n",
       "      <td>NaN</td>\n",
       "      <td>125000</td>\n",
       "      <td>5</td>\n",
       "      <td>gasoline</td>\n",
       "      <td>audi</td>\n",
       "      <td>yes</td>\n",
       "      <td>2016-03-24 00:00:00</td>\n",
       "      <td>0</td>\n",
       "      <td>66954</td>\n",
       "      <td>2016-04-07 01:46:50</td>\n",
       "    </tr>\n",
       "    <tr>\n",
       "      <th>2</th>\n",
       "      <td>2016-03-14 12:52:21</td>\n",
       "      <td>9800</td>\n",
       "      <td>suv</td>\n",
       "      <td>2004</td>\n",
       "      <td>auto</td>\n",
       "      <td>163</td>\n",
       "      <td>grand</td>\n",
       "      <td>125000</td>\n",
       "      <td>8</td>\n",
       "      <td>gasoline</td>\n",
       "      <td>jeep</td>\n",
       "      <td>NaN</td>\n",
       "      <td>2016-03-14 00:00:00</td>\n",
       "      <td>0</td>\n",
       "      <td>90480</td>\n",
       "      <td>2016-04-05 12:47:46</td>\n",
       "    </tr>\n",
       "    <tr>\n",
       "      <th>3</th>\n",
       "      <td>2016-03-17 16:54:04</td>\n",
       "      <td>1500</td>\n",
       "      <td>small</td>\n",
       "      <td>2001</td>\n",
       "      <td>manual</td>\n",
       "      <td>75</td>\n",
       "      <td>golf</td>\n",
       "      <td>150000</td>\n",
       "      <td>6</td>\n",
       "      <td>petrol</td>\n",
       "      <td>volkswagen</td>\n",
       "      <td>no</td>\n",
       "      <td>2016-03-17 00:00:00</td>\n",
       "      <td>0</td>\n",
       "      <td>91074</td>\n",
       "      <td>2016-03-17 17:40:17</td>\n",
       "    </tr>\n",
       "    <tr>\n",
       "      <th>4</th>\n",
       "      <td>2016-03-31 17:25:20</td>\n",
       "      <td>3600</td>\n",
       "      <td>small</td>\n",
       "      <td>2008</td>\n",
       "      <td>manual</td>\n",
       "      <td>69</td>\n",
       "      <td>fabia</td>\n",
       "      <td>90000</td>\n",
       "      <td>7</td>\n",
       "      <td>gasoline</td>\n",
       "      <td>skoda</td>\n",
       "      <td>no</td>\n",
       "      <td>2016-03-31 00:00:00</td>\n",
       "      <td>0</td>\n",
       "      <td>60437</td>\n",
       "      <td>2016-04-06 10:17:21</td>\n",
       "    </tr>\n",
       "  </tbody>\n",
       "</table>\n",
       "</div>"
      ],
      "text/plain": [
       "           DateCrawled  Price VehicleType  RegistrationYear Gearbox  Power  \\\n",
       "0  2016-03-24 11:52:17    480         NaN              1993  manual      0   \n",
       "1  2016-03-24 10:58:45  18300       coupe              2011  manual    190   \n",
       "2  2016-03-14 12:52:21   9800         suv              2004    auto    163   \n",
       "3  2016-03-17 16:54:04   1500       small              2001  manual     75   \n",
       "4  2016-03-31 17:25:20   3600       small              2008  manual     69   \n",
       "\n",
       "   Model  Kilometer  RegistrationMonth  FuelType       Brand NotRepaired  \\\n",
       "0   golf     150000                  0    petrol  volkswagen         NaN   \n",
       "1    NaN     125000                  5  gasoline        audi         yes   \n",
       "2  grand     125000                  8  gasoline        jeep         NaN   \n",
       "3   golf     150000                  6    petrol  volkswagen          no   \n",
       "4  fabia      90000                  7  gasoline       skoda          no   \n",
       "\n",
       "           DateCreated  NumberOfPictures  PostalCode             LastSeen  \n",
       "0  2016-03-24 00:00:00                 0       70435  2016-04-07 03:16:57  \n",
       "1  2016-03-24 00:00:00                 0       66954  2016-04-07 01:46:50  \n",
       "2  2016-03-14 00:00:00                 0       90480  2016-04-05 12:47:46  \n",
       "3  2016-03-17 00:00:00                 0       91074  2016-03-17 17:40:17  \n",
       "4  2016-03-31 00:00:00                 0       60437  2016-04-06 10:17:21  "
      ]
     },
     "metadata": {},
     "output_type": "display_data"
    }
   ],
   "source": [
    "display(auto.head()) # посмотрим первые 5 строк"
   ]
  },
  {
   "cell_type": "markdown",
   "metadata": {},
   "source": [
    "В соответствии с документацией в таблице хранятся следующие данные:\n",
    "\n",
    "- DateCrawled — дата скачивания анкеты из базы\n",
    "- VehicleType — тип автомобильного кузова\n",
    "- RegistrationYear — год регистрации автомобиля\n",
    "- Gearbox — тип коробки передач\n",
    "- Power — мощность (л. с.)\n",
    "- Model — модель автомобиля\n",
    "- Kilometer — пробег (км)\n",
    "- RegistrationMonth — месяц регистрации автомобиля\n",
    "- FuelType — тип топлива\n",
    "- Brand — марка автомобиля\n",
    "- NotRepaired — была машина в ремонте или нет\n",
    "- DateCreated — дата создания анкеты\n",
    "- NumberOfPictures — количество фотографий автомобиля\n",
    "- PostalCode — почтовый индекс владельца анкеты (пользователя)\n",
    "- LastSeen — дата последней активности пользователя\n",
    "- Price — цена (евро)"
   ]
  },
  {
   "cell_type": "code",
   "execution_count": 6,
   "metadata": {},
   "outputs": [
    {
     "name": "stdout",
     "output_type": "stream",
     "text": [
      "<class 'pandas.core.frame.DataFrame'>\n",
      "RangeIndex: 354369 entries, 0 to 354368\n",
      "Data columns (total 16 columns):\n",
      " #   Column             Non-Null Count   Dtype \n",
      "---  ------             --------------   ----- \n",
      " 0   DateCrawled        354369 non-null  object\n",
      " 1   Price              354369 non-null  int64 \n",
      " 2   VehicleType        316879 non-null  object\n",
      " 3   RegistrationYear   354369 non-null  int64 \n",
      " 4   Gearbox            334536 non-null  object\n",
      " 5   Power              354369 non-null  int64 \n",
      " 6   Model              334664 non-null  object\n",
      " 7   Kilometer          354369 non-null  int64 \n",
      " 8   RegistrationMonth  354369 non-null  int64 \n",
      " 9   FuelType           321474 non-null  object\n",
      " 10  Brand              354369 non-null  object\n",
      " 11  NotRepaired        283215 non-null  object\n",
      " 12  DateCreated        354369 non-null  object\n",
      " 13  NumberOfPictures   354369 non-null  int64 \n",
      " 14  PostalCode         354369 non-null  int64 \n",
      " 15  LastSeen           354369 non-null  object\n",
      "dtypes: int64(7), object(9)\n",
      "memory usage: 43.3+ MB\n"
     ]
    }
   ],
   "source": [
    "auto.info() # просмотр информации о файле"
   ]
  },
  {
   "cell_type": "markdown",
   "metadata": {},
   "source": [
    "В таблице 16 столбцов. У 7 тип данных int64, а у 9-ти тип object. Сразу видно, что в данных есть пропуски. В столбцах с датами тип данных object, который лучше перевести в тип datetime. Названия столбцов обновим, чтобы все названия были написаны в нижнем регистре."
   ]
  },
  {
   "cell_type": "markdown",
   "metadata": {},
   "source": [
    "В столбцах с типом кузова, типом коробки передач, моделью автомобиля, типом топлива и маркой автомобиля необходимо посмотреть список уникальных значений, чтобы убедиться, что там нет дублей, связанных с неправильным написанием. А также посмотрим столбцы с мощностью автомобиля и годом регистрации."
   ]
  },
  {
   "cell_type": "code",
   "execution_count": 7,
   "metadata": {},
   "outputs": [],
   "source": [
    "def unigue_value(columns):\n",
    "    return columns.sort_values().unique()"
   ]
  },
  {
   "cell_type": "code",
   "execution_count": 8,
   "metadata": {},
   "outputs": [
    {
     "name": "stdout",
     "output_type": "stream",
     "text": [
      "Тип топлива: ['cng' 'electric' 'gasoline' 'hybrid' 'lpg' 'other' 'petrol' nan]\n",
      "\n",
      "тип автомобильного кузова: ['bus' 'convertible' 'coupe' 'other' 'sedan' 'small' 'suv' 'wagon' nan]\n",
      "\n",
      "Модель: ['100' '145' '147' '156' '159' '1_reihe' '1er' '200' '2_reihe' '300c'\n",
      " '3_reihe' '3er' '4_reihe' '500' '5_reihe' '5er' '601' '6_reihe' '6er'\n",
      " '7er' '80' '850' '90' '900' '9000' '911' 'a1' 'a2' 'a3' 'a4' 'a5' 'a6'\n",
      " 'a8' 'a_klasse' 'accord' 'agila' 'alhambra' 'almera' 'altea' 'amarok'\n",
      " 'antara' 'arosa' 'astra' 'auris' 'avensis' 'aveo' 'aygo' 'b_klasse'\n",
      " 'b_max' 'beetle' 'berlingo' 'bora' 'boxster' 'bravo' 'c1' 'c2' 'c3' 'c4'\n",
      " 'c5' 'c_klasse' 'c_max' 'c_reihe' 'caddy' 'calibra' 'captiva' 'carisma'\n",
      " 'carnival' 'cayenne' 'cc' 'ceed' 'charade' 'cherokee' 'citigo' 'civic'\n",
      " 'cl' 'clio' 'clk' 'clubman' 'colt' 'combo' 'cooper' 'cordoba' 'corolla'\n",
      " 'corsa' 'cr_reihe' 'croma' 'crossfire' 'cuore' 'cx_reihe' 'defender'\n",
      " 'delta' 'discovery' 'doblo' 'ducato' 'duster' 'e_klasse' 'elefantino'\n",
      " 'eos' 'escort' 'espace' 'exeo' 'fabia' 'fiesta' 'focus' 'forester'\n",
      " 'forfour' 'fortwo' 'fox' 'freelander' 'fusion' 'g_klasse' 'galant'\n",
      " 'galaxy' 'getz' 'gl' 'glk' 'golf' 'grand' 'i3' 'i_reihe' 'ibiza'\n",
      " 'impreza' 'insignia' 'jazz' 'jetta' 'jimny' 'juke' 'justy' 'ka' 'kadett'\n",
      " 'kaefer' 'kalina' 'kalos' 'kangoo' 'kappa' 'kuga' 'laguna' 'lancer'\n",
      " 'lanos' 'legacy' 'leon' 'lodgy' 'logan' 'lupo' 'lybra' 'm_klasse'\n",
      " 'm_reihe' 'materia' 'matiz' 'megane' 'meriva' 'micra' 'mii' 'modus'\n",
      " 'mondeo' 'move' 'musa' 'mustang' 'mx_reihe' 'navara' 'niva' 'note'\n",
      " 'nubira' 'octavia' 'omega' 'one' 'other' 'outlander' 'pajero' 'panda'\n",
      " 'passat' 'phaeton' 'picanto' 'polo' 'primera' 'ptcruiser' 'punto' 'q3'\n",
      " 'q5' 'q7' 'qashqai' 'r19' 'range_rover' 'range_rover_evoque'\n",
      " 'range_rover_sport' 'rangerover' 'rav' 'rio' 'roadster' 'roomster'\n",
      " 'rx_reihe' 's60' 's_klasse' 's_max' 's_type' 'samara' 'sandero' 'santa'\n",
      " 'scenic' 'scirocco' 'seicento' 'serie_1' 'serie_2' 'serie_3' 'sharan'\n",
      " 'signum' 'sirion' 'sl' 'slk' 'sorento' 'spark' 'spider' 'sportage'\n",
      " 'sprinter' 'stilo' 'superb' 'swift' 'terios' 'tigra' 'tiguan' 'toledo'\n",
      " 'touareg' 'touran' 'transit' 'transporter' 'tt' 'tucson' 'twingo' 'up'\n",
      " 'v40' 'v50' 'v60' 'v70' 'v_klasse' 'vectra' 'verso' 'viano' 'vito'\n",
      " 'vivaro' 'voyager' 'wrangler' 'x_reihe' 'x_trail' 'x_type' 'xc_reihe'\n",
      " 'yaris' 'yeti' 'ypsilon' 'z_reihe' 'zafira' nan]\n",
      "\n",
      "Тип коробки передач: ['auto' 'manual' nan]\n",
      "\n",
      "Марка: ['alfa_romeo' 'audi' 'bmw' 'chevrolet' 'chrysler' 'citroen' 'dacia'\n",
      " 'daewoo' 'daihatsu' 'fiat' 'ford' 'honda' 'hyundai' 'jaguar' 'jeep' 'kia'\n",
      " 'lada' 'lancia' 'land_rover' 'mazda' 'mercedes_benz' 'mini' 'mitsubishi'\n",
      " 'nissan' 'opel' 'peugeot' 'porsche' 'renault' 'rover' 'saab' 'seat'\n",
      " 'skoda' 'smart' 'sonstige_autos' 'subaru' 'suzuki' 'toyota' 'trabant'\n",
      " 'volkswagen' 'volvo']\n",
      "\n",
      "Год регистрации автомобиля: [1000 1001 1039 1111 1200 1234 1253 1255 1300 1400 1500 1600 1602 1688\n",
      " 1800 1910 1915 1919 1920 1923 1925 1927 1928 1929 1930 1931 1932 1933\n",
      " 1934 1935 1936 1937 1938 1940 1941 1942 1943 1944 1945 1946 1947 1948\n",
      " 1949 1950 1951 1952 1953 1954 1955 1956 1957 1958 1959 1960 1961 1962\n",
      " 1963 1964 1965 1966 1967 1968 1969 1970 1971 1972 1973 1974 1975 1976\n",
      " 1977 1978 1979 1980 1981 1982 1983 1984 1985 1986 1987 1988 1989 1990\n",
      " 1991 1992 1993 1994 1995 1996 1997 1998 1999 2000 2001 2002 2003 2004\n",
      " 2005 2006 2007 2008 2009 2010 2011 2012 2013 2014 2015 2016 2017 2018\n",
      " 2019 2066 2200 2222 2290 2500 2800 2900 3000 3200 3500 3700 3800 4000\n",
      " 4100 4500 4800 5000 5300 5555 5600 5900 5911 6000 6500 7000 7100 7500\n",
      " 7800 8000 8200 8455 8500 8888 9000 9229 9450 9996 9999]\n",
      "\n",
      "Мощность: [    0     1     2     3     4     5     6     7     8     9    10    11\n",
      "    12    13    14    15    16    17    18    19    20    21    22    23\n",
      "    24    25    26    27    28    29    30    31    32    33    34    35\n",
      "    36    37    38    39    40    41    42    43    44    45    46    47\n",
      "    48    49    50    51    52    53    54    55    56    57    58    59\n",
      "    60    61    62    63    64    65    66    67    68    69    70    71\n",
      "    72    73    74    75    76    77    78    79    80    81    82    83\n",
      "    84    85    86    87    88    89    90    91    92    93    94    95\n",
      "    96    97    98    99   100   101   102   103   104   105   106   107\n",
      "   108   109   110   111   112   113   114   115   116   117   118   119\n",
      "   120   121   122   123   124   125   126   127   128   129   130   131\n",
      "   132   133   134   135   136   137   138   139   140   141   142   143\n",
      "   144   145   146   147   148   149   150   151   152   153   154   155\n",
      "   156   157   158   159   160   161   162   163   164   165   166   167\n",
      "   168   169   170   171   172   173   174   175   176   177   178   179\n",
      "   180   181   182   183   184   185   186   187   188   189   190   191\n",
      "   192   193   194   195   196   197   198   199   200   201   202   203\n",
      "   204   205   206   207   208   209   210   211   212   213   214   215\n",
      "   216   217   218   219   220   221   222   223   224   225   226   227\n",
      "   228   229   230   231   232   233   234   235   236   237   238   239\n",
      "   240   241   242   243   244   245   246   247   248   249   250   251\n",
      "   252   253   254   255   256   257   258   259   260   261   262   264\n",
      "   265   266   267   268   269   270   271   272   273   274   275   276\n",
      "   277   278   279   280   281   282   283   284   285   286   287   288\n",
      "   289   290   292   293   294   295   296   297   298   299   300   301\n",
      "   303   304   305   306   307   308   309   310   311   313   314   315\n",
      "   316   317   318   320   321   322   323   324   325   326   327   328\n",
      "   329   330   331   332   333   334   335   336   337   338   339   340\n",
      "   341   343   344   345   346   347   348   349   350   351   352   353\n",
      "   354   355   356   357   358   360   361   362   363   364   365   367\n",
      "   368   370   371   374   375   376   377   379   380   381   382   385\n",
      "   386   387   388   390   392   394   396   398   399   400   401   402\n",
      "   405   408   409   411   416   420   421   425   426   428   430   431\n",
      "   435   440   442   445   449   450   454   457   459   460   475   476\n",
      "   485   487   489   490   500   504   505   507   508   510   514   515\n",
      "   517   519   520   521   525   530   540   541   544   550   551   553\n",
      "   560   572   574   579   580   584   585   599   600   601   602   603\n",
      "   604   606   607   610   612   620   640   645   650   651   671   678\n",
      "   682   685   696   700   702   703   732   743   750   751   754   771\n",
      "   776   800   805   808   850   851   871   900   901   902   903   907\n",
      "   909   923   950   952   953   960   998   999  1000  1001  1002  1003\n",
      "  1004  1005  1011  1012  1016  1017  1021  1024  1054  1055  1056  1062\n",
      "  1079  1082  1090  1100  1102  1103  1105  1111  1115  1120  1149  1151\n",
      "  1158  1160  1162  1164  1199  1200  1202  1221  1223  1230  1239  1240\n",
      "  1241  1250  1252  1256  1275  1288  1299  1300  1312  1317  1324  1339\n",
      "  1351  1360  1362  1363  1367  1390  1394  1398  1399  1400  1401  1403\n",
      "  1405  1416  1432  1433  1436  1500  1501  1502  1503  1506  1521  1548\n",
      "  1595  1596  1597  1598  1600  1625  1631  1653  1659  1689  1700  1701\n",
      "  1703  1704  1707  1753  1771  1779  1780  1781  1783  1793  1796  1799\n",
      "  1800  1801  1870  1895  1896  1900  1910  1920  1922  1933  1937  1968\n",
      "  1986  1988  1992  1993  1995  1998  1999  2000  2004  2005  2007  2009\n",
      "  2016  2017  2018  2172  2200  2201  2331  2340  2389  2402  2461  2598\n",
      "  2729  2789  2792  2799  3000  3199  3454  3500  3750  4400  4507  4700\n",
      "  5000  5411  5420  5575  5809  5815  5867  6006  6010  6011  6012  6018\n",
      "  6045  6062  6226  6512  6920  7508  7511  7512  7515  7518  7529  7544\n",
      "  8011  8259  8404  8500  9000  9007  9010  9011  9012  9013  9710 10000\n",
      " 10110 10218 10311 10317 10520 10522 10710 10910 10912 11011 11025 11111\n",
      " 11509 11530 11635 12012 12510 12512 12684 13616 13636 14009 15001 15016\n",
      " 15017 15020 15033 16011 16051 16311 16312 17011 17019 17410 17700 17932\n",
      " 19208 19211 19312 20000]\n"
     ]
    }
   ],
   "source": [
    "print('Тип топлива:', unigue_value(auto['FuelType']))\n",
    "print()\n",
    "print('тип автомобильного кузова:', unigue_value(auto['VehicleType']))\n",
    "print()\n",
    "print('Модель:', unigue_value(auto['Model']))\n",
    "print()\n",
    "print('Тип коробки передач:', unigue_value(auto['Gearbox']))\n",
    "print()\n",
    "print('Марка:', unigue_value(auto['Brand']))\n",
    "print()\n",
    "print('Год регистрации автомобиля:', unigue_value(auto['RegistrationYear']))\n",
    "print()\n",
    "print('Мощность:', unigue_value(auto['Power']))"
   ]
  },
  {
   "cell_type": "markdown",
   "metadata": {},
   "source": [
    "В столбце с типом топлива есть дубли: \"gasoline\" и \"petrol\". Это все разное написание бензина. Часть данных пропущена, и определить более точно, какой вид топлива должен быть в ячейках с пропущенными значеними без дополнительной информации не представляется возможным. Заменим пропуски на \"unknown\". Аналогично поступим с пропусками в столбце с типом кузова и видом коробки передач, потому что одна и та же модель может иметь разные виды кузова и быть как на механике, так и с автоматической коробкой передач."
   ]
  },
  {
   "cell_type": "markdown",
   "metadata": {},
   "source": [
    "В столбце с маркой автомобиля все в порядке: пропусков нет, дублей нет. Хотя есть \"sonstige_autos\" (пер.нем. \"другие автомобили\"). С этим пунктом нужно подумать, что делать, предварительно оценив количество строк с этим значением."
   ]
  },
  {
   "cell_type": "code",
   "execution_count": 9,
   "metadata": {},
   "outputs": [
    {
     "data": {
      "text/plain": [
       "volkswagen        77013\n",
       "opel              39931\n",
       "bmw               36914\n",
       "mercedes_benz     32046\n",
       "audi              29456\n",
       "ford              25179\n",
       "renault           17927\n",
       "peugeot           10998\n",
       "fiat               9643\n",
       "seat               6907\n",
       "mazda              5615\n",
       "skoda              5500\n",
       "smart              5246\n",
       "citroen            5148\n",
       "nissan             4941\n",
       "toyota             4606\n",
       "hyundai            3587\n",
       "sonstige_autos     3374\n",
       "volvo              3210\n",
       "mini               3202\n",
       "mitsubishi         3022\n",
       "honda              2817\n",
       "kia                2465\n",
       "suzuki             2323\n",
       "alfa_romeo         2314\n",
       "chevrolet          1754\n",
       "chrysler           1439\n",
       "dacia               900\n",
       "daihatsu            806\n",
       "subaru              762\n",
       "porsche             758\n",
       "jeep                677\n",
       "trabant             589\n",
       "land_rover          545\n",
       "daewoo              542\n",
       "saab                526\n",
       "jaguar              505\n",
       "rover               486\n",
       "lancia              471\n",
       "lada                225\n",
       "Name: Brand, dtype: int64"
      ]
     },
     "execution_count": 9,
     "metadata": {},
     "output_type": "execute_result"
    }
   ],
   "source": [
    "auto['Brand'].value_counts()"
   ]
  },
  {
   "cell_type": "markdown",
   "metadata": {},
   "source": [
    "\"Другие автомобили\" в 3374 строках. Пока не будем ничего делать с этими данными и посмотрим, как будут вести себя модели."
   ]
  },
  {
   "cell_type": "markdown",
   "metadata": {},
   "source": [
    "В графе с годом регистрации автомобиля очень много неверных значений, часть из них мы заменим постаравшись выявить логику возникновения ошибки, а там где не сможем удалим строки."
   ]
  },
  {
   "cell_type": "markdown",
   "metadata": {},
   "source": [
    "В столбце с мощностью тоже много артефактов. Здесь мы постараемся просто отсечь выбросы."
   ]
  },
  {
   "cell_type": "markdown",
   "metadata": {},
   "source": [
    "Далее проверим есть ли полностью дублирующиемя строки."
   ]
  },
  {
   "cell_type": "code",
   "execution_count": 10,
   "metadata": {},
   "outputs": [
    {
     "data": {
      "text/plain": [
       "4"
      ]
     },
     "execution_count": 10,
     "metadata": {},
     "output_type": "execute_result"
    }
   ],
   "source": [
    "auto.duplicated().sum() # подсчет дублирующихся строк"
   ]
  },
  {
   "cell_type": "markdown",
   "metadata": {},
   "source": [
    "**Вывод**"
   ]
  },
  {
   "cell_type": "markdown",
   "metadata": {},
   "source": [
    "В этой части работы мы загрузили данные и обнаружили следующие проблемы:\n",
    "- есть четыре полностью дублирующиеся строки. Мы их удалим.\n",
    "- в данных пропущены значения некоторых признаков. Часть из них мы заменим, а часть удалим.\n",
    "- заменим тип данных в столбцах с датами\n",
    "- масштабируем признаки, потому что нам нужно будет строить ряд моделей чувствительных к масштабу.\n",
    "- для удобства работы обновим названия столбцов\n",
    "- категориальные признаки переведем в числовое выражение\n",
    "- отсечем выбросы в данных"
   ]
  },
  {
   "cell_type": "markdown",
   "metadata": {},
   "source": [
    "### Предобработка данных"
   ]
  },
  {
   "cell_type": "markdown",
   "metadata": {},
   "source": [
    "В этом разделе последовательно исправим ошибки в данных и подготовим данные для построения модели. И начнем мы замены названия столбцов."
   ]
  },
  {
   "cell_type": "code",
   "execution_count": 11,
   "metadata": {},
   "outputs": [
    {
     "data": {
      "text/plain": [
       "Index(['DateCrawled', 'Price', 'VehicleType', 'RegistrationYear', 'Gearbox',\n",
       "       'Power', 'Model', 'Kilometer', 'RegistrationMonth', 'FuelType', 'Brand',\n",
       "       'NotRepaired', 'DateCreated', 'NumberOfPictures', 'PostalCode',\n",
       "       'LastSeen'],\n",
       "      dtype='object')"
      ]
     },
     "execution_count": 11,
     "metadata": {},
     "output_type": "execute_result"
    }
   ],
   "source": [
    "auto.columns # вывод списка названий столбцов"
   ]
  },
  {
   "cell_type": "code",
   "execution_count": 12,
   "metadata": {},
   "outputs": [],
   "source": [
    "auto = auto.rename(columns = {'DateCrawled': 'date_crawled', 'Price': 'price', 'VehicleType': 'vehicle_type', 'RegistrationYear': 'registration_year'  ,'Gearbox': 'gearbox',\n",
    "       'Power': 'power', 'Model': 'model', 'Kilometer': 'kilometer', 'RegistrationMonth': 'registration_month', 'FuelType': 'fuel_type', 'Brand': 'brand',\n",
    "       'NotRepaired': 'not_repaired', 'DateCreated': 'date_created', 'NumberOfPictures': 'number_of_pictures', 'PostalCode': 'postal_code',\n",
    "       'LastSeen': 'last_seen'}) # замена названий столбцов"
   ]
  },
  {
   "cell_type": "code",
   "execution_count": 13,
   "metadata": {},
   "outputs": [
    {
     "data": {
      "text/plain": [
       "Index(['date_crawled', 'price', 'vehicle_type', 'registration_year', 'gearbox',\n",
       "       'power', 'model', 'kilometer', 'registration_month', 'fuel_type',\n",
       "       'brand', 'not_repaired', 'date_created', 'number_of_pictures',\n",
       "       'postal_code', 'last_seen'],\n",
       "      dtype='object')"
      ]
     },
     "execution_count": 13,
     "metadata": {},
     "output_type": "execute_result"
    }
   ],
   "source": [
    "auto.columns # вывод списка названий столбцов"
   ]
  },
  {
   "cell_type": "markdown",
   "metadata": {},
   "source": [
    "Изменим тип данных в столбцах с датами."
   ]
  },
  {
   "cell_type": "code",
   "execution_count": 14,
   "metadata": {},
   "outputs": [],
   "source": [
    "auto['date_crawled'] = pd.to_datetime(auto['date_crawled'], format='%Y-%m-%dT%H:%M:%S') \n",
    "auto['date_created'] = pd.to_datetime(auto['date_created'], format='%Y-%m-%dT%H:%M:%S') "
   ]
  },
  {
   "cell_type": "code",
   "execution_count": 15,
   "metadata": {},
   "outputs": [
    {
     "data": {
      "text/html": [
       "<div>\n",
       "<style scoped>\n",
       "    .dataframe tbody tr th:only-of-type {\n",
       "        vertical-align: middle;\n",
       "    }\n",
       "\n",
       "    .dataframe tbody tr th {\n",
       "        vertical-align: top;\n",
       "    }\n",
       "\n",
       "    .dataframe thead th {\n",
       "        text-align: right;\n",
       "    }\n",
       "</style>\n",
       "<table border=\"1\" class=\"dataframe\">\n",
       "  <thead>\n",
       "    <tr style=\"text-align: right;\">\n",
       "      <th></th>\n",
       "      <th>date_crawled</th>\n",
       "      <th>price</th>\n",
       "      <th>vehicle_type</th>\n",
       "      <th>registration_year</th>\n",
       "      <th>gearbox</th>\n",
       "      <th>power</th>\n",
       "      <th>model</th>\n",
       "      <th>kilometer</th>\n",
       "      <th>registration_month</th>\n",
       "      <th>fuel_type</th>\n",
       "      <th>brand</th>\n",
       "      <th>not_repaired</th>\n",
       "      <th>date_created</th>\n",
       "      <th>number_of_pictures</th>\n",
       "      <th>postal_code</th>\n",
       "      <th>last_seen</th>\n",
       "    </tr>\n",
       "  </thead>\n",
       "  <tbody>\n",
       "    <tr>\n",
       "      <th>0</th>\n",
       "      <td>2016-03-24 11:52:17</td>\n",
       "      <td>480</td>\n",
       "      <td>NaN</td>\n",
       "      <td>1993</td>\n",
       "      <td>manual</td>\n",
       "      <td>0</td>\n",
       "      <td>golf</td>\n",
       "      <td>150000</td>\n",
       "      <td>0</td>\n",
       "      <td>petrol</td>\n",
       "      <td>volkswagen</td>\n",
       "      <td>NaN</td>\n",
       "      <td>2016-03-24</td>\n",
       "      <td>0</td>\n",
       "      <td>70435</td>\n",
       "      <td>2016-04-07 03:16:57</td>\n",
       "    </tr>\n",
       "    <tr>\n",
       "      <th>1</th>\n",
       "      <td>2016-03-24 10:58:45</td>\n",
       "      <td>18300</td>\n",
       "      <td>coupe</td>\n",
       "      <td>2011</td>\n",
       "      <td>manual</td>\n",
       "      <td>190</td>\n",
       "      <td>NaN</td>\n",
       "      <td>125000</td>\n",
       "      <td>5</td>\n",
       "      <td>gasoline</td>\n",
       "      <td>audi</td>\n",
       "      <td>yes</td>\n",
       "      <td>2016-03-24</td>\n",
       "      <td>0</td>\n",
       "      <td>66954</td>\n",
       "      <td>2016-04-07 01:46:50</td>\n",
       "    </tr>\n",
       "  </tbody>\n",
       "</table>\n",
       "</div>"
      ],
      "text/plain": [
       "         date_crawled  price vehicle_type  registration_year gearbox  power  \\\n",
       "0 2016-03-24 11:52:17    480          NaN               1993  manual      0   \n",
       "1 2016-03-24 10:58:45  18300        coupe               2011  manual    190   \n",
       "\n",
       "  model  kilometer  registration_month fuel_type       brand not_repaired  \\\n",
       "0  golf     150000                   0    petrol  volkswagen          NaN   \n",
       "1   NaN     125000                   5  gasoline        audi          yes   \n",
       "\n",
       "  date_created  number_of_pictures  postal_code            last_seen  \n",
       "0   2016-03-24                   0        70435  2016-04-07 03:16:57  \n",
       "1   2016-03-24                   0        66954  2016-04-07 01:46:50  "
      ]
     },
     "metadata": {},
     "output_type": "display_data"
    }
   ],
   "source": [
    "display(auto.head(2)) # просмотр 2 строк"
   ]
  },
  {
   "cell_type": "code",
   "execution_count": 16,
   "metadata": {},
   "outputs": [
    {
     "data": {
      "text/plain": [
       "date_crawled          datetime64[ns]\n",
       "price                          int64\n",
       "vehicle_type                  object\n",
       "registration_year              int64\n",
       "gearbox                       object\n",
       "power                          int64\n",
       "model                         object\n",
       "kilometer                      int64\n",
       "registration_month             int64\n",
       "fuel_type                     object\n",
       "brand                         object\n",
       "not_repaired                  object\n",
       "date_created          datetime64[ns]\n",
       "number_of_pictures             int64\n",
       "postal_code                    int64\n",
       "last_seen                     object\n",
       "dtype: object"
      ]
     },
     "execution_count": 16,
     "metadata": {},
     "output_type": "execute_result"
    }
   ],
   "source": [
    "auto.dtypes #просмотр информации о типе данных"
   ]
  },
  {
   "cell_type": "markdown",
   "metadata": {},
   "source": [
    "Тип данных успешно заненен."
   ]
  },
  {
   "cell_type": "markdown",
   "metadata": {},
   "source": [
    "Далее удалим полностью дублирущиеся строки."
   ]
  },
  {
   "cell_type": "code",
   "execution_count": 17,
   "metadata": {},
   "outputs": [],
   "source": [
    "auto = auto.drop_duplicates() #удаление дубликатов строк"
   ]
  },
  {
   "cell_type": "markdown",
   "metadata": {},
   "source": [
    "Посмотрим количество пропущенных значений."
   ]
  },
  {
   "cell_type": "code",
   "execution_count": 18,
   "metadata": {},
   "outputs": [
    {
     "data": {
      "text/plain": [
       "date_crawled              0\n",
       "price                     0\n",
       "vehicle_type          37490\n",
       "registration_year         0\n",
       "gearbox               19833\n",
       "power                     0\n",
       "model                 19705\n",
       "kilometer                 0\n",
       "registration_month        0\n",
       "fuel_type             32895\n",
       "brand                     0\n",
       "not_repaired          71154\n",
       "date_created              0\n",
       "number_of_pictures        0\n",
       "postal_code               0\n",
       "last_seen                 0\n",
       "dtype: int64"
      ]
     },
     "execution_count": 18,
     "metadata": {},
     "output_type": "execute_result"
    }
   ],
   "source": [
    "auto.isna().sum() # расчет количества пропущенных значений по столбцам"
   ]
  },
  {
   "cell_type": "markdown",
   "metadata": {},
   "source": [
    "Пропущены данные о типе коробки передач, модели автомобиля, типе автомобильного кузова, виде топлива и была ли машина в ремонте. "
   ]
  },
  {
   "cell_type": "markdown",
   "metadata": {},
   "source": [
    "Восстановить данные о марке автомобиля невозможно, но это один из ключевых признаков, помимо модели определяющих стоимость автомобиля. Учитывая, что выборка достаточно большая, а процент строк с пропущенными названиями моделей не велик (5,5%), такие данные мы удалим."
   ]
  },
  {
   "cell_type": "code",
   "execution_count": 19,
   "metadata": {},
   "outputs": [],
   "source": [
    "auto = auto.dropna(subset = ['model']) # удаление строк, где в графе модель пропущены значения"
   ]
  },
  {
   "cell_type": "markdown",
   "metadata": {},
   "source": [
    "После удаления строк с неизвестной моделью, посмотрим сколько еще пропущенных значений у нас остатось по другим столбцам."
   ]
  },
  {
   "cell_type": "code",
   "execution_count": 20,
   "metadata": {},
   "outputs": [
    {
     "data": {
      "text/plain": [
       "date_crawled              0\n",
       "price                     0\n",
       "vehicle_type          30662\n",
       "registration_year         0\n",
       "gearbox               15702\n",
       "power                     0\n",
       "model                     0\n",
       "kilometer                 0\n",
       "registration_month        0\n",
       "fuel_type             25732\n",
       "brand                     0\n",
       "not_repaired          62100\n",
       "date_created              0\n",
       "number_of_pictures        0\n",
       "postal_code               0\n",
       "last_seen                 0\n",
       "dtype: int64"
      ]
     },
     "execution_count": 20,
     "metadata": {},
     "output_type": "execute_result"
    }
   ],
   "source": [
    "auto.isna().sum()"
   ]
  },
  {
   "cell_type": "markdown",
   "metadata": {},
   "source": [
    "От части незаполненных данных мы избавились. В столбце с данными о ремонте, пропуски можно заменить на \"unknown\". Более сложная задача, что делать с пропусками в виде топлива, коробке передач и типе кузова. У одной модели может быть как механика, так и автоматическая коробка передач. Аналогично с типом кузова и топливом. Если бы у нас были фотографии автомобилей, то тогда можно было определить тип кузова, но руками это делать было бы долго, возможно потребовалась бы нейронная сеть, которая натренирована на изображения. Технический специалист возможно подсказал бы нам на каких моделях может быть только какой-то вид топлива, тип кузова или коробка передач. Но к сожалению, у нас подобных вспомогательных возможностей нет, поэтому данные о типе кузова и коробки передач заменим на \"unknown\"."
   ]
  },
  {
   "cell_type": "code",
   "execution_count": 21,
   "metadata": {},
   "outputs": [],
   "source": [
    "auto['gearbox'] = auto['gearbox'].fillna(\"unknown\")\n",
    "auto['vehicle_type'] = auto['vehicle_type'].fillna(\"unknown\")\n",
    "auto['not_repaired'] = auto['not_repaired'].fillna(\"unknown\")"
   ]
  },
  {
   "cell_type": "code",
   "execution_count": 22,
   "metadata": {},
   "outputs": [
    {
     "data": {
      "text/html": [
       "<div>\n",
       "<style scoped>\n",
       "    .dataframe tbody tr th:only-of-type {\n",
       "        vertical-align: middle;\n",
       "    }\n",
       "\n",
       "    .dataframe tbody tr th {\n",
       "        vertical-align: top;\n",
       "    }\n",
       "\n",
       "    .dataframe thead th {\n",
       "        text-align: right;\n",
       "    }\n",
       "</style>\n",
       "<table border=\"1\" class=\"dataframe\">\n",
       "  <thead>\n",
       "    <tr style=\"text-align: right;\">\n",
       "      <th></th>\n",
       "      <th>date_crawled</th>\n",
       "      <th>price</th>\n",
       "      <th>vehicle_type</th>\n",
       "      <th>registration_year</th>\n",
       "      <th>gearbox</th>\n",
       "      <th>power</th>\n",
       "      <th>model</th>\n",
       "      <th>kilometer</th>\n",
       "      <th>registration_month</th>\n",
       "      <th>fuel_type</th>\n",
       "      <th>brand</th>\n",
       "      <th>not_repaired</th>\n",
       "      <th>date_created</th>\n",
       "      <th>number_of_pictures</th>\n",
       "      <th>postal_code</th>\n",
       "      <th>last_seen</th>\n",
       "    </tr>\n",
       "  </thead>\n",
       "  <tbody>\n",
       "    <tr>\n",
       "      <th>0</th>\n",
       "      <td>2016-03-24 11:52:17</td>\n",
       "      <td>480</td>\n",
       "      <td>unknown</td>\n",
       "      <td>1993</td>\n",
       "      <td>manual</td>\n",
       "      <td>0</td>\n",
       "      <td>golf</td>\n",
       "      <td>150000</td>\n",
       "      <td>0</td>\n",
       "      <td>petrol</td>\n",
       "      <td>volkswagen</td>\n",
       "      <td>unknown</td>\n",
       "      <td>2016-03-24</td>\n",
       "      <td>0</td>\n",
       "      <td>70435</td>\n",
       "      <td>2016-04-07 03:16:57</td>\n",
       "    </tr>\n",
       "    <tr>\n",
       "      <th>2</th>\n",
       "      <td>2016-03-14 12:52:21</td>\n",
       "      <td>9800</td>\n",
       "      <td>suv</td>\n",
       "      <td>2004</td>\n",
       "      <td>auto</td>\n",
       "      <td>163</td>\n",
       "      <td>grand</td>\n",
       "      <td>125000</td>\n",
       "      <td>8</td>\n",
       "      <td>gasoline</td>\n",
       "      <td>jeep</td>\n",
       "      <td>unknown</td>\n",
       "      <td>2016-03-14</td>\n",
       "      <td>0</td>\n",
       "      <td>90480</td>\n",
       "      <td>2016-04-05 12:47:46</td>\n",
       "    </tr>\n",
       "    <tr>\n",
       "      <th>3</th>\n",
       "      <td>2016-03-17 16:54:04</td>\n",
       "      <td>1500</td>\n",
       "      <td>small</td>\n",
       "      <td>2001</td>\n",
       "      <td>manual</td>\n",
       "      <td>75</td>\n",
       "      <td>golf</td>\n",
       "      <td>150000</td>\n",
       "      <td>6</td>\n",
       "      <td>petrol</td>\n",
       "      <td>volkswagen</td>\n",
       "      <td>no</td>\n",
       "      <td>2016-03-17</td>\n",
       "      <td>0</td>\n",
       "      <td>91074</td>\n",
       "      <td>2016-03-17 17:40:17</td>\n",
       "    </tr>\n",
       "    <tr>\n",
       "      <th>4</th>\n",
       "      <td>2016-03-31 17:25:20</td>\n",
       "      <td>3600</td>\n",
       "      <td>small</td>\n",
       "      <td>2008</td>\n",
       "      <td>manual</td>\n",
       "      <td>69</td>\n",
       "      <td>fabia</td>\n",
       "      <td>90000</td>\n",
       "      <td>7</td>\n",
       "      <td>gasoline</td>\n",
       "      <td>skoda</td>\n",
       "      <td>no</td>\n",
       "      <td>2016-03-31</td>\n",
       "      <td>0</td>\n",
       "      <td>60437</td>\n",
       "      <td>2016-04-06 10:17:21</td>\n",
       "    </tr>\n",
       "    <tr>\n",
       "      <th>5</th>\n",
       "      <td>2016-04-04 17:36:23</td>\n",
       "      <td>650</td>\n",
       "      <td>sedan</td>\n",
       "      <td>1995</td>\n",
       "      <td>manual</td>\n",
       "      <td>102</td>\n",
       "      <td>3er</td>\n",
       "      <td>150000</td>\n",
       "      <td>10</td>\n",
       "      <td>petrol</td>\n",
       "      <td>bmw</td>\n",
       "      <td>yes</td>\n",
       "      <td>2016-04-04</td>\n",
       "      <td>0</td>\n",
       "      <td>33775</td>\n",
       "      <td>2016-04-06 19:17:07</td>\n",
       "    </tr>\n",
       "  </tbody>\n",
       "</table>\n",
       "</div>"
      ],
      "text/plain": [
       "         date_crawled  price vehicle_type  registration_year gearbox  power  \\\n",
       "0 2016-03-24 11:52:17    480      unknown               1993  manual      0   \n",
       "2 2016-03-14 12:52:21   9800          suv               2004    auto    163   \n",
       "3 2016-03-17 16:54:04   1500        small               2001  manual     75   \n",
       "4 2016-03-31 17:25:20   3600        small               2008  manual     69   \n",
       "5 2016-04-04 17:36:23    650        sedan               1995  manual    102   \n",
       "\n",
       "   model  kilometer  registration_month fuel_type       brand not_repaired  \\\n",
       "0   golf     150000                   0    petrol  volkswagen      unknown   \n",
       "2  grand     125000                   8  gasoline        jeep      unknown   \n",
       "3   golf     150000                   6    petrol  volkswagen           no   \n",
       "4  fabia      90000                   7  gasoline       skoda           no   \n",
       "5    3er     150000                  10    petrol         bmw          yes   \n",
       "\n",
       "  date_created  number_of_pictures  postal_code            last_seen  \n",
       "0   2016-03-24                   0        70435  2016-04-07 03:16:57  \n",
       "2   2016-03-14                   0        90480  2016-04-05 12:47:46  \n",
       "3   2016-03-17                   0        91074  2016-03-17 17:40:17  \n",
       "4   2016-03-31                   0        60437  2016-04-06 10:17:21  \n",
       "5   2016-04-04                   0        33775  2016-04-06 19:17:07  "
      ]
     },
     "metadata": {},
     "output_type": "display_data"
    }
   ],
   "source": [
    "display(auto.head())"
   ]
  },
  {
   "cell_type": "markdown",
   "metadata": {},
   "source": [
    "В графе с типом топлива тоже есть пропуски, попробуем заменить их на наиболее часто встречающийся вид топлива для конкретной модели. Но для начала заменим дубликаты в видах топлива. В списке встречается два разных написания бензина: gasoline и petrol."
   ]
  },
  {
   "cell_type": "code",
   "execution_count": 23,
   "metadata": {},
   "outputs": [],
   "source": [
    "auto = auto.replace({'fuel_type':{'gasoline': 'petrol'}})"
   ]
  },
  {
   "cell_type": "code",
   "execution_count": 24,
   "metadata": {},
   "outputs": [],
   "source": [
    "auto['fuel_type'] = auto['fuel_type'].fillna(auto.groupby('model')['fuel_type'].transform(lambda x: x.value_counts().index[0]))\n"
   ]
  },
  {
   "cell_type": "markdown",
   "metadata": {},
   "source": [
    "Следующим пунктом обработаем ошибки в графе с датой регистрации автомобиля. Сразу определимся, что дата регистрации автомобиля не может быть больше 2016г, т.к. данные для исследования загружены из базы данных как раз в 2016г. Нижней границей возьмем 1950 г. Также в некоторых явно ошибочных значениях прослеживается некоторая логика. Например вероятнее всего, когда человек вносил 2010 г., он просто поставил 10, а система восприняла это как 1000. "
   ]
  },
  {
   "cell_type": "code",
   "execution_count": 25,
   "metadata": {},
   "outputs": [],
   "source": [
    "auto = auto.replace({'registration_year':{1000: 2010, 1200: 2012, 1300: 2013, 1400 :2014, 1500: 2015,\n",
    "                                          1600 : 2016, 1800: 2018, 2066: 1966, 6000: 1960, 6500: 1965,\n",
    "                                          7000: 1970, 7100: 1971, 7500: 1975, 7800: 1978, 8000: 1980,\n",
    "                                          8200: 1982, 8500: 1985, 9000: 1990}})"
   ]
  },
  {
   "cell_type": "code",
   "execution_count": 26,
   "metadata": {},
   "outputs": [
    {
     "name": "stdout",
     "output_type": "stream",
     "text": [
      "Год регистрации автомобиля: [1001 1111 1234 1602 1910 1919 1923 1927 1928 1929 1930 1931 1932 1933\n",
      " 1934 1935 1936 1937 1938 1941 1942 1943 1945 1947 1949 1950 1951 1952\n",
      " 1953 1954 1955 1956 1957 1958 1959 1960 1961 1962 1963 1964 1965 1966\n",
      " 1967 1968 1969 1970 1971 1972 1973 1974 1975 1976 1977 1978 1979 1980\n",
      " 1981 1982 1983 1984 1985 1986 1987 1988 1989 1990 1991 1992 1993 1994\n",
      " 1995 1996 1997 1998 1999 2000 2001 2002 2003 2004 2005 2006 2007 2008\n",
      " 2009 2010 2011 2012 2013 2014 2015 2016 2017 2018 2019 2200 2290 2500\n",
      " 2900 3000 3700 4000 4500 5000 5555 5900 5911 9999]\n"
     ]
    }
   ],
   "source": [
    "print('Год регистрации автомобиля:', unigue_value(auto['registration_year'])) # посмотрим уникальные значения, оставшиеся после замены"
   ]
  },
  {
   "cell_type": "markdown",
   "metadata": {},
   "source": [
    "Далее отчечем выбросы за пределами интервала 1950-2016 гг. Одновременно у нас будут отсечены \"непонятные\" года, восстановить значения которых не представляется возможным."
   ]
  },
  {
   "cell_type": "code",
   "execution_count": 27,
   "metadata": {},
   "outputs": [],
   "source": [
    "auto = auto.loc[(auto['registration_year'] <=2016) & (auto['registration_year'] >=1950)] # отсечем выбросы "
   ]
  },
  {
   "cell_type": "code",
   "execution_count": 28,
   "metadata": {},
   "outputs": [
    {
     "name": "stdout",
     "output_type": "stream",
     "text": [
      "Год регистрации автомобиля: [1950 1951 1952 1953 1954 1955 1956 1957 1958 1959 1960 1961 1962 1963\n",
      " 1964 1965 1966 1967 1968 1969 1970 1971 1972 1973 1974 1975 1976 1977\n",
      " 1978 1979 1980 1981 1982 1983 1984 1985 1986 1987 1988 1989 1990 1991\n",
      " 1992 1993 1994 1995 1996 1997 1998 1999 2000 2001 2002 2003 2004 2005\n",
      " 2006 2007 2008 2009 2010 2011 2012 2013 2014 2015 2016]\n"
     ]
    }
   ],
   "source": [
    "print('Год регистрации автомобиля:', unigue_value(auto['registration_year']))"
   ]
  },
  {
   "cell_type": "markdown",
   "metadata": {},
   "source": [
    "Годы привели в порядок. Далее разберемся с выбросами в данных о мощности автомобилей. Воспользовавшись дополнительными источниками (google) нашла, что LADA (ВАЗ) 1111 Ока – мощностью от 29 до 53 лошадиных сил. Для малого класса оптимальным комплектом лошадиных сил считается мощность от 80 до 200 л.с, при этом Матиз - 52 л.с. У Toyota LC 200 двигатели начинаются с 249 л.с. и заканчиваются представителем под 400 л.с. У Nissan Patrol - 405 лошадок. Самые крупный внедорожник Mercedes G-Класс предлагает двигатели на 245 и 422 лошадиные силы или Bentley с двигателем на 625 л.с. На данным момент одним из самых мощных автомобилей является электрический Lotus Evija с мощностью 2000 л.с. Вероятность, что на Lotus Evija попадет на обычный сайт по продаже автомобилей практически нулевая. Думаю, что нужно ограничиться интервалом 29-600 л.с."
   ]
  },
  {
   "cell_type": "code",
   "execution_count": 29,
   "metadata": {},
   "outputs": [],
   "source": [
    "auto = auto.loc[(auto['power'] <=600) & (auto['power'] >=29)]"
   ]
  },
  {
   "cell_type": "markdown",
   "metadata": {},
   "source": [
    "Проверим есть ли в данных строки, где цена равна нулю. Вероятнее всего, это тоже ошибка."
   ]
  },
  {
   "cell_type": "code",
   "execution_count": 30,
   "metadata": {},
   "outputs": [
    {
     "data": {
      "image/png": "[encoded data removed]",
      "text/plain": [
       "<Figure size 576x432 with 1 Axes>"
      ]
     },
     "metadata": {
      "needs_background": "light"
     },
     "output_type": "display_data"
    }
   ],
   "source": [
    "auto['price'].plot(kind = 'hist', y = 'Частота',\n",
    "    label = 'Цена', alpha = 0.8,  figsize = (8,6), legend=True)\n",
    "\n",
    "\n",
    "\n",
    "plt.title(\"Распределения цены автомобилей\")\n",
    "plt.show()"
   ]
  },
  {
   "cell_type": "markdown",
   "metadata": {},
   "source": [
    "В данных есть нулевые значения. Конечно есть вероятность, что владелец просто хочет избавится от автомобиля, но в данном случае мы говорим о \"продаже\", а не \"дарении\", что предполагает наличие цены, пусть низкой, но цены. Поэтому будем считать нулевую цену ошибочной. Есть еще вариант, что подразумевалась \"договорная цена\", когда продавец и покупатель договариваются уже при личном общении. Еще несколько лет назад было принято указывать цену в договоре купли-продажи 10000 руб. (примерно 133 евро в ценах 2016г. (курс евро на 2016г примерно 75 руб за евро)), чтобы не было проблемм с налоговой. Если получится доказать, что продавец занизил цену без умысла, штраф составит 20% от неуплаченной суммы налога. И 40% — если есть доказательства об умышленном уклонении от уплаты налогов. Нижней границей установим 100 евро (сделаем поправку на колебание курса евро). Посмотрим, сколько у нас строк с ценой ниже 100 евро."
   ]
  },
  {
   "cell_type": "code",
   "execution_count": 31,
   "metadata": {},
   "outputs": [
    {
     "name": "stdout",
     "output_type": "stream",
     "text": [
      "6608\n"
     ]
    }
   ],
   "source": [
    "print(len(auto.loc[auto['price'] < 100]))"
   ]
  },
  {
   "cell_type": "markdown",
   "metadata": {},
   "source": [
    "Удалим эти строки."
   ]
  },
  {
   "cell_type": "code",
   "execution_count": 32,
   "metadata": {},
   "outputs": [],
   "source": [
    "auto = auto.loc[auto['price'] >= 100]"
   ]
  },
  {
   "cell_type": "markdown",
   "metadata": {},
   "source": [
    "Не все данные нам нужны для построения моделей. На стоимость автомобиля влияют следующие факторы:\n",
    "\n",
    "- vehicle_type — тип автомобильного кузова\n",
    "- registration_year — год регистрации автомобиля\n",
    "- gearbox — тип коробки передач\n",
    "- power — мощность (л. с.)\n",
    "- model — модель автомобиля\n",
    "- kilometer — пробег (км)\n",
    "- fuel_type — тип топлива\n",
    "- brand — марка автомобиля\n",
    "- not_repaired — была машина в ремонте или нет\n",
    "\n",
    "\n",
    "\n",
    "\n"
   ]
  },
  {
   "cell_type": "markdown",
   "metadata": {},
   "source": [
    "Некоторые из этих признаков относятся к типу данных object и при этом являются категориальными признаками. Нам необходимо перевести их в числа. Для преобразования данных используем get_dummies."
   ]
  },
  {
   "cell_type": "code",
   "execution_count": 33,
   "metadata": {},
   "outputs": [],
   "source": [
    "auto = pd.get_dummies(auto, columns=['not_repaired', 'vehicle_type', 'gearbox', 'model', 'fuel_type', 'brand'], drop_first=True)\n"
   ]
  },
  {
   "cell_type": "code",
   "execution_count": 34,
   "metadata": {},
   "outputs": [
    {
     "data": {
      "text/html": [
       "<div>\n",
       "<style scoped>\n",
       "    .dataframe tbody tr th:only-of-type {\n",
       "        vertical-align: middle;\n",
       "    }\n",
       "\n",
       "    .dataframe tbody tr th {\n",
       "        vertical-align: top;\n",
       "    }\n",
       "\n",
       "    .dataframe thead th {\n",
       "        text-align: right;\n",
       "    }\n",
       "</style>\n",
       "<table border=\"1\" class=\"dataframe\">\n",
       "  <thead>\n",
       "    <tr style=\"text-align: right;\">\n",
       "      <th></th>\n",
       "      <th>date_crawled</th>\n",
       "      <th>price</th>\n",
       "      <th>registration_year</th>\n",
       "      <th>power</th>\n",
       "      <th>kilometer</th>\n",
       "      <th>registration_month</th>\n",
       "      <th>date_created</th>\n",
       "      <th>number_of_pictures</th>\n",
       "      <th>postal_code</th>\n",
       "      <th>last_seen</th>\n",
       "      <th>...</th>\n",
       "      <th>brand_saab</th>\n",
       "      <th>brand_seat</th>\n",
       "      <th>brand_skoda</th>\n",
       "      <th>brand_smart</th>\n",
       "      <th>brand_subaru</th>\n",
       "      <th>brand_suzuki</th>\n",
       "      <th>brand_toyota</th>\n",
       "      <th>brand_trabant</th>\n",
       "      <th>brand_volkswagen</th>\n",
       "      <th>brand_volvo</th>\n",
       "    </tr>\n",
       "  </thead>\n",
       "  <tbody>\n",
       "    <tr>\n",
       "      <th>2</th>\n",
       "      <td>2016-03-14 12:52:21</td>\n",
       "      <td>9800</td>\n",
       "      <td>2004</td>\n",
       "      <td>163</td>\n",
       "      <td>125000</td>\n",
       "      <td>8</td>\n",
       "      <td>2016-03-14</td>\n",
       "      <td>0</td>\n",
       "      <td>90480</td>\n",
       "      <td>2016-04-05 12:47:46</td>\n",
       "      <td>...</td>\n",
       "      <td>0</td>\n",
       "      <td>0</td>\n",
       "      <td>0</td>\n",
       "      <td>0</td>\n",
       "      <td>0</td>\n",
       "      <td>0</td>\n",
       "      <td>0</td>\n",
       "      <td>0</td>\n",
       "      <td>0</td>\n",
       "      <td>0</td>\n",
       "    </tr>\n",
       "    <tr>\n",
       "      <th>3</th>\n",
       "      <td>2016-03-17 16:54:04</td>\n",
       "      <td>1500</td>\n",
       "      <td>2001</td>\n",
       "      <td>75</td>\n",
       "      <td>150000</td>\n",
       "      <td>6</td>\n",
       "      <td>2016-03-17</td>\n",
       "      <td>0</td>\n",
       "      <td>91074</td>\n",
       "      <td>2016-03-17 17:40:17</td>\n",
       "      <td>...</td>\n",
       "      <td>0</td>\n",
       "      <td>0</td>\n",
       "      <td>0</td>\n",
       "      <td>0</td>\n",
       "      <td>0</td>\n",
       "      <td>0</td>\n",
       "      <td>0</td>\n",
       "      <td>0</td>\n",
       "      <td>1</td>\n",
       "      <td>0</td>\n",
       "    </tr>\n",
       "    <tr>\n",
       "      <th>4</th>\n",
       "      <td>2016-03-31 17:25:20</td>\n",
       "      <td>3600</td>\n",
       "      <td>2008</td>\n",
       "      <td>69</td>\n",
       "      <td>90000</td>\n",
       "      <td>7</td>\n",
       "      <td>2016-03-31</td>\n",
       "      <td>0</td>\n",
       "      <td>60437</td>\n",
       "      <td>2016-04-06 10:17:21</td>\n",
       "      <td>...</td>\n",
       "      <td>0</td>\n",
       "      <td>0</td>\n",
       "      <td>1</td>\n",
       "      <td>0</td>\n",
       "      <td>0</td>\n",
       "      <td>0</td>\n",
       "      <td>0</td>\n",
       "      <td>0</td>\n",
       "      <td>0</td>\n",
       "      <td>0</td>\n",
       "    </tr>\n",
       "    <tr>\n",
       "      <th>5</th>\n",
       "      <td>2016-04-04 17:36:23</td>\n",
       "      <td>650</td>\n",
       "      <td>1995</td>\n",
       "      <td>102</td>\n",
       "      <td>150000</td>\n",
       "      <td>10</td>\n",
       "      <td>2016-04-04</td>\n",
       "      <td>0</td>\n",
       "      <td>33775</td>\n",
       "      <td>2016-04-06 19:17:07</td>\n",
       "      <td>...</td>\n",
       "      <td>0</td>\n",
       "      <td>0</td>\n",
       "      <td>0</td>\n",
       "      <td>0</td>\n",
       "      <td>0</td>\n",
       "      <td>0</td>\n",
       "      <td>0</td>\n",
       "      <td>0</td>\n",
       "      <td>0</td>\n",
       "      <td>0</td>\n",
       "    </tr>\n",
       "    <tr>\n",
       "      <th>6</th>\n",
       "      <td>2016-04-01 20:48:51</td>\n",
       "      <td>2200</td>\n",
       "      <td>2004</td>\n",
       "      <td>109</td>\n",
       "      <td>150000</td>\n",
       "      <td>8</td>\n",
       "      <td>2016-04-01</td>\n",
       "      <td>0</td>\n",
       "      <td>67112</td>\n",
       "      <td>2016-04-05 18:18:39</td>\n",
       "      <td>...</td>\n",
       "      <td>0</td>\n",
       "      <td>0</td>\n",
       "      <td>0</td>\n",
       "      <td>0</td>\n",
       "      <td>0</td>\n",
       "      <td>0</td>\n",
       "      <td>0</td>\n",
       "      <td>0</td>\n",
       "      <td>0</td>\n",
       "      <td>0</td>\n",
       "    </tr>\n",
       "  </tbody>\n",
       "</table>\n",
       "<p>5 rows × 313 columns</p>\n",
       "</div>"
      ],
      "text/plain": [
       "         date_crawled  price  registration_year  power  kilometer  \\\n",
       "2 2016-03-14 12:52:21   9800               2004    163     125000   \n",
       "3 2016-03-17 16:54:04   1500               2001     75     150000   \n",
       "4 2016-03-31 17:25:20   3600               2008     69      90000   \n",
       "5 2016-04-04 17:36:23    650               1995    102     150000   \n",
       "6 2016-04-01 20:48:51   2200               2004    109     150000   \n",
       "\n",
       "   registration_month date_created  number_of_pictures  postal_code  \\\n",
       "2                   8   2016-03-14                   0        90480   \n",
       "3                   6   2016-03-17                   0        91074   \n",
       "4                   7   2016-03-31                   0        60437   \n",
       "5                  10   2016-04-04                   0        33775   \n",
       "6                   8   2016-04-01                   0        67112   \n",
       "\n",
       "             last_seen  ...  brand_saab  brand_seat  brand_skoda  brand_smart  \\\n",
       "2  2016-04-05 12:47:46  ...           0           0            0            0   \n",
       "3  2016-03-17 17:40:17  ...           0           0            0            0   \n",
       "4  2016-04-06 10:17:21  ...           0           0            1            0   \n",
       "5  2016-04-06 19:17:07  ...           0           0            0            0   \n",
       "6  2016-04-05 18:18:39  ...           0           0            0            0   \n",
       "\n",
       "   brand_subaru  brand_suzuki  brand_toyota  brand_trabant  brand_volkswagen  \\\n",
       "2             0             0             0              0                 0   \n",
       "3             0             0             0              0                 1   \n",
       "4             0             0             0              0                 0   \n",
       "5             0             0             0              0                 0   \n",
       "6             0             0             0              0                 0   \n",
       "\n",
       "   brand_volvo  \n",
       "2            0  \n",
       "3            0  \n",
       "4            0  \n",
       "5            0  \n",
       "6            0  \n",
       "\n",
       "[5 rows x 313 columns]"
      ]
     },
     "metadata": {},
     "output_type": "display_data"
    }
   ],
   "source": [
    "display(auto.head())"
   ]
  },
  {
   "cell_type": "markdown",
   "metadata": {},
   "source": [
    "Данные преобразованы. Теперь разделим нашу выборку на признаки и целевой признак. При этом в признаках оставим, только те, которые действительно влияют на стоимость автомобиля."
   ]
  },
  {
   "cell_type": "code",
   "execution_count": 35,
   "metadata": {},
   "outputs": [],
   "source": [
    "features = auto.drop(['price', 'date_crawled', 'registration_month',\n",
    "                      'number_of_pictures', 'postal_code', 'last_seen', 'date_created'], axis=1) #удаление целевого признака и ненужных признаков \n",
    "target = auto['price'] #целевой признак "
   ]
  },
  {
   "cell_type": "markdown",
   "metadata": {},
   "source": [
    "Для начала нам необходимо разделить данные на три части: на обучающую, валидационную и тестовую выборки. Обучающая выборка будет самой большой и вместит 60% данных. С помощью нее мы будем обучать модель. Вторая выборка валидационная (20% от объема данных), нужна нам для проверки качества работы алгоритма во время обучения модели. И последняя третья выборка - тестовая. Ее размер 20% от общего объема данных. На ней мы будем проверять качество обученной модели."
   ]
  },
  {
   "cell_type": "markdown",
   "metadata": {},
   "source": [
    "Для начала извлечем из общего набора 40% данных, которые потом поделим попалам и одна часть будет у нас валидационной выборкой, а вторая тестовой."
   ]
  },
  {
   "cell_type": "code",
   "execution_count": 36,
   "metadata": {},
   "outputs": [],
   "source": [
    "features_train, features_valid_test, target_train, \\\n",
    " target_valid_test = train_test_split(features, target, test_size=0.4, random_state=12345)"
   ]
  },
  {
   "cell_type": "code",
   "execution_count": 37,
   "metadata": {},
   "outputs": [],
   "source": [
    "features_valid, features_test, target_valid, \\\n",
    " target_test = train_test_split(features_valid_test, target_valid_test, test_size=0.5, random_state=12345)"
   ]
  },
  {
   "cell_type": "markdown",
   "metadata": {},
   "source": [
    "Два признака у нас имеют разный диапазон разброса значений (год регистрации и километраж). Поскольку многие из моделей, которые мы будем строить чувствительны к масштабу, то проведем масштабирование признаков с помощью StandardScaler."
   ]
  },
  {
   "cell_type": "code",
   "execution_count": 38,
   "metadata": {},
   "outputs": [],
   "source": [
    "pd.options.mode.chained_assignment = None\n",
    "\n",
    "numeric = ['registration_year', 'kilometer', 'power']\n",
    "\n",
    "scaler = StandardScaler()\n",
    "scaler.fit(features_train[numeric]) \n",
    "features_train[numeric] = scaler.transform(features_train[numeric])\n",
    "features_valid[numeric] = scaler.transform(features_valid[numeric])\n",
    "features_test[numeric] = scaler.transform(features_test[numeric])\n"
   ]
  },
  {
   "cell_type": "markdown",
   "metadata": {},
   "source": [
    "**Вывод**"
   ]
  },
  {
   "cell_type": "markdown",
   "metadata": {},
   "source": [
    "В этой части проекта мы провели предобработку данных. В результате мы получили:\n",
    "- даты теперь имеют тип Datetime\n",
    "- названия столбцов написаны в нижнем регистре\n",
    "- полностью дублирующиеся строки удалены\n",
    "- строки, где пропущено название модели удалены, поскольку восстановить информацию не представляется возможным, а это один из ключевых признаков определяющих стоимость автомобиля\n",
    "- пропуски в столбцах с типом кузова и коробкой передач заменили на \"unknown\", т.к у одной и той же модели могут быть разные коробки передач и вид кузова. Информацию о том, был ли ремонт или нет, восстановить не возможно, поэтому тоже заменили на \"unknown\"\n",
    "- в столбце с пропущенным видом топлива заменили пропуски на наиболее часто встречающееся значение для данной модели. Но перед этим исправили дубликаты в названиях топлива.\n",
    "- обработали столбец с годом регистрации автомобиля. Где прослеживается логика, там заменили значения. Установили допустимый интервал регистрации автомобилей с 1950 по 2016 г. Все остальные значения отсекли как выбросы.\n",
    "- проанализировали мощность автомобилей. На основе данных полученных из дополнительных источников, ограничили интервал диапазоном 29-600 л.с. Все остальные значения удалили.\n",
    "- в последнюю очередь обработали строки с ценой, убрав из выборки строки с \"сомнительной\" ценой."
   ]
  },
  {
   "cell_type": "markdown",
   "metadata": {},
   "source": [
    "## Обучение моделей"
   ]
  },
  {
   "cell_type": "markdown",
   "metadata": {},
   "source": [
    "В качестве метрики качества будем использовать RMSE . Напишем функцию для ее расчета."
   ]
  },
  {
   "cell_type": "code",
   "execution_count": 39,
   "metadata": {},
   "outputs": [],
   "source": [
    "def rmse(target, predicted):\n",
    "    \n",
    "    return mean_squared_error(target, predicted)**0.5\n",
    "\n",
    "rmse_score = make_scorer(rmse, greater_is_better = False)"
   ]
  },
  {
   "cell_type": "markdown",
   "metadata": {},
   "source": [
    "Мы построим несколько моделей, оценим их качество и измерим время работы. Время предлагаю измерять следующим образом: отдельно посчитать подбор гиперпараметров с помощью GridSearchCV или RandomizedSearchCV (где они необходимы) плюс обучение модели и отдельно скорость предсказания. На лучшей модели посмотрим метрику качества и скорость предсказания на тестовой выборке."
   ]
  },
  {
   "cell_type": "markdown",
   "metadata": {},
   "source": [
    "Для того, чтобы измененное нами время отображалось в виде час-минуты-секунды-миллисекунды напишем функцию:"
   ]
  },
  {
   "cell_type": "code",
   "execution_count": 40,
   "metadata": {},
   "outputs": [],
   "source": [
    "def convert_to_preferred_format(ms): # функция преобразовывает время в миллисекунды, а затем считает количество целых часов, минут, секунд и миллисекунд \n",
    "    ms = ms % (24 * 3600 * 1000)\n",
    "    hour = ms // 3600000\n",
    "    ms %= 3600000\n",
    "    min = ms // 60000\n",
    "    ms %= 60000\n",
    "    sec = ms // 1000\n",
    "    ms %= 1000\n",
    "   \n",
    "    \n",
    "    return \"%02d:%02d:%02d:%03d\" % (hour, min, sec, ms)\n"
   ]
  },
  {
   "cell_type": "markdown",
   "metadata": {},
   "source": [
    "### Дерево решений"
   ]
  },
  {
   "cell_type": "markdown",
   "metadata": {},
   "source": [
    "В первой моделе мы посчитаем время двумя способами: с помощью модуля time и функции time.time(), а второй (контрольный способ, чтобы проверить, что наша функция convert_to_preferred_format работает верно) - это %%time. В последующих моделях %%time мы использовать уже не будем. "
   ]
  },
  {
   "cell_type": "code",
   "execution_count": 41,
   "metadata": {},
   "outputs": [
    {
     "name": "stdout",
     "output_type": "stream",
     "text": [
      "{'max_depth': 9}\n",
      "\n",
      "Время в формате h-m-s-ms : 00:01:05:722\n",
      "\n",
      "CPU times: user 57.2 s, sys: 8.47 s, total: 1min 5s\n",
      "Wall time: 1min 5s\n"
     ]
    }
   ],
   "source": [
    "%%time\n",
    "start_fit_dtr = time.time()\n",
    "clf_dtr = DecisionTreeRegressor(random_state=12345)\n",
    "parametrs = {'max_depth': range (1,10, 1),\n",
    "            }\n",
    "grid_dtr = GridSearchCV(clf_dtr, parametrs, cv = None)\n",
    "grid_dtr.fit(features_train, target_train)\n",
    "print(grid_dtr.best_params_)\n",
    "print()\n",
    "end_time_fit_dtr = time.time() - start_fit_dtr\n",
    "end_time_fit_dtr = convert_to_preferred_format(end_time_fit_dtr * 1000)\n",
    "print(\"Время в формате h-m-s-ms :\", end_time_fit_dtr)\n",
    "print()"
   ]
  },
  {
   "cell_type": "markdown",
   "metadata": {},
   "source": [
    "Лучший результат при 9 деревьях. Время обучения и подбора гиперпараметров невысокое. Тот же показатель и при использовании time.time(), только добавились миллисекунды."
   ]
  },
  {
   "cell_type": "code",
   "execution_count": 42,
   "metadata": {},
   "outputs": [
    {
     "name": "stdout",
     "output_type": "stream",
     "text": [
      "Дерево решений (с подбором гиперпараметров):\n",
      "RMSE: 2005.08\n",
      "\n",
      "Время в формате h-m-s-ms : 00:00:00:102\n",
      "\n",
      "CPU times: user 37.1 ms, sys: 63.2 ms, total: 100 ms\n",
      "Wall time: 103 ms\n"
     ]
    }
   ],
   "source": [
    "%%time\n",
    "start_pred_dtr = time.time()\n",
    "predicted_valid = grid_dtr.predict(features_valid)\n",
    "print('Дерево решений (с подбором гиперпараметров):')\n",
    "rmse_dtr = rmse(target_valid, predicted_valid)\n",
    "print('RMSE: {:.2f}'.format(rmse_dtr))\n",
    "print()\n",
    "end_time_pred_dtr = time.time() - start_pred_dtr\n",
    "end_time_pred_dtr = convert_to_preferred_format(end_time_pred_dtr * 1000)\n",
    "print(\"Время в формате h-m-s-ms :\", end_time_pred_dtr)\n",
    "print()"
   ]
  },
  {
   "cell_type": "markdown",
   "metadata": {},
   "source": [
    "Предсказание очень быстрое. Показатель RMSE: 2005.08"
   ]
  },
  {
   "cell_type": "markdown",
   "metadata": {},
   "source": [
    "### Линейная регрессия"
   ]
  },
  {
   "cell_type": "code",
   "execution_count": 43,
   "metadata": {},
   "outputs": [
    {
     "name": "stdout",
     "output_type": "stream",
     "text": [
      "Время в формате h-m-s-ms : 00:00:28:020\n",
      "\n"
     ]
    }
   ],
   "source": [
    "start_fit_lr = time.time()\n",
    "\n",
    "model_lr = LinearRegression() \n",
    "model_lr.fit(features_train, target_train) \n",
    "\n",
    "end_time_fit_lr = time.time() - start_fit_lr\n",
    "end_time_fit_lr = convert_to_preferred_format(end_time_fit_lr * 1000)\n",
    "\n",
    "print(\"Время в формате h-m-s-ms :\", end_time_fit_lr)\n",
    "print()"
   ]
  },
  {
   "cell_type": "code",
   "execution_count": 44,
   "metadata": {},
   "outputs": [
    {
     "name": "stdout",
     "output_type": "stream",
     "text": [
      "Линейная регрессия:\n",
      "RMSE: 2550.62\n",
      "\n",
      "Время в формате h-m-s-ms : 00:00:00:188\n",
      "\n"
     ]
    }
   ],
   "source": [
    "start_pred_lr = time.time()\n",
    "\n",
    "predicted_valid = model_lr.predict(features_valid)\n",
    "rmse_lr = rmse(target_valid, predicted_valid)\n",
    "print('Линейная регрессия:')\n",
    "print('RMSE: {:.2f}'.format(rmse_lr))\n",
    "print()\n",
    "end_time_pred_lr = time.time() - start_pred_lr\n",
    "end_time_pred_lr = convert_to_preferred_format(end_time_pred_lr * 1000)\n",
    "print(\"Время в формате h-m-s-ms :\", end_time_pred_lr)\n",
    "print()"
   ]
  },
  {
   "cell_type": "markdown",
   "metadata": {},
   "source": [
    "Обучение также быстрое и предсказание тоже. Правда показатель RMSE достаточно высокий - 2550,62."
   ]
  },
  {
   "cell_type": "markdown",
   "metadata": {},
   "source": [
    "### Модель Лассо"
   ]
  },
  {
   "cell_type": "markdown",
   "metadata": {},
   "source": [
    "Следующая на очереди модель Лассо."
   ]
  },
  {
   "cell_type": "code",
   "execution_count": 45,
   "metadata": {},
   "outputs": [
    {
     "name": "stdout",
     "output_type": "stream",
     "text": [
      "Время в формате h-m-s-ms : 00:03:47:588\n",
      "\n"
     ]
    }
   ],
   "source": [
    "import warnings\n",
    "warnings.simplefilter(\"ignore\")\n",
    "\n",
    "start_fit_lasso = time.time()\n",
    "\n",
    "model_lasso = Lasso(random_state=12345) # модель Лассо \n",
    "model_lasso.fit(features_train, target_train) \n",
    "\n",
    "end_time_fit_lasso = time.time() - start_fit_lasso\n",
    "end_time_fit_lasso = convert_to_preferred_format(end_time_fit_lasso * 1000)\n",
    "\n",
    "print(\"Время в формате h-m-s-ms :\", end_time_fit_lasso)\n",
    "print()\n",
    "\n"
   ]
  },
  {
   "cell_type": "code",
   "execution_count": 46,
   "metadata": {},
   "outputs": [
    {
     "name": "stdout",
     "output_type": "stream",
     "text": [
      "Модель Лассо:\n",
      "RMSE: 2588.03\n",
      "\n",
      "Время в формате h-m-s-ms : 00:00:00:241\n",
      "\n"
     ]
    }
   ],
   "source": [
    "start_pred_lasso = time.time()\n",
    "\n",
    "predicted_valid = model_lasso.predict(features_valid)\n",
    "rmse_lasso = rmse(target_valid, predicted_valid)\n",
    "print('Модель Лассо:')\n",
    "print('RMSE: {:.2f}'.format(rmse_lasso))\n",
    "\n",
    "print()\n",
    "end_time_pred_lasso = time.time() - start_pred_lasso\n",
    "end_time_pred_lasso = convert_to_preferred_format(end_time_pred_lasso * 1000)\n",
    "print(\"Время в формате h-m-s-ms :\", end_time_pred_lasso)\n",
    "print()"
   ]
  },
  {
   "cell_type": "markdown",
   "metadata": {},
   "source": [
    "Модель Лассо обучалась в пределах 10 минут (за несколько прогонов получила несколько разных показаний времени, но все они были в пределаж 2-10 минут). Ппредсказание все еще измеряется в миллисекундах. При этом RMSE хуже всех- 2588.03. Возможно подбор гиперпараметров, мог бы улучшить результат, но при этом увеличится время обучения."
   ]
  },
  {
   "cell_type": "markdown",
   "metadata": {},
   "source": [
    "### Случайный лес"
   ]
  },
  {
   "cell_type": "markdown",
   "metadata": {},
   "source": [
    "Случайный лес с подбором гиперпараметров обычно дает лучший результат, чем предыдущие три модели, но основная его проблема в том, что обучается он долго. На небольших наборах данных для подбора гиперпараметров я обычно использую GridSearchCV, но в данном случае попробуем применить RandomizedSearchCV. Вероятнее всего с помощью GridSearchCV мы могли бы найти более оптимальные гиперпараметры, но в целях экономии времени применим RandomizedSearchCV."
   ]
  },
  {
   "cell_type": "code",
   "execution_count": 47,
   "metadata": {},
   "outputs": [
    {
     "name": "stdout",
     "output_type": "stream",
     "text": [
      "{'max_depth': 9}\n",
      "\n",
      "Время в формате h-m-s-ms : 01:13:02:160\n",
      "\n"
     ]
    }
   ],
   "source": [
    "start_fit_rfg  = time.time()\n",
    "\n",
    "clf_rfg = RandomForestRegressor(random_state=12345)\n",
    "parametrs = {'n_estimators': range (30, 101),\n",
    "              'max_depth': range (1,21),\n",
    "            }\n",
    "grid_rfg  = RandomizedSearchCV(clf_rfg , parametrs, cv = None, n_iter = 10, scoring = rmse_score)\n",
    "grid_rfg.fit(features_train, target_train)\n",
    "print(grid_dtr.best_params_)\n",
    "print()\n",
    "end_time_fit_rfg  = time.time() - start_fit_rfg\n",
    "end_time_fit_rfg = convert_to_preferred_format(end_time_fit_rfg  * 1000)\n",
    "\n",
    "print(\"Время в формате h-m-s-ms :\", end_time_fit_rfg)\n",
    "print()"
   ]
  },
  {
   "cell_type": "code",
   "execution_count": 48,
   "metadata": {},
   "outputs": [
    {
     "name": "stdout",
     "output_type": "stream",
     "text": [
      "Случайный лес:\n",
      "RMSE: 1586.50\n",
      "\n",
      "Время в формате h-m-s-ms : 00:00:00:749\n",
      "\n"
     ]
    }
   ],
   "source": [
    "start_pred_rfg  = time.time()\n",
    "\n",
    "predicted_valid = grid_rfg.predict(features_valid)\n",
    "rmse_rfg  = rmse(target_valid, predicted_valid)\n",
    "print('Случайный лес:')\n",
    "print('RMSE: {:.2f}'.format(rmse_rfg))\n",
    "\n",
    "print()\n",
    "end_time_pred_rfg  = time.time() - start_pred_rfg \n",
    "end_time_pred_rfg = convert_to_preferred_format(end_time_pred_rfg  * 1000)\n",
    "print(\"Время в формате h-m-s-ms :\", end_time_pred_rfg)\n",
    "print()"
   ]
  },
  {
   "cell_type": "markdown",
   "metadata": {},
   "source": [
    "Обучение заняло около часа. При этом мы получили достаточно хороший показатель RMSE: 1586,50"
   ]
  },
  {
   "cell_type": "markdown",
   "metadata": {},
   "source": [
    "### CatBoost"
   ]
  },
  {
   "cell_type": "markdown",
   "metadata": {},
   "source": [
    "Попробуем постоить предсказание с помощью CatBoostRegressor. Гиперпараметры подберем с помощью GridSearchCV."
   ]
  },
  {
   "cell_type": "code",
   "execution_count": 49,
   "metadata": {},
   "outputs": [
    {
     "name": "stdout",
     "output_type": "stream",
     "text": [
      "Learning rate set to 0.5\n",
      "0:\tlearn: 3346.1088284\ttotal: 64.8ms\tremaining: 3.17s\n",
      "10:\tlearn: 1963.2954317\ttotal: 209ms\tremaining: 742ms\n",
      "20:\tlearn: 1835.3869050\ttotal: 347ms\tremaining: 479ms\n",
      "30:\tlearn: 1773.0120561\ttotal: 480ms\tremaining: 294ms\n",
      "40:\tlearn: 1734.1503035\ttotal: 627ms\tremaining: 138ms\n",
      "49:\tlearn: 1704.3226944\ttotal: 750ms\tremaining: 0us\n",
      "Learning rate set to 0.5\n",
      "0:\tlearn: 3343.2477256\ttotal: 14.7ms\tremaining: 718ms\n",
      "10:\tlearn: 1965.7842638\ttotal: 153ms\tremaining: 542ms\n",
      "20:\tlearn: 1823.3641396\ttotal: 291ms\tremaining: 401ms\n",
      "30:\tlearn: 1769.5422087\ttotal: 435ms\tremaining: 267ms\n",
      "40:\tlearn: 1730.1585511\ttotal: 567ms\tremaining: 125ms\n",
      "49:\tlearn: 1701.2463467\ttotal: 696ms\tremaining: 0us\n",
      "Learning rate set to 0.5\n",
      "0:\tlearn: 3321.5435291\ttotal: 15.2ms\tremaining: 744ms\n",
      "10:\tlearn: 1955.7363351\ttotal: 162ms\tremaining: 575ms\n",
      "20:\tlearn: 1845.5078494\ttotal: 314ms\tremaining: 434ms\n",
      "30:\tlearn: 1778.5753856\ttotal: 454ms\tremaining: 278ms\n",
      "40:\tlearn: 1742.2379355\ttotal: 581ms\tremaining: 128ms\n",
      "49:\tlearn: 1712.1620060\ttotal: 726ms\tremaining: 0us\n",
      "Learning rate set to 0.5\n",
      "0:\tlearn: 3341.6041530\ttotal: 17.5ms\tremaining: 859ms\n",
      "10:\tlearn: 1952.3467754\ttotal: 204ms\tremaining: 723ms\n",
      "20:\tlearn: 1828.7773602\ttotal: 347ms\tremaining: 479ms\n",
      "30:\tlearn: 1776.3200003\ttotal: 496ms\tremaining: 304ms\n",
      "40:\tlearn: 1742.3982988\ttotal: 642ms\tremaining: 141ms\n",
      "49:\tlearn: 1715.5694888\ttotal: 767ms\tremaining: 0us\n",
      "Learning rate set to 0.5\n",
      "0:\tlearn: 3343.0023916\ttotal: 14.9ms\tremaining: 732ms\n",
      "10:\tlearn: 1952.9931053\ttotal: 166ms\tremaining: 589ms\n",
      "20:\tlearn: 1829.9499270\ttotal: 301ms\tremaining: 415ms\n",
      "30:\tlearn: 1768.1917055\ttotal: 440ms\tremaining: 269ms\n",
      "40:\tlearn: 1736.0384333\ttotal: 573ms\tremaining: 126ms\n",
      "49:\tlearn: 1708.0796272\ttotal: 697ms\tremaining: 0us\n",
      "Learning rate set to 0.5\n",
      "0:\tlearn: 3346.1088284\ttotal: 14.3ms\tremaining: 988ms\n",
      "10:\tlearn: 1963.2954317\ttotal: 157ms\tremaining: 840ms\n",
      "20:\tlearn: 1835.3869050\ttotal: 315ms\tremaining: 734ms\n",
      "30:\tlearn: 1773.0120561\ttotal: 455ms\tremaining: 573ms\n",
      "40:\tlearn: 1734.1503035\ttotal: 593ms\tremaining: 419ms\n",
      "50:\tlearn: 1702.1635107\ttotal: 733ms\tremaining: 273ms\n",
      "60:\tlearn: 1680.7848109\ttotal: 875ms\tremaining: 129ms\n",
      "69:\tlearn: 1663.7306049\ttotal: 1.01s\tremaining: 0us\n",
      "Learning rate set to 0.5\n",
      "0:\tlearn: 3343.2477256\ttotal: 14.4ms\tremaining: 995ms\n",
      "10:\tlearn: 1965.7842638\ttotal: 159ms\tremaining: 854ms\n",
      "20:\tlearn: 1823.3641396\ttotal: 296ms\tremaining: 692ms\n",
      "30:\tlearn: 1769.5422087\ttotal: 433ms\tremaining: 545ms\n",
      "40:\tlearn: 1730.1585511\ttotal: 575ms\tremaining: 407ms\n",
      "50:\tlearn: 1697.9025652\ttotal: 710ms\tremaining: 265ms\n",
      "60:\tlearn: 1674.8355165\ttotal: 856ms\tremaining: 126ms\n",
      "69:\tlearn: 1660.4346873\ttotal: 976ms\tremaining: 0us\n",
      "Learning rate set to 0.5\n",
      "0:\tlearn: 3321.5435291\ttotal: 18.7ms\tremaining: 1.29s\n",
      "10:\tlearn: 1955.7363351\ttotal: 160ms\tremaining: 857ms\n",
      "20:\tlearn: 1845.5078494\ttotal: 295ms\tremaining: 689ms\n",
      "30:\tlearn: 1778.5753856\ttotal: 433ms\tremaining: 544ms\n",
      "40:\tlearn: 1742.2379355\ttotal: 563ms\tremaining: 398ms\n",
      "50:\tlearn: 1709.1971884\ttotal: 699ms\tremaining: 261ms\n",
      "60:\tlearn: 1688.3095055\ttotal: 842ms\tremaining: 124ms\n",
      "69:\tlearn: 1665.7419994\ttotal: 968ms\tremaining: 0us\n",
      "Learning rate set to 0.5\n",
      "0:\tlearn: 3341.6041530\ttotal: 19.9ms\tremaining: 1.37s\n",
      "10:\tlearn: 1952.3467754\ttotal: 192ms\tremaining: 1.03s\n",
      "20:\tlearn: 1828.7773602\ttotal: 357ms\tremaining: 832ms\n",
      "30:\tlearn: 1776.3200003\ttotal: 495ms\tremaining: 622ms\n",
      "40:\tlearn: 1742.3982988\ttotal: 654ms\tremaining: 463ms\n",
      "50:\tlearn: 1713.6168823\ttotal: 791ms\tremaining: 295ms\n",
      "60:\tlearn: 1687.9310922\ttotal: 925ms\tremaining: 137ms\n",
      "69:\tlearn: 1668.9283513\ttotal: 1.06s\tremaining: 0us\n",
      "Learning rate set to 0.5\n",
      "0:\tlearn: 3343.0023916\ttotal: 15.8ms\tremaining: 1.09s\n",
      "10:\tlearn: 1952.9931053\ttotal: 169ms\tremaining: 909ms\n",
      "20:\tlearn: 1829.9499270\ttotal: 311ms\tremaining: 725ms\n",
      "30:\tlearn: 1768.1917055\ttotal: 451ms\tremaining: 568ms\n",
      "40:\tlearn: 1736.0384333\ttotal: 583ms\tremaining: 412ms\n",
      "50:\tlearn: 1705.7336544\ttotal: 726ms\tremaining: 270ms\n",
      "60:\tlearn: 1682.4408692\ttotal: 860ms\tremaining: 127ms\n",
      "69:\tlearn: 1660.8496604\ttotal: 983ms\tremaining: 0us\n",
      "Learning rate set to 0.5\n",
      "0:\tlearn: 3346.1088284\ttotal: 15.1ms\tremaining: 1.34s\n",
      "10:\tlearn: 1963.2954317\ttotal: 156ms\tremaining: 1.12s\n",
      "20:\tlearn: 1835.3869050\ttotal: 294ms\tremaining: 966ms\n",
      "30:\tlearn: 1773.0120561\ttotal: 434ms\tremaining: 826ms\n",
      "40:\tlearn: 1734.1503035\ttotal: 590ms\tremaining: 705ms\n",
      "50:\tlearn: 1702.1635107\ttotal: 726ms\tremaining: 555ms\n",
      "60:\tlearn: 1680.7848109\ttotal: 861ms\tremaining: 409ms\n",
      "70:\tlearn: 1661.9701289\ttotal: 1.01s\tremaining: 269ms\n",
      "80:\tlearn: 1644.6787893\ttotal: 1.14s\tremaining: 126ms\n",
      "89:\tlearn: 1629.3942701\ttotal: 1.26s\tremaining: 0us\n",
      "Learning rate set to 0.5\n",
      "0:\tlearn: 3343.2477256\ttotal: 14.6ms\tremaining: 1.3s\n",
      "10:\tlearn: 1965.7842638\ttotal: 161ms\tremaining: 1.15s\n",
      "20:\tlearn: 1823.3641396\ttotal: 300ms\tremaining: 986ms\n",
      "30:\tlearn: 1769.5422087\ttotal: 437ms\tremaining: 832ms\n",
      "40:\tlearn: 1730.1585511\ttotal: 569ms\tremaining: 680ms\n",
      "50:\tlearn: 1697.9025652\ttotal: 701ms\tremaining: 536ms\n",
      "60:\tlearn: 1674.8355165\ttotal: 833ms\tremaining: 396ms\n",
      "70:\tlearn: 1658.9628911\ttotal: 965ms\tremaining: 258ms\n",
      "80:\tlearn: 1643.7404810\ttotal: 1.09s\tremaining: 122ms\n",
      "89:\tlearn: 1628.5758555\ttotal: 1.22s\tremaining: 0us\n",
      "Learning rate set to 0.5\n",
      "0:\tlearn: 3321.5435291\ttotal: 15.3ms\tremaining: 1.36s\n",
      "10:\tlearn: 1955.7363351\ttotal: 161ms\tremaining: 1.15s\n",
      "20:\tlearn: 1845.5078494\ttotal: 306ms\tremaining: 1s\n",
      "30:\tlearn: 1778.5753856\ttotal: 445ms\tremaining: 847ms\n",
      "40:\tlearn: 1742.2379355\ttotal: 589ms\tremaining: 704ms\n",
      "50:\tlearn: 1709.1971884\ttotal: 762ms\tremaining: 582ms\n",
      "60:\tlearn: 1688.3095055\ttotal: 900ms\tremaining: 428ms\n",
      "70:\tlearn: 1663.9885487\ttotal: 1.04s\tremaining: 278ms\n",
      "80:\tlearn: 1647.0570927\ttotal: 1.18s\tremaining: 131ms\n",
      "89:\tlearn: 1635.6342287\ttotal: 1.32s\tremaining: 0us\n",
      "Learning rate set to 0.5\n",
      "0:\tlearn: 3341.6041530\ttotal: 15.8ms\tremaining: 1.41s\n",
      "10:\tlearn: 1952.3467754\ttotal: 154ms\tremaining: 1.11s\n",
      "20:\tlearn: 1828.7773602\ttotal: 291ms\tremaining: 955ms\n",
      "30:\tlearn: 1776.3200003\ttotal: 444ms\tremaining: 845ms\n",
      "40:\tlearn: 1742.3982988\ttotal: 578ms\tremaining: 690ms\n",
      "50:\tlearn: 1713.6168823\ttotal: 728ms\tremaining: 556ms\n",
      "60:\tlearn: 1687.9310922\ttotal: 878ms\tremaining: 417ms\n",
      "70:\tlearn: 1667.1250795\ttotal: 1.03s\tremaining: 275ms\n",
      "80:\tlearn: 1649.2094212\ttotal: 1.17s\tremaining: 130ms\n",
      "89:\tlearn: 1635.9213741\ttotal: 1.3s\tremaining: 0us\n",
      "Learning rate set to 0.5\n",
      "0:\tlearn: 3343.0023916\ttotal: 16.3ms\tremaining: 1.45s\n",
      "10:\tlearn: 1952.9931053\ttotal: 162ms\tremaining: 1.16s\n",
      "20:\tlearn: 1829.9499270\ttotal: 304ms\tremaining: 1s\n",
      "30:\tlearn: 1768.1917055\ttotal: 446ms\tremaining: 850ms\n",
      "40:\tlearn: 1736.0384333\ttotal: 588ms\tremaining: 703ms\n",
      "50:\tlearn: 1705.7336544\ttotal: 729ms\tremaining: 557ms\n",
      "60:\tlearn: 1682.4408692\ttotal: 863ms\tremaining: 410ms\n",
      "70:\tlearn: 1659.2221485\ttotal: 1.01s\tremaining: 270ms\n",
      "80:\tlearn: 1643.3508201\ttotal: 1.15s\tremaining: 127ms\n",
      "89:\tlearn: 1628.2981657\ttotal: 1.28s\tremaining: 0us\n",
      "Learning rate set to 0.5\n",
      "0:\tlearn: 3346.1088284\ttotal: 14.6ms\tremaining: 1.59s\n",
      "10:\tlearn: 1963.2954317\ttotal: 165ms\tremaining: 1.48s\n",
      "20:\tlearn: 1835.3869050\ttotal: 311ms\tremaining: 1.32s\n",
      "30:\tlearn: 1773.0120561\ttotal: 445ms\tremaining: 1.14s\n",
      "40:\tlearn: 1734.1503035\ttotal: 589ms\tremaining: 992ms\n",
      "50:\tlearn: 1702.1635107\ttotal: 747ms\tremaining: 864ms\n",
      "60:\tlearn: 1680.7848109\ttotal: 879ms\tremaining: 706ms\n",
      "70:\tlearn: 1661.9701289\ttotal: 1.01s\tremaining: 556ms\n",
      "80:\tlearn: 1644.6787893\ttotal: 1.15s\tremaining: 412ms\n",
      "90:\tlearn: 1627.9985632\ttotal: 1.29s\tremaining: 270ms\n",
      "100:\tlearn: 1611.4846698\ttotal: 1.43s\tremaining: 127ms\n",
      "109:\tlearn: 1598.8398899\ttotal: 1.56s\tremaining: 0us\n",
      "Learning rate set to 0.5\n",
      "0:\tlearn: 3343.2477256\ttotal: 14.6ms\tremaining: 1.59s\n",
      "10:\tlearn: 1965.7842638\ttotal: 153ms\tremaining: 1.37s\n",
      "20:\tlearn: 1823.3641396\ttotal: 291ms\tremaining: 1.23s\n",
      "30:\tlearn: 1769.5422087\ttotal: 427ms\tremaining: 1.09s\n",
      "40:\tlearn: 1730.1585511\ttotal: 597ms\tremaining: 1s\n",
      "50:\tlearn: 1697.9025652\ttotal: 751ms\tremaining: 869ms\n",
      "60:\tlearn: 1674.8355165\ttotal: 889ms\tremaining: 714ms\n",
      "70:\tlearn: 1658.9628911\ttotal: 1.03s\tremaining: 566ms\n",
      "80:\tlearn: 1643.7404810\ttotal: 1.17s\tremaining: 419ms\n",
      "90:\tlearn: 1627.4496852\ttotal: 1.31s\tremaining: 275ms\n",
      "100:\tlearn: 1612.5010414\ttotal: 1.46s\tremaining: 130ms\n",
      "109:\tlearn: 1601.5805932\ttotal: 1.58s\tremaining: 0us\n",
      "Learning rate set to 0.5\n",
      "0:\tlearn: 3321.5435291\ttotal: 25.8ms\tremaining: 2.81s\n",
      "10:\tlearn: 1955.7363351\ttotal: 169ms\tremaining: 1.52s\n",
      "20:\tlearn: 1845.5078494\ttotal: 313ms\tremaining: 1.33s\n",
      "30:\tlearn: 1778.5753856\ttotal: 451ms\tremaining: 1.15s\n",
      "40:\tlearn: 1742.2379355\ttotal: 588ms\tremaining: 990ms\n",
      "50:\tlearn: 1709.1971884\ttotal: 736ms\tremaining: 851ms\n",
      "60:\tlearn: 1688.3095055\ttotal: 873ms\tremaining: 702ms\n",
      "70:\tlearn: 1663.9885487\ttotal: 1.01s\tremaining: 555ms\n",
      "80:\tlearn: 1647.0570927\ttotal: 1.15s\tremaining: 412ms\n",
      "90:\tlearn: 1635.3728279\ttotal: 1.29s\tremaining: 270ms\n",
      "100:\tlearn: 1624.2973506\ttotal: 1.43s\tremaining: 128ms\n",
      "109:\tlearn: 1612.9926142\ttotal: 1.56s\tremaining: 0us\n",
      "Learning rate set to 0.5\n",
      "0:\tlearn: 3341.6041530\ttotal: 15ms\tremaining: 1.63s\n",
      "10:\tlearn: 1952.3467754\ttotal: 153ms\tremaining: 1.38s\n",
      "20:\tlearn: 1828.7773602\ttotal: 305ms\tremaining: 1.29s\n",
      "30:\tlearn: 1776.3200003\ttotal: 445ms\tremaining: 1.13s\n",
      "40:\tlearn: 1742.3982988\ttotal: 587ms\tremaining: 987ms\n",
      "50:\tlearn: 1713.6168823\ttotal: 724ms\tremaining: 838ms\n",
      "60:\tlearn: 1687.9310922\ttotal: 859ms\tremaining: 690ms\n",
      "70:\tlearn: 1667.1250795\ttotal: 1.01s\tremaining: 553ms\n",
      "80:\tlearn: 1649.2094212\ttotal: 1.15s\tremaining: 411ms\n",
      "90:\tlearn: 1634.6125387\ttotal: 1.28s\tremaining: 268ms\n",
      "100:\tlearn: 1622.2525236\ttotal: 1.43s\tremaining: 127ms\n",
      "109:\tlearn: 1611.3816231\ttotal: 1.54s\tremaining: 0us\n",
      "Learning rate set to 0.5\n",
      "0:\tlearn: 3343.0023916\ttotal: 14.8ms\tremaining: 1.61s\n",
      "10:\tlearn: 1952.9931053\ttotal: 151ms\tremaining: 1.35s\n",
      "20:\tlearn: 1829.9499270\ttotal: 285ms\tremaining: 1.21s\n",
      "30:\tlearn: 1768.1917055\ttotal: 420ms\tremaining: 1.07s\n",
      "40:\tlearn: 1736.0384333\ttotal: 551ms\tremaining: 927ms\n",
      "50:\tlearn: 1705.7336544\ttotal: 689ms\tremaining: 797ms\n",
      "60:\tlearn: 1682.4408692\ttotal: 830ms\tremaining: 666ms\n",
      "70:\tlearn: 1659.2221485\ttotal: 975ms\tremaining: 536ms\n",
      "80:\tlearn: 1643.3508201\ttotal: 1.11s\tremaining: 399ms\n",
      "90:\tlearn: 1626.9535936\ttotal: 1.25s\tremaining: 262ms\n",
      "100:\tlearn: 1615.2050141\ttotal: 1.39s\tremaining: 124ms\n",
      "109:\tlearn: 1604.0521470\ttotal: 1.51s\tremaining: 0us\n",
      "Learning rate set to 0.467457\n",
      "0:\tlearn: 3413.6379978\ttotal: 14.7ms\tremaining: 1.89s\n",
      "10:\tlearn: 1981.4660516\ttotal: 171ms\tremaining: 1.85s\n",
      "20:\tlearn: 1851.5911971\ttotal: 305ms\tremaining: 1.58s\n",
      "30:\tlearn: 1786.6518782\ttotal: 443ms\tremaining: 1.42s\n",
      "40:\tlearn: 1749.3319784\ttotal: 590ms\tremaining: 1.28s\n",
      "50:\tlearn: 1715.5276628\ttotal: 721ms\tremaining: 1.12s\n",
      "60:\tlearn: 1692.6709325\ttotal: 858ms\tremaining: 970ms\n",
      "70:\tlearn: 1671.5840535\ttotal: 992ms\tremaining: 824ms\n",
      "80:\tlearn: 1654.8983397\ttotal: 1.13s\tremaining: 684ms\n",
      "90:\tlearn: 1638.6426267\ttotal: 1.26s\tremaining: 541ms\n",
      "100:\tlearn: 1626.2299356\ttotal: 1.4s\tremaining: 403ms\n",
      "110:\tlearn: 1613.7657472\ttotal: 1.54s\tremaining: 263ms\n",
      "120:\tlearn: 1604.5806032\ttotal: 1.67s\tremaining: 124ms\n",
      "129:\tlearn: 1596.2833143\ttotal: 1.81s\tremaining: 0us\n",
      "Learning rate set to 0.467457\n",
      "0:\tlearn: 3410.7397687\ttotal: 14.7ms\tremaining: 1.9s\n",
      "10:\tlearn: 1964.2810906\ttotal: 157ms\tremaining: 1.7s\n",
      "20:\tlearn: 1847.7149237\ttotal: 294ms\tremaining: 1.52s\n",
      "30:\tlearn: 1778.6225832\ttotal: 445ms\tremaining: 1.42s\n",
      "40:\tlearn: 1748.4787611\ttotal: 578ms\tremaining: 1.25s\n",
      "50:\tlearn: 1717.0015159\ttotal: 741ms\tremaining: 1.15s\n",
      "60:\tlearn: 1691.4631494\ttotal: 889ms\tremaining: 1s\n",
      "70:\tlearn: 1672.9742586\ttotal: 1.02s\tremaining: 849ms\n",
      "80:\tlearn: 1653.7534427\ttotal: 1.16s\tremaining: 701ms\n",
      "90:\tlearn: 1637.8540227\ttotal: 1.29s\tremaining: 554ms\n",
      "100:\tlearn: 1623.7447674\ttotal: 1.43s\tremaining: 412ms\n",
      "110:\tlearn: 1613.8136738\ttotal: 1.57s\tremaining: 268ms\n",
      "120:\tlearn: 1604.0447567\ttotal: 1.69s\tremaining: 126ms\n",
      "129:\tlearn: 1594.8012635\ttotal: 1.82s\tremaining: 0us\n",
      "Learning rate set to 0.467457\n",
      "0:\tlearn: 3390.6615818\ttotal: 15.4ms\tremaining: 1.98s\n",
      "10:\tlearn: 1971.0021741\ttotal: 172ms\tremaining: 1.86s\n",
      "20:\tlearn: 1843.7660979\ttotal: 332ms\tremaining: 1.72s\n",
      "30:\tlearn: 1786.2209900\ttotal: 467ms\tremaining: 1.49s\n",
      "40:\tlearn: 1751.1691209\ttotal: 612ms\tremaining: 1.33s\n",
      "50:\tlearn: 1718.2392742\ttotal: 751ms\tremaining: 1.16s\n",
      "60:\tlearn: 1692.8633359\ttotal: 899ms\tremaining: 1.02s\n",
      "70:\tlearn: 1675.2058979\ttotal: 1.03s\tremaining: 858ms\n",
      "80:\tlearn: 1656.8860628\ttotal: 1.17s\tremaining: 707ms\n",
      "90:\tlearn: 1641.8659469\ttotal: 1.3s\tremaining: 557ms\n",
      "100:\tlearn: 1630.3862435\ttotal: 1.43s\tremaining: 411ms\n",
      "110:\tlearn: 1617.2647815\ttotal: 1.57s\tremaining: 268ms\n",
      "120:\tlearn: 1607.6129037\ttotal: 1.7s\tremaining: 127ms\n",
      "129:\tlearn: 1599.5021275\ttotal: 1.82s\tremaining: 0us\n",
      "Learning rate set to 0.467457\n",
      "0:\tlearn: 3408.3251487\ttotal: 16.4ms\tremaining: 2.11s\n",
      "10:\tlearn: 1953.3914846\ttotal: 160ms\tremaining: 1.73s\n",
      "20:\tlearn: 1844.3305004\ttotal: 302ms\tremaining: 1.57s\n",
      "30:\tlearn: 1783.8405096\ttotal: 442ms\tremaining: 1.41s\n",
      "40:\tlearn: 1749.0078374\ttotal: 585ms\tremaining: 1.27s\n",
      "50:\tlearn: 1714.2229724\ttotal: 761ms\tremaining: 1.18s\n",
      "60:\tlearn: 1693.5450961\ttotal: 915ms\tremaining: 1.03s\n",
      "70:\tlearn: 1674.4204517\ttotal: 1.05s\tremaining: 873ms\n",
      "80:\tlearn: 1658.0159991\ttotal: 1.19s\tremaining: 717ms\n",
      "90:\tlearn: 1643.4997551\ttotal: 1.34s\tremaining: 576ms\n",
      "100:\tlearn: 1629.6498704\ttotal: 1.5s\tremaining: 432ms\n",
      "110:\tlearn: 1616.2776411\ttotal: 1.65s\tremaining: 283ms\n",
      "120:\tlearn: 1606.5413890\ttotal: 1.8s\tremaining: 134ms\n",
      "129:\tlearn: 1598.0225387\ttotal: 1.92s\tremaining: 0us\n",
      "Learning rate set to 0.467457\n",
      "0:\tlearn: 3410.3337892\ttotal: 16.3ms\tremaining: 2.11s\n",
      "10:\tlearn: 1966.5831627\ttotal: 174ms\tremaining: 1.88s\n",
      "20:\tlearn: 1847.8347200\ttotal: 307ms\tremaining: 1.59s\n",
      "30:\tlearn: 1784.9297201\ttotal: 449ms\tremaining: 1.43s\n",
      "40:\tlearn: 1742.9357715\ttotal: 587ms\tremaining: 1.27s\n",
      "50:\tlearn: 1711.3819692\ttotal: 727ms\tremaining: 1.13s\n",
      "60:\tlearn: 1686.1163286\ttotal: 863ms\tremaining: 977ms\n",
      "70:\tlearn: 1670.0315330\ttotal: 998ms\tremaining: 830ms\n",
      "80:\tlearn: 1652.9854574\ttotal: 1.14s\tremaining: 689ms\n",
      "90:\tlearn: 1636.9867017\ttotal: 1.27s\tremaining: 547ms\n",
      "100:\tlearn: 1625.5312681\ttotal: 1.41s\tremaining: 405ms\n",
      "110:\tlearn: 1613.8820201\ttotal: 1.55s\tremaining: 265ms\n",
      "120:\tlearn: 1604.6261928\ttotal: 1.71s\tremaining: 127ms\n",
      "129:\tlearn: 1595.7467576\ttotal: 1.83s\tremaining: 0us\n",
      "Learning rate set to 0.416117\n",
      "0:\tlearn: 3525.8336562\ttotal: 14.7ms\tremaining: 2.19s\n",
      "10:\tlearn: 1982.5853332\ttotal: 158ms\tremaining: 2s\n",
      "20:\tlearn: 1856.7865544\ttotal: 315ms\tremaining: 1.94s\n",
      "30:\tlearn: 1793.6851287\ttotal: 452ms\tremaining: 1.74s\n",
      "40:\tlearn: 1750.9554792\ttotal: 593ms\tremaining: 1.58s\n",
      "50:\tlearn: 1720.0409420\ttotal: 731ms\tremaining: 1.42s\n",
      "60:\tlearn: 1698.4293560\ttotal: 875ms\tremaining: 1.28s\n",
      "70:\tlearn: 1677.7499990\ttotal: 1.01s\tremaining: 1.12s\n",
      "80:\tlearn: 1660.0561419\ttotal: 1.14s\tremaining: 972ms\n",
      "90:\tlearn: 1645.5361750\ttotal: 1.28s\tremaining: 828ms\n",
      "100:\tlearn: 1631.5465703\ttotal: 1.43s\tremaining: 691ms\n",
      "110:\tlearn: 1621.8453348\ttotal: 1.56s\tremaining: 549ms\n",
      "120:\tlearn: 1610.5599459\ttotal: 1.7s\tremaining: 407ms\n",
      "130:\tlearn: 1601.1303392\ttotal: 1.83s\tremaining: 266ms\n",
      "140:\tlearn: 1593.9169832\ttotal: 1.97s\tremaining: 126ms\n",
      "149:\tlearn: 1586.1096667\ttotal: 2.09s\tremaining: 0us\n",
      "Learning rate set to 0.416117\n",
      "0:\tlearn: 3522.8727846\ttotal: 14.8ms\tremaining: 2.21s\n",
      "10:\tlearn: 1970.5586684\ttotal: 160ms\tremaining: 2.02s\n",
      "20:\tlearn: 1849.9316020\ttotal: 308ms\tremaining: 1.89s\n",
      "30:\tlearn: 1786.9715041\ttotal: 463ms\tremaining: 1.78s\n",
      "40:\tlearn: 1750.1176415\ttotal: 602ms\tremaining: 1.6s\n",
      "50:\tlearn: 1722.3364337\ttotal: 738ms\tremaining: 1.43s\n",
      "60:\tlearn: 1701.3577311\ttotal: 875ms\tremaining: 1.28s\n",
      "70:\tlearn: 1680.3587319\ttotal: 1.03s\tremaining: 1.15s\n",
      "80:\tlearn: 1660.1750142\ttotal: 1.21s\tremaining: 1.03s\n",
      "90:\tlearn: 1647.3323124\ttotal: 1.39s\tremaining: 899ms\n",
      "100:\tlearn: 1634.7909068\ttotal: 1.54s\tremaining: 746ms\n",
      "110:\tlearn: 1623.3185618\ttotal: 1.69s\tremaining: 593ms\n",
      "120:\tlearn: 1613.7131342\ttotal: 1.83s\tremaining: 440ms\n",
      "130:\tlearn: 1603.9599847\ttotal: 1.97s\tremaining: 285ms\n",
      "140:\tlearn: 1595.1696716\ttotal: 2.1s\tremaining: 134ms\n",
      "149:\tlearn: 1588.2322309\ttotal: 2.23s\tremaining: 0us\n",
      "Learning rate set to 0.416117\n",
      "0:\tlearn: 3505.4053430\ttotal: 15.2ms\tremaining: 2.27s\n",
      "10:\tlearn: 1981.4861898\ttotal: 155ms\tremaining: 1.96s\n",
      "20:\tlearn: 1853.7908194\ttotal: 295ms\tremaining: 1.81s\n",
      "30:\tlearn: 1800.5678039\ttotal: 439ms\tremaining: 1.68s\n",
      "40:\tlearn: 1750.9786941\ttotal: 581ms\tremaining: 1.54s\n",
      "50:\tlearn: 1718.4841120\ttotal: 731ms\tremaining: 1.42s\n",
      "60:\tlearn: 1695.2709092\ttotal: 879ms\tremaining: 1.28s\n",
      "70:\tlearn: 1673.9148183\ttotal: 1.01s\tremaining: 1.13s\n",
      "80:\tlearn: 1659.2064109\ttotal: 1.15s\tremaining: 977ms\n",
      "90:\tlearn: 1644.5789040\ttotal: 1.28s\tremaining: 831ms\n",
      "100:\tlearn: 1632.8750367\ttotal: 1.44s\tremaining: 699ms\n",
      "110:\tlearn: 1624.1740933\ttotal: 1.57s\tremaining: 552ms\n",
      "120:\tlearn: 1612.5386745\ttotal: 1.71s\tremaining: 411ms\n",
      "130:\tlearn: 1603.4012026\ttotal: 1.85s\tremaining: 269ms\n",
      "140:\tlearn: 1595.3769038\ttotal: 1.98s\tremaining: 127ms\n",
      "149:\tlearn: 1587.8961138\ttotal: 2.1s\tremaining: 0us\n",
      "Learning rate set to 0.416117\n",
      "0:\tlearn: 3519.2066179\ttotal: 15.2ms\tremaining: 2.26s\n",
      "10:\tlearn: 1989.4711615\ttotal: 171ms\tremaining: 2.16s\n",
      "20:\tlearn: 1857.1354871\ttotal: 325ms\tremaining: 2s\n",
      "30:\tlearn: 1801.9733844\ttotal: 472ms\tremaining: 1.81s\n",
      "40:\tlearn: 1760.7313689\ttotal: 623ms\tremaining: 1.66s\n",
      "50:\tlearn: 1724.8495890\ttotal: 768ms\tremaining: 1.49s\n",
      "60:\tlearn: 1701.9959929\ttotal: 907ms\tremaining: 1.32s\n",
      "70:\tlearn: 1683.3586317\ttotal: 1.07s\tremaining: 1.19s\n",
      "80:\tlearn: 1666.8980919\ttotal: 1.2s\tremaining: 1.02s\n",
      "90:\tlearn: 1652.6335016\ttotal: 1.34s\tremaining: 868ms\n",
      "100:\tlearn: 1639.2995714\ttotal: 1.48s\tremaining: 716ms\n",
      "110:\tlearn: 1625.8721339\ttotal: 1.62s\tremaining: 568ms\n",
      "120:\tlearn: 1614.8896692\ttotal: 1.76s\tremaining: 421ms\n",
      "130:\tlearn: 1605.9958402\ttotal: 1.89s\tremaining: 274ms\n",
      "140:\tlearn: 1595.7614753\ttotal: 2.04s\tremaining: 130ms\n",
      "149:\tlearn: 1589.7833258\ttotal: 2.15s\tremaining: 0us\n",
      "Learning rate set to 0.416117\n",
      "0:\tlearn: 3522.2002289\ttotal: 14.8ms\tremaining: 2.2s\n",
      "10:\tlearn: 1984.8611225\ttotal: 155ms\tremaining: 1.95s\n",
      "20:\tlearn: 1860.0235443\ttotal: 295ms\tremaining: 1.81s\n",
      "30:\tlearn: 1789.8920747\ttotal: 459ms\tremaining: 1.76s\n",
      "40:\tlearn: 1754.0452350\ttotal: 589ms\tremaining: 1.56s\n",
      "50:\tlearn: 1721.9860439\ttotal: 731ms\tremaining: 1.42s\n",
      "60:\tlearn: 1698.1204207\ttotal: 863ms\tremaining: 1.26s\n",
      "70:\tlearn: 1680.0431629\ttotal: 1.01s\tremaining: 1.12s\n",
      "80:\tlearn: 1664.6501408\ttotal: 1.15s\tremaining: 976ms\n",
      "90:\tlearn: 1648.9039420\ttotal: 1.32s\tremaining: 855ms\n",
      "100:\tlearn: 1635.5931749\ttotal: 1.47s\tremaining: 711ms\n",
      "110:\tlearn: 1624.5707456\ttotal: 1.6s\tremaining: 564ms\n",
      "120:\tlearn: 1614.4439781\ttotal: 1.74s\tremaining: 417ms\n",
      "130:\tlearn: 1605.6675173\ttotal: 1.87s\tremaining: 271ms\n",
      "140:\tlearn: 1596.3263359\ttotal: 2s\tremaining: 128ms\n",
      "149:\tlearn: 1588.3657518\ttotal: 2.13s\tremaining: 0us\n",
      "Learning rate set to 0.375857\n",
      "0:\tlearn: 3618.2993932\ttotal: 14.5ms\tremaining: 2.44s\n",
      "10:\tlearn: 1998.0147919\ttotal: 156ms\tremaining: 2.25s\n",
      "20:\tlearn: 1870.6449451\ttotal: 287ms\tremaining: 2.04s\n",
      "30:\tlearn: 1806.6200194\ttotal: 428ms\tremaining: 1.92s\n",
      "40:\tlearn: 1768.3228367\ttotal: 579ms\tremaining: 1.82s\n",
      "50:\tlearn: 1734.0831142\ttotal: 718ms\tremaining: 1.68s\n",
      "60:\tlearn: 1710.5742287\ttotal: 865ms\tremaining: 1.54s\n",
      "70:\tlearn: 1691.9552900\ttotal: 1.01s\tremaining: 1.41s\n",
      "80:\tlearn: 1674.9821315\ttotal: 1.14s\tremaining: 1.26s\n",
      "90:\tlearn: 1655.9968158\ttotal: 1.28s\tremaining: 1.12s\n",
      "100:\tlearn: 1644.1535294\ttotal: 1.41s\tremaining: 966ms\n",
      "110:\tlearn: 1630.9614110\ttotal: 1.54s\tremaining: 821ms\n",
      "120:\tlearn: 1620.4486688\ttotal: 1.67s\tremaining: 678ms\n",
      "130:\tlearn: 1611.3003234\ttotal: 1.8s\tremaining: 537ms\n",
      "140:\tlearn: 1601.2880226\ttotal: 1.93s\tremaining: 398ms\n",
      "150:\tlearn: 1593.2745160\ttotal: 2.06s\tremaining: 260ms\n",
      "160:\tlearn: 1585.1723431\ttotal: 2.2s\tremaining: 123ms\n",
      "169:\tlearn: 1578.3220964\ttotal: 2.32s\tremaining: 0us\n",
      "Learning rate set to 0.375857\n",
      "0:\tlearn: 3615.2860737\ttotal: 15.4ms\tremaining: 2.61s\n",
      "10:\tlearn: 1993.5824136\ttotal: 160ms\tremaining: 2.31s\n",
      "20:\tlearn: 1867.1283684\ttotal: 299ms\tremaining: 2.12s\n",
      "30:\tlearn: 1802.1105051\ttotal: 432ms\tremaining: 1.94s\n",
      "40:\tlearn: 1759.3121318\ttotal: 565ms\tremaining: 1.78s\n",
      "50:\tlearn: 1732.4764549\ttotal: 699ms\tremaining: 1.63s\n",
      "60:\tlearn: 1707.7997506\ttotal: 832ms\tremaining: 1.49s\n",
      "70:\tlearn: 1688.4732271\ttotal: 962ms\tremaining: 1.34s\n",
      "80:\tlearn: 1667.3396354\ttotal: 1.09s\tremaining: 1.2s\n",
      "90:\tlearn: 1653.5381296\ttotal: 1.23s\tremaining: 1.07s\n",
      "100:\tlearn: 1640.1919347\ttotal: 1.36s\tremaining: 931ms\n",
      "110:\tlearn: 1629.2483478\ttotal: 1.5s\tremaining: 799ms\n",
      "120:\tlearn: 1619.6864581\ttotal: 1.64s\tremaining: 666ms\n",
      "130:\tlearn: 1611.6058300\ttotal: 1.77s\tremaining: 528ms\n",
      "140:\tlearn: 1603.1728977\ttotal: 1.9s\tremaining: 392ms\n",
      "150:\tlearn: 1596.2452092\ttotal: 2.04s\tremaining: 256ms\n",
      "160:\tlearn: 1588.4193795\ttotal: 2.17s\tremaining: 121ms\n",
      "169:\tlearn: 1584.1710245\ttotal: 2.31s\tremaining: 0us\n",
      "Learning rate set to 0.375857\n",
      "0:\tlearn: 3599.8918684\ttotal: 16.1ms\tremaining: 2.73s\n",
      "10:\tlearn: 1992.1395717\ttotal: 185ms\tremaining: 2.67s\n",
      "20:\tlearn: 1865.2137810\ttotal: 330ms\tremaining: 2.34s\n",
      "30:\tlearn: 1804.5061165\ttotal: 470ms\tremaining: 2.11s\n",
      "40:\tlearn: 1764.5615973\ttotal: 615ms\tremaining: 1.94s\n",
      "50:\tlearn: 1735.6486950\ttotal: 751ms\tremaining: 1.75s\n",
      "60:\tlearn: 1712.7822498\ttotal: 884ms\tremaining: 1.58s\n",
      "70:\tlearn: 1694.1590577\ttotal: 1.03s\tremaining: 1.43s\n",
      "80:\tlearn: 1674.4419895\ttotal: 1.16s\tremaining: 1.27s\n",
      "90:\tlearn: 1661.1824025\ttotal: 1.31s\tremaining: 1.14s\n",
      "100:\tlearn: 1647.2657758\ttotal: 1.44s\tremaining: 985ms\n",
      "110:\tlearn: 1634.6279647\ttotal: 1.58s\tremaining: 839ms\n",
      "120:\tlearn: 1625.0930348\ttotal: 1.72s\tremaining: 698ms\n",
      "130:\tlearn: 1614.7651947\ttotal: 1.86s\tremaining: 555ms\n",
      "140:\tlearn: 1604.5619743\ttotal: 2.01s\tremaining: 413ms\n",
      "150:\tlearn: 1596.4974934\ttotal: 2.15s\tremaining: 270ms\n",
      "160:\tlearn: 1589.9154999\ttotal: 2.28s\tremaining: 127ms\n",
      "169:\tlearn: 1583.3445379\ttotal: 2.42s\tremaining: 0us\n",
      "Learning rate set to 0.375857\n",
      "0:\tlearn: 3610.6142068\ttotal: 15.6ms\tremaining: 2.63s\n",
      "10:\tlearn: 2010.4298932\ttotal: 163ms\tremaining: 2.35s\n",
      "20:\tlearn: 1871.5535998\ttotal: 312ms\tremaining: 2.21s\n",
      "30:\tlearn: 1810.5356113\ttotal: 450ms\tremaining: 2.02s\n",
      "40:\tlearn: 1763.4440088\ttotal: 604ms\tremaining: 1.9s\n",
      "50:\tlearn: 1738.9654415\ttotal: 739ms\tremaining: 1.73s\n",
      "60:\tlearn: 1712.9923484\ttotal: 873ms\tremaining: 1.56s\n",
      "70:\tlearn: 1690.5410776\ttotal: 1.02s\tremaining: 1.42s\n",
      "80:\tlearn: 1673.6184510\ttotal: 1.15s\tremaining: 1.27s\n",
      "90:\tlearn: 1660.5136062\ttotal: 1.28s\tremaining: 1.11s\n",
      "100:\tlearn: 1647.0660912\ttotal: 1.42s\tremaining: 972ms\n",
      "110:\tlearn: 1635.6025870\ttotal: 1.56s\tremaining: 831ms\n",
      "120:\tlearn: 1625.0061959\ttotal: 1.71s\tremaining: 691ms\n",
      "130:\tlearn: 1616.0858963\ttotal: 1.84s\tremaining: 547ms\n",
      "140:\tlearn: 1606.8137292\ttotal: 1.97s\tremaining: 405ms\n",
      "150:\tlearn: 1599.6666898\ttotal: 2.1s\tremaining: 265ms\n",
      "160:\tlearn: 1590.3615237\ttotal: 2.24s\tremaining: 125ms\n",
      "169:\tlearn: 1582.9389520\ttotal: 2.36s\tremaining: 0us\n",
      "Learning rate set to 0.375857\n",
      "0:\tlearn: 3614.3948400\ttotal: 23ms\tremaining: 3.89s\n",
      "10:\tlearn: 1987.7946548\ttotal: 168ms\tremaining: 2.43s\n",
      "20:\tlearn: 1857.5932306\ttotal: 303ms\tremaining: 2.15s\n",
      "30:\tlearn: 1799.6582063\ttotal: 436ms\tremaining: 1.95s\n",
      "40:\tlearn: 1759.0135664\ttotal: 564ms\tremaining: 1.77s\n",
      "50:\tlearn: 1723.7610201\ttotal: 699ms\tremaining: 1.63s\n",
      "60:\tlearn: 1702.0688257\ttotal: 830ms\tremaining: 1.48s\n",
      "70:\tlearn: 1681.8582181\ttotal: 977ms\tremaining: 1.36s\n",
      "80:\tlearn: 1666.9034731\ttotal: 1.13s\tremaining: 1.24s\n",
      "90:\tlearn: 1651.3128938\ttotal: 1.26s\tremaining: 1.1s\n",
      "100:\tlearn: 1639.6809955\ttotal: 1.4s\tremaining: 959ms\n",
      "110:\tlearn: 1629.8346528\ttotal: 1.54s\tremaining: 819ms\n",
      "120:\tlearn: 1619.2317098\ttotal: 1.7s\tremaining: 689ms\n",
      "130:\tlearn: 1609.0669712\ttotal: 1.83s\tremaining: 547ms\n",
      "140:\tlearn: 1601.4458557\ttotal: 1.97s\tremaining: 405ms\n",
      "150:\tlearn: 1594.2382026\ttotal: 2.13s\tremaining: 268ms\n",
      "160:\tlearn: 1586.7116298\ttotal: 2.29s\tremaining: 128ms\n",
      "169:\tlearn: 1579.4541462\ttotal: 2.42s\tremaining: 0us\n",
      "Learning rate set to 0.343361\n",
      "0:\tlearn: 3695.5873322\ttotal: 14.7ms\tremaining: 2.77s\n",
      "10:\tlearn: 2024.3418992\ttotal: 165ms\tremaining: 2.69s\n",
      "20:\tlearn: 1875.5035013\ttotal: 313ms\tremaining: 2.52s\n",
      "30:\tlearn: 1813.7529669\ttotal: 453ms\tremaining: 2.32s\n",
      "40:\tlearn: 1769.2803206\ttotal: 594ms\tremaining: 2.16s\n",
      "50:\tlearn: 1736.9616439\ttotal: 728ms\tremaining: 1.98s\n",
      "60:\tlearn: 1713.6978696\ttotal: 859ms\tremaining: 1.81s\n",
      "70:\tlearn: 1697.0058683\ttotal: 1.01s\tremaining: 1.69s\n",
      "80:\tlearn: 1677.7951113\ttotal: 1.14s\tremaining: 1.54s\n",
      "90:\tlearn: 1661.3155103\ttotal: 1.27s\tremaining: 1.39s\n",
      "100:\tlearn: 1648.0583631\ttotal: 1.42s\tremaining: 1.25s\n",
      "110:\tlearn: 1637.1828819\ttotal: 1.56s\tremaining: 1.11s\n",
      "120:\tlearn: 1627.6264376\ttotal: 1.69s\tremaining: 965ms\n",
      "130:\tlearn: 1619.3776506\ttotal: 1.83s\tremaining: 824ms\n",
      "140:\tlearn: 1610.5431520\ttotal: 1.98s\tremaining: 687ms\n",
      "150:\tlearn: 1602.1058003\ttotal: 2.12s\tremaining: 548ms\n",
      "160:\tlearn: 1595.7614202\ttotal: 2.26s\tremaining: 407ms\n",
      "170:\tlearn: 1588.8850300\ttotal: 2.41s\tremaining: 268ms\n",
      "180:\tlearn: 1582.5950436\ttotal: 2.56s\tremaining: 127ms\n",
      "189:\tlearn: 1576.8861286\ttotal: 2.69s\tremaining: 0us\n",
      "Learning rate set to 0.343361\n",
      "0:\tlearn: 3692.5296538\ttotal: 14.8ms\tremaining: 2.8s\n",
      "10:\tlearn: 2028.2874645\ttotal: 155ms\tremaining: 2.53s\n",
      "20:\tlearn: 1885.0166076\ttotal: 293ms\tremaining: 2.36s\n",
      "30:\tlearn: 1819.8782836\ttotal: 430ms\tremaining: 2.2s\n",
      "40:\tlearn: 1770.6445692\ttotal: 573ms\tremaining: 2.08s\n",
      "50:\tlearn: 1739.8510319\ttotal: 713ms\tremaining: 1.94s\n",
      "60:\tlearn: 1717.5365265\ttotal: 853ms\tremaining: 1.8s\n",
      "70:\tlearn: 1696.2586382\ttotal: 1s\tremaining: 1.68s\n",
      "80:\tlearn: 1679.6471882\ttotal: 1.14s\tremaining: 1.53s\n",
      "90:\tlearn: 1667.7928738\ttotal: 1.27s\tremaining: 1.38s\n",
      "100:\tlearn: 1656.1540090\ttotal: 1.41s\tremaining: 1.24s\n",
      "110:\tlearn: 1643.3496107\ttotal: 1.54s\tremaining: 1.1s\n",
      "120:\tlearn: 1633.3466764\ttotal: 1.67s\tremaining: 955ms\n",
      "130:\tlearn: 1624.7742411\ttotal: 1.81s\tremaining: 813ms\n",
      "140:\tlearn: 1617.2736724\ttotal: 1.94s\tremaining: 676ms\n",
      "150:\tlearn: 1609.2807612\ttotal: 2.08s\tremaining: 537ms\n",
      "160:\tlearn: 1601.7982800\ttotal: 2.22s\tremaining: 401ms\n",
      "170:\tlearn: 1592.2926060\ttotal: 2.36s\tremaining: 262ms\n",
      "180:\tlearn: 1585.9938663\ttotal: 2.49s\tremaining: 124ms\n",
      "189:\tlearn: 1578.6794977\ttotal: 2.61s\tremaining: 0us\n",
      "Learning rate set to 0.343361\n",
      "0:\tlearn: 3678.8183781\ttotal: 16.1ms\tremaining: 3.04s\n",
      "10:\tlearn: 2028.2983267\ttotal: 161ms\tremaining: 2.61s\n",
      "20:\tlearn: 1881.9120218\ttotal: 297ms\tremaining: 2.39s\n",
      "30:\tlearn: 1816.6974526\ttotal: 436ms\tremaining: 2.24s\n",
      "40:\tlearn: 1777.8498523\ttotal: 569ms\tremaining: 2.07s\n",
      "50:\tlearn: 1742.2000477\ttotal: 722ms\tremaining: 1.97s\n",
      "60:\tlearn: 1717.8225701\ttotal: 906ms\tremaining: 1.92s\n",
      "70:\tlearn: 1696.6396796\ttotal: 1.07s\tremaining: 1.8s\n",
      "80:\tlearn: 1680.3882394\ttotal: 1.23s\tremaining: 1.65s\n",
      "90:\tlearn: 1666.1553700\ttotal: 1.39s\tremaining: 1.51s\n",
      "100:\tlearn: 1652.6283443\ttotal: 1.55s\tremaining: 1.36s\n",
      "110:\tlearn: 1640.2247991\ttotal: 1.73s\tremaining: 1.23s\n",
      "120:\tlearn: 1629.7619844\ttotal: 1.89s\tremaining: 1.08s\n",
      "130:\tlearn: 1620.2659494\ttotal: 2.04s\tremaining: 919ms\n",
      "140:\tlearn: 1611.3988795\ttotal: 2.19s\tremaining: 760ms\n",
      "150:\tlearn: 1603.7186942\ttotal: 2.33s\tremaining: 603ms\n",
      "160:\tlearn: 1597.1778748\ttotal: 2.49s\tremaining: 449ms\n",
      "170:\tlearn: 1589.4773500\ttotal: 2.65s\tremaining: 294ms\n",
      "180:\tlearn: 1583.7499614\ttotal: 2.8s\tremaining: 139ms\n",
      "189:\tlearn: 1578.6621521\ttotal: 2.95s\tremaining: 0us\n",
      "Learning rate set to 0.343361\n",
      "0:\tlearn: 3687.0337441\ttotal: 14.5ms\tremaining: 2.73s\n",
      "10:\tlearn: 2034.7718887\ttotal: 155ms\tremaining: 2.52s\n",
      "20:\tlearn: 1890.5424777\ttotal: 297ms\tremaining: 2.39s\n",
      "30:\tlearn: 1820.9620071\ttotal: 450ms\tremaining: 2.31s\n",
      "40:\tlearn: 1780.3311699\ttotal: 593ms\tremaining: 2.15s\n",
      "50:\tlearn: 1751.3221234\ttotal: 751ms\tremaining: 2.05s\n",
      "60:\tlearn: 1724.8961890\ttotal: 895ms\tremaining: 1.89s\n",
      "70:\tlearn: 1703.9595087\ttotal: 1.05s\tremaining: 1.77s\n",
      "80:\tlearn: 1685.9837778\ttotal: 1.19s\tremaining: 1.6s\n",
      "90:\tlearn: 1670.7111449\ttotal: 1.34s\tremaining: 1.46s\n",
      "100:\tlearn: 1657.2784643\ttotal: 1.48s\tremaining: 1.3s\n",
      "110:\tlearn: 1647.1644799\ttotal: 1.61s\tremaining: 1.15s\n",
      "120:\tlearn: 1635.4902893\ttotal: 1.74s\tremaining: 994ms\n",
      "130:\tlearn: 1625.2968959\ttotal: 1.88s\tremaining: 846ms\n",
      "140:\tlearn: 1615.0207581\ttotal: 2.01s\tremaining: 699ms\n",
      "150:\tlearn: 1608.2602345\ttotal: 2.15s\tremaining: 555ms\n",
      "160:\tlearn: 1601.0565093\ttotal: 2.29s\tremaining: 412ms\n",
      "170:\tlearn: 1593.7057284\ttotal: 2.42s\tremaining: 269ms\n",
      "180:\tlearn: 1585.6687614\ttotal: 2.56s\tremaining: 127ms\n",
      "189:\tlearn: 1580.8422161\ttotal: 2.68s\tremaining: 0us\n",
      "Learning rate set to 0.343361\n",
      "0:\tlearn: 3691.4566686\ttotal: 14.4ms\tremaining: 2.72s\n",
      "10:\tlearn: 2015.9702010\ttotal: 165ms\tremaining: 2.68s\n",
      "20:\tlearn: 1880.7851613\ttotal: 296ms\tremaining: 2.38s\n",
      "30:\tlearn: 1816.8279698\ttotal: 430ms\tremaining: 2.21s\n",
      "40:\tlearn: 1772.1066794\ttotal: 566ms\tremaining: 2.06s\n",
      "50:\tlearn: 1740.0469049\ttotal: 700ms\tremaining: 1.91s\n",
      "60:\tlearn: 1714.4549514\ttotal: 828ms\tremaining: 1.75s\n",
      "70:\tlearn: 1699.5204825\ttotal: 970ms\tremaining: 1.63s\n",
      "80:\tlearn: 1676.9143623\ttotal: 1.13s\tremaining: 1.52s\n",
      "90:\tlearn: 1663.8407228\ttotal: 1.26s\tremaining: 1.37s\n",
      "100:\tlearn: 1651.2395826\ttotal: 1.39s\tremaining: 1.23s\n",
      "110:\tlearn: 1640.9968322\ttotal: 1.53s\tremaining: 1.09s\n",
      "120:\tlearn: 1629.5833418\ttotal: 1.67s\tremaining: 954ms\n",
      "130:\tlearn: 1619.5804331\ttotal: 1.81s\tremaining: 814ms\n",
      "140:\tlearn: 1612.0281694\ttotal: 1.94s\tremaining: 673ms\n",
      "150:\tlearn: 1603.3490248\ttotal: 2.07s\tremaining: 536ms\n",
      "160:\tlearn: 1595.6070933\ttotal: 2.21s\tremaining: 398ms\n",
      "170:\tlearn: 1586.5014805\ttotal: 2.36s\tremaining: 262ms\n",
      "180:\tlearn: 1580.1885518\ttotal: 2.5s\tremaining: 124ms\n",
      "189:\tlearn: 1575.0470394\ttotal: 2.65s\tremaining: 0us\n",
      "Learning rate set to 0.5\n",
      "0:\tlearn: 3101.1258362\ttotal: 45.2ms\tremaining: 2.21s\n",
      "10:\tlearn: 1747.9435770\ttotal: 398ms\tremaining: 1.41s\n",
      "20:\tlearn: 1661.6205092\ttotal: 750ms\tremaining: 1.04s\n",
      "30:\tlearn: 1603.8712963\ttotal: 1.1s\tremaining: 675ms\n",
      "40:\tlearn: 1563.2887944\ttotal: 1.46s\tremaining: 320ms\n",
      "49:\tlearn: 1532.4947496\ttotal: 1.78s\tremaining: 0us\n",
      "Learning rate set to 0.5\n",
      "0:\tlearn: 3104.2206487\ttotal: 36.1ms\tremaining: 1.77s\n",
      "10:\tlearn: 1749.9351584\ttotal: 401ms\tremaining: 1.42s\n",
      "20:\tlearn: 1669.9732793\ttotal: 770ms\tremaining: 1.06s\n",
      "30:\tlearn: 1620.9845981\ttotal: 1.13s\tremaining: 693ms\n",
      "40:\tlearn: 1568.6285942\ttotal: 1.5s\tremaining: 331ms\n",
      "49:\tlearn: 1537.8311409\ttotal: 1.84s\tremaining: 0us\n",
      "Learning rate set to 0.5\n",
      "0:\tlearn: 3107.9468995\ttotal: 36.8ms\tremaining: 1.8s\n",
      "10:\tlearn: 1759.0722434\ttotal: 397ms\tremaining: 1.41s\n",
      "20:\tlearn: 1665.6912804\ttotal: 754ms\tremaining: 1.04s\n",
      "30:\tlearn: 1604.1384474\ttotal: 1.11s\tremaining: 679ms\n",
      "40:\tlearn: 1567.9830090\ttotal: 1.49s\tremaining: 327ms\n",
      "49:\tlearn: 1538.7189022\ttotal: 1.83s\tremaining: 0us\n",
      "Learning rate set to 0.5\n",
      "0:\tlearn: 3093.8073013\ttotal: 38.4ms\tremaining: 1.88s\n",
      "10:\tlearn: 1763.4132875\ttotal: 389ms\tremaining: 1.38s\n",
      "20:\tlearn: 1677.8574167\ttotal: 787ms\tremaining: 1.09s\n",
      "30:\tlearn: 1614.4255845\ttotal: 1.17s\tremaining: 715ms\n",
      "40:\tlearn: 1571.3659545\ttotal: 1.53s\tremaining: 336ms\n",
      "49:\tlearn: 1543.8094654\ttotal: 1.85s\tremaining: 0us\n",
      "Learning rate set to 0.5\n",
      "0:\tlearn: 3098.3984367\ttotal: 35.9ms\tremaining: 1.76s\n",
      "10:\tlearn: 1748.6128068\ttotal: 400ms\tremaining: 1.42s\n",
      "20:\tlearn: 1665.7729662\ttotal: 770ms\tremaining: 1.06s\n",
      "30:\tlearn: 1606.3149946\ttotal: 1.18s\tremaining: 724ms\n",
      "40:\tlearn: 1563.1402135\ttotal: 1.54s\tremaining: 338ms\n",
      "49:\tlearn: 1536.3344843\ttotal: 1.89s\tremaining: 0us\n",
      "Learning rate set to 0.5\n",
      "0:\tlearn: 3101.1258362\ttotal: 36.2ms\tremaining: 2.5s\n",
      "10:\tlearn: 1747.9435770\ttotal: 400ms\tremaining: 2.14s\n",
      "20:\tlearn: 1661.6205092\ttotal: 782ms\tremaining: 1.82s\n",
      "30:\tlearn: 1603.8712963\ttotal: 1.16s\tremaining: 1.46s\n",
      "40:\tlearn: 1563.2887944\ttotal: 1.52s\tremaining: 1.08s\n",
      "50:\tlearn: 1529.8667052\ttotal: 1.88s\tremaining: 700ms\n",
      "60:\tlearn: 1505.8697982\ttotal: 2.23s\tremaining: 330ms\n",
      "69:\tlearn: 1488.9996848\ttotal: 2.57s\tremaining: 0us\n",
      "Learning rate set to 0.5\n",
      "0:\tlearn: 3104.2206487\ttotal: 43.9ms\tremaining: 3.03s\n",
      "10:\tlearn: 1749.9351584\ttotal: 448ms\tremaining: 2.4s\n",
      "20:\tlearn: 1669.9732793\ttotal: 817ms\tremaining: 1.91s\n",
      "30:\tlearn: 1620.9845981\ttotal: 1.19s\tremaining: 1.49s\n",
      "40:\tlearn: 1568.6285942\ttotal: 1.57s\tremaining: 1.11s\n",
      "50:\tlearn: 1535.1267478\ttotal: 1.93s\tremaining: 717ms\n",
      "60:\tlearn: 1512.5999574\ttotal: 2.3s\tremaining: 339ms\n",
      "69:\tlearn: 1495.8815039\ttotal: 2.67s\tremaining: 0us\n",
      "Learning rate set to 0.5\n",
      "0:\tlearn: 3107.9468995\ttotal: 38.1ms\tremaining: 2.63s\n",
      "10:\tlearn: 1759.0722434\ttotal: 445ms\tremaining: 2.38s\n",
      "20:\tlearn: 1665.6912804\ttotal: 846ms\tremaining: 1.97s\n",
      "30:\tlearn: 1604.1384474\ttotal: 1.22s\tremaining: 1.53s\n",
      "40:\tlearn: 1567.9830090\ttotal: 1.61s\tremaining: 1.14s\n",
      "50:\tlearn: 1535.2312573\ttotal: 2s\tremaining: 744ms\n",
      "60:\tlearn: 1509.2100495\ttotal: 2.36s\tremaining: 348ms\n",
      "69:\tlearn: 1491.8024728\ttotal: 2.68s\tremaining: 0us\n",
      "Learning rate set to 0.5\n",
      "0:\tlearn: 3093.8073013\ttotal: 34.1ms\tremaining: 2.35s\n",
      "10:\tlearn: 1763.4132875\ttotal: 409ms\tremaining: 2.2s\n",
      "20:\tlearn: 1677.8574167\ttotal: 770ms\tremaining: 1.79s\n",
      "30:\tlearn: 1614.4255845\ttotal: 1.15s\tremaining: 1.45s\n",
      "40:\tlearn: 1571.3659545\ttotal: 1.52s\tremaining: 1.07s\n",
      "50:\tlearn: 1540.8728367\ttotal: 1.88s\tremaining: 702ms\n",
      "60:\tlearn: 1516.6772779\ttotal: 2.27s\tremaining: 335ms\n",
      "69:\tlearn: 1496.7074901\ttotal: 2.62s\tremaining: 0us\n",
      "Learning rate set to 0.5\n",
      "0:\tlearn: 3098.3984367\ttotal: 35.7ms\tremaining: 2.47s\n",
      "10:\tlearn: 1748.6128068\ttotal: 399ms\tremaining: 2.14s\n",
      "20:\tlearn: 1665.7729662\ttotal: 759ms\tremaining: 1.77s\n",
      "30:\tlearn: 1606.3149946\ttotal: 1.12s\tremaining: 1.4s\n",
      "40:\tlearn: 1563.1402135\ttotal: 1.49s\tremaining: 1.05s\n",
      "50:\tlearn: 1533.3151968\ttotal: 1.85s\tremaining: 690ms\n",
      "60:\tlearn: 1508.3911170\ttotal: 2.22s\tremaining: 327ms\n",
      "69:\tlearn: 1488.2937193\ttotal: 2.56s\tremaining: 0us\n",
      "Learning rate set to 0.5\n",
      "0:\tlearn: 3101.1258362\ttotal: 36ms\tremaining: 3.2s\n",
      "10:\tlearn: 1747.9435770\ttotal: 400ms\tremaining: 2.87s\n",
      "20:\tlearn: 1661.6205092\ttotal: 766ms\tremaining: 2.52s\n",
      "30:\tlearn: 1603.8712963\ttotal: 1.12s\tremaining: 2.13s\n",
      "40:\tlearn: 1563.2887944\ttotal: 1.47s\tremaining: 1.76s\n",
      "50:\tlearn: 1529.8667052\ttotal: 1.82s\tremaining: 1.39s\n",
      "60:\tlearn: 1505.8697982\ttotal: 2.18s\tremaining: 1.03s\n",
      "70:\tlearn: 1487.1124653\ttotal: 2.53s\tremaining: 677ms\n",
      "80:\tlearn: 1468.2832884\ttotal: 2.89s\tremaining: 321ms\n",
      "89:\tlearn: 1454.2551322\ttotal: 3.2s\tremaining: 0us\n",
      "Learning rate set to 0.5\n",
      "0:\tlearn: 3104.2206487\ttotal: 35.2ms\tremaining: 3.13s\n",
      "10:\tlearn: 1749.9351584\ttotal: 434ms\tremaining: 3.12s\n",
      "20:\tlearn: 1669.9732793\ttotal: 851ms\tremaining: 2.79s\n",
      "30:\tlearn: 1620.9845981\ttotal: 1.24s\tremaining: 2.36s\n",
      "40:\tlearn: 1568.6285942\ttotal: 1.6s\tremaining: 1.91s\n",
      "50:\tlearn: 1535.1267478\ttotal: 1.97s\tremaining: 1.5s\n",
      "60:\tlearn: 1512.5999574\ttotal: 2.34s\tremaining: 1.11s\n",
      "70:\tlearn: 1494.2978272\ttotal: 2.72s\tremaining: 727ms\n",
      "80:\tlearn: 1475.8095895\ttotal: 3.08s\tremaining: 342ms\n",
      "89:\tlearn: 1460.4548895\ttotal: 3.43s\tremaining: 0us\n",
      "Learning rate set to 0.5\n",
      "0:\tlearn: 3107.9468995\ttotal: 47.1ms\tremaining: 4.19s\n",
      "10:\tlearn: 1759.0722434\ttotal: 405ms\tremaining: 2.91s\n",
      "20:\tlearn: 1665.6912804\ttotal: 773ms\tremaining: 2.54s\n",
      "30:\tlearn: 1604.1384474\ttotal: 1.15s\tremaining: 2.19s\n",
      "40:\tlearn: 1567.9830090\ttotal: 1.51s\tremaining: 1.8s\n",
      "50:\tlearn: 1535.2312573\ttotal: 1.89s\tremaining: 1.44s\n",
      "60:\tlearn: 1509.2100495\ttotal: 2.26s\tremaining: 1.07s\n",
      "70:\tlearn: 1490.0838913\ttotal: 2.62s\tremaining: 702ms\n",
      "80:\tlearn: 1473.6740189\ttotal: 2.98s\tremaining: 331ms\n",
      "89:\tlearn: 1459.8969919\ttotal: 3.32s\tremaining: 0us\n",
      "Learning rate set to 0.5\n",
      "0:\tlearn: 3093.8073013\ttotal: 39.2ms\tremaining: 3.48s\n",
      "10:\tlearn: 1763.4132875\ttotal: 427ms\tremaining: 3.07s\n",
      "20:\tlearn: 1677.8574167\ttotal: 798ms\tremaining: 2.62s\n",
      "30:\tlearn: 1614.4255845\ttotal: 1.17s\tremaining: 2.23s\n",
      "40:\tlearn: 1571.3659545\ttotal: 1.58s\tremaining: 1.89s\n",
      "50:\tlearn: 1540.8728367\ttotal: 1.96s\tremaining: 1.5s\n",
      "60:\tlearn: 1516.6772779\ttotal: 2.34s\tremaining: 1.11s\n",
      "70:\tlearn: 1494.8115550\ttotal: 2.7s\tremaining: 723ms\n",
      "80:\tlearn: 1473.6264533\ttotal: 3.08s\tremaining: 342ms\n",
      "89:\tlearn: 1459.5766128\ttotal: 3.4s\tremaining: 0us\n",
      "Learning rate set to 0.5\n",
      "0:\tlearn: 3098.3984367\ttotal: 34.7ms\tremaining: 3.08s\n",
      "10:\tlearn: 1748.6128068\ttotal: 391ms\tremaining: 2.81s\n",
      "20:\tlearn: 1665.7729662\ttotal: 762ms\tremaining: 2.5s\n",
      "30:\tlearn: 1606.3149946\ttotal: 1.13s\tremaining: 2.16s\n",
      "40:\tlearn: 1563.1402135\ttotal: 1.56s\tremaining: 1.87s\n",
      "50:\tlearn: 1533.3151968\ttotal: 1.92s\tremaining: 1.47s\n",
      "60:\tlearn: 1508.3911170\ttotal: 2.33s\tremaining: 1.11s\n",
      "70:\tlearn: 1486.9405246\ttotal: 2.74s\tremaining: 732ms\n",
      "80:\tlearn: 1467.6685899\ttotal: 3.11s\tremaining: 346ms\n",
      "89:\tlearn: 1453.7584852\ttotal: 3.43s\tremaining: 0us\n",
      "Learning rate set to 0.5\n",
      "0:\tlearn: 3101.1258362\ttotal: 39.8ms\tremaining: 4.34s\n",
      "10:\tlearn: 1747.9435770\ttotal: 392ms\tremaining: 3.53s\n",
      "20:\tlearn: 1661.6205092\ttotal: 752ms\tremaining: 3.19s\n",
      "30:\tlearn: 1603.8712963\ttotal: 1.13s\tremaining: 2.88s\n",
      "40:\tlearn: 1563.2887944\ttotal: 1.48s\tremaining: 2.5s\n",
      "50:\tlearn: 1529.8667052\ttotal: 1.85s\tremaining: 2.14s\n",
      "60:\tlearn: 1505.8697982\ttotal: 2.26s\tremaining: 1.81s\n",
      "70:\tlearn: 1487.1124653\ttotal: 2.62s\tremaining: 1.44s\n",
      "80:\tlearn: 1468.2832884\ttotal: 3.01s\tremaining: 1.08s\n",
      "90:\tlearn: 1452.6233998\ttotal: 3.37s\tremaining: 703ms\n",
      "100:\tlearn: 1438.8738584\ttotal: 3.73s\tremaining: 332ms\n",
      "109:\tlearn: 1426.5613990\ttotal: 4.06s\tremaining: 0us\n",
      "Learning rate set to 0.5\n",
      "0:\tlearn: 3104.2206487\ttotal: 34.5ms\tremaining: 3.76s\n",
      "10:\tlearn: 1749.9351584\ttotal: 389ms\tremaining: 3.5s\n",
      "20:\tlearn: 1669.9732793\ttotal: 764ms\tremaining: 3.24s\n",
      "30:\tlearn: 1620.9845981\ttotal: 1.18s\tremaining: 3s\n",
      "40:\tlearn: 1568.6285942\ttotal: 1.53s\tremaining: 2.58s\n",
      "50:\tlearn: 1535.1267478\ttotal: 1.93s\tremaining: 2.23s\n",
      "60:\tlearn: 1512.5999574\ttotal: 2.29s\tremaining: 1.84s\n",
      "70:\tlearn: 1494.2978272\ttotal: 2.68s\tremaining: 1.47s\n",
      "80:\tlearn: 1475.8095895\ttotal: 3.05s\tremaining: 1.09s\n",
      "90:\tlearn: 1459.7151609\ttotal: 3.41s\tremaining: 711ms\n",
      "100:\tlearn: 1447.3701610\ttotal: 3.76s\tremaining: 335ms\n",
      "109:\tlearn: 1434.6096217\ttotal: 4.08s\tremaining: 0us\n",
      "Learning rate set to 0.5\n",
      "0:\tlearn: 3107.9468995\ttotal: 35.3ms\tremaining: 3.85s\n",
      "10:\tlearn: 1759.0722434\ttotal: 398ms\tremaining: 3.58s\n",
      "20:\tlearn: 1665.6912804\ttotal: 761ms\tremaining: 3.23s\n",
      "30:\tlearn: 1604.1384474\ttotal: 1.12s\tremaining: 2.86s\n",
      "40:\tlearn: 1567.9830090\ttotal: 1.52s\tremaining: 2.56s\n",
      "50:\tlearn: 1535.2312573\ttotal: 1.94s\tremaining: 2.24s\n",
      "60:\tlearn: 1509.2100495\ttotal: 2.31s\tremaining: 1.85s\n",
      "70:\tlearn: 1490.0838913\ttotal: 2.68s\tremaining: 1.47s\n",
      "80:\tlearn: 1473.6740189\ttotal: 3.05s\tremaining: 1.09s\n",
      "90:\tlearn: 1458.2502988\ttotal: 3.4s\tremaining: 711ms\n",
      "100:\tlearn: 1443.2561413\ttotal: 3.76s\tremaining: 335ms\n",
      "109:\tlearn: 1430.3453176\ttotal: 4.09s\tremaining: 0us\n",
      "Learning rate set to 0.5\n",
      "0:\tlearn: 3093.8073013\ttotal: 35.5ms\tremaining: 3.86s\n",
      "10:\tlearn: 1763.4132875\ttotal: 423ms\tremaining: 3.81s\n",
      "20:\tlearn: 1677.8574167\ttotal: 784ms\tremaining: 3.32s\n",
      "30:\tlearn: 1614.4255845\ttotal: 1.15s\tremaining: 2.93s\n",
      "40:\tlearn: 1571.3659545\ttotal: 1.5s\tremaining: 2.53s\n",
      "50:\tlearn: 1540.8728367\ttotal: 1.85s\tremaining: 2.15s\n",
      "60:\tlearn: 1516.6772779\ttotal: 2.24s\tremaining: 1.8s\n",
      "70:\tlearn: 1494.8115550\ttotal: 2.61s\tremaining: 1.43s\n",
      "80:\tlearn: 1473.6264533\ttotal: 2.98s\tremaining: 1.07s\n",
      "90:\tlearn: 1457.4359373\ttotal: 3.37s\tremaining: 703ms\n",
      "100:\tlearn: 1441.3990213\ttotal: 3.74s\tremaining: 333ms\n",
      "109:\tlearn: 1429.9518634\ttotal: 4.08s\tremaining: 0us\n",
      "Learning rate set to 0.5\n",
      "0:\tlearn: 3098.3984367\ttotal: 35.9ms\tremaining: 3.91s\n",
      "10:\tlearn: 1748.6128068\ttotal: 412ms\tremaining: 3.71s\n",
      "20:\tlearn: 1665.7729662\ttotal: 783ms\tremaining: 3.32s\n",
      "30:\tlearn: 1606.3149946\ttotal: 1.21s\tremaining: 3.07s\n",
      "40:\tlearn: 1563.1402135\ttotal: 1.56s\tremaining: 2.63s\n",
      "50:\tlearn: 1533.3151968\ttotal: 1.92s\tremaining: 2.22s\n",
      "60:\tlearn: 1508.3911170\ttotal: 2.29s\tremaining: 1.84s\n",
      "70:\tlearn: 1486.9405246\ttotal: 2.68s\tremaining: 1.47s\n",
      "80:\tlearn: 1467.6685899\ttotal: 3.05s\tremaining: 1.09s\n",
      "90:\tlearn: 1452.7050378\ttotal: 3.41s\tremaining: 712ms\n",
      "100:\tlearn: 1437.3679948\ttotal: 3.81s\tremaining: 339ms\n",
      "109:\tlearn: 1424.6310086\ttotal: 4.16s\tremaining: 0us\n",
      "Learning rate set to 0.467457\n",
      "0:\tlearn: 3185.1305774\ttotal: 35.5ms\tremaining: 4.57s\n",
      "10:\tlearn: 1751.8729567\ttotal: 395ms\tremaining: 4.27s\n",
      "20:\tlearn: 1667.6159739\ttotal: 763ms\tremaining: 3.96s\n",
      "30:\tlearn: 1617.2295862\ttotal: 1.12s\tremaining: 3.58s\n",
      "40:\tlearn: 1574.6756848\ttotal: 1.48s\tremaining: 3.21s\n",
      "50:\tlearn: 1539.6779262\ttotal: 1.87s\tremaining: 2.9s\n",
      "60:\tlearn: 1514.9803386\ttotal: 2.26s\tremaining: 2.55s\n",
      "70:\tlearn: 1496.6166296\ttotal: 2.63s\tremaining: 2.18s\n",
      "80:\tlearn: 1479.1507532\ttotal: 2.99s\tremaining: 1.81s\n",
      "90:\tlearn: 1457.6903723\ttotal: 3.35s\tremaining: 1.44s\n",
      "100:\tlearn: 1443.4373039\ttotal: 3.73s\tremaining: 1.07s\n",
      "110:\tlearn: 1428.8190775\ttotal: 4.09s\tremaining: 700ms\n",
      "120:\tlearn: 1414.3737998\ttotal: 4.46s\tremaining: 332ms\n",
      "129:\tlearn: 1405.3674899\ttotal: 4.78s\tremaining: 0us\n",
      "Learning rate set to 0.467457\n",
      "0:\tlearn: 3187.7352498\ttotal: 35ms\tremaining: 4.52s\n",
      "10:\tlearn: 1760.0905434\ttotal: 422ms\tremaining: 4.56s\n",
      "20:\tlearn: 1669.2892463\ttotal: 798ms\tremaining: 4.14s\n",
      "30:\tlearn: 1613.2815006\ttotal: 1.17s\tremaining: 3.74s\n",
      "40:\tlearn: 1574.3625072\ttotal: 1.54s\tremaining: 3.35s\n",
      "50:\tlearn: 1541.9454267\ttotal: 1.91s\tremaining: 2.95s\n",
      "60:\tlearn: 1519.2622680\ttotal: 2.27s\tremaining: 2.57s\n",
      "70:\tlearn: 1499.3263808\ttotal: 2.68s\tremaining: 2.23s\n",
      "80:\tlearn: 1480.7542224\ttotal: 3.04s\tremaining: 1.84s\n",
      "90:\tlearn: 1462.5090656\ttotal: 3.41s\tremaining: 1.46s\n",
      "100:\tlearn: 1448.0453378\ttotal: 3.83s\tremaining: 1.1s\n",
      "110:\tlearn: 1435.9069990\ttotal: 4.19s\tremaining: 717ms\n",
      "120:\tlearn: 1423.3832506\ttotal: 4.58s\tremaining: 340ms\n",
      "129:\tlearn: 1411.1547881\ttotal: 4.9s\tremaining: 0us\n",
      "Learning rate set to 0.467457\n",
      "0:\tlearn: 3191.4842640\ttotal: 42ms\tremaining: 5.42s\n",
      "10:\tlearn: 1778.1702655\ttotal: 438ms\tremaining: 4.74s\n",
      "20:\tlearn: 1677.1822340\ttotal: 796ms\tremaining: 4.13s\n",
      "30:\tlearn: 1614.9081471\ttotal: 1.16s\tremaining: 3.69s\n",
      "40:\tlearn: 1577.1290239\ttotal: 1.52s\tremaining: 3.3s\n",
      "50:\tlearn: 1544.8965541\ttotal: 1.89s\tremaining: 2.92s\n",
      "60:\tlearn: 1519.5176677\ttotal: 2.25s\tremaining: 2.55s\n",
      "70:\tlearn: 1500.3468567\ttotal: 2.63s\tremaining: 2.19s\n",
      "80:\tlearn: 1482.2340162\ttotal: 2.99s\tremaining: 1.81s\n",
      "90:\tlearn: 1464.5280619\ttotal: 3.35s\tremaining: 1.44s\n",
      "100:\tlearn: 1448.1795374\ttotal: 3.78s\tremaining: 1.09s\n",
      "110:\tlearn: 1434.3990814\ttotal: 4.16s\tremaining: 712ms\n",
      "120:\tlearn: 1422.3625835\ttotal: 4.56s\tremaining: 339ms\n",
      "129:\tlearn: 1411.6390264\ttotal: 4.92s\tremaining: 0us\n",
      "Learning rate set to 0.467457\n",
      "0:\tlearn: 3177.1443237\ttotal: 35.4ms\tremaining: 4.57s\n",
      "10:\tlearn: 1761.7270738\ttotal: 402ms\tremaining: 4.35s\n",
      "20:\tlearn: 1674.8076793\ttotal: 775ms\tremaining: 4.02s\n",
      "30:\tlearn: 1621.2407611\ttotal: 1.15s\tremaining: 3.66s\n",
      "40:\tlearn: 1578.5110482\ttotal: 1.6s\tremaining: 3.47s\n",
      "50:\tlearn: 1544.6311745\ttotal: 1.99s\tremaining: 3.09s\n",
      "60:\tlearn: 1520.7002267\ttotal: 2.38s\tremaining: 2.69s\n",
      "70:\tlearn: 1497.9756986\ttotal: 2.74s\tremaining: 2.28s\n",
      "80:\tlearn: 1479.5028306\ttotal: 3.1s\tremaining: 1.88s\n",
      "90:\tlearn: 1465.0846909\ttotal: 3.46s\tremaining: 1.48s\n",
      "100:\tlearn: 1450.7995394\ttotal: 3.84s\tremaining: 1.1s\n",
      "110:\tlearn: 1437.9959625\ttotal: 4.23s\tremaining: 725ms\n",
      "120:\tlearn: 1423.8199377\ttotal: 4.63s\tremaining: 344ms\n",
      "129:\tlearn: 1411.9630430\ttotal: 4.96s\tremaining: 0us\n",
      "Learning rate set to 0.467457\n",
      "0:\tlearn: 3182.1541999\ttotal: 36.3ms\tremaining: 4.68s\n",
      "10:\tlearn: 1758.5636130\ttotal: 412ms\tremaining: 4.46s\n",
      "20:\tlearn: 1671.0085234\ttotal: 797ms\tremaining: 4.13s\n",
      "30:\tlearn: 1615.2909803\ttotal: 1.16s\tremaining: 3.71s\n",
      "40:\tlearn: 1577.6857807\ttotal: 1.6s\tremaining: 3.47s\n",
      "50:\tlearn: 1543.4269252\ttotal: 2s\tremaining: 3.1s\n",
      "60:\tlearn: 1520.5967015\ttotal: 2.41s\tremaining: 2.73s\n",
      "70:\tlearn: 1499.6997721\ttotal: 2.81s\tremaining: 2.34s\n",
      "80:\tlearn: 1479.3350774\ttotal: 3.17s\tremaining: 1.92s\n",
      "90:\tlearn: 1462.9147924\ttotal: 3.55s\tremaining: 1.52s\n",
      "100:\tlearn: 1446.7762145\ttotal: 3.94s\tremaining: 1.13s\n",
      "110:\tlearn: 1432.8204242\ttotal: 4.34s\tremaining: 742ms\n",
      "120:\tlearn: 1420.4940496\ttotal: 4.69s\tremaining: 349ms\n",
      "129:\tlearn: 1411.7763735\ttotal: 5.01s\tremaining: 0us\n",
      "Learning rate set to 0.416117\n",
      "0:\tlearn: 3323.4648342\ttotal: 36.3ms\tremaining: 5.4s\n",
      "10:\tlearn: 1769.7898855\ttotal: 404ms\tremaining: 5.11s\n",
      "20:\tlearn: 1681.9586112\ttotal: 773ms\tremaining: 4.75s\n",
      "30:\tlearn: 1625.1103860\ttotal: 1.14s\tremaining: 4.36s\n",
      "40:\tlearn: 1586.9368520\ttotal: 1.5s\tremaining: 4s\n",
      "50:\tlearn: 1554.0877260\ttotal: 1.88s\tremaining: 3.64s\n",
      "60:\tlearn: 1532.2551979\ttotal: 2.25s\tremaining: 3.29s\n",
      "70:\tlearn: 1510.3461566\ttotal: 2.6s\tremaining: 2.9s\n",
      "80:\tlearn: 1493.5182070\ttotal: 2.95s\tremaining: 2.52s\n",
      "90:\tlearn: 1475.7495966\ttotal: 3.31s\tremaining: 2.15s\n",
      "100:\tlearn: 1460.9191368\ttotal: 3.67s\tremaining: 1.78s\n",
      "110:\tlearn: 1445.9407789\ttotal: 4.03s\tremaining: 1.42s\n",
      "120:\tlearn: 1434.3883605\ttotal: 4.4s\tremaining: 1.05s\n",
      "130:\tlearn: 1424.1665865\ttotal: 4.76s\tremaining: 691ms\n",
      "140:\tlearn: 1412.2959883\ttotal: 5.17s\tremaining: 330ms\n",
      "149:\tlearn: 1402.4077425\ttotal: 5.5s\tremaining: 0us\n",
      "Learning rate set to 0.416117\n",
      "0:\tlearn: 3325.3082859\ttotal: 35ms\tremaining: 5.22s\n",
      "10:\tlearn: 1768.1813817\ttotal: 394ms\tremaining: 4.98s\n",
      "20:\tlearn: 1678.7535842\ttotal: 765ms\tremaining: 4.7s\n",
      "30:\tlearn: 1628.0538144\ttotal: 1.19s\tremaining: 4.58s\n",
      "40:\tlearn: 1586.5772766\ttotal: 1.56s\tremaining: 4.15s\n",
      "50:\tlearn: 1556.3432176\ttotal: 1.94s\tremaining: 3.77s\n",
      "60:\tlearn: 1529.2879772\ttotal: 2.33s\tremaining: 3.39s\n",
      "70:\tlearn: 1507.5751481\ttotal: 2.7s\tremaining: 3s\n",
      "80:\tlearn: 1488.4391417\ttotal: 3.12s\tremaining: 2.66s\n",
      "90:\tlearn: 1473.6546222\ttotal: 3.55s\tremaining: 2.3s\n",
      "100:\tlearn: 1457.4885171\ttotal: 3.91s\tremaining: 1.9s\n",
      "110:\tlearn: 1447.6920663\ttotal: 4.28s\tremaining: 1.5s\n",
      "120:\tlearn: 1435.9478437\ttotal: 4.64s\tremaining: 1.11s\n",
      "130:\tlearn: 1425.6574788\ttotal: 5.02s\tremaining: 728ms\n",
      "140:\tlearn: 1416.0739242\ttotal: 5.39s\tremaining: 344ms\n",
      "149:\tlearn: 1405.5182323\ttotal: 5.72s\tremaining: 0us\n",
      "Learning rate set to 0.416117\n",
      "0:\tlearn: 3329.0852748\ttotal: 35.5ms\tremaining: 5.29s\n",
      "10:\tlearn: 1775.2341279\ttotal: 397ms\tremaining: 5.01s\n",
      "20:\tlearn: 1683.2369260\ttotal: 761ms\tremaining: 4.67s\n",
      "30:\tlearn: 1625.6662424\ttotal: 1.2s\tremaining: 4.6s\n",
      "40:\tlearn: 1582.1379582\ttotal: 1.56s\tremaining: 4.14s\n",
      "50:\tlearn: 1553.4099430\ttotal: 1.94s\tremaining: 3.76s\n",
      "60:\tlearn: 1530.9376061\ttotal: 2.3s\tremaining: 3.36s\n",
      "70:\tlearn: 1510.4559279\ttotal: 2.66s\tremaining: 2.96s\n",
      "80:\tlearn: 1493.8398169\ttotal: 3.03s\tremaining: 2.58s\n",
      "90:\tlearn: 1479.1823371\ttotal: 3.39s\tremaining: 2.2s\n",
      "100:\tlearn: 1464.7332985\ttotal: 3.75s\tremaining: 1.82s\n",
      "110:\tlearn: 1452.7478704\ttotal: 4.12s\tremaining: 1.45s\n",
      "120:\tlearn: 1443.7224847\ttotal: 4.48s\tremaining: 1.07s\n",
      "130:\tlearn: 1433.0830162\ttotal: 4.85s\tremaining: 704ms\n",
      "140:\tlearn: 1422.7671712\ttotal: 5.26s\tremaining: 336ms\n",
      "149:\tlearn: 1412.8687032\ttotal: 5.59s\tremaining: 0us\n",
      "Learning rate set to 0.416117\n",
      "0:\tlearn: 3314.4048556\ttotal: 40.9ms\tremaining: 6.09s\n",
      "10:\tlearn: 1758.6772776\ttotal: 403ms\tremaining: 5.09s\n",
      "20:\tlearn: 1668.7435026\ttotal: 779ms\tremaining: 4.79s\n",
      "30:\tlearn: 1619.7116723\ttotal: 1.15s\tremaining: 4.41s\n",
      "40:\tlearn: 1580.2423562\ttotal: 1.52s\tremaining: 4.05s\n",
      "50:\tlearn: 1550.8622423\ttotal: 1.89s\tremaining: 3.66s\n",
      "60:\tlearn: 1525.4504247\ttotal: 2.29s\tremaining: 3.34s\n",
      "70:\tlearn: 1506.0761789\ttotal: 2.65s\tremaining: 2.95s\n",
      "80:\tlearn: 1487.1667598\ttotal: 3.02s\tremaining: 2.57s\n",
      "90:\tlearn: 1470.5572154\ttotal: 3.41s\tremaining: 2.21s\n",
      "100:\tlearn: 1458.1253698\ttotal: 3.78s\tremaining: 1.83s\n",
      "110:\tlearn: 1443.9337052\ttotal: 4.2s\tremaining: 1.47s\n",
      "120:\tlearn: 1432.9265254\ttotal: 4.55s\tremaining: 1.09s\n",
      "130:\tlearn: 1421.9178227\ttotal: 4.92s\tremaining: 714ms\n",
      "140:\tlearn: 1413.1926446\ttotal: 5.33s\tremaining: 340ms\n",
      "149:\tlearn: 1404.0923481\ttotal: 5.68s\tremaining: 0us\n",
      "Learning rate set to 0.416117\n",
      "0:\tlearn: 3320.0873353\ttotal: 42.7ms\tremaining: 6.37s\n",
      "10:\tlearn: 1780.0968013\ttotal: 469ms\tremaining: 5.92s\n",
      "20:\tlearn: 1679.5851816\ttotal: 886ms\tremaining: 5.44s\n",
      "30:\tlearn: 1629.6266245\ttotal: 1.29s\tremaining: 4.94s\n",
      "40:\tlearn: 1585.5880098\ttotal: 1.68s\tremaining: 4.46s\n",
      "50:\tlearn: 1554.0653113\ttotal: 2.03s\tremaining: 3.94s\n",
      "60:\tlearn: 1530.3017364\ttotal: 2.39s\tremaining: 3.49s\n",
      "70:\tlearn: 1509.6606033\ttotal: 2.75s\tremaining: 3.06s\n",
      "80:\tlearn: 1491.7357713\ttotal: 3.11s\tremaining: 2.65s\n",
      "90:\tlearn: 1475.1870007\ttotal: 3.48s\tremaining: 2.25s\n",
      "100:\tlearn: 1461.1885539\ttotal: 3.83s\tremaining: 1.86s\n",
      "110:\tlearn: 1448.7553490\ttotal: 4.19s\tremaining: 1.47s\n",
      "120:\tlearn: 1436.3403891\ttotal: 4.55s\tremaining: 1.09s\n",
      "130:\tlearn: 1424.9208063\ttotal: 4.91s\tremaining: 712ms\n",
      "140:\tlearn: 1414.2383997\ttotal: 5.33s\tremaining: 340ms\n",
      "149:\tlearn: 1406.4851101\ttotal: 5.64s\tremaining: 0us\n",
      "Learning rate set to 0.375857\n",
      "0:\tlearn: 3436.4329423\ttotal: 35.4ms\tremaining: 5.98s\n",
      "10:\tlearn: 1776.7105841\ttotal: 436ms\tremaining: 6.29s\n",
      "20:\tlearn: 1685.7706352\ttotal: 805ms\tremaining: 5.71s\n",
      "30:\tlearn: 1638.8349606\ttotal: 1.19s\tremaining: 5.35s\n",
      "40:\tlearn: 1598.0699039\ttotal: 1.56s\tremaining: 4.91s\n",
      "50:\tlearn: 1571.7437905\ttotal: 1.92s\tremaining: 4.48s\n",
      "60:\tlearn: 1546.4299843\ttotal: 2.27s\tremaining: 4.06s\n",
      "70:\tlearn: 1523.8021369\ttotal: 2.63s\tremaining: 3.67s\n",
      "80:\tlearn: 1505.9216862\ttotal: 3s\tremaining: 3.29s\n",
      "90:\tlearn: 1489.5622157\ttotal: 3.37s\tremaining: 2.92s\n",
      "100:\tlearn: 1471.3057373\ttotal: 3.73s\tremaining: 2.55s\n",
      "110:\tlearn: 1457.6285877\ttotal: 4.08s\tremaining: 2.17s\n",
      "120:\tlearn: 1445.8109209\ttotal: 4.48s\tremaining: 1.81s\n",
      "130:\tlearn: 1435.1300112\ttotal: 4.88s\tremaining: 1.45s\n",
      "140:\tlearn: 1426.2036592\ttotal: 5.27s\tremaining: 1.08s\n",
      "150:\tlearn: 1416.2791750\ttotal: 5.64s\tremaining: 709ms\n",
      "160:\tlearn: 1406.1094344\ttotal: 6.01s\tremaining: 336ms\n",
      "169:\tlearn: 1397.5995420\ttotal: 6.34s\tremaining: 0us\n",
      "Learning rate set to 0.375857\n",
      "0:\tlearn: 3437.6915953\ttotal: 35.7ms\tremaining: 6.04s\n",
      "10:\tlearn: 1771.3704001\ttotal: 392ms\tremaining: 5.67s\n",
      "20:\tlearn: 1689.0987283\ttotal: 766ms\tremaining: 5.44s\n",
      "30:\tlearn: 1633.9836032\ttotal: 1.15s\tremaining: 5.17s\n",
      "40:\tlearn: 1598.9298942\ttotal: 1.53s\tremaining: 4.83s\n",
      "50:\tlearn: 1568.1688443\ttotal: 1.9s\tremaining: 4.44s\n",
      "60:\tlearn: 1541.7830595\ttotal: 2.25s\tremaining: 4.03s\n",
      "70:\tlearn: 1521.2538447\ttotal: 2.63s\tremaining: 3.66s\n",
      "80:\tlearn: 1503.2645432\ttotal: 3.04s\tremaining: 3.33s\n",
      "90:\tlearn: 1486.0734514\ttotal: 3.42s\tremaining: 2.97s\n",
      "100:\tlearn: 1473.7372790\ttotal: 3.8s\tremaining: 2.59s\n",
      "110:\tlearn: 1460.5788838\ttotal: 4.19s\tremaining: 2.23s\n",
      "120:\tlearn: 1447.9416172\ttotal: 4.55s\tremaining: 1.84s\n",
      "130:\tlearn: 1438.1182257\ttotal: 4.92s\tremaining: 1.46s\n",
      "140:\tlearn: 1428.6371201\ttotal: 5.28s\tremaining: 1.08s\n",
      "150:\tlearn: 1418.4279542\ttotal: 5.67s\tremaining: 713ms\n",
      "160:\tlearn: 1408.2995633\ttotal: 6.03s\tremaining: 337ms\n",
      "169:\tlearn: 1401.9993692\ttotal: 6.36s\tremaining: 0us\n",
      "Learning rate set to 0.375857\n",
      "0:\tlearn: 3441.4848189\ttotal: 35.8ms\tremaining: 6.06s\n",
      "10:\tlearn: 1791.1420403\ttotal: 411ms\tremaining: 5.94s\n",
      "20:\tlearn: 1692.7123603\ttotal: 779ms\tremaining: 5.53s\n",
      "30:\tlearn: 1638.8923214\ttotal: 1.15s\tremaining: 5.14s\n",
      "40:\tlearn: 1600.1422369\ttotal: 1.51s\tremaining: 4.76s\n",
      "50:\tlearn: 1567.3682168\ttotal: 1.88s\tremaining: 4.38s\n",
      "60:\tlearn: 1543.2108713\ttotal: 2.24s\tremaining: 4s\n",
      "70:\tlearn: 1523.0844120\ttotal: 2.6s\tremaining: 3.62s\n",
      "80:\tlearn: 1505.4022330\ttotal: 2.96s\tremaining: 3.25s\n",
      "90:\tlearn: 1490.7343445\ttotal: 3.32s\tremaining: 2.88s\n",
      "100:\tlearn: 1473.5381875\ttotal: 3.7s\tremaining: 2.53s\n",
      "110:\tlearn: 1460.1822565\ttotal: 4.08s\tremaining: 2.17s\n",
      "120:\tlearn: 1448.8941544\ttotal: 4.46s\tremaining: 1.8s\n",
      "130:\tlearn: 1437.5432586\ttotal: 4.9s\tremaining: 1.46s\n",
      "140:\tlearn: 1427.7259290\ttotal: 5.26s\tremaining: 1.08s\n",
      "150:\tlearn: 1419.5216773\ttotal: 5.63s\tremaining: 709ms\n",
      "160:\tlearn: 1411.7046879\ttotal: 6s\tremaining: 335ms\n",
      "169:\tlearn: 1404.0545406\ttotal: 6.32s\tremaining: 0us\n",
      "Learning rate set to 0.375857\n",
      "0:\tlearn: 3426.5176146\ttotal: 50.2ms\tremaining: 8.48s\n",
      "10:\tlearn: 1789.6095030\ttotal: 438ms\tremaining: 6.33s\n",
      "20:\tlearn: 1697.6066662\ttotal: 795ms\tremaining: 5.64s\n",
      "30:\tlearn: 1643.7833643\ttotal: 1.15s\tremaining: 5.17s\n",
      "40:\tlearn: 1599.9017392\ttotal: 1.53s\tremaining: 4.83s\n",
      "50:\tlearn: 1570.4561542\ttotal: 1.89s\tremaining: 4.42s\n",
      "60:\tlearn: 1543.9170122\ttotal: 2.26s\tremaining: 4.04s\n",
      "70:\tlearn: 1523.2562693\ttotal: 2.64s\tremaining: 3.68s\n",
      "80:\tlearn: 1503.5024997\ttotal: 3s\tremaining: 3.29s\n",
      "90:\tlearn: 1486.5482293\ttotal: 3.38s\tremaining: 2.94s\n",
      "100:\tlearn: 1472.1398809\ttotal: 3.76s\tremaining: 2.57s\n",
      "110:\tlearn: 1460.1290915\ttotal: 4.13s\tremaining: 2.19s\n",
      "120:\tlearn: 1447.5019147\ttotal: 4.5s\tremaining: 1.82s\n",
      "130:\tlearn: 1436.0564618\ttotal: 4.86s\tremaining: 1.45s\n",
      "140:\tlearn: 1426.8998286\ttotal: 5.23s\tremaining: 1.07s\n",
      "150:\tlearn: 1417.2645933\ttotal: 5.61s\tremaining: 705ms\n",
      "160:\tlearn: 1407.6007897\ttotal: 5.96s\tremaining: 333ms\n",
      "169:\tlearn: 1400.4951938\ttotal: 6.33s\tremaining: 0us\n",
      "Learning rate set to 0.375857\n",
      "0:\tlearn: 3432.7353335\ttotal: 39.8ms\tremaining: 6.72s\n",
      "10:\tlearn: 1790.5955488\ttotal: 431ms\tremaining: 6.24s\n",
      "20:\tlearn: 1691.7030802\ttotal: 825ms\tremaining: 5.85s\n",
      "30:\tlearn: 1640.1243746\ttotal: 1.2s\tremaining: 5.4s\n",
      "40:\tlearn: 1604.2598964\ttotal: 1.59s\tremaining: 4.99s\n",
      "50:\tlearn: 1569.9450364\ttotal: 1.96s\tremaining: 4.58s\n",
      "60:\tlearn: 1542.7075565\ttotal: 2.33s\tremaining: 4.15s\n",
      "70:\tlearn: 1521.7475458\ttotal: 2.72s\tremaining: 3.79s\n",
      "80:\tlearn: 1503.7186507\ttotal: 3.08s\tremaining: 3.39s\n",
      "90:\tlearn: 1489.6146164\ttotal: 3.51s\tremaining: 3.04s\n",
      "100:\tlearn: 1474.2460467\ttotal: 3.89s\tremaining: 2.65s\n",
      "110:\tlearn: 1461.2565908\ttotal: 4.54s\tremaining: 2.41s\n",
      "120:\tlearn: 1451.0741539\ttotal: 5.02s\tremaining: 2.03s\n",
      "130:\tlearn: 1439.1704524\ttotal: 5.38s\tremaining: 1.6s\n",
      "140:\tlearn: 1429.3706750\ttotal: 5.79s\tremaining: 1.19s\n",
      "150:\tlearn: 1419.9855186\ttotal: 6.17s\tremaining: 776ms\n",
      "160:\tlearn: 1409.4740388\ttotal: 6.54s\tremaining: 366ms\n",
      "169:\tlearn: 1401.8135406\ttotal: 6.87s\tremaining: 0us\n",
      "Learning rate set to 0.343361\n",
      "0:\tlearn: 3530.2104793\ttotal: 34.4ms\tremaining: 6.5s\n",
      "10:\tlearn: 1801.0425906\ttotal: 393ms\tremaining: 6.4s\n",
      "20:\tlearn: 1701.0927440\ttotal: 816ms\tremaining: 6.57s\n",
      "30:\tlearn: 1645.8569353\ttotal: 1.18s\tremaining: 6.07s\n",
      "40:\tlearn: 1607.0488354\ttotal: 1.59s\tremaining: 5.78s\n",
      "50:\tlearn: 1575.9908377\ttotal: 1.96s\tremaining: 5.35s\n",
      "60:\tlearn: 1553.1589312\ttotal: 2.33s\tremaining: 4.93s\n",
      "70:\tlearn: 1533.4634667\ttotal: 2.71s\tremaining: 4.54s\n",
      "80:\tlearn: 1518.1460678\ttotal: 3.07s\tremaining: 4.13s\n",
      "90:\tlearn: 1499.2377374\ttotal: 3.43s\tremaining: 3.73s\n",
      "100:\tlearn: 1483.8710150\ttotal: 3.78s\tremaining: 3.33s\n",
      "110:\tlearn: 1471.7464876\ttotal: 4.16s\tremaining: 2.96s\n",
      "120:\tlearn: 1458.9060871\ttotal: 4.53s\tremaining: 2.58s\n",
      "130:\tlearn: 1448.0955346\ttotal: 4.89s\tremaining: 2.2s\n",
      "140:\tlearn: 1437.4746417\ttotal: 5.26s\tremaining: 1.83s\n",
      "150:\tlearn: 1426.9467747\ttotal: 5.66s\tremaining: 1.46s\n",
      "160:\tlearn: 1416.5603373\ttotal: 6.04s\tremaining: 1.09s\n",
      "170:\tlearn: 1405.9726383\ttotal: 6.45s\tremaining: 717ms\n",
      "180:\tlearn: 1398.5914261\ttotal: 6.83s\tremaining: 339ms\n",
      "189:\tlearn: 1391.5290852\ttotal: 7.15s\tremaining: 0us\n",
      "Learning rate set to 0.343361\n",
      "0:\tlearn: 3531.0056676\ttotal: 35.2ms\tremaining: 6.65s\n",
      "10:\tlearn: 1787.2591514\ttotal: 388ms\tremaining: 6.32s\n",
      "20:\tlearn: 1700.3216862\ttotal: 747ms\tremaining: 6.01s\n",
      "30:\tlearn: 1647.6276089\ttotal: 1.1s\tremaining: 5.66s\n",
      "40:\tlearn: 1610.0995644\ttotal: 1.48s\tremaining: 5.39s\n",
      "50:\tlearn: 1580.1519206\ttotal: 1.89s\tremaining: 5.14s\n",
      "60:\tlearn: 1555.2591308\ttotal: 2.28s\tremaining: 4.81s\n",
      "70:\tlearn: 1534.1052670\ttotal: 2.68s\tremaining: 4.5s\n",
      "80:\tlearn: 1517.2001261\ttotal: 3.05s\tremaining: 4.11s\n",
      "90:\tlearn: 1501.2707355\ttotal: 3.43s\tremaining: 3.73s\n",
      "100:\tlearn: 1486.5243962\ttotal: 3.83s\tremaining: 3.37s\n",
      "110:\tlearn: 1473.2299361\ttotal: 4.25s\tremaining: 3.02s\n",
      "120:\tlearn: 1461.4268861\ttotal: 4.65s\tremaining: 2.65s\n",
      "130:\tlearn: 1450.8019054\ttotal: 5.05s\tremaining: 2.27s\n",
      "140:\tlearn: 1439.7663273\ttotal: 5.51s\tremaining: 1.91s\n",
      "150:\tlearn: 1429.8262771\ttotal: 5.95s\tremaining: 1.54s\n",
      "160:\tlearn: 1420.7490718\ttotal: 6.35s\tremaining: 1.14s\n",
      "170:\tlearn: 1412.4135435\ttotal: 6.74s\tremaining: 749ms\n",
      "180:\tlearn: 1404.4819476\ttotal: 7.12s\tremaining: 354ms\n",
      "189:\tlearn: 1396.9843786\ttotal: 7.45s\tremaining: 0us\n",
      "Learning rate set to 0.343361\n",
      "0:\tlearn: 3534.8089570\ttotal: 38.3ms\tremaining: 7.24s\n",
      "10:\tlearn: 1802.5210346\ttotal: 412ms\tremaining: 6.71s\n",
      "20:\tlearn: 1704.3299941\ttotal: 801ms\tremaining: 6.45s\n",
      "30:\tlearn: 1646.3541478\ttotal: 1.19s\tremaining: 6.12s\n",
      "40:\tlearn: 1606.8831358\ttotal: 1.57s\tremaining: 5.72s\n",
      "50:\tlearn: 1577.4765672\ttotal: 1.94s\tremaining: 5.29s\n",
      "60:\tlearn: 1550.8982178\ttotal: 2.3s\tremaining: 4.87s\n",
      "70:\tlearn: 1526.5708507\ttotal: 2.68s\tremaining: 4.49s\n",
      "80:\tlearn: 1509.1061106\ttotal: 3.04s\tremaining: 4.09s\n",
      "90:\tlearn: 1493.7756773\ttotal: 3.42s\tremaining: 3.72s\n",
      "100:\tlearn: 1478.3847914\ttotal: 3.85s\tremaining: 3.39s\n",
      "110:\tlearn: 1464.3132917\ttotal: 4.2s\tremaining: 2.99s\n",
      "120:\tlearn: 1454.2053719\ttotal: 4.58s\tremaining: 2.61s\n",
      "130:\tlearn: 1444.4928132\ttotal: 4.94s\tremaining: 2.23s\n",
      "140:\tlearn: 1434.5555438\ttotal: 5.31s\tremaining: 1.85s\n",
      "150:\tlearn: 1426.1411800\ttotal: 5.68s\tremaining: 1.47s\n",
      "160:\tlearn: 1416.7002564\ttotal: 6.04s\tremaining: 1.09s\n",
      "170:\tlearn: 1408.2728257\ttotal: 6.41s\tremaining: 712ms\n",
      "180:\tlearn: 1401.7311835\ttotal: 6.78s\tremaining: 337ms\n",
      "189:\tlearn: 1394.6327440\ttotal: 7.11s\tremaining: 0us\n",
      "Learning rate set to 0.343361\n",
      "0:\tlearn: 3519.5983310\ttotal: 35.8ms\tremaining: 6.77s\n",
      "10:\tlearn: 1804.9911886\ttotal: 396ms\tremaining: 6.45s\n",
      "20:\tlearn: 1700.1596877\ttotal: 762ms\tremaining: 6.13s\n",
      "30:\tlearn: 1651.7798170\ttotal: 1.14s\tremaining: 5.86s\n",
      "40:\tlearn: 1607.9896158\ttotal: 1.5s\tremaining: 5.46s\n",
      "50:\tlearn: 1577.7792628\ttotal: 1.86s\tremaining: 5.08s\n",
      "60:\tlearn: 1555.0744868\ttotal: 2.23s\tremaining: 4.71s\n",
      "70:\tlearn: 1533.7451875\ttotal: 2.6s\tremaining: 4.36s\n",
      "80:\tlearn: 1513.0065884\ttotal: 2.96s\tremaining: 3.98s\n",
      "90:\tlearn: 1497.8238265\ttotal: 3.31s\tremaining: 3.6s\n",
      "100:\tlearn: 1481.3914219\ttotal: 3.67s\tremaining: 3.23s\n",
      "110:\tlearn: 1468.8781609\ttotal: 4.02s\tremaining: 2.86s\n",
      "120:\tlearn: 1456.4787202\ttotal: 4.38s\tremaining: 2.5s\n",
      "130:\tlearn: 1446.9324583\ttotal: 4.74s\tremaining: 2.13s\n",
      "140:\tlearn: 1438.5979829\ttotal: 5.09s\tremaining: 1.77s\n",
      "150:\tlearn: 1429.8038439\ttotal: 5.52s\tremaining: 1.43s\n",
      "160:\tlearn: 1419.9408771\ttotal: 5.9s\tremaining: 1.06s\n",
      "170:\tlearn: 1411.3274299\ttotal: 6.27s\tremaining: 697ms\n",
      "180:\tlearn: 1402.1748521\ttotal: 6.66s\tremaining: 331ms\n",
      "189:\tlearn: 1395.8408926\ttotal: 6.99s\tremaining: 0us\n",
      "Learning rate set to 0.343361\n",
      "0:\tlearn: 3526.2517660\ttotal: 35.7ms\tremaining: 6.75s\n",
      "10:\tlearn: 1789.9472135\ttotal: 390ms\tremaining: 6.35s\n",
      "20:\tlearn: 1698.2162833\ttotal: 780ms\tremaining: 6.27s\n",
      "30:\tlearn: 1648.4833695\ttotal: 1.17s\tremaining: 5.98s\n",
      "40:\tlearn: 1615.0572754\ttotal: 1.54s\tremaining: 5.6s\n",
      "50:\tlearn: 1583.7412189\ttotal: 1.91s\tremaining: 5.2s\n",
      "60:\tlearn: 1560.1363814\ttotal: 2.27s\tremaining: 4.8s\n",
      "70:\tlearn: 1536.3850457\ttotal: 2.64s\tremaining: 4.42s\n",
      "80:\tlearn: 1517.3957517\ttotal: 3.05s\tremaining: 4.11s\n",
      "90:\tlearn: 1501.2893279\ttotal: 3.47s\tremaining: 3.77s\n",
      "100:\tlearn: 1486.8284302\ttotal: 3.92s\tremaining: 3.45s\n",
      "110:\tlearn: 1474.9464225\ttotal: 4.32s\tremaining: 3.08s\n",
      "120:\tlearn: 1463.0304722\ttotal: 4.73s\tremaining: 2.7s\n",
      "130:\tlearn: 1452.4302581\ttotal: 5.17s\tremaining: 2.33s\n",
      "140:\tlearn: 1440.0882158\ttotal: 5.62s\tremaining: 1.95s\n",
      "150:\tlearn: 1432.1809479\ttotal: 6.06s\tremaining: 1.56s\n",
      "160:\tlearn: 1424.4563404\ttotal: 6.48s\tremaining: 1.17s\n",
      "170:\tlearn: 1416.0434729\ttotal: 6.9s\tremaining: 767ms\n",
      "180:\tlearn: 1408.4261712\ttotal: 7.35s\tremaining: 365ms\n",
      "189:\tlearn: 1401.8753840\ttotal: 7.72s\tremaining: 0us\n",
      "Learning rate set to 0.5\n",
      "0:\tlearn: 3032.1666459\ttotal: 595ms\tremaining: 29.1s\n",
      "10:\tlearn: 1630.1326352\ttotal: 5.96s\tremaining: 21.1s\n",
      "20:\tlearn: 1540.9110164\ttotal: 11.4s\tremaining: 15.7s\n",
      "30:\tlearn: 1477.5710630\ttotal: 16.7s\tremaining: 10.2s\n",
      "40:\tlearn: 1429.6260290\ttotal: 22.1s\tremaining: 4.86s\n",
      "49:\tlearn: 1394.3413509\ttotal: 27s\tremaining: 0us\n",
      "Learning rate set to 0.5\n",
      "0:\tlearn: 3033.3079006\ttotal: 580ms\tremaining: 28.4s\n",
      "10:\tlearn: 1642.7424273\ttotal: 6.46s\tremaining: 22.9s\n",
      "20:\tlearn: 1547.5834781\ttotal: 12.1s\tremaining: 16.7s\n",
      "30:\tlearn: 1480.0973884\ttotal: 17.7s\tremaining: 10.9s\n",
      "40:\tlearn: 1431.3207804\ttotal: 23.4s\tremaining: 5.13s\n",
      "49:\tlearn: 1395.9594083\ttotal: 28.5s\tremaining: 0us\n",
      "Learning rate set to 0.5\n",
      "0:\tlearn: 2994.3550671\ttotal: 594ms\tremaining: 29.1s\n",
      "10:\tlearn: 1632.0137283\ttotal: 6.2s\tremaining: 22s\n",
      "20:\tlearn: 1541.2120952\ttotal: 11.7s\tremaining: 16.1s\n",
      "30:\tlearn: 1485.2616622\ttotal: 17.2s\tremaining: 10.5s\n",
      "40:\tlearn: 1439.1182058\ttotal: 22.6s\tremaining: 4.96s\n",
      "49:\tlearn: 1404.8814252\ttotal: 27.5s\tremaining: 0us\n",
      "Learning rate set to 0.5\n",
      "0:\tlearn: 3021.5393068\ttotal: 542ms\tremaining: 26.6s\n",
      "10:\tlearn: 1624.5494983\ttotal: 5.98s\tremaining: 21.2s\n",
      "20:\tlearn: 1535.2398551\ttotal: 11.3s\tremaining: 15.7s\n",
      "30:\tlearn: 1473.2091986\ttotal: 16.8s\tremaining: 10.3s\n",
      "40:\tlearn: 1431.3492841\ttotal: 22.2s\tremaining: 4.87s\n",
      "49:\tlearn: 1395.7267233\ttotal: 27.1s\tremaining: 0us\n",
      "Learning rate set to 0.5\n",
      "0:\tlearn: 3028.4307705\ttotal: 543ms\tremaining: 26.6s\n",
      "10:\tlearn: 1628.4561310\ttotal: 5.92s\tremaining: 21s\n",
      "20:\tlearn: 1533.6114897\ttotal: 11.3s\tremaining: 15.6s\n",
      "30:\tlearn: 1476.2867489\ttotal: 16.7s\tremaining: 10.2s\n",
      "40:\tlearn: 1437.9245987\ttotal: 22s\tremaining: 4.84s\n",
      "49:\tlearn: 1400.6060728\ttotal: 26.9s\tremaining: 0us\n",
      "Learning rate set to 0.5\n",
      "0:\tlearn: 3032.1666459\ttotal: 540ms\tremaining: 37.3s\n",
      "10:\tlearn: 1630.1326352\ttotal: 5.95s\tremaining: 31.9s\n",
      "20:\tlearn: 1540.9110164\ttotal: 11.4s\tremaining: 26.5s\n",
      "30:\tlearn: 1477.5710630\ttotal: 16.8s\tremaining: 21.1s\n",
      "40:\tlearn: 1429.6260290\ttotal: 22.2s\tremaining: 15.7s\n",
      "50:\tlearn: 1389.1526918\ttotal: 27.9s\tremaining: 10.4s\n",
      "60:\tlearn: 1359.3371059\ttotal: 33.4s\tremaining: 4.93s\n",
      "69:\tlearn: 1330.1326615\ttotal: 38.2s\tremaining: 0us\n",
      "Learning rate set to 0.5\n",
      "0:\tlearn: 3033.3079006\ttotal: 545ms\tremaining: 37.6s\n",
      "10:\tlearn: 1642.7424273\ttotal: 6.08s\tremaining: 32.6s\n",
      "20:\tlearn: 1547.5834781\ttotal: 11.6s\tremaining: 27s\n",
      "30:\tlearn: 1480.0973884\ttotal: 17s\tremaining: 21.4s\n",
      "40:\tlearn: 1431.3207804\ttotal: 22.4s\tremaining: 15.9s\n",
      "50:\tlearn: 1391.5672789\ttotal: 28s\tremaining: 10.4s\n",
      "60:\tlearn: 1363.9539761\ttotal: 33.5s\tremaining: 4.94s\n",
      "69:\tlearn: 1342.4649401\ttotal: 38.3s\tremaining: 0us\n",
      "Learning rate set to 0.5\n",
      "0:\tlearn: 2994.3550671\ttotal: 554ms\tremaining: 38.2s\n",
      "10:\tlearn: 1632.0137283\ttotal: 5.91s\tremaining: 31.7s\n",
      "20:\tlearn: 1541.2120952\ttotal: 11.4s\tremaining: 26.6s\n",
      "30:\tlearn: 1485.2616622\ttotal: 16.9s\tremaining: 21.3s\n",
      "40:\tlearn: 1439.1182058\ttotal: 22.4s\tremaining: 15.8s\n",
      "50:\tlearn: 1400.8959602\ttotal: 28.1s\tremaining: 10.5s\n",
      "60:\tlearn: 1372.1211818\ttotal: 33.9s\tremaining: 5s\n",
      "69:\tlearn: 1347.1045609\ttotal: 39.2s\tremaining: 0us\n",
      "Learning rate set to 0.5\n",
      "0:\tlearn: 3021.5393068\ttotal: 576ms\tremaining: 39.7s\n",
      "10:\tlearn: 1624.5494983\ttotal: 6.41s\tremaining: 34.4s\n",
      "20:\tlearn: 1535.2398551\ttotal: 12.3s\tremaining: 28.8s\n",
      "30:\tlearn: 1473.2091986\ttotal: 18.1s\tremaining: 22.8s\n",
      "40:\tlearn: 1431.3492841\ttotal: 23.8s\tremaining: 16.9s\n",
      "50:\tlearn: 1393.5492595\ttotal: 29.6s\tremaining: 11s\n",
      "60:\tlearn: 1362.5307773\ttotal: 35.4s\tremaining: 5.22s\n",
      "69:\tlearn: 1340.2648340\ttotal: 40.6s\tremaining: 0us\n",
      "Learning rate set to 0.5\n",
      "0:\tlearn: 3028.4307705\ttotal: 579ms\tremaining: 40s\n",
      "10:\tlearn: 1628.4561310\ttotal: 6.41s\tremaining: 34.4s\n",
      "20:\tlearn: 1533.6114897\ttotal: 12.2s\tremaining: 28.4s\n",
      "30:\tlearn: 1476.2867489\ttotal: 18.1s\tremaining: 22.8s\n",
      "40:\tlearn: 1437.9245987\ttotal: 23.8s\tremaining: 16.9s\n",
      "50:\tlearn: 1397.6844835\ttotal: 29.8s\tremaining: 11.1s\n",
      "60:\tlearn: 1367.8530998\ttotal: 35.6s\tremaining: 5.26s\n",
      "69:\tlearn: 1344.0454361\ttotal: 40.8s\tremaining: 0us\n",
      "Learning rate set to 0.5\n",
      "0:\tlearn: 3032.1666459\ttotal: 562ms\tremaining: 50s\n",
      "10:\tlearn: 1630.1326352\ttotal: 6.44s\tremaining: 46.2s\n",
      "20:\tlearn: 1540.9110164\ttotal: 12.7s\tremaining: 41.8s\n",
      "30:\tlearn: 1477.5710630\ttotal: 18.5s\tremaining: 35.2s\n",
      "40:\tlearn: 1429.6260290\ttotal: 24.2s\tremaining: 29s\n",
      "50:\tlearn: 1389.1526918\ttotal: 30s\tremaining: 22.9s\n",
      "60:\tlearn: 1359.3371059\ttotal: 35.7s\tremaining: 17s\n",
      "70:\tlearn: 1328.8667206\ttotal: 41.5s\tremaining: 11.1s\n",
      "80:\tlearn: 1309.1362672\ttotal: 47.6s\tremaining: 5.29s\n",
      "89:\tlearn: 1293.2587224\ttotal: 52.8s\tremaining: 0us\n",
      "Learning rate set to 0.5\n",
      "0:\tlearn: 3033.3079006\ttotal: 590ms\tremaining: 52.5s\n",
      "10:\tlearn: 1642.7424273\ttotal: 6.49s\tremaining: 46.6s\n",
      "20:\tlearn: 1547.5834781\ttotal: 12.5s\tremaining: 40.9s\n",
      "30:\tlearn: 1480.0973884\ttotal: 18.3s\tremaining: 34.9s\n",
      "40:\tlearn: 1431.3207804\ttotal: 24.2s\tremaining: 28.9s\n",
      "50:\tlearn: 1391.5672789\ttotal: 30.1s\tremaining: 23s\n",
      "60:\tlearn: 1363.9539761\ttotal: 36s\tremaining: 17.1s\n",
      "70:\tlearn: 1340.9287876\ttotal: 42s\tremaining: 11.2s\n",
      "80:\tlearn: 1314.0435944\ttotal: 47.8s\tremaining: 5.32s\n",
      "89:\tlearn: 1294.7605897\ttotal: 53.5s\tremaining: 0us\n",
      "Learning rate set to 0.5\n",
      "0:\tlearn: 2994.3550671\ttotal: 582ms\tremaining: 51.8s\n",
      "10:\tlearn: 1632.0137283\ttotal: 6.38s\tremaining: 45.8s\n",
      "20:\tlearn: 1541.2120952\ttotal: 12.1s\tremaining: 39.9s\n",
      "30:\tlearn: 1485.2616622\ttotal: 18s\tremaining: 34.3s\n",
      "40:\tlearn: 1439.1182058\ttotal: 23.9s\tremaining: 28.6s\n",
      "50:\tlearn: 1400.8959602\ttotal: 29.8s\tremaining: 22.8s\n",
      "60:\tlearn: 1372.1211818\ttotal: 35.7s\tremaining: 17s\n",
      "70:\tlearn: 1345.1565465\ttotal: 41.5s\tremaining: 11.1s\n",
      "80:\tlearn: 1326.1493958\ttotal: 47.5s\tremaining: 5.28s\n",
      "89:\tlearn: 1305.2348273\ttotal: 52.5s\tremaining: 0us\n",
      "Learning rate set to 0.5\n",
      "0:\tlearn: 3021.5393068\ttotal: 565ms\tremaining: 50.3s\n",
      "10:\tlearn: 1624.5494983\ttotal: 6.2s\tremaining: 44.5s\n",
      "20:\tlearn: 1535.2398551\ttotal: 11.6s\tremaining: 38.3s\n",
      "30:\tlearn: 1473.2091986\ttotal: 17.1s\tremaining: 32.6s\n",
      "40:\tlearn: 1431.3492841\ttotal: 22.7s\tremaining: 27.1s\n",
      "50:\tlearn: 1393.5492595\ttotal: 28.2s\tremaining: 21.6s\n",
      "60:\tlearn: 1362.5307773\ttotal: 33.7s\tremaining: 16s\n",
      "70:\tlearn: 1338.9159514\ttotal: 39.2s\tremaining: 10.5s\n",
      "80:\tlearn: 1318.4727798\ttotal: 44.6s\tremaining: 4.96s\n",
      "89:\tlearn: 1301.2897857\ttotal: 49.5s\tremaining: 0us\n",
      "Learning rate set to 0.5\n",
      "0:\tlearn: 3028.4307705\ttotal: 551ms\tremaining: 49s\n",
      "10:\tlearn: 1628.4561310\ttotal: 6.2s\tremaining: 44.5s\n",
      "20:\tlearn: 1533.6114897\ttotal: 11.8s\tremaining: 38.9s\n",
      "30:\tlearn: 1476.2867489\ttotal: 17.5s\tremaining: 33.3s\n",
      "40:\tlearn: 1437.9245987\ttotal: 23.2s\tremaining: 27.7s\n",
      "50:\tlearn: 1397.6844835\ttotal: 28.6s\tremaining: 21.9s\n",
      "60:\tlearn: 1367.8530998\ttotal: 34s\tremaining: 16.2s\n",
      "70:\tlearn: 1341.5419200\ttotal: 39.4s\tremaining: 10.5s\n",
      "80:\tlearn: 1316.0229398\ttotal: 44.9s\tremaining: 4.99s\n",
      "89:\tlearn: 1301.1235296\ttotal: 49.9s\tremaining: 0us\n",
      "Learning rate set to 0.5\n",
      "0:\tlearn: 3032.1666459\ttotal: 523ms\tremaining: 57s\n",
      "10:\tlearn: 1630.1326352\ttotal: 5.78s\tremaining: 52s\n",
      "20:\tlearn: 1540.9110164\ttotal: 11.1s\tremaining: 47.1s\n",
      "30:\tlearn: 1477.5710630\ttotal: 16.4s\tremaining: 41.9s\n",
      "40:\tlearn: 1429.6260290\ttotal: 22s\tremaining: 37s\n",
      "50:\tlearn: 1389.1526918\ttotal: 27.3s\tremaining: 31.6s\n",
      "60:\tlearn: 1359.3371059\ttotal: 32.6s\tremaining: 26.2s\n",
      "70:\tlearn: 1328.8667206\ttotal: 38s\tremaining: 20.9s\n",
      "80:\tlearn: 1309.1362672\ttotal: 43.3s\tremaining: 15.5s\n",
      "90:\tlearn: 1290.9337742\ttotal: 48.6s\tremaining: 10.2s\n",
      "100:\tlearn: 1273.4456810\ttotal: 54s\tremaining: 4.81s\n",
      "109:\tlearn: 1258.7741358\ttotal: 58.8s\tremaining: 0us\n",
      "Learning rate set to 0.5\n",
      "0:\tlearn: 3033.3079006\ttotal: 604ms\tremaining: 1m 5s\n",
      "10:\tlearn: 1642.7424273\ttotal: 5.94s\tremaining: 53.5s\n",
      "20:\tlearn: 1547.5834781\ttotal: 11.4s\tremaining: 48.2s\n",
      "30:\tlearn: 1480.0973884\ttotal: 16.8s\tremaining: 42.8s\n",
      "40:\tlearn: 1431.3207804\ttotal: 22.3s\tremaining: 37.5s\n",
      "50:\tlearn: 1391.5672789\ttotal: 27.7s\tremaining: 32s\n",
      "60:\tlearn: 1363.9539761\ttotal: 33s\tremaining: 26.5s\n",
      "70:\tlearn: 1340.9287876\ttotal: 38.4s\tremaining: 21.1s\n",
      "80:\tlearn: 1314.0435944\ttotal: 43.7s\tremaining: 15.7s\n",
      "90:\tlearn: 1293.3689806\ttotal: 49.1s\tremaining: 10.3s\n",
      "100:\tlearn: 1273.0355421\ttotal: 54.6s\tremaining: 4.86s\n",
      "109:\tlearn: 1259.1342292\ttotal: 59.5s\tremaining: 0us\n",
      "Learning rate set to 0.5\n",
      "0:\tlearn: 2994.3550671\ttotal: 528ms\tremaining: 57.6s\n",
      "10:\tlearn: 1632.0137283\ttotal: 5.86s\tremaining: 52.7s\n",
      "20:\tlearn: 1541.2120952\ttotal: 11.3s\tremaining: 47.9s\n",
      "30:\tlearn: 1485.2616622\ttotal: 16.8s\tremaining: 42.7s\n",
      "40:\tlearn: 1439.1182058\ttotal: 22.2s\tremaining: 37.4s\n",
      "50:\tlearn: 1400.8959602\ttotal: 27.6s\tremaining: 32s\n",
      "60:\tlearn: 1372.1211818\ttotal: 33.1s\tremaining: 26.6s\n",
      "70:\tlearn: 1345.1565465\ttotal: 38.5s\tremaining: 21.2s\n",
      "80:\tlearn: 1326.1493958\ttotal: 44s\tremaining: 15.7s\n",
      "90:\tlearn: 1303.3912257\ttotal: 49.4s\tremaining: 10.3s\n",
      "100:\tlearn: 1285.5614125\ttotal: 54.8s\tremaining: 4.88s\n",
      "109:\tlearn: 1268.7508592\ttotal: 59.7s\tremaining: 0us\n",
      "Learning rate set to 0.5\n",
      "0:\tlearn: 3021.5393068\ttotal: 530ms\tremaining: 57.8s\n",
      "10:\tlearn: 1624.5494983\ttotal: 5.87s\tremaining: 52.8s\n",
      "20:\tlearn: 1535.2398551\ttotal: 11.2s\tremaining: 47.6s\n",
      "30:\tlearn: 1473.2091986\ttotal: 16.7s\tremaining: 42.6s\n",
      "40:\tlearn: 1431.3492841\ttotal: 22.7s\tremaining: 38.2s\n",
      "50:\tlearn: 1393.5492595\ttotal: 28.1s\tremaining: 32.6s\n",
      "60:\tlearn: 1362.5307773\ttotal: 33.5s\tremaining: 26.9s\n",
      "70:\tlearn: 1338.9159514\ttotal: 38.9s\tremaining: 21.4s\n",
      "80:\tlearn: 1318.4727798\ttotal: 44.3s\tremaining: 15.9s\n",
      "90:\tlearn: 1300.2809654\ttotal: 49.8s\tremaining: 10.4s\n",
      "100:\tlearn: 1283.1848417\ttotal: 55.2s\tremaining: 4.92s\n",
      "109:\tlearn: 1268.8396733\ttotal: 1m\tremaining: 0us\n",
      "Learning rate set to 0.5\n",
      "0:\tlearn: 3028.4307705\ttotal: 572ms\tremaining: 1m 2s\n",
      "10:\tlearn: 1628.4561310\ttotal: 6.4s\tremaining: 57.6s\n",
      "20:\tlearn: 1533.6114897\ttotal: 12.1s\tremaining: 51.4s\n",
      "30:\tlearn: 1476.2867489\ttotal: 18s\tremaining: 46s\n",
      "40:\tlearn: 1437.9245987\ttotal: 23.8s\tremaining: 40.1s\n",
      "50:\tlearn: 1397.6844835\ttotal: 29.5s\tremaining: 34.2s\n",
      "60:\tlearn: 1367.8530998\ttotal: 35.3s\tremaining: 28.3s\n",
      "70:\tlearn: 1341.5419200\ttotal: 41s\tremaining: 22.5s\n",
      "80:\tlearn: 1316.0229398\ttotal: 46.7s\tremaining: 16.7s\n",
      "90:\tlearn: 1298.5393786\ttotal: 52.5s\tremaining: 11s\n",
      "100:\tlearn: 1283.1267214\ttotal: 58.3s\tremaining: 5.19s\n",
      "109:\tlearn: 1266.8827537\ttotal: 1m 3s\tremaining: 0us\n",
      "Learning rate set to 0.467457\n",
      "0:\tlearn: 3121.2861771\ttotal: 558ms\tremaining: 1m 12s\n",
      "10:\tlearn: 1636.7843517\ttotal: 6.46s\tremaining: 1m 9s\n",
      "20:\tlearn: 1552.3082845\ttotal: 12.4s\tremaining: 1m 4s\n",
      "30:\tlearn: 1488.0814299\ttotal: 18.2s\tremaining: 58s\n",
      "40:\tlearn: 1444.6439617\ttotal: 23.9s\tremaining: 51.8s\n",
      "50:\tlearn: 1407.1636526\ttotal: 29.6s\tremaining: 45.8s\n",
      "60:\tlearn: 1374.6681042\ttotal: 35.6s\tremaining: 40.2s\n",
      "70:\tlearn: 1346.3762618\ttotal: 41.4s\tremaining: 34.4s\n",
      "80:\tlearn: 1321.2710615\ttotal: 47.2s\tremaining: 28.5s\n",
      "90:\tlearn: 1305.2303483\ttotal: 53s\tremaining: 22.7s\n",
      "100:\tlearn: 1288.1113268\ttotal: 58.7s\tremaining: 16.9s\n",
      "110:\tlearn: 1274.2469055\ttotal: 1m 4s\tremaining: 11s\n",
      "120:\tlearn: 1258.8436617\ttotal: 1m 10s\tremaining: 5.23s\n",
      "129:\tlearn: 1242.3543925\ttotal: 1m 15s\tremaining: 0us\n",
      "Learning rate set to 0.467457\n",
      "0:\tlearn: 3122.1001827\ttotal: 589ms\tremaining: 1m 16s\n",
      "10:\tlearn: 1633.1206270\ttotal: 6.76s\tremaining: 1m 13s\n",
      "20:\tlearn: 1549.2753527\ttotal: 12.7s\tremaining: 1m 5s\n",
      "30:\tlearn: 1483.8943050\ttotal: 18.6s\tremaining: 59.5s\n",
      "40:\tlearn: 1439.0928910\ttotal: 24.5s\tremaining: 53.3s\n",
      "50:\tlearn: 1406.4425522\ttotal: 30.4s\tremaining: 47.1s\n",
      "60:\tlearn: 1378.0194504\ttotal: 36.4s\tremaining: 41.2s\n",
      "70:\tlearn: 1355.5979208\ttotal: 42.2s\tremaining: 35s\n",
      "80:\tlearn: 1328.9191636\ttotal: 47.9s\tremaining: 29s\n",
      "90:\tlearn: 1306.2456935\ttotal: 53.9s\tremaining: 23.1s\n",
      "100:\tlearn: 1289.7327397\ttotal: 59.7s\tremaining: 17.2s\n",
      "110:\tlearn: 1272.3589450\ttotal: 1m 5s\tremaining: 11.2s\n",
      "120:\tlearn: 1259.1927760\ttotal: 1m 11s\tremaining: 5.31s\n",
      "129:\tlearn: 1247.0109535\ttotal: 1m 16s\tremaining: 0us\n",
      "Learning rate set to 0.467457\n",
      "0:\tlearn: 3086.3695485\ttotal: 563ms\tremaining: 1m 12s\n",
      "10:\tlearn: 1638.9312332\ttotal: 6.29s\tremaining: 1m 8s\n",
      "20:\tlearn: 1556.2546502\ttotal: 12s\tremaining: 1m 2s\n",
      "30:\tlearn: 1493.3997693\ttotal: 17.8s\tremaining: 56.8s\n",
      "40:\tlearn: 1444.7184206\ttotal: 23.5s\tremaining: 51s\n",
      "50:\tlearn: 1412.2188597\ttotal: 29.1s\tremaining: 45.1s\n",
      "60:\tlearn: 1384.6245206\ttotal: 34.9s\tremaining: 39.5s\n",
      "70:\tlearn: 1357.2288148\ttotal: 40.5s\tremaining: 33.7s\n",
      "80:\tlearn: 1334.0990959\ttotal: 46.2s\tremaining: 28s\n",
      "90:\tlearn: 1317.5799356\ttotal: 51.9s\tremaining: 22.2s\n",
      "100:\tlearn: 1299.8096238\ttotal: 57.7s\tremaining: 16.6s\n",
      "110:\tlearn: 1284.1306648\ttotal: 1m 3s\tremaining: 10.8s\n",
      "120:\tlearn: 1267.5288735\ttotal: 1m 8s\tremaining: 5.11s\n",
      "129:\tlearn: 1250.0106369\ttotal: 1m 13s\tremaining: 0us\n",
      "Learning rate set to 0.467457\n",
      "0:\tlearn: 3110.1938483\ttotal: 617ms\tremaining: 1m 19s\n",
      "10:\tlearn: 1641.7743156\ttotal: 6.39s\tremaining: 1m 9s\n",
      "20:\tlearn: 1551.5097563\ttotal: 12.4s\tremaining: 1m 4s\n",
      "30:\tlearn: 1484.5141777\ttotal: 18.2s\tremaining: 58.1s\n",
      "40:\tlearn: 1437.8048765\ttotal: 24.1s\tremaining: 52.3s\n",
      "50:\tlearn: 1407.4824428\ttotal: 29.9s\tremaining: 46.3s\n",
      "60:\tlearn: 1369.9545856\ttotal: 35.6s\tremaining: 40.3s\n",
      "70:\tlearn: 1344.1416825\ttotal: 41.4s\tremaining: 34.4s\n",
      "80:\tlearn: 1323.1949586\ttotal: 47.3s\tremaining: 28.6s\n",
      "90:\tlearn: 1304.7564712\ttotal: 53.6s\tremaining: 23s\n",
      "100:\tlearn: 1285.2710422\ttotal: 59.4s\tremaining: 17.1s\n",
      "110:\tlearn: 1268.3896786\ttotal: 1m 5s\tremaining: 11.1s\n",
      "120:\tlearn: 1252.4942564\ttotal: 1m 10s\tremaining: 5.27s\n",
      "129:\tlearn: 1241.3284214\ttotal: 1m 16s\tremaining: 0us\n",
      "Learning rate set to 0.467457\n",
      "0:\tlearn: 3117.3884131\ttotal: 573ms\tremaining: 1m 13s\n",
      "10:\tlearn: 1625.7979858\ttotal: 6.43s\tremaining: 1m 9s\n",
      "20:\tlearn: 1541.2260348\ttotal: 12.1s\tremaining: 1m 2s\n",
      "30:\tlearn: 1479.8161631\ttotal: 17.8s\tremaining: 56.8s\n",
      "40:\tlearn: 1439.2689011\ttotal: 23.5s\tremaining: 51.1s\n",
      "50:\tlearn: 1408.1814406\ttotal: 29.4s\tremaining: 45.5s\n",
      "60:\tlearn: 1379.4130179\ttotal: 35.3s\tremaining: 39.9s\n",
      "70:\tlearn: 1352.9805785\ttotal: 41.2s\tremaining: 34.2s\n",
      "80:\tlearn: 1327.6840660\ttotal: 46.8s\tremaining: 28.3s\n",
      "90:\tlearn: 1308.6398652\ttotal: 52.5s\tremaining: 22.5s\n",
      "100:\tlearn: 1290.8198426\ttotal: 58.1s\tremaining: 16.7s\n",
      "110:\tlearn: 1275.6395232\ttotal: 1m 4s\tremaining: 11s\n",
      "120:\tlearn: 1261.9280201\ttotal: 1m 9s\tremaining: 5.2s\n",
      "129:\tlearn: 1248.5909733\ttotal: 1m 15s\tremaining: 0us\n",
      "Learning rate set to 0.416117\n",
      "0:\tlearn: 3267.5500448\ttotal: 576ms\tremaining: 1m 25s\n",
      "10:\tlearn: 1652.4265999\ttotal: 6.34s\tremaining: 1m 20s\n",
      "20:\tlearn: 1568.0659328\ttotal: 12.4s\tremaining: 1m 16s\n",
      "30:\tlearn: 1507.3119924\ttotal: 18.3s\tremaining: 1m 10s\n",
      "40:\tlearn: 1460.0027030\ttotal: 24.1s\tremaining: 1m 4s\n",
      "50:\tlearn: 1424.0927005\ttotal: 29.8s\tremaining: 57.8s\n",
      "60:\tlearn: 1392.0902347\ttotal: 35.5s\tremaining: 51.8s\n",
      "70:\tlearn: 1367.9374939\ttotal: 41.3s\tremaining: 46s\n",
      "80:\tlearn: 1349.3532554\ttotal: 47.3s\tremaining: 40.3s\n",
      "90:\tlearn: 1328.5225029\ttotal: 53s\tremaining: 34.4s\n",
      "100:\tlearn: 1310.8806385\ttotal: 58.7s\tremaining: 28.5s\n",
      "110:\tlearn: 1295.6383771\ttotal: 1m 4s\tremaining: 22.6s\n",
      "120:\tlearn: 1282.4975054\ttotal: 1m 10s\tremaining: 16.8s\n",
      "130:\tlearn: 1267.9417406\ttotal: 1m 15s\tremaining: 11s\n",
      "140:\tlearn: 1256.1964582\ttotal: 1m 21s\tremaining: 5.21s\n",
      "149:\tlearn: 1243.4756992\ttotal: 1m 26s\tremaining: 0us\n",
      "Learning rate set to 0.416117\n",
      "0:\tlearn: 3267.8493828\ttotal: 581ms\tremaining: 1m 26s\n",
      "10:\tlearn: 1642.7395575\ttotal: 6.42s\tremaining: 1m 21s\n",
      "20:\tlearn: 1569.7406263\ttotal: 12.3s\tremaining: 1m 15s\n",
      "30:\tlearn: 1502.1576536\ttotal: 18.3s\tremaining: 1m 10s\n",
      "40:\tlearn: 1456.2758478\ttotal: 24.1s\tremaining: 1m 4s\n",
      "50:\tlearn: 1421.3324290\ttotal: 29.9s\tremaining: 58.1s\n",
      "60:\tlearn: 1389.0816466\ttotal: 35.8s\tremaining: 52.2s\n",
      "70:\tlearn: 1364.2553850\ttotal: 41.6s\tremaining: 46.3s\n",
      "80:\tlearn: 1341.1548876\ttotal: 47.6s\tremaining: 40.5s\n",
      "90:\tlearn: 1321.2030615\ttotal: 53.5s\tremaining: 34.7s\n",
      "100:\tlearn: 1303.3129227\ttotal: 59.5s\tremaining: 28.8s\n",
      "110:\tlearn: 1290.0776264\ttotal: 1m 5s\tremaining: 23s\n",
      "120:\tlearn: 1276.1876542\ttotal: 1m 11s\tremaining: 17.1s\n",
      "130:\tlearn: 1263.6128349\ttotal: 1m 17s\tremaining: 11.2s\n",
      "140:\tlearn: 1251.1049653\ttotal: 1m 23s\tremaining: 5.32s\n",
      "149:\tlearn: 1239.3449822\ttotal: 1m 28s\tremaining: 0us\n",
      "Learning rate set to 0.416117\n",
      "0:\tlearn: 3237.0917770\ttotal: 574ms\tremaining: 1m 25s\n",
      "10:\tlearn: 1647.2799608\ttotal: 6.42s\tremaining: 1m 21s\n",
      "20:\tlearn: 1565.5807670\ttotal: 12.3s\tremaining: 1m 15s\n",
      "30:\tlearn: 1503.2750224\ttotal: 18.5s\tremaining: 1m 10s\n",
      "40:\tlearn: 1453.8571704\ttotal: 24.5s\tremaining: 1m 5s\n",
      "50:\tlearn: 1416.6034520\ttotal: 30.4s\tremaining: 59s\n",
      "60:\tlearn: 1389.3983420\ttotal: 36.3s\tremaining: 53s\n",
      "70:\tlearn: 1363.7807833\ttotal: 42.1s\tremaining: 46.9s\n",
      "80:\tlearn: 1343.3072565\ttotal: 48.2s\tremaining: 41.1s\n",
      "90:\tlearn: 1321.5823779\ttotal: 54.2s\tremaining: 35.1s\n",
      "100:\tlearn: 1302.0269988\ttotal: 1m\tremaining: 29.2s\n",
      "110:\tlearn: 1287.7055644\ttotal: 1m 5s\tremaining: 23.1s\n",
      "120:\tlearn: 1273.3092940\ttotal: 1m 11s\tremaining: 17.2s\n",
      "130:\tlearn: 1262.7253400\ttotal: 1m 17s\tremaining: 11.3s\n",
      "140:\tlearn: 1249.0486758\ttotal: 1m 23s\tremaining: 5.34s\n",
      "149:\tlearn: 1239.2394030\ttotal: 1m 29s\tremaining: 0us\n",
      "Learning rate set to 0.416117\n",
      "0:\tlearn: 3255.7136857\ttotal: 556ms\tremaining: 1m 22s\n",
      "10:\tlearn: 1659.0908126\ttotal: 5.74s\tremaining: 1m 12s\n",
      "20:\tlearn: 1564.1145931\ttotal: 11.4s\tremaining: 1m 10s\n",
      "30:\tlearn: 1508.3761461\ttotal: 17.4s\tremaining: 1m 6s\n",
      "40:\tlearn: 1462.1161014\ttotal: 23.2s\tremaining: 1m 1s\n",
      "50:\tlearn: 1418.6770798\ttotal: 29.1s\tremaining: 56.5s\n",
      "60:\tlearn: 1388.1809165\ttotal: 34.8s\tremaining: 50.7s\n",
      "70:\tlearn: 1357.7490359\ttotal: 40.7s\tremaining: 45.3s\n",
      "80:\tlearn: 1339.8230669\ttotal: 46.5s\tremaining: 39.7s\n",
      "90:\tlearn: 1321.2642179\ttotal: 52.3s\tremaining: 33.9s\n",
      "100:\tlearn: 1303.3178639\ttotal: 58s\tremaining: 28.1s\n",
      "110:\tlearn: 1287.5106287\ttotal: 1m 3s\tremaining: 22.4s\n",
      "120:\tlearn: 1276.1019889\ttotal: 1m 9s\tremaining: 16.7s\n",
      "130:\tlearn: 1263.2099325\ttotal: 1m 15s\tremaining: 10.9s\n",
      "140:\tlearn: 1250.7862233\ttotal: 1m 21s\tremaining: 5.18s\n",
      "149:\tlearn: 1239.2788778\ttotal: 1m 26s\tremaining: 0us\n",
      "Learning rate set to 0.416117\n",
      "0:\tlearn: 3263.3818023\ttotal: 562ms\tremaining: 1m 23s\n",
      "10:\tlearn: 1647.5961641\ttotal: 6.16s\tremaining: 1m 17s\n",
      "20:\tlearn: 1558.2190416\ttotal: 12.3s\tremaining: 1m 15s\n",
      "30:\tlearn: 1502.3860573\ttotal: 18.5s\tremaining: 1m 10s\n",
      "40:\tlearn: 1462.7146109\ttotal: 24.2s\tremaining: 1m 4s\n",
      "50:\tlearn: 1429.8089671\ttotal: 30.2s\tremaining: 58.6s\n",
      "60:\tlearn: 1396.2706463\ttotal: 35.9s\tremaining: 52.4s\n",
      "70:\tlearn: 1371.2248407\ttotal: 41.7s\tremaining: 46.4s\n",
      "80:\tlearn: 1347.4119211\ttotal: 47.5s\tremaining: 40.5s\n",
      "90:\tlearn: 1329.2431446\ttotal: 53.3s\tremaining: 34.5s\n",
      "100:\tlearn: 1308.6068087\ttotal: 59s\tremaining: 28.6s\n",
      "110:\tlearn: 1291.5369935\ttotal: 1m 4s\tremaining: 22.8s\n",
      "120:\tlearn: 1274.9805538\ttotal: 1m 10s\tremaining: 16.9s\n",
      "130:\tlearn: 1264.5397147\ttotal: 1m 16s\tremaining: 11.1s\n",
      "140:\tlearn: 1250.9466288\ttotal: 1m 22s\tremaining: 5.24s\n",
      "149:\tlearn: 1241.9913508\ttotal: 1m 27s\tremaining: 0us\n",
      "Learning rate set to 0.375857\n",
      "0:\tlearn: 3386.5941962\ttotal: 575ms\tremaining: 1m 37s\n",
      "10:\tlearn: 1652.6326832\ttotal: 6.27s\tremaining: 1m 30s\n",
      "20:\tlearn: 1573.5212914\ttotal: 11.6s\tremaining: 1m 22s\n",
      "30:\tlearn: 1518.7853640\ttotal: 17.4s\tremaining: 1m 18s\n",
      "40:\tlearn: 1473.8217366\ttotal: 23.1s\tremaining: 1m 12s\n",
      "50:\tlearn: 1438.8090567\ttotal: 28.8s\tremaining: 1m 7s\n",
      "60:\tlearn: 1409.4668336\ttotal: 34.5s\tremaining: 1m 1s\n",
      "70:\tlearn: 1382.9067022\ttotal: 40.3s\tremaining: 56.1s\n",
      "80:\tlearn: 1360.8645697\ttotal: 46.4s\tremaining: 51s\n",
      "90:\tlearn: 1342.8047676\ttotal: 52.2s\tremaining: 45.3s\n",
      "100:\tlearn: 1322.8171405\ttotal: 58.1s\tremaining: 39.7s\n",
      "110:\tlearn: 1307.9681008\ttotal: 1m 3s\tremaining: 34s\n",
      "120:\tlearn: 1292.7362936\ttotal: 1m 9s\tremaining: 28.2s\n",
      "130:\tlearn: 1277.5103800\ttotal: 1m 15s\tremaining: 22.4s\n",
      "140:\tlearn: 1267.7391810\ttotal: 1m 21s\tremaining: 16.8s\n",
      "150:\tlearn: 1256.7342779\ttotal: 1m 27s\tremaining: 11s\n",
      "160:\tlearn: 1245.6063401\ttotal: 1m 33s\tremaining: 5.22s\n",
      "169:\tlearn: 1237.0498718\ttotal: 1m 38s\tremaining: 0us\n",
      "Learning rate set to 0.375857\n",
      "0:\tlearn: 3386.4929369\ttotal: 581ms\tremaining: 1m 38s\n",
      "10:\tlearn: 1653.5804792\ttotal: 6.51s\tremaining: 1m 34s\n",
      "20:\tlearn: 1569.1277107\ttotal: 12.4s\tremaining: 1m 27s\n",
      "30:\tlearn: 1514.2858800\ttotal: 18.2s\tremaining: 1m 21s\n",
      "40:\tlearn: 1467.6558503\ttotal: 24s\tremaining: 1m 15s\n",
      "50:\tlearn: 1435.0980809\ttotal: 29.9s\tremaining: 1m 9s\n",
      "60:\tlearn: 1405.8023448\ttotal: 35.7s\tremaining: 1m 3s\n",
      "70:\tlearn: 1377.6403597\ttotal: 42.1s\tremaining: 58.7s\n",
      "80:\tlearn: 1355.8452461\ttotal: 48.1s\tremaining: 52.8s\n",
      "90:\tlearn: 1339.2479440\ttotal: 54s\tremaining: 46.9s\n",
      "100:\tlearn: 1323.1429527\ttotal: 60s\tremaining: 41s\n",
      "110:\tlearn: 1306.6408701\ttotal: 1m 5s\tremaining: 35s\n",
      "120:\tlearn: 1293.1472815\ttotal: 1m 11s\tremaining: 29s\n",
      "130:\tlearn: 1281.0337846\ttotal: 1m 17s\tremaining: 23.1s\n",
      "140:\tlearn: 1269.2997351\ttotal: 1m 23s\tremaining: 17.2s\n",
      "150:\tlearn: 1255.3884275\ttotal: 1m 29s\tremaining: 11.3s\n",
      "160:\tlearn: 1245.4287336\ttotal: 1m 35s\tremaining: 5.34s\n",
      "169:\tlearn: 1236.3297343\ttotal: 1m 40s\tremaining: 0us\n",
      "Learning rate set to 0.375857\n",
      "0:\tlearn: 3359.5294702\ttotal: 535ms\tremaining: 1m 30s\n",
      "10:\tlearn: 1661.7104098\ttotal: 6.05s\tremaining: 1m 27s\n",
      "20:\tlearn: 1572.3917460\ttotal: 11.5s\tremaining: 1m 21s\n",
      "30:\tlearn: 1517.4700178\ttotal: 17.1s\tremaining: 1m 16s\n",
      "40:\tlearn: 1474.2407460\ttotal: 22.9s\tremaining: 1m 12s\n",
      "50:\tlearn: 1435.9529545\ttotal: 28.7s\tremaining: 1m 7s\n",
      "60:\tlearn: 1406.0352729\ttotal: 34.6s\tremaining: 1m 1s\n",
      "70:\tlearn: 1382.0260760\ttotal: 40.2s\tremaining: 56s\n",
      "80:\tlearn: 1359.1892306\ttotal: 45.9s\tremaining: 50.4s\n",
      "90:\tlearn: 1337.9615989\ttotal: 51.5s\tremaining: 44.7s\n",
      "100:\tlearn: 1322.4443686\ttotal: 57.5s\tremaining: 39.3s\n",
      "110:\tlearn: 1307.3330601\ttotal: 1m 3s\tremaining: 33.7s\n",
      "120:\tlearn: 1294.9244538\ttotal: 1m 8s\tremaining: 27.9s\n",
      "130:\tlearn: 1281.2838819\ttotal: 1m 14s\tremaining: 22.2s\n",
      "140:\tlearn: 1270.5190902\ttotal: 1m 20s\tremaining: 16.5s\n",
      "150:\tlearn: 1261.2356862\ttotal: 1m 25s\tremaining: 10.8s\n",
      "160:\tlearn: 1249.6227047\ttotal: 1m 31s\tremaining: 5.1s\n",
      "169:\tlearn: 1240.3177852\ttotal: 1m 36s\tremaining: 0us\n",
      "Learning rate set to 0.375857\n",
      "0:\tlearn: 3374.1670779\ttotal: 609ms\tremaining: 1m 42s\n",
      "10:\tlearn: 1667.5748017\ttotal: 6.56s\tremaining: 1m 34s\n",
      "20:\tlearn: 1566.6737312\ttotal: 12.5s\tremaining: 1m 28s\n",
      "30:\tlearn: 1512.0732645\ttotal: 18.5s\tremaining: 1m 22s\n",
      "40:\tlearn: 1469.1190113\ttotal: 24.4s\tremaining: 1m 16s\n",
      "50:\tlearn: 1429.7975373\ttotal: 30.3s\tremaining: 1m 10s\n",
      "60:\tlearn: 1402.5122963\ttotal: 36.2s\tremaining: 1m 4s\n",
      "70:\tlearn: 1380.7741069\ttotal: 42.1s\tremaining: 58.7s\n",
      "80:\tlearn: 1357.7030240\ttotal: 47.9s\tremaining: 52.6s\n",
      "90:\tlearn: 1339.3269673\ttotal: 53.7s\tremaining: 46.6s\n",
      "100:\tlearn: 1323.2983062\ttotal: 59.5s\tremaining: 40.7s\n",
      "110:\tlearn: 1305.9628213\ttotal: 1m 5s\tremaining: 34.8s\n",
      "120:\tlearn: 1291.6204883\ttotal: 1m 11s\tremaining: 29s\n",
      "130:\tlearn: 1278.4115928\ttotal: 1m 17s\tremaining: 23.1s\n",
      "140:\tlearn: 1267.8496881\ttotal: 1m 23s\tremaining: 17.2s\n",
      "150:\tlearn: 1256.4762978\ttotal: 1m 29s\tremaining: 11.2s\n",
      "160:\tlearn: 1245.9677792\ttotal: 1m 35s\tremaining: 5.31s\n",
      "169:\tlearn: 1236.0349850\ttotal: 1m 40s\tremaining: 0us\n",
      "Learning rate set to 0.375857\n",
      "0:\tlearn: 3382.2025655\ttotal: 608ms\tremaining: 1m 42s\n",
      "10:\tlearn: 1669.2630690\ttotal: 6.59s\tremaining: 1m 35s\n",
      "20:\tlearn: 1570.8736691\ttotal: 12.3s\tremaining: 1m 27s\n",
      "30:\tlearn: 1512.5814509\ttotal: 18.1s\tremaining: 1m 21s\n",
      "40:\tlearn: 1468.2269610\ttotal: 23.8s\tremaining: 1m 14s\n",
      "50:\tlearn: 1431.2353938\ttotal: 29.6s\tremaining: 1m 9s\n",
      "60:\tlearn: 1405.3596012\ttotal: 35.5s\tremaining: 1m 3s\n",
      "70:\tlearn: 1383.2604643\ttotal: 41.4s\tremaining: 57.8s\n",
      "80:\tlearn: 1362.8431053\ttotal: 47.2s\tremaining: 51.9s\n",
      "90:\tlearn: 1344.7196124\ttotal: 53s\tremaining: 46s\n",
      "100:\tlearn: 1325.9883159\ttotal: 58.9s\tremaining: 40.3s\n",
      "110:\tlearn: 1312.6753922\ttotal: 1m 4s\tremaining: 34.4s\n",
      "120:\tlearn: 1298.2787262\ttotal: 1m 10s\tremaining: 28.5s\n",
      "130:\tlearn: 1286.1604497\ttotal: 1m 16s\tremaining: 22.7s\n",
      "140:\tlearn: 1273.3613644\ttotal: 1m 21s\tremaining: 16.9s\n",
      "150:\tlearn: 1261.1453065\ttotal: 1m 27s\tremaining: 11s\n",
      "160:\tlearn: 1249.8822361\ttotal: 1m 33s\tremaining: 5.23s\n",
      "169:\tlearn: 1240.2382151\ttotal: 1m 39s\tremaining: 0us\n",
      "Learning rate set to 0.343361\n",
      "0:\tlearn: 3485.1752562\ttotal: 576ms\tremaining: 1m 48s\n",
      "10:\tlearn: 1662.2255979\ttotal: 6.34s\tremaining: 1m 43s\n",
      "20:\tlearn: 1579.2556330\ttotal: 12s\tremaining: 1m 36s\n",
      "30:\tlearn: 1520.4625329\ttotal: 17.7s\tremaining: 1m 30s\n",
      "40:\tlearn: 1482.0247976\ttotal: 23.2s\tremaining: 1m 24s\n",
      "50:\tlearn: 1448.4267326\ttotal: 28.8s\tremaining: 1m 18s\n",
      "60:\tlearn: 1418.1928995\ttotal: 34.6s\tremaining: 1m 13s\n",
      "70:\tlearn: 1397.8518725\ttotal: 40.3s\tremaining: 1m 7s\n",
      "80:\tlearn: 1377.3737477\ttotal: 46s\tremaining: 1m 1s\n",
      "90:\tlearn: 1353.6719669\ttotal: 51.6s\tremaining: 56.2s\n",
      "100:\tlearn: 1335.5938102\ttotal: 57.3s\tremaining: 50.5s\n",
      "110:\tlearn: 1319.1288028\ttotal: 1m 2s\tremaining: 44.8s\n",
      "120:\tlearn: 1302.3048934\ttotal: 1m 8s\tremaining: 39.1s\n",
      "130:\tlearn: 1288.8068178\ttotal: 1m 14s\tremaining: 33.5s\n",
      "140:\tlearn: 1276.7991751\ttotal: 1m 19s\tremaining: 27.8s\n",
      "150:\tlearn: 1264.6778410\ttotal: 1m 25s\tremaining: 22.1s\n",
      "160:\tlearn: 1253.8937797\ttotal: 1m 30s\tremaining: 16.4s\n",
      "170:\tlearn: 1244.1842554\ttotal: 1m 36s\tremaining: 10.7s\n",
      "180:\tlearn: 1235.3088715\ttotal: 1m 42s\tremaining: 5.08s\n",
      "189:\tlearn: 1226.9437649\ttotal: 1m 47s\tremaining: 0us\n",
      "Learning rate set to 0.343361\n",
      "0:\tlearn: 3484.7533267\ttotal: 561ms\tremaining: 1m 46s\n",
      "10:\tlearn: 1671.0210507\ttotal: 6.3s\tremaining: 1m 42s\n",
      "20:\tlearn: 1589.3173577\ttotal: 11.9s\tremaining: 1m 35s\n",
      "30:\tlearn: 1533.7788934\ttotal: 17.6s\tremaining: 1m 30s\n",
      "40:\tlearn: 1492.0297175\ttotal: 23.3s\tremaining: 1m 24s\n",
      "50:\tlearn: 1455.6585572\ttotal: 29.1s\tremaining: 1m 19s\n",
      "60:\tlearn: 1423.1655184\ttotal: 34.8s\tremaining: 1m 13s\n",
      "70:\tlearn: 1399.1911197\ttotal: 40.6s\tremaining: 1m 8s\n",
      "80:\tlearn: 1377.5065294\ttotal: 46.3s\tremaining: 1m 2s\n",
      "90:\tlearn: 1359.9745431\ttotal: 52s\tremaining: 56.6s\n",
      "100:\tlearn: 1342.2757386\ttotal: 57.6s\tremaining: 50.8s\n",
      "110:\tlearn: 1324.7662155\ttotal: 1m 3s\tremaining: 45s\n",
      "120:\tlearn: 1309.5491613\ttotal: 1m 8s\tremaining: 39.3s\n",
      "130:\tlearn: 1295.7754055\ttotal: 1m 14s\tremaining: 33.6s\n",
      "140:\tlearn: 1283.0718813\ttotal: 1m 20s\tremaining: 27.9s\n",
      "150:\tlearn: 1273.5263508\ttotal: 1m 26s\tremaining: 22.2s\n",
      "160:\tlearn: 1263.7129876\ttotal: 1m 31s\tremaining: 16.5s\n",
      "170:\tlearn: 1250.7127572\ttotal: 1m 37s\tremaining: 10.8s\n",
      "180:\tlearn: 1240.1406738\ttotal: 1m 42s\tremaining: 5.12s\n",
      "189:\tlearn: 1231.6499198\ttotal: 1m 48s\tremaining: 0us\n",
      "Learning rate set to 0.343361\n",
      "0:\tlearn: 3460.7804805\ttotal: 565ms\tremaining: 1m 46s\n",
      "10:\tlearn: 1673.7452124\ttotal: 6.25s\tremaining: 1m 41s\n",
      "20:\tlearn: 1584.3391678\ttotal: 11.8s\tremaining: 1m 34s\n",
      "30:\tlearn: 1534.8700378\ttotal: 17.5s\tremaining: 1m 29s\n",
      "40:\tlearn: 1489.1174005\ttotal: 23.1s\tremaining: 1m 23s\n",
      "50:\tlearn: 1450.7179519\ttotal: 28.7s\tremaining: 1m 18s\n",
      "60:\tlearn: 1420.4291552\ttotal: 34.4s\tremaining: 1m 12s\n",
      "70:\tlearn: 1394.6899292\ttotal: 40s\tremaining: 1m 7s\n",
      "80:\tlearn: 1372.7590711\ttotal: 45.7s\tremaining: 1m 1s\n",
      "90:\tlearn: 1351.4353243\ttotal: 51.4s\tremaining: 55.9s\n",
      "100:\tlearn: 1336.7622364\ttotal: 57s\tremaining: 50.2s\n",
      "110:\tlearn: 1318.7323229\ttotal: 1m 2s\tremaining: 44.5s\n",
      "120:\tlearn: 1304.0394516\ttotal: 1m 8s\tremaining: 38.9s\n",
      "130:\tlearn: 1293.3009355\ttotal: 1m 13s\tremaining: 33.2s\n",
      "140:\tlearn: 1281.1752589\ttotal: 1m 19s\tremaining: 27.8s\n",
      "150:\tlearn: 1267.5218490\ttotal: 1m 25s\tremaining: 22.1s\n",
      "160:\tlearn: 1257.1820455\ttotal: 1m 31s\tremaining: 16.4s\n",
      "170:\tlearn: 1247.0205907\ttotal: 1m 36s\tremaining: 10.8s\n",
      "180:\tlearn: 1239.2563937\ttotal: 1m 42s\tremaining: 5.09s\n",
      "189:\tlearn: 1230.4112969\ttotal: 1m 47s\tremaining: 0us\n",
      "Learning rate set to 0.343361\n",
      "0:\tlearn: 3472.2674863\ttotal: 545ms\tremaining: 1m 42s\n",
      "10:\tlearn: 1671.6944384\ttotal: 6.14s\tremaining: 1m 39s\n",
      "20:\tlearn: 1584.0411454\ttotal: 11.7s\tremaining: 1m 34s\n",
      "30:\tlearn: 1526.1397573\ttotal: 17.9s\tremaining: 1m 31s\n",
      "40:\tlearn: 1484.2856928\ttotal: 23.8s\tremaining: 1m 26s\n",
      "50:\tlearn: 1449.6300092\ttotal: 29.4s\tremaining: 1m 20s\n",
      "60:\tlearn: 1421.6102927\ttotal: 34.8s\tremaining: 1m 13s\n",
      "70:\tlearn: 1393.9882267\ttotal: 40.3s\tremaining: 1m 7s\n",
      "80:\tlearn: 1377.0401819\ttotal: 45.7s\tremaining: 1m 1s\n",
      "90:\tlearn: 1356.3398704\ttotal: 51.2s\tremaining: 55.7s\n",
      "100:\tlearn: 1339.3929947\ttotal: 56.8s\tremaining: 50.1s\n",
      "110:\tlearn: 1325.7728526\ttotal: 1m 2s\tremaining: 44.4s\n",
      "120:\tlearn: 1311.0814497\ttotal: 1m 8s\tremaining: 38.9s\n",
      "130:\tlearn: 1298.7057322\ttotal: 1m 14s\tremaining: 33.3s\n",
      "140:\tlearn: 1284.6312139\ttotal: 1m 20s\tremaining: 27.8s\n",
      "150:\tlearn: 1272.5355887\ttotal: 1m 25s\tremaining: 22.2s\n",
      "160:\tlearn: 1262.3411193\ttotal: 1m 31s\tremaining: 16.5s\n",
      "170:\tlearn: 1251.8006877\ttotal: 1m 37s\tremaining: 10.8s\n",
      "180:\tlearn: 1241.9491882\ttotal: 1m 43s\tremaining: 5.14s\n",
      "189:\tlearn: 1233.5429270\ttotal: 1m 48s\tremaining: 0us\n",
      "Learning rate set to 0.343361\n",
      "0:\tlearn: 3480.5970053\ttotal: 569ms\tremaining: 1m 47s\n",
      "10:\tlearn: 1667.8728212\ttotal: 6.34s\tremaining: 1m 43s\n",
      "20:\tlearn: 1583.5053807\ttotal: 12.2s\tremaining: 1m 37s\n",
      "30:\tlearn: 1529.0657813\ttotal: 18.1s\tremaining: 1m 32s\n",
      "40:\tlearn: 1484.1582597\ttotal: 24s\tremaining: 1m 27s\n",
      "50:\tlearn: 1452.9578258\ttotal: 29.6s\tremaining: 1m 20s\n",
      "60:\tlearn: 1420.6416350\ttotal: 35.3s\tremaining: 1m 14s\n",
      "70:\tlearn: 1393.2264678\ttotal: 41.3s\tremaining: 1m 9s\n",
      "80:\tlearn: 1374.2939665\ttotal: 46.9s\tremaining: 1m 3s\n",
      "90:\tlearn: 1355.4848019\ttotal: 52.6s\tremaining: 57.3s\n",
      "100:\tlearn: 1337.8789822\ttotal: 58.5s\tremaining: 51.5s\n",
      "110:\tlearn: 1320.5849000\ttotal: 1m 4s\tremaining: 46s\n",
      "120:\tlearn: 1308.7020293\ttotal: 1m 10s\tremaining: 40s\n",
      "130:\tlearn: 1295.3638933\ttotal: 1m 15s\tremaining: 34.1s\n",
      "140:\tlearn: 1283.9491170\ttotal: 1m 21s\tremaining: 28.3s\n",
      "150:\tlearn: 1271.5201080\ttotal: 1m 27s\tremaining: 22.5s\n",
      "160:\tlearn: 1259.4612518\ttotal: 1m 32s\tremaining: 16.7s\n",
      "170:\tlearn: 1248.3979601\ttotal: 1m 38s\tremaining: 11s\n",
      "180:\tlearn: 1239.1764088\ttotal: 1m 44s\tremaining: 5.18s\n",
      "189:\tlearn: 1231.0838243\ttotal: 1m 49s\tremaining: 0us\n",
      "Learning rate set to 0.355683\n",
      "0:\tlearn: 3424.7178928\ttotal: 569ms\tremaining: 1m 47s\n",
      "10:\tlearn: 1671.1909669\ttotal: 6.3s\tremaining: 1m 42s\n",
      "20:\tlearn: 1577.2337218\ttotal: 12s\tremaining: 1m 36s\n",
      "30:\tlearn: 1526.9328513\ttotal: 17.3s\tremaining: 1m 28s\n",
      "40:\tlearn: 1492.7279055\ttotal: 23.2s\tremaining: 1m 24s\n",
      "50:\tlearn: 1457.5429419\ttotal: 29s\tremaining: 1m 19s\n",
      "60:\tlearn: 1427.6512029\ttotal: 34.8s\tremaining: 1m 13s\n",
      "70:\tlearn: 1406.2256148\ttotal: 40.4s\tremaining: 1m 7s\n",
      "80:\tlearn: 1383.9890676\ttotal: 46.2s\tremaining: 1m 2s\n",
      "90:\tlearn: 1364.0500027\ttotal: 51.9s\tremaining: 56.5s\n",
      "100:\tlearn: 1347.9278018\ttotal: 57.7s\tremaining: 50.8s\n",
      "110:\tlearn: 1333.5316441\ttotal: 1m 3s\tremaining: 45.3s\n",
      "120:\tlearn: 1319.9866348\ttotal: 1m 9s\tremaining: 39.7s\n",
      "130:\tlearn: 1308.6288356\ttotal: 1m 15s\tremaining: 34s\n",
      "140:\tlearn: 1296.1473291\ttotal: 1m 21s\tremaining: 28.3s\n",
      "150:\tlearn: 1285.7954342\ttotal: 1m 27s\tremaining: 22.5s\n",
      "160:\tlearn: 1274.7024184\ttotal: 1m 32s\tremaining: 16.7s\n",
      "170:\tlearn: 1263.5041627\ttotal: 1m 38s\tremaining: 10.9s\n",
      "180:\tlearn: 1252.8234163\ttotal: 1m 43s\tremaining: 5.16s\n",
      "189:\tlearn: 1245.9716340\ttotal: 1m 49s\tremaining: 0us\n",
      "{'depth': 15, 'iterations': 190}\n",
      "\n",
      "Время в формате h-m-s-ms : 00:54:23:368\n",
      "\n"
     ]
    }
   ],
   "source": [
    "start_fit_cat  = time.time()\n",
    "\n",
    "model_cat = CatBoostRegressor(random_state=12345, loss_function='RMSE')\n",
    "parametrs = {'depth': range (5, 20, 5),\n",
    "             'iterations': range (50, 201, 20)\n",
    "            }\n",
    "grid_cat = GridSearchCV(model_cat, parametrs, cv = None)\n",
    "grid_cat.fit(features_train, target_train, verbose=10)\n",
    "print(grid_cat.best_params_)\n",
    "print()\n",
    "end_time_fit_cat  = time.time() - start_fit_cat\n",
    "end_time_fit_cat = convert_to_preferred_format(end_time_fit_cat  * 1000)\n",
    "\n",
    "print(\"Время в формате h-m-s-ms :\", end_time_fit_cat)\n",
    "print()\n"
   ]
  },
  {
   "cell_type": "code",
   "execution_count": 50,
   "metadata": {},
   "outputs": [
    {
     "name": "stdout",
     "output_type": "stream",
     "text": [
      "CatBoost:\n",
      "RMSE: 1506.01\n",
      "\n",
      "Время в формате h-m-s-ms : 00:00:00:177\n",
      "\n"
     ]
    }
   ],
   "source": [
    "start_pred_cat  = time.time()\n",
    "\n",
    "predicted_valid = grid_cat.predict(features_valid)\n",
    "rmse_cat  = rmse(target_valid, predicted_valid)\n",
    "print('CatBoost:')\n",
    "print('RMSE: {:.2f}'.format(rmse_cat))\n",
    "\n",
    "print()\n",
    "end_time_pred_cat  = time.time() - start_pred_cat \n",
    "end_time_pred_cat = convert_to_preferred_format(end_time_pred_cat  * 1000)\n",
    "print(\"Время в формате h-m-s-ms :\", end_time_pred_cat)\n",
    "print()"
   ]
  },
  {
   "cell_type": "markdown",
   "metadata": {},
   "source": [
    "Обучение шло в районе часа. Предсказание по прежнему не превышает секунды. И пока мы получили лучший показатель RMSE- 1506.01"
   ]
  },
  {
   "cell_type": "markdown",
   "metadata": {},
   "source": [
    "### LGBM"
   ]
  },
  {
   "cell_type": "markdown",
   "metadata": {},
   "source": [
    "Последней обучим модель LGBMRegressor. Гиперпараметры опять будем подбирать с помощью GridSearchCV. Как и многие бустинги эта модель хорошо работает с большим количеством деревьев."
   ]
  },
  {
   "cell_type": "code",
   "execution_count": 51,
   "metadata": {},
   "outputs": [
    {
     "name": "stdout",
     "output_type": "stream",
     "text": [
      "{'max_depth': 14, 'n_estimators': 1000}\n",
      "\n",
      "Время в формате h-m-s-ms : 01:51:35:901\n",
      "\n"
     ]
    }
   ],
   "source": [
    "start_fit_lgbm  = time.time()\n",
    "\n",
    "est_list = []\n",
    "depth_list = []\n",
    "for est in range(600, 1001, 200):\n",
    "    est_list.append(est) \n",
    "for depth in range(5, 16, 3):\n",
    "        depth_list.append(depth)\n",
    "     \n",
    "    \n",
    "params = {'max_depth': depth_list, \n",
    "          'n_estimators': est_list \n",
    "              }\n",
    "model_lgbm = LGBMRegressor(random_state=12345)\n",
    "            \n",
    "grid_lgbm = GridSearchCV(model_lgbm, params, cv = None)\n",
    "grid_lgbm.fit(features_train, target_train)\n",
    "#grid_lgbm.fit(features_train, target_train, verbose=10)\n",
    "print(grid_lgbm.best_params_)\n",
    "print()\n",
    "end_time_fit_lgbm  = time.time() - start_fit_lgbm\n",
    "end_time_fit_lgbm = convert_to_preferred_format(end_time_fit_lgbm  * 1000)\n",
    "\n",
    "print(\"Время в формате h-m-s-ms :\", end_time_fit_lgbm)\n",
    "print()"
   ]
  },
  {
   "cell_type": "code",
   "execution_count": 52,
   "metadata": {},
   "outputs": [
    {
     "name": "stdout",
     "output_type": "stream",
     "text": [
      "LGBMRegressor:\n",
      "RMSE: 1513.86\n",
      "\n",
      "Время в формате h-m-s-ms : 00:00:06:543\n",
      "\n"
     ]
    }
   ],
   "source": [
    "start_pred_lgbm  = time.time()\n",
    "\n",
    "predicted_valid = grid_lgbm.predict(features_valid)\n",
    "rmse_lgbm  = rmse(target_valid, predicted_valid)\n",
    "print('LGBMRegressor:')\n",
    "print('RMSE: {:.2f}'.format(rmse_lgbm))\n",
    "\n",
    "print()\n",
    "end_time_pred_lgbm  = time.time() - start_pred_lgbm \n",
    "end_time_pred_lgbm = convert_to_preferred_format(end_time_pred_lgbm  * 1000)\n",
    "print(\"Время в формате h-m-s-ms :\", end_time_pred_lgbm)\n",
    "print()"
   ]
  },
  {
   "cell_type": "markdown",
   "metadata": {},
   "source": [
    "Обучение заняло в районе 2-х часов. Предсказание 7 секунд, дольше, чем у многих других моделей. RMSE -1513,86"
   ]
  },
  {
   "cell_type": "markdown",
   "metadata": {},
   "source": [
    "## Анализ моделей"
   ]
  },
  {
   "cell_type": "markdown",
   "metadata": {},
   "source": [
    "В предыдущем разделе мы обучили несколько моделей и сделали по ним предсказания. Далее сведем все данные в одну таблицу и посмотрим результат:"
   ]
  },
  {
   "cell_type": "code",
   "execution_count": 53,
   "metadata": {},
   "outputs": [
    {
     "name": "stdout",
     "output_type": "stream",
     "text": [
      "Результаты RMSE  моделей и время их работы\n"
     ]
    },
    {
     "data": {
      "text/html": [
       "<div>\n",
       "<style scoped>\n",
       "    .dataframe tbody tr th:only-of-type {\n",
       "        vertical-align: middle;\n",
       "    }\n",
       "\n",
       "    .dataframe tbody tr th {\n",
       "        vertical-align: top;\n",
       "    }\n",
       "\n",
       "    .dataframe thead th {\n",
       "        text-align: right;\n",
       "    }\n",
       "</style>\n",
       "<table border=\"1\" class=\"dataframe\">\n",
       "  <thead>\n",
       "    <tr style=\"text-align: right;\">\n",
       "      <th></th>\n",
       "      <th>RSME</th>\n",
       "      <th>Время обучения</th>\n",
       "      <th>Время предсказания</th>\n",
       "    </tr>\n",
       "  </thead>\n",
       "  <tbody>\n",
       "    <tr>\n",
       "      <th>Дерево решений</th>\n",
       "      <td>2005.077817</td>\n",
       "      <td>00:01:05:722</td>\n",
       "      <td>00:00:00:102</td>\n",
       "    </tr>\n",
       "    <tr>\n",
       "      <th>Линейная регрессия</th>\n",
       "      <td>2550.616011</td>\n",
       "      <td>00:00:28:020</td>\n",
       "      <td>00:00:00:188</td>\n",
       "    </tr>\n",
       "    <tr>\n",
       "      <th>Модель Лассо</th>\n",
       "      <td>2588.025861</td>\n",
       "      <td>00:03:47:588</td>\n",
       "      <td>00:00:00:241</td>\n",
       "    </tr>\n",
       "    <tr>\n",
       "      <th>Случайный лес</th>\n",
       "      <td>1586.503962</td>\n",
       "      <td>01:13:02:160</td>\n",
       "      <td>00:00:00:749</td>\n",
       "    </tr>\n",
       "    <tr>\n",
       "      <th>CatBoost</th>\n",
       "      <td>1506.006257</td>\n",
       "      <td>00:54:23:368</td>\n",
       "      <td>00:00:00:177</td>\n",
       "    </tr>\n",
       "    <tr>\n",
       "      <th>LGBM</th>\n",
       "      <td>1513.859796</td>\n",
       "      <td>01:51:35:901</td>\n",
       "      <td>00:00:06:543</td>\n",
       "    </tr>\n",
       "  </tbody>\n",
       "</table>\n",
       "</div>"
      ],
      "text/plain": [
       "                           RSME Время обучения Время предсказания\n",
       "Дерево решений      2005.077817   00:01:05:722       00:00:00:102\n",
       "Линейная регрессия  2550.616011   00:00:28:020       00:00:00:188\n",
       "Модель Лассо        2588.025861   00:03:47:588       00:00:00:241\n",
       "Случайный лес       1586.503962   01:13:02:160       00:00:00:749\n",
       "CatBoost            1506.006257   00:54:23:368       00:00:00:177\n",
       "LGBM                1513.859796   01:51:35:901       00:00:06:543"
      ]
     },
     "metadata": {},
     "output_type": "display_data"
    }
   ],
   "source": [
    "score_data = {'RSME': [rmse_dtr , rmse_lr, rmse_lasso, rmse_rfg, rmse_cat, rmse_lgbm],\n",
    "             'Время обучения': [end_time_fit_dtr, end_time_fit_lr, end_time_fit_lasso, end_time_fit_rfg, end_time_fit_cat, end_time_fit_lgbm],\n",
    "              'Время предсказания': [end_time_pred_dtr, end_time_pred_lr, end_time_pred_lasso, end_time_pred_rfg, end_time_pred_cat, end_time_pred_lgbm]\n",
    "             }\n",
    "score_df = pd.DataFrame(score_data, index = ['Дерево решений', 'Линейная регрессия', 'Модель Лассо', 'Случайный лес', 'CatBoost', 'LGBM'])\n",
    "\n",
    "print('Результаты RMSE  моделей и время их работы')\n",
    "display(score_df)"
   ]
  },
  {
   "cell_type": "markdown",
   "metadata": {},
   "source": [
    "Итак самой быстрой оказалась линейная регрессия, но показатель RMSE достаточно высокий. Неплохое сочетание качества и скорости дает дерево решений. Но помня о том, что эта модель очень легко переобучается, не стоит рассматривать ее как перспективную для нашего анализа. Случайный лес с подбором гиперпараметров, показал очень хороший результат RMSE, но при этом сам подбор гиперпараметров и обучение заняли очень много времени. Лидером по показателю качества предсказания стала модель CatBoost. При этом скорость предсказания у нее невысокая (около 200 миллисекунд). Однако подбор гиперпараметров и обучение шли достаточно долго (в районе часа). С небольшим отставанием в качестве за ней следует модель LGBM (RMSE = 1513,9). Не смотря на то, что интервал для подбора гиперпараметров задан достаточно небольшой большой, эта модель обучилась медленнее остальных, чем CatBoost, но время отклика предсказания больше, чем у всех остальных. "
   ]
  },
  {
   "cell_type": "markdown",
   "metadata": {},
   "source": [
    "Проанализировав полученные данные, предлагаю как основную использовать модель CatBoost. Проверим ее на тестовой выборке."
   ]
  },
  {
   "cell_type": "code",
   "execution_count": 54,
   "metadata": {},
   "outputs": [
    {
     "name": "stdout",
     "output_type": "stream",
     "text": [
      "CatBoost:\n",
      "RMSE: 1510.77\n",
      "\n",
      "Время в формате h-m-s-ms : 00:00:00:127\n",
      "\n"
     ]
    }
   ],
   "source": [
    "start_pred_cat_test  = time.time()\n",
    "\n",
    "predicted_test = grid_cat.predict(features_test)\n",
    "rmse_cat_test  = rmse(target_test, predicted_test)\n",
    "print('CatBoost:')\n",
    "print('RMSE: {:.2f}'.format(rmse_cat_test))\n",
    "\n",
    "print()\n",
    "end_time_pred_cat_test  = time.time() - start_pred_cat_test \n",
    "end_time_pred_cat_test = convert_to_preferred_format(end_time_pred_cat_test  * 1000)\n",
    "print(\"Время в формате h-m-s-ms :\", end_time_pred_cat_test)\n",
    "print()"
   ]
  },
  {
   "cell_type": "markdown",
   "metadata": {},
   "source": [
    "Показатель качества достаточно хороший. Время предсказания не высокое (менее 160 миллисекунд). Показания немного хуже, чем на валидационной выборке, но не значительно."
   ]
  },
  {
   "cell_type": "markdown",
   "metadata": {},
   "source": [
    "## Общий вывод"
   ]
  },
  {
   "cell_type": "markdown",
   "metadata": {},
   "source": [
    "Целью нашего проекта было на основании исторических данных обучить несколько моделей и найти ту, которая предсказывала бы стоимость автомобилей с минимальной ошибкой и при этом тратила бы на предсказание не большое время."
   ]
  },
  {
   "cell_type": "markdown",
   "metadata": {},
   "source": [
    "Мы посмотрели предоставленные для анализа данные и выявили несколько ошибок и неточностей:\n",
    "- есть четыре полностью дублирующиеся строки.\n",
    "- в данных пропущены значения некоторых признаков.\n",
    "- неверный тип данных в столбцах с датами\n",
    "- категориальные признаки имеют тип object\n",
    "- в данных есть выбросы."
   ]
  },
  {
   "cell_type": "markdown",
   "metadata": {},
   "source": [
    "На втором этапе мы провели предобработку данных.\n",
    "- в датах заменили тип на Datetime (данный столбцы не учавствуют в построении модели, но мы их обработали, потому что в какой-то момент, построение моделей может оказаться не конечной целью и чтобы не прободить предобработку заново, делаем это сразу)\n",
    "- названия столбцов написаны в нижнем регистре (для удобства)\n",
    "- полностью дублирующиеся строки удалили\n",
    "- строки, где пропущено название модели удалены, поскольку восстановить информацию не представляется возможным, а это один из ключевых признаков определяющих стоимость автомобиля\n",
    "- пропуски в столбцах с типом кузова и коробкой передач заменили на \"unknown\", т.к у одной и той же модели могут быть разные коробки передач и вид кузова. Информацию о том, был ли ремонт или нет, восстановить не возможно, поэтому тоже заменили на \"unknown\"\n",
    "- в столбце с пропущенным видом топлива заменили пропуски на наиболее часто встречающееся значение для данной модели. Но перед - этим исправили дубликаты в названиях топлива. В списке встречались два разных написания бензина: gasoline и petrol.\n",
    "- обработали столбец с годом регистрации автомобиля. Где прослеживается логика, там заменили значения. Сразу определились, что дата регистрации автомобиля не может быть больше 2016г, т.к. данные для исследования загружены из базы данных как раз в 2016г. Нижней границей взяли 1950 г. Также в некоторых явно ошибочных значениях прослеживалась некоторая логика. Например вероятнее всего, когда человек вносил 2010 г., он просто поставил 10, а система восприняла это как 1000.Установили допустимый интервал регистрации автомобилей с 1950 по 2016 г. Все остальные значения отсекли как выбросы.\n",
    "- проанализировали мощность автомобилей. На основе данных полученных из дополнительных источников, ограничили интервал диапазоном 29-600 л.с. Все остальные значения удалили.\n",
    "- в последнюю очередь обработали строки с ценой, убрав из выборки строки с \"сомнительной\" ценой. При этом придерживались следующей позиции, что еще несколько лет назад было принято указывать цену в договоре купли-продажи 10000 руб. (примерно 133 евро в ценах 2016г. (курс евро на 2016г примерно 75 руб за евро)), чтобы не было проблемм с налоговой. Нижней границей установили 100 евро (сделаем поправку на колебание курса евро). Верхнюю планку исправлять не стали, потому, что цена в 20000 евро, вполне могла быть на автомобили."
   ]
  },
  {
   "cell_type": "markdown",
   "metadata": {},
   "source": [
    "Далее мы обучили 6 моделей: Дерево решений, линейную регрессию, модель Лассо, Случайный лес, CatBoost, LGBM. В большинстве случаев, за исключением линейной регрессии и модели Лассо мы подбирали гиперпараметры с помощью GridSearchCV, а у Случайного леса использовали RandomizedSearchCV. В качестве метрики качества использовали корень из среднеквадратичной ошибки (RMSE). Отдельно посчитали время, затрачиваемое на обучение и отдельно на предсказание. Лидером по качеству оказалась модель CatBoost. Лидером по скорости обучения и предсказания - линейная регрессия."
   ]
  },
  {
   "cell_type": "markdown",
   "metadata": {},
   "source": [
    "Проанализировав полученные метрики, я пришла к выводу, что не смотря на большое время, затрачиваемое на обучение, модель  CatBoost лучше всех подходит для решения поставленной задачи. Результат, который показывает эта модель на тестовой выборке, нас вполне удовлетворяет - он совсем не значительно отличается от результата полученного на валидационной выборке."
   ]
  },
  {
   "cell_type": "code",
   "execution_count": 55,
   "metadata": {},
   "outputs": [
    {
     "name": "stdout",
     "output_type": "stream",
     "text": [
      "Результаты RMSE  моделей и время их работы\n"
     ]
    },
    {
     "data": {
      "text/html": [
       "<div>\n",
       "<style scoped>\n",
       "    .dataframe tbody tr th:only-of-type {\n",
       "        vertical-align: middle;\n",
       "    }\n",
       "\n",
       "    .dataframe tbody tr th {\n",
       "        vertical-align: top;\n",
       "    }\n",
       "\n",
       "    .dataframe thead th {\n",
       "        text-align: right;\n",
       "    }\n",
       "</style>\n",
       "<table border=\"1\" class=\"dataframe\">\n",
       "  <thead>\n",
       "    <tr style=\"text-align: right;\">\n",
       "      <th></th>\n",
       "      <th>RSME</th>\n",
       "      <th>Время обучения</th>\n",
       "      <th>Время предсказания</th>\n",
       "    </tr>\n",
       "  </thead>\n",
       "  <tbody>\n",
       "    <tr>\n",
       "      <th>Дерево решений</th>\n",
       "      <td>2005.077817</td>\n",
       "      <td>00:01:05:722</td>\n",
       "      <td>00:00:00:102</td>\n",
       "    </tr>\n",
       "    <tr>\n",
       "      <th>Линейная регрессия</th>\n",
       "      <td>2550.616011</td>\n",
       "      <td>00:00:28:020</td>\n",
       "      <td>00:00:00:188</td>\n",
       "    </tr>\n",
       "    <tr>\n",
       "      <th>Модель Лассо</th>\n",
       "      <td>2588.025861</td>\n",
       "      <td>00:03:47:588</td>\n",
       "      <td>00:00:00:241</td>\n",
       "    </tr>\n",
       "    <tr>\n",
       "      <th>Случайный лес</th>\n",
       "      <td>1586.503962</td>\n",
       "      <td>01:13:02:160</td>\n",
       "      <td>00:00:00:749</td>\n",
       "    </tr>\n",
       "    <tr>\n",
       "      <th>LGBM</th>\n",
       "      <td>1513.859796</td>\n",
       "      <td>01:51:35:901</td>\n",
       "      <td>00:00:06:543</td>\n",
       "    </tr>\n",
       "    <tr>\n",
       "      <th>CatBoost</th>\n",
       "      <td>1506.006257</td>\n",
       "      <td>00:54:23:368</td>\n",
       "      <td>00:00:00:177</td>\n",
       "    </tr>\n",
       "    <tr>\n",
       "      <th>CatBoost тест</th>\n",
       "      <td>1510.766667</td>\n",
       "      <td>-</td>\n",
       "      <td>00:00:00:127</td>\n",
       "    </tr>\n",
       "  </tbody>\n",
       "</table>\n",
       "</div>"
      ],
      "text/plain": [
       "                           RSME Время обучения Время предсказания\n",
       "Дерево решений      2005.077817   00:01:05:722       00:00:00:102\n",
       "Линейная регрессия  2550.616011   00:00:28:020       00:00:00:188\n",
       "Модель Лассо        2588.025861   00:03:47:588       00:00:00:241\n",
       "Случайный лес       1586.503962   01:13:02:160       00:00:00:749\n",
       "LGBM                1513.859796   01:51:35:901       00:00:06:543\n",
       "CatBoost            1506.006257   00:54:23:368       00:00:00:177\n",
       "CatBoost тест       1510.766667              -       00:00:00:127"
      ]
     },
     "metadata": {},
     "output_type": "display_data"
    }
   ],
   "source": [
    "score_data = {'RSME': [rmse_dtr , rmse_lr, rmse_lasso, rmse_rfg, rmse_lgbm, rmse_cat, rmse_cat_test],\n",
    "             'Время обучения': [end_time_fit_dtr, end_time_fit_lr, end_time_fit_lasso, end_time_fit_rfg, end_time_fit_lgbm, end_time_fit_cat, '-'], \n",
    "              'Время предсказания': [end_time_pred_dtr, end_time_pred_lr, end_time_pred_lasso, end_time_pred_rfg, end_time_pred_lgbm, end_time_pred_cat, end_time_pred_cat_test ]\n",
    "             }\n",
    "score_df = pd.DataFrame(score_data, index = ['Дерево решений', 'Линейная регрессия', 'Модель Лассо', 'Случайный лес', 'LGBM', 'CatBoost', 'CatBoost тест'])\n",
    "\n",
    "print('Результаты RMSE  моделей и время их работы')\n",
    "display(score_df)"
   ]
  },
  {
   "cell_type": "code",
   "execution_count": null,
   "metadata": {},
   "outputs": [],
   "source": []
  }
 ],
 "metadata": {
  "ExecuteTimeLog": [
   {
    "duration": 502,
    "start_time": "2022-05-18T19:55:42.040Z"
   },
   {
    "duration": 1170,
    "start_time": "2022-05-18T19:56:42.141Z"
   },
   {
    "duration": 23,
    "start_time": "2022-05-18T19:57:04.416Z"
   },
   {
    "duration": 134,
    "start_time": "2022-05-18T19:57:23.288Z"
   },
   {
    "duration": 458,
    "start_time": "2022-05-18T19:57:58.070Z"
   },
   {
    "duration": 73,
    "start_time": "2022-05-18T19:59:21.886Z"
   },
   {
    "duration": 127,
    "start_time": "2022-05-18T20:00:09.997Z"
   },
   {
    "duration": 13,
    "start_time": "2022-05-18T20:01:10.701Z"
   },
   {
    "duration": 77,
    "start_time": "2022-05-18T20:01:31.868Z"
   },
   {
    "duration": 21,
    "start_time": "2022-05-18T20:05:12.251Z"
   },
   {
    "duration": 18,
    "start_time": "2022-05-18T20:05:46.565Z"
   },
   {
    "duration": 26,
    "start_time": "2022-05-18T20:06:28.741Z"
   },
   {
    "duration": 22,
    "start_time": "2022-05-18T20:07:40.372Z"
   },
   {
    "duration": 31,
    "start_time": "2022-05-18T20:09:23.866Z"
   },
   {
    "duration": 33,
    "start_time": "2022-05-18T20:09:37.078Z"
   },
   {
    "duration": 23,
    "start_time": "2022-05-18T20:09:42.249Z"
   },
   {
    "duration": 37,
    "start_time": "2022-05-18T20:10:36.164Z"
   },
   {
    "duration": 35,
    "start_time": "2022-05-18T20:10:43.170Z"
   },
   {
    "duration": 22,
    "start_time": "2022-05-18T20:12:35.443Z"
   },
   {
    "duration": 21,
    "start_time": "2022-05-18T20:20:48.091Z"
   },
   {
    "duration": 28,
    "start_time": "2022-05-18T20:29:00.810Z"
   },
   {
    "duration": 24,
    "start_time": "2022-05-18T20:29:12.198Z"
   },
   {
    "duration": 2,
    "start_time": "2022-05-18T20:31:14.092Z"
   },
   {
    "duration": 25,
    "start_time": "2022-05-18T20:31:25.064Z"
   },
   {
    "duration": 40,
    "start_time": "2022-05-18T20:31:30.619Z"
   },
   {
    "duration": 416,
    "start_time": "2022-05-18T20:35:03.857Z"
   },
   {
    "duration": 32,
    "start_time": "2022-05-18T20:37:47.556Z"
   },
   {
    "duration": 348,
    "start_time": "2022-05-18T20:38:09.478Z"
   },
   {
    "duration": 353,
    "start_time": "2022-05-18T20:38:21.667Z"
   },
   {
    "duration": 63,
    "start_time": "2022-05-18T20:39:40.188Z"
   },
   {
    "duration": 1821,
    "start_time": "2022-05-19T20:07:48.218Z"
   },
   {
    "duration": 1262,
    "start_time": "2022-05-19T20:07:50.042Z"
   },
   {
    "duration": 20,
    "start_time": "2022-05-19T20:07:51.306Z"
   },
   {
    "duration": 168,
    "start_time": "2022-05-19T20:07:51.328Z"
   },
   {
    "duration": 150,
    "start_time": "2022-05-19T20:07:51.499Z"
   },
   {
    "duration": 4,
    "start_time": "2022-05-19T20:18:28.424Z"
   },
   {
    "duration": 991,
    "start_time": "2022-05-19T20:18:28.430Z"
   },
   {
    "duration": 14,
    "start_time": "2022-05-19T20:18:29.423Z"
   },
   {
    "duration": 148,
    "start_time": "2022-05-19T20:18:29.439Z"
   },
   {
    "duration": 2,
    "start_time": "2022-05-19T20:18:29.590Z"
   },
   {
    "duration": 15,
    "start_time": "2022-05-19T20:18:29.594Z"
   },
   {
    "duration": 3,
    "start_time": "2022-05-19T20:18:44.452Z"
   },
   {
    "duration": 13,
    "start_time": "2022-05-19T20:18:45.099Z"
   },
   {
    "duration": 12,
    "start_time": "2022-05-19T20:19:23.248Z"
   },
   {
    "duration": 9,
    "start_time": "2022-05-19T20:19:36.527Z"
   },
   {
    "duration": 13,
    "start_time": "2022-05-19T20:19:47.247Z"
   },
   {
    "duration": 267,
    "start_time": "2022-05-19T20:20:42.507Z"
   },
   {
    "duration": 277,
    "start_time": "2022-05-19T20:20:59.720Z"
   },
   {
    "duration": 331,
    "start_time": "2022-05-19T20:21:00.709Z"
   },
   {
    "duration": 288,
    "start_time": "2022-05-19T20:21:01.827Z"
   },
   {
    "duration": 380,
    "start_time": "2022-05-19T20:21:03.560Z"
   },
   {
    "duration": 526,
    "start_time": "2022-05-19T20:22:17.858Z"
   },
   {
    "duration": 1247,
    "start_time": "2022-05-20T17:03:56.193Z"
   },
   {
    "duration": 3237,
    "start_time": "2022-05-20T17:03:57.442Z"
   },
   {
    "duration": 20,
    "start_time": "2022-05-20T17:04:00.680Z"
   },
   {
    "duration": 134,
    "start_time": "2022-05-20T17:04:00.701Z"
   },
   {
    "duration": 282,
    "start_time": "2022-05-20T17:04:00.838Z"
   },
   {
    "duration": 371,
    "start_time": "2022-05-20T17:04:01.122Z"
   },
   {
    "duration": 322,
    "start_time": "2022-05-20T17:04:01.494Z"
   },
   {
    "duration": 279,
    "start_time": "2022-05-20T17:04:01.818Z"
   },
   {
    "duration": 307,
    "start_time": "2022-05-20T17:04:02.099Z"
   },
   {
    "duration": 447,
    "start_time": "2022-05-20T17:04:02.408Z"
   },
   {
    "duration": 121,
    "start_time": "2022-05-20T17:04:02.857Z"
   },
   {
    "duration": 88,
    "start_time": "2022-05-20T17:04:02.980Z"
   },
   {
    "duration": 141,
    "start_time": "2022-05-20T17:04:03.070Z"
   },
   {
    "duration": 30,
    "start_time": "2022-05-20T17:04:34.826Z"
   },
   {
    "duration": 4,
    "start_time": "2022-05-20T17:04:41.717Z"
   },
   {
    "duration": 43,
    "start_time": "2022-05-20T17:04:53.330Z"
   },
   {
    "duration": 26,
    "start_time": "2022-05-20T17:10:56.925Z"
   },
   {
    "duration": 26,
    "start_time": "2022-05-20T17:11:03.879Z"
   },
   {
    "duration": 71,
    "start_time": "2022-05-20T17:11:11.457Z"
   },
   {
    "duration": 36,
    "start_time": "2022-05-20T17:11:44.528Z"
   },
   {
    "duration": 4,
    "start_time": "2022-05-20T17:16:09.830Z"
   },
   {
    "duration": 786,
    "start_time": "2022-05-20T17:16:09.835Z"
   },
   {
    "duration": 13,
    "start_time": "2022-05-20T17:16:10.623Z"
   },
   {
    "duration": 138,
    "start_time": "2022-05-20T17:16:10.637Z"
   },
   {
    "duration": 241,
    "start_time": "2022-05-20T17:16:10.777Z"
   },
   {
    "duration": 313,
    "start_time": "2022-05-20T17:16:11.019Z"
   },
   {
    "duration": 302,
    "start_time": "2022-05-20T17:16:11.335Z"
   },
   {
    "duration": 247,
    "start_time": "2022-05-20T17:16:11.639Z"
   },
   {
    "duration": 286,
    "start_time": "2022-05-20T17:16:11.887Z"
   },
   {
    "duration": 392,
    "start_time": "2022-05-20T17:16:12.175Z"
   },
   {
    "duration": 122,
    "start_time": "2022-05-20T17:16:12.569Z"
   },
   {
    "duration": 74,
    "start_time": "2022-05-20T17:16:12.693Z"
   },
   {
    "duration": 36,
    "start_time": "2022-05-20T17:16:12.768Z"
   },
   {
    "duration": 22,
    "start_time": "2022-05-20T17:18:57.880Z"
   },
   {
    "duration": 22,
    "start_time": "2022-05-20T17:19:06.776Z"
   },
   {
    "duration": 28,
    "start_time": "2022-05-20T17:19:23.972Z"
   },
   {
    "duration": 9,
    "start_time": "2022-05-20T17:19:25.951Z"
   },
   {
    "duration": 29,
    "start_time": "2022-05-20T17:20:59.962Z"
   },
   {
    "duration": 18,
    "start_time": "2022-05-20T17:21:00.633Z"
   },
   {
    "duration": 16,
    "start_time": "2022-05-20T17:21:29.223Z"
   },
   {
    "duration": 15,
    "start_time": "2022-05-20T17:22:18.644Z"
   },
   {
    "duration": 35,
    "start_time": "2022-05-20T17:33:13.728Z"
   },
   {
    "duration": 44,
    "start_time": "2022-05-20T17:33:20.715Z"
   },
   {
    "duration": 37,
    "start_time": "2022-05-20T17:33:27.834Z"
   },
   {
    "duration": 48,
    "start_time": "2022-05-20T17:34:05.616Z"
   },
   {
    "duration": 35,
    "start_time": "2022-05-20T17:45:24.850Z"
   },
   {
    "duration": 35,
    "start_time": "2022-05-20T17:45:44.972Z"
   },
   {
    "duration": 202,
    "start_time": "2022-05-20T17:45:51.859Z"
   },
   {
    "duration": 11,
    "start_time": "2022-05-20T17:53:30.736Z"
   },
   {
    "duration": 118,
    "start_time": "2022-05-20T17:56:03.550Z"
   },
   {
    "duration": 26,
    "start_time": "2022-05-20T18:01:18.201Z"
   },
   {
    "duration": 451,
    "start_time": "2022-05-20T18:06:05.829Z"
   },
   {
    "duration": 434,
    "start_time": "2022-05-20T18:06:06.940Z"
   },
   {
    "duration": 119,
    "start_time": "2022-05-20T18:06:24.706Z"
   },
   {
    "duration": 41,
    "start_time": "2022-05-20T18:06:56.674Z"
   },
   {
    "duration": 55,
    "start_time": "2022-05-20T18:07:03.819Z"
   },
   {
    "duration": 8,
    "start_time": "2022-05-20T20:21:43.273Z"
   },
   {
    "duration": 1417,
    "start_time": "2022-05-20T20:21:50.542Z"
   },
   {
    "duration": 2809,
    "start_time": "2022-05-20T20:21:51.961Z"
   },
   {
    "duration": 19,
    "start_time": "2022-05-20T20:21:54.772Z"
   },
   {
    "duration": 159,
    "start_time": "2022-05-20T20:21:54.792Z"
   },
   {
    "duration": 2,
    "start_time": "2022-05-20T20:21:54.953Z"
   },
   {
    "duration": 107,
    "start_time": "2022-05-20T20:21:58.599Z"
   },
   {
    "duration": 4,
    "start_time": "2022-05-20T20:22:34.707Z"
   },
   {
    "duration": 263,
    "start_time": "2022-05-20T20:22:40.919Z"
   },
   {
    "duration": 564,
    "start_time": "2022-05-20T20:23:04.411Z"
   },
   {
    "duration": 7,
    "start_time": "2022-05-20T20:23:43.936Z"
   },
   {
    "duration": 18,
    "start_time": "2022-05-20T20:24:08.522Z"
   },
   {
    "duration": 39,
    "start_time": "2022-05-20T20:24:54.612Z"
   },
   {
    "duration": 8,
    "start_time": "2022-05-20T20:24:59.307Z"
   },
   {
    "duration": 8,
    "start_time": "2022-05-20T20:25:13.447Z"
   },
   {
    "duration": 11,
    "start_time": "2022-05-20T20:25:44.540Z"
   },
   {
    "duration": 213,
    "start_time": "2022-05-20T20:26:28.693Z"
   },
   {
    "duration": 48,
    "start_time": "2022-05-20T20:30:12.187Z"
   },
   {
    "duration": 1219,
    "start_time": "2022-05-20T20:31:12.185Z"
   },
   {
    "duration": 1223,
    "start_time": "2022-05-20T20:31:27.773Z"
   },
   {
    "duration": 1215,
    "start_time": "2022-05-20T20:32:02.380Z"
   },
   {
    "duration": 1260,
    "start_time": "2022-05-20T20:32:17.814Z"
   },
   {
    "duration": 3,
    "start_time": "2022-05-20T20:43:49.804Z"
   },
   {
    "duration": 783,
    "start_time": "2022-05-20T20:43:49.809Z"
   },
   {
    "duration": 12,
    "start_time": "2022-05-20T20:43:50.593Z"
   },
   {
    "duration": 123,
    "start_time": "2022-05-20T20:43:50.607Z"
   },
   {
    "duration": 3,
    "start_time": "2022-05-20T20:43:50.731Z"
   },
   {
    "duration": 1274,
    "start_time": "2022-05-20T20:43:50.735Z"
   },
   {
    "duration": 3,
    "start_time": "2022-05-20T20:43:52.011Z"
   },
   {
    "duration": 6,
    "start_time": "2022-05-20T20:43:52.015Z"
   },
   {
    "duration": 6,
    "start_time": "2022-05-20T20:43:52.024Z"
   },
   {
    "duration": 5,
    "start_time": "2022-05-20T20:43:52.032Z"
   },
   {
    "duration": 5,
    "start_time": "2022-05-20T20:43:52.038Z"
   },
   {
    "duration": 415,
    "start_time": "2022-05-20T20:43:52.045Z"
   },
   {
    "duration": 474,
    "start_time": "2022-05-20T20:43:52.461Z"
   },
   {
    "duration": 126,
    "start_time": "2022-05-20T20:43:52.937Z"
   },
   {
    "duration": 289,
    "start_time": "2022-05-20T20:46:00.544Z"
   },
   {
    "duration": 107,
    "start_time": "2022-05-20T20:46:33.841Z"
   },
   {
    "duration": 123,
    "start_time": "2022-05-20T21:02:55.361Z"
   },
   {
    "duration": 267,
    "start_time": "2022-05-20T21:03:07.266Z"
   },
   {
    "duration": 113,
    "start_time": "2022-05-20T21:09:49.800Z"
   },
   {
    "duration": 10,
    "start_time": "2022-05-20T21:22:47.995Z"
   },
   {
    "duration": 4,
    "start_time": "2022-05-20T21:22:55.501Z"
   },
   {
    "duration": 36,
    "start_time": "2022-05-20T21:29:27.731Z"
   },
   {
    "duration": 35,
    "start_time": "2022-05-20T21:29:42.397Z"
   },
   {
    "duration": 37,
    "start_time": "2022-05-20T21:30:29.290Z"
   },
   {
    "duration": 27,
    "start_time": "2022-05-20T21:30:42.699Z"
   },
   {
    "duration": 4,
    "start_time": "2022-05-20T21:30:53.336Z"
   },
   {
    "duration": 58,
    "start_time": "2022-05-21T10:12:04.030Z"
   },
   {
    "duration": 1550,
    "start_time": "2022-05-21T10:12:11.960Z"
   },
   {
    "duration": 1026,
    "start_time": "2022-05-21T10:12:13.512Z"
   },
   {
    "duration": 21,
    "start_time": "2022-05-21T10:12:14.539Z"
   },
   {
    "duration": 117,
    "start_time": "2022-05-21T10:12:14.561Z"
   },
   {
    "duration": 3,
    "start_time": "2022-05-21T10:12:14.680Z"
   },
   {
    "duration": 1323,
    "start_time": "2022-05-21T10:12:14.685Z"
   },
   {
    "duration": 3,
    "start_time": "2022-05-21T10:12:16.010Z"
   },
   {
    "duration": 11,
    "start_time": "2022-05-21T10:12:16.015Z"
   },
   {
    "duration": 19,
    "start_time": "2022-05-21T10:12:16.028Z"
   },
   {
    "duration": 10,
    "start_time": "2022-05-21T10:12:16.048Z"
   },
   {
    "duration": 15,
    "start_time": "2022-05-21T10:12:16.060Z"
   },
   {
    "duration": 461,
    "start_time": "2022-05-21T10:12:16.076Z"
   },
   {
    "duration": 110,
    "start_time": "2022-05-21T10:12:16.539Z"
   },
   {
    "duration": 33,
    "start_time": "2022-05-21T10:12:31.707Z"
   },
   {
    "duration": 25,
    "start_time": "2022-05-21T10:13:04.567Z"
   },
   {
    "duration": 13,
    "start_time": "2022-05-21T10:13:11.003Z"
   },
   {
    "duration": 2,
    "start_time": "2022-05-21T10:14:27.323Z"
   },
   {
    "duration": 4,
    "start_time": "2022-05-21T10:21:42.094Z"
   },
   {
    "duration": 765,
    "start_time": "2022-05-21T10:21:42.100Z"
   },
   {
    "duration": 13,
    "start_time": "2022-05-21T10:21:42.867Z"
   },
   {
    "duration": 122,
    "start_time": "2022-05-21T10:21:42.881Z"
   },
   {
    "duration": 2,
    "start_time": "2022-05-21T10:21:43.005Z"
   },
   {
    "duration": 1145,
    "start_time": "2022-05-21T10:21:43.009Z"
   },
   {
    "duration": 3,
    "start_time": "2022-05-21T10:21:44.155Z"
   },
   {
    "duration": 7,
    "start_time": "2022-05-21T10:21:44.159Z"
   },
   {
    "duration": 5,
    "start_time": "2022-05-21T10:21:44.168Z"
   },
   {
    "duration": 10,
    "start_time": "2022-05-21T10:21:44.174Z"
   },
   {
    "duration": 4,
    "start_time": "2022-05-21T10:21:44.187Z"
   },
   {
    "duration": 452,
    "start_time": "2022-05-21T10:21:44.193Z"
   },
   {
    "duration": 5,
    "start_time": "2022-05-21T10:21:44.647Z"
   },
   {
    "duration": 7,
    "start_time": "2022-05-21T10:21:44.654Z"
   },
   {
    "duration": 64,
    "start_time": "2022-05-21T10:21:44.663Z"
   },
   {
    "duration": 25,
    "start_time": "2022-05-21T10:21:44.728Z"
   },
   {
    "duration": 120,
    "start_time": "2022-05-21T10:21:44.755Z"
   },
   {
    "duration": 13,
    "start_time": "2022-05-21T10:22:10.063Z"
   },
   {
    "duration": 104,
    "start_time": "2022-05-21T10:23:35.267Z"
   },
   {
    "duration": 14,
    "start_time": "2022-05-21T10:23:36.999Z"
   },
   {
    "duration": 107,
    "start_time": "2022-05-21T10:27:02.187Z"
   },
   {
    "duration": 5,
    "start_time": "2022-05-21T10:35:45.466Z"
   },
   {
    "duration": 9,
    "start_time": "2022-05-21T10:59:30.268Z"
   },
   {
    "duration": 4,
    "start_time": "2022-05-21T10:59:36.804Z"
   },
   {
    "duration": 20,
    "start_time": "2022-05-21T10:59:47.608Z"
   },
   {
    "duration": 3,
    "start_time": "2022-05-21T10:59:58.322Z"
   },
   {
    "duration": 750,
    "start_time": "2022-05-21T10:59:58.327Z"
   },
   {
    "duration": 15,
    "start_time": "2022-05-21T10:59:59.079Z"
   },
   {
    "duration": 122,
    "start_time": "2022-05-21T10:59:59.096Z"
   },
   {
    "duration": 3,
    "start_time": "2022-05-21T10:59:59.220Z"
   },
   {
    "duration": 1143,
    "start_time": "2022-05-21T10:59:59.225Z"
   },
   {
    "duration": 3,
    "start_time": "2022-05-21T11:00:00.370Z"
   },
   {
    "duration": 28,
    "start_time": "2022-05-21T11:00:00.374Z"
   },
   {
    "duration": 10,
    "start_time": "2022-05-21T11:00:00.403Z"
   },
   {
    "duration": 18,
    "start_time": "2022-05-21T11:00:00.416Z"
   },
   {
    "duration": 29,
    "start_time": "2022-05-21T11:00:00.435Z"
   },
   {
    "duration": 409,
    "start_time": "2022-05-21T11:00:00.465Z"
   },
   {
    "duration": 2,
    "start_time": "2022-05-21T11:00:00.876Z"
   },
   {
    "duration": 11,
    "start_time": "2022-05-21T11:00:00.879Z"
   },
   {
    "duration": 48,
    "start_time": "2022-05-21T11:00:00.892Z"
   },
   {
    "duration": 4,
    "start_time": "2022-05-21T11:00:00.941Z"
   },
   {
    "duration": 176,
    "start_time": "2022-05-21T11:00:00.947Z"
   },
   {
    "duration": 14,
    "start_time": "2022-05-21T11:00:01.125Z"
   },
   {
    "duration": 407,
    "start_time": "2022-05-21T11:00:01.140Z"
   },
   {
    "duration": 85,
    "start_time": "2022-05-21T11:00:01.548Z"
   },
   {
    "duration": 45,
    "start_time": "2022-05-21T11:00:01.634Z"
   },
   {
    "duration": 38,
    "start_time": "2022-05-21T11:00:01.681Z"
   },
   {
    "duration": 504,
    "start_time": "2022-05-21T11:00:01.721Z"
   },
   {
    "duration": 80,
    "start_time": "2022-05-21T11:00:02.227Z"
   },
   {
    "duration": 176,
    "start_time": "2022-05-21T11:00:02.308Z"
   },
   {
    "duration": 39,
    "start_time": "2022-05-21T11:00:02.486Z"
   },
   {
    "duration": 85,
    "start_time": "2022-05-21T11:00:02.527Z"
   },
   {
    "duration": 78,
    "start_time": "2022-05-21T11:00:02.615Z"
   },
   {
    "duration": 153,
    "start_time": "2022-05-21T11:00:02.695Z"
   },
   {
    "duration": 1757,
    "start_time": "2022-05-21T11:00:02.849Z"
   },
   {
    "duration": 17,
    "start_time": "2022-05-21T11:51:43.707Z"
   },
   {
    "duration": 853,
    "start_time": "2022-05-21T11:52:18.727Z"
   },
   {
    "duration": 513,
    "start_time": "2022-05-21T11:52:45.104Z"
   },
   {
    "duration": 14,
    "start_time": "2022-05-21T11:53:13.808Z"
   },
   {
    "duration": 11,
    "start_time": "2022-05-21T11:53:19.127Z"
   },
   {
    "duration": 407,
    "start_time": "2022-05-21T11:56:57.631Z"
   },
   {
    "duration": 14,
    "start_time": "2022-05-21T11:56:59.834Z"
   },
   {
    "duration": 5,
    "start_time": "2022-05-21T12:11:18.192Z"
   },
   {
    "duration": 603,
    "start_time": "2022-05-21T12:11:46.684Z"
   },
   {
    "duration": 723,
    "start_time": "2022-05-21T12:12:05.972Z"
   },
   {
    "duration": 780,
    "start_time": "2022-05-21T12:12:20.480Z"
   },
   {
    "duration": 17,
    "start_time": "2022-05-21T12:12:23.182Z"
   },
   {
    "duration": 22,
    "start_time": "2022-05-21T12:12:29.889Z"
   },
   {
    "duration": 70,
    "start_time": "2022-05-21T12:41:53.977Z"
   },
   {
    "duration": 20,
    "start_time": "2022-05-21T12:41:55.047Z"
   },
   {
    "duration": 9,
    "start_time": "2022-05-21T12:42:51.434Z"
   },
   {
    "duration": 10,
    "start_time": "2022-05-21T12:44:50.089Z"
   },
   {
    "duration": 14,
    "start_time": "2022-05-21T12:45:03.508Z"
   },
   {
    "duration": 4,
    "start_time": "2022-05-21T12:45:45.945Z"
   },
   {
    "duration": 859,
    "start_time": "2022-05-21T12:45:45.952Z"
   },
   {
    "duration": 15,
    "start_time": "2022-05-21T12:45:46.813Z"
   },
   {
    "duration": 160,
    "start_time": "2022-05-21T12:45:46.831Z"
   },
   {
    "duration": 3,
    "start_time": "2022-05-21T12:45:46.992Z"
   },
   {
    "duration": 1265,
    "start_time": "2022-05-21T12:45:46.996Z"
   },
   {
    "duration": 3,
    "start_time": "2022-05-21T12:45:48.265Z"
   },
   {
    "duration": 9,
    "start_time": "2022-05-21T12:45:48.270Z"
   },
   {
    "duration": 9,
    "start_time": "2022-05-21T12:45:48.281Z"
   },
   {
    "duration": 6,
    "start_time": "2022-05-21T12:45:48.292Z"
   },
   {
    "duration": 10,
    "start_time": "2022-05-21T12:45:48.299Z"
   },
   {
    "duration": 421,
    "start_time": "2022-05-21T12:45:48.311Z"
   },
   {
    "duration": 3,
    "start_time": "2022-05-21T12:45:48.733Z"
   },
   {
    "duration": 8,
    "start_time": "2022-05-21T12:45:48.737Z"
   },
   {
    "duration": 40,
    "start_time": "2022-05-21T12:45:48.752Z"
   },
   {
    "duration": 3,
    "start_time": "2022-05-21T12:45:48.794Z"
   },
   {
    "duration": 197,
    "start_time": "2022-05-21T12:45:48.799Z"
   },
   {
    "duration": 14,
    "start_time": "2022-05-21T12:45:48.998Z"
   },
   {
    "duration": 373,
    "start_time": "2022-05-21T12:45:49.014Z"
   },
   {
    "duration": 93,
    "start_time": "2022-05-21T12:45:49.389Z"
   },
   {
    "duration": 44,
    "start_time": "2022-05-21T12:45:49.483Z"
   },
   {
    "duration": 56,
    "start_time": "2022-05-21T12:45:49.529Z"
   },
   {
    "duration": 48,
    "start_time": "2022-05-21T12:45:49.587Z"
   },
   {
    "duration": 98,
    "start_time": "2022-05-21T12:45:49.638Z"
   },
   {
    "duration": 202,
    "start_time": "2022-05-21T12:45:49.738Z"
   },
   {
    "duration": 49,
    "start_time": "2022-05-21T12:45:49.942Z"
   },
   {
    "duration": 37,
    "start_time": "2022-05-21T12:45:49.993Z"
   },
   {
    "duration": 2,
    "start_time": "2022-05-21T12:45:50.032Z"
   },
   {
    "duration": 428,
    "start_time": "2022-05-21T12:45:50.058Z"
   },
   {
    "duration": 871,
    "start_time": "2022-05-21T12:45:50.488Z"
   },
   {
    "duration": 19,
    "start_time": "2022-05-21T12:45:51.362Z"
   },
   {
    "duration": 81,
    "start_time": "2022-05-21T12:45:51.382Z"
   },
   {
    "duration": 18,
    "start_time": "2022-05-21T12:45:56.250Z"
   },
   {
    "duration": 17,
    "start_time": "2022-05-21T12:48:10.330Z"
   },
   {
    "duration": 599,
    "start_time": "2022-05-21T12:48:30.121Z"
   },
   {
    "duration": 19,
    "start_time": "2022-05-21T12:48:30.734Z"
   },
   {
    "duration": 14,
    "start_time": "2022-05-21T12:48:31.759Z"
   },
   {
    "duration": 5,
    "start_time": "2022-05-21T12:48:45.447Z"
   },
   {
    "duration": 825,
    "start_time": "2022-05-21T12:48:45.455Z"
   },
   {
    "duration": 14,
    "start_time": "2022-05-21T12:48:46.282Z"
   },
   {
    "duration": 129,
    "start_time": "2022-05-21T12:48:46.297Z"
   },
   {
    "duration": 2,
    "start_time": "2022-05-21T12:48:46.429Z"
   },
   {
    "duration": 1377,
    "start_time": "2022-05-21T12:48:46.433Z"
   },
   {
    "duration": 3,
    "start_time": "2022-05-21T12:48:47.812Z"
   },
   {
    "duration": 32,
    "start_time": "2022-05-21T12:48:47.817Z"
   },
   {
    "duration": 31,
    "start_time": "2022-05-21T12:48:47.851Z"
   },
   {
    "duration": 11,
    "start_time": "2022-05-21T12:48:47.884Z"
   },
   {
    "duration": 24,
    "start_time": "2022-05-21T12:48:47.897Z"
   },
   {
    "duration": 473,
    "start_time": "2022-05-21T12:48:47.923Z"
   },
   {
    "duration": 3,
    "start_time": "2022-05-21T12:48:48.397Z"
   },
   {
    "duration": 13,
    "start_time": "2022-05-21T12:48:48.402Z"
   },
   {
    "duration": 69,
    "start_time": "2022-05-21T12:48:48.417Z"
   },
   {
    "duration": 4,
    "start_time": "2022-05-21T12:48:48.488Z"
   },
   {
    "duration": 173,
    "start_time": "2022-05-21T12:48:48.493Z"
   },
   {
    "duration": 13,
    "start_time": "2022-05-21T12:48:48.668Z"
   },
   {
    "duration": 367,
    "start_time": "2022-05-21T12:48:48.683Z"
   },
   {
    "duration": 89,
    "start_time": "2022-05-21T12:48:49.053Z"
   },
   {
    "duration": 52,
    "start_time": "2022-05-21T12:48:49.144Z"
   },
   {
    "duration": 56,
    "start_time": "2022-05-21T12:48:49.198Z"
   },
   {
    "duration": 72,
    "start_time": "2022-05-21T12:48:49.262Z"
   },
   {
    "duration": 92,
    "start_time": "2022-05-21T12:48:49.336Z"
   },
   {
    "duration": 244,
    "start_time": "2022-05-21T12:48:49.430Z"
   },
   {
    "duration": 60,
    "start_time": "2022-05-21T12:48:49.675Z"
   },
   {
    "duration": 44,
    "start_time": "2022-05-21T12:48:49.737Z"
   },
   {
    "duration": 2,
    "start_time": "2022-05-21T12:48:49.783Z"
   },
   {
    "duration": 1020,
    "start_time": "2022-05-21T12:48:49.787Z"
   },
   {
    "duration": 16,
    "start_time": "2022-05-21T12:48:50.809Z"
   },
   {
    "duration": 79,
    "start_time": "2022-05-21T12:48:50.827Z"
   },
   {
    "duration": 19,
    "start_time": "2022-05-21T12:48:50.908Z"
   },
   {
    "duration": 24,
    "start_time": "2022-05-21T13:06:22.189Z"
   },
   {
    "duration": 47,
    "start_time": "2022-05-21T13:06:31.328Z"
   },
   {
    "duration": 28,
    "start_time": "2022-05-21T13:06:32.140Z"
   },
   {
    "duration": 526,
    "start_time": "2022-05-21T13:11:20.420Z"
   },
   {
    "duration": 1442,
    "start_time": "2022-05-21T18:02:13.293Z"
   },
   {
    "duration": 1320,
    "start_time": "2022-05-21T18:02:14.739Z"
   },
   {
    "duration": 23,
    "start_time": "2022-05-21T18:02:16.060Z"
   },
   {
    "duration": 161,
    "start_time": "2022-05-21T18:02:16.084Z"
   },
   {
    "duration": 3,
    "start_time": "2022-05-21T18:02:16.247Z"
   },
   {
    "duration": 1413,
    "start_time": "2022-05-21T18:02:16.251Z"
   },
   {
    "duration": 2,
    "start_time": "2022-05-21T18:02:17.666Z"
   },
   {
    "duration": 5,
    "start_time": "2022-05-21T18:02:17.670Z"
   },
   {
    "duration": 6,
    "start_time": "2022-05-21T18:02:17.677Z"
   },
   {
    "duration": 7,
    "start_time": "2022-05-21T18:02:17.684Z"
   },
   {
    "duration": 5,
    "start_time": "2022-05-21T18:02:17.692Z"
   },
   {
    "duration": 544,
    "start_time": "2022-05-21T18:02:17.699Z"
   },
   {
    "duration": 2,
    "start_time": "2022-05-21T18:02:18.244Z"
   },
   {
    "duration": 6,
    "start_time": "2022-05-21T18:02:18.249Z"
   },
   {
    "duration": 92,
    "start_time": "2022-05-21T18:02:18.256Z"
   },
   {
    "duration": 5,
    "start_time": "2022-05-21T18:02:18.350Z"
   },
   {
    "duration": 226,
    "start_time": "2022-05-21T18:02:18.357Z"
   },
   {
    "duration": 14,
    "start_time": "2022-05-21T18:02:18.584Z"
   },
   {
    "duration": 446,
    "start_time": "2022-05-21T18:02:18.600Z"
   },
   {
    "duration": 121,
    "start_time": "2022-05-21T18:02:19.047Z"
   },
   {
    "duration": 60,
    "start_time": "2022-05-21T18:02:19.170Z"
   },
   {
    "duration": 42,
    "start_time": "2022-05-21T18:02:19.234Z"
   },
   {
    "duration": 72,
    "start_time": "2022-05-21T18:02:19.278Z"
   },
   {
    "duration": 113,
    "start_time": "2022-05-21T18:02:19.351Z"
   },
   {
    "duration": 226,
    "start_time": "2022-05-21T18:02:19.466Z"
   },
   {
    "duration": 55,
    "start_time": "2022-05-21T18:02:19.693Z"
   },
   {
    "duration": 38,
    "start_time": "2022-05-21T18:02:19.750Z"
   },
   {
    "duration": 2,
    "start_time": "2022-05-21T18:02:19.790Z"
   },
   {
    "duration": 976,
    "start_time": "2022-05-21T18:02:19.793Z"
   },
   {
    "duration": 16,
    "start_time": "2022-05-21T18:02:20.770Z"
   },
   {
    "duration": 97,
    "start_time": "2022-05-21T18:02:20.788Z"
   },
   {
    "duration": 16,
    "start_time": "2022-05-21T18:02:20.886Z"
   },
   {
    "duration": 39,
    "start_time": "2022-05-21T18:02:20.903Z"
   },
   {
    "duration": 46,
    "start_time": "2022-05-21T18:02:20.944Z"
   },
   {
    "duration": 43,
    "start_time": "2022-05-21T18:02:20.991Z"
   },
   {
    "duration": 582,
    "start_time": "2022-05-21T18:02:21.038Z"
   },
   {
    "duration": 137,
    "start_time": "2022-05-21T18:02:21.622Z"
   },
   {
    "duration": 0,
    "start_time": "2022-05-21T18:02:21.760Z"
   },
   {
    "duration": 4,
    "start_time": "2022-05-21T18:02:41.375Z"
   },
   {
    "duration": 36,
    "start_time": "2022-05-21T18:08:56.442Z"
   },
   {
    "duration": 4,
    "start_time": "2022-05-21T18:09:09.948Z"
   },
   {
    "duration": 8214,
    "start_time": "2022-05-21T18:09:35.884Z"
   },
   {
    "duration": 8679,
    "start_time": "2022-05-21T18:22:24.860Z"
   },
   {
    "duration": 8685,
    "start_time": "2022-05-21T18:23:59.283Z"
   },
   {
    "duration": 8739,
    "start_time": "2022-05-21T18:24:21.155Z"
   },
   {
    "duration": 12,
    "start_time": "2022-05-21T18:30:38.556Z"
   },
   {
    "duration": 121,
    "start_time": "2022-05-21T18:30:54.514Z"
   },
   {
    "duration": 137,
    "start_time": "2022-05-21T18:32:12.503Z"
   },
   {
    "duration": 160,
    "start_time": "2022-05-21T18:32:22.072Z"
   },
   {
    "duration": 11,
    "start_time": "2022-05-21T18:33:41.896Z"
   },
   {
    "duration": 535,
    "start_time": "2022-05-21T18:33:56.314Z"
   },
   {
    "duration": 19,
    "start_time": "2022-05-21T18:38:44.683Z"
   },
   {
    "duration": 1931,
    "start_time": "2022-05-28T10:11:49.791Z"
   },
   {
    "duration": 1196,
    "start_time": "2022-05-28T10:11:51.724Z"
   },
   {
    "duration": 17,
    "start_time": "2022-05-28T10:11:52.922Z"
   },
   {
    "duration": 145,
    "start_time": "2022-05-28T10:11:52.941Z"
   },
   {
    "duration": 3,
    "start_time": "2022-05-28T10:11:53.088Z"
   },
   {
    "duration": 1427,
    "start_time": "2022-05-28T10:11:53.093Z"
   },
   {
    "duration": 488,
    "start_time": "2022-05-28T10:11:54.523Z"
   },
   {
    "duration": 37,
    "start_time": "2022-05-28T10:11:55.012Z"
   },
   {
    "duration": 10,
    "start_time": "2022-05-28T10:11:55.050Z"
   },
   {
    "duration": 92,
    "start_time": "2022-05-28T10:11:55.062Z"
   },
   {
    "duration": 4,
    "start_time": "2022-05-28T10:11:55.156Z"
   },
   {
    "duration": 217,
    "start_time": "2022-05-28T10:11:55.162Z"
   },
   {
    "duration": 15,
    "start_time": "2022-05-28T10:11:55.381Z"
   },
   {
    "duration": 457,
    "start_time": "2022-05-28T10:11:55.398Z"
   },
   {
    "duration": 93,
    "start_time": "2022-05-28T10:11:55.857Z"
   },
   {
    "duration": 71,
    "start_time": "2022-05-28T10:11:55.952Z"
   },
   {
    "duration": 104,
    "start_time": "2022-05-28T10:11:56.025Z"
   },
   {
    "duration": 24,
    "start_time": "2022-05-28T10:11:56.130Z"
   },
   {
    "duration": 54,
    "start_time": "2022-05-28T10:11:56.156Z"
   },
   {
    "duration": 85,
    "start_time": "2022-05-28T10:11:56.223Z"
   },
   {
    "duration": 60,
    "start_time": "2022-05-28T10:11:56.310Z"
   },
   {
    "duration": 14,
    "start_time": "2022-05-28T10:11:56.371Z"
   },
   {
    "duration": 57,
    "start_time": "2022-05-28T10:11:56.387Z"
   },
   {
    "duration": 27,
    "start_time": "2022-05-28T10:11:56.446Z"
   },
   {
    "duration": 51,
    "start_time": "2022-05-28T10:11:56.475Z"
   },
   {
    "duration": 28,
    "start_time": "2022-05-28T10:11:56.528Z"
   },
   {
    "duration": 33,
    "start_time": "2022-05-28T10:11:56.558Z"
   },
   {
    "duration": 249,
    "start_time": "2022-05-28T10:11:56.594Z"
   },
   {
    "duration": 241,
    "start_time": "2022-05-28T10:11:56.845Z"
   },
   {
    "duration": 10,
    "start_time": "2022-05-28T10:11:57.088Z"
   },
   {
    "duration": 47,
    "start_time": "2022-05-28T10:11:57.100Z"
   },
   {
    "duration": 2,
    "start_time": "2022-05-28T10:11:57.149Z"
   },
   {
    "duration": 769,
    "start_time": "2022-05-28T10:11:57.153Z"
   },
   {
    "duration": 21,
    "start_time": "2022-05-28T10:11:57.924Z"
   },
   {
    "duration": 209,
    "start_time": "2022-05-28T10:11:57.947Z"
   },
   {
    "duration": 292,
    "start_time": "2022-05-28T10:11:58.158Z"
   },
   {
    "duration": 100,
    "start_time": "2022-05-28T10:11:58.452Z"
   },
   {
    "duration": 115,
    "start_time": "2022-05-28T10:11:58.554Z"
   },
   {
    "duration": 3,
    "start_time": "2022-05-28T10:11:58.670Z"
   },
   {
    "duration": 73115,
    "start_time": "2022-05-28T10:11:58.675Z"
   },
   {
    "duration": 6,
    "start_time": "2022-05-28T10:20:01.587Z"
   },
   {
    "duration": 936,
    "start_time": "2022-05-28T10:20:01.596Z"
   },
   {
    "duration": 26,
    "start_time": "2022-05-28T10:20:02.534Z"
   },
   {
    "duration": 246,
    "start_time": "2022-05-28T10:20:02.562Z"
   },
   {
    "duration": 3,
    "start_time": "2022-05-28T10:20:02.811Z"
   },
   {
    "duration": 1537,
    "start_time": "2022-05-28T10:20:02.816Z"
   },
   {
    "duration": 488,
    "start_time": "2022-05-28T10:20:04.355Z"
   },
   {
    "duration": 52,
    "start_time": "2022-05-28T10:20:04.844Z"
   },
   {
    "duration": 17,
    "start_time": "2022-05-28T10:20:04.898Z"
   },
   {
    "duration": 49,
    "start_time": "2022-05-28T10:20:04.924Z"
   },
   {
    "duration": 5,
    "start_time": "2022-05-28T10:20:04.975Z"
   },
   {
    "duration": 186,
    "start_time": "2022-05-28T10:20:04.981Z"
   },
   {
    "duration": 15,
    "start_time": "2022-05-28T10:20:05.168Z"
   },
   {
    "duration": 467,
    "start_time": "2022-05-28T10:20:05.187Z"
   },
   {
    "duration": 99,
    "start_time": "2022-05-28T10:20:05.656Z"
   },
   {
    "duration": 71,
    "start_time": "2022-05-28T10:20:05.757Z"
   },
   {
    "duration": 118,
    "start_time": "2022-05-28T10:20:05.829Z"
   },
   {
    "duration": 80,
    "start_time": "2022-05-28T10:20:05.949Z"
   },
   {
    "duration": 15,
    "start_time": "2022-05-28T10:20:06.031Z"
   },
   {
    "duration": 48,
    "start_time": "2022-05-28T10:20:06.047Z"
   },
   {
    "duration": 50,
    "start_time": "2022-05-28T10:20:06.098Z"
   },
   {
    "duration": 49,
    "start_time": "2022-05-28T10:20:06.150Z"
   },
   {
    "duration": 45,
    "start_time": "2022-05-28T10:20:06.201Z"
   },
   {
    "duration": 39,
    "start_time": "2022-05-28T10:20:06.248Z"
   },
   {
    "duration": 84,
    "start_time": "2022-05-28T10:20:06.289Z"
   },
   {
    "duration": 235,
    "start_time": "2022-05-28T10:20:06.377Z"
   },
   {
    "duration": 237,
    "start_time": "2022-05-28T10:20:06.614Z"
   },
   {
    "duration": 10,
    "start_time": "2022-05-28T10:20:06.854Z"
   },
   {
    "duration": 61,
    "start_time": "2022-05-28T10:20:06.867Z"
   },
   {
    "duration": 2,
    "start_time": "2022-05-28T10:20:06.931Z"
   },
   {
    "duration": 870,
    "start_time": "2022-05-28T10:20:06.936Z"
   },
   {
    "duration": 25,
    "start_time": "2022-05-28T10:20:07.808Z"
   },
   {
    "duration": 208,
    "start_time": "2022-05-28T10:20:07.835Z"
   },
   {
    "duration": 313,
    "start_time": "2022-05-28T10:20:08.046Z"
   },
   {
    "duration": 101,
    "start_time": "2022-05-28T10:20:08.361Z"
   },
   {
    "duration": 100,
    "start_time": "2022-05-28T10:20:08.465Z"
   },
   {
    "duration": 4,
    "start_time": "2022-05-28T10:20:08.567Z"
   },
   {
    "duration": 74694,
    "start_time": "2022-05-28T10:20:08.572Z"
   },
   {
    "duration": 565,
    "start_time": "2022-05-28T10:49:21.425Z"
   },
   {
    "duration": 6,
    "start_time": "2022-05-28T10:49:31.157Z"
   },
   {
    "duration": 982,
    "start_time": "2022-05-28T10:49:31.166Z"
   },
   {
    "duration": 25,
    "start_time": "2022-05-28T10:49:32.150Z"
   },
   {
    "duration": 210,
    "start_time": "2022-05-28T10:49:32.178Z"
   },
   {
    "duration": 6,
    "start_time": "2022-05-28T10:49:32.391Z"
   },
   {
    "duration": 1764,
    "start_time": "2022-05-28T10:49:32.398Z"
   },
   {
    "duration": 37,
    "start_time": "2022-05-28T10:49:34.164Z"
   },
   {
    "duration": 13,
    "start_time": "2022-05-28T10:56:28.823Z"
   },
   {
    "duration": 6,
    "start_time": "2022-05-28T10:58:32.319Z"
   },
   {
    "duration": 6,
    "start_time": "2022-05-28T10:58:39.703Z"
   },
   {
    "duration": 1011,
    "start_time": "2022-05-28T10:58:39.711Z"
   },
   {
    "duration": 14,
    "start_time": "2022-05-28T10:58:40.724Z"
   },
   {
    "duration": 138,
    "start_time": "2022-05-28T10:58:40.740Z"
   },
   {
    "duration": 4,
    "start_time": "2022-05-28T10:58:40.880Z"
   },
   {
    "duration": 1318,
    "start_time": "2022-05-28T10:58:40.886Z"
   },
   {
    "duration": 38,
    "start_time": "2022-05-28T10:58:42.206Z"
   },
   {
    "duration": 429,
    "start_time": "2022-05-28T10:58:42.246Z"
   },
   {
    "duration": 5,
    "start_time": "2022-05-28T10:58:42.677Z"
   },
   {
    "duration": 50,
    "start_time": "2022-05-28T10:58:42.684Z"
   },
   {
    "duration": 6,
    "start_time": "2022-05-28T10:58:42.736Z"
   },
   {
    "duration": 187,
    "start_time": "2022-05-28T10:58:42.744Z"
   },
   {
    "duration": 13,
    "start_time": "2022-05-28T10:58:42.932Z"
   },
   {
    "duration": 8,
    "start_time": "2022-05-28T10:58:42.948Z"
   },
   {
    "duration": 75,
    "start_time": "2022-05-28T11:07:23.392Z"
   },
   {
    "duration": 342,
    "start_time": "2022-05-28T11:07:24.524Z"
   },
   {
    "duration": 4,
    "start_time": "2022-05-28T11:07:33.499Z"
   },
   {
    "duration": 733,
    "start_time": "2022-05-28T11:07:33.505Z"
   },
   {
    "duration": 13,
    "start_time": "2022-05-28T11:07:34.239Z"
   },
   {
    "duration": 137,
    "start_time": "2022-05-28T11:07:34.255Z"
   },
   {
    "duration": 4,
    "start_time": "2022-05-28T11:07:34.394Z"
   },
   {
    "duration": 1289,
    "start_time": "2022-05-28T11:07:34.400Z"
   },
   {
    "duration": 41,
    "start_time": "2022-05-28T11:07:35.691Z"
   },
   {
    "duration": 465,
    "start_time": "2022-05-28T11:07:35.734Z"
   },
   {
    "duration": 4,
    "start_time": "2022-05-28T11:07:36.202Z"
   },
   {
    "duration": 58,
    "start_time": "2022-05-28T11:07:36.208Z"
   },
   {
    "duration": 6,
    "start_time": "2022-05-28T11:07:36.267Z"
   },
   {
    "duration": 182,
    "start_time": "2022-05-28T11:07:36.274Z"
   },
   {
    "duration": 13,
    "start_time": "2022-05-28T11:07:36.457Z"
   },
   {
    "duration": 7,
    "start_time": "2022-05-28T11:07:36.472Z"
   },
   {
    "duration": 401,
    "start_time": "2022-05-28T11:07:36.480Z"
   },
   {
    "duration": 104,
    "start_time": "2022-05-28T11:07:36.882Z"
   },
   {
    "duration": 62,
    "start_time": "2022-05-28T11:07:36.987Z"
   },
   {
    "duration": 102,
    "start_time": "2022-05-28T11:07:37.051Z"
   },
   {
    "duration": 72,
    "start_time": "2022-05-28T11:07:37.155Z"
   },
   {
    "duration": 15,
    "start_time": "2022-05-28T11:07:37.229Z"
   },
   {
    "duration": 57,
    "start_time": "2022-05-28T11:07:37.245Z"
   },
   {
    "duration": 252,
    "start_time": "2022-05-28T11:07:37.304Z"
   },
   {
    "duration": 5,
    "start_time": "2022-05-28T11:26:11.430Z"
   },
   {
    "duration": 844,
    "start_time": "2022-05-28T11:26:11.437Z"
   },
   {
    "duration": 13,
    "start_time": "2022-05-28T11:26:12.283Z"
   },
   {
    "duration": 151,
    "start_time": "2022-05-28T11:26:12.298Z"
   },
   {
    "duration": 3,
    "start_time": "2022-05-28T11:26:12.452Z"
   },
   {
    "duration": 1552,
    "start_time": "2022-05-28T11:26:12.457Z"
   },
   {
    "duration": 39,
    "start_time": "2022-05-28T11:26:14.011Z"
   },
   {
    "duration": 465,
    "start_time": "2022-05-28T11:26:14.052Z"
   },
   {
    "duration": 5,
    "start_time": "2022-05-28T11:26:14.519Z"
   },
   {
    "duration": 52,
    "start_time": "2022-05-28T11:26:14.526Z"
   },
   {
    "duration": 5,
    "start_time": "2022-05-28T11:26:14.581Z"
   },
   {
    "duration": 190,
    "start_time": "2022-05-28T11:26:14.587Z"
   },
   {
    "duration": 15,
    "start_time": "2022-05-28T11:26:14.778Z"
   },
   {
    "duration": 21,
    "start_time": "2022-05-28T11:26:14.795Z"
   },
   {
    "duration": 463,
    "start_time": "2022-05-28T11:26:14.822Z"
   },
   {
    "duration": 106,
    "start_time": "2022-05-28T11:26:15.287Z"
   },
   {
    "duration": 63,
    "start_time": "2022-05-28T11:26:15.394Z"
   },
   {
    "duration": 107,
    "start_time": "2022-05-28T11:26:15.459Z"
   },
   {
    "duration": 75,
    "start_time": "2022-05-28T11:26:15.568Z"
   },
   {
    "duration": 14,
    "start_time": "2022-05-28T11:26:15.645Z"
   },
   {
    "duration": 75,
    "start_time": "2022-05-28T11:26:15.661Z"
   },
   {
    "duration": 261,
    "start_time": "2022-05-28T11:26:15.737Z"
   },
   {
    "duration": 46,
    "start_time": "2022-05-28T11:26:16.000Z"
   },
   {
    "duration": 28,
    "start_time": "2022-05-28T11:26:16.047Z"
   },
   {
    "duration": 52,
    "start_time": "2022-05-28T11:26:16.077Z"
   },
   {
    "duration": 27,
    "start_time": "2022-05-28T11:26:16.130Z"
   },
   {
    "duration": 190,
    "start_time": "2022-05-28T11:48:55.003Z"
   },
   {
    "duration": 195,
    "start_time": "2022-05-28T11:49:12.190Z"
   },
   {
    "duration": 15,
    "start_time": "2022-05-28T12:06:30.270Z"
   },
   {
    "duration": 46,
    "start_time": "2022-05-28T12:06:37.484Z"
   },
   {
    "duration": 61,
    "start_time": "2022-05-28T12:06:47.425Z"
   },
   {
    "duration": 72,
    "start_time": "2022-05-28T14:33:43.988Z"
   },
   {
    "duration": 1912,
    "start_time": "2022-05-28T14:34:03.252Z"
   },
   {
    "duration": 5,
    "start_time": "2022-05-28T14:34:29.258Z"
   },
   {
    "duration": 3143,
    "start_time": "2022-05-28T14:34:29.265Z"
   },
   {
    "duration": 16,
    "start_time": "2022-05-28T14:34:32.409Z"
   },
   {
    "duration": 134,
    "start_time": "2022-05-28T14:34:32.427Z"
   },
   {
    "duration": 3,
    "start_time": "2022-05-28T14:34:32.562Z"
   },
   {
    "duration": 1694,
    "start_time": "2022-05-28T14:34:32.566Z"
   },
   {
    "duration": 57,
    "start_time": "2022-05-28T14:34:34.261Z"
   },
   {
    "duration": 497,
    "start_time": "2022-05-28T14:34:34.320Z"
   },
   {
    "duration": 5,
    "start_time": "2022-05-28T14:34:34.820Z"
   },
   {
    "duration": 79,
    "start_time": "2022-05-28T14:34:34.827Z"
   },
   {
    "duration": 5,
    "start_time": "2022-05-28T14:34:34.907Z"
   },
   {
    "duration": 197,
    "start_time": "2022-05-28T14:34:34.914Z"
   },
   {
    "duration": 18,
    "start_time": "2022-05-28T14:34:35.113Z"
   },
   {
    "duration": 6,
    "start_time": "2022-05-28T14:34:35.133Z"
   },
   {
    "duration": 419,
    "start_time": "2022-05-28T14:34:35.140Z"
   },
   {
    "duration": 102,
    "start_time": "2022-05-28T14:34:35.561Z"
   },
   {
    "duration": 84,
    "start_time": "2022-05-28T14:34:35.676Z"
   },
   {
    "duration": 118,
    "start_time": "2022-05-28T14:34:35.763Z"
   },
   {
    "duration": 68,
    "start_time": "2022-05-28T14:34:35.883Z"
   },
   {
    "duration": 33,
    "start_time": "2022-05-28T14:34:35.953Z"
   },
   {
    "duration": 60,
    "start_time": "2022-05-28T14:34:35.994Z"
   },
   {
    "duration": 258,
    "start_time": "2022-05-28T14:34:36.056Z"
   },
   {
    "duration": 41,
    "start_time": "2022-05-28T14:34:36.316Z"
   },
   {
    "duration": 47,
    "start_time": "2022-05-28T14:34:36.360Z"
   },
   {
    "duration": 33,
    "start_time": "2022-05-28T14:34:36.408Z"
   },
   {
    "duration": 51,
    "start_time": "2022-05-28T14:34:36.442Z"
   },
   {
    "duration": 46,
    "start_time": "2022-05-28T14:34:36.494Z"
   },
   {
    "duration": 272,
    "start_time": "2022-05-28T14:34:36.542Z"
   },
   {
    "duration": 10,
    "start_time": "2022-05-28T14:34:36.816Z"
   },
   {
    "duration": 29,
    "start_time": "2022-05-28T14:34:36.827Z"
   },
   {
    "duration": 608,
    "start_time": "2022-05-28T14:34:36.857Z"
   },
   {
    "duration": 23,
    "start_time": "2022-05-28T14:34:37.467Z"
   },
   {
    "duration": 197,
    "start_time": "2022-05-28T14:34:37.492Z"
   },
   {
    "duration": 268,
    "start_time": "2022-05-28T14:34:37.691Z"
   },
   {
    "duration": 104,
    "start_time": "2022-05-28T14:34:37.961Z"
   },
   {
    "duration": 98,
    "start_time": "2022-05-28T14:34:38.066Z"
   },
   {
    "duration": 13,
    "start_time": "2022-05-28T14:34:38.166Z"
   },
   {
    "duration": 15,
    "start_time": "2022-05-28T14:34:38.183Z"
   },
   {
    "duration": 73414,
    "start_time": "2022-05-28T14:34:38.199Z"
   },
   {
    "duration": 195,
    "start_time": "2022-05-28T14:35:51.615Z"
   },
   {
    "duration": 114,
    "start_time": "2022-05-28T14:36:26.679Z"
   },
   {
    "duration": 109,
    "start_time": "2022-05-28T14:37:21.492Z"
   },
   {
    "duration": 105,
    "start_time": "2022-05-28T14:38:13.449Z"
   },
   {
    "duration": 71444,
    "start_time": "2022-05-28T14:39:09.611Z"
   },
   {
    "duration": 123,
    "start_time": "2022-05-28T14:40:21.057Z"
   },
   {
    "duration": 110,
    "start_time": "2022-05-28T14:44:46.399Z"
   },
   {
    "duration": 45,
    "start_time": "2022-05-28T14:50:53.552Z"
   },
   {
    "duration": 28,
    "start_time": "2022-05-28T14:55:09.613Z"
   },
   {
    "duration": 27,
    "start_time": "2022-05-28T14:55:23.938Z"
   },
   {
    "duration": 4,
    "start_time": "2022-05-28T14:55:58.709Z"
   },
   {
    "duration": 73586,
    "start_time": "2022-05-28T14:56:14.501Z"
   },
   {
    "duration": 0,
    "start_time": "2022-05-28T14:57:28.091Z"
   },
   {
    "duration": 4,
    "start_time": "2022-05-28T14:59:01.646Z"
   },
   {
    "duration": 73251,
    "start_time": "2022-05-28T14:59:04.108Z"
   },
   {
    "duration": 130,
    "start_time": "2022-05-28T15:00:17.361Z"
   },
   {
    "duration": 3,
    "start_time": "2022-05-28T15:03:39.829Z"
   },
   {
    "duration": 4,
    "start_time": "2022-05-28T15:04:14.762Z"
   },
   {
    "duration": 103,
    "start_time": "2022-05-28T15:04:19.043Z"
   },
   {
    "duration": 3,
    "start_time": "2022-05-28T15:04:29.457Z"
   },
   {
    "duration": 126,
    "start_time": "2022-05-28T15:04:32.873Z"
   },
   {
    "duration": 4,
    "start_time": "2022-05-28T15:05:10.858Z"
   },
   {
    "duration": 168,
    "start_time": "2022-05-28T15:05:14.957Z"
   },
   {
    "duration": 4,
    "start_time": "2022-05-28T15:07:16.099Z"
   },
   {
    "duration": 139,
    "start_time": "2022-05-28T15:07:24.629Z"
   },
   {
    "duration": 8,
    "start_time": "2022-05-28T15:07:41.281Z"
   },
   {
    "duration": 114,
    "start_time": "2022-05-28T15:07:44.075Z"
   },
   {
    "duration": 4,
    "start_time": "2022-05-28T15:08:03.495Z"
   },
   {
    "duration": 127,
    "start_time": "2022-05-28T15:08:07.544Z"
   },
   {
    "duration": 74736,
    "start_time": "2022-05-28T15:08:42.570Z"
   },
   {
    "duration": 72988,
    "start_time": "2022-05-28T15:10:33.641Z"
   },
   {
    "duration": 116,
    "start_time": "2022-05-28T15:11:46.631Z"
   },
   {
    "duration": 4,
    "start_time": "2022-05-28T15:16:05.550Z"
   },
   {
    "duration": 75112,
    "start_time": "2022-05-28T15:16:08.177Z"
   },
   {
    "duration": 110,
    "start_time": "2022-05-28T15:17:23.291Z"
   },
   {
    "duration": 73881,
    "start_time": "2022-05-28T15:19:42.394Z"
   },
   {
    "duration": 115,
    "start_time": "2022-05-28T15:20:56.277Z"
   },
   {
    "duration": 3,
    "start_time": "2022-05-28T15:22:19.546Z"
   },
   {
    "duration": 73048,
    "start_time": "2022-05-28T15:22:21.849Z"
   },
   {
    "duration": 109,
    "start_time": "2022-05-28T15:23:34.902Z"
   },
   {
    "duration": 4,
    "start_time": "2022-05-28T15:23:37.813Z"
   },
   {
    "duration": 73202,
    "start_time": "2022-05-28T15:23:42.048Z"
   },
   {
    "duration": 126,
    "start_time": "2022-05-28T15:24:55.252Z"
   },
   {
    "duration": 113,
    "start_time": "2022-05-28T15:37:01.690Z"
   },
   {
    "duration": 38370,
    "start_time": "2022-05-28T15:43:22.821Z"
   },
   {
    "duration": 287,
    "start_time": "2022-05-28T15:44:01.195Z"
   },
   {
    "duration": 95,
    "start_time": "2022-05-28T15:44:20.195Z"
   },
   {
    "duration": 538779,
    "start_time": "2022-05-28T15:51:41.521Z"
   },
   {
    "duration": 288,
    "start_time": "2022-05-28T16:00:40.397Z"
   },
   {
    "duration": 2839323,
    "start_time": "2022-05-28T16:13:27.487Z"
   },
   {
    "duration": 477,
    "start_time": "2022-05-28T17:00:46.812Z"
   },
   {
    "duration": 102,
    "start_time": "2022-05-28T20:51:02.686Z"
   },
   {
    "duration": 250,
    "start_time": "2022-05-28T20:51:50.230Z"
   },
   {
    "duration": 179,
    "start_time": "2022-05-28T20:52:05.197Z"
   },
   {
    "duration": 137,
    "start_time": "2022-05-28T20:52:45.348Z"
   },
   {
    "duration": 79,
    "start_time": "2022-05-28T20:52:53.811Z"
   },
   {
    "duration": 88,
    "start_time": "2022-05-28T20:53:08.594Z"
   },
   {
    "duration": 10,
    "start_time": "2022-05-28T21:24:25.750Z"
   },
   {
    "duration": 2315,
    "start_time": "2022-05-28T21:24:57.514Z"
   },
   {
    "duration": 5,
    "start_time": "2022-05-28T21:25:03.158Z"
   },
   {
    "duration": 2990,
    "start_time": "2022-05-29T11:50:56.872Z"
   },
   {
    "duration": 2560,
    "start_time": "2022-05-29T11:51:03.473Z"
   },
   {
    "duration": 3094,
    "start_time": "2022-05-29T11:51:06.036Z"
   },
   {
    "duration": 1771,
    "start_time": "2022-05-29T11:51:09.132Z"
   },
   {
    "duration": 3316,
    "start_time": "2022-05-29T11:51:10.911Z"
   },
   {
    "duration": 21,
    "start_time": "2022-05-29T11:51:14.231Z"
   },
   {
    "duration": 229,
    "start_time": "2022-05-29T11:51:14.254Z"
   },
   {
    "duration": 3,
    "start_time": "2022-05-29T11:51:14.485Z"
   },
   {
    "duration": 1756,
    "start_time": "2022-05-29T11:51:14.497Z"
   },
   {
    "duration": 49,
    "start_time": "2022-05-29T11:51:16.256Z"
   },
   {
    "duration": 535,
    "start_time": "2022-05-29T11:51:16.317Z"
   },
   {
    "duration": 5,
    "start_time": "2022-05-29T11:51:16.855Z"
   },
   {
    "duration": 86,
    "start_time": "2022-05-29T11:51:16.863Z"
   },
   {
    "duration": 5,
    "start_time": "2022-05-29T11:51:16.951Z"
   },
   {
    "duration": 293,
    "start_time": "2022-05-29T11:51:16.960Z"
   },
   {
    "duration": 21,
    "start_time": "2022-05-29T11:51:17.258Z"
   },
   {
    "duration": 52,
    "start_time": "2022-05-29T11:51:17.281Z"
   },
   {
    "duration": 602,
    "start_time": "2022-05-29T11:51:17.335Z"
   },
   {
    "duration": 186,
    "start_time": "2022-05-29T11:51:17.940Z"
   },
   {
    "duration": 90,
    "start_time": "2022-05-29T11:51:18.131Z"
   },
   {
    "duration": 140,
    "start_time": "2022-05-29T11:51:18.224Z"
   },
   {
    "duration": 78,
    "start_time": "2022-05-29T11:51:18.366Z"
   },
   {
    "duration": 16,
    "start_time": "2022-05-29T11:51:18.446Z"
   },
   {
    "duration": 84,
    "start_time": "2022-05-29T11:51:18.464Z"
   },
   {
    "duration": 447,
    "start_time": "2022-05-29T11:51:18.550Z"
   },
   {
    "duration": 51,
    "start_time": "2022-05-29T11:51:19.000Z"
   },
   {
    "duration": 61,
    "start_time": "2022-05-29T11:51:19.053Z"
   },
   {
    "duration": 45,
    "start_time": "2022-05-29T11:51:19.118Z"
   },
   {
    "duration": 48,
    "start_time": "2022-05-29T11:51:19.165Z"
   },
   {
    "duration": 45,
    "start_time": "2022-05-29T11:51:19.220Z"
   },
   {
    "duration": 305,
    "start_time": "2022-05-29T11:51:19.268Z"
   },
   {
    "duration": 25,
    "start_time": "2022-05-29T11:51:19.575Z"
   },
   {
    "duration": 48,
    "start_time": "2022-05-29T11:51:19.604Z"
   },
   {
    "duration": 711,
    "start_time": "2022-05-29T11:51:19.653Z"
   },
   {
    "duration": 40,
    "start_time": "2022-05-29T11:51:20.368Z"
   },
   {
    "duration": 192,
    "start_time": "2022-05-29T11:51:20.415Z"
   },
   {
    "duration": 308,
    "start_time": "2022-05-29T11:51:20.609Z"
   },
   {
    "duration": 130,
    "start_time": "2022-05-29T11:51:20.919Z"
   },
   {
    "duration": 122,
    "start_time": "2022-05-29T11:51:21.051Z"
   },
   {
    "duration": 4,
    "start_time": "2022-05-29T11:51:21.175Z"
   },
   {
    "duration": 18,
    "start_time": "2022-05-29T11:51:21.181Z"
   },
   {
    "duration": 83900,
    "start_time": "2022-05-29T11:51:21.210Z"
   },
   {
    "duration": 136,
    "start_time": "2022-05-29T11:52:45.116Z"
   },
   {
    "duration": 84256,
    "start_time": "2022-05-29T11:52:45.257Z"
   },
   {
    "duration": 194,
    "start_time": "2022-05-29T11:54:09.520Z"
   },
   {
    "duration": 1766589,
    "start_time": "2022-05-29T11:54:09.716Z"
   },
   {
    "duration": 198,
    "start_time": "2022-05-29T12:23:36.308Z"
   },
   {
    "duration": 4094838,
    "start_time": "2022-05-29T12:23:36.508Z"
   },
   {
    "duration": 1123,
    "start_time": "2022-05-29T13:31:51.348Z"
   },
   {
    "duration": 439268,
    "start_time": "2022-05-29T13:31:52.473Z"
   },
   {
    "duration": 64,
    "start_time": "2022-05-29T13:39:11.743Z"
   },
   {
    "duration": 2633,
    "start_time": "2022-05-30T06:01:24.487Z"
   },
   {
    "duration": 2502,
    "start_time": "2022-05-30T06:01:27.122Z"
   },
   {
    "duration": 1567,
    "start_time": "2022-05-30T06:01:29.627Z"
   },
   {
    "duration": 1219,
    "start_time": "2022-05-30T06:01:31.196Z"
   },
   {
    "duration": 24,
    "start_time": "2022-05-30T06:01:32.418Z"
   },
   {
    "duration": 150,
    "start_time": "2022-05-30T06:01:32.444Z"
   },
   {
    "duration": 3,
    "start_time": "2022-05-30T06:01:32.596Z"
   },
   {
    "duration": 1781,
    "start_time": "2022-05-30T06:01:32.601Z"
   },
   {
    "duration": 42,
    "start_time": "2022-05-30T06:01:34.384Z"
   },
   {
    "duration": 533,
    "start_time": "2022-05-30T06:01:34.430Z"
   },
   {
    "duration": 6,
    "start_time": "2022-05-30T06:01:34.965Z"
   },
   {
    "duration": 110,
    "start_time": "2022-05-30T06:01:34.974Z"
   },
   {
    "duration": 5,
    "start_time": "2022-05-30T06:01:35.086Z"
   },
   {
    "duration": 244,
    "start_time": "2022-05-30T06:01:35.092Z"
   },
   {
    "duration": 14,
    "start_time": "2022-05-30T06:01:35.338Z"
   },
   {
    "duration": 28,
    "start_time": "2022-05-30T06:01:35.353Z"
   },
   {
    "duration": 466,
    "start_time": "2022-05-30T06:01:35.385Z"
   },
   {
    "duration": 107,
    "start_time": "2022-05-30T06:01:35.853Z"
   },
   {
    "duration": 63,
    "start_time": "2022-05-30T06:01:35.964Z"
   },
   {
    "duration": 112,
    "start_time": "2022-05-30T06:01:36.029Z"
   },
   {
    "duration": 74,
    "start_time": "2022-05-30T06:01:36.143Z"
   },
   {
    "duration": 15,
    "start_time": "2022-05-30T06:01:36.219Z"
   },
   {
    "duration": 70,
    "start_time": "2022-05-30T06:01:36.236Z"
   },
   {
    "duration": 271,
    "start_time": "2022-05-30T06:01:36.307Z"
   },
   {
    "duration": 42,
    "start_time": "2022-05-30T06:01:36.581Z"
   },
   {
    "duration": 45,
    "start_time": "2022-05-30T06:01:36.625Z"
   },
   {
    "duration": 33,
    "start_time": "2022-05-30T06:01:36.672Z"
   },
   {
    "duration": 29,
    "start_time": "2022-05-30T06:01:36.709Z"
   },
   {
    "duration": 54,
    "start_time": "2022-05-30T06:01:36.740Z"
   },
   {
    "duration": 254,
    "start_time": "2022-05-30T06:01:36.796Z"
   },
   {
    "duration": 16,
    "start_time": "2022-05-30T06:01:37.052Z"
   },
   {
    "duration": 30,
    "start_time": "2022-05-30T06:01:37.070Z"
   },
   {
    "duration": 696,
    "start_time": "2022-05-30T06:01:37.102Z"
   },
   {
    "duration": 19,
    "start_time": "2022-05-30T06:01:37.801Z"
   },
   {
    "duration": 199,
    "start_time": "2022-05-30T06:01:37.822Z"
   },
   {
    "duration": 285,
    "start_time": "2022-05-30T06:01:38.023Z"
   },
   {
    "duration": 105,
    "start_time": "2022-05-30T06:01:38.309Z"
   },
   {
    "duration": 108,
    "start_time": "2022-05-30T06:01:38.415Z"
   },
   {
    "duration": 3,
    "start_time": "2022-05-30T06:01:38.525Z"
   },
   {
    "duration": 10,
    "start_time": "2022-05-30T06:01:38.530Z"
   },
   {
    "duration": 73928,
    "start_time": "2022-05-30T06:01:38.541Z"
   },
   {
    "duration": 281,
    "start_time": "2022-05-30T06:02:52.471Z"
   },
   {
    "duration": 27819,
    "start_time": "2022-05-30T06:02:52.754Z"
   },
   {
    "duration": 201,
    "start_time": "2022-05-30T06:03:20.575Z"
   },
   {
    "duration": 123999,
    "start_time": "2022-05-30T06:03:20.866Z"
   },
   {
    "duration": 203,
    "start_time": "2022-05-30T06:05:24.868Z"
   },
   {
    "duration": 45538,
    "start_time": "2022-05-30T06:05:25.073Z"
   },
   {
    "duration": 0,
    "start_time": "2022-05-30T06:06:10.614Z"
   },
   {
    "duration": 0,
    "start_time": "2022-05-30T06:06:10.615Z"
   },
   {
    "duration": 0,
    "start_time": "2022-05-30T06:06:10.616Z"
   },
   {
    "duration": 0,
    "start_time": "2022-05-30T06:06:10.617Z"
   },
   {
    "duration": 0,
    "start_time": "2022-05-30T06:06:10.619Z"
   },
   {
    "duration": 0,
    "start_time": "2022-05-30T06:06:10.620Z"
   },
   {
    "duration": 0,
    "start_time": "2022-05-30T06:06:10.621Z"
   },
   {
    "duration": 0,
    "start_time": "2022-05-30T06:06:10.623Z"
   },
   {
    "duration": 2493,
    "start_time": "2022-05-30T06:06:47.004Z"
   },
   {
    "duration": 2347,
    "start_time": "2022-05-30T06:06:49.500Z"
   },
   {
    "duration": 1438,
    "start_time": "2022-05-30T06:06:51.849Z"
   },
   {
    "duration": 899,
    "start_time": "2022-05-30T06:06:53.290Z"
   },
   {
    "duration": 18,
    "start_time": "2022-05-30T06:06:54.191Z"
   },
   {
    "duration": 157,
    "start_time": "2022-05-30T06:06:54.211Z"
   },
   {
    "duration": 4,
    "start_time": "2022-05-30T06:06:54.369Z"
   },
   {
    "duration": 1578,
    "start_time": "2022-05-30T06:06:54.375Z"
   },
   {
    "duration": 40,
    "start_time": "2022-05-30T06:06:55.954Z"
   },
   {
    "duration": 518,
    "start_time": "2022-05-30T06:06:55.997Z"
   },
   {
    "duration": 5,
    "start_time": "2022-05-30T06:06:56.516Z"
   },
   {
    "duration": 85,
    "start_time": "2022-05-30T06:06:56.522Z"
   },
   {
    "duration": 5,
    "start_time": "2022-05-30T06:06:56.609Z"
   },
   {
    "duration": 208,
    "start_time": "2022-05-30T06:06:56.615Z"
   },
   {
    "duration": 14,
    "start_time": "2022-05-30T06:06:56.825Z"
   },
   {
    "duration": 7,
    "start_time": "2022-05-30T06:06:56.841Z"
   },
   {
    "duration": 432,
    "start_time": "2022-05-30T06:06:56.865Z"
   },
   {
    "duration": 110,
    "start_time": "2022-05-30T06:06:57.299Z"
   },
   {
    "duration": 65,
    "start_time": "2022-05-30T06:06:57.415Z"
   },
   {
    "duration": 103,
    "start_time": "2022-05-30T06:06:57.482Z"
   },
   {
    "duration": 53,
    "start_time": "2022-05-30T06:06:57.587Z"
   },
   {
    "duration": 35,
    "start_time": "2022-05-30T06:06:57.642Z"
   },
   {
    "duration": 57,
    "start_time": "2022-05-30T06:06:57.679Z"
   },
   {
    "duration": 281,
    "start_time": "2022-05-30T06:06:57.738Z"
   },
   {
    "duration": 81,
    "start_time": "2022-05-30T06:06:58.021Z"
   },
   {
    "duration": 86,
    "start_time": "2022-05-30T06:06:58.104Z"
   },
   {
    "duration": 85,
    "start_time": "2022-05-30T06:06:58.192Z"
   },
   {
    "duration": 30,
    "start_time": "2022-05-30T06:06:58.281Z"
   },
   {
    "duration": 89,
    "start_time": "2022-05-30T06:06:58.313Z"
   },
   {
    "duration": 407,
    "start_time": "2022-05-30T06:06:58.404Z"
   },
   {
    "duration": 11,
    "start_time": "2022-05-30T06:06:58.812Z"
   },
   {
    "duration": 48,
    "start_time": "2022-05-30T06:06:58.825Z"
   },
   {
    "duration": 707,
    "start_time": "2022-05-30T06:06:58.876Z"
   },
   {
    "duration": 20,
    "start_time": "2022-05-30T06:06:59.585Z"
   },
   {
    "duration": 203,
    "start_time": "2022-05-30T06:06:59.607Z"
   },
   {
    "duration": 282,
    "start_time": "2022-05-30T06:06:59.812Z"
   },
   {
    "duration": 106,
    "start_time": "2022-05-30T06:07:00.096Z"
   },
   {
    "duration": 113,
    "start_time": "2022-05-30T06:07:00.204Z"
   },
   {
    "duration": 3,
    "start_time": "2022-05-30T06:07:00.319Z"
   },
   {
    "duration": 27,
    "start_time": "2022-05-30T06:07:00.324Z"
   },
   {
    "duration": 74572,
    "start_time": "2022-05-30T06:07:00.353Z"
   },
   {
    "duration": 287,
    "start_time": "2022-05-30T06:08:14.927Z"
   },
   {
    "duration": 18848,
    "start_time": "2022-05-30T06:08:15.216Z"
   },
   {
    "duration": 199,
    "start_time": "2022-05-30T06:08:34.066Z"
   },
   {
    "duration": 128710,
    "start_time": "2022-05-30T06:08:34.267Z"
   },
   {
    "duration": 0,
    "start_time": "2022-05-30T06:10:42.979Z"
   },
   {
    "duration": 0,
    "start_time": "2022-05-30T06:10:42.980Z"
   },
   {
    "duration": 0,
    "start_time": "2022-05-30T06:10:42.981Z"
   },
   {
    "duration": 0,
    "start_time": "2022-05-30T06:10:42.982Z"
   },
   {
    "duration": 0,
    "start_time": "2022-05-30T06:10:42.982Z"
   },
   {
    "duration": 0,
    "start_time": "2022-05-30T06:10:42.983Z"
   },
   {
    "duration": 0,
    "start_time": "2022-05-30T06:10:42.984Z"
   },
   {
    "duration": 0,
    "start_time": "2022-05-30T06:10:42.985Z"
   },
   {
    "duration": 0,
    "start_time": "2022-05-30T06:10:43.067Z"
   },
   {
    "duration": 0,
    "start_time": "2022-05-30T06:10:43.070Z"
   },
   {
    "duration": 2573,
    "start_time": "2022-05-30T06:11:11.854Z"
   },
   {
    "duration": 2441,
    "start_time": "2022-05-30T06:11:14.429Z"
   },
   {
    "duration": 1430,
    "start_time": "2022-05-30T06:11:16.872Z"
   },
   {
    "duration": 1004,
    "start_time": "2022-05-30T06:11:18.305Z"
   },
   {
    "duration": 27,
    "start_time": "2022-05-30T06:11:19.312Z"
   },
   {
    "duration": 151,
    "start_time": "2022-05-30T06:11:19.341Z"
   },
   {
    "duration": 3,
    "start_time": "2022-05-30T06:11:19.495Z"
   },
   {
    "duration": 1532,
    "start_time": "2022-05-30T06:11:19.500Z"
   },
   {
    "duration": 45,
    "start_time": "2022-05-30T06:11:21.034Z"
   },
   {
    "duration": 546,
    "start_time": "2022-05-30T06:11:21.083Z"
   },
   {
    "duration": 6,
    "start_time": "2022-05-30T06:11:21.631Z"
   },
   {
    "duration": 95,
    "start_time": "2022-05-30T06:11:21.639Z"
   },
   {
    "duration": 6,
    "start_time": "2022-05-30T06:11:21.737Z"
   },
   {
    "duration": 228,
    "start_time": "2022-05-30T06:11:21.744Z"
   },
   {
    "duration": 15,
    "start_time": "2022-05-30T06:11:21.975Z"
   },
   {
    "duration": 8,
    "start_time": "2022-05-30T06:11:21.992Z"
   },
   {
    "duration": 474,
    "start_time": "2022-05-30T06:11:22.002Z"
   },
   {
    "duration": 142,
    "start_time": "2022-05-30T06:11:22.478Z"
   },
   {
    "duration": 67,
    "start_time": "2022-05-30T06:11:22.622Z"
   },
   {
    "duration": 114,
    "start_time": "2022-05-30T06:11:22.691Z"
   },
   {
    "duration": 67,
    "start_time": "2022-05-30T06:11:22.807Z"
   },
   {
    "duration": 16,
    "start_time": "2022-05-30T06:11:22.876Z"
   },
   {
    "duration": 74,
    "start_time": "2022-05-30T06:11:22.894Z"
   },
   {
    "duration": 279,
    "start_time": "2022-05-30T06:11:22.970Z"
   },
   {
    "duration": 54,
    "start_time": "2022-05-30T06:11:23.251Z"
   },
   {
    "duration": 31,
    "start_time": "2022-05-30T06:11:23.307Z"
   },
   {
    "duration": 52,
    "start_time": "2022-05-30T06:11:23.341Z"
   },
   {
    "duration": 29,
    "start_time": "2022-05-30T06:11:23.397Z"
   },
   {
    "duration": 50,
    "start_time": "2022-05-30T06:11:23.428Z"
   },
   {
    "duration": 248,
    "start_time": "2022-05-30T06:11:23.480Z"
   },
   {
    "duration": 10,
    "start_time": "2022-05-30T06:11:23.730Z"
   },
   {
    "duration": 52,
    "start_time": "2022-05-30T06:11:23.741Z"
   },
   {
    "duration": 663,
    "start_time": "2022-05-30T06:11:23.795Z"
   },
   {
    "duration": 29,
    "start_time": "2022-05-30T06:11:24.460Z"
   },
   {
    "duration": 199,
    "start_time": "2022-05-30T06:11:24.491Z"
   },
   {
    "duration": 293,
    "start_time": "2022-05-30T06:11:24.692Z"
   },
   {
    "duration": 107,
    "start_time": "2022-05-30T06:11:24.987Z"
   },
   {
    "duration": 122,
    "start_time": "2022-05-30T06:11:25.095Z"
   },
   {
    "duration": 3,
    "start_time": "2022-05-30T06:11:25.219Z"
   },
   {
    "duration": 26,
    "start_time": "2022-05-30T06:11:25.225Z"
   },
   {
    "duration": 74858,
    "start_time": "2022-05-30T06:11:25.252Z"
   },
   {
    "duration": 124,
    "start_time": "2022-05-30T06:12:40.113Z"
   },
   {
    "duration": 22436,
    "start_time": "2022-05-30T06:12:40.239Z"
   },
   {
    "duration": 288,
    "start_time": "2022-05-30T06:13:02.680Z"
   },
   {
    "duration": 141894,
    "start_time": "2022-05-30T06:13:02.971Z"
   },
   {
    "duration": 297,
    "start_time": "2022-05-30T06:15:24.868Z"
   },
   {
    "duration": 3457411,
    "start_time": "2022-05-30T06:15:25.166Z"
   },
   {
    "duration": 601,
    "start_time": "2022-05-30T07:13:02.580Z"
   },
   {
    "duration": 3951076,
    "start_time": "2022-05-30T07:13:03.183Z"
   },
   {
    "duration": 220,
    "start_time": "2022-05-30T08:18:54.264Z"
   },
   {
    "duration": 389286,
    "start_time": "2022-05-30T08:18:54.487Z"
   },
   {
    "duration": 7536,
    "start_time": "2022-05-30T08:25:23.775Z"
   },
   {
    "duration": 13,
    "start_time": "2022-05-30T08:25:31.364Z"
   },
   {
    "duration": 167,
    "start_time": "2022-05-30T08:25:31.379Z"
   },
   {
    "duration": 18,
    "start_time": "2022-05-30T08:25:31.548Z"
   },
   {
    "duration": 1465,
    "start_time": "2022-05-31T03:29:52.672Z"
   },
   {
    "duration": 1170,
    "start_time": "2022-05-31T03:29:54.387Z"
   },
   {
    "duration": 20,
    "start_time": "2022-05-31T03:29:56.441Z"
   },
   {
    "duration": 126,
    "start_time": "2022-05-31T03:29:59.917Z"
   },
   {
    "duration": 3,
    "start_time": "2022-05-31T03:30:33.880Z"
   },
   {
    "duration": 1361,
    "start_time": "2022-05-31T03:30:37.254Z"
   },
   {
    "duration": 34,
    "start_time": "2022-05-31T03:30:55.441Z"
   },
   {
    "duration": 562,
    "start_time": "2022-05-31T03:31:00.414Z"
   },
   {
    "duration": 4,
    "start_time": "2022-05-31T03:31:18.652Z"
   },
   {
    "duration": 65,
    "start_time": "2022-05-31T03:31:22.439Z"
   },
   {
    "duration": 5,
    "start_time": "2022-05-31T03:31:24.042Z"
   },
   {
    "duration": 192,
    "start_time": "2022-05-31T03:31:26.053Z"
   },
   {
    "duration": 16,
    "start_time": "2022-05-31T03:31:28.000Z"
   },
   {
    "duration": 5,
    "start_time": "2022-05-31T03:31:29.545Z"
   },
   {
    "duration": 407,
    "start_time": "2022-05-31T03:31:34.466Z"
   },
   {
    "duration": 115,
    "start_time": "2022-05-31T03:31:36.295Z"
   },
   {
    "duration": 189,
    "start_time": "2022-05-31T03:32:20.155Z"
   },
   {
    "duration": 106,
    "start_time": "2022-05-31T03:32:22.766Z"
   },
   {
    "duration": 55,
    "start_time": "2022-05-31T03:32:58.312Z"
   },
   {
    "duration": 15,
    "start_time": "2022-05-31T03:33:08.839Z"
   },
   {
    "duration": 66,
    "start_time": "2022-05-31T03:33:13.824Z"
   },
   {
    "duration": 253,
    "start_time": "2022-05-31T03:33:43.205Z"
   },
   {
    "duration": 81,
    "start_time": "2022-05-31T03:34:02.744Z"
   },
   {
    "duration": 46,
    "start_time": "2022-05-31T03:35:06.257Z"
   },
   {
    "duration": 35,
    "start_time": "2022-05-31T03:35:57.811Z"
   },
   {
    "duration": 31,
    "start_time": "2022-05-31T03:35:59.338Z"
   },
   {
    "duration": 34,
    "start_time": "2022-05-31T03:36:04.155Z"
   },
   {
    "duration": 31,
    "start_time": "2022-05-31T03:36:04.823Z"
   },
   {
    "duration": 40,
    "start_time": "2022-05-31T03:36:32.508Z"
   },
   {
    "duration": 34,
    "start_time": "2022-05-31T03:37:03.963Z"
   },
   {
    "duration": 419,
    "start_time": "2022-05-31T03:37:07.185Z"
   },
   {
    "duration": 11,
    "start_time": "2022-05-31T03:37:14.163Z"
   },
   {
    "duration": 11,
    "start_time": "2022-05-31T03:40:37.880Z"
   },
   {
    "duration": 43,
    "start_time": "2022-05-31T03:40:39.051Z"
   },
   {
    "duration": 701,
    "start_time": "2022-05-31T03:40:49.362Z"
   },
   {
    "duration": 18,
    "start_time": "2022-05-31T03:40:50.903Z"
   },
   {
    "duration": 178,
    "start_time": "2022-05-31T03:47:04.113Z"
   },
   {
    "duration": 262,
    "start_time": "2022-05-31T03:47:55.627Z"
   },
   {
    "duration": 99,
    "start_time": "2022-05-31T03:48:02.372Z"
   },
   {
    "duration": 101,
    "start_time": "2022-05-31T03:48:22.226Z"
   },
   {
    "duration": 22,
    "start_time": "2022-05-31T03:49:54.510Z"
   },
   {
    "duration": 3,
    "start_time": "2022-05-31T03:51:43.509Z"
   },
   {
    "duration": 3,
    "start_time": "2022-05-31T03:53:52.306Z"
   },
   {
    "duration": 4,
    "start_time": "2022-05-31T04:05:00.940Z"
   },
   {
    "duration": 6,
    "start_time": "2022-05-31T04:05:05.579Z"
   },
   {
    "duration": 2614,
    "start_time": "2022-05-31T06:21:52.164Z"
   },
   {
    "duration": 2394,
    "start_time": "2022-05-31T06:21:54.782Z"
   },
   {
    "duration": 2183,
    "start_time": "2022-05-31T06:21:57.178Z"
   },
   {
    "duration": 1694,
    "start_time": "2022-05-31T06:21:59.363Z"
   },
   {
    "duration": 30,
    "start_time": "2022-05-31T06:22:01.062Z"
   },
   {
    "duration": 178,
    "start_time": "2022-05-31T06:22:01.095Z"
   },
   {
    "duration": 28,
    "start_time": "2022-05-31T06:22:01.277Z"
   },
   {
    "duration": 1614,
    "start_time": "2022-05-31T06:22:01.306Z"
   },
   {
    "duration": 55,
    "start_time": "2022-05-31T06:22:02.923Z"
   },
   {
    "duration": 573,
    "start_time": "2022-05-31T06:22:02.986Z"
   },
   {
    "duration": 4,
    "start_time": "2022-05-31T06:22:03.560Z"
   },
   {
    "duration": 99,
    "start_time": "2022-05-31T06:22:03.566Z"
   },
   {
    "duration": 6,
    "start_time": "2022-05-31T06:22:03.666Z"
   },
   {
    "duration": 253,
    "start_time": "2022-05-31T06:22:03.675Z"
   },
   {
    "duration": 17,
    "start_time": "2022-05-31T06:22:03.934Z"
   },
   {
    "duration": 46,
    "start_time": "2022-05-31T06:22:03.956Z"
   },
   {
    "duration": 504,
    "start_time": "2022-05-31T06:22:04.004Z"
   },
   {
    "duration": 118,
    "start_time": "2022-05-31T06:22:04.510Z"
   },
   {
    "duration": 70,
    "start_time": "2022-05-31T06:22:04.630Z"
   },
   {
    "duration": 134,
    "start_time": "2022-05-31T06:22:04.703Z"
   },
   {
    "duration": 69,
    "start_time": "2022-05-31T06:22:04.840Z"
   },
   {
    "duration": 15,
    "start_time": "2022-05-31T06:22:04.911Z"
   },
   {
    "duration": 85,
    "start_time": "2022-05-31T06:22:04.936Z"
   },
   {
    "duration": 295,
    "start_time": "2022-05-31T06:22:05.023Z"
   },
   {
    "duration": 57,
    "start_time": "2022-05-31T06:22:05.320Z"
   },
   {
    "duration": 47,
    "start_time": "2022-05-31T06:22:05.388Z"
   },
   {
    "duration": 53,
    "start_time": "2022-05-31T06:22:05.445Z"
   },
   {
    "duration": 38,
    "start_time": "2022-05-31T06:22:05.501Z"
   },
   {
    "duration": 52,
    "start_time": "2022-05-31T06:22:05.542Z"
   },
   {
    "duration": 307,
    "start_time": "2022-05-31T06:22:05.598Z"
   },
   {
    "duration": 23,
    "start_time": "2022-05-31T06:22:05.908Z"
   },
   {
    "duration": 71,
    "start_time": "2022-05-31T06:22:05.939Z"
   },
   {
    "duration": 1188,
    "start_time": "2022-05-31T06:22:06.013Z"
   },
   {
    "duration": 34,
    "start_time": "2022-05-31T06:22:07.203Z"
   },
   {
    "duration": 219,
    "start_time": "2022-05-31T06:22:07.242Z"
   },
   {
    "duration": 382,
    "start_time": "2022-05-31T06:22:07.463Z"
   },
   {
    "duration": 126,
    "start_time": "2022-05-31T06:22:07.850Z"
   },
   {
    "duration": 166,
    "start_time": "2022-05-31T06:22:07.985Z"
   },
   {
    "duration": 0,
    "start_time": "2022-05-31T06:55:45.673Z"
   },
   {
    "duration": 0,
    "start_time": "2022-05-31T06:55:45.675Z"
   },
   {
    "duration": 233334,
    "start_time": "2022-05-31T06:58:40.363Z"
   },
   {
    "duration": 27033752,
    "start_time": "2022-05-31T07:03:31.924Z"
   },
   {
    "duration": 3386,
    "start_time": "2022-05-31T20:23:39.315Z"
   },
   {
    "duration": 2373,
    "start_time": "2022-05-31T20:23:42.704Z"
   },
   {
    "duration": 2203,
    "start_time": "2022-05-31T20:23:45.081Z"
   },
   {
    "duration": 1585,
    "start_time": "2022-05-31T20:23:47.288Z"
   },
   {
    "duration": 30,
    "start_time": "2022-05-31T20:23:48.875Z"
   },
   {
    "duration": 255,
    "start_time": "2022-05-31T20:23:48.907Z"
   },
   {
    "duration": 3,
    "start_time": "2022-05-31T20:23:49.164Z"
   },
   {
    "duration": 1717,
    "start_time": "2022-05-31T20:23:49.170Z"
   },
   {
    "duration": 40,
    "start_time": "2022-05-31T20:23:50.890Z"
   },
   {
    "duration": 502,
    "start_time": "2022-05-31T20:23:50.933Z"
   },
   {
    "duration": 7,
    "start_time": "2022-05-31T20:23:51.437Z"
   },
   {
    "duration": 96,
    "start_time": "2022-05-31T20:23:51.446Z"
   },
   {
    "duration": 8,
    "start_time": "2022-05-31T20:23:51.545Z"
   },
   {
    "duration": 341,
    "start_time": "2022-05-31T20:23:51.555Z"
   },
   {
    "duration": 23,
    "start_time": "2022-05-31T20:23:51.898Z"
   },
   {
    "duration": 17,
    "start_time": "2022-05-31T20:23:51.943Z"
   },
   {
    "duration": 626,
    "start_time": "2022-05-31T20:23:51.962Z"
   },
   {
    "duration": 143,
    "start_time": "2022-05-31T20:23:52.590Z"
   },
   {
    "duration": 79,
    "start_time": "2022-05-31T20:23:52.735Z"
   },
   {
    "duration": 159,
    "start_time": "2022-05-31T20:23:52.816Z"
   },
   {
    "duration": 67,
    "start_time": "2022-05-31T20:23:52.978Z"
   },
   {
    "duration": 23,
    "start_time": "2022-05-31T20:23:53.047Z"
   },
   {
    "duration": 62,
    "start_time": "2022-05-31T20:23:53.072Z"
   },
   {
    "duration": 332,
    "start_time": "2022-05-31T20:23:53.136Z"
   },
   {
    "duration": 54,
    "start_time": "2022-05-31T20:23:53.478Z"
   },
   {
    "duration": 39,
    "start_time": "2022-05-31T20:23:53.537Z"
   },
   {
    "duration": 35,
    "start_time": "2022-05-31T20:23:53.579Z"
   },
   {
    "duration": 36,
    "start_time": "2022-05-31T20:23:53.632Z"
   },
   {
    "duration": 39,
    "start_time": "2022-05-31T20:23:53.671Z"
   },
   {
    "duration": 276,
    "start_time": "2022-05-31T20:23:53.713Z"
   },
   {
    "duration": 11,
    "start_time": "2022-05-31T20:23:53.991Z"
   },
   {
    "duration": 45,
    "start_time": "2022-05-31T20:23:54.005Z"
   },
   {
    "duration": 672,
    "start_time": "2022-05-31T20:23:54.052Z"
   },
   {
    "duration": 40,
    "start_time": "2022-05-31T20:23:54.728Z"
   },
   {
    "duration": 194,
    "start_time": "2022-05-31T20:23:54.770Z"
   },
   {
    "duration": 280,
    "start_time": "2022-05-31T20:23:54.965Z"
   },
   {
    "duration": 104,
    "start_time": "2022-05-31T20:23:55.246Z"
   },
   {
    "duration": 142,
    "start_time": "2022-05-31T20:23:55.352Z"
   },
   {
    "duration": 4,
    "start_time": "2022-05-31T20:23:55.496Z"
   },
   {
    "duration": 8,
    "start_time": "2022-05-31T20:23:55.501Z"
   },
   {
    "duration": 2454364,
    "start_time": "2022-05-31T20:24:13.948Z"
   },
   {
    "duration": 2280,
    "start_time": "2022-05-31T21:07:01.058Z"
   },
   {
    "duration": 2180,
    "start_time": "2022-05-31T21:07:03.341Z"
   },
   {
    "duration": 1337,
    "start_time": "2022-05-31T21:07:05.524Z"
   },
   {
    "duration": 1098,
    "start_time": "2022-05-31T21:07:06.863Z"
   },
   {
    "duration": 17,
    "start_time": "2022-05-31T21:07:07.963Z"
   },
   {
    "duration": 131,
    "start_time": "2022-05-31T21:07:07.981Z"
   },
   {
    "duration": 3,
    "start_time": "2022-05-31T21:07:08.113Z"
   },
   {
    "duration": 1453,
    "start_time": "2022-05-31T21:07:08.117Z"
   },
   {
    "duration": 36,
    "start_time": "2022-05-31T21:07:09.572Z"
   },
   {
    "duration": 485,
    "start_time": "2022-05-31T21:07:09.609Z"
   },
   {
    "duration": 4,
    "start_time": "2022-05-31T21:07:10.095Z"
   },
   {
    "duration": 87,
    "start_time": "2022-05-31T21:07:10.100Z"
   },
   {
    "duration": 4,
    "start_time": "2022-05-31T21:07:10.189Z"
   },
   {
    "duration": 213,
    "start_time": "2022-05-31T21:07:10.196Z"
   },
   {
    "duration": 30,
    "start_time": "2022-05-31T21:07:10.411Z"
   },
   {
    "duration": 7,
    "start_time": "2022-05-31T21:07:10.442Z"
   },
   {
    "duration": 429,
    "start_time": "2022-05-31T21:07:10.450Z"
   },
   {
    "duration": 112,
    "start_time": "2022-05-31T21:07:10.881Z"
   },
   {
    "duration": 69,
    "start_time": "2022-05-31T21:07:10.995Z"
   },
   {
    "duration": 107,
    "start_time": "2022-05-31T21:07:11.066Z"
   },
   {
    "duration": 59,
    "start_time": "2022-05-31T21:07:11.175Z"
   },
   {
    "duration": 16,
    "start_time": "2022-05-31T21:07:11.236Z"
   },
   {
    "duration": 49,
    "start_time": "2022-05-31T21:07:11.254Z"
   },
   {
    "duration": 295,
    "start_time": "2022-05-31T21:07:11.305Z"
   },
   {
    "duration": 52,
    "start_time": "2022-05-31T21:07:11.603Z"
   },
   {
    "duration": 33,
    "start_time": "2022-05-31T21:07:11.657Z"
   },
   {
    "duration": 58,
    "start_time": "2022-05-31T21:07:11.692Z"
   },
   {
    "duration": 31,
    "start_time": "2022-05-31T21:07:11.752Z"
   },
   {
    "duration": 62,
    "start_time": "2022-05-31T21:07:11.786Z"
   },
   {
    "duration": 216,
    "start_time": "2022-05-31T21:07:11.850Z"
   },
   {
    "duration": 10,
    "start_time": "2022-05-31T21:07:12.067Z"
   },
   {
    "duration": 32,
    "start_time": "2022-05-31T21:07:12.078Z"
   },
   {
    "duration": 564,
    "start_time": "2022-05-31T21:07:12.111Z"
   },
   {
    "duration": 16,
    "start_time": "2022-05-31T21:07:12.677Z"
   },
   {
    "duration": 189,
    "start_time": "2022-05-31T21:07:12.695Z"
   },
   {
    "duration": 284,
    "start_time": "2022-05-31T21:07:12.886Z"
   },
   {
    "duration": 97,
    "start_time": "2022-05-31T21:07:13.172Z"
   },
   {
    "duration": 137,
    "start_time": "2022-05-31T21:07:13.270Z"
   },
   {
    "duration": 3,
    "start_time": "2022-05-31T21:07:13.409Z"
   },
   {
    "duration": 17,
    "start_time": "2022-05-31T21:07:13.414Z"
   },
   {
    "duration": 70367,
    "start_time": "2022-05-31T21:07:13.435Z"
   },
   {
    "duration": 109,
    "start_time": "2022-05-31T21:08:23.804Z"
   },
   {
    "duration": 35529,
    "start_time": "2022-05-31T21:08:23.915Z"
   },
   {
    "duration": 207,
    "start_time": "2022-05-31T21:08:59.446Z"
   },
   {
    "duration": 378971,
    "start_time": "2022-05-31T21:08:59.655Z"
   },
   {
    "duration": 215,
    "start_time": "2022-05-31T21:15:18.628Z"
   },
   {
    "duration": 3758224,
    "start_time": "2022-05-31T21:15:18.846Z"
   },
   {
    "duration": 996,
    "start_time": "2022-05-31T22:17:57.071Z"
   },
   {
    "duration": 2222,
    "start_time": "2022-06-01T05:57:28.091Z"
   },
   {
    "duration": 2092,
    "start_time": "2022-06-01T05:57:30.316Z"
   },
   {
    "duration": 1426,
    "start_time": "2022-06-01T05:57:32.410Z"
   },
   {
    "duration": 1069,
    "start_time": "2022-06-01T05:57:33.838Z"
   },
   {
    "duration": 16,
    "start_time": "2022-06-01T05:57:34.909Z"
   },
   {
    "duration": 120,
    "start_time": "2022-06-01T05:57:34.927Z"
   },
   {
    "duration": 2,
    "start_time": "2022-06-01T05:57:35.049Z"
   },
   {
    "duration": 1360,
    "start_time": "2022-06-01T05:57:35.053Z"
   },
   {
    "duration": 31,
    "start_time": "2022-06-01T05:57:36.415Z"
   },
   {
    "duration": 427,
    "start_time": "2022-06-01T05:57:36.449Z"
   },
   {
    "duration": 4,
    "start_time": "2022-06-01T05:57:36.878Z"
   },
   {
    "duration": 61,
    "start_time": "2022-06-01T05:57:36.892Z"
   },
   {
    "duration": 5,
    "start_time": "2022-06-01T05:57:36.955Z"
   },
   {
    "duration": 220,
    "start_time": "2022-06-01T05:57:36.962Z"
   },
   {
    "duration": 23,
    "start_time": "2022-06-01T05:57:37.183Z"
   },
   {
    "duration": 7,
    "start_time": "2022-06-01T05:57:37.207Z"
   },
   {
    "duration": 351,
    "start_time": "2022-06-01T05:57:37.215Z"
   },
   {
    "duration": 102,
    "start_time": "2022-06-01T05:57:37.568Z"
   },
   {
    "duration": 67,
    "start_time": "2022-06-01T05:57:37.672Z"
   },
   {
    "duration": 95,
    "start_time": "2022-06-01T05:57:37.741Z"
   },
   {
    "duration": 55,
    "start_time": "2022-06-01T05:57:37.837Z"
   },
   {
    "duration": 20,
    "start_time": "2022-06-01T05:57:37.894Z"
   },
   {
    "duration": 45,
    "start_time": "2022-06-01T05:57:37.915Z"
   },
   {
    "duration": 252,
    "start_time": "2022-06-01T05:57:37.962Z"
   },
   {
    "duration": 35,
    "start_time": "2022-06-01T05:57:38.216Z"
   },
   {
    "duration": 25,
    "start_time": "2022-06-01T05:57:38.252Z"
   },
   {
    "duration": 31,
    "start_time": "2022-06-01T05:57:38.292Z"
   },
   {
    "duration": 24,
    "start_time": "2022-06-01T05:57:38.326Z"
   },
   {
    "duration": 53,
    "start_time": "2022-06-01T05:57:38.352Z"
   },
   {
    "duration": 204,
    "start_time": "2022-06-01T05:57:38.406Z"
   },
   {
    "duration": 9,
    "start_time": "2022-06-01T05:57:38.612Z"
   },
   {
    "duration": 26,
    "start_time": "2022-06-01T05:57:38.623Z"
   },
   {
    "duration": 569,
    "start_time": "2022-06-01T05:57:38.650Z"
   },
   {
    "duration": 15,
    "start_time": "2022-06-01T05:57:39.221Z"
   },
   {
    "duration": 191,
    "start_time": "2022-06-01T05:57:39.238Z"
   },
   {
    "duration": 266,
    "start_time": "2022-06-01T05:57:39.431Z"
   },
   {
    "duration": 95,
    "start_time": "2022-06-01T05:57:39.698Z"
   },
   {
    "duration": 129,
    "start_time": "2022-06-01T05:57:39.795Z"
   },
   {
    "duration": 3,
    "start_time": "2022-06-01T05:57:39.926Z"
   },
   {
    "duration": 5,
    "start_time": "2022-06-01T05:57:39.930Z"
   },
   {
    "duration": 65732,
    "start_time": "2022-06-01T05:57:39.936Z"
   },
   {
    "duration": 107,
    "start_time": "2022-06-01T05:58:45.670Z"
   },
   {
    "duration": 28031,
    "start_time": "2022-06-01T05:58:45.778Z"
   },
   {
    "duration": 195,
    "start_time": "2022-06-01T05:59:13.810Z"
   },
   {
    "duration": 227597,
    "start_time": "2022-06-01T05:59:14.007Z"
   },
   {
    "duration": 296,
    "start_time": "2022-06-01T06:03:01.605Z"
   },
   {
    "duration": 4382166,
    "start_time": "2022-06-01T06:03:01.905Z"
   },
   {
    "duration": 754,
    "start_time": "2022-06-01T07:16:04.073Z"
   },
   {
    "duration": 3263373,
    "start_time": "2022-06-01T07:16:04.828Z"
   },
   {
    "duration": 182,
    "start_time": "2022-06-01T08:10:28.204Z"
   },
   {
    "duration": 6695908,
    "start_time": "2022-06-01T08:10:28.392Z"
   },
   {
    "duration": 6547,
    "start_time": "2022-06-01T10:02:04.302Z"
   },
   {
    "duration": 48,
    "start_time": "2022-06-01T10:02:10.850Z"
   },
   {
    "duration": 133,
    "start_time": "2022-06-01T10:02:10.899Z"
   },
   {
    "duration": 9,
    "start_time": "2022-06-01T10:02:11.034Z"
   }
  ],
  "kernelspec": {
   "display_name": "Python 3 (ipykernel)",
   "language": "python",
   "name": "python3"
  },
  "language_info": {
   "codemirror_mode": {
    "name": "ipython",
    "version": 3
   },
   "file_extension": ".py",
   "mimetype": "text/x-python",
   "name": "python",
   "nbconvert_exporter": "python",
   "pygments_lexer": "ipython3",
   "version": "3.9.7"
  },
  "toc": {
   "base_numbering": 1,
   "nav_menu": {},
   "number_sections": true,
   "sideBar": true,
   "skip_h1_title": true,
   "title_cell": "Table of Contents",
   "title_sidebar": "Contents",
   "toc_cell": false,
   "toc_position": {
    "height": "calc(100% - 180px)",
    "left": "10px",
    "top": "150px",
    "width": "289.6px"
   },
   "toc_section_display": true,
   "toc_window_display": true
  }
 },
 "nbformat": 4,
 "nbformat_minor": 2
}
